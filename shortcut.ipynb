{
 "cells": [
  {
   "cell_type": "markdown",
   "id": "b4f1c89d",
   "metadata": {},
   "source": [
    "# Import Libraries"
   ]
  },
  {
   "cell_type": "code",
   "execution_count": 29,
   "id": "fb4705c9",
   "metadata": {},
   "outputs": [],
   "source": [
    "import torch\n",
    "import torch.nn as nn\n",
    "import torch.nn.functional as F\n",
    "import torch.optim as optim\n",
    "from torch.utils.data import DataLoader, Dataset\n",
    "\n",
    "from sklearn.metrics import f1_score\n",
    "from sklearn.compose import ColumnTransformer\n",
    "from sklearn.preprocessing import StandardScaler, MinMaxScaler, RobustScaler\n",
    "from sklearn.preprocessing import LabelEncoder, OneHotEncoder\n",
    "from sklearn.model_selection import train_test_split\n",
    "\n",
    "import os\n",
    "import pandas as pd\n",
    "import numpy as np\n",
    "from tqdm.auto import tqdm\n",
    "import random\n",
    "import matplotlib.pyplot as plt\n",
    "import seaborn as sns\n",
    "import pickle\n",
    "import warnings\n",
    "warnings.filterwarnings(action='ignore') \n",
    "\n",
    "device = torch.device('cuda') if torch.cuda.is_available() else torch.device('cpu')"
   ]
  },
  {
   "cell_type": "code",
   "execution_count": 30,
   "id": "960b8a45",
   "metadata": {},
   "outputs": [],
   "source": [
    "file_version = 14"
   ]
  },
  {
   "cell_type": "code",
   "execution_count": 31,
   "id": "1119d55f",
   "metadata": {},
   "outputs": [],
   "source": [
    "CFG = {\n",
    "    'EPOCHS': 30,\n",
    "    'LEARNING_RATE':1e-2,    # 0.02\n",
    "    'BATCH_SIZE':256,\n",
    "    'SEED':42\n",
    "}"
   ]
  },
  {
   "cell_type": "code",
   "execution_count": 32,
   "id": "62be04f6",
   "metadata": {},
   "outputs": [],
   "source": [
    "def seed_everything(seed):\n",
    "    random.seed(seed)\n",
    "    os.environ['PYTHONHASHSEED'] = str(seed)\n",
    "    np.random.seed(seed)\n",
    "    torch.manual_seed(seed)\n",
    "    torch.cuda.manual_seed(seed)\n",
    "    torch.backends.cudnn.deterministic = True\n",
    "    torch.backends.cudnn.benchmark = True\n",
    "\n",
    "seed_everything(CFG['SEED'])"
   ]
  },
  {
   "cell_type": "code",
   "execution_count": 33,
   "id": "0589360d",
   "metadata": {},
   "outputs": [],
   "source": [
    "#불러오기\n",
    "with open(f\"./data/refined_train_X{file_version}\", 'rb') as pickle_filename:\n",
    "\ttrain_X = pickle.load(pickle_filename)\n",
    "\n",
    "with open(f\"./data/refined_train_y{file_version}\", 'rb') as pickle_filename:\n",
    "\ttrain_y = pickle.load(pickle_filename)\n",
    "    \n",
    "with open(f\"./data/refined_val_X{file_version}\", 'rb') as pickle_filename:\n",
    "\tval_X = pickle.load(pickle_filename)\n",
    "\n",
    "with open(f\"./data/refined_val_y{file_version}\", 'rb') as pickle_filename:\n",
    "\tval_y = pickle.load(pickle_filename)     \n",
    "\n",
    "with open(f\"./data/refined_test{file_version}\", 'rb') as pickle_filename:\n",
    "\ttest = pickle.load(pickle_filename)"
   ]
  },
  {
   "cell_type": "code",
   "execution_count": 34,
   "id": "217d12cd",
   "metadata": {},
   "outputs": [],
   "source": [
    "class CustomDataset(Dataset):\n",
    "    def __init__(self, data_X, data_y, distillation=False):\n",
    "        super(CustomDataset, self).__init__()\n",
    "        self.data_X = data_X\n",
    "        self.data_y = data_y\n",
    "        self.distillation = distillation\n",
    "        \n",
    "    def __len__(self):\n",
    "        return len(self.data_X)\n",
    "    \n",
    "    def __getitem__(self, index):\n",
    "        if self.distillation:\n",
    "            # 지식 증류 학습 시\n",
    "            teacher_X = torch.Tensor(self.data_X.iloc[index])\n",
    "            student_X = torch.Tensor(self.data_X[test_stage_features].iloc[index])\n",
    "            y = self.data_y.values[index]\n",
    "            return teacher_X, student_X, y\n",
    "        else:\n",
    "            if self.data_y is None:\n",
    "                test_X = torch.Tensor(self.data_X.iloc[index])\n",
    "                return test_X\n",
    "            else:\n",
    "                teacher_X = torch.Tensor(self.data_X.iloc[index])\n",
    "                y = self.data_y.values[index]\n",
    "                return teacher_X, y"
   ]
  },
  {
   "cell_type": "code",
   "execution_count": 35,
   "id": "48b7e9a7",
   "metadata": {},
   "outputs": [],
   "source": [
    "train_dataset = CustomDataset(train_X, train_y, False)\n",
    "val_dataset = CustomDataset(val_X, val_y, False)"
   ]
  },
  {
   "cell_type": "code",
   "execution_count": 36,
   "id": "50bab7f2",
   "metadata": {},
   "outputs": [],
   "source": [
    "train_loader = DataLoader(train_dataset, batch_size = CFG['BATCH_SIZE'], shuffle=True)\n",
    "val_loader = DataLoader(val_dataset, batch_size = CFG['BATCH_SIZE'], shuffle=False)"
   ]
  },
  {
   "cell_type": "code",
   "execution_count": 14,
   "id": "db671aaf",
   "metadata": {},
   "outputs": [],
   "source": [
    "class Teacher(nn.Module):\n",
    "    def __init__(self):\n",
    "        super(Teacher, self).__init__()\n",
    "        self.classifier = nn.Sequential(\n",
    "            nn.Linear(in_features=train_col_num, out_features=256),\n",
    "            nn.BatchNorm1d(256),\n",
    "            nn.LeakyReLU(),\n",
    "            nn.Linear(in_features=256, out_features=1024),\n",
    "            nn.BatchNorm1d(1024),\n",
    "            nn.LeakyReLU(),\n",
    "            nn.Linear(in_features=1024, out_features=256),\n",
    "            nn.BatchNorm1d(256),\n",
    "            nn.LeakyReLU(),\n",
    "            nn.Linear(in_features=256, out_features=1),\n",
    "            nn.Sigmoid()\n",
    "        )\n",
    "        \n",
    "    def forward(self, x):\n",
    "        output = self.classifier(x)\n",
    "        return output"
   ]
  },
  {
   "cell_type": "code",
   "execution_count": 16,
   "id": "d5f98ccf",
   "metadata": {},
   "outputs": [],
   "source": [
    "train_col_num = len(train_X.columns)\n",
    "test_col_num = len(test.columns)"
   ]
  },
  {
   "cell_type": "code",
   "execution_count": 18,
   "id": "89707003",
   "metadata": {},
   "outputs": [
    {
     "data": {
      "text/plain": [
       "<All keys matched successfully>"
      ]
     },
     "execution_count": 18,
     "metadata": {},
     "output_type": "execute_result"
    }
   ],
   "source": [
    "PATH = f\"./models/teacher_net{file_version}.pth\"\n",
    "teacher_model = Teacher()\n",
    "teacher_model.load_state_dict(torch.load(PATH))"
   ]
  },
  {
   "cell_type": "code",
   "execution_count": 19,
   "id": "b5047ada",
   "metadata": {},
   "outputs": [],
   "source": [
    "class Student(nn.Module):\n",
    "    def __init__(self):\n",
    "        super(Student, self).__init__()\n",
    "        self.classifier = nn.Sequential(\n",
    "            nn.Linear(in_features=test_col_num, out_features=128),\n",
    "            nn.BatchNorm1d(128),\n",
    "            nn.LeakyReLU(),\n",
    "            nn.Linear(in_features=128, out_features=512),\n",
    "            nn.BatchNorm1d(512),\n",
    "            nn.LeakyReLU(),\n",
    "            nn.Linear(in_features=512, out_features=128),\n",
    "            nn.BatchNorm1d(128),\n",
    "            nn.LeakyReLU(),\n",
    "            nn.Linear(in_features=128, out_features=1),\n",
    "            nn.Sigmoid()\n",
    "        )\n",
    "        \n",
    "    def forward(self, x):\n",
    "        output = self.classifier(x)\n",
    "        return output"
   ]
  },
  {
   "cell_type": "code",
   "execution_count": 20,
   "id": "e0685b57",
   "metadata": {},
   "outputs": [
    {
     "data": {
      "text/plain": [
       "<All keys matched successfully>"
      ]
     },
     "execution_count": 20,
     "metadata": {},
     "output_type": "execute_result"
    }
   ],
   "source": [
    "PATH1 = f\"./models/student_net{file_version}.pth\"\n",
    "best_student_model = Student()\n",
    "best_student_model.load_state_dict(torch.load(PATH1))"
   ]
  },
  {
   "cell_type": "code",
   "execution_count": 45,
   "id": "2d43cf8c",
   "metadata": {},
   "outputs": [],
   "source": [
    "test_datasets = CustomDataset(test, None, False)\n",
    "test_loaders = DataLoader(test_datasets, batch_size = CFG['BATCH_SIZE'], shuffle=False)"
   ]
  },
  {
   "cell_type": "code",
   "execution_count": 48,
   "id": "830cde01",
   "metadata": {},
   "outputs": [],
   "source": [
    "def inference(model, test_loader, threshold, device):\n",
    "    model.to(device)\n",
    "    model.eval()\n",
    "    # .eval함수는 evaluation 과정에서 사용하지 말아야 하는 layer들을 알아서 off 시키는 함수\n",
    "    \n",
    "    test_predict = []\n",
    "    with torch.no_grad():\n",
    "        for x in tqdm(test_loader):\n",
    "            x = x.float().to(device)\n",
    "            model_pred = model(x)\n",
    "\n",
    "            model_pred = model_pred.squeeze(1).to('cpu')\n",
    "            test_predict += model_pred\n",
    "        \n",
    "    test_predict = np.where(np.array(test_predict) > threshold, 1, 0)  \n",
    "    # threshhold 보다 큰 값을 찾아서 1로 바꾸고, 아닌 것은 0으로 변경해라\n",
    "    print('Done.')\n",
    "    return test_predict"
   ]
  },
  {
   "cell_type": "code",
   "execution_count": 50,
   "id": "ccb78109",
   "metadata": {},
   "outputs": [
    {
     "data": {
      "application/vnd.jupyter.widget-view+json": {
       "model_id": "b01a06431b2f40a691d38575594810fe",
       "version_major": 2,
       "version_minor": 0
      },
      "text/plain": [
       "  0%|          | 0/24 [00:00<?, ?it/s]"
      ]
     },
     "metadata": {},
     "output_type": "display_data"
    },
    {
     "name": "stdout",
     "output_type": "stream",
     "text": [
      "Done.\n"
     ]
    }
   ],
   "source": [
    "best_threshold = 0.2\n",
    "preds = inference(best_student_model, test_loaders, best_threshold, device)"
   ]
  },
  {
   "cell_type": "code",
   "execution_count": null,
   "id": "1776ac77",
   "metadata": {},
   "outputs": [],
   "source": [
    "submit = pd.read_csv('./data/sample_submission.csv')\n",
    "submit['Y_LABEL'] = preds\n",
    "submit.head()"
   ]
  },
  {
   "cell_type": "code",
   "execution_count": null,
   "id": "ee7db9ec",
   "metadata": {},
   "outputs": [],
   "source": [
    "submit.to_csv(f'./submits/submit{file_version}.csv', index=False)"
   ]
  },
  {
   "cell_type": "code",
   "execution_count": null,
   "id": "b6ef03dc",
   "metadata": {},
   "outputs": [],
   "source": []
  }
 ],
 "metadata": {
  "kernelspec": {
   "display_name": "Python 3 (ipykernel)",
   "language": "python",
   "name": "python3"
  },
  "language_info": {
   "codemirror_mode": {
    "name": "ipython",
    "version": 3
   },
   "file_extension": ".py",
   "mimetype": "text/x-python",
   "name": "python",
   "nbconvert_exporter": "python",
   "pygments_lexer": "ipython3",
   "version": "3.8.10"
  }
 },
 "nbformat": 4,
 "nbformat_minor": 5
}
