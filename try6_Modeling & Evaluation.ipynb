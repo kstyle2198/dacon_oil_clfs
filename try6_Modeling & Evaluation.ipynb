{
 "cells": [
  {
   "cell_type": "code",
   "execution_count": 214,
   "id": "1263ac9c",
   "metadata": {},
   "outputs": [],
   "source": [
    "import torch\n",
    "import torch.nn as nn\n",
    "import torch.nn.functional as F\n",
    "import torch.optim as optim\n",
    "from torch.utils.data import DataLoader, Dataset\n",
    "\n",
    "from sklearn.metrics import f1_score, confusion_matrix, classification_report\n",
    "from sklearn.compose import ColumnTransformer\n",
    "from sklearn.preprocessing import StandardScaler, MinMaxScaler, RobustScaler\n",
    "from sklearn.preprocessing import LabelEncoder, OneHotEncoder\n",
    "from sklearn.model_selection import train_test_split\n",
    "from sklearn.model_selection import KFold, StratifiedKFold\n",
    "\n",
    "import os\n",
    "import pandas as pd\n",
    "import numpy as np\n",
    "from tqdm.auto import tqdm\n",
    "import random\n",
    "import matplotlib.pyplot as plt\n",
    "import seaborn as sns\n",
    "\n",
    "import warnings\n",
    "warnings.filterwarnings(action='ignore') \n",
    "\n",
    "device = torch.device('cuda') if torch.cuda.is_available() else torch.device('cpu')"
   ]
  },
  {
   "cell_type": "code",
   "execution_count": 215,
   "id": "bfb10c39",
   "metadata": {},
   "outputs": [],
   "source": [
    "file_version = 25\n",
    "CFG = {\n",
    "    'EPOCHS': 30,\n",
    "    'LEARNING_RATE':1e-2,    # 0.01\n",
    "    'BATCH_SIZE':256,\n",
    "    'SEED':43,\n",
    "    '보간값적용':\"최빈값\",\n",
    "    'log_transform_turn': 1,  # 로그 트랜스폼을 몇번 돌릴 것인가?\n",
    "    'skew_cut':0.01,           # 왜도 얼마 이상을 로그값으로 정규화할 것인가?(100이면 안하겠다는 것)\n",
    "    'vif_cut': 10,           # 다중공선성 vif 얼마 이상을 제거할 것인가?\n",
    "    'corr_cut': 0.005,     # drop column correlation cut line\n",
    "    'outlier_corr_cut': 100,    # 이값 이상의 상관관계를 갖는 칼럼에 대해서만 아웃라이어 제거(100이면 미적용)\n",
    "    'T_Thresh': 0.2,     # Teacher model train Threshhold 최초 0.35\n",
    "    'S_Thresh': 0.2,     # Student model train Threshold 최초 0.35\n",
    "    'reduct' : 'mean',      # sum, mean\n",
    "    'drop_rate': 0.2,\n",
    "    \n",
    "}"
   ]
  },
  {
   "cell_type": "code",
   "execution_count": null,
   "id": "57dbc3c6",
   "metadata": {},
   "outputs": [],
   "source": []
  },
  {
   "cell_type": "code",
   "execution_count": 216,
   "id": "ec56d6d0",
   "metadata": {},
   "outputs": [],
   "source": [
    "import pickle\n",
    "#불러오기\n",
    "with open(f\"./data/{file_version}_refined_train_X\", 'rb') as pickle_filename:\n",
    "\ttrain_X = pickle.load(pickle_filename)\n",
    "\n",
    "with open(f\"./data/{file_version}_refined_train_y\", 'rb') as pickle_filename:\n",
    "\ttrain_y = pickle.load(pickle_filename)\n",
    "    \n",
    "with open(f\"./data/{file_version}_refined_val_X\", 'rb') as pickle_filename:\n",
    "\tval_X = pickle.load(pickle_filename)\n",
    "\n",
    "with open(f\"./data/{file_version}_refined_val_y\", 'rb') as pickle_filename:\n",
    "\tval_y = pickle.load(pickle_filename)     \n",
    "\n",
    "with open(f\"./data/{file_version}_refined_test\", 'rb') as pickle_filename:\n",
    "\ttest = pickle.load(pickle_filename)"
   ]
  },
  {
   "cell_type": "code",
   "execution_count": 217,
   "id": "f941e5ac",
   "metadata": {},
   "outputs": [
    {
     "data": {
      "text/plain": [
       "0.0    10314\n",
       "1.0      962\n",
       "Name: Y_LABEL, dtype: int64"
      ]
     },
     "execution_count": 217,
     "metadata": {},
     "output_type": "execute_result"
    }
   ],
   "source": [
    "train_y.value_counts()"
   ]
  },
  {
   "cell_type": "code",
   "execution_count": 218,
   "id": "14c25dc9",
   "metadata": {},
   "outputs": [],
   "source": [
    "test_stage_features = test.columns"
   ]
  },
  {
   "cell_type": "code",
   "execution_count": 219,
   "id": "6aa346ca",
   "metadata": {},
   "outputs": [],
   "source": [
    "class CustomDataset(Dataset):\n",
    "    def __init__(self, data_X, data_y, distillation=False):\n",
    "        super(CustomDataset, self).__init__()\n",
    "        self.data_X = data_X\n",
    "        self.data_y = data_y\n",
    "        self.distillation = distillation\n",
    "        \n",
    "    def __len__(self):\n",
    "        return len(self.data_X)\n",
    "    \n",
    "    def __getitem__(self, index):\n",
    "        if self.distillation:\n",
    "            # 지식 증류 학습 시\n",
    "            teacher_X = torch.Tensor(self.data_X.iloc[index])\n",
    "            student_X = torch.Tensor(self.data_X[test_stage_features].iloc[index])\n",
    "            y = self.data_y.values[index]\n",
    "            return teacher_X, student_X, y\n",
    "        else:\n",
    "            if self.data_y is None:\n",
    "                test_X = torch.Tensor(self.data_X.iloc[index])\n",
    "                return test_X\n",
    "            else:\n",
    "                teacher_X = torch.Tensor(self.data_X.iloc[index])\n",
    "                y = self.data_y.values[index]\n",
    "                return teacher_X, y"
   ]
  },
  {
   "cell_type": "code",
   "execution_count": 220,
   "id": "b65a5729",
   "metadata": {},
   "outputs": [
    {
     "data": {
      "text/plain": [
       "[(tensor([ 1.0000,  0.0000,  0.0000,  0.0000,  1.0000,  0.0000,  0.0000,  0.0000,\n",
       "           0.0000,  0.0000,  0.0000,  0.0000,  0.0000,  0.0000,  0.0000,  0.0000,\n",
       "           0.0000,  0.0000, -1.0430,  1.7858,  1.0329, -0.1537, -0.4862, -1.1424,\n",
       "          -0.4931, -0.0544,  0.9904, -0.1017,  5.6677, -0.0957,  2.2429,  0.0356,\n",
       "          -0.2901, -0.3929, -0.1908, -0.0131, -0.1627,  0.6061, -0.1322, -0.0969,\n",
       "          -0.1399, -0.2594, -0.2194,  0.4350, -0.3730, -0.4347,  0.8037, -0.7908,\n",
       "           0.2552, -0.6452, -2.0525, -0.4578, -0.8064,  1.2249, -0.3318, -0.2640,\n",
       "          -0.1098, -0.1532, -0.2575,  1.5753, -0.1545, -0.1118, -1.9767,  0.5502]),\n",
       "  0.0)]"
      ]
     },
     "execution_count": 220,
     "metadata": {},
     "output_type": "execute_result"
    }
   ],
   "source": [
    "train_dataset = CustomDataset(train_X, train_y, False)\n",
    "val_dataset = CustomDataset(val_X, val_y, False)\n",
    "list(train_dataset)[:1]"
   ]
  },
  {
   "cell_type": "code",
   "execution_count": 221,
   "id": "92037423",
   "metadata": {},
   "outputs": [
    {
     "data": {
      "text/plain": [
       "[[tensor([[ 0.0000,  0.0000,  0.0000,  ..., -1.9810, -0.2275,  1.0213],\n",
       "          [ 0.0000,  1.0000,  0.0000,  ..., -0.1118,  1.6378,  0.6471],\n",
       "          [ 0.0000,  1.0000,  0.0000,  ..., -0.1118,  0.1068,  0.4129],\n",
       "          ...,\n",
       "          [ 1.0000,  0.0000,  0.0000,  ..., -0.1118, -2.0477,  0.4403],\n",
       "          [ 1.0000,  0.0000,  0.0000,  ..., -0.1118, -2.0147,  0.5206],\n",
       "          [ 0.0000,  1.0000,  0.0000,  ..., -0.1118,  0.5648, -1.1811]]),\n",
       "  tensor([0., 0., 0., 0., 0., 0., 0., 0., 0., 0., 0., 0., 0., 0., 0., 0., 0., 0.,\n",
       "          0., 0., 0., 0., 0., 0., 0., 0., 0., 0., 1., 0., 0., 0., 0., 0., 0., 0.,\n",
       "          0., 1., 1., 0., 0., 0., 0., 0., 0., 0., 0., 0., 0., 0., 0., 0., 0., 0.,\n",
       "          0., 0., 0., 0., 0., 0., 1., 0., 0., 0., 1., 1., 0., 0., 0., 0., 0., 0.,\n",
       "          0., 0., 0., 0., 0., 0., 0., 0., 0., 1., 0., 0., 0., 0., 0., 0., 0., 0.,\n",
       "          0., 1., 0., 0., 0., 0., 1., 0., 0., 0., 0., 0., 0., 0., 0., 0., 0., 0.,\n",
       "          0., 0., 0., 0., 0., 0., 0., 0., 0., 0., 0., 0., 0., 0., 0., 0., 0., 0.,\n",
       "          0., 0., 1., 0., 0., 0., 0., 0., 0., 0., 1., 0., 0., 0., 0., 0., 0., 0.,\n",
       "          0., 0., 0., 0., 0., 0., 0., 0., 0., 0., 0., 0., 0., 0., 0., 0., 0., 0.,\n",
       "          0., 0., 0., 1., 0., 0., 0., 0., 0., 0., 0., 0., 1., 0., 0., 0., 0., 0.,\n",
       "          0., 0., 0., 0., 0., 0., 0., 0., 0., 0., 0., 0., 0., 1., 0., 1., 0., 0.,\n",
       "          0., 0., 0., 0., 0., 0., 0., 0., 0., 0., 0., 0., 0., 0., 0., 0., 0., 0.,\n",
       "          1., 0., 0., 0., 0., 0., 0., 1., 0., 0., 0., 0., 0., 0., 0., 0., 0., 0.,\n",
       "          0., 0., 0., 0., 0., 0., 0., 0., 0., 0., 0., 0., 0., 1., 0., 0., 0., 0.,\n",
       "          0., 0., 0., 0.], dtype=torch.float64)]]"
      ]
     },
     "execution_count": 221,
     "metadata": {},
     "output_type": "execute_result"
    }
   ],
   "source": [
    "train_loader = DataLoader(train_dataset, batch_size = CFG['BATCH_SIZE'], shuffle=True)\n",
    "val_loader = DataLoader(val_dataset, batch_size = CFG['BATCH_SIZE'], shuffle=False)\n",
    "list(train_loader)[:1] "
   ]
  },
  {
   "cell_type": "code",
   "execution_count": null,
   "id": "a21e3765",
   "metadata": {},
   "outputs": [],
   "source": []
  },
  {
   "cell_type": "code",
   "execution_count": null,
   "id": "f4e01e2a",
   "metadata": {},
   "outputs": [],
   "source": []
  },
  {
   "cell_type": "code",
   "execution_count": 222,
   "id": "bf1f82d6",
   "metadata": {},
   "outputs": [],
   "source": [
    "class Teacher(nn.Module):\n",
    "    def __init__(self):\n",
    "        super(Teacher, self).__init__()\n",
    "        self.classifier = nn.Sequential(\n",
    "            nn.Linear(in_features=train_col_num, out_features=256),\n",
    "            nn.Dropout(p=CFG['drop_rate']),\n",
    "            nn.BatchNorm1d(256),\n",
    "            nn.LeakyReLU(),\n",
    "            nn.Linear(in_features=256, out_features=1024),\n",
    "            nn.Dropout(p=CFG['drop_rate']),\n",
    "            nn.BatchNorm1d(1024),\n",
    "            nn.LeakyReLU(),\n",
    "            nn.Linear(in_features=1024, out_features=256),\n",
    "            nn.Dropout(p=CFG['drop_rate']),\n",
    "            nn.BatchNorm1d(256),\n",
    "            nn.LeakyReLU(),\n",
    "            nn.Linear(in_features=256, out_features=1),\n",
    "            nn.Sigmoid()\n",
    "        )\n",
    "        \n",
    "    def forward(self, x):\n",
    "        output = self.classifier(x)\n",
    "        return output"
   ]
  },
  {
   "cell_type": "code",
   "execution_count": 223,
   "id": "7df40f71",
   "metadata": {},
   "outputs": [],
   "source": [
    "def train(model, optimizer, train_loader, val_loader, scheduler, device):\n",
    "    model.to(device)\n",
    "\n",
    "    best_score = 0\n",
    "    best_model = None\n",
    "    \n",
    "    # Loss Function 정의\n",
    "    criterion = nn.BCELoss(reduction = CFG['reduct']).to(device)  #BCEWithLogitsLoss\n",
    "#     criterion = nn.BCEWithLogitsLoss(reduction = CFG['reduct']).to(device)  #BCEWithLogitsLoss\n",
    "\n",
    "    for epoch in range(CFG[\"EPOCHS\"]):\n",
    "        train_loss = []\n",
    "  \n",
    "        model.train()\n",
    "        for X, y in tqdm(train_loader):\n",
    "            X = X.float().to(device)\n",
    "            y = y.float().to(device)\n",
    "            \n",
    "            optimizer.zero_grad()\n",
    "            \n",
    "            y_pred = model(X)\n",
    "            \n",
    "            loss = criterion(y_pred, y.reshape(-1, 1))  # loss_fn(input, target)\n",
    "            loss.backward()\n",
    "            \n",
    "            optimizer.step()\n",
    "\n",
    "            train_loss.append(loss.item())\n",
    "\n",
    "        val_loss, val_score = validation_teacher(model, val_loader, criterion, device)\n",
    "        print(f'Epoch [{epoch}], Train Loss : [{np.mean(train_loss) :.5f}] Val Loss : [{np.mean(val_loss) :.5f}] Val F1 Score : [{val_score:.5f}]')\n",
    "\n",
    "        if scheduler is not None:\n",
    "            scheduler.step(val_score)\n",
    "            \n",
    "        if best_score < val_score:\n",
    "            best_model = model\n",
    "            best_score = val_score\n",
    "    print(f\"Teacher Train Best Score는 {best_score} 입니다.\")\n",
    "    return best_model "
   ]
  },
  {
   "cell_type": "code",
   "execution_count": 224,
   "id": "db9ba187",
   "metadata": {},
   "outputs": [],
   "source": [
    "def competition_metric(true, pred):\n",
    "    return f1_score(true, pred, average=\"macro\")\n",
    "\n",
    "\n",
    "def validation_teacher(model, val_loader, criterion, device):\n",
    "    model.eval()\n",
    "\n",
    "    val_loss = []\n",
    "    pred_labels = []\n",
    "    true_labels = []\n",
    "    threshold = CFG['T_Thresh']     \n",
    "    \n",
    "    with torch.no_grad():\n",
    "        for X, y in tqdm(val_loader):\n",
    "            X = X.float().to(device)\n",
    "            y = y.float().to(device)\n",
    "            \n",
    "            model_pred = model(X.to(device))\n",
    "            \n",
    "            loss = criterion(model_pred, y.reshape(-1, 1))\n",
    "            val_loss.append(loss.item())      \n",
    "            \n",
    "            model_pred = model_pred.squeeze(1).to('cpu')  # squeeze함수는 차원이 1인 차원을 제거해준다.\n",
    "            pred_labels += model_pred.tolist()\n",
    "            true_labels += y.tolist()\n",
    "        \n",
    "        #print(pred_labels[0:10])\n",
    "        # 오일상태는 0: 정상, 1: 이상\n",
    "        # 어느 임계점 thrshold보다 큰 예측 라벨을 1로 하고, 나머지를 0으로 할 것인가?\n",
    "        pred_labels = np.where(np.array(pred_labels) > threshold, 1, 0)\n",
    "        #print(pred_labels[0:10])\n",
    "        cf = confusion_matrix(true_labels, pred_labels)\n",
    "        val_f1 = competition_metric(true_labels, pred_labels)\n",
    "        \n",
    "        print(cf)\n",
    "        print(classification_report(true_labels, pred_labels, target_names=[\"0: 정상\", \"1: 이상\"]))\n",
    "    return val_loss, val_f1"
   ]
  },
  {
   "cell_type": "code",
   "execution_count": 225,
   "id": "b7f5df3f",
   "metadata": {},
   "outputs": [
    {
     "name": "stdout",
     "output_type": "stream",
     "text": [
      "64 34\n"
     ]
    }
   ],
   "source": [
    "train_col_num = len(train_X.columns)\n",
    "test_col_num = len(test.columns)\n",
    "print(train_col_num, test_col_num) # Drop후 칼럼 갯수 (nn 시작 노드 갯수에 맞춰주기 위해 변수에 담아놓음)"
   ]
  },
  {
   "cell_type": "code",
   "execution_count": 226,
   "id": "e4a8234a",
   "metadata": {
    "scrolled": false
   },
   "outputs": [
    {
     "data": {
      "application/vnd.jupyter.widget-view+json": {
       "model_id": "8a28d3cc8f48477d9f83aec464821f76",
       "version_major": 2,
       "version_minor": 0
      },
      "text/plain": [
       "  0%|          | 0/45 [00:00<?, ?it/s]"
      ]
     },
     "metadata": {},
     "output_type": "display_data"
    },
    {
     "data": {
      "application/vnd.jupyter.widget-view+json": {
       "model_id": "44aead10b9534bf197f1827086ae55d0",
       "version_major": 2,
       "version_minor": 0
      },
      "text/plain": [
       "  0%|          | 0/12 [00:00<?, ?it/s]"
      ]
     },
     "metadata": {},
     "output_type": "display_data"
    },
    {
     "name": "stdout",
     "output_type": "stream",
     "text": [
      "[[2486   92]\n",
      " [ 103  138]]\n",
      "              precision    recall  f1-score   support\n",
      "\n",
      "       0: 정상       0.96      0.96      0.96      2578\n",
      "       1: 이상       0.60      0.57      0.59       241\n",
      "\n",
      "    accuracy                           0.93      2819\n",
      "   macro avg       0.78      0.77      0.77      2819\n",
      "weighted avg       0.93      0.93      0.93      2819\n",
      "\n",
      "Epoch [0], Train Loss : [0.23644] Val Loss : [0.17184] Val F1 Score : [0.77412]\n"
     ]
    },
    {
     "data": {
      "application/vnd.jupyter.widget-view+json": {
       "model_id": "ae2c643a5ec042fcbc8bfd806cb73368",
       "version_major": 2,
       "version_minor": 0
      },
      "text/plain": [
       "  0%|          | 0/45 [00:00<?, ?it/s]"
      ]
     },
     "metadata": {},
     "output_type": "display_data"
    },
    {
     "data": {
      "application/vnd.jupyter.widget-view+json": {
       "model_id": "ee8e94c2de3044bf865dff417d8ef6d2",
       "version_major": 2,
       "version_minor": 0
      },
      "text/plain": [
       "  0%|          | 0/12 [00:00<?, ?it/s]"
      ]
     },
     "metadata": {},
     "output_type": "display_data"
    },
    {
     "name": "stdout",
     "output_type": "stream",
     "text": [
      "[[2498   80]\n",
      " [ 114  127]]\n",
      "              precision    recall  f1-score   support\n",
      "\n",
      "       0: 정상       0.96      0.97      0.96      2578\n",
      "       1: 이상       0.61      0.53      0.57       241\n",
      "\n",
      "    accuracy                           0.93      2819\n",
      "   macro avg       0.78      0.75      0.76      2819\n",
      "weighted avg       0.93      0.93      0.93      2819\n",
      "\n",
      "Epoch [1], Train Loss : [0.16193] Val Loss : [0.16712] Val F1 Score : [0.76479]\n"
     ]
    },
    {
     "data": {
      "application/vnd.jupyter.widget-view+json": {
       "model_id": "86de81a1b6ad4ec8b61b1eeaad5978d3",
       "version_major": 2,
       "version_minor": 0
      },
      "text/plain": [
       "  0%|          | 0/45 [00:00<?, ?it/s]"
      ]
     },
     "metadata": {},
     "output_type": "display_data"
    },
    {
     "data": {
      "application/vnd.jupyter.widget-view+json": {
       "model_id": "7ffc5053f1f64c6488bb0838b27ce54b",
       "version_major": 2,
       "version_minor": 0
      },
      "text/plain": [
       "  0%|          | 0/12 [00:00<?, ?it/s]"
      ]
     },
     "metadata": {},
     "output_type": "display_data"
    },
    {
     "name": "stdout",
     "output_type": "stream",
     "text": [
      "[[2471  107]\n",
      " [ 104  137]]\n",
      "              precision    recall  f1-score   support\n",
      "\n",
      "       0: 정상       0.96      0.96      0.96      2578\n",
      "       1: 이상       0.56      0.57      0.56       241\n",
      "\n",
      "    accuracy                           0.93      2819\n",
      "   macro avg       0.76      0.76      0.76      2819\n",
      "weighted avg       0.93      0.93      0.93      2819\n",
      "\n",
      "Epoch [2], Train Loss : [0.15788] Val Loss : [0.16754] Val F1 Score : [0.76200]\n",
      "Epoch 00003: reducing learning rate of group 0 to 5.0000e-03.\n"
     ]
    },
    {
     "data": {
      "application/vnd.jupyter.widget-view+json": {
       "model_id": "954299abe99c4c619d6be9b1e4768e50",
       "version_major": 2,
       "version_minor": 0
      },
      "text/plain": [
       "  0%|          | 0/45 [00:00<?, ?it/s]"
      ]
     },
     "metadata": {},
     "output_type": "display_data"
    },
    {
     "data": {
      "application/vnd.jupyter.widget-view+json": {
       "model_id": "6681fdb7928b4386906f7f1d39875b99",
       "version_major": 2,
       "version_minor": 0
      },
      "text/plain": [
       "  0%|          | 0/12 [00:00<?, ?it/s]"
      ]
     },
     "metadata": {},
     "output_type": "display_data"
    },
    {
     "name": "stdout",
     "output_type": "stream",
     "text": [
      "[[2473  105]\n",
      " [ 102  139]]\n",
      "              precision    recall  f1-score   support\n",
      "\n",
      "       0: 정상       0.96      0.96      0.96      2578\n",
      "       1: 이상       0.57      0.58      0.57       241\n",
      "\n",
      "    accuracy                           0.93      2819\n",
      "   macro avg       0.77      0.77      0.77      2819\n",
      "weighted avg       0.93      0.93      0.93      2819\n",
      "\n",
      "Epoch [3], Train Loss : [0.14624] Val Loss : [0.16259] Val F1 Score : [0.76651]\n"
     ]
    },
    {
     "data": {
      "application/vnd.jupyter.widget-view+json": {
       "model_id": "76316dc11e9c435aac4f8767d80e881f",
       "version_major": 2,
       "version_minor": 0
      },
      "text/plain": [
       "  0%|          | 0/45 [00:00<?, ?it/s]"
      ]
     },
     "metadata": {},
     "output_type": "display_data"
    },
    {
     "data": {
      "application/vnd.jupyter.widget-view+json": {
       "model_id": "e7a355a63a0d4ee99dd5a34625c1bef9",
       "version_major": 2,
       "version_minor": 0
      },
      "text/plain": [
       "  0%|          | 0/12 [00:00<?, ?it/s]"
      ]
     },
     "metadata": {},
     "output_type": "display_data"
    },
    {
     "name": "stdout",
     "output_type": "stream",
     "text": [
      "[[2448  130]\n",
      " [  88  153]]\n",
      "              precision    recall  f1-score   support\n",
      "\n",
      "       0: 정상       0.97      0.95      0.96      2578\n",
      "       1: 이상       0.54      0.63      0.58       241\n",
      "\n",
      "    accuracy                           0.92      2819\n",
      "   macro avg       0.75      0.79      0.77      2819\n",
      "weighted avg       0.93      0.92      0.93      2819\n",
      "\n",
      "Epoch [4], Train Loss : [0.14508] Val Loss : [0.16226] Val F1 Score : [0.77067]\n",
      "Epoch 00005: reducing learning rate of group 0 to 2.5000e-03.\n"
     ]
    },
    {
     "data": {
      "application/vnd.jupyter.widget-view+json": {
       "model_id": "834da72afab1446391513fe34350de87",
       "version_major": 2,
       "version_minor": 0
      },
      "text/plain": [
       "  0%|          | 0/45 [00:00<?, ?it/s]"
      ]
     },
     "metadata": {},
     "output_type": "display_data"
    },
    {
     "data": {
      "application/vnd.jupyter.widget-view+json": {
       "model_id": "cccfb859bd6944459dd52b0be681ea7b",
       "version_major": 2,
       "version_minor": 0
      },
      "text/plain": [
       "  0%|          | 0/12 [00:00<?, ?it/s]"
      ]
     },
     "metadata": {},
     "output_type": "display_data"
    },
    {
     "name": "stdout",
     "output_type": "stream",
     "text": [
      "[[2491   87]\n",
      " [ 106  135]]\n",
      "              precision    recall  f1-score   support\n",
      "\n",
      "       0: 정상       0.96      0.97      0.96      2578\n",
      "       1: 이상       0.61      0.56      0.58       241\n",
      "\n",
      "    accuracy                           0.93      2819\n",
      "   macro avg       0.78      0.76      0.77      2819\n",
      "weighted avg       0.93      0.93      0.93      2819\n",
      "\n",
      "Epoch [5], Train Loss : [0.12587] Val Loss : [0.16576] Val F1 Score : [0.77293]\n"
     ]
    },
    {
     "data": {
      "application/vnd.jupyter.widget-view+json": {
       "model_id": "131cff411b3e490d9e37db1efeee5ac1",
       "version_major": 2,
       "version_minor": 0
      },
      "text/plain": [
       "  0%|          | 0/45 [00:00<?, ?it/s]"
      ]
     },
     "metadata": {},
     "output_type": "display_data"
    },
    {
     "data": {
      "application/vnd.jupyter.widget-view+json": {
       "model_id": "38459249fb8c4965a4743a4dad9ffb1b",
       "version_major": 2,
       "version_minor": 0
      },
      "text/plain": [
       "  0%|          | 0/12 [00:00<?, ?it/s]"
      ]
     },
     "metadata": {},
     "output_type": "display_data"
    },
    {
     "name": "stdout",
     "output_type": "stream",
     "text": [
      "[[2494   84]\n",
      " [ 102  139]]\n",
      "              precision    recall  f1-score   support\n",
      "\n",
      "       0: 정상       0.96      0.97      0.96      2578\n",
      "       1: 이상       0.62      0.58      0.60       241\n",
      "\n",
      "    accuracy                           0.93      2819\n",
      "   macro avg       0.79      0.77      0.78      2819\n",
      "weighted avg       0.93      0.93      0.93      2819\n",
      "\n",
      "Epoch [6], Train Loss : [0.11487] Val Loss : [0.17372] Val F1 Score : [0.78159]\n"
     ]
    },
    {
     "data": {
      "application/vnd.jupyter.widget-view+json": {
       "model_id": "37aeb7138d71429a8c87787d59802a86",
       "version_major": 2,
       "version_minor": 0
      },
      "text/plain": [
       "  0%|          | 0/45 [00:00<?, ?it/s]"
      ]
     },
     "metadata": {},
     "output_type": "display_data"
    },
    {
     "data": {
      "application/vnd.jupyter.widget-view+json": {
       "model_id": "5d3cab53e35c4336a646a06c7a7bb3c6",
       "version_major": 2,
       "version_minor": 0
      },
      "text/plain": [
       "  0%|          | 0/12 [00:00<?, ?it/s]"
      ]
     },
     "metadata": {},
     "output_type": "display_data"
    },
    {
     "name": "stdout",
     "output_type": "stream",
     "text": [
      "[[2489   89]\n",
      " [ 106  135]]\n",
      "              precision    recall  f1-score   support\n",
      "\n",
      "       0: 정상       0.96      0.97      0.96      2578\n",
      "       1: 이상       0.60      0.56      0.58       241\n",
      "\n",
      "    accuracy                           0.93      2819\n",
      "   macro avg       0.78      0.76      0.77      2819\n",
      "weighted avg       0.93      0.93      0.93      2819\n",
      "\n",
      "Epoch [7], Train Loss : [0.10916] Val Loss : [0.18411] Val F1 Score : [0.77147]\n"
     ]
    },
    {
     "data": {
      "application/vnd.jupyter.widget-view+json": {
       "model_id": "bfec195fa9c14b78a4d42f7be15ec94d",
       "version_major": 2,
       "version_minor": 0
      },
      "text/plain": [
       "  0%|          | 0/45 [00:00<?, ?it/s]"
      ]
     },
     "metadata": {},
     "output_type": "display_data"
    },
    {
     "data": {
      "application/vnd.jupyter.widget-view+json": {
       "model_id": "89f97d3780bc48bfb696f5a823eb04cf",
       "version_major": 2,
       "version_minor": 0
      },
      "text/plain": [
       "  0%|          | 0/12 [00:00<?, ?it/s]"
      ]
     },
     "metadata": {},
     "output_type": "display_data"
    },
    {
     "name": "stdout",
     "output_type": "stream",
     "text": [
      "[[2477  101]\n",
      " [  99  142]]\n",
      "              precision    recall  f1-score   support\n",
      "\n",
      "       0: 정상       0.96      0.96      0.96      2578\n",
      "       1: 이상       0.58      0.59      0.59       241\n",
      "\n",
      "    accuracy                           0.93      2819\n",
      "   macro avg       0.77      0.78      0.77      2819\n",
      "weighted avg       0.93      0.93      0.93      2819\n",
      "\n",
      "Epoch [8], Train Loss : [0.10616] Val Loss : [0.18758] Val F1 Score : [0.77399]\n",
      "Epoch 00009: reducing learning rate of group 0 to 1.2500e-03.\n"
     ]
    },
    {
     "data": {
      "application/vnd.jupyter.widget-view+json": {
       "model_id": "80f3a67ba46348619857a66df30d50e0",
       "version_major": 2,
       "version_minor": 0
      },
      "text/plain": [
       "  0%|          | 0/45 [00:00<?, ?it/s]"
      ]
     },
     "metadata": {},
     "output_type": "display_data"
    },
    {
     "data": {
      "application/vnd.jupyter.widget-view+json": {
       "model_id": "b83d674f302843318940326a3fdf4074",
       "version_major": 2,
       "version_minor": 0
      },
      "text/plain": [
       "  0%|          | 0/12 [00:00<?, ?it/s]"
      ]
     },
     "metadata": {},
     "output_type": "display_data"
    },
    {
     "name": "stdout",
     "output_type": "stream",
     "text": [
      "[[2486   92]\n",
      " [  99  142]]\n",
      "              precision    recall  f1-score   support\n",
      "\n",
      "       0: 정상       0.96      0.96      0.96      2578\n",
      "       1: 이상       0.61      0.59      0.60       241\n",
      "\n",
      "    accuracy                           0.93      2819\n",
      "   macro avg       0.78      0.78      0.78      2819\n",
      "weighted avg       0.93      0.93      0.93      2819\n",
      "\n",
      "Epoch [9], Train Loss : [0.09162] Val Loss : [0.19552] Val F1 Score : [0.78045]\n"
     ]
    },
    {
     "data": {
      "application/vnd.jupyter.widget-view+json": {
       "model_id": "d400bc94725a44728979b81278eeaf49",
       "version_major": 2,
       "version_minor": 0
      },
      "text/plain": [
       "  0%|          | 0/45 [00:00<?, ?it/s]"
      ]
     },
     "metadata": {},
     "output_type": "display_data"
    },
    {
     "data": {
      "application/vnd.jupyter.widget-view+json": {
       "model_id": "4f24e726d2ac4113a3776e3b79b9e3f0",
       "version_major": 2,
       "version_minor": 0
      },
      "text/plain": [
       "  0%|          | 0/12 [00:00<?, ?it/s]"
      ]
     },
     "metadata": {},
     "output_type": "display_data"
    },
    {
     "name": "stdout",
     "output_type": "stream",
     "text": [
      "[[2466  112]\n",
      " [ 100  141]]\n",
      "              precision    recall  f1-score   support\n",
      "\n",
      "       0: 정상       0.96      0.96      0.96      2578\n",
      "       1: 이상       0.56      0.59      0.57       241\n",
      "\n",
      "    accuracy                           0.92      2819\n",
      "   macro avg       0.76      0.77      0.76      2819\n",
      "weighted avg       0.93      0.92      0.93      2819\n",
      "\n",
      "Epoch [10], Train Loss : [0.08695] Val Loss : [0.20355] Val F1 Score : [0.76482]\n",
      "Epoch 00011: reducing learning rate of group 0 to 6.2500e-04.\n"
     ]
    },
    {
     "data": {
      "application/vnd.jupyter.widget-view+json": {
       "model_id": "f267cc8b40ca48e88f510ec7d864212e",
       "version_major": 2,
       "version_minor": 0
      },
      "text/plain": [
       "  0%|          | 0/45 [00:00<?, ?it/s]"
      ]
     },
     "metadata": {},
     "output_type": "display_data"
    },
    {
     "data": {
      "application/vnd.jupyter.widget-view+json": {
       "model_id": "9cf25336e6304bbfafd2f09db3d496f9",
       "version_major": 2,
       "version_minor": 0
      },
      "text/plain": [
       "  0%|          | 0/12 [00:00<?, ?it/s]"
      ]
     },
     "metadata": {},
     "output_type": "display_data"
    },
    {
     "name": "stdout",
     "output_type": "stream",
     "text": [
      "[[2439  139]\n",
      " [  93  148]]\n",
      "              precision    recall  f1-score   support\n",
      "\n",
      "       0: 정상       0.96      0.95      0.95      2578\n",
      "       1: 이상       0.52      0.61      0.56       241\n",
      "\n",
      "    accuracy                           0.92      2819\n",
      "   macro avg       0.74      0.78      0.76      2819\n",
      "weighted avg       0.93      0.92      0.92      2819\n",
      "\n",
      "Epoch [11], Train Loss : [0.08245] Val Loss : [0.20500] Val F1 Score : [0.75760]\n"
     ]
    },
    {
     "data": {
      "application/vnd.jupyter.widget-view+json": {
       "model_id": "837aa2e88cd346a2b35b5aa67b210db3",
       "version_major": 2,
       "version_minor": 0
      },
      "text/plain": [
       "  0%|          | 0/45 [00:00<?, ?it/s]"
      ]
     },
     "metadata": {},
     "output_type": "display_data"
    },
    {
     "data": {
      "application/vnd.jupyter.widget-view+json": {
       "model_id": "07be727e925341fc997806979eea20c0",
       "version_major": 2,
       "version_minor": 0
      },
      "text/plain": [
       "  0%|          | 0/12 [00:00<?, ?it/s]"
      ]
     },
     "metadata": {},
     "output_type": "display_data"
    },
    {
     "name": "stdout",
     "output_type": "stream",
     "text": [
      "[[2446  132]\n",
      " [  93  148]]\n",
      "              precision    recall  f1-score   support\n",
      "\n",
      "       0: 정상       0.96      0.95      0.96      2578\n",
      "       1: 이상       0.53      0.61      0.57       241\n",
      "\n",
      "    accuracy                           0.92      2819\n",
      "   macro avg       0.75      0.78      0.76      2819\n",
      "weighted avg       0.93      0.92      0.92      2819\n",
      "\n",
      "Epoch [12], Train Loss : [0.07723] Val Loss : [0.21730] Val F1 Score : [0.76208]\n",
      "Epoch 00013: reducing learning rate of group 0 to 3.1250e-04.\n"
     ]
    },
    {
     "data": {
      "application/vnd.jupyter.widget-view+json": {
       "model_id": "b9b4e86812b1460a9bb99ec0de650f2d",
       "version_major": 2,
       "version_minor": 0
      },
      "text/plain": [
       "  0%|          | 0/45 [00:00<?, ?it/s]"
      ]
     },
     "metadata": {},
     "output_type": "display_data"
    },
    {
     "data": {
      "application/vnd.jupyter.widget-view+json": {
       "model_id": "fca001d392c14a1da9f4a52efe4c92db",
       "version_major": 2,
       "version_minor": 0
      },
      "text/plain": [
       "  0%|          | 0/12 [00:00<?, ?it/s]"
      ]
     },
     "metadata": {},
     "output_type": "display_data"
    },
    {
     "name": "stdout",
     "output_type": "stream",
     "text": [
      "[[2459  119]\n",
      " [  98  143]]\n",
      "              precision    recall  f1-score   support\n",
      "\n",
      "       0: 정상       0.96      0.95      0.96      2578\n",
      "       1: 이상       0.55      0.59      0.57       241\n",
      "\n",
      "    accuracy                           0.92      2819\n",
      "   macro avg       0.75      0.77      0.76      2819\n",
      "weighted avg       0.93      0.92      0.92      2819\n",
      "\n",
      "Epoch [13], Train Loss : [0.06871] Val Loss : [0.22033] Val F1 Score : [0.76316]\n"
     ]
    },
    {
     "data": {
      "application/vnd.jupyter.widget-view+json": {
       "model_id": "16d9db59a3af4352bc7f52f599f93010",
       "version_major": 2,
       "version_minor": 0
      },
      "text/plain": [
       "  0%|          | 0/45 [00:00<?, ?it/s]"
      ]
     },
     "metadata": {},
     "output_type": "display_data"
    },
    {
     "data": {
      "application/vnd.jupyter.widget-view+json": {
       "model_id": "0f7a43bc422c451f955b26955607ba6c",
       "version_major": 2,
       "version_minor": 0
      },
      "text/plain": [
       "  0%|          | 0/12 [00:00<?, ?it/s]"
      ]
     },
     "metadata": {},
     "output_type": "display_data"
    },
    {
     "name": "stdout",
     "output_type": "stream",
     "text": [
      "[[2449  129]\n",
      " [  98  143]]\n",
      "              precision    recall  f1-score   support\n",
      "\n",
      "       0: 정상       0.96      0.95      0.96      2578\n",
      "       1: 이상       0.53      0.59      0.56       241\n",
      "\n",
      "    accuracy                           0.92      2819\n",
      "   macro avg       0.74      0.77      0.76      2819\n",
      "weighted avg       0.92      0.92      0.92      2819\n",
      "\n",
      "Epoch [14], Train Loss : [0.06451] Val Loss : [0.22494] Val F1 Score : [0.75661]\n",
      "Epoch 00015: reducing learning rate of group 0 to 1.5625e-04.\n"
     ]
    },
    {
     "data": {
      "application/vnd.jupyter.widget-view+json": {
       "model_id": "2c11289ceff1455aabf50c731df51923",
       "version_major": 2,
       "version_minor": 0
      },
      "text/plain": [
       "  0%|          | 0/45 [00:00<?, ?it/s]"
      ]
     },
     "metadata": {},
     "output_type": "display_data"
    },
    {
     "data": {
      "application/vnd.jupyter.widget-view+json": {
       "model_id": "cf77623b95a244c8b3d701d554934248",
       "version_major": 2,
       "version_minor": 0
      },
      "text/plain": [
       "  0%|          | 0/12 [00:00<?, ?it/s]"
      ]
     },
     "metadata": {},
     "output_type": "display_data"
    },
    {
     "name": "stdout",
     "output_type": "stream",
     "text": [
      "[[2473  105]\n",
      " [ 102  139]]\n",
      "              precision    recall  f1-score   support\n",
      "\n",
      "       0: 정상       0.96      0.96      0.96      2578\n",
      "       1: 이상       0.57      0.58      0.57       241\n",
      "\n",
      "    accuracy                           0.93      2819\n",
      "   macro avg       0.77      0.77      0.77      2819\n",
      "weighted avg       0.93      0.93      0.93      2819\n",
      "\n",
      "Epoch [15], Train Loss : [0.06217] Val Loss : [0.22696] Val F1 Score : [0.76651]\n"
     ]
    },
    {
     "data": {
      "application/vnd.jupyter.widget-view+json": {
       "model_id": "950023f06e7e4e86b3d3e632fd3ffa58",
       "version_major": 2,
       "version_minor": 0
      },
      "text/plain": [
       "  0%|          | 0/45 [00:00<?, ?it/s]"
      ]
     },
     "metadata": {},
     "output_type": "display_data"
    },
    {
     "data": {
      "application/vnd.jupyter.widget-view+json": {
       "model_id": "fc25d08da4ac446ea56cef2a0e74f8fd",
       "version_major": 2,
       "version_minor": 0
      },
      "text/plain": [
       "  0%|          | 0/12 [00:00<?, ?it/s]"
      ]
     },
     "metadata": {},
     "output_type": "display_data"
    },
    {
     "name": "stdout",
     "output_type": "stream",
     "text": [
      "[[2479   99]\n",
      " [ 105  136]]\n",
      "              precision    recall  f1-score   support\n",
      "\n",
      "       0: 정상       0.96      0.96      0.96      2578\n",
      "       1: 이상       0.58      0.56      0.57       241\n",
      "\n",
      "    accuracy                           0.93      2819\n",
      "   macro avg       0.77      0.76      0.77      2819\n",
      "weighted avg       0.93      0.93      0.93      2819\n",
      "\n",
      "Epoch [16], Train Loss : [0.06275] Val Loss : [0.22862] Val F1 Score : [0.76595]\n",
      "Epoch 00017: reducing learning rate of group 0 to 7.8125e-05.\n"
     ]
    },
    {
     "data": {
      "application/vnd.jupyter.widget-view+json": {
       "model_id": "c99ea906ecf24e13a440500d9ee416e3",
       "version_major": 2,
       "version_minor": 0
      },
      "text/plain": [
       "  0%|          | 0/45 [00:00<?, ?it/s]"
      ]
     },
     "metadata": {},
     "output_type": "display_data"
    },
    {
     "data": {
      "application/vnd.jupyter.widget-view+json": {
       "model_id": "ae5405a188964a21929d742afc787c5b",
       "version_major": 2,
       "version_minor": 0
      },
      "text/plain": [
       "  0%|          | 0/12 [00:00<?, ?it/s]"
      ]
     },
     "metadata": {},
     "output_type": "display_data"
    },
    {
     "name": "stdout",
     "output_type": "stream",
     "text": [
      "[[2464  114]\n",
      " [  98  143]]\n",
      "              precision    recall  f1-score   support\n",
      "\n",
      "       0: 정상       0.96      0.96      0.96      2578\n",
      "       1: 이상       0.56      0.59      0.57       241\n",
      "\n",
      "    accuracy                           0.92      2819\n",
      "   macro avg       0.76      0.77      0.77      2819\n",
      "weighted avg       0.93      0.92      0.93      2819\n",
      "\n",
      "Epoch [17], Train Loss : [0.05852] Val Loss : [0.22850] Val F1 Score : [0.76653]\n"
     ]
    },
    {
     "data": {
      "application/vnd.jupyter.widget-view+json": {
       "model_id": "5d330235176f48a09cc7af8520746917",
       "version_major": 2,
       "version_minor": 0
      },
      "text/plain": [
       "  0%|          | 0/45 [00:00<?, ?it/s]"
      ]
     },
     "metadata": {},
     "output_type": "display_data"
    },
    {
     "data": {
      "application/vnd.jupyter.widget-view+json": {
       "model_id": "b59c67b63181408cb30aa4108abb24b5",
       "version_major": 2,
       "version_minor": 0
      },
      "text/plain": [
       "  0%|          | 0/12 [00:00<?, ?it/s]"
      ]
     },
     "metadata": {},
     "output_type": "display_data"
    },
    {
     "name": "stdout",
     "output_type": "stream",
     "text": [
      "[[2479   99]\n",
      " [  98  143]]\n",
      "              precision    recall  f1-score   support\n",
      "\n",
      "       0: 정상       0.96      0.96      0.96      2578\n",
      "       1: 이상       0.59      0.59      0.59       241\n",
      "\n",
      "    accuracy                           0.93      2819\n",
      "   macro avg       0.78      0.78      0.78      2819\n",
      "weighted avg       0.93      0.93      0.93      2819\n",
      "\n",
      "Epoch [18], Train Loss : [0.06919] Val Loss : [0.22936] Val F1 Score : [0.77696]\n",
      "Epoch 00019: reducing learning rate of group 0 to 3.9063e-05.\n"
     ]
    },
    {
     "data": {
      "application/vnd.jupyter.widget-view+json": {
       "model_id": "c58c155e816643eeafcdd028168556bc",
       "version_major": 2,
       "version_minor": 0
      },
      "text/plain": [
       "  0%|          | 0/45 [00:00<?, ?it/s]"
      ]
     },
     "metadata": {},
     "output_type": "display_data"
    },
    {
     "data": {
      "application/vnd.jupyter.widget-view+json": {
       "model_id": "73eb45631d9f4a7fb726feacaedcb670",
       "version_major": 2,
       "version_minor": 0
      },
      "text/plain": [
       "  0%|          | 0/12 [00:00<?, ?it/s]"
      ]
     },
     "metadata": {},
     "output_type": "display_data"
    },
    {
     "name": "stdout",
     "output_type": "stream",
     "text": [
      "[[2462  116]\n",
      " [ 100  141]]\n",
      "              precision    recall  f1-score   support\n",
      "\n",
      "       0: 정상       0.96      0.96      0.96      2578\n",
      "       1: 이상       0.55      0.59      0.57       241\n",
      "\n",
      "    accuracy                           0.92      2819\n",
      "   macro avg       0.75      0.77      0.76      2819\n",
      "weighted avg       0.93      0.92      0.92      2819\n",
      "\n",
      "Epoch [19], Train Loss : [0.05695] Val Loss : [0.23114] Val F1 Score : [0.76212]\n"
     ]
    },
    {
     "data": {
      "application/vnd.jupyter.widget-view+json": {
       "model_id": "7def42f1f9af4c64acb8486fc00eb7f9",
       "version_major": 2,
       "version_minor": 0
      },
      "text/plain": [
       "  0%|          | 0/45 [00:00<?, ?it/s]"
      ]
     },
     "metadata": {},
     "output_type": "display_data"
    },
    {
     "data": {
      "application/vnd.jupyter.widget-view+json": {
       "model_id": "0dc1746295444e1e803fbd083a8c8574",
       "version_major": 2,
       "version_minor": 0
      },
      "text/plain": [
       "  0%|          | 0/12 [00:00<?, ?it/s]"
      ]
     },
     "metadata": {},
     "output_type": "display_data"
    },
    {
     "name": "stdout",
     "output_type": "stream",
     "text": [
      "[[2480   98]\n",
      " [ 108  133]]\n",
      "              precision    recall  f1-score   support\n",
      "\n",
      "       0: 정상       0.96      0.96      0.96      2578\n",
      "       1: 이상       0.58      0.55      0.56       241\n",
      "\n",
      "    accuracy                           0.93      2819\n",
      "   macro avg       0.77      0.76      0.76      2819\n",
      "weighted avg       0.93      0.93      0.93      2819\n",
      "\n",
      "Epoch [20], Train Loss : [0.05618] Val Loss : [0.23382] Val F1 Score : [0.76184]\n",
      "Epoch 00021: reducing learning rate of group 0 to 1.9531e-05.\n"
     ]
    },
    {
     "data": {
      "application/vnd.jupyter.widget-view+json": {
       "model_id": "4cc14094127c40c99eeb93f73503971b",
       "version_major": 2,
       "version_minor": 0
      },
      "text/plain": [
       "  0%|          | 0/45 [00:00<?, ?it/s]"
      ]
     },
     "metadata": {},
     "output_type": "display_data"
    },
    {
     "data": {
      "application/vnd.jupyter.widget-view+json": {
       "model_id": "437d8ad2f70645c586ff7a474f8b4a49",
       "version_major": 2,
       "version_minor": 0
      },
      "text/plain": [
       "  0%|          | 0/12 [00:00<?, ?it/s]"
      ]
     },
     "metadata": {},
     "output_type": "display_data"
    },
    {
     "name": "stdout",
     "output_type": "stream",
     "text": [
      "[[2443  135]\n",
      " [  95  146]]\n",
      "              precision    recall  f1-score   support\n",
      "\n",
      "       0: 정상       0.96      0.95      0.96      2578\n",
      "       1: 이상       0.52      0.61      0.56       241\n",
      "\n",
      "    accuracy                           0.92      2819\n",
      "   macro avg       0.74      0.78      0.76      2819\n",
      "weighted avg       0.92      0.92      0.92      2819\n",
      "\n",
      "Epoch [21], Train Loss : [0.05811] Val Loss : [0.23093] Val F1 Score : [0.75721]\n"
     ]
    },
    {
     "data": {
      "application/vnd.jupyter.widget-view+json": {
       "model_id": "5aeaa01176af43159a6dbb062897ac03",
       "version_major": 2,
       "version_minor": 0
      },
      "text/plain": [
       "  0%|          | 0/45 [00:00<?, ?it/s]"
      ]
     },
     "metadata": {},
     "output_type": "display_data"
    },
    {
     "data": {
      "application/vnd.jupyter.widget-view+json": {
       "model_id": "fe107ca4a58e415493223da55e4fdd1e",
       "version_major": 2,
       "version_minor": 0
      },
      "text/plain": [
       "  0%|          | 0/12 [00:00<?, ?it/s]"
      ]
     },
     "metadata": {},
     "output_type": "display_data"
    },
    {
     "name": "stdout",
     "output_type": "stream",
     "text": [
      "[[2450  128]\n",
      " [  96  145]]\n",
      "              precision    recall  f1-score   support\n",
      "\n",
      "       0: 정상       0.96      0.95      0.96      2578\n",
      "       1: 이상       0.53      0.60      0.56       241\n",
      "\n",
      "    accuracy                           0.92      2819\n",
      "   macro avg       0.75      0.78      0.76      2819\n",
      "weighted avg       0.93      0.92      0.92      2819\n",
      "\n",
      "Epoch [22], Train Loss : [0.05609] Val Loss : [0.23411] Val F1 Score : [0.76024]\n",
      "Epoch 00023: reducing learning rate of group 0 to 9.7656e-06.\n"
     ]
    },
    {
     "data": {
      "application/vnd.jupyter.widget-view+json": {
       "model_id": "1e06739184cd4c1ea02b2c862ab01fc5",
       "version_major": 2,
       "version_minor": 0
      },
      "text/plain": [
       "  0%|          | 0/45 [00:00<?, ?it/s]"
      ]
     },
     "metadata": {},
     "output_type": "display_data"
    },
    {
     "data": {
      "application/vnd.jupyter.widget-view+json": {
       "model_id": "8b6add6b52a74d6a96c1dfd1c4cac44a",
       "version_major": 2,
       "version_minor": 0
      },
      "text/plain": [
       "  0%|          | 0/12 [00:00<?, ?it/s]"
      ]
     },
     "metadata": {},
     "output_type": "display_data"
    },
    {
     "name": "stdout",
     "output_type": "stream",
     "text": [
      "[[2468  110]\n",
      " [  99  142]]\n",
      "              precision    recall  f1-score   support\n",
      "\n",
      "       0: 정상       0.96      0.96      0.96      2578\n",
      "       1: 이상       0.56      0.59      0.58       241\n",
      "\n",
      "    accuracy                           0.93      2819\n",
      "   macro avg       0.76      0.77      0.77      2819\n",
      "weighted avg       0.93      0.93      0.93      2819\n",
      "\n",
      "Epoch [23], Train Loss : [0.05865] Val Loss : [0.23521] Val F1 Score : [0.76772]\n"
     ]
    },
    {
     "data": {
      "application/vnd.jupyter.widget-view+json": {
       "model_id": "634992ccecc948ce804715adfc0900ad",
       "version_major": 2,
       "version_minor": 0
      },
      "text/plain": [
       "  0%|          | 0/45 [00:00<?, ?it/s]"
      ]
     },
     "metadata": {},
     "output_type": "display_data"
    },
    {
     "data": {
      "application/vnd.jupyter.widget-view+json": {
       "model_id": "d54cd75860404928bef16bb710d3c373",
       "version_major": 2,
       "version_minor": 0
      },
      "text/plain": [
       "  0%|          | 0/12 [00:00<?, ?it/s]"
      ]
     },
     "metadata": {},
     "output_type": "display_data"
    },
    {
     "name": "stdout",
     "output_type": "stream",
     "text": [
      "[[2462  116]\n",
      " [  98  143]]\n",
      "              precision    recall  f1-score   support\n",
      "\n",
      "       0: 정상       0.96      0.96      0.96      2578\n",
      "       1: 이상       0.55      0.59      0.57       241\n",
      "\n",
      "    accuracy                           0.92      2819\n",
      "   macro avg       0.76      0.77      0.77      2819\n",
      "weighted avg       0.93      0.92      0.93      2819\n",
      "\n",
      "Epoch [24], Train Loss : [0.05712] Val Loss : [0.23303] Val F1 Score : [0.76517]\n",
      "Epoch 00025: reducing learning rate of group 0 to 4.8828e-06.\n"
     ]
    },
    {
     "data": {
      "application/vnd.jupyter.widget-view+json": {
       "model_id": "28f62f711ab24cbdabb6e00bcb7fe7f4",
       "version_major": 2,
       "version_minor": 0
      },
      "text/plain": [
       "  0%|          | 0/45 [00:00<?, ?it/s]"
      ]
     },
     "metadata": {},
     "output_type": "display_data"
    },
    {
     "data": {
      "application/vnd.jupyter.widget-view+json": {
       "model_id": "e9752e9174e042cba012e8083841380f",
       "version_major": 2,
       "version_minor": 0
      },
      "text/plain": [
       "  0%|          | 0/12 [00:00<?, ?it/s]"
      ]
     },
     "metadata": {},
     "output_type": "display_data"
    },
    {
     "name": "stdout",
     "output_type": "stream",
     "text": [
      "[[2478  100]\n",
      " [ 102  139]]\n",
      "              precision    recall  f1-score   support\n",
      "\n",
      "       0: 정상       0.96      0.96      0.96      2578\n",
      "       1: 이상       0.58      0.58      0.58       241\n",
      "\n",
      "    accuracy                           0.93      2819\n",
      "   macro avg       0.77      0.77      0.77      2819\n",
      "weighted avg       0.93      0.93      0.93      2819\n",
      "\n",
      "Epoch [25], Train Loss : [0.05675] Val Loss : [0.23550] Val F1 Score : [0.77000]\n"
     ]
    },
    {
     "data": {
      "application/vnd.jupyter.widget-view+json": {
       "model_id": "919da3b3e12a4a67a8672ef3d81cc6a4",
       "version_major": 2,
       "version_minor": 0
      },
      "text/plain": [
       "  0%|          | 0/45 [00:00<?, ?it/s]"
      ]
     },
     "metadata": {},
     "output_type": "display_data"
    },
    {
     "data": {
      "application/vnd.jupyter.widget-view+json": {
       "model_id": "86a22e2fdc834cec8e3ded4a8424fc68",
       "version_major": 2,
       "version_minor": 0
      },
      "text/plain": [
       "  0%|          | 0/12 [00:00<?, ?it/s]"
      ]
     },
     "metadata": {},
     "output_type": "display_data"
    },
    {
     "name": "stdout",
     "output_type": "stream",
     "text": [
      "[[2478  100]\n",
      " [ 102  139]]\n",
      "              precision    recall  f1-score   support\n",
      "\n",
      "       0: 정상       0.96      0.96      0.96      2578\n",
      "       1: 이상       0.58      0.58      0.58       241\n",
      "\n",
      "    accuracy                           0.93      2819\n",
      "   macro avg       0.77      0.77      0.77      2819\n",
      "weighted avg       0.93      0.93      0.93      2819\n",
      "\n",
      "Epoch [26], Train Loss : [0.05475] Val Loss : [0.23323] Val F1 Score : [0.77000]\n",
      "Epoch 00027: reducing learning rate of group 0 to 2.4414e-06.\n"
     ]
    },
    {
     "data": {
      "application/vnd.jupyter.widget-view+json": {
       "model_id": "1f809495767646c69365d66cd3a6ae51",
       "version_major": 2,
       "version_minor": 0
      },
      "text/plain": [
       "  0%|          | 0/45 [00:00<?, ?it/s]"
      ]
     },
     "metadata": {},
     "output_type": "display_data"
    },
    {
     "data": {
      "application/vnd.jupyter.widget-view+json": {
       "model_id": "8c01ea5feff547c7bcaa356acdde044f",
       "version_major": 2,
       "version_minor": 0
      },
      "text/plain": [
       "  0%|          | 0/12 [00:00<?, ?it/s]"
      ]
     },
     "metadata": {},
     "output_type": "display_data"
    },
    {
     "name": "stdout",
     "output_type": "stream",
     "text": [
      "[[2462  116]\n",
      " [ 100  141]]\n",
      "              precision    recall  f1-score   support\n",
      "\n",
      "       0: 정상       0.96      0.96      0.96      2578\n",
      "       1: 이상       0.55      0.59      0.57       241\n",
      "\n",
      "    accuracy                           0.92      2819\n",
      "   macro avg       0.75      0.77      0.76      2819\n",
      "weighted avg       0.93      0.92      0.92      2819\n",
      "\n",
      "Epoch [27], Train Loss : [0.05549] Val Loss : [0.23315] Val F1 Score : [0.76212]\n"
     ]
    },
    {
     "data": {
      "application/vnd.jupyter.widget-view+json": {
       "model_id": "ec4cf1c78c204eecafd9c5888c16bc6c",
       "version_major": 2,
       "version_minor": 0
      },
      "text/plain": [
       "  0%|          | 0/45 [00:00<?, ?it/s]"
      ]
     },
     "metadata": {},
     "output_type": "display_data"
    },
    {
     "data": {
      "application/vnd.jupyter.widget-view+json": {
       "model_id": "e81b1aa98d1b4b96949b8d375939bc84",
       "version_major": 2,
       "version_minor": 0
      },
      "text/plain": [
       "  0%|          | 0/12 [00:00<?, ?it/s]"
      ]
     },
     "metadata": {},
     "output_type": "display_data"
    },
    {
     "name": "stdout",
     "output_type": "stream",
     "text": [
      "[[2480   98]\n",
      " [ 108  133]]\n",
      "              precision    recall  f1-score   support\n",
      "\n",
      "       0: 정상       0.96      0.96      0.96      2578\n",
      "       1: 이상       0.58      0.55      0.56       241\n",
      "\n",
      "    accuracy                           0.93      2819\n",
      "   macro avg       0.77      0.76      0.76      2819\n",
      "weighted avg       0.93      0.93      0.93      2819\n",
      "\n",
      "Epoch [28], Train Loss : [0.05776] Val Loss : [0.23424] Val F1 Score : [0.76184]\n",
      "Epoch 00029: reducing learning rate of group 0 to 1.2207e-06.\n"
     ]
    },
    {
     "data": {
      "application/vnd.jupyter.widget-view+json": {
       "model_id": "2b73ee3bf9344e46864eeeffe4f402e3",
       "version_major": 2,
       "version_minor": 0
      },
      "text/plain": [
       "  0%|          | 0/45 [00:00<?, ?it/s]"
      ]
     },
     "metadata": {},
     "output_type": "display_data"
    },
    {
     "data": {
      "application/vnd.jupyter.widget-view+json": {
       "model_id": "6c743d947e894bca86962af4df7603a2",
       "version_major": 2,
       "version_minor": 0
      },
      "text/plain": [
       "  0%|          | 0/12 [00:00<?, ?it/s]"
      ]
     },
     "metadata": {},
     "output_type": "display_data"
    },
    {
     "name": "stdout",
     "output_type": "stream",
     "text": [
      "[[2457  121]\n",
      " [  99  142]]\n",
      "              precision    recall  f1-score   support\n",
      "\n",
      "       0: 정상       0.96      0.95      0.96      2578\n",
      "       1: 이상       0.54      0.59      0.56       241\n",
      "\n",
      "    accuracy                           0.92      2819\n",
      "   macro avg       0.75      0.77      0.76      2819\n",
      "weighted avg       0.93      0.92      0.92      2819\n",
      "\n",
      "Epoch [29], Train Loss : [0.05912] Val Loss : [0.23393] Val F1 Score : [0.76032]\n",
      "Teacher Train Best Score는 0.7815944776935073 입니다.\n"
     ]
    }
   ],
   "source": [
    "model = Teacher()\n",
    "model.eval()\n",
    "optimizer = torch.optim.Adam(model.parameters(), lr=CFG['LEARNING_RATE'])\n",
    "scheduler = torch.optim.lr_scheduler.ReduceLROnPlateau(optimizer, mode='max', factor=0.5, patience=1, threshold_mode='abs',min_lr=1e-8, verbose=True)\n",
    "pred_labels = []\n",
    "true_labels = []\n",
    "\n",
    "teacher_model = train(model, optimizer, train_loader, val_loader, scheduler, device)"
   ]
  },
  {
   "cell_type": "code",
   "execution_count": null,
   "id": "0472994f",
   "metadata": {},
   "outputs": [],
   "source": []
  },
  {
   "cell_type": "code",
   "execution_count": 227,
   "id": "0f48801f",
   "metadata": {},
   "outputs": [],
   "source": [
    "PATH1 = f\"./models/{file_version}_teacher_net.pth\"\n",
    "torch.save(teacher_model.state_dict(), PATH1)"
   ]
  },
  {
   "cell_type": "code",
   "execution_count": 228,
   "id": "32046dea",
   "metadata": {},
   "outputs": [
    {
     "data": {
      "text/plain": [
       "Teacher(\n",
       "  (classifier): Sequential(\n",
       "    (0): Linear(in_features=64, out_features=256, bias=True)\n",
       "    (1): Dropout(p=0, inplace=False)\n",
       "    (2): BatchNorm1d(256, eps=1e-05, momentum=0.1, affine=True, track_running_stats=True)\n",
       "    (3): LeakyReLU(negative_slope=0.01)\n",
       "    (4): Linear(in_features=256, out_features=1024, bias=True)\n",
       "    (5): Dropout(p=0, inplace=False)\n",
       "    (6): BatchNorm1d(1024, eps=1e-05, momentum=0.1, affine=True, track_running_stats=True)\n",
       "    (7): LeakyReLU(negative_slope=0.01)\n",
       "    (8): Linear(in_features=1024, out_features=256, bias=True)\n",
       "    (9): Dropout(p=0, inplace=False)\n",
       "    (10): BatchNorm1d(256, eps=1e-05, momentum=0.1, affine=True, track_running_stats=True)\n",
       "    (11): LeakyReLU(negative_slope=0.01)\n",
       "    (12): Linear(in_features=256, out_features=1, bias=True)\n",
       "    (13): Sigmoid()\n",
       "  )\n",
       ")"
      ]
     },
     "execution_count": 228,
     "metadata": {},
     "output_type": "execute_result"
    }
   ],
   "source": [
    "teacher_model = Teacher()\n",
    "teacher_model.load_state_dict(torch.load(PATH1))\n",
    "teacher_model"
   ]
  },
  {
   "cell_type": "code",
   "execution_count": 229,
   "id": "85a48542",
   "metadata": {},
   "outputs": [],
   "source": [
    "class Student(nn.Module):\n",
    "    def __init__(self):\n",
    "        super(Student, self).__init__()\n",
    "        self.classifier = nn.Sequential(\n",
    "            nn.Linear(in_features=test_col_num, out_features=128),\n",
    "            nn.Dropout(p=CFG['drop_rate']),\n",
    "            nn.BatchNorm1d(128),\n",
    "            nn.LeakyReLU(),\n",
    "            nn.Linear(in_features=128, out_features=512),\n",
    "            nn.Dropout(p=CFG['drop_rate']),\n",
    "            nn.BatchNorm1d(512),\n",
    "            nn.LeakyReLU(),\n",
    "            nn.Linear(in_features=512, out_features=128),\n",
    "            nn.Dropout(p=CFG['drop_rate']),\n",
    "            nn.BatchNorm1d(128),\n",
    "            nn.LeakyReLU(),\n",
    "            nn.Linear(in_features=128, out_features=1),\n",
    "            nn.Sigmoid()\n",
    "        )\n",
    "        \n",
    "    def forward(self, x):\n",
    "        output = self.classifier(x)\n",
    "        return output"
   ]
  },
  {
   "cell_type": "code",
   "execution_count": 230,
   "id": "2c14e299",
   "metadata": {},
   "outputs": [],
   "source": [
    "# distillation Function 정의\n",
    "\n",
    "def distillation(student_logits, labels, teacher_logits, alpha, T):\n",
    "    \n",
    "    student_loss = nn.BCELoss(reduction = CFG['reduct'])(student_logits, labels.reshape(-1, 1)) #BCEWithLogitsLoss\n",
    "#     student_loss = nn.BCEWithLogitsLoss(reduction = CFG['reduct'])(student_logits, labels.reshape(-1, 1)) #BCEWithLogitsLoss\n",
    "\n",
    "    distillation_loss = nn.KLDivLoss(reduction='batchmean')(F.log_softmax(student_logits/T, dim=1), F.softmax(teacher_logits/T, dim=1)) * (T * T)\n",
    "    \n",
    "    return alpha * student_loss + (1-alpha) * distillation_loss\n",
    "\n",
    "def distill_loss(output, target, teacher_output, loss_fn=distillation, opt=optimizer):\n",
    "    loss_b = loss_fn(output, target, teacher_output, alpha=0.1, T=10)\n",
    "\n",
    "    if opt is not None:\n",
    "        opt.zero_grad()\n",
    "        loss_b.backward()\n",
    "        opt.step()\n",
    "\n",
    "    return loss_b.item()"
   ]
  },
  {
   "cell_type": "code",
   "execution_count": 231,
   "id": "f9f84cc9",
   "metadata": {},
   "outputs": [],
   "source": [
    "def student_train(s_model, t_model, optimizer, train_loader, val_loader, scheduler, device):\n",
    "    s_model.to(device)\n",
    "    t_model.to(device)\n",
    "    \n",
    "    best_score = 0\n",
    "    best_model = None\n",
    "\n",
    "    for epoch in range(CFG[\"EPOCHS\"]):\n",
    "        train_loss = []\n",
    "        s_model.train()\n",
    "        t_model.eval()    # teather는 이번에는 학습하지 않으므로 .eval()로 불러온다\n",
    "        \n",
    "        for X_t, X_s, y in tqdm(train_loader):\n",
    "            X_t = X_t.float().to(device)\n",
    "            X_s = X_s.float().to(device)\n",
    "            y = y.float().to(device)\n",
    "            \n",
    "            optimizer.zero_grad()\n",
    "\n",
    "            output = s_model(X_s)\n",
    "            with torch.no_grad():\n",
    "                teacher_output = t_model(X_t)\n",
    "                \n",
    "            loss_b = distill_loss(output, y, teacher_output, loss_fn=distillation, opt=optimizer)\n",
    "\n",
    "            train_loss.append(loss_b)\n",
    "\n",
    "        val_loss, val_score = validation_student(s_model, t_model, val_loader, distill_loss, device)\n",
    "        print(f'Epoch [{epoch}], Train Loss : [{np.mean(train_loss) :.5f}] Val Loss : [{np.mean(val_loss) :.5f}] Val F1 Score : [{val_score:.5f}]')\n",
    "        \n",
    "        if scheduler is not None:\n",
    "            scheduler.step(val_score)\n",
    "            \n",
    "        if best_score < val_score:\n",
    "            best_model = s_model\n",
    "            best_score = val_score\n",
    "    \n",
    "    print(f\"Student Train Best Score는 {best_score} 입니다.\")\n",
    "        \n",
    "    return best_model"
   ]
  },
  {
   "cell_type": "code",
   "execution_count": 232,
   "id": "82f4a51b",
   "metadata": {},
   "outputs": [],
   "source": [
    "def validation_student(s_model, t_model, val_loader, criterion, device):\n",
    "    s_model.eval()\n",
    "    t_model.eval()\n",
    "\n",
    "    val_loss = []\n",
    "    pred_labels = []\n",
    "    true_labels = []\n",
    "    threshold = CFG['S_Thresh']\n",
    "    \n",
    "    with torch.no_grad():\n",
    "        for X_t, X_s, y in tqdm(val_loader):\n",
    "            X_t = X_t.float().to(device)\n",
    "            X_s = X_s.float().to(device)\n",
    "            y = y.float().to(device)\n",
    "            \n",
    "            model_pred = s_model(X_s)\n",
    "            teacher_output = t_model(X_t)\n",
    "            \n",
    "            loss_b = distill_loss(model_pred, y, teacher_output, loss_fn=distillation, opt=None)\n",
    "            val_loss.append(loss_b)\n",
    "            \n",
    "            model_pred = model_pred.squeeze(1).to('cpu')\n",
    "            pred_labels += model_pred.tolist()\n",
    "            true_labels += y.tolist()\n",
    "        \n",
    "        pred_labels = np.where(np.array(pred_labels) > threshold, 1, 0)\n",
    "        val_f1 = competition_metric(true_labels, pred_labels)\n",
    "        cf = confusion_matrix(true_labels, pred_labels)        \n",
    "        print(cf)\n",
    "        print(classification_report(true_labels, pred_labels, target_names=[\"0: 정상\", \"1: 이상\"]))\n",
    "        \n",
    "    return val_loss, val_f1    "
   ]
  },
  {
   "cell_type": "code",
   "execution_count": 233,
   "id": "74685a61",
   "metadata": {},
   "outputs": [],
   "source": [
    "train_dataset = CustomDataset(train_X, train_y, True)\n",
    "val_dataset = CustomDataset(val_X, val_y, True)\n",
    "\n",
    "train_loader = DataLoader(train_dataset, batch_size = CFG['BATCH_SIZE'], shuffle=True)\n",
    "val_loader = DataLoader(val_dataset, batch_size = CFG['BATCH_SIZE'], shuffle=False)"
   ]
  },
  {
   "cell_type": "code",
   "execution_count": 234,
   "id": "75882c3b",
   "metadata": {
    "scrolled": false
   },
   "outputs": [
    {
     "data": {
      "application/vnd.jupyter.widget-view+json": {
       "model_id": "4c578fec71a4498595e08a8a57ace20b",
       "version_major": 2,
       "version_minor": 0
      },
      "text/plain": [
       "  0%|          | 0/45 [00:00<?, ?it/s]"
      ]
     },
     "metadata": {},
     "output_type": "display_data"
    },
    {
     "data": {
      "application/vnd.jupyter.widget-view+json": {
       "model_id": "0cd3b479518f4ff0ab219e708a4f4d62",
       "version_major": 2,
       "version_minor": 0
      },
      "text/plain": [
       "  0%|          | 0/12 [00:00<?, ?it/s]"
      ]
     },
     "metadata": {},
     "output_type": "display_data"
    },
    {
     "name": "stdout",
     "output_type": "stream",
     "text": [
      "[[2513   65]\n",
      " [ 222   19]]\n",
      "              precision    recall  f1-score   support\n",
      "\n",
      "       0: 정상       0.92      0.97      0.95      2578\n",
      "       1: 이상       0.23      0.08      0.12       241\n",
      "\n",
      "    accuracy                           0.90      2819\n",
      "   macro avg       0.57      0.53      0.53      2819\n",
      "weighted avg       0.86      0.90      0.88      2819\n",
      "\n",
      "Epoch [0], Train Loss : [0.03146] Val Loss : [0.02659] Val F1 Score : [0.53145]\n"
     ]
    },
    {
     "data": {
      "application/vnd.jupyter.widget-view+json": {
       "model_id": "711ef4190dff44bfb5e5dc9077869576",
       "version_major": 2,
       "version_minor": 0
      },
      "text/plain": [
       "  0%|          | 0/45 [00:00<?, ?it/s]"
      ]
     },
     "metadata": {},
     "output_type": "display_data"
    },
    {
     "data": {
      "application/vnd.jupyter.widget-view+json": {
       "model_id": "98d32e903c734d07ad3e8a319ecf8d2b",
       "version_major": 2,
       "version_minor": 0
      },
      "text/plain": [
       "  0%|          | 0/12 [00:00<?, ?it/s]"
      ]
     },
     "metadata": {},
     "output_type": "display_data"
    },
    {
     "name": "stdout",
     "output_type": "stream",
     "text": [
      "[[2322  256]\n",
      " [ 182   59]]\n",
      "              precision    recall  f1-score   support\n",
      "\n",
      "       0: 정상       0.93      0.90      0.91      2578\n",
      "       1: 이상       0.19      0.24      0.21       241\n",
      "\n",
      "    accuracy                           0.84      2819\n",
      "   macro avg       0.56      0.57      0.56      2819\n",
      "weighted avg       0.86      0.84      0.85      2819\n",
      "\n",
      "Epoch [1], Train Loss : [0.02794] Val Loss : [0.02655] Val F1 Score : [0.56302]\n"
     ]
    },
    {
     "data": {
      "application/vnd.jupyter.widget-view+json": {
       "model_id": "14e7b163e9454160a2d890c11ebc14a5",
       "version_major": 2,
       "version_minor": 0
      },
      "text/plain": [
       "  0%|          | 0/45 [00:00<?, ?it/s]"
      ]
     },
     "metadata": {},
     "output_type": "display_data"
    },
    {
     "data": {
      "application/vnd.jupyter.widget-view+json": {
       "model_id": "da8a9c62eb3d4b9ca7d1ab25fd3bc141",
       "version_major": 2,
       "version_minor": 0
      },
      "text/plain": [
       "  0%|          | 0/12 [00:00<?, ?it/s]"
      ]
     },
     "metadata": {},
     "output_type": "display_data"
    },
    {
     "name": "stdout",
     "output_type": "stream",
     "text": [
      "[[2478  100]\n",
      " [ 200   41]]\n",
      "              precision    recall  f1-score   support\n",
      "\n",
      "       0: 정상       0.93      0.96      0.94      2578\n",
      "       1: 이상       0.29      0.17      0.21       241\n",
      "\n",
      "    accuracy                           0.89      2819\n",
      "   macro avg       0.61      0.57      0.58      2819\n",
      "weighted avg       0.87      0.89      0.88      2819\n",
      "\n",
      "Epoch [2], Train Loss : [0.02730] Val Loss : [0.02617] Val F1 Score : [0.57879]\n"
     ]
    },
    {
     "data": {
      "application/vnd.jupyter.widget-view+json": {
       "model_id": "8e9dea2ca0cd4c2189574c77433a47a4",
       "version_major": 2,
       "version_minor": 0
      },
      "text/plain": [
       "  0%|          | 0/45 [00:00<?, ?it/s]"
      ]
     },
     "metadata": {},
     "output_type": "display_data"
    },
    {
     "data": {
      "application/vnd.jupyter.widget-view+json": {
       "model_id": "ffcf52e523f24eb7b6d8ae02cd9f45e5",
       "version_major": 2,
       "version_minor": 0
      },
      "text/plain": [
       "  0%|          | 0/12 [00:00<?, ?it/s]"
      ]
     },
     "metadata": {},
     "output_type": "display_data"
    },
    {
     "name": "stdout",
     "output_type": "stream",
     "text": [
      "[[2482   96]\n",
      " [ 206   35]]\n",
      "              precision    recall  f1-score   support\n",
      "\n",
      "       0: 정상       0.92      0.96      0.94      2578\n",
      "       1: 이상       0.27      0.15      0.19       241\n",
      "\n",
      "    accuracy                           0.89      2819\n",
      "   macro avg       0.60      0.55      0.57      2819\n",
      "weighted avg       0.87      0.89      0.88      2819\n",
      "\n",
      "Epoch [3], Train Loss : [0.02715] Val Loss : [0.02598] Val F1 Score : [0.56541]\n"
     ]
    },
    {
     "data": {
      "application/vnd.jupyter.widget-view+json": {
       "model_id": "ccbbc86cca8e400c9cdafb3a173c9817",
       "version_major": 2,
       "version_minor": 0
      },
      "text/plain": [
       "  0%|          | 0/45 [00:00<?, ?it/s]"
      ]
     },
     "metadata": {},
     "output_type": "display_data"
    },
    {
     "data": {
      "application/vnd.jupyter.widget-view+json": {
       "model_id": "cd3a812d919841f383d23931657e7f72",
       "version_major": 2,
       "version_minor": 0
      },
      "text/plain": [
       "  0%|          | 0/12 [00:00<?, ?it/s]"
      ]
     },
     "metadata": {},
     "output_type": "display_data"
    },
    {
     "name": "stdout",
     "output_type": "stream",
     "text": [
      "[[2480   98]\n",
      " [ 202   39]]\n",
      "              precision    recall  f1-score   support\n",
      "\n",
      "       0: 정상       0.92      0.96      0.94      2578\n",
      "       1: 이상       0.28      0.16      0.21       241\n",
      "\n",
      "    accuracy                           0.89      2819\n",
      "   macro avg       0.60      0.56      0.57      2819\n",
      "weighted avg       0.87      0.89      0.88      2819\n",
      "\n",
      "Epoch [4], Train Loss : [0.02687] Val Loss : [0.02594] Val F1 Score : [0.57466]\n",
      "Epoch 00005: reducing learning rate of group 0 to 5.0000e-03.\n"
     ]
    },
    {
     "data": {
      "application/vnd.jupyter.widget-view+json": {
       "model_id": "def5656a2b194663b4a943f6106aa36d",
       "version_major": 2,
       "version_minor": 0
      },
      "text/plain": [
       "  0%|          | 0/45 [00:00<?, ?it/s]"
      ]
     },
     "metadata": {},
     "output_type": "display_data"
    },
    {
     "data": {
      "application/vnd.jupyter.widget-view+json": {
       "model_id": "41af89f7f13046c386a51e20a945a706",
       "version_major": 2,
       "version_minor": 0
      },
      "text/plain": [
       "  0%|          | 0/12 [00:00<?, ?it/s]"
      ]
     },
     "metadata": {},
     "output_type": "display_data"
    },
    {
     "name": "stdout",
     "output_type": "stream",
     "text": [
      "[[2378  200]\n",
      " [ 194   47]]\n",
      "              precision    recall  f1-score   support\n",
      "\n",
      "       0: 정상       0.92      0.92      0.92      2578\n",
      "       1: 이상       0.19      0.20      0.19       241\n",
      "\n",
      "    accuracy                           0.86      2819\n",
      "   macro avg       0.56      0.56      0.56      2819\n",
      "weighted avg       0.86      0.86      0.86      2819\n",
      "\n",
      "Epoch [5], Train Loss : [0.02603] Val Loss : [0.02653] Val F1 Score : [0.55806]\n"
     ]
    },
    {
     "data": {
      "application/vnd.jupyter.widget-view+json": {
       "model_id": "9db996506f1d4961834853dadf890363",
       "version_major": 2,
       "version_minor": 0
      },
      "text/plain": [
       "  0%|          | 0/45 [00:00<?, ?it/s]"
      ]
     },
     "metadata": {},
     "output_type": "display_data"
    },
    {
     "data": {
      "application/vnd.jupyter.widget-view+json": {
       "model_id": "f66f561885a84121853d208947f15f9c",
       "version_major": 2,
       "version_minor": 0
      },
      "text/plain": [
       "  0%|          | 0/12 [00:00<?, ?it/s]"
      ]
     },
     "metadata": {},
     "output_type": "display_data"
    },
    {
     "name": "stdout",
     "output_type": "stream",
     "text": [
      "[[2433  145]\n",
      " [ 188   53]]\n",
      "              precision    recall  f1-score   support\n",
      "\n",
      "       0: 정상       0.93      0.94      0.94      2578\n",
      "       1: 이상       0.27      0.22      0.24       241\n",
      "\n",
      "    accuracy                           0.88      2819\n",
      "   macro avg       0.60      0.58      0.59      2819\n",
      "weighted avg       0.87      0.88      0.88      2819\n",
      "\n",
      "Epoch [6], Train Loss : [0.02562] Val Loss : [0.02602] Val F1 Score : [0.58870]\n"
     ]
    },
    {
     "data": {
      "application/vnd.jupyter.widget-view+json": {
       "model_id": "9a31b6819bbc4ada8d337a78974d5cc7",
       "version_major": 2,
       "version_minor": 0
      },
      "text/plain": [
       "  0%|          | 0/45 [00:00<?, ?it/s]"
      ]
     },
     "metadata": {},
     "output_type": "display_data"
    },
    {
     "data": {
      "application/vnd.jupyter.widget-view+json": {
       "model_id": "2581d49f80244ddc9960abc8dc268981",
       "version_major": 2,
       "version_minor": 0
      },
      "text/plain": [
       "  0%|          | 0/12 [00:00<?, ?it/s]"
      ]
     },
     "metadata": {},
     "output_type": "display_data"
    },
    {
     "name": "stdout",
     "output_type": "stream",
     "text": [
      "[[2279  299]\n",
      " [ 172   69]]\n",
      "              precision    recall  f1-score   support\n",
      "\n",
      "       0: 정상       0.93      0.88      0.91      2578\n",
      "       1: 이상       0.19      0.29      0.23       241\n",
      "\n",
      "    accuracy                           0.83      2819\n",
      "   macro avg       0.56      0.59      0.57      2819\n",
      "weighted avg       0.87      0.83      0.85      2819\n",
      "\n",
      "Epoch [7], Train Loss : [0.02544] Val Loss : [0.02669] Val F1 Score : [0.56647]\n"
     ]
    },
    {
     "data": {
      "application/vnd.jupyter.widget-view+json": {
       "model_id": "cc81884399084c67aa49dd4ef672d6d5",
       "version_major": 2,
       "version_minor": 0
      },
      "text/plain": [
       "  0%|          | 0/45 [00:00<?, ?it/s]"
      ]
     },
     "metadata": {},
     "output_type": "display_data"
    },
    {
     "data": {
      "application/vnd.jupyter.widget-view+json": {
       "model_id": "bf444b6f0c78408483529dd7fe78bbf5",
       "version_major": 2,
       "version_minor": 0
      },
      "text/plain": [
       "  0%|          | 0/12 [00:00<?, ?it/s]"
      ]
     },
     "metadata": {},
     "output_type": "display_data"
    },
    {
     "name": "stdout",
     "output_type": "stream",
     "text": [
      "[[2332  246]\n",
      " [ 180   61]]\n",
      "              precision    recall  f1-score   support\n",
      "\n",
      "       0: 정상       0.93      0.90      0.92      2578\n",
      "       1: 이상       0.20      0.25      0.22       241\n",
      "\n",
      "    accuracy                           0.85      2819\n",
      "   macro avg       0.56      0.58      0.57      2819\n",
      "weighted avg       0.87      0.85      0.86      2819\n",
      "\n",
      "Epoch [8], Train Loss : [0.02586] Val Loss : [0.02716] Val F1 Score : [0.56947]\n",
      "Epoch 00009: reducing learning rate of group 0 to 2.5000e-03.\n"
     ]
    },
    {
     "data": {
      "application/vnd.jupyter.widget-view+json": {
       "model_id": "72bdcd5398ba4c7291f6ca07186df57f",
       "version_major": 2,
       "version_minor": 0
      },
      "text/plain": [
       "  0%|          | 0/45 [00:00<?, ?it/s]"
      ]
     },
     "metadata": {},
     "output_type": "display_data"
    },
    {
     "data": {
      "application/vnd.jupyter.widget-view+json": {
       "model_id": "baa099e20c974e45a5ba64345c684bea",
       "version_major": 2,
       "version_minor": 0
      },
      "text/plain": [
       "  0%|          | 0/12 [00:00<?, ?it/s]"
      ]
     },
     "metadata": {},
     "output_type": "display_data"
    },
    {
     "name": "stdout",
     "output_type": "stream",
     "text": [
      "[[2342  236]\n",
      " [ 174   67]]\n",
      "              precision    recall  f1-score   support\n",
      "\n",
      "       0: 정상       0.93      0.91      0.92      2578\n",
      "       1: 이상       0.22      0.28      0.25       241\n",
      "\n",
      "    accuracy                           0.85      2819\n",
      "   macro avg       0.58      0.59      0.58      2819\n",
      "weighted avg       0.87      0.85      0.86      2819\n",
      "\n",
      "Epoch [9], Train Loss : [0.02448] Val Loss : [0.02655] Val F1 Score : [0.58292]\n"
     ]
    },
    {
     "data": {
      "application/vnd.jupyter.widget-view+json": {
       "model_id": "7c3cae1020734e8daa3ae3f3060b7f71",
       "version_major": 2,
       "version_minor": 0
      },
      "text/plain": [
       "  0%|          | 0/45 [00:00<?, ?it/s]"
      ]
     },
     "metadata": {},
     "output_type": "display_data"
    },
    {
     "data": {
      "application/vnd.jupyter.widget-view+json": {
       "model_id": "94a6b466969b4d3da559b26645e6cab4",
       "version_major": 2,
       "version_minor": 0
      },
      "text/plain": [
       "  0%|          | 0/12 [00:00<?, ?it/s]"
      ]
     },
     "metadata": {},
     "output_type": "display_data"
    },
    {
     "name": "stdout",
     "output_type": "stream",
     "text": [
      "[[2386  192]\n",
      " [ 182   59]]\n",
      "              precision    recall  f1-score   support\n",
      "\n",
      "       0: 정상       0.93      0.93      0.93      2578\n",
      "       1: 이상       0.24      0.24      0.24       241\n",
      "\n",
      "    accuracy                           0.87      2819\n",
      "   macro avg       0.58      0.59      0.58      2819\n",
      "weighted avg       0.87      0.87      0.87      2819\n",
      "\n",
      "Epoch [10], Train Loss : [0.02412] Val Loss : [0.02724] Val F1 Score : [0.58358]\n",
      "Epoch 00011: reducing learning rate of group 0 to 1.2500e-03.\n"
     ]
    },
    {
     "data": {
      "application/vnd.jupyter.widget-view+json": {
       "model_id": "7f043491516a4e71b80f691656f57e8f",
       "version_major": 2,
       "version_minor": 0
      },
      "text/plain": [
       "  0%|          | 0/45 [00:00<?, ?it/s]"
      ]
     },
     "metadata": {},
     "output_type": "display_data"
    },
    {
     "data": {
      "application/vnd.jupyter.widget-view+json": {
       "model_id": "0a49454cd5554ec88ad92f616da5390b",
       "version_major": 2,
       "version_minor": 0
      },
      "text/plain": [
       "  0%|          | 0/12 [00:00<?, ?it/s]"
      ]
     },
     "metadata": {},
     "output_type": "display_data"
    },
    {
     "name": "stdout",
     "output_type": "stream",
     "text": [
      "[[2303  275]\n",
      " [ 178   63]]\n",
      "              precision    recall  f1-score   support\n",
      "\n",
      "       0: 정상       0.93      0.89      0.91      2578\n",
      "       1: 이상       0.19      0.26      0.22       241\n",
      "\n",
      "    accuracy                           0.84      2819\n",
      "   macro avg       0.56      0.58      0.56      2819\n",
      "weighted avg       0.86      0.84      0.85      2819\n",
      "\n",
      "Epoch [11], Train Loss : [0.02290] Val Loss : [0.02766] Val F1 Score : [0.56404]\n"
     ]
    },
    {
     "data": {
      "application/vnd.jupyter.widget-view+json": {
       "model_id": "ab9009a6358e4d6e8d1b7db81b55d7e1",
       "version_major": 2,
       "version_minor": 0
      },
      "text/plain": [
       "  0%|          | 0/45 [00:00<?, ?it/s]"
      ]
     },
     "metadata": {},
     "output_type": "display_data"
    },
    {
     "data": {
      "application/vnd.jupyter.widget-view+json": {
       "model_id": "049b2cc09da84aa5bf2d03f242597534",
       "version_major": 2,
       "version_minor": 0
      },
      "text/plain": [
       "  0%|          | 0/12 [00:00<?, ?it/s]"
      ]
     },
     "metadata": {},
     "output_type": "display_data"
    },
    {
     "name": "stdout",
     "output_type": "stream",
     "text": [
      "[[2305  273]\n",
      " [ 173   68]]\n",
      "              precision    recall  f1-score   support\n",
      "\n",
      "       0: 정상       0.93      0.89      0.91      2578\n",
      "       1: 이상       0.20      0.28      0.23       241\n",
      "\n",
      "    accuracy                           0.84      2819\n",
      "   macro avg       0.56      0.59      0.57      2819\n",
      "weighted avg       0.87      0.84      0.85      2819\n",
      "\n",
      "Epoch [12], Train Loss : [0.02277] Val Loss : [0.02767] Val F1 Score : [0.57273]\n",
      "Epoch 00013: reducing learning rate of group 0 to 6.2500e-04.\n"
     ]
    },
    {
     "data": {
      "application/vnd.jupyter.widget-view+json": {
       "model_id": "94620f99e52f4127b3dd403d90071857",
       "version_major": 2,
       "version_minor": 0
      },
      "text/plain": [
       "  0%|          | 0/45 [00:00<?, ?it/s]"
      ]
     },
     "metadata": {},
     "output_type": "display_data"
    },
    {
     "data": {
      "application/vnd.jupyter.widget-view+json": {
       "model_id": "37849391583c48bc8cdff80fa680465c",
       "version_major": 2,
       "version_minor": 0
      },
      "text/plain": [
       "  0%|          | 0/12 [00:00<?, ?it/s]"
      ]
     },
     "metadata": {},
     "output_type": "display_data"
    },
    {
     "name": "stdout",
     "output_type": "stream",
     "text": [
      "[[2310  268]\n",
      " [ 178   63]]\n",
      "              precision    recall  f1-score   support\n",
      "\n",
      "       0: 정상       0.93      0.90      0.91      2578\n",
      "       1: 이상       0.19      0.26      0.22       241\n",
      "\n",
      "    accuracy                           0.84      2819\n",
      "   macro avg       0.56      0.58      0.57      2819\n",
      "weighted avg       0.87      0.84      0.85      2819\n",
      "\n",
      "Epoch [13], Train Loss : [0.02222] Val Loss : [0.02815] Val F1 Score : [0.56612]\n"
     ]
    },
    {
     "data": {
      "application/vnd.jupyter.widget-view+json": {
       "model_id": "3847305b0bc2455299060d57da3aa6b4",
       "version_major": 2,
       "version_minor": 0
      },
      "text/plain": [
       "  0%|          | 0/45 [00:00<?, ?it/s]"
      ]
     },
     "metadata": {},
     "output_type": "display_data"
    },
    {
     "data": {
      "application/vnd.jupyter.widget-view+json": {
       "model_id": "694b7c7fccc747f89a907caddd319c07",
       "version_major": 2,
       "version_minor": 0
      },
      "text/plain": [
       "  0%|          | 0/12 [00:00<?, ?it/s]"
      ]
     },
     "metadata": {},
     "output_type": "display_data"
    },
    {
     "name": "stdout",
     "output_type": "stream",
     "text": [
      "[[2296  282]\n",
      " [ 174   67]]\n",
      "              precision    recall  f1-score   support\n",
      "\n",
      "       0: 정상       0.93      0.89      0.91      2578\n",
      "       1: 이상       0.19      0.28      0.23       241\n",
      "\n",
      "    accuracy                           0.84      2819\n",
      "   macro avg       0.56      0.58      0.57      2819\n",
      "weighted avg       0.87      0.84      0.85      2819\n",
      "\n",
      "Epoch [14], Train Loss : [0.02199] Val Loss : [0.02874] Val F1 Score : [0.56839]\n",
      "Epoch 00015: reducing learning rate of group 0 to 3.1250e-04.\n"
     ]
    },
    {
     "data": {
      "application/vnd.jupyter.widget-view+json": {
       "model_id": "2b66b7122c7e4245bd46cab8bdb15282",
       "version_major": 2,
       "version_minor": 0
      },
      "text/plain": [
       "  0%|          | 0/45 [00:00<?, ?it/s]"
      ]
     },
     "metadata": {},
     "output_type": "display_data"
    },
    {
     "data": {
      "application/vnd.jupyter.widget-view+json": {
       "model_id": "d6dfe2c16d694d6c99fcf683a2d4740e",
       "version_major": 2,
       "version_minor": 0
      },
      "text/plain": [
       "  0%|          | 0/12 [00:00<?, ?it/s]"
      ]
     },
     "metadata": {},
     "output_type": "display_data"
    },
    {
     "name": "stdout",
     "output_type": "stream",
     "text": [
      "[[2305  273]\n",
      " [ 173   68]]\n",
      "              precision    recall  f1-score   support\n",
      "\n",
      "       0: 정상       0.93      0.89      0.91      2578\n",
      "       1: 이상       0.20      0.28      0.23       241\n",
      "\n",
      "    accuracy                           0.84      2819\n",
      "   macro avg       0.56      0.59      0.57      2819\n",
      "weighted avg       0.87      0.84      0.85      2819\n",
      "\n",
      "Epoch [15], Train Loss : [0.02149] Val Loss : [0.02847] Val F1 Score : [0.57273]\n"
     ]
    },
    {
     "data": {
      "application/vnd.jupyter.widget-view+json": {
       "model_id": "d1bca7ba648c4b8f94d50e4715da4058",
       "version_major": 2,
       "version_minor": 0
      },
      "text/plain": [
       "  0%|          | 0/45 [00:00<?, ?it/s]"
      ]
     },
     "metadata": {},
     "output_type": "display_data"
    },
    {
     "data": {
      "application/vnd.jupyter.widget-view+json": {
       "model_id": "df072af1cb484882bddd05e7eaf9b773",
       "version_major": 2,
       "version_minor": 0
      },
      "text/plain": [
       "  0%|          | 0/12 [00:00<?, ?it/s]"
      ]
     },
     "metadata": {},
     "output_type": "display_data"
    },
    {
     "name": "stdout",
     "output_type": "stream",
     "text": [
      "[[2322  256]\n",
      " [ 182   59]]\n",
      "              precision    recall  f1-score   support\n",
      "\n",
      "       0: 정상       0.93      0.90      0.91      2578\n",
      "       1: 이상       0.19      0.24      0.21       241\n",
      "\n",
      "    accuracy                           0.84      2819\n",
      "   macro avg       0.56      0.57      0.56      2819\n",
      "weighted avg       0.86      0.84      0.85      2819\n",
      "\n",
      "Epoch [16], Train Loss : [0.02140] Val Loss : [0.02898] Val F1 Score : [0.56302]\n",
      "Epoch 00017: reducing learning rate of group 0 to 1.5625e-04.\n"
     ]
    },
    {
     "data": {
      "application/vnd.jupyter.widget-view+json": {
       "model_id": "913eb9b42ec6446ab863ee37a1e7e52d",
       "version_major": 2,
       "version_minor": 0
      },
      "text/plain": [
       "  0%|          | 0/45 [00:00<?, ?it/s]"
      ]
     },
     "metadata": {},
     "output_type": "display_data"
    },
    {
     "data": {
      "application/vnd.jupyter.widget-view+json": {
       "model_id": "4ae659bd300a4f3fbb8fed269096aae1",
       "version_major": 2,
       "version_minor": 0
      },
      "text/plain": [
       "  0%|          | 0/12 [00:00<?, ?it/s]"
      ]
     },
     "metadata": {},
     "output_type": "display_data"
    },
    {
     "name": "stdout",
     "output_type": "stream",
     "text": [
      "[[2321  257]\n",
      " [ 179   62]]\n",
      "              precision    recall  f1-score   support\n",
      "\n",
      "       0: 정상       0.93      0.90      0.91      2578\n",
      "       1: 이상       0.19      0.26      0.22       241\n",
      "\n",
      "    accuracy                           0.85      2819\n",
      "   macro avg       0.56      0.58      0.57      2819\n",
      "weighted avg       0.87      0.85      0.85      2819\n",
      "\n",
      "Epoch [17], Train Loss : [0.02110] Val Loss : [0.02915] Val F1 Score : [0.56778]\n"
     ]
    },
    {
     "data": {
      "application/vnd.jupyter.widget-view+json": {
       "model_id": "befc262c839e4c9aacab057e470b16ea",
       "version_major": 2,
       "version_minor": 0
      },
      "text/plain": [
       "  0%|          | 0/45 [00:00<?, ?it/s]"
      ]
     },
     "metadata": {},
     "output_type": "display_data"
    },
    {
     "data": {
      "application/vnd.jupyter.widget-view+json": {
       "model_id": "62f82cb98c8142898a2f454932ce20ae",
       "version_major": 2,
       "version_minor": 0
      },
      "text/plain": [
       "  0%|          | 0/12 [00:00<?, ?it/s]"
      ]
     },
     "metadata": {},
     "output_type": "display_data"
    },
    {
     "name": "stdout",
     "output_type": "stream",
     "text": [
      "[[2341  237]\n",
      " [ 182   59]]\n",
      "              precision    recall  f1-score   support\n",
      "\n",
      "       0: 정상       0.93      0.91      0.92      2578\n",
      "       1: 이상       0.20      0.24      0.22       241\n",
      "\n",
      "    accuracy                           0.85      2819\n",
      "   macro avg       0.56      0.58      0.57      2819\n",
      "weighted avg       0.87      0.85      0.86      2819\n",
      "\n",
      "Epoch [18], Train Loss : [0.02116] Val Loss : [0.02921] Val F1 Score : [0.56880]\n",
      "Epoch 00019: reducing learning rate of group 0 to 7.8125e-05.\n"
     ]
    },
    {
     "data": {
      "application/vnd.jupyter.widget-view+json": {
       "model_id": "4c5614b84fcc4b1f8376500387cfec3b",
       "version_major": 2,
       "version_minor": 0
      },
      "text/plain": [
       "  0%|          | 0/45 [00:00<?, ?it/s]"
      ]
     },
     "metadata": {},
     "output_type": "display_data"
    },
    {
     "data": {
      "application/vnd.jupyter.widget-view+json": {
       "model_id": "b6e95369f64b4cfd87b5b6ccefd865cb",
       "version_major": 2,
       "version_minor": 0
      },
      "text/plain": [
       "  0%|          | 0/12 [00:00<?, ?it/s]"
      ]
     },
     "metadata": {},
     "output_type": "display_data"
    },
    {
     "name": "stdout",
     "output_type": "stream",
     "text": [
      "[[2283  295]\n",
      " [ 170   71]]\n",
      "              precision    recall  f1-score   support\n",
      "\n",
      "       0: 정상       0.93      0.89      0.91      2578\n",
      "       1: 이상       0.19      0.29      0.23       241\n",
      "\n",
      "    accuracy                           0.84      2819\n",
      "   macro avg       0.56      0.59      0.57      2819\n",
      "weighted avg       0.87      0.84      0.85      2819\n",
      "\n",
      "Epoch [19], Train Loss : [0.02095] Val Loss : [0.02898] Val F1 Score : [0.57076]\n"
     ]
    },
    {
     "data": {
      "application/vnd.jupyter.widget-view+json": {
       "model_id": "25fe92cba661429b8f38e5b27179d8d8",
       "version_major": 2,
       "version_minor": 0
      },
      "text/plain": [
       "  0%|          | 0/45 [00:00<?, ?it/s]"
      ]
     },
     "metadata": {},
     "output_type": "display_data"
    },
    {
     "data": {
      "application/vnd.jupyter.widget-view+json": {
       "model_id": "cead7ec90ea4494fa398b1814ee7285f",
       "version_major": 2,
       "version_minor": 0
      },
      "text/plain": [
       "  0%|          | 0/12 [00:00<?, ?it/s]"
      ]
     },
     "metadata": {},
     "output_type": "display_data"
    },
    {
     "name": "stdout",
     "output_type": "stream",
     "text": [
      "[[2317  261]\n",
      " [ 178   63]]\n",
      "              precision    recall  f1-score   support\n",
      "\n",
      "       0: 정상       0.93      0.90      0.91      2578\n",
      "       1: 이상       0.19      0.26      0.22       241\n",
      "\n",
      "    accuracy                           0.84      2819\n",
      "   macro avg       0.56      0.58      0.57      2819\n",
      "weighted avg       0.87      0.84      0.85      2819\n",
      "\n",
      "Epoch [20], Train Loss : [0.02089] Val Loss : [0.02900] Val F1 Score : [0.56824]\n",
      "Epoch 00021: reducing learning rate of group 0 to 3.9063e-05.\n"
     ]
    },
    {
     "data": {
      "application/vnd.jupyter.widget-view+json": {
       "model_id": "661615031f2c43b28c00ecc456c9822c",
       "version_major": 2,
       "version_minor": 0
      },
      "text/plain": [
       "  0%|          | 0/45 [00:00<?, ?it/s]"
      ]
     },
     "metadata": {},
     "output_type": "display_data"
    },
    {
     "data": {
      "application/vnd.jupyter.widget-view+json": {
       "model_id": "142c7f051f6b4813b4e35dd97e6ae1e1",
       "version_major": 2,
       "version_minor": 0
      },
      "text/plain": [
       "  0%|          | 0/12 [00:00<?, ?it/s]"
      ]
     },
     "metadata": {},
     "output_type": "display_data"
    },
    {
     "name": "stdout",
     "output_type": "stream",
     "text": [
      "[[2335  243]\n",
      " [ 182   59]]\n",
      "              precision    recall  f1-score   support\n",
      "\n",
      "       0: 정상       0.93      0.91      0.92      2578\n",
      "       1: 이상       0.20      0.24      0.22       241\n",
      "\n",
      "    accuracy                           0.85      2819\n",
      "   macro avg       0.56      0.58      0.57      2819\n",
      "weighted avg       0.87      0.85      0.86      2819\n",
      "\n",
      "Epoch [21], Train Loss : [0.02181] Val Loss : [0.02943] Val F1 Score : [0.56695]\n"
     ]
    },
    {
     "data": {
      "application/vnd.jupyter.widget-view+json": {
       "model_id": "c0a48f04a7dd4dbb9ee4aabf3f2672ee",
       "version_major": 2,
       "version_minor": 0
      },
      "text/plain": [
       "  0%|          | 0/45 [00:00<?, ?it/s]"
      ]
     },
     "metadata": {},
     "output_type": "display_data"
    },
    {
     "data": {
      "application/vnd.jupyter.widget-view+json": {
       "model_id": "8899896550274beea426e3ed88892879",
       "version_major": 2,
       "version_minor": 0
      },
      "text/plain": [
       "  0%|          | 0/12 [00:00<?, ?it/s]"
      ]
     },
     "metadata": {},
     "output_type": "display_data"
    },
    {
     "name": "stdout",
     "output_type": "stream",
     "text": [
      "[[2363  215]\n",
      " [ 185   56]]\n",
      "              precision    recall  f1-score   support\n",
      "\n",
      "       0: 정상       0.93      0.92      0.92      2578\n",
      "       1: 이상       0.21      0.23      0.22       241\n",
      "\n",
      "    accuracy                           0.86      2819\n",
      "   macro avg       0.57      0.57      0.57      2819\n",
      "weighted avg       0.87      0.86      0.86      2819\n",
      "\n",
      "Epoch [22], Train Loss : [0.02117] Val Loss : [0.02954] Val F1 Score : [0.57036]\n",
      "Epoch 00023: reducing learning rate of group 0 to 1.9531e-05.\n"
     ]
    },
    {
     "data": {
      "application/vnd.jupyter.widget-view+json": {
       "model_id": "4d6a48e538d548a8be9ec6fe7e54bad9",
       "version_major": 2,
       "version_minor": 0
      },
      "text/plain": [
       "  0%|          | 0/45 [00:00<?, ?it/s]"
      ]
     },
     "metadata": {},
     "output_type": "display_data"
    },
    {
     "data": {
      "application/vnd.jupyter.widget-view+json": {
       "model_id": "8fe9f6f15ba94fed8ba9f214a958bc27",
       "version_major": 2,
       "version_minor": 0
      },
      "text/plain": [
       "  0%|          | 0/12 [00:00<?, ?it/s]"
      ]
     },
     "metadata": {},
     "output_type": "display_data"
    },
    {
     "name": "stdout",
     "output_type": "stream",
     "text": [
      "[[2327  251]\n",
      " [ 181   60]]\n",
      "              precision    recall  f1-score   support\n",
      "\n",
      "       0: 정상       0.93      0.90      0.92      2578\n",
      "       1: 이상       0.19      0.25      0.22       241\n",
      "\n",
      "    accuracy                           0.85      2819\n",
      "   macro avg       0.56      0.58      0.57      2819\n",
      "weighted avg       0.87      0.85      0.86      2819\n",
      "\n",
      "Epoch [23], Train Loss : [0.02116] Val Loss : [0.02896] Val F1 Score : [0.56623]\n"
     ]
    },
    {
     "data": {
      "application/vnd.jupyter.widget-view+json": {
       "model_id": "c255545e0d5144518df67f7616952afb",
       "version_major": 2,
       "version_minor": 0
      },
      "text/plain": [
       "  0%|          | 0/45 [00:00<?, ?it/s]"
      ]
     },
     "metadata": {},
     "output_type": "display_data"
    },
    {
     "data": {
      "application/vnd.jupyter.widget-view+json": {
       "model_id": "f0d9affb1f744a43907ed8c08916941e",
       "version_major": 2,
       "version_minor": 0
      },
      "text/plain": [
       "  0%|          | 0/12 [00:00<?, ?it/s]"
      ]
     },
     "metadata": {},
     "output_type": "display_data"
    },
    {
     "name": "stdout",
     "output_type": "stream",
     "text": [
      "[[2306  272]\n",
      " [ 179   62]]\n",
      "              precision    recall  f1-score   support\n",
      "\n",
      "       0: 정상       0.93      0.89      0.91      2578\n",
      "       1: 이상       0.19      0.26      0.22       241\n",
      "\n",
      "    accuracy                           0.84      2819\n",
      "   macro avg       0.56      0.58      0.56      2819\n",
      "weighted avg       0.86      0.84      0.85      2819\n",
      "\n",
      "Epoch [24], Train Loss : [0.02097] Val Loss : [0.02908] Val F1 Score : [0.56329]\n",
      "Epoch 00025: reducing learning rate of group 0 to 9.7656e-06.\n"
     ]
    },
    {
     "data": {
      "application/vnd.jupyter.widget-view+json": {
       "model_id": "0cba81deb4774c45b809e5910f88e82e",
       "version_major": 2,
       "version_minor": 0
      },
      "text/plain": [
       "  0%|          | 0/45 [00:00<?, ?it/s]"
      ]
     },
     "metadata": {},
     "output_type": "display_data"
    },
    {
     "data": {
      "application/vnd.jupyter.widget-view+json": {
       "model_id": "08e08529d00a418894447a8ec0d459e7",
       "version_major": 2,
       "version_minor": 0
      },
      "text/plain": [
       "  0%|          | 0/12 [00:00<?, ?it/s]"
      ]
     },
     "metadata": {},
     "output_type": "display_data"
    },
    {
     "name": "stdout",
     "output_type": "stream",
     "text": [
      "[[2296  282]\n",
      " [ 179   62]]\n",
      "              precision    recall  f1-score   support\n",
      "\n",
      "       0: 정상       0.93      0.89      0.91      2578\n",
      "       1: 이상       0.18      0.26      0.21       241\n",
      "\n",
      "    accuracy                           0.84      2819\n",
      "   macro avg       0.55      0.57      0.56      2819\n",
      "weighted avg       0.86      0.84      0.85      2819\n",
      "\n",
      "Epoch [25], Train Loss : [0.02080] Val Loss : [0.02951] Val F1 Score : [0.56037]\n"
     ]
    },
    {
     "data": {
      "application/vnd.jupyter.widget-view+json": {
       "model_id": "e6b605ac05e74054b42644dc8439b474",
       "version_major": 2,
       "version_minor": 0
      },
      "text/plain": [
       "  0%|          | 0/45 [00:00<?, ?it/s]"
      ]
     },
     "metadata": {},
     "output_type": "display_data"
    },
    {
     "data": {
      "application/vnd.jupyter.widget-view+json": {
       "model_id": "047a6ff402fa40429ae1ee71596996ca",
       "version_major": 2,
       "version_minor": 0
      },
      "text/plain": [
       "  0%|          | 0/12 [00:00<?, ?it/s]"
      ]
     },
     "metadata": {},
     "output_type": "display_data"
    },
    {
     "name": "stdout",
     "output_type": "stream",
     "text": [
      "[[2346  232]\n",
      " [ 185   56]]\n",
      "              precision    recall  f1-score   support\n",
      "\n",
      "       0: 정상       0.93      0.91      0.92      2578\n",
      "       1: 이상       0.19      0.23      0.21       241\n",
      "\n",
      "    accuracy                           0.85      2819\n",
      "   macro avg       0.56      0.57      0.57      2819\n",
      "weighted avg       0.86      0.85      0.86      2819\n",
      "\n",
      "Epoch [26], Train Loss : [0.02116] Val Loss : [0.02898] Val F1 Score : [0.56505]\n",
      "Epoch 00027: reducing learning rate of group 0 to 4.8828e-06.\n"
     ]
    },
    {
     "data": {
      "application/vnd.jupyter.widget-view+json": {
       "model_id": "d15d1d733e574d5ab4bd6f10cf93abf0",
       "version_major": 2,
       "version_minor": 0
      },
      "text/plain": [
       "  0%|          | 0/45 [00:00<?, ?it/s]"
      ]
     },
     "metadata": {},
     "output_type": "display_data"
    },
    {
     "data": {
      "application/vnd.jupyter.widget-view+json": {
       "model_id": "5ab1a7d37ce7494094bb84127f8fb5fa",
       "version_major": 2,
       "version_minor": 0
      },
      "text/plain": [
       "  0%|          | 0/12 [00:00<?, ?it/s]"
      ]
     },
     "metadata": {},
     "output_type": "display_data"
    },
    {
     "name": "stdout",
     "output_type": "stream",
     "text": [
      "[[2301  277]\n",
      " [ 177   64]]\n",
      "              precision    recall  f1-score   support\n",
      "\n",
      "       0: 정상       0.93      0.89      0.91      2578\n",
      "       1: 이상       0.19      0.27      0.22       241\n",
      "\n",
      "    accuracy                           0.84      2819\n",
      "   macro avg       0.56      0.58      0.57      2819\n",
      "weighted avg       0.87      0.84      0.85      2819\n",
      "\n",
      "Epoch [27], Train Loss : [0.02144] Val Loss : [0.02929] Val F1 Score : [0.56507]\n"
     ]
    },
    {
     "data": {
      "application/vnd.jupyter.widget-view+json": {
       "model_id": "c3e708fad305443685e43d839f0fd762",
       "version_major": 2,
       "version_minor": 0
      },
      "text/plain": [
       "  0%|          | 0/45 [00:00<?, ?it/s]"
      ]
     },
     "metadata": {},
     "output_type": "display_data"
    },
    {
     "data": {
      "application/vnd.jupyter.widget-view+json": {
       "model_id": "f85047adba0f475596f9cc79dc4826ce",
       "version_major": 2,
       "version_minor": 0
      },
      "text/plain": [
       "  0%|          | 0/12 [00:00<?, ?it/s]"
      ]
     },
     "metadata": {},
     "output_type": "display_data"
    },
    {
     "name": "stdout",
     "output_type": "stream",
     "text": [
      "[[2358  220]\n",
      " [ 186   55]]\n",
      "              precision    recall  f1-score   support\n",
      "\n",
      "       0: 정상       0.93      0.91      0.92      2578\n",
      "       1: 이상       0.20      0.23      0.21       241\n",
      "\n",
      "    accuracy                           0.86      2819\n",
      "   macro avg       0.56      0.57      0.57      2819\n",
      "weighted avg       0.86      0.86      0.86      2819\n",
      "\n",
      "Epoch [28], Train Loss : [0.02119] Val Loss : [0.02978] Val F1 Score : [0.56696]\n",
      "Epoch 00029: reducing learning rate of group 0 to 2.4414e-06.\n"
     ]
    },
    {
     "data": {
      "application/vnd.jupyter.widget-view+json": {
       "model_id": "2454a124d3c540a6b607f2be7e1adc92",
       "version_major": 2,
       "version_minor": 0
      },
      "text/plain": [
       "  0%|          | 0/45 [00:00<?, ?it/s]"
      ]
     },
     "metadata": {},
     "output_type": "display_data"
    },
    {
     "data": {
      "application/vnd.jupyter.widget-view+json": {
       "model_id": "62a77e9765914a45829f7e89a0b8836b",
       "version_major": 2,
       "version_minor": 0
      },
      "text/plain": [
       "  0%|          | 0/12 [00:00<?, ?it/s]"
      ]
     },
     "metadata": {},
     "output_type": "display_data"
    },
    {
     "name": "stdout",
     "output_type": "stream",
     "text": [
      "[[2292  286]\n",
      " [ 174   67]]\n",
      "              precision    recall  f1-score   support\n",
      "\n",
      "       0: 정상       0.93      0.89      0.91      2578\n",
      "       1: 이상       0.19      0.28      0.23       241\n",
      "\n",
      "    accuracy                           0.84      2819\n",
      "   macro avg       0.56      0.58      0.57      2819\n",
      "weighted avg       0.87      0.84      0.85      2819\n",
      "\n",
      "Epoch [29], Train Loss : [0.02109] Val Loss : [0.02923] Val F1 Score : [0.56720]\n",
      "Student Train Best Score는 0.5887035398869854 입니다.\n"
     ]
    }
   ],
   "source": [
    "student_model = Student()\n",
    "student_model.eval()\n",
    "optimizer = torch.optim.Adam(student_model.parameters(), lr=CFG['LEARNING_RATE'])\n",
    "scheduler = torch.optim.lr_scheduler.ReduceLROnPlateau(optimizer, mode='max', factor=0.5, patience=1, threshold_mode='abs',min_lr=1e-8, verbose=True)\n",
    "\n",
    "best_student_model = student_train(student_model, teacher_model, optimizer, train_loader, val_loader, scheduler, device)\n"
   ]
  },
  {
   "cell_type": "code",
   "execution_count": 235,
   "id": "5de1a60c",
   "metadata": {},
   "outputs": [],
   "source": [
    "PATH1 = f\"./models/{file_version}_student_net.pth\"\n",
    "torch.save(best_student_model.state_dict(), PATH1)"
   ]
  },
  {
   "cell_type": "code",
   "execution_count": 236,
   "id": "bc7d4e89",
   "metadata": {},
   "outputs": [
    {
     "data": {
      "text/plain": [
       "Student(\n",
       "  (classifier): Sequential(\n",
       "    (0): Linear(in_features=34, out_features=128, bias=True)\n",
       "    (1): Dropout(p=0, inplace=False)\n",
       "    (2): BatchNorm1d(128, eps=1e-05, momentum=0.1, affine=True, track_running_stats=True)\n",
       "    (3): LeakyReLU(negative_slope=0.01)\n",
       "    (4): Linear(in_features=128, out_features=512, bias=True)\n",
       "    (5): Dropout(p=0, inplace=False)\n",
       "    (6): BatchNorm1d(512, eps=1e-05, momentum=0.1, affine=True, track_running_stats=True)\n",
       "    (7): LeakyReLU(negative_slope=0.01)\n",
       "    (8): Linear(in_features=512, out_features=128, bias=True)\n",
       "    (9): Dropout(p=0, inplace=False)\n",
       "    (10): BatchNorm1d(128, eps=1e-05, momentum=0.1, affine=True, track_running_stats=True)\n",
       "    (11): LeakyReLU(negative_slope=0.01)\n",
       "    (12): Linear(in_features=128, out_features=1, bias=True)\n",
       "    (13): Sigmoid()\n",
       "  )\n",
       ")"
      ]
     },
     "execution_count": 236,
     "metadata": {},
     "output_type": "execute_result"
    }
   ],
   "source": [
    "best_student_model = Student()\n",
    "best_student_model.load_state_dict(torch.load(PATH1))\n",
    "best_student_model"
   ]
  },
  {
   "cell_type": "code",
   "execution_count": 241,
   "id": "836d8f5a",
   "metadata": {},
   "outputs": [],
   "source": [
    "def choose_threshold(model, val_loader, device):\n",
    "    model.to(device)\n",
    "    model.eval()\n",
    "    \n",
    "#     thresholds = [0.1, 0.2, 0.25, 0.3, 0.35, 0.4, 0.45, 0.5]\n",
    "    thresholds = [0.05, 0.1, 0.15, 0.2, 0.25, 0.3]\n",
    "\n",
    "    pred_labels = []\n",
    "    true_labels = []\n",
    "    \n",
    "    best_score = 0\n",
    "    best_thr = None\n",
    "    with torch.no_grad():\n",
    "        for _, x_s, y in tqdm(iter(val_loader)):\n",
    "            x_s = x_s.float().to(device)\n",
    "            y = y.float().to(device)\n",
    "            \n",
    "            model_pred = model(x_s)\n",
    "            \n",
    "            model_pred = model_pred.squeeze(1).to('cpu')\n",
    "            pred_labels += model_pred.tolist()\n",
    "            true_labels += y.tolist()\n",
    "        \n",
    "        for threshold in thresholds:\n",
    "            pred_labels_thr = np.where(np.array(pred_labels) > threshold, 1, 0)\n",
    "            score_thr = competition_metric(true_labels, pred_labels_thr)\n",
    "            cf1 = confusion_matrix(true_labels, pred_labels_thr)  \n",
    "            \n",
    "            print(cf1)\n",
    "            print(classification_report(true_labels, pred_labels_thr, target_names=[\"0: 정상\", \"1: 이상\"]))\n",
    "            \n",
    "            if best_score < score_thr:\n",
    "                best_score = score_thr\n",
    "                best_thr = threshold\n",
    "    return best_thr, best_score"
   ]
  },
  {
   "cell_type": "code",
   "execution_count": 243,
   "id": "8a59538f",
   "metadata": {
    "scrolled": false
   },
   "outputs": [
    {
     "data": {
      "application/vnd.jupyter.widget-view+json": {
       "model_id": "1c9ea531bc3e4e42bf7dc344be5086d5",
       "version_major": 2,
       "version_minor": 0
      },
      "text/plain": [
       "  0%|          | 0/12 [00:00<?, ?it/s]"
      ]
     },
     "metadata": {},
     "output_type": "display_data"
    },
    {
     "name": "stdout",
     "output_type": "stream",
     "text": [
      "[[1300 1278]\n",
      " [  76  165]]\n",
      "              precision    recall  f1-score   support\n",
      "\n",
      "       0: 정상       0.94      0.50      0.66      2578\n",
      "       1: 이상       0.11      0.68      0.20       241\n",
      "\n",
      "    accuracy                           0.52      2819\n",
      "   macro avg       0.53      0.59      0.43      2819\n",
      "weighted avg       0.87      0.52      0.62      2819\n",
      "\n",
      "[[1766  812]\n",
      " [ 108  133]]\n",
      "              precision    recall  f1-score   support\n",
      "\n",
      "       0: 정상       0.94      0.69      0.79      2578\n",
      "       1: 이상       0.14      0.55      0.22       241\n",
      "\n",
      "    accuracy                           0.67      2819\n",
      "   macro avg       0.54      0.62      0.51      2819\n",
      "weighted avg       0.87      0.67      0.74      2819\n",
      "\n",
      "[[2080  498]\n",
      " [ 145   96]]\n",
      "              precision    recall  f1-score   support\n",
      "\n",
      "       0: 정상       0.93      0.81      0.87      2578\n",
      "       1: 이상       0.16      0.40      0.23       241\n",
      "\n",
      "    accuracy                           0.77      2819\n",
      "   macro avg       0.55      0.60      0.55      2819\n",
      "weighted avg       0.87      0.77      0.81      2819\n",
      "\n",
      "[[2292  286]\n",
      " [ 174   67]]\n",
      "              precision    recall  f1-score   support\n",
      "\n",
      "       0: 정상       0.93      0.89      0.91      2578\n",
      "       1: 이상       0.19      0.28      0.23       241\n",
      "\n",
      "    accuracy                           0.84      2819\n",
      "   macro avg       0.56      0.58      0.57      2819\n",
      "weighted avg       0.87      0.84      0.85      2819\n",
      "\n",
      "[[2417  161]\n",
      " [ 194   47]]\n",
      "              precision    recall  f1-score   support\n",
      "\n",
      "       0: 정상       0.93      0.94      0.93      2578\n",
      "       1: 이상       0.23      0.20      0.21       241\n",
      "\n",
      "    accuracy                           0.87      2819\n",
      "   macro avg       0.58      0.57      0.57      2819\n",
      "weighted avg       0.87      0.87      0.87      2819\n",
      "\n",
      "[[2481   97]\n",
      " [ 206   35]]\n",
      "              precision    recall  f1-score   support\n",
      "\n",
      "       0: 정상       0.92      0.96      0.94      2578\n",
      "       1: 이상       0.27      0.15      0.19       241\n",
      "\n",
      "    accuracy                           0.89      2819\n",
      "   macro avg       0.59      0.55      0.57      2819\n",
      "weighted avg       0.87      0.89      0.88      2819\n",
      "\n"
     ]
    },
    {
     "data": {
      "application/vnd.jupyter.widget-view+json": {
       "model_id": "0486c54228ad4316ad569569ffd98037",
       "version_major": 2,
       "version_minor": 0
      },
      "text/plain": [
       "  0%|          | 0/12 [00:00<?, ?it/s]"
      ]
     },
     "metadata": {},
     "output_type": "display_data"
    },
    {
     "name": "stdout",
     "output_type": "stream",
     "text": [
      "[[1300 1278]\n",
      " [  76  165]]\n",
      "              precision    recall  f1-score   support\n",
      "\n",
      "       0: 정상       0.94      0.50      0.66      2578\n",
      "       1: 이상       0.11      0.68      0.20       241\n",
      "\n",
      "    accuracy                           0.52      2819\n",
      "   macro avg       0.53      0.59      0.43      2819\n",
      "weighted avg       0.87      0.52      0.62      2819\n",
      "\n",
      "[[1766  812]\n",
      " [ 108  133]]\n",
      "              precision    recall  f1-score   support\n",
      "\n",
      "       0: 정상       0.94      0.69      0.79      2578\n",
      "       1: 이상       0.14      0.55      0.22       241\n",
      "\n",
      "    accuracy                           0.67      2819\n",
      "   macro avg       0.54      0.62      0.51      2819\n",
      "weighted avg       0.87      0.67      0.74      2819\n",
      "\n",
      "[[2080  498]\n",
      " [ 145   96]]\n",
      "              precision    recall  f1-score   support\n",
      "\n",
      "       0: 정상       0.93      0.81      0.87      2578\n",
      "       1: 이상       0.16      0.40      0.23       241\n",
      "\n",
      "    accuracy                           0.77      2819\n",
      "   macro avg       0.55      0.60      0.55      2819\n",
      "weighted avg       0.87      0.77      0.81      2819\n",
      "\n",
      "[[2292  286]\n",
      " [ 174   67]]\n",
      "              precision    recall  f1-score   support\n",
      "\n",
      "       0: 정상       0.93      0.89      0.91      2578\n",
      "       1: 이상       0.19      0.28      0.23       241\n",
      "\n",
      "    accuracy                           0.84      2819\n",
      "   macro avg       0.56      0.58      0.57      2819\n",
      "weighted avg       0.87      0.84      0.85      2819\n",
      "\n",
      "[[2417  161]\n",
      " [ 194   47]]\n",
      "              precision    recall  f1-score   support\n",
      "\n",
      "       0: 정상       0.93      0.94      0.93      2578\n",
      "       1: 이상       0.23      0.20      0.21       241\n",
      "\n",
      "    accuracy                           0.87      2819\n",
      "   macro avg       0.58      0.57      0.57      2819\n",
      "weighted avg       0.87      0.87      0.87      2819\n",
      "\n",
      "[[2481   97]\n",
      " [ 206   35]]\n",
      "              precision    recall  f1-score   support\n",
      "\n",
      "       0: 정상       0.92      0.96      0.94      2578\n",
      "       1: 이상       0.27      0.15      0.19       241\n",
      "\n",
      "    accuracy                           0.89      2819\n",
      "   macro avg       0.59      0.55      0.57      2819\n",
      "weighted avg       0.87      0.89      0.88      2819\n",
      "\n",
      "Best Threshold : [0.25], Score : [0.57047]\n"
     ]
    }
   ],
   "source": [
    "choose_threshold(best_student_model, val_loader, device)\n",
    "best_threshold, best_score = choose_threshold(best_student_model, val_loader, device)\n",
    "choose_threshold_result = f'Best Threshold : [{best_threshold}], Score : [{best_score:.5f}]'\n",
    "print(choose_threshold_result)"
   ]
  },
  {
   "cell_type": "code",
   "execution_count": 244,
   "id": "e75a3739",
   "metadata": {},
   "outputs": [],
   "source": [
    "test_datasets = CustomDataset(test, None, False)\n",
    "test_loaders = DataLoader(test_datasets, batch_size = CFG['BATCH_SIZE'], shuffle=False)"
   ]
  },
  {
   "cell_type": "code",
   "execution_count": 245,
   "id": "7f3df6cb",
   "metadata": {},
   "outputs": [],
   "source": [
    "def inference(model, test_loader, threshold, device):\n",
    "    model.to(device)\n",
    "    model.eval()\n",
    "    # .eval함수는 evaluation 과정에서 사용하지 말아야 하는 layer들을 알아서 off 시키는 함수\n",
    "    \n",
    "    test_predict = []\n",
    "    with torch.no_grad():\n",
    "        for x in tqdm(test_loader):\n",
    "            x = x.float().to(device)\n",
    "            model_pred = model(x)\n",
    "\n",
    "            model_pred = model_pred.squeeze(1).to('cpu')\n",
    "            test_predict += model_pred\n",
    "        \n",
    "    test_predict = np.where(np.array(test_predict) > threshold, 1, 0)  \n",
    "    # threshhold 보다 큰 값을 찾아서 1로 바꾸고, 아닌 것은 0으로 변경해라\n",
    "    print('Done.')\n",
    "    return test_predict"
   ]
  },
  {
   "cell_type": "code",
   "execution_count": 246,
   "id": "e432dba7",
   "metadata": {},
   "outputs": [
    {
     "data": {
      "application/vnd.jupyter.widget-view+json": {
       "model_id": "b546932f35d54be28c9109fe1d7420c7",
       "version_major": 2,
       "version_minor": 0
      },
      "text/plain": [
       "  0%|          | 0/24 [00:00<?, ?it/s]"
      ]
     },
     "metadata": {},
     "output_type": "display_data"
    },
    {
     "name": "stdout",
     "output_type": "stream",
     "text": [
      "Done.\n"
     ]
    }
   ],
   "source": [
    "preds = inference(best_student_model, test_loaders, best_threshold, device)"
   ]
  },
  {
   "cell_type": "code",
   "execution_count": 247,
   "id": "3a2081a5",
   "metadata": {},
   "outputs": [
    {
     "data": {
      "text/html": [
       "<div>\n",
       "<style scoped>\n",
       "    .dataframe tbody tr th:only-of-type {\n",
       "        vertical-align: middle;\n",
       "    }\n",
       "\n",
       "    .dataframe tbody tr th {\n",
       "        vertical-align: top;\n",
       "    }\n",
       "\n",
       "    .dataframe thead th {\n",
       "        text-align: right;\n",
       "    }\n",
       "</style>\n",
       "<table border=\"1\" class=\"dataframe\">\n",
       "  <thead>\n",
       "    <tr style=\"text-align: right;\">\n",
       "      <th></th>\n",
       "      <th>ID</th>\n",
       "      <th>Y_LABEL</th>\n",
       "    </tr>\n",
       "  </thead>\n",
       "  <tbody>\n",
       "    <tr>\n",
       "      <th>0</th>\n",
       "      <td>TEST_0000</td>\n",
       "      <td>0</td>\n",
       "    </tr>\n",
       "    <tr>\n",
       "      <th>1</th>\n",
       "      <td>TEST_0001</td>\n",
       "      <td>0</td>\n",
       "    </tr>\n",
       "    <tr>\n",
       "      <th>2</th>\n",
       "      <td>TEST_0002</td>\n",
       "      <td>0</td>\n",
       "    </tr>\n",
       "    <tr>\n",
       "      <th>3</th>\n",
       "      <td>TEST_0003</td>\n",
       "      <td>0</td>\n",
       "    </tr>\n",
       "    <tr>\n",
       "      <th>4</th>\n",
       "      <td>TEST_0004</td>\n",
       "      <td>1</td>\n",
       "    </tr>\n",
       "  </tbody>\n",
       "</table>\n",
       "</div>"
      ],
      "text/plain": [
       "          ID  Y_LABEL\n",
       "0  TEST_0000        0\n",
       "1  TEST_0001        0\n",
       "2  TEST_0002        0\n",
       "3  TEST_0003        0\n",
       "4  TEST_0004        1"
      ]
     },
     "execution_count": 247,
     "metadata": {},
     "output_type": "execute_result"
    }
   ],
   "source": [
    "submit = pd.read_csv('./data/sample_submission.csv')\n",
    "submit['Y_LABEL'] = preds\n",
    "submit.head()"
   ]
  },
  {
   "cell_type": "code",
   "execution_count": 248,
   "id": "d486a345",
   "metadata": {},
   "outputs": [
    {
     "name": "stdout",
     "output_type": "stream",
     "text": [
      "정상값 개수 : 5615, 이상값 개수 : 426\n"
     ]
    }
   ],
   "source": [
    "pred_cnt = tuple(submit[\"Y_LABEL\"].value_counts())\n",
    "a, b = pred_cnt\n",
    "r = f\"정상값 개수 : {a}, 이상값 개수 : {b}\"\n",
    "print(r)"
   ]
  },
  {
   "cell_type": "code",
   "execution_count": 249,
   "id": "84b73f00",
   "metadata": {},
   "outputs": [],
   "source": [
    "submit.to_csv(f'./submits/submit{file_version}.csv', index=False)"
   ]
  },
  {
   "cell_type": "code",
   "execution_count": 250,
   "id": "84905804",
   "metadata": {},
   "outputs": [
    {
     "data": {
      "text/plain": [
       "{'ver': 25,\n",
       " 'CFG': {'EPOCHS': 30,\n",
       "  'LEARNING_RATE': 0.01,\n",
       "  'BATCH_SIZE': 256,\n",
       "  'SEED': 43,\n",
       "  '보간값적용': '최빈값',\n",
       "  'log_transform_turn': 1,\n",
       "  'skew_cut': 0.01,\n",
       "  'vif_cut': 10,\n",
       "  'corr_cut': 0.005,\n",
       "  'outlier_corr_cut': 100,\n",
       "  'T_Thresh': 0.2,\n",
       "  'S_Thresh': 0.2,\n",
       "  'reduct': 'mean',\n",
       "  'drop_rate': 0},\n",
       " 'Val_result': 'Best Threshold : [0.25], Score : [0.57047]',\n",
       " 'pred_cnt': '정상값 개수 : 5615, 이상값 개수 : 426'}"
      ]
     },
     "execution_count": 250,
     "metadata": {},
     "output_type": "execute_result"
    }
   ],
   "source": [
    "record = {\"ver\": file_version, \"CFG\": CFG, \"Val_result\": choose_threshold_result, \"pred_cnt\": r}\n",
    "record"
   ]
  },
  {
   "cell_type": "code",
   "execution_count": null,
   "id": "12282840",
   "metadata": {},
   "outputs": [],
   "source": []
  },
  {
   "cell_type": "code",
   "execution_count": null,
   "id": "b05f3449",
   "metadata": {},
   "outputs": [],
   "source": []
  },
  {
   "cell_type": "code",
   "execution_count": null,
   "id": "6de4a6b9",
   "metadata": {},
   "outputs": [],
   "source": []
  },
  {
   "cell_type": "code",
   "execution_count": null,
   "id": "288462ba",
   "metadata": {},
   "outputs": [],
   "source": []
  },
  {
   "cell_type": "code",
   "execution_count": null,
   "id": "3af48d59",
   "metadata": {},
   "outputs": [],
   "source": []
  },
  {
   "cell_type": "code",
   "execution_count": null,
   "id": "5ad0062d",
   "metadata": {},
   "outputs": [],
   "source": []
  }
 ],
 "metadata": {
  "kernelspec": {
   "display_name": "Python 3 (ipykernel)",
   "language": "python",
   "name": "python3"
  },
  "language_info": {
   "codemirror_mode": {
    "name": "ipython",
    "version": 3
   },
   "file_extension": ".py",
   "mimetype": "text/x-python",
   "name": "python",
   "nbconvert_exporter": "python",
   "pygments_lexer": "ipython3",
   "version": "3.8.10"
  }
 },
 "nbformat": 4,
 "nbformat_minor": 5
}
