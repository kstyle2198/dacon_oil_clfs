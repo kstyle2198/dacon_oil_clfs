{
 "cells": [
  {
   "cell_type": "code",
   "execution_count": 78,
   "id": "1263ac9c",
   "metadata": {},
   "outputs": [],
   "source": [
    "import torch\n",
    "import torch.nn as nn\n",
    "import torch.nn.functional as F\n",
    "import torch.optim as optim\n",
    "from torch.utils.data import DataLoader, Dataset\n",
    "\n",
    "from sklearn.metrics import f1_score, confusion_matrix, classification_report\n",
    "from sklearn.compose import ColumnTransformer\n",
    "from sklearn.preprocessing import StandardScaler, MinMaxScaler, RobustScaler\n",
    "from sklearn.preprocessing import LabelEncoder, OneHotEncoder\n",
    "from sklearn.model_selection import train_test_split\n",
    "from sklearn.model_selection import KFold, StratifiedKFold\n",
    "\n",
    "import os\n",
    "import pandas as pd\n",
    "import numpy as np\n",
    "from tqdm.auto import tqdm\n",
    "import random\n",
    "import matplotlib.pyplot as plt\n",
    "import seaborn as sns\n",
    "\n",
    "import warnings\n",
    "warnings.filterwarnings(action='ignore') \n",
    "\n",
    "device = torch.device('cuda') if torch.cuda.is_available() else torch.device('cpu')"
   ]
  },
  {
   "cell_type": "code",
   "execution_count": null,
   "id": "09d123af",
   "metadata": {},
   "outputs": [],
   "source": []
  },
  {
   "cell_type": "code",
   "execution_count": 79,
   "id": "bfb10c39",
   "metadata": {},
   "outputs": [],
   "source": [
    "file_version = 35\n",
    "CFG = {\n",
    "    'EPOCHS': 30,\n",
    "    'LEARNING_RATE':1e-2,    # 0.01\n",
    "    'BATCH_SIZE':256,  #256\n",
    "    'SEED':43,\n",
    "    'log_transform_turn': 1,  # 로그 트랜스폼을 몇번 돌릴 것인가?\n",
    "    'skew_cut':0.01,           # 왜도 얼마 이상을 로그값으로 정규화할 것인가?(100이면 안하겠다는 것)\n",
    "    'vif_cut': 10,           # 다중공선성 vif 얼마 이상을 제거할 것인가?\n",
    "    'corr_cut': 0.006,     # 일정 상관관계 이하 칼럼은 드랍\n",
    "    'outlier_corr_cut': 100,    # 이값 이상의 상관관계를 갖는 칼럼에 대해서만 아웃라이어 제거(100이면 미적용)\n",
    "    'T_Thresh': 0.35,     # Teacher model train Threshhold 최초 0.35\n",
    "    'S_Thresh': 0.35,     # Student model train Threshold 최초 0.35\n",
    "    'reduct' : 'sum',      # sum, mean\n",
    "    'drop_rate': 0.2,\n",
    "    \n",
    "}"
   ]
  },
  {
   "cell_type": "code",
   "execution_count": null,
   "id": "57dbc3c6",
   "metadata": {},
   "outputs": [],
   "source": []
  },
  {
   "cell_type": "code",
   "execution_count": 81,
   "id": "ec56d6d0",
   "metadata": {},
   "outputs": [],
   "source": [
    "import pickle\n",
    "#불러오기\n",
    "with open(f\"./data/{file_version}_refined_train_X\", 'rb') as pickle_filename:\n",
    "\ttrain_X = pickle.load(pickle_filename)\n",
    "\n",
    "with open(f\"./data/{file_version}_refined_train_y\", 'rb') as pickle_filename:\n",
    "\ttrain_y = pickle.load(pickle_filename)\n",
    "    \n",
    "with open(f\"./data/{file_version}_refined_val_X\", 'rb') as pickle_filename:\n",
    "\tval_X = pickle.load(pickle_filename)\n",
    "\n",
    "with open(f\"./data/{file_version}_refined_val_y\", 'rb') as pickle_filename:\n",
    "\tval_y = pickle.load(pickle_filename)     \n",
    "\n",
    "with open(f\"./data/{file_version}_refined_test\", 'rb') as pickle_filename:\n",
    "\ttest = pickle.load(pickle_filename)"
   ]
  },
  {
   "cell_type": "code",
   "execution_count": 82,
   "id": "f941e5ac",
   "metadata": {},
   "outputs": [
    {
     "data": {
      "text/plain": [
       "0.0    10314\n",
       "1.0      962\n",
       "Name: Y_LABEL, dtype: int64"
      ]
     },
     "execution_count": 82,
     "metadata": {},
     "output_type": "execute_result"
    }
   ],
   "source": [
    "train_y.value_counts()"
   ]
  },
  {
   "cell_type": "code",
   "execution_count": 93,
   "id": "701bb905",
   "metadata": {},
   "outputs": [
    {
     "data": {
      "text/plain": [
       "(11276, 40)"
      ]
     },
     "execution_count": 93,
     "metadata": {},
     "output_type": "execute_result"
    }
   ],
   "source": [
    "train_X.shape"
   ]
  },
  {
   "cell_type": "code",
   "execution_count": 83,
   "id": "14c25dc9",
   "metadata": {},
   "outputs": [
    {
     "data": {
      "text/plain": [
       "Index(['encoder__x0_COMPONENT2', 'encoder__x0_COMPONENT3',\n",
       "       'encoder__x0_COMPONENT4', 'encoder__x1_y2', 'encoder__x1_y3',\n",
       "       'encoder__x1_y4', 'encoder__x1_y5', 'ANONYMOUS_1', 'ANONYMOUS_2', 'AG',\n",
       "       'CO', 'CR', 'CU', 'FE', 'H2O', 'MN', 'MO', 'NI', 'PQINDEX', 'TI', 'V',\n",
       "       'V40', 'ZN'],\n",
       "      dtype='object')"
      ]
     },
     "execution_count": 83,
     "metadata": {},
     "output_type": "execute_result"
    }
   ],
   "source": [
    "test_stage_features = test.columns\n",
    "test_stage_features"
   ]
  },
  {
   "cell_type": "code",
   "execution_count": 91,
   "id": "b34ab6a5",
   "metadata": {},
   "outputs": [
    {
     "data": {
      "text/plain": [
       "3283     0.0\n",
       "9759     0.0\n",
       "174      0.0\n",
       "12815    0.0\n",
       "14017    0.0\n",
       "        ... \n",
       "12579    0.0\n",
       "12507    0.0\n",
       "10069    0.0\n",
       "13857    0.0\n",
       "4433     0.0\n",
       "Name: Y_LABEL, Length: 11276, dtype: float64"
      ]
     },
     "execution_count": 91,
     "metadata": {},
     "output_type": "execute_result"
    }
   ],
   "source": [
    "train_y"
   ]
  },
  {
   "cell_type": "code",
   "execution_count": 84,
   "id": "70b66e42",
   "metadata": {},
   "outputs": [
    {
     "data": {
      "text/plain": [
       "23"
      ]
     },
     "execution_count": 84,
     "metadata": {},
     "output_type": "execute_result"
    }
   ],
   "source": [
    "len(test_stage_features)"
   ]
  },
  {
   "cell_type": "code",
   "execution_count": 85,
   "id": "6aa346ca",
   "metadata": {},
   "outputs": [],
   "source": [
    "class CustomDataset(Dataset):\n",
    "    def __init__(self, data_X, data_y, distillation=False):\n",
    "        super(CustomDataset, self).__init__()\n",
    "        self.data_X = data_X\n",
    "        self.data_y = data_y\n",
    "        self.distillation = distillation\n",
    "        \n",
    "    def __len__(self):\n",
    "        return len(self.data_X)\n",
    "    \n",
    "    def __getitem__(self, index):\n",
    "        if self.distillation:\n",
    "            # 지식 증류 학습 시\n",
    "            teacher_X = torch.Tensor(self.data_X.iloc[index])\n",
    "            student_X = torch.Tensor(self.data_X[test_stage_features].iloc[index])\n",
    "            y = self.data_y.values[index]\n",
    "            return teacher_X, student_X, y\n",
    "        else:\n",
    "            if self.data_y is None:\n",
    "                test_X = torch.Tensor(self.data_X.iloc[index])\n",
    "                return test_X\n",
    "            else:\n",
    "                teacher_X = torch.Tensor(self.data_X.iloc[index])\n",
    "                y = self.data_y.values[index]\n",
    "                return teacher_X, y"
   ]
  },
  {
   "cell_type": "code",
   "execution_count": 86,
   "id": "b65a5729",
   "metadata": {},
   "outputs": [
    {
     "data": {
      "text/plain": [
       "[(tensor([ 1.0000,  0.0000,  0.0000,  0.0000,  0.0000,  0.0000,  1.0000,  0.0000,\n",
       "           1.0000, -1.0430,  1.0329, -0.1537, -0.4862, -1.1424, -0.4931, -0.0544,\n",
       "           0.9904, -0.1017,  5.6677, -0.0957,  2.2429,  0.6061, -0.0969, -0.3229,\n",
       "          -0.2594, -0.2194,  0.4350, -0.3730, -0.4347,  0.8037,  0.2552, -0.6452,\n",
       "          -2.0525, -0.4578, -0.8064,  1.2249, -0.2640, -0.1545, -1.9767,  0.5502]),\n",
       "  0.0)]"
      ]
     },
     "execution_count": 86,
     "metadata": {},
     "output_type": "execute_result"
    }
   ],
   "source": [
    "train_dataset = CustomDataset(train_X, train_y, False)\n",
    "val_dataset = CustomDataset(val_X, val_y, False)\n",
    "list(train_dataset)[:1]"
   ]
  },
  {
   "cell_type": "code",
   "execution_count": 92,
   "id": "92037423",
   "metadata": {},
   "outputs": [
    {
     "data": {
      "text/plain": [
       "[[tensor([[ 0.0000,  1.0000,  0.0000,  ..., -0.1545, -1.0558,  0.8471],\n",
       "          [ 0.0000,  0.0000,  1.0000,  ..., -0.1545, -1.2658,  0.9663],\n",
       "          [ 0.0000,  1.0000,  0.0000,  ..., -0.1545,  0.2399,  0.8738],\n",
       "          ...,\n",
       "          [ 0.0000,  0.0000,  1.0000,  ..., -0.1545, -0.6378,  0.8776],\n",
       "          [ 0.0000,  1.0000,  0.0000,  ..., -0.1545,  0.5086, -0.6609],\n",
       "          [ 0.0000,  1.0000,  0.0000,  ..., -0.1545,  0.9170, -1.7116]]),\n",
       "  tensor([0., 0., 0., 0., 0., 0., 0., 0., 0., 0., 0., 0., 0., 0., 0., 0., 1., 0.,\n",
       "          0., 0., 0., 0., 0., 0., 0., 0., 0., 0., 1., 0., 0., 0., 1., 0., 0., 0.,\n",
       "          0., 0., 0., 0., 0., 0., 0., 0., 0., 0., 0., 0., 0., 0., 1., 0., 0., 0.,\n",
       "          0., 0., 0., 0., 0., 0., 0., 0., 0., 0., 0., 0., 0., 0., 0., 1., 0., 0.,\n",
       "          1., 0., 0., 0., 0., 0., 0., 0., 0., 0., 0., 0., 0., 0., 0., 0., 0., 0.,\n",
       "          0., 0., 0., 0., 0., 0., 0., 0., 0., 0., 0., 0., 0., 0., 0., 0., 0., 0.,\n",
       "          0., 0., 0., 0., 0., 0., 0., 0., 0., 0., 0., 0., 0., 0., 0., 0., 0., 0.,\n",
       "          0., 0., 0., 0., 0., 0., 0., 0., 0., 0., 0., 0., 0., 0., 0., 0., 0., 1.,\n",
       "          0., 0., 0., 0., 0., 0., 1., 0., 0., 0., 0., 0., 0., 0., 1., 0., 0., 0.,\n",
       "          0., 0., 0., 0., 0., 0., 0., 1., 0., 1., 0., 0., 0., 0., 0., 0., 0., 1.,\n",
       "          0., 0., 0., 0., 0., 0., 0., 0., 0., 0., 1., 0., 0., 0., 0., 0., 0., 1.,\n",
       "          0., 0., 0., 0., 0., 0., 0., 0., 0., 0., 0., 0., 1., 0., 1., 0., 0., 0.,\n",
       "          0., 0., 0., 0., 0., 0., 0., 0., 0., 0., 0., 0., 0., 0., 0., 0., 0., 0.,\n",
       "          0., 0., 0., 0., 0., 0., 0., 1., 0., 1., 0., 0., 0., 0., 0., 0., 0., 0.,\n",
       "          0., 0., 0., 0.], dtype=torch.float64)]]"
      ]
     },
     "execution_count": 92,
     "metadata": {},
     "output_type": "execute_result"
    }
   ],
   "source": [
    "train_loader = DataLoader(train_dataset, batch_size = CFG['BATCH_SIZE'], shuffle=True)\n",
    "val_loader = DataLoader(val_dataset, batch_size = CFG['BATCH_SIZE'], shuffle=False)\n",
    "list(train_loader)[:1] "
   ]
  },
  {
   "cell_type": "code",
   "execution_count": null,
   "id": "a21e3765",
   "metadata": {},
   "outputs": [],
   "source": []
  },
  {
   "cell_type": "code",
   "execution_count": null,
   "id": "f4e01e2a",
   "metadata": {},
   "outputs": [],
   "source": []
  },
  {
   "cell_type": "code",
   "execution_count": 50,
   "id": "bf1f82d6",
   "metadata": {},
   "outputs": [],
   "source": [
    "class Teacher(nn.Module):\n",
    "    def __init__(self):\n",
    "        super(Teacher, self).__init__()\n",
    "        self.classifier = nn.Sequential(\n",
    "            nn.Linear(in_features=train_col_num, out_features=256),\n",
    "            nn.Dropout(p=CFG['drop_rate']),\n",
    "            nn.BatchNorm1d(256),\n",
    "            nn.LeakyReLU(),\n",
    "            nn.Linear(in_features=256, out_features=1024),\n",
    "            nn.Dropout(p=CFG['drop_rate']),\n",
    "            nn.BatchNorm1d(1024),\n",
    "            nn.LeakyReLU(),\n",
    "            nn.Linear(in_features=1024, out_features=256),\n",
    "            nn.Dropout(p=CFG['drop_rate']),\n",
    "            nn.BatchNorm1d(256),\n",
    "            nn.LeakyReLU(),\n",
    "            nn.Linear(in_features=256, out_features=1),\n",
    "            nn.Sigmoid()\n",
    "        )\n",
    "        \n",
    "    def forward(self, x):\n",
    "        output = self.classifier(x)\n",
    "        return output"
   ]
  },
  {
   "cell_type": "code",
   "execution_count": 51,
   "id": "7df40f71",
   "metadata": {},
   "outputs": [],
   "source": [
    "def train(model, optimizer, train_loader, val_loader, scheduler, device):\n",
    "    model.to(device)\n",
    "\n",
    "    best_score = 0\n",
    "    best_model = None\n",
    "    \n",
    "    # Loss Function 정의\n",
    "    criterion = nn.BCELoss(reduction = CFG['reduct']).to(device)  #BCEWithLogitsLoss\n",
    "#     criterion = nn.BCEWithLogitsLoss(reduction = CFG['reduct']).to(device)  #BCEWithLogitsLoss\n",
    "\n",
    "    for epoch in range(CFG[\"EPOCHS\"]):\n",
    "        train_loss = []\n",
    "  \n",
    "        model.train()\n",
    "        for X, y in tqdm(train_loader):\n",
    "            X = X.float().to(device)\n",
    "            y = y.float().to(device)\n",
    "            \n",
    "            optimizer.zero_grad()\n",
    "            \n",
    "            y_pred = model(X)\n",
    "            \n",
    "            loss = criterion(y_pred, y.reshape(-1, 1))  # loss_fn(input, target)\n",
    "            loss.backward()\n",
    "            \n",
    "            optimizer.step()\n",
    "\n",
    "            train_loss.append(loss.item())\n",
    "\n",
    "        val_loss, val_score = validation_teacher(model, val_loader, criterion, device)\n",
    "        print(f'Epoch [{epoch}], Train Loss : [{np.mean(train_loss) :.5f}] Val Loss : [{np.mean(val_loss) :.5f}] Val F1 Score : [{val_score:.5f}]')\n",
    "\n",
    "        if scheduler is not None:\n",
    "            scheduler.step(val_score)\n",
    "            \n",
    "        if best_score < val_score:\n",
    "            best_model = model\n",
    "            best_score = val_score\n",
    "    print(f\"Teacher Train Best Score는 {best_score} 입니다.\")\n",
    "    return best_model "
   ]
  },
  {
   "cell_type": "code",
   "execution_count": 52,
   "id": "db9ba187",
   "metadata": {},
   "outputs": [],
   "source": [
    "def competition_metric(true, pred):\n",
    "    return f1_score(true, pred, average=\"macro\")\n",
    "\n",
    "\n",
    "def validation_teacher(model, val_loader, criterion, device):\n",
    "    model.eval()\n",
    "\n",
    "    val_loss = []\n",
    "    pred_labels = []\n",
    "    true_labels = []\n",
    "    threshold = CFG['T_Thresh']     \n",
    "    \n",
    "    with torch.no_grad():\n",
    "        for X, y in tqdm(val_loader):\n",
    "            X = X.float().to(device)\n",
    "            y = y.float().to(device)\n",
    "            \n",
    "            model_pred = model(X.to(device))\n",
    "            \n",
    "            loss = criterion(model_pred, y.reshape(-1, 1))\n",
    "            val_loss.append(loss.item())      \n",
    "            \n",
    "            model_pred = model_pred.squeeze(1).to('cpu')  # squeeze함수는 차원이 1인 차원을 제거해준다.\n",
    "            pred_labels += model_pred.tolist()\n",
    "            true_labels += y.tolist()\n",
    "        \n",
    "        #print(pred_labels[0:10])\n",
    "        # 오일상태는 0: 정상, 1: 이상\n",
    "        # 어느 임계점 thrshold보다 큰 예측 라벨을 1로 하고, 나머지를 0으로 할 것인가?\n",
    "        pred_labels = np.where(np.array(pred_labels) > threshold, 1, 0)\n",
    "        #print(pred_labels[0:10])\n",
    "        cf = confusion_matrix(true_labels, pred_labels)\n",
    "        val_f1 = competition_metric(true_labels, pred_labels)\n",
    "        \n",
    "        print(cf)\n",
    "        print(classification_report(true_labels, pred_labels, target_names=[\"0: 정상\", \"1: 이상\"]))\n",
    "    return val_loss, val_f1"
   ]
  },
  {
   "cell_type": "code",
   "execution_count": 53,
   "id": "b7f5df3f",
   "metadata": {},
   "outputs": [
    {
     "name": "stdout",
     "output_type": "stream",
     "text": [
      "40 23\n"
     ]
    }
   ],
   "source": [
    "train_col_num = len(train_X.columns)\n",
    "test_col_num = len(test.columns)\n",
    "print(train_col_num, test_col_num) # Drop후 칼럼 갯수 (nn 시작 노드 갯수에 맞춰주기 위해 변수에 담아놓음)"
   ]
  },
  {
   "cell_type": "code",
   "execution_count": 54,
   "id": "5aee19aa",
   "metadata": {},
   "outputs": [
    {
     "data": {
      "text/plain": [
       "Index(['encoder__x0_COMPONENT2', 'encoder__x0_COMPONENT3',\n",
       "       'encoder__x0_COMPONENT4', 'encoder__x1_y2', 'encoder__x1_y3',\n",
       "       'encoder__x1_y4', 'encoder__x1_y5', 'encoder__x2_s2', 'encoder__x2_s3',\n",
       "       'ANONYMOUS_1', 'ANONYMOUS_2', 'AG', 'AL', 'B', 'BA', 'BE', 'CA', 'CD',\n",
       "       'CO', 'CR', 'CU', 'FE', 'H2O', 'K', 'LI', 'MG', 'MN', 'MO', 'NA', 'NI',\n",
       "       'PB', 'PQINDEX', 'S', 'SB', 'SI', 'SN', 'TI', 'V', 'V40', 'ZN'],\n",
       "      dtype='object')"
      ]
     },
     "execution_count": 54,
     "metadata": {},
     "output_type": "execute_result"
    }
   ],
   "source": [
    "train_X.columns"
   ]
  },
  {
   "cell_type": "code",
   "execution_count": 55,
   "id": "34204ef5",
   "metadata": {},
   "outputs": [
    {
     "data": {
      "text/plain": [
       "Index(['encoder__x0_COMPONENT2', 'encoder__x0_COMPONENT3',\n",
       "       'encoder__x0_COMPONENT4', 'encoder__x1_y2', 'encoder__x1_y3',\n",
       "       'encoder__x1_y4', 'encoder__x1_y5', 'ANONYMOUS_1', 'ANONYMOUS_2', 'AG',\n",
       "       'CO', 'CR', 'CU', 'FE', 'H2O', 'MN', 'MO', 'NI', 'PQINDEX', 'TI', 'V',\n",
       "       'V40', 'ZN'],\n",
       "      dtype='object')"
      ]
     },
     "execution_count": 55,
     "metadata": {},
     "output_type": "execute_result"
    }
   ],
   "source": [
    "test_stage_features = test.columns\n",
    "test_stage_features"
   ]
  },
  {
   "cell_type": "code",
   "execution_count": 56,
   "id": "7ce85637",
   "metadata": {},
   "outputs": [
    {
     "data": {
      "text/plain": [
       "23"
      ]
     },
     "execution_count": 56,
     "metadata": {},
     "output_type": "execute_result"
    }
   ],
   "source": [
    "test_col_num"
   ]
  },
  {
   "cell_type": "code",
   "execution_count": 57,
   "id": "e4a8234a",
   "metadata": {
    "scrolled": false
   },
   "outputs": [
    {
     "data": {
      "application/vnd.jupyter.widget-view+json": {
       "model_id": "adeab7e2d6c549d5afc762ac0126625d",
       "version_major": 2,
       "version_minor": 0
      },
      "text/plain": [
       "  0%|          | 0/45 [00:00<?, ?it/s]"
      ]
     },
     "metadata": {},
     "output_type": "display_data"
    },
    {
     "data": {
      "application/vnd.jupyter.widget-view+json": {
       "model_id": "0b9043451bfe440ca88922006869f5db",
       "version_major": 2,
       "version_minor": 0
      },
      "text/plain": [
       "  0%|          | 0/12 [00:00<?, ?it/s]"
      ]
     },
     "metadata": {},
     "output_type": "display_data"
    },
    {
     "name": "stdout",
     "output_type": "stream",
     "text": [
      "[[2520   58]\n",
      " [ 116  125]]\n",
      "              precision    recall  f1-score   support\n",
      "\n",
      "       0: 정상       0.96      0.98      0.97      2578\n",
      "       1: 이상       0.68      0.52      0.59       241\n",
      "\n",
      "    accuracy                           0.94      2819\n",
      "   macro avg       0.82      0.75      0.78      2819\n",
      "weighted avg       0.93      0.94      0.93      2819\n",
      "\n",
      "Epoch [0], Train Loss : [58.55678] Val Loss : [42.85490] Val F1 Score : [0.77813]\n"
     ]
    },
    {
     "data": {
      "application/vnd.jupyter.widget-view+json": {
       "model_id": "69a30f601f1a403e86f8b38fa8bfad0d",
       "version_major": 2,
       "version_minor": 0
      },
      "text/plain": [
       "  0%|          | 0/45 [00:00<?, ?it/s]"
      ]
     },
     "metadata": {},
     "output_type": "display_data"
    },
    {
     "data": {
      "application/vnd.jupyter.widget-view+json": {
       "model_id": "4d1f839925184bda96f97a4028c6f8c1",
       "version_major": 2,
       "version_minor": 0
      },
      "text/plain": [
       "  0%|          | 0/12 [00:00<?, ?it/s]"
      ]
     },
     "metadata": {},
     "output_type": "display_data"
    },
    {
     "name": "stdout",
     "output_type": "stream",
     "text": [
      "[[2528   50]\n",
      " [ 104  137]]\n",
      "              precision    recall  f1-score   support\n",
      "\n",
      "       0: 정상       0.96      0.98      0.97      2578\n",
      "       1: 이상       0.73      0.57      0.64       241\n",
      "\n",
      "    accuracy                           0.95      2819\n",
      "   macro avg       0.85      0.77      0.81      2819\n",
      "weighted avg       0.94      0.95      0.94      2819\n",
      "\n",
      "Epoch [1], Train Loss : [42.61796] Val Loss : [40.75070] Val F1 Score : [0.80531]\n"
     ]
    },
    {
     "data": {
      "application/vnd.jupyter.widget-view+json": {
       "model_id": "efb1dfaeb67649cb9a9a75e2431215b7",
       "version_major": 2,
       "version_minor": 0
      },
      "text/plain": [
       "  0%|          | 0/45 [00:00<?, ?it/s]"
      ]
     },
     "metadata": {},
     "output_type": "display_data"
    },
    {
     "data": {
      "application/vnd.jupyter.widget-view+json": {
       "model_id": "9c07e939fbb84fe687950cdc736117e8",
       "version_major": 2,
       "version_minor": 0
      },
      "text/plain": [
       "  0%|          | 0/12 [00:00<?, ?it/s]"
      ]
     },
     "metadata": {},
     "output_type": "display_data"
    },
    {
     "name": "stdout",
     "output_type": "stream",
     "text": [
      "[[2564   14]\n",
      " [ 127  114]]\n",
      "              precision    recall  f1-score   support\n",
      "\n",
      "       0: 정상       0.95      0.99      0.97      2578\n",
      "       1: 이상       0.89      0.47      0.62       241\n",
      "\n",
      "    accuracy                           0.95      2819\n",
      "   macro avg       0.92      0.73      0.80      2819\n",
      "weighted avg       0.95      0.95      0.94      2819\n",
      "\n",
      "Epoch [2], Train Loss : [39.87791] Val Loss : [41.02253] Val F1 Score : [0.79556]\n"
     ]
    },
    {
     "data": {
      "application/vnd.jupyter.widget-view+json": {
       "model_id": "9a8449e2db584f09ae69b5ab5254214f",
       "version_major": 2,
       "version_minor": 0
      },
      "text/plain": [
       "  0%|          | 0/45 [00:00<?, ?it/s]"
      ]
     },
     "metadata": {},
     "output_type": "display_data"
    },
    {
     "data": {
      "application/vnd.jupyter.widget-view+json": {
       "model_id": "a31509dc0b1749d8b346e16286eeccc2",
       "version_major": 2,
       "version_minor": 0
      },
      "text/plain": [
       "  0%|          | 0/12 [00:00<?, ?it/s]"
      ]
     },
     "metadata": {},
     "output_type": "display_data"
    },
    {
     "name": "stdout",
     "output_type": "stream",
     "text": [
      "[[2562   16]\n",
      " [ 120  121]]\n",
      "              precision    recall  f1-score   support\n",
      "\n",
      "       0: 정상       0.96      0.99      0.97      2578\n",
      "       1: 이상       0.88      0.50      0.64       241\n",
      "\n",
      "    accuracy                           0.95      2819\n",
      "   macro avg       0.92      0.75      0.81      2819\n",
      "weighted avg       0.95      0.95      0.95      2819\n",
      "\n",
      "Epoch [3], Train Loss : [38.79162] Val Loss : [39.64306] Val F1 Score : [0.80718]\n"
     ]
    },
    {
     "data": {
      "application/vnd.jupyter.widget-view+json": {
       "model_id": "a1d928302cb84f7a86b9896e0c324f5a",
       "version_major": 2,
       "version_minor": 0
      },
      "text/plain": [
       "  0%|          | 0/45 [00:00<?, ?it/s]"
      ]
     },
     "metadata": {},
     "output_type": "display_data"
    },
    {
     "data": {
      "application/vnd.jupyter.widget-view+json": {
       "model_id": "8bf0d669324341aaae1f7a0a004ed7e7",
       "version_major": 2,
       "version_minor": 0
      },
      "text/plain": [
       "  0%|          | 0/12 [00:00<?, ?it/s]"
      ]
     },
     "metadata": {},
     "output_type": "display_data"
    },
    {
     "name": "stdout",
     "output_type": "stream",
     "text": [
      "[[2534   44]\n",
      " [ 110  131]]\n",
      "              precision    recall  f1-score   support\n",
      "\n",
      "       0: 정상       0.96      0.98      0.97      2578\n",
      "       1: 이상       0.75      0.54      0.63       241\n",
      "\n",
      "    accuracy                           0.95      2819\n",
      "   macro avg       0.85      0.76      0.80      2819\n",
      "weighted avg       0.94      0.95      0.94      2819\n",
      "\n",
      "Epoch [4], Train Loss : [38.06911] Val Loss : [40.10552] Val F1 Score : [0.80016]\n"
     ]
    },
    {
     "data": {
      "application/vnd.jupyter.widget-view+json": {
       "model_id": "2b1e432b0ed8463f8c92683d2a20f73e",
       "version_major": 2,
       "version_minor": 0
      },
      "text/plain": [
       "  0%|          | 0/45 [00:00<?, ?it/s]"
      ]
     },
     "metadata": {},
     "output_type": "display_data"
    },
    {
     "data": {
      "application/vnd.jupyter.widget-view+json": {
       "model_id": "4b2fe31ed27c45d5be0128f6ab8eadd8",
       "version_major": 2,
       "version_minor": 0
      },
      "text/plain": [
       "  0%|          | 0/12 [00:00<?, ?it/s]"
      ]
     },
     "metadata": {},
     "output_type": "display_data"
    },
    {
     "name": "stdout",
     "output_type": "stream",
     "text": [
      "[[2531   47]\n",
      " [ 114  127]]\n",
      "              precision    recall  f1-score   support\n",
      "\n",
      "       0: 정상       0.96      0.98      0.97      2578\n",
      "       1: 이상       0.73      0.53      0.61       241\n",
      "\n",
      "    accuracy                           0.94      2819\n",
      "   macro avg       0.84      0.75      0.79      2819\n",
      "weighted avg       0.94      0.94      0.94      2819\n",
      "\n",
      "Epoch [5], Train Loss : [37.10369] Val Loss : [40.27207] Val F1 Score : [0.79061]\n",
      "Epoch 00006: reducing learning rate of group 0 to 5.0000e-03.\n"
     ]
    },
    {
     "data": {
      "application/vnd.jupyter.widget-view+json": {
       "model_id": "c799aae4852a4c3bb99312a782f73170",
       "version_major": 2,
       "version_minor": 0
      },
      "text/plain": [
       "  0%|          | 0/45 [00:00<?, ?it/s]"
      ]
     },
     "metadata": {},
     "output_type": "display_data"
    },
    {
     "data": {
      "application/vnd.jupyter.widget-view+json": {
       "model_id": "a4f1597448264aff9ccdf450b8726e74",
       "version_major": 2,
       "version_minor": 0
      },
      "text/plain": [
       "  0%|          | 0/12 [00:00<?, ?it/s]"
      ]
     },
     "metadata": {},
     "output_type": "display_data"
    },
    {
     "name": "stdout",
     "output_type": "stream",
     "text": [
      "[[2548   30]\n",
      " [ 115  126]]\n",
      "              precision    recall  f1-score   support\n",
      "\n",
      "       0: 정상       0.96      0.99      0.97      2578\n",
      "       1: 이상       0.81      0.52      0.63       241\n",
      "\n",
      "    accuracy                           0.95      2819\n",
      "   macro avg       0.88      0.76      0.80      2819\n",
      "weighted avg       0.94      0.95      0.94      2819\n",
      "\n",
      "Epoch [6], Train Loss : [34.96315] Val Loss : [39.93766] Val F1 Score : [0.80355]\n"
     ]
    },
    {
     "data": {
      "application/vnd.jupyter.widget-view+json": {
       "model_id": "7539f3fa874d4c67921006e63c225ba0",
       "version_major": 2,
       "version_minor": 0
      },
      "text/plain": [
       "  0%|          | 0/45 [00:00<?, ?it/s]"
      ]
     },
     "metadata": {},
     "output_type": "display_data"
    },
    {
     "data": {
      "application/vnd.jupyter.widget-view+json": {
       "model_id": "442ba7ff16c3455b8f9b770f7beb14db",
       "version_major": 2,
       "version_minor": 0
      },
      "text/plain": [
       "  0%|          | 0/12 [00:00<?, ?it/s]"
      ]
     },
     "metadata": {},
     "output_type": "display_data"
    },
    {
     "name": "stdout",
     "output_type": "stream",
     "text": [
      "[[2536   42]\n",
      " [ 118  123]]\n",
      "              precision    recall  f1-score   support\n",
      "\n",
      "       0: 정상       0.96      0.98      0.97      2578\n",
      "       1: 이상       0.75      0.51      0.61       241\n",
      "\n",
      "    accuracy                           0.94      2819\n",
      "   macro avg       0.85      0.75      0.79      2819\n",
      "weighted avg       0.94      0.94      0.94      2819\n",
      "\n",
      "Epoch [7], Train Loss : [32.84816] Val Loss : [42.61319] Val F1 Score : [0.78767]\n",
      "Epoch 00008: reducing learning rate of group 0 to 2.5000e-03.\n"
     ]
    },
    {
     "data": {
      "application/vnd.jupyter.widget-view+json": {
       "model_id": "e645e448bae643278cece3ce081c1211",
       "version_major": 2,
       "version_minor": 0
      },
      "text/plain": [
       "  0%|          | 0/45 [00:00<?, ?it/s]"
      ]
     },
     "metadata": {},
     "output_type": "display_data"
    },
    {
     "data": {
      "application/vnd.jupyter.widget-view+json": {
       "model_id": "65f3e52a539c4903b5cdae974ed11e97",
       "version_major": 2,
       "version_minor": 0
      },
      "text/plain": [
       "  0%|          | 0/12 [00:00<?, ?it/s]"
      ]
     },
     "metadata": {},
     "output_type": "display_data"
    },
    {
     "name": "stdout",
     "output_type": "stream",
     "text": [
      "[[2538   40]\n",
      " [ 108  133]]\n",
      "              precision    recall  f1-score   support\n",
      "\n",
      "       0: 정상       0.96      0.98      0.97      2578\n",
      "       1: 이상       0.77      0.55      0.64       241\n",
      "\n",
      "    accuracy                           0.95      2819\n",
      "   macro avg       0.86      0.77      0.81      2819\n",
      "weighted avg       0.94      0.95      0.94      2819\n",
      "\n",
      "Epoch [8], Train Loss : [30.55539] Val Loss : [41.74331] Val F1 Score : [0.80709]\n"
     ]
    },
    {
     "data": {
      "application/vnd.jupyter.widget-view+json": {
       "model_id": "c81a9bed9a4b40ed89cc986e4e0921df",
       "version_major": 2,
       "version_minor": 0
      },
      "text/plain": [
       "  0%|          | 0/45 [00:00<?, ?it/s]"
      ]
     },
     "metadata": {},
     "output_type": "display_data"
    },
    {
     "data": {
      "application/vnd.jupyter.widget-view+json": {
       "model_id": "655bcac0169446ca8b77fcf7b71ebe9a",
       "version_major": 2,
       "version_minor": 0
      },
      "text/plain": [
       "  0%|          | 0/12 [00:00<?, ?it/s]"
      ]
     },
     "metadata": {},
     "output_type": "display_data"
    },
    {
     "name": "stdout",
     "output_type": "stream",
     "text": [
      "[[2542   36]\n",
      " [ 119  122]]\n",
      "              precision    recall  f1-score   support\n",
      "\n",
      "       0: 정상       0.96      0.99      0.97      2578\n",
      "       1: 이상       0.77      0.51      0.61       241\n",
      "\n",
      "    accuracy                           0.95      2819\n",
      "   macro avg       0.86      0.75      0.79      2819\n",
      "weighted avg       0.94      0.95      0.94      2819\n",
      "\n",
      "Epoch [9], Train Loss : [29.48962] Val Loss : [44.20222] Val F1 Score : [0.79097]\n",
      "Epoch 00010: reducing learning rate of group 0 to 1.2500e-03.\n"
     ]
    },
    {
     "data": {
      "application/vnd.jupyter.widget-view+json": {
       "model_id": "963eca651ac7489fa02d593c0d2f9214",
       "version_major": 2,
       "version_minor": 0
      },
      "text/plain": [
       "  0%|          | 0/45 [00:00<?, ?it/s]"
      ]
     },
     "metadata": {},
     "output_type": "display_data"
    },
    {
     "data": {
      "application/vnd.jupyter.widget-view+json": {
       "model_id": "1a26b11270ea4dcfab90347c4006e7ea",
       "version_major": 2,
       "version_minor": 0
      },
      "text/plain": [
       "  0%|          | 0/12 [00:00<?, ?it/s]"
      ]
     },
     "metadata": {},
     "output_type": "display_data"
    },
    {
     "name": "stdout",
     "output_type": "stream",
     "text": [
      "[[2547   31]\n",
      " [ 125  116]]\n",
      "              precision    recall  f1-score   support\n",
      "\n",
      "       0: 정상       0.95      0.99      0.97      2578\n",
      "       1: 이상       0.79      0.48      0.60       241\n",
      "\n",
      "    accuracy                           0.94      2819\n",
      "   macro avg       0.87      0.73      0.78      2819\n",
      "weighted avg       0.94      0.94      0.94      2819\n",
      "\n",
      "Epoch [10], Train Loss : [27.48435] Val Loss : [44.68440] Val F1 Score : [0.78411]\n"
     ]
    },
    {
     "data": {
      "application/vnd.jupyter.widget-view+json": {
       "model_id": "2b3afbc53c3c48aca04e995fca324ab2",
       "version_major": 2,
       "version_minor": 0
      },
      "text/plain": [
       "  0%|          | 0/45 [00:00<?, ?it/s]"
      ]
     },
     "metadata": {},
     "output_type": "display_data"
    },
    {
     "data": {
      "application/vnd.jupyter.widget-view+json": {
       "model_id": "853aea5857694a168b224c80720848b9",
       "version_major": 2,
       "version_minor": 0
      },
      "text/plain": [
       "  0%|          | 0/12 [00:00<?, ?it/s]"
      ]
     },
     "metadata": {},
     "output_type": "display_data"
    },
    {
     "name": "stdout",
     "output_type": "stream",
     "text": [
      "[[2551   27]\n",
      " [ 128  113]]\n",
      "              precision    recall  f1-score   support\n",
      "\n",
      "       0: 정상       0.95      0.99      0.97      2578\n",
      "       1: 이상       0.81      0.47      0.59       241\n",
      "\n",
      "    accuracy                           0.95      2819\n",
      "   macro avg       0.88      0.73      0.78      2819\n",
      "weighted avg       0.94      0.95      0.94      2819\n",
      "\n",
      "Epoch [11], Train Loss : [27.34351] Val Loss : [45.55814] Val F1 Score : [0.78185]\n",
      "Epoch 00012: reducing learning rate of group 0 to 6.2500e-04.\n"
     ]
    },
    {
     "data": {
      "application/vnd.jupyter.widget-view+json": {
       "model_id": "9ad96203d46d4df49c0eba906bfddb7b",
       "version_major": 2,
       "version_minor": 0
      },
      "text/plain": [
       "  0%|          | 0/45 [00:00<?, ?it/s]"
      ]
     },
     "metadata": {},
     "output_type": "display_data"
    },
    {
     "data": {
      "application/vnd.jupyter.widget-view+json": {
       "model_id": "3aa4f7cba5e24b1893d5cb33d02920ec",
       "version_major": 2,
       "version_minor": 0
      },
      "text/plain": [
       "  0%|          | 0/12 [00:00<?, ?it/s]"
      ]
     },
     "metadata": {},
     "output_type": "display_data"
    },
    {
     "name": "stdout",
     "output_type": "stream",
     "text": [
      "[[2551   27]\n",
      " [ 125  116]]\n",
      "              precision    recall  f1-score   support\n",
      "\n",
      "       0: 정상       0.95      0.99      0.97      2578\n",
      "       1: 이상       0.81      0.48      0.60       241\n",
      "\n",
      "    accuracy                           0.95      2819\n",
      "   macro avg       0.88      0.74      0.79      2819\n",
      "weighted avg       0.94      0.95      0.94      2819\n",
      "\n",
      "Epoch [12], Train Loss : [26.04887] Val Loss : [45.34834] Val F1 Score : [0.78762]\n"
     ]
    },
    {
     "data": {
      "application/vnd.jupyter.widget-view+json": {
       "model_id": "a78220f964ce47f88423e11827c896f7",
       "version_major": 2,
       "version_minor": 0
      },
      "text/plain": [
       "  0%|          | 0/45 [00:00<?, ?it/s]"
      ]
     },
     "metadata": {},
     "output_type": "display_data"
    },
    {
     "data": {
      "application/vnd.jupyter.widget-view+json": {
       "model_id": "9febfb2edcc1474cbd46891cfe26266f",
       "version_major": 2,
       "version_minor": 0
      },
      "text/plain": [
       "  0%|          | 0/12 [00:00<?, ?it/s]"
      ]
     },
     "metadata": {},
     "output_type": "display_data"
    },
    {
     "name": "stdout",
     "output_type": "stream",
     "text": [
      "[[2544   34]\n",
      " [ 126  115]]\n",
      "              precision    recall  f1-score   support\n",
      "\n",
      "       0: 정상       0.95      0.99      0.97      2578\n",
      "       1: 이상       0.77      0.48      0.59       241\n",
      "\n",
      "    accuracy                           0.94      2819\n",
      "   macro avg       0.86      0.73      0.78      2819\n",
      "weighted avg       0.94      0.94      0.94      2819\n",
      "\n",
      "Epoch [13], Train Loss : [25.77202] Val Loss : [46.83864] Val F1 Score : [0.77963]\n",
      "Epoch 00014: reducing learning rate of group 0 to 3.1250e-04.\n"
     ]
    },
    {
     "data": {
      "application/vnd.jupyter.widget-view+json": {
       "model_id": "b78b81373f1c4375ab012aa5c9be653e",
       "version_major": 2,
       "version_minor": 0
      },
      "text/plain": [
       "  0%|          | 0/45 [00:00<?, ?it/s]"
      ]
     },
     "metadata": {},
     "output_type": "display_data"
    },
    {
     "data": {
      "application/vnd.jupyter.widget-view+json": {
       "model_id": "31012c2668a3445f92f1cedde87df482",
       "version_major": 2,
       "version_minor": 0
      },
      "text/plain": [
       "  0%|          | 0/12 [00:00<?, ?it/s]"
      ]
     },
     "metadata": {},
     "output_type": "display_data"
    },
    {
     "name": "stdout",
     "output_type": "stream",
     "text": [
      "[[2545   33]\n",
      " [ 124  117]]\n",
      "              precision    recall  f1-score   support\n",
      "\n",
      "       0: 정상       0.95      0.99      0.97      2578\n",
      "       1: 이상       0.78      0.49      0.60       241\n",
      "\n",
      "    accuracy                           0.94      2819\n",
      "   macro avg       0.87      0.74      0.78      2819\n",
      "weighted avg       0.94      0.94      0.94      2819\n",
      "\n",
      "Epoch [14], Train Loss : [25.40407] Val Loss : [46.42035] Val F1 Score : [0.78427]\n"
     ]
    },
    {
     "data": {
      "application/vnd.jupyter.widget-view+json": {
       "model_id": "efb0028d614043458759e708627ae950",
       "version_major": 2,
       "version_minor": 0
      },
      "text/plain": [
       "  0%|          | 0/45 [00:00<?, ?it/s]"
      ]
     },
     "metadata": {},
     "output_type": "display_data"
    },
    {
     "data": {
      "application/vnd.jupyter.widget-view+json": {
       "model_id": "c4b823ad18684122b63246236757c0d9",
       "version_major": 2,
       "version_minor": 0
      },
      "text/plain": [
       "  0%|          | 0/12 [00:00<?, ?it/s]"
      ]
     },
     "metadata": {},
     "output_type": "display_data"
    },
    {
     "name": "stdout",
     "output_type": "stream",
     "text": [
      "[[2553   25]\n",
      " [ 133  108]]\n",
      "              precision    recall  f1-score   support\n",
      "\n",
      "       0: 정상       0.95      0.99      0.97      2578\n",
      "       1: 이상       0.81      0.45      0.58       241\n",
      "\n",
      "    accuracy                           0.94      2819\n",
      "   macro avg       0.88      0.72      0.77      2819\n",
      "weighted avg       0.94      0.94      0.94      2819\n",
      "\n",
      "Epoch [15], Train Loss : [25.38955] Val Loss : [47.81002] Val F1 Score : [0.77376]\n",
      "Epoch 00016: reducing learning rate of group 0 to 1.5625e-04.\n"
     ]
    },
    {
     "data": {
      "application/vnd.jupyter.widget-view+json": {
       "model_id": "a13f12c615254bba8790ef89edd983d8",
       "version_major": 2,
       "version_minor": 0
      },
      "text/plain": [
       "  0%|          | 0/45 [00:00<?, ?it/s]"
      ]
     },
     "metadata": {},
     "output_type": "display_data"
    },
    {
     "data": {
      "application/vnd.jupyter.widget-view+json": {
       "model_id": "573a5775ed8b4c1cbd2b471f3aa5d822",
       "version_major": 2,
       "version_minor": 0
      },
      "text/plain": [
       "  0%|          | 0/12 [00:00<?, ?it/s]"
      ]
     },
     "metadata": {},
     "output_type": "display_data"
    },
    {
     "name": "stdout",
     "output_type": "stream",
     "text": [
      "[[2539   39]\n",
      " [ 123  118]]\n",
      "              precision    recall  f1-score   support\n",
      "\n",
      "       0: 정상       0.95      0.98      0.97      2578\n",
      "       1: 이상       0.75      0.49      0.59       241\n",
      "\n",
      "    accuracy                           0.94      2819\n",
      "   macro avg       0.85      0.74      0.78      2819\n",
      "weighted avg       0.94      0.94      0.94      2819\n",
      "\n",
      "Epoch [16], Train Loss : [24.33417] Val Loss : [47.45977] Val F1 Score : [0.78102]\n"
     ]
    },
    {
     "data": {
      "application/vnd.jupyter.widget-view+json": {
       "model_id": "b62ecc3f73334337b7943368d1a248d0",
       "version_major": 2,
       "version_minor": 0
      },
      "text/plain": [
       "  0%|          | 0/45 [00:00<?, ?it/s]"
      ]
     },
     "metadata": {},
     "output_type": "display_data"
    },
    {
     "data": {
      "application/vnd.jupyter.widget-view+json": {
       "model_id": "6e65199b252d4b2ca99086e0ff1ce736",
       "version_major": 2,
       "version_minor": 0
      },
      "text/plain": [
       "  0%|          | 0/12 [00:00<?, ?it/s]"
      ]
     },
     "metadata": {},
     "output_type": "display_data"
    },
    {
     "name": "stdout",
     "output_type": "stream",
     "text": [
      "[[2548   30]\n",
      " [ 122  119]]\n",
      "              precision    recall  f1-score   support\n",
      "\n",
      "       0: 정상       0.95      0.99      0.97      2578\n",
      "       1: 이상       0.80      0.49      0.61       241\n",
      "\n",
      "    accuracy                           0.95      2819\n",
      "   macro avg       0.88      0.74      0.79      2819\n",
      "weighted avg       0.94      0.95      0.94      2819\n",
      "\n",
      "Epoch [17], Train Loss : [24.84323] Val Loss : [47.01561] Val F1 Score : [0.79065]\n",
      "Epoch 00018: reducing learning rate of group 0 to 7.8125e-05.\n"
     ]
    },
    {
     "data": {
      "application/vnd.jupyter.widget-view+json": {
       "model_id": "380334dcea844bf49c3fae188d1a9b55",
       "version_major": 2,
       "version_minor": 0
      },
      "text/plain": [
       "  0%|          | 0/45 [00:00<?, ?it/s]"
      ]
     },
     "metadata": {},
     "output_type": "display_data"
    },
    {
     "data": {
      "application/vnd.jupyter.widget-view+json": {
       "model_id": "7d84e0e67dd84e73ad214c747de5f7dc",
       "version_major": 2,
       "version_minor": 0
      },
      "text/plain": [
       "  0%|          | 0/12 [00:00<?, ?it/s]"
      ]
     },
     "metadata": {},
     "output_type": "display_data"
    },
    {
     "name": "stdout",
     "output_type": "stream",
     "text": [
      "[[2544   34]\n",
      " [ 122  119]]\n",
      "              precision    recall  f1-score   support\n",
      "\n",
      "       0: 정상       0.95      0.99      0.97      2578\n",
      "       1: 이상       0.78      0.49      0.60       241\n",
      "\n",
      "    accuracy                           0.94      2819\n",
      "   macro avg       0.87      0.74      0.79      2819\n",
      "weighted avg       0.94      0.94      0.94      2819\n",
      "\n",
      "Epoch [18], Train Loss : [24.54898] Val Loss : [46.77472] Val F1 Score : [0.78716]\n"
     ]
    },
    {
     "data": {
      "application/vnd.jupyter.widget-view+json": {
       "model_id": "c4a4b1c0270446249a0b387a3d474a93",
       "version_major": 2,
       "version_minor": 0
      },
      "text/plain": [
       "  0%|          | 0/45 [00:00<?, ?it/s]"
      ]
     },
     "metadata": {},
     "output_type": "display_data"
    },
    {
     "data": {
      "application/vnd.jupyter.widget-view+json": {
       "model_id": "3d1d7e188d3646718db16a6f95ab16e7",
       "version_major": 2,
       "version_minor": 0
      },
      "text/plain": [
       "  0%|          | 0/12 [00:00<?, ?it/s]"
      ]
     },
     "metadata": {},
     "output_type": "display_data"
    },
    {
     "name": "stdout",
     "output_type": "stream",
     "text": [
      "[[2538   40]\n",
      " [ 123  118]]\n",
      "              precision    recall  f1-score   support\n",
      "\n",
      "       0: 정상       0.95      0.98      0.97      2578\n",
      "       1: 이상       0.75      0.49      0.59       241\n",
      "\n",
      "    accuracy                           0.94      2819\n",
      "   macro avg       0.85      0.74      0.78      2819\n",
      "weighted avg       0.94      0.94      0.94      2819\n",
      "\n",
      "Epoch [19], Train Loss : [24.75500] Val Loss : [48.13965] Val F1 Score : [0.78018]\n",
      "Epoch 00020: reducing learning rate of group 0 to 3.9063e-05.\n"
     ]
    },
    {
     "data": {
      "application/vnd.jupyter.widget-view+json": {
       "model_id": "ca82ae4edb574df38376a69342bb6a8e",
       "version_major": 2,
       "version_minor": 0
      },
      "text/plain": [
       "  0%|          | 0/45 [00:00<?, ?it/s]"
      ]
     },
     "metadata": {},
     "output_type": "display_data"
    },
    {
     "data": {
      "application/vnd.jupyter.widget-view+json": {
       "model_id": "7fa5b2bfea1a4594a88ecc03eba3de84",
       "version_major": 2,
       "version_minor": 0
      },
      "text/plain": [
       "  0%|          | 0/12 [00:00<?, ?it/s]"
      ]
     },
     "metadata": {},
     "output_type": "display_data"
    },
    {
     "name": "stdout",
     "output_type": "stream",
     "text": [
      "[[2537   41]\n",
      " [ 121  120]]\n",
      "              precision    recall  f1-score   support\n",
      "\n",
      "       0: 정상       0.95      0.98      0.97      2578\n",
      "       1: 이상       0.75      0.50      0.60       241\n",
      "\n",
      "    accuracy                           0.94      2819\n",
      "   macro avg       0.85      0.74      0.78      2819\n",
      "weighted avg       0.94      0.94      0.94      2819\n",
      "\n",
      "Epoch [20], Train Loss : [25.16850] Val Loss : [46.86852] Val F1 Score : [0.78304]\n"
     ]
    },
    {
     "data": {
      "application/vnd.jupyter.widget-view+json": {
       "model_id": "c8be9d0b8fd149fa9b2c21633edf51a9",
       "version_major": 2,
       "version_minor": 0
      },
      "text/plain": [
       "  0%|          | 0/45 [00:00<?, ?it/s]"
      ]
     },
     "metadata": {},
     "output_type": "display_data"
    },
    {
     "data": {
      "application/vnd.jupyter.widget-view+json": {
       "model_id": "04e587cc84af42ceac14b1398941b5b6",
       "version_major": 2,
       "version_minor": 0
      },
      "text/plain": [
       "  0%|          | 0/12 [00:00<?, ?it/s]"
      ]
     },
     "metadata": {},
     "output_type": "display_data"
    },
    {
     "name": "stdout",
     "output_type": "stream",
     "text": [
      "[[2547   31]\n",
      " [ 132  109]]\n",
      "              precision    recall  f1-score   support\n",
      "\n",
      "       0: 정상       0.95      0.99      0.97      2578\n",
      "       1: 이상       0.78      0.45      0.57       241\n",
      "\n",
      "    accuracy                           0.94      2819\n",
      "   macro avg       0.86      0.72      0.77      2819\n",
      "weighted avg       0.94      0.94      0.94      2819\n",
      "\n",
      "Epoch [21], Train Loss : [23.86838] Val Loss : [48.54593] Val F1 Score : [0.77059]\n",
      "Epoch 00022: reducing learning rate of group 0 to 1.9531e-05.\n"
     ]
    },
    {
     "data": {
      "application/vnd.jupyter.widget-view+json": {
       "model_id": "2f07bedeec7943deb142d9d57f4fc129",
       "version_major": 2,
       "version_minor": 0
      },
      "text/plain": [
       "  0%|          | 0/45 [00:00<?, ?it/s]"
      ]
     },
     "metadata": {},
     "output_type": "display_data"
    },
    {
     "data": {
      "application/vnd.jupyter.widget-view+json": {
       "model_id": "7b8ada0086914bcca63ab06bf90a138b",
       "version_major": 2,
       "version_minor": 0
      },
      "text/plain": [
       "  0%|          | 0/12 [00:00<?, ?it/s]"
      ]
     },
     "metadata": {},
     "output_type": "display_data"
    },
    {
     "name": "stdout",
     "output_type": "stream",
     "text": [
      "[[2540   38]\n",
      " [ 124  117]]\n",
      "              precision    recall  f1-score   support\n",
      "\n",
      "       0: 정상       0.95      0.99      0.97      2578\n",
      "       1: 이상       0.75      0.49      0.59       241\n",
      "\n",
      "    accuracy                           0.94      2819\n",
      "   macro avg       0.85      0.74      0.78      2819\n",
      "weighted avg       0.94      0.94      0.94      2819\n",
      "\n",
      "Epoch [22], Train Loss : [24.26084] Val Loss : [47.31200] Val F1 Score : [0.78000]\n"
     ]
    },
    {
     "data": {
      "application/vnd.jupyter.widget-view+json": {
       "model_id": "5ce07d82bc3e40f5bd3aa28c60f69069",
       "version_major": 2,
       "version_minor": 0
      },
      "text/plain": [
       "  0%|          | 0/45 [00:00<?, ?it/s]"
      ]
     },
     "metadata": {},
     "output_type": "display_data"
    },
    {
     "data": {
      "application/vnd.jupyter.widget-view+json": {
       "model_id": "3bb1ad86edb144dbbf0d33401139021d",
       "version_major": 2,
       "version_minor": 0
      },
      "text/plain": [
       "  0%|          | 0/12 [00:00<?, ?it/s]"
      ]
     },
     "metadata": {},
     "output_type": "display_data"
    },
    {
     "name": "stdout",
     "output_type": "stream",
     "text": [
      "[[2551   27]\n",
      " [ 133  108]]\n",
      "              precision    recall  f1-score   support\n",
      "\n",
      "       0: 정상       0.95      0.99      0.97      2578\n",
      "       1: 이상       0.80      0.45      0.57       241\n",
      "\n",
      "    accuracy                           0.94      2819\n",
      "   macro avg       0.88      0.72      0.77      2819\n",
      "weighted avg       0.94      0.94      0.94      2819\n",
      "\n",
      "Epoch [23], Train Loss : [23.54078] Val Loss : [49.00672] Val F1 Score : [0.77203]\n",
      "Epoch 00024: reducing learning rate of group 0 to 9.7656e-06.\n"
     ]
    },
    {
     "data": {
      "application/vnd.jupyter.widget-view+json": {
       "model_id": "75daed53a0f84be5a1ad6407e109647a",
       "version_major": 2,
       "version_minor": 0
      },
      "text/plain": [
       "  0%|          | 0/45 [00:00<?, ?it/s]"
      ]
     },
     "metadata": {},
     "output_type": "display_data"
    },
    {
     "data": {
      "application/vnd.jupyter.widget-view+json": {
       "model_id": "8af261b4195a4ad5be0c18b0d9f3cf69",
       "version_major": 2,
       "version_minor": 0
      },
      "text/plain": [
       "  0%|          | 0/12 [00:00<?, ?it/s]"
      ]
     },
     "metadata": {},
     "output_type": "display_data"
    },
    {
     "name": "stdout",
     "output_type": "stream",
     "text": [
      "[[2545   33]\n",
      " [ 129  112]]\n",
      "              precision    recall  f1-score   support\n",
      "\n",
      "       0: 정상       0.95      0.99      0.97      2578\n",
      "       1: 이상       0.77      0.46      0.58       241\n",
      "\n",
      "    accuracy                           0.94      2819\n",
      "   macro avg       0.86      0.73      0.77      2819\n",
      "weighted avg       0.94      0.94      0.94      2819\n",
      "\n",
      "Epoch [24], Train Loss : [24.14657] Val Loss : [48.35077] Val F1 Score : [0.77473]\n"
     ]
    },
    {
     "data": {
      "application/vnd.jupyter.widget-view+json": {
       "model_id": "1191c88f31754f4e8a0c769775bf0d2a",
       "version_major": 2,
       "version_minor": 0
      },
      "text/plain": [
       "  0%|          | 0/45 [00:00<?, ?it/s]"
      ]
     },
     "metadata": {},
     "output_type": "display_data"
    },
    {
     "data": {
      "application/vnd.jupyter.widget-view+json": {
       "model_id": "4833455b90ad4ea8bd5d9bcab89d100b",
       "version_major": 2,
       "version_minor": 0
      },
      "text/plain": [
       "  0%|          | 0/12 [00:00<?, ?it/s]"
      ]
     },
     "metadata": {},
     "output_type": "display_data"
    },
    {
     "name": "stdout",
     "output_type": "stream",
     "text": [
      "[[2544   34]\n",
      " [ 123  118]]\n",
      "              precision    recall  f1-score   support\n",
      "\n",
      "       0: 정상       0.95      0.99      0.97      2578\n",
      "       1: 이상       0.78      0.49      0.60       241\n",
      "\n",
      "    accuracy                           0.94      2819\n",
      "   macro avg       0.87      0.74      0.79      2819\n",
      "weighted avg       0.94      0.94      0.94      2819\n",
      "\n",
      "Epoch [25], Train Loss : [23.48551] Val Loss : [47.07530] Val F1 Score : [0.78529]\n",
      "Epoch 00026: reducing learning rate of group 0 to 4.8828e-06.\n"
     ]
    },
    {
     "data": {
      "application/vnd.jupyter.widget-view+json": {
       "model_id": "3cb6a1e7a209409a8fdf2cec5e2c297b",
       "version_major": 2,
       "version_minor": 0
      },
      "text/plain": [
       "  0%|          | 0/45 [00:00<?, ?it/s]"
      ]
     },
     "metadata": {},
     "output_type": "display_data"
    },
    {
     "data": {
      "application/vnd.jupyter.widget-view+json": {
       "model_id": "c43c25a901844561bda04e954687bcc2",
       "version_major": 2,
       "version_minor": 0
      },
      "text/plain": [
       "  0%|          | 0/12 [00:00<?, ?it/s]"
      ]
     },
     "metadata": {},
     "output_type": "display_data"
    },
    {
     "name": "stdout",
     "output_type": "stream",
     "text": [
      "[[2544   34]\n",
      " [ 125  116]]\n",
      "              precision    recall  f1-score   support\n",
      "\n",
      "       0: 정상       0.95      0.99      0.97      2578\n",
      "       1: 이상       0.77      0.48      0.59       241\n",
      "\n",
      "    accuracy                           0.94      2819\n",
      "   macro avg       0.86      0.73      0.78      2819\n",
      "weighted avg       0.94      0.94      0.94      2819\n",
      "\n",
      "Epoch [26], Train Loss : [23.98873] Val Loss : [47.51348] Val F1 Score : [0.78152]\n"
     ]
    },
    {
     "data": {
      "application/vnd.jupyter.widget-view+json": {
       "model_id": "1bc9348a3fdd42da86d3bc57205e0f16",
       "version_major": 2,
       "version_minor": 0
      },
      "text/plain": [
       "  0%|          | 0/45 [00:00<?, ?it/s]"
      ]
     },
     "metadata": {},
     "output_type": "display_data"
    },
    {
     "data": {
      "application/vnd.jupyter.widget-view+json": {
       "model_id": "a77bd63a7aad436dbda65817aa754f4c",
       "version_major": 2,
       "version_minor": 0
      },
      "text/plain": [
       "  0%|          | 0/12 [00:00<?, ?it/s]"
      ]
     },
     "metadata": {},
     "output_type": "display_data"
    },
    {
     "name": "stdout",
     "output_type": "stream",
     "text": [
      "[[2554   24]\n",
      " [ 133  108]]\n",
      "              precision    recall  f1-score   support\n",
      "\n",
      "       0: 정상       0.95      0.99      0.97      2578\n",
      "       1: 이상       0.82      0.45      0.58       241\n",
      "\n",
      "    accuracy                           0.94      2819\n",
      "   macro avg       0.88      0.72      0.77      2819\n",
      "weighted avg       0.94      0.94      0.94      2819\n",
      "\n",
      "Epoch [27], Train Loss : [23.41929] Val Loss : [48.95214] Val F1 Score : [0.77463]\n",
      "Epoch 00028: reducing learning rate of group 0 to 2.4414e-06.\n"
     ]
    },
    {
     "data": {
      "application/vnd.jupyter.widget-view+json": {
       "model_id": "3e4e458eb08a43a7abf9893d16745308",
       "version_major": 2,
       "version_minor": 0
      },
      "text/plain": [
       "  0%|          | 0/45 [00:00<?, ?it/s]"
      ]
     },
     "metadata": {},
     "output_type": "display_data"
    },
    {
     "data": {
      "application/vnd.jupyter.widget-view+json": {
       "model_id": "8e70040510f64981b410d4cf7deddb89",
       "version_major": 2,
       "version_minor": 0
      },
      "text/plain": [
       "  0%|          | 0/12 [00:00<?, ?it/s]"
      ]
     },
     "metadata": {},
     "output_type": "display_data"
    },
    {
     "name": "stdout",
     "output_type": "stream",
     "text": [
      "[[2546   32]\n",
      " [ 127  114]]\n",
      "              precision    recall  f1-score   support\n",
      "\n",
      "       0: 정상       0.95      0.99      0.97      2578\n",
      "       1: 이상       0.78      0.47      0.59       241\n",
      "\n",
      "    accuracy                           0.94      2819\n",
      "   macro avg       0.87      0.73      0.78      2819\n",
      "weighted avg       0.94      0.94      0.94      2819\n",
      "\n",
      "Epoch [28], Train Loss : [23.83451] Val Loss : [48.10267] Val F1 Score : [0.77943]\n"
     ]
    },
    {
     "data": {
      "application/vnd.jupyter.widget-view+json": {
       "model_id": "893eecc57bb34ba6a1cc46e2c8dabad5",
       "version_major": 2,
       "version_minor": 0
      },
      "text/plain": [
       "  0%|          | 0/45 [00:00<?, ?it/s]"
      ]
     },
     "metadata": {},
     "output_type": "display_data"
    },
    {
     "data": {
      "application/vnd.jupyter.widget-view+json": {
       "model_id": "a92ee5a67ead45e993987ef32e56ca39",
       "version_major": 2,
       "version_minor": 0
      },
      "text/plain": [
       "  0%|          | 0/12 [00:00<?, ?it/s]"
      ]
     },
     "metadata": {},
     "output_type": "display_data"
    },
    {
     "name": "stdout",
     "output_type": "stream",
     "text": [
      "[[2543   35]\n",
      " [ 123  118]]\n",
      "              precision    recall  f1-score   support\n",
      "\n",
      "       0: 정상       0.95      0.99      0.97      2578\n",
      "       1: 이상       0.77      0.49      0.60       241\n",
      "\n",
      "    accuracy                           0.94      2819\n",
      "   macro avg       0.86      0.74      0.78      2819\n",
      "weighted avg       0.94      0.94      0.94      2819\n",
      "\n",
      "Epoch [29], Train Loss : [24.16900] Val Loss : [47.24068] Val F1 Score : [0.78443]\n",
      "Epoch 00030: reducing learning rate of group 0 to 1.2207e-06.\n",
      "Teacher Train Best Score는 0.8071780634518277 입니다.\n"
     ]
    }
   ],
   "source": [
    "model = Teacher()\n",
    "model.eval()\n",
    "optimizer = torch.optim.Adam(model.parameters(), lr=CFG['LEARNING_RATE'])\n",
    "scheduler = torch.optim.lr_scheduler.ReduceLROnPlateau(optimizer, mode='max', factor=0.5, patience=1, threshold_mode='abs',min_lr=1e-8, verbose=True)\n",
    "pred_labels = []\n",
    "true_labels = []\n",
    "\n",
    "teacher_model = train(model, optimizer, train_loader, val_loader, scheduler, device)"
   ]
  },
  {
   "cell_type": "code",
   "execution_count": null,
   "id": "0472994f",
   "metadata": {},
   "outputs": [],
   "source": []
  },
  {
   "cell_type": "code",
   "execution_count": 58,
   "id": "0f48801f",
   "metadata": {},
   "outputs": [],
   "source": [
    "PATH1 = f\"./models/{file_version}_teacher_net.pth\"\n",
    "torch.save(teacher_model.state_dict(), PATH1)"
   ]
  },
  {
   "cell_type": "code",
   "execution_count": 59,
   "id": "32046dea",
   "metadata": {},
   "outputs": [
    {
     "data": {
      "text/plain": [
       "Teacher(\n",
       "  (classifier): Sequential(\n",
       "    (0): Linear(in_features=40, out_features=256, bias=True)\n",
       "    (1): Dropout(p=0.2, inplace=False)\n",
       "    (2): BatchNorm1d(256, eps=1e-05, momentum=0.1, affine=True, track_running_stats=True)\n",
       "    (3): LeakyReLU(negative_slope=0.01)\n",
       "    (4): Linear(in_features=256, out_features=1024, bias=True)\n",
       "    (5): Dropout(p=0.2, inplace=False)\n",
       "    (6): BatchNorm1d(1024, eps=1e-05, momentum=0.1, affine=True, track_running_stats=True)\n",
       "    (7): LeakyReLU(negative_slope=0.01)\n",
       "    (8): Linear(in_features=1024, out_features=256, bias=True)\n",
       "    (9): Dropout(p=0.2, inplace=False)\n",
       "    (10): BatchNorm1d(256, eps=1e-05, momentum=0.1, affine=True, track_running_stats=True)\n",
       "    (11): LeakyReLU(negative_slope=0.01)\n",
       "    (12): Linear(in_features=256, out_features=1, bias=True)\n",
       "    (13): Sigmoid()\n",
       "  )\n",
       ")"
      ]
     },
     "execution_count": 59,
     "metadata": {},
     "output_type": "execute_result"
    }
   ],
   "source": [
    "teacher_model = Teacher()\n",
    "teacher_model.load_state_dict(torch.load(PATH1))\n",
    "teacher_model"
   ]
  },
  {
   "cell_type": "code",
   "execution_count": 60,
   "id": "85a48542",
   "metadata": {},
   "outputs": [],
   "source": [
    "class Student(nn.Module):\n",
    "    def __init__(self):\n",
    "        super(Student, self).__init__()\n",
    "        self.classifier = nn.Sequential(\n",
    "            nn.Linear(in_features=test_col_num, out_features=128),\n",
    "            nn.Dropout(p=CFG['drop_rate']),\n",
    "            nn.BatchNorm1d(128),\n",
    "            nn.LeakyReLU(),\n",
    "            nn.Linear(in_features=128, out_features=512),\n",
    "            nn.Dropout(p=CFG['drop_rate']),\n",
    "            nn.BatchNorm1d(512),\n",
    "            nn.LeakyReLU(),\n",
    "            nn.Linear(in_features=512, out_features=128),\n",
    "            nn.Dropout(p=CFG['drop_rate']),\n",
    "            nn.BatchNorm1d(128),\n",
    "            nn.LeakyReLU(),\n",
    "            nn.Linear(in_features=128, out_features=1),\n",
    "            nn.Sigmoid()\n",
    "        )\n",
    "        \n",
    "    def forward(self, x):\n",
    "        output = self.classifier(x)\n",
    "        return output"
   ]
  },
  {
   "cell_type": "code",
   "execution_count": 61,
   "id": "2c14e299",
   "metadata": {},
   "outputs": [],
   "source": [
    "# distillation Function 정의\n",
    "\n",
    "def distillation(student_logits, labels, teacher_logits, alpha, T):\n",
    "    \n",
    "    student_loss = nn.BCELoss(reduction = CFG['reduct'])(student_logits, labels.reshape(-1, 1)) #BCEWithLogitsLoss\n",
    "#     student_loss = nn.BCEWithLogitsLoss(reduction = CFG['reduct'])(student_logits, labels.reshape(-1, 1)) #BCEWithLogitsLoss\n",
    "\n",
    "    distillation_loss = nn.KLDivLoss(reduction='batchmean')(F.log_softmax(student_logits/T, dim=1), F.softmax(teacher_logits/T, dim=1)) * (T * T)\n",
    "    \n",
    "    return alpha * student_loss + (1-alpha) * distillation_loss\n",
    "\n",
    "def distill_loss(output, target, teacher_output, loss_fn=distillation, opt=optimizer):\n",
    "    loss_b = loss_fn(output, target, teacher_output, alpha=0.1, T=10)\n",
    "\n",
    "    if opt is not None:\n",
    "        opt.zero_grad()\n",
    "        loss_b.backward()\n",
    "        opt.step()\n",
    "\n",
    "    return loss_b.item()"
   ]
  },
  {
   "cell_type": "code",
   "execution_count": 62,
   "id": "f9f84cc9",
   "metadata": {},
   "outputs": [],
   "source": [
    "def student_train(s_model, t_model, optimizer, train_loader, val_loader, scheduler, device):\n",
    "    s_model.to(device)\n",
    "    t_model.to(device)\n",
    "    \n",
    "    best_score = 0\n",
    "    best_model = None\n",
    "\n",
    "    for epoch in range(CFG[\"EPOCHS\"]):\n",
    "        train_loss = []\n",
    "        s_model.train()\n",
    "        t_model.eval()    # teather는 이번에는 학습하지 않으므로 .eval()로 불러온다\n",
    "        \n",
    "        for X_t, X_s, y in tqdm(train_loader):\n",
    "            X_t = X_t.float().to(device)\n",
    "            X_s = X_s.float().to(device)\n",
    "            y = y.float().to(device)\n",
    "            \n",
    "            optimizer.zero_grad()\n",
    "\n",
    "            output = s_model(X_s)\n",
    "            with torch.no_grad():\n",
    "                teacher_output = t_model(X_t)\n",
    "                \n",
    "            loss_b = distill_loss(output, y, teacher_output, loss_fn=distillation, opt=optimizer)\n",
    "\n",
    "            train_loss.append(loss_b)\n",
    "\n",
    "        val_loss, val_score = validation_student(s_model, t_model, val_loader, distill_loss, device)\n",
    "        print(f'Epoch [{epoch}], Train Loss : [{np.mean(train_loss) :.5f}] Val Loss : [{np.mean(val_loss) :.5f}] Val F1 Score : [{val_score:.5f}]')\n",
    "        \n",
    "        if scheduler is not None:\n",
    "            scheduler.step(val_score)\n",
    "            \n",
    "        if best_score < val_score:\n",
    "            best_model = s_model\n",
    "            best_score = val_score\n",
    "    \n",
    "    print(f\"Student Train Best Score는 {best_score} 입니다.\")\n",
    "        \n",
    "    return best_model"
   ]
  },
  {
   "cell_type": "code",
   "execution_count": 63,
   "id": "82f4a51b",
   "metadata": {},
   "outputs": [],
   "source": [
    "def validation_student(s_model, t_model, val_loader, criterion, device):\n",
    "    s_model.eval()\n",
    "    t_model.eval()\n",
    "\n",
    "    val_loss = []\n",
    "    pred_labels = []\n",
    "    true_labels = []\n",
    "    threshold = CFG['S_Thresh']\n",
    "    \n",
    "    with torch.no_grad():\n",
    "        for X_t, X_s, y in tqdm(val_loader):\n",
    "            X_t = X_t.float().to(device)\n",
    "            X_s = X_s.float().to(device)\n",
    "            y = y.float().to(device)\n",
    "            \n",
    "            model_pred = s_model(X_s)\n",
    "            teacher_output = t_model(X_t)\n",
    "            \n",
    "            loss_b = distill_loss(model_pred, y, teacher_output, loss_fn=distillation, opt=None)\n",
    "            val_loss.append(loss_b)\n",
    "            \n",
    "            model_pred = model_pred.squeeze(1).to('cpu')\n",
    "            pred_labels += model_pred.tolist()\n",
    "            true_labels += y.tolist()\n",
    "        \n",
    "        pred_labels = np.where(np.array(pred_labels) > threshold, 1, 0)\n",
    "        val_f1 = competition_metric(true_labels, pred_labels)\n",
    "        cf = confusion_matrix(true_labels, pred_labels)        \n",
    "        print(cf)\n",
    "        print(classification_report(true_labels, pred_labels, target_names=[\"0: 정상\", \"1: 이상\"]))\n",
    "        \n",
    "    return val_loss, val_f1    "
   ]
  },
  {
   "cell_type": "code",
   "execution_count": 64,
   "id": "74685a61",
   "metadata": {},
   "outputs": [],
   "source": [
    "train_dataset = CustomDataset(train_X, train_y, True)\n",
    "val_dataset = CustomDataset(val_X, val_y, True)\n",
    "\n",
    "train_loader = DataLoader(train_dataset, batch_size = CFG['BATCH_SIZE'], shuffle=True)\n",
    "val_loader = DataLoader(val_dataset, batch_size = CFG['BATCH_SIZE'], shuffle=False)"
   ]
  },
  {
   "cell_type": "code",
   "execution_count": 65,
   "id": "24586b02",
   "metadata": {},
   "outputs": [
    {
     "data": {
      "text/plain": [
       "Index(['encoder__x0_COMPONENT2', 'encoder__x0_COMPONENT3',\n",
       "       'encoder__x0_COMPONENT4', 'encoder__x1_y2', 'encoder__x1_y3',\n",
       "       'encoder__x1_y4', 'encoder__x1_y5', 'ANONYMOUS_1', 'ANONYMOUS_2', 'AG',\n",
       "       'CO', 'CR', 'CU', 'FE', 'H2O', 'MN', 'MO', 'NI', 'PQINDEX', 'TI', 'V',\n",
       "       'V40', 'ZN'],\n",
       "      dtype='object')"
      ]
     },
     "execution_count": 65,
     "metadata": {},
     "output_type": "execute_result"
    }
   ],
   "source": [
    "test_stage_features"
   ]
  },
  {
   "cell_type": "code",
   "execution_count": 66,
   "id": "75882c3b",
   "metadata": {
    "scrolled": false
   },
   "outputs": [
    {
     "data": {
      "application/vnd.jupyter.widget-view+json": {
       "model_id": "f6a80f1a02bd428c9bcaa855c7f3535f",
       "version_major": 2,
       "version_minor": 0
      },
      "text/plain": [
       "  0%|          | 0/45 [00:00<?, ?it/s]"
      ]
     },
     "metadata": {},
     "output_type": "display_data"
    },
    {
     "data": {
      "application/vnd.jupyter.widget-view+json": {
       "model_id": "075e3af8b2d74fc0ac3cf8f75dd68969",
       "version_major": 2,
       "version_minor": 0
      },
      "text/plain": [
       "  0%|          | 0/12 [00:00<?, ?it/s]"
      ]
     },
     "metadata": {},
     "output_type": "display_data"
    },
    {
     "name": "stdout",
     "output_type": "stream",
     "text": [
      "[[2540   38]\n",
      " [ 225   16]]\n",
      "              precision    recall  f1-score   support\n",
      "\n",
      "       0: 정상       0.92      0.99      0.95      2578\n",
      "       1: 이상       0.30      0.07      0.11       241\n",
      "\n",
      "    accuracy                           0.91      2819\n",
      "   macro avg       0.61      0.53      0.53      2819\n",
      "weighted avg       0.87      0.91      0.88      2819\n",
      "\n",
      "Epoch [0], Train Loss : [8.12185] Val Loss : [7.16114] Val F1 Score : [0.52963]\n"
     ]
    },
    {
     "data": {
      "application/vnd.jupyter.widget-view+json": {
       "model_id": "c58a2e0d71284d338f027946ee466b24",
       "version_major": 2,
       "version_minor": 0
      },
      "text/plain": [
       "  0%|          | 0/45 [00:00<?, ?it/s]"
      ]
     },
     "metadata": {},
     "output_type": "display_data"
    },
    {
     "data": {
      "application/vnd.jupyter.widget-view+json": {
       "model_id": "9916a60984334f50bf34f376271154c5",
       "version_major": 2,
       "version_minor": 0
      },
      "text/plain": [
       "  0%|          | 0/12 [00:00<?, ?it/s]"
      ]
     },
     "metadata": {},
     "output_type": "display_data"
    },
    {
     "name": "stdout",
     "output_type": "stream",
     "text": [
      "[[2458  120]\n",
      " [ 204   37]]\n",
      "              precision    recall  f1-score   support\n",
      "\n",
      "       0: 정상       0.92      0.95      0.94      2578\n",
      "       1: 이상       0.24      0.15      0.19       241\n",
      "\n",
      "    accuracy                           0.89      2819\n",
      "   macro avg       0.58      0.55      0.56      2819\n",
      "weighted avg       0.86      0.89      0.87      2819\n",
      "\n",
      "Epoch [1], Train Loss : [7.03070] Val Loss : [6.94610] Val F1 Score : [0.56205]\n"
     ]
    },
    {
     "data": {
      "application/vnd.jupyter.widget-view+json": {
       "model_id": "38613cc03c0e4229af6b52715ffc769b",
       "version_major": 2,
       "version_minor": 0
      },
      "text/plain": [
       "  0%|          | 0/45 [00:00<?, ?it/s]"
      ]
     },
     "metadata": {},
     "output_type": "display_data"
    },
    {
     "data": {
      "application/vnd.jupyter.widget-view+json": {
       "model_id": "595e07b4a26c4a2689755e4a031c1452",
       "version_major": 2,
       "version_minor": 0
      },
      "text/plain": [
       "  0%|          | 0/12 [00:00<?, ?it/s]"
      ]
     },
     "metadata": {},
     "output_type": "display_data"
    },
    {
     "name": "stdout",
     "output_type": "stream",
     "text": [
      "[[2562   16]\n",
      " [ 236    5]]\n",
      "              precision    recall  f1-score   support\n",
      "\n",
      "       0: 정상       0.92      0.99      0.95      2578\n",
      "       1: 이상       0.24      0.02      0.04       241\n",
      "\n",
      "    accuracy                           0.91      2819\n",
      "   macro avg       0.58      0.51      0.50      2819\n",
      "weighted avg       0.86      0.91      0.87      2819\n",
      "\n",
      "Epoch [2], Train Loss : [6.93972] Val Loss : [6.91148] Val F1 Score : [0.49565]\n"
     ]
    },
    {
     "data": {
      "application/vnd.jupyter.widget-view+json": {
       "model_id": "dc2d0a2376704b4fa70f840538c2e6c7",
       "version_major": 2,
       "version_minor": 0
      },
      "text/plain": [
       "  0%|          | 0/45 [00:00<?, ?it/s]"
      ]
     },
     "metadata": {},
     "output_type": "display_data"
    },
    {
     "data": {
      "application/vnd.jupyter.widget-view+json": {
       "model_id": "9eea756f7e0a47c9be9114fb361d1e4f",
       "version_major": 2,
       "version_minor": 0
      },
      "text/plain": [
       "  0%|          | 0/12 [00:00<?, ?it/s]"
      ]
     },
     "metadata": {},
     "output_type": "display_data"
    },
    {
     "name": "stdout",
     "output_type": "stream",
     "text": [
      "[[2571    7]\n",
      " [ 241    0]]\n",
      "              precision    recall  f1-score   support\n",
      "\n",
      "       0: 정상       0.91      1.00      0.95      2578\n",
      "       1: 이상       0.00      0.00      0.00       241\n",
      "\n",
      "    accuracy                           0.91      2819\n",
      "   macro avg       0.46      0.50      0.48      2819\n",
      "weighted avg       0.84      0.91      0.87      2819\n",
      "\n",
      "Epoch [3], Train Loss : [6.92981] Val Loss : [6.76505] Val F1 Score : [0.47699]\n",
      "Epoch 00004: reducing learning rate of group 0 to 5.0000e-03.\n"
     ]
    },
    {
     "data": {
      "application/vnd.jupyter.widget-view+json": {
       "model_id": "ae9a6d5efe3f41609d6b948f273da4a9",
       "version_major": 2,
       "version_minor": 0
      },
      "text/plain": [
       "  0%|          | 0/45 [00:00<?, ?it/s]"
      ]
     },
     "metadata": {},
     "output_type": "display_data"
    },
    {
     "data": {
      "application/vnd.jupyter.widget-view+json": {
       "model_id": "c7c994cd1e104628bfd3f43b0f3c08bf",
       "version_major": 2,
       "version_minor": 0
      },
      "text/plain": [
       "  0%|          | 0/12 [00:00<?, ?it/s]"
      ]
     },
     "metadata": {},
     "output_type": "display_data"
    },
    {
     "name": "stdout",
     "output_type": "stream",
     "text": [
      "[[2533   45]\n",
      " [ 229   12]]\n",
      "              precision    recall  f1-score   support\n",
      "\n",
      "       0: 정상       0.92      0.98      0.95      2578\n",
      "       1: 이상       0.21      0.05      0.08       241\n",
      "\n",
      "    accuracy                           0.90      2819\n",
      "   macro avg       0.56      0.52      0.51      2819\n",
      "weighted avg       0.86      0.90      0.87      2819\n",
      "\n",
      "Epoch [4], Train Loss : [6.86789] Val Loss : [6.71960] Val F1 Score : [0.51461]\n"
     ]
    },
    {
     "data": {
      "application/vnd.jupyter.widget-view+json": {
       "model_id": "785003d2ae6b43f58ab97f0875e88af9",
       "version_major": 2,
       "version_minor": 0
      },
      "text/plain": [
       "  0%|          | 0/45 [00:00<?, ?it/s]"
      ]
     },
     "metadata": {},
     "output_type": "display_data"
    },
    {
     "data": {
      "application/vnd.jupyter.widget-view+json": {
       "model_id": "6c480882d2644a7daebe591279a0aabf",
       "version_major": 2,
       "version_minor": 0
      },
      "text/plain": [
       "  0%|          | 0/12 [00:00<?, ?it/s]"
      ]
     },
     "metadata": {},
     "output_type": "display_data"
    },
    {
     "name": "stdout",
     "output_type": "stream",
     "text": [
      "[[2565   13]\n",
      " [ 239    2]]\n",
      "              precision    recall  f1-score   support\n",
      "\n",
      "       0: 정상       0.91      0.99      0.95      2578\n",
      "       1: 이상       0.13      0.01      0.02       241\n",
      "\n",
      "    accuracy                           0.91      2819\n",
      "   macro avg       0.52      0.50      0.48      2819\n",
      "weighted avg       0.85      0.91      0.87      2819\n",
      "\n",
      "Epoch [5], Train Loss : [6.81187] Val Loss : [6.72402] Val F1 Score : [0.48440]\n",
      "Epoch 00006: reducing learning rate of group 0 to 2.5000e-03.\n"
     ]
    },
    {
     "data": {
      "application/vnd.jupyter.widget-view+json": {
       "model_id": "0c490d3d3c6b4dcdbcfef19e2e9c743b",
       "version_major": 2,
       "version_minor": 0
      },
      "text/plain": [
       "  0%|          | 0/45 [00:00<?, ?it/s]"
      ]
     },
     "metadata": {},
     "output_type": "display_data"
    },
    {
     "data": {
      "application/vnd.jupyter.widget-view+json": {
       "model_id": "5fbb99277c4d4a148e10ff30ff36279c",
       "version_major": 2,
       "version_minor": 0
      },
      "text/plain": [
       "  0%|          | 0/12 [00:00<?, ?it/s]"
      ]
     },
     "metadata": {},
     "output_type": "display_data"
    },
    {
     "name": "stdout",
     "output_type": "stream",
     "text": [
      "[[2548   30]\n",
      " [ 228   13]]\n",
      "              precision    recall  f1-score   support\n",
      "\n",
      "       0: 정상       0.92      0.99      0.95      2578\n",
      "       1: 이상       0.30      0.05      0.09       241\n",
      "\n",
      "    accuracy                           0.91      2819\n",
      "   macro avg       0.61      0.52      0.52      2819\n",
      "weighted avg       0.87      0.91      0.88      2819\n",
      "\n",
      "Epoch [6], Train Loss : [6.74811] Val Loss : [6.68860] Val F1 Score : [0.52168]\n"
     ]
    },
    {
     "data": {
      "application/vnd.jupyter.widget-view+json": {
       "model_id": "d6bf311924094af599083bdb2134cc83",
       "version_major": 2,
       "version_minor": 0
      },
      "text/plain": [
       "  0%|          | 0/45 [00:00<?, ?it/s]"
      ]
     },
     "metadata": {},
     "output_type": "display_data"
    },
    {
     "data": {
      "application/vnd.jupyter.widget-view+json": {
       "model_id": "b9d98307bd0f4e869c0a59262bf6ba92",
       "version_major": 2,
       "version_minor": 0
      },
      "text/plain": [
       "  0%|          | 0/12 [00:00<?, ?it/s]"
      ]
     },
     "metadata": {},
     "output_type": "display_data"
    },
    {
     "name": "stdout",
     "output_type": "stream",
     "text": [
      "[[2558   20]\n",
      " [ 229   12]]\n",
      "              precision    recall  f1-score   support\n",
      "\n",
      "       0: 정상       0.92      0.99      0.95      2578\n",
      "       1: 이상       0.38      0.05      0.09       241\n",
      "\n",
      "    accuracy                           0.91      2819\n",
      "   macro avg       0.65      0.52      0.52      2819\n",
      "weighted avg       0.87      0.91      0.88      2819\n",
      "\n",
      "Epoch [7], Train Loss : [6.69823] Val Loss : [6.68180] Val F1 Score : [0.52075]\n",
      "Epoch 00008: reducing learning rate of group 0 to 1.2500e-03.\n"
     ]
    },
    {
     "data": {
      "application/vnd.jupyter.widget-view+json": {
       "model_id": "ed2101902d384c8e8950bdc9004a6fb9",
       "version_major": 2,
       "version_minor": 0
      },
      "text/plain": [
       "  0%|          | 0/45 [00:00<?, ?it/s]"
      ]
     },
     "metadata": {},
     "output_type": "display_data"
    },
    {
     "data": {
      "application/vnd.jupyter.widget-view+json": {
       "model_id": "28aa20221e434dc2bc9a1bf1024975de",
       "version_major": 2,
       "version_minor": 0
      },
      "text/plain": [
       "  0%|          | 0/12 [00:00<?, ?it/s]"
      ]
     },
     "metadata": {},
     "output_type": "display_data"
    },
    {
     "name": "stdout",
     "output_type": "stream",
     "text": [
      "[[2551   27]\n",
      " [ 229   12]]\n",
      "              precision    recall  f1-score   support\n",
      "\n",
      "       0: 정상       0.92      0.99      0.95      2578\n",
      "       1: 이상       0.31      0.05      0.09       241\n",
      "\n",
      "    accuracy                           0.91      2819\n",
      "   macro avg       0.61      0.52      0.52      2819\n",
      "weighted avg       0.87      0.91      0.88      2819\n",
      "\n",
      "Epoch [8], Train Loss : [6.63682] Val Loss : [6.64822] Val F1 Score : [0.51897]\n"
     ]
    },
    {
     "data": {
      "application/vnd.jupyter.widget-view+json": {
       "model_id": "22377b1b287f47e0beb613bd6301ccc0",
       "version_major": 2,
       "version_minor": 0
      },
      "text/plain": [
       "  0%|          | 0/45 [00:00<?, ?it/s]"
      ]
     },
     "metadata": {},
     "output_type": "display_data"
    },
    {
     "data": {
      "application/vnd.jupyter.widget-view+json": {
       "model_id": "0f8d911d739b4ba994261e8302ed030f",
       "version_major": 2,
       "version_minor": 0
      },
      "text/plain": [
       "  0%|          | 0/12 [00:00<?, ?it/s]"
      ]
     },
     "metadata": {},
     "output_type": "display_data"
    },
    {
     "name": "stdout",
     "output_type": "stream",
     "text": [
      "[[2545   33]\n",
      " [ 227   14]]\n",
      "              precision    recall  f1-score   support\n",
      "\n",
      "       0: 정상       0.92      0.99      0.95      2578\n",
      "       1: 이상       0.30      0.06      0.10       241\n",
      "\n",
      "    accuracy                           0.91      2819\n",
      "   macro avg       0.61      0.52      0.52      2819\n",
      "weighted avg       0.87      0.91      0.88      2819\n",
      "\n",
      "Epoch [9], Train Loss : [6.60770] Val Loss : [6.71636] Val F1 Score : [0.52431]\n",
      "Epoch 00010: reducing learning rate of group 0 to 6.2500e-04.\n"
     ]
    },
    {
     "data": {
      "application/vnd.jupyter.widget-view+json": {
       "model_id": "4f1d05d212ac4e4eb0b708cd71cd7f22",
       "version_major": 2,
       "version_minor": 0
      },
      "text/plain": [
       "  0%|          | 0/45 [00:00<?, ?it/s]"
      ]
     },
     "metadata": {},
     "output_type": "display_data"
    },
    {
     "data": {
      "application/vnd.jupyter.widget-view+json": {
       "model_id": "88e5e9cd28be4e95b8d64973ff9fceb2",
       "version_major": 2,
       "version_minor": 0
      },
      "text/plain": [
       "  0%|          | 0/12 [00:00<?, ?it/s]"
      ]
     },
     "metadata": {},
     "output_type": "display_data"
    },
    {
     "name": "stdout",
     "output_type": "stream",
     "text": [
      "[[2550   28]\n",
      " [ 228   13]]\n",
      "              precision    recall  f1-score   support\n",
      "\n",
      "       0: 정상       0.92      0.99      0.95      2578\n",
      "       1: 이상       0.32      0.05      0.09       241\n",
      "\n",
      "    accuracy                           0.91      2819\n",
      "   macro avg       0.62      0.52      0.52      2819\n",
      "weighted avg       0.87      0.91      0.88      2819\n",
      "\n",
      "Epoch [10], Train Loss : [6.57998] Val Loss : [6.68025] Val F1 Score : [0.52220]\n"
     ]
    },
    {
     "data": {
      "application/vnd.jupyter.widget-view+json": {
       "model_id": "2bf10b2f6c864bb7ad4e9e909409658c",
       "version_major": 2,
       "version_minor": 0
      },
      "text/plain": [
       "  0%|          | 0/45 [00:00<?, ?it/s]"
      ]
     },
     "metadata": {},
     "output_type": "display_data"
    },
    {
     "data": {
      "application/vnd.jupyter.widget-view+json": {
       "model_id": "f4f83ef0bda547e08ed04b09c9a9a634",
       "version_major": 2,
       "version_minor": 0
      },
      "text/plain": [
       "  0%|          | 0/12 [00:00<?, ?it/s]"
      ]
     },
     "metadata": {},
     "output_type": "display_data"
    },
    {
     "name": "stdout",
     "output_type": "stream",
     "text": [
      "[[2552   26]\n",
      " [ 228   13]]\n",
      "              precision    recall  f1-score   support\n",
      "\n",
      "       0: 정상       0.92      0.99      0.95      2578\n",
      "       1: 이상       0.33      0.05      0.09       241\n",
      "\n",
      "    accuracy                           0.91      2819\n",
      "   macro avg       0.63      0.52      0.52      2819\n",
      "weighted avg       0.87      0.91      0.88      2819\n",
      "\n",
      "Epoch [11], Train Loss : [6.59594] Val Loss : [6.69026] Val F1 Score : [0.52273]\n",
      "Epoch 00012: reducing learning rate of group 0 to 3.1250e-04.\n"
     ]
    },
    {
     "data": {
      "application/vnd.jupyter.widget-view+json": {
       "model_id": "5d19f02a814e4e718dad3ec3fd88c05a",
       "version_major": 2,
       "version_minor": 0
      },
      "text/plain": [
       "  0%|          | 0/45 [00:00<?, ?it/s]"
      ]
     },
     "metadata": {},
     "output_type": "display_data"
    },
    {
     "data": {
      "application/vnd.jupyter.widget-view+json": {
       "model_id": "428c29b9ab5149bdbe99fa6412bb565a",
       "version_major": 2,
       "version_minor": 0
      },
      "text/plain": [
       "  0%|          | 0/12 [00:00<?, ?it/s]"
      ]
     },
     "metadata": {},
     "output_type": "display_data"
    },
    {
     "name": "stdout",
     "output_type": "stream",
     "text": [
      "[[2555   23]\n",
      " [ 230   11]]\n",
      "              precision    recall  f1-score   support\n",
      "\n",
      "       0: 정상       0.92      0.99      0.95      2578\n",
      "       1: 이상       0.32      0.05      0.08       241\n",
      "\n",
      "    accuracy                           0.91      2819\n",
      "   macro avg       0.62      0.52      0.52      2819\n",
      "weighted avg       0.87      0.91      0.88      2819\n",
      "\n",
      "Epoch [12], Train Loss : [6.53141] Val Loss : [6.68978] Val F1 Score : [0.51641]\n"
     ]
    },
    {
     "data": {
      "application/vnd.jupyter.widget-view+json": {
       "model_id": "774f2c94339541be8a0e741b0a68cdb8",
       "version_major": 2,
       "version_minor": 0
      },
      "text/plain": [
       "  0%|          | 0/45 [00:00<?, ?it/s]"
      ]
     },
     "metadata": {},
     "output_type": "display_data"
    },
    {
     "data": {
      "application/vnd.jupyter.widget-view+json": {
       "model_id": "224d47dfba7c40c0a403362af629c270",
       "version_major": 2,
       "version_minor": 0
      },
      "text/plain": [
       "  0%|          | 0/12 [00:00<?, ?it/s]"
      ]
     },
     "metadata": {},
     "output_type": "display_data"
    },
    {
     "name": "stdout",
     "output_type": "stream",
     "text": [
      "[[2550   28]\n",
      " [ 229   12]]\n",
      "              precision    recall  f1-score   support\n",
      "\n",
      "       0: 정상       0.92      0.99      0.95      2578\n",
      "       1: 이상       0.30      0.05      0.09       241\n",
      "\n",
      "    accuracy                           0.91      2819\n",
      "   macro avg       0.61      0.52      0.52      2819\n",
      "weighted avg       0.86      0.91      0.88      2819\n",
      "\n",
      "Epoch [13], Train Loss : [6.56084] Val Loss : [6.70115] Val F1 Score : [0.51872]\n",
      "Epoch 00014: reducing learning rate of group 0 to 1.5625e-04.\n"
     ]
    },
    {
     "data": {
      "application/vnd.jupyter.widget-view+json": {
       "model_id": "535e4c10fed64570abdc5054b45fb78c",
       "version_major": 2,
       "version_minor": 0
      },
      "text/plain": [
       "  0%|          | 0/45 [00:00<?, ?it/s]"
      ]
     },
     "metadata": {},
     "output_type": "display_data"
    },
    {
     "data": {
      "application/vnd.jupyter.widget-view+json": {
       "model_id": "94fb0e9257b54b57a0d70a17b2519324",
       "version_major": 2,
       "version_minor": 0
      },
      "text/plain": [
       "  0%|          | 0/12 [00:00<?, ?it/s]"
      ]
     },
     "metadata": {},
     "output_type": "display_data"
    },
    {
     "name": "stdout",
     "output_type": "stream",
     "text": [
      "[[2547   31]\n",
      " [ 228   13]]\n",
      "              precision    recall  f1-score   support\n",
      "\n",
      "       0: 정상       0.92      0.99      0.95      2578\n",
      "       1: 이상       0.30      0.05      0.09       241\n",
      "\n",
      "    accuracy                           0.91      2819\n",
      "   macro avg       0.61      0.52      0.52      2819\n",
      "weighted avg       0.86      0.91      0.88      2819\n",
      "\n",
      "Epoch [14], Train Loss : [6.56965] Val Loss : [6.69471] Val F1 Score : [0.52142]\n"
     ]
    },
    {
     "data": {
      "application/vnd.jupyter.widget-view+json": {
       "model_id": "e1a1ae0960b14dbcbfd966828661e556",
       "version_major": 2,
       "version_minor": 0
      },
      "text/plain": [
       "  0%|          | 0/45 [00:00<?, ?it/s]"
      ]
     },
     "metadata": {},
     "output_type": "display_data"
    },
    {
     "data": {
      "application/vnd.jupyter.widget-view+json": {
       "model_id": "2c0cfa04873a45e29d0c1f1a6d691f4a",
       "version_major": 2,
       "version_minor": 0
      },
      "text/plain": [
       "  0%|          | 0/12 [00:00<?, ?it/s]"
      ]
     },
     "metadata": {},
     "output_type": "display_data"
    },
    {
     "name": "stdout",
     "output_type": "stream",
     "text": [
      "[[2553   25]\n",
      " [ 230   11]]\n",
      "              precision    recall  f1-score   support\n",
      "\n",
      "       0: 정상       0.92      0.99      0.95      2578\n",
      "       1: 이상       0.31      0.05      0.08       241\n",
      "\n",
      "    accuracy                           0.91      2819\n",
      "   macro avg       0.61      0.52      0.52      2819\n",
      "weighted avg       0.87      0.91      0.88      2819\n",
      "\n",
      "Epoch [15], Train Loss : [6.55668] Val Loss : [6.67684] Val F1 Score : [0.51593]\n",
      "Epoch 00016: reducing learning rate of group 0 to 7.8125e-05.\n"
     ]
    },
    {
     "data": {
      "application/vnd.jupyter.widget-view+json": {
       "model_id": "3e03adea010a4876b7f0d38c18d8e223",
       "version_major": 2,
       "version_minor": 0
      },
      "text/plain": [
       "  0%|          | 0/45 [00:00<?, ?it/s]"
      ]
     },
     "metadata": {},
     "output_type": "display_data"
    },
    {
     "data": {
      "application/vnd.jupyter.widget-view+json": {
       "model_id": "47f8c8c2dbf1425f929f154f59c96164",
       "version_major": 2,
       "version_minor": 0
      },
      "text/plain": [
       "  0%|          | 0/12 [00:00<?, ?it/s]"
      ]
     },
     "metadata": {},
     "output_type": "display_data"
    },
    {
     "name": "stdout",
     "output_type": "stream",
     "text": [
      "[[2549   29]\n",
      " [ 227   14]]\n",
      "              precision    recall  f1-score   support\n",
      "\n",
      "       0: 정상       0.92      0.99      0.95      2578\n",
      "       1: 이상       0.33      0.06      0.10       241\n",
      "\n",
      "    accuracy                           0.91      2819\n",
      "   macro avg       0.62      0.52      0.53      2819\n",
      "weighted avg       0.87      0.91      0.88      2819\n",
      "\n",
      "Epoch [16], Train Loss : [6.53073] Val Loss : [6.69599] Val F1 Score : [0.52539]\n"
     ]
    },
    {
     "data": {
      "application/vnd.jupyter.widget-view+json": {
       "model_id": "20a555d0d253491780bed698fd810189",
       "version_major": 2,
       "version_minor": 0
      },
      "text/plain": [
       "  0%|          | 0/45 [00:00<?, ?it/s]"
      ]
     },
     "metadata": {},
     "output_type": "display_data"
    },
    {
     "data": {
      "application/vnd.jupyter.widget-view+json": {
       "model_id": "d8e1bd7e952649b6b940bc67715675bf",
       "version_major": 2,
       "version_minor": 0
      },
      "text/plain": [
       "  0%|          | 0/12 [00:00<?, ?it/s]"
      ]
     },
     "metadata": {},
     "output_type": "display_data"
    },
    {
     "name": "stdout",
     "output_type": "stream",
     "text": [
      "[[2554   24]\n",
      " [ 228   13]]\n",
      "              precision    recall  f1-score   support\n",
      "\n",
      "       0: 정상       0.92      0.99      0.95      2578\n",
      "       1: 이상       0.35      0.05      0.09       241\n",
      "\n",
      "    accuracy                           0.91      2819\n",
      "   macro avg       0.63      0.52      0.52      2819\n",
      "weighted avg       0.87      0.91      0.88      2819\n",
      "\n",
      "Epoch [17], Train Loss : [6.58172] Val Loss : [6.69374] Val F1 Score : [0.52326]\n",
      "Epoch 00018: reducing learning rate of group 0 to 3.9063e-05.\n"
     ]
    },
    {
     "data": {
      "application/vnd.jupyter.widget-view+json": {
       "model_id": "5fd7c05f480748cca9bf1ef63d048970",
       "version_major": 2,
       "version_minor": 0
      },
      "text/plain": [
       "  0%|          | 0/45 [00:00<?, ?it/s]"
      ]
     },
     "metadata": {},
     "output_type": "display_data"
    },
    {
     "data": {
      "application/vnd.jupyter.widget-view+json": {
       "model_id": "346a0e4034b443399e76e357f85617bc",
       "version_major": 2,
       "version_minor": 0
      },
      "text/plain": [
       "  0%|          | 0/12 [00:00<?, ?it/s]"
      ]
     },
     "metadata": {},
     "output_type": "display_data"
    },
    {
     "name": "stdout",
     "output_type": "stream",
     "text": [
      "[[2552   26]\n",
      " [ 230   11]]\n",
      "              precision    recall  f1-score   support\n",
      "\n",
      "       0: 정상       0.92      0.99      0.95      2578\n",
      "       1: 이상       0.30      0.05      0.08       241\n",
      "\n",
      "    accuracy                           0.91      2819\n",
      "   macro avg       0.61      0.52      0.52      2819\n",
      "weighted avg       0.86      0.91      0.88      2819\n",
      "\n",
      "Epoch [18], Train Loss : [6.50670] Val Loss : [6.70120] Val F1 Score : [0.51569]\n"
     ]
    },
    {
     "data": {
      "application/vnd.jupyter.widget-view+json": {
       "model_id": "aad069ee6cff4e649419d95f7a156706",
       "version_major": 2,
       "version_minor": 0
      },
      "text/plain": [
       "  0%|          | 0/45 [00:00<?, ?it/s]"
      ]
     },
     "metadata": {},
     "output_type": "display_data"
    },
    {
     "data": {
      "application/vnd.jupyter.widget-view+json": {
       "model_id": "50744ddd069549b0988f6463976ca827",
       "version_major": 2,
       "version_minor": 0
      },
      "text/plain": [
       "  0%|          | 0/12 [00:00<?, ?it/s]"
      ]
     },
     "metadata": {},
     "output_type": "display_data"
    },
    {
     "name": "stdout",
     "output_type": "stream",
     "text": [
      "[[2558   20]\n",
      " [ 228   13]]\n",
      "              precision    recall  f1-score   support\n",
      "\n",
      "       0: 정상       0.92      0.99      0.95      2578\n",
      "       1: 이상       0.39      0.05      0.09       241\n",
      "\n",
      "    accuracy                           0.91      2819\n",
      "   macro avg       0.66      0.52      0.52      2819\n",
      "weighted avg       0.87      0.91      0.88      2819\n",
      "\n",
      "Epoch [19], Train Loss : [6.51868] Val Loss : [6.69097] Val F1 Score : [0.52433]\n",
      "Epoch 00020: reducing learning rate of group 0 to 1.9531e-05.\n"
     ]
    },
    {
     "data": {
      "application/vnd.jupyter.widget-view+json": {
       "model_id": "711d6593c5b84819a0617eef65cfb104",
       "version_major": 2,
       "version_minor": 0
      },
      "text/plain": [
       "  0%|          | 0/45 [00:00<?, ?it/s]"
      ]
     },
     "metadata": {},
     "output_type": "display_data"
    },
    {
     "data": {
      "application/vnd.jupyter.widget-view+json": {
       "model_id": "89f196c96300469b92189c62d94b6332",
       "version_major": 2,
       "version_minor": 0
      },
      "text/plain": [
       "  0%|          | 0/12 [00:00<?, ?it/s]"
      ]
     },
     "metadata": {},
     "output_type": "display_data"
    },
    {
     "name": "stdout",
     "output_type": "stream",
     "text": [
      "[[2550   28]\n",
      " [ 227   14]]\n",
      "              precision    recall  f1-score   support\n",
      "\n",
      "       0: 정상       0.92      0.99      0.95      2578\n",
      "       1: 이상       0.33      0.06      0.10       241\n",
      "\n",
      "    accuracy                           0.91      2819\n",
      "   macro avg       0.63      0.52      0.53      2819\n",
      "weighted avg       0.87      0.91      0.88      2819\n",
      "\n",
      "Epoch [20], Train Loss : [6.51760] Val Loss : [6.70973] Val F1 Score : [0.52566]\n"
     ]
    },
    {
     "data": {
      "application/vnd.jupyter.widget-view+json": {
       "model_id": "45c8122022b84cb7a789f304ee90d0f1",
       "version_major": 2,
       "version_minor": 0
      },
      "text/plain": [
       "  0%|          | 0/45 [00:00<?, ?it/s]"
      ]
     },
     "metadata": {},
     "output_type": "display_data"
    },
    {
     "data": {
      "application/vnd.jupyter.widget-view+json": {
       "model_id": "3bf1194f8b464e999f14cdcc60fc4194",
       "version_major": 2,
       "version_minor": 0
      },
      "text/plain": [
       "  0%|          | 0/12 [00:00<?, ?it/s]"
      ]
     },
     "metadata": {},
     "output_type": "display_data"
    },
    {
     "name": "stdout",
     "output_type": "stream",
     "text": [
      "[[2549   29]\n",
      " [ 228   13]]\n",
      "              precision    recall  f1-score   support\n",
      "\n",
      "       0: 정상       0.92      0.99      0.95      2578\n",
      "       1: 이상       0.31      0.05      0.09       241\n",
      "\n",
      "    accuracy                           0.91      2819\n",
      "   macro avg       0.61      0.52      0.52      2819\n",
      "weighted avg       0.87      0.91      0.88      2819\n",
      "\n",
      "Epoch [21], Train Loss : [6.53842] Val Loss : [6.70605] Val F1 Score : [0.52194]\n",
      "Epoch 00022: reducing learning rate of group 0 to 9.7656e-06.\n"
     ]
    },
    {
     "data": {
      "application/vnd.jupyter.widget-view+json": {
       "model_id": "ecf69d5f492f47cfa66a2c9262c242c0",
       "version_major": 2,
       "version_minor": 0
      },
      "text/plain": [
       "  0%|          | 0/45 [00:00<?, ?it/s]"
      ]
     },
     "metadata": {},
     "output_type": "display_data"
    },
    {
     "data": {
      "application/vnd.jupyter.widget-view+json": {
       "model_id": "11638103747b4c289bb607c0ec93778b",
       "version_major": 2,
       "version_minor": 0
      },
      "text/plain": [
       "  0%|          | 0/12 [00:00<?, ?it/s]"
      ]
     },
     "metadata": {},
     "output_type": "display_data"
    },
    {
     "name": "stdout",
     "output_type": "stream",
     "text": [
      "[[2554   24]\n",
      " [ 229   12]]\n",
      "              precision    recall  f1-score   support\n",
      "\n",
      "       0: 정상       0.92      0.99      0.95      2578\n",
      "       1: 이상       0.33      0.05      0.09       241\n",
      "\n",
      "    accuracy                           0.91      2819\n",
      "   macro avg       0.63      0.52      0.52      2819\n",
      "weighted avg       0.87      0.91      0.88      2819\n",
      "\n",
      "Epoch [22], Train Loss : [6.50735] Val Loss : [6.69237] Val F1 Score : [0.51972]\n"
     ]
    },
    {
     "data": {
      "application/vnd.jupyter.widget-view+json": {
       "model_id": "96e64d54c2c342cca085fe00dc72bea1",
       "version_major": 2,
       "version_minor": 0
      },
      "text/plain": [
       "  0%|          | 0/45 [00:00<?, ?it/s]"
      ]
     },
     "metadata": {},
     "output_type": "display_data"
    },
    {
     "data": {
      "application/vnd.jupyter.widget-view+json": {
       "model_id": "35c09c5bdaab4074b5d5e352eefdd7b0",
       "version_major": 2,
       "version_minor": 0
      },
      "text/plain": [
       "  0%|          | 0/12 [00:00<?, ?it/s]"
      ]
     },
     "metadata": {},
     "output_type": "display_data"
    },
    {
     "name": "stdout",
     "output_type": "stream",
     "text": [
      "[[2551   27]\n",
      " [ 230   11]]\n",
      "              precision    recall  f1-score   support\n",
      "\n",
      "       0: 정상       0.92      0.99      0.95      2578\n",
      "       1: 이상       0.29      0.05      0.08       241\n",
      "\n",
      "    accuracy                           0.91      2819\n",
      "   macro avg       0.60      0.52      0.52      2819\n",
      "weighted avg       0.86      0.91      0.88      2819\n",
      "\n",
      "Epoch [23], Train Loss : [6.52974] Val Loss : [6.68464] Val F1 Score : [0.51545]\n",
      "Epoch 00024: reducing learning rate of group 0 to 4.8828e-06.\n"
     ]
    },
    {
     "data": {
      "application/vnd.jupyter.widget-view+json": {
       "model_id": "3184c0f1d2354afd8153c0e0ccd0be81",
       "version_major": 2,
       "version_minor": 0
      },
      "text/plain": [
       "  0%|          | 0/45 [00:00<?, ?it/s]"
      ]
     },
     "metadata": {},
     "output_type": "display_data"
    },
    {
     "data": {
      "application/vnd.jupyter.widget-view+json": {
       "model_id": "40cf4671f3a74e5883d0ea9c94fa5dca",
       "version_major": 2,
       "version_minor": 0
      },
      "text/plain": [
       "  0%|          | 0/12 [00:00<?, ?it/s]"
      ]
     },
     "metadata": {},
     "output_type": "display_data"
    },
    {
     "name": "stdout",
     "output_type": "stream",
     "text": [
      "[[2553   25]\n",
      " [ 228   13]]\n",
      "              precision    recall  f1-score   support\n",
      "\n",
      "       0: 정상       0.92      0.99      0.95      2578\n",
      "       1: 이상       0.34      0.05      0.09       241\n",
      "\n",
      "    accuracy                           0.91      2819\n",
      "   macro avg       0.63      0.52      0.52      2819\n",
      "weighted avg       0.87      0.91      0.88      2819\n",
      "\n",
      "Epoch [24], Train Loss : [6.53781] Val Loss : [6.69664] Val F1 Score : [0.52299]\n"
     ]
    },
    {
     "data": {
      "application/vnd.jupyter.widget-view+json": {
       "model_id": "88b23cad6cb3446780593332e995b649",
       "version_major": 2,
       "version_minor": 0
      },
      "text/plain": [
       "  0%|          | 0/45 [00:00<?, ?it/s]"
      ]
     },
     "metadata": {},
     "output_type": "display_data"
    },
    {
     "data": {
      "application/vnd.jupyter.widget-view+json": {
       "model_id": "cfef549a435d42f6bb7330e473951c24",
       "version_major": 2,
       "version_minor": 0
      },
      "text/plain": [
       "  0%|          | 0/12 [00:00<?, ?it/s]"
      ]
     },
     "metadata": {},
     "output_type": "display_data"
    },
    {
     "name": "stdout",
     "output_type": "stream",
     "text": [
      "[[2552   26]\n",
      " [ 227   14]]\n",
      "              precision    recall  f1-score   support\n",
      "\n",
      "       0: 정상       0.92      0.99      0.95      2578\n",
      "       1: 이상       0.35      0.06      0.10       241\n",
      "\n",
      "    accuracy                           0.91      2819\n",
      "   macro avg       0.63      0.52      0.53      2819\n",
      "weighted avg       0.87      0.91      0.88      2819\n",
      "\n",
      "Epoch [25], Train Loss : [6.53695] Val Loss : [6.69944] Val F1 Score : [0.52621]\n",
      "Epoch 00026: reducing learning rate of group 0 to 2.4414e-06.\n"
     ]
    },
    {
     "data": {
      "application/vnd.jupyter.widget-view+json": {
       "model_id": "799a45b5d78c446d89059d4ded9319a9",
       "version_major": 2,
       "version_minor": 0
      },
      "text/plain": [
       "  0%|          | 0/45 [00:00<?, ?it/s]"
      ]
     },
     "metadata": {},
     "output_type": "display_data"
    },
    {
     "data": {
      "application/vnd.jupyter.widget-view+json": {
       "model_id": "b32b065ff09c4f3c91a6acf71f405401",
       "version_major": 2,
       "version_minor": 0
      },
      "text/plain": [
       "  0%|          | 0/12 [00:00<?, ?it/s]"
      ]
     },
     "metadata": {},
     "output_type": "display_data"
    },
    {
     "name": "stdout",
     "output_type": "stream",
     "text": [
      "[[2557   21]\n",
      " [ 230   11]]\n",
      "              precision    recall  f1-score   support\n",
      "\n",
      "       0: 정상       0.92      0.99      0.95      2578\n",
      "       1: 이상       0.34      0.05      0.08       241\n",
      "\n",
      "    accuracy                           0.91      2819\n",
      "   macro avg       0.63      0.52      0.52      2819\n",
      "weighted avg       0.87      0.91      0.88      2819\n",
      "\n",
      "Epoch [26], Train Loss : [6.50761] Val Loss : [6.70240] Val F1 Score : [0.51690]\n"
     ]
    },
    {
     "data": {
      "application/vnd.jupyter.widget-view+json": {
       "model_id": "c38421429bca42d5bd06172814c2a954",
       "version_major": 2,
       "version_minor": 0
      },
      "text/plain": [
       "  0%|          | 0/45 [00:00<?, ?it/s]"
      ]
     },
     "metadata": {},
     "output_type": "display_data"
    },
    {
     "data": {
      "application/vnd.jupyter.widget-view+json": {
       "model_id": "7aa355f89a2f49b8b104aee37bdbca4e",
       "version_major": 2,
       "version_minor": 0
      },
      "text/plain": [
       "  0%|          | 0/12 [00:00<?, ?it/s]"
      ]
     },
     "metadata": {},
     "output_type": "display_data"
    },
    {
     "name": "stdout",
     "output_type": "stream",
     "text": [
      "[[2565   13]\n",
      " [ 234    7]]\n",
      "              precision    recall  f1-score   support\n",
      "\n",
      "       0: 정상       0.92      0.99      0.95      2578\n",
      "       1: 이상       0.35      0.03      0.05       241\n",
      "\n",
      "    accuracy                           0.91      2819\n",
      "   macro avg       0.63      0.51      0.50      2819\n",
      "weighted avg       0.87      0.91      0.88      2819\n",
      "\n",
      "Epoch [27], Train Loss : [6.51762] Val Loss : [6.65970] Val F1 Score : [0.50385]\n",
      "Epoch 00028: reducing learning rate of group 0 to 1.2207e-06.\n"
     ]
    },
    {
     "data": {
      "application/vnd.jupyter.widget-view+json": {
       "model_id": "2b750bb8a6f14ecbb8bc7f1506efe4c5",
       "version_major": 2,
       "version_minor": 0
      },
      "text/plain": [
       "  0%|          | 0/45 [00:00<?, ?it/s]"
      ]
     },
     "metadata": {},
     "output_type": "display_data"
    },
    {
     "data": {
      "application/vnd.jupyter.widget-view+json": {
       "model_id": "d4322c216bb94d00b1f89ef32106431d",
       "version_major": 2,
       "version_minor": 0
      },
      "text/plain": [
       "  0%|          | 0/12 [00:00<?, ?it/s]"
      ]
     },
     "metadata": {},
     "output_type": "display_data"
    },
    {
     "name": "stdout",
     "output_type": "stream",
     "text": [
      "[[2551   27]\n",
      " [ 228   13]]\n",
      "              precision    recall  f1-score   support\n",
      "\n",
      "       0: 정상       0.92      0.99      0.95      2578\n",
      "       1: 이상       0.33      0.05      0.09       241\n",
      "\n",
      "    accuracy                           0.91      2819\n",
      "   macro avg       0.62      0.52      0.52      2819\n",
      "weighted avg       0.87      0.91      0.88      2819\n",
      "\n",
      "Epoch [28], Train Loss : [6.53472] Val Loss : [6.70891] Val F1 Score : [0.52246]\n"
     ]
    },
    {
     "data": {
      "application/vnd.jupyter.widget-view+json": {
       "model_id": "1b025e62d6e04a58a83ce4d9b268d48e",
       "version_major": 2,
       "version_minor": 0
      },
      "text/plain": [
       "  0%|          | 0/45 [00:00<?, ?it/s]"
      ]
     },
     "metadata": {},
     "output_type": "display_data"
    },
    {
     "data": {
      "application/vnd.jupyter.widget-view+json": {
       "model_id": "4bb98ad513364113aedad2984a795e9d",
       "version_major": 2,
       "version_minor": 0
      },
      "text/plain": [
       "  0%|          | 0/12 [00:00<?, ?it/s]"
      ]
     },
     "metadata": {},
     "output_type": "display_data"
    },
    {
     "name": "stdout",
     "output_type": "stream",
     "text": [
      "[[2551   27]\n",
      " [ 230   11]]\n",
      "              precision    recall  f1-score   support\n",
      "\n",
      "       0: 정상       0.92      0.99      0.95      2578\n",
      "       1: 이상       0.29      0.05      0.08       241\n",
      "\n",
      "    accuracy                           0.91      2819\n",
      "   macro avg       0.60      0.52      0.52      2819\n",
      "weighted avg       0.86      0.91      0.88      2819\n",
      "\n",
      "Epoch [29], Train Loss : [6.51987] Val Loss : [6.70148] Val F1 Score : [0.51545]\n",
      "Epoch 00030: reducing learning rate of group 0 to 6.1035e-07.\n",
      "Student Train Best Score는 0.5620487935862518 입니다.\n"
     ]
    }
   ],
   "source": [
    "student_model = Student()\n",
    "student_model.eval()\n",
    "optimizer = torch.optim.Adam(student_model.parameters(), lr=CFG['LEARNING_RATE'])\n",
    "scheduler = torch.optim.lr_scheduler.ReduceLROnPlateau(optimizer, mode='max', factor=0.5, patience=1, threshold_mode='abs',min_lr=1e-8, verbose=True)\n",
    "\n",
    "best_student_model = student_train(student_model, teacher_model, optimizer, train_loader, val_loader, scheduler, device)\n"
   ]
  },
  {
   "cell_type": "code",
   "execution_count": 67,
   "id": "5de1a60c",
   "metadata": {},
   "outputs": [],
   "source": [
    "PATH1 = f\"./models/{file_version}_student_net.pth\"\n",
    "torch.save(best_student_model.state_dict(), PATH1)"
   ]
  },
  {
   "cell_type": "code",
   "execution_count": 68,
   "id": "bc7d4e89",
   "metadata": {},
   "outputs": [
    {
     "data": {
      "text/plain": [
       "Student(\n",
       "  (classifier): Sequential(\n",
       "    (0): Linear(in_features=23, out_features=128, bias=True)\n",
       "    (1): Dropout(p=0.2, inplace=False)\n",
       "    (2): BatchNorm1d(128, eps=1e-05, momentum=0.1, affine=True, track_running_stats=True)\n",
       "    (3): LeakyReLU(negative_slope=0.01)\n",
       "    (4): Linear(in_features=128, out_features=512, bias=True)\n",
       "    (5): Dropout(p=0.2, inplace=False)\n",
       "    (6): BatchNorm1d(512, eps=1e-05, momentum=0.1, affine=True, track_running_stats=True)\n",
       "    (7): LeakyReLU(negative_slope=0.01)\n",
       "    (8): Linear(in_features=512, out_features=128, bias=True)\n",
       "    (9): Dropout(p=0.2, inplace=False)\n",
       "    (10): BatchNorm1d(128, eps=1e-05, momentum=0.1, affine=True, track_running_stats=True)\n",
       "    (11): LeakyReLU(negative_slope=0.01)\n",
       "    (12): Linear(in_features=128, out_features=1, bias=True)\n",
       "    (13): Sigmoid()\n",
       "  )\n",
       ")"
      ]
     },
     "execution_count": 68,
     "metadata": {},
     "output_type": "execute_result"
    }
   ],
   "source": [
    "best_student_model = Student()\n",
    "best_student_model.load_state_dict(torch.load(PATH1))\n",
    "best_student_model"
   ]
  },
  {
   "cell_type": "code",
   "execution_count": 69,
   "id": "836d8f5a",
   "metadata": {},
   "outputs": [],
   "source": [
    "def choose_threshold(model, val_loader, device):\n",
    "    model.to(device)\n",
    "    model.eval()\n",
    "    \n",
    "#     thresholds = [0.1, 0.2, 0.25, 0.3, 0.35, 0.4, 0.45, 0.5]\n",
    "    thresholds = [0.05, 0.1, 0.15, 0.2, 0.25, 0.3]\n",
    "\n",
    "    pred_labels = []\n",
    "    true_labels = []\n",
    "    \n",
    "    best_score = 0\n",
    "    best_thr = None\n",
    "    with torch.no_grad():\n",
    "        for _, x_s, y in tqdm(iter(val_loader)):\n",
    "            x_s = x_s.float().to(device)\n",
    "            y = y.float().to(device)\n",
    "            \n",
    "            model_pred = model(x_s)\n",
    "            \n",
    "            model_pred = model_pred.squeeze(1).to('cpu')\n",
    "            pred_labels += model_pred.tolist()\n",
    "            true_labels += y.tolist()\n",
    "        \n",
    "        for threshold in thresholds:\n",
    "            pred_labels_thr = np.where(np.array(pred_labels) > threshold, 1, 0)\n",
    "            score_thr = competition_metric(true_labels, pred_labels_thr)\n",
    "            cf1 = confusion_matrix(true_labels, pred_labels_thr)  \n",
    "\n",
    "            print(cf1)\n",
    "            print(classification_report(true_labels, pred_labels_thr, target_names=[\"0: 정상\", \"1: 이상\"]))\n",
    "\n",
    "            if best_score < score_thr:\n",
    "                best_score = score_thr\n",
    "                best_thr = threshold\n",
    "                \n",
    "    return best_thr, best_score"
   ]
  },
  {
   "cell_type": "code",
   "execution_count": 70,
   "id": "8a59538f",
   "metadata": {
    "scrolled": false
   },
   "outputs": [
    {
     "data": {
      "application/vnd.jupyter.widget-view+json": {
       "model_id": "d51a85f3582d480c961750732b9f10bb",
       "version_major": 2,
       "version_minor": 0
      },
      "text/plain": [
       "  0%|          | 0/12 [00:00<?, ?it/s]"
      ]
     },
     "metadata": {},
     "output_type": "display_data"
    },
    {
     "name": "stdout",
     "output_type": "stream",
     "text": [
      "[[ 978 1600]\n",
      " [  49  192]]\n",
      "              precision    recall  f1-score   support\n",
      "\n",
      "       0: 정상       0.95      0.38      0.54      2578\n",
      "       1: 이상       0.11      0.80      0.19       241\n",
      "\n",
      "    accuracy                           0.42      2819\n",
      "   macro avg       0.53      0.59      0.37      2819\n",
      "weighted avg       0.88      0.42      0.51      2819\n",
      "\n",
      "[[1688  890]\n",
      " [ 100  141]]\n",
      "              precision    recall  f1-score   support\n",
      "\n",
      "       0: 정상       0.94      0.65      0.77      2578\n",
      "       1: 이상       0.14      0.59      0.22       241\n",
      "\n",
      "    accuracy                           0.65      2819\n",
      "   macro avg       0.54      0.62      0.50      2819\n",
      "weighted avg       0.88      0.65      0.73      2819\n",
      "\n",
      "[[2071  507]\n",
      " [ 136  105]]\n",
      "              precision    recall  f1-score   support\n",
      "\n",
      "       0: 정상       0.94      0.80      0.87      2578\n",
      "       1: 이상       0.17      0.44      0.25       241\n",
      "\n",
      "    accuracy                           0.77      2819\n",
      "   macro avg       0.55      0.62      0.56      2819\n",
      "weighted avg       0.87      0.77      0.81      2819\n",
      "\n",
      "[[2285  293]\n",
      " [ 163   78]]\n",
      "              precision    recall  f1-score   support\n",
      "\n",
      "       0: 정상       0.93      0.89      0.91      2578\n",
      "       1: 이상       0.21      0.32      0.25       241\n",
      "\n",
      "    accuracy                           0.84      2819\n",
      "   macro avg       0.57      0.60      0.58      2819\n",
      "weighted avg       0.87      0.84      0.85      2819\n",
      "\n",
      "[[2426  152]\n",
      " [ 198   43]]\n",
      "              precision    recall  f1-score   support\n",
      "\n",
      "       0: 정상       0.92      0.94      0.93      2578\n",
      "       1: 이상       0.22      0.18      0.20       241\n",
      "\n",
      "    accuracy                           0.88      2819\n",
      "   macro avg       0.57      0.56      0.56      2819\n",
      "weighted avg       0.86      0.88      0.87      2819\n",
      "\n",
      "[[2510   68]\n",
      " [ 220   21]]\n",
      "              precision    recall  f1-score   support\n",
      "\n",
      "       0: 정상       0.92      0.97      0.95      2578\n",
      "       1: 이상       0.24      0.09      0.13       241\n",
      "\n",
      "    accuracy                           0.90      2819\n",
      "   macro avg       0.58      0.53      0.54      2819\n",
      "weighted avg       0.86      0.90      0.88      2819\n",
      "\n"
     ]
    },
    {
     "data": {
      "application/vnd.jupyter.widget-view+json": {
       "model_id": "440f4a1a8ce94e159ab07a8750de50e0",
       "version_major": 2,
       "version_minor": 0
      },
      "text/plain": [
       "  0%|          | 0/12 [00:00<?, ?it/s]"
      ]
     },
     "metadata": {},
     "output_type": "display_data"
    },
    {
     "name": "stdout",
     "output_type": "stream",
     "text": [
      "[[ 978 1600]\n",
      " [  49  192]]\n",
      "              precision    recall  f1-score   support\n",
      "\n",
      "       0: 정상       0.95      0.38      0.54      2578\n",
      "       1: 이상       0.11      0.80      0.19       241\n",
      "\n",
      "    accuracy                           0.42      2819\n",
      "   macro avg       0.53      0.59      0.37      2819\n",
      "weighted avg       0.88      0.42      0.51      2819\n",
      "\n",
      "[[1688  890]\n",
      " [ 100  141]]\n",
      "              precision    recall  f1-score   support\n",
      "\n",
      "       0: 정상       0.94      0.65      0.77      2578\n",
      "       1: 이상       0.14      0.59      0.22       241\n",
      "\n",
      "    accuracy                           0.65      2819\n",
      "   macro avg       0.54      0.62      0.50      2819\n",
      "weighted avg       0.88      0.65      0.73      2819\n",
      "\n",
      "[[2071  507]\n",
      " [ 136  105]]\n",
      "              precision    recall  f1-score   support\n",
      "\n",
      "       0: 정상       0.94      0.80      0.87      2578\n",
      "       1: 이상       0.17      0.44      0.25       241\n",
      "\n",
      "    accuracy                           0.77      2819\n",
      "   macro avg       0.55      0.62      0.56      2819\n",
      "weighted avg       0.87      0.77      0.81      2819\n",
      "\n",
      "[[2285  293]\n",
      " [ 163   78]]\n",
      "              precision    recall  f1-score   support\n",
      "\n",
      "       0: 정상       0.93      0.89      0.91      2578\n",
      "       1: 이상       0.21      0.32      0.25       241\n",
      "\n",
      "    accuracy                           0.84      2819\n",
      "   macro avg       0.57      0.60      0.58      2819\n",
      "weighted avg       0.87      0.84      0.85      2819\n",
      "\n",
      "[[2426  152]\n",
      " [ 198   43]]\n",
      "              precision    recall  f1-score   support\n",
      "\n",
      "       0: 정상       0.92      0.94      0.93      2578\n",
      "       1: 이상       0.22      0.18      0.20       241\n",
      "\n",
      "    accuracy                           0.88      2819\n",
      "   macro avg       0.57      0.56      0.56      2819\n",
      "weighted avg       0.86      0.88      0.87      2819\n",
      "\n",
      "[[2510   68]\n",
      " [ 220   21]]\n",
      "              precision    recall  f1-score   support\n",
      "\n",
      "       0: 정상       0.92      0.97      0.95      2578\n",
      "       1: 이상       0.24      0.09      0.13       241\n",
      "\n",
      "    accuracy                           0.90      2819\n",
      "   macro avg       0.58      0.53      0.54      2819\n",
      "weighted avg       0.86      0.90      0.88      2819\n",
      "\n",
      "Best Threshold : [0.2], Score : [0.58209]\n"
     ]
    }
   ],
   "source": [
    "choose_threshold(best_student_model, val_loader, device)\n",
    "best_threshold, best_score = choose_threshold(best_student_model, val_loader, device)\n",
    "choose_threshold_result = f'Best Threshold : [{best_threshold}], Score : [{best_score:.5f}]'\n",
    "print(choose_threshold_result)"
   ]
  },
  {
   "cell_type": "code",
   "execution_count": 71,
   "id": "e75a3739",
   "metadata": {},
   "outputs": [],
   "source": [
    "test_datasets = CustomDataset(test, None, False)\n",
    "test_loaders = DataLoader(test_datasets, batch_size = CFG['BATCH_SIZE'], shuffle=False)"
   ]
  },
  {
   "cell_type": "code",
   "execution_count": 72,
   "id": "7f3df6cb",
   "metadata": {},
   "outputs": [],
   "source": [
    "def inference(model, test_loader, threshold, device):\n",
    "    model.to(device)\n",
    "    model.eval()\n",
    "    # .eval함수는 evaluation 과정에서 사용하지 말아야 하는 layer들을 알아서 off 시키는 함수\n",
    "    \n",
    "    test_predict = []\n",
    "    with torch.no_grad():\n",
    "        for x in tqdm(test_loader):\n",
    "            x = x.float().to(device)\n",
    "            model_pred = model(x)\n",
    "\n",
    "            model_pred = model_pred.squeeze(1).to('cpu')\n",
    "            test_predict += model_pred\n",
    "        \n",
    "    test_predict = np.where(np.array(test_predict) > threshold, 1, 0)  \n",
    "    # threshhold 보다 큰 값을 찾아서 1로 바꾸고, 아닌 것은 0으로 변경해라\n",
    "    print('Done.')\n",
    "    return test_predict"
   ]
  },
  {
   "cell_type": "code",
   "execution_count": 73,
   "id": "e432dba7",
   "metadata": {},
   "outputs": [
    {
     "data": {
      "application/vnd.jupyter.widget-view+json": {
       "model_id": "b1037f90030c40b687c388f7c93ea925",
       "version_major": 2,
       "version_minor": 0
      },
      "text/plain": [
       "  0%|          | 0/24 [00:00<?, ?it/s]"
      ]
     },
     "metadata": {},
     "output_type": "display_data"
    },
    {
     "name": "stdout",
     "output_type": "stream",
     "text": [
      "Done.\n"
     ]
    }
   ],
   "source": [
    "preds = inference(best_student_model, test_loaders, best_threshold, device)"
   ]
  },
  {
   "cell_type": "code",
   "execution_count": 74,
   "id": "3a2081a5",
   "metadata": {},
   "outputs": [
    {
     "data": {
      "text/html": [
       "<div>\n",
       "<style scoped>\n",
       "    .dataframe tbody tr th:only-of-type {\n",
       "        vertical-align: middle;\n",
       "    }\n",
       "\n",
       "    .dataframe tbody tr th {\n",
       "        vertical-align: top;\n",
       "    }\n",
       "\n",
       "    .dataframe thead th {\n",
       "        text-align: right;\n",
       "    }\n",
       "</style>\n",
       "<table border=\"1\" class=\"dataframe\">\n",
       "  <thead>\n",
       "    <tr style=\"text-align: right;\">\n",
       "      <th></th>\n",
       "      <th>ID</th>\n",
       "      <th>Y_LABEL</th>\n",
       "    </tr>\n",
       "  </thead>\n",
       "  <tbody>\n",
       "    <tr>\n",
       "      <th>0</th>\n",
       "      <td>TEST_0000</td>\n",
       "      <td>0</td>\n",
       "    </tr>\n",
       "    <tr>\n",
       "      <th>1</th>\n",
       "      <td>TEST_0001</td>\n",
       "      <td>0</td>\n",
       "    </tr>\n",
       "    <tr>\n",
       "      <th>2</th>\n",
       "      <td>TEST_0002</td>\n",
       "      <td>0</td>\n",
       "    </tr>\n",
       "    <tr>\n",
       "      <th>3</th>\n",
       "      <td>TEST_0003</td>\n",
       "      <td>1</td>\n",
       "    </tr>\n",
       "    <tr>\n",
       "      <th>4</th>\n",
       "      <td>TEST_0004</td>\n",
       "      <td>0</td>\n",
       "    </tr>\n",
       "  </tbody>\n",
       "</table>\n",
       "</div>"
      ],
      "text/plain": [
       "          ID  Y_LABEL\n",
       "0  TEST_0000        0\n",
       "1  TEST_0001        0\n",
       "2  TEST_0002        0\n",
       "3  TEST_0003        1\n",
       "4  TEST_0004        0"
      ]
     },
     "execution_count": 74,
     "metadata": {},
     "output_type": "execute_result"
    }
   ],
   "source": [
    "submit = pd.read_csv('./data/sample_submission.csv')\n",
    "submit['Y_LABEL'] = preds\n",
    "submit.head()"
   ]
  },
  {
   "cell_type": "code",
   "execution_count": 75,
   "id": "d486a345",
   "metadata": {},
   "outputs": [
    {
     "name": "stdout",
     "output_type": "stream",
     "text": [
      "정상값 개수 : 5308, 이상값 개수 : 733\n"
     ]
    }
   ],
   "source": [
    "pred_cnt = tuple(submit[\"Y_LABEL\"].value_counts())\n",
    "a, b = pred_cnt\n",
    "r = f\"정상값 개수 : {a}, 이상값 개수 : {b}\"\n",
    "print(r)"
   ]
  },
  {
   "cell_type": "code",
   "execution_count": 76,
   "id": "84b73f00",
   "metadata": {},
   "outputs": [],
   "source": [
    "submit.to_csv(f'./submits/submit{file_version}.csv', index=False)"
   ]
  },
  {
   "cell_type": "code",
   "execution_count": 77,
   "id": "84905804",
   "metadata": {},
   "outputs": [
    {
     "data": {
      "text/plain": [
       "{'ver': 35,\n",
       " 'CFG': {'EPOCHS': 30,\n",
       "  'LEARNING_RATE': 0.01,\n",
       "  'BATCH_SIZE': 256,\n",
       "  'SEED': 43,\n",
       "  'log_transform_turn': 1,\n",
       "  'skew_cut': 0.01,\n",
       "  'vif_cut': 10,\n",
       "  'corr_cut': 0.006,\n",
       "  'outlier_corr_cut': 100,\n",
       "  'T_Thresh': 0.35,\n",
       "  'S_Thresh': 0.35,\n",
       "  'reduct': 'sum',\n",
       "  'drop_rate': 0.2},\n",
       " 'Val_result': 'Best Threshold : [0.2], Score : [0.58209]',\n",
       " 'pred_cnt': '정상값 개수 : 5308, 이상값 개수 : 733'}"
      ]
     },
     "execution_count": 77,
     "metadata": {},
     "output_type": "execute_result"
    }
   ],
   "source": [
    "record = {\"ver\": file_version, \"CFG\": CFG, \"Val_result\": choose_threshold_result, \"pred_cnt\": r}\n",
    "record"
   ]
  },
  {
   "cell_type": "code",
   "execution_count": null,
   "id": "12282840",
   "metadata": {},
   "outputs": [],
   "source": []
  },
  {
   "cell_type": "code",
   "execution_count": null,
   "id": "b05f3449",
   "metadata": {},
   "outputs": [],
   "source": []
  },
  {
   "cell_type": "code",
   "execution_count": null,
   "id": "6de4a6b9",
   "metadata": {},
   "outputs": [],
   "source": []
  },
  {
   "cell_type": "code",
   "execution_count": null,
   "id": "288462ba",
   "metadata": {},
   "outputs": [],
   "source": []
  },
  {
   "cell_type": "code",
   "execution_count": null,
   "id": "3af48d59",
   "metadata": {},
   "outputs": [],
   "source": []
  },
  {
   "cell_type": "code",
   "execution_count": null,
   "id": "5ad0062d",
   "metadata": {},
   "outputs": [],
   "source": []
  }
 ],
 "metadata": {
  "kernelspec": {
   "display_name": "Python 3 (ipykernel)",
   "language": "python",
   "name": "python3"
  },
  "language_info": {
   "codemirror_mode": {
    "name": "ipython",
    "version": 3
   },
   "file_extension": ".py",
   "mimetype": "text/x-python",
   "name": "python",
   "nbconvert_exporter": "python",
   "pygments_lexer": "ipython3",
   "version": "3.8.10"
  }
 },
 "nbformat": 4,
 "nbformat_minor": 5
}
