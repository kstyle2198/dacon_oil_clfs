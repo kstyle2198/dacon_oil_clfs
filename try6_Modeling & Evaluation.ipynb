{
 "cells": [
  {
   "cell_type": "code",
   "execution_count": 511,
   "id": "1263ac9c",
   "metadata": {},
   "outputs": [],
   "source": [
    "import torch\n",
    "import torch.nn as nn\n",
    "import torch.nn.functional as F\n",
    "import torch.optim as optim\n",
    "from torch.utils.data import DataLoader, Dataset\n",
    "\n",
    "from sklearn.metrics import f1_score, confusion_matrix, classification_report\n",
    "from sklearn.compose import ColumnTransformer\n",
    "from sklearn.preprocessing import StandardScaler, MinMaxScaler, RobustScaler\n",
    "from sklearn.preprocessing import LabelEncoder, OneHotEncoder\n",
    "from sklearn.model_selection import train_test_split\n",
    "from sklearn.model_selection import KFold, StratifiedKFold\n",
    "\n",
    "import os\n",
    "import pandas as pd\n",
    "import numpy as np\n",
    "from tqdm.auto import tqdm\n",
    "import random\n",
    "import matplotlib.pyplot as plt\n",
    "import seaborn as sns\n",
    "\n",
    "import warnings\n",
    "warnings.filterwarnings(action='ignore') \n",
    "\n",
    "device = torch.device('cuda') if torch.cuda.is_available() else torch.device('cpu')"
   ]
  },
  {
   "cell_type": "code",
   "execution_count": 512,
   "id": "bfb10c39",
   "metadata": {},
   "outputs": [],
   "source": [
    "file_version = 33\n",
    "CFG = {\n",
    "    'EPOCHS': 30,\n",
    "    'LEARNING_RATE':1e-2,    # 0.01\n",
    "    'BATCH_SIZE':256,  #256\n",
    "    'SEED':43,\n",
    "    'log_transform_turn': 1,  # 로그 트랜스폼을 몇번 돌릴 것인가?\n",
    "    'skew_cut':0.01,           # 왜도 얼마 이상을 로그값으로 정규화할 것인가?(100이면 안하겠다는 것)\n",
    "    'vif_cut': 10,           # 다중공선성 vif 얼마 이상을 제거할 것인가?\n",
    "    'corr_cut': 0.0075,     # 일정 상관관계 이하 칼럼은 드랍\n",
    "    'outlier_corr_cut': 100,    # 이값 이상의 상관관계를 갖는 칼럼에 대해서만 아웃라이어 제거(100이면 미적용)\n",
    "    'T_Thresh': 0.3,     # Teacher model train Threshhold 최초 0.35\n",
    "    'S_Thresh': 0.325,     # Student model train Threshold 최초 0.35\n",
    "    'reduct' : 'sum',      # sum, mean\n",
    "    'drop_rate': 0.2,\n",
    "    \n",
    "}"
   ]
  },
  {
   "cell_type": "code",
   "execution_count": null,
   "id": "57dbc3c6",
   "metadata": {},
   "outputs": [],
   "source": []
  },
  {
   "cell_type": "code",
   "execution_count": 513,
   "id": "ec56d6d0",
   "metadata": {},
   "outputs": [],
   "source": [
    "import pickle\n",
    "#불러오기\n",
    "with open(f\"./data/{file_version}_refined_train_X\", 'rb') as pickle_filename:\n",
    "\ttrain_X = pickle.load(pickle_filename)\n",
    "\n",
    "with open(f\"./data/{file_version}_refined_train_y\", 'rb') as pickle_filename:\n",
    "\ttrain_y = pickle.load(pickle_filename)\n",
    "    \n",
    "with open(f\"./data/{file_version}_refined_val_X\", 'rb') as pickle_filename:\n",
    "\tval_X = pickle.load(pickle_filename)\n",
    "\n",
    "with open(f\"./data/{file_version}_refined_val_y\", 'rb') as pickle_filename:\n",
    "\tval_y = pickle.load(pickle_filename)     \n",
    "\n",
    "with open(f\"./data/{file_version}_refined_test\", 'rb') as pickle_filename:\n",
    "\ttest = pickle.load(pickle_filename)"
   ]
  },
  {
   "cell_type": "code",
   "execution_count": 514,
   "id": "f941e5ac",
   "metadata": {},
   "outputs": [
    {
     "data": {
      "text/plain": [
       "0.0    10314\n",
       "1.0      962\n",
       "Name: Y_LABEL, dtype: int64"
      ]
     },
     "execution_count": 514,
     "metadata": {},
     "output_type": "execute_result"
    }
   ],
   "source": [
    "train_y.value_counts()"
   ]
  },
  {
   "cell_type": "code",
   "execution_count": 515,
   "id": "14c25dc9",
   "metadata": {},
   "outputs": [
    {
     "data": {
      "text/plain": [
       "Index(['encoder__x0_COMPONENT2', 'encoder__x0_COMPONENT3',\n",
       "       'encoder__x0_COMPONENT4', 'encoder__x1_y2', 'encoder__x1_y3',\n",
       "       'encoder__x1_y4', 'encoder__x1_y5', 'ANONYMOUS_1', 'ANONYMOUS_2', 'AG',\n",
       "       'CO', 'CR', 'CU', 'FE', 'H2O', 'MN', 'MO', 'NI', 'PQINDEX', 'TI', 'V',\n",
       "       'V40', 'ZN'],\n",
       "      dtype='object')"
      ]
     },
     "execution_count": 515,
     "metadata": {},
     "output_type": "execute_result"
    }
   ],
   "source": [
    "test_stage_features = test.columns\n",
    "test_stage_features"
   ]
  },
  {
   "cell_type": "code",
   "execution_count": 516,
   "id": "70b66e42",
   "metadata": {},
   "outputs": [
    {
     "data": {
      "text/plain": [
       "23"
      ]
     },
     "execution_count": 516,
     "metadata": {},
     "output_type": "execute_result"
    }
   ],
   "source": [
    "len(test_stage_features)"
   ]
  },
  {
   "cell_type": "code",
   "execution_count": 517,
   "id": "6aa346ca",
   "metadata": {},
   "outputs": [],
   "source": [
    "class CustomDataset(Dataset):\n",
    "    def __init__(self, data_X, data_y, distillation=False):\n",
    "        super(CustomDataset, self).__init__()\n",
    "        self.data_X = data_X\n",
    "        self.data_y = data_y\n",
    "        self.distillation = distillation\n",
    "        \n",
    "    def __len__(self):\n",
    "        return len(self.data_X)\n",
    "    \n",
    "    def __getitem__(self, index):\n",
    "        if self.distillation:\n",
    "            # 지식 증류 학습 시\n",
    "            teacher_X = torch.Tensor(self.data_X.iloc[index])\n",
    "            student_X = torch.Tensor(self.data_X[test_stage_features].iloc[index])\n",
    "            y = self.data_y.values[index]\n",
    "            return teacher_X, student_X, y\n",
    "        else:\n",
    "            if self.data_y is None:\n",
    "                test_X = torch.Tensor(self.data_X.iloc[index])\n",
    "                return test_X\n",
    "            else:\n",
    "                teacher_X = torch.Tensor(self.data_X.iloc[index])\n",
    "                y = self.data_y.values[index]\n",
    "                return teacher_X, y"
   ]
  },
  {
   "cell_type": "code",
   "execution_count": 518,
   "id": "b65a5729",
   "metadata": {},
   "outputs": [
    {
     "data": {
      "text/plain": [
       "[(tensor([ 1.0000,  0.0000,  0.0000,  0.0000,  0.0000,  0.0000,  1.0000,  0.0000,\n",
       "           1.0000, -1.0430,  1.0329, -0.1537, -0.4862, -1.1424, -0.4931, -0.0544,\n",
       "           0.9904, -0.1251,  5.6677, -0.0957,  2.2429,  0.6061, -0.0969, -0.4387,\n",
       "          -0.2594, -0.2194,  0.4350, -0.3730, -0.4347,  0.8037, -0.6452, -2.0525,\n",
       "          -0.4578, -0.8064,  1.2249, -0.2640, -0.1545, -1.9767,  0.5502]),\n",
       "  0.0)]"
      ]
     },
     "execution_count": 518,
     "metadata": {},
     "output_type": "execute_result"
    }
   ],
   "source": [
    "train_dataset = CustomDataset(train_X, train_y, False)\n",
    "val_dataset = CustomDataset(val_X, val_y, False)\n",
    "list(train_dataset)[:1]"
   ]
  },
  {
   "cell_type": "code",
   "execution_count": 519,
   "id": "92037423",
   "metadata": {},
   "outputs": [
    {
     "data": {
      "text/plain": [
       "[[tensor([[ 0.0000,  0.0000,  0.0000,  ..., -0.1545,  0.1203,  0.9504],\n",
       "          [ 0.0000,  0.0000,  0.0000,  ..., -0.1545,  0.2165,  0.9341],\n",
       "          [ 0.0000,  1.0000,  0.0000,  ..., -0.1545,  0.7189, -1.8923],\n",
       "          ...,\n",
       "          [ 0.0000,  1.0000,  0.0000,  ..., -0.1545,  2.9139, -0.9509],\n",
       "          [ 0.0000,  0.0000,  0.0000,  ..., -0.1545,  0.0478,  1.0345],\n",
       "          [ 0.0000,  1.0000,  0.0000,  ..., -0.1545,  1.1190, -1.6622]]),\n",
       "  tensor([0., 0., 0., 0., 0., 0., 0., 0., 0., 0., 0., 0., 0., 0., 0., 0., 0., 0.,\n",
       "          0., 0., 0., 0., 0., 0., 0., 0., 0., 0., 0., 0., 0., 0., 0., 0., 0., 0.,\n",
       "          0., 0., 0., 0., 0., 0., 0., 0., 0., 0., 0., 0., 0., 1., 0., 0., 0., 0.,\n",
       "          0., 0., 0., 0., 0., 0., 0., 0., 0., 1., 0., 0., 0., 0., 0., 0., 0., 0.,\n",
       "          0., 0., 1., 0., 0., 0., 0., 0., 0., 0., 0., 0., 0., 0., 0., 0., 0., 0.,\n",
       "          0., 0., 0., 0., 0., 0., 0., 1., 0., 0., 0., 0., 0., 0., 0., 0., 0., 0.,\n",
       "          0., 1., 0., 1., 1., 1., 1., 0., 0., 0., 0., 0., 0., 0., 0., 0., 0., 0.,\n",
       "          0., 0., 0., 0., 0., 0., 0., 0., 0., 0., 1., 0., 0., 1., 0., 0., 0., 0.,\n",
       "          0., 0., 0., 0., 1., 0., 0., 0., 0., 0., 0., 0., 0., 0., 0., 0., 0., 0.,\n",
       "          0., 0., 0., 0., 0., 0., 0., 0., 0., 0., 0., 0., 0., 0., 0., 0., 0., 0.,\n",
       "          0., 0., 0., 0., 0., 0., 0., 0., 0., 0., 0., 0., 1., 0., 0., 0., 0., 0.,\n",
       "          0., 0., 1., 0., 0., 0., 0., 0., 0., 0., 0., 0., 0., 0., 0., 0., 0., 0.,\n",
       "          0., 0., 0., 0., 0., 0., 0., 0., 0., 0., 0., 0., 0., 0., 0., 0., 0., 0.,\n",
       "          0., 0., 0., 0., 0., 0., 0., 0., 0., 0., 0., 0., 0., 1., 0., 0., 0., 0.,\n",
       "          0., 0., 0., 0.], dtype=torch.float64)]]"
      ]
     },
     "execution_count": 519,
     "metadata": {},
     "output_type": "execute_result"
    }
   ],
   "source": [
    "train_loader = DataLoader(train_dataset, batch_size = CFG['BATCH_SIZE'], shuffle=True)\n",
    "val_loader = DataLoader(val_dataset, batch_size = CFG['BATCH_SIZE'], shuffle=False)\n",
    "list(train_loader)[:1] "
   ]
  },
  {
   "cell_type": "code",
   "execution_count": null,
   "id": "a21e3765",
   "metadata": {},
   "outputs": [],
   "source": []
  },
  {
   "cell_type": "code",
   "execution_count": null,
   "id": "f4e01e2a",
   "metadata": {},
   "outputs": [],
   "source": []
  },
  {
   "cell_type": "code",
   "execution_count": 520,
   "id": "bf1f82d6",
   "metadata": {},
   "outputs": [],
   "source": [
    "class Teacher(nn.Module):\n",
    "    def __init__(self):\n",
    "        super(Teacher, self).__init__()\n",
    "        self.classifier = nn.Sequential(\n",
    "            nn.Linear(in_features=train_col_num, out_features=256),\n",
    "            nn.Dropout(p=CFG['drop_rate']),\n",
    "            nn.BatchNorm1d(256),\n",
    "            nn.LeakyReLU(),\n",
    "            nn.Linear(in_features=256, out_features=1024),\n",
    "            nn.Dropout(p=CFG['drop_rate']),\n",
    "            nn.BatchNorm1d(1024),\n",
    "            nn.LeakyReLU(),\n",
    "            nn.Linear(in_features=1024, out_features=256),\n",
    "            nn.Dropout(p=CFG['drop_rate']),\n",
    "            nn.BatchNorm1d(256),\n",
    "            nn.LeakyReLU(),\n",
    "            nn.Linear(in_features=256, out_features=1),\n",
    "            nn.Sigmoid()\n",
    "        )\n",
    "        \n",
    "    def forward(self, x):\n",
    "        output = self.classifier(x)\n",
    "        return output"
   ]
  },
  {
   "cell_type": "code",
   "execution_count": 521,
   "id": "7df40f71",
   "metadata": {},
   "outputs": [],
   "source": [
    "def train(model, optimizer, train_loader, val_loader, scheduler, device):\n",
    "    model.to(device)\n",
    "\n",
    "    best_score = 0\n",
    "    best_model = None\n",
    "    \n",
    "    # Loss Function 정의\n",
    "    criterion = nn.BCELoss(reduction = CFG['reduct']).to(device)  #BCEWithLogitsLoss\n",
    "#     criterion = nn.BCEWithLogitsLoss(reduction = CFG['reduct']).to(device)  #BCEWithLogitsLoss\n",
    "\n",
    "    for epoch in range(CFG[\"EPOCHS\"]):\n",
    "        train_loss = []\n",
    "  \n",
    "        model.train()\n",
    "        for X, y in tqdm(train_loader):\n",
    "            X = X.float().to(device)\n",
    "            y = y.float().to(device)\n",
    "            \n",
    "            optimizer.zero_grad()\n",
    "            \n",
    "            y_pred = model(X)\n",
    "            \n",
    "            loss = criterion(y_pred, y.reshape(-1, 1))  # loss_fn(input, target)\n",
    "            loss.backward()\n",
    "            \n",
    "            optimizer.step()\n",
    "\n",
    "            train_loss.append(loss.item())\n",
    "\n",
    "        val_loss, val_score = validation_teacher(model, val_loader, criterion, device)\n",
    "        print(f'Epoch [{epoch}], Train Loss : [{np.mean(train_loss) :.5f}] Val Loss : [{np.mean(val_loss) :.5f}] Val F1 Score : [{val_score:.5f}]')\n",
    "\n",
    "        if scheduler is not None:\n",
    "            scheduler.step(val_score)\n",
    "            \n",
    "        if best_score < val_score:\n",
    "            best_model = model\n",
    "            best_score = val_score\n",
    "    print(f\"Teacher Train Best Score는 {best_score} 입니다.\")\n",
    "    return best_model "
   ]
  },
  {
   "cell_type": "code",
   "execution_count": 522,
   "id": "db9ba187",
   "metadata": {},
   "outputs": [],
   "source": [
    "def competition_metric(true, pred):\n",
    "    return f1_score(true, pred, average=\"macro\")\n",
    "\n",
    "\n",
    "def validation_teacher(model, val_loader, criterion, device):\n",
    "    model.eval()\n",
    "\n",
    "    val_loss = []\n",
    "    pred_labels = []\n",
    "    true_labels = []\n",
    "    threshold = CFG['T_Thresh']     \n",
    "    \n",
    "    with torch.no_grad():\n",
    "        for X, y in tqdm(val_loader):\n",
    "            X = X.float().to(device)\n",
    "            y = y.float().to(device)\n",
    "            \n",
    "            model_pred = model(X.to(device))\n",
    "            \n",
    "            loss = criterion(model_pred, y.reshape(-1, 1))\n",
    "            val_loss.append(loss.item())      \n",
    "            \n",
    "            model_pred = model_pred.squeeze(1).to('cpu')  # squeeze함수는 차원이 1인 차원을 제거해준다.\n",
    "            pred_labels += model_pred.tolist()\n",
    "            true_labels += y.tolist()\n",
    "        \n",
    "        #print(pred_labels[0:10])\n",
    "        # 오일상태는 0: 정상, 1: 이상\n",
    "        # 어느 임계점 thrshold보다 큰 예측 라벨을 1로 하고, 나머지를 0으로 할 것인가?\n",
    "        pred_labels = np.where(np.array(pred_labels) > threshold, 1, 0)\n",
    "        #print(pred_labels[0:10])\n",
    "        cf = confusion_matrix(true_labels, pred_labels)\n",
    "        val_f1 = competition_metric(true_labels, pred_labels)\n",
    "        \n",
    "        print(cf)\n",
    "        print(classification_report(true_labels, pred_labels, target_names=[\"0: 정상\", \"1: 이상\"]))\n",
    "    return val_loss, val_f1"
   ]
  },
  {
   "cell_type": "code",
   "execution_count": 523,
   "id": "b7f5df3f",
   "metadata": {},
   "outputs": [
    {
     "name": "stdout",
     "output_type": "stream",
     "text": [
      "39 23\n"
     ]
    }
   ],
   "source": [
    "train_col_num = len(train_X.columns)\n",
    "test_col_num = len(test.columns)\n",
    "print(train_col_num, test_col_num) # Drop후 칼럼 갯수 (nn 시작 노드 갯수에 맞춰주기 위해 변수에 담아놓음)"
   ]
  },
  {
   "cell_type": "code",
   "execution_count": 524,
   "id": "5aee19aa",
   "metadata": {},
   "outputs": [
    {
     "data": {
      "text/plain": [
       "Index(['encoder__x0_COMPONENT2', 'encoder__x0_COMPONENT3',\n",
       "       'encoder__x0_COMPONENT4', 'encoder__x1_y2', 'encoder__x1_y3',\n",
       "       'encoder__x1_y4', 'encoder__x1_y5', 'encoder__x2_s2', 'encoder__x2_s3',\n",
       "       'ANONYMOUS_1', 'ANONYMOUS_2', 'AG', 'AL', 'B', 'BA', 'BE', 'CA', 'CD',\n",
       "       'CO', 'CR', 'CU', 'FE', 'H2O', 'K', 'LI', 'MG', 'MN', 'MO', 'NA', 'NI',\n",
       "       'PQINDEX', 'S', 'SB', 'SI', 'SN', 'TI', 'V', 'V40', 'ZN'],\n",
       "      dtype='object')"
      ]
     },
     "execution_count": 524,
     "metadata": {},
     "output_type": "execute_result"
    }
   ],
   "source": [
    "train_X.columns"
   ]
  },
  {
   "cell_type": "code",
   "execution_count": 525,
   "id": "34204ef5",
   "metadata": {},
   "outputs": [
    {
     "data": {
      "text/plain": [
       "Index(['encoder__x0_COMPONENT2', 'encoder__x0_COMPONENT3',\n",
       "       'encoder__x0_COMPONENT4', 'encoder__x1_y2', 'encoder__x1_y3',\n",
       "       'encoder__x1_y4', 'encoder__x1_y5', 'ANONYMOUS_1', 'ANONYMOUS_2', 'AG',\n",
       "       'CO', 'CR', 'CU', 'FE', 'H2O', 'MN', 'MO', 'NI', 'PQINDEX', 'TI', 'V',\n",
       "       'V40', 'ZN'],\n",
       "      dtype='object')"
      ]
     },
     "execution_count": 525,
     "metadata": {},
     "output_type": "execute_result"
    }
   ],
   "source": [
    "test_stage_features = test.columns\n",
    "test_stage_features"
   ]
  },
  {
   "cell_type": "code",
   "execution_count": 526,
   "id": "7ce85637",
   "metadata": {},
   "outputs": [
    {
     "data": {
      "text/plain": [
       "23"
      ]
     },
     "execution_count": 526,
     "metadata": {},
     "output_type": "execute_result"
    }
   ],
   "source": [
    "test_col_num"
   ]
  },
  {
   "cell_type": "code",
   "execution_count": 527,
   "id": "e4a8234a",
   "metadata": {
    "scrolled": false
   },
   "outputs": [
    {
     "data": {
      "application/vnd.jupyter.widget-view+json": {
       "model_id": "601a92a49bfe46288fea7a8670864d05",
       "version_major": 2,
       "version_minor": 0
      },
      "text/plain": [
       "  0%|          | 0/45 [00:00<?, ?it/s]"
      ]
     },
     "metadata": {},
     "output_type": "display_data"
    },
    {
     "data": {
      "application/vnd.jupyter.widget-view+json": {
       "model_id": "5258838099754b3fb47a8f3a205ce68a",
       "version_major": 2,
       "version_minor": 0
      },
      "text/plain": [
       "  0%|          | 0/12 [00:00<?, ?it/s]"
      ]
     },
     "metadata": {},
     "output_type": "display_data"
    },
    {
     "name": "stdout",
     "output_type": "stream",
     "text": [
      "[[2485   93]\n",
      " [ 101  140]]\n",
      "              precision    recall  f1-score   support\n",
      "\n",
      "       0: 정상       0.96      0.96      0.96      2578\n",
      "       1: 이상       0.60      0.58      0.59       241\n",
      "\n",
      "    accuracy                           0.93      2819\n",
      "   macro avg       0.78      0.77      0.78      2819\n",
      "weighted avg       0.93      0.93      0.93      2819\n",
      "\n",
      "Epoch [0], Train Loss : [57.72583] Val Loss : [42.84269] Val F1 Score : [0.77657]\n"
     ]
    },
    {
     "data": {
      "application/vnd.jupyter.widget-view+json": {
       "model_id": "57bf4ddb26cf4daf8763fc1990824d5c",
       "version_major": 2,
       "version_minor": 0
      },
      "text/plain": [
       "  0%|          | 0/45 [00:00<?, ?it/s]"
      ]
     },
     "metadata": {},
     "output_type": "display_data"
    },
    {
     "data": {
      "application/vnd.jupyter.widget-view+json": {
       "model_id": "f00d6d2e9cea4fe1bda30f419c5db7c6",
       "version_major": 2,
       "version_minor": 0
      },
      "text/plain": [
       "  0%|          | 0/12 [00:00<?, ?it/s]"
      ]
     },
     "metadata": {},
     "output_type": "display_data"
    },
    {
     "name": "stdout",
     "output_type": "stream",
     "text": [
      "[[2551   27]\n",
      " [ 113  128]]\n",
      "              precision    recall  f1-score   support\n",
      "\n",
      "       0: 정상       0.96      0.99      0.97      2578\n",
      "       1: 이상       0.83      0.53      0.65       241\n",
      "\n",
      "    accuracy                           0.95      2819\n",
      "   macro avg       0.89      0.76      0.81      2819\n",
      "weighted avg       0.95      0.95      0.95      2819\n",
      "\n",
      "Epoch [1], Train Loss : [42.01717] Val Loss : [42.23782] Val F1 Score : [0.80988]\n"
     ]
    },
    {
     "data": {
      "application/vnd.jupyter.widget-view+json": {
       "model_id": "3c7a1d020faf434381f507d36fb09593",
       "version_major": 2,
       "version_minor": 0
      },
      "text/plain": [
       "  0%|          | 0/45 [00:00<?, ?it/s]"
      ]
     },
     "metadata": {},
     "output_type": "display_data"
    },
    {
     "data": {
      "application/vnd.jupyter.widget-view+json": {
       "model_id": "92fe89f0a4414097aaa33d9fe674fc5e",
       "version_major": 2,
       "version_minor": 0
      },
      "text/plain": [
       "  0%|          | 0/12 [00:00<?, ?it/s]"
      ]
     },
     "metadata": {},
     "output_type": "display_data"
    },
    {
     "name": "stdout",
     "output_type": "stream",
     "text": [
      "[[2533   45]\n",
      " [ 111  130]]\n",
      "              precision    recall  f1-score   support\n",
      "\n",
      "       0: 정상       0.96      0.98      0.97      2578\n",
      "       1: 이상       0.74      0.54      0.63       241\n",
      "\n",
      "    accuracy                           0.94      2819\n",
      "   macro avg       0.85      0.76      0.80      2819\n",
      "weighted avg       0.94      0.94      0.94      2819\n",
      "\n",
      "Epoch [2], Train Loss : [40.59283] Val Loss : [42.72844] Val F1 Score : [0.79756]\n"
     ]
    },
    {
     "data": {
      "application/vnd.jupyter.widget-view+json": {
       "model_id": "fc31845ee3bf48ea8f5a94f95d10adcb",
       "version_major": 2,
       "version_minor": 0
      },
      "text/plain": [
       "  0%|          | 0/45 [00:00<?, ?it/s]"
      ]
     },
     "metadata": {},
     "output_type": "display_data"
    },
    {
     "data": {
      "application/vnd.jupyter.widget-view+json": {
       "model_id": "baf4a2bd08e44255b7bc7fefb8afcdfb",
       "version_major": 2,
       "version_minor": 0
      },
      "text/plain": [
       "  0%|          | 0/12 [00:00<?, ?it/s]"
      ]
     },
     "metadata": {},
     "output_type": "display_data"
    },
    {
     "name": "stdout",
     "output_type": "stream",
     "text": [
      "[[2480   98]\n",
      " [  95  146]]\n",
      "              precision    recall  f1-score   support\n",
      "\n",
      "       0: 정상       0.96      0.96      0.96      2578\n",
      "       1: 이상       0.60      0.61      0.60       241\n",
      "\n",
      "    accuracy                           0.93      2819\n",
      "   macro avg       0.78      0.78      0.78      2819\n",
      "weighted avg       0.93      0.93      0.93      2819\n",
      "\n",
      "Epoch [3], Train Loss : [39.13636] Val Loss : [41.11802] Val F1 Score : [0.78230]\n",
      "Epoch 00004: reducing learning rate of group 0 to 5.0000e-03.\n"
     ]
    },
    {
     "data": {
      "application/vnd.jupyter.widget-view+json": {
       "model_id": "905be8a50eeb49d9a89bd3a90972ef19",
       "version_major": 2,
       "version_minor": 0
      },
      "text/plain": [
       "  0%|          | 0/45 [00:00<?, ?it/s]"
      ]
     },
     "metadata": {},
     "output_type": "display_data"
    },
    {
     "data": {
      "application/vnd.jupyter.widget-view+json": {
       "model_id": "654e7115a1b647c9aa055814f586279d",
       "version_major": 2,
       "version_minor": 0
      },
      "text/plain": [
       "  0%|          | 0/12 [00:00<?, ?it/s]"
      ]
     },
     "metadata": {},
     "output_type": "display_data"
    },
    {
     "name": "stdout",
     "output_type": "stream",
     "text": [
      "[[2484   94]\n",
      " [  98  143]]\n",
      "              precision    recall  f1-score   support\n",
      "\n",
      "       0: 정상       0.96      0.96      0.96      2578\n",
      "       1: 이상       0.60      0.59      0.60       241\n",
      "\n",
      "    accuracy                           0.93      2819\n",
      "   macro avg       0.78      0.78      0.78      2819\n",
      "weighted avg       0.93      0.93      0.93      2819\n",
      "\n",
      "Epoch [4], Train Loss : [37.27199] Val Loss : [41.53195] Val F1 Score : [0.78056]\n"
     ]
    },
    {
     "data": {
      "application/vnd.jupyter.widget-view+json": {
       "model_id": "5e030deed9fa4625a2841fe43889dd13",
       "version_major": 2,
       "version_minor": 0
      },
      "text/plain": [
       "  0%|          | 0/45 [00:00<?, ?it/s]"
      ]
     },
     "metadata": {},
     "output_type": "display_data"
    },
    {
     "data": {
      "application/vnd.jupyter.widget-view+json": {
       "model_id": "33a0cf97ed8747aea493b54079dbde83",
       "version_major": 2,
       "version_minor": 0
      },
      "text/plain": [
       "  0%|          | 0/12 [00:00<?, ?it/s]"
      ]
     },
     "metadata": {},
     "output_type": "display_data"
    },
    {
     "name": "stdout",
     "output_type": "stream",
     "text": [
      "[[2520   58]\n",
      " [ 103  138]]\n",
      "              precision    recall  f1-score   support\n",
      "\n",
      "       0: 정상       0.96      0.98      0.97      2578\n",
      "       1: 이상       0.70      0.57      0.63       241\n",
      "\n",
      "    accuracy                           0.94      2819\n",
      "   macro avg       0.83      0.78      0.80      2819\n",
      "weighted avg       0.94      0.94      0.94      2819\n",
      "\n",
      "Epoch [5], Train Loss : [35.22237] Val Loss : [40.59759] Val F1 Score : [0.80031]\n",
      "Epoch 00006: reducing learning rate of group 0 to 2.5000e-03.\n"
     ]
    },
    {
     "data": {
      "application/vnd.jupyter.widget-view+json": {
       "model_id": "33c3c38e0cba49c4882017c2dd21c07f",
       "version_major": 2,
       "version_minor": 0
      },
      "text/plain": [
       "  0%|          | 0/45 [00:00<?, ?it/s]"
      ]
     },
     "metadata": {},
     "output_type": "display_data"
    },
    {
     "data": {
      "application/vnd.jupyter.widget-view+json": {
       "model_id": "e2d39b0466a2479fbbf3abd7bdfc44fe",
       "version_major": 2,
       "version_minor": 0
      },
      "text/plain": [
       "  0%|          | 0/12 [00:00<?, ?it/s]"
      ]
     },
     "metadata": {},
     "output_type": "display_data"
    },
    {
     "name": "stdout",
     "output_type": "stream",
     "text": [
      "[[2543   35]\n",
      " [ 126  115]]\n",
      "              precision    recall  f1-score   support\n",
      "\n",
      "       0: 정상       0.95      0.99      0.97      2578\n",
      "       1: 이상       0.77      0.48      0.59       241\n",
      "\n",
      "    accuracy                           0.94      2819\n",
      "   macro avg       0.86      0.73      0.78      2819\n",
      "weighted avg       0.94      0.94      0.94      2819\n",
      "\n",
      "Epoch [6], Train Loss : [33.71298] Val Loss : [43.16600] Val F1 Score : [0.77878]\n"
     ]
    },
    {
     "data": {
      "application/vnd.jupyter.widget-view+json": {
       "model_id": "658264055dda4c8085c88d47d71085be",
       "version_major": 2,
       "version_minor": 0
      },
      "text/plain": [
       "  0%|          | 0/45 [00:00<?, ?it/s]"
      ]
     },
     "metadata": {},
     "output_type": "display_data"
    },
    {
     "data": {
      "application/vnd.jupyter.widget-view+json": {
       "model_id": "32bde1efc7194c79a5aaa579da1489c7",
       "version_major": 2,
       "version_minor": 0
      },
      "text/plain": [
       "  0%|          | 0/12 [00:00<?, ?it/s]"
      ]
     },
     "metadata": {},
     "output_type": "display_data"
    },
    {
     "name": "stdout",
     "output_type": "stream",
     "text": [
      "[[2521   57]\n",
      " [ 110  131]]\n",
      "              precision    recall  f1-score   support\n",
      "\n",
      "       0: 정상       0.96      0.98      0.97      2578\n",
      "       1: 이상       0.70      0.54      0.61       241\n",
      "\n",
      "    accuracy                           0.94      2819\n",
      "   macro avg       0.83      0.76      0.79      2819\n",
      "weighted avg       0.94      0.94      0.94      2819\n",
      "\n",
      "Epoch [7], Train Loss : [32.11523] Val Loss : [42.04130] Val F1 Score : [0.78933]\n",
      "Epoch 00008: reducing learning rate of group 0 to 1.2500e-03.\n"
     ]
    },
    {
     "data": {
      "application/vnd.jupyter.widget-view+json": {
       "model_id": "84ef05baf34c4f6fb21d54187dd64412",
       "version_major": 2,
       "version_minor": 0
      },
      "text/plain": [
       "  0%|          | 0/45 [00:00<?, ?it/s]"
      ]
     },
     "metadata": {},
     "output_type": "display_data"
    },
    {
     "data": {
      "application/vnd.jupyter.widget-view+json": {
       "model_id": "8eeef366ca10434e810e73786feb7a9b",
       "version_major": 2,
       "version_minor": 0
      },
      "text/plain": [
       "  0%|          | 0/12 [00:00<?, ?it/s]"
      ]
     },
     "metadata": {},
     "output_type": "display_data"
    },
    {
     "name": "stdout",
     "output_type": "stream",
     "text": [
      "[[2514   64]\n",
      " [ 109  132]]\n",
      "              precision    recall  f1-score   support\n",
      "\n",
      "       0: 정상       0.96      0.98      0.97      2578\n",
      "       1: 이상       0.67      0.55      0.60       241\n",
      "\n",
      "    accuracy                           0.94      2819\n",
      "   macro avg       0.82      0.76      0.79      2819\n",
      "weighted avg       0.93      0.94      0.94      2819\n",
      "\n",
      "Epoch [8], Train Loss : [30.18145] Val Loss : [42.00092] Val F1 Score : [0.78543]\n"
     ]
    },
    {
     "data": {
      "application/vnd.jupyter.widget-view+json": {
       "model_id": "c795c5fcad4242f0b4cd9aa1c3faa14d",
       "version_major": 2,
       "version_minor": 0
      },
      "text/plain": [
       "  0%|          | 0/45 [00:00<?, ?it/s]"
      ]
     },
     "metadata": {},
     "output_type": "display_data"
    },
    {
     "data": {
      "application/vnd.jupyter.widget-view+json": {
       "model_id": "1ae435075fc345c9a5d672b1dd4537fd",
       "version_major": 2,
       "version_minor": 0
      },
      "text/plain": [
       "  0%|          | 0/12 [00:00<?, ?it/s]"
      ]
     },
     "metadata": {},
     "output_type": "display_data"
    },
    {
     "name": "stdout",
     "output_type": "stream",
     "text": [
      "[[2513   65]\n",
      " [ 104  137]]\n",
      "              precision    recall  f1-score   support\n",
      "\n",
      "       0: 정상       0.96      0.97      0.97      2578\n",
      "       1: 이상       0.68      0.57      0.62       241\n",
      "\n",
      "    accuracy                           0.94      2819\n",
      "   macro avg       0.82      0.77      0.79      2819\n",
      "weighted avg       0.94      0.94      0.94      2819\n",
      "\n",
      "Epoch [9], Train Loss : [29.21376] Val Loss : [41.54294] Val F1 Score : [0.79299]\n",
      "Epoch 00010: reducing learning rate of group 0 to 6.2500e-04.\n"
     ]
    },
    {
     "data": {
      "application/vnd.jupyter.widget-view+json": {
       "model_id": "83c3497e13e44ff3b576dd4fb1ecb4a0",
       "version_major": 2,
       "version_minor": 0
      },
      "text/plain": [
       "  0%|          | 0/45 [00:00<?, ?it/s]"
      ]
     },
     "metadata": {},
     "output_type": "display_data"
    },
    {
     "data": {
      "application/vnd.jupyter.widget-view+json": {
       "model_id": "c6431970b74f41b594aa9e7c83b0cf28",
       "version_major": 2,
       "version_minor": 0
      },
      "text/plain": [
       "  0%|          | 0/12 [00:00<?, ?it/s]"
      ]
     },
     "metadata": {},
     "output_type": "display_data"
    },
    {
     "name": "stdout",
     "output_type": "stream",
     "text": [
      "[[2520   58]\n",
      " [ 109  132]]\n",
      "              precision    recall  f1-score   support\n",
      "\n",
      "       0: 정상       0.96      0.98      0.97      2578\n",
      "       1: 이상       0.69      0.55      0.61       241\n",
      "\n",
      "    accuracy                           0.94      2819\n",
      "   macro avg       0.83      0.76      0.79      2819\n",
      "weighted avg       0.94      0.94      0.94      2819\n",
      "\n",
      "Epoch [10], Train Loss : [29.16805] Val Loss : [42.94579] Val F1 Score : [0.79023]\n"
     ]
    },
    {
     "data": {
      "application/vnd.jupyter.widget-view+json": {
       "model_id": "b4679bf1ae434130a2c6d97ef45e475b",
       "version_major": 2,
       "version_minor": 0
      },
      "text/plain": [
       "  0%|          | 0/45 [00:00<?, ?it/s]"
      ]
     },
     "metadata": {},
     "output_type": "display_data"
    },
    {
     "data": {
      "application/vnd.jupyter.widget-view+json": {
       "model_id": "15e5d5d27ae14ae1be62619197fd0b98",
       "version_major": 2,
       "version_minor": 0
      },
      "text/plain": [
       "  0%|          | 0/12 [00:00<?, ?it/s]"
      ]
     },
     "metadata": {},
     "output_type": "display_data"
    },
    {
     "name": "stdout",
     "output_type": "stream",
     "text": [
      "[[2539   39]\n",
      " [ 120  121]]\n",
      "              precision    recall  f1-score   support\n",
      "\n",
      "       0: 정상       0.95      0.98      0.97      2578\n",
      "       1: 이상       0.76      0.50      0.60       241\n",
      "\n",
      "    accuracy                           0.94      2819\n",
      "   macro avg       0.86      0.74      0.79      2819\n",
      "weighted avg       0.94      0.94      0.94      2819\n",
      "\n",
      "Epoch [11], Train Loss : [28.43515] Val Loss : [43.57581] Val F1 Score : [0.78657]\n",
      "Epoch 00012: reducing learning rate of group 0 to 3.1250e-04.\n"
     ]
    },
    {
     "data": {
      "application/vnd.jupyter.widget-view+json": {
       "model_id": "53e12b886ce5438e87be598591225d9c",
       "version_major": 2,
       "version_minor": 0
      },
      "text/plain": [
       "  0%|          | 0/45 [00:00<?, ?it/s]"
      ]
     },
     "metadata": {},
     "output_type": "display_data"
    },
    {
     "data": {
      "application/vnd.jupyter.widget-view+json": {
       "model_id": "9d3804d96e0f458a9d9382ec6386a6b8",
       "version_major": 2,
       "version_minor": 0
      },
      "text/plain": [
       "  0%|          | 0/12 [00:00<?, ?it/s]"
      ]
     },
     "metadata": {},
     "output_type": "display_data"
    },
    {
     "name": "stdout",
     "output_type": "stream",
     "text": [
      "[[2530   48]\n",
      " [ 115  126]]\n",
      "              precision    recall  f1-score   support\n",
      "\n",
      "       0: 정상       0.96      0.98      0.97      2578\n",
      "       1: 이상       0.72      0.52      0.61       241\n",
      "\n",
      "    accuracy                           0.94      2819\n",
      "   macro avg       0.84      0.75      0.79      2819\n",
      "weighted avg       0.94      0.94      0.94      2819\n",
      "\n",
      "Epoch [12], Train Loss : [28.05404] Val Loss : [43.59390] Val F1 Score : [0.78801]\n"
     ]
    },
    {
     "data": {
      "application/vnd.jupyter.widget-view+json": {
       "model_id": "fa692602460c4a338be0efe4a90717b4",
       "version_major": 2,
       "version_minor": 0
      },
      "text/plain": [
       "  0%|          | 0/45 [00:00<?, ?it/s]"
      ]
     },
     "metadata": {},
     "output_type": "display_data"
    },
    {
     "data": {
      "application/vnd.jupyter.widget-view+json": {
       "model_id": "907d6f548a9e467fb2632e999bc6793b",
       "version_major": 2,
       "version_minor": 0
      },
      "text/plain": [
       "  0%|          | 0/12 [00:00<?, ?it/s]"
      ]
     },
     "metadata": {},
     "output_type": "display_data"
    },
    {
     "name": "stdout",
     "output_type": "stream",
     "text": [
      "[[2512   66]\n",
      " [ 108  133]]\n",
      "              precision    recall  f1-score   support\n",
      "\n",
      "       0: 정상       0.96      0.97      0.97      2578\n",
      "       1: 이상       0.67      0.55      0.60       241\n",
      "\n",
      "    accuracy                           0.94      2819\n",
      "   macro avg       0.81      0.76      0.79      2819\n",
      "weighted avg       0.93      0.94      0.94      2819\n",
      "\n",
      "Epoch [13], Train Loss : [26.89463] Val Loss : [42.78947] Val F1 Score : [0.78554]\n",
      "Epoch 00014: reducing learning rate of group 0 to 1.5625e-04.\n"
     ]
    },
    {
     "data": {
      "application/vnd.jupyter.widget-view+json": {
       "model_id": "371f8079d0ea4c1ca45311c47f047d07",
       "version_major": 2,
       "version_minor": 0
      },
      "text/plain": [
       "  0%|          | 0/45 [00:00<?, ?it/s]"
      ]
     },
     "metadata": {},
     "output_type": "display_data"
    },
    {
     "data": {
      "application/vnd.jupyter.widget-view+json": {
       "model_id": "58988f91627a450680dc1814d8d303ee",
       "version_major": 2,
       "version_minor": 0
      },
      "text/plain": [
       "  0%|          | 0/12 [00:00<?, ?it/s]"
      ]
     },
     "metadata": {},
     "output_type": "display_data"
    },
    {
     "name": "stdout",
     "output_type": "stream",
     "text": [
      "[[2519   59]\n",
      " [ 116  125]]\n",
      "              precision    recall  f1-score   support\n",
      "\n",
      "       0: 정상       0.96      0.98      0.97      2578\n",
      "       1: 이상       0.68      0.52      0.59       241\n",
      "\n",
      "    accuracy                           0.94      2819\n",
      "   macro avg       0.82      0.75      0.78      2819\n",
      "weighted avg       0.93      0.94      0.93      2819\n",
      "\n",
      "Epoch [14], Train Loss : [28.06502] Val Loss : [44.48124] Val F1 Score : [0.77733]\n"
     ]
    },
    {
     "data": {
      "application/vnd.jupyter.widget-view+json": {
       "model_id": "3f12ed210bb74d86a0f23feab6a741e1",
       "version_major": 2,
       "version_minor": 0
      },
      "text/plain": [
       "  0%|          | 0/45 [00:00<?, ?it/s]"
      ]
     },
     "metadata": {},
     "output_type": "display_data"
    },
    {
     "data": {
      "application/vnd.jupyter.widget-view+json": {
       "model_id": "6b278407bfec416ba00af0b92a71d5e5",
       "version_major": 2,
       "version_minor": 0
      },
      "text/plain": [
       "  0%|          | 0/12 [00:00<?, ?it/s]"
      ]
     },
     "metadata": {},
     "output_type": "display_data"
    },
    {
     "name": "stdout",
     "output_type": "stream",
     "text": [
      "[[2512   66]\n",
      " [ 109  132]]\n",
      "              precision    recall  f1-score   support\n",
      "\n",
      "       0: 정상       0.96      0.97      0.97      2578\n",
      "       1: 이상       0.67      0.55      0.60       241\n",
      "\n",
      "    accuracy                           0.94      2819\n",
      "   macro avg       0.81      0.76      0.78      2819\n",
      "weighted avg       0.93      0.94      0.94      2819\n",
      "\n",
      "Epoch [15], Train Loss : [27.12811] Val Loss : [43.28948] Val F1 Score : [0.78385]\n",
      "Epoch 00016: reducing learning rate of group 0 to 7.8125e-05.\n"
     ]
    },
    {
     "data": {
      "application/vnd.jupyter.widget-view+json": {
       "model_id": "90a9b1491973422d8bf6bbae6e89b931",
       "version_major": 2,
       "version_minor": 0
      },
      "text/plain": [
       "  0%|          | 0/45 [00:00<?, ?it/s]"
      ]
     },
     "metadata": {},
     "output_type": "display_data"
    },
    {
     "data": {
      "application/vnd.jupyter.widget-view+json": {
       "model_id": "b26835dec8bd46cbb61227589254fc76",
       "version_major": 2,
       "version_minor": 0
      },
      "text/plain": [
       "  0%|          | 0/12 [00:00<?, ?it/s]"
      ]
     },
     "metadata": {},
     "output_type": "display_data"
    },
    {
     "name": "stdout",
     "output_type": "stream",
     "text": [
      "[[2520   58]\n",
      " [ 115  126]]\n",
      "              precision    recall  f1-score   support\n",
      "\n",
      "       0: 정상       0.96      0.98      0.97      2578\n",
      "       1: 이상       0.68      0.52      0.59       241\n",
      "\n",
      "    accuracy                           0.94      2819\n",
      "   macro avg       0.82      0.75      0.78      2819\n",
      "weighted avg       0.93      0.94      0.93      2819\n",
      "\n",
      "Epoch [16], Train Loss : [26.94389] Val Loss : [42.93735] Val F1 Score : [0.77988]\n"
     ]
    },
    {
     "data": {
      "application/vnd.jupyter.widget-view+json": {
       "model_id": "ff8dc190aefa47a9a63687b9d6c1ec41",
       "version_major": 2,
       "version_minor": 0
      },
      "text/plain": [
       "  0%|          | 0/45 [00:00<?, ?it/s]"
      ]
     },
     "metadata": {},
     "output_type": "display_data"
    },
    {
     "data": {
      "application/vnd.jupyter.widget-view+json": {
       "model_id": "38128a031de84d6099deb283c004e291",
       "version_major": 2,
       "version_minor": 0
      },
      "text/plain": [
       "  0%|          | 0/12 [00:00<?, ?it/s]"
      ]
     },
     "metadata": {},
     "output_type": "display_data"
    },
    {
     "name": "stdout",
     "output_type": "stream",
     "text": [
      "[[2518   60]\n",
      " [ 116  125]]\n",
      "              precision    recall  f1-score   support\n",
      "\n",
      "       0: 정상       0.96      0.98      0.97      2578\n",
      "       1: 이상       0.68      0.52      0.59       241\n",
      "\n",
      "    accuracy                           0.94      2819\n",
      "   macro avg       0.82      0.75      0.78      2819\n",
      "weighted avg       0.93      0.94      0.93      2819\n",
      "\n",
      "Epoch [17], Train Loss : [27.05686] Val Loss : [43.90573] Val F1 Score : [0.77654]\n",
      "Epoch 00018: reducing learning rate of group 0 to 3.9063e-05.\n"
     ]
    },
    {
     "data": {
      "application/vnd.jupyter.widget-view+json": {
       "model_id": "1fa7ae99cb294ae3b6270e1d046fc510",
       "version_major": 2,
       "version_minor": 0
      },
      "text/plain": [
       "  0%|          | 0/45 [00:00<?, ?it/s]"
      ]
     },
     "metadata": {},
     "output_type": "display_data"
    },
    {
     "data": {
      "application/vnd.jupyter.widget-view+json": {
       "model_id": "3deef07ccf604e7aa3d74cf6c84bab23",
       "version_major": 2,
       "version_minor": 0
      },
      "text/plain": [
       "  0%|          | 0/12 [00:00<?, ?it/s]"
      ]
     },
     "metadata": {},
     "output_type": "display_data"
    },
    {
     "name": "stdout",
     "output_type": "stream",
     "text": [
      "[[2509   69]\n",
      " [ 108  133]]\n",
      "              precision    recall  f1-score   support\n",
      "\n",
      "       0: 정상       0.96      0.97      0.97      2578\n",
      "       1: 이상       0.66      0.55      0.60       241\n",
      "\n",
      "    accuracy                           0.94      2819\n",
      "   macro avg       0.81      0.76      0.78      2819\n",
      "weighted avg       0.93      0.94      0.93      2819\n",
      "\n",
      "Epoch [18], Train Loss : [26.97077] Val Loss : [43.03971] Val F1 Score : [0.78319]\n"
     ]
    },
    {
     "data": {
      "application/vnd.jupyter.widget-view+json": {
       "model_id": "5421eaa50eec491e8755bb753ad58709",
       "version_major": 2,
       "version_minor": 0
      },
      "text/plain": [
       "  0%|          | 0/45 [00:00<?, ?it/s]"
      ]
     },
     "metadata": {},
     "output_type": "display_data"
    },
    {
     "data": {
      "application/vnd.jupyter.widget-view+json": {
       "model_id": "24c499c3250d4774b925e846bcf60453",
       "version_major": 2,
       "version_minor": 0
      },
      "text/plain": [
       "  0%|          | 0/12 [00:00<?, ?it/s]"
      ]
     },
     "metadata": {},
     "output_type": "display_data"
    },
    {
     "name": "stdout",
     "output_type": "stream",
     "text": [
      "[[2496   82]\n",
      " [ 104  137]]\n",
      "              precision    recall  f1-score   support\n",
      "\n",
      "       0: 정상       0.96      0.97      0.96      2578\n",
      "       1: 이상       0.63      0.57      0.60       241\n",
      "\n",
      "    accuracy                           0.93      2819\n",
      "   macro avg       0.79      0.77      0.78      2819\n",
      "weighted avg       0.93      0.93      0.93      2819\n",
      "\n",
      "Epoch [19], Train Loss : [26.73820] Val Loss : [43.05131] Val F1 Score : [0.77987]\n",
      "Epoch 00020: reducing learning rate of group 0 to 1.9531e-05.\n"
     ]
    },
    {
     "data": {
      "application/vnd.jupyter.widget-view+json": {
       "model_id": "f0e60e876c5546809981d5fcbe91ee33",
       "version_major": 2,
       "version_minor": 0
      },
      "text/plain": [
       "  0%|          | 0/45 [00:00<?, ?it/s]"
      ]
     },
     "metadata": {},
     "output_type": "display_data"
    },
    {
     "data": {
      "application/vnd.jupyter.widget-view+json": {
       "model_id": "cdbd8f6c5b6548b783a2de8a1e7d2f2b",
       "version_major": 2,
       "version_minor": 0
      },
      "text/plain": [
       "  0%|          | 0/12 [00:00<?, ?it/s]"
      ]
     },
     "metadata": {},
     "output_type": "display_data"
    },
    {
     "name": "stdout",
     "output_type": "stream",
     "text": [
      "[[2517   61]\n",
      " [ 116  125]]\n",
      "              precision    recall  f1-score   support\n",
      "\n",
      "       0: 정상       0.96      0.98      0.97      2578\n",
      "       1: 이상       0.67      0.52      0.59       241\n",
      "\n",
      "    accuracy                           0.94      2819\n",
      "   macro avg       0.81      0.75      0.78      2819\n",
      "weighted avg       0.93      0.94      0.93      2819\n",
      "\n",
      "Epoch [20], Train Loss : [26.91681] Val Loss : [43.58426] Val F1 Score : [0.77576]\n"
     ]
    },
    {
     "data": {
      "application/vnd.jupyter.widget-view+json": {
       "model_id": "3fce935961584640873d389fda818da8",
       "version_major": 2,
       "version_minor": 0
      },
      "text/plain": [
       "  0%|          | 0/45 [00:00<?, ?it/s]"
      ]
     },
     "metadata": {},
     "output_type": "display_data"
    },
    {
     "data": {
      "application/vnd.jupyter.widget-view+json": {
       "model_id": "4242e10a86144c2980a14a25ee004726",
       "version_major": 2,
       "version_minor": 0
      },
      "text/plain": [
       "  0%|          | 0/12 [00:00<?, ?it/s]"
      ]
     },
     "metadata": {},
     "output_type": "display_data"
    },
    {
     "name": "stdout",
     "output_type": "stream",
     "text": [
      "[[2516   62]\n",
      " [ 112  129]]\n",
      "              precision    recall  f1-score   support\n",
      "\n",
      "       0: 정상       0.96      0.98      0.97      2578\n",
      "       1: 이상       0.68      0.54      0.60       241\n",
      "\n",
      "    accuracy                           0.94      2819\n",
      "   macro avg       0.82      0.76      0.78      2819\n",
      "weighted avg       0.93      0.94      0.94      2819\n",
      "\n",
      "Epoch [21], Train Loss : [26.84963] Val Loss : [43.98248] Val F1 Score : [0.78190]\n",
      "Epoch 00022: reducing learning rate of group 0 to 9.7656e-06.\n"
     ]
    },
    {
     "data": {
      "application/vnd.jupyter.widget-view+json": {
       "model_id": "eaba5babb42348e9976b800e9b752b07",
       "version_major": 2,
       "version_minor": 0
      },
      "text/plain": [
       "  0%|          | 0/45 [00:00<?, ?it/s]"
      ]
     },
     "metadata": {},
     "output_type": "display_data"
    },
    {
     "data": {
      "application/vnd.jupyter.widget-view+json": {
       "model_id": "659215d0ffef4910a45d0db479b20115",
       "version_major": 2,
       "version_minor": 0
      },
      "text/plain": [
       "  0%|          | 0/12 [00:00<?, ?it/s]"
      ]
     },
     "metadata": {},
     "output_type": "display_data"
    },
    {
     "name": "stdout",
     "output_type": "stream",
     "text": [
      "[[2528   50]\n",
      " [ 119  122]]\n",
      "              precision    recall  f1-score   support\n",
      "\n",
      "       0: 정상       0.96      0.98      0.97      2578\n",
      "       1: 이상       0.71      0.51      0.59       241\n",
      "\n",
      "    accuracy                           0.94      2819\n",
      "   macro avg       0.83      0.74      0.78      2819\n",
      "weighted avg       0.93      0.94      0.94      2819\n",
      "\n",
      "Epoch [22], Train Loss : [26.43364] Val Loss : [44.85974] Val F1 Score : [0.77923]\n"
     ]
    },
    {
     "data": {
      "application/vnd.jupyter.widget-view+json": {
       "model_id": "65d7519eee86451cbd6ac2d60036f07a",
       "version_major": 2,
       "version_minor": 0
      },
      "text/plain": [
       "  0%|          | 0/45 [00:00<?, ?it/s]"
      ]
     },
     "metadata": {},
     "output_type": "display_data"
    },
    {
     "data": {
      "application/vnd.jupyter.widget-view+json": {
       "model_id": "3762d657776445bea26e362734bb5544",
       "version_major": 2,
       "version_minor": 0
      },
      "text/plain": [
       "  0%|          | 0/12 [00:00<?, ?it/s]"
      ]
     },
     "metadata": {},
     "output_type": "display_data"
    },
    {
     "name": "stdout",
     "output_type": "stream",
     "text": [
      "[[2535   43]\n",
      " [ 118  123]]\n",
      "              precision    recall  f1-score   support\n",
      "\n",
      "       0: 정상       0.96      0.98      0.97      2578\n",
      "       1: 이상       0.74      0.51      0.60       241\n",
      "\n",
      "    accuracy                           0.94      2819\n",
      "   macro avg       0.85      0.75      0.79      2819\n",
      "weighted avg       0.94      0.94      0.94      2819\n",
      "\n",
      "Epoch [23], Train Loss : [26.44312] Val Loss : [44.14396] Val F1 Score : [0.78682]\n",
      "Epoch 00024: reducing learning rate of group 0 to 4.8828e-06.\n"
     ]
    },
    {
     "data": {
      "application/vnd.jupyter.widget-view+json": {
       "model_id": "d1d4d15e7c9b49569b72226699a730fc",
       "version_major": 2,
       "version_minor": 0
      },
      "text/plain": [
       "  0%|          | 0/45 [00:00<?, ?it/s]"
      ]
     },
     "metadata": {},
     "output_type": "display_data"
    },
    {
     "data": {
      "application/vnd.jupyter.widget-view+json": {
       "model_id": "2dfa81af722a443485e313fd86045bd8",
       "version_major": 2,
       "version_minor": 0
      },
      "text/plain": [
       "  0%|          | 0/12 [00:00<?, ?it/s]"
      ]
     },
     "metadata": {},
     "output_type": "display_data"
    },
    {
     "name": "stdout",
     "output_type": "stream",
     "text": [
      "[[2534   44]\n",
      " [ 121  120]]\n",
      "              precision    recall  f1-score   support\n",
      "\n",
      "       0: 정상       0.95      0.98      0.97      2578\n",
      "       1: 이상       0.73      0.50      0.59       241\n",
      "\n",
      "    accuracy                           0.94      2819\n",
      "   macro avg       0.84      0.74      0.78      2819\n",
      "weighted avg       0.94      0.94      0.94      2819\n",
      "\n",
      "Epoch [24], Train Loss : [26.55050] Val Loss : [44.99457] Val F1 Score : [0.78053]\n"
     ]
    },
    {
     "data": {
      "application/vnd.jupyter.widget-view+json": {
       "model_id": "81c30ce8ca6941f4b9c5685a1269bde6",
       "version_major": 2,
       "version_minor": 0
      },
      "text/plain": [
       "  0%|          | 0/45 [00:00<?, ?it/s]"
      ]
     },
     "metadata": {},
     "output_type": "display_data"
    },
    {
     "data": {
      "application/vnd.jupyter.widget-view+json": {
       "model_id": "fc20a3bc536c4374b91e7a2231b6986a",
       "version_major": 2,
       "version_minor": 0
      },
      "text/plain": [
       "  0%|          | 0/12 [00:00<?, ?it/s]"
      ]
     },
     "metadata": {},
     "output_type": "display_data"
    },
    {
     "name": "stdout",
     "output_type": "stream",
     "text": [
      "[[2512   66]\n",
      " [ 111  130]]\n",
      "              precision    recall  f1-score   support\n",
      "\n",
      "       0: 정상       0.96      0.97      0.97      2578\n",
      "       1: 이상       0.66      0.54      0.59       241\n",
      "\n",
      "    accuracy                           0.94      2819\n",
      "   macro avg       0.81      0.76      0.78      2819\n",
      "weighted avg       0.93      0.94      0.93      2819\n",
      "\n",
      "Epoch [25], Train Loss : [26.87015] Val Loss : [43.26525] Val F1 Score : [0.78047]\n",
      "Epoch 00026: reducing learning rate of group 0 to 2.4414e-06.\n"
     ]
    },
    {
     "data": {
      "application/vnd.jupyter.widget-view+json": {
       "model_id": "3128ff9abb42408c82803d5977f0510e",
       "version_major": 2,
       "version_minor": 0
      },
      "text/plain": [
       "  0%|          | 0/45 [00:00<?, ?it/s]"
      ]
     },
     "metadata": {},
     "output_type": "display_data"
    },
    {
     "data": {
      "application/vnd.jupyter.widget-view+json": {
       "model_id": "085ffe04d0384a8eb7dcd91d97ea8066",
       "version_major": 2,
       "version_minor": 0
      },
      "text/plain": [
       "  0%|          | 0/12 [00:00<?, ?it/s]"
      ]
     },
     "metadata": {},
     "output_type": "display_data"
    },
    {
     "name": "stdout",
     "output_type": "stream",
     "text": [
      "[[2533   45]\n",
      " [ 119  122]]\n",
      "              precision    recall  f1-score   support\n",
      "\n",
      "       0: 정상       0.96      0.98      0.97      2578\n",
      "       1: 이상       0.73      0.51      0.60       241\n",
      "\n",
      "    accuracy                           0.94      2819\n",
      "   macro avg       0.84      0.74      0.78      2819\n",
      "weighted avg       0.94      0.94      0.94      2819\n",
      "\n",
      "Epoch [26], Train Loss : [26.71980] Val Loss : [44.54355] Val F1 Score : [0.78334]\n"
     ]
    },
    {
     "data": {
      "application/vnd.jupyter.widget-view+json": {
       "model_id": "e52996cfb1d44364b3e1036cdcd39e0d",
       "version_major": 2,
       "version_minor": 0
      },
      "text/plain": [
       "  0%|          | 0/45 [00:00<?, ?it/s]"
      ]
     },
     "metadata": {},
     "output_type": "display_data"
    },
    {
     "data": {
      "application/vnd.jupyter.widget-view+json": {
       "model_id": "bb65377c64d444dab7ff66cb120d5fc9",
       "version_major": 2,
       "version_minor": 0
      },
      "text/plain": [
       "  0%|          | 0/12 [00:00<?, ?it/s]"
      ]
     },
     "metadata": {},
     "output_type": "display_data"
    },
    {
     "name": "stdout",
     "output_type": "stream",
     "text": [
      "[[2529   49]\n",
      " [ 125  116]]\n",
      "              precision    recall  f1-score   support\n",
      "\n",
      "       0: 정상       0.95      0.98      0.97      2578\n",
      "       1: 이상       0.70      0.48      0.57       241\n",
      "\n",
      "    accuracy                           0.94      2819\n",
      "   macro avg       0.83      0.73      0.77      2819\n",
      "weighted avg       0.93      0.94      0.93      2819\n",
      "\n",
      "Epoch [27], Train Loss : [26.28913] Val Loss : [45.82795] Val F1 Score : [0.76909]\n",
      "Epoch 00028: reducing learning rate of group 0 to 1.2207e-06.\n"
     ]
    },
    {
     "data": {
      "application/vnd.jupyter.widget-view+json": {
       "model_id": "1bcc54bfdd8242ec96ad723c5a8712b6",
       "version_major": 2,
       "version_minor": 0
      },
      "text/plain": [
       "  0%|          | 0/45 [00:00<?, ?it/s]"
      ]
     },
     "metadata": {},
     "output_type": "display_data"
    },
    {
     "data": {
      "application/vnd.jupyter.widget-view+json": {
       "model_id": "45ae51fdd3294a959a37806cffe39922",
       "version_major": 2,
       "version_minor": 0
      },
      "text/plain": [
       "  0%|          | 0/12 [00:00<?, ?it/s]"
      ]
     },
     "metadata": {},
     "output_type": "display_data"
    },
    {
     "name": "stdout",
     "output_type": "stream",
     "text": [
      "[[2530   48]\n",
      " [ 119  122]]\n",
      "              precision    recall  f1-score   support\n",
      "\n",
      "       0: 정상       0.96      0.98      0.97      2578\n",
      "       1: 이상       0.72      0.51      0.59       241\n",
      "\n",
      "    accuracy                           0.94      2819\n",
      "   macro avg       0.84      0.74      0.78      2819\n",
      "weighted avg       0.93      0.94      0.94      2819\n",
      "\n",
      "Epoch [28], Train Loss : [26.00799] Val Loss : [45.20518] Val F1 Score : [0.78086]\n"
     ]
    },
    {
     "data": {
      "application/vnd.jupyter.widget-view+json": {
       "model_id": "7642e8fe649e466cb0afb6754c0df321",
       "version_major": 2,
       "version_minor": 0
      },
      "text/plain": [
       "  0%|          | 0/45 [00:00<?, ?it/s]"
      ]
     },
     "metadata": {},
     "output_type": "display_data"
    },
    {
     "data": {
      "application/vnd.jupyter.widget-view+json": {
       "model_id": "b52ec5446c4a42c6ba38af077c7b8109",
       "version_major": 2,
       "version_minor": 0
      },
      "text/plain": [
       "  0%|          | 0/12 [00:00<?, ?it/s]"
      ]
     },
     "metadata": {},
     "output_type": "display_data"
    },
    {
     "name": "stdout",
     "output_type": "stream",
     "text": [
      "[[2524   54]\n",
      " [ 126  115]]\n",
      "              precision    recall  f1-score   support\n",
      "\n",
      "       0: 정상       0.95      0.98      0.97      2578\n",
      "       1: 이상       0.68      0.48      0.56       241\n",
      "\n",
      "    accuracy                           0.94      2819\n",
      "   macro avg       0.82      0.73      0.76      2819\n",
      "weighted avg       0.93      0.94      0.93      2819\n",
      "\n",
      "Epoch [29], Train Loss : [26.42651] Val Loss : [45.88626] Val F1 Score : [0.76327]\n",
      "Epoch 00030: reducing learning rate of group 0 to 6.1035e-07.\n",
      "Teacher Train Best Score는 0.8098786414314838 입니다.\n"
     ]
    }
   ],
   "source": [
    "model = Teacher()\n",
    "model.eval()\n",
    "optimizer = torch.optim.Adam(model.parameters(), lr=CFG['LEARNING_RATE'])\n",
    "scheduler = torch.optim.lr_scheduler.ReduceLROnPlateau(optimizer, mode='max', factor=0.5, patience=1, threshold_mode='abs',min_lr=1e-8, verbose=True)\n",
    "pred_labels = []\n",
    "true_labels = []\n",
    "\n",
    "teacher_model = train(model, optimizer, train_loader, val_loader, scheduler, device)"
   ]
  },
  {
   "cell_type": "code",
   "execution_count": null,
   "id": "0472994f",
   "metadata": {},
   "outputs": [],
   "source": []
  },
  {
   "cell_type": "code",
   "execution_count": 528,
   "id": "0f48801f",
   "metadata": {},
   "outputs": [],
   "source": [
    "PATH1 = f\"./models/{file_version}_teacher_net.pth\"\n",
    "torch.save(teacher_model.state_dict(), PATH1)"
   ]
  },
  {
   "cell_type": "code",
   "execution_count": 529,
   "id": "32046dea",
   "metadata": {},
   "outputs": [
    {
     "data": {
      "text/plain": [
       "Teacher(\n",
       "  (classifier): Sequential(\n",
       "    (0): Linear(in_features=39, out_features=256, bias=True)\n",
       "    (1): Dropout(p=0.2, inplace=False)\n",
       "    (2): BatchNorm1d(256, eps=1e-05, momentum=0.1, affine=True, track_running_stats=True)\n",
       "    (3): LeakyReLU(negative_slope=0.01)\n",
       "    (4): Linear(in_features=256, out_features=1024, bias=True)\n",
       "    (5): Dropout(p=0.2, inplace=False)\n",
       "    (6): BatchNorm1d(1024, eps=1e-05, momentum=0.1, affine=True, track_running_stats=True)\n",
       "    (7): LeakyReLU(negative_slope=0.01)\n",
       "    (8): Linear(in_features=1024, out_features=256, bias=True)\n",
       "    (9): Dropout(p=0.2, inplace=False)\n",
       "    (10): BatchNorm1d(256, eps=1e-05, momentum=0.1, affine=True, track_running_stats=True)\n",
       "    (11): LeakyReLU(negative_slope=0.01)\n",
       "    (12): Linear(in_features=256, out_features=1, bias=True)\n",
       "    (13): Sigmoid()\n",
       "  )\n",
       ")"
      ]
     },
     "execution_count": 529,
     "metadata": {},
     "output_type": "execute_result"
    }
   ],
   "source": [
    "teacher_model = Teacher()\n",
    "teacher_model.load_state_dict(torch.load(PATH1))\n",
    "teacher_model"
   ]
  },
  {
   "cell_type": "code",
   "execution_count": 530,
   "id": "85a48542",
   "metadata": {},
   "outputs": [],
   "source": [
    "class Student(nn.Module):\n",
    "    def __init__(self):\n",
    "        super(Student, self).__init__()\n",
    "        self.classifier = nn.Sequential(\n",
    "            nn.Linear(in_features=test_col_num, out_features=128),\n",
    "            nn.Dropout(p=CFG['drop_rate']),\n",
    "            nn.BatchNorm1d(128),\n",
    "            nn.LeakyReLU(),\n",
    "            nn.Linear(in_features=128, out_features=512),\n",
    "            nn.Dropout(p=CFG['drop_rate']),\n",
    "            nn.BatchNorm1d(512),\n",
    "            nn.LeakyReLU(),\n",
    "            nn.Linear(in_features=512, out_features=128),\n",
    "            nn.Dropout(p=CFG['drop_rate']),\n",
    "            nn.BatchNorm1d(128),\n",
    "            nn.LeakyReLU(),\n",
    "            nn.Linear(in_features=128, out_features=1),\n",
    "            nn.Sigmoid()\n",
    "        )\n",
    "        \n",
    "    def forward(self, x):\n",
    "        output = self.classifier(x)\n",
    "        return output"
   ]
  },
  {
   "cell_type": "code",
   "execution_count": 531,
   "id": "2c14e299",
   "metadata": {},
   "outputs": [],
   "source": [
    "# distillation Function 정의\n",
    "\n",
    "def distillation(student_logits, labels, teacher_logits, alpha, T):\n",
    "    \n",
    "    student_loss = nn.BCELoss(reduction = CFG['reduct'])(student_logits, labels.reshape(-1, 1)) #BCEWithLogitsLoss\n",
    "#     student_loss = nn.BCEWithLogitsLoss(reduction = CFG['reduct'])(student_logits, labels.reshape(-1, 1)) #BCEWithLogitsLoss\n",
    "\n",
    "    distillation_loss = nn.KLDivLoss(reduction='batchmean')(F.log_softmax(student_logits/T, dim=1), F.softmax(teacher_logits/T, dim=1)) * (T * T)\n",
    "    \n",
    "    return alpha * student_loss + (1-alpha) * distillation_loss\n",
    "\n",
    "def distill_loss(output, target, teacher_output, loss_fn=distillation, opt=optimizer):\n",
    "    loss_b = loss_fn(output, target, teacher_output, alpha=0.1, T=10)\n",
    "\n",
    "    if opt is not None:\n",
    "        opt.zero_grad()\n",
    "        loss_b.backward()\n",
    "        opt.step()\n",
    "\n",
    "    return loss_b.item()"
   ]
  },
  {
   "cell_type": "code",
   "execution_count": 532,
   "id": "f9f84cc9",
   "metadata": {},
   "outputs": [],
   "source": [
    "def student_train(s_model, t_model, optimizer, train_loader, val_loader, scheduler, device):\n",
    "    s_model.to(device)\n",
    "    t_model.to(device)\n",
    "    \n",
    "    best_score = 0\n",
    "    best_model = None\n",
    "\n",
    "    for epoch in range(CFG[\"EPOCHS\"]):\n",
    "        train_loss = []\n",
    "        s_model.train()\n",
    "        t_model.eval()    # teather는 이번에는 학습하지 않으므로 .eval()로 불러온다\n",
    "        \n",
    "        for X_t, X_s, y in tqdm(train_loader):\n",
    "            X_t = X_t.float().to(device)\n",
    "            X_s = X_s.float().to(device)\n",
    "            y = y.float().to(device)\n",
    "            \n",
    "            optimizer.zero_grad()\n",
    "\n",
    "            output = s_model(X_s)\n",
    "            with torch.no_grad():\n",
    "                teacher_output = t_model(X_t)\n",
    "                \n",
    "            loss_b = distill_loss(output, y, teacher_output, loss_fn=distillation, opt=optimizer)\n",
    "\n",
    "            train_loss.append(loss_b)\n",
    "\n",
    "        val_loss, val_score = validation_student(s_model, t_model, val_loader, distill_loss, device)\n",
    "        print(f'Epoch [{epoch}], Train Loss : [{np.mean(train_loss) :.5f}] Val Loss : [{np.mean(val_loss) :.5f}] Val F1 Score : [{val_score:.5f}]')\n",
    "        \n",
    "        if scheduler is not None:\n",
    "            scheduler.step(val_score)\n",
    "            \n",
    "        if best_score < val_score:\n",
    "            best_model = s_model\n",
    "            best_score = val_score\n",
    "    \n",
    "    print(f\"Student Train Best Score는 {best_score} 입니다.\")\n",
    "        \n",
    "    return best_model"
   ]
  },
  {
   "cell_type": "code",
   "execution_count": 533,
   "id": "82f4a51b",
   "metadata": {},
   "outputs": [],
   "source": [
    "def validation_student(s_model, t_model, val_loader, criterion, device):\n",
    "    s_model.eval()\n",
    "    t_model.eval()\n",
    "\n",
    "    val_loss = []\n",
    "    pred_labels = []\n",
    "    true_labels = []\n",
    "    threshold = CFG['S_Thresh']\n",
    "    \n",
    "    with torch.no_grad():\n",
    "        for X_t, X_s, y in tqdm(val_loader):\n",
    "            X_t = X_t.float().to(device)\n",
    "            X_s = X_s.float().to(device)\n",
    "            y = y.float().to(device)\n",
    "            \n",
    "            model_pred = s_model(X_s)\n",
    "            teacher_output = t_model(X_t)\n",
    "            \n",
    "            loss_b = distill_loss(model_pred, y, teacher_output, loss_fn=distillation, opt=None)\n",
    "            val_loss.append(loss_b)\n",
    "            \n",
    "            model_pred = model_pred.squeeze(1).to('cpu')\n",
    "            pred_labels += model_pred.tolist()\n",
    "            true_labels += y.tolist()\n",
    "        \n",
    "        pred_labels = np.where(np.array(pred_labels) > threshold, 1, 0)\n",
    "        val_f1 = competition_metric(true_labels, pred_labels)\n",
    "        cf = confusion_matrix(true_labels, pred_labels)        \n",
    "        print(cf)\n",
    "        print(classification_report(true_labels, pred_labels, target_names=[\"0: 정상\", \"1: 이상\"]))\n",
    "        \n",
    "    return val_loss, val_f1    "
   ]
  },
  {
   "cell_type": "code",
   "execution_count": 534,
   "id": "74685a61",
   "metadata": {},
   "outputs": [],
   "source": [
    "train_dataset = CustomDataset(train_X, train_y, True)\n",
    "val_dataset = CustomDataset(val_X, val_y, True)\n",
    "\n",
    "train_loader = DataLoader(train_dataset, batch_size = CFG['BATCH_SIZE'], shuffle=True)\n",
    "val_loader = DataLoader(val_dataset, batch_size = CFG['BATCH_SIZE'], shuffle=False)"
   ]
  },
  {
   "cell_type": "code",
   "execution_count": 535,
   "id": "24586b02",
   "metadata": {},
   "outputs": [
    {
     "data": {
      "text/plain": [
       "Index(['encoder__x0_COMPONENT2', 'encoder__x0_COMPONENT3',\n",
       "       'encoder__x0_COMPONENT4', 'encoder__x1_y2', 'encoder__x1_y3',\n",
       "       'encoder__x1_y4', 'encoder__x1_y5', 'ANONYMOUS_1', 'ANONYMOUS_2', 'AG',\n",
       "       'CO', 'CR', 'CU', 'FE', 'H2O', 'MN', 'MO', 'NI', 'PQINDEX', 'TI', 'V',\n",
       "       'V40', 'ZN'],\n",
       "      dtype='object')"
      ]
     },
     "execution_count": 535,
     "metadata": {},
     "output_type": "execute_result"
    }
   ],
   "source": [
    "test_stage_features"
   ]
  },
  {
   "cell_type": "code",
   "execution_count": 536,
   "id": "75882c3b",
   "metadata": {
    "scrolled": false
   },
   "outputs": [
    {
     "data": {
      "application/vnd.jupyter.widget-view+json": {
       "model_id": "e3251759cb8c432faa874449b77ce324",
       "version_major": 2,
       "version_minor": 0
      },
      "text/plain": [
       "  0%|          | 0/45 [00:00<?, ?it/s]"
      ]
     },
     "metadata": {},
     "output_type": "display_data"
    },
    {
     "data": {
      "application/vnd.jupyter.widget-view+json": {
       "model_id": "e27b4c5cacd646bebdc0a0e299825b28",
       "version_major": 2,
       "version_minor": 0
      },
      "text/plain": [
       "  0%|          | 0/12 [00:00<?, ?it/s]"
      ]
     },
     "metadata": {},
     "output_type": "display_data"
    },
    {
     "name": "stdout",
     "output_type": "stream",
     "text": [
      "[[2555   23]\n",
      " [ 237    4]]\n",
      "              precision    recall  f1-score   support\n",
      "\n",
      "       0: 정상       0.92      0.99      0.95      2578\n",
      "       1: 이상       0.15      0.02      0.03       241\n",
      "\n",
      "    accuracy                           0.91      2819\n",
      "   macro avg       0.53      0.50      0.49      2819\n",
      "weighted avg       0.85      0.91      0.87      2819\n",
      "\n",
      "Epoch [0], Train Loss : [7.84696] Val Loss : [6.68569] Val F1 Score : [0.49072]\n"
     ]
    },
    {
     "data": {
      "application/vnd.jupyter.widget-view+json": {
       "model_id": "4f7bf38f721648c8b89cb0e0af833bee",
       "version_major": 2,
       "version_minor": 0
      },
      "text/plain": [
       "  0%|          | 0/45 [00:00<?, ?it/s]"
      ]
     },
     "metadata": {},
     "output_type": "display_data"
    },
    {
     "data": {
      "application/vnd.jupyter.widget-view+json": {
       "model_id": "c1e7ddaeb7f84b62913798a4b3dfb7e7",
       "version_major": 2,
       "version_minor": 0
      },
      "text/plain": [
       "  0%|          | 0/12 [00:00<?, ?it/s]"
      ]
     },
     "metadata": {},
     "output_type": "display_data"
    },
    {
     "name": "stdout",
     "output_type": "stream",
     "text": [
      "[[2503   75]\n",
      " [ 222   19]]\n",
      "              precision    recall  f1-score   support\n",
      "\n",
      "       0: 정상       0.92      0.97      0.94      2578\n",
      "       1: 이상       0.20      0.08      0.11       241\n",
      "\n",
      "    accuracy                           0.89      2819\n",
      "   macro avg       0.56      0.52      0.53      2819\n",
      "weighted avg       0.86      0.89      0.87      2819\n",
      "\n",
      "Epoch [1], Train Loss : [7.04253] Val Loss : [6.67362] Val F1 Score : [0.52871]\n"
     ]
    },
    {
     "data": {
      "application/vnd.jupyter.widget-view+json": {
       "model_id": "9e1211c570914269929948679f8c275e",
       "version_major": 2,
       "version_minor": 0
      },
      "text/plain": [
       "  0%|          | 0/45 [00:00<?, ?it/s]"
      ]
     },
     "metadata": {},
     "output_type": "display_data"
    },
    {
     "data": {
      "application/vnd.jupyter.widget-view+json": {
       "model_id": "a1b7d804ebaf4ba8845f3f3dcd743d2d",
       "version_major": 2,
       "version_minor": 0
      },
      "text/plain": [
       "  0%|          | 0/12 [00:00<?, ?it/s]"
      ]
     },
     "metadata": {},
     "output_type": "display_data"
    },
    {
     "name": "stdout",
     "output_type": "stream",
     "text": [
      "[[2522   56]\n",
      " [ 231   10]]\n",
      "              precision    recall  f1-score   support\n",
      "\n",
      "       0: 정상       0.92      0.98      0.95      2578\n",
      "       1: 이상       0.15      0.04      0.07       241\n",
      "\n",
      "    accuracy                           0.90      2819\n",
      "   macro avg       0.53      0.51      0.51      2819\n",
      "weighted avg       0.85      0.90      0.87      2819\n",
      "\n",
      "Epoch [2], Train Loss : [6.96500] Val Loss : [6.78826] Val F1 Score : [0.50566]\n"
     ]
    },
    {
     "data": {
      "application/vnd.jupyter.widget-view+json": {
       "model_id": "b4a061bf7f47412880ecc9f6b7441a0c",
       "version_major": 2,
       "version_minor": 0
      },
      "text/plain": [
       "  0%|          | 0/45 [00:00<?, ?it/s]"
      ]
     },
     "metadata": {},
     "output_type": "display_data"
    },
    {
     "data": {
      "application/vnd.jupyter.widget-view+json": {
       "model_id": "c455deea2ec24f3091aa19e532c2d7ff",
       "version_major": 2,
       "version_minor": 0
      },
      "text/plain": [
       "  0%|          | 0/12 [00:00<?, ?it/s]"
      ]
     },
     "metadata": {},
     "output_type": "display_data"
    },
    {
     "name": "stdout",
     "output_type": "stream",
     "text": [
      "[[2543   35]\n",
      " [ 230   11]]\n",
      "              precision    recall  f1-score   support\n",
      "\n",
      "       0: 정상       0.92      0.99      0.95      2578\n",
      "       1: 이상       0.24      0.05      0.08       241\n",
      "\n",
      "    accuracy                           0.91      2819\n",
      "   macro avg       0.58      0.52      0.51      2819\n",
      "weighted avg       0.86      0.91      0.88      2819\n",
      "\n",
      "Epoch [3], Train Loss : [6.94012] Val Loss : [6.71957] Val F1 Score : [0.51357]\n",
      "Epoch 00004: reducing learning rate of group 0 to 5.0000e-03.\n"
     ]
    },
    {
     "data": {
      "application/vnd.jupyter.widget-view+json": {
       "model_id": "d766c4b15fbb447a9eda784615704977",
       "version_major": 2,
       "version_minor": 0
      },
      "text/plain": [
       "  0%|          | 0/45 [00:00<?, ?it/s]"
      ]
     },
     "metadata": {},
     "output_type": "display_data"
    },
    {
     "data": {
      "application/vnd.jupyter.widget-view+json": {
       "model_id": "24bfd825fdc6459683da77fc05ec55e9",
       "version_major": 2,
       "version_minor": 0
      },
      "text/plain": [
       "  0%|          | 0/12 [00:00<?, ?it/s]"
      ]
     },
     "metadata": {},
     "output_type": "display_data"
    },
    {
     "name": "stdout",
     "output_type": "stream",
     "text": [
      "[[2531   47]\n",
      " [ 231   10]]\n",
      "              precision    recall  f1-score   support\n",
      "\n",
      "       0: 정상       0.92      0.98      0.95      2578\n",
      "       1: 이상       0.18      0.04      0.07       241\n",
      "\n",
      "    accuracy                           0.90      2819\n",
      "   macro avg       0.55      0.51      0.51      2819\n",
      "weighted avg       0.85      0.90      0.87      2819\n",
      "\n",
      "Epoch [4], Train Loss : [6.86373] Val Loss : [6.60779] Val F1 Score : [0.50753]\n"
     ]
    },
    {
     "data": {
      "application/vnd.jupyter.widget-view+json": {
       "model_id": "3c9531bb00e946a58cc12f6c8a866f77",
       "version_major": 2,
       "version_minor": 0
      },
      "text/plain": [
       "  0%|          | 0/45 [00:00<?, ?it/s]"
      ]
     },
     "metadata": {},
     "output_type": "display_data"
    },
    {
     "data": {
      "application/vnd.jupyter.widget-view+json": {
       "model_id": "74da6658d6f94759816d43480676094f",
       "version_major": 2,
       "version_minor": 0
      },
      "text/plain": [
       "  0%|          | 0/12 [00:00<?, ?it/s]"
      ]
     },
     "metadata": {},
     "output_type": "display_data"
    },
    {
     "name": "stdout",
     "output_type": "stream",
     "text": [
      "[[2489   89]\n",
      " [ 216   25]]\n",
      "              precision    recall  f1-score   support\n",
      "\n",
      "       0: 정상       0.92      0.97      0.94      2578\n",
      "       1: 이상       0.22      0.10      0.14       241\n",
      "\n",
      "    accuracy                           0.89      2819\n",
      "   macro avg       0.57      0.53      0.54      2819\n",
      "weighted avg       0.86      0.89      0.87      2819\n",
      "\n",
      "Epoch [5], Train Loss : [6.77136] Val Loss : [6.67255] Val F1 Score : [0.54156]\n"
     ]
    },
    {
     "data": {
      "application/vnd.jupyter.widget-view+json": {
       "model_id": "99cb77ecda9e4ac7ae52026acc8bb234",
       "version_major": 2,
       "version_minor": 0
      },
      "text/plain": [
       "  0%|          | 0/45 [00:00<?, ?it/s]"
      ]
     },
     "metadata": {},
     "output_type": "display_data"
    },
    {
     "data": {
      "application/vnd.jupyter.widget-view+json": {
       "model_id": "49c9265c6c0747a4845432828e3c3a10",
       "version_major": 2,
       "version_minor": 0
      },
      "text/plain": [
       "  0%|          | 0/12 [00:00<?, ?it/s]"
      ]
     },
     "metadata": {},
     "output_type": "display_data"
    },
    {
     "name": "stdout",
     "output_type": "stream",
     "text": [
      "[[2503   75]\n",
      " [ 223   18]]\n",
      "              precision    recall  f1-score   support\n",
      "\n",
      "       0: 정상       0.92      0.97      0.94      2578\n",
      "       1: 이상       0.19      0.07      0.11       241\n",
      "\n",
      "    accuracy                           0.89      2819\n",
      "   macro avg       0.56      0.52      0.53      2819\n",
      "weighted avg       0.86      0.89      0.87      2819\n",
      "\n",
      "Epoch [6], Train Loss : [6.76230] Val Loss : [6.69221] Val F1 Score : [0.52580]\n"
     ]
    },
    {
     "data": {
      "application/vnd.jupyter.widget-view+json": {
       "model_id": "edb23c35a7b34e46ac694648c88d8fc0",
       "version_major": 2,
       "version_minor": 0
      },
      "text/plain": [
       "  0%|          | 0/45 [00:00<?, ?it/s]"
      ]
     },
     "metadata": {},
     "output_type": "display_data"
    },
    {
     "data": {
      "application/vnd.jupyter.widget-view+json": {
       "model_id": "afd192a2fe554869b090c8d1ad530c70",
       "version_major": 2,
       "version_minor": 0
      },
      "text/plain": [
       "  0%|          | 0/12 [00:00<?, ?it/s]"
      ]
     },
     "metadata": {},
     "output_type": "display_data"
    },
    {
     "name": "stdout",
     "output_type": "stream",
     "text": [
      "[[2542   36]\n",
      " [ 234    7]]\n",
      "              precision    recall  f1-score   support\n",
      "\n",
      "       0: 정상       0.92      0.99      0.95      2578\n",
      "       1: 이상       0.16      0.03      0.05       241\n",
      "\n",
      "    accuracy                           0.90      2819\n",
      "   macro avg       0.54      0.51      0.50      2819\n",
      "weighted avg       0.85      0.90      0.87      2819\n",
      "\n",
      "Epoch [7], Train Loss : [6.71373] Val Loss : [6.62253] Val F1 Score : [0.49943]\n",
      "Epoch 00008: reducing learning rate of group 0 to 2.5000e-03.\n"
     ]
    },
    {
     "data": {
      "application/vnd.jupyter.widget-view+json": {
       "model_id": "41dc2351dc9b4565a1adb2d8482c58cc",
       "version_major": 2,
       "version_minor": 0
      },
      "text/plain": [
       "  0%|          | 0/45 [00:00<?, ?it/s]"
      ]
     },
     "metadata": {},
     "output_type": "display_data"
    },
    {
     "data": {
      "application/vnd.jupyter.widget-view+json": {
       "model_id": "9bfdfb7d989b457a8ae68e9dfee19cc0",
       "version_major": 2,
       "version_minor": 0
      },
      "text/plain": [
       "  0%|          | 0/12 [00:00<?, ?it/s]"
      ]
     },
     "metadata": {},
     "output_type": "display_data"
    },
    {
     "name": "stdout",
     "output_type": "stream",
     "text": [
      "[[2525   53]\n",
      " [ 228   13]]\n",
      "              precision    recall  f1-score   support\n",
      "\n",
      "       0: 정상       0.92      0.98      0.95      2578\n",
      "       1: 이상       0.20      0.05      0.08       241\n",
      "\n",
      "    accuracy                           0.90      2819\n",
      "   macro avg       0.56      0.52      0.52      2819\n",
      "weighted avg       0.86      0.90      0.87      2819\n",
      "\n",
      "Epoch [8], Train Loss : [6.67314] Val Loss : [6.65758] Val F1 Score : [0.51599]\n"
     ]
    },
    {
     "data": {
      "application/vnd.jupyter.widget-view+json": {
       "model_id": "4b6fb408456d4077ace4f5acdab943ea",
       "version_major": 2,
       "version_minor": 0
      },
      "text/plain": [
       "  0%|          | 0/45 [00:00<?, ?it/s]"
      ]
     },
     "metadata": {},
     "output_type": "display_data"
    },
    {
     "data": {
      "application/vnd.jupyter.widget-view+json": {
       "model_id": "d6124c1b06654942ab9c04c761efd889",
       "version_major": 2,
       "version_minor": 0
      },
      "text/plain": [
       "  0%|          | 0/12 [00:00<?, ?it/s]"
      ]
     },
     "metadata": {},
     "output_type": "display_data"
    },
    {
     "name": "stdout",
     "output_type": "stream",
     "text": [
      "[[2527   51]\n",
      " [ 231   10]]\n",
      "              precision    recall  f1-score   support\n",
      "\n",
      "       0: 정상       0.92      0.98      0.95      2578\n",
      "       1: 이상       0.16      0.04      0.07       241\n",
      "\n",
      "    accuracy                           0.90      2819\n",
      "   macro avg       0.54      0.51      0.51      2819\n",
      "weighted avg       0.85      0.90      0.87      2819\n",
      "\n",
      "Epoch [9], Train Loss : [6.65183] Val Loss : [6.69445] Val F1 Score : [0.50669]\n",
      "Epoch 00010: reducing learning rate of group 0 to 1.2500e-03.\n"
     ]
    },
    {
     "data": {
      "application/vnd.jupyter.widget-view+json": {
       "model_id": "9e97b9600cd840149305aad665c97734",
       "version_major": 2,
       "version_minor": 0
      },
      "text/plain": [
       "  0%|          | 0/45 [00:00<?, ?it/s]"
      ]
     },
     "metadata": {},
     "output_type": "display_data"
    },
    {
     "data": {
      "application/vnd.jupyter.widget-view+json": {
       "model_id": "91220515e9f84430a9eb2f8eb179db8a",
       "version_major": 2,
       "version_minor": 0
      },
      "text/plain": [
       "  0%|          | 0/12 [00:00<?, ?it/s]"
      ]
     },
     "metadata": {},
     "output_type": "display_data"
    },
    {
     "name": "stdout",
     "output_type": "stream",
     "text": [
      "[[2509   69]\n",
      " [ 225   16]]\n",
      "              precision    recall  f1-score   support\n",
      "\n",
      "       0: 정상       0.92      0.97      0.94      2578\n",
      "       1: 이상       0.19      0.07      0.10       241\n",
      "\n",
      "    accuracy                           0.90      2819\n",
      "   macro avg       0.55      0.52      0.52      2819\n",
      "weighted avg       0.86      0.90      0.87      2819\n",
      "\n",
      "Epoch [10], Train Loss : [6.54466] Val Loss : [6.69274] Val F1 Score : [0.52141]\n"
     ]
    },
    {
     "data": {
      "application/vnd.jupyter.widget-view+json": {
       "model_id": "8ac9c87c608b4c89ac3a9abc6685572f",
       "version_major": 2,
       "version_minor": 0
      },
      "text/plain": [
       "  0%|          | 0/45 [00:00<?, ?it/s]"
      ]
     },
     "metadata": {},
     "output_type": "display_data"
    },
    {
     "data": {
      "application/vnd.jupyter.widget-view+json": {
       "model_id": "6c221606dacd42c595f4f29e658bc6eb",
       "version_major": 2,
       "version_minor": 0
      },
      "text/plain": [
       "  0%|          | 0/12 [00:00<?, ?it/s]"
      ]
     },
     "metadata": {},
     "output_type": "display_data"
    },
    {
     "name": "stdout",
     "output_type": "stream",
     "text": [
      "[[2519   59]\n",
      " [ 228   13]]\n",
      "              precision    recall  f1-score   support\n",
      "\n",
      "       0: 정상       0.92      0.98      0.95      2578\n",
      "       1: 이상       0.18      0.05      0.08       241\n",
      "\n",
      "    accuracy                           0.90      2819\n",
      "   macro avg       0.55      0.52      0.51      2819\n",
      "weighted avg       0.85      0.90      0.87      2819\n",
      "\n",
      "Epoch [11], Train Loss : [6.58174] Val Loss : [6.66820] Val F1 Score : [0.51459]\n",
      "Epoch 00012: reducing learning rate of group 0 to 6.2500e-04.\n"
     ]
    },
    {
     "data": {
      "application/vnd.jupyter.widget-view+json": {
       "model_id": "beb6cd1ec49044d9876a0956f860bb0e",
       "version_major": 2,
       "version_minor": 0
      },
      "text/plain": [
       "  0%|          | 0/45 [00:00<?, ?it/s]"
      ]
     },
     "metadata": {},
     "output_type": "display_data"
    },
    {
     "data": {
      "application/vnd.jupyter.widget-view+json": {
       "model_id": "a1765fb06bda407388691c1c9cd296cd",
       "version_major": 2,
       "version_minor": 0
      },
      "text/plain": [
       "  0%|          | 0/12 [00:00<?, ?it/s]"
      ]
     },
     "metadata": {},
     "output_type": "display_data"
    },
    {
     "name": "stdout",
     "output_type": "stream",
     "text": [
      "[[2519   59]\n",
      " [ 221   20]]\n",
      "              precision    recall  f1-score   support\n",
      "\n",
      "       0: 정상       0.92      0.98      0.95      2578\n",
      "       1: 이상       0.25      0.08      0.12       241\n",
      "\n",
      "    accuracy                           0.90      2819\n",
      "   macro avg       0.59      0.53      0.54      2819\n",
      "weighted avg       0.86      0.90      0.88      2819\n",
      "\n",
      "Epoch [12], Train Loss : [6.52041] Val Loss : [6.66687] Val F1 Score : [0.53617]\n"
     ]
    },
    {
     "data": {
      "application/vnd.jupyter.widget-view+json": {
       "model_id": "0e026eee136a4bc58d9cc12730375a7e",
       "version_major": 2,
       "version_minor": 0
      },
      "text/plain": [
       "  0%|          | 0/45 [00:00<?, ?it/s]"
      ]
     },
     "metadata": {},
     "output_type": "display_data"
    },
    {
     "data": {
      "application/vnd.jupyter.widget-view+json": {
       "model_id": "1999180e3b9d4f1a8d1dd76b3b376c65",
       "version_major": 2,
       "version_minor": 0
      },
      "text/plain": [
       "  0%|          | 0/12 [00:00<?, ?it/s]"
      ]
     },
     "metadata": {},
     "output_type": "display_data"
    },
    {
     "name": "stdout",
     "output_type": "stream",
     "text": [
      "[[2510   68]\n",
      " [ 221   20]]\n",
      "              precision    recall  f1-score   support\n",
      "\n",
      "       0: 정상       0.92      0.97      0.95      2578\n",
      "       1: 이상       0.23      0.08      0.12       241\n",
      "\n",
      "    accuracy                           0.90      2819\n",
      "   macro avg       0.57      0.53      0.53      2819\n",
      "weighted avg       0.86      0.90      0.88      2819\n",
      "\n",
      "Epoch [13], Train Loss : [6.48294] Val Loss : [6.68220] Val F1 Score : [0.53357]\n",
      "Epoch 00014: reducing learning rate of group 0 to 3.1250e-04.\n"
     ]
    },
    {
     "data": {
      "application/vnd.jupyter.widget-view+json": {
       "model_id": "71d47b19827e4e57904593978f06ae63",
       "version_major": 2,
       "version_minor": 0
      },
      "text/plain": [
       "  0%|          | 0/45 [00:00<?, ?it/s]"
      ]
     },
     "metadata": {},
     "output_type": "display_data"
    },
    {
     "data": {
      "application/vnd.jupyter.widget-view+json": {
       "model_id": "66f71319e0db496e8ff0ad098e020a3f",
       "version_major": 2,
       "version_minor": 0
      },
      "text/plain": [
       "  0%|          | 0/12 [00:00<?, ?it/s]"
      ]
     },
     "metadata": {},
     "output_type": "display_data"
    },
    {
     "name": "stdout",
     "output_type": "stream",
     "text": [
      "[[2519   59]\n",
      " [ 221   20]]\n",
      "              precision    recall  f1-score   support\n",
      "\n",
      "       0: 정상       0.92      0.98      0.95      2578\n",
      "       1: 이상       0.25      0.08      0.12       241\n",
      "\n",
      "    accuracy                           0.90      2819\n",
      "   macro avg       0.59      0.53      0.54      2819\n",
      "weighted avg       0.86      0.90      0.88      2819\n",
      "\n",
      "Epoch [14], Train Loss : [6.43841] Val Loss : [6.67166] Val F1 Score : [0.53617]\n"
     ]
    },
    {
     "data": {
      "application/vnd.jupyter.widget-view+json": {
       "model_id": "6f54eaca37d0475785ee03ad95f27153",
       "version_major": 2,
       "version_minor": 0
      },
      "text/plain": [
       "  0%|          | 0/45 [00:00<?, ?it/s]"
      ]
     },
     "metadata": {},
     "output_type": "display_data"
    },
    {
     "data": {
      "application/vnd.jupyter.widget-view+json": {
       "model_id": "c424c7bd86c4484485bb6ac632068c0b",
       "version_major": 2,
       "version_minor": 0
      },
      "text/plain": [
       "  0%|          | 0/12 [00:00<?, ?it/s]"
      ]
     },
     "metadata": {},
     "output_type": "display_data"
    },
    {
     "name": "stdout",
     "output_type": "stream",
     "text": [
      "[[2517   61]\n",
      " [ 221   20]]\n",
      "              precision    recall  f1-score   support\n",
      "\n",
      "       0: 정상       0.92      0.98      0.95      2578\n",
      "       1: 이상       0.25      0.08      0.12       241\n",
      "\n",
      "    accuracy                           0.90      2819\n",
      "   macro avg       0.58      0.53      0.54      2819\n",
      "weighted avg       0.86      0.90      0.88      2819\n",
      "\n",
      "Epoch [15], Train Loss : [6.42671] Val Loss : [6.70763] Val F1 Score : [0.53559]\n",
      "Epoch 00016: reducing learning rate of group 0 to 1.5625e-04.\n"
     ]
    },
    {
     "data": {
      "application/vnd.jupyter.widget-view+json": {
       "model_id": "6599fee91e584dc7bccfac5b2fec53cd",
       "version_major": 2,
       "version_minor": 0
      },
      "text/plain": [
       "  0%|          | 0/45 [00:00<?, ?it/s]"
      ]
     },
     "metadata": {},
     "output_type": "display_data"
    },
    {
     "data": {
      "application/vnd.jupyter.widget-view+json": {
       "model_id": "e7f1000252844057be27deec36d19c9e",
       "version_major": 2,
       "version_minor": 0
      },
      "text/plain": [
       "  0%|          | 0/12 [00:00<?, ?it/s]"
      ]
     },
     "metadata": {},
     "output_type": "display_data"
    },
    {
     "name": "stdout",
     "output_type": "stream",
     "text": [
      "[[2525   53]\n",
      " [ 223   18]]\n",
      "              precision    recall  f1-score   support\n",
      "\n",
      "       0: 정상       0.92      0.98      0.95      2578\n",
      "       1: 이상       0.25      0.07      0.12       241\n",
      "\n",
      "    accuracy                           0.90      2819\n",
      "   macro avg       0.59      0.53      0.53      2819\n",
      "weighted avg       0.86      0.90      0.88      2819\n",
      "\n",
      "Epoch [16], Train Loss : [6.47261] Val Loss : [6.68899] Val F1 Score : [0.53178]\n"
     ]
    },
    {
     "data": {
      "application/vnd.jupyter.widget-view+json": {
       "model_id": "b27d1092136f4eb59f2089abfdbd8b2f",
       "version_major": 2,
       "version_minor": 0
      },
      "text/plain": [
       "  0%|          | 0/45 [00:00<?, ?it/s]"
      ]
     },
     "metadata": {},
     "output_type": "display_data"
    },
    {
     "data": {
      "application/vnd.jupyter.widget-view+json": {
       "model_id": "4fb06c7008414ae297cd67657885e971",
       "version_major": 2,
       "version_minor": 0
      },
      "text/plain": [
       "  0%|          | 0/12 [00:00<?, ?it/s]"
      ]
     },
     "metadata": {},
     "output_type": "display_data"
    },
    {
     "name": "stdout",
     "output_type": "stream",
     "text": [
      "[[2513   65]\n",
      " [ 221   20]]\n",
      "              precision    recall  f1-score   support\n",
      "\n",
      "       0: 정상       0.92      0.97      0.95      2578\n",
      "       1: 이상       0.24      0.08      0.12       241\n",
      "\n",
      "    accuracy                           0.90      2819\n",
      "   macro avg       0.58      0.53      0.53      2819\n",
      "weighted avg       0.86      0.90      0.88      2819\n",
      "\n",
      "Epoch [17], Train Loss : [6.40385] Val Loss : [6.69812] Val F1 Score : [0.53443]\n",
      "Epoch 00018: reducing learning rate of group 0 to 7.8125e-05.\n"
     ]
    },
    {
     "data": {
      "application/vnd.jupyter.widget-view+json": {
       "model_id": "74bc683ee44d454da616c70c39014785",
       "version_major": 2,
       "version_minor": 0
      },
      "text/plain": [
       "  0%|          | 0/45 [00:00<?, ?it/s]"
      ]
     },
     "metadata": {},
     "output_type": "display_data"
    },
    {
     "data": {
      "application/vnd.jupyter.widget-view+json": {
       "model_id": "d6c6239500644ffcb1f9f3a9eabf5317",
       "version_major": 2,
       "version_minor": 0
      },
      "text/plain": [
       "  0%|          | 0/12 [00:00<?, ?it/s]"
      ]
     },
     "metadata": {},
     "output_type": "display_data"
    },
    {
     "name": "stdout",
     "output_type": "stream",
     "text": [
      "[[2508   70]\n",
      " [ 218   23]]\n",
      "              precision    recall  f1-score   support\n",
      "\n",
      "       0: 정상       0.92      0.97      0.95      2578\n",
      "       1: 이상       0.25      0.10      0.14       241\n",
      "\n",
      "    accuracy                           0.90      2819\n",
      "   macro avg       0.58      0.53      0.54      2819\n",
      "weighted avg       0.86      0.90      0.88      2819\n",
      "\n",
      "Epoch [18], Train Loss : [6.48978] Val Loss : [6.71530] Val F1 Score : [0.54171]\n"
     ]
    },
    {
     "data": {
      "application/vnd.jupyter.widget-view+json": {
       "model_id": "fba69d21eb9d45dd8b6ced7917af2f45",
       "version_major": 2,
       "version_minor": 0
      },
      "text/plain": [
       "  0%|          | 0/45 [00:00<?, ?it/s]"
      ]
     },
     "metadata": {},
     "output_type": "display_data"
    },
    {
     "data": {
      "application/vnd.jupyter.widget-view+json": {
       "model_id": "1d4a4d1fb5ab4541bd26670fb9fba909",
       "version_major": 2,
       "version_minor": 0
      },
      "text/plain": [
       "  0%|          | 0/12 [00:00<?, ?it/s]"
      ]
     },
     "metadata": {},
     "output_type": "display_data"
    },
    {
     "name": "stdout",
     "output_type": "stream",
     "text": [
      "[[2514   64]\n",
      " [ 220   21]]\n",
      "              precision    recall  f1-score   support\n",
      "\n",
      "       0: 정상       0.92      0.98      0.95      2578\n",
      "       1: 이상       0.25      0.09      0.13       241\n",
      "\n",
      "    accuracy                           0.90      2819\n",
      "   macro avg       0.58      0.53      0.54      2819\n",
      "weighted avg       0.86      0.90      0.88      2819\n",
      "\n",
      "Epoch [19], Train Loss : [6.42788] Val Loss : [6.70989] Val F1 Score : [0.53769]\n"
     ]
    },
    {
     "data": {
      "application/vnd.jupyter.widget-view+json": {
       "model_id": "93d196a3f304469ba29d99231a2304f8",
       "version_major": 2,
       "version_minor": 0
      },
      "text/plain": [
       "  0%|          | 0/45 [00:00<?, ?it/s]"
      ]
     },
     "metadata": {},
     "output_type": "display_data"
    },
    {
     "data": {
      "application/vnd.jupyter.widget-view+json": {
       "model_id": "df100c6b9759470994f219ceab32fb17",
       "version_major": 2,
       "version_minor": 0
      },
      "text/plain": [
       "  0%|          | 0/12 [00:00<?, ?it/s]"
      ]
     },
     "metadata": {},
     "output_type": "display_data"
    },
    {
     "name": "stdout",
     "output_type": "stream",
     "text": [
      "[[2522   56]\n",
      " [ 221   20]]\n",
      "              precision    recall  f1-score   support\n",
      "\n",
      "       0: 정상       0.92      0.98      0.95      2578\n",
      "       1: 이상       0.26      0.08      0.13       241\n",
      "\n",
      "    accuracy                           0.90      2819\n",
      "   macro avg       0.59      0.53      0.54      2819\n",
      "weighted avg       0.86      0.90      0.88      2819\n",
      "\n",
      "Epoch [20], Train Loss : [6.44416] Val Loss : [6.68029] Val F1 Score : [0.53706]\n",
      "Epoch 00021: reducing learning rate of group 0 to 3.9063e-05.\n"
     ]
    },
    {
     "data": {
      "application/vnd.jupyter.widget-view+json": {
       "model_id": "e74ec994148c48309106ae3e01d951e3",
       "version_major": 2,
       "version_minor": 0
      },
      "text/plain": [
       "  0%|          | 0/45 [00:00<?, ?it/s]"
      ]
     },
     "metadata": {},
     "output_type": "display_data"
    },
    {
     "data": {
      "application/vnd.jupyter.widget-view+json": {
       "model_id": "a2714ccfebd74d52afd991c9da8f2c26",
       "version_major": 2,
       "version_minor": 0
      },
      "text/plain": [
       "  0%|          | 0/12 [00:00<?, ?it/s]"
      ]
     },
     "metadata": {},
     "output_type": "display_data"
    },
    {
     "name": "stdout",
     "output_type": "stream",
     "text": [
      "[[2521   57]\n",
      " [ 222   19]]\n",
      "              precision    recall  f1-score   support\n",
      "\n",
      "       0: 정상       0.92      0.98      0.95      2578\n",
      "       1: 이상       0.25      0.08      0.12       241\n",
      "\n",
      "    accuracy                           0.90      2819\n",
      "   macro avg       0.58      0.53      0.53      2819\n",
      "weighted avg       0.86      0.90      0.88      2819\n",
      "\n",
      "Epoch [21], Train Loss : [6.45806] Val Loss : [6.67973] Val F1 Score : [0.53372]\n"
     ]
    },
    {
     "data": {
      "application/vnd.jupyter.widget-view+json": {
       "model_id": "9bd8a71cd7824117814e6a91b1407cdd",
       "version_major": 2,
       "version_minor": 0
      },
      "text/plain": [
       "  0%|          | 0/45 [00:00<?, ?it/s]"
      ]
     },
     "metadata": {},
     "output_type": "display_data"
    },
    {
     "data": {
      "application/vnd.jupyter.widget-view+json": {
       "model_id": "e99b009a9f284daaa750df082a769af4",
       "version_major": 2,
       "version_minor": 0
      },
      "text/plain": [
       "  0%|          | 0/12 [00:00<?, ?it/s]"
      ]
     },
     "metadata": {},
     "output_type": "display_data"
    },
    {
     "name": "stdout",
     "output_type": "stream",
     "text": [
      "[[2519   59]\n",
      " [ 220   21]]\n",
      "              precision    recall  f1-score   support\n",
      "\n",
      "       0: 정상       0.92      0.98      0.95      2578\n",
      "       1: 이상       0.26      0.09      0.13       241\n",
      "\n",
      "    accuracy                           0.90      2819\n",
      "   macro avg       0.59      0.53      0.54      2819\n",
      "weighted avg       0.86      0.90      0.88      2819\n",
      "\n",
      "Epoch [22], Train Loss : [6.44141] Val Loss : [6.70156] Val F1 Score : [0.53918]\n",
      "Epoch 00023: reducing learning rate of group 0 to 1.9531e-05.\n"
     ]
    },
    {
     "data": {
      "application/vnd.jupyter.widget-view+json": {
       "model_id": "f1b98028262b4b2fb4fdc8fb981cc132",
       "version_major": 2,
       "version_minor": 0
      },
      "text/plain": [
       "  0%|          | 0/45 [00:00<?, ?it/s]"
      ]
     },
     "metadata": {},
     "output_type": "display_data"
    },
    {
     "data": {
      "application/vnd.jupyter.widget-view+json": {
       "model_id": "eb74eea9677d48e8bbff83a4e6b1cdd7",
       "version_major": 2,
       "version_minor": 0
      },
      "text/plain": [
       "  0%|          | 0/12 [00:00<?, ?it/s]"
      ]
     },
     "metadata": {},
     "output_type": "display_data"
    },
    {
     "name": "stdout",
     "output_type": "stream",
     "text": [
      "[[2516   62]\n",
      " [ 219   22]]\n",
      "              precision    recall  f1-score   support\n",
      "\n",
      "       0: 정상       0.92      0.98      0.95      2578\n",
      "       1: 이상       0.26      0.09      0.14       241\n",
      "\n",
      "    accuracy                           0.90      2819\n",
      "   macro avg       0.59      0.53      0.54      2819\n",
      "weighted avg       0.86      0.90      0.88      2819\n",
      "\n",
      "Epoch [23], Train Loss : [6.44139] Val Loss : [6.68595] Val F1 Score : [0.54125]\n"
     ]
    },
    {
     "data": {
      "application/vnd.jupyter.widget-view+json": {
       "model_id": "9ec18a651ff94d0b88edc6552caed176",
       "version_major": 2,
       "version_minor": 0
      },
      "text/plain": [
       "  0%|          | 0/45 [00:00<?, ?it/s]"
      ]
     },
     "metadata": {},
     "output_type": "display_data"
    },
    {
     "data": {
      "application/vnd.jupyter.widget-view+json": {
       "model_id": "4a1b2afff2104a0fa710963852ebeb56",
       "version_major": 2,
       "version_minor": 0
      },
      "text/plain": [
       "  0%|          | 0/12 [00:00<?, ?it/s]"
      ]
     },
     "metadata": {},
     "output_type": "display_data"
    },
    {
     "name": "stdout",
     "output_type": "stream",
     "text": [
      "[[2513   65]\n",
      " [ 221   20]]\n",
      "              precision    recall  f1-score   support\n",
      "\n",
      "       0: 정상       0.92      0.97      0.95      2578\n",
      "       1: 이상       0.24      0.08      0.12       241\n",
      "\n",
      "    accuracy                           0.90      2819\n",
      "   macro avg       0.58      0.53      0.53      2819\n",
      "weighted avg       0.86      0.90      0.88      2819\n",
      "\n",
      "Epoch [24], Train Loss : [6.48443] Val Loss : [6.69843] Val F1 Score : [0.53443]\n",
      "Epoch 00025: reducing learning rate of group 0 to 9.7656e-06.\n"
     ]
    },
    {
     "data": {
      "application/vnd.jupyter.widget-view+json": {
       "model_id": "a1da0805f272406fb59b6bb93b0be817",
       "version_major": 2,
       "version_minor": 0
      },
      "text/plain": [
       "  0%|          | 0/45 [00:00<?, ?it/s]"
      ]
     },
     "metadata": {},
     "output_type": "display_data"
    },
    {
     "data": {
      "application/vnd.jupyter.widget-view+json": {
       "model_id": "44f5f1fe49f64ee798fed2038b2c1a1a",
       "version_major": 2,
       "version_minor": 0
      },
      "text/plain": [
       "  0%|          | 0/12 [00:00<?, ?it/s]"
      ]
     },
     "metadata": {},
     "output_type": "display_data"
    },
    {
     "name": "stdout",
     "output_type": "stream",
     "text": [
      "[[2513   65]\n",
      " [ 220   21]]\n",
      "              precision    recall  f1-score   support\n",
      "\n",
      "       0: 정상       0.92      0.97      0.95      2578\n",
      "       1: 이상       0.24      0.09      0.13       241\n",
      "\n",
      "    accuracy                           0.90      2819\n",
      "   macro avg       0.58      0.53      0.54      2819\n",
      "weighted avg       0.86      0.90      0.88      2819\n",
      "\n",
      "Epoch [25], Train Loss : [6.47904] Val Loss : [6.70346] Val F1 Score : [0.53739]\n"
     ]
    },
    {
     "data": {
      "application/vnd.jupyter.widget-view+json": {
       "model_id": "edf9dcdfec2140c19f5b1cf3c0863a94",
       "version_major": 2,
       "version_minor": 0
      },
      "text/plain": [
       "  0%|          | 0/45 [00:00<?, ?it/s]"
      ]
     },
     "metadata": {},
     "output_type": "display_data"
    },
    {
     "data": {
      "application/vnd.jupyter.widget-view+json": {
       "model_id": "c4cc526af0964ed0b1ba9140b6e935aa",
       "version_major": 2,
       "version_minor": 0
      },
      "text/plain": [
       "  0%|          | 0/12 [00:00<?, ?it/s]"
      ]
     },
     "metadata": {},
     "output_type": "display_data"
    },
    {
     "name": "stdout",
     "output_type": "stream",
     "text": [
      "[[2520   58]\n",
      " [ 222   19]]\n",
      "              precision    recall  f1-score   support\n",
      "\n",
      "       0: 정상       0.92      0.98      0.95      2578\n",
      "       1: 이상       0.25      0.08      0.12       241\n",
      "\n",
      "    accuracy                           0.90      2819\n",
      "   macro avg       0.58      0.53      0.53      2819\n",
      "weighted avg       0.86      0.90      0.88      2819\n",
      "\n",
      "Epoch [26], Train Loss : [6.40817] Val Loss : [6.69125] Val F1 Score : [0.53343]\n",
      "Epoch 00027: reducing learning rate of group 0 to 4.8828e-06.\n"
     ]
    },
    {
     "data": {
      "application/vnd.jupyter.widget-view+json": {
       "model_id": "197312274b1d46f7b3e9f08d49d45e69",
       "version_major": 2,
       "version_minor": 0
      },
      "text/plain": [
       "  0%|          | 0/45 [00:00<?, ?it/s]"
      ]
     },
     "metadata": {},
     "output_type": "display_data"
    },
    {
     "data": {
      "application/vnd.jupyter.widget-view+json": {
       "model_id": "1933285a2c0a4d2ebd85e9a16f6aa74a",
       "version_major": 2,
       "version_minor": 0
      },
      "text/plain": [
       "  0%|          | 0/12 [00:00<?, ?it/s]"
      ]
     },
     "metadata": {},
     "output_type": "display_data"
    },
    {
     "name": "stdout",
     "output_type": "stream",
     "text": [
      "[[2509   69]\n",
      " [ 221   20]]\n",
      "              precision    recall  f1-score   support\n",
      "\n",
      "       0: 정상       0.92      0.97      0.95      2578\n",
      "       1: 이상       0.22      0.08      0.12       241\n",
      "\n",
      "    accuracy                           0.90      2819\n",
      "   macro avg       0.57      0.53      0.53      2819\n",
      "weighted avg       0.86      0.90      0.87      2819\n",
      "\n",
      "Epoch [27], Train Loss : [6.41393] Val Loss : [6.69635] Val F1 Score : [0.53329]\n"
     ]
    },
    {
     "data": {
      "application/vnd.jupyter.widget-view+json": {
       "model_id": "59d5852ef9b048d1879f7262f98646fd",
       "version_major": 2,
       "version_minor": 0
      },
      "text/plain": [
       "  0%|          | 0/45 [00:00<?, ?it/s]"
      ]
     },
     "metadata": {},
     "output_type": "display_data"
    },
    {
     "data": {
      "application/vnd.jupyter.widget-view+json": {
       "model_id": "6f59ee849ad24deea338d9ccbfca8829",
       "version_major": 2,
       "version_minor": 0
      },
      "text/plain": [
       "  0%|          | 0/12 [00:00<?, ?it/s]"
      ]
     },
     "metadata": {},
     "output_type": "display_data"
    },
    {
     "name": "stdout",
     "output_type": "stream",
     "text": [
      "[[2509   69]\n",
      " [ 217   24]]\n",
      "              precision    recall  f1-score   support\n",
      "\n",
      "       0: 정상       0.92      0.97      0.95      2578\n",
      "       1: 이상       0.26      0.10      0.14       241\n",
      "\n",
      "    accuracy                           0.90      2819\n",
      "   macro avg       0.59      0.54      0.54      2819\n",
      "weighted avg       0.86      0.90      0.88      2819\n",
      "\n",
      "Epoch [28], Train Loss : [6.40597] Val Loss : [6.71233] Val F1 Score : [0.54490]\n"
     ]
    },
    {
     "data": {
      "application/vnd.jupyter.widget-view+json": {
       "model_id": "13ec603d284d4020b6669663a0327ba7",
       "version_major": 2,
       "version_minor": 0
      },
      "text/plain": [
       "  0%|          | 0/45 [00:00<?, ?it/s]"
      ]
     },
     "metadata": {},
     "output_type": "display_data"
    },
    {
     "data": {
      "application/vnd.jupyter.widget-view+json": {
       "model_id": "053efc7d06884027a288a8a209285576",
       "version_major": 2,
       "version_minor": 0
      },
      "text/plain": [
       "  0%|          | 0/12 [00:00<?, ?it/s]"
      ]
     },
     "metadata": {},
     "output_type": "display_data"
    },
    {
     "name": "stdout",
     "output_type": "stream",
     "text": [
      "[[2518   60]\n",
      " [ 221   20]]\n",
      "              precision    recall  f1-score   support\n",
      "\n",
      "       0: 정상       0.92      0.98      0.95      2578\n",
      "       1: 이상       0.25      0.08      0.12       241\n",
      "\n",
      "    accuracy                           0.90      2819\n",
      "   macro avg       0.58      0.53      0.54      2819\n",
      "weighted avg       0.86      0.90      0.88      2819\n",
      "\n",
      "Epoch [29], Train Loss : [6.44263] Val Loss : [6.70763] Val F1 Score : [0.53588]\n",
      "Student Train Best Score는 0.5448955031114242 입니다.\n"
     ]
    }
   ],
   "source": [
    "student_model = Student()\n",
    "student_model.eval()\n",
    "optimizer = torch.optim.Adam(student_model.parameters(), lr=CFG['LEARNING_RATE'])\n",
    "scheduler = torch.optim.lr_scheduler.ReduceLROnPlateau(optimizer, mode='max', factor=0.5, patience=1, threshold_mode='abs',min_lr=1e-8, verbose=True)\n",
    "\n",
    "best_student_model = student_train(student_model, teacher_model, optimizer, train_loader, val_loader, scheduler, device)\n"
   ]
  },
  {
   "cell_type": "code",
   "execution_count": 537,
   "id": "5de1a60c",
   "metadata": {},
   "outputs": [],
   "source": [
    "PATH1 = f\"./models/{file_version}_student_net.pth\"\n",
    "torch.save(best_student_model.state_dict(), PATH1)"
   ]
  },
  {
   "cell_type": "code",
   "execution_count": 538,
   "id": "bc7d4e89",
   "metadata": {},
   "outputs": [
    {
     "data": {
      "text/plain": [
       "Student(\n",
       "  (classifier): Sequential(\n",
       "    (0): Linear(in_features=23, out_features=128, bias=True)\n",
       "    (1): Dropout(p=0.2, inplace=False)\n",
       "    (2): BatchNorm1d(128, eps=1e-05, momentum=0.1, affine=True, track_running_stats=True)\n",
       "    (3): LeakyReLU(negative_slope=0.01)\n",
       "    (4): Linear(in_features=128, out_features=512, bias=True)\n",
       "    (5): Dropout(p=0.2, inplace=False)\n",
       "    (6): BatchNorm1d(512, eps=1e-05, momentum=0.1, affine=True, track_running_stats=True)\n",
       "    (7): LeakyReLU(negative_slope=0.01)\n",
       "    (8): Linear(in_features=512, out_features=128, bias=True)\n",
       "    (9): Dropout(p=0.2, inplace=False)\n",
       "    (10): BatchNorm1d(128, eps=1e-05, momentum=0.1, affine=True, track_running_stats=True)\n",
       "    (11): LeakyReLU(negative_slope=0.01)\n",
       "    (12): Linear(in_features=128, out_features=1, bias=True)\n",
       "    (13): Sigmoid()\n",
       "  )\n",
       ")"
      ]
     },
     "execution_count": 538,
     "metadata": {},
     "output_type": "execute_result"
    }
   ],
   "source": [
    "best_student_model = Student()\n",
    "best_student_model.load_state_dict(torch.load(PATH1))\n",
    "best_student_model"
   ]
  },
  {
   "cell_type": "code",
   "execution_count": 539,
   "id": "836d8f5a",
   "metadata": {},
   "outputs": [],
   "source": [
    "def choose_threshold(model, val_loader, device):\n",
    "    model.to(device)\n",
    "    model.eval()\n",
    "    \n",
    "#     thresholds = [0.1, 0.2, 0.25, 0.3, 0.35, 0.4, 0.45, 0.5]\n",
    "    thresholds = [0.05, 0.1, 0.15, 0.2, 0.25, 0.3]\n",
    "\n",
    "    pred_labels = []\n",
    "    true_labels = []\n",
    "    \n",
    "    best_score = 0\n",
    "    best_thr = None\n",
    "    with torch.no_grad():\n",
    "        for _, x_s, y in tqdm(iter(val_loader)):\n",
    "            x_s = x_s.float().to(device)\n",
    "            y = y.float().to(device)\n",
    "            \n",
    "            model_pred = model(x_s)\n",
    "            \n",
    "            model_pred = model_pred.squeeze(1).to('cpu')\n",
    "            pred_labels += model_pred.tolist()\n",
    "            true_labels += y.tolist()\n",
    "        \n",
    "        for threshold in thresholds:\n",
    "            pred_labels_thr = np.where(np.array(pred_labels) > threshold, 1, 0)\n",
    "            score_thr = competition_metric(true_labels, pred_labels_thr)\n",
    "            cf1 = confusion_matrix(true_labels, pred_labels_thr)  \n",
    "\n",
    "            print(cf1)\n",
    "            print(classification_report(true_labels, pred_labels_thr, target_names=[\"0: 정상\", \"1: 이상\"]))\n",
    "\n",
    "            if best_score < score_thr:\n",
    "                best_score = score_thr\n",
    "                best_thr = threshold\n",
    "                \n",
    "    return best_thr, best_score"
   ]
  },
  {
   "cell_type": "code",
   "execution_count": 540,
   "id": "8a59538f",
   "metadata": {
    "scrolled": false
   },
   "outputs": [
    {
     "data": {
      "application/vnd.jupyter.widget-view+json": {
       "model_id": "5db6971e624f40c5872edc6551c63cee",
       "version_major": 2,
       "version_minor": 0
      },
      "text/plain": [
       "  0%|          | 0/12 [00:00<?, ?it/s]"
      ]
     },
     "metadata": {},
     "output_type": "display_data"
    },
    {
     "name": "stdout",
     "output_type": "stream",
     "text": [
      "[[1087 1491]\n",
      " [  53  188]]\n",
      "              precision    recall  f1-score   support\n",
      "\n",
      "       0: 정상       0.95      0.42      0.58      2578\n",
      "       1: 이상       0.11      0.78      0.20       241\n",
      "\n",
      "    accuracy                           0.45      2819\n",
      "   macro avg       0.53      0.60      0.39      2819\n",
      "weighted avg       0.88      0.45      0.55      2819\n",
      "\n",
      "[[1693  885]\n",
      " [  94  147]]\n",
      "              precision    recall  f1-score   support\n",
      "\n",
      "       0: 정상       0.95      0.66      0.78      2578\n",
      "       1: 이상       0.14      0.61      0.23       241\n",
      "\n",
      "    accuracy                           0.65      2819\n",
      "   macro avg       0.54      0.63      0.50      2819\n",
      "weighted avg       0.88      0.65      0.73      2819\n",
      "\n",
      "[[2068  510]\n",
      " [ 140  101]]\n",
      "              precision    recall  f1-score   support\n",
      "\n",
      "       0: 정상       0.94      0.80      0.86      2578\n",
      "       1: 이상       0.17      0.42      0.24       241\n",
      "\n",
      "    accuracy                           0.77      2819\n",
      "   macro avg       0.55      0.61      0.55      2819\n",
      "weighted avg       0.87      0.77      0.81      2819\n",
      "\n",
      "[[2295  283]\n",
      " [ 169   72]]\n",
      "              precision    recall  f1-score   support\n",
      "\n",
      "       0: 정상       0.93      0.89      0.91      2578\n",
      "       1: 이상       0.20      0.30      0.24       241\n",
      "\n",
      "    accuracy                           0.84      2819\n",
      "   macro avg       0.57      0.59      0.58      2819\n",
      "weighted avg       0.87      0.84      0.85      2819\n",
      "\n",
      "[[2422  156]\n",
      " [ 192   49]]\n",
      "              precision    recall  f1-score   support\n",
      "\n",
      "       0: 정상       0.93      0.94      0.93      2578\n",
      "       1: 이상       0.24      0.20      0.22       241\n",
      "\n",
      "    accuracy                           0.88      2819\n",
      "   macro avg       0.58      0.57      0.58      2819\n",
      "weighted avg       0.87      0.88      0.87      2819\n",
      "\n",
      "[[2489   89]\n",
      " [ 213   28]]\n",
      "              precision    recall  f1-score   support\n",
      "\n",
      "       0: 정상       0.92      0.97      0.94      2578\n",
      "       1: 이상       0.24      0.12      0.16       241\n",
      "\n",
      "    accuracy                           0.89      2819\n",
      "   macro avg       0.58      0.54      0.55      2819\n",
      "weighted avg       0.86      0.89      0.88      2819\n",
      "\n"
     ]
    },
    {
     "data": {
      "application/vnd.jupyter.widget-view+json": {
       "model_id": "b4a86a9b436f45629c7fe1596b6331c5",
       "version_major": 2,
       "version_minor": 0
      },
      "text/plain": [
       "  0%|          | 0/12 [00:00<?, ?it/s]"
      ]
     },
     "metadata": {},
     "output_type": "display_data"
    },
    {
     "name": "stdout",
     "output_type": "stream",
     "text": [
      "[[1087 1491]\n",
      " [  53  188]]\n",
      "              precision    recall  f1-score   support\n",
      "\n",
      "       0: 정상       0.95      0.42      0.58      2578\n",
      "       1: 이상       0.11      0.78      0.20       241\n",
      "\n",
      "    accuracy                           0.45      2819\n",
      "   macro avg       0.53      0.60      0.39      2819\n",
      "weighted avg       0.88      0.45      0.55      2819\n",
      "\n",
      "[[1693  885]\n",
      " [  94  147]]\n",
      "              precision    recall  f1-score   support\n",
      "\n",
      "       0: 정상       0.95      0.66      0.78      2578\n",
      "       1: 이상       0.14      0.61      0.23       241\n",
      "\n",
      "    accuracy                           0.65      2819\n",
      "   macro avg       0.54      0.63      0.50      2819\n",
      "weighted avg       0.88      0.65      0.73      2819\n",
      "\n",
      "[[2068  510]\n",
      " [ 140  101]]\n",
      "              precision    recall  f1-score   support\n",
      "\n",
      "       0: 정상       0.94      0.80      0.86      2578\n",
      "       1: 이상       0.17      0.42      0.24       241\n",
      "\n",
      "    accuracy                           0.77      2819\n",
      "   macro avg       0.55      0.61      0.55      2819\n",
      "weighted avg       0.87      0.77      0.81      2819\n",
      "\n",
      "[[2295  283]\n",
      " [ 169   72]]\n",
      "              precision    recall  f1-score   support\n",
      "\n",
      "       0: 정상       0.93      0.89      0.91      2578\n",
      "       1: 이상       0.20      0.30      0.24       241\n",
      "\n",
      "    accuracy                           0.84      2819\n",
      "   macro avg       0.57      0.59      0.58      2819\n",
      "weighted avg       0.87      0.84      0.85      2819\n",
      "\n",
      "[[2422  156]\n",
      " [ 192   49]]\n",
      "              precision    recall  f1-score   support\n",
      "\n",
      "       0: 정상       0.93      0.94      0.93      2578\n",
      "       1: 이상       0.24      0.20      0.22       241\n",
      "\n",
      "    accuracy                           0.88      2819\n",
      "   macro avg       0.58      0.57      0.58      2819\n",
      "weighted avg       0.87      0.88      0.87      2819\n",
      "\n",
      "[[2489   89]\n",
      " [ 213   28]]\n",
      "              precision    recall  f1-score   support\n",
      "\n",
      "       0: 정상       0.92      0.97      0.94      2578\n",
      "       1: 이상       0.24      0.12      0.16       241\n",
      "\n",
      "    accuracy                           0.89      2819\n",
      "   macro avg       0.58      0.54      0.55      2819\n",
      "weighted avg       0.86      0.89      0.88      2819\n",
      "\n",
      "Best Threshold : [0.25], Score : [0.57635]\n"
     ]
    }
   ],
   "source": [
    "choose_threshold(best_student_model, val_loader, device)\n",
    "best_threshold, best_score = choose_threshold(best_student_model, val_loader, device)\n",
    "choose_threshold_result = f'Best Threshold : [{best_threshold}], Score : [{best_score:.5f}]'\n",
    "print(choose_threshold_result)"
   ]
  },
  {
   "cell_type": "code",
   "execution_count": 541,
   "id": "e75a3739",
   "metadata": {},
   "outputs": [],
   "source": [
    "test_datasets = CustomDataset(test, None, False)\n",
    "test_loaders = DataLoader(test_datasets, batch_size = CFG['BATCH_SIZE'], shuffle=False)"
   ]
  },
  {
   "cell_type": "code",
   "execution_count": 542,
   "id": "7f3df6cb",
   "metadata": {},
   "outputs": [],
   "source": [
    "def inference(model, test_loader, threshold, device):\n",
    "    model.to(device)\n",
    "    model.eval()\n",
    "    # .eval함수는 evaluation 과정에서 사용하지 말아야 하는 layer들을 알아서 off 시키는 함수\n",
    "    \n",
    "    test_predict = []\n",
    "    with torch.no_grad():\n",
    "        for x in tqdm(test_loader):\n",
    "            x = x.float().to(device)\n",
    "            model_pred = model(x)\n",
    "\n",
    "            model_pred = model_pred.squeeze(1).to('cpu')\n",
    "            test_predict += model_pred\n",
    "        \n",
    "    test_predict = np.where(np.array(test_predict) > threshold, 1, 0)  \n",
    "    # threshhold 보다 큰 값을 찾아서 1로 바꾸고, 아닌 것은 0으로 변경해라\n",
    "    print('Done.')\n",
    "    return test_predict"
   ]
  },
  {
   "cell_type": "code",
   "execution_count": 543,
   "id": "e432dba7",
   "metadata": {},
   "outputs": [
    {
     "data": {
      "application/vnd.jupyter.widget-view+json": {
       "model_id": "851362b0ae2b46239c4c991ee4c9ba1f",
       "version_major": 2,
       "version_minor": 0
      },
      "text/plain": [
       "  0%|          | 0/24 [00:00<?, ?it/s]"
      ]
     },
     "metadata": {},
     "output_type": "display_data"
    },
    {
     "name": "stdout",
     "output_type": "stream",
     "text": [
      "Done.\n"
     ]
    }
   ],
   "source": [
    "preds = inference(best_student_model, test_loaders, best_threshold, device)"
   ]
  },
  {
   "cell_type": "code",
   "execution_count": 544,
   "id": "3a2081a5",
   "metadata": {},
   "outputs": [
    {
     "data": {
      "text/html": [
       "<div>\n",
       "<style scoped>\n",
       "    .dataframe tbody tr th:only-of-type {\n",
       "        vertical-align: middle;\n",
       "    }\n",
       "\n",
       "    .dataframe tbody tr th {\n",
       "        vertical-align: top;\n",
       "    }\n",
       "\n",
       "    .dataframe thead th {\n",
       "        text-align: right;\n",
       "    }\n",
       "</style>\n",
       "<table border=\"1\" class=\"dataframe\">\n",
       "  <thead>\n",
       "    <tr style=\"text-align: right;\">\n",
       "      <th></th>\n",
       "      <th>ID</th>\n",
       "      <th>Y_LABEL</th>\n",
       "    </tr>\n",
       "  </thead>\n",
       "  <tbody>\n",
       "    <tr>\n",
       "      <th>0</th>\n",
       "      <td>TEST_0000</td>\n",
       "      <td>0</td>\n",
       "    </tr>\n",
       "    <tr>\n",
       "      <th>1</th>\n",
       "      <td>TEST_0001</td>\n",
       "      <td>0</td>\n",
       "    </tr>\n",
       "    <tr>\n",
       "      <th>2</th>\n",
       "      <td>TEST_0002</td>\n",
       "      <td>0</td>\n",
       "    </tr>\n",
       "    <tr>\n",
       "      <th>3</th>\n",
       "      <td>TEST_0003</td>\n",
       "      <td>0</td>\n",
       "    </tr>\n",
       "    <tr>\n",
       "      <th>4</th>\n",
       "      <td>TEST_0004</td>\n",
       "      <td>0</td>\n",
       "    </tr>\n",
       "  </tbody>\n",
       "</table>\n",
       "</div>"
      ],
      "text/plain": [
       "          ID  Y_LABEL\n",
       "0  TEST_0000        0\n",
       "1  TEST_0001        0\n",
       "2  TEST_0002        0\n",
       "3  TEST_0003        0\n",
       "4  TEST_0004        0"
      ]
     },
     "execution_count": 544,
     "metadata": {},
     "output_type": "execute_result"
    }
   ],
   "source": [
    "submit = pd.read_csv('./data/sample_submission.csv')\n",
    "submit['Y_LABEL'] = preds\n",
    "submit.head()"
   ]
  },
  {
   "cell_type": "code",
   "execution_count": 545,
   "id": "d486a345",
   "metadata": {},
   "outputs": [
    {
     "name": "stdout",
     "output_type": "stream",
     "text": [
      "정상값 개수 : 5597, 이상값 개수 : 444\n"
     ]
    }
   ],
   "source": [
    "pred_cnt = tuple(submit[\"Y_LABEL\"].value_counts())\n",
    "a, b = pred_cnt\n",
    "r = f\"정상값 개수 : {a}, 이상값 개수 : {b}\"\n",
    "print(r)"
   ]
  },
  {
   "cell_type": "code",
   "execution_count": 546,
   "id": "84b73f00",
   "metadata": {},
   "outputs": [],
   "source": [
    "submit.to_csv(f'./submits/submit{file_version}.csv', index=False)"
   ]
  },
  {
   "cell_type": "code",
   "execution_count": 547,
   "id": "84905804",
   "metadata": {},
   "outputs": [
    {
     "data": {
      "text/plain": [
       "{'ver': 33,\n",
       " 'CFG': {'EPOCHS': 30,\n",
       "  'LEARNING_RATE': 0.01,\n",
       "  'BATCH_SIZE': 256,\n",
       "  'SEED': 43,\n",
       "  'log_transform_turn': 1,\n",
       "  'skew_cut': 0.01,\n",
       "  'vif_cut': 10,\n",
       "  'corr_cut': 0.0075,\n",
       "  'outlier_corr_cut': 100,\n",
       "  'T_Thresh': 0.3,\n",
       "  'S_Thresh': 0.325,\n",
       "  'reduct': 'sum',\n",
       "  'drop_rate': 0.2},\n",
       " 'Val_result': 'Best Threshold : [0.25], Score : [0.57635]',\n",
       " 'pred_cnt': '정상값 개수 : 5597, 이상값 개수 : 444'}"
      ]
     },
     "execution_count": 547,
     "metadata": {},
     "output_type": "execute_result"
    }
   ],
   "source": [
    "record = {\"ver\": file_version, \"CFG\": CFG, \"Val_result\": choose_threshold_result, \"pred_cnt\": r}\n",
    "record"
   ]
  },
  {
   "cell_type": "code",
   "execution_count": null,
   "id": "12282840",
   "metadata": {},
   "outputs": [],
   "source": []
  },
  {
   "cell_type": "code",
   "execution_count": null,
   "id": "b05f3449",
   "metadata": {},
   "outputs": [],
   "source": []
  },
  {
   "cell_type": "code",
   "execution_count": null,
   "id": "6de4a6b9",
   "metadata": {},
   "outputs": [],
   "source": []
  },
  {
   "cell_type": "code",
   "execution_count": null,
   "id": "288462ba",
   "metadata": {},
   "outputs": [],
   "source": []
  },
  {
   "cell_type": "code",
   "execution_count": null,
   "id": "3af48d59",
   "metadata": {},
   "outputs": [],
   "source": []
  },
  {
   "cell_type": "code",
   "execution_count": null,
   "id": "5ad0062d",
   "metadata": {},
   "outputs": [],
   "source": []
  }
 ],
 "metadata": {
  "kernelspec": {
   "display_name": "Python 3 (ipykernel)",
   "language": "python",
   "name": "python3"
  },
  "language_info": {
   "codemirror_mode": {
    "name": "ipython",
    "version": 3
   },
   "file_extension": ".py",
   "mimetype": "text/x-python",
   "name": "python",
   "nbconvert_exporter": "python",
   "pygments_lexer": "ipython3",
   "version": "3.8.10"
  }
 },
 "nbformat": 4,
 "nbformat_minor": 5
}
