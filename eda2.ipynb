{
 "cells": [
  {
   "cell_type": "code",
   "execution_count": 22,
   "id": "10e39407",
   "metadata": {},
   "outputs": [],
   "source": [
    "file_version = 9"
   ]
  },
  {
   "cell_type": "code",
   "execution_count": 23,
   "id": "05ad69e9",
   "metadata": {},
   "outputs": [],
   "source": [
    "import pickle\n",
    "#불러오기\n",
    "with open(f\"./data/refined_train_X{file_version}\", 'rb') as pickle_filename:\n",
    "\ttrain_X = pickle.load(pickle_filename)\n",
    "\n",
    "with open(f\"./data/refined_train_y{file_version}\", 'rb') as pickle_filename:\n",
    "\ttrain_y = pickle.load(pickle_filename)\n",
    "    \n",
    "with open(f\"./data/refined_val_X{file_version}\", 'rb') as pickle_filename:\n",
    "\tval_X = pickle.load(pickle_filename)\n",
    "\n",
    "with open(f\"./data/refined_val_y{file_version}\", 'rb') as pickle_filename:\n",
    "\tval_y = pickle.load(pickle_filename)     \n",
    "\n",
    "with open(f\"./data/refined_test{file_version}\", 'rb') as pickle_filename:\n",
    "\ttest = pickle.load(pickle_filename)"
   ]
  },
  {
   "cell_type": "code",
   "execution_count": null,
   "id": "1174517b",
   "metadata": {},
   "outputs": [],
   "source": []
  },
  {
   "cell_type": "code",
   "execution_count": 24,
   "id": "4cbc6905",
   "metadata": {},
   "outputs": [],
   "source": [
    "import seaborn as sns\n",
    "import matplotlib.pyplot as plt\n",
    "import pandas as pd\n",
    "import warnings\n",
    "warnings.filterwarnings(action='ignore') "
   ]
  },
  {
   "cell_type": "code",
   "execution_count": 25,
   "id": "db943dcd",
   "metadata": {},
   "outputs": [],
   "source": [
    "train = pd.read_csv(\"./data/train.csv\")\n"
   ]
  },
  {
   "cell_type": "code",
   "execution_count": 26,
   "id": "2385b6ce",
   "metadata": {},
   "outputs": [],
   "source": [
    "for col in train.columns:\n",
    "    보간값 = train[col].mode().values[0] # 최빈값\n",
    "#     print(보간값)\n",
    "    train[col] = train[col].fillna(보간값)     "
   ]
  },
  {
   "cell_type": "code",
   "execution_count": 27,
   "id": "dc0175a6",
   "metadata": {
    "scrolled": true
   },
   "outputs": [
    {
     "data": {
      "text/plain": [
       "(13537, 52)"
      ]
     },
     "execution_count": 27,
     "metadata": {},
     "output_type": "execute_result"
    }
   ],
   "source": [
    "df = pd.concat([train_X, train_y], axis=1)\n",
    "df.shape"
   ]
  },
  {
   "cell_type": "code",
   "execution_count": 28,
   "id": "0a313337",
   "metadata": {},
   "outputs": [
    {
     "name": "stdout",
     "output_type": "stream",
     "text": [
      "<class 'pandas.core.frame.DataFrame'>\n",
      "Int64Index: 13537 entries, 0 to 13229\n",
      "Data columns (total 52 columns):\n",
      " #   Column                  Non-Null Count  Dtype  \n",
      "---  ------                  --------------  -----  \n",
      " 0   encoder__x0_COMPONENT2  11276 non-null  float64\n",
      " 1   encoder__x0_COMPONENT3  11276 non-null  float64\n",
      " 2   encoder__x0_COMPONENT4  11276 non-null  float64\n",
      " 3   encoder__x1_2008        11276 non-null  float64\n",
      " 4   encoder__x1_2009        11276 non-null  float64\n",
      " 5   encoder__x1_2010        11276 non-null  float64\n",
      " 6   encoder__x1_2011        11276 non-null  float64\n",
      " 7   encoder__x1_2012        11276 non-null  float64\n",
      " 8   encoder__x1_2013        11276 non-null  float64\n",
      " 9   encoder__x1_2014        11276 non-null  float64\n",
      " 10  encoder__x1_2015        11276 non-null  float64\n",
      " 11  encoder__x1_2016        11276 non-null  float64\n",
      " 12  encoder__x1_2017        11276 non-null  float64\n",
      " 13  encoder__x1_2018        11276 non-null  float64\n",
      " 14  encoder__x1_2019        11276 non-null  float64\n",
      " 15  encoder__x1_2020        11276 non-null  float64\n",
      " 16  encoder__x1_2021        11276 non-null  float64\n",
      " 17  encoder__x1_2022        11276 non-null  float64\n",
      " 18  ANONYMOUS_1             11276 non-null  float64\n",
      " 19  ANONYMOUS_2             11276 non-null  float64\n",
      " 20  AG                      11276 non-null  float64\n",
      " 21  AL                      11276 non-null  float64\n",
      " 22  B                       11276 non-null  float64\n",
      " 23  BA                      11276 non-null  float64\n",
      " 24  BE                      11276 non-null  float64\n",
      " 25  CA                      11276 non-null  float64\n",
      " 26  CO                      11276 non-null  float64\n",
      " 27  CR                      11276 non-null  float64\n",
      " 28  CU                      11276 non-null  float64\n",
      " 29  FH2O                    11276 non-null  float64\n",
      " 30  FNOX                    11276 non-null  float64\n",
      " 31  FOPTIMETHGLY            11276 non-null  float64\n",
      " 32  FOXID                   11276 non-null  float64\n",
      " 33  FSO4                    11276 non-null  float64\n",
      " 34  FE                      11276 non-null  float64\n",
      " 35  FUEL                    11276 non-null  float64\n",
      " 36  K                       11276 non-null  float64\n",
      " 37  MG                      11276 non-null  float64\n",
      " 38  MN                      11276 non-null  float64\n",
      " 39  NA                      11276 non-null  float64\n",
      " 40  NI                      11276 non-null  float64\n",
      " 41  P                       11276 non-null  float64\n",
      " 42  PQINDEX                 11276 non-null  float64\n",
      " 43  S                       11276 non-null  float64\n",
      " 44  SI                      11276 non-null  float64\n",
      " 45  TI                      11276 non-null  float64\n",
      " 46  U100                    11276 non-null  float64\n",
      " 47  U75                     11276 non-null  float64\n",
      " 48  V                       11276 non-null  float64\n",
      " 49  V40                     11276 non-null  float64\n",
      " 50  ZN                      11276 non-null  float64\n",
      " 51  Y_LABEL                 11276 non-null  float64\n",
      "dtypes: float64(52)\n",
      "memory usage: 5.5 MB\n"
     ]
    }
   ],
   "source": [
    "df.info()"
   ]
  },
  {
   "cell_type": "code",
   "execution_count": 29,
   "id": "de7333bd",
   "metadata": {},
   "outputs": [],
   "source": [
    "data = train.loc[:, 'ANONYMOUS_1' : 'Y_LABEL']"
   ]
  },
  {
   "cell_type": "code",
   "execution_count": 30,
   "id": "49604e70",
   "metadata": {},
   "outputs": [],
   "source": [
    "# data.corr()"
   ]
  },
  {
   "cell_type": "code",
   "execution_count": 44,
   "id": "e47cb6cc",
   "metadata": {},
   "outputs": [
    {
     "data": {
      "text/html": [
       "<div>\n",
       "<style scoped>\n",
       "    .dataframe tbody tr th:only-of-type {\n",
       "        vertical-align: middle;\n",
       "    }\n",
       "\n",
       "    .dataframe tbody tr th {\n",
       "        vertical-align: top;\n",
       "    }\n",
       "\n",
       "    .dataframe thead th {\n",
       "        text-align: right;\n",
       "    }\n",
       "</style>\n",
       "<table border=\"1\" class=\"dataframe\">\n",
       "  <thead>\n",
       "    <tr style=\"text-align: right;\">\n",
       "      <th></th>\n",
       "      <th>Y_LABEL</th>\n",
       "    </tr>\n",
       "  </thead>\n",
       "  <tbody>\n",
       "    <tr>\n",
       "      <th>Y_LABEL</th>\n",
       "      <td>1.000000</td>\n",
       "    </tr>\n",
       "    <tr>\n",
       "      <th>AL</th>\n",
       "      <td>0.370512</td>\n",
       "    </tr>\n",
       "    <tr>\n",
       "      <th>BA</th>\n",
       "      <td>0.104840</td>\n",
       "    </tr>\n",
       "    <tr>\n",
       "      <th>FE</th>\n",
       "      <td>0.047992</td>\n",
       "    </tr>\n",
       "    <tr>\n",
       "      <th>NI</th>\n",
       "      <td>0.046806</td>\n",
       "    </tr>\n",
       "    <tr>\n",
       "      <th>ANONYMOUS_1</th>\n",
       "      <td>0.044197</td>\n",
       "    </tr>\n",
       "    <tr>\n",
       "      <th>SI</th>\n",
       "      <td>0.036731</td>\n",
       "    </tr>\n",
       "    <tr>\n",
       "      <th>PQINDEX</th>\n",
       "      <td>0.028966</td>\n",
       "    </tr>\n",
       "    <tr>\n",
       "      <th>S</th>\n",
       "      <td>0.027923</td>\n",
       "    </tr>\n",
       "    <tr>\n",
       "      <th>TI</th>\n",
       "      <td>0.025637</td>\n",
       "    </tr>\n",
       "    <tr>\n",
       "      <th>CU</th>\n",
       "      <td>0.024975</td>\n",
       "    </tr>\n",
       "    <tr>\n",
       "      <th>MN</th>\n",
       "      <td>0.024274</td>\n",
       "    </tr>\n",
       "    <tr>\n",
       "      <th>V40</th>\n",
       "      <td>0.023195</td>\n",
       "    </tr>\n",
       "    <tr>\n",
       "      <th>K</th>\n",
       "      <td>0.020959</td>\n",
       "    </tr>\n",
       "    <tr>\n",
       "      <th>V</th>\n",
       "      <td>0.020862</td>\n",
       "    </tr>\n",
       "    <tr>\n",
       "      <th>FNOX</th>\n",
       "      <td>0.018913</td>\n",
       "    </tr>\n",
       "    <tr>\n",
       "      <th>FOPTIMETHGLY</th>\n",
       "      <td>0.016373</td>\n",
       "    </tr>\n",
       "    <tr>\n",
       "      <th>AG</th>\n",
       "      <td>0.014671</td>\n",
       "    </tr>\n",
       "    <tr>\n",
       "      <th>CR</th>\n",
       "      <td>0.014233</td>\n",
       "    </tr>\n",
       "    <tr>\n",
       "      <th>FOXID</th>\n",
       "      <td>0.011669</td>\n",
       "    </tr>\n",
       "    <tr>\n",
       "      <th>BE</th>\n",
       "      <td>0.010685</td>\n",
       "    </tr>\n",
       "    <tr>\n",
       "      <th>FSO4</th>\n",
       "      <td>0.009778</td>\n",
       "    </tr>\n",
       "    <tr>\n",
       "      <th>CO</th>\n",
       "      <td>0.008175</td>\n",
       "    </tr>\n",
       "    <tr>\n",
       "      <th>P</th>\n",
       "      <td>0.007602</td>\n",
       "    </tr>\n",
       "    <tr>\n",
       "      <th>FH2O</th>\n",
       "      <td>0.006188</td>\n",
       "    </tr>\n",
       "    <tr>\n",
       "      <th>CD</th>\n",
       "      <td>0.003960</td>\n",
       "    </tr>\n",
       "    <tr>\n",
       "      <th>FTBN</th>\n",
       "      <td>0.003912</td>\n",
       "    </tr>\n",
       "    <tr>\n",
       "      <th>V100</th>\n",
       "      <td>0.003376</td>\n",
       "    </tr>\n",
       "    <tr>\n",
       "      <th>LI</th>\n",
       "      <td>0.002921</td>\n",
       "    </tr>\n",
       "    <tr>\n",
       "      <th>SN</th>\n",
       "      <td>0.002359</td>\n",
       "    </tr>\n",
       "    <tr>\n",
       "      <th>U6</th>\n",
       "      <td>0.001467</td>\n",
       "    </tr>\n",
       "    <tr>\n",
       "      <th>MO</th>\n",
       "      <td>0.001206</td>\n",
       "    </tr>\n",
       "    <tr>\n",
       "      <th>U14</th>\n",
       "      <td>0.000352</td>\n",
       "    </tr>\n",
       "    <tr>\n",
       "      <th>SOOTPERCENTAGE</th>\n",
       "      <td>0.000212</td>\n",
       "    </tr>\n",
       "    <tr>\n",
       "      <th>U20</th>\n",
       "      <td>-0.000218</td>\n",
       "    </tr>\n",
       "    <tr>\n",
       "      <th>U4</th>\n",
       "      <td>-0.000281</td>\n",
       "    </tr>\n",
       "    <tr>\n",
       "      <th>SB</th>\n",
       "      <td>-0.002028</td>\n",
       "    </tr>\n",
       "    <tr>\n",
       "      <th>U25</th>\n",
       "      <td>-0.002432</td>\n",
       "    </tr>\n",
       "    <tr>\n",
       "      <th>U50</th>\n",
       "      <td>-0.003205</td>\n",
       "    </tr>\n",
       "    <tr>\n",
       "      <th>PB</th>\n",
       "      <td>-0.003549</td>\n",
       "    </tr>\n",
       "    <tr>\n",
       "      <th>H2O</th>\n",
       "      <td>-0.004262</td>\n",
       "    </tr>\n",
       "    <tr>\n",
       "      <th>SAMPLE_TRANSFER_DAY</th>\n",
       "      <td>-0.004315</td>\n",
       "    </tr>\n",
       "    <tr>\n",
       "      <th>FUEL</th>\n",
       "      <td>-0.005844</td>\n",
       "    </tr>\n",
       "    <tr>\n",
       "      <th>U100</th>\n",
       "      <td>-0.007233</td>\n",
       "    </tr>\n",
       "    <tr>\n",
       "      <th>U75</th>\n",
       "      <td>-0.008045</td>\n",
       "    </tr>\n",
       "    <tr>\n",
       "      <th>MG</th>\n",
       "      <td>-0.008807</td>\n",
       "    </tr>\n",
       "    <tr>\n",
       "      <th>NA</th>\n",
       "      <td>-0.010820</td>\n",
       "    </tr>\n",
       "    <tr>\n",
       "      <th>ZN</th>\n",
       "      <td>-0.027551</td>\n",
       "    </tr>\n",
       "    <tr>\n",
       "      <th>B</th>\n",
       "      <td>-0.029787</td>\n",
       "    </tr>\n",
       "    <tr>\n",
       "      <th>ANONYMOUS_2</th>\n",
       "      <td>-0.033641</td>\n",
       "    </tr>\n",
       "    <tr>\n",
       "      <th>YEAR</th>\n",
       "      <td>-0.087871</td>\n",
       "    </tr>\n",
       "    <tr>\n",
       "      <th>CA</th>\n",
       "      <td>-0.150379</td>\n",
       "    </tr>\n",
       "  </tbody>\n",
       "</table>\n",
       "</div>"
      ],
      "text/plain": [
       "                      Y_LABEL\n",
       "Y_LABEL              1.000000\n",
       "AL                   0.370512\n",
       "BA                   0.104840\n",
       "FE                   0.047992\n",
       "NI                   0.046806\n",
       "ANONYMOUS_1          0.044197\n",
       "SI                   0.036731\n",
       "PQINDEX              0.028966\n",
       "S                    0.027923\n",
       "TI                   0.025637\n",
       "CU                   0.024975\n",
       "MN                   0.024274\n",
       "V40                  0.023195\n",
       "K                    0.020959\n",
       "V                    0.020862\n",
       "FNOX                 0.018913\n",
       "FOPTIMETHGLY         0.016373\n",
       "AG                   0.014671\n",
       "CR                   0.014233\n",
       "FOXID                0.011669\n",
       "BE                   0.010685\n",
       "FSO4                 0.009778\n",
       "CO                   0.008175\n",
       "P                    0.007602\n",
       "FH2O                 0.006188\n",
       "CD                   0.003960\n",
       "FTBN                 0.003912\n",
       "V100                 0.003376\n",
       "LI                   0.002921\n",
       "SN                   0.002359\n",
       "U6                   0.001467\n",
       "MO                   0.001206\n",
       "U14                  0.000352\n",
       "SOOTPERCENTAGE       0.000212\n",
       "U20                 -0.000218\n",
       "U4                  -0.000281\n",
       "SB                  -0.002028\n",
       "U25                 -0.002432\n",
       "U50                 -0.003205\n",
       "PB                  -0.003549\n",
       "H2O                 -0.004262\n",
       "SAMPLE_TRANSFER_DAY -0.004315\n",
       "FUEL                -0.005844\n",
       "U100                -0.007233\n",
       "U75                 -0.008045\n",
       "MG                  -0.008807\n",
       "NA                  -0.010820\n",
       "ZN                  -0.027551\n",
       "B                   -0.029787\n",
       "ANONYMOUS_2         -0.033641\n",
       "YEAR                -0.087871\n",
       "CA                  -0.150379"
      ]
     },
     "execution_count": 44,
     "metadata": {},
     "output_type": "execute_result"
    }
   ],
   "source": [
    "df2 = pd.DataFrame(data.corr()[\"Y_LABEL\"].sort_values(ascending=False))\n",
    "df2"
   ]
  },
  {
   "cell_type": "code",
   "execution_count": 65,
   "id": "e71ad001",
   "metadata": {},
   "outputs": [
    {
     "data": {
      "text/plain": [
       "<bound method DataFrame.sort_values of                       Y_LABEL\n",
       "CO                   0.008175\n",
       "P                    0.007602\n",
       "FH2O                 0.006188\n",
       "CD                   0.003960\n",
       "FTBN                 0.003912\n",
       "V100                 0.003376\n",
       "LI                   0.002921\n",
       "SN                   0.002359\n",
       "U6                   0.001467\n",
       "MO                   0.001206\n",
       "U14                  0.000352\n",
       "SOOTPERCENTAGE       0.000212\n",
       "U20                 -0.000218\n",
       "U4                  -0.000281\n",
       "SB                  -0.002028\n",
       "U25                 -0.002432\n",
       "U50                 -0.003205\n",
       "PB                  -0.003549\n",
       "H2O                 -0.004262\n",
       "SAMPLE_TRANSFER_DAY -0.004315\n",
       "FUEL                -0.005844\n",
       "U100                -0.007233\n",
       "U75                 -0.008045\n",
       "MG                  -0.008807>"
      ]
     },
     "execution_count": 65,
     "metadata": {},
     "output_type": "execute_result"
    }
   ],
   "source": [
    "cutline = 0.009\n",
    "df3 = df2[(df2[\"Y_LABEL\"] < cutline) & (df2[\"Y_LABEL\"] > (cutline*-1))]\n",
    "df3.sort_values"
   ]
  },
  {
   "cell_type": "code",
   "execution_count": 72,
   "id": "7a984b65",
   "metadata": {},
   "outputs": [
    {
     "data": {
      "text/plain": [
       "['CO',\n",
       " 'P',\n",
       " 'FH2O',\n",
       " 'CD',\n",
       " 'FTBN',\n",
       " 'V100',\n",
       " 'LI',\n",
       " 'SN',\n",
       " 'U6',\n",
       " 'MO',\n",
       " 'U14',\n",
       " 'SOOTPERCENTAGE',\n",
       " 'U20',\n",
       " 'U4',\n",
       " 'SB',\n",
       " 'U25',\n",
       " 'U50',\n",
       " 'PB',\n",
       " 'H2O',\n",
       " 'SAMPLE_TRANSFER_DAY',\n",
       " 'FUEL',\n",
       " 'U100',\n",
       " 'U75',\n",
       " 'MG']"
      ]
     },
     "execution_count": 72,
     "metadata": {},
     "output_type": "execute_result"
    }
   ],
   "source": [
    "df3.index.tolist()"
   ]
  },
  {
   "cell_type": "code",
   "execution_count": null,
   "id": "e494a81f",
   "metadata": {},
   "outputs": [],
   "source": []
  },
  {
   "cell_type": "code",
   "execution_count": null,
   "id": "9bb546b1",
   "metadata": {},
   "outputs": [],
   "source": []
  },
  {
   "cell_type": "code",
   "execution_count": null,
   "id": "30851e5f",
   "metadata": {},
   "outputs": [],
   "source": []
  },
  {
   "cell_type": "code",
   "execution_count": null,
   "id": "0e702932",
   "metadata": {},
   "outputs": [],
   "source": []
  },
  {
   "cell_type": "code",
   "execution_count": 32,
   "id": "cadcbc74",
   "metadata": {},
   "outputs": [],
   "source": [
    "# sns.pairplot(data)"
   ]
  },
  {
   "cell_type": "code",
   "execution_count": 33,
   "id": "9a3d544d",
   "metadata": {},
   "outputs": [],
   "source": [
    "# sns.clustermap(data)"
   ]
  },
  {
   "cell_type": "code",
   "execution_count": 34,
   "id": "c7db9a68",
   "metadata": {
    "scrolled": true
   },
   "outputs": [],
   "source": [
    "# colormap = plt.cm.PuBu\n",
    "# plt.figure(figsize = (15,15))\n",
    "# sns.heatmap(data.corr(),annot = True)"
   ]
  },
  {
   "cell_type": "code",
   "execution_count": 35,
   "id": "9aec63df",
   "metadata": {},
   "outputs": [
    {
     "data": {
      "text/plain": [
       "Index(['ID', 'COMPONENT_ARBITRARY', 'ANONYMOUS_1', 'YEAR',\n",
       "       'SAMPLE_TRANSFER_DAY', 'ANONYMOUS_2', 'AG', 'AL', 'B', 'BA', 'BE', 'CA',\n",
       "       'CD', 'CO', 'CR', 'CU', 'FH2O', 'FNOX', 'FOPTIMETHGLY', 'FOXID', 'FSO4',\n",
       "       'FTBN', 'FE', 'FUEL', 'H2O', 'K', 'LI', 'MG', 'MN', 'MO', 'NA', 'NI',\n",
       "       'P', 'PB', 'PQINDEX', 'S', 'SB', 'SI', 'SN', 'SOOTPERCENTAGE', 'TI',\n",
       "       'U100', 'U75', 'U50', 'U25', 'U20', 'U14', 'U6', 'U4', 'V', 'V100',\n",
       "       'V40', 'ZN', 'Y_LABEL'],\n",
       "      dtype='object')"
      ]
     },
     "execution_count": 35,
     "metadata": {},
     "output_type": "execute_result"
    }
   ],
   "source": [
    "train.columns"
   ]
  },
  {
   "cell_type": "code",
   "execution_count": 36,
   "id": "3d813d3c",
   "metadata": {},
   "outputs": [],
   "source": [
    "target = \"AL\"\n",
    "정상 = train[train[\"Y_LABEL\"] == 0][target]\n",
    "이상= train[train[\"Y_LABEL\"] == 1][target]\n",
    "정상 = pd.DataFrame(정상)"
   ]
  },
  {
   "cell_type": "code",
   "execution_count": 37,
   "id": "65af524f",
   "metadata": {},
   "outputs": [
    {
     "data": {
      "text/plain": [
       "<AxesSubplot:xlabel='AL', ylabel='Density'>"
      ]
     },
     "execution_count": 37,
     "metadata": {},
     "output_type": "execute_result"
    },
    {
     "data": {
      "image/png": "[encoded data removed]",
      "text/plain": [
       "<Figure size 864x432 with 1 Axes>"
      ]
     },
     "metadata": {
      "needs_background": "light"
     },
     "output_type": "display_data"
    }
   ],
   "source": [
    "plt.figure(figsize = (12,6))\n",
    "sns.distplot(정상,bins = 15, color=\"red\")\n",
    "sns.distplot(이상,bins = 15, color=\"green\")"
   ]
  },
  {
   "cell_type": "code",
   "execution_count": 74,
   "id": "a00763da",
   "metadata": {},
   "outputs": [
    {
     "data": {
      "text/plain": [
       "<AxesSubplot:>"
      ]
     },
     "execution_count": 74,
     "metadata": {},
     "output_type": "execute_result"
    },
    {
     "data": {
      "image/png": "[encoded data removed]",
      "text/plain": [
       "<Figure size 432x288 with 1 Axes>"
      ]
     },
     "metadata": {
      "needs_background": "light"
     },
     "output_type": "display_data"
    }
   ],
   "source": [
    "sns.boxplot(data=df['BA'])"
   ]
  },
  {
   "cell_type": "code",
   "execution_count": null,
   "id": "2808df54",
   "metadata": {},
   "outputs": [],
   "source": []
  }
 ],
 "metadata": {
  "kernelspec": {
   "display_name": "Python 3 (ipykernel)",
   "language": "python",
   "name": "python3"
  },
  "language_info": {
   "codemirror_mode": {
    "name": "ipython",
    "version": 3
   },
   "file_extension": ".py",
   "mimetype": "text/x-python",
   "name": "python",
   "nbconvert_exporter": "python",
   "pygments_lexer": "ipython3",
   "version": "3.8.10"
  }
 },
 "nbformat": 4,
 "nbformat_minor": 5
}
