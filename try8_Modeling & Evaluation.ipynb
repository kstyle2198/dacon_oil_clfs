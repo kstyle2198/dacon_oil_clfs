{
 "cells": [
  {
   "cell_type": "code",
   "execution_count": 672,
   "id": "1263ac9c",
   "metadata": {},
   "outputs": [],
   "source": [
    "import torch\n",
    "import torch.nn as nn\n",
    "import torch.nn.functional as F\n",
    "import torch.optim as optim\n",
    "from torch.utils.data import DataLoader, Dataset\n",
    "\n",
    "from sklearn.metrics import f1_score, confusion_matrix, classification_report\n",
    "from sklearn.compose import ColumnTransformer\n",
    "from sklearn.preprocessing import StandardScaler, MinMaxScaler, RobustScaler\n",
    "from sklearn.preprocessing import LabelEncoder, OneHotEncoder\n",
    "from sklearn.model_selection import train_test_split\n",
    "from sklearn.model_selection import KFold, StratifiedKFold\n",
    "\n",
    "import os\n",
    "import pandas as pd\n",
    "import numpy as np\n",
    "from tqdm.auto import tqdm\n",
    "import random\n",
    "import matplotlib.pyplot as plt\n",
    "import seaborn as sns\n",
    "\n",
    "import warnings\n",
    "warnings.filterwarnings(action='ignore') \n",
    "\n",
    "device = torch.device('cuda') if torch.cuda.is_available() else torch.device('cpu')"
   ]
  },
  {
   "cell_type": "code",
   "execution_count": 673,
   "id": "bfb10c39",
   "metadata": {},
   "outputs": [],
   "source": [
    "file_version = 122\n",
    "CFG = {\n",
    "    'EPOCHS': 30,\n",
    "    'BATCH_SIZE':256,  #256  128  512\n",
    "    'SEED':1,     #43\n",
    "    'log_transform_turn': 1,  # 로그 트랜스폼을 몇번 돌릴 것인가?\n",
    "    'skew_cut':0,           # 왜도값 얼마 초과시 로그 트랜스폼 할 것인가?\n",
    "    'vif_cut': 10,           # 다중공선성 vif 얼마 이상을 제거할 것인가?\n",
    "    'corr_cut': [0.045, 0.045, 0.045, 0.05],     # 일정 상관관계 이하 칼럼은 드랍\n",
    "    \n",
    "    'drop_rate': 0.3,     # overfit을 해소하기 위한 nn model dropout 비율 (0.1 ~ 0.5)  \n",
    "    'reduct' : 'mean',      # BCELoss function reduction option : sum, mean\n",
    "    'T_LEARNING_RATE': [3e-2, 1e-3, 1e-2, 3e-2],    # 0.01\n",
    "    'T_Thresh': [0.3, 0.3, 0.3, 0.3],   # Teacher model train Threshhold 최초 0.35\n",
    "    'S_LEARNING_RATE': [3e-2, 1e-3, 1e-2, 3e-2],    # 0.01\n",
    "    'S_Thresh': [0.3, 0.3, 0.3, 0.3],     # Student model train Threshold 최초 0.35\n",
    "    'alpha': 0.1   # distillation loss function 반영 비율\n",
    "}\n",
    "scaler = StandardScaler()  # StandardScaler, MinMaxScaler, RobustScaler"
   ]
  },
  {
   "cell_type": "code",
   "execution_count": 674,
   "id": "ec56d6d0",
   "metadata": {},
   "outputs": [],
   "source": [
    "import pickle\n",
    "#불러오기\n",
    "\n",
    "with open(f\"./data/{file_version}_1_train_X\", 'rb') as pickle_filename:\n",
    "    train_X_1 = pickle.load(pickle_filename)\n",
    "with open(f\"./data/{file_version}_1_train_y\", 'rb') as pickle_filename:\n",
    "    train_y_1 = pickle.load(pickle_filename)\n",
    "with open(f\"./data/{file_version}_1_val_X\", 'rb') as pickle_filename:\n",
    "    val_X_1 = pickle.load(pickle_filename)\n",
    "with open(f\"./data/{file_version}_1_val_y\", 'rb') as pickle_filename:\n",
    "    val_y_1 = pickle.load(pickle_filename)     \n",
    "with open(f\"./data/{file_version}_1_test\", 'rb') as pickle_filename:\n",
    "    test_1 = pickle.load(pickle_filename)\n",
    "\n",
    "with open(f\"./data/{file_version}_2_train_X\", 'rb') as pickle_filename:\n",
    "    train_X_2 = pickle.load(pickle_filename)\n",
    "with open(f\"./data/{file_version}_2_train_y\", 'rb') as pickle_filename:\n",
    "    train_y_2 = pickle.load(pickle_filename)\n",
    "with open(f\"./data/{file_version}_2_val_X\", 'rb') as pickle_filename:\n",
    "    val_X_2 = pickle.load(pickle_filename)\n",
    "with open(f\"./data/{file_version}_2_val_y\", 'rb') as pickle_filename:\n",
    "    val_y_2 = pickle.load(pickle_filename)     \n",
    "with open(f\"./data/{file_version}_2_test\", 'rb') as pickle_filename:\n",
    "    test_2 = pickle.load(pickle_filename)\n",
    "\n",
    "with open(f\"./data/{file_version}_3_train_X\", 'rb') as pickle_filename:\n",
    "    train_X_3 = pickle.load(pickle_filename)\n",
    "with open(f\"./data/{file_version}_3_train_y\", 'rb') as pickle_filename:\n",
    "    train_y_3 = pickle.load(pickle_filename)\n",
    "with open(f\"./data/{file_version}_3_val_X\", 'rb') as pickle_filename:\n",
    "    val_X_3 = pickle.load(pickle_filename)\n",
    "with open(f\"./data/{file_version}_3_val_y\", 'rb') as pickle_filename:\n",
    "    val_y_3 = pickle.load(pickle_filename)     \n",
    "with open(f\"./data/{file_version}_3_test\", 'rb') as pickle_filename:\n",
    "    test_3 = pickle.load(pickle_filename)\n",
    "    \n",
    "with open(f\"./data/{file_version}_4_train_X\", 'rb') as pickle_filename:\n",
    "    train_X_4 = pickle.load(pickle_filename)\n",
    "with open(f\"./data/{file_version}_4_train_y\", 'rb') as pickle_filename:\n",
    "    train_y_4 = pickle.load(pickle_filename)\n",
    "with open(f\"./data/{file_version}_4_val_X\", 'rb') as pickle_filename:\n",
    "    val_X_4 = pickle.load(pickle_filename)\n",
    "with open(f\"./data/{file_version}_4_val_y\", 'rb') as pickle_filename:\n",
    "    val_y_4 = pickle.load(pickle_filename)     \n",
    "with open(f\"./data/{file_version}_4_test\", 'rb') as pickle_filename:\n",
    "    test_4 = pickle.load(pickle_filename)"
   ]
  },
  {
   "cell_type": "code",
   "execution_count": 675,
   "id": "57dbc3c6",
   "metadata": {},
   "outputs": [],
   "source": [
    "train_X_list = [train_X_1, train_X_2, train_X_3, train_X_4]\n",
    "train_y_list = [train_y_1, train_y_2, train_y_3, train_y_4]\n",
    "val_X_list = [val_X_1, val_X_2, val_X_3, val_X_4]\n",
    "val_y_list = [val_y_1, val_y_2, val_y_3, val_y_4]\n",
    "test_list = [test_1, test_2, test_3, test_4]"
   ]
  },
  {
   "cell_type": "code",
   "execution_count": 676,
   "id": "092bbba7",
   "metadata": {},
   "outputs": [
    {
     "data": {
      "text/plain": [
       "((3112, 27), (3112,), (778, 27), (778,))"
      ]
     },
     "execution_count": 676,
     "metadata": {},
     "output_type": "execute_result"
    }
   ],
   "source": [
    "train_X_1.shape, train_y_1.shape, val_X_1.shape, val_y_1.shape"
   ]
  },
  {
   "cell_type": "code",
   "execution_count": 677,
   "id": "f79f7c77",
   "metadata": {},
   "outputs": [
    {
     "data": {
      "text/plain": [
       "((1852, 22), (1852,), (464, 22), (464,))"
      ]
     },
     "execution_count": 677,
     "metadata": {},
     "output_type": "execute_result"
    }
   ],
   "source": [
    "train_X_2.shape, train_y_2.shape, val_X_2.shape, val_y_2.shape"
   ]
  },
  {
   "cell_type": "code",
   "execution_count": 678,
   "id": "de78556b",
   "metadata": {},
   "outputs": [
    {
     "data": {
      "text/plain": [
       "((5640, 28), (5640,), (1410, 28), (1410,))"
      ]
     },
     "execution_count": 678,
     "metadata": {},
     "output_type": "execute_result"
    }
   ],
   "source": [
    "train_X_3.shape, train_y_3.shape, val_X_3.shape, val_y_3.shape"
   ]
  },
  {
   "cell_type": "code",
   "execution_count": 679,
   "id": "6c1f800a",
   "metadata": {},
   "outputs": [
    {
     "data": {
      "text/plain": [
       "((671, 24), (671,), (168, 24), (168,))"
      ]
     },
     "execution_count": 679,
     "metadata": {},
     "output_type": "execute_result"
    }
   ],
   "source": [
    "train_X_4.shape, train_y_4.shape, val_X_4.shape, val_y_4.shape"
   ]
  },
  {
   "cell_type": "code",
   "execution_count": 680,
   "id": "f4e01e2a",
   "metadata": {
    "scrolled": true
   },
   "outputs": [],
   "source": [
    "# train_X_1.columns.tolist()"
   ]
  },
  {
   "cell_type": "code",
   "execution_count": null,
   "id": "112948ca",
   "metadata": {},
   "outputs": [],
   "source": []
  },
  {
   "cell_type": "code",
   "execution_count": 681,
   "id": "6aa346ca",
   "metadata": {},
   "outputs": [],
   "source": [
    "class CustomDataset(Dataset):\n",
    "    def __init__(self, data_X, data_y, distillation=False):\n",
    "        super(CustomDataset, self).__init__()\n",
    "        self.data_X = data_X\n",
    "        self.data_y = data_y\n",
    "        self.distillation = distillation\n",
    "        \n",
    "    def __len__(self):\n",
    "        return len(self.data_X)\n",
    "    \n",
    "    def __getitem__(self, index):\n",
    "        if self.distillation:\n",
    "            # 지식 증류 학습 시\n",
    "            teacher_X = torch.Tensor(self.data_X.iloc[index])\n",
    "            student_X = torch.Tensor(self.data_X[test_stage_features].iloc[index])\n",
    "            y = self.data_y.values[index]\n",
    "            return teacher_X, student_X, y\n",
    "        else:\n",
    "            if self.data_y is None:\n",
    "                test_X = torch.Tensor(self.data_X.iloc[index])\n",
    "                return test_X\n",
    "            else:\n",
    "                teacher_X = torch.Tensor(self.data_X.iloc[index])\n",
    "\n",
    "                y = self.data_y.values[index]\n",
    "                return teacher_X, y"
   ]
  },
  {
   "cell_type": "code",
   "execution_count": 682,
   "id": "b65a5729",
   "metadata": {
    "scrolled": false
   },
   "outputs": [],
   "source": [
    "train_loaders = []\n",
    "val_loaders = []\n",
    "\n",
    "for a, b, c, d, e in zip(train_X_list, train_y_list, val_X_list, val_y_list, test_list):\n",
    "    \n",
    "    test_stage_features = e.iloc[:,:-1].columns\n",
    "    \n",
    "    train_dataset = CustomDataset(a, b, False)\n",
    "    val_dataset = CustomDataset(c, d, False)\n",
    "    \n",
    "    train_loader = DataLoader(train_dataset, batch_size = CFG['BATCH_SIZE'], shuffle=True)\n",
    "    val_loader = DataLoader(val_dataset, batch_size = CFG['BATCH_SIZE'], shuffle=False)\n",
    "    \n",
    "#     print(train_loader)\n",
    "#     print(list(train_loader))\n",
    "    \n",
    "    train_loaders.append(train_loader)\n",
    "    val_loaders.append(val_loader)\n"
   ]
  },
  {
   "cell_type": "code",
   "execution_count": 683,
   "id": "bf1f82d6",
   "metadata": {},
   "outputs": [],
   "source": [
    "class Teacher(nn.Module):\n",
    "    def __init__(self):\n",
    "        super(Teacher, self).__init__()\n",
    "        self.classifier = nn.Sequential(\n",
    "            nn.Linear(in_features=t_start_col_num, out_features=256),\n",
    "            nn.BatchNorm1d(256),\n",
    "            nn.Dropout(p=CFG['drop_rate']),\n",
    "            nn.LeakyReLU(),\n",
    "            nn.Linear(in_features=256, out_features=1024),\n",
    "            nn.BatchNorm1d(1024),\n",
    "            nn.Dropout(p=CFG['drop_rate']),\n",
    "            nn.LeakyReLU(),\n",
    "            nn.Linear(in_features=1024, out_features=256),\n",
    "            nn.BatchNorm1d(256),\n",
    "            nn.Dropout(p=CFG['drop_rate']),\n",
    "            nn.LeakyReLU(),\n",
    "            nn.Linear(in_features=256, out_features=1),\n",
    "            nn.Dropout(p=CFG['drop_rate']),\n",
    "            nn.Sigmoid()\n",
    "        )\n",
    "        \n",
    "    def forward(self, x):\n",
    "        output = self.classifier(x)\n",
    "        return output"
   ]
  },
  {
   "cell_type": "code",
   "execution_count": 684,
   "id": "7df40f71",
   "metadata": {},
   "outputs": [],
   "source": [
    "def train(model, optimizer, train_loader, val_loader, scheduler, device, t_thresh):\n",
    "    model.to(device)\n",
    "\n",
    "    best_score = 0\n",
    "    best_model = None\n",
    "    \n",
    "    # Loss Function 정의\n",
    "    criterion = nn.BCELoss(reduction = CFG['reduct']).to(device)  #BCEWithLogitsLoss\n",
    "#     criterion = nn.BCEWithLogitsLoss(reduction = CFG['reduct']).to(device)  #BCEWithLogitsLoss\n",
    "\n",
    "    for epoch in range(CFG[\"EPOCHS\"]):\n",
    "        train_loss = []\n",
    "  \n",
    "        model.train()\n",
    "        for X, y in tqdm(train_loader):\n",
    "            X = X.float().to(device)\n",
    "            y = y.float().to(device)\n",
    "            \n",
    "            optimizer.zero_grad()\n",
    "            \n",
    "            y_pred = model(X)\n",
    "            \n",
    "            loss = criterion(y_pred, y.reshape(-1, 1))  # loss_fn(input, target)\n",
    "            loss.backward()\n",
    "            \n",
    "            optimizer.step()\n",
    "\n",
    "            train_loss.append(loss.item())\n",
    "\n",
    "        val_loss, val_score = validation_teacher(model, val_loader, criterion, device, t_thresh)\n",
    "        \n",
    "        print(f'Epoch [{epoch}], Train Loss : [{np.mean(train_loss) :.5f}] Val Loss : [{np.mean(val_loss) :.5f}] Val F1 Score : [{val_score:.5f}]')\n",
    "\n",
    "        if scheduler is not None:\n",
    "            scheduler.step(val_score)\n",
    "            \n",
    "        if best_score < val_score:\n",
    "            best_model = model\n",
    "            best_score = val_score\n",
    "    print(f\"Teacher Train Best Score는 {best_score} 입니다.\")\n",
    "    return best_model, best_score"
   ]
  },
  {
   "cell_type": "code",
   "execution_count": 685,
   "id": "db9ba187",
   "metadata": {},
   "outputs": [],
   "source": [
    "def competition_metric(true, pred):\n",
    "    return f1_score(true, pred, average=\"macro\")\n",
    "\n",
    "\n",
    "def validation_teacher(model, val_loader, criterion, device, t_thresh):\n",
    "    model.eval()\n",
    "\n",
    "    val_loss = []\n",
    "    pred_labels = []\n",
    "    true_labels = []\n",
    "    threshold = t_thresh     \n",
    "    \n",
    "    with torch.no_grad():\n",
    "        for X, y in tqdm(val_loader):\n",
    "            X = X.float().to(device)\n",
    "            y = y.float().to(device)\n",
    "            \n",
    "            model_pred = model(X.to(device))\n",
    "            \n",
    "            loss = criterion(model_pred, y.reshape(-1, 1))\n",
    "            val_loss.append(loss.item())      \n",
    "            \n",
    "            model_pred = model_pred.squeeze(1).to('cpu')  # squeeze함수는 차원이 1인 차원을 제거해준다.\n",
    "            pred_labels += model_pred.tolist()\n",
    "            true_labels += y.tolist()\n",
    "        \n",
    "        #print(pred_labels[0:10])\n",
    "        # 오일상태는 0: 정상, 1: 이상\n",
    "        # 어느 임계점 thrshold보다 큰 예측 라벨을 1로 하고, 나머지를 0으로 할 것인가?\n",
    "        pred_labels = np.where(np.array(pred_labels) > threshold, 1, 0)\n",
    "        #print(pred_labels[0:10])\n",
    "        cf = confusion_matrix(true_labels, pred_labels)\n",
    "        val_f1 = competition_metric(true_labels, pred_labels)\n",
    "        \n",
    "        print(cf)\n",
    "        print(classification_report(true_labels, pred_labels, target_names=[\"0: 정상\", \"1: 이상\"]))\n",
    "    return val_loss, val_f1"
   ]
  },
  {
   "cell_type": "code",
   "execution_count": 686,
   "id": "e4a8234a",
   "metadata": {
    "scrolled": true
   },
   "outputs": [
    {
     "data": {
      "application/vnd.jupyter.widget-view+json": {
       "model_id": "e1c8273f6f2e402ca2a2573f79579e8e",
       "version_major": 2,
       "version_minor": 0
      },
      "text/plain": [
       "  0%|          | 0/13 [00:00<?, ?it/s]"
      ]
     },
     "metadata": {},
     "output_type": "display_data"
    },
    {
     "data": {
      "application/vnd.jupyter.widget-view+json": {
       "model_id": "89ae3887e8f241e2a85b5a9c8b865009",
       "version_major": 2,
       "version_minor": 0
      },
      "text/plain": [
       "  0%|          | 0/4 [00:00<?, ?it/s]"
      ]
     },
     "metadata": {},
     "output_type": "display_data"
    },
    {
     "name": "stdout",
     "output_type": "stream",
     "text": [
      "[[540 176]\n",
      " [ 11  51]]\n",
      "              precision    recall  f1-score   support\n",
      "\n",
      "       0: 정상       0.98      0.75      0.85       716\n",
      "       1: 이상       0.22      0.82      0.35        62\n",
      "\n",
      "    accuracy                           0.76       778\n",
      "   macro avg       0.60      0.79      0.60       778\n",
      "weighted avg       0.92      0.76      0.81       778\n",
      "\n",
      "Epoch [0], Train Loss : [0.53563] Val Loss : [0.36056] Val F1 Score : [0.60267]\n"
     ]
    },
    {
     "data": {
      "application/vnd.jupyter.widget-view+json": {
       "model_id": "022429d67cc4490aa6508b13ffbff431",
       "version_major": 2,
       "version_minor": 0
      },
      "text/plain": [
       "  0%|          | 0/13 [00:00<?, ?it/s]"
      ]
     },
     "metadata": {},
     "output_type": "display_data"
    },
    {
     "data": {
      "application/vnd.jupyter.widget-view+json": {
       "model_id": "0ae80e1ba3fd4579b1b1a94dee452bb8",
       "version_major": 2,
       "version_minor": 0
      },
      "text/plain": [
       "  0%|          | 0/4 [00:00<?, ?it/s]"
      ]
     },
     "metadata": {},
     "output_type": "display_data"
    },
    {
     "name": "stdout",
     "output_type": "stream",
     "text": [
      "[[659  57]\n",
      " [ 17  45]]\n",
      "              precision    recall  f1-score   support\n",
      "\n",
      "       0: 정상       0.97      0.92      0.95       716\n",
      "       1: 이상       0.44      0.73      0.55        62\n",
      "\n",
      "    accuracy                           0.90       778\n",
      "   macro avg       0.71      0.82      0.75       778\n",
      "weighted avg       0.93      0.90      0.92       778\n",
      "\n",
      "Epoch [1], Train Loss : [0.39805] Val Loss : [0.16713] Val F1 Score : [0.74781]\n"
     ]
    },
    {
     "data": {
      "application/vnd.jupyter.widget-view+json": {
       "model_id": "cfc8e22e9a294cb7b3c8eae03966cfe9",
       "version_major": 2,
       "version_minor": 0
      },
      "text/plain": [
       "  0%|          | 0/13 [00:00<?, ?it/s]"
      ]
     },
     "metadata": {},
     "output_type": "display_data"
    },
    {
     "data": {
      "application/vnd.jupyter.widget-view+json": {
       "model_id": "40d240b165aa4f68801c16828e7f31b9",
       "version_major": 2,
       "version_minor": 0
      },
      "text/plain": [
       "  0%|          | 0/4 [00:00<?, ?it/s]"
      ]
     },
     "metadata": {},
     "output_type": "display_data"
    },
    {
     "name": "stdout",
     "output_type": "stream",
     "text": [
      "[[623  93]\n",
      " [ 15  47]]\n",
      "              precision    recall  f1-score   support\n",
      "\n",
      "       0: 정상       0.98      0.87      0.92       716\n",
      "       1: 이상       0.34      0.76      0.47        62\n",
      "\n",
      "    accuracy                           0.86       778\n",
      "   macro avg       0.66      0.81      0.69       778\n",
      "weighted avg       0.93      0.86      0.88       778\n",
      "\n",
      "Epoch [2], Train Loss : [0.33350] Val Loss : [0.18209] Val F1 Score : [0.69279]\n"
     ]
    },
    {
     "data": {
      "application/vnd.jupyter.widget-view+json": {
       "model_id": "4f40ce7d4f604fbabc1f82755a45d913",
       "version_major": 2,
       "version_minor": 0
      },
      "text/plain": [
       "  0%|          | 0/13 [00:00<?, ?it/s]"
      ]
     },
     "metadata": {},
     "output_type": "display_data"
    },
    {
     "data": {
      "application/vnd.jupyter.widget-view+json": {
       "model_id": "c28b127cdc184fa9810b844cf9c1f3f9",
       "version_major": 2,
       "version_minor": 0
      },
      "text/plain": [
       "  0%|          | 0/4 [00:00<?, ?it/s]"
      ]
     },
     "metadata": {},
     "output_type": "display_data"
    },
    {
     "name": "stdout",
     "output_type": "stream",
     "text": [
      "[[697  19]\n",
      " [ 23  39]]\n",
      "              precision    recall  f1-score   support\n",
      "\n",
      "       0: 정상       0.97      0.97      0.97       716\n",
      "       1: 이상       0.67      0.63      0.65        62\n",
      "\n",
      "    accuracy                           0.95       778\n",
      "   macro avg       0.82      0.80      0.81       778\n",
      "weighted avg       0.94      0.95      0.95       778\n",
      "\n",
      "Epoch [3], Train Loss : [0.31890] Val Loss : [0.12484] Val F1 Score : [0.81038]\n"
     ]
    },
    {
     "data": {
      "application/vnd.jupyter.widget-view+json": {
       "model_id": "14397758b6234bbbb2d141b682b0e3e0",
       "version_major": 2,
       "version_minor": 0
      },
      "text/plain": [
       "  0%|          | 0/13 [00:00<?, ?it/s]"
      ]
     },
     "metadata": {},
     "output_type": "display_data"
    },
    {
     "data": {
      "application/vnd.jupyter.widget-view+json": {
       "model_id": "ba2f20df9f334679bfdf5df8e36198a3",
       "version_major": 2,
       "version_minor": 0
      },
      "text/plain": [
       "  0%|          | 0/4 [00:00<?, ?it/s]"
      ]
     },
     "metadata": {},
     "output_type": "display_data"
    },
    {
     "name": "stdout",
     "output_type": "stream",
     "text": [
      "[[690  26]\n",
      " [ 20  42]]\n",
      "              precision    recall  f1-score   support\n",
      "\n",
      "       0: 정상       0.97      0.96      0.97       716\n",
      "       1: 이상       0.62      0.68      0.65        62\n",
      "\n",
      "    accuracy                           0.94       778\n",
      "   macro avg       0.79      0.82      0.81       778\n",
      "weighted avg       0.94      0.94      0.94       778\n",
      "\n",
      "Epoch [4], Train Loss : [0.32143] Val Loss : [0.12578] Val F1 Score : [0.80695]\n"
     ]
    },
    {
     "data": {
      "application/vnd.jupyter.widget-view+json": {
       "model_id": "0f701bdf94c7497a9ac30998a5591323",
       "version_major": 2,
       "version_minor": 0
      },
      "text/plain": [
       "  0%|          | 0/13 [00:00<?, ?it/s]"
      ]
     },
     "metadata": {},
     "output_type": "display_data"
    },
    {
     "data": {
      "application/vnd.jupyter.widget-view+json": {
       "model_id": "4c6215d83f38452e87b681095bb1a710",
       "version_major": 2,
       "version_minor": 0
      },
      "text/plain": [
       "  0%|          | 0/4 [00:00<?, ?it/s]"
      ]
     },
     "metadata": {},
     "output_type": "display_data"
    },
    {
     "name": "stdout",
     "output_type": "stream",
     "text": [
      "[[693  23]\n",
      " [ 24  38]]\n",
      "              precision    recall  f1-score   support\n",
      "\n",
      "       0: 정상       0.97      0.97      0.97       716\n",
      "       1: 이상       0.62      0.61      0.62        62\n",
      "\n",
      "    accuracy                           0.94       778\n",
      "   macro avg       0.79      0.79      0.79       778\n",
      "weighted avg       0.94      0.94      0.94       778\n",
      "\n",
      "Epoch [5], Train Loss : [0.30011] Val Loss : [0.13047] Val F1 Score : [0.79254]\n",
      "Epoch 00006: reducing learning rate of group 0 to 1.5000e-02.\n"
     ]
    },
    {
     "data": {
      "application/vnd.jupyter.widget-view+json": {
       "model_id": "7d1fdbcbd784461e80cf2c4acf14ed0d",
       "version_major": 2,
       "version_minor": 0
      },
      "text/plain": [
       "  0%|          | 0/13 [00:00<?, ?it/s]"
      ]
     },
     "metadata": {},
     "output_type": "display_data"
    },
    {
     "data": {
      "application/vnd.jupyter.widget-view+json": {
       "model_id": "0c58f59dbe9c465f9a0d7f60f9fba157",
       "version_major": 2,
       "version_minor": 0
      },
      "text/plain": [
       "  0%|          | 0/4 [00:00<?, ?it/s]"
      ]
     },
     "metadata": {},
     "output_type": "display_data"
    },
    {
     "name": "stdout",
     "output_type": "stream",
     "text": [
      "[[693  23]\n",
      " [ 23  39]]\n",
      "              precision    recall  f1-score   support\n",
      "\n",
      "       0: 정상       0.97      0.97      0.97       716\n",
      "       1: 이상       0.63      0.63      0.63        62\n",
      "\n",
      "    accuracy                           0.94       778\n",
      "   macro avg       0.80      0.80      0.80       778\n",
      "weighted avg       0.94      0.94      0.94       778\n",
      "\n",
      "Epoch [6], Train Loss : [0.30374] Val Loss : [0.12578] Val F1 Score : [0.79845]\n"
     ]
    },
    {
     "data": {
      "application/vnd.jupyter.widget-view+json": {
       "model_id": "7f31570cae0e4a02a5b5ab6ec914aa73",
       "version_major": 2,
       "version_minor": 0
      },
      "text/plain": [
       "  0%|          | 0/13 [00:00<?, ?it/s]"
      ]
     },
     "metadata": {},
     "output_type": "display_data"
    },
    {
     "data": {
      "application/vnd.jupyter.widget-view+json": {
       "model_id": "fa64a6680c7848f18d5dfceabe51855c",
       "version_major": 2,
       "version_minor": 0
      },
      "text/plain": [
       "  0%|          | 0/4 [00:00<?, ?it/s]"
      ]
     },
     "metadata": {},
     "output_type": "display_data"
    },
    {
     "name": "stdout",
     "output_type": "stream",
     "text": [
      "[[704  12]\n",
      " [ 24  38]]\n",
      "              precision    recall  f1-score   support\n",
      "\n",
      "       0: 정상       0.97      0.98      0.98       716\n",
      "       1: 이상       0.76      0.61      0.68        62\n",
      "\n",
      "    accuracy                           0.95       778\n",
      "   macro avg       0.86      0.80      0.83       778\n",
      "weighted avg       0.95      0.95      0.95       778\n",
      "\n",
      "Epoch [7], Train Loss : [0.30451] Val Loss : [0.12014] Val F1 Score : [0.82682]\n"
     ]
    },
    {
     "data": {
      "application/vnd.jupyter.widget-view+json": {
       "model_id": "c77a82976ab24422a11aa3d8c95370e4",
       "version_major": 2,
       "version_minor": 0
      },
      "text/plain": [
       "  0%|          | 0/13 [00:00<?, ?it/s]"
      ]
     },
     "metadata": {},
     "output_type": "display_data"
    },
    {
     "data": {
      "application/vnd.jupyter.widget-view+json": {
       "model_id": "487c6d65c28a409ca7c661464b00faad",
       "version_major": 2,
       "version_minor": 0
      },
      "text/plain": [
       "  0%|          | 0/4 [00:00<?, ?it/s]"
      ]
     },
     "metadata": {},
     "output_type": "display_data"
    },
    {
     "name": "stdout",
     "output_type": "stream",
     "text": [
      "[[698  18]\n",
      " [ 24  38]]\n",
      "              precision    recall  f1-score   support\n",
      "\n",
      "       0: 정상       0.97      0.97      0.97       716\n",
      "       1: 이상       0.68      0.61      0.64        62\n",
      "\n",
      "    accuracy                           0.95       778\n",
      "   macro avg       0.82      0.79      0.81       778\n",
      "weighted avg       0.94      0.95      0.94       778\n",
      "\n",
      "Epoch [8], Train Loss : [0.29876] Val Loss : [0.12490] Val F1 Score : [0.80743]\n"
     ]
    },
    {
     "data": {
      "application/vnd.jupyter.widget-view+json": {
       "model_id": "f719058417844ef49c9e1bdacb51787c",
       "version_major": 2,
       "version_minor": 0
      },
      "text/plain": [
       "  0%|          | 0/13 [00:00<?, ?it/s]"
      ]
     },
     "metadata": {},
     "output_type": "display_data"
    },
    {
     "data": {
      "application/vnd.jupyter.widget-view+json": {
       "model_id": "9115af09037245e0921af2e7a01fa0ae",
       "version_major": 2,
       "version_minor": 0
      },
      "text/plain": [
       "  0%|          | 0/4 [00:00<?, ?it/s]"
      ]
     },
     "metadata": {},
     "output_type": "display_data"
    },
    {
     "name": "stdout",
     "output_type": "stream",
     "text": [
      "[[701  15]\n",
      " [ 24  38]]\n",
      "              precision    recall  f1-score   support\n",
      "\n",
      "       0: 정상       0.97      0.98      0.97       716\n",
      "       1: 이상       0.72      0.61      0.66        62\n",
      "\n",
      "    accuracy                           0.95       778\n",
      "   macro avg       0.84      0.80      0.82       778\n",
      "weighted avg       0.95      0.95      0.95       778\n",
      "\n",
      "Epoch [9], Train Loss : [0.30509] Val Loss : [0.12401] Val F1 Score : [0.81690]\n",
      "Epoch 00010: reducing learning rate of group 0 to 7.5000e-03.\n"
     ]
    },
    {
     "data": {
      "application/vnd.jupyter.widget-view+json": {
       "model_id": "0be12cb8f2af4d58abf67818f6c28073",
       "version_major": 2,
       "version_minor": 0
      },
      "text/plain": [
       "  0%|          | 0/13 [00:00<?, ?it/s]"
      ]
     },
     "metadata": {},
     "output_type": "display_data"
    },
    {
     "data": {
      "application/vnd.jupyter.widget-view+json": {
       "model_id": "d39a1e632ae34e30af32a81ab02e5dc1",
       "version_major": 2,
       "version_minor": 0
      },
      "text/plain": [
       "  0%|          | 0/4 [00:00<?, ?it/s]"
      ]
     },
     "metadata": {},
     "output_type": "display_data"
    },
    {
     "name": "stdout",
     "output_type": "stream",
     "text": [
      "[[706  10]\n",
      " [ 24  38]]\n",
      "              precision    recall  f1-score   support\n",
      "\n",
      "       0: 정상       0.97      0.99      0.98       716\n",
      "       1: 이상       0.79      0.61      0.69        62\n",
      "\n",
      "    accuracy                           0.96       778\n",
      "   macro avg       0.88      0.80      0.83       778\n",
      "weighted avg       0.95      0.96      0.95       778\n",
      "\n",
      "Epoch [10], Train Loss : [0.29458] Val Loss : [0.12181] Val F1 Score : [0.83370]\n"
     ]
    },
    {
     "data": {
      "application/vnd.jupyter.widget-view+json": {
       "model_id": "a945f289472f496c9e1aac5f9bfc4404",
       "version_major": 2,
       "version_minor": 0
      },
      "text/plain": [
       "  0%|          | 0/13 [00:00<?, ?it/s]"
      ]
     },
     "metadata": {},
     "output_type": "display_data"
    },
    {
     "data": {
      "application/vnd.jupyter.widget-view+json": {
       "model_id": "c948a2f360dc464c8ed2f7dcfbe9a07d",
       "version_major": 2,
       "version_minor": 0
      },
      "text/plain": [
       "  0%|          | 0/4 [00:00<?, ?it/s]"
      ]
     },
     "metadata": {},
     "output_type": "display_data"
    },
    {
     "name": "stdout",
     "output_type": "stream",
     "text": [
      "[[696  20]\n",
      " [ 23  39]]\n",
      "              precision    recall  f1-score   support\n",
      "\n",
      "       0: 정상       0.97      0.97      0.97       716\n",
      "       1: 이상       0.66      0.63      0.64        62\n",
      "\n",
      "    accuracy                           0.94       778\n",
      "   macro avg       0.81      0.80      0.81       778\n",
      "weighted avg       0.94      0.94      0.94       778\n",
      "\n",
      "Epoch [11], Train Loss : [0.29496] Val Loss : [0.12521] Val F1 Score : [0.80733]\n"
     ]
    },
    {
     "data": {
      "application/vnd.jupyter.widget-view+json": {
       "model_id": "89f9b2b3acc54208bf30fb9da8b37e65",
       "version_major": 2,
       "version_minor": 0
      },
      "text/plain": [
       "  0%|          | 0/13 [00:00<?, ?it/s]"
      ]
     },
     "metadata": {},
     "output_type": "display_data"
    },
    {
     "data": {
      "application/vnd.jupyter.widget-view+json": {
       "model_id": "ccaaba33b21e4782ba85b53e8ead57c6",
       "version_major": 2,
       "version_minor": 0
      },
      "text/plain": [
       "  0%|          | 0/4 [00:00<?, ?it/s]"
      ]
     },
     "metadata": {},
     "output_type": "display_data"
    },
    {
     "name": "stdout",
     "output_type": "stream",
     "text": [
      "[[696  20]\n",
      " [ 22  40]]\n",
      "              precision    recall  f1-score   support\n",
      "\n",
      "       0: 정상       0.97      0.97      0.97       716\n",
      "       1: 이상       0.67      0.65      0.66        62\n",
      "\n",
      "    accuracy                           0.95       778\n",
      "   macro avg       0.82      0.81      0.81       778\n",
      "weighted avg       0.95      0.95      0.95       778\n",
      "\n",
      "Epoch [12], Train Loss : [0.30637] Val Loss : [0.12372] Val F1 Score : [0.81322]\n",
      "Epoch 00013: reducing learning rate of group 0 to 3.7500e-03.\n"
     ]
    },
    {
     "data": {
      "application/vnd.jupyter.widget-view+json": {
       "model_id": "7bed1b7f27af48aba2b6df03798b017b",
       "version_major": 2,
       "version_minor": 0
      },
      "text/plain": [
       "  0%|          | 0/13 [00:00<?, ?it/s]"
      ]
     },
     "metadata": {},
     "output_type": "display_data"
    },
    {
     "data": {
      "application/vnd.jupyter.widget-view+json": {
       "model_id": "4f3cb52acd93492b920929d0d5108f51",
       "version_major": 2,
       "version_minor": 0
      },
      "text/plain": [
       "  0%|          | 0/4 [00:00<?, ?it/s]"
      ]
     },
     "metadata": {},
     "output_type": "display_data"
    },
    {
     "name": "stdout",
     "output_type": "stream",
     "text": [
      "[[698  18]\n",
      " [ 22  40]]\n",
      "              precision    recall  f1-score   support\n",
      "\n",
      "       0: 정상       0.97      0.97      0.97       716\n",
      "       1: 이상       0.69      0.65      0.67        62\n",
      "\n",
      "    accuracy                           0.95       778\n",
      "   macro avg       0.83      0.81      0.82       778\n",
      "weighted avg       0.95      0.95      0.95       778\n",
      "\n",
      "Epoch [13], Train Loss : [0.29429] Val Loss : [0.12220] Val F1 Score : [0.81941]\n"
     ]
    },
    {
     "data": {
      "application/vnd.jupyter.widget-view+json": {
       "model_id": "b8b2016c74b542a68d44e37ef43f4286",
       "version_major": 2,
       "version_minor": 0
      },
      "text/plain": [
       "  0%|          | 0/13 [00:00<?, ?it/s]"
      ]
     },
     "metadata": {},
     "output_type": "display_data"
    },
    {
     "data": {
      "application/vnd.jupyter.widget-view+json": {
       "model_id": "874e64bc75474687a1c91a94d343f2a9",
       "version_major": 2,
       "version_minor": 0
      },
      "text/plain": [
       "  0%|          | 0/4 [00:00<?, ?it/s]"
      ]
     },
     "metadata": {},
     "output_type": "display_data"
    },
    {
     "name": "stdout",
     "output_type": "stream",
     "text": [
      "[[702  14]\n",
      " [ 23  39]]\n",
      "              precision    recall  f1-score   support\n",
      "\n",
      "       0: 정상       0.97      0.98      0.97       716\n",
      "       1: 이상       0.74      0.63      0.68        62\n",
      "\n",
      "    accuracy                           0.95       778\n",
      "   macro avg       0.85      0.80      0.83       778\n",
      "weighted avg       0.95      0.95      0.95       778\n",
      "\n",
      "Epoch [14], Train Loss : [0.27895] Val Loss : [0.12237] Val F1 Score : [0.82629]\n",
      "Epoch 00015: reducing learning rate of group 0 to 1.8750e-03.\n"
     ]
    },
    {
     "data": {
      "application/vnd.jupyter.widget-view+json": {
       "model_id": "ef84be48113f4f3a9b8f67c7cc30de03",
       "version_major": 2,
       "version_minor": 0
      },
      "text/plain": [
       "  0%|          | 0/13 [00:00<?, ?it/s]"
      ]
     },
     "metadata": {},
     "output_type": "display_data"
    },
    {
     "data": {
      "application/vnd.jupyter.widget-view+json": {
       "model_id": "c9fed2682eb94570945fc6f8da44f350",
       "version_major": 2,
       "version_minor": 0
      },
      "text/plain": [
       "  0%|          | 0/4 [00:00<?, ?it/s]"
      ]
     },
     "metadata": {},
     "output_type": "display_data"
    },
    {
     "name": "stdout",
     "output_type": "stream",
     "text": [
      "[[702  14]\n",
      " [ 23  39]]\n",
      "              precision    recall  f1-score   support\n",
      "\n",
      "       0: 정상       0.97      0.98      0.97       716\n",
      "       1: 이상       0.74      0.63      0.68        62\n",
      "\n",
      "    accuracy                           0.95       778\n",
      "   macro avg       0.85      0.80      0.83       778\n",
      "weighted avg       0.95      0.95      0.95       778\n",
      "\n",
      "Epoch [15], Train Loss : [0.28086] Val Loss : [0.12197] Val F1 Score : [0.82629]\n"
     ]
    },
    {
     "data": {
      "application/vnd.jupyter.widget-view+json": {
       "model_id": "88e2bfbdf44d47ec9f6953687f44a513",
       "version_major": 2,
       "version_minor": 0
      },
      "text/plain": [
       "  0%|          | 0/13 [00:00<?, ?it/s]"
      ]
     },
     "metadata": {},
     "output_type": "display_data"
    },
    {
     "data": {
      "application/vnd.jupyter.widget-view+json": {
       "model_id": "8d5757809fb5427aba15e1300f083142",
       "version_major": 2,
       "version_minor": 0
      },
      "text/plain": [
       "  0%|          | 0/4 [00:00<?, ?it/s]"
      ]
     },
     "metadata": {},
     "output_type": "display_data"
    },
    {
     "name": "stdout",
     "output_type": "stream",
     "text": [
      "[[701  15]\n",
      " [ 22  40]]\n",
      "              precision    recall  f1-score   support\n",
      "\n",
      "       0: 정상       0.97      0.98      0.97       716\n",
      "       1: 이상       0.73      0.65      0.68        62\n",
      "\n",
      "    accuracy                           0.95       778\n",
      "   macro avg       0.85      0.81      0.83       778\n",
      "weighted avg       0.95      0.95      0.95       778\n",
      "\n",
      "Epoch [16], Train Loss : [0.29120] Val Loss : [0.12264] Val F1 Score : [0.82902]\n",
      "Epoch 00017: reducing learning rate of group 0 to 9.3750e-04.\n"
     ]
    },
    {
     "data": {
      "application/vnd.jupyter.widget-view+json": {
       "model_id": "112539a01a5c4780879863f6e2c081d1",
       "version_major": 2,
       "version_minor": 0
      },
      "text/plain": [
       "  0%|          | 0/13 [00:00<?, ?it/s]"
      ]
     },
     "metadata": {},
     "output_type": "display_data"
    },
    {
     "data": {
      "application/vnd.jupyter.widget-view+json": {
       "model_id": "e82dfd1b639d42148e5509c7bf8cdc9b",
       "version_major": 2,
       "version_minor": 0
      },
      "text/plain": [
       "  0%|          | 0/4 [00:00<?, ?it/s]"
      ]
     },
     "metadata": {},
     "output_type": "display_data"
    },
    {
     "name": "stdout",
     "output_type": "stream",
     "text": [
      "[[703  13]\n",
      " [ 24  38]]\n",
      "              precision    recall  f1-score   support\n",
      "\n",
      "       0: 정상       0.97      0.98      0.97       716\n",
      "       1: 이상       0.75      0.61      0.67        62\n",
      "\n",
      "    accuracy                           0.95       778\n",
      "   macro avg       0.86      0.80      0.82       778\n",
      "weighted avg       0.95      0.95      0.95       778\n",
      "\n",
      "Epoch [17], Train Loss : [0.28909] Val Loss : [0.12343] Val F1 Score : [0.82346]\n"
     ]
    },
    {
     "data": {
      "application/vnd.jupyter.widget-view+json": {
       "model_id": "c711e036b2f54cd6b19b6cdf77e36c5a",
       "version_major": 2,
       "version_minor": 0
      },
      "text/plain": [
       "  0%|          | 0/13 [00:00<?, ?it/s]"
      ]
     },
     "metadata": {},
     "output_type": "display_data"
    },
    {
     "data": {
      "application/vnd.jupyter.widget-view+json": {
       "model_id": "f2a5ac78611645c48ae304f41deadb75",
       "version_major": 2,
       "version_minor": 0
      },
      "text/plain": [
       "  0%|          | 0/4 [00:00<?, ?it/s]"
      ]
     },
     "metadata": {},
     "output_type": "display_data"
    },
    {
     "name": "stdout",
     "output_type": "stream",
     "text": [
      "[[701  15]\n",
      " [ 23  39]]\n",
      "              precision    recall  f1-score   support\n",
      "\n",
      "       0: 정상       0.97      0.98      0.97       716\n",
      "       1: 이상       0.72      0.63      0.67        62\n",
      "\n",
      "    accuracy                           0.95       778\n",
      "   macro avg       0.85      0.80      0.82       778\n",
      "weighted avg       0.95      0.95      0.95       778\n",
      "\n",
      "Epoch [18], Train Loss : [0.28628] Val Loss : [0.12296] Val F1 Score : [0.82301]\n",
      "Epoch 00019: reducing learning rate of group 0 to 4.6875e-04.\n"
     ]
    },
    {
     "data": {
      "application/vnd.jupyter.widget-view+json": {
       "model_id": "8128d0a2ed814a73a054e440cf2483fb",
       "version_major": 2,
       "version_minor": 0
      },
      "text/plain": [
       "  0%|          | 0/13 [00:00<?, ?it/s]"
      ]
     },
     "metadata": {},
     "output_type": "display_data"
    },
    {
     "data": {
      "application/vnd.jupyter.widget-view+json": {
       "model_id": "93b0932162d942a39531d751d025614a",
       "version_major": 2,
       "version_minor": 0
      },
      "text/plain": [
       "  0%|          | 0/4 [00:00<?, ?it/s]"
      ]
     },
     "metadata": {},
     "output_type": "display_data"
    },
    {
     "name": "stdout",
     "output_type": "stream",
     "text": [
      "[[700  16]\n",
      " [ 22  40]]\n",
      "              precision    recall  f1-score   support\n",
      "\n",
      "       0: 정상       0.97      0.98      0.97       716\n",
      "       1: 이상       0.71      0.65      0.68        62\n",
      "\n",
      "    accuracy                           0.95       778\n",
      "   macro avg       0.84      0.81      0.83       778\n",
      "weighted avg       0.95      0.95      0.95       778\n",
      "\n",
      "Epoch [19], Train Loss : [0.28479] Val Loss : [0.12295] Val F1 Score : [0.82577]\n"
     ]
    },
    {
     "data": {
      "application/vnd.jupyter.widget-view+json": {
       "model_id": "5aef93d81b9440b797334042cc68b625",
       "version_major": 2,
       "version_minor": 0
      },
      "text/plain": [
       "  0%|          | 0/13 [00:00<?, ?it/s]"
      ]
     },
     "metadata": {},
     "output_type": "display_data"
    },
    {
     "data": {
      "application/vnd.jupyter.widget-view+json": {
       "model_id": "3e414c2f69b94fb6ba9f53ddcb6098ad",
       "version_major": 2,
       "version_minor": 0
      },
      "text/plain": [
       "  0%|          | 0/4 [00:00<?, ?it/s]"
      ]
     },
     "metadata": {},
     "output_type": "display_data"
    },
    {
     "name": "stdout",
     "output_type": "stream",
     "text": [
      "[[702  14]\n",
      " [ 22  40]]\n",
      "              precision    recall  f1-score   support\n",
      "\n",
      "       0: 정상       0.97      0.98      0.97       716\n",
      "       1: 이상       0.74      0.65      0.69        62\n",
      "\n",
      "    accuracy                           0.95       778\n",
      "   macro avg       0.86      0.81      0.83       778\n",
      "weighted avg       0.95      0.95      0.95       778\n",
      "\n",
      "Epoch [20], Train Loss : [0.28167] Val Loss : [0.12196] Val F1 Score : [0.83233]\n",
      "Epoch 00021: reducing learning rate of group 0 to 2.3437e-04.\n"
     ]
    },
    {
     "data": {
      "application/vnd.jupyter.widget-view+json": {
       "model_id": "ff5f64dcb489452c92b6a58c66025a67",
       "version_major": 2,
       "version_minor": 0
      },
      "text/plain": [
       "  0%|          | 0/13 [00:00<?, ?it/s]"
      ]
     },
     "metadata": {},
     "output_type": "display_data"
    },
    {
     "data": {
      "application/vnd.jupyter.widget-view+json": {
       "model_id": "7da4414db0c74fa994bed2371858abd9",
       "version_major": 2,
       "version_minor": 0
      },
      "text/plain": [
       "  0%|          | 0/4 [00:00<?, ?it/s]"
      ]
     },
     "metadata": {},
     "output_type": "display_data"
    },
    {
     "name": "stdout",
     "output_type": "stream",
     "text": [
      "[[703  13]\n",
      " [ 22  40]]\n",
      "              precision    recall  f1-score   support\n",
      "\n",
      "       0: 정상       0.97      0.98      0.98       716\n",
      "       1: 이상       0.75      0.65      0.70        62\n",
      "\n",
      "    accuracy                           0.96       778\n",
      "   macro avg       0.86      0.81      0.84       778\n",
      "weighted avg       0.95      0.96      0.95       778\n",
      "\n",
      "Epoch [21], Train Loss : [0.28840] Val Loss : [0.12198] Val F1 Score : [0.83568]\n"
     ]
    },
    {
     "data": {
      "application/vnd.jupyter.widget-view+json": {
       "model_id": "4f316acdd6cf4b24bad24ac9d3971e7b",
       "version_major": 2,
       "version_minor": 0
      },
      "text/plain": [
       "  0%|          | 0/13 [00:00<?, ?it/s]"
      ]
     },
     "metadata": {},
     "output_type": "display_data"
    },
    {
     "data": {
      "application/vnd.jupyter.widget-view+json": {
       "model_id": "afe6f4bcf7f34b3490e2bd17e6efe4e2",
       "version_major": 2,
       "version_minor": 0
      },
      "text/plain": [
       "  0%|          | 0/4 [00:00<?, ?it/s]"
      ]
     },
     "metadata": {},
     "output_type": "display_data"
    },
    {
     "name": "stdout",
     "output_type": "stream",
     "text": [
      "[[701  15]\n",
      " [ 22  40]]\n",
      "              precision    recall  f1-score   support\n",
      "\n",
      "       0: 정상       0.97      0.98      0.97       716\n",
      "       1: 이상       0.73      0.65      0.68        62\n",
      "\n",
      "    accuracy                           0.95       778\n",
      "   macro avg       0.85      0.81      0.83       778\n",
      "weighted avg       0.95      0.95      0.95       778\n",
      "\n",
      "Epoch [22], Train Loss : [0.29731] Val Loss : [0.12254] Val F1 Score : [0.82902]\n"
     ]
    },
    {
     "data": {
      "application/vnd.jupyter.widget-view+json": {
       "model_id": "8a2a64c993fe4bb484e4d561a916298b",
       "version_major": 2,
       "version_minor": 0
      },
      "text/plain": [
       "  0%|          | 0/13 [00:00<?, ?it/s]"
      ]
     },
     "metadata": {},
     "output_type": "display_data"
    },
    {
     "data": {
      "application/vnd.jupyter.widget-view+json": {
       "model_id": "8d9c0ebfa29d4c6eac7cc2179a392edd",
       "version_major": 2,
       "version_minor": 0
      },
      "text/plain": [
       "  0%|          | 0/4 [00:00<?, ?it/s]"
      ]
     },
     "metadata": {},
     "output_type": "display_data"
    },
    {
     "name": "stdout",
     "output_type": "stream",
     "text": [
      "[[699  17]\n",
      " [ 22  40]]\n",
      "              precision    recall  f1-score   support\n",
      "\n",
      "       0: 정상       0.97      0.98      0.97       716\n",
      "       1: 이상       0.70      0.65      0.67        62\n",
      "\n",
      "    accuracy                           0.95       778\n",
      "   macro avg       0.84      0.81      0.82       778\n",
      "weighted avg       0.95      0.95      0.95       778\n",
      "\n",
      "Epoch [23], Train Loss : [0.29314] Val Loss : [0.12277] Val F1 Score : [0.82256]\n",
      "Epoch 00024: reducing learning rate of group 0 to 1.1719e-04.\n"
     ]
    },
    {
     "data": {
      "application/vnd.jupyter.widget-view+json": {
       "model_id": "9b52ec56729a44a4a29132556f9ab1af",
       "version_major": 2,
       "version_minor": 0
      },
      "text/plain": [
       "  0%|          | 0/13 [00:00<?, ?it/s]"
      ]
     },
     "metadata": {},
     "output_type": "display_data"
    },
    {
     "data": {
      "application/vnd.jupyter.widget-view+json": {
       "model_id": "4165c9feb2b7495cab10c6ed8e2645dd",
       "version_major": 2,
       "version_minor": 0
      },
      "text/plain": [
       "  0%|          | 0/4 [00:00<?, ?it/s]"
      ]
     },
     "metadata": {},
     "output_type": "display_data"
    },
    {
     "name": "stdout",
     "output_type": "stream",
     "text": [
      "[[701  15]\n",
      " [ 22  40]]\n",
      "              precision    recall  f1-score   support\n",
      "\n",
      "       0: 정상       0.97      0.98      0.97       716\n",
      "       1: 이상       0.73      0.65      0.68        62\n",
      "\n",
      "    accuracy                           0.95       778\n",
      "   macro avg       0.85      0.81      0.83       778\n",
      "weighted avg       0.95      0.95      0.95       778\n",
      "\n",
      "Epoch [24], Train Loss : [0.29147] Val Loss : [0.12285] Val F1 Score : [0.82902]\n"
     ]
    },
    {
     "data": {
      "application/vnd.jupyter.widget-view+json": {
       "model_id": "6d430d8f6d924a10aa236e1c99718cbf",
       "version_major": 2,
       "version_minor": 0
      },
      "text/plain": [
       "  0%|          | 0/13 [00:00<?, ?it/s]"
      ]
     },
     "metadata": {},
     "output_type": "display_data"
    },
    {
     "data": {
      "application/vnd.jupyter.widget-view+json": {
       "model_id": "0b11358f2dc448c0aabf4030d479b1bb",
       "version_major": 2,
       "version_minor": 0
      },
      "text/plain": [
       "  0%|          | 0/4 [00:00<?, ?it/s]"
      ]
     },
     "metadata": {},
     "output_type": "display_data"
    },
    {
     "name": "stdout",
     "output_type": "stream",
     "text": [
      "[[701  15]\n",
      " [ 22  40]]\n",
      "              precision    recall  f1-score   support\n",
      "\n",
      "       0: 정상       0.97      0.98      0.97       716\n",
      "       1: 이상       0.73      0.65      0.68        62\n",
      "\n",
      "    accuracy                           0.95       778\n",
      "   macro avg       0.85      0.81      0.83       778\n",
      "weighted avg       0.95      0.95      0.95       778\n",
      "\n",
      "Epoch [25], Train Loss : [0.28851] Val Loss : [0.12268] Val F1 Score : [0.82902]\n",
      "Epoch 00026: reducing learning rate of group 0 to 5.8594e-05.\n"
     ]
    },
    {
     "data": {
      "application/vnd.jupyter.widget-view+json": {
       "model_id": "ca7334213a2a4171910c13061aafa2f8",
       "version_major": 2,
       "version_minor": 0
      },
      "text/plain": [
       "  0%|          | 0/13 [00:00<?, ?it/s]"
      ]
     },
     "metadata": {},
     "output_type": "display_data"
    },
    {
     "data": {
      "application/vnd.jupyter.widget-view+json": {
       "model_id": "f3af68dde80f4ce183ca65930a74246f",
       "version_major": 2,
       "version_minor": 0
      },
      "text/plain": [
       "  0%|          | 0/4 [00:00<?, ?it/s]"
      ]
     },
     "metadata": {},
     "output_type": "display_data"
    },
    {
     "name": "stdout",
     "output_type": "stream",
     "text": [
      "[[704  12]\n",
      " [ 23  39]]\n",
      "              precision    recall  f1-score   support\n",
      "\n",
      "       0: 정상       0.97      0.98      0.98       716\n",
      "       1: 이상       0.76      0.63      0.69        62\n",
      "\n",
      "    accuracy                           0.96       778\n",
      "   macro avg       0.87      0.81      0.83       778\n",
      "weighted avg       0.95      0.96      0.95       778\n",
      "\n",
      "Epoch [26], Train Loss : [0.27712] Val Loss : [0.12179] Val F1 Score : [0.83301]\n"
     ]
    },
    {
     "data": {
      "application/vnd.jupyter.widget-view+json": {
       "model_id": "b9a7b3a6dd8343f58e89cc6133a34443",
       "version_major": 2,
       "version_minor": 0
      },
      "text/plain": [
       "  0%|          | 0/13 [00:00<?, ?it/s]"
      ]
     },
     "metadata": {},
     "output_type": "display_data"
    },
    {
     "data": {
      "application/vnd.jupyter.widget-view+json": {
       "model_id": "cc798817cef44d97ab7e713e65328e22",
       "version_major": 2,
       "version_minor": 0
      },
      "text/plain": [
       "  0%|          | 0/4 [00:00<?, ?it/s]"
      ]
     },
     "metadata": {},
     "output_type": "display_data"
    },
    {
     "name": "stdout",
     "output_type": "stream",
     "text": [
      "[[703  13]\n",
      " [ 23  39]]\n",
      "              precision    recall  f1-score   support\n",
      "\n",
      "       0: 정상       0.97      0.98      0.98       716\n",
      "       1: 이상       0.75      0.63      0.68        62\n",
      "\n",
      "    accuracy                           0.95       778\n",
      "   macro avg       0.86      0.81      0.83       778\n",
      "weighted avg       0.95      0.95      0.95       778\n",
      "\n",
      "Epoch [27], Train Loss : [0.28569] Val Loss : [0.12179] Val F1 Score : [0.82962]\n",
      "Epoch 00028: reducing learning rate of group 0 to 2.9297e-05.\n"
     ]
    },
    {
     "data": {
      "application/vnd.jupyter.widget-view+json": {
       "model_id": "52c4e75d0d88432585b715eff585a9b8",
       "version_major": 2,
       "version_minor": 0
      },
      "text/plain": [
       "  0%|          | 0/13 [00:00<?, ?it/s]"
      ]
     },
     "metadata": {},
     "output_type": "display_data"
    },
    {
     "data": {
      "application/vnd.jupyter.widget-view+json": {
       "model_id": "dcfad6a1b50440b5864b6cd39af18e7e",
       "version_major": 2,
       "version_minor": 0
      },
      "text/plain": [
       "  0%|          | 0/4 [00:00<?, ?it/s]"
      ]
     },
     "metadata": {},
     "output_type": "display_data"
    },
    {
     "name": "stdout",
     "output_type": "stream",
     "text": [
      "[[701  15]\n",
      " [ 22  40]]\n",
      "              precision    recall  f1-score   support\n",
      "\n",
      "       0: 정상       0.97      0.98      0.97       716\n",
      "       1: 이상       0.73      0.65      0.68        62\n",
      "\n",
      "    accuracy                           0.95       778\n",
      "   macro avg       0.85      0.81      0.83       778\n",
      "weighted avg       0.95      0.95      0.95       778\n",
      "\n",
      "Epoch [28], Train Loss : [0.28012] Val Loss : [0.12236] Val F1 Score : [0.82902]\n"
     ]
    },
    {
     "data": {
      "application/vnd.jupyter.widget-view+json": {
       "model_id": "a7d918ab0d25488c8ae30c2245f75065",
       "version_major": 2,
       "version_minor": 0
      },
      "text/plain": [
       "  0%|          | 0/13 [00:00<?, ?it/s]"
      ]
     },
     "metadata": {},
     "output_type": "display_data"
    },
    {
     "data": {
      "application/vnd.jupyter.widget-view+json": {
       "model_id": "390bf0cbc5e4415ea2e37145f44c4c76",
       "version_major": 2,
       "version_minor": 0
      },
      "text/plain": [
       "  0%|          | 0/4 [00:00<?, ?it/s]"
      ]
     },
     "metadata": {},
     "output_type": "display_data"
    },
    {
     "name": "stdout",
     "output_type": "stream",
     "text": [
      "[[702  14]\n",
      " [ 22  40]]\n",
      "              precision    recall  f1-score   support\n",
      "\n",
      "       0: 정상       0.97      0.98      0.97       716\n",
      "       1: 이상       0.74      0.65      0.69        62\n",
      "\n",
      "    accuracy                           0.95       778\n",
      "   macro avg       0.86      0.81      0.83       778\n",
      "weighted avg       0.95      0.95      0.95       778\n",
      "\n",
      "Epoch [29], Train Loss : [0.28341] Val Loss : [0.12204] Val F1 Score : [0.83233]\n",
      "Epoch 00030: reducing learning rate of group 0 to 1.4648e-05.\n",
      "Teacher Train Best Score는 0.8356817427511087 입니다.\n",
      "부분학습 종료\n",
      "******************************************************************************************************************************************************\n"
     ]
    },
    {
     "data": {
      "application/vnd.jupyter.widget-view+json": {
       "model_id": "f06ff903b97a4bb2b72e8c3b7358bb76",
       "version_major": 2,
       "version_minor": 0
      },
      "text/plain": [
       "  0%|          | 0/8 [00:00<?, ?it/s]"
      ]
     },
     "metadata": {},
     "output_type": "display_data"
    },
    {
     "data": {
      "application/vnd.jupyter.widget-view+json": {
       "model_id": "f389db39848649c5a2608ecc4c79ddd9",
       "version_major": 2,
       "version_minor": 0
      },
      "text/plain": [
       "  0%|          | 0/2 [00:00<?, ?it/s]"
      ]
     },
     "metadata": {},
     "output_type": "display_data"
    },
    {
     "name": "stdout",
     "output_type": "stream",
     "text": [
      "[[  0 423]\n",
      " [  0  41]]\n",
      "              precision    recall  f1-score   support\n",
      "\n",
      "       0: 정상       0.00      0.00      0.00       423\n",
      "       1: 이상       0.09      1.00      0.16        41\n",
      "\n",
      "    accuracy                           0.09       464\n",
      "   macro avg       0.04      0.50      0.08       464\n",
      "weighted avg       0.01      0.09      0.01       464\n",
      "\n",
      "Epoch [0], Train Loss : [0.51829] Val Loss : [0.52433] Val F1 Score : [0.08119]\n"
     ]
    },
    {
     "data": {
      "application/vnd.jupyter.widget-view+json": {
       "model_id": "d446b9dcd1d84b60b306fdc7839aab62",
       "version_major": 2,
       "version_minor": 0
      },
      "text/plain": [
       "  0%|          | 0/8 [00:00<?, ?it/s]"
      ]
     },
     "metadata": {},
     "output_type": "display_data"
    },
    {
     "data": {
      "application/vnd.jupyter.widget-view+json": {
       "model_id": "9607f4a6eea94c2cafd9fb765b2cb6fa",
       "version_major": 2,
       "version_minor": 0
      },
      "text/plain": [
       "  0%|          | 0/2 [00:00<?, ?it/s]"
      ]
     },
     "metadata": {},
     "output_type": "display_data"
    },
    {
     "name": "stdout",
     "output_type": "stream",
     "text": [
      "[[389  34]\n",
      " [ 11  30]]\n",
      "              precision    recall  f1-score   support\n",
      "\n",
      "       0: 정상       0.97      0.92      0.95       423\n",
      "       1: 이상       0.47      0.73      0.57        41\n",
      "\n",
      "    accuracy                           0.90       464\n",
      "   macro avg       0.72      0.83      0.76       464\n",
      "weighted avg       0.93      0.90      0.91       464\n",
      "\n",
      "Epoch [1], Train Loss : [0.36667] Val Loss : [0.31516] Val F1 Score : [0.75838]\n"
     ]
    },
    {
     "data": {
      "application/vnd.jupyter.widget-view+json": {
       "model_id": "e195bfca09c34c22ac778647ca93e7a8",
       "version_major": 2,
       "version_minor": 0
      },
      "text/plain": [
       "  0%|          | 0/8 [00:00<?, ?it/s]"
      ]
     },
     "metadata": {},
     "output_type": "display_data"
    },
    {
     "data": {
      "application/vnd.jupyter.widget-view+json": {
       "model_id": "8f537df22d504472ac5b0f37c7bbc17f",
       "version_major": 2,
       "version_minor": 0
      },
      "text/plain": [
       "  0%|          | 0/2 [00:00<?, ?it/s]"
      ]
     },
     "metadata": {},
     "output_type": "display_data"
    },
    {
     "name": "stdout",
     "output_type": "stream",
     "text": [
      "[[399  24]\n",
      " [ 13  28]]\n",
      "              precision    recall  f1-score   support\n",
      "\n",
      "       0: 정상       0.97      0.94      0.96       423\n",
      "       1: 이상       0.54      0.68      0.60        41\n",
      "\n",
      "    accuracy                           0.92       464\n",
      "   macro avg       0.75      0.81      0.78       464\n",
      "weighted avg       0.93      0.92      0.92       464\n",
      "\n",
      "Epoch [2], Train Loss : [0.33397] Val Loss : [0.22914] Val F1 Score : [0.77892]\n"
     ]
    },
    {
     "data": {
      "application/vnd.jupyter.widget-view+json": {
       "model_id": "47961993fac44809bed394733925a981",
       "version_major": 2,
       "version_minor": 0
      },
      "text/plain": [
       "  0%|          | 0/8 [00:00<?, ?it/s]"
      ]
     },
     "metadata": {},
     "output_type": "display_data"
    },
    {
     "data": {
      "application/vnd.jupyter.widget-view+json": {
       "model_id": "c6d524ed4a5843e4adaceae4896c6c6f",
       "version_major": 2,
       "version_minor": 0
      },
      "text/plain": [
       "  0%|          | 0/2 [00:00<?, ?it/s]"
      ]
     },
     "metadata": {},
     "output_type": "display_data"
    },
    {
     "name": "stdout",
     "output_type": "stream",
     "text": [
      "[[413  10]\n",
      " [ 14  27]]\n",
      "              precision    recall  f1-score   support\n",
      "\n",
      "       0: 정상       0.97      0.98      0.97       423\n",
      "       1: 이상       0.73      0.66      0.69        41\n",
      "\n",
      "    accuracy                           0.95       464\n",
      "   macro avg       0.85      0.82      0.83       464\n",
      "weighted avg       0.95      0.95      0.95       464\n",
      "\n",
      "Epoch [3], Train Loss : [0.30547] Val Loss : [0.18764] Val F1 Score : [0.83204]\n"
     ]
    },
    {
     "data": {
      "application/vnd.jupyter.widget-view+json": {
       "model_id": "158f9e0168eb499489385762d4bc0927",
       "version_major": 2,
       "version_minor": 0
      },
      "text/plain": [
       "  0%|          | 0/8 [00:00<?, ?it/s]"
      ]
     },
     "metadata": {},
     "output_type": "display_data"
    },
    {
     "data": {
      "application/vnd.jupyter.widget-view+json": {
       "model_id": "0ff4667e2c2449d7b49d089ad4a18f4b",
       "version_major": 2,
       "version_minor": 0
      },
      "text/plain": [
       "  0%|          | 0/2 [00:00<?, ?it/s]"
      ]
     },
     "metadata": {},
     "output_type": "display_data"
    },
    {
     "name": "stdout",
     "output_type": "stream",
     "text": [
      "[[412  11]\n",
      " [ 14  27]]\n",
      "              precision    recall  f1-score   support\n",
      "\n",
      "       0: 정상       0.97      0.97      0.97       423\n",
      "       1: 이상       0.71      0.66      0.68        41\n",
      "\n",
      "    accuracy                           0.95       464\n",
      "   macro avg       0.84      0.82      0.83       464\n",
      "weighted avg       0.94      0.95      0.95       464\n",
      "\n",
      "Epoch [4], Train Loss : [0.33077] Val Loss : [0.16553] Val F1 Score : [0.82705]\n"
     ]
    },
    {
     "data": {
      "application/vnd.jupyter.widget-view+json": {
       "model_id": "f3573a55f8fe4c2cb553f9a7e9b1590f",
       "version_major": 2,
       "version_minor": 0
      },
      "text/plain": [
       "  0%|          | 0/8 [00:00<?, ?it/s]"
      ]
     },
     "metadata": {},
     "output_type": "display_data"
    },
    {
     "data": {
      "application/vnd.jupyter.widget-view+json": {
       "model_id": "c88a4d34d475440f9e830fd67e275f28",
       "version_major": 2,
       "version_minor": 0
      },
      "text/plain": [
       "  0%|          | 0/2 [00:00<?, ?it/s]"
      ]
     },
     "metadata": {},
     "output_type": "display_data"
    },
    {
     "name": "stdout",
     "output_type": "stream",
     "text": [
      "[[418   5]\n",
      " [ 15  26]]\n",
      "              precision    recall  f1-score   support\n",
      "\n",
      "       0: 정상       0.97      0.99      0.98       423\n",
      "       1: 이상       0.84      0.63      0.72        41\n",
      "\n",
      "    accuracy                           0.96       464\n",
      "   macro avg       0.90      0.81      0.85       464\n",
      "weighted avg       0.95      0.96      0.95       464\n",
      "\n",
      "Epoch [5], Train Loss : [0.32273] Val Loss : [0.16377] Val F1 Score : [0.84943]\n"
     ]
    },
    {
     "data": {
      "application/vnd.jupyter.widget-view+json": {
       "model_id": "304a732c5ea341969dba7dc99ed25fc4",
       "version_major": 2,
       "version_minor": 0
      },
      "text/plain": [
       "  0%|          | 0/8 [00:00<?, ?it/s]"
      ]
     },
     "metadata": {},
     "output_type": "display_data"
    },
    {
     "data": {
      "application/vnd.jupyter.widget-view+json": {
       "model_id": "c9dc553cbfae4a7ea5c09b0e2d828f2d",
       "version_major": 2,
       "version_minor": 0
      },
      "text/plain": [
       "  0%|          | 0/2 [00:00<?, ?it/s]"
      ]
     },
     "metadata": {},
     "output_type": "display_data"
    },
    {
     "name": "stdout",
     "output_type": "stream",
     "text": [
      "[[415   8]\n",
      " [ 15  26]]\n",
      "              precision    recall  f1-score   support\n",
      "\n",
      "       0: 정상       0.97      0.98      0.97       423\n",
      "       1: 이상       0.76      0.63      0.69        41\n",
      "\n",
      "    accuracy                           0.95       464\n",
      "   macro avg       0.86      0.81      0.83       464\n",
      "weighted avg       0.95      0.95      0.95       464\n",
      "\n",
      "Epoch [6], Train Loss : [0.32004] Val Loss : [0.16371] Val F1 Score : [0.83318]\n"
     ]
    },
    {
     "data": {
      "application/vnd.jupyter.widget-view+json": {
       "model_id": "2cbfba10898a4d72b64710c5d9d6b140",
       "version_major": 2,
       "version_minor": 0
      },
      "text/plain": [
       "  0%|          | 0/8 [00:00<?, ?it/s]"
      ]
     },
     "metadata": {},
     "output_type": "display_data"
    },
    {
     "data": {
      "application/vnd.jupyter.widget-view+json": {
       "model_id": "63488f8026ff4480911fbde1d3cfa09a",
       "version_major": 2,
       "version_minor": 0
      },
      "text/plain": [
       "  0%|          | 0/2 [00:00<?, ?it/s]"
      ]
     },
     "metadata": {},
     "output_type": "display_data"
    },
    {
     "name": "stdout",
     "output_type": "stream",
     "text": [
      "[[406  17]\n",
      " [ 16  25]]\n",
      "              precision    recall  f1-score   support\n",
      "\n",
      "       0: 정상       0.96      0.96      0.96       423\n",
      "       1: 이상       0.60      0.61      0.60        41\n",
      "\n",
      "    accuracy                           0.93       464\n",
      "   macro avg       0.78      0.78      0.78       464\n",
      "weighted avg       0.93      0.93      0.93       464\n",
      "\n",
      "Epoch [7], Train Loss : [0.33893] Val Loss : [0.17250] Val F1 Score : [0.78168]\n",
      "Epoch 00008: reducing learning rate of group 0 to 5.0000e-04.\n"
     ]
    },
    {
     "data": {
      "application/vnd.jupyter.widget-view+json": {
       "model_id": "a095da42ef7c4087866b5f968f7f6f86",
       "version_major": 2,
       "version_minor": 0
      },
      "text/plain": [
       "  0%|          | 0/8 [00:00<?, ?it/s]"
      ]
     },
     "metadata": {},
     "output_type": "display_data"
    },
    {
     "data": {
      "application/vnd.jupyter.widget-view+json": {
       "model_id": "dc7b7c14c95e48299d14655542580999",
       "version_major": 2,
       "version_minor": 0
      },
      "text/plain": [
       "  0%|          | 0/2 [00:00<?, ?it/s]"
      ]
     },
     "metadata": {},
     "output_type": "display_data"
    },
    {
     "name": "stdout",
     "output_type": "stream",
     "text": [
      "[[412  11]\n",
      " [ 15  26]]\n",
      "              precision    recall  f1-score   support\n",
      "\n",
      "       0: 정상       0.96      0.97      0.97       423\n",
      "       1: 이상       0.70      0.63      0.67        41\n",
      "\n",
      "    accuracy                           0.94       464\n",
      "   macro avg       0.83      0.80      0.82       464\n",
      "weighted avg       0.94      0.94      0.94       464\n",
      "\n",
      "Epoch [8], Train Loss : [0.30723] Val Loss : [0.16431] Val F1 Score : [0.81804]\n"
     ]
    },
    {
     "data": {
      "application/vnd.jupyter.widget-view+json": {
       "model_id": "2dddc579c6934da6be3edb83a8b49a9e",
       "version_major": 2,
       "version_minor": 0
      },
      "text/plain": [
       "  0%|          | 0/8 [00:00<?, ?it/s]"
      ]
     },
     "metadata": {},
     "output_type": "display_data"
    },
    {
     "data": {
      "application/vnd.jupyter.widget-view+json": {
       "model_id": "5ac170ffdadb4d6496b8e04330b21509",
       "version_major": 2,
       "version_minor": 0
      },
      "text/plain": [
       "  0%|          | 0/2 [00:00<?, ?it/s]"
      ]
     },
     "metadata": {},
     "output_type": "display_data"
    },
    {
     "name": "stdout",
     "output_type": "stream",
     "text": [
      "[[414   9]\n",
      " [ 15  26]]\n",
      "              precision    recall  f1-score   support\n",
      "\n",
      "       0: 정상       0.97      0.98      0.97       423\n",
      "       1: 이상       0.74      0.63      0.68        41\n",
      "\n",
      "    accuracy                           0.95       464\n",
      "   macro avg       0.85      0.81      0.83       464\n",
      "weighted avg       0.95      0.95      0.95       464\n",
      "\n",
      "Epoch [9], Train Loss : [0.29992] Val Loss : [0.16191] Val F1 Score : [0.82802]\n",
      "Epoch 00010: reducing learning rate of group 0 to 2.5000e-04.\n"
     ]
    },
    {
     "data": {
      "application/vnd.jupyter.widget-view+json": {
       "model_id": "4a5afb331c3b412a8ec81fb30891d095",
       "version_major": 2,
       "version_minor": 0
      },
      "text/plain": [
       "  0%|          | 0/8 [00:00<?, ?it/s]"
      ]
     },
     "metadata": {},
     "output_type": "display_data"
    },
    {
     "data": {
      "application/vnd.jupyter.widget-view+json": {
       "model_id": "ddc221dc800348a7b6977be7237305ce",
       "version_major": 2,
       "version_minor": 0
      },
      "text/plain": [
       "  0%|          | 0/2 [00:00<?, ?it/s]"
      ]
     },
     "metadata": {},
     "output_type": "display_data"
    },
    {
     "name": "stdout",
     "output_type": "stream",
     "text": [
      "[[413  10]\n",
      " [ 15  26]]\n",
      "              precision    recall  f1-score   support\n",
      "\n",
      "       0: 정상       0.96      0.98      0.97       423\n",
      "       1: 이상       0.72      0.63      0.68        41\n",
      "\n",
      "    accuracy                           0.95       464\n",
      "   macro avg       0.84      0.81      0.82       464\n",
      "weighted avg       0.94      0.95      0.94       464\n",
      "\n",
      "Epoch [10], Train Loss : [0.31421] Val Loss : [0.16228] Val F1 Score : [0.82297]\n"
     ]
    },
    {
     "data": {
      "application/vnd.jupyter.widget-view+json": {
       "model_id": "bb3b8d4647454681bb9fdd3362eeba9b",
       "version_major": 2,
       "version_minor": 0
      },
      "text/plain": [
       "  0%|          | 0/8 [00:00<?, ?it/s]"
      ]
     },
     "metadata": {},
     "output_type": "display_data"
    },
    {
     "data": {
      "application/vnd.jupyter.widget-view+json": {
       "model_id": "3992bbbef31e4105ab8d6119881f3fe6",
       "version_major": 2,
       "version_minor": 0
      },
      "text/plain": [
       "  0%|          | 0/2 [00:00<?, ?it/s]"
      ]
     },
     "metadata": {},
     "output_type": "display_data"
    },
    {
     "name": "stdout",
     "output_type": "stream",
     "text": [
      "[[414   9]\n",
      " [ 15  26]]\n",
      "              precision    recall  f1-score   support\n",
      "\n",
      "       0: 정상       0.97      0.98      0.97       423\n",
      "       1: 이상       0.74      0.63      0.68        41\n",
      "\n",
      "    accuracy                           0.95       464\n",
      "   macro avg       0.85      0.81      0.83       464\n",
      "weighted avg       0.95      0.95      0.95       464\n",
      "\n",
      "Epoch [11], Train Loss : [0.30873] Val Loss : [0.16283] Val F1 Score : [0.82802]\n",
      "Epoch 00012: reducing learning rate of group 0 to 1.2500e-04.\n"
     ]
    },
    {
     "data": {
      "application/vnd.jupyter.widget-view+json": {
       "model_id": "ae3a7fa9e5784971a33fb1ffba5c4528",
       "version_major": 2,
       "version_minor": 0
      },
      "text/plain": [
       "  0%|          | 0/8 [00:00<?, ?it/s]"
      ]
     },
     "metadata": {},
     "output_type": "display_data"
    },
    {
     "data": {
      "application/vnd.jupyter.widget-view+json": {
       "model_id": "8569a53938a245e8ae3394e29053fba7",
       "version_major": 2,
       "version_minor": 0
      },
      "text/plain": [
       "  0%|          | 0/2 [00:00<?, ?it/s]"
      ]
     },
     "metadata": {},
     "output_type": "display_data"
    },
    {
     "name": "stdout",
     "output_type": "stream",
     "text": [
      "[[410  13]\n",
      " [ 16  25]]\n",
      "              precision    recall  f1-score   support\n",
      "\n",
      "       0: 정상       0.96      0.97      0.97       423\n",
      "       1: 이상       0.66      0.61      0.63        41\n",
      "\n",
      "    accuracy                           0.94       464\n",
      "   macro avg       0.81      0.79      0.80       464\n",
      "weighted avg       0.94      0.94      0.94       464\n",
      "\n",
      "Epoch [12], Train Loss : [0.30533] Val Loss : [0.16492] Val F1 Score : [0.79938]\n"
     ]
    },
    {
     "data": {
      "application/vnd.jupyter.widget-view+json": {
       "model_id": "6b99f7d81cd84d379f483eea3ced6380",
       "version_major": 2,
       "version_minor": 0
      },
      "text/plain": [
       "  0%|          | 0/8 [00:00<?, ?it/s]"
      ]
     },
     "metadata": {},
     "output_type": "display_data"
    },
    {
     "data": {
      "application/vnd.jupyter.widget-view+json": {
       "model_id": "6541ee879a204b25a5f0914ab4e893ec",
       "version_major": 2,
       "version_minor": 0
      },
      "text/plain": [
       "  0%|          | 0/2 [00:00<?, ?it/s]"
      ]
     },
     "metadata": {},
     "output_type": "display_data"
    },
    {
     "name": "stdout",
     "output_type": "stream",
     "text": [
      "[[409  14]\n",
      " [ 15  26]]\n",
      "              precision    recall  f1-score   support\n",
      "\n",
      "       0: 정상       0.96      0.97      0.97       423\n",
      "       1: 이상       0.65      0.63      0.64        41\n",
      "\n",
      "    accuracy                           0.94       464\n",
      "   macro avg       0.81      0.80      0.80       464\n",
      "weighted avg       0.94      0.94      0.94       464\n",
      "\n",
      "Epoch [13], Train Loss : [0.29158] Val Loss : [0.16758] Val F1 Score : [0.80387]\n",
      "Epoch 00014: reducing learning rate of group 0 to 6.2500e-05.\n"
     ]
    },
    {
     "data": {
      "application/vnd.jupyter.widget-view+json": {
       "model_id": "4b3c699a578040269e4da23eba5bbb7f",
       "version_major": 2,
       "version_minor": 0
      },
      "text/plain": [
       "  0%|          | 0/8 [00:00<?, ?it/s]"
      ]
     },
     "metadata": {},
     "output_type": "display_data"
    },
    {
     "data": {
      "application/vnd.jupyter.widget-view+json": {
       "model_id": "623dca027ad74b329bc0605966b1a0e8",
       "version_major": 2,
       "version_minor": 0
      },
      "text/plain": [
       "  0%|          | 0/2 [00:00<?, ?it/s]"
      ]
     },
     "metadata": {},
     "output_type": "display_data"
    },
    {
     "name": "stdout",
     "output_type": "stream",
     "text": [
      "[[408  15]\n",
      " [ 15  26]]\n",
      "              precision    recall  f1-score   support\n",
      "\n",
      "       0: 정상       0.96      0.96      0.96       423\n",
      "       1: 이상       0.63      0.63      0.63        41\n",
      "\n",
      "    accuracy                           0.94       464\n",
      "   macro avg       0.80      0.80      0.80       464\n",
      "weighted avg       0.94      0.94      0.94       464\n",
      "\n",
      "Epoch [14], Train Loss : [0.27267] Val Loss : [0.16660] Val F1 Score : [0.79934]\n"
     ]
    },
    {
     "data": {
      "application/vnd.jupyter.widget-view+json": {
       "model_id": "b1d2f64e30e848bfb2c08c572bc1f30c",
       "version_major": 2,
       "version_minor": 0
      },
      "text/plain": [
       "  0%|          | 0/8 [00:00<?, ?it/s]"
      ]
     },
     "metadata": {},
     "output_type": "display_data"
    },
    {
     "data": {
      "application/vnd.jupyter.widget-view+json": {
       "model_id": "9dfe0106c5564e7594c97aa445e6440e",
       "version_major": 2,
       "version_minor": 0
      },
      "text/plain": [
       "  0%|          | 0/2 [00:00<?, ?it/s]"
      ]
     },
     "metadata": {},
     "output_type": "display_data"
    },
    {
     "name": "stdout",
     "output_type": "stream",
     "text": [
      "[[408  15]\n",
      " [ 15  26]]\n",
      "              precision    recall  f1-score   support\n",
      "\n",
      "       0: 정상       0.96      0.96      0.96       423\n",
      "       1: 이상       0.63      0.63      0.63        41\n",
      "\n",
      "    accuracy                           0.94       464\n",
      "   macro avg       0.80      0.80      0.80       464\n",
      "weighted avg       0.94      0.94      0.94       464\n",
      "\n",
      "Epoch [15], Train Loss : [0.29713] Val Loss : [0.16553] Val F1 Score : [0.79934]\n",
      "Epoch 00016: reducing learning rate of group 0 to 3.1250e-05.\n"
     ]
    },
    {
     "data": {
      "application/vnd.jupyter.widget-view+json": {
       "model_id": "64a076efc55f4cc69dfc9d9d434659d6",
       "version_major": 2,
       "version_minor": 0
      },
      "text/plain": [
       "  0%|          | 0/8 [00:00<?, ?it/s]"
      ]
     },
     "metadata": {},
     "output_type": "display_data"
    },
    {
     "data": {
      "application/vnd.jupyter.widget-view+json": {
       "model_id": "90e6d8cab92f4553b9728058336a6f27",
       "version_major": 2,
       "version_minor": 0
      },
      "text/plain": [
       "  0%|          | 0/2 [00:00<?, ?it/s]"
      ]
     },
     "metadata": {},
     "output_type": "display_data"
    },
    {
     "name": "stdout",
     "output_type": "stream",
     "text": [
      "[[410  13]\n",
      " [ 16  25]]\n",
      "              precision    recall  f1-score   support\n",
      "\n",
      "       0: 정상       0.96      0.97      0.97       423\n",
      "       1: 이상       0.66      0.61      0.63        41\n",
      "\n",
      "    accuracy                           0.94       464\n",
      "   macro avg       0.81      0.79      0.80       464\n",
      "weighted avg       0.94      0.94      0.94       464\n",
      "\n",
      "Epoch [16], Train Loss : [0.29282] Val Loss : [0.16557] Val F1 Score : [0.79938]\n"
     ]
    },
    {
     "data": {
      "application/vnd.jupyter.widget-view+json": {
       "model_id": "4b9d90090cfc4afd86d89c834a5dc883",
       "version_major": 2,
       "version_minor": 0
      },
      "text/plain": [
       "  0%|          | 0/8 [00:00<?, ?it/s]"
      ]
     },
     "metadata": {},
     "output_type": "display_data"
    },
    {
     "data": {
      "application/vnd.jupyter.widget-view+json": {
       "model_id": "32fe07d8124d40b59389ab7191528739",
       "version_major": 2,
       "version_minor": 0
      },
      "text/plain": [
       "  0%|          | 0/2 [00:00<?, ?it/s]"
      ]
     },
     "metadata": {},
     "output_type": "display_data"
    },
    {
     "name": "stdout",
     "output_type": "stream",
     "text": [
      "[[410  13]\n",
      " [ 16  25]]\n",
      "              precision    recall  f1-score   support\n",
      "\n",
      "       0: 정상       0.96      0.97      0.97       423\n",
      "       1: 이상       0.66      0.61      0.63        41\n",
      "\n",
      "    accuracy                           0.94       464\n",
      "   macro avg       0.81      0.79      0.80       464\n",
      "weighted avg       0.94      0.94      0.94       464\n",
      "\n",
      "Epoch [17], Train Loss : [0.30038] Val Loss : [0.16627] Val F1 Score : [0.79938]\n",
      "Epoch 00018: reducing learning rate of group 0 to 1.5625e-05.\n"
     ]
    },
    {
     "data": {
      "application/vnd.jupyter.widget-view+json": {
       "model_id": "a222298be2614206868747809bc8c320",
       "version_major": 2,
       "version_minor": 0
      },
      "text/plain": [
       "  0%|          | 0/8 [00:00<?, ?it/s]"
      ]
     },
     "metadata": {},
     "output_type": "display_data"
    },
    {
     "data": {
      "application/vnd.jupyter.widget-view+json": {
       "model_id": "eac430d4b34b4b7685c9ef08ccc459ff",
       "version_major": 2,
       "version_minor": 0
      },
      "text/plain": [
       "  0%|          | 0/2 [00:00<?, ?it/s]"
      ]
     },
     "metadata": {},
     "output_type": "display_data"
    },
    {
     "name": "stdout",
     "output_type": "stream",
     "text": [
      "[[409  14]\n",
      " [ 16  25]]\n",
      "              precision    recall  f1-score   support\n",
      "\n",
      "       0: 정상       0.96      0.97      0.96       423\n",
      "       1: 이상       0.64      0.61      0.62        41\n",
      "\n",
      "    accuracy                           0.94       464\n",
      "   macro avg       0.80      0.79      0.79       464\n",
      "weighted avg       0.93      0.94      0.93       464\n",
      "\n",
      "Epoch [18], Train Loss : [0.28688] Val Loss : [0.16601] Val F1 Score : [0.79481]\n"
     ]
    },
    {
     "data": {
      "application/vnd.jupyter.widget-view+json": {
       "model_id": "df75bec76e784dc8b4a5430915ad791a",
       "version_major": 2,
       "version_minor": 0
      },
      "text/plain": [
       "  0%|          | 0/8 [00:00<?, ?it/s]"
      ]
     },
     "metadata": {},
     "output_type": "display_data"
    },
    {
     "data": {
      "application/vnd.jupyter.widget-view+json": {
       "model_id": "1ea9779865f14b4f97b53b4b83ddf57b",
       "version_major": 2,
       "version_minor": 0
      },
      "text/plain": [
       "  0%|          | 0/2 [00:00<?, ?it/s]"
      ]
     },
     "metadata": {},
     "output_type": "display_data"
    },
    {
     "name": "stdout",
     "output_type": "stream",
     "text": [
      "[[408  15]\n",
      " [ 16  25]]\n",
      "              precision    recall  f1-score   support\n",
      "\n",
      "       0: 정상       0.96      0.96      0.96       423\n",
      "       1: 이상       0.62      0.61      0.62        41\n",
      "\n",
      "    accuracy                           0.93       464\n",
      "   macro avg       0.79      0.79      0.79       464\n",
      "weighted avg       0.93      0.93      0.93       464\n",
      "\n",
      "Epoch [19], Train Loss : [0.28784] Val Loss : [0.16562] Val F1 Score : [0.79034]\n",
      "Epoch 00020: reducing learning rate of group 0 to 7.8125e-06.\n"
     ]
    },
    {
     "data": {
      "application/vnd.jupyter.widget-view+json": {
       "model_id": "d4e2b5f0f06c424bb6ba5ad301afaf32",
       "version_major": 2,
       "version_minor": 0
      },
      "text/plain": [
       "  0%|          | 0/8 [00:00<?, ?it/s]"
      ]
     },
     "metadata": {},
     "output_type": "display_data"
    },
    {
     "data": {
      "application/vnd.jupyter.widget-view+json": {
       "model_id": "ca1deddfc71b40ddb0e55efde3aa2da1",
       "version_major": 2,
       "version_minor": 0
      },
      "text/plain": [
       "  0%|          | 0/2 [00:00<?, ?it/s]"
      ]
     },
     "metadata": {},
     "output_type": "display_data"
    },
    {
     "name": "stdout",
     "output_type": "stream",
     "text": [
      "[[408  15]\n",
      " [ 16  25]]\n",
      "              precision    recall  f1-score   support\n",
      "\n",
      "       0: 정상       0.96      0.96      0.96       423\n",
      "       1: 이상       0.62      0.61      0.62        41\n",
      "\n",
      "    accuracy                           0.93       464\n",
      "   macro avg       0.79      0.79      0.79       464\n",
      "weighted avg       0.93      0.93      0.93       464\n",
      "\n",
      "Epoch [20], Train Loss : [0.29548] Val Loss : [0.16523] Val F1 Score : [0.79034]\n"
     ]
    },
    {
     "data": {
      "application/vnd.jupyter.widget-view+json": {
       "model_id": "a7103fd38e4a4e3bb561c5204758165d",
       "version_major": 2,
       "version_minor": 0
      },
      "text/plain": [
       "  0%|          | 0/8 [00:00<?, ?it/s]"
      ]
     },
     "metadata": {},
     "output_type": "display_data"
    },
    {
     "data": {
      "application/vnd.jupyter.widget-view+json": {
       "model_id": "ae42c4ba813c45c98226ee6662c04d85",
       "version_major": 2,
       "version_minor": 0
      },
      "text/plain": [
       "  0%|          | 0/2 [00:00<?, ?it/s]"
      ]
     },
     "metadata": {},
     "output_type": "display_data"
    },
    {
     "name": "stdout",
     "output_type": "stream",
     "text": [
      "[[408  15]\n",
      " [ 16  25]]\n",
      "              precision    recall  f1-score   support\n",
      "\n",
      "       0: 정상       0.96      0.96      0.96       423\n",
      "       1: 이상       0.62      0.61      0.62        41\n",
      "\n",
      "    accuracy                           0.93       464\n",
      "   macro avg       0.79      0.79      0.79       464\n",
      "weighted avg       0.93      0.93      0.93       464\n",
      "\n",
      "Epoch [21], Train Loss : [0.30129] Val Loss : [0.16522] Val F1 Score : [0.79034]\n",
      "Epoch 00022: reducing learning rate of group 0 to 3.9063e-06.\n"
     ]
    },
    {
     "data": {
      "application/vnd.jupyter.widget-view+json": {
       "model_id": "78f0cc40b7524bc9bfc4c88c249f7d58",
       "version_major": 2,
       "version_minor": 0
      },
      "text/plain": [
       "  0%|          | 0/8 [00:00<?, ?it/s]"
      ]
     },
     "metadata": {},
     "output_type": "display_data"
    },
    {
     "data": {
      "application/vnd.jupyter.widget-view+json": {
       "model_id": "1c6e6f0f337f4ed4803d0efa2863412c",
       "version_major": 2,
       "version_minor": 0
      },
      "text/plain": [
       "  0%|          | 0/2 [00:00<?, ?it/s]"
      ]
     },
     "metadata": {},
     "output_type": "display_data"
    },
    {
     "name": "stdout",
     "output_type": "stream",
     "text": [
      "[[410  13]\n",
      " [ 16  25]]\n",
      "              precision    recall  f1-score   support\n",
      "\n",
      "       0: 정상       0.96      0.97      0.97       423\n",
      "       1: 이상       0.66      0.61      0.63        41\n",
      "\n",
      "    accuracy                           0.94       464\n",
      "   macro avg       0.81      0.79      0.80       464\n",
      "weighted avg       0.94      0.94      0.94       464\n",
      "\n",
      "Epoch [22], Train Loss : [0.30274] Val Loss : [0.16393] Val F1 Score : [0.79938]\n"
     ]
    },
    {
     "data": {
      "application/vnd.jupyter.widget-view+json": {
       "model_id": "ad93e335cc2d41f7bf3b001fd0b3fbf9",
       "version_major": 2,
       "version_minor": 0
      },
      "text/plain": [
       "  0%|          | 0/8 [00:00<?, ?it/s]"
      ]
     },
     "metadata": {},
     "output_type": "display_data"
    },
    {
     "data": {
      "application/vnd.jupyter.widget-view+json": {
       "model_id": "74ce141af5134802ac3924b74c671945",
       "version_major": 2,
       "version_minor": 0
      },
      "text/plain": [
       "  0%|          | 0/2 [00:00<?, ?it/s]"
      ]
     },
     "metadata": {},
     "output_type": "display_data"
    },
    {
     "name": "stdout",
     "output_type": "stream",
     "text": [
      "[[410  13]\n",
      " [ 16  25]]\n",
      "              precision    recall  f1-score   support\n",
      "\n",
      "       0: 정상       0.96      0.97      0.97       423\n",
      "       1: 이상       0.66      0.61      0.63        41\n",
      "\n",
      "    accuracy                           0.94       464\n",
      "   macro avg       0.81      0.79      0.80       464\n",
      "weighted avg       0.94      0.94      0.94       464\n",
      "\n",
      "Epoch [23], Train Loss : [0.30742] Val Loss : [0.16426] Val F1 Score : [0.79938]\n",
      "Epoch 00024: reducing learning rate of group 0 to 1.9531e-06.\n"
     ]
    },
    {
     "data": {
      "application/vnd.jupyter.widget-view+json": {
       "model_id": "0f1830f68abb483dbb1216328f2eea73",
       "version_major": 2,
       "version_minor": 0
      },
      "text/plain": [
       "  0%|          | 0/8 [00:00<?, ?it/s]"
      ]
     },
     "metadata": {},
     "output_type": "display_data"
    },
    {
     "data": {
      "application/vnd.jupyter.widget-view+json": {
       "model_id": "a71e769c184945739d516f599b6b7b96",
       "version_major": 2,
       "version_minor": 0
      },
      "text/plain": [
       "  0%|          | 0/2 [00:00<?, ?it/s]"
      ]
     },
     "metadata": {},
     "output_type": "display_data"
    },
    {
     "name": "stdout",
     "output_type": "stream",
     "text": [
      "[[410  13]\n",
      " [ 16  25]]\n",
      "              precision    recall  f1-score   support\n",
      "\n",
      "       0: 정상       0.96      0.97      0.97       423\n",
      "       1: 이상       0.66      0.61      0.63        41\n",
      "\n",
      "    accuracy                           0.94       464\n",
      "   macro avg       0.81      0.79      0.80       464\n",
      "weighted avg       0.94      0.94      0.94       464\n",
      "\n",
      "Epoch [24], Train Loss : [0.30869] Val Loss : [0.16436] Val F1 Score : [0.79938]\n"
     ]
    },
    {
     "data": {
      "application/vnd.jupyter.widget-view+json": {
       "model_id": "909e6f4fca8f4fab889ee0182510ae6f",
       "version_major": 2,
       "version_minor": 0
      },
      "text/plain": [
       "  0%|          | 0/8 [00:00<?, ?it/s]"
      ]
     },
     "metadata": {},
     "output_type": "display_data"
    },
    {
     "data": {
      "application/vnd.jupyter.widget-view+json": {
       "model_id": "c5bf6d916fab452aa2967b4d828db71b",
       "version_major": 2,
       "version_minor": 0
      },
      "text/plain": [
       "  0%|          | 0/2 [00:00<?, ?it/s]"
      ]
     },
     "metadata": {},
     "output_type": "display_data"
    },
    {
     "name": "stdout",
     "output_type": "stream",
     "text": [
      "[[409  14]\n",
      " [ 16  25]]\n",
      "              precision    recall  f1-score   support\n",
      "\n",
      "       0: 정상       0.96      0.97      0.96       423\n",
      "       1: 이상       0.64      0.61      0.62        41\n",
      "\n",
      "    accuracy                           0.94       464\n",
      "   macro avg       0.80      0.79      0.79       464\n",
      "weighted avg       0.93      0.94      0.93       464\n",
      "\n",
      "Epoch [25], Train Loss : [0.28611] Val Loss : [0.16478] Val F1 Score : [0.79481]\n",
      "Epoch 00026: reducing learning rate of group 0 to 9.7656e-07.\n"
     ]
    },
    {
     "data": {
      "application/vnd.jupyter.widget-view+json": {
       "model_id": "bf8438c51a66480b95306cee06e68997",
       "version_major": 2,
       "version_minor": 0
      },
      "text/plain": [
       "  0%|          | 0/8 [00:00<?, ?it/s]"
      ]
     },
     "metadata": {},
     "output_type": "display_data"
    },
    {
     "data": {
      "application/vnd.jupyter.widget-view+json": {
       "model_id": "93274625e30a4256908cb4cabafe5556",
       "version_major": 2,
       "version_minor": 0
      },
      "text/plain": [
       "  0%|          | 0/2 [00:00<?, ?it/s]"
      ]
     },
     "metadata": {},
     "output_type": "display_data"
    },
    {
     "name": "stdout",
     "output_type": "stream",
     "text": [
      "[[408  15]\n",
      " [ 16  25]]\n",
      "              precision    recall  f1-score   support\n",
      "\n",
      "       0: 정상       0.96      0.96      0.96       423\n",
      "       1: 이상       0.62      0.61      0.62        41\n",
      "\n",
      "    accuracy                           0.93       464\n",
      "   macro avg       0.79      0.79      0.79       464\n",
      "weighted avg       0.93      0.93      0.93       464\n",
      "\n",
      "Epoch [26], Train Loss : [0.28808] Val Loss : [0.16511] Val F1 Score : [0.79034]\n"
     ]
    },
    {
     "data": {
      "application/vnd.jupyter.widget-view+json": {
       "model_id": "3708d1854dc24bb8b876a8ea050592c4",
       "version_major": 2,
       "version_minor": 0
      },
      "text/plain": [
       "  0%|          | 0/8 [00:00<?, ?it/s]"
      ]
     },
     "metadata": {},
     "output_type": "display_data"
    },
    {
     "data": {
      "application/vnd.jupyter.widget-view+json": {
       "model_id": "6c62fae9797f42ad8db24027a467403c",
       "version_major": 2,
       "version_minor": 0
      },
      "text/plain": [
       "  0%|          | 0/2 [00:00<?, ?it/s]"
      ]
     },
     "metadata": {},
     "output_type": "display_data"
    },
    {
     "name": "stdout",
     "output_type": "stream",
     "text": [
      "[[410  13]\n",
      " [ 16  25]]\n",
      "              precision    recall  f1-score   support\n",
      "\n",
      "       0: 정상       0.96      0.97      0.97       423\n",
      "       1: 이상       0.66      0.61      0.63        41\n",
      "\n",
      "    accuracy                           0.94       464\n",
      "   macro avg       0.81      0.79      0.80       464\n",
      "weighted avg       0.94      0.94      0.94       464\n",
      "\n",
      "Epoch [27], Train Loss : [0.28749] Val Loss : [0.16517] Val F1 Score : [0.79938]\n",
      "Epoch 00028: reducing learning rate of group 0 to 4.8828e-07.\n"
     ]
    },
    {
     "data": {
      "application/vnd.jupyter.widget-view+json": {
       "model_id": "8f633c3d5de841599415ae4d0f41e562",
       "version_major": 2,
       "version_minor": 0
      },
      "text/plain": [
       "  0%|          | 0/8 [00:00<?, ?it/s]"
      ]
     },
     "metadata": {},
     "output_type": "display_data"
    },
    {
     "data": {
      "application/vnd.jupyter.widget-view+json": {
       "model_id": "64fc9a20c75a4b89b4be34bc75bf0baa",
       "version_major": 2,
       "version_minor": 0
      },
      "text/plain": [
       "  0%|          | 0/2 [00:00<?, ?it/s]"
      ]
     },
     "metadata": {},
     "output_type": "display_data"
    },
    {
     "name": "stdout",
     "output_type": "stream",
     "text": [
      "[[410  13]\n",
      " [ 16  25]]\n",
      "              precision    recall  f1-score   support\n",
      "\n",
      "       0: 정상       0.96      0.97      0.97       423\n",
      "       1: 이상       0.66      0.61      0.63        41\n",
      "\n",
      "    accuracy                           0.94       464\n",
      "   macro avg       0.81      0.79      0.80       464\n",
      "weighted avg       0.94      0.94      0.94       464\n",
      "\n",
      "Epoch [28], Train Loss : [0.30347] Val Loss : [0.16477] Val F1 Score : [0.79938]\n"
     ]
    },
    {
     "data": {
      "application/vnd.jupyter.widget-view+json": {
       "model_id": "6852391f8ce9441a9b3798f07acb9409",
       "version_major": 2,
       "version_minor": 0
      },
      "text/plain": [
       "  0%|          | 0/8 [00:00<?, ?it/s]"
      ]
     },
     "metadata": {},
     "output_type": "display_data"
    },
    {
     "data": {
      "application/vnd.jupyter.widget-view+json": {
       "model_id": "750fac88541e45198e6e0cee3f4a50ce",
       "version_major": 2,
       "version_minor": 0
      },
      "text/plain": [
       "  0%|          | 0/2 [00:00<?, ?it/s]"
      ]
     },
     "metadata": {},
     "output_type": "display_data"
    },
    {
     "name": "stdout",
     "output_type": "stream",
     "text": [
      "[[410  13]\n",
      " [ 16  25]]\n",
      "              precision    recall  f1-score   support\n",
      "\n",
      "       0: 정상       0.96      0.97      0.97       423\n",
      "       1: 이상       0.66      0.61      0.63        41\n",
      "\n",
      "    accuracy                           0.94       464\n",
      "   macro avg       0.81      0.79      0.80       464\n",
      "weighted avg       0.94      0.94      0.94       464\n",
      "\n",
      "Epoch [29], Train Loss : [0.30140] Val Loss : [0.16442] Val F1 Score : [0.79938]\n",
      "Epoch 00030: reducing learning rate of group 0 to 2.4414e-07.\n",
      "Teacher Train Best Score는 0.8494288681204569 입니다.\n",
      "부분학습 종료\n",
      "******************************************************************************************************************************************************\n"
     ]
    },
    {
     "data": {
      "application/vnd.jupyter.widget-view+json": {
       "model_id": "5f611f3fb1eb4ee4ab0cb3baa89acee5",
       "version_major": 2,
       "version_minor": 0
      },
      "text/plain": [
       "  0%|          | 0/23 [00:00<?, ?it/s]"
      ]
     },
     "metadata": {},
     "output_type": "display_data"
    },
    {
     "data": {
      "application/vnd.jupyter.widget-view+json": {
       "model_id": "5463833693084a6e90fdf5c13afbe8af",
       "version_major": 2,
       "version_minor": 0
      },
      "text/plain": [
       "  0%|          | 0/6 [00:00<?, ?it/s]"
      ]
     },
     "metadata": {},
     "output_type": "display_data"
    },
    {
     "name": "stdout",
     "output_type": "stream",
     "text": [
      "[[1214   69]\n",
      " [  49   78]]\n",
      "              precision    recall  f1-score   support\n",
      "\n",
      "       0: 정상       0.96      0.95      0.95      1283\n",
      "       1: 이상       0.53      0.61      0.57       127\n",
      "\n",
      "    accuracy                           0.92      1410\n",
      "   macro avg       0.75      0.78      0.76      1410\n",
      "weighted avg       0.92      0.92      0.92      1410\n",
      "\n",
      "Epoch [0], Train Loss : [0.41810] Val Loss : [0.20856] Val F1 Score : [0.76150]\n"
     ]
    },
    {
     "data": {
      "application/vnd.jupyter.widget-view+json": {
       "model_id": "89fc609deca04b52a0b0098c85887b40",
       "version_major": 2,
       "version_minor": 0
      },
      "text/plain": [
       "  0%|          | 0/23 [00:00<?, ?it/s]"
      ]
     },
     "metadata": {},
     "output_type": "display_data"
    },
    {
     "data": {
      "application/vnd.jupyter.widget-view+json": {
       "model_id": "2ae0be6e4fbf45a2835dbd14e7a730ab",
       "version_major": 2,
       "version_minor": 0
      },
      "text/plain": [
       "  0%|          | 0/6 [00:00<?, ?it/s]"
      ]
     },
     "metadata": {},
     "output_type": "display_data"
    },
    {
     "name": "stdout",
     "output_type": "stream",
     "text": [
      "[[1242   41]\n",
      " [  51   76]]\n",
      "              precision    recall  f1-score   support\n",
      "\n",
      "       0: 정상       0.96      0.97      0.96      1283\n",
      "       1: 이상       0.65      0.60      0.62       127\n",
      "\n",
      "    accuracy                           0.93      1410\n",
      "   macro avg       0.81      0.78      0.79      1410\n",
      "weighted avg       0.93      0.93      0.93      1410\n",
      "\n",
      "Epoch [1], Train Loss : [0.33527] Val Loss : [0.18663] Val F1 Score : [0.79362]\n"
     ]
    },
    {
     "data": {
      "application/vnd.jupyter.widget-view+json": {
       "model_id": "00cc578f3787484aa912e8397be2e18a",
       "version_major": 2,
       "version_minor": 0
      },
      "text/plain": [
       "  0%|          | 0/23 [00:00<?, ?it/s]"
      ]
     },
     "metadata": {},
     "output_type": "display_data"
    },
    {
     "data": {
      "application/vnd.jupyter.widget-view+json": {
       "model_id": "4b399243dabb482fb22e7647113fb456",
       "version_major": 2,
       "version_minor": 0
      },
      "text/plain": [
       "  0%|          | 0/6 [00:00<?, ?it/s]"
      ]
     },
     "metadata": {},
     "output_type": "display_data"
    },
    {
     "name": "stdout",
     "output_type": "stream",
     "text": [
      "[[1264   19]\n",
      " [  54   73]]\n",
      "              precision    recall  f1-score   support\n",
      "\n",
      "       0: 정상       0.96      0.99      0.97      1283\n",
      "       1: 이상       0.79      0.57      0.67       127\n",
      "\n",
      "    accuracy                           0.95      1410\n",
      "   macro avg       0.88      0.78      0.82      1410\n",
      "weighted avg       0.94      0.95      0.94      1410\n",
      "\n",
      "Epoch [2], Train Loss : [0.32416] Val Loss : [0.18106] Val F1 Score : [0.81930]\n"
     ]
    },
    {
     "data": {
      "application/vnd.jupyter.widget-view+json": {
       "model_id": "9ec2b63e13be4994ba9f3495279895c9",
       "version_major": 2,
       "version_minor": 0
      },
      "text/plain": [
       "  0%|          | 0/23 [00:00<?, ?it/s]"
      ]
     },
     "metadata": {},
     "output_type": "display_data"
    },
    {
     "data": {
      "application/vnd.jupyter.widget-view+json": {
       "model_id": "acce11e986764cddbdd061d49d007b9a",
       "version_major": 2,
       "version_minor": 0
      },
      "text/plain": [
       "  0%|          | 0/6 [00:00<?, ?it/s]"
      ]
     },
     "metadata": {},
     "output_type": "display_data"
    },
    {
     "name": "stdout",
     "output_type": "stream",
     "text": [
      "[[1255   28]\n",
      " [  52   75]]\n",
      "              precision    recall  f1-score   support\n",
      "\n",
      "       0: 정상       0.96      0.98      0.97      1283\n",
      "       1: 이상       0.73      0.59      0.65       127\n",
      "\n",
      "    accuracy                           0.94      1410\n",
      "   macro avg       0.84      0.78      0.81      1410\n",
      "weighted avg       0.94      0.94      0.94      1410\n",
      "\n",
      "Epoch [3], Train Loss : [0.32240] Val Loss : [0.17415] Val F1 Score : [0.81064]\n"
     ]
    },
    {
     "data": {
      "application/vnd.jupyter.widget-view+json": {
       "model_id": "b86aec38b93d48a392a718dcd78c84c6",
       "version_major": 2,
       "version_minor": 0
      },
      "text/plain": [
       "  0%|          | 0/23 [00:00<?, ?it/s]"
      ]
     },
     "metadata": {},
     "output_type": "display_data"
    },
    {
     "data": {
      "application/vnd.jupyter.widget-view+json": {
       "model_id": "a7fef0ee6a104242b9dcc2e56ee8bdbd",
       "version_major": 2,
       "version_minor": 0
      },
      "text/plain": [
       "  0%|          | 0/6 [00:00<?, ?it/s]"
      ]
     },
     "metadata": {},
     "output_type": "display_data"
    },
    {
     "name": "stdout",
     "output_type": "stream",
     "text": [
      "[[1263   20]\n",
      " [  54   73]]\n",
      "              precision    recall  f1-score   support\n",
      "\n",
      "       0: 정상       0.96      0.98      0.97      1283\n",
      "       1: 이상       0.78      0.57      0.66       127\n",
      "\n",
      "    accuracy                           0.95      1410\n",
      "   macro avg       0.87      0.78      0.82      1410\n",
      "weighted avg       0.94      0.95      0.94      1410\n",
      "\n",
      "Epoch [4], Train Loss : [0.31504] Val Loss : [0.17127] Val F1 Score : [0.81759]\n",
      "Epoch 00005: reducing learning rate of group 0 to 5.0000e-03.\n"
     ]
    },
    {
     "data": {
      "application/vnd.jupyter.widget-view+json": {
       "model_id": "b00bea5924f34ce3a09fb2d0f3baf7ba",
       "version_major": 2,
       "version_minor": 0
      },
      "text/plain": [
       "  0%|          | 0/23 [00:00<?, ?it/s]"
      ]
     },
     "metadata": {},
     "output_type": "display_data"
    },
    {
     "data": {
      "application/vnd.jupyter.widget-view+json": {
       "model_id": "d1f333443c054f839032d3fb1e62221d",
       "version_major": 2,
       "version_minor": 0
      },
      "text/plain": [
       "  0%|          | 0/6 [00:00<?, ?it/s]"
      ]
     },
     "metadata": {},
     "output_type": "display_data"
    },
    {
     "name": "stdout",
     "output_type": "stream",
     "text": [
      "[[1233   50]\n",
      " [  46   81]]\n",
      "              precision    recall  f1-score   support\n",
      "\n",
      "       0: 정상       0.96      0.96      0.96      1283\n",
      "       1: 이상       0.62      0.64      0.63       127\n",
      "\n",
      "    accuracy                           0.93      1410\n",
      "   macro avg       0.79      0.80      0.80      1410\n",
      "weighted avg       0.93      0.93      0.93      1410\n",
      "\n",
      "Epoch [5], Train Loss : [0.32762] Val Loss : [0.17908] Val F1 Score : [0.79522]\n"
     ]
    },
    {
     "data": {
      "application/vnd.jupyter.widget-view+json": {
       "model_id": "81fb0bcd5b4442d8a801ea05dd66329e",
       "version_major": 2,
       "version_minor": 0
      },
      "text/plain": [
       "  0%|          | 0/23 [00:00<?, ?it/s]"
      ]
     },
     "metadata": {},
     "output_type": "display_data"
    },
    {
     "data": {
      "application/vnd.jupyter.widget-view+json": {
       "model_id": "64f5e554c9ec4107b9abdce13b2a65c9",
       "version_major": 2,
       "version_minor": 0
      },
      "text/plain": [
       "  0%|          | 0/6 [00:00<?, ?it/s]"
      ]
     },
     "metadata": {},
     "output_type": "display_data"
    },
    {
     "name": "stdout",
     "output_type": "stream",
     "text": [
      "[[1249   34]\n",
      " [  52   75]]\n",
      "              precision    recall  f1-score   support\n",
      "\n",
      "       0: 정상       0.96      0.97      0.97      1283\n",
      "       1: 이상       0.69      0.59      0.64       127\n",
      "\n",
      "    accuracy                           0.94      1410\n",
      "   macro avg       0.82      0.78      0.80      1410\n",
      "weighted avg       0.94      0.94      0.94      1410\n",
      "\n",
      "Epoch [6], Train Loss : [0.32068] Val Loss : [0.17928] Val F1 Score : [0.80116]\n",
      "Epoch 00007: reducing learning rate of group 0 to 2.5000e-03.\n"
     ]
    },
    {
     "data": {
      "application/vnd.jupyter.widget-view+json": {
       "model_id": "e2577e2208594a14bce824974b5a47ee",
       "version_major": 2,
       "version_minor": 0
      },
      "text/plain": [
       "  0%|          | 0/23 [00:00<?, ?it/s]"
      ]
     },
     "metadata": {},
     "output_type": "display_data"
    },
    {
     "data": {
      "application/vnd.jupyter.widget-view+json": {
       "model_id": "32b6c6f4e3a44fe0b5fc17f844ba383b",
       "version_major": 2,
       "version_minor": 0
      },
      "text/plain": [
       "  0%|          | 0/6 [00:00<?, ?it/s]"
      ]
     },
     "metadata": {},
     "output_type": "display_data"
    },
    {
     "name": "stdout",
     "output_type": "stream",
     "text": [
      "[[1243   40]\n",
      " [  51   76]]\n",
      "              precision    recall  f1-score   support\n",
      "\n",
      "       0: 정상       0.96      0.97      0.96      1283\n",
      "       1: 이상       0.66      0.60      0.63       127\n",
      "\n",
      "    accuracy                           0.94      1410\n",
      "   macro avg       0.81      0.78      0.80      1410\n",
      "weighted avg       0.93      0.94      0.93      1410\n",
      "\n",
      "Epoch [7], Train Loss : [0.31000] Val Loss : [0.18154] Val F1 Score : [0.79510]\n"
     ]
    },
    {
     "data": {
      "application/vnd.jupyter.widget-view+json": {
       "model_id": "46e1640dde89456e91ca73af48b6e89d",
       "version_major": 2,
       "version_minor": 0
      },
      "text/plain": [
       "  0%|          | 0/23 [00:00<?, ?it/s]"
      ]
     },
     "metadata": {},
     "output_type": "display_data"
    },
    {
     "data": {
      "application/vnd.jupyter.widget-view+json": {
       "model_id": "b7fd632e045f401182abfe8143b5f914",
       "version_major": 2,
       "version_minor": 0
      },
      "text/plain": [
       "  0%|          | 0/6 [00:00<?, ?it/s]"
      ]
     },
     "metadata": {},
     "output_type": "display_data"
    },
    {
     "name": "stdout",
     "output_type": "stream",
     "text": [
      "[[1239   44]\n",
      " [  50   77]]\n",
      "              precision    recall  f1-score   support\n",
      "\n",
      "       0: 정상       0.96      0.97      0.96      1283\n",
      "       1: 이상       0.64      0.61      0.62       127\n",
      "\n",
      "    accuracy                           0.93      1410\n",
      "   macro avg       0.80      0.79      0.79      1410\n",
      "weighted avg       0.93      0.93      0.93      1410\n",
      "\n",
      "Epoch [8], Train Loss : [0.29792] Val Loss : [0.17453] Val F1 Score : [0.79221]\n",
      "Epoch 00009: reducing learning rate of group 0 to 1.2500e-03.\n"
     ]
    },
    {
     "data": {
      "application/vnd.jupyter.widget-view+json": {
       "model_id": "2ac37179286a460b9344186cf81ec686",
       "version_major": 2,
       "version_minor": 0
      },
      "text/plain": [
       "  0%|          | 0/23 [00:00<?, ?it/s]"
      ]
     },
     "metadata": {},
     "output_type": "display_data"
    },
    {
     "data": {
      "application/vnd.jupyter.widget-view+json": {
       "model_id": "af329d270ab94ed3a07755bcf22689cd",
       "version_major": 2,
       "version_minor": 0
      },
      "text/plain": [
       "  0%|          | 0/6 [00:00<?, ?it/s]"
      ]
     },
     "metadata": {},
     "output_type": "display_data"
    },
    {
     "name": "stdout",
     "output_type": "stream",
     "text": [
      "[[1240   43]\n",
      " [  50   77]]\n",
      "              precision    recall  f1-score   support\n",
      "\n",
      "       0: 정상       0.96      0.97      0.96      1283\n",
      "       1: 이상       0.64      0.61      0.62       127\n",
      "\n",
      "    accuracy                           0.93      1410\n",
      "   macro avg       0.80      0.79      0.79      1410\n",
      "weighted avg       0.93      0.93      0.93      1410\n",
      "\n",
      "Epoch [9], Train Loss : [0.30228] Val Loss : [0.17356] Val F1 Score : [0.79367]\n"
     ]
    },
    {
     "data": {
      "application/vnd.jupyter.widget-view+json": {
       "model_id": "d7465d337d9b4641bea1610464343f29",
       "version_major": 2,
       "version_minor": 0
      },
      "text/plain": [
       "  0%|          | 0/23 [00:00<?, ?it/s]"
      ]
     },
     "metadata": {},
     "output_type": "display_data"
    },
    {
     "data": {
      "application/vnd.jupyter.widget-view+json": {
       "model_id": "a80bad1a21b644738f01c205c6cbc7b0",
       "version_major": 2,
       "version_minor": 0
      },
      "text/plain": [
       "  0%|          | 0/6 [00:00<?, ?it/s]"
      ]
     },
     "metadata": {},
     "output_type": "display_data"
    },
    {
     "name": "stdout",
     "output_type": "stream",
     "text": [
      "[[1236   47]\n",
      " [  52   75]]\n",
      "              precision    recall  f1-score   support\n",
      "\n",
      "       0: 정상       0.96      0.96      0.96      1283\n",
      "       1: 이상       0.61      0.59      0.60       127\n",
      "\n",
      "    accuracy                           0.93      1410\n",
      "   macro avg       0.79      0.78      0.78      1410\n",
      "weighted avg       0.93      0.93      0.93      1410\n",
      "\n",
      "Epoch [10], Train Loss : [0.30493] Val Loss : [0.17374] Val F1 Score : [0.78195]\n",
      "Epoch 00011: reducing learning rate of group 0 to 6.2500e-04.\n"
     ]
    },
    {
     "data": {
      "application/vnd.jupyter.widget-view+json": {
       "model_id": "cbdd8034c6d143899ab508da435ddf35",
       "version_major": 2,
       "version_minor": 0
      },
      "text/plain": [
       "  0%|          | 0/23 [00:00<?, ?it/s]"
      ]
     },
     "metadata": {},
     "output_type": "display_data"
    },
    {
     "data": {
      "application/vnd.jupyter.widget-view+json": {
       "model_id": "cf7fb18c197d4a7eaab200342ceec867",
       "version_major": 2,
       "version_minor": 0
      },
      "text/plain": [
       "  0%|          | 0/6 [00:00<?, ?it/s]"
      ]
     },
     "metadata": {},
     "output_type": "display_data"
    },
    {
     "name": "stdout",
     "output_type": "stream",
     "text": [
      "[[1234   49]\n",
      " [  49   78]]\n",
      "              precision    recall  f1-score   support\n",
      "\n",
      "       0: 정상       0.96      0.96      0.96      1283\n",
      "       1: 이상       0.61      0.61      0.61       127\n",
      "\n",
      "    accuracy                           0.93      1410\n",
      "   macro avg       0.79      0.79      0.79      1410\n",
      "weighted avg       0.93      0.93      0.93      1410\n",
      "\n",
      "Epoch [11], Train Loss : [0.31028] Val Loss : [0.17543] Val F1 Score : [0.78799]\n"
     ]
    },
    {
     "data": {
      "application/vnd.jupyter.widget-view+json": {
       "model_id": "7cb0a13209684b508e0f2198474a58a5",
       "version_major": 2,
       "version_minor": 0
      },
      "text/plain": [
       "  0%|          | 0/23 [00:00<?, ?it/s]"
      ]
     },
     "metadata": {},
     "output_type": "display_data"
    },
    {
     "data": {
      "application/vnd.jupyter.widget-view+json": {
       "model_id": "8af72ce80e26480bbf8a9cfd8b242f26",
       "version_major": 2,
       "version_minor": 0
      },
      "text/plain": [
       "  0%|          | 0/6 [00:00<?, ?it/s]"
      ]
     },
     "metadata": {},
     "output_type": "display_data"
    },
    {
     "name": "stdout",
     "output_type": "stream",
     "text": [
      "[[1208   75]\n",
      " [  47   80]]\n",
      "              precision    recall  f1-score   support\n",
      "\n",
      "       0: 정상       0.96      0.94      0.95      1283\n",
      "       1: 이상       0.52      0.63      0.57       127\n",
      "\n",
      "    accuracy                           0.91      1410\n",
      "   macro avg       0.74      0.79      0.76      1410\n",
      "weighted avg       0.92      0.91      0.92      1410\n",
      "\n",
      "Epoch [12], Train Loss : [0.30316] Val Loss : [0.18024] Val F1 Score : [0.75965]\n",
      "Epoch 00013: reducing learning rate of group 0 to 3.1250e-04.\n"
     ]
    },
    {
     "data": {
      "application/vnd.jupyter.widget-view+json": {
       "model_id": "c4d18e4888154b3180f140238283c2d8",
       "version_major": 2,
       "version_minor": 0
      },
      "text/plain": [
       "  0%|          | 0/23 [00:00<?, ?it/s]"
      ]
     },
     "metadata": {},
     "output_type": "display_data"
    },
    {
     "data": {
      "application/vnd.jupyter.widget-view+json": {
       "model_id": "9bbc2ebebe3a4fb5a66d3cf34aacf422",
       "version_major": 2,
       "version_minor": 0
      },
      "text/plain": [
       "  0%|          | 0/6 [00:00<?, ?it/s]"
      ]
     },
     "metadata": {},
     "output_type": "display_data"
    },
    {
     "name": "stdout",
     "output_type": "stream",
     "text": [
      "[[1220   63]\n",
      " [  49   78]]\n",
      "              precision    recall  f1-score   support\n",
      "\n",
      "       0: 정상       0.96      0.95      0.96      1283\n",
      "       1: 이상       0.55      0.61      0.58       127\n",
      "\n",
      "    accuracy                           0.92      1410\n",
      "   macro avg       0.76      0.78      0.77      1410\n",
      "weighted avg       0.92      0.92      0.92      1410\n",
      "\n",
      "Epoch [13], Train Loss : [0.30547] Val Loss : [0.17671] Val F1 Score : [0.76910]\n"
     ]
    },
    {
     "data": {
      "application/vnd.jupyter.widget-view+json": {
       "model_id": "816f54ad238c43109cdcdbdad6a89e0e",
       "version_major": 2,
       "version_minor": 0
      },
      "text/plain": [
       "  0%|          | 0/23 [00:00<?, ?it/s]"
      ]
     },
     "metadata": {},
     "output_type": "display_data"
    },
    {
     "data": {
      "application/vnd.jupyter.widget-view+json": {
       "model_id": "c848c6bf9dbe431998802e571bc72b4a",
       "version_major": 2,
       "version_minor": 0
      },
      "text/plain": [
       "  0%|          | 0/6 [00:00<?, ?it/s]"
      ]
     },
     "metadata": {},
     "output_type": "display_data"
    },
    {
     "name": "stdout",
     "output_type": "stream",
     "text": [
      "[[1230   53]\n",
      " [  48   79]]\n",
      "              precision    recall  f1-score   support\n",
      "\n",
      "       0: 정상       0.96      0.96      0.96      1283\n",
      "       1: 이상       0.60      0.62      0.61       127\n",
      "\n",
      "    accuracy                           0.93      1410\n",
      "   macro avg       0.78      0.79      0.79      1410\n",
      "weighted avg       0.93      0.93      0.93      1410\n",
      "\n",
      "Epoch [14], Train Loss : [0.33613] Val Loss : [0.17461] Val F1 Score : [0.78530]\n",
      "Epoch 00015: reducing learning rate of group 0 to 1.5625e-04.\n"
     ]
    },
    {
     "data": {
      "application/vnd.jupyter.widget-view+json": {
       "model_id": "b4523ee123e447c689f0570527e75cf0",
       "version_major": 2,
       "version_minor": 0
      },
      "text/plain": [
       "  0%|          | 0/23 [00:00<?, ?it/s]"
      ]
     },
     "metadata": {},
     "output_type": "display_data"
    },
    {
     "data": {
      "application/vnd.jupyter.widget-view+json": {
       "model_id": "2d35a92e10944a0f8bc74f7da50444c8",
       "version_major": 2,
       "version_minor": 0
      },
      "text/plain": [
       "  0%|          | 0/6 [00:00<?, ?it/s]"
      ]
     },
     "metadata": {},
     "output_type": "display_data"
    },
    {
     "name": "stdout",
     "output_type": "stream",
     "text": [
      "[[1231   52]\n",
      " [  49   78]]\n",
      "              precision    recall  f1-score   support\n",
      "\n",
      "       0: 정상       0.96      0.96      0.96      1283\n",
      "       1: 이상       0.60      0.61      0.61       127\n",
      "\n",
      "    accuracy                           0.93      1410\n",
      "   macro avg       0.78      0.79      0.78      1410\n",
      "weighted avg       0.93      0.93      0.93      1410\n",
      "\n",
      "Epoch [15], Train Loss : [0.31075] Val Loss : [0.17478] Val F1 Score : [0.78380]\n"
     ]
    },
    {
     "data": {
      "application/vnd.jupyter.widget-view+json": {
       "model_id": "c2fd2863bbb94d30aeb51571afda34c8",
       "version_major": 2,
       "version_minor": 0
      },
      "text/plain": [
       "  0%|          | 0/23 [00:00<?, ?it/s]"
      ]
     },
     "metadata": {},
     "output_type": "display_data"
    },
    {
     "data": {
      "application/vnd.jupyter.widget-view+json": {
       "model_id": "b4a74cc7f4d5408d94a3bda273e0ae4a",
       "version_major": 2,
       "version_minor": 0
      },
      "text/plain": [
       "  0%|          | 0/6 [00:00<?, ?it/s]"
      ]
     },
     "metadata": {},
     "output_type": "display_data"
    },
    {
     "name": "stdout",
     "output_type": "stream",
     "text": [
      "[[1219   64]\n",
      " [  48   79]]\n",
      "              precision    recall  f1-score   support\n",
      "\n",
      "       0: 정상       0.96      0.95      0.96      1283\n",
      "       1: 이상       0.55      0.62      0.59       127\n",
      "\n",
      "    accuracy                           0.92      1410\n",
      "   macro avg       0.76      0.79      0.77      1410\n",
      "weighted avg       0.93      0.92      0.92      1410\n",
      "\n",
      "Epoch [16], Train Loss : [0.30472] Val Loss : [0.17711] Val F1 Score : [0.77063]\n",
      "Epoch 00017: reducing learning rate of group 0 to 7.8125e-05.\n"
     ]
    },
    {
     "data": {
      "application/vnd.jupyter.widget-view+json": {
       "model_id": "3ebd58453da746f0868f54c9045cf540",
       "version_major": 2,
       "version_minor": 0
      },
      "text/plain": [
       "  0%|          | 0/23 [00:00<?, ?it/s]"
      ]
     },
     "metadata": {},
     "output_type": "display_data"
    },
    {
     "data": {
      "application/vnd.jupyter.widget-view+json": {
       "model_id": "701d333983ad4cebae4e55c82c47398f",
       "version_major": 2,
       "version_minor": 0
      },
      "text/plain": [
       "  0%|          | 0/6 [00:00<?, ?it/s]"
      ]
     },
     "metadata": {},
     "output_type": "display_data"
    },
    {
     "name": "stdout",
     "output_type": "stream",
     "text": [
      "[[1232   51]\n",
      " [  49   78]]\n",
      "              precision    recall  f1-score   support\n",
      "\n",
      "       0: 정상       0.96      0.96      0.96      1283\n",
      "       1: 이상       0.60      0.61      0.61       127\n",
      "\n",
      "    accuracy                           0.93      1410\n",
      "   macro avg       0.78      0.79      0.79      1410\n",
      "weighted avg       0.93      0.93      0.93      1410\n",
      "\n",
      "Epoch [17], Train Loss : [0.30791] Val Loss : [0.17480] Val F1 Score : [0.78519]\n"
     ]
    },
    {
     "data": {
      "application/vnd.jupyter.widget-view+json": {
       "model_id": "9e666d977591428e9b33eab8731ceee5",
       "version_major": 2,
       "version_minor": 0
      },
      "text/plain": [
       "  0%|          | 0/23 [00:00<?, ?it/s]"
      ]
     },
     "metadata": {},
     "output_type": "display_data"
    },
    {
     "data": {
      "application/vnd.jupyter.widget-view+json": {
       "model_id": "194474936f6e4c9fbc81845a00c32e1a",
       "version_major": 2,
       "version_minor": 0
      },
      "text/plain": [
       "  0%|          | 0/6 [00:00<?, ?it/s]"
      ]
     },
     "metadata": {},
     "output_type": "display_data"
    },
    {
     "name": "stdout",
     "output_type": "stream",
     "text": [
      "[[1230   53]\n",
      " [  49   78]]\n",
      "              precision    recall  f1-score   support\n",
      "\n",
      "       0: 정상       0.96      0.96      0.96      1283\n",
      "       1: 이상       0.60      0.61      0.60       127\n",
      "\n",
      "    accuracy                           0.93      1410\n",
      "   macro avg       0.78      0.79      0.78      1410\n",
      "weighted avg       0.93      0.93      0.93      1410\n",
      "\n",
      "Epoch [18], Train Loss : [0.29396] Val Loss : [0.17549] Val F1 Score : [0.78242]\n",
      "Epoch 00019: reducing learning rate of group 0 to 3.9063e-05.\n"
     ]
    },
    {
     "data": {
      "application/vnd.jupyter.widget-view+json": {
       "model_id": "925ee15ec2ff490f8d7349969c443740",
       "version_major": 2,
       "version_minor": 0
      },
      "text/plain": [
       "  0%|          | 0/23 [00:00<?, ?it/s]"
      ]
     },
     "metadata": {},
     "output_type": "display_data"
    },
    {
     "data": {
      "application/vnd.jupyter.widget-view+json": {
       "model_id": "cf683928574d4a24acd1ab791eb50823",
       "version_major": 2,
       "version_minor": 0
      },
      "text/plain": [
       "  0%|          | 0/6 [00:00<?, ?it/s]"
      ]
     },
     "metadata": {},
     "output_type": "display_data"
    },
    {
     "name": "stdout",
     "output_type": "stream",
     "text": [
      "[[1223   60]\n",
      " [  48   79]]\n",
      "              precision    recall  f1-score   support\n",
      "\n",
      "       0: 정상       0.96      0.95      0.96      1283\n",
      "       1: 이상       0.57      0.62      0.59       127\n",
      "\n",
      "    accuracy                           0.92      1410\n",
      "   macro avg       0.77      0.79      0.78      1410\n",
      "weighted avg       0.93      0.92      0.92      1410\n",
      "\n",
      "Epoch [19], Train Loss : [0.30777] Val Loss : [0.17658] Val F1 Score : [0.77585]\n"
     ]
    },
    {
     "data": {
      "application/vnd.jupyter.widget-view+json": {
       "model_id": "9f012b41c1f4441f9953d26f0905e17b",
       "version_major": 2,
       "version_minor": 0
      },
      "text/plain": [
       "  0%|          | 0/23 [00:00<?, ?it/s]"
      ]
     },
     "metadata": {},
     "output_type": "display_data"
    },
    {
     "data": {
      "application/vnd.jupyter.widget-view+json": {
       "model_id": "f8bbebe33cbc47ff96f45fad9c5019e4",
       "version_major": 2,
       "version_minor": 0
      },
      "text/plain": [
       "  0%|          | 0/6 [00:00<?, ?it/s]"
      ]
     },
     "metadata": {},
     "output_type": "display_data"
    },
    {
     "name": "stdout",
     "output_type": "stream",
     "text": [
      "[[1227   56]\n",
      " [  48   79]]\n",
      "              precision    recall  f1-score   support\n",
      "\n",
      "       0: 정상       0.96      0.96      0.96      1283\n",
      "       1: 이상       0.59      0.62      0.60       127\n",
      "\n",
      "    accuracy                           0.93      1410\n",
      "   macro avg       0.77      0.79      0.78      1410\n",
      "weighted avg       0.93      0.93      0.93      1410\n",
      "\n",
      "Epoch [20], Train Loss : [0.30748] Val Loss : [0.17493] Val F1 Score : [0.78120]\n",
      "Epoch 00021: reducing learning rate of group 0 to 1.9531e-05.\n"
     ]
    },
    {
     "data": {
      "application/vnd.jupyter.widget-view+json": {
       "model_id": "62ce9d857d17460191464493b98c34d5",
       "version_major": 2,
       "version_minor": 0
      },
      "text/plain": [
       "  0%|          | 0/23 [00:00<?, ?it/s]"
      ]
     },
     "metadata": {},
     "output_type": "display_data"
    },
    {
     "data": {
      "application/vnd.jupyter.widget-view+json": {
       "model_id": "98824d7bf50f4835932a1f0e078594aa",
       "version_major": 2,
       "version_minor": 0
      },
      "text/plain": [
       "  0%|          | 0/6 [00:00<?, ?it/s]"
      ]
     },
     "metadata": {},
     "output_type": "display_data"
    },
    {
     "name": "stdout",
     "output_type": "stream",
     "text": [
      "[[1225   58]\n",
      " [  48   79]]\n",
      "              precision    recall  f1-score   support\n",
      "\n",
      "       0: 정상       0.96      0.95      0.96      1283\n",
      "       1: 이상       0.58      0.62      0.60       127\n",
      "\n",
      "    accuracy                           0.92      1410\n",
      "   macro avg       0.77      0.79      0.78      1410\n",
      "weighted avg       0.93      0.92      0.93      1410\n",
      "\n",
      "Epoch [21], Train Loss : [0.31022] Val Loss : [0.17661] Val F1 Score : [0.77851]\n"
     ]
    },
    {
     "data": {
      "application/vnd.jupyter.widget-view+json": {
       "model_id": "11286bd841884eff9a988f27abb31214",
       "version_major": 2,
       "version_minor": 0
      },
      "text/plain": [
       "  0%|          | 0/23 [00:00<?, ?it/s]"
      ]
     },
     "metadata": {},
     "output_type": "display_data"
    },
    {
     "data": {
      "application/vnd.jupyter.widget-view+json": {
       "model_id": "38795d864f6b497bae68882f466275bc",
       "version_major": 2,
       "version_minor": 0
      },
      "text/plain": [
       "  0%|          | 0/6 [00:00<?, ?it/s]"
      ]
     },
     "metadata": {},
     "output_type": "display_data"
    },
    {
     "name": "stdout",
     "output_type": "stream",
     "text": [
      "[[1236   47]\n",
      " [  49   78]]\n",
      "              precision    recall  f1-score   support\n",
      "\n",
      "       0: 정상       0.96      0.96      0.96      1283\n",
      "       1: 이상       0.62      0.61      0.62       127\n",
      "\n",
      "    accuracy                           0.93      1410\n",
      "   macro avg       0.79      0.79      0.79      1410\n",
      "weighted avg       0.93      0.93      0.93      1410\n",
      "\n",
      "Epoch [22], Train Loss : [0.30190] Val Loss : [0.17343] Val F1 Score : [0.79083]\n",
      "Epoch 00023: reducing learning rate of group 0 to 9.7656e-06.\n"
     ]
    },
    {
     "data": {
      "application/vnd.jupyter.widget-view+json": {
       "model_id": "1f317ca29c7640fb9795eb451321e6f0",
       "version_major": 2,
       "version_minor": 0
      },
      "text/plain": [
       "  0%|          | 0/23 [00:00<?, ?it/s]"
      ]
     },
     "metadata": {},
     "output_type": "display_data"
    },
    {
     "data": {
      "application/vnd.jupyter.widget-view+json": {
       "model_id": "6c048bfbe64746649e173b44baf81636",
       "version_major": 2,
       "version_minor": 0
      },
      "text/plain": [
       "  0%|          | 0/6 [00:00<?, ?it/s]"
      ]
     },
     "metadata": {},
     "output_type": "display_data"
    },
    {
     "name": "stdout",
     "output_type": "stream",
     "text": [
      "[[1232   51]\n",
      " [  49   78]]\n",
      "              precision    recall  f1-score   support\n",
      "\n",
      "       0: 정상       0.96      0.96      0.96      1283\n",
      "       1: 이상       0.60      0.61      0.61       127\n",
      "\n",
      "    accuracy                           0.93      1410\n",
      "   macro avg       0.78      0.79      0.79      1410\n",
      "weighted avg       0.93      0.93      0.93      1410\n",
      "\n",
      "Epoch [23], Train Loss : [0.30816] Val Loss : [0.17461] Val F1 Score : [0.78519]\n"
     ]
    },
    {
     "data": {
      "application/vnd.jupyter.widget-view+json": {
       "model_id": "7f8f70609fef44e6931fc2950b39c4e8",
       "version_major": 2,
       "version_minor": 0
      },
      "text/plain": [
       "  0%|          | 0/23 [00:00<?, ?it/s]"
      ]
     },
     "metadata": {},
     "output_type": "display_data"
    },
    {
     "data": {
      "application/vnd.jupyter.widget-view+json": {
       "model_id": "58ed0c84b82943d1860846594c206b57",
       "version_major": 2,
       "version_minor": 0
      },
      "text/plain": [
       "  0%|          | 0/6 [00:00<?, ?it/s]"
      ]
     },
     "metadata": {},
     "output_type": "display_data"
    },
    {
     "name": "stdout",
     "output_type": "stream",
     "text": [
      "[[1240   43]\n",
      " [  49   78]]\n",
      "              precision    recall  f1-score   support\n",
      "\n",
      "       0: 정상       0.96      0.97      0.96      1283\n",
      "       1: 이상       0.64      0.61      0.63       127\n",
      "\n",
      "    accuracy                           0.93      1410\n",
      "   macro avg       0.80      0.79      0.80      1410\n",
      "weighted avg       0.93      0.93      0.93      1410\n",
      "\n",
      "Epoch [24], Train Loss : [0.30669] Val Loss : [0.17329] Val F1 Score : [0.79663]\n",
      "Epoch 00025: reducing learning rate of group 0 to 4.8828e-06.\n"
     ]
    },
    {
     "data": {
      "application/vnd.jupyter.widget-view+json": {
       "model_id": "1981c7b7c16644a0aed450f1dfa35e9c",
       "version_major": 2,
       "version_minor": 0
      },
      "text/plain": [
       "  0%|          | 0/23 [00:00<?, ?it/s]"
      ]
     },
     "metadata": {},
     "output_type": "display_data"
    },
    {
     "data": {
      "application/vnd.jupyter.widget-view+json": {
       "model_id": "5479a3bb2b024874a009b3520cb93f81",
       "version_major": 2,
       "version_minor": 0
      },
      "text/plain": [
       "  0%|          | 0/6 [00:00<?, ?it/s]"
      ]
     },
     "metadata": {},
     "output_type": "display_data"
    },
    {
     "name": "stdout",
     "output_type": "stream",
     "text": [
      "[[1233   50]\n",
      " [  49   78]]\n",
      "              precision    recall  f1-score   support\n",
      "\n",
      "       0: 정상       0.96      0.96      0.96      1283\n",
      "       1: 이상       0.61      0.61      0.61       127\n",
      "\n",
      "    accuracy                           0.93      1410\n",
      "   macro avg       0.79      0.79      0.79      1410\n",
      "weighted avg       0.93      0.93      0.93      1410\n",
      "\n",
      "Epoch [25], Train Loss : [0.30614] Val Loss : [0.17411] Val F1 Score : [0.78658]\n"
     ]
    },
    {
     "data": {
      "application/vnd.jupyter.widget-view+json": {
       "model_id": "ddcd25132c2e416e86b4e004db3c515a",
       "version_major": 2,
       "version_minor": 0
      },
      "text/plain": [
       "  0%|          | 0/23 [00:00<?, ?it/s]"
      ]
     },
     "metadata": {},
     "output_type": "display_data"
    },
    {
     "data": {
      "application/vnd.jupyter.widget-view+json": {
       "model_id": "0475d93337594b4d8bcf106db23d8258",
       "version_major": 2,
       "version_minor": 0
      },
      "text/plain": [
       "  0%|          | 0/6 [00:00<?, ?it/s]"
      ]
     },
     "metadata": {},
     "output_type": "display_data"
    },
    {
     "name": "stdout",
     "output_type": "stream",
     "text": [
      "[[1223   60]\n",
      " [  49   78]]\n",
      "              precision    recall  f1-score   support\n",
      "\n",
      "       0: 정상       0.96      0.95      0.96      1283\n",
      "       1: 이상       0.57      0.61      0.59       127\n",
      "\n",
      "    accuracy                           0.92      1410\n",
      "   macro avg       0.76      0.78      0.77      1410\n",
      "weighted avg       0.93      0.92      0.92      1410\n",
      "\n",
      "Epoch [26], Train Loss : [0.28973] Val Loss : [0.17589] Val F1 Score : [0.77301]\n",
      "Epoch 00027: reducing learning rate of group 0 to 2.4414e-06.\n"
     ]
    },
    {
     "data": {
      "application/vnd.jupyter.widget-view+json": {
       "model_id": "761efad0e4e94be3bd8bc3b9e4864443",
       "version_major": 2,
       "version_minor": 0
      },
      "text/plain": [
       "  0%|          | 0/23 [00:00<?, ?it/s]"
      ]
     },
     "metadata": {},
     "output_type": "display_data"
    },
    {
     "data": {
      "application/vnd.jupyter.widget-view+json": {
       "model_id": "56843bf7df4b425a9da42376a9433209",
       "version_major": 2,
       "version_minor": 0
      },
      "text/plain": [
       "  0%|          | 0/6 [00:00<?, ?it/s]"
      ]
     },
     "metadata": {},
     "output_type": "display_data"
    },
    {
     "name": "stdout",
     "output_type": "stream",
     "text": [
      "[[1237   46]\n",
      " [  49   78]]\n",
      "              precision    recall  f1-score   support\n",
      "\n",
      "       0: 정상       0.96      0.96      0.96      1283\n",
      "       1: 이상       0.63      0.61      0.62       127\n",
      "\n",
      "    accuracy                           0.93      1410\n",
      "   macro avg       0.80      0.79      0.79      1410\n",
      "weighted avg       0.93      0.93      0.93      1410\n",
      "\n",
      "Epoch [27], Train Loss : [0.35342] Val Loss : [0.17319] Val F1 Score : [0.79227]\n"
     ]
    },
    {
     "data": {
      "application/vnd.jupyter.widget-view+json": {
       "model_id": "7f16cb9ddb984b1ab9acb6088e948956",
       "version_major": 2,
       "version_minor": 0
      },
      "text/plain": [
       "  0%|          | 0/23 [00:00<?, ?it/s]"
      ]
     },
     "metadata": {},
     "output_type": "display_data"
    },
    {
     "data": {
      "application/vnd.jupyter.widget-view+json": {
       "model_id": "95d815964f334b698284f74b7637ece2",
       "version_major": 2,
       "version_minor": 0
      },
      "text/plain": [
       "  0%|          | 0/6 [00:00<?, ?it/s]"
      ]
     },
     "metadata": {},
     "output_type": "display_data"
    },
    {
     "name": "stdout",
     "output_type": "stream",
     "text": [
      "[[1230   53]\n",
      " [  49   78]]\n",
      "              precision    recall  f1-score   support\n",
      "\n",
      "       0: 정상       0.96      0.96      0.96      1283\n",
      "       1: 이상       0.60      0.61      0.60       127\n",
      "\n",
      "    accuracy                           0.93      1410\n",
      "   macro avg       0.78      0.79      0.78      1410\n",
      "weighted avg       0.93      0.93      0.93      1410\n",
      "\n",
      "Epoch [28], Train Loss : [0.31165] Val Loss : [0.17466] Val F1 Score : [0.78242]\n",
      "Epoch 00029: reducing learning rate of group 0 to 1.2207e-06.\n"
     ]
    },
    {
     "data": {
      "application/vnd.jupyter.widget-view+json": {
       "model_id": "a8b958ae80294b9e8cf0c565970cdb6b",
       "version_major": 2,
       "version_minor": 0
      },
      "text/plain": [
       "  0%|          | 0/23 [00:00<?, ?it/s]"
      ]
     },
     "metadata": {},
     "output_type": "display_data"
    },
    {
     "data": {
      "application/vnd.jupyter.widget-view+json": {
       "model_id": "1aa9bfb156f94c9f80b17326a6a17918",
       "version_major": 2,
       "version_minor": 0
      },
      "text/plain": [
       "  0%|          | 0/6 [00:00<?, ?it/s]"
      ]
     },
     "metadata": {},
     "output_type": "display_data"
    },
    {
     "name": "stdout",
     "output_type": "stream",
     "text": [
      "[[1239   44]\n",
      " [  48   79]]\n",
      "              precision    recall  f1-score   support\n",
      "\n",
      "       0: 정상       0.96      0.97      0.96      1283\n",
      "       1: 이상       0.64      0.62      0.63       127\n",
      "\n",
      "    accuracy                           0.93      1410\n",
      "   macro avg       0.80      0.79      0.80      1410\n",
      "weighted avg       0.93      0.93      0.93      1410\n",
      "\n",
      "Epoch [29], Train Loss : [0.30151] Val Loss : [0.17277] Val F1 Score : [0.79810]\n",
      "Teacher Train Best Score는 0.8193002691272587 입니다.\n",
      "부분학습 종료\n",
      "******************************************************************************************************************************************************\n"
     ]
    },
    {
     "data": {
      "application/vnd.jupyter.widget-view+json": {
       "model_id": "ea82d6d35b944f1aaeef47215f50bd47",
       "version_major": 2,
       "version_minor": 0
      },
      "text/plain": [
       "  0%|          | 0/3 [00:00<?, ?it/s]"
      ]
     },
     "metadata": {},
     "output_type": "display_data"
    },
    {
     "data": {
      "application/vnd.jupyter.widget-view+json": {
       "model_id": "2137946aaa9248a980d00bb6302c2587",
       "version_major": 2,
       "version_minor": 0
      },
      "text/plain": [
       "  0%|          | 0/1 [00:00<?, ?it/s]"
      ]
     },
     "metadata": {},
     "output_type": "display_data"
    },
    {
     "name": "stdout",
     "output_type": "stream",
     "text": [
      "[[158   0]\n",
      " [ 10   0]]\n",
      "              precision    recall  f1-score   support\n",
      "\n",
      "       0: 정상       0.94      1.00      0.97       158\n",
      "       1: 이상       0.00      0.00      0.00        10\n",
      "\n",
      "    accuracy                           0.94       168\n",
      "   macro avg       0.47      0.50      0.48       168\n",
      "weighted avg       0.88      0.94      0.91       168\n",
      "\n",
      "Epoch [0], Train Loss : [0.52240] Val Loss : [0.71256] Val F1 Score : [0.48466]\n"
     ]
    },
    {
     "data": {
      "application/vnd.jupyter.widget-view+json": {
       "model_id": "a01da43999be43e9b6aa97d1d920afe5",
       "version_major": 2,
       "version_minor": 0
      },
      "text/plain": [
       "  0%|          | 0/3 [00:00<?, ?it/s]"
      ]
     },
     "metadata": {},
     "output_type": "display_data"
    },
    {
     "data": {
      "application/vnd.jupyter.widget-view+json": {
       "model_id": "95642a7a0156406ea5401f29dc05e9f7",
       "version_major": 2,
       "version_minor": 0
      },
      "text/plain": [
       "  0%|          | 0/1 [00:00<?, ?it/s]"
      ]
     },
     "metadata": {},
     "output_type": "display_data"
    },
    {
     "name": "stdout",
     "output_type": "stream",
     "text": [
      "[[154   4]\n",
      " [ 10   0]]\n",
      "              precision    recall  f1-score   support\n",
      "\n",
      "       0: 정상       0.94      0.97      0.96       158\n",
      "       1: 이상       0.00      0.00      0.00        10\n",
      "\n",
      "    accuracy                           0.92       168\n",
      "   macro avg       0.47      0.49      0.48       168\n",
      "weighted avg       0.88      0.92      0.90       168\n",
      "\n",
      "Epoch [1], Train Loss : [0.47863] Val Loss : [0.31789] Val F1 Score : [0.47826]\n"
     ]
    },
    {
     "data": {
      "application/vnd.jupyter.widget-view+json": {
       "model_id": "312a5b07add841399b02b4aca1163d72",
       "version_major": 2,
       "version_minor": 0
      },
      "text/plain": [
       "  0%|          | 0/3 [00:00<?, ?it/s]"
      ]
     },
     "metadata": {},
     "output_type": "display_data"
    },
    {
     "data": {
      "application/vnd.jupyter.widget-view+json": {
       "model_id": "5df51a1f00ed41a09740e27d4f066c6f",
       "version_major": 2,
       "version_minor": 0
      },
      "text/plain": [
       "  0%|          | 0/1 [00:00<?, ?it/s]"
      ]
     },
     "metadata": {},
     "output_type": "display_data"
    },
    {
     "name": "stdout",
     "output_type": "stream",
     "text": [
      "[[142  16]\n",
      " [  3   7]]\n",
      "              precision    recall  f1-score   support\n",
      "\n",
      "       0: 정상       0.98      0.90      0.94       158\n",
      "       1: 이상       0.30      0.70      0.42        10\n",
      "\n",
      "    accuracy                           0.89       168\n",
      "   macro avg       0.64      0.80      0.68       168\n",
      "weighted avg       0.94      0.89      0.91       168\n",
      "\n",
      "Epoch [2], Train Loss : [0.34733] Val Loss : [0.24965] Val F1 Score : [0.68077]\n"
     ]
    },
    {
     "data": {
      "application/vnd.jupyter.widget-view+json": {
       "model_id": "9c00e836fe7f48d7a44e7ea6bff44bc3",
       "version_major": 2,
       "version_minor": 0
      },
      "text/plain": [
       "  0%|          | 0/3 [00:00<?, ?it/s]"
      ]
     },
     "metadata": {},
     "output_type": "display_data"
    },
    {
     "data": {
      "application/vnd.jupyter.widget-view+json": {
       "model_id": "183181a2aed54e28bd6eebaddddaffa9",
       "version_major": 2,
       "version_minor": 0
      },
      "text/plain": [
       "  0%|          | 0/1 [00:00<?, ?it/s]"
      ]
     },
     "metadata": {},
     "output_type": "display_data"
    },
    {
     "name": "stdout",
     "output_type": "stream",
     "text": [
      "[[140  18]\n",
      " [  3   7]]\n",
      "              precision    recall  f1-score   support\n",
      "\n",
      "       0: 정상       0.98      0.89      0.93       158\n",
      "       1: 이상       0.28      0.70      0.40        10\n",
      "\n",
      "    accuracy                           0.88       168\n",
      "   macro avg       0.63      0.79      0.67       168\n",
      "weighted avg       0.94      0.88      0.90       168\n",
      "\n",
      "Epoch [3], Train Loss : [0.31841] Val Loss : [0.26788] Val F1 Score : [0.66512]\n"
     ]
    },
    {
     "data": {
      "application/vnd.jupyter.widget-view+json": {
       "model_id": "3dc629a5522449a48ad8c2961a4f7c3a",
       "version_major": 2,
       "version_minor": 0
      },
      "text/plain": [
       "  0%|          | 0/3 [00:00<?, ?it/s]"
      ]
     },
     "metadata": {},
     "output_type": "display_data"
    },
    {
     "data": {
      "application/vnd.jupyter.widget-view+json": {
       "model_id": "dc7c1bc0419048588bd452aa9d4ff283",
       "version_major": 2,
       "version_minor": 0
      },
      "text/plain": [
       "  0%|          | 0/1 [00:00<?, ?it/s]"
      ]
     },
     "metadata": {},
     "output_type": "display_data"
    },
    {
     "name": "stdout",
     "output_type": "stream",
     "text": [
      "[[140  18]\n",
      " [  3   7]]\n",
      "              precision    recall  f1-score   support\n",
      "\n",
      "       0: 정상       0.98      0.89      0.93       158\n",
      "       1: 이상       0.28      0.70      0.40        10\n",
      "\n",
      "    accuracy                           0.88       168\n",
      "   macro avg       0.63      0.79      0.67       168\n",
      "weighted avg       0.94      0.88      0.90       168\n",
      "\n",
      "Epoch [4], Train Loss : [0.30453] Val Loss : [0.22921] Val F1 Score : [0.66512]\n",
      "Epoch 00005: reducing learning rate of group 0 to 1.5000e-02.\n"
     ]
    },
    {
     "data": {
      "application/vnd.jupyter.widget-view+json": {
       "model_id": "8540b92a090744cd8c3f53f2c7e5b945",
       "version_major": 2,
       "version_minor": 0
      },
      "text/plain": [
       "  0%|          | 0/3 [00:00<?, ?it/s]"
      ]
     },
     "metadata": {},
     "output_type": "display_data"
    },
    {
     "data": {
      "application/vnd.jupyter.widget-view+json": {
       "model_id": "3ed0b27a12ad48ab8411a5814ce78a89",
       "version_major": 2,
       "version_minor": 0
      },
      "text/plain": [
       "  0%|          | 0/1 [00:00<?, ?it/s]"
      ]
     },
     "metadata": {},
     "output_type": "display_data"
    },
    {
     "name": "stdout",
     "output_type": "stream",
     "text": [
      "[[141  17]\n",
      " [  5   5]]\n",
      "              precision    recall  f1-score   support\n",
      "\n",
      "       0: 정상       0.97      0.89      0.93       158\n",
      "       1: 이상       0.23      0.50      0.31        10\n",
      "\n",
      "    accuracy                           0.87       168\n",
      "   macro avg       0.60      0.70      0.62       168\n",
      "weighted avg       0.92      0.87      0.89       168\n",
      "\n",
      "Epoch [5], Train Loss : [0.29893] Val Loss : [0.21472] Val F1 Score : [0.62007]\n"
     ]
    },
    {
     "data": {
      "application/vnd.jupyter.widget-view+json": {
       "model_id": "7c1ab02adc3d4f8b956b7bcd38593c86",
       "version_major": 2,
       "version_minor": 0
      },
      "text/plain": [
       "  0%|          | 0/3 [00:00<?, ?it/s]"
      ]
     },
     "metadata": {},
     "output_type": "display_data"
    },
    {
     "data": {
      "application/vnd.jupyter.widget-view+json": {
       "model_id": "f9a4eed8a7e141c88423d876fcde3423",
       "version_major": 2,
       "version_minor": 0
      },
      "text/plain": [
       "  0%|          | 0/1 [00:00<?, ?it/s]"
      ]
     },
     "metadata": {},
     "output_type": "display_data"
    },
    {
     "name": "stdout",
     "output_type": "stream",
     "text": [
      "[[141  17]\n",
      " [  5   5]]\n",
      "              precision    recall  f1-score   support\n",
      "\n",
      "       0: 정상       0.97      0.89      0.93       158\n",
      "       1: 이상       0.23      0.50      0.31        10\n",
      "\n",
      "    accuracy                           0.87       168\n",
      "   macro avg       0.60      0.70      0.62       168\n",
      "weighted avg       0.92      0.87      0.89       168\n",
      "\n",
      "Epoch [6], Train Loss : [0.29501] Val Loss : [0.21341] Val F1 Score : [0.62007]\n",
      "Epoch 00007: reducing learning rate of group 0 to 7.5000e-03.\n"
     ]
    },
    {
     "data": {
      "application/vnd.jupyter.widget-view+json": {
       "model_id": "78ebdb84727a481b8d9bcd9aaed199bc",
       "version_major": 2,
       "version_minor": 0
      },
      "text/plain": [
       "  0%|          | 0/3 [00:00<?, ?it/s]"
      ]
     },
     "metadata": {},
     "output_type": "display_data"
    },
    {
     "data": {
      "application/vnd.jupyter.widget-view+json": {
       "model_id": "1be09ed6cbb044b8942e875d5b847c9b",
       "version_major": 2,
       "version_minor": 0
      },
      "text/plain": [
       "  0%|          | 0/1 [00:00<?, ?it/s]"
      ]
     },
     "metadata": {},
     "output_type": "display_data"
    },
    {
     "name": "stdout",
     "output_type": "stream",
     "text": [
      "[[139  19]\n",
      " [  6   4]]\n",
      "              precision    recall  f1-score   support\n",
      "\n",
      "       0: 정상       0.96      0.88      0.92       158\n",
      "       1: 이상       0.17      0.40      0.24        10\n",
      "\n",
      "    accuracy                           0.85       168\n",
      "   macro avg       0.57      0.64      0.58       168\n",
      "weighted avg       0.91      0.85      0.88       168\n",
      "\n",
      "Epoch [7], Train Loss : [0.27934] Val Loss : [0.20325] Val F1 Score : [0.57996]\n"
     ]
    },
    {
     "data": {
      "application/vnd.jupyter.widget-view+json": {
       "model_id": "7ede59a0bf974880bcae688fcace4306",
       "version_major": 2,
       "version_minor": 0
      },
      "text/plain": [
       "  0%|          | 0/3 [00:00<?, ?it/s]"
      ]
     },
     "metadata": {},
     "output_type": "display_data"
    },
    {
     "data": {
      "application/vnd.jupyter.widget-view+json": {
       "model_id": "470f4e1315f64ed18aa6521425ff98af",
       "version_major": 2,
       "version_minor": 0
      },
      "text/plain": [
       "  0%|          | 0/1 [00:00<?, ?it/s]"
      ]
     },
     "metadata": {},
     "output_type": "display_data"
    },
    {
     "name": "stdout",
     "output_type": "stream",
     "text": [
      "[[141  17]\n",
      " [  5   5]]\n",
      "              precision    recall  f1-score   support\n",
      "\n",
      "       0: 정상       0.97      0.89      0.93       158\n",
      "       1: 이상       0.23      0.50      0.31        10\n",
      "\n",
      "    accuracy                           0.87       168\n",
      "   macro avg       0.60      0.70      0.62       168\n",
      "weighted avg       0.92      0.87      0.89       168\n",
      "\n",
      "Epoch [8], Train Loss : [0.31361] Val Loss : [0.19619] Val F1 Score : [0.62007]\n",
      "Epoch 00009: reducing learning rate of group 0 to 3.7500e-03.\n"
     ]
    },
    {
     "data": {
      "application/vnd.jupyter.widget-view+json": {
       "model_id": "94b4654cee84471fb95bc06749d7f26a",
       "version_major": 2,
       "version_minor": 0
      },
      "text/plain": [
       "  0%|          | 0/3 [00:00<?, ?it/s]"
      ]
     },
     "metadata": {},
     "output_type": "display_data"
    },
    {
     "data": {
      "application/vnd.jupyter.widget-view+json": {
       "model_id": "719d9fdf3d314e2481e4a092351c41d9",
       "version_major": 2,
       "version_minor": 0
      },
      "text/plain": [
       "  0%|          | 0/1 [00:00<?, ?it/s]"
      ]
     },
     "metadata": {},
     "output_type": "display_data"
    },
    {
     "name": "stdout",
     "output_type": "stream",
     "text": [
      "[[141  17]\n",
      " [  5   5]]\n",
      "              precision    recall  f1-score   support\n",
      "\n",
      "       0: 정상       0.97      0.89      0.93       158\n",
      "       1: 이상       0.23      0.50      0.31        10\n",
      "\n",
      "    accuracy                           0.87       168\n",
      "   macro avg       0.60      0.70      0.62       168\n",
      "weighted avg       0.92      0.87      0.89       168\n",
      "\n",
      "Epoch [9], Train Loss : [0.30502] Val Loss : [0.18844] Val F1 Score : [0.62007]\n"
     ]
    },
    {
     "data": {
      "application/vnd.jupyter.widget-view+json": {
       "model_id": "162bc30f07e8476ebae459246c9d4d08",
       "version_major": 2,
       "version_minor": 0
      },
      "text/plain": [
       "  0%|          | 0/3 [00:00<?, ?it/s]"
      ]
     },
     "metadata": {},
     "output_type": "display_data"
    },
    {
     "data": {
      "application/vnd.jupyter.widget-view+json": {
       "model_id": "ed575235361c4f57bbdaf611dc2b417d",
       "version_major": 2,
       "version_minor": 0
      },
      "text/plain": [
       "  0%|          | 0/1 [00:00<?, ?it/s]"
      ]
     },
     "metadata": {},
     "output_type": "display_data"
    },
    {
     "name": "stdout",
     "output_type": "stream",
     "text": [
      "[[142  16]\n",
      " [  5   5]]\n",
      "              precision    recall  f1-score   support\n",
      "\n",
      "       0: 정상       0.97      0.90      0.93       158\n",
      "       1: 이상       0.24      0.50      0.32        10\n",
      "\n",
      "    accuracy                           0.88       168\n",
      "   macro avg       0.60      0.70      0.63       168\n",
      "weighted avg       0.92      0.88      0.89       168\n",
      "\n",
      "Epoch [10], Train Loss : [0.30140] Val Loss : [0.18429] Val F1 Score : [0.62686]\n",
      "Epoch 00011: reducing learning rate of group 0 to 1.8750e-03.\n"
     ]
    },
    {
     "data": {
      "application/vnd.jupyter.widget-view+json": {
       "model_id": "705a52096e8a46fd99d5feae6b948380",
       "version_major": 2,
       "version_minor": 0
      },
      "text/plain": [
       "  0%|          | 0/3 [00:00<?, ?it/s]"
      ]
     },
     "metadata": {},
     "output_type": "display_data"
    },
    {
     "data": {
      "application/vnd.jupyter.widget-view+json": {
       "model_id": "5dccd47bf5364457bf2cbcce14fd23a8",
       "version_major": 2,
       "version_minor": 0
      },
      "text/plain": [
       "  0%|          | 0/1 [00:00<?, ?it/s]"
      ]
     },
     "metadata": {},
     "output_type": "display_data"
    },
    {
     "name": "stdout",
     "output_type": "stream",
     "text": [
      "[[143  15]\n",
      " [  5   5]]\n",
      "              precision    recall  f1-score   support\n",
      "\n",
      "       0: 정상       0.97      0.91      0.93       158\n",
      "       1: 이상       0.25      0.50      0.33        10\n",
      "\n",
      "    accuracy                           0.88       168\n",
      "   macro avg       0.61      0.70      0.63       168\n",
      "weighted avg       0.92      0.88      0.90       168\n",
      "\n",
      "Epoch [11], Train Loss : [0.29090] Val Loss : [0.18142] Val F1 Score : [0.63399]\n"
     ]
    },
    {
     "data": {
      "application/vnd.jupyter.widget-view+json": {
       "model_id": "93b5a308b0ee4ddbbd67d8a3c245ce0f",
       "version_major": 2,
       "version_minor": 0
      },
      "text/plain": [
       "  0%|          | 0/3 [00:00<?, ?it/s]"
      ]
     },
     "metadata": {},
     "output_type": "display_data"
    },
    {
     "data": {
      "application/vnd.jupyter.widget-view+json": {
       "model_id": "f72b972107ce423cb7230cf9155d72d2",
       "version_major": 2,
       "version_minor": 0
      },
      "text/plain": [
       "  0%|          | 0/1 [00:00<?, ?it/s]"
      ]
     },
     "metadata": {},
     "output_type": "display_data"
    },
    {
     "name": "stdout",
     "output_type": "stream",
     "text": [
      "[[142  16]\n",
      " [  5   5]]\n",
      "              precision    recall  f1-score   support\n",
      "\n",
      "       0: 정상       0.97      0.90      0.93       158\n",
      "       1: 이상       0.24      0.50      0.32        10\n",
      "\n",
      "    accuracy                           0.88       168\n",
      "   macro avg       0.60      0.70      0.63       168\n",
      "weighted avg       0.92      0.88      0.89       168\n",
      "\n",
      "Epoch [12], Train Loss : [0.29380] Val Loss : [0.17886] Val F1 Score : [0.62686]\n",
      "Epoch 00013: reducing learning rate of group 0 to 9.3750e-04.\n"
     ]
    },
    {
     "data": {
      "application/vnd.jupyter.widget-view+json": {
       "model_id": "d3322588c8054c058429b84d6c746ca7",
       "version_major": 2,
       "version_minor": 0
      },
      "text/plain": [
       "  0%|          | 0/3 [00:00<?, ?it/s]"
      ]
     },
     "metadata": {},
     "output_type": "display_data"
    },
    {
     "data": {
      "application/vnd.jupyter.widget-view+json": {
       "model_id": "3018b6ecaa28424d9e4ac5f526e0b239",
       "version_major": 2,
       "version_minor": 0
      },
      "text/plain": [
       "  0%|          | 0/1 [00:00<?, ?it/s]"
      ]
     },
     "metadata": {},
     "output_type": "display_data"
    },
    {
     "name": "stdout",
     "output_type": "stream",
     "text": [
      "[[144  14]\n",
      " [  5   5]]\n",
      "              precision    recall  f1-score   support\n",
      "\n",
      "       0: 정상       0.97      0.91      0.94       158\n",
      "       1: 이상       0.26      0.50      0.34        10\n",
      "\n",
      "    accuracy                           0.89       168\n",
      "   macro avg       0.61      0.71      0.64       168\n",
      "weighted avg       0.92      0.89      0.90       168\n",
      "\n",
      "Epoch [13], Train Loss : [0.27873] Val Loss : [0.17681] Val F1 Score : [0.64147]\n"
     ]
    },
    {
     "data": {
      "application/vnd.jupyter.widget-view+json": {
       "model_id": "2ab9002b38ad46d48db1f51e5084cc43",
       "version_major": 2,
       "version_minor": 0
      },
      "text/plain": [
       "  0%|          | 0/3 [00:00<?, ?it/s]"
      ]
     },
     "metadata": {},
     "output_type": "display_data"
    },
    {
     "data": {
      "application/vnd.jupyter.widget-view+json": {
       "model_id": "ebd13017255d438ca2bfb04e80c9070b",
       "version_major": 2,
       "version_minor": 0
      },
      "text/plain": [
       "  0%|          | 0/1 [00:00<?, ?it/s]"
      ]
     },
     "metadata": {},
     "output_type": "display_data"
    },
    {
     "name": "stdout",
     "output_type": "stream",
     "text": [
      "[[144  14]\n",
      " [  5   5]]\n",
      "              precision    recall  f1-score   support\n",
      "\n",
      "       0: 정상       0.97      0.91      0.94       158\n",
      "       1: 이상       0.26      0.50      0.34        10\n",
      "\n",
      "    accuracy                           0.89       168\n",
      "   macro avg       0.61      0.71      0.64       168\n",
      "weighted avg       0.92      0.89      0.90       168\n",
      "\n",
      "Epoch [14], Train Loss : [0.27827] Val Loss : [0.17511] Val F1 Score : [0.64147]\n",
      "Epoch 00015: reducing learning rate of group 0 to 4.6875e-04.\n"
     ]
    },
    {
     "data": {
      "application/vnd.jupyter.widget-view+json": {
       "model_id": "c60bc11106d04d50a621c7c4db452926",
       "version_major": 2,
       "version_minor": 0
      },
      "text/plain": [
       "  0%|          | 0/3 [00:00<?, ?it/s]"
      ]
     },
     "metadata": {},
     "output_type": "display_data"
    },
    {
     "data": {
      "application/vnd.jupyter.widget-view+json": {
       "model_id": "70b7e43e56d546c59ddff32a61dc2b9b",
       "version_major": 2,
       "version_minor": 0
      },
      "text/plain": [
       "  0%|          | 0/1 [00:00<?, ?it/s]"
      ]
     },
     "metadata": {},
     "output_type": "display_data"
    },
    {
     "name": "stdout",
     "output_type": "stream",
     "text": [
      "[[144  14]\n",
      " [  6   4]]\n",
      "              precision    recall  f1-score   support\n",
      "\n",
      "       0: 정상       0.96      0.91      0.94       158\n",
      "       1: 이상       0.22      0.40      0.29        10\n",
      "\n",
      "    accuracy                           0.88       168\n",
      "   macro avg       0.59      0.66      0.61       168\n",
      "weighted avg       0.92      0.88      0.90       168\n",
      "\n",
      "Epoch [15], Train Loss : [0.28698] Val Loss : [0.17372] Val F1 Score : [0.61039]\n"
     ]
    },
    {
     "data": {
      "application/vnd.jupyter.widget-view+json": {
       "model_id": "144c6264c23c47e6b4e951ac5b6d670b",
       "version_major": 2,
       "version_minor": 0
      },
      "text/plain": [
       "  0%|          | 0/3 [00:00<?, ?it/s]"
      ]
     },
     "metadata": {},
     "output_type": "display_data"
    },
    {
     "data": {
      "application/vnd.jupyter.widget-view+json": {
       "model_id": "9c3215eb9c024c3a993c9a0a027c894a",
       "version_major": 2,
       "version_minor": 0
      },
      "text/plain": [
       "  0%|          | 0/1 [00:00<?, ?it/s]"
      ]
     },
     "metadata": {},
     "output_type": "display_data"
    },
    {
     "name": "stdout",
     "output_type": "stream",
     "text": [
      "[[144  14]\n",
      " [  6   4]]\n",
      "              precision    recall  f1-score   support\n",
      "\n",
      "       0: 정상       0.96      0.91      0.94       158\n",
      "       1: 이상       0.22      0.40      0.29        10\n",
      "\n",
      "    accuracy                           0.88       168\n",
      "   macro avg       0.59      0.66      0.61       168\n",
      "weighted avg       0.92      0.88      0.90       168\n",
      "\n",
      "Epoch [16], Train Loss : [0.29512] Val Loss : [0.17294] Val F1 Score : [0.61039]\n",
      "Epoch 00017: reducing learning rate of group 0 to 2.3437e-04.\n"
     ]
    },
    {
     "data": {
      "application/vnd.jupyter.widget-view+json": {
       "model_id": "a928f73b24e34d3584473dd0a1e3fd36",
       "version_major": 2,
       "version_minor": 0
      },
      "text/plain": [
       "  0%|          | 0/3 [00:00<?, ?it/s]"
      ]
     },
     "metadata": {},
     "output_type": "display_data"
    },
    {
     "data": {
      "application/vnd.jupyter.widget-view+json": {
       "model_id": "503b93df7f2f4f5998c47766900a3484",
       "version_major": 2,
       "version_minor": 0
      },
      "text/plain": [
       "  0%|          | 0/1 [00:00<?, ?it/s]"
      ]
     },
     "metadata": {},
     "output_type": "display_data"
    },
    {
     "name": "stdout",
     "output_type": "stream",
     "text": [
      "[[144  14]\n",
      " [  6   4]]\n",
      "              precision    recall  f1-score   support\n",
      "\n",
      "       0: 정상       0.96      0.91      0.94       158\n",
      "       1: 이상       0.22      0.40      0.29        10\n",
      "\n",
      "    accuracy                           0.88       168\n",
      "   macro avg       0.59      0.66      0.61       168\n",
      "weighted avg       0.92      0.88      0.90       168\n",
      "\n",
      "Epoch [17], Train Loss : [0.29574] Val Loss : [0.17249] Val F1 Score : [0.61039]\n"
     ]
    },
    {
     "data": {
      "application/vnd.jupyter.widget-view+json": {
       "model_id": "c47e2563d1b34eeab4b74e0517e76826",
       "version_major": 2,
       "version_minor": 0
      },
      "text/plain": [
       "  0%|          | 0/3 [00:00<?, ?it/s]"
      ]
     },
     "metadata": {},
     "output_type": "display_data"
    },
    {
     "data": {
      "application/vnd.jupyter.widget-view+json": {
       "model_id": "1283e067b0a54ff4afca0567bd37f9da",
       "version_major": 2,
       "version_minor": 0
      },
      "text/plain": [
       "  0%|          | 0/1 [00:00<?, ?it/s]"
      ]
     },
     "metadata": {},
     "output_type": "display_data"
    },
    {
     "name": "stdout",
     "output_type": "stream",
     "text": [
      "[[144  14]\n",
      " [  7   3]]\n",
      "              precision    recall  f1-score   support\n",
      "\n",
      "       0: 정상       0.95      0.91      0.93       158\n",
      "       1: 이상       0.18      0.30      0.22        10\n",
      "\n",
      "    accuracy                           0.88       168\n",
      "   macro avg       0.57      0.61      0.58       168\n",
      "weighted avg       0.91      0.88      0.89       168\n",
      "\n",
      "Epoch [18], Train Loss : [0.28942] Val Loss : [0.17226] Val F1 Score : [0.57713]\n",
      "Epoch 00019: reducing learning rate of group 0 to 1.1719e-04.\n"
     ]
    },
    {
     "data": {
      "application/vnd.jupyter.widget-view+json": {
       "model_id": "dafb18a178e446e08b9b1dd0b98ec881",
       "version_major": 2,
       "version_minor": 0
      },
      "text/plain": [
       "  0%|          | 0/3 [00:00<?, ?it/s]"
      ]
     },
     "metadata": {},
     "output_type": "display_data"
    },
    {
     "data": {
      "application/vnd.jupyter.widget-view+json": {
       "model_id": "4a40a40222104329822308f8f494b5ff",
       "version_major": 2,
       "version_minor": 0
      },
      "text/plain": [
       "  0%|          | 0/1 [00:00<?, ?it/s]"
      ]
     },
     "metadata": {},
     "output_type": "display_data"
    },
    {
     "name": "stdout",
     "output_type": "stream",
     "text": [
      "[[145  13]\n",
      " [  7   3]]\n",
      "              precision    recall  f1-score   support\n",
      "\n",
      "       0: 정상       0.95      0.92      0.94       158\n",
      "       1: 이상       0.19      0.30      0.23        10\n",
      "\n",
      "    accuracy                           0.88       168\n",
      "   macro avg       0.57      0.61      0.58       168\n",
      "weighted avg       0.91      0.88      0.89       168\n",
      "\n",
      "Epoch [19], Train Loss : [0.29641] Val Loss : [0.17214] Val F1 Score : [0.58313]\n"
     ]
    },
    {
     "data": {
      "application/vnd.jupyter.widget-view+json": {
       "model_id": "ac3200ae3c904df9b8414af0b8ee3d33",
       "version_major": 2,
       "version_minor": 0
      },
      "text/plain": [
       "  0%|          | 0/3 [00:00<?, ?it/s]"
      ]
     },
     "metadata": {},
     "output_type": "display_data"
    },
    {
     "data": {
      "application/vnd.jupyter.widget-view+json": {
       "model_id": "dd5e05f6bec74559b5c5076b715db8b1",
       "version_major": 2,
       "version_minor": 0
      },
      "text/plain": [
       "  0%|          | 0/1 [00:00<?, ?it/s]"
      ]
     },
     "metadata": {},
     "output_type": "display_data"
    },
    {
     "name": "stdout",
     "output_type": "stream",
     "text": [
      "[[147  11]\n",
      " [  8   2]]\n",
      "              precision    recall  f1-score   support\n",
      "\n",
      "       0: 정상       0.95      0.93      0.94       158\n",
      "       1: 이상       0.15      0.20      0.17        10\n",
      "\n",
      "    accuracy                           0.89       168\n",
      "   macro avg       0.55      0.57      0.56       168\n",
      "weighted avg       0.90      0.89      0.89       168\n",
      "\n",
      "Epoch [20], Train Loss : [0.29076] Val Loss : [0.17169] Val F1 Score : [0.55661]\n",
      "Epoch 00021: reducing learning rate of group 0 to 5.8594e-05.\n"
     ]
    },
    {
     "data": {
      "application/vnd.jupyter.widget-view+json": {
       "model_id": "5ea1e08a1c104941b9682897b39cba80",
       "version_major": 2,
       "version_minor": 0
      },
      "text/plain": [
       "  0%|          | 0/3 [00:00<?, ?it/s]"
      ]
     },
     "metadata": {},
     "output_type": "display_data"
    },
    {
     "data": {
      "application/vnd.jupyter.widget-view+json": {
       "model_id": "927059e619204073977a7477c2d57c7d",
       "version_major": 2,
       "version_minor": 0
      },
      "text/plain": [
       "  0%|          | 0/1 [00:00<?, ?it/s]"
      ]
     },
     "metadata": {},
     "output_type": "display_data"
    },
    {
     "name": "stdout",
     "output_type": "stream",
     "text": [
      "[[147  11]\n",
      " [  8   2]]\n",
      "              precision    recall  f1-score   support\n",
      "\n",
      "       0: 정상       0.95      0.93      0.94       158\n",
      "       1: 이상       0.15      0.20      0.17        10\n",
      "\n",
      "    accuracy                           0.89       168\n",
      "   macro avg       0.55      0.57      0.56       168\n",
      "weighted avg       0.90      0.89      0.89       168\n",
      "\n",
      "Epoch [21], Train Loss : [0.28094] Val Loss : [0.17155] Val F1 Score : [0.55661]\n"
     ]
    },
    {
     "data": {
      "application/vnd.jupyter.widget-view+json": {
       "model_id": "93154cd531be4f4da09ff15cf72ec226",
       "version_major": 2,
       "version_minor": 0
      },
      "text/plain": [
       "  0%|          | 0/3 [00:00<?, ?it/s]"
      ]
     },
     "metadata": {},
     "output_type": "display_data"
    },
    {
     "data": {
      "application/vnd.jupyter.widget-view+json": {
       "model_id": "35ddafe8f37e4bf398c082824f6641cd",
       "version_major": 2,
       "version_minor": 0
      },
      "text/plain": [
       "  0%|          | 0/1 [00:00<?, ?it/s]"
      ]
     },
     "metadata": {},
     "output_type": "display_data"
    },
    {
     "name": "stdout",
     "output_type": "stream",
     "text": [
      "[[147  11]\n",
      " [  8   2]]\n",
      "              precision    recall  f1-score   support\n",
      "\n",
      "       0: 정상       0.95      0.93      0.94       158\n",
      "       1: 이상       0.15      0.20      0.17        10\n",
      "\n",
      "    accuracy                           0.89       168\n",
      "   macro avg       0.55      0.57      0.56       168\n",
      "weighted avg       0.90      0.89      0.89       168\n",
      "\n",
      "Epoch [22], Train Loss : [0.30887] Val Loss : [0.17109] Val F1 Score : [0.55661]\n",
      "Epoch 00023: reducing learning rate of group 0 to 2.9297e-05.\n"
     ]
    },
    {
     "data": {
      "application/vnd.jupyter.widget-view+json": {
       "model_id": "295bdff8a747487b890acd89df9d7ea5",
       "version_major": 2,
       "version_minor": 0
      },
      "text/plain": [
       "  0%|          | 0/3 [00:00<?, ?it/s]"
      ]
     },
     "metadata": {},
     "output_type": "display_data"
    },
    {
     "data": {
      "application/vnd.jupyter.widget-view+json": {
       "model_id": "0fad991069754e15bb36079c868e6a13",
       "version_major": 2,
       "version_minor": 0
      },
      "text/plain": [
       "  0%|          | 0/1 [00:00<?, ?it/s]"
      ]
     },
     "metadata": {},
     "output_type": "display_data"
    },
    {
     "name": "stdout",
     "output_type": "stream",
     "text": [
      "[[147  11]\n",
      " [  8   2]]\n",
      "              precision    recall  f1-score   support\n",
      "\n",
      "       0: 정상       0.95      0.93      0.94       158\n",
      "       1: 이상       0.15      0.20      0.17        10\n",
      "\n",
      "    accuracy                           0.89       168\n",
      "   macro avg       0.55      0.57      0.56       168\n",
      "weighted avg       0.90      0.89      0.89       168\n",
      "\n",
      "Epoch [23], Train Loss : [0.29266] Val Loss : [0.17100] Val F1 Score : [0.55661]\n"
     ]
    },
    {
     "data": {
      "application/vnd.jupyter.widget-view+json": {
       "model_id": "cd3f47daaf434cfd839edde092e7d1b3",
       "version_major": 2,
       "version_minor": 0
      },
      "text/plain": [
       "  0%|          | 0/3 [00:00<?, ?it/s]"
      ]
     },
     "metadata": {},
     "output_type": "display_data"
    },
    {
     "data": {
      "application/vnd.jupyter.widget-view+json": {
       "model_id": "8da92f084e7d4d39b654ed6df378431b",
       "version_major": 2,
       "version_minor": 0
      },
      "text/plain": [
       "  0%|          | 0/1 [00:00<?, ?it/s]"
      ]
     },
     "metadata": {},
     "output_type": "display_data"
    },
    {
     "name": "stdout",
     "output_type": "stream",
     "text": [
      "[[147  11]\n",
      " [  8   2]]\n",
      "              precision    recall  f1-score   support\n",
      "\n",
      "       0: 정상       0.95      0.93      0.94       158\n",
      "       1: 이상       0.15      0.20      0.17        10\n",
      "\n",
      "    accuracy                           0.89       168\n",
      "   macro avg       0.55      0.57      0.56       168\n",
      "weighted avg       0.90      0.89      0.89       168\n",
      "\n",
      "Epoch [24], Train Loss : [0.30506] Val Loss : [0.17128] Val F1 Score : [0.55661]\n",
      "Epoch 00025: reducing learning rate of group 0 to 1.4648e-05.\n"
     ]
    },
    {
     "data": {
      "application/vnd.jupyter.widget-view+json": {
       "model_id": "07569baca85b4ee5aefc559bc1111b91",
       "version_major": 2,
       "version_minor": 0
      },
      "text/plain": [
       "  0%|          | 0/3 [00:00<?, ?it/s]"
      ]
     },
     "metadata": {},
     "output_type": "display_data"
    },
    {
     "data": {
      "application/vnd.jupyter.widget-view+json": {
       "model_id": "d04c13c39cd344fe87278edc87727ef1",
       "version_major": 2,
       "version_minor": 0
      },
      "text/plain": [
       "  0%|          | 0/1 [00:00<?, ?it/s]"
      ]
     },
     "metadata": {},
     "output_type": "display_data"
    },
    {
     "name": "stdout",
     "output_type": "stream",
     "text": [
      "[[147  11]\n",
      " [  8   2]]\n",
      "              precision    recall  f1-score   support\n",
      "\n",
      "       0: 정상       0.95      0.93      0.94       158\n",
      "       1: 이상       0.15      0.20      0.17        10\n",
      "\n",
      "    accuracy                           0.89       168\n",
      "   macro avg       0.55      0.57      0.56       168\n",
      "weighted avg       0.90      0.89      0.89       168\n",
      "\n",
      "Epoch [25], Train Loss : [0.28233] Val Loss : [0.17126] Val F1 Score : [0.55661]\n"
     ]
    },
    {
     "data": {
      "application/vnd.jupyter.widget-view+json": {
       "model_id": "5949269d5ae24e3e893f6bda23d19144",
       "version_major": 2,
       "version_minor": 0
      },
      "text/plain": [
       "  0%|          | 0/3 [00:00<?, ?it/s]"
      ]
     },
     "metadata": {},
     "output_type": "display_data"
    },
    {
     "data": {
      "application/vnd.jupyter.widget-view+json": {
       "model_id": "3589c55f625347cbb3330b286f66432c",
       "version_major": 2,
       "version_minor": 0
      },
      "text/plain": [
       "  0%|          | 0/1 [00:00<?, ?it/s]"
      ]
     },
     "metadata": {},
     "output_type": "display_data"
    },
    {
     "name": "stdout",
     "output_type": "stream",
     "text": [
      "[[147  11]\n",
      " [  8   2]]\n",
      "              precision    recall  f1-score   support\n",
      "\n",
      "       0: 정상       0.95      0.93      0.94       158\n",
      "       1: 이상       0.15      0.20      0.17        10\n",
      "\n",
      "    accuracy                           0.89       168\n",
      "   macro avg       0.55      0.57      0.56       168\n",
      "weighted avg       0.90      0.89      0.89       168\n",
      "\n",
      "Epoch [26], Train Loss : [0.29791] Val Loss : [0.17149] Val F1 Score : [0.55661]\n",
      "Epoch 00027: reducing learning rate of group 0 to 7.3242e-06.\n"
     ]
    },
    {
     "data": {
      "application/vnd.jupyter.widget-view+json": {
       "model_id": "99c3fad155e24aaf88c3d8c9a56499cb",
       "version_major": 2,
       "version_minor": 0
      },
      "text/plain": [
       "  0%|          | 0/3 [00:00<?, ?it/s]"
      ]
     },
     "metadata": {},
     "output_type": "display_data"
    },
    {
     "data": {
      "application/vnd.jupyter.widget-view+json": {
       "model_id": "571cbc11393944ed9551081500b75db6",
       "version_major": 2,
       "version_minor": 0
      },
      "text/plain": [
       "  0%|          | 0/1 [00:00<?, ?it/s]"
      ]
     },
     "metadata": {},
     "output_type": "display_data"
    },
    {
     "name": "stdout",
     "output_type": "stream",
     "text": [
      "[[147  11]\n",
      " [  8   2]]\n",
      "              precision    recall  f1-score   support\n",
      "\n",
      "       0: 정상       0.95      0.93      0.94       158\n",
      "       1: 이상       0.15      0.20      0.17        10\n",
      "\n",
      "    accuracy                           0.89       168\n",
      "   macro avg       0.55      0.57      0.56       168\n",
      "weighted avg       0.90      0.89      0.89       168\n",
      "\n",
      "Epoch [27], Train Loss : [0.28172] Val Loss : [0.17114] Val F1 Score : [0.55661]\n"
     ]
    },
    {
     "data": {
      "application/vnd.jupyter.widget-view+json": {
       "model_id": "b5941e92b7fc4b0a944bb7ad3d207987",
       "version_major": 2,
       "version_minor": 0
      },
      "text/plain": [
       "  0%|          | 0/3 [00:00<?, ?it/s]"
      ]
     },
     "metadata": {},
     "output_type": "display_data"
    },
    {
     "data": {
      "application/vnd.jupyter.widget-view+json": {
       "model_id": "ac0d68c23ba44ce28fad1dbc05f1a776",
       "version_major": 2,
       "version_minor": 0
      },
      "text/plain": [
       "  0%|          | 0/1 [00:00<?, ?it/s]"
      ]
     },
     "metadata": {},
     "output_type": "display_data"
    },
    {
     "name": "stdout",
     "output_type": "stream",
     "text": [
      "[[148  10]\n",
      " [  8   2]]\n",
      "              precision    recall  f1-score   support\n",
      "\n",
      "       0: 정상       0.95      0.94      0.94       158\n",
      "       1: 이상       0.17      0.20      0.18        10\n",
      "\n",
      "    accuracy                           0.89       168\n",
      "   macro avg       0.56      0.57      0.56       168\n",
      "weighted avg       0.90      0.89      0.90       168\n",
      "\n",
      "Epoch [28], Train Loss : [0.29254] Val Loss : [0.17044] Val F1 Score : [0.56225]\n",
      "Epoch 00029: reducing learning rate of group 0 to 3.6621e-06.\n"
     ]
    },
    {
     "data": {
      "application/vnd.jupyter.widget-view+json": {
       "model_id": "616f4fe50c3049eaa406d7f94e2155d8",
       "version_major": 2,
       "version_minor": 0
      },
      "text/plain": [
       "  0%|          | 0/3 [00:00<?, ?it/s]"
      ]
     },
     "metadata": {},
     "output_type": "display_data"
    },
    {
     "data": {
      "application/vnd.jupyter.widget-view+json": {
       "model_id": "8dd68020a4364b23bcfe4bbbab683c45",
       "version_major": 2,
       "version_minor": 0
      },
      "text/plain": [
       "  0%|          | 0/1 [00:00<?, ?it/s]"
      ]
     },
     "metadata": {},
     "output_type": "display_data"
    },
    {
     "name": "stdout",
     "output_type": "stream",
     "text": [
      "[[148  10]\n",
      " [  8   2]]\n",
      "              precision    recall  f1-score   support\n",
      "\n",
      "       0: 정상       0.95      0.94      0.94       158\n",
      "       1: 이상       0.17      0.20      0.18        10\n",
      "\n",
      "    accuracy                           0.89       168\n",
      "   macro avg       0.56      0.57      0.56       168\n",
      "weighted avg       0.90      0.89      0.90       168\n",
      "\n",
      "Epoch [29], Train Loss : [0.27269] Val Loss : [0.17036] Val F1 Score : [0.56225]\n",
      "Teacher Train Best Score는 0.6807680768076807 입니다.\n",
      "부분학습 종료\n",
      "******************************************************************************************************************************************************\n",
      "전체 학습 종료\n",
      "Best_Scores : [0.8356817427511087, 0.8494288681204569, 0.8193002691272587, 0.6807680768076807]\n"
     ]
    }
   ],
   "source": [
    "teachers = []\n",
    "results = []\n",
    "num = 0\n",
    "\n",
    "for a, b, c, d in zip(train_loaders, val_loaders, train_X_list, test_list):\n",
    "    t_start_col_num = len(c.columns)\n",
    "    test_stage_features = d.iloc[:,:-1].columns\n",
    "#     s_start_col_num = len(d.columns)\n",
    "    \n",
    "    t_thresh = CFG[\"T_Thresh\"][num]\n",
    "    \n",
    "    model = Teacher()\n",
    "    model.eval()\n",
    "    optimizer = torch.optim.Adam(model.parameters(), lr=CFG['T_LEARNING_RATE'][num])\n",
    "    scheduler = torch.optim.lr_scheduler.ReduceLROnPlateau(optimizer, mode='max', factor=0.5, patience=1, threshold_mode='abs',min_lr=1e-8, verbose=True)\n",
    "    pred_labels = []\n",
    "    true_labels = []\n",
    "\n",
    "    teacher_model = train(model, optimizer, a, b, scheduler, device, t_thresh)\n",
    "    m, s = teacher_model\n",
    "    teachers.append(m)\n",
    "    results.append(s)\n",
    "    \n",
    "    print(\"부분학습 종료\")\n",
    "    \n",
    "    num += 1\n",
    "       \n",
    "    print(\"***\"*50)\n",
    "\n",
    "    \n",
    "print(\"전체 학습 종료\")\n",
    "print(f\"Best_Scores : {results}\")"
   ]
  },
  {
   "cell_type": "markdown",
   "id": "344cffe2",
   "metadata": {},
   "source": [
    "-Best_Scores : [0.8358817325031472, 0.7667412068576975, 0.8331679389312977, 0.6248138957816377]\n"
   ]
  },
  {
   "cell_type": "code",
   "execution_count": 687,
   "id": "0f48801f",
   "metadata": {},
   "outputs": [],
   "source": [
    "for i, teacher in enumerate(teachers):\n",
    "    PATH1 = f\"./models/{file_version}_{i}_teacher_net.pth\"\n",
    "    torch.save(teacher.state_dict(), PATH1)"
   ]
  },
  {
   "cell_type": "code",
   "execution_count": 688,
   "id": "85a48542",
   "metadata": {},
   "outputs": [],
   "source": [
    "class Student(nn.Module):\n",
    "    def __init__(self):\n",
    "        super(Student, self).__init__()\n",
    "        self.classifier = nn.Sequential(\n",
    "            nn.Linear(in_features=s_start_col_num, out_features=128),\n",
    "            nn.BatchNorm1d(128),\n",
    "            nn.Dropout(p=CFG['drop_rate']),\n",
    "            nn.LeakyReLU(),\n",
    "            nn.Linear(in_features=128, out_features=512),\n",
    "            nn.BatchNorm1d(512),\n",
    "            nn.Dropout(p=CFG['drop_rate']),\n",
    "            nn.LeakyReLU(),\n",
    "            nn.Linear(in_features=512, out_features=128),\n",
    "            nn.BatchNorm1d(128),\n",
    "            nn.Dropout(p=CFG['drop_rate']),\n",
    "            nn.LeakyReLU(),\n",
    "            nn.Linear(in_features=128, out_features=1),\n",
    "            nn.Dropout(p=CFG['drop_rate']),\n",
    "            nn.Sigmoid()\n",
    "        )\n",
    "        \n",
    "    def forward(self, x):\n",
    "        output = self.classifier(x)\n",
    "        return output"
   ]
  },
  {
   "cell_type": "code",
   "execution_count": 689,
   "id": "2c14e299",
   "metadata": {},
   "outputs": [],
   "source": [
    "# distillation Function 정의\n",
    "\n",
    "# def distillation(student_logits, labels, teacher_logits, alpha, T):\n",
    "def distillation(student_logits, labels, teacher_logits, alpha, T):\n",
    "\n",
    "    student_loss = nn.BCELoss(reduction = CFG['reduct'])(student_logits, labels.reshape(-1, 1)) #BCEWithLogitsLoss\n",
    "    \n",
    "#     distillation_loss = nn.BCELoss()(student_logits, teacher_logits)\n",
    "    distillation_loss = nn.KLDivLoss(reduction='batchmean')(F.log_softmax(student_logits/T, dim=1), F.softmax(teacher_logits/T, dim=1)) #* (T * T)\n",
    "    \n",
    "    return alpha * student_loss + (1-alpha) * distillation_loss\n",
    "\n",
    "def distill_loss(output, target, teacher_output, loss_fn=distillation, opt=optimizer):\n",
    "    loss_b = loss_fn(output, target, teacher_output, alpha=0.1, T=10)\n",
    "#     loss_b = loss_fn(output, target, teacher_output, alpha=CFG['alpha'])\n",
    "\n",
    "    if opt is not None:\n",
    "        opt.zero_grad()\n",
    "        loss_b.backward()\n",
    "        opt.step()\n",
    "\n",
    "    return loss_b.item()"
   ]
  },
  {
   "cell_type": "code",
   "execution_count": 690,
   "id": "f9f84cc9",
   "metadata": {},
   "outputs": [],
   "source": [
    "def student_train(s_model, t_model, optimizer, train_loader, val_loader, scheduler, device, s_thresh):\n",
    "    s_model.to(device)\n",
    "    t_model.to(device)\n",
    "    \n",
    "    best_score = 0\n",
    "    best_model = None\n",
    "\n",
    "    for epoch in range(CFG[\"EPOCHS\"]):\n",
    "        train_loss = []\n",
    "        s_model.train()\n",
    "        t_model.eval()    # teather는 이번에는 학습하지 않으므로 .eval()로 불러온다\n",
    "        \n",
    "        for X_t, X_s, y in tqdm(train_loader):\n",
    "            X_t = X_t.float().to(device)\n",
    "            X_s = X_s.float().to(device)\n",
    "            y = y.float().to(device)\n",
    "            \n",
    "            optimizer.zero_grad()\n",
    "\n",
    "            output = s_model(X_s)\n",
    "            with torch.no_grad():\n",
    "                teacher_output = t_model(X_t)\n",
    "                \n",
    "            loss_b = distill_loss(output, y, teacher_output, loss_fn=distillation, opt=optimizer)\n",
    "\n",
    "            train_loss.append(loss_b)\n",
    "\n",
    "        val_loss, val_score = validation_student(s_model, t_model, val_loader, distill_loss, device, s_thresh)\n",
    "        \n",
    "        print(f'Epoch [{epoch}], Train Loss : [{np.mean(train_loss) :.5f}] Val Loss : [{np.mean(val_loss) :.5f}] Val F1 Score : [{val_score:.5f}]')\n",
    "        \n",
    "        if scheduler is not None:\n",
    "            scheduler.step(val_score)\n",
    "            \n",
    "        if best_score < val_score:\n",
    "            best_model = s_model\n",
    "            best_score = val_score\n",
    "    \n",
    "    print(f\"Student Train Best Score는 {best_score} 입니다.\")\n",
    "        \n",
    "    return best_model, best_score"
   ]
  },
  {
   "cell_type": "code",
   "execution_count": 691,
   "id": "82f4a51b",
   "metadata": {},
   "outputs": [],
   "source": [
    "def validation_student(s_model, t_model, val_loader, criterion, device, s_thresh):\n",
    "    s_model.eval()\n",
    "    t_model.eval()\n",
    "\n",
    "    val_loss = []\n",
    "    pred_labels = []\n",
    "    true_labels = []\n",
    "    threshold = s_thresh\n",
    "    \n",
    "    with torch.no_grad():\n",
    "        for X_t, X_s, y in tqdm(val_loader):\n",
    "            X_t = X_t.float().to(device)\n",
    "            X_s = X_s.float().to(device)\n",
    "            y = y.float().to(device)\n",
    "            \n",
    "            model_pred = s_model(X_s)\n",
    "            teacher_output = t_model(X_t)\n",
    "            \n",
    "            loss_b = distill_loss(model_pred, y, teacher_output, loss_fn=distillation, opt=None)\n",
    "            val_loss.append(loss_b)\n",
    "            \n",
    "            model_pred = model_pred.squeeze(1).to('cpu')\n",
    "            pred_labels += model_pred.tolist()\n",
    "            true_labels += y.tolist()\n",
    "        \n",
    "        pred_labels = np.where(np.array(pred_labels) > threshold, 1, 0)\n",
    "        val_f1 = competition_metric(true_labels, pred_labels)\n",
    "        cf = confusion_matrix(true_labels, pred_labels)        \n",
    "        print(cf)\n",
    "        print(classification_report(true_labels, pred_labels, target_names=[\"0: 정상\", \"1: 이상\"]))\n",
    "        \n",
    "    return val_loss, val_f1    "
   ]
  },
  {
   "cell_type": "code",
   "execution_count": 692,
   "id": "d0d24858",
   "metadata": {},
   "outputs": [],
   "source": [
    "s_train_loaders = []\n",
    "s_val_loaders = []\n",
    "\n",
    "for a, b, c, d, e in zip(train_X_list, train_y_list, val_X_list, val_y_list, test_list):\n",
    "    \n",
    "    test_stage_features = e.iloc[:,:-1].columns\n",
    "    \n",
    "    train_dataset = CustomDataset(a, b, True)\n",
    "    val_dataset = CustomDataset(c, d, True)\n",
    "    \n",
    "    train_loader = DataLoader(train_dataset, batch_size = CFG['BATCH_SIZE'], shuffle=True)\n",
    "    val_loader = DataLoader(val_dataset, batch_size = CFG['BATCH_SIZE'], shuffle=False)\n",
    "    \n",
    "    \n",
    "    s_train_loaders.append(train_loader)\n",
    "    s_val_loaders.append(val_loader)\n"
   ]
  },
  {
   "cell_type": "code",
   "execution_count": 693,
   "id": "d220f999",
   "metadata": {
    "scrolled": true
   },
   "outputs": [
    {
     "data": {
      "application/vnd.jupyter.widget-view+json": {
       "model_id": "89890b15a4a54601b2967da34f533113",
       "version_major": 2,
       "version_minor": 0
      },
      "text/plain": [
       "  0%|          | 0/13 [00:00<?, ?it/s]"
      ]
     },
     "metadata": {},
     "output_type": "display_data"
    },
    {
     "data": {
      "application/vnd.jupyter.widget-view+json": {
       "model_id": "d41cca41919742ce936812dc14f45189",
       "version_major": 2,
       "version_minor": 0
      },
      "text/plain": [
       "  0%|          | 0/4 [00:00<?, ?it/s]"
      ]
     },
     "metadata": {},
     "output_type": "display_data"
    },
    {
     "name": "stdout",
     "output_type": "stream",
     "text": [
      "[[650  66]\n",
      " [ 52  10]]\n",
      "              precision    recall  f1-score   support\n",
      "\n",
      "       0: 정상       0.93      0.91      0.92       716\n",
      "       1: 이상       0.13      0.16      0.14        62\n",
      "\n",
      "    accuracy                           0.85       778\n",
      "   macro avg       0.53      0.53      0.53       778\n",
      "weighted avg       0.86      0.85      0.86       778\n",
      "\n",
      "Epoch [0], Train Loss : [0.05373] Val Loss : [0.03125] Val F1 Score : [0.53086]\n"
     ]
    },
    {
     "data": {
      "application/vnd.jupyter.widget-view+json": {
       "model_id": "16a2af23561142be8d619fc86b85c72c",
       "version_major": 2,
       "version_minor": 0
      },
      "text/plain": [
       "  0%|          | 0/13 [00:00<?, ?it/s]"
      ]
     },
     "metadata": {},
     "output_type": "display_data"
    },
    {
     "data": {
      "application/vnd.jupyter.widget-view+json": {
       "model_id": "b27fc530b7574deb99a5666b54d97427",
       "version_major": 2,
       "version_minor": 0
      },
      "text/plain": [
       "  0%|          | 0/4 [00:00<?, ?it/s]"
      ]
     },
     "metadata": {},
     "output_type": "display_data"
    },
    {
     "name": "stdout",
     "output_type": "stream",
     "text": [
      "[[687  29]\n",
      " [ 52  10]]\n",
      "              precision    recall  f1-score   support\n",
      "\n",
      "       0: 정상       0.93      0.96      0.94       716\n",
      "       1: 이상       0.26      0.16      0.20        62\n",
      "\n",
      "    accuracy                           0.90       778\n",
      "   macro avg       0.59      0.56      0.57       778\n",
      "weighted avg       0.88      0.90      0.88       778\n",
      "\n",
      "Epoch [1], Train Loss : [0.04192] Val Loss : [0.02610] Val F1 Score : [0.57117]\n"
     ]
    },
    {
     "data": {
      "application/vnd.jupyter.widget-view+json": {
       "model_id": "b8e806120ed5451887fd941d01541050",
       "version_major": 2,
       "version_minor": 0
      },
      "text/plain": [
       "  0%|          | 0/13 [00:00<?, ?it/s]"
      ]
     },
     "metadata": {},
     "output_type": "display_data"
    },
    {
     "data": {
      "application/vnd.jupyter.widget-view+json": {
       "model_id": "12675d49bc67461d8fb3a152e07610cc",
       "version_major": 2,
       "version_minor": 0
      },
      "text/plain": [
       "  0%|          | 0/4 [00:00<?, ?it/s]"
      ]
     },
     "metadata": {},
     "output_type": "display_data"
    },
    {
     "name": "stdout",
     "output_type": "stream",
     "text": [
      "[[679  37]\n",
      " [ 53   9]]\n",
      "              precision    recall  f1-score   support\n",
      "\n",
      "       0: 정상       0.93      0.95      0.94       716\n",
      "       1: 이상       0.20      0.15      0.17        62\n",
      "\n",
      "    accuracy                           0.88       778\n",
      "   macro avg       0.56      0.55      0.55       778\n",
      "weighted avg       0.87      0.88      0.88       778\n",
      "\n",
      "Epoch [2], Train Loss : [0.03974] Val Loss : [0.02468] Val F1 Score : [0.55226]\n"
     ]
    },
    {
     "data": {
      "application/vnd.jupyter.widget-view+json": {
       "model_id": "8aba815662ec4ad8b4bba601ec19d7ad",
       "version_major": 2,
       "version_minor": 0
      },
      "text/plain": [
       "  0%|          | 0/13 [00:00<?, ?it/s]"
      ]
     },
     "metadata": {},
     "output_type": "display_data"
    },
    {
     "data": {
      "application/vnd.jupyter.widget-view+json": {
       "model_id": "d75e9c954ee447a29251952e33503531",
       "version_major": 2,
       "version_minor": 0
      },
      "text/plain": [
       "  0%|          | 0/4 [00:00<?, ?it/s]"
      ]
     },
     "metadata": {},
     "output_type": "display_data"
    },
    {
     "name": "stdout",
     "output_type": "stream",
     "text": [
      "[[703  13]\n",
      " [ 56   6]]\n",
      "              precision    recall  f1-score   support\n",
      "\n",
      "       0: 정상       0.93      0.98      0.95       716\n",
      "       1: 이상       0.32      0.10      0.15        62\n",
      "\n",
      "    accuracy                           0.91       778\n",
      "   macro avg       0.62      0.54      0.55       778\n",
      "weighted avg       0.88      0.91      0.89       778\n",
      "\n",
      "Epoch [3], Train Loss : [0.03959] Val Loss : [0.02403] Val F1 Score : [0.55068]\n",
      "Epoch 00004: reducing learning rate of group 0 to 1.5000e-02.\n"
     ]
    },
    {
     "data": {
      "application/vnd.jupyter.widget-view+json": {
       "model_id": "69c559e5020a4d1d9f1d085013bba5d4",
       "version_major": 2,
       "version_minor": 0
      },
      "text/plain": [
       "  0%|          | 0/13 [00:00<?, ?it/s]"
      ]
     },
     "metadata": {},
     "output_type": "display_data"
    },
    {
     "data": {
      "application/vnd.jupyter.widget-view+json": {
       "model_id": "1d5d72d4b0f649f7b3ff974ac806f5bd",
       "version_major": 2,
       "version_minor": 0
      },
      "text/plain": [
       "  0%|          | 0/4 [00:00<?, ?it/s]"
      ]
     },
     "metadata": {},
     "output_type": "display_data"
    },
    {
     "name": "stdout",
     "output_type": "stream",
     "text": [
      "[[667  49]\n",
      " [ 49  13]]\n",
      "              precision    recall  f1-score   support\n",
      "\n",
      "       0: 정상       0.93      0.93      0.93       716\n",
      "       1: 이상       0.21      0.21      0.21        62\n",
      "\n",
      "    accuracy                           0.87       778\n",
      "   macro avg       0.57      0.57      0.57       778\n",
      "weighted avg       0.87      0.87      0.87       778\n",
      "\n",
      "Epoch [4], Train Loss : [0.03965] Val Loss : [0.02430] Val F1 Score : [0.57062]\n"
     ]
    },
    {
     "data": {
      "application/vnd.jupyter.widget-view+json": {
       "model_id": "c10668ed34e64f7eb03dafc5e03f9721",
       "version_major": 2,
       "version_minor": 0
      },
      "text/plain": [
       "  0%|          | 0/13 [00:00<?, ?it/s]"
      ]
     },
     "metadata": {},
     "output_type": "display_data"
    },
    {
     "data": {
      "application/vnd.jupyter.widget-view+json": {
       "model_id": "42abe758e3d848c49827ce56e6600069",
       "version_major": 2,
       "version_minor": 0
      },
      "text/plain": [
       "  0%|          | 0/4 [00:00<?, ?it/s]"
      ]
     },
     "metadata": {},
     "output_type": "display_data"
    },
    {
     "name": "stdout",
     "output_type": "stream",
     "text": [
      "[[709   7]\n",
      " [ 57   5]]\n",
      "              precision    recall  f1-score   support\n",
      "\n",
      "       0: 정상       0.93      0.99      0.96       716\n",
      "       1: 이상       0.42      0.08      0.14        62\n",
      "\n",
      "    accuracy                           0.92       778\n",
      "   macro avg       0.67      0.54      0.55       778\n",
      "weighted avg       0.89      0.92      0.89       778\n",
      "\n",
      "Epoch [5], Train Loss : [0.03843] Val Loss : [0.02319] Val F1 Score : [0.54598]\n",
      "Epoch 00006: reducing learning rate of group 0 to 7.5000e-03.\n"
     ]
    },
    {
     "data": {
      "application/vnd.jupyter.widget-view+json": {
       "model_id": "c1695987d59d425989a0fc300d89e9be",
       "version_major": 2,
       "version_minor": 0
      },
      "text/plain": [
       "  0%|          | 0/13 [00:00<?, ?it/s]"
      ]
     },
     "metadata": {},
     "output_type": "display_data"
    },
    {
     "data": {
      "application/vnd.jupyter.widget-view+json": {
       "model_id": "112f41c2685f4189841484a62dedfecc",
       "version_major": 2,
       "version_minor": 0
      },
      "text/plain": [
       "  0%|          | 0/4 [00:00<?, ?it/s]"
      ]
     },
     "metadata": {},
     "output_type": "display_data"
    },
    {
     "name": "stdout",
     "output_type": "stream",
     "text": [
      "[[700  16]\n",
      " [ 57   5]]\n",
      "              precision    recall  f1-score   support\n",
      "\n",
      "       0: 정상       0.92      0.98      0.95       716\n",
      "       1: 이상       0.24      0.08      0.12        62\n",
      "\n",
      "    accuracy                           0.91       778\n",
      "   macro avg       0.58      0.53      0.54       778\n",
      "weighted avg       0.87      0.91      0.88       778\n",
      "\n",
      "Epoch [6], Train Loss : [0.03830] Val Loss : [0.02338] Val F1 Score : [0.53546]\n"
     ]
    },
    {
     "data": {
      "application/vnd.jupyter.widget-view+json": {
       "model_id": "51d7eb3febce47fa9b93c9da33748844",
       "version_major": 2,
       "version_minor": 0
      },
      "text/plain": [
       "  0%|          | 0/13 [00:00<?, ?it/s]"
      ]
     },
     "metadata": {},
     "output_type": "display_data"
    },
    {
     "data": {
      "application/vnd.jupyter.widget-view+json": {
       "model_id": "8f1debbedc0d4848bdf35ff58f3dddb3",
       "version_major": 2,
       "version_minor": 0
      },
      "text/plain": [
       "  0%|          | 0/4 [00:00<?, ?it/s]"
      ]
     },
     "metadata": {},
     "output_type": "display_data"
    },
    {
     "name": "stdout",
     "output_type": "stream",
     "text": [
      "[[695  21]\n",
      " [ 52  10]]\n",
      "              precision    recall  f1-score   support\n",
      "\n",
      "       0: 정상       0.93      0.97      0.95       716\n",
      "       1: 이상       0.32      0.16      0.22        62\n",
      "\n",
      "    accuracy                           0.91       778\n",
      "   macro avg       0.63      0.57      0.58       778\n",
      "weighted avg       0.88      0.91      0.89       778\n",
      "\n",
      "Epoch [7], Train Loss : [0.03860] Val Loss : [0.02343] Val F1 Score : [0.58258]\n"
     ]
    },
    {
     "data": {
      "application/vnd.jupyter.widget-view+json": {
       "model_id": "b362b8163041487aa3431cdcc554c232",
       "version_major": 2,
       "version_minor": 0
      },
      "text/plain": [
       "  0%|          | 0/13 [00:00<?, ?it/s]"
      ]
     },
     "metadata": {},
     "output_type": "display_data"
    },
    {
     "data": {
      "application/vnd.jupyter.widget-view+json": {
       "model_id": "ffc602de87814135a0cbbb9c0fabf7bc",
       "version_major": 2,
       "version_minor": 0
      },
      "text/plain": [
       "  0%|          | 0/4 [00:00<?, ?it/s]"
      ]
     },
     "metadata": {},
     "output_type": "display_data"
    },
    {
     "name": "stdout",
     "output_type": "stream",
     "text": [
      "[[696  20]\n",
      " [ 54   8]]\n",
      "              precision    recall  f1-score   support\n",
      "\n",
      "       0: 정상       0.93      0.97      0.95       716\n",
      "       1: 이상       0.29      0.13      0.18        62\n",
      "\n",
      "    accuracy                           0.90       778\n",
      "   macro avg       0.61      0.55      0.56       778\n",
      "weighted avg       0.88      0.90      0.89       778\n",
      "\n",
      "Epoch [8], Train Loss : [0.03771] Val Loss : [0.02340] Val F1 Score : [0.56365]\n"
     ]
    },
    {
     "data": {
      "application/vnd.jupyter.widget-view+json": {
       "model_id": "2d8a23d8bf634c448eb9bff14ced4e83",
       "version_major": 2,
       "version_minor": 0
      },
      "text/plain": [
       "  0%|          | 0/13 [00:00<?, ?it/s]"
      ]
     },
     "metadata": {},
     "output_type": "display_data"
    },
    {
     "data": {
      "application/vnd.jupyter.widget-view+json": {
       "model_id": "961fc2baf6cd40699c048ed08984ecfe",
       "version_major": 2,
       "version_minor": 0
      },
      "text/plain": [
       "  0%|          | 0/4 [00:00<?, ?it/s]"
      ]
     },
     "metadata": {},
     "output_type": "display_data"
    },
    {
     "name": "stdout",
     "output_type": "stream",
     "text": [
      "[[700  16]\n",
      " [ 55   7]]\n",
      "              precision    recall  f1-score   support\n",
      "\n",
      "       0: 정상       0.93      0.98      0.95       716\n",
      "       1: 이상       0.30      0.11      0.16        62\n",
      "\n",
      "    accuracy                           0.91       778\n",
      "   macro avg       0.62      0.55      0.56       778\n",
      "weighted avg       0.88      0.91      0.89       778\n",
      "\n",
      "Epoch [9], Train Loss : [0.03725] Val Loss : [0.02292] Val F1 Score : [0.55822]\n",
      "Epoch 00010: reducing learning rate of group 0 to 3.7500e-03.\n"
     ]
    },
    {
     "data": {
      "application/vnd.jupyter.widget-view+json": {
       "model_id": "d28aa9a72d894a12ad384e5431542f9d",
       "version_major": 2,
       "version_minor": 0
      },
      "text/plain": [
       "  0%|          | 0/13 [00:00<?, ?it/s]"
      ]
     },
     "metadata": {},
     "output_type": "display_data"
    },
    {
     "data": {
      "application/vnd.jupyter.widget-view+json": {
       "model_id": "595193a2cec14672a79cc2a5edf502da",
       "version_major": 2,
       "version_minor": 0
      },
      "text/plain": [
       "  0%|          | 0/4 [00:00<?, ?it/s]"
      ]
     },
     "metadata": {},
     "output_type": "display_data"
    },
    {
     "name": "stdout",
     "output_type": "stream",
     "text": [
      "[[695  21]\n",
      " [ 55   7]]\n",
      "              precision    recall  f1-score   support\n",
      "\n",
      "       0: 정상       0.93      0.97      0.95       716\n",
      "       1: 이상       0.25      0.11      0.16        62\n",
      "\n",
      "    accuracy                           0.90       778\n",
      "   macro avg       0.59      0.54      0.55       778\n",
      "weighted avg       0.87      0.90      0.88       778\n",
      "\n",
      "Epoch [10], Train Loss : [0.03761] Val Loss : [0.02329] Val F1 Score : [0.55186]\n"
     ]
    },
    {
     "data": {
      "application/vnd.jupyter.widget-view+json": {
       "model_id": "2c5c83614db34c3f96e405dedee12bf9",
       "version_major": 2,
       "version_minor": 0
      },
      "text/plain": [
       "  0%|          | 0/13 [00:00<?, ?it/s]"
      ]
     },
     "metadata": {},
     "output_type": "display_data"
    },
    {
     "data": {
      "application/vnd.jupyter.widget-view+json": {
       "model_id": "2f943cf93b444a598fd1db317919b5ec",
       "version_major": 2,
       "version_minor": 0
      },
      "text/plain": [
       "  0%|          | 0/4 [00:00<?, ?it/s]"
      ]
     },
     "metadata": {},
     "output_type": "display_data"
    },
    {
     "name": "stdout",
     "output_type": "stream",
     "text": [
      "[[699  17]\n",
      " [ 55   7]]\n",
      "              precision    recall  f1-score   support\n",
      "\n",
      "       0: 정상       0.93      0.98      0.95       716\n",
      "       1: 이상       0.29      0.11      0.16        62\n",
      "\n",
      "    accuracy                           0.91       778\n",
      "   macro avg       0.61      0.54      0.56       778\n",
      "weighted avg       0.88      0.91      0.89       778\n",
      "\n",
      "Epoch [11], Train Loss : [0.04060] Val Loss : [0.02293] Val F1 Score : [0.55691]\n",
      "Epoch 00012: reducing learning rate of group 0 to 1.8750e-03.\n"
     ]
    },
    {
     "data": {
      "application/vnd.jupyter.widget-view+json": {
       "model_id": "767f9f1b4ff24db7a665203e19eee079",
       "version_major": 2,
       "version_minor": 0
      },
      "text/plain": [
       "  0%|          | 0/13 [00:00<?, ?it/s]"
      ]
     },
     "metadata": {},
     "output_type": "display_data"
    },
    {
     "data": {
      "application/vnd.jupyter.widget-view+json": {
       "model_id": "0def552d826d4f97a07514d392b1ca87",
       "version_major": 2,
       "version_minor": 0
      },
      "text/plain": [
       "  0%|          | 0/4 [00:00<?, ?it/s]"
      ]
     },
     "metadata": {},
     "output_type": "display_data"
    },
    {
     "name": "stdout",
     "output_type": "stream",
     "text": [
      "[[689  27]\n",
      " [ 53   9]]\n",
      "              precision    recall  f1-score   support\n",
      "\n",
      "       0: 정상       0.93      0.96      0.95       716\n",
      "       1: 이상       0.25      0.15      0.18        62\n",
      "\n",
      "    accuracy                           0.90       778\n",
      "   macro avg       0.59      0.55      0.56       778\n",
      "weighted avg       0.87      0.90      0.88       778\n",
      "\n",
      "Epoch [12], Train Loss : [0.03943] Val Loss : [0.02332] Val F1 Score : [0.56440]\n"
     ]
    },
    {
     "data": {
      "application/vnd.jupyter.widget-view+json": {
       "model_id": "9a8c5dfc972a44bfaed1051a89ac2728",
       "version_major": 2,
       "version_minor": 0
      },
      "text/plain": [
       "  0%|          | 0/13 [00:00<?, ?it/s]"
      ]
     },
     "metadata": {},
     "output_type": "display_data"
    },
    {
     "data": {
      "application/vnd.jupyter.widget-view+json": {
       "model_id": "c701b1911bb549fba91db62d2837035b",
       "version_major": 2,
       "version_minor": 0
      },
      "text/plain": [
       "  0%|          | 0/4 [00:00<?, ?it/s]"
      ]
     },
     "metadata": {},
     "output_type": "display_data"
    },
    {
     "name": "stdout",
     "output_type": "stream",
     "text": [
      "[[689  27]\n",
      " [ 53   9]]\n",
      "              precision    recall  f1-score   support\n",
      "\n",
      "       0: 정상       0.93      0.96      0.95       716\n",
      "       1: 이상       0.25      0.15      0.18        62\n",
      "\n",
      "    accuracy                           0.90       778\n",
      "   macro avg       0.59      0.55      0.56       778\n",
      "weighted avg       0.87      0.90      0.88       778\n",
      "\n",
      "Epoch [13], Train Loss : [0.03744] Val Loss : [0.02341] Val F1 Score : [0.56440]\n",
      "Epoch 00014: reducing learning rate of group 0 to 9.3750e-04.\n"
     ]
    },
    {
     "data": {
      "application/vnd.jupyter.widget-view+json": {
       "model_id": "5aefea464f6a4eab95ab184a123a3b0c",
       "version_major": 2,
       "version_minor": 0
      },
      "text/plain": [
       "  0%|          | 0/13 [00:00<?, ?it/s]"
      ]
     },
     "metadata": {},
     "output_type": "display_data"
    },
    {
     "data": {
      "application/vnd.jupyter.widget-view+json": {
       "model_id": "15ecbbb024a24404acffed8661e33bcc",
       "version_major": 2,
       "version_minor": 0
      },
      "text/plain": [
       "  0%|          | 0/4 [00:00<?, ?it/s]"
      ]
     },
     "metadata": {},
     "output_type": "display_data"
    },
    {
     "name": "stdout",
     "output_type": "stream",
     "text": [
      "[[691  25]\n",
      " [ 53   9]]\n",
      "              precision    recall  f1-score   support\n",
      "\n",
      "       0: 정상       0.93      0.97      0.95       716\n",
      "       1: 이상       0.26      0.15      0.19        62\n",
      "\n",
      "    accuracy                           0.90       778\n",
      "   macro avg       0.60      0.56      0.57       778\n",
      "weighted avg       0.88      0.90      0.89       778\n",
      "\n",
      "Epoch [14], Train Loss : [0.03753] Val Loss : [0.02325] Val F1 Score : [0.56704]\n"
     ]
    },
    {
     "data": {
      "application/vnd.jupyter.widget-view+json": {
       "model_id": "8c179e277d634507a650760ed6858042",
       "version_major": 2,
       "version_minor": 0
      },
      "text/plain": [
       "  0%|          | 0/13 [00:00<?, ?it/s]"
      ]
     },
     "metadata": {},
     "output_type": "display_data"
    },
    {
     "data": {
      "application/vnd.jupyter.widget-view+json": {
       "model_id": "010e83d1611b434d93105f853fbffdad",
       "version_major": 2,
       "version_minor": 0
      },
      "text/plain": [
       "  0%|          | 0/4 [00:00<?, ?it/s]"
      ]
     },
     "metadata": {},
     "output_type": "display_data"
    },
    {
     "name": "stdout",
     "output_type": "stream",
     "text": [
      "[[689  27]\n",
      " [ 54   8]]\n",
      "              precision    recall  f1-score   support\n",
      "\n",
      "       0: 정상       0.93      0.96      0.94       716\n",
      "       1: 이상       0.23      0.13      0.16        62\n",
      "\n",
      "    accuracy                           0.90       778\n",
      "   macro avg       0.58      0.55      0.55       778\n",
      "weighted avg       0.87      0.90      0.88       778\n",
      "\n",
      "Epoch [15], Train Loss : [0.03959] Val Loss : [0.02323] Val F1 Score : [0.55472]\n",
      "Epoch 00016: reducing learning rate of group 0 to 4.6875e-04.\n"
     ]
    },
    {
     "data": {
      "application/vnd.jupyter.widget-view+json": {
       "model_id": "308e5ac35e66471ba0d92177ab42d9f9",
       "version_major": 2,
       "version_minor": 0
      },
      "text/plain": [
       "  0%|          | 0/13 [00:00<?, ?it/s]"
      ]
     },
     "metadata": {},
     "output_type": "display_data"
    },
    {
     "data": {
      "application/vnd.jupyter.widget-view+json": {
       "model_id": "00033f73577d4e91adadc5b8c275401c",
       "version_major": 2,
       "version_minor": 0
      },
      "text/plain": [
       "  0%|          | 0/4 [00:00<?, ?it/s]"
      ]
     },
     "metadata": {},
     "output_type": "display_data"
    },
    {
     "name": "stdout",
     "output_type": "stream",
     "text": [
      "[[683  33]\n",
      " [ 53   9]]\n",
      "              precision    recall  f1-score   support\n",
      "\n",
      "       0: 정상       0.93      0.95      0.94       716\n",
      "       1: 이상       0.21      0.15      0.17        62\n",
      "\n",
      "    accuracy                           0.89       778\n",
      "   macro avg       0.57      0.55      0.56       778\n",
      "weighted avg       0.87      0.89      0.88       778\n",
      "\n",
      "Epoch [16], Train Loss : [0.03772] Val Loss : [0.02341] Val F1 Score : [0.55692]\n"
     ]
    },
    {
     "data": {
      "application/vnd.jupyter.widget-view+json": {
       "model_id": "a0577f3dd89e42be815b4e194e5faa2f",
       "version_major": 2,
       "version_minor": 0
      },
      "text/plain": [
       "  0%|          | 0/13 [00:00<?, ?it/s]"
      ]
     },
     "metadata": {},
     "output_type": "display_data"
    },
    {
     "data": {
      "application/vnd.jupyter.widget-view+json": {
       "model_id": "fdbcc753c35b41a6b07c76e3bc1b2a61",
       "version_major": 2,
       "version_minor": 0
      },
      "text/plain": [
       "  0%|          | 0/4 [00:00<?, ?it/s]"
      ]
     },
     "metadata": {},
     "output_type": "display_data"
    },
    {
     "name": "stdout",
     "output_type": "stream",
     "text": [
      "[[686  30]\n",
      " [ 54   8]]\n",
      "              precision    recall  f1-score   support\n",
      "\n",
      "       0: 정상       0.93      0.96      0.94       716\n",
      "       1: 이상       0.21      0.13      0.16        62\n",
      "\n",
      "    accuracy                           0.89       778\n",
      "   macro avg       0.57      0.54      0.55       778\n",
      "weighted avg       0.87      0.89      0.88       778\n",
      "\n",
      "Epoch [17], Train Loss : [0.03787] Val Loss : [0.02310] Val F1 Score : [0.55115]\n",
      "Epoch 00018: reducing learning rate of group 0 to 2.3437e-04.\n"
     ]
    },
    {
     "data": {
      "application/vnd.jupyter.widget-view+json": {
       "model_id": "7083da6260db46a7b98d889361dc9293",
       "version_major": 2,
       "version_minor": 0
      },
      "text/plain": [
       "  0%|          | 0/13 [00:00<?, ?it/s]"
      ]
     },
     "metadata": {},
     "output_type": "display_data"
    },
    {
     "data": {
      "application/vnd.jupyter.widget-view+json": {
       "model_id": "cbd0220fc87d401ebf1155c01fd98423",
       "version_major": 2,
       "version_minor": 0
      },
      "text/plain": [
       "  0%|          | 0/4 [00:00<?, ?it/s]"
      ]
     },
     "metadata": {},
     "output_type": "display_data"
    },
    {
     "name": "stdout",
     "output_type": "stream",
     "text": [
      "[[696  20]\n",
      " [ 54   8]]\n",
      "              precision    recall  f1-score   support\n",
      "\n",
      "       0: 정상       0.93      0.97      0.95       716\n",
      "       1: 이상       0.29      0.13      0.18        62\n",
      "\n",
      "    accuracy                           0.90       778\n",
      "   macro avg       0.61      0.55      0.56       778\n",
      "weighted avg       0.88      0.90      0.89       778\n",
      "\n",
      "Epoch [18], Train Loss : [0.03818] Val Loss : [0.02295] Val F1 Score : [0.56365]\n"
     ]
    },
    {
     "data": {
      "application/vnd.jupyter.widget-view+json": {
       "model_id": "b9c0893c3d954b27ab822b609a22417e",
       "version_major": 2,
       "version_minor": 0
      },
      "text/plain": [
       "  0%|          | 0/13 [00:00<?, ?it/s]"
      ]
     },
     "metadata": {},
     "output_type": "display_data"
    },
    {
     "data": {
      "application/vnd.jupyter.widget-view+json": {
       "model_id": "c78450d5f6474011a5b2c7cb53093648",
       "version_major": 2,
       "version_minor": 0
      },
      "text/plain": [
       "  0%|          | 0/4 [00:00<?, ?it/s]"
      ]
     },
     "metadata": {},
     "output_type": "display_data"
    },
    {
     "name": "stdout",
     "output_type": "stream",
     "text": [
      "[[688  28]\n",
      " [ 54   8]]\n",
      "              precision    recall  f1-score   support\n",
      "\n",
      "       0: 정상       0.93      0.96      0.94       716\n",
      "       1: 이상       0.22      0.13      0.16        62\n",
      "\n",
      "    accuracy                           0.89       778\n",
      "   macro avg       0.57      0.54      0.55       778\n",
      "weighted avg       0.87      0.89      0.88       778\n",
      "\n",
      "Epoch [19], Train Loss : [0.03698] Val Loss : [0.02303] Val F1 Score : [0.55351]\n",
      "Epoch 00020: reducing learning rate of group 0 to 1.1719e-04.\n"
     ]
    },
    {
     "data": {
      "application/vnd.jupyter.widget-view+json": {
       "model_id": "cf0f927bf1004325a38704ea44dcdeaf",
       "version_major": 2,
       "version_minor": 0
      },
      "text/plain": [
       "  0%|          | 0/13 [00:00<?, ?it/s]"
      ]
     },
     "metadata": {},
     "output_type": "display_data"
    },
    {
     "data": {
      "application/vnd.jupyter.widget-view+json": {
       "model_id": "e1c8fd193696470980cc1d32e8c327e6",
       "version_major": 2,
       "version_minor": 0
      },
      "text/plain": [
       "  0%|          | 0/4 [00:00<?, ?it/s]"
      ]
     },
     "metadata": {},
     "output_type": "display_data"
    },
    {
     "name": "stdout",
     "output_type": "stream",
     "text": [
      "[[692  24]\n",
      " [ 54   8]]\n",
      "              precision    recall  f1-score   support\n",
      "\n",
      "       0: 정상       0.93      0.97      0.95       716\n",
      "       1: 이상       0.25      0.13      0.17        62\n",
      "\n",
      "    accuracy                           0.90       778\n",
      "   macro avg       0.59      0.55      0.56       778\n",
      "weighted avg       0.87      0.90      0.88       778\n",
      "\n",
      "Epoch [20], Train Loss : [0.03687] Val Loss : [0.02302] Val F1 Score : [0.55843]\n"
     ]
    },
    {
     "data": {
      "application/vnd.jupyter.widget-view+json": {
       "model_id": "25e3f6473d32474eb21bb5780e5c96d2",
       "version_major": 2,
       "version_minor": 0
      },
      "text/plain": [
       "  0%|          | 0/13 [00:00<?, ?it/s]"
      ]
     },
     "metadata": {},
     "output_type": "display_data"
    },
    {
     "data": {
      "application/vnd.jupyter.widget-view+json": {
       "model_id": "9528d02c326b42ae97aa6c3669b9ff83",
       "version_major": 2,
       "version_minor": 0
      },
      "text/plain": [
       "  0%|          | 0/4 [00:00<?, ?it/s]"
      ]
     },
     "metadata": {},
     "output_type": "display_data"
    },
    {
     "name": "stdout",
     "output_type": "stream",
     "text": [
      "[[696  20]\n",
      " [ 54   8]]\n",
      "              precision    recall  f1-score   support\n",
      "\n",
      "       0: 정상       0.93      0.97      0.95       716\n",
      "       1: 이상       0.29      0.13      0.18        62\n",
      "\n",
      "    accuracy                           0.90       778\n",
      "   macro avg       0.61      0.55      0.56       778\n",
      "weighted avg       0.88      0.90      0.89       778\n",
      "\n",
      "Epoch [21], Train Loss : [0.03768] Val Loss : [0.02300] Val F1 Score : [0.56365]\n",
      "Epoch 00022: reducing learning rate of group 0 to 5.8594e-05.\n"
     ]
    },
    {
     "data": {
      "application/vnd.jupyter.widget-view+json": {
       "model_id": "7aca7be263a447969926dda3f678cb14",
       "version_major": 2,
       "version_minor": 0
      },
      "text/plain": [
       "  0%|          | 0/13 [00:00<?, ?it/s]"
      ]
     },
     "metadata": {},
     "output_type": "display_data"
    },
    {
     "data": {
      "application/vnd.jupyter.widget-view+json": {
       "model_id": "44348acf1f7a4d90afabfe55fd8c60bd",
       "version_major": 2,
       "version_minor": 0
      },
      "text/plain": [
       "  0%|          | 0/4 [00:00<?, ?it/s]"
      ]
     },
     "metadata": {},
     "output_type": "display_data"
    },
    {
     "name": "stdout",
     "output_type": "stream",
     "text": [
      "[[695  21]\n",
      " [ 54   8]]\n",
      "              precision    recall  f1-score   support\n",
      "\n",
      "       0: 정상       0.93      0.97      0.95       716\n",
      "       1: 이상       0.28      0.13      0.18        62\n",
      "\n",
      "    accuracy                           0.90       778\n",
      "   macro avg       0.60      0.55      0.56       778\n",
      "weighted avg       0.88      0.90      0.89       778\n",
      "\n",
      "Epoch [22], Train Loss : [0.03729] Val Loss : [0.02298] Val F1 Score : [0.56231]\n"
     ]
    },
    {
     "data": {
      "application/vnd.jupyter.widget-view+json": {
       "model_id": "264c5d0309d442678572b7c1998ce31f",
       "version_major": 2,
       "version_minor": 0
      },
      "text/plain": [
       "  0%|          | 0/13 [00:00<?, ?it/s]"
      ]
     },
     "metadata": {},
     "output_type": "display_data"
    },
    {
     "data": {
      "application/vnd.jupyter.widget-view+json": {
       "model_id": "58c27af8384042278c59872dbc2715a3",
       "version_major": 2,
       "version_minor": 0
      },
      "text/plain": [
       "  0%|          | 0/4 [00:00<?, ?it/s]"
      ]
     },
     "metadata": {},
     "output_type": "display_data"
    },
    {
     "name": "stdout",
     "output_type": "stream",
     "text": [
      "[[697  19]\n",
      " [ 54   8]]\n",
      "              precision    recall  f1-score   support\n",
      "\n",
      "       0: 정상       0.93      0.97      0.95       716\n",
      "       1: 이상       0.30      0.13      0.18        62\n",
      "\n",
      "    accuracy                           0.91       778\n",
      "   macro avg       0.61      0.55      0.57       778\n",
      "weighted avg       0.88      0.91      0.89       778\n",
      "\n",
      "Epoch [23], Train Loss : [0.03801] Val Loss : [0.02291] Val F1 Score : [0.56501]\n",
      "Epoch 00024: reducing learning rate of group 0 to 2.9297e-05.\n"
     ]
    },
    {
     "data": {
      "application/vnd.jupyter.widget-view+json": {
       "model_id": "9ac4d0df097440e3b4a63efde0a66f68",
       "version_major": 2,
       "version_minor": 0
      },
      "text/plain": [
       "  0%|          | 0/13 [00:00<?, ?it/s]"
      ]
     },
     "metadata": {},
     "output_type": "display_data"
    },
    {
     "data": {
      "application/vnd.jupyter.widget-view+json": {
       "model_id": "17c27216bdd74db6828cdee99e626f4d",
       "version_major": 2,
       "version_minor": 0
      },
      "text/plain": [
       "  0%|          | 0/4 [00:00<?, ?it/s]"
      ]
     },
     "metadata": {},
     "output_type": "display_data"
    },
    {
     "name": "stdout",
     "output_type": "stream",
     "text": [
      "[[692  24]\n",
      " [ 54   8]]\n",
      "              precision    recall  f1-score   support\n",
      "\n",
      "       0: 정상       0.93      0.97      0.95       716\n",
      "       1: 이상       0.25      0.13      0.17        62\n",
      "\n",
      "    accuracy                           0.90       778\n",
      "   macro avg       0.59      0.55      0.56       778\n",
      "weighted avg       0.87      0.90      0.88       778\n",
      "\n",
      "Epoch [24], Train Loss : [0.03906] Val Loss : [0.02303] Val F1 Score : [0.55843]\n"
     ]
    },
    {
     "data": {
      "application/vnd.jupyter.widget-view+json": {
       "model_id": "1720eb9080ba4d4cb61493f6a2238b6f",
       "version_major": 2,
       "version_minor": 0
      },
      "text/plain": [
       "  0%|          | 0/13 [00:00<?, ?it/s]"
      ]
     },
     "metadata": {},
     "output_type": "display_data"
    },
    {
     "data": {
      "application/vnd.jupyter.widget-view+json": {
       "model_id": "d26680d1765348efb9127ae4f21135e3",
       "version_major": 2,
       "version_minor": 0
      },
      "text/plain": [
       "  0%|          | 0/4 [00:00<?, ?it/s]"
      ]
     },
     "metadata": {},
     "output_type": "display_data"
    },
    {
     "name": "stdout",
     "output_type": "stream",
     "text": [
      "[[693  23]\n",
      " [ 54   8]]\n",
      "              precision    recall  f1-score   support\n",
      "\n",
      "       0: 정상       0.93      0.97      0.95       716\n",
      "       1: 이상       0.26      0.13      0.17        62\n",
      "\n",
      "    accuracy                           0.90       778\n",
      "   macro avg       0.59      0.55      0.56       778\n",
      "weighted avg       0.87      0.90      0.89       778\n",
      "\n",
      "Epoch [25], Train Loss : [0.03749] Val Loss : [0.02306] Val F1 Score : [0.55971]\n",
      "Epoch 00026: reducing learning rate of group 0 to 1.4648e-05.\n"
     ]
    },
    {
     "data": {
      "application/vnd.jupyter.widget-view+json": {
       "model_id": "49aa15af4b3d4aee9be953af08c696e4",
       "version_major": 2,
       "version_minor": 0
      },
      "text/plain": [
       "  0%|          | 0/13 [00:00<?, ?it/s]"
      ]
     },
     "metadata": {},
     "output_type": "display_data"
    },
    {
     "data": {
      "application/vnd.jupyter.widget-view+json": {
       "model_id": "addfb6416d4b422a984a01c6863f4f5e",
       "version_major": 2,
       "version_minor": 0
      },
      "text/plain": [
       "  0%|          | 0/4 [00:00<?, ?it/s]"
      ]
     },
     "metadata": {},
     "output_type": "display_data"
    },
    {
     "name": "stdout",
     "output_type": "stream",
     "text": [
      "[[697  19]\n",
      " [ 54   8]]\n",
      "              precision    recall  f1-score   support\n",
      "\n",
      "       0: 정상       0.93      0.97      0.95       716\n",
      "       1: 이상       0.30      0.13      0.18        62\n",
      "\n",
      "    accuracy                           0.91       778\n",
      "   macro avg       0.61      0.55      0.57       778\n",
      "weighted avg       0.88      0.91      0.89       778\n",
      "\n",
      "Epoch [26], Train Loss : [0.03833] Val Loss : [0.02284] Val F1 Score : [0.56501]\n"
     ]
    },
    {
     "data": {
      "application/vnd.jupyter.widget-view+json": {
       "model_id": "b4b1d2be4d1c49b98541388b00039fb4",
       "version_major": 2,
       "version_minor": 0
      },
      "text/plain": [
       "  0%|          | 0/13 [00:00<?, ?it/s]"
      ]
     },
     "metadata": {},
     "output_type": "display_data"
    },
    {
     "data": {
      "application/vnd.jupyter.widget-view+json": {
       "model_id": "0f8b3fb09cd8438caa8d3063566caf35",
       "version_major": 2,
       "version_minor": 0
      },
      "text/plain": [
       "  0%|          | 0/4 [00:00<?, ?it/s]"
      ]
     },
     "metadata": {},
     "output_type": "display_data"
    },
    {
     "name": "stdout",
     "output_type": "stream",
     "text": [
      "[[695  21]\n",
      " [ 55   7]]\n",
      "              precision    recall  f1-score   support\n",
      "\n",
      "       0: 정상       0.93      0.97      0.95       716\n",
      "       1: 이상       0.25      0.11      0.16        62\n",
      "\n",
      "    accuracy                           0.90       778\n",
      "   macro avg       0.59      0.54      0.55       778\n",
      "weighted avg       0.87      0.90      0.88       778\n",
      "\n",
      "Epoch [27], Train Loss : [0.03723] Val Loss : [0.02290] Val F1 Score : [0.55186]\n",
      "Epoch 00028: reducing learning rate of group 0 to 7.3242e-06.\n"
     ]
    },
    {
     "data": {
      "application/vnd.jupyter.widget-view+json": {
       "model_id": "6970428c620b45e0a4557eaf261ccfda",
       "version_major": 2,
       "version_minor": 0
      },
      "text/plain": [
       "  0%|          | 0/13 [00:00<?, ?it/s]"
      ]
     },
     "metadata": {},
     "output_type": "display_data"
    },
    {
     "data": {
      "application/vnd.jupyter.widget-view+json": {
       "model_id": "507c3776fe7345ae99a5224e648cdb96",
       "version_major": 2,
       "version_minor": 0
      },
      "text/plain": [
       "  0%|          | 0/4 [00:00<?, ?it/s]"
      ]
     },
     "metadata": {},
     "output_type": "display_data"
    },
    {
     "name": "stdout",
     "output_type": "stream",
     "text": [
      "[[692  24]\n",
      " [ 54   8]]\n",
      "              precision    recall  f1-score   support\n",
      "\n",
      "       0: 정상       0.93      0.97      0.95       716\n",
      "       1: 이상       0.25      0.13      0.17        62\n",
      "\n",
      "    accuracy                           0.90       778\n",
      "   macro avg       0.59      0.55      0.56       778\n",
      "weighted avg       0.87      0.90      0.88       778\n",
      "\n",
      "Epoch [28], Train Loss : [0.03808] Val Loss : [0.02306] Val F1 Score : [0.55843]\n"
     ]
    },
    {
     "data": {
      "application/vnd.jupyter.widget-view+json": {
       "model_id": "e491cdc9e41d4a2fbd5a9c56b31451da",
       "version_major": 2,
       "version_minor": 0
      },
      "text/plain": [
       "  0%|          | 0/13 [00:00<?, ?it/s]"
      ]
     },
     "metadata": {},
     "output_type": "display_data"
    },
    {
     "data": {
      "application/vnd.jupyter.widget-view+json": {
       "model_id": "53aa1a5c1fea4ea5a70057c18f06444a",
       "version_major": 2,
       "version_minor": 0
      },
      "text/plain": [
       "  0%|          | 0/4 [00:00<?, ?it/s]"
      ]
     },
     "metadata": {},
     "output_type": "display_data"
    },
    {
     "name": "stdout",
     "output_type": "stream",
     "text": [
      "[[691  25]\n",
      " [ 54   8]]\n",
      "              precision    recall  f1-score   support\n",
      "\n",
      "       0: 정상       0.93      0.97      0.95       716\n",
      "       1: 이상       0.24      0.13      0.17        62\n",
      "\n",
      "    accuracy                           0.90       778\n",
      "   macro avg       0.58      0.55      0.56       778\n",
      "weighted avg       0.87      0.90      0.88       778\n",
      "\n",
      "Epoch [29], Train Loss : [0.03840] Val Loss : [0.02312] Val F1 Score : [0.55717]\n",
      "Epoch 00030: reducing learning rate of group 0 to 3.6621e-06.\n",
      "Student Train Best Score는 0.5825781462453788 입니다.\n",
      "부분학습 종료\n",
      "----------------------------------------------------------------------\n"
     ]
    },
    {
     "data": {
      "application/vnd.jupyter.widget-view+json": {
       "model_id": "3091d4a6ef134056a2f0ca6e6456b73b",
       "version_major": 2,
       "version_minor": 0
      },
      "text/plain": [
       "  0%|          | 0/8 [00:00<?, ?it/s]"
      ]
     },
     "metadata": {},
     "output_type": "display_data"
    },
    {
     "data": {
      "application/vnd.jupyter.widget-view+json": {
       "model_id": "571e61ec71b5448e8831a432c6de68d2",
       "version_major": 2,
       "version_minor": 0
      },
      "text/plain": [
       "  0%|          | 0/2 [00:00<?, ?it/s]"
      ]
     },
     "metadata": {},
     "output_type": "display_data"
    },
    {
     "name": "stdout",
     "output_type": "stream",
     "text": [
      "[[  0 423]\n",
      " [  0  41]]\n",
      "              precision    recall  f1-score   support\n",
      "\n",
      "       0: 정상       0.00      0.00      0.00       423\n",
      "       1: 이상       0.09      1.00      0.16        41\n",
      "\n",
      "    accuracy                           0.09       464\n",
      "   macro avg       0.04      0.50      0.08       464\n",
      "weighted avg       0.01      0.09      0.01       464\n",
      "\n",
      "Epoch [0], Train Loss : [0.06591] Val Loss : [0.06684] Val F1 Score : [0.08119]\n"
     ]
    },
    {
     "data": {
      "application/vnd.jupyter.widget-view+json": {
       "model_id": "6b9e3ad2fa1e40a28cd1d11eb1c35a1d",
       "version_major": 2,
       "version_minor": 0
      },
      "text/plain": [
       "  0%|          | 0/8 [00:00<?, ?it/s]"
      ]
     },
     "metadata": {},
     "output_type": "display_data"
    },
    {
     "data": {
      "application/vnd.jupyter.widget-view+json": {
       "model_id": "a74e318fc49541688b8ef7e35ca6d5b1",
       "version_major": 2,
       "version_minor": 0
      },
      "text/plain": [
       "  0%|          | 0/2 [00:00<?, ?it/s]"
      ]
     },
     "metadata": {},
     "output_type": "display_data"
    },
    {
     "name": "stdout",
     "output_type": "stream",
     "text": [
      "[[  0 423]\n",
      " [  0  41]]\n",
      "              precision    recall  f1-score   support\n",
      "\n",
      "       0: 정상       0.00      0.00      0.00       423\n",
      "       1: 이상       0.09      1.00      0.16        41\n",
      "\n",
      "    accuracy                           0.09       464\n",
      "   macro avg       0.04      0.50      0.08       464\n",
      "weighted avg       0.01      0.09      0.01       464\n",
      "\n",
      "Epoch [1], Train Loss : [0.05273] Val Loss : [0.05777] Val F1 Score : [0.08119]\n"
     ]
    },
    {
     "data": {
      "application/vnd.jupyter.widget-view+json": {
       "model_id": "ccd4cdbabcd14ca2a0c5566118d5bd69",
       "version_major": 2,
       "version_minor": 0
      },
      "text/plain": [
       "  0%|          | 0/8 [00:00<?, ?it/s]"
      ]
     },
     "metadata": {},
     "output_type": "display_data"
    },
    {
     "data": {
      "application/vnd.jupyter.widget-view+json": {
       "model_id": "721a1f610f2b4d87a246d9ae860d1202",
       "version_major": 2,
       "version_minor": 0
      },
      "text/plain": [
       "  0%|          | 0/2 [00:00<?, ?it/s]"
      ]
     },
     "metadata": {},
     "output_type": "display_data"
    },
    {
     "name": "stdout",
     "output_type": "stream",
     "text": [
      "[[108 315]\n",
      " [  4  37]]\n",
      "              precision    recall  f1-score   support\n",
      "\n",
      "       0: 정상       0.96      0.26      0.40       423\n",
      "       1: 이상       0.11      0.90      0.19        41\n",
      "\n",
      "    accuracy                           0.31       464\n",
      "   macro avg       0.53      0.58      0.30       464\n",
      "weighted avg       0.89      0.31      0.38       464\n",
      "\n",
      "Epoch [2], Train Loss : [0.04447] Val Loss : [0.04667] Val F1 Score : [0.29602]\n"
     ]
    },
    {
     "data": {
      "application/vnd.jupyter.widget-view+json": {
       "model_id": "06d0cd5318934b0488e294e61cc9b277",
       "version_major": 2,
       "version_minor": 0
      },
      "text/plain": [
       "  0%|          | 0/8 [00:00<?, ?it/s]"
      ]
     },
     "metadata": {},
     "output_type": "display_data"
    },
    {
     "data": {
      "application/vnd.jupyter.widget-view+json": {
       "model_id": "53e3c4ac9cf44fbb881662bb4ce28895",
       "version_major": 2,
       "version_minor": 0
      },
      "text/plain": [
       "  0%|          | 0/2 [00:00<?, ?it/s]"
      ]
     },
     "metadata": {},
     "output_type": "display_data"
    },
    {
     "name": "stdout",
     "output_type": "stream",
     "text": [
      "[[310 113]\n",
      " [ 20  21]]\n",
      "              precision    recall  f1-score   support\n",
      "\n",
      "       0: 정상       0.94      0.73      0.82       423\n",
      "       1: 이상       0.16      0.51      0.24        41\n",
      "\n",
      "    accuracy                           0.71       464\n",
      "   macro avg       0.55      0.62      0.53       464\n",
      "weighted avg       0.87      0.71      0.77       464\n",
      "\n",
      "Epoch [3], Train Loss : [0.04241] Val Loss : [0.03970] Val F1 Score : [0.53169]\n"
     ]
    },
    {
     "data": {
      "application/vnd.jupyter.widget-view+json": {
       "model_id": "8ad40fe0b2984cb3afbd099e4f2f267e",
       "version_major": 2,
       "version_minor": 0
      },
      "text/plain": [
       "  0%|          | 0/8 [00:00<?, ?it/s]"
      ]
     },
     "metadata": {},
     "output_type": "display_data"
    },
    {
     "data": {
      "application/vnd.jupyter.widget-view+json": {
       "model_id": "9817e0d9d9c4447fa379d1dc9dce2a3a",
       "version_major": 2,
       "version_minor": 0
      },
      "text/plain": [
       "  0%|          | 0/2 [00:00<?, ?it/s]"
      ]
     },
     "metadata": {},
     "output_type": "display_data"
    },
    {
     "name": "stdout",
     "output_type": "stream",
     "text": [
      "[[338  85]\n",
      " [ 25  16]]\n",
      "              precision    recall  f1-score   support\n",
      "\n",
      "       0: 정상       0.93      0.80      0.86       423\n",
      "       1: 이상       0.16      0.39      0.23        41\n",
      "\n",
      "    accuracy                           0.76       464\n",
      "   macro avg       0.54      0.59      0.54       464\n",
      "weighted avg       0.86      0.76      0.80       464\n",
      "\n",
      "Epoch [4], Train Loss : [0.04313] Val Loss : [0.03771] Val F1 Score : [0.54270]\n"
     ]
    },
    {
     "data": {
      "application/vnd.jupyter.widget-view+json": {
       "model_id": "edd03c7040ee4d7892aa4fcdaf2f9b21",
       "version_major": 2,
       "version_minor": 0
      },
      "text/plain": [
       "  0%|          | 0/8 [00:00<?, ?it/s]"
      ]
     },
     "metadata": {},
     "output_type": "display_data"
    },
    {
     "data": {
      "application/vnd.jupyter.widget-view+json": {
       "model_id": "27eb67aea3b14af9bbe4418d1727ab36",
       "version_major": 2,
       "version_minor": 0
      },
      "text/plain": [
       "  0%|          | 0/2 [00:00<?, ?it/s]"
      ]
     },
     "metadata": {},
     "output_type": "display_data"
    },
    {
     "name": "stdout",
     "output_type": "stream",
     "text": [
      "[[368  55]\n",
      " [ 29  12]]\n",
      "              precision    recall  f1-score   support\n",
      "\n",
      "       0: 정상       0.93      0.87      0.90       423\n",
      "       1: 이상       0.18      0.29      0.22        41\n",
      "\n",
      "    accuracy                           0.82       464\n",
      "   macro avg       0.55      0.58      0.56       464\n",
      "weighted avg       0.86      0.82      0.84       464\n",
      "\n",
      "Epoch [5], Train Loss : [0.04284] Val Loss : [0.03506] Val F1 Score : [0.55989]\n"
     ]
    },
    {
     "data": {
      "application/vnd.jupyter.widget-view+json": {
       "model_id": "d52ec468bd78440997243ddf10be787b",
       "version_major": 2,
       "version_minor": 0
      },
      "text/plain": [
       "  0%|          | 0/8 [00:00<?, ?it/s]"
      ]
     },
     "metadata": {},
     "output_type": "display_data"
    },
    {
     "data": {
      "application/vnd.jupyter.widget-view+json": {
       "model_id": "ac4fa552f86b46769d0bd4c92ff3f92d",
       "version_major": 2,
       "version_minor": 0
      },
      "text/plain": [
       "  0%|          | 0/2 [00:00<?, ?it/s]"
      ]
     },
     "metadata": {},
     "output_type": "display_data"
    },
    {
     "name": "stdout",
     "output_type": "stream",
     "text": [
      "[[391  32]\n",
      " [ 33   8]]\n",
      "              precision    recall  f1-score   support\n",
      "\n",
      "       0: 정상       0.92      0.92      0.92       423\n",
      "       1: 이상       0.20      0.20      0.20        41\n",
      "\n",
      "    accuracy                           0.86       464\n",
      "   macro avg       0.56      0.56      0.56       464\n",
      "weighted avg       0.86      0.86      0.86       464\n",
      "\n",
      "Epoch [6], Train Loss : [0.04266] Val Loss : [0.03412] Val F1 Score : [0.56039]\n"
     ]
    },
    {
     "data": {
      "application/vnd.jupyter.widget-view+json": {
       "model_id": "5c4a75031c784eb199380e7e5e9a212a",
       "version_major": 2,
       "version_minor": 0
      },
      "text/plain": [
       "  0%|          | 0/8 [00:00<?, ?it/s]"
      ]
     },
     "metadata": {},
     "output_type": "display_data"
    },
    {
     "data": {
      "application/vnd.jupyter.widget-view+json": {
       "model_id": "a9c0b8f877cb4c64a49a82268c29d645",
       "version_major": 2,
       "version_minor": 0
      },
      "text/plain": [
       "  0%|          | 0/2 [00:00<?, ?it/s]"
      ]
     },
     "metadata": {},
     "output_type": "display_data"
    },
    {
     "name": "stdout",
     "output_type": "stream",
     "text": [
      "[[389  34]\n",
      " [ 32   9]]\n",
      "              precision    recall  f1-score   support\n",
      "\n",
      "       0: 정상       0.92      0.92      0.92       423\n",
      "       1: 이상       0.21      0.22      0.21        41\n",
      "\n",
      "    accuracy                           0.86       464\n",
      "   macro avg       0.57      0.57      0.57       464\n",
      "weighted avg       0.86      0.86      0.86       464\n",
      "\n",
      "Epoch [7], Train Loss : [0.04083] Val Loss : [0.03373] Val F1 Score : [0.56804]\n"
     ]
    },
    {
     "data": {
      "application/vnd.jupyter.widget-view+json": {
       "model_id": "0070f2387e9540dda95a3944f52aa1ab",
       "version_major": 2,
       "version_minor": 0
      },
      "text/plain": [
       "  0%|          | 0/8 [00:00<?, ?it/s]"
      ]
     },
     "metadata": {},
     "output_type": "display_data"
    },
    {
     "data": {
      "application/vnd.jupyter.widget-view+json": {
       "model_id": "ee2a0a462d484e1bbb8f541b164a5fb6",
       "version_major": 2,
       "version_minor": 0
      },
      "text/plain": [
       "  0%|          | 0/2 [00:00<?, ?it/s]"
      ]
     },
     "metadata": {},
     "output_type": "display_data"
    },
    {
     "name": "stdout",
     "output_type": "stream",
     "text": [
      "[[385  38]\n",
      " [ 29  12]]\n",
      "              precision    recall  f1-score   support\n",
      "\n",
      "       0: 정상       0.93      0.91      0.92       423\n",
      "       1: 이상       0.24      0.29      0.26        41\n",
      "\n",
      "    accuracy                           0.86       464\n",
      "   macro avg       0.58      0.60      0.59       464\n",
      "weighted avg       0.87      0.86      0.86       464\n",
      "\n",
      "Epoch [8], Train Loss : [0.04158] Val Loss : [0.03419] Val F1 Score : [0.59184]\n"
     ]
    },
    {
     "data": {
      "application/vnd.jupyter.widget-view+json": {
       "model_id": "eb6b72c2d357496688d9bbe1ad7a9c14",
       "version_major": 2,
       "version_minor": 0
      },
      "text/plain": [
       "  0%|          | 0/8 [00:00<?, ?it/s]"
      ]
     },
     "metadata": {},
     "output_type": "display_data"
    },
    {
     "data": {
      "application/vnd.jupyter.widget-view+json": {
       "model_id": "715272e7385f40ac905fc672ca84b4b9",
       "version_major": 2,
       "version_minor": 0
      },
      "text/plain": [
       "  0%|          | 0/2 [00:00<?, ?it/s]"
      ]
     },
     "metadata": {},
     "output_type": "display_data"
    },
    {
     "name": "stdout",
     "output_type": "stream",
     "text": [
      "[[400  23]\n",
      " [ 37   4]]\n",
      "              precision    recall  f1-score   support\n",
      "\n",
      "       0: 정상       0.92      0.95      0.93       423\n",
      "       1: 이상       0.15      0.10      0.12        41\n",
      "\n",
      "    accuracy                           0.87       464\n",
      "   macro avg       0.53      0.52      0.52       464\n",
      "weighted avg       0.85      0.87      0.86       464\n",
      "\n",
      "Epoch [9], Train Loss : [0.04102] Val Loss : [0.03324] Val F1 Score : [0.52394]\n"
     ]
    },
    {
     "data": {
      "application/vnd.jupyter.widget-view+json": {
       "model_id": "0ac170615a4444b3a0e073ac5aebb012",
       "version_major": 2,
       "version_minor": 0
      },
      "text/plain": [
       "  0%|          | 0/8 [00:00<?, ?it/s]"
      ]
     },
     "metadata": {},
     "output_type": "display_data"
    },
    {
     "data": {
      "application/vnd.jupyter.widget-view+json": {
       "model_id": "5b552a37cb9f4ba1abb1a5c12e7a26bb",
       "version_major": 2,
       "version_minor": 0
      },
      "text/plain": [
       "  0%|          | 0/2 [00:00<?, ?it/s]"
      ]
     },
     "metadata": {},
     "output_type": "display_data"
    },
    {
     "name": "stdout",
     "output_type": "stream",
     "text": [
      "[[374  49]\n",
      " [ 34   7]]\n",
      "              precision    recall  f1-score   support\n",
      "\n",
      "       0: 정상       0.92      0.88      0.90       423\n",
      "       1: 이상       0.12      0.17      0.14        41\n",
      "\n",
      "    accuracy                           0.82       464\n",
      "   macro avg       0.52      0.53      0.52       464\n",
      "weighted avg       0.85      0.82      0.83       464\n",
      "\n",
      "Epoch [10], Train Loss : [0.04074] Val Loss : [0.03424] Val F1 Score : [0.52223]\n",
      "Epoch 00011: reducing learning rate of group 0 to 5.0000e-04.\n"
     ]
    },
    {
     "data": {
      "application/vnd.jupyter.widget-view+json": {
       "model_id": "c261849ca46d418aa42b7ddb33f16a2b",
       "version_major": 2,
       "version_minor": 0
      },
      "text/plain": [
       "  0%|          | 0/8 [00:00<?, ?it/s]"
      ]
     },
     "metadata": {},
     "output_type": "display_data"
    },
    {
     "data": {
      "application/vnd.jupyter.widget-view+json": {
       "model_id": "bcd46441b4f14a7886b25e9537bb93f8",
       "version_major": 2,
       "version_minor": 0
      },
      "text/plain": [
       "  0%|          | 0/2 [00:00<?, ?it/s]"
      ]
     },
     "metadata": {},
     "output_type": "display_data"
    },
    {
     "name": "stdout",
     "output_type": "stream",
     "text": [
      "[[371  52]\n",
      " [ 34   7]]\n",
      "              precision    recall  f1-score   support\n",
      "\n",
      "       0: 정상       0.92      0.88      0.90       423\n",
      "       1: 이상       0.12      0.17      0.14        41\n",
      "\n",
      "    accuracy                           0.81       464\n",
      "   macro avg       0.52      0.52      0.52       464\n",
      "weighted avg       0.85      0.81      0.83       464\n",
      "\n",
      "Epoch [11], Train Loss : [0.04257] Val Loss : [0.03397] Val F1 Score : [0.51807]\n"
     ]
    },
    {
     "data": {
      "application/vnd.jupyter.widget-view+json": {
       "model_id": "0de0864bcd7242df9e7c03cdd8f09b1b",
       "version_major": 2,
       "version_minor": 0
      },
      "text/plain": [
       "  0%|          | 0/8 [00:00<?, ?it/s]"
      ]
     },
     "metadata": {},
     "output_type": "display_data"
    },
    {
     "data": {
      "application/vnd.jupyter.widget-view+json": {
       "model_id": "32b5243bfefd4212b5bb361b3f57f814",
       "version_major": 2,
       "version_minor": 0
      },
      "text/plain": [
       "  0%|          | 0/2 [00:00<?, ?it/s]"
      ]
     },
     "metadata": {},
     "output_type": "display_data"
    },
    {
     "name": "stdout",
     "output_type": "stream",
     "text": [
      "[[373  50]\n",
      " [ 31  10]]\n",
      "              precision    recall  f1-score   support\n",
      "\n",
      "       0: 정상       0.92      0.88      0.90       423\n",
      "       1: 이상       0.17      0.24      0.20        41\n",
      "\n",
      "    accuracy                           0.83       464\n",
      "   macro avg       0.54      0.56      0.55       464\n",
      "weighted avg       0.86      0.83      0.84       464\n",
      "\n",
      "Epoch [12], Train Loss : [0.04072] Val Loss : [0.03404] Val F1 Score : [0.55004]\n",
      "Epoch 00013: reducing learning rate of group 0 to 2.5000e-04.\n"
     ]
    },
    {
     "data": {
      "application/vnd.jupyter.widget-view+json": {
       "model_id": "236ef53feef34e7eb6dd44151fba0e93",
       "version_major": 2,
       "version_minor": 0
      },
      "text/plain": [
       "  0%|          | 0/8 [00:00<?, ?it/s]"
      ]
     },
     "metadata": {},
     "output_type": "display_data"
    },
    {
     "data": {
      "application/vnd.jupyter.widget-view+json": {
       "model_id": "41830d0a92f74cdebc2b9059657c08b5",
       "version_major": 2,
       "version_minor": 0
      },
      "text/plain": [
       "  0%|          | 0/2 [00:00<?, ?it/s]"
      ]
     },
     "metadata": {},
     "output_type": "display_data"
    },
    {
     "name": "stdout",
     "output_type": "stream",
     "text": [
      "[[380  43]\n",
      " [ 31  10]]\n",
      "              precision    recall  f1-score   support\n",
      "\n",
      "       0: 정상       0.92      0.90      0.91       423\n",
      "       1: 이상       0.19      0.24      0.21        41\n",
      "\n",
      "    accuracy                           0.84       464\n",
      "   macro avg       0.56      0.57      0.56       464\n",
      "weighted avg       0.86      0.84      0.85       464\n",
      "\n",
      "Epoch [13], Train Loss : [0.04264] Val Loss : [0.03376] Val F1 Score : [0.56202]\n"
     ]
    },
    {
     "data": {
      "application/vnd.jupyter.widget-view+json": {
       "model_id": "7198b7f512b84c4ba6df650d6b81a99d",
       "version_major": 2,
       "version_minor": 0
      },
      "text/plain": [
       "  0%|          | 0/8 [00:00<?, ?it/s]"
      ]
     },
     "metadata": {},
     "output_type": "display_data"
    },
    {
     "data": {
      "application/vnd.jupyter.widget-view+json": {
       "model_id": "f7fe56504e6141e9a99bbfce3fd79686",
       "version_major": 2,
       "version_minor": 0
      },
      "text/plain": [
       "  0%|          | 0/2 [00:00<?, ?it/s]"
      ]
     },
     "metadata": {},
     "output_type": "display_data"
    },
    {
     "name": "stdout",
     "output_type": "stream",
     "text": [
      "[[392  31]\n",
      " [ 34   7]]\n",
      "              precision    recall  f1-score   support\n",
      "\n",
      "       0: 정상       0.92      0.93      0.92       423\n",
      "       1: 이상       0.18      0.17      0.18        41\n",
      "\n",
      "    accuracy                           0.86       464\n",
      "   macro avg       0.55      0.55      0.55       464\n",
      "weighted avg       0.86      0.86      0.86       464\n",
      "\n",
      "Epoch [14], Train Loss : [0.03978] Val Loss : [0.03341] Val F1 Score : [0.55033]\n",
      "Epoch 00015: reducing learning rate of group 0 to 1.2500e-04.\n"
     ]
    },
    {
     "data": {
      "application/vnd.jupyter.widget-view+json": {
       "model_id": "c215893610b9445d898ae9ed78310f73",
       "version_major": 2,
       "version_minor": 0
      },
      "text/plain": [
       "  0%|          | 0/8 [00:00<?, ?it/s]"
      ]
     },
     "metadata": {},
     "output_type": "display_data"
    },
    {
     "data": {
      "application/vnd.jupyter.widget-view+json": {
       "model_id": "12f8fdda83e949d1a777fd4e8f3c26ff",
       "version_major": 2,
       "version_minor": 0
      },
      "text/plain": [
       "  0%|          | 0/2 [00:00<?, ?it/s]"
      ]
     },
     "metadata": {},
     "output_type": "display_data"
    },
    {
     "name": "stdout",
     "output_type": "stream",
     "text": [
      "[[401  22]\n",
      " [ 36   5]]\n",
      "              precision    recall  f1-score   support\n",
      "\n",
      "       0: 정상       0.92      0.95      0.93       423\n",
      "       1: 이상       0.19      0.12      0.15        41\n",
      "\n",
      "    accuracy                           0.88       464\n",
      "   macro avg       0.55      0.53      0.54       464\n",
      "weighted avg       0.85      0.88      0.86       464\n",
      "\n",
      "Epoch [15], Train Loss : [0.04178] Val Loss : [0.03323] Val F1 Score : [0.53981]\n"
     ]
    },
    {
     "data": {
      "application/vnd.jupyter.widget-view+json": {
       "model_id": "3296fb66f7d24429a283dbc2579a874a",
       "version_major": 2,
       "version_minor": 0
      },
      "text/plain": [
       "  0%|          | 0/8 [00:00<?, ?it/s]"
      ]
     },
     "metadata": {},
     "output_type": "display_data"
    },
    {
     "data": {
      "application/vnd.jupyter.widget-view+json": {
       "model_id": "6d9610db0c824db9879c1145f4c548a4",
       "version_major": 2,
       "version_minor": 0
      },
      "text/plain": [
       "  0%|          | 0/2 [00:00<?, ?it/s]"
      ]
     },
     "metadata": {},
     "output_type": "display_data"
    },
    {
     "name": "stdout",
     "output_type": "stream",
     "text": [
      "[[404  19]\n",
      " [ 36   5]]\n",
      "              precision    recall  f1-score   support\n",
      "\n",
      "       0: 정상       0.92      0.96      0.94       423\n",
      "       1: 이상       0.21      0.12      0.15        41\n",
      "\n",
      "    accuracy                           0.88       464\n",
      "   macro avg       0.56      0.54      0.55       464\n",
      "weighted avg       0.86      0.88      0.87       464\n",
      "\n",
      "Epoch [16], Train Loss : [0.03988] Val Loss : [0.03314] Val F1 Score : [0.54506]\n",
      "Epoch 00017: reducing learning rate of group 0 to 6.2500e-05.\n"
     ]
    },
    {
     "data": {
      "application/vnd.jupyter.widget-view+json": {
       "model_id": "0ff7e3a0e3ca4e4285802cefdc9d45fc",
       "version_major": 2,
       "version_minor": 0
      },
      "text/plain": [
       "  0%|          | 0/8 [00:00<?, ?it/s]"
      ]
     },
     "metadata": {},
     "output_type": "display_data"
    },
    {
     "data": {
      "application/vnd.jupyter.widget-view+json": {
       "model_id": "d81c46c17b7944548f2de49130cf5e50",
       "version_major": 2,
       "version_minor": 0
      },
      "text/plain": [
       "  0%|          | 0/2 [00:00<?, ?it/s]"
      ]
     },
     "metadata": {},
     "output_type": "display_data"
    },
    {
     "name": "stdout",
     "output_type": "stream",
     "text": [
      "[[403  20]\n",
      " [ 36   5]]\n",
      "              precision    recall  f1-score   support\n",
      "\n",
      "       0: 정상       0.92      0.95      0.94       423\n",
      "       1: 이상       0.20      0.12      0.15        41\n",
      "\n",
      "    accuracy                           0.88       464\n",
      "   macro avg       0.56      0.54      0.54       464\n",
      "weighted avg       0.85      0.88      0.87       464\n",
      "\n",
      "Epoch [17], Train Loss : [0.03927] Val Loss : [0.03332] Val F1 Score : [0.54327]\n"
     ]
    },
    {
     "data": {
      "application/vnd.jupyter.widget-view+json": {
       "model_id": "9c17f239c2ca4aec8487752ee5bef6e6",
       "version_major": 2,
       "version_minor": 0
      },
      "text/plain": [
       "  0%|          | 0/8 [00:00<?, ?it/s]"
      ]
     },
     "metadata": {},
     "output_type": "display_data"
    },
    {
     "data": {
      "application/vnd.jupyter.widget-view+json": {
       "model_id": "7344d014698d4eec8af9b77718855bc0",
       "version_major": 2,
       "version_minor": 0
      },
      "text/plain": [
       "  0%|          | 0/2 [00:00<?, ?it/s]"
      ]
     },
     "metadata": {},
     "output_type": "display_data"
    },
    {
     "name": "stdout",
     "output_type": "stream",
     "text": [
      "[[398  25]\n",
      " [ 36   5]]\n",
      "              precision    recall  f1-score   support\n",
      "\n",
      "       0: 정상       0.92      0.94      0.93       423\n",
      "       1: 이상       0.17      0.12      0.14        41\n",
      "\n",
      "    accuracy                           0.87       464\n",
      "   macro avg       0.54      0.53      0.53       464\n",
      "weighted avg       0.85      0.87      0.86       464\n",
      "\n",
      "Epoch [18], Train Loss : [0.03951] Val Loss : [0.03346] Val F1 Score : [0.53483]\n",
      "Epoch 00019: reducing learning rate of group 0 to 3.1250e-05.\n"
     ]
    },
    {
     "data": {
      "application/vnd.jupyter.widget-view+json": {
       "model_id": "39fe8a5ae19e4bd68d94ef91d6191101",
       "version_major": 2,
       "version_minor": 0
      },
      "text/plain": [
       "  0%|          | 0/8 [00:00<?, ?it/s]"
      ]
     },
     "metadata": {},
     "output_type": "display_data"
    },
    {
     "data": {
      "application/vnd.jupyter.widget-view+json": {
       "model_id": "be07bea68a9642c5bd14fa0d0c44490f",
       "version_major": 2,
       "version_minor": 0
      },
      "text/plain": [
       "  0%|          | 0/2 [00:00<?, ?it/s]"
      ]
     },
     "metadata": {},
     "output_type": "display_data"
    },
    {
     "name": "stdout",
     "output_type": "stream",
     "text": [
      "[[398  25]\n",
      " [ 36   5]]\n",
      "              precision    recall  f1-score   support\n",
      "\n",
      "       0: 정상       0.92      0.94      0.93       423\n",
      "       1: 이상       0.17      0.12      0.14        41\n",
      "\n",
      "    accuracy                           0.87       464\n",
      "   macro avg       0.54      0.53      0.53       464\n",
      "weighted avg       0.85      0.87      0.86       464\n",
      "\n",
      "Epoch [19], Train Loss : [0.04236] Val Loss : [0.03340] Val F1 Score : [0.53483]\n"
     ]
    },
    {
     "data": {
      "application/vnd.jupyter.widget-view+json": {
       "model_id": "4ab3a84e7ed740568d94cda2f102e798",
       "version_major": 2,
       "version_minor": 0
      },
      "text/plain": [
       "  0%|          | 0/8 [00:00<?, ?it/s]"
      ]
     },
     "metadata": {},
     "output_type": "display_data"
    },
    {
     "data": {
      "application/vnd.jupyter.widget-view+json": {
       "model_id": "2666d304a38d4cd89d0ba265810ecf56",
       "version_major": 2,
       "version_minor": 0
      },
      "text/plain": [
       "  0%|          | 0/2 [00:00<?, ?it/s]"
      ]
     },
     "metadata": {},
     "output_type": "display_data"
    },
    {
     "name": "stdout",
     "output_type": "stream",
     "text": [
      "[[396  27]\n",
      " [ 36   5]]\n",
      "              precision    recall  f1-score   support\n",
      "\n",
      "       0: 정상       0.92      0.94      0.93       423\n",
      "       1: 이상       0.16      0.12      0.14        41\n",
      "\n",
      "    accuracy                           0.86       464\n",
      "   macro avg       0.54      0.53      0.53       464\n",
      "weighted avg       0.85      0.86      0.86       464\n",
      "\n",
      "Epoch [20], Train Loss : [0.03895] Val Loss : [0.03344] Val F1 Score : [0.53165]\n",
      "Epoch 00021: reducing learning rate of group 0 to 1.5625e-05.\n"
     ]
    },
    {
     "data": {
      "application/vnd.jupyter.widget-view+json": {
       "model_id": "d419e2569d354cfeacf74d270c24f45f",
       "version_major": 2,
       "version_minor": 0
      },
      "text/plain": [
       "  0%|          | 0/8 [00:00<?, ?it/s]"
      ]
     },
     "metadata": {},
     "output_type": "display_data"
    },
    {
     "data": {
      "application/vnd.jupyter.widget-view+json": {
       "model_id": "362e924ea3a84402a4cd3e1f4925443c",
       "version_major": 2,
       "version_minor": 0
      },
      "text/plain": [
       "  0%|          | 0/2 [00:00<?, ?it/s]"
      ]
     },
     "metadata": {},
     "output_type": "display_data"
    },
    {
     "name": "stdout",
     "output_type": "stream",
     "text": [
      "[[395  28]\n",
      " [ 35   6]]\n",
      "              precision    recall  f1-score   support\n",
      "\n",
      "       0: 정상       0.92      0.93      0.93       423\n",
      "       1: 이상       0.18      0.15      0.16        41\n",
      "\n",
      "    accuracy                           0.86       464\n",
      "   macro avg       0.55      0.54      0.54       464\n",
      "weighted avg       0.85      0.86      0.86       464\n",
      "\n",
      "Epoch [21], Train Loss : [0.04200] Val Loss : [0.03350] Val F1 Score : [0.54307]\n"
     ]
    },
    {
     "data": {
      "application/vnd.jupyter.widget-view+json": {
       "model_id": "1e95fa9eda254e65b77c1d75efdaa383",
       "version_major": 2,
       "version_minor": 0
      },
      "text/plain": [
       "  0%|          | 0/8 [00:00<?, ?it/s]"
      ]
     },
     "metadata": {},
     "output_type": "display_data"
    },
    {
     "data": {
      "application/vnd.jupyter.widget-view+json": {
       "model_id": "1f256ab8f3b145379a2f18e332b57de9",
       "version_major": 2,
       "version_minor": 0
      },
      "text/plain": [
       "  0%|          | 0/2 [00:00<?, ?it/s]"
      ]
     },
     "metadata": {},
     "output_type": "display_data"
    },
    {
     "name": "stdout",
     "output_type": "stream",
     "text": [
      "[[396  27]\n",
      " [ 35   6]]\n",
      "              precision    recall  f1-score   support\n",
      "\n",
      "       0: 정상       0.92      0.94      0.93       423\n",
      "       1: 이상       0.18      0.15      0.16        41\n",
      "\n",
      "    accuracy                           0.87       464\n",
      "   macro avg       0.55      0.54      0.54       464\n",
      "weighted avg       0.85      0.87      0.86       464\n",
      "\n",
      "Epoch [22], Train Loss : [0.04104] Val Loss : [0.03344] Val F1 Score : [0.54478]\n",
      "Epoch 00023: reducing learning rate of group 0 to 7.8125e-06.\n"
     ]
    },
    {
     "data": {
      "application/vnd.jupyter.widget-view+json": {
       "model_id": "8a849eb047894e99b544ad0718948295",
       "version_major": 2,
       "version_minor": 0
      },
      "text/plain": [
       "  0%|          | 0/8 [00:00<?, ?it/s]"
      ]
     },
     "metadata": {},
     "output_type": "display_data"
    },
    {
     "data": {
      "application/vnd.jupyter.widget-view+json": {
       "model_id": "c84fe28015fb43b180cc35e9718c608c",
       "version_major": 2,
       "version_minor": 0
      },
      "text/plain": [
       "  0%|          | 0/2 [00:00<?, ?it/s]"
      ]
     },
     "metadata": {},
     "output_type": "display_data"
    },
    {
     "name": "stdout",
     "output_type": "stream",
     "text": [
      "[[396  27]\n",
      " [ 35   6]]\n",
      "              precision    recall  f1-score   support\n",
      "\n",
      "       0: 정상       0.92      0.94      0.93       423\n",
      "       1: 이상       0.18      0.15      0.16        41\n",
      "\n",
      "    accuracy                           0.87       464\n",
      "   macro avg       0.55      0.54      0.54       464\n",
      "weighted avg       0.85      0.87      0.86       464\n",
      "\n",
      "Epoch [23], Train Loss : [0.03872] Val Loss : [0.03349] Val F1 Score : [0.54478]\n"
     ]
    },
    {
     "data": {
      "application/vnd.jupyter.widget-view+json": {
       "model_id": "e2ba53e644f14d6f87a6f8913023bdac",
       "version_major": 2,
       "version_minor": 0
      },
      "text/plain": [
       "  0%|          | 0/8 [00:00<?, ?it/s]"
      ]
     },
     "metadata": {},
     "output_type": "display_data"
    },
    {
     "data": {
      "application/vnd.jupyter.widget-view+json": {
       "model_id": "4977cfb9c7f9439c8b66343290cb2ec5",
       "version_major": 2,
       "version_minor": 0
      },
      "text/plain": [
       "  0%|          | 0/2 [00:00<?, ?it/s]"
      ]
     },
     "metadata": {},
     "output_type": "display_data"
    },
    {
     "name": "stdout",
     "output_type": "stream",
     "text": [
      "[[396  27]\n",
      " [ 34   7]]\n",
      "              precision    recall  f1-score   support\n",
      "\n",
      "       0: 정상       0.92      0.94      0.93       423\n",
      "       1: 이상       0.21      0.17      0.19        41\n",
      "\n",
      "    accuracy                           0.87       464\n",
      "   macro avg       0.56      0.55      0.56       464\n",
      "weighted avg       0.86      0.87      0.86       464\n",
      "\n",
      "Epoch [24], Train Loss : [0.04038] Val Loss : [0.03349] Val F1 Score : [0.55758]\n",
      "Epoch 00025: reducing learning rate of group 0 to 3.9063e-06.\n"
     ]
    },
    {
     "data": {
      "application/vnd.jupyter.widget-view+json": {
       "model_id": "d9f630d726f9428fab666e38460edb3e",
       "version_major": 2,
       "version_minor": 0
      },
      "text/plain": [
       "  0%|          | 0/8 [00:00<?, ?it/s]"
      ]
     },
     "metadata": {},
     "output_type": "display_data"
    },
    {
     "data": {
      "application/vnd.jupyter.widget-view+json": {
       "model_id": "21e2ad5a986e4a6382113de10e43491c",
       "version_major": 2,
       "version_minor": 0
      },
      "text/plain": [
       "  0%|          | 0/2 [00:00<?, ?it/s]"
      ]
     },
     "metadata": {},
     "output_type": "display_data"
    },
    {
     "name": "stdout",
     "output_type": "stream",
     "text": [
      "[[396  27]\n",
      " [ 35   6]]\n",
      "              precision    recall  f1-score   support\n",
      "\n",
      "       0: 정상       0.92      0.94      0.93       423\n",
      "       1: 이상       0.18      0.15      0.16        41\n",
      "\n",
      "    accuracy                           0.87       464\n",
      "   macro avg       0.55      0.54      0.54       464\n",
      "weighted avg       0.85      0.87      0.86       464\n",
      "\n",
      "Epoch [25], Train Loss : [0.04125] Val Loss : [0.03352] Val F1 Score : [0.54478]\n"
     ]
    },
    {
     "data": {
      "application/vnd.jupyter.widget-view+json": {
       "model_id": "09b4f0f049534ed08fc0b608af41f0bb",
       "version_major": 2,
       "version_minor": 0
      },
      "text/plain": [
       "  0%|          | 0/8 [00:00<?, ?it/s]"
      ]
     },
     "metadata": {},
     "output_type": "display_data"
    },
    {
     "data": {
      "application/vnd.jupyter.widget-view+json": {
       "model_id": "a32877fbf90b4024b850d223076de351",
       "version_major": 2,
       "version_minor": 0
      },
      "text/plain": [
       "  0%|          | 0/2 [00:00<?, ?it/s]"
      ]
     },
     "metadata": {},
     "output_type": "display_data"
    },
    {
     "name": "stdout",
     "output_type": "stream",
     "text": [
      "[[395  28]\n",
      " [ 34   7]]\n",
      "              precision    recall  f1-score   support\n",
      "\n",
      "       0: 정상       0.92      0.93      0.93       423\n",
      "       1: 이상       0.20      0.17      0.18        41\n",
      "\n",
      "    accuracy                           0.87       464\n",
      "   macro avg       0.56      0.55      0.56       464\n",
      "weighted avg       0.86      0.87      0.86       464\n",
      "\n",
      "Epoch [26], Train Loss : [0.04042] Val Loss : [0.03345] Val F1 Score : [0.55572]\n",
      "Epoch 00027: reducing learning rate of group 0 to 1.9531e-06.\n"
     ]
    },
    {
     "data": {
      "application/vnd.jupyter.widget-view+json": {
       "model_id": "541d6d94257049d385c15d53a07cbb23",
       "version_major": 2,
       "version_minor": 0
      },
      "text/plain": [
       "  0%|          | 0/8 [00:00<?, ?it/s]"
      ]
     },
     "metadata": {},
     "output_type": "display_data"
    },
    {
     "data": {
      "application/vnd.jupyter.widget-view+json": {
       "model_id": "7ad75bd46a644d53a1ba1d2db279eed7",
       "version_major": 2,
       "version_minor": 0
      },
      "text/plain": [
       "  0%|          | 0/2 [00:00<?, ?it/s]"
      ]
     },
     "metadata": {},
     "output_type": "display_data"
    },
    {
     "name": "stdout",
     "output_type": "stream",
     "text": [
      "[[396  27]\n",
      " [ 35   6]]\n",
      "              precision    recall  f1-score   support\n",
      "\n",
      "       0: 정상       0.92      0.94      0.93       423\n",
      "       1: 이상       0.18      0.15      0.16        41\n",
      "\n",
      "    accuracy                           0.87       464\n",
      "   macro avg       0.55      0.54      0.54       464\n",
      "weighted avg       0.85      0.87      0.86       464\n",
      "\n",
      "Epoch [27], Train Loss : [0.04123] Val Loss : [0.03348] Val F1 Score : [0.54478]\n"
     ]
    },
    {
     "data": {
      "application/vnd.jupyter.widget-view+json": {
       "model_id": "172d70f88c1d4a0788153fdc941ca7c3",
       "version_major": 2,
       "version_minor": 0
      },
      "text/plain": [
       "  0%|          | 0/8 [00:00<?, ?it/s]"
      ]
     },
     "metadata": {},
     "output_type": "display_data"
    },
    {
     "data": {
      "application/vnd.jupyter.widget-view+json": {
       "model_id": "3a83c7eedc254e2abd3f5a14df3bfc4e",
       "version_major": 2,
       "version_minor": 0
      },
      "text/plain": [
       "  0%|          | 0/2 [00:00<?, ?it/s]"
      ]
     },
     "metadata": {},
     "output_type": "display_data"
    },
    {
     "name": "stdout",
     "output_type": "stream",
     "text": [
      "[[396  27]\n",
      " [ 35   6]]\n",
      "              precision    recall  f1-score   support\n",
      "\n",
      "       0: 정상       0.92      0.94      0.93       423\n",
      "       1: 이상       0.18      0.15      0.16        41\n",
      "\n",
      "    accuracy                           0.87       464\n",
      "   macro avg       0.55      0.54      0.54       464\n",
      "weighted avg       0.85      0.87      0.86       464\n",
      "\n",
      "Epoch [28], Train Loss : [0.04124] Val Loss : [0.03343] Val F1 Score : [0.54478]\n",
      "Epoch 00029: reducing learning rate of group 0 to 9.7656e-07.\n"
     ]
    },
    {
     "data": {
      "application/vnd.jupyter.widget-view+json": {
       "model_id": "348147b2cb514ea1a5d7ddc21616685a",
       "version_major": 2,
       "version_minor": 0
      },
      "text/plain": [
       "  0%|          | 0/8 [00:00<?, ?it/s]"
      ]
     },
     "metadata": {},
     "output_type": "display_data"
    },
    {
     "data": {
      "application/vnd.jupyter.widget-view+json": {
       "model_id": "96499e390f664487bfc22729326878fe",
       "version_major": 2,
       "version_minor": 0
      },
      "text/plain": [
       "  0%|          | 0/2 [00:00<?, ?it/s]"
      ]
     },
     "metadata": {},
     "output_type": "display_data"
    },
    {
     "name": "stdout",
     "output_type": "stream",
     "text": [
      "[[396  27]\n",
      " [ 35   6]]\n",
      "              precision    recall  f1-score   support\n",
      "\n",
      "       0: 정상       0.92      0.94      0.93       423\n",
      "       1: 이상       0.18      0.15      0.16        41\n",
      "\n",
      "    accuracy                           0.87       464\n",
      "   macro avg       0.55      0.54      0.54       464\n",
      "weighted avg       0.85      0.87      0.86       464\n",
      "\n",
      "Epoch [29], Train Loss : [0.04166] Val Loss : [0.03348] Val F1 Score : [0.54478]\n",
      "Student Train Best Score는 0.5918442370055274 입니다.\n",
      "부분학습 종료\n",
      "----------------------------------------------------------------------\n"
     ]
    },
    {
     "data": {
      "application/vnd.jupyter.widget-view+json": {
       "model_id": "4f3eedcffd314ca19fe63c1446f9a866",
       "version_major": 2,
       "version_minor": 0
      },
      "text/plain": [
       "  0%|          | 0/23 [00:00<?, ?it/s]"
      ]
     },
     "metadata": {},
     "output_type": "display_data"
    },
    {
     "data": {
      "application/vnd.jupyter.widget-view+json": {
       "model_id": "e16a545e52374d7f8c3afaaa2b104338",
       "version_major": 2,
       "version_minor": 0
      },
      "text/plain": [
       "  0%|          | 0/6 [00:00<?, ?it/s]"
      ]
     },
     "metadata": {},
     "output_type": "display_data"
    },
    {
     "name": "stdout",
     "output_type": "stream",
     "text": [
      "[[1077  206]\n",
      " [  90   37]]\n",
      "              precision    recall  f1-score   support\n",
      "\n",
      "       0: 정상       0.92      0.84      0.88      1283\n",
      "       1: 이상       0.15      0.29      0.20       127\n",
      "\n",
      "    accuracy                           0.79      1410\n",
      "   macro avg       0.54      0.57      0.54      1410\n",
      "weighted avg       0.85      0.79      0.82      1410\n",
      "\n",
      "Epoch [0], Train Loss : [0.04759] Val Loss : [0.03345] Val F1 Score : [0.53959]\n"
     ]
    },
    {
     "data": {
      "application/vnd.jupyter.widget-view+json": {
       "model_id": "7948a7e98e564cc188f397bdd05585d9",
       "version_major": 2,
       "version_minor": 0
      },
      "text/plain": [
       "  0%|          | 0/23 [00:00<?, ?it/s]"
      ]
     },
     "metadata": {},
     "output_type": "display_data"
    },
    {
     "data": {
      "application/vnd.jupyter.widget-view+json": {
       "model_id": "68f9bb7ce7844cd282df55b0defa4cf1",
       "version_major": 2,
       "version_minor": 0
      },
      "text/plain": [
       "  0%|          | 0/6 [00:00<?, ?it/s]"
      ]
     },
     "metadata": {},
     "output_type": "display_data"
    },
    {
     "name": "stdout",
     "output_type": "stream",
     "text": [
      "[[1245   38]\n",
      " [ 118    9]]\n",
      "              precision    recall  f1-score   support\n",
      "\n",
      "       0: 정상       0.91      0.97      0.94      1283\n",
      "       1: 이상       0.19      0.07      0.10       127\n",
      "\n",
      "    accuracy                           0.89      1410\n",
      "   macro avg       0.55      0.52      0.52      1410\n",
      "weighted avg       0.85      0.89      0.87      1410\n",
      "\n",
      "Epoch [1], Train Loss : [0.04174] Val Loss : [0.03048] Val F1 Score : [0.52225]\n"
     ]
    },
    {
     "data": {
      "application/vnd.jupyter.widget-view+json": {
       "model_id": "dd8c140043fd43beb1bfa878889020e4",
       "version_major": 2,
       "version_minor": 0
      },
      "text/plain": [
       "  0%|          | 0/23 [00:00<?, ?it/s]"
      ]
     },
     "metadata": {},
     "output_type": "display_data"
    },
    {
     "data": {
      "application/vnd.jupyter.widget-view+json": {
       "model_id": "01febfa581254038bad95c6bf4d6c3c5",
       "version_major": 2,
       "version_minor": 0
      },
      "text/plain": [
       "  0%|          | 0/6 [00:00<?, ?it/s]"
      ]
     },
     "metadata": {},
     "output_type": "display_data"
    },
    {
     "name": "stdout",
     "output_type": "stream",
     "text": [
      "[[1236   47]\n",
      " [ 114   13]]\n",
      "              precision    recall  f1-score   support\n",
      "\n",
      "       0: 정상       0.92      0.96      0.94      1283\n",
      "       1: 이상       0.22      0.10      0.14       127\n",
      "\n",
      "    accuracy                           0.89      1410\n",
      "   macro avg       0.57      0.53      0.54      1410\n",
      "weighted avg       0.85      0.89      0.87      1410\n",
      "\n",
      "Epoch [2], Train Loss : [0.04499] Val Loss : [0.03109] Val F1 Score : [0.53895]\n",
      "Epoch 00003: reducing learning rate of group 0 to 5.0000e-03.\n"
     ]
    },
    {
     "data": {
      "application/vnd.jupyter.widget-view+json": {
       "model_id": "7271d76a05724a7d8a42c51948690d9d",
       "version_major": 2,
       "version_minor": 0
      },
      "text/plain": [
       "  0%|          | 0/23 [00:00<?, ?it/s]"
      ]
     },
     "metadata": {},
     "output_type": "display_data"
    },
    {
     "data": {
      "application/vnd.jupyter.widget-view+json": {
       "model_id": "1401f8b33805492dafef50ff9927ef7a",
       "version_major": 2,
       "version_minor": 0
      },
      "text/plain": [
       "  0%|          | 0/6 [00:00<?, ?it/s]"
      ]
     },
     "metadata": {},
     "output_type": "display_data"
    },
    {
     "name": "stdout",
     "output_type": "stream",
     "text": [
      "[[1242   41]\n",
      " [ 112   15]]\n",
      "              precision    recall  f1-score   support\n",
      "\n",
      "       0: 정상       0.92      0.97      0.94      1283\n",
      "       1: 이상       0.27      0.12      0.16       127\n",
      "\n",
      "    accuracy                           0.89      1410\n",
      "   macro avg       0.59      0.54      0.55      1410\n",
      "weighted avg       0.86      0.89      0.87      1410\n",
      "\n",
      "Epoch [3], Train Loss : [0.04472] Val Loss : [0.02940] Val F1 Score : [0.55296]\n"
     ]
    },
    {
     "data": {
      "application/vnd.jupyter.widget-view+json": {
       "model_id": "1e81432cfcfe4cbdb9d34b85caa270ff",
       "version_major": 2,
       "version_minor": 0
      },
      "text/plain": [
       "  0%|          | 0/23 [00:00<?, ?it/s]"
      ]
     },
     "metadata": {},
     "output_type": "display_data"
    },
    {
     "data": {
      "application/vnd.jupyter.widget-view+json": {
       "model_id": "4861ca8aa49346c29aa50a0547a5aa16",
       "version_major": 2,
       "version_minor": 0
      },
      "text/plain": [
       "  0%|          | 0/6 [00:00<?, ?it/s]"
      ]
     },
     "metadata": {},
     "output_type": "display_data"
    },
    {
     "name": "stdout",
     "output_type": "stream",
     "text": [
      "[[1204   79]\n",
      " [ 101   26]]\n",
      "              precision    recall  f1-score   support\n",
      "\n",
      "       0: 정상       0.92      0.94      0.93      1283\n",
      "       1: 이상       0.25      0.20      0.22       127\n",
      "\n",
      "    accuracy                           0.87      1410\n",
      "   macro avg       0.59      0.57      0.58      1410\n",
      "weighted avg       0.86      0.87      0.87      1410\n",
      "\n",
      "Epoch [4], Train Loss : [0.04093] Val Loss : [0.03107] Val F1 Score : [0.57729]\n"
     ]
    },
    {
     "data": {
      "application/vnd.jupyter.widget-view+json": {
       "model_id": "426c013507d548648b2aa0f75e195f32",
       "version_major": 2,
       "version_minor": 0
      },
      "text/plain": [
       "  0%|          | 0/23 [00:00<?, ?it/s]"
      ]
     },
     "metadata": {},
     "output_type": "display_data"
    },
    {
     "data": {
      "application/vnd.jupyter.widget-view+json": {
       "model_id": "625008c6d80a4e99abf717d582e4ede0",
       "version_major": 2,
       "version_minor": 0
      },
      "text/plain": [
       "  0%|          | 0/6 [00:00<?, ?it/s]"
      ]
     },
     "metadata": {},
     "output_type": "display_data"
    },
    {
     "name": "stdout",
     "output_type": "stream",
     "text": [
      "[[1206   77]\n",
      " [ 101   26]]\n",
      "              precision    recall  f1-score   support\n",
      "\n",
      "       0: 정상       0.92      0.94      0.93      1283\n",
      "       1: 이상       0.25      0.20      0.23       127\n",
      "\n",
      "    accuracy                           0.87      1410\n",
      "   macro avg       0.59      0.57      0.58      1410\n",
      "weighted avg       0.86      0.87      0.87      1410\n",
      "\n",
      "Epoch [5], Train Loss : [0.04285] Val Loss : [0.02985] Val F1 Score : [0.57868]\n"
     ]
    },
    {
     "data": {
      "application/vnd.jupyter.widget-view+json": {
       "model_id": "052acd27020747f6860e0d266d8cb4b3",
       "version_major": 2,
       "version_minor": 0
      },
      "text/plain": [
       "  0%|          | 0/23 [00:00<?, ?it/s]"
      ]
     },
     "metadata": {},
     "output_type": "display_data"
    },
    {
     "data": {
      "application/vnd.jupyter.widget-view+json": {
       "model_id": "845ae6d5488547fcab8103088d0aa52c",
       "version_major": 2,
       "version_minor": 0
      },
      "text/plain": [
       "  0%|          | 0/6 [00:00<?, ?it/s]"
      ]
     },
     "metadata": {},
     "output_type": "display_data"
    },
    {
     "name": "stdout",
     "output_type": "stream",
     "text": [
      "[[1269   14]\n",
      " [ 115   12]]\n",
      "              precision    recall  f1-score   support\n",
      "\n",
      "       0: 정상       0.92      0.99      0.95      1283\n",
      "       1: 이상       0.46      0.09      0.16       127\n",
      "\n",
      "    accuracy                           0.91      1410\n",
      "   macro avg       0.69      0.54      0.55      1410\n",
      "weighted avg       0.88      0.91      0.88      1410\n",
      "\n",
      "Epoch [6], Train Loss : [0.04156] Val Loss : [0.03069] Val F1 Score : [0.55425]\n"
     ]
    },
    {
     "data": {
      "application/vnd.jupyter.widget-view+json": {
       "model_id": "c37365136c534c48a088eec9db356529",
       "version_major": 2,
       "version_minor": 0
      },
      "text/plain": [
       "  0%|          | 0/23 [00:00<?, ?it/s]"
      ]
     },
     "metadata": {},
     "output_type": "display_data"
    },
    {
     "data": {
      "application/vnd.jupyter.widget-view+json": {
       "model_id": "54e05280b97b44da82fd76b5348b89d6",
       "version_major": 2,
       "version_minor": 0
      },
      "text/plain": [
       "  0%|          | 0/6 [00:00<?, ?it/s]"
      ]
     },
     "metadata": {},
     "output_type": "display_data"
    },
    {
     "name": "stdout",
     "output_type": "stream",
     "text": [
      "[[1210   73]\n",
      " [ 104   23]]\n",
      "              precision    recall  f1-score   support\n",
      "\n",
      "       0: 정상       0.92      0.94      0.93      1283\n",
      "       1: 이상       0.24      0.18      0.21       127\n",
      "\n",
      "    accuracy                           0.87      1410\n",
      "   macro avg       0.58      0.56      0.57      1410\n",
      "weighted avg       0.86      0.87      0.87      1410\n",
      "\n",
      "Epoch [7], Train Loss : [0.04023] Val Loss : [0.02967] Val F1 Score : [0.56906]\n",
      "Epoch 00008: reducing learning rate of group 0 to 2.5000e-03.\n"
     ]
    },
    {
     "data": {
      "application/vnd.jupyter.widget-view+json": {
       "model_id": "5779716bf6644b82864a28b889b81cd9",
       "version_major": 2,
       "version_minor": 0
      },
      "text/plain": [
       "  0%|          | 0/23 [00:00<?, ?it/s]"
      ]
     },
     "metadata": {},
     "output_type": "display_data"
    },
    {
     "data": {
      "application/vnd.jupyter.widget-view+json": {
       "model_id": "307f67fda23c4fe49ce28f4ba0816a18",
       "version_major": 2,
       "version_minor": 0
      },
      "text/plain": [
       "  0%|          | 0/6 [00:00<?, ?it/s]"
      ]
     },
     "metadata": {},
     "output_type": "display_data"
    },
    {
     "name": "stdout",
     "output_type": "stream",
     "text": [
      "[[1222   61]\n",
      " [ 107   20]]\n",
      "              precision    recall  f1-score   support\n",
      "\n",
      "       0: 정상       0.92      0.95      0.94      1283\n",
      "       1: 이상       0.25      0.16      0.19       127\n",
      "\n",
      "    accuracy                           0.88      1410\n",
      "   macro avg       0.58      0.55      0.56      1410\n",
      "weighted avg       0.86      0.88      0.87      1410\n",
      "\n",
      "Epoch [8], Train Loss : [0.04106] Val Loss : [0.03012] Val F1 Score : [0.56399]\n"
     ]
    },
    {
     "data": {
      "application/vnd.jupyter.widget-view+json": {
       "model_id": "b140ea8a374b435c8b287616a1c83753",
       "version_major": 2,
       "version_minor": 0
      },
      "text/plain": [
       "  0%|          | 0/23 [00:00<?, ?it/s]"
      ]
     },
     "metadata": {},
     "output_type": "display_data"
    },
    {
     "data": {
      "application/vnd.jupyter.widget-view+json": {
       "model_id": "cd98a6823d8047f28bce9510ac9800f0",
       "version_major": 2,
       "version_minor": 0
      },
      "text/plain": [
       "  0%|          | 0/6 [00:00<?, ?it/s]"
      ]
     },
     "metadata": {},
     "output_type": "display_data"
    },
    {
     "name": "stdout",
     "output_type": "stream",
     "text": [
      "[[1229   54]\n",
      " [ 107   20]]\n",
      "              precision    recall  f1-score   support\n",
      "\n",
      "       0: 정상       0.92      0.96      0.94      1283\n",
      "       1: 이상       0.27      0.16      0.20       127\n",
      "\n",
      "    accuracy                           0.89      1410\n",
      "   macro avg       0.60      0.56      0.57      1410\n",
      "weighted avg       0.86      0.89      0.87      1410\n",
      "\n",
      "Epoch [9], Train Loss : [0.03984] Val Loss : [0.02953] Val F1 Score : [0.56877]\n",
      "Epoch 00010: reducing learning rate of group 0 to 1.2500e-03.\n"
     ]
    },
    {
     "data": {
      "application/vnd.jupyter.widget-view+json": {
       "model_id": "9656249d3e5949f98b70feec2ff6e7ca",
       "version_major": 2,
       "version_minor": 0
      },
      "text/plain": [
       "  0%|          | 0/23 [00:00<?, ?it/s]"
      ]
     },
     "metadata": {},
     "output_type": "display_data"
    },
    {
     "data": {
      "application/vnd.jupyter.widget-view+json": {
       "model_id": "36c1eeeeb24a4cc29d2846738aba75fb",
       "version_major": 2,
       "version_minor": 0
      },
      "text/plain": [
       "  0%|          | 0/6 [00:00<?, ?it/s]"
      ]
     },
     "metadata": {},
     "output_type": "display_data"
    },
    {
     "name": "stdout",
     "output_type": "stream",
     "text": [
      "[[1251   32]\n",
      " [ 109   18]]\n",
      "              precision    recall  f1-score   support\n",
      "\n",
      "       0: 정상       0.92      0.98      0.95      1283\n",
      "       1: 이상       0.36      0.14      0.20       127\n",
      "\n",
      "    accuracy                           0.90      1410\n",
      "   macro avg       0.64      0.56      0.58      1410\n",
      "weighted avg       0.87      0.90      0.88      1410\n",
      "\n",
      "Epoch [10], Train Loss : [0.03900] Val Loss : [0.02892] Val F1 Score : [0.57502]\n"
     ]
    },
    {
     "data": {
      "application/vnd.jupyter.widget-view+json": {
       "model_id": "dd6b49fc71514709bed55d90ff9db71c",
       "version_major": 2,
       "version_minor": 0
      },
      "text/plain": [
       "  0%|          | 0/23 [00:00<?, ?it/s]"
      ]
     },
     "metadata": {},
     "output_type": "display_data"
    },
    {
     "data": {
      "application/vnd.jupyter.widget-view+json": {
       "model_id": "d85f93df498840dc854d83471c084fc6",
       "version_major": 2,
       "version_minor": 0
      },
      "text/plain": [
       "  0%|          | 0/6 [00:00<?, ?it/s]"
      ]
     },
     "metadata": {},
     "output_type": "display_data"
    },
    {
     "name": "stdout",
     "output_type": "stream",
     "text": [
      "[[1237   46]\n",
      " [ 109   18]]\n",
      "              precision    recall  f1-score   support\n",
      "\n",
      "       0: 정상       0.92      0.96      0.94      1283\n",
      "       1: 이상       0.28      0.14      0.19       127\n",
      "\n",
      "    accuracy                           0.89      1410\n",
      "   macro avg       0.60      0.55      0.56      1410\n",
      "weighted avg       0.86      0.89      0.87      1410\n",
      "\n",
      "Epoch [11], Train Loss : [0.03996] Val Loss : [0.02934] Val F1 Score : [0.56476]\n",
      "Epoch 00012: reducing learning rate of group 0 to 6.2500e-04.\n"
     ]
    },
    {
     "data": {
      "application/vnd.jupyter.widget-view+json": {
       "model_id": "a2a391d0e570401bb50e14c17c1fe3ba",
       "version_major": 2,
       "version_minor": 0
      },
      "text/plain": [
       "  0%|          | 0/23 [00:00<?, ?it/s]"
      ]
     },
     "metadata": {},
     "output_type": "display_data"
    },
    {
     "data": {
      "application/vnd.jupyter.widget-view+json": {
       "model_id": "16aa7181bd9b406a9704d525f4dd4320",
       "version_major": 2,
       "version_minor": 0
      },
      "text/plain": [
       "  0%|          | 0/6 [00:00<?, ?it/s]"
      ]
     },
     "metadata": {},
     "output_type": "display_data"
    },
    {
     "name": "stdout",
     "output_type": "stream",
     "text": [
      "[[1216   67]\n",
      " [ 102   25]]\n",
      "              precision    recall  f1-score   support\n",
      "\n",
      "       0: 정상       0.92      0.95      0.94      1283\n",
      "       1: 이상       0.27      0.20      0.23       127\n",
      "\n",
      "    accuracy                           0.88      1410\n",
      "   macro avg       0.60      0.57      0.58      1410\n",
      "weighted avg       0.86      0.88      0.87      1410\n",
      "\n",
      "Epoch [12], Train Loss : [0.04021] Val Loss : [0.02980] Val F1 Score : [0.58167]\n"
     ]
    },
    {
     "data": {
      "application/vnd.jupyter.widget-view+json": {
       "model_id": "68083a5c70f0402ea35f4c7688d20806",
       "version_major": 2,
       "version_minor": 0
      },
      "text/plain": [
       "  0%|          | 0/23 [00:00<?, ?it/s]"
      ]
     },
     "metadata": {},
     "output_type": "display_data"
    },
    {
     "data": {
      "application/vnd.jupyter.widget-view+json": {
       "model_id": "4f3bbc34c23f4271b049f6c6c8894ccf",
       "version_major": 2,
       "version_minor": 0
      },
      "text/plain": [
       "  0%|          | 0/6 [00:00<?, ?it/s]"
      ]
     },
     "metadata": {},
     "output_type": "display_data"
    },
    {
     "name": "stdout",
     "output_type": "stream",
     "text": [
      "[[1219   64]\n",
      " [ 104   23]]\n",
      "              precision    recall  f1-score   support\n",
      "\n",
      "       0: 정상       0.92      0.95      0.94      1283\n",
      "       1: 이상       0.26      0.18      0.21       127\n",
      "\n",
      "    accuracy                           0.88      1410\n",
      "   macro avg       0.59      0.57      0.58      1410\n",
      "weighted avg       0.86      0.88      0.87      1410\n",
      "\n",
      "Epoch [13], Train Loss : [0.03960] Val Loss : [0.02975] Val F1 Score : [0.57524]\n"
     ]
    },
    {
     "data": {
      "application/vnd.jupyter.widget-view+json": {
       "model_id": "347f8da2f1f44a4799b9be1d40663858",
       "version_major": 2,
       "version_minor": 0
      },
      "text/plain": [
       "  0%|          | 0/23 [00:00<?, ?it/s]"
      ]
     },
     "metadata": {},
     "output_type": "display_data"
    },
    {
     "data": {
      "application/vnd.jupyter.widget-view+json": {
       "model_id": "a1f74bf848d8405f93c8401ee6fad541",
       "version_major": 2,
       "version_minor": 0
      },
      "text/plain": [
       "  0%|          | 0/6 [00:00<?, ?it/s]"
      ]
     },
     "metadata": {},
     "output_type": "display_data"
    },
    {
     "name": "stdout",
     "output_type": "stream",
     "text": [
      "[[1214   69]\n",
      " [ 101   26]]\n",
      "              precision    recall  f1-score   support\n",
      "\n",
      "       0: 정상       0.92      0.95      0.93      1283\n",
      "       1: 이상       0.27      0.20      0.23       127\n",
      "\n",
      "    accuracy                           0.88      1410\n",
      "   macro avg       0.60      0.58      0.58      1410\n",
      "weighted avg       0.86      0.88      0.87      1410\n",
      "\n",
      "Epoch [14], Train Loss : [0.03947] Val Loss : [0.02979] Val F1 Score : [0.58440]\n"
     ]
    },
    {
     "data": {
      "application/vnd.jupyter.widget-view+json": {
       "model_id": "fe9e2bc4519240ac8b2d85d9bdf1c6e0",
       "version_major": 2,
       "version_minor": 0
      },
      "text/plain": [
       "  0%|          | 0/23 [00:00<?, ?it/s]"
      ]
     },
     "metadata": {},
     "output_type": "display_data"
    },
    {
     "data": {
      "application/vnd.jupyter.widget-view+json": {
       "model_id": "ddcdfc26094e44ff9ffebaa8b6a9c072",
       "version_major": 2,
       "version_minor": 0
      },
      "text/plain": [
       "  0%|          | 0/6 [00:00<?, ?it/s]"
      ]
     },
     "metadata": {},
     "output_type": "display_data"
    },
    {
     "name": "stdout",
     "output_type": "stream",
     "text": [
      "[[1222   61]\n",
      " [ 105   22]]\n",
      "              precision    recall  f1-score   support\n",
      "\n",
      "       0: 정상       0.92      0.95      0.94      1283\n",
      "       1: 이상       0.27      0.17      0.21       127\n",
      "\n",
      "    accuracy                           0.88      1410\n",
      "   macro avg       0.59      0.56      0.57      1410\n",
      "weighted avg       0.86      0.88      0.87      1410\n",
      "\n",
      "Epoch [15], Train Loss : [0.04117] Val Loss : [0.02930] Val F1 Score : [0.57296]\n"
     ]
    },
    {
     "data": {
      "application/vnd.jupyter.widget-view+json": {
       "model_id": "bd8364787d1c401c90f053b3547dd9c3",
       "version_major": 2,
       "version_minor": 0
      },
      "text/plain": [
       "  0%|          | 0/23 [00:00<?, ?it/s]"
      ]
     },
     "metadata": {},
     "output_type": "display_data"
    },
    {
     "data": {
      "application/vnd.jupyter.widget-view+json": {
       "model_id": "d92bd7efff4944cf91647ae9e89fb5f3",
       "version_major": 2,
       "version_minor": 0
      },
      "text/plain": [
       "  0%|          | 0/6 [00:00<?, ?it/s]"
      ]
     },
     "metadata": {},
     "output_type": "display_data"
    },
    {
     "name": "stdout",
     "output_type": "stream",
     "text": [
      "[[1192   91]\n",
      " [  94   33]]\n",
      "              precision    recall  f1-score   support\n",
      "\n",
      "       0: 정상       0.93      0.93      0.93      1283\n",
      "       1: 이상       0.27      0.26      0.26       127\n",
      "\n",
      "    accuracy                           0.87      1410\n",
      "   macro avg       0.60      0.59      0.60      1410\n",
      "weighted avg       0.87      0.87      0.87      1410\n",
      "\n",
      "Epoch [16], Train Loss : [0.04012] Val Loss : [0.02980] Val F1 Score : [0.59547]\n"
     ]
    },
    {
     "data": {
      "application/vnd.jupyter.widget-view+json": {
       "model_id": "d10ef354f2864bfeb48744dd86f5a357",
       "version_major": 2,
       "version_minor": 0
      },
      "text/plain": [
       "  0%|          | 0/23 [00:00<?, ?it/s]"
      ]
     },
     "metadata": {},
     "output_type": "display_data"
    },
    {
     "data": {
      "application/vnd.jupyter.widget-view+json": {
       "model_id": "bc0bc810fe7d47edaeaaa2b82724cad3",
       "version_major": 2,
       "version_minor": 0
      },
      "text/plain": [
       "  0%|          | 0/6 [00:00<?, ?it/s]"
      ]
     },
     "metadata": {},
     "output_type": "display_data"
    },
    {
     "name": "stdout",
     "output_type": "stream",
     "text": [
      "[[1206   77]\n",
      " [  97   30]]\n",
      "              precision    recall  f1-score   support\n",
      "\n",
      "       0: 정상       0.93      0.94      0.93      1283\n",
      "       1: 이상       0.28      0.24      0.26       127\n",
      "\n",
      "    accuracy                           0.88      1410\n",
      "   macro avg       0.60      0.59      0.59      1410\n",
      "weighted avg       0.87      0.88      0.87      1410\n",
      "\n",
      "Epoch [17], Train Loss : [0.04055] Val Loss : [0.02971] Val F1 Score : [0.59456]\n"
     ]
    },
    {
     "data": {
      "application/vnd.jupyter.widget-view+json": {
       "model_id": "1012f52f13df4a9bb3ff38587c82cfd8",
       "version_major": 2,
       "version_minor": 0
      },
      "text/plain": [
       "  0%|          | 0/23 [00:00<?, ?it/s]"
      ]
     },
     "metadata": {},
     "output_type": "display_data"
    },
    {
     "data": {
      "application/vnd.jupyter.widget-view+json": {
       "model_id": "ff681b19c29b47aeaa28081e49bd8e10",
       "version_major": 2,
       "version_minor": 0
      },
      "text/plain": [
       "  0%|          | 0/6 [00:00<?, ?it/s]"
      ]
     },
     "metadata": {},
     "output_type": "display_data"
    },
    {
     "name": "stdout",
     "output_type": "stream",
     "text": [
      "[[1222   61]\n",
      " [ 100   27]]\n",
      "              precision    recall  f1-score   support\n",
      "\n",
      "       0: 정상       0.92      0.95      0.94      1283\n",
      "       1: 이상       0.31      0.21      0.25       127\n",
      "\n",
      "    accuracy                           0.89      1410\n",
      "   macro avg       0.62      0.58      0.59      1410\n",
      "weighted avg       0.87      0.89      0.88      1410\n",
      "\n",
      "Epoch [18], Train Loss : [0.04132] Val Loss : [0.02997] Val F1 Score : [0.59468]\n",
      "Epoch 00019: reducing learning rate of group 0 to 3.1250e-04.\n"
     ]
    },
    {
     "data": {
      "application/vnd.jupyter.widget-view+json": {
       "model_id": "0563d2c3e4804b468dabf10a3602dd17",
       "version_major": 2,
       "version_minor": 0
      },
      "text/plain": [
       "  0%|          | 0/23 [00:00<?, ?it/s]"
      ]
     },
     "metadata": {},
     "output_type": "display_data"
    },
    {
     "data": {
      "application/vnd.jupyter.widget-view+json": {
       "model_id": "cb4b242c96684aa6862b354f8a2c260d",
       "version_major": 2,
       "version_minor": 0
      },
      "text/plain": [
       "  0%|          | 0/6 [00:00<?, ?it/s]"
      ]
     },
     "metadata": {},
     "output_type": "display_data"
    },
    {
     "name": "stdout",
     "output_type": "stream",
     "text": [
      "[[1222   61]\n",
      " [ 101   26]]\n",
      "              precision    recall  f1-score   support\n",
      "\n",
      "       0: 정상       0.92      0.95      0.94      1283\n",
      "       1: 이상       0.30      0.20      0.24       127\n",
      "\n",
      "    accuracy                           0.89      1410\n",
      "   macro avg       0.61      0.58      0.59      1410\n",
      "weighted avg       0.87      0.89      0.88      1410\n",
      "\n",
      "Epoch [19], Train Loss : [0.03995] Val Loss : [0.02996] Val F1 Score : [0.59041]\n"
     ]
    },
    {
     "data": {
      "application/vnd.jupyter.widget-view+json": {
       "model_id": "a4b409b3e51f4238802eebbdc80aa05a",
       "version_major": 2,
       "version_minor": 0
      },
      "text/plain": [
       "  0%|          | 0/23 [00:00<?, ?it/s]"
      ]
     },
     "metadata": {},
     "output_type": "display_data"
    },
    {
     "data": {
      "application/vnd.jupyter.widget-view+json": {
       "model_id": "281ceccdd240471dbe4716fea17d4f24",
       "version_major": 2,
       "version_minor": 0
      },
      "text/plain": [
       "  0%|          | 0/6 [00:00<?, ?it/s]"
      ]
     },
     "metadata": {},
     "output_type": "display_data"
    },
    {
     "name": "stdout",
     "output_type": "stream",
     "text": [
      "[[1225   58]\n",
      " [ 101   26]]\n",
      "              precision    recall  f1-score   support\n",
      "\n",
      "       0: 정상       0.92      0.95      0.94      1283\n",
      "       1: 이상       0.31      0.20      0.25       127\n",
      "\n",
      "    accuracy                           0.89      1410\n",
      "   macro avg       0.62      0.58      0.59      1410\n",
      "weighted avg       0.87      0.89      0.88      1410\n",
      "\n",
      "Epoch [20], Train Loss : [0.03997] Val Loss : [0.02964] Val F1 Score : [0.59275]\n",
      "Epoch 00021: reducing learning rate of group 0 to 1.5625e-04.\n"
     ]
    },
    {
     "data": {
      "application/vnd.jupyter.widget-view+json": {
       "model_id": "b908d54172a74519b5e4907accceff39",
       "version_major": 2,
       "version_minor": 0
      },
      "text/plain": [
       "  0%|          | 0/23 [00:00<?, ?it/s]"
      ]
     },
     "metadata": {},
     "output_type": "display_data"
    },
    {
     "data": {
      "application/vnd.jupyter.widget-view+json": {
       "model_id": "6226425cd6214269a7a1e43c88d72b3c",
       "version_major": 2,
       "version_minor": 0
      },
      "text/plain": [
       "  0%|          | 0/6 [00:00<?, ?it/s]"
      ]
     },
     "metadata": {},
     "output_type": "display_data"
    },
    {
     "name": "stdout",
     "output_type": "stream",
     "text": [
      "[[1220   63]\n",
      " [ 100   27]]\n",
      "              precision    recall  f1-score   support\n",
      "\n",
      "       0: 정상       0.92      0.95      0.94      1283\n",
      "       1: 이상       0.30      0.21      0.25       127\n",
      "\n",
      "    accuracy                           0.88      1410\n",
      "   macro avg       0.61      0.58      0.59      1410\n",
      "weighted avg       0.87      0.88      0.88      1410\n",
      "\n",
      "Epoch [21], Train Loss : [0.03914] Val Loss : [0.02977] Val F1 Score : [0.59311]\n"
     ]
    },
    {
     "data": {
      "application/vnd.jupyter.widget-view+json": {
       "model_id": "ecf2b2cea7dd4f71be41420ce9c8fb6b",
       "version_major": 2,
       "version_minor": 0
      },
      "text/plain": [
       "  0%|          | 0/23 [00:00<?, ?it/s]"
      ]
     },
     "metadata": {},
     "output_type": "display_data"
    },
    {
     "data": {
      "application/vnd.jupyter.widget-view+json": {
       "model_id": "982cfc50d6754205adfecdbb37041aba",
       "version_major": 2,
       "version_minor": 0
      },
      "text/plain": [
       "  0%|          | 0/6 [00:00<?, ?it/s]"
      ]
     },
     "metadata": {},
     "output_type": "display_data"
    },
    {
     "name": "stdout",
     "output_type": "stream",
     "text": [
      "[[1219   64]\n",
      " [ 103   24]]\n",
      "              precision    recall  f1-score   support\n",
      "\n",
      "       0: 정상       0.92      0.95      0.94      1283\n",
      "       1: 이상       0.27      0.19      0.22       127\n",
      "\n",
      "    accuracy                           0.88      1410\n",
      "   macro avg       0.60      0.57      0.58      1410\n",
      "weighted avg       0.86      0.88      0.87      1410\n",
      "\n",
      "Epoch [22], Train Loss : [0.03922] Val Loss : [0.02974] Val F1 Score : [0.57957]\n",
      "Epoch 00023: reducing learning rate of group 0 to 7.8125e-05.\n"
     ]
    },
    {
     "data": {
      "application/vnd.jupyter.widget-view+json": {
       "model_id": "ca41a5a7214241169b3e0208ac935645",
       "version_major": 2,
       "version_minor": 0
      },
      "text/plain": [
       "  0%|          | 0/23 [00:00<?, ?it/s]"
      ]
     },
     "metadata": {},
     "output_type": "display_data"
    },
    {
     "data": {
      "application/vnd.jupyter.widget-view+json": {
       "model_id": "1e4bc3b43b5049af868d82b1979135e1",
       "version_major": 2,
       "version_minor": 0
      },
      "text/plain": [
       "  0%|          | 0/6 [00:00<?, ?it/s]"
      ]
     },
     "metadata": {},
     "output_type": "display_data"
    },
    {
     "name": "stdout",
     "output_type": "stream",
     "text": [
      "[[1222   61]\n",
      " [ 102   25]]\n",
      "              precision    recall  f1-score   support\n",
      "\n",
      "       0: 정상       0.92      0.95      0.94      1283\n",
      "       1: 이상       0.29      0.20      0.23       127\n",
      "\n",
      "    accuracy                           0.88      1410\n",
      "   macro avg       0.61      0.57      0.59      1410\n",
      "weighted avg       0.87      0.88      0.87      1410\n",
      "\n",
      "Epoch [23], Train Loss : [0.03957] Val Loss : [0.02972] Val F1 Score : [0.58611]\n"
     ]
    },
    {
     "data": {
      "application/vnd.jupyter.widget-view+json": {
       "model_id": "aed3d12e4b8542a0b1696bd9e4419820",
       "version_major": 2,
       "version_minor": 0
      },
      "text/plain": [
       "  0%|          | 0/23 [00:00<?, ?it/s]"
      ]
     },
     "metadata": {},
     "output_type": "display_data"
    },
    {
     "data": {
      "application/vnd.jupyter.widget-view+json": {
       "model_id": "eced3c1fafd94784a2381354b8d31ac0",
       "version_major": 2,
       "version_minor": 0
      },
      "text/plain": [
       "  0%|          | 0/6 [00:00<?, ?it/s]"
      ]
     },
     "metadata": {},
     "output_type": "display_data"
    },
    {
     "name": "stdout",
     "output_type": "stream",
     "text": [
      "[[1228   55]\n",
      " [ 102   25]]\n",
      "              precision    recall  f1-score   support\n",
      "\n",
      "       0: 정상       0.92      0.96      0.94      1283\n",
      "       1: 이상       0.31      0.20      0.24       127\n",
      "\n",
      "    accuracy                           0.89      1410\n",
      "   macro avg       0.62      0.58      0.59      1410\n",
      "weighted avg       0.87      0.89      0.88      1410\n",
      "\n",
      "Epoch [24], Train Loss : [0.03855] Val Loss : [0.02958] Val F1 Score : [0.59073]\n",
      "Epoch 00025: reducing learning rate of group 0 to 3.9063e-05.\n"
     ]
    },
    {
     "data": {
      "application/vnd.jupyter.widget-view+json": {
       "model_id": "f42d2d8e74324528977f951117e3e1a0",
       "version_major": 2,
       "version_minor": 0
      },
      "text/plain": [
       "  0%|          | 0/23 [00:00<?, ?it/s]"
      ]
     },
     "metadata": {},
     "output_type": "display_data"
    },
    {
     "data": {
      "application/vnd.jupyter.widget-view+json": {
       "model_id": "030e4b5b147e44ed9fa093a1ca2cbb98",
       "version_major": 2,
       "version_minor": 0
      },
      "text/plain": [
       "  0%|          | 0/6 [00:00<?, ?it/s]"
      ]
     },
     "metadata": {},
     "output_type": "display_data"
    },
    {
     "name": "stdout",
     "output_type": "stream",
     "text": [
      "[[1227   56]\n",
      " [ 102   25]]\n",
      "              precision    recall  f1-score   support\n",
      "\n",
      "       0: 정상       0.92      0.96      0.94      1283\n",
      "       1: 이상       0.31      0.20      0.24       127\n",
      "\n",
      "    accuracy                           0.89      1410\n",
      "   macro avg       0.62      0.58      0.59      1410\n",
      "weighted avg       0.87      0.89      0.88      1410\n",
      "\n",
      "Epoch [25], Train Loss : [0.03926] Val Loss : [0.02953] Val F1 Score : [0.58995]\n"
     ]
    },
    {
     "data": {
      "application/vnd.jupyter.widget-view+json": {
       "model_id": "3b2ef835332340e8922f0c41f3497c33",
       "version_major": 2,
       "version_minor": 0
      },
      "text/plain": [
       "  0%|          | 0/23 [00:00<?, ?it/s]"
      ]
     },
     "metadata": {},
     "output_type": "display_data"
    },
    {
     "data": {
      "application/vnd.jupyter.widget-view+json": {
       "model_id": "fb930edeaf4c4264bbac047dd62b6b6d",
       "version_major": 2,
       "version_minor": 0
      },
      "text/plain": [
       "  0%|          | 0/6 [00:00<?, ?it/s]"
      ]
     },
     "metadata": {},
     "output_type": "display_data"
    },
    {
     "name": "stdout",
     "output_type": "stream",
     "text": [
      "[[1220   63]\n",
      " [ 101   26]]\n",
      "              precision    recall  f1-score   support\n",
      "\n",
      "       0: 정상       0.92      0.95      0.94      1283\n",
      "       1: 이상       0.29      0.20      0.24       127\n",
      "\n",
      "    accuracy                           0.88      1410\n",
      "   macro avg       0.61      0.58      0.59      1410\n",
      "weighted avg       0.87      0.88      0.87      1410\n",
      "\n",
      "Epoch [26], Train Loss : [0.04158] Val Loss : [0.02967] Val F1 Score : [0.58888]\n",
      "Epoch 00027: reducing learning rate of group 0 to 1.9531e-05.\n"
     ]
    },
    {
     "data": {
      "application/vnd.jupyter.widget-view+json": {
       "model_id": "baa232abf97341b1b8a4d0ee75ca46c4",
       "version_major": 2,
       "version_minor": 0
      },
      "text/plain": [
       "  0%|          | 0/23 [00:00<?, ?it/s]"
      ]
     },
     "metadata": {},
     "output_type": "display_data"
    },
    {
     "data": {
      "application/vnd.jupyter.widget-view+json": {
       "model_id": "2962a7457a914d54b92dcd211ea9ecdc",
       "version_major": 2,
       "version_minor": 0
      },
      "text/plain": [
       "  0%|          | 0/6 [00:00<?, ?it/s]"
      ]
     },
     "metadata": {},
     "output_type": "display_data"
    },
    {
     "name": "stdout",
     "output_type": "stream",
     "text": [
      "[[1214   69]\n",
      " [  98   29]]\n",
      "              precision    recall  f1-score   support\n",
      "\n",
      "       0: 정상       0.93      0.95      0.94      1283\n",
      "       1: 이상       0.30      0.23      0.26       127\n",
      "\n",
      "    accuracy                           0.88      1410\n",
      "   macro avg       0.61      0.59      0.60      1410\n",
      "weighted avg       0.87      0.88      0.87      1410\n",
      "\n",
      "Epoch [27], Train Loss : [0.03897] Val Loss : [0.02970] Val F1 Score : [0.59671]\n"
     ]
    },
    {
     "data": {
      "application/vnd.jupyter.widget-view+json": {
       "model_id": "ac577aee5097438baad85cfe9423a99f",
       "version_major": 2,
       "version_minor": 0
      },
      "text/plain": [
       "  0%|          | 0/23 [00:00<?, ?it/s]"
      ]
     },
     "metadata": {},
     "output_type": "display_data"
    },
    {
     "data": {
      "application/vnd.jupyter.widget-view+json": {
       "model_id": "0e3daaef8fc748c3ba1d5760887d002c",
       "version_major": 2,
       "version_minor": 0
      },
      "text/plain": [
       "  0%|          | 0/6 [00:00<?, ?it/s]"
      ]
     },
     "metadata": {},
     "output_type": "display_data"
    },
    {
     "name": "stdout",
     "output_type": "stream",
     "text": [
      "[[1226   57]\n",
      " [ 102   25]]\n",
      "              precision    recall  f1-score   support\n",
      "\n",
      "       0: 정상       0.92      0.96      0.94      1283\n",
      "       1: 이상       0.30      0.20      0.24       127\n",
      "\n",
      "    accuracy                           0.89      1410\n",
      "   macro avg       0.61      0.58      0.59      1410\n",
      "weighted avg       0.87      0.89      0.88      1410\n",
      "\n",
      "Epoch [28], Train Loss : [0.03964] Val Loss : [0.02961] Val F1 Score : [0.58917]\n"
     ]
    },
    {
     "data": {
      "application/vnd.jupyter.widget-view+json": {
       "model_id": "e39ba042e333451089e40a2067e9ab01",
       "version_major": 2,
       "version_minor": 0
      },
      "text/plain": [
       "  0%|          | 0/23 [00:00<?, ?it/s]"
      ]
     },
     "metadata": {},
     "output_type": "display_data"
    },
    {
     "data": {
      "application/vnd.jupyter.widget-view+json": {
       "model_id": "009a312b6f7543c7a4404fd929eba1d9",
       "version_major": 2,
       "version_minor": 0
      },
      "text/plain": [
       "  0%|          | 0/6 [00:00<?, ?it/s]"
      ]
     },
     "metadata": {},
     "output_type": "display_data"
    },
    {
     "name": "stdout",
     "output_type": "stream",
     "text": [
      "[[1230   53]\n",
      " [ 102   25]]\n",
      "              precision    recall  f1-score   support\n",
      "\n",
      "       0: 정상       0.92      0.96      0.94      1283\n",
      "       1: 이상       0.32      0.20      0.24       127\n",
      "\n",
      "    accuracy                           0.89      1410\n",
      "   macro avg       0.62      0.58      0.59      1410\n",
      "weighted avg       0.87      0.89      0.88      1410\n",
      "\n",
      "Epoch [29], Train Loss : [0.04026] Val Loss : [0.02969] Val F1 Score : [0.59231]\n",
      "Epoch 00030: reducing learning rate of group 0 to 9.7656e-06.\n",
      "Student Train Best Score는 0.5967116249197174 입니다.\n",
      "부분학습 종료\n",
      "----------------------------------------------------------------------\n"
     ]
    },
    {
     "data": {
      "application/vnd.jupyter.widget-view+json": {
       "model_id": "2bb4e5ceeeb144058ccd9bb9b720a1c8",
       "version_major": 2,
       "version_minor": 0
      },
      "text/plain": [
       "  0%|          | 0/3 [00:00<?, ?it/s]"
      ]
     },
     "metadata": {},
     "output_type": "display_data"
    },
    {
     "data": {
      "application/vnd.jupyter.widget-view+json": {
       "model_id": "883483d531384296a913746290645209",
       "version_major": 2,
       "version_minor": 0
      },
      "text/plain": [
       "  0%|          | 0/1 [00:00<?, ?it/s]"
      ]
     },
     "metadata": {},
     "output_type": "display_data"
    },
    {
     "name": "stdout",
     "output_type": "stream",
     "text": [
      "[[158   0]\n",
      " [ 10   0]]\n",
      "              precision    recall  f1-score   support\n",
      "\n",
      "       0: 정상       0.94      1.00      0.97       158\n",
      "       1: 이상       0.00      0.00      0.00        10\n",
      "\n",
      "    accuracy                           0.94       168\n",
      "   macro avg       0.47      0.50      0.48       168\n",
      "weighted avg       0.88      0.94      0.91       168\n",
      "\n",
      "Epoch [0], Train Loss : [0.04318] Val Loss : [0.03232] Val F1 Score : [0.48466]\n"
     ]
    },
    {
     "data": {
      "application/vnd.jupyter.widget-view+json": {
       "model_id": "159cde1d9ff847f8b9ca85b99dc091e2",
       "version_major": 2,
       "version_minor": 0
      },
      "text/plain": [
       "  0%|          | 0/3 [00:00<?, ?it/s]"
      ]
     },
     "metadata": {},
     "output_type": "display_data"
    },
    {
     "data": {
      "application/vnd.jupyter.widget-view+json": {
       "model_id": "ac3e2a68b40b461baf794293ffd57872",
       "version_major": 2,
       "version_minor": 0
      },
      "text/plain": [
       "  0%|          | 0/1 [00:00<?, ?it/s]"
      ]
     },
     "metadata": {},
     "output_type": "display_data"
    },
    {
     "name": "stdout",
     "output_type": "stream",
     "text": [
      "[[158   0]\n",
      " [ 10   0]]\n",
      "              precision    recall  f1-score   support\n",
      "\n",
      "       0: 정상       0.94      1.00      0.97       158\n",
      "       1: 이상       0.00      0.00      0.00        10\n",
      "\n",
      "    accuracy                           0.94       168\n",
      "   macro avg       0.47      0.50      0.48       168\n",
      "weighted avg       0.88      0.94      0.91       168\n",
      "\n",
      "Epoch [1], Train Loss : [0.05611] Val Loss : [0.03466] Val F1 Score : [0.48466]\n"
     ]
    },
    {
     "data": {
      "application/vnd.jupyter.widget-view+json": {
       "model_id": "12c4abefee4f4b8ba7dd245c80d6ae37",
       "version_major": 2,
       "version_minor": 0
      },
      "text/plain": [
       "  0%|          | 0/3 [00:00<?, ?it/s]"
      ]
     },
     "metadata": {},
     "output_type": "display_data"
    },
    {
     "data": {
      "application/vnd.jupyter.widget-view+json": {
       "model_id": "4cfe7510ffb34745b0b465265ae90cae",
       "version_major": 2,
       "version_minor": 0
      },
      "text/plain": [
       "  0%|          | 0/1 [00:00<?, ?it/s]"
      ]
     },
     "metadata": {},
     "output_type": "display_data"
    },
    {
     "name": "stdout",
     "output_type": "stream",
     "text": [
      "[[158   0]\n",
      " [ 10   0]]\n",
      "              precision    recall  f1-score   support\n",
      "\n",
      "       0: 정상       0.94      1.00      0.97       158\n",
      "       1: 이상       0.00      0.00      0.00        10\n",
      "\n",
      "    accuracy                           0.94       168\n",
      "   macro avg       0.47      0.50      0.48       168\n",
      "weighted avg       0.88      0.94      0.91       168\n",
      "\n",
      "Epoch [2], Train Loss : [0.04216] Val Loss : [0.02439] Val F1 Score : [0.48466]\n",
      "Epoch 00003: reducing learning rate of group 0 to 1.5000e-02.\n"
     ]
    },
    {
     "data": {
      "application/vnd.jupyter.widget-view+json": {
       "model_id": "69516cc687994cc1979cfb1c64e41b41",
       "version_major": 2,
       "version_minor": 0
      },
      "text/plain": [
       "  0%|          | 0/3 [00:00<?, ?it/s]"
      ]
     },
     "metadata": {},
     "output_type": "display_data"
    },
    {
     "data": {
      "application/vnd.jupyter.widget-view+json": {
       "model_id": "725d6b4788824b7a87ea9cb40df791ed",
       "version_major": 2,
       "version_minor": 0
      },
      "text/plain": [
       "  0%|          | 0/1 [00:00<?, ?it/s]"
      ]
     },
     "metadata": {},
     "output_type": "display_data"
    },
    {
     "name": "stdout",
     "output_type": "stream",
     "text": [
      "[[154   4]\n",
      " [ 10   0]]\n",
      "              precision    recall  f1-score   support\n",
      "\n",
      "       0: 정상       0.94      0.97      0.96       158\n",
      "       1: 이상       0.00      0.00      0.00        10\n",
      "\n",
      "    accuracy                           0.92       168\n",
      "   macro avg       0.47      0.49      0.48       168\n",
      "weighted avg       0.88      0.92      0.90       168\n",
      "\n",
      "Epoch [3], Train Loss : [0.04074] Val Loss : [0.02126] Val F1 Score : [0.47826]\n"
     ]
    },
    {
     "data": {
      "application/vnd.jupyter.widget-view+json": {
       "model_id": "054f020104f14a118bec8d04148fc53d",
       "version_major": 2,
       "version_minor": 0
      },
      "text/plain": [
       "  0%|          | 0/3 [00:00<?, ?it/s]"
      ]
     },
     "metadata": {},
     "output_type": "display_data"
    },
    {
     "data": {
      "application/vnd.jupyter.widget-view+json": {
       "model_id": "ed6cb5511b264334b67896ce03a08cb4",
       "version_major": 2,
       "version_minor": 0
      },
      "text/plain": [
       "  0%|          | 0/1 [00:00<?, ?it/s]"
      ]
     },
     "metadata": {},
     "output_type": "display_data"
    },
    {
     "name": "stdout",
     "output_type": "stream",
     "text": [
      "[[148  10]\n",
      " [  9   1]]\n",
      "              precision    recall  f1-score   support\n",
      "\n",
      "       0: 정상       0.94      0.94      0.94       158\n",
      "       1: 이상       0.09      0.10      0.10        10\n",
      "\n",
      "    accuracy                           0.89       168\n",
      "   macro avg       0.52      0.52      0.52       168\n",
      "weighted avg       0.89      0.89      0.89       168\n",
      "\n",
      "Epoch [4], Train Loss : [0.03449] Val Loss : [0.02160] Val F1 Score : [0.51746]\n"
     ]
    },
    {
     "data": {
      "application/vnd.jupyter.widget-view+json": {
       "model_id": "771f6a25a91e4aec9cfda8cf50406d29",
       "version_major": 2,
       "version_minor": 0
      },
      "text/plain": [
       "  0%|          | 0/3 [00:00<?, ?it/s]"
      ]
     },
     "metadata": {},
     "output_type": "display_data"
    },
    {
     "data": {
      "application/vnd.jupyter.widget-view+json": {
       "model_id": "fd8761552c5543f5bd2bafdde020c33e",
       "version_major": 2,
       "version_minor": 0
      },
      "text/plain": [
       "  0%|          | 0/1 [00:00<?, ?it/s]"
      ]
     },
     "metadata": {},
     "output_type": "display_data"
    },
    {
     "name": "stdout",
     "output_type": "stream",
     "text": [
      "[[146  12]\n",
      " [  9   1]]\n",
      "              precision    recall  f1-score   support\n",
      "\n",
      "       0: 정상       0.94      0.92      0.93       158\n",
      "       1: 이상       0.08      0.10      0.09        10\n",
      "\n",
      "    accuracy                           0.88       168\n",
      "   macro avg       0.51      0.51      0.51       168\n",
      "weighted avg       0.89      0.88      0.88       168\n",
      "\n",
      "Epoch [5], Train Loss : [0.03339] Val Loss : [0.02222] Val F1 Score : [0.50993]\n"
     ]
    },
    {
     "data": {
      "application/vnd.jupyter.widget-view+json": {
       "model_id": "9dbe0f0760244bf8956422658b254b44",
       "version_major": 2,
       "version_minor": 0
      },
      "text/plain": [
       "  0%|          | 0/3 [00:00<?, ?it/s]"
      ]
     },
     "metadata": {},
     "output_type": "display_data"
    },
    {
     "data": {
      "application/vnd.jupyter.widget-view+json": {
       "model_id": "38ceeeca75e14a05ac89654985d4f60e",
       "version_major": 2,
       "version_minor": 0
      },
      "text/plain": [
       "  0%|          | 0/1 [00:00<?, ?it/s]"
      ]
     },
     "metadata": {},
     "output_type": "display_data"
    },
    {
     "name": "stdout",
     "output_type": "stream",
     "text": [
      "[[147  11]\n",
      " [ 10   0]]\n",
      "              precision    recall  f1-score   support\n",
      "\n",
      "       0: 정상       0.94      0.93      0.93       158\n",
      "       1: 이상       0.00      0.00      0.00        10\n",
      "\n",
      "    accuracy                           0.88       168\n",
      "   macro avg       0.47      0.47      0.47       168\n",
      "weighted avg       0.88      0.88      0.88       168\n",
      "\n",
      "Epoch [6], Train Loss : [0.03546] Val Loss : [0.02225] Val F1 Score : [0.46667]\n",
      "Epoch 00007: reducing learning rate of group 0 to 7.5000e-03.\n"
     ]
    },
    {
     "data": {
      "application/vnd.jupyter.widget-view+json": {
       "model_id": "dd5ea12f4f3e42669cd62ac7f483be04",
       "version_major": 2,
       "version_minor": 0
      },
      "text/plain": [
       "  0%|          | 0/3 [00:00<?, ?it/s]"
      ]
     },
     "metadata": {},
     "output_type": "display_data"
    },
    {
     "data": {
      "application/vnd.jupyter.widget-view+json": {
       "model_id": "e2443bc9a54e47c7a93e3b4151ff8b0f",
       "version_major": 2,
       "version_minor": 0
      },
      "text/plain": [
       "  0%|          | 0/1 [00:00<?, ?it/s]"
      ]
     },
     "metadata": {},
     "output_type": "display_data"
    },
    {
     "name": "stdout",
     "output_type": "stream",
     "text": [
      "[[144  14]\n",
      " [ 10   0]]\n",
      "              precision    recall  f1-score   support\n",
      "\n",
      "       0: 정상       0.94      0.91      0.92       158\n",
      "       1: 이상       0.00      0.00      0.00        10\n",
      "\n",
      "    accuracy                           0.86       168\n",
      "   macro avg       0.47      0.46      0.46       168\n",
      "weighted avg       0.88      0.86      0.87       168\n",
      "\n",
      "Epoch [7], Train Loss : [0.03202] Val Loss : [0.02230] Val F1 Score : [0.46154]\n"
     ]
    },
    {
     "data": {
      "application/vnd.jupyter.widget-view+json": {
       "model_id": "06a64b3dbc1643e882933a73aaeaee8b",
       "version_major": 2,
       "version_minor": 0
      },
      "text/plain": [
       "  0%|          | 0/3 [00:00<?, ?it/s]"
      ]
     },
     "metadata": {},
     "output_type": "display_data"
    },
    {
     "data": {
      "application/vnd.jupyter.widget-view+json": {
       "model_id": "f6adfcf923e8403ebedfc7eb2456f08d",
       "version_major": 2,
       "version_minor": 0
      },
      "text/plain": [
       "  0%|          | 0/1 [00:00<?, ?it/s]"
      ]
     },
     "metadata": {},
     "output_type": "display_data"
    },
    {
     "name": "stdout",
     "output_type": "stream",
     "text": [
      "[[146  12]\n",
      " [ 10   0]]\n",
      "              precision    recall  f1-score   support\n",
      "\n",
      "       0: 정상       0.94      0.92      0.93       158\n",
      "       1: 이상       0.00      0.00      0.00        10\n",
      "\n",
      "    accuracy                           0.87       168\n",
      "   macro avg       0.47      0.46      0.46       168\n",
      "weighted avg       0.88      0.87      0.87       168\n",
      "\n",
      "Epoch [8], Train Loss : [0.03372] Val Loss : [0.02208] Val F1 Score : [0.46497]\n",
      "Epoch 00009: reducing learning rate of group 0 to 3.7500e-03.\n"
     ]
    },
    {
     "data": {
      "application/vnd.jupyter.widget-view+json": {
       "model_id": "b9635db1fac14dd8b35040d0fbf00744",
       "version_major": 2,
       "version_minor": 0
      },
      "text/plain": [
       "  0%|          | 0/3 [00:00<?, ?it/s]"
      ]
     },
     "metadata": {},
     "output_type": "display_data"
    },
    {
     "data": {
      "application/vnd.jupyter.widget-view+json": {
       "model_id": "01bbeaccbf264d7ea8d4177ffa2c6753",
       "version_major": 2,
       "version_minor": 0
      },
      "text/plain": [
       "  0%|          | 0/1 [00:00<?, ?it/s]"
      ]
     },
     "metadata": {},
     "output_type": "display_data"
    },
    {
     "name": "stdout",
     "output_type": "stream",
     "text": [
      "[[151   7]\n",
      " [ 10   0]]\n",
      "              precision    recall  f1-score   support\n",
      "\n",
      "       0: 정상       0.94      0.96      0.95       158\n",
      "       1: 이상       0.00      0.00      0.00        10\n",
      "\n",
      "    accuracy                           0.90       168\n",
      "   macro avg       0.47      0.48      0.47       168\n",
      "weighted avg       0.88      0.90      0.89       168\n",
      "\n",
      "Epoch [9], Train Loss : [0.03092] Val Loss : [0.02174] Val F1 Score : [0.47335]\n"
     ]
    },
    {
     "data": {
      "application/vnd.jupyter.widget-view+json": {
       "model_id": "2f0015c69cd34a349ef2d21ab70b4c9d",
       "version_major": 2,
       "version_minor": 0
      },
      "text/plain": [
       "  0%|          | 0/3 [00:00<?, ?it/s]"
      ]
     },
     "metadata": {},
     "output_type": "display_data"
    },
    {
     "data": {
      "application/vnd.jupyter.widget-view+json": {
       "model_id": "1e0477c889594b5a98664b32b5c1fe3e",
       "version_major": 2,
       "version_minor": 0
      },
      "text/plain": [
       "  0%|          | 0/1 [00:00<?, ?it/s]"
      ]
     },
     "metadata": {},
     "output_type": "display_data"
    },
    {
     "name": "stdout",
     "output_type": "stream",
     "text": [
      "[[151   7]\n",
      " [ 10   0]]\n",
      "              precision    recall  f1-score   support\n",
      "\n",
      "       0: 정상       0.94      0.96      0.95       158\n",
      "       1: 이상       0.00      0.00      0.00        10\n",
      "\n",
      "    accuracy                           0.90       168\n",
      "   macro avg       0.47      0.48      0.47       168\n",
      "weighted avg       0.88      0.90      0.89       168\n",
      "\n",
      "Epoch [10], Train Loss : [0.03155] Val Loss : [0.02137] Val F1 Score : [0.47335]\n",
      "Epoch 00011: reducing learning rate of group 0 to 1.8750e-03.\n"
     ]
    },
    {
     "data": {
      "application/vnd.jupyter.widget-view+json": {
       "model_id": "731f47a974244db1b4c79bedb32414bf",
       "version_major": 2,
       "version_minor": 0
      },
      "text/plain": [
       "  0%|          | 0/3 [00:00<?, ?it/s]"
      ]
     },
     "metadata": {},
     "output_type": "display_data"
    },
    {
     "data": {
      "application/vnd.jupyter.widget-view+json": {
       "model_id": "7b2d3cfdb14d4fe7b6a594b615e13198",
       "version_major": 2,
       "version_minor": 0
      },
      "text/plain": [
       "  0%|          | 0/1 [00:00<?, ?it/s]"
      ]
     },
     "metadata": {},
     "output_type": "display_data"
    },
    {
     "name": "stdout",
     "output_type": "stream",
     "text": [
      "[[152   6]\n",
      " [ 10   0]]\n",
      "              precision    recall  f1-score   support\n",
      "\n",
      "       0: 정상       0.94      0.96      0.95       158\n",
      "       1: 이상       0.00      0.00      0.00        10\n",
      "\n",
      "    accuracy                           0.90       168\n",
      "   macro avg       0.47      0.48      0.47       168\n",
      "weighted avg       0.88      0.90      0.89       168\n",
      "\n",
      "Epoch [11], Train Loss : [0.03361] Val Loss : [0.02111] Val F1 Score : [0.47500]\n"
     ]
    },
    {
     "data": {
      "application/vnd.jupyter.widget-view+json": {
       "model_id": "ea14ec304ce7494f93a17d21582a88c1",
       "version_major": 2,
       "version_minor": 0
      },
      "text/plain": [
       "  0%|          | 0/3 [00:00<?, ?it/s]"
      ]
     },
     "metadata": {},
     "output_type": "display_data"
    },
    {
     "data": {
      "application/vnd.jupyter.widget-view+json": {
       "model_id": "b6d1a6723ec645b0909a54a47f970821",
       "version_major": 2,
       "version_minor": 0
      },
      "text/plain": [
       "  0%|          | 0/1 [00:00<?, ?it/s]"
      ]
     },
     "metadata": {},
     "output_type": "display_data"
    },
    {
     "name": "stdout",
     "output_type": "stream",
     "text": [
      "[[152   6]\n",
      " [ 10   0]]\n",
      "              precision    recall  f1-score   support\n",
      "\n",
      "       0: 정상       0.94      0.96      0.95       158\n",
      "       1: 이상       0.00      0.00      0.00        10\n",
      "\n",
      "    accuracy                           0.90       168\n",
      "   macro avg       0.47      0.48      0.47       168\n",
      "weighted avg       0.88      0.90      0.89       168\n",
      "\n",
      "Epoch [12], Train Loss : [0.03140] Val Loss : [0.02090] Val F1 Score : [0.47500]\n",
      "Epoch 00013: reducing learning rate of group 0 to 9.3750e-04.\n"
     ]
    },
    {
     "data": {
      "application/vnd.jupyter.widget-view+json": {
       "model_id": "b9b7a2e2f22349bbad7e2c8cfb801123",
       "version_major": 2,
       "version_minor": 0
      },
      "text/plain": [
       "  0%|          | 0/3 [00:00<?, ?it/s]"
      ]
     },
     "metadata": {},
     "output_type": "display_data"
    },
    {
     "data": {
      "application/vnd.jupyter.widget-view+json": {
       "model_id": "b460e0804ba449b5a0b4c749cfc40860",
       "version_major": 2,
       "version_minor": 0
      },
      "text/plain": [
       "  0%|          | 0/1 [00:00<?, ?it/s]"
      ]
     },
     "metadata": {},
     "output_type": "display_data"
    },
    {
     "name": "stdout",
     "output_type": "stream",
     "text": [
      "[[152   6]\n",
      " [ 10   0]]\n",
      "              precision    recall  f1-score   support\n",
      "\n",
      "       0: 정상       0.94      0.96      0.95       158\n",
      "       1: 이상       0.00      0.00      0.00        10\n",
      "\n",
      "    accuracy                           0.90       168\n",
      "   macro avg       0.47      0.48      0.47       168\n",
      "weighted avg       0.88      0.90      0.89       168\n",
      "\n",
      "Epoch [13], Train Loss : [0.03458] Val Loss : [0.02078] Val F1 Score : [0.47500]\n"
     ]
    },
    {
     "data": {
      "application/vnd.jupyter.widget-view+json": {
       "model_id": "12a80df8871643969b476ca7db15c027",
       "version_major": 2,
       "version_minor": 0
      },
      "text/plain": [
       "  0%|          | 0/3 [00:00<?, ?it/s]"
      ]
     },
     "metadata": {},
     "output_type": "display_data"
    },
    {
     "data": {
      "application/vnd.jupyter.widget-view+json": {
       "model_id": "48ca31806f184fd596b522f863ec7b2e",
       "version_major": 2,
       "version_minor": 0
      },
      "text/plain": [
       "  0%|          | 0/1 [00:00<?, ?it/s]"
      ]
     },
     "metadata": {},
     "output_type": "display_data"
    },
    {
     "name": "stdout",
     "output_type": "stream",
     "text": [
      "[[152   6]\n",
      " [ 10   0]]\n",
      "              precision    recall  f1-score   support\n",
      "\n",
      "       0: 정상       0.94      0.96      0.95       158\n",
      "       1: 이상       0.00      0.00      0.00        10\n",
      "\n",
      "    accuracy                           0.90       168\n",
      "   macro avg       0.47      0.48      0.47       168\n",
      "weighted avg       0.88      0.90      0.89       168\n",
      "\n",
      "Epoch [14], Train Loss : [0.03378] Val Loss : [0.02068] Val F1 Score : [0.47500]\n",
      "Epoch 00015: reducing learning rate of group 0 to 4.6875e-04.\n"
     ]
    },
    {
     "data": {
      "application/vnd.jupyter.widget-view+json": {
       "model_id": "1b574967e9754c9cadac9d4533800f3c",
       "version_major": 2,
       "version_minor": 0
      },
      "text/plain": [
       "  0%|          | 0/3 [00:00<?, ?it/s]"
      ]
     },
     "metadata": {},
     "output_type": "display_data"
    },
    {
     "data": {
      "application/vnd.jupyter.widget-view+json": {
       "model_id": "49fe93705ced4b7aac3253fe447f20cd",
       "version_major": 2,
       "version_minor": 0
      },
      "text/plain": [
       "  0%|          | 0/1 [00:00<?, ?it/s]"
      ]
     },
     "metadata": {},
     "output_type": "display_data"
    },
    {
     "name": "stdout",
     "output_type": "stream",
     "text": [
      "[[152   6]\n",
      " [ 10   0]]\n",
      "              precision    recall  f1-score   support\n",
      "\n",
      "       0: 정상       0.94      0.96      0.95       158\n",
      "       1: 이상       0.00      0.00      0.00        10\n",
      "\n",
      "    accuracy                           0.90       168\n",
      "   macro avg       0.47      0.48      0.47       168\n",
      "weighted avg       0.88      0.90      0.89       168\n",
      "\n",
      "Epoch [15], Train Loss : [0.03294] Val Loss : [0.02062] Val F1 Score : [0.47500]\n"
     ]
    },
    {
     "data": {
      "application/vnd.jupyter.widget-view+json": {
       "model_id": "40adcb760e40406d8534263a64cd90d5",
       "version_major": 2,
       "version_minor": 0
      },
      "text/plain": [
       "  0%|          | 0/3 [00:00<?, ?it/s]"
      ]
     },
     "metadata": {},
     "output_type": "display_data"
    },
    {
     "data": {
      "application/vnd.jupyter.widget-view+json": {
       "model_id": "acf8b4e6cfd84a7396bff8ce25584965",
       "version_major": 2,
       "version_minor": 0
      },
      "text/plain": [
       "  0%|          | 0/1 [00:00<?, ?it/s]"
      ]
     },
     "metadata": {},
     "output_type": "display_data"
    },
    {
     "name": "stdout",
     "output_type": "stream",
     "text": [
      "[[152   6]\n",
      " [ 10   0]]\n",
      "              precision    recall  f1-score   support\n",
      "\n",
      "       0: 정상       0.94      0.96      0.95       158\n",
      "       1: 이상       0.00      0.00      0.00        10\n",
      "\n",
      "    accuracy                           0.90       168\n",
      "   macro avg       0.47      0.48      0.47       168\n",
      "weighted avg       0.88      0.90      0.89       168\n",
      "\n",
      "Epoch [16], Train Loss : [0.03480] Val Loss : [0.02061] Val F1 Score : [0.47500]\n",
      "Epoch 00017: reducing learning rate of group 0 to 2.3437e-04.\n"
     ]
    },
    {
     "data": {
      "application/vnd.jupyter.widget-view+json": {
       "model_id": "92a688c16b834d1dae8a8fcd0311ae28",
       "version_major": 2,
       "version_minor": 0
      },
      "text/plain": [
       "  0%|          | 0/3 [00:00<?, ?it/s]"
      ]
     },
     "metadata": {},
     "output_type": "display_data"
    },
    {
     "data": {
      "application/vnd.jupyter.widget-view+json": {
       "model_id": "848129cebf004ba3824f419b7b5ad9ec",
       "version_major": 2,
       "version_minor": 0
      },
      "text/plain": [
       "  0%|          | 0/1 [00:00<?, ?it/s]"
      ]
     },
     "metadata": {},
     "output_type": "display_data"
    },
    {
     "name": "stdout",
     "output_type": "stream",
     "text": [
      "[[152   6]\n",
      " [ 10   0]]\n",
      "              precision    recall  f1-score   support\n",
      "\n",
      "       0: 정상       0.94      0.96      0.95       158\n",
      "       1: 이상       0.00      0.00      0.00        10\n",
      "\n",
      "    accuracy                           0.90       168\n",
      "   macro avg       0.47      0.48      0.47       168\n",
      "weighted avg       0.88      0.90      0.89       168\n",
      "\n",
      "Epoch [17], Train Loss : [0.03334] Val Loss : [0.02055] Val F1 Score : [0.47500]\n"
     ]
    },
    {
     "data": {
      "application/vnd.jupyter.widget-view+json": {
       "model_id": "5eb07a2c42de489e9e3297e917f83bf4",
       "version_major": 2,
       "version_minor": 0
      },
      "text/plain": [
       "  0%|          | 0/3 [00:00<?, ?it/s]"
      ]
     },
     "metadata": {},
     "output_type": "display_data"
    },
    {
     "data": {
      "application/vnd.jupyter.widget-view+json": {
       "model_id": "895ddfb562884126bd3974834ee2b0b2",
       "version_major": 2,
       "version_minor": 0
      },
      "text/plain": [
       "  0%|          | 0/1 [00:00<?, ?it/s]"
      ]
     },
     "metadata": {},
     "output_type": "display_data"
    },
    {
     "name": "stdout",
     "output_type": "stream",
     "text": [
      "[[152   6]\n",
      " [ 10   0]]\n",
      "              precision    recall  f1-score   support\n",
      "\n",
      "       0: 정상       0.94      0.96      0.95       158\n",
      "       1: 이상       0.00      0.00      0.00        10\n",
      "\n",
      "    accuracy                           0.90       168\n",
      "   macro avg       0.47      0.48      0.47       168\n",
      "weighted avg       0.88      0.90      0.89       168\n",
      "\n",
      "Epoch [18], Train Loss : [0.03357] Val Loss : [0.02054] Val F1 Score : [0.47500]\n",
      "Epoch 00019: reducing learning rate of group 0 to 1.1719e-04.\n"
     ]
    },
    {
     "data": {
      "application/vnd.jupyter.widget-view+json": {
       "model_id": "b54a05ac15504ae6a4193b1554f1cbd1",
       "version_major": 2,
       "version_minor": 0
      },
      "text/plain": [
       "  0%|          | 0/3 [00:00<?, ?it/s]"
      ]
     },
     "metadata": {},
     "output_type": "display_data"
    },
    {
     "data": {
      "application/vnd.jupyter.widget-view+json": {
       "model_id": "084e84f332d046aeb929c904eb82bf80",
       "version_major": 2,
       "version_minor": 0
      },
      "text/plain": [
       "  0%|          | 0/1 [00:00<?, ?it/s]"
      ]
     },
     "metadata": {},
     "output_type": "display_data"
    },
    {
     "name": "stdout",
     "output_type": "stream",
     "text": [
      "[[152   6]\n",
      " [ 10   0]]\n",
      "              precision    recall  f1-score   support\n",
      "\n",
      "       0: 정상       0.94      0.96      0.95       158\n",
      "       1: 이상       0.00      0.00      0.00        10\n",
      "\n",
      "    accuracy                           0.90       168\n",
      "   macro avg       0.47      0.48      0.47       168\n",
      "weighted avg       0.88      0.90      0.89       168\n",
      "\n",
      "Epoch [19], Train Loss : [0.03433] Val Loss : [0.02050] Val F1 Score : [0.47500]\n"
     ]
    },
    {
     "data": {
      "application/vnd.jupyter.widget-view+json": {
       "model_id": "9c1a905f331a48ba9064359355ff8aa9",
       "version_major": 2,
       "version_minor": 0
      },
      "text/plain": [
       "  0%|          | 0/3 [00:00<?, ?it/s]"
      ]
     },
     "metadata": {},
     "output_type": "display_data"
    },
    {
     "data": {
      "application/vnd.jupyter.widget-view+json": {
       "model_id": "6e091fa6b99c47f0ae2a32a33cd514b3",
       "version_major": 2,
       "version_minor": 0
      },
      "text/plain": [
       "  0%|          | 0/1 [00:00<?, ?it/s]"
      ]
     },
     "metadata": {},
     "output_type": "display_data"
    },
    {
     "name": "stdout",
     "output_type": "stream",
     "text": [
      "[[152   6]\n",
      " [ 10   0]]\n",
      "              precision    recall  f1-score   support\n",
      "\n",
      "       0: 정상       0.94      0.96      0.95       158\n",
      "       1: 이상       0.00      0.00      0.00        10\n",
      "\n",
      "    accuracy                           0.90       168\n",
      "   macro avg       0.47      0.48      0.47       168\n",
      "weighted avg       0.88      0.90      0.89       168\n",
      "\n",
      "Epoch [20], Train Loss : [0.03455] Val Loss : [0.02050] Val F1 Score : [0.47500]\n",
      "Epoch 00021: reducing learning rate of group 0 to 5.8594e-05.\n"
     ]
    },
    {
     "data": {
      "application/vnd.jupyter.widget-view+json": {
       "model_id": "8860b9fe0414489d8f8760471226b37b",
       "version_major": 2,
       "version_minor": 0
      },
      "text/plain": [
       "  0%|          | 0/3 [00:00<?, ?it/s]"
      ]
     },
     "metadata": {},
     "output_type": "display_data"
    },
    {
     "data": {
      "application/vnd.jupyter.widget-view+json": {
       "model_id": "0bddf8e93f5b4b24b18464f67e56e7ce",
       "version_major": 2,
       "version_minor": 0
      },
      "text/plain": [
       "  0%|          | 0/1 [00:00<?, ?it/s]"
      ]
     },
     "metadata": {},
     "output_type": "display_data"
    },
    {
     "name": "stdout",
     "output_type": "stream",
     "text": [
      "[[152   6]\n",
      " [ 10   0]]\n",
      "              precision    recall  f1-score   support\n",
      "\n",
      "       0: 정상       0.94      0.96      0.95       158\n",
      "       1: 이상       0.00      0.00      0.00        10\n",
      "\n",
      "    accuracy                           0.90       168\n",
      "   macro avg       0.47      0.48      0.47       168\n",
      "weighted avg       0.88      0.90      0.89       168\n",
      "\n",
      "Epoch [21], Train Loss : [0.03256] Val Loss : [0.02051] Val F1 Score : [0.47500]\n"
     ]
    },
    {
     "data": {
      "application/vnd.jupyter.widget-view+json": {
       "model_id": "94aed8273b9c41ac866a19efb3d11ce6",
       "version_major": 2,
       "version_minor": 0
      },
      "text/plain": [
       "  0%|          | 0/3 [00:00<?, ?it/s]"
      ]
     },
     "metadata": {},
     "output_type": "display_data"
    },
    {
     "data": {
      "application/vnd.jupyter.widget-view+json": {
       "model_id": "c0d875fc82c849e6a0799050738c954c",
       "version_major": 2,
       "version_minor": 0
      },
      "text/plain": [
       "  0%|          | 0/1 [00:00<?, ?it/s]"
      ]
     },
     "metadata": {},
     "output_type": "display_data"
    },
    {
     "name": "stdout",
     "output_type": "stream",
     "text": [
      "[[152   6]\n",
      " [ 10   0]]\n",
      "              precision    recall  f1-score   support\n",
      "\n",
      "       0: 정상       0.94      0.96      0.95       158\n",
      "       1: 이상       0.00      0.00      0.00        10\n",
      "\n",
      "    accuracy                           0.90       168\n",
      "   macro avg       0.47      0.48      0.47       168\n",
      "weighted avg       0.88      0.90      0.89       168\n",
      "\n",
      "Epoch [22], Train Loss : [0.03394] Val Loss : [0.02054] Val F1 Score : [0.47500]\n",
      "Epoch 00023: reducing learning rate of group 0 to 2.9297e-05.\n"
     ]
    },
    {
     "data": {
      "application/vnd.jupyter.widget-view+json": {
       "model_id": "795768017db64e23a815130007344fd0",
       "version_major": 2,
       "version_minor": 0
      },
      "text/plain": [
       "  0%|          | 0/3 [00:00<?, ?it/s]"
      ]
     },
     "metadata": {},
     "output_type": "display_data"
    },
    {
     "data": {
      "application/vnd.jupyter.widget-view+json": {
       "model_id": "ca2f6ed449d5419fafd1c23642b5df0b",
       "version_major": 2,
       "version_minor": 0
      },
      "text/plain": [
       "  0%|          | 0/1 [00:00<?, ?it/s]"
      ]
     },
     "metadata": {},
     "output_type": "display_data"
    },
    {
     "name": "stdout",
     "output_type": "stream",
     "text": [
      "[[152   6]\n",
      " [ 10   0]]\n",
      "              precision    recall  f1-score   support\n",
      "\n",
      "       0: 정상       0.94      0.96      0.95       158\n",
      "       1: 이상       0.00      0.00      0.00        10\n",
      "\n",
      "    accuracy                           0.90       168\n",
      "   macro avg       0.47      0.48      0.47       168\n",
      "weighted avg       0.88      0.90      0.89       168\n",
      "\n",
      "Epoch [23], Train Loss : [0.03238] Val Loss : [0.02055] Val F1 Score : [0.47500]\n"
     ]
    },
    {
     "data": {
      "application/vnd.jupyter.widget-view+json": {
       "model_id": "7089f3b36f714f1abaf81916e888d4d6",
       "version_major": 2,
       "version_minor": 0
      },
      "text/plain": [
       "  0%|          | 0/3 [00:00<?, ?it/s]"
      ]
     },
     "metadata": {},
     "output_type": "display_data"
    },
    {
     "data": {
      "application/vnd.jupyter.widget-view+json": {
       "model_id": "c9a22d5d3df948e3adc0a4fe74b4a8b1",
       "version_major": 2,
       "version_minor": 0
      },
      "text/plain": [
       "  0%|          | 0/1 [00:00<?, ?it/s]"
      ]
     },
     "metadata": {},
     "output_type": "display_data"
    },
    {
     "name": "stdout",
     "output_type": "stream",
     "text": [
      "[[152   6]\n",
      " [ 10   0]]\n",
      "              precision    recall  f1-score   support\n",
      "\n",
      "       0: 정상       0.94      0.96      0.95       158\n",
      "       1: 이상       0.00      0.00      0.00        10\n",
      "\n",
      "    accuracy                           0.90       168\n",
      "   macro avg       0.47      0.48      0.47       168\n",
      "weighted avg       0.88      0.90      0.89       168\n",
      "\n",
      "Epoch [24], Train Loss : [0.03198] Val Loss : [0.02049] Val F1 Score : [0.47500]\n",
      "Epoch 00025: reducing learning rate of group 0 to 1.4648e-05.\n"
     ]
    },
    {
     "data": {
      "application/vnd.jupyter.widget-view+json": {
       "model_id": "cfe3adae3a504172b1bc189338718111",
       "version_major": 2,
       "version_minor": 0
      },
      "text/plain": [
       "  0%|          | 0/3 [00:00<?, ?it/s]"
      ]
     },
     "metadata": {},
     "output_type": "display_data"
    },
    {
     "data": {
      "application/vnd.jupyter.widget-view+json": {
       "model_id": "ee3a599d137c4b09b55d69a9294b89ba",
       "version_major": 2,
       "version_minor": 0
      },
      "text/plain": [
       "  0%|          | 0/1 [00:00<?, ?it/s]"
      ]
     },
     "metadata": {},
     "output_type": "display_data"
    },
    {
     "name": "stdout",
     "output_type": "stream",
     "text": [
      "[[152   6]\n",
      " [ 10   0]]\n",
      "              precision    recall  f1-score   support\n",
      "\n",
      "       0: 정상       0.94      0.96      0.95       158\n",
      "       1: 이상       0.00      0.00      0.00        10\n",
      "\n",
      "    accuracy                           0.90       168\n",
      "   macro avg       0.47      0.48      0.47       168\n",
      "weighted avg       0.88      0.90      0.89       168\n",
      "\n",
      "Epoch [25], Train Loss : [0.02997] Val Loss : [0.02054] Val F1 Score : [0.47500]\n"
     ]
    },
    {
     "data": {
      "application/vnd.jupyter.widget-view+json": {
       "model_id": "7e10bb53fb894518834f63b304b6ec8d",
       "version_major": 2,
       "version_minor": 0
      },
      "text/plain": [
       "  0%|          | 0/3 [00:00<?, ?it/s]"
      ]
     },
     "metadata": {},
     "output_type": "display_data"
    },
    {
     "data": {
      "application/vnd.jupyter.widget-view+json": {
       "model_id": "9149abea2b5447bc8527a9541d4b2781",
       "version_major": 2,
       "version_minor": 0
      },
      "text/plain": [
       "  0%|          | 0/1 [00:00<?, ?it/s]"
      ]
     },
     "metadata": {},
     "output_type": "display_data"
    },
    {
     "name": "stdout",
     "output_type": "stream",
     "text": [
      "[[152   6]\n",
      " [ 10   0]]\n",
      "              precision    recall  f1-score   support\n",
      "\n",
      "       0: 정상       0.94      0.96      0.95       158\n",
      "       1: 이상       0.00      0.00      0.00        10\n",
      "\n",
      "    accuracy                           0.90       168\n",
      "   macro avg       0.47      0.48      0.47       168\n",
      "weighted avg       0.88      0.90      0.89       168\n",
      "\n",
      "Epoch [26], Train Loss : [0.03290] Val Loss : [0.02054] Val F1 Score : [0.47500]\n",
      "Epoch 00027: reducing learning rate of group 0 to 7.3242e-06.\n"
     ]
    },
    {
     "data": {
      "application/vnd.jupyter.widget-view+json": {
       "model_id": "846fe7989bb0417d92c57af4ec91ad16",
       "version_major": 2,
       "version_minor": 0
      },
      "text/plain": [
       "  0%|          | 0/3 [00:00<?, ?it/s]"
      ]
     },
     "metadata": {},
     "output_type": "display_data"
    },
    {
     "data": {
      "application/vnd.jupyter.widget-view+json": {
       "model_id": "8d7435c994f24c7c943e026aad3b21bc",
       "version_major": 2,
       "version_minor": 0
      },
      "text/plain": [
       "  0%|          | 0/1 [00:00<?, ?it/s]"
      ]
     },
     "metadata": {},
     "output_type": "display_data"
    },
    {
     "name": "stdout",
     "output_type": "stream",
     "text": [
      "[[152   6]\n",
      " [ 10   0]]\n",
      "              precision    recall  f1-score   support\n",
      "\n",
      "       0: 정상       0.94      0.96      0.95       158\n",
      "       1: 이상       0.00      0.00      0.00        10\n",
      "\n",
      "    accuracy                           0.90       168\n",
      "   macro avg       0.47      0.48      0.47       168\n",
      "weighted avg       0.88      0.90      0.89       168\n",
      "\n",
      "Epoch [27], Train Loss : [0.03193] Val Loss : [0.02054] Val F1 Score : [0.47500]\n"
     ]
    },
    {
     "data": {
      "application/vnd.jupyter.widget-view+json": {
       "model_id": "007ee68de31a4b30a940fb1ecd936d74",
       "version_major": 2,
       "version_minor": 0
      },
      "text/plain": [
       "  0%|          | 0/3 [00:00<?, ?it/s]"
      ]
     },
     "metadata": {},
     "output_type": "display_data"
    },
    {
     "data": {
      "application/vnd.jupyter.widget-view+json": {
       "model_id": "462f5152c69c439ea4d09ee9a64d34bf",
       "version_major": 2,
       "version_minor": 0
      },
      "text/plain": [
       "  0%|          | 0/1 [00:00<?, ?it/s]"
      ]
     },
     "metadata": {},
     "output_type": "display_data"
    },
    {
     "name": "stdout",
     "output_type": "stream",
     "text": [
      "[[152   6]\n",
      " [ 10   0]]\n",
      "              precision    recall  f1-score   support\n",
      "\n",
      "       0: 정상       0.94      0.96      0.95       158\n",
      "       1: 이상       0.00      0.00      0.00        10\n",
      "\n",
      "    accuracy                           0.90       168\n",
      "   macro avg       0.47      0.48      0.47       168\n",
      "weighted avg       0.88      0.90      0.89       168\n",
      "\n",
      "Epoch [28], Train Loss : [0.03197] Val Loss : [0.02058] Val F1 Score : [0.47500]\n",
      "Epoch 00029: reducing learning rate of group 0 to 3.6621e-06.\n"
     ]
    },
    {
     "data": {
      "application/vnd.jupyter.widget-view+json": {
       "model_id": "b8979c6d7a79417695ddc6901a8a1690",
       "version_major": 2,
       "version_minor": 0
      },
      "text/plain": [
       "  0%|          | 0/3 [00:00<?, ?it/s]"
      ]
     },
     "metadata": {},
     "output_type": "display_data"
    },
    {
     "data": {
      "application/vnd.jupyter.widget-view+json": {
       "model_id": "e358aaabd9e44ffbb7ea82f0459eceef",
       "version_major": 2,
       "version_minor": 0
      },
      "text/plain": [
       "  0%|          | 0/1 [00:00<?, ?it/s]"
      ]
     },
     "metadata": {},
     "output_type": "display_data"
    },
    {
     "name": "stdout",
     "output_type": "stream",
     "text": [
      "[[152   6]\n",
      " [ 10   0]]\n",
      "              precision    recall  f1-score   support\n",
      "\n",
      "       0: 정상       0.94      0.96      0.95       158\n",
      "       1: 이상       0.00      0.00      0.00        10\n",
      "\n",
      "    accuracy                           0.90       168\n",
      "   macro avg       0.47      0.48      0.47       168\n",
      "weighted avg       0.88      0.90      0.89       168\n",
      "\n",
      "Epoch [29], Train Loss : [0.03148] Val Loss : [0.02055] Val F1 Score : [0.47500]\n",
      "Student Train Best Score는 0.5174603174603175 입니다.\n",
      "부분학습 종료\n",
      "----------------------------------------------------------------------\n",
      "전체 학습 종료\n",
      "best scores : [0.5825781462453788, 0.5918442370055274, 0.5967116249197174, 0.5174603174603175]\n"
     ]
    }
   ],
   "source": [
    "students = []\n",
    "results = []\n",
    "num = 0\n",
    "\n",
    "for a, b, c, d, e in zip(s_train_loaders, s_val_loaders, train_X_list, test_list, teachers):\n",
    "    \n",
    "    t_start_col_num = len(c.columns)\n",
    "    test_stage_features = d.iloc[:,:-1].columns\n",
    "    s_start_col_num = len(test_stage_features)\n",
    "    s_thresh = CFG[\"S_Thresh\"][num]\n",
    "\n",
    "    student_model = Student()\n",
    "    student_model.eval()\n",
    "    optimizer = torch.optim.Adam(student_model.parameters(), lr=CFG['S_LEARNING_RATE'][num])\n",
    "    scheduler = torch.optim.lr_scheduler.ReduceLROnPlateau(optimizer, mode='max', factor=0.5, patience=1, threshold_mode='abs',min_lr=1e-8, verbose=True)\n",
    "\n",
    "    best_student_model = student_train(student_model, e, optimizer, a, b, scheduler, device, s_thresh)\n",
    "    \n",
    "    m, s = best_student_model\n",
    "\n",
    "    students.append(m)\n",
    "    results.append(s)\n",
    "    \n",
    "    num += 1\n",
    "    \n",
    "    print(\"부분학습 종료\")\n",
    "\n",
    "    print(\"-\"*70)\n",
    "    \n",
    "print(\"전체 학습 종료\")\n",
    "print(f\"best scores : {results}\")\n",
    "# print(students)"
   ]
  },
  {
   "cell_type": "markdown",
   "id": "25a54b69",
   "metadata": {},
   "source": [
    "- best scores : [0.5973296328245133, 0.5762557077625571, 0.587967433732445, 0.6592292089249492]\n"
   ]
  },
  {
   "cell_type": "code",
   "execution_count": 694,
   "id": "836d8f5a",
   "metadata": {},
   "outputs": [],
   "source": [
    "def choose_threshold(model, val_loader, device):\n",
    "    model.to(device)\n",
    "    model.eval()\n",
    "    \n",
    "#     thresholds = [0.1, 0.2, 0.25, 0.3, 0.35, 0.4, 0.45, 0.5]\n",
    "    thresholds = [0.05, 0.1, 0.15, 0.2, 0.25, 0.3, 0.35, 0.4, 0.45, 0.5]\n",
    "\n",
    "    pred_labels = []\n",
    "    true_labels = []\n",
    "    \n",
    "    best_score = 0\n",
    "    best_thr = None\n",
    "    with torch.no_grad():\n",
    "        for _, x_s, y in tqdm(iter(val_loader)):\n",
    "            x_s = x_s.float().to(device)\n",
    "            y = y.float().to(device)\n",
    "            \n",
    "            model_pred = model(x_s)\n",
    "            \n",
    "            model_pred = model_pred.squeeze(1).to('cpu')\n",
    "            pred_labels += model_pred.tolist()\n",
    "            true_labels += y.tolist()\n",
    "        \n",
    "        for threshold in thresholds:\n",
    "            pred_labels_thr = np.where(np.array(pred_labels) > threshold, 1, 0)\n",
    "            score_thr = competition_metric(true_labels, pred_labels_thr)\n",
    "            cf1 = confusion_matrix(true_labels, pred_labels_thr)  \n",
    "\n",
    "#             print(cf1)\n",
    "#             print(classification_report(true_labels, pred_labels_thr, target_names=[\"0: 정상\", \"1: 이상\"]))\n",
    "\n",
    "            if best_score < score_thr:  \n",
    "                best_score = score_thr\n",
    "                best_thr = threshold\n",
    "                \n",
    "    return best_thr, best_score"
   ]
  },
  {
   "cell_type": "code",
   "execution_count": 695,
   "id": "e86e4667",
   "metadata": {
    "scrolled": true
   },
   "outputs": [
    {
     "data": {
      "application/vnd.jupyter.widget-view+json": {
       "model_id": "130b9ad3d3be4f77a78842eea99143d7",
       "version_major": 2,
       "version_minor": 0
      },
      "text/plain": [
       "  0%|          | 0/4 [00:00<?, ?it/s]"
      ]
     },
     "metadata": {},
     "output_type": "display_data"
    },
    {
     "data": {
      "application/vnd.jupyter.widget-view+json": {
       "model_id": "c1b4ff2d5fda4ea584a7a4e746a8c5e2",
       "version_major": 2,
       "version_minor": 0
      },
      "text/plain": [
       "  0%|          | 0/4 [00:00<?, ?it/s]"
      ]
     },
     "metadata": {},
     "output_type": "display_data"
    },
    {
     "name": "stdout",
     "output_type": "stream",
     "text": [
      "Best Threshold : [0.25], Score : [0.56759]\n",
      "부분 작업 종료\n"
     ]
    },
    {
     "data": {
      "application/vnd.jupyter.widget-view+json": {
       "model_id": "20a8ab55048a48f59d5f4065231da392",
       "version_major": 2,
       "version_minor": 0
      },
      "text/plain": [
       "  0%|          | 0/2 [00:00<?, ?it/s]"
      ]
     },
     "metadata": {},
     "output_type": "display_data"
    },
    {
     "data": {
      "application/vnd.jupyter.widget-view+json": {
       "model_id": "e7288d477ad94d96ba6b1da39f11b50a",
       "version_major": 2,
       "version_minor": 0
      },
      "text/plain": [
       "  0%|          | 0/2 [00:00<?, ?it/s]"
      ]
     },
     "metadata": {},
     "output_type": "display_data"
    },
    {
     "name": "stdout",
     "output_type": "stream",
     "text": [
      "Best Threshold : [0.3], Score : [0.54478]\n",
      "부분 작업 종료\n"
     ]
    },
    {
     "data": {
      "application/vnd.jupyter.widget-view+json": {
       "model_id": "e18fdc0fb43946c7849079a4ad0880ee",
       "version_major": 2,
       "version_minor": 0
      },
      "text/plain": [
       "  0%|          | 0/6 [00:00<?, ?it/s]"
      ]
     },
     "metadata": {},
     "output_type": "display_data"
    },
    {
     "data": {
      "application/vnd.jupyter.widget-view+json": {
       "model_id": "b8ed049cfc474310bafadc7028f95ac6",
       "version_major": 2,
       "version_minor": 0
      },
      "text/plain": [
       "  0%|          | 0/6 [00:00<?, ?it/s]"
      ]
     },
     "metadata": {},
     "output_type": "display_data"
    },
    {
     "name": "stdout",
     "output_type": "stream",
     "text": [
      "Best Threshold : [0.3], Score : [0.59231]\n",
      "부분 작업 종료\n"
     ]
    },
    {
     "data": {
      "application/vnd.jupyter.widget-view+json": {
       "model_id": "7dbd80fe7c3840ce9a91e133c39a8e97",
       "version_major": 2,
       "version_minor": 0
      },
      "text/plain": [
       "  0%|          | 0/1 [00:00<?, ?it/s]"
      ]
     },
     "metadata": {},
     "output_type": "display_data"
    },
    {
     "data": {
      "application/vnd.jupyter.widget-view+json": {
       "model_id": "8c2b937dad134452b70d253f8865b8c9",
       "version_major": 2,
       "version_minor": 0
      },
      "text/plain": [
       "  0%|          | 0/1 [00:00<?, ?it/s]"
      ]
     },
     "metadata": {},
     "output_type": "display_data"
    },
    {
     "name": "stdout",
     "output_type": "stream",
     "text": [
      "Best Threshold : [0.25], Score : [0.57713]\n",
      "부분 작업 종료\n",
      "[0.25, 0.3, 0.3, 0.25]\n",
      "[0.5675936046834763, 0.5447813152731186, 0.5923145082311244, 0.5771305285868393]\n",
      "전체 작업 종료\n"
     ]
    }
   ],
   "source": [
    "# for a, b in zip(students, s_val_loaders):   \n",
    "#     print(list(b))\n",
    "thresholds = []\n",
    "best_scores = []\n",
    "\n",
    "for a, b, c, d, e, f in zip(s_train_loaders, s_val_loaders, train_X_list, test_list, teachers, students):\n",
    "    t_start_col_num = len(c.columns)\n",
    "    test_stage_features = d.iloc[:,:-1].columns\n",
    "    s_start_col_num = len(test_stage_features)\n",
    "\n",
    "\n",
    "    choose_threshold(f, b, device)\n",
    "    best_threshold, best_score = choose_threshold(f, b, device)\n",
    "    choose_threshold_result = f'Best Threshold : [{best_threshold}], Score : [{best_score:.5f}]'\n",
    "    thresholds.append(best_threshold)\n",
    "    best_scores.append(best_score)\n",
    "    print(choose_threshold_result) \n",
    "    print(\"부분 작업 종료\")\n",
    "    \n",
    "print(thresholds)\n",
    "print(best_scores)\n",
    "print(\"전체 작업 종료\")"
   ]
  },
  {
   "cell_type": "markdown",
   "id": "b22a8294",
   "metadata": {},
   "source": [
    "- best scores : [0.5973296328245133, 0.5762557077625571, 0.587967433732445, 0.6592292089249492]\n"
   ]
  },
  {
   "cell_type": "code",
   "execution_count": 696,
   "id": "9150c327",
   "metadata": {},
   "outputs": [
    {
     "data": {
      "text/html": [
       "<div>\n",
       "<style scoped>\n",
       "    .dataframe tbody tr th:only-of-type {\n",
       "        vertical-align: middle;\n",
       "    }\n",
       "\n",
       "    .dataframe tbody tr th {\n",
       "        vertical-align: top;\n",
       "    }\n",
       "\n",
       "    .dataframe thead th {\n",
       "        text-align: right;\n",
       "    }\n",
       "</style>\n",
       "<table border=\"1\" class=\"dataframe\">\n",
       "  <thead>\n",
       "    <tr style=\"text-align: right;\">\n",
       "      <th></th>\n",
       "      <th>encoder__x1_2008</th>\n",
       "      <th>encoder__x1_2009</th>\n",
       "      <th>encoder__x1_2010</th>\n",
       "      <th>encoder__x1_2011</th>\n",
       "      <th>encoder__x1_2012</th>\n",
       "      <th>encoder__x1_2013</th>\n",
       "      <th>encoder__x1_2014</th>\n",
       "      <th>encoder__x1_2015</th>\n",
       "      <th>encoder__x1_2016</th>\n",
       "      <th>encoder__x1_2017</th>\n",
       "      <th>encoder__x1_2018</th>\n",
       "      <th>encoder__x1_2019</th>\n",
       "      <th>encoder__x1_2020</th>\n",
       "      <th>encoder__x1_2021</th>\n",
       "      <th>encoder__x1_2022</th>\n",
       "      <th>ANONYMOUS_1</th>\n",
       "      <th>ANONYMOUS_2</th>\n",
       "      <th>MN</th>\n",
       "      <th>order</th>\n",
       "    </tr>\n",
       "  </thead>\n",
       "  <tbody>\n",
       "    <tr>\n",
       "      <th>0</th>\n",
       "      <td>0.0</td>\n",
       "      <td>0.0</td>\n",
       "      <td>1.0</td>\n",
       "      <td>0.0</td>\n",
       "      <td>0.0</td>\n",
       "      <td>0.0</td>\n",
       "      <td>0.0</td>\n",
       "      <td>0.0</td>\n",
       "      <td>0.0</td>\n",
       "      <td>0.0</td>\n",
       "      <td>0.0</td>\n",
       "      <td>0.0</td>\n",
       "      <td>0.0</td>\n",
       "      <td>0.0</td>\n",
       "      <td>0.0</td>\n",
       "      <td>-0.392465</td>\n",
       "      <td>-0.62177</td>\n",
       "      <td>-0.352471</td>\n",
       "      <td>2.0</td>\n",
       "    </tr>\n",
       "    <tr>\n",
       "      <th>1</th>\n",
       "      <td>0.0</td>\n",
       "      <td>0.0</td>\n",
       "      <td>0.0</td>\n",
       "      <td>0.0</td>\n",
       "      <td>0.0</td>\n",
       "      <td>1.0</td>\n",
       "      <td>0.0</td>\n",
       "      <td>0.0</td>\n",
       "      <td>0.0</td>\n",
       "      <td>0.0</td>\n",
       "      <td>0.0</td>\n",
       "      <td>0.0</td>\n",
       "      <td>0.0</td>\n",
       "      <td>0.0</td>\n",
       "      <td>0.0</td>\n",
       "      <td>2.112354</td>\n",
       "      <td>-0.62177</td>\n",
       "      <td>-0.352471</td>\n",
       "      <td>4.0</td>\n",
       "    </tr>\n",
       "  </tbody>\n",
       "</table>\n",
       "</div>"
      ],
      "text/plain": [
       "   encoder__x1_2008  encoder__x1_2009  encoder__x1_2010  encoder__x1_2011  \\\n",
       "0               0.0               0.0               1.0               0.0   \n",
       "1               0.0               0.0               0.0               0.0   \n",
       "\n",
       "   encoder__x1_2012  encoder__x1_2013  encoder__x1_2014  encoder__x1_2015  \\\n",
       "0               0.0               0.0               0.0               0.0   \n",
       "1               0.0               1.0               0.0               0.0   \n",
       "\n",
       "   encoder__x1_2016  encoder__x1_2017  encoder__x1_2018  encoder__x1_2019  \\\n",
       "0               0.0               0.0               0.0               0.0   \n",
       "1               0.0               0.0               0.0               0.0   \n",
       "\n",
       "   encoder__x1_2020  encoder__x1_2021  encoder__x1_2022  ANONYMOUS_1  \\\n",
       "0               0.0               0.0               0.0    -0.392465   \n",
       "1               0.0               0.0               0.0     2.112354   \n",
       "\n",
       "   ANONYMOUS_2        MN  order  \n",
       "0     -0.62177 -0.352471    2.0  \n",
       "1     -0.62177 -0.352471    4.0  "
      ]
     },
     "execution_count": 696,
     "metadata": {},
     "output_type": "execute_result"
    }
   ],
   "source": [
    "test_2.head(2)"
   ]
  },
  {
   "cell_type": "code",
   "execution_count": 697,
   "id": "df83d520",
   "metadata": {},
   "outputs": [],
   "source": [
    "test_loaders = []\n",
    "\n",
    "for i in test_list:\n",
    "\n",
    "    test_dataset = CustomDataset(i.iloc[:,:-1], None, False)\n",
    "    test_loader = DataLoader(test_dataset, batch_size = CFG['BATCH_SIZE'], shuffle=False)\n",
    "    test_loaders.append(test_loader)\n",
    "\n",
    "# print(list(test_loaders[0]))\n",
    "    "
   ]
  },
  {
   "cell_type": "code",
   "execution_count": null,
   "id": "e75a3739",
   "metadata": {},
   "outputs": [],
   "source": []
  },
  {
   "cell_type": "code",
   "execution_count": 698,
   "id": "7f3df6cb",
   "metadata": {},
   "outputs": [],
   "source": [
    "def inference(model, test_loader, threshold, device):\n",
    "    model.to(device)\n",
    "    model.eval()\n",
    "    # .eval함수는 evaluation 과정에서 사용하지 말아야 하는 layer들을 알아서 off 시키는 함수\n",
    "    \n",
    "    test_predict = []\n",
    "    with torch.no_grad():\n",
    "        for x in tqdm(test_loader):\n",
    "            x = x.float().to(device)\n",
    "            model_pred = model(x)\n",
    "\n",
    "            model_pred = model_pred.squeeze(1).to('cpu')\n",
    "            test_predict += model_pred\n",
    "        \n",
    "    test_predict = np.where(np.array(test_predict) > threshold, 1, 0)  \n",
    "    # threshhold 보다 큰 값을 찾아서 1로 바꾸고, 아닌 것은 0으로 변경해라\n",
    "    print('Done.')\n",
    "    return test_predict"
   ]
  },
  {
   "cell_type": "code",
   "execution_count": 699,
   "id": "88c446e6",
   "metadata": {},
   "outputs": [
    {
     "data": {
      "application/vnd.jupyter.widget-view+json": {
       "model_id": "5913c86eaff54a27b1474dd16b8784ac",
       "version_major": 2,
       "version_minor": 0
      },
      "text/plain": [
       "  0%|          | 0/7 [00:00<?, ?it/s]"
      ]
     },
     "metadata": {},
     "output_type": "display_data"
    },
    {
     "name": "stdout",
     "output_type": "stream",
     "text": [
      "Done.\n"
     ]
    },
    {
     "data": {
      "application/vnd.jupyter.widget-view+json": {
       "model_id": "4735885f0b29434e888c54f1a6f374e9",
       "version_major": 2,
       "version_minor": 0
      },
      "text/plain": [
       "  0%|          | 0/4 [00:00<?, ?it/s]"
      ]
     },
     "metadata": {},
     "output_type": "display_data"
    },
    {
     "name": "stdout",
     "output_type": "stream",
     "text": [
      "Done.\n"
     ]
    },
    {
     "data": {
      "application/vnd.jupyter.widget-view+json": {
       "model_id": "e53b45b40a5140aea260db43d87b3aa0",
       "version_major": 2,
       "version_minor": 0
      },
      "text/plain": [
       "  0%|          | 0/12 [00:00<?, ?it/s]"
      ]
     },
     "metadata": {},
     "output_type": "display_data"
    },
    {
     "name": "stdout",
     "output_type": "stream",
     "text": [
      "Done.\n"
     ]
    },
    {
     "data": {
      "application/vnd.jupyter.widget-view+json": {
       "model_id": "a192ebf5f5514bc8924a6c935a5c7a0c",
       "version_major": 2,
       "version_minor": 0
      },
      "text/plain": [
       "  0%|          | 0/2 [00:00<?, ?it/s]"
      ]
     },
     "metadata": {},
     "output_type": "display_data"
    },
    {
     "name": "stdout",
     "output_type": "stream",
     "text": [
      "Done.\n"
     ]
    }
   ],
   "source": [
    "pred_list = []\n",
    "order_list = []\n",
    "for a, b, c, d in zip(students, test_loaders, test_list, thresholds):\n",
    "    preds = inference(a, b, d, device)\n",
    "    pred_list.extend(preds)\n",
    "    order_list.extend(c.order.tolist())\n",
    "    "
   ]
  },
  {
   "cell_type": "code",
   "execution_count": 700,
   "id": "053bcc89",
   "metadata": {},
   "outputs": [
    {
     "data": {
      "text/plain": [
       "{'예측값': [0,\n",
       "  0,\n",
       "  0,\n",
       "  0,\n",
       "  0,\n",
       "  0,\n",
       "  0,\n",
       "  0,\n",
       "  0,\n",
       "  0,\n",
       "  0,\n",
       "  0,\n",
       "  0,\n",
       "  0,\n",
       "  0,\n",
       "  0,\n",
       "  0,\n",
       "  0,\n",
       "  0,\n",
       "  0,\n",
       "  1,\n",
       "  0,\n",
       "  0,\n",
       "  0,\n",
       "  0,\n",
       "  0,\n",
       "  0,\n",
       "  0,\n",
       "  0,\n",
       "  0,\n",
       "  0,\n",
       "  0,\n",
       "  0,\n",
       "  0,\n",
       "  1,\n",
       "  0,\n",
       "  0,\n",
       "  0,\n",
       "  1,\n",
       "  0,\n",
       "  0,\n",
       "  0,\n",
       "  0,\n",
       "  0,\n",
       "  1,\n",
       "  0,\n",
       "  0,\n",
       "  0,\n",
       "  0,\n",
       "  1,\n",
       "  0,\n",
       "  0,\n",
       "  0,\n",
       "  0,\n",
       "  0,\n",
       "  0,\n",
       "  0,\n",
       "  0,\n",
       "  0,\n",
       "  0,\n",
       "  0,\n",
       "  0,\n",
       "  1,\n",
       "  0,\n",
       "  0,\n",
       "  0,\n",
       "  0,\n",
       "  0,\n",
       "  0,\n",
       "  0,\n",
       "  0,\n",
       "  0,\n",
       "  0,\n",
       "  0,\n",
       "  0,\n",
       "  0,\n",
       "  0,\n",
       "  0,\n",
       "  0,\n",
       "  0,\n",
       "  0,\n",
       "  0,\n",
       "  0,\n",
       "  0,\n",
       "  0,\n",
       "  0,\n",
       "  0,\n",
       "  0,\n",
       "  1,\n",
       "  0,\n",
       "  0,\n",
       "  1,\n",
       "  1,\n",
       "  0,\n",
       "  0,\n",
       "  0,\n",
       "  0,\n",
       "  0,\n",
       "  1,\n",
       "  0,\n",
       "  0,\n",
       "  0,\n",
       "  0,\n",
       "  0,\n",
       "  0,\n",
       "  0,\n",
       "  0,\n",
       "  1,\n",
       "  0,\n",
       "  0,\n",
       "  1,\n",
       "  1,\n",
       "  0,\n",
       "  0,\n",
       "  0,\n",
       "  0,\n",
       "  0,\n",
       "  0,\n",
       "  0,\n",
       "  0,\n",
       "  0,\n",
       "  1,\n",
       "  0,\n",
       "  0,\n",
       "  0,\n",
       "  0,\n",
       "  0,\n",
       "  0,\n",
       "  0,\n",
       "  0,\n",
       "  0,\n",
       "  0,\n",
       "  1,\n",
       "  0,\n",
       "  1,\n",
       "  0,\n",
       "  0,\n",
       "  0,\n",
       "  0,\n",
       "  0,\n",
       "  0,\n",
       "  0,\n",
       "  0,\n",
       "  0,\n",
       "  0,\n",
       "  0,\n",
       "  0,\n",
       "  0,\n",
       "  0,\n",
       "  0,\n",
       "  0,\n",
       "  0,\n",
       "  1,\n",
       "  0,\n",
       "  0,\n",
       "  0,\n",
       "  0,\n",
       "  0,\n",
       "  0,\n",
       "  0,\n",
       "  0,\n",
       "  0,\n",
       "  0,\n",
       "  0,\n",
       "  0,\n",
       "  0,\n",
       "  0,\n",
       "  0,\n",
       "  0,\n",
       "  0,\n",
       "  0,\n",
       "  0,\n",
       "  0,\n",
       "  0,\n",
       "  0,\n",
       "  0,\n",
       "  1,\n",
       "  0,\n",
       "  0,\n",
       "  0,\n",
       "  0,\n",
       "  0,\n",
       "  0,\n",
       "  1,\n",
       "  0,\n",
       "  1,\n",
       "  0,\n",
       "  0,\n",
       "  0,\n",
       "  1,\n",
       "  0,\n",
       "  0,\n",
       "  0,\n",
       "  0,\n",
       "  0,\n",
       "  0,\n",
       "  0,\n",
       "  0,\n",
       "  0,\n",
       "  0,\n",
       "  0,\n",
       "  0,\n",
       "  1,\n",
       "  0,\n",
       "  0,\n",
       "  0,\n",
       "  0,\n",
       "  0,\n",
       "  1,\n",
       "  0,\n",
       "  0,\n",
       "  0,\n",
       "  0,\n",
       "  1,\n",
       "  0,\n",
       "  0,\n",
       "  0,\n",
       "  1,\n",
       "  0,\n",
       "  0,\n",
       "  0,\n",
       "  0,\n",
       "  0,\n",
       "  0,\n",
       "  0,\n",
       "  0,\n",
       "  0,\n",
       "  0,\n",
       "  0,\n",
       "  0,\n",
       "  0,\n",
       "  0,\n",
       "  0,\n",
       "  0,\n",
       "  0,\n",
       "  0,\n",
       "  0,\n",
       "  0,\n",
       "  1,\n",
       "  0,\n",
       "  0,\n",
       "  0,\n",
       "  0,\n",
       "  0,\n",
       "  0,\n",
       "  0,\n",
       "  0,\n",
       "  0,\n",
       "  0,\n",
       "  1,\n",
       "  0,\n",
       "  0,\n",
       "  0,\n",
       "  0,\n",
       "  0,\n",
       "  0,\n",
       "  0,\n",
       "  0,\n",
       "  0,\n",
       "  1,\n",
       "  0,\n",
       "  0,\n",
       "  0,\n",
       "  0,\n",
       "  1,\n",
       "  0,\n",
       "  0,\n",
       "  1,\n",
       "  0,\n",
       "  0,\n",
       "  0,\n",
       "  0,\n",
       "  1,\n",
       "  0,\n",
       "  0,\n",
       "  0,\n",
       "  1,\n",
       "  0,\n",
       "  1,\n",
       "  0,\n",
       "  0,\n",
       "  1,\n",
       "  0,\n",
       "  1,\n",
       "  0,\n",
       "  0,\n",
       "  0,\n",
       "  0,\n",
       "  1,\n",
       "  1,\n",
       "  0,\n",
       "  0,\n",
       "  0,\n",
       "  0,\n",
       "  0,\n",
       "  0,\n",
       "  0,\n",
       "  0,\n",
       "  0,\n",
       "  0,\n",
       "  0,\n",
       "  0,\n",
       "  0,\n",
       "  0,\n",
       "  0,\n",
       "  0,\n",
       "  0,\n",
       "  0,\n",
       "  0,\n",
       "  0,\n",
       "  0,\n",
       "  0,\n",
       "  0,\n",
       "  0,\n",
       "  0,\n",
       "  0,\n",
       "  0,\n",
       "  0,\n",
       "  1,\n",
       "  0,\n",
       "  0,\n",
       "  0,\n",
       "  0,\n",
       "  0,\n",
       "  0,\n",
       "  1,\n",
       "  0,\n",
       "  0,\n",
       "  0,\n",
       "  0,\n",
       "  0,\n",
       "  0,\n",
       "  0,\n",
       "  0,\n",
       "  0,\n",
       "  0,\n",
       "  0,\n",
       "  0,\n",
       "  0,\n",
       "  0,\n",
       "  0,\n",
       "  0,\n",
       "  0,\n",
       "  0,\n",
       "  0,\n",
       "  0,\n",
       "  0,\n",
       "  0,\n",
       "  1,\n",
       "  0,\n",
       "  0,\n",
       "  0,\n",
       "  0,\n",
       "  0,\n",
       "  0,\n",
       "  0,\n",
       "  0,\n",
       "  0,\n",
       "  0,\n",
       "  1,\n",
       "  0,\n",
       "  0,\n",
       "  0,\n",
       "  0,\n",
       "  0,\n",
       "  0,\n",
       "  0,\n",
       "  0,\n",
       "  0,\n",
       "  0,\n",
       "  0,\n",
       "  0,\n",
       "  0,\n",
       "  0,\n",
       "  0,\n",
       "  0,\n",
       "  1,\n",
       "  0,\n",
       "  0,\n",
       "  0,\n",
       "  0,\n",
       "  0,\n",
       "  1,\n",
       "  1,\n",
       "  0,\n",
       "  0,\n",
       "  0,\n",
       "  0,\n",
       "  0,\n",
       "  0,\n",
       "  0,\n",
       "  0,\n",
       "  0,\n",
       "  0,\n",
       "  0,\n",
       "  0,\n",
       "  0,\n",
       "  0,\n",
       "  0,\n",
       "  0,\n",
       "  0,\n",
       "  0,\n",
       "  0,\n",
       "  0,\n",
       "  0,\n",
       "  0,\n",
       "  0,\n",
       "  0,\n",
       "  0,\n",
       "  0,\n",
       "  0,\n",
       "  0,\n",
       "  1,\n",
       "  0,\n",
       "  0,\n",
       "  0,\n",
       "  0,\n",
       "  0,\n",
       "  0,\n",
       "  0,\n",
       "  0,\n",
       "  1,\n",
       "  0,\n",
       "  0,\n",
       "  0,\n",
       "  0,\n",
       "  0,\n",
       "  0,\n",
       "  0,\n",
       "  0,\n",
       "  0,\n",
       "  0,\n",
       "  0,\n",
       "  0,\n",
       "  0,\n",
       "  0,\n",
       "  0,\n",
       "  0,\n",
       "  1,\n",
       "  1,\n",
       "  0,\n",
       "  0,\n",
       "  0,\n",
       "  0,\n",
       "  0,\n",
       "  0,\n",
       "  0,\n",
       "  0,\n",
       "  0,\n",
       "  0,\n",
       "  0,\n",
       "  0,\n",
       "  0,\n",
       "  0,\n",
       "  1,\n",
       "  0,\n",
       "  0,\n",
       "  0,\n",
       "  0,\n",
       "  1,\n",
       "  0,\n",
       "  0,\n",
       "  0,\n",
       "  0,\n",
       "  0,\n",
       "  0,\n",
       "  0,\n",
       "  1,\n",
       "  0,\n",
       "  0,\n",
       "  0,\n",
       "  0,\n",
       "  0,\n",
       "  0,\n",
       "  1,\n",
       "  0,\n",
       "  1,\n",
       "  0,\n",
       "  0,\n",
       "  0,\n",
       "  0,\n",
       "  0,\n",
       "  0,\n",
       "  0,\n",
       "  0,\n",
       "  0,\n",
       "  0,\n",
       "  0,\n",
       "  0,\n",
       "  0,\n",
       "  0,\n",
       "  0,\n",
       "  0,\n",
       "  1,\n",
       "  0,\n",
       "  0,\n",
       "  0,\n",
       "  0,\n",
       "  0,\n",
       "  0,\n",
       "  0,\n",
       "  1,\n",
       "  0,\n",
       "  0,\n",
       "  0,\n",
       "  0,\n",
       "  0,\n",
       "  0,\n",
       "  0,\n",
       "  1,\n",
       "  0,\n",
       "  0,\n",
       "  0,\n",
       "  0,\n",
       "  0,\n",
       "  1,\n",
       "  0,\n",
       "  0,\n",
       "  0,\n",
       "  0,\n",
       "  0,\n",
       "  0,\n",
       "  0,\n",
       "  0,\n",
       "  1,\n",
       "  0,\n",
       "  0,\n",
       "  0,\n",
       "  1,\n",
       "  0,\n",
       "  0,\n",
       "  0,\n",
       "  0,\n",
       "  0,\n",
       "  0,\n",
       "  1,\n",
       "  0,\n",
       "  0,\n",
       "  0,\n",
       "  0,\n",
       "  0,\n",
       "  0,\n",
       "  0,\n",
       "  0,\n",
       "  0,\n",
       "  0,\n",
       "  0,\n",
       "  0,\n",
       "  0,\n",
       "  0,\n",
       "  0,\n",
       "  0,\n",
       "  0,\n",
       "  0,\n",
       "  1,\n",
       "  0,\n",
       "  0,\n",
       "  0,\n",
       "  0,\n",
       "  0,\n",
       "  0,\n",
       "  0,\n",
       "  0,\n",
       "  0,\n",
       "  0,\n",
       "  0,\n",
       "  0,\n",
       "  0,\n",
       "  0,\n",
       "  0,\n",
       "  0,\n",
       "  0,\n",
       "  0,\n",
       "  0,\n",
       "  1,\n",
       "  0,\n",
       "  0,\n",
       "  0,\n",
       "  0,\n",
       "  1,\n",
       "  0,\n",
       "  0,\n",
       "  0,\n",
       "  0,\n",
       "  0,\n",
       "  0,\n",
       "  0,\n",
       "  0,\n",
       "  0,\n",
       "  0,\n",
       "  0,\n",
       "  0,\n",
       "  0,\n",
       "  0,\n",
       "  0,\n",
       "  0,\n",
       "  0,\n",
       "  0,\n",
       "  0,\n",
       "  0,\n",
       "  0,\n",
       "  1,\n",
       "  0,\n",
       "  0,\n",
       "  0,\n",
       "  0,\n",
       "  0,\n",
       "  1,\n",
       "  1,\n",
       "  0,\n",
       "  0,\n",
       "  0,\n",
       "  0,\n",
       "  0,\n",
       "  0,\n",
       "  1,\n",
       "  0,\n",
       "  0,\n",
       "  0,\n",
       "  0,\n",
       "  1,\n",
       "  0,\n",
       "  0,\n",
       "  0,\n",
       "  0,\n",
       "  0,\n",
       "  0,\n",
       "  0,\n",
       "  0,\n",
       "  1,\n",
       "  0,\n",
       "  0,\n",
       "  1,\n",
       "  0,\n",
       "  0,\n",
       "  0,\n",
       "  0,\n",
       "  0,\n",
       "  1,\n",
       "  0,\n",
       "  0,\n",
       "  0,\n",
       "  0,\n",
       "  0,\n",
       "  0,\n",
       "  0,\n",
       "  0,\n",
       "  0,\n",
       "  0,\n",
       "  1,\n",
       "  0,\n",
       "  1,\n",
       "  0,\n",
       "  0,\n",
       "  1,\n",
       "  0,\n",
       "  1,\n",
       "  0,\n",
       "  0,\n",
       "  0,\n",
       "  0,\n",
       "  0,\n",
       "  0,\n",
       "  0,\n",
       "  0,\n",
       "  0,\n",
       "  0,\n",
       "  0,\n",
       "  0,\n",
       "  0,\n",
       "  0,\n",
       "  0,\n",
       "  0,\n",
       "  0,\n",
       "  0,\n",
       "  0,\n",
       "  0,\n",
       "  0,\n",
       "  0,\n",
       "  1,\n",
       "  0,\n",
       "  0,\n",
       "  0,\n",
       "  0,\n",
       "  0,\n",
       "  0,\n",
       "  0,\n",
       "  0,\n",
       "  0,\n",
       "  0,\n",
       "  0,\n",
       "  0,\n",
       "  0,\n",
       "  0,\n",
       "  0,\n",
       "  0,\n",
       "  1,\n",
       "  0,\n",
       "  0,\n",
       "  0,\n",
       "  0,\n",
       "  0,\n",
       "  1,\n",
       "  1,\n",
       "  0,\n",
       "  0,\n",
       "  1,\n",
       "  0,\n",
       "  0,\n",
       "  0,\n",
       "  0,\n",
       "  0,\n",
       "  0,\n",
       "  0,\n",
       "  0,\n",
       "  0,\n",
       "  0,\n",
       "  0,\n",
       "  0,\n",
       "  0,\n",
       "  1,\n",
       "  0,\n",
       "  1,\n",
       "  0,\n",
       "  0,\n",
       "  0,\n",
       "  0,\n",
       "  0,\n",
       "  0,\n",
       "  1,\n",
       "  0,\n",
       "  1,\n",
       "  0,\n",
       "  0,\n",
       "  0,\n",
       "  0,\n",
       "  1,\n",
       "  1,\n",
       "  0,\n",
       "  0,\n",
       "  0,\n",
       "  0,\n",
       "  1,\n",
       "  0,\n",
       "  0,\n",
       "  0,\n",
       "  0,\n",
       "  1,\n",
       "  0,\n",
       "  0,\n",
       "  0,\n",
       "  0,\n",
       "  0,\n",
       "  0,\n",
       "  0,\n",
       "  0,\n",
       "  0,\n",
       "  0,\n",
       "  0,\n",
       "  0,\n",
       "  0,\n",
       "  0,\n",
       "  0,\n",
       "  0,\n",
       "  1,\n",
       "  0,\n",
       "  0,\n",
       "  0,\n",
       "  0,\n",
       "  0,\n",
       "  0,\n",
       "  0,\n",
       "  0,\n",
       "  0,\n",
       "  0,\n",
       "  0,\n",
       "  0,\n",
       "  1,\n",
       "  0,\n",
       "  1,\n",
       "  0,\n",
       "  0,\n",
       "  0,\n",
       "  0,\n",
       "  1,\n",
       "  0,\n",
       "  0,\n",
       "  0,\n",
       "  0,\n",
       "  0,\n",
       "  0,\n",
       "  0,\n",
       "  0,\n",
       "  0,\n",
       "  0,\n",
       "  0,\n",
       "  0,\n",
       "  0,\n",
       "  0,\n",
       "  0,\n",
       "  0,\n",
       "  0,\n",
       "  0,\n",
       "  0,\n",
       "  0,\n",
       "  0,\n",
       "  0,\n",
       "  0,\n",
       "  0,\n",
       "  0,\n",
       "  0,\n",
       "  0,\n",
       "  0,\n",
       "  0,\n",
       "  0,\n",
       "  0,\n",
       "  0,\n",
       "  0,\n",
       "  0,\n",
       "  0,\n",
       "  0,\n",
       "  0,\n",
       "  0,\n",
       "  0,\n",
       "  0,\n",
       "  0,\n",
       "  0,\n",
       "  0,\n",
       "  1,\n",
       "  0,\n",
       "  0,\n",
       "  0,\n",
       "  0,\n",
       "  0,\n",
       "  0,\n",
       "  0,\n",
       "  0,\n",
       "  0,\n",
       "  1,\n",
       "  0,\n",
       "  0,\n",
       "  0,\n",
       "  0,\n",
       "  1,\n",
       "  0,\n",
       "  1,\n",
       "  1,\n",
       "  0,\n",
       "  1,\n",
       "  0,\n",
       "  0,\n",
       "  0,\n",
       "  0,\n",
       "  0,\n",
       "  1,\n",
       "  0,\n",
       "  0,\n",
       "  0,\n",
       "  0,\n",
       "  0,\n",
       "  0,\n",
       "  0,\n",
       "  0,\n",
       "  0,\n",
       "  0,\n",
       "  0,\n",
       "  0,\n",
       "  0,\n",
       "  0,\n",
       "  0,\n",
       "  0,\n",
       "  0,\n",
       "  0,\n",
       "  0,\n",
       "  0,\n",
       "  0,\n",
       "  0,\n",
       "  0,\n",
       "  0,\n",
       "  0,\n",
       "  0,\n",
       "  0,\n",
       "  0,\n",
       "  0,\n",
       "  0,\n",
       "  0,\n",
       "  0,\n",
       "  0,\n",
       "  0,\n",
       "  0,\n",
       "  0,\n",
       "  0,\n",
       "  1,\n",
       "  0,\n",
       "  0,\n",
       "  0,\n",
       "  0,\n",
       "  0,\n",
       "  0,\n",
       "  0,\n",
       "  0,\n",
       "  0,\n",
       "  0,\n",
       "  0,\n",
       "  0,\n",
       "  0,\n",
       "  0,\n",
       "  0,\n",
       "  0,\n",
       "  0,\n",
       "  0,\n",
       "  1,\n",
       "  0,\n",
       "  0,\n",
       "  1,\n",
       "  0,\n",
       "  0,\n",
       "  0,\n",
       "  0,\n",
       "  0,\n",
       "  0,\n",
       "  0,\n",
       "  0,\n",
       "  1,\n",
       "  0,\n",
       "  0,\n",
       "  1,\n",
       "  0,\n",
       "  0,\n",
       "  0,\n",
       "  0,\n",
       "  0,\n",
       "  0,\n",
       "  0,\n",
       "  0,\n",
       "  0,\n",
       "  0,\n",
       "  0,\n",
       "  0,\n",
       "  0,\n",
       "  0,\n",
       "  0,\n",
       "  0,\n",
       "  0,\n",
       "  0,\n",
       "  0,\n",
       "  0,\n",
       "  0,\n",
       "  0,\n",
       "  0,\n",
       "  0,\n",
       "  0,\n",
       "  0,\n",
       "  0,\n",
       "  0,\n",
       "  0,\n",
       "  0,\n",
       "  0,\n",
       "  0,\n",
       "  0,\n",
       "  0,\n",
       "  0,\n",
       "  0,\n",
       "  0,\n",
       "  0,\n",
       "  0,\n",
       "  0,\n",
       "  0,\n",
       "  0,\n",
       "  0,\n",
       "  1,\n",
       "  0,\n",
       "  0,\n",
       "  0,\n",
       "  0,\n",
       "  1,\n",
       "  1,\n",
       "  0,\n",
       "  1,\n",
       "  0,\n",
       "  1,\n",
       "  0,\n",
       "  0,\n",
       "  0,\n",
       "  0,\n",
       "  0,\n",
       "  1,\n",
       "  0,\n",
       "  1,\n",
       "  0,\n",
       "  1,\n",
       "  0,\n",
       "  0,\n",
       "  0,\n",
       "  0,\n",
       "  0,\n",
       "  0,\n",
       "  0,\n",
       "  0,\n",
       "  0,\n",
       "  ...],\n",
       " '순서': [0.0,\n",
       "  11.0,\n",
       "  12.0,\n",
       "  18.0,\n",
       "  20.0,\n",
       "  24.0,\n",
       "  30.0,\n",
       "  33.0,\n",
       "  36.0,\n",
       "  37.0,\n",
       "  42.0,\n",
       "  43.0,\n",
       "  45.0,\n",
       "  47.0,\n",
       "  50.0,\n",
       "  51.0,\n",
       "  52.0,\n",
       "  57.0,\n",
       "  62.0,\n",
       "  68.0,\n",
       "  75.0,\n",
       "  79.0,\n",
       "  82.0,\n",
       "  84.0,\n",
       "  86.0,\n",
       "  92.0,\n",
       "  95.0,\n",
       "  99.0,\n",
       "  107.0,\n",
       "  108.0,\n",
       "  114.0,\n",
       "  115.0,\n",
       "  130.0,\n",
       "  131.0,\n",
       "  133.0,\n",
       "  145.0,\n",
       "  147.0,\n",
       "  156.0,\n",
       "  162.0,\n",
       "  165.0,\n",
       "  169.0,\n",
       "  170.0,\n",
       "  176.0,\n",
       "  180.0,\n",
       "  181.0,\n",
       "  186.0,\n",
       "  187.0,\n",
       "  188.0,\n",
       "  190.0,\n",
       "  195.0,\n",
       "  196.0,\n",
       "  199.0,\n",
       "  200.0,\n",
       "  203.0,\n",
       "  206.0,\n",
       "  208.0,\n",
       "  209.0,\n",
       "  217.0,\n",
       "  226.0,\n",
       "  227.0,\n",
       "  229.0,\n",
       "  230.0,\n",
       "  233.0,\n",
       "  234.0,\n",
       "  237.0,\n",
       "  240.0,\n",
       "  241.0,\n",
       "  242.0,\n",
       "  250.0,\n",
       "  251.0,\n",
       "  260.0,\n",
       "  268.0,\n",
       "  272.0,\n",
       "  274.0,\n",
       "  275.0,\n",
       "  280.0,\n",
       "  281.0,\n",
       "  284.0,\n",
       "  291.0,\n",
       "  292.0,\n",
       "  294.0,\n",
       "  298.0,\n",
       "  300.0,\n",
       "  301.0,\n",
       "  302.0,\n",
       "  304.0,\n",
       "  305.0,\n",
       "  308.0,\n",
       "  309.0,\n",
       "  313.0,\n",
       "  314.0,\n",
       "  316.0,\n",
       "  317.0,\n",
       "  318.0,\n",
       "  321.0,\n",
       "  341.0,\n",
       "  343.0,\n",
       "  345.0,\n",
       "  347.0,\n",
       "  351.0,\n",
       "  362.0,\n",
       "  367.0,\n",
       "  368.0,\n",
       "  371.0,\n",
       "  373.0,\n",
       "  377.0,\n",
       "  382.0,\n",
       "  386.0,\n",
       "  387.0,\n",
       "  395.0,\n",
       "  398.0,\n",
       "  401.0,\n",
       "  406.0,\n",
       "  407.0,\n",
       "  417.0,\n",
       "  424.0,\n",
       "  433.0,\n",
       "  434.0,\n",
       "  440.0,\n",
       "  441.0,\n",
       "  442.0,\n",
       "  451.0,\n",
       "  459.0,\n",
       "  463.0,\n",
       "  464.0,\n",
       "  468.0,\n",
       "  469.0,\n",
       "  471.0,\n",
       "  475.0,\n",
       "  477.0,\n",
       "  478.0,\n",
       "  482.0,\n",
       "  493.0,\n",
       "  497.0,\n",
       "  500.0,\n",
       "  501.0,\n",
       "  504.0,\n",
       "  507.0,\n",
       "  510.0,\n",
       "  511.0,\n",
       "  513.0,\n",
       "  518.0,\n",
       "  521.0,\n",
       "  535.0,\n",
       "  536.0,\n",
       "  542.0,\n",
       "  544.0,\n",
       "  557.0,\n",
       "  558.0,\n",
       "  560.0,\n",
       "  562.0,\n",
       "  563.0,\n",
       "  568.0,\n",
       "  571.0,\n",
       "  573.0,\n",
       "  577.0,\n",
       "  579.0,\n",
       "  585.0,\n",
       "  587.0,\n",
       "  589.0,\n",
       "  591.0,\n",
       "  595.0,\n",
       "  596.0,\n",
       "  600.0,\n",
       "  606.0,\n",
       "  609.0,\n",
       "  610.0,\n",
       "  612.0,\n",
       "  615.0,\n",
       "  616.0,\n",
       "  628.0,\n",
       "  637.0,\n",
       "  643.0,\n",
       "  644.0,\n",
       "  646.0,\n",
       "  648.0,\n",
       "  651.0,\n",
       "  652.0,\n",
       "  655.0,\n",
       "  657.0,\n",
       "  658.0,\n",
       "  667.0,\n",
       "  670.0,\n",
       "  675.0,\n",
       "  685.0,\n",
       "  686.0,\n",
       "  691.0,\n",
       "  693.0,\n",
       "  696.0,\n",
       "  697.0,\n",
       "  702.0,\n",
       "  703.0,\n",
       "  715.0,\n",
       "  718.0,\n",
       "  719.0,\n",
       "  722.0,\n",
       "  724.0,\n",
       "  726.0,\n",
       "  727.0,\n",
       "  728.0,\n",
       "  734.0,\n",
       "  737.0,\n",
       "  742.0,\n",
       "  746.0,\n",
       "  755.0,\n",
       "  756.0,\n",
       "  772.0,\n",
       "  773.0,\n",
       "  775.0,\n",
       "  776.0,\n",
       "  777.0,\n",
       "  779.0,\n",
       "  782.0,\n",
       "  790.0,\n",
       "  794.0,\n",
       "  795.0,\n",
       "  796.0,\n",
       "  803.0,\n",
       "  805.0,\n",
       "  806.0,\n",
       "  808.0,\n",
       "  811.0,\n",
       "  812.0,\n",
       "  816.0,\n",
       "  818.0,\n",
       "  820.0,\n",
       "  821.0,\n",
       "  827.0,\n",
       "  829.0,\n",
       "  831.0,\n",
       "  833.0,\n",
       "  837.0,\n",
       "  838.0,\n",
       "  842.0,\n",
       "  846.0,\n",
       "  853.0,\n",
       "  855.0,\n",
       "  867.0,\n",
       "  870.0,\n",
       "  874.0,\n",
       "  878.0,\n",
       "  879.0,\n",
       "  881.0,\n",
       "  884.0,\n",
       "  889.0,\n",
       "  890.0,\n",
       "  893.0,\n",
       "  898.0,\n",
       "  906.0,\n",
       "  911.0,\n",
       "  912.0,\n",
       "  918.0,\n",
       "  924.0,\n",
       "  932.0,\n",
       "  933.0,\n",
       "  936.0,\n",
       "  937.0,\n",
       "  945.0,\n",
       "  946.0,\n",
       "  947.0,\n",
       "  948.0,\n",
       "  952.0,\n",
       "  954.0,\n",
       "  963.0,\n",
       "  966.0,\n",
       "  968.0,\n",
       "  969.0,\n",
       "  972.0,\n",
       "  973.0,\n",
       "  975.0,\n",
       "  978.0,\n",
       "  979.0,\n",
       "  984.0,\n",
       "  985.0,\n",
       "  989.0,\n",
       "  990.0,\n",
       "  996.0,\n",
       "  997.0,\n",
       "  1005.0,\n",
       "  1016.0,\n",
       "  1021.0,\n",
       "  1025.0,\n",
       "  1026.0,\n",
       "  1028.0,\n",
       "  1033.0,\n",
       "  1035.0,\n",
       "  1037.0,\n",
       "  1039.0,\n",
       "  1042.0,\n",
       "  1044.0,\n",
       "  1057.0,\n",
       "  1060.0,\n",
       "  1062.0,\n",
       "  1064.0,\n",
       "  1078.0,\n",
       "  1083.0,\n",
       "  1085.0,\n",
       "  1086.0,\n",
       "  1089.0,\n",
       "  1091.0,\n",
       "  1096.0,\n",
       "  1097.0,\n",
       "  1101.0,\n",
       "  1103.0,\n",
       "  1104.0,\n",
       "  1105.0,\n",
       "  1115.0,\n",
       "  1117.0,\n",
       "  1121.0,\n",
       "  1122.0,\n",
       "  1131.0,\n",
       "  1133.0,\n",
       "  1135.0,\n",
       "  1140.0,\n",
       "  1143.0,\n",
       "  1145.0,\n",
       "  1146.0,\n",
       "  1147.0,\n",
       "  1150.0,\n",
       "  1151.0,\n",
       "  1152.0,\n",
       "  1154.0,\n",
       "  1157.0,\n",
       "  1161.0,\n",
       "  1165.0,\n",
       "  1173.0,\n",
       "  1176.0,\n",
       "  1179.0,\n",
       "  1182.0,\n",
       "  1186.0,\n",
       "  1187.0,\n",
       "  1189.0,\n",
       "  1190.0,\n",
       "  1199.0,\n",
       "  1203.0,\n",
       "  1206.0,\n",
       "  1208.0,\n",
       "  1209.0,\n",
       "  1210.0,\n",
       "  1214.0,\n",
       "  1219.0,\n",
       "  1227.0,\n",
       "  1232.0,\n",
       "  1234.0,\n",
       "  1235.0,\n",
       "  1237.0,\n",
       "  1238.0,\n",
       "  1241.0,\n",
       "  1247.0,\n",
       "  1257.0,\n",
       "  1263.0,\n",
       "  1265.0,\n",
       "  1268.0,\n",
       "  1280.0,\n",
       "  1281.0,\n",
       "  1282.0,\n",
       "  1283.0,\n",
       "  1285.0,\n",
       "  1286.0,\n",
       "  1287.0,\n",
       "  1288.0,\n",
       "  1289.0,\n",
       "  1291.0,\n",
       "  1298.0,\n",
       "  1301.0,\n",
       "  1302.0,\n",
       "  1305.0,\n",
       "  1306.0,\n",
       "  1313.0,\n",
       "  1314.0,\n",
       "  1315.0,\n",
       "  1318.0,\n",
       "  1319.0,\n",
       "  1325.0,\n",
       "  1333.0,\n",
       "  1339.0,\n",
       "  1344.0,\n",
       "  1346.0,\n",
       "  1347.0,\n",
       "  1354.0,\n",
       "  1365.0,\n",
       "  1366.0,\n",
       "  1369.0,\n",
       "  1371.0,\n",
       "  1376.0,\n",
       "  1380.0,\n",
       "  1384.0,\n",
       "  1387.0,\n",
       "  1390.0,\n",
       "  1391.0,\n",
       "  1400.0,\n",
       "  1402.0,\n",
       "  1403.0,\n",
       "  1407.0,\n",
       "  1408.0,\n",
       "  1411.0,\n",
       "  1412.0,\n",
       "  1413.0,\n",
       "  1415.0,\n",
       "  1418.0,\n",
       "  1423.0,\n",
       "  1424.0,\n",
       "  1428.0,\n",
       "  1433.0,\n",
       "  1436.0,\n",
       "  1439.0,\n",
       "  1441.0,\n",
       "  1445.0,\n",
       "  1449.0,\n",
       "  1450.0,\n",
       "  1451.0,\n",
       "  1454.0,\n",
       "  1456.0,\n",
       "  1461.0,\n",
       "  1465.0,\n",
       "  1466.0,\n",
       "  1469.0,\n",
       "  1473.0,\n",
       "  1478.0,\n",
       "  1480.0,\n",
       "  1483.0,\n",
       "  1484.0,\n",
       "  1490.0,\n",
       "  1491.0,\n",
       "  1493.0,\n",
       "  1494.0,\n",
       "  1498.0,\n",
       "  1499.0,\n",
       "  1500.0,\n",
       "  1502.0,\n",
       "  1506.0,\n",
       "  1510.0,\n",
       "  1511.0,\n",
       "  1517.0,\n",
       "  1518.0,\n",
       "  1522.0,\n",
       "  1524.0,\n",
       "  1531.0,\n",
       "  1537.0,\n",
       "  1541.0,\n",
       "  1546.0,\n",
       "  1550.0,\n",
       "  1553.0,\n",
       "  1558.0,\n",
       "  1568.0,\n",
       "  1572.0,\n",
       "  1573.0,\n",
       "  1581.0,\n",
       "  1582.0,\n",
       "  1583.0,\n",
       "  1584.0,\n",
       "  1587.0,\n",
       "  1589.0,\n",
       "  1598.0,\n",
       "  1604.0,\n",
       "  1606.0,\n",
       "  1613.0,\n",
       "  1617.0,\n",
       "  1621.0,\n",
       "  1624.0,\n",
       "  1626.0,\n",
       "  1631.0,\n",
       "  1640.0,\n",
       "  1644.0,\n",
       "  1646.0,\n",
       "  1647.0,\n",
       "  1651.0,\n",
       "  1654.0,\n",
       "  1655.0,\n",
       "  1661.0,\n",
       "  1665.0,\n",
       "  1678.0,\n",
       "  1680.0,\n",
       "  1684.0,\n",
       "  1686.0,\n",
       "  1690.0,\n",
       "  1691.0,\n",
       "  1694.0,\n",
       "  1695.0,\n",
       "  1696.0,\n",
       "  1697.0,\n",
       "  1698.0,\n",
       "  1707.0,\n",
       "  1708.0,\n",
       "  1711.0,\n",
       "  1714.0,\n",
       "  1722.0,\n",
       "  1723.0,\n",
       "  1726.0,\n",
       "  1735.0,\n",
       "  1740.0,\n",
       "  1744.0,\n",
       "  1748.0,\n",
       "  1751.0,\n",
       "  1753.0,\n",
       "  1754.0,\n",
       "  1760.0,\n",
       "  1767.0,\n",
       "  1768.0,\n",
       "  1769.0,\n",
       "  1774.0,\n",
       "  1787.0,\n",
       "  1788.0,\n",
       "  1789.0,\n",
       "  1795.0,\n",
       "  1798.0,\n",
       "  1799.0,\n",
       "  1803.0,\n",
       "  1811.0,\n",
       "  1812.0,\n",
       "  1816.0,\n",
       "  1822.0,\n",
       "  1827.0,\n",
       "  1829.0,\n",
       "  1830.0,\n",
       "  1840.0,\n",
       "  1848.0,\n",
       "  1852.0,\n",
       "  1853.0,\n",
       "  1860.0,\n",
       "  1864.0,\n",
       "  1865.0,\n",
       "  1880.0,\n",
       "  1882.0,\n",
       "  1883.0,\n",
       "  1886.0,\n",
       "  1887.0,\n",
       "  1892.0,\n",
       "  1895.0,\n",
       "  1896.0,\n",
       "  1905.0,\n",
       "  1916.0,\n",
       "  1917.0,\n",
       "  1919.0,\n",
       "  1927.0,\n",
       "  1939.0,\n",
       "  1947.0,\n",
       "  1948.0,\n",
       "  1950.0,\n",
       "  1954.0,\n",
       "  1955.0,\n",
       "  1976.0,\n",
       "  1978.0,\n",
       "  1982.0,\n",
       "  1990.0,\n",
       "  1992.0,\n",
       "  1993.0,\n",
       "  1994.0,\n",
       "  1999.0,\n",
       "  2001.0,\n",
       "  2003.0,\n",
       "  2006.0,\n",
       "  2007.0,\n",
       "  2008.0,\n",
       "  2016.0,\n",
       "  2017.0,\n",
       "  2018.0,\n",
       "  2021.0,\n",
       "  2029.0,\n",
       "  2044.0,\n",
       "  2047.0,\n",
       "  2051.0,\n",
       "  2060.0,\n",
       "  2065.0,\n",
       "  2068.0,\n",
       "  2071.0,\n",
       "  2074.0,\n",
       "  2078.0,\n",
       "  2080.0,\n",
       "  2081.0,\n",
       "  2084.0,\n",
       "  2087.0,\n",
       "  2088.0,\n",
       "  2092.0,\n",
       "  2098.0,\n",
       "  2101.0,\n",
       "  2111.0,\n",
       "  2114.0,\n",
       "  2117.0,\n",
       "  2118.0,\n",
       "  2119.0,\n",
       "  2120.0,\n",
       "  2121.0,\n",
       "  2122.0,\n",
       "  2125.0,\n",
       "  2126.0,\n",
       "  2129.0,\n",
       "  2139.0,\n",
       "  2141.0,\n",
       "  2150.0,\n",
       "  2153.0,\n",
       "  2157.0,\n",
       "  2162.0,\n",
       "  2164.0,\n",
       "  2171.0,\n",
       "  2173.0,\n",
       "  2174.0,\n",
       "  2176.0,\n",
       "  2181.0,\n",
       "  2182.0,\n",
       "  2183.0,\n",
       "  2184.0,\n",
       "  2187.0,\n",
       "  2193.0,\n",
       "  2195.0,\n",
       "  2199.0,\n",
       "  2202.0,\n",
       "  2203.0,\n",
       "  2205.0,\n",
       "  2206.0,\n",
       "  2209.0,\n",
       "  2213.0,\n",
       "  2217.0,\n",
       "  2223.0,\n",
       "  2225.0,\n",
       "  2227.0,\n",
       "  2228.0,\n",
       "  2233.0,\n",
       "  2237.0,\n",
       "  2241.0,\n",
       "  2243.0,\n",
       "  2244.0,\n",
       "  2245.0,\n",
       "  2247.0,\n",
       "  2251.0,\n",
       "  2252.0,\n",
       "  2253.0,\n",
       "  2254.0,\n",
       "  2255.0,\n",
       "  2257.0,\n",
       "  2261.0,\n",
       "  2265.0,\n",
       "  2266.0,\n",
       "  2272.0,\n",
       "  2278.0,\n",
       "  2281.0,\n",
       "  2288.0,\n",
       "  2289.0,\n",
       "  2290.0,\n",
       "  2295.0,\n",
       "  2296.0,\n",
       "  2301.0,\n",
       "  2309.0,\n",
       "  2318.0,\n",
       "  2320.0,\n",
       "  2324.0,\n",
       "  2330.0,\n",
       "  2345.0,\n",
       "  2353.0,\n",
       "  2357.0,\n",
       "  2365.0,\n",
       "  2374.0,\n",
       "  2376.0,\n",
       "  2379.0,\n",
       "  2380.0,\n",
       "  2385.0,\n",
       "  2389.0,\n",
       "  2390.0,\n",
       "  2393.0,\n",
       "  2396.0,\n",
       "  2398.0,\n",
       "  2400.0,\n",
       "  2401.0,\n",
       "  2402.0,\n",
       "  2404.0,\n",
       "  2405.0,\n",
       "  2410.0,\n",
       "  2413.0,\n",
       "  2414.0,\n",
       "  2418.0,\n",
       "  2419.0,\n",
       "  2420.0,\n",
       "  2424.0,\n",
       "  2427.0,\n",
       "  2435.0,\n",
       "  2437.0,\n",
       "  2439.0,\n",
       "  2440.0,\n",
       "  2442.0,\n",
       "  2443.0,\n",
       "  2444.0,\n",
       "  2447.0,\n",
       "  2451.0,\n",
       "  2454.0,\n",
       "  2457.0,\n",
       "  2460.0,\n",
       "  2462.0,\n",
       "  2464.0,\n",
       "  2467.0,\n",
       "  2469.0,\n",
       "  2492.0,\n",
       "  2493.0,\n",
       "  2496.0,\n",
       "  2505.0,\n",
       "  2514.0,\n",
       "  2515.0,\n",
       "  2516.0,\n",
       "  2520.0,\n",
       "  2522.0,\n",
       "  2527.0,\n",
       "  2530.0,\n",
       "  2533.0,\n",
       "  2543.0,\n",
       "  2545.0,\n",
       "  2547.0,\n",
       "  2551.0,\n",
       "  2554.0,\n",
       "  2558.0,\n",
       "  2565.0,\n",
       "  2567.0,\n",
       "  2576.0,\n",
       "  2587.0,\n",
       "  2589.0,\n",
       "  2590.0,\n",
       "  2596.0,\n",
       "  2599.0,\n",
       "  2602.0,\n",
       "  2605.0,\n",
       "  2613.0,\n",
       "  2614.0,\n",
       "  2615.0,\n",
       "  2619.0,\n",
       "  2623.0,\n",
       "  2626.0,\n",
       "  2631.0,\n",
       "  2633.0,\n",
       "  2635.0,\n",
       "  2644.0,\n",
       "  2646.0,\n",
       "  2653.0,\n",
       "  2656.0,\n",
       "  2657.0,\n",
       "  2658.0,\n",
       "  2660.0,\n",
       "  2665.0,\n",
       "  2672.0,\n",
       "  2682.0,\n",
       "  2683.0,\n",
       "  2685.0,\n",
       "  2692.0,\n",
       "  2697.0,\n",
       "  2703.0,\n",
       "  2705.0,\n",
       "  2714.0,\n",
       "  2719.0,\n",
       "  2734.0,\n",
       "  2736.0,\n",
       "  2737.0,\n",
       "  2738.0,\n",
       "  2740.0,\n",
       "  2744.0,\n",
       "  2747.0,\n",
       "  2749.0,\n",
       "  2750.0,\n",
       "  2752.0,\n",
       "  2754.0,\n",
       "  2768.0,\n",
       "  2772.0,\n",
       "  2773.0,\n",
       "  2774.0,\n",
       "  2775.0,\n",
       "  2780.0,\n",
       "  2781.0,\n",
       "  2786.0,\n",
       "  2787.0,\n",
       "  2790.0,\n",
       "  2791.0,\n",
       "  2795.0,\n",
       "  2801.0,\n",
       "  2805.0,\n",
       "  2810.0,\n",
       "  2815.0,\n",
       "  2816.0,\n",
       "  2822.0,\n",
       "  2823.0,\n",
       "  2830.0,\n",
       "  2835.0,\n",
       "  2840.0,\n",
       "  2841.0,\n",
       "  2854.0,\n",
       "  2856.0,\n",
       "  2857.0,\n",
       "  2859.0,\n",
       "  2869.0,\n",
       "  2871.0,\n",
       "  2874.0,\n",
       "  2876.0,\n",
       "  2877.0,\n",
       "  2880.0,\n",
       "  2881.0,\n",
       "  2885.0,\n",
       "  2889.0,\n",
       "  2894.0,\n",
       "  2897.0,\n",
       "  2900.0,\n",
       "  2902.0,\n",
       "  2905.0,\n",
       "  2912.0,\n",
       "  2919.0,\n",
       "  2923.0,\n",
       "  2924.0,\n",
       "  2927.0,\n",
       "  2929.0,\n",
       "  2937.0,\n",
       "  2943.0,\n",
       "  2944.0,\n",
       "  2945.0,\n",
       "  2947.0,\n",
       "  2948.0,\n",
       "  2951.0,\n",
       "  2953.0,\n",
       "  2954.0,\n",
       "  2962.0,\n",
       "  2963.0,\n",
       "  2966.0,\n",
       "  2968.0,\n",
       "  2973.0,\n",
       "  2974.0,\n",
       "  2975.0,\n",
       "  2978.0,\n",
       "  2983.0,\n",
       "  2985.0,\n",
       "  2989.0,\n",
       "  2990.0,\n",
       "  2993.0,\n",
       "  2999.0,\n",
       "  3002.0,\n",
       "  3003.0,\n",
       "  3004.0,\n",
       "  3022.0,\n",
       "  3023.0,\n",
       "  3024.0,\n",
       "  3033.0,\n",
       "  3045.0,\n",
       "  3046.0,\n",
       "  3047.0,\n",
       "  3049.0,\n",
       "  3054.0,\n",
       "  3068.0,\n",
       "  3070.0,\n",
       "  3074.0,\n",
       "  3076.0,\n",
       "  3078.0,\n",
       "  3079.0,\n",
       "  3080.0,\n",
       "  3081.0,\n",
       "  3084.0,\n",
       "  3102.0,\n",
       "  3105.0,\n",
       "  3110.0,\n",
       "  3112.0,\n",
       "  3118.0,\n",
       "  3121.0,\n",
       "  3124.0,\n",
       "  3126.0,\n",
       "  3127.0,\n",
       "  3131.0,\n",
       "  3134.0,\n",
       "  3137.0,\n",
       "  3141.0,\n",
       "  3144.0,\n",
       "  3150.0,\n",
       "  3151.0,\n",
       "  3157.0,\n",
       "  3161.0,\n",
       "  3162.0,\n",
       "  3163.0,\n",
       "  3171.0,\n",
       "  3180.0,\n",
       "  3181.0,\n",
       "  3193.0,\n",
       "  3199.0,\n",
       "  3201.0,\n",
       "  3202.0,\n",
       "  3216.0,\n",
       "  3218.0,\n",
       "  3220.0,\n",
       "  3223.0,\n",
       "  3238.0,\n",
       "  3239.0,\n",
       "  3240.0,\n",
       "  3241.0,\n",
       "  3248.0,\n",
       "  3250.0,\n",
       "  3252.0,\n",
       "  3253.0,\n",
       "  3254.0,\n",
       "  3255.0,\n",
       "  3256.0,\n",
       "  3265.0,\n",
       "  3266.0,\n",
       "  3267.0,\n",
       "  3271.0,\n",
       "  3275.0,\n",
       "  3276.0,\n",
       "  3282.0,\n",
       "  3284.0,\n",
       "  3286.0,\n",
       "  3288.0,\n",
       "  3294.0,\n",
       "  3295.0,\n",
       "  3299.0,\n",
       "  3311.0,\n",
       "  3312.0,\n",
       "  3319.0,\n",
       "  3325.0,\n",
       "  3327.0,\n",
       "  3328.0,\n",
       "  3332.0,\n",
       "  3338.0,\n",
       "  3341.0,\n",
       "  3342.0,\n",
       "  3347.0,\n",
       "  3358.0,\n",
       "  3362.0,\n",
       "  3364.0,\n",
       "  3368.0,\n",
       "  3370.0,\n",
       "  3371.0,\n",
       "  3372.0,\n",
       "  3388.0,\n",
       "  3389.0,\n",
       "  3391.0,\n",
       "  3394.0,\n",
       "  3398.0,\n",
       "  3399.0,\n",
       "  3408.0,\n",
       "  3412.0,\n",
       "  3413.0,\n",
       "  3419.0,\n",
       "  3422.0,\n",
       "  3426.0,\n",
       "  3427.0,\n",
       "  3438.0,\n",
       "  3444.0,\n",
       "  3450.0,\n",
       "  3453.0,\n",
       "  3454.0,\n",
       "  3461.0,\n",
       "  3463.0,\n",
       "  3470.0,\n",
       "  3471.0,\n",
       "  3476.0,\n",
       "  3479.0,\n",
       "  3486.0,\n",
       "  3494.0,\n",
       "  3499.0,\n",
       "  3503.0,\n",
       "  3504.0,\n",
       "  3509.0,\n",
       "  3510.0,\n",
       "  3513.0,\n",
       "  3515.0,\n",
       "  3518.0,\n",
       "  3523.0,\n",
       "  3530.0,\n",
       "  3531.0,\n",
       "  3537.0,\n",
       "  3538.0,\n",
       "  3539.0,\n",
       "  3549.0,\n",
       "  3550.0,\n",
       "  3558.0,\n",
       "  3559.0,\n",
       "  3564.0,\n",
       "  3569.0,\n",
       "  3571.0,\n",
       "  3582.0,\n",
       "  3583.0,\n",
       "  3588.0,\n",
       "  3591.0,\n",
       "  3593.0,\n",
       "  3602.0,\n",
       "  3604.0,\n",
       "  3606.0,\n",
       "  3610.0,\n",
       "  3611.0,\n",
       "  3617.0,\n",
       "  3619.0,\n",
       "  3627.0,\n",
       "  3631.0,\n",
       "  3635.0,\n",
       "  3639.0,\n",
       "  3642.0,\n",
       "  3643.0,\n",
       "  3644.0,\n",
       "  3646.0,\n",
       "  3650.0,\n",
       "  3651.0,\n",
       "  3657.0,\n",
       "  3659.0,\n",
       "  3662.0,\n",
       "  3665.0,\n",
       "  3667.0,\n",
       "  3672.0,\n",
       "  3675.0,\n",
       "  3682.0,\n",
       "  3688.0,\n",
       "  3691.0,\n",
       "  3694.0,\n",
       "  ...]}"
      ]
     },
     "execution_count": 700,
     "metadata": {},
     "output_type": "execute_result"
    }
   ],
   "source": [
    "{\"예측값\": pred_list, \"순서\": order_list}"
   ]
  },
  {
   "cell_type": "code",
   "execution_count": 701,
   "id": "1faf60c5",
   "metadata": {},
   "outputs": [
    {
     "data": {
      "text/html": [
       "<div>\n",
       "<style scoped>\n",
       "    .dataframe tbody tr th:only-of-type {\n",
       "        vertical-align: middle;\n",
       "    }\n",
       "\n",
       "    .dataframe tbody tr th {\n",
       "        vertical-align: top;\n",
       "    }\n",
       "\n",
       "    .dataframe thead th {\n",
       "        text-align: right;\n",
       "    }\n",
       "</style>\n",
       "<table border=\"1\" class=\"dataframe\">\n",
       "  <thead>\n",
       "    <tr style=\"text-align: right;\">\n",
       "      <th></th>\n",
       "      <th>예측값</th>\n",
       "      <th>순서</th>\n",
       "    </tr>\n",
       "  </thead>\n",
       "  <tbody>\n",
       "    <tr>\n",
       "      <th>0</th>\n",
       "      <td>0</td>\n",
       "      <td>0.0</td>\n",
       "    </tr>\n",
       "    <tr>\n",
       "      <th>2660</th>\n",
       "      <td>0</td>\n",
       "      <td>1.0</td>\n",
       "    </tr>\n",
       "    <tr>\n",
       "      <th>1667</th>\n",
       "      <td>0</td>\n",
       "      <td>2.0</td>\n",
       "    </tr>\n",
       "    <tr>\n",
       "      <th>2661</th>\n",
       "      <td>0</td>\n",
       "      <td>3.0</td>\n",
       "    </tr>\n",
       "    <tr>\n",
       "      <th>1668</th>\n",
       "      <td>1</td>\n",
       "      <td>4.0</td>\n",
       "    </tr>\n",
       "    <tr>\n",
       "      <th>...</th>\n",
       "      <td>...</td>\n",
       "      <td>...</td>\n",
       "    </tr>\n",
       "    <tr>\n",
       "      <th>5678</th>\n",
       "      <td>0</td>\n",
       "      <td>6036.0</td>\n",
       "    </tr>\n",
       "    <tr>\n",
       "      <th>5679</th>\n",
       "      <td>0</td>\n",
       "      <td>6037.0</td>\n",
       "    </tr>\n",
       "    <tr>\n",
       "      <th>5680</th>\n",
       "      <td>0</td>\n",
       "      <td>6038.0</td>\n",
       "    </tr>\n",
       "    <tr>\n",
       "      <th>2659</th>\n",
       "      <td>0</td>\n",
       "      <td>6039.0</td>\n",
       "    </tr>\n",
       "    <tr>\n",
       "      <th>1666</th>\n",
       "      <td>0</td>\n",
       "      <td>6040.0</td>\n",
       "    </tr>\n",
       "  </tbody>\n",
       "</table>\n",
       "<p>6041 rows × 2 columns</p>\n",
       "</div>"
      ],
      "text/plain": [
       "      예측값      순서\n",
       "0       0     0.0\n",
       "2660    0     1.0\n",
       "1667    0     2.0\n",
       "2661    0     3.0\n",
       "1668    1     4.0\n",
       "...   ...     ...\n",
       "5678    0  6036.0\n",
       "5679    0  6037.0\n",
       "5680    0  6038.0\n",
       "2659    0  6039.0\n",
       "1666    0  6040.0\n",
       "\n",
       "[6041 rows x 2 columns]"
      ]
     },
     "execution_count": 701,
     "metadata": {},
     "output_type": "execute_result"
    }
   ],
   "source": [
    "result = pd.DataFrame({\"예측값\": pred_list, \"순서\": order_list})\n",
    "result.sort_values(by=[\"순서\"], inplace=True)\n",
    "result"
   ]
  },
  {
   "cell_type": "code",
   "execution_count": 702,
   "id": "1306c0a0",
   "metadata": {},
   "outputs": [
    {
     "data": {
      "text/plain": [
       "[0,\n",
       " 0,\n",
       " 0,\n",
       " 0,\n",
       " 1,\n",
       " 0,\n",
       " 0,\n",
       " 0,\n",
       " 0,\n",
       " 0,\n",
       " 0,\n",
       " 0,\n",
       " 0,\n",
       " 0,\n",
       " 0,\n",
       " 0,\n",
       " 0,\n",
       " 0,\n",
       " 0,\n",
       " 0,\n",
       " 0,\n",
       " 0,\n",
       " 0,\n",
       " 0,\n",
       " 0,\n",
       " 0,\n",
       " 0,\n",
       " 0,\n",
       " 0,\n",
       " 0,\n",
       " 0,\n",
       " 0,\n",
       " 1,\n",
       " 0,\n",
       " 0,\n",
       " 0,\n",
       " 0,\n",
       " 0,\n",
       " 0,\n",
       " 0,\n",
       " 0,\n",
       " 0,\n",
       " 0,\n",
       " 0,\n",
       " 0,\n",
       " 0,\n",
       " 0,\n",
       " 0,\n",
       " 0,\n",
       " 0,\n",
       " 0,\n",
       " 0,\n",
       " 0,\n",
       " 0,\n",
       " 1,\n",
       " 0,\n",
       " 0,\n",
       " 0,\n",
       " 0,\n",
       " 0,\n",
       " 0,\n",
       " 0,\n",
       " 0,\n",
       " 0,\n",
       " 0,\n",
       " 0,\n",
       " 0,\n",
       " 0,\n",
       " 0,\n",
       " 0,\n",
       " 0,\n",
       " 0,\n",
       " 0,\n",
       " 0,\n",
       " 0,\n",
       " 1,\n",
       " 0,\n",
       " 0,\n",
       " 0,\n",
       " 0,\n",
       " 0,\n",
       " 0,\n",
       " 0,\n",
       " 0,\n",
       " 0,\n",
       " 0,\n",
       " 0,\n",
       " 0,\n",
       " 0,\n",
       " 0,\n",
       " 0,\n",
       " 0,\n",
       " 0,\n",
       " 0,\n",
       " 0,\n",
       " 0,\n",
       " 0,\n",
       " 0,\n",
       " 0,\n",
       " 0,\n",
       " 0,\n",
       " 1,\n",
       " 0,\n",
       " 0,\n",
       " 0,\n",
       " 0,\n",
       " 0,\n",
       " 0,\n",
       " 0,\n",
       " 0,\n",
       " 0,\n",
       " 0,\n",
       " 0,\n",
       " 0,\n",
       " 0,\n",
       " 0,\n",
       " 0,\n",
       " 0,\n",
       " 0,\n",
       " 0,\n",
       " 0,\n",
       " 0,\n",
       " 0,\n",
       " 0,\n",
       " 0,\n",
       " 0,\n",
       " 0,\n",
       " 0,\n",
       " 0,\n",
       " 0,\n",
       " 0,\n",
       " 0,\n",
       " 0,\n",
       " 1,\n",
       " 1,\n",
       " 0,\n",
       " 0,\n",
       " 0,\n",
       " 0,\n",
       " 0,\n",
       " 0,\n",
       " 0,\n",
       " 0,\n",
       " 0,\n",
       " 1,\n",
       " 0,\n",
       " 0,\n",
       " 0,\n",
       " 0,\n",
       " 0,\n",
       " 0,\n",
       " 0,\n",
       " 0,\n",
       " 0,\n",
       " 0,\n",
       " 0,\n",
       " 0,\n",
       " 0,\n",
       " 0,\n",
       " 0,\n",
       " 0,\n",
       " 0,\n",
       " 1,\n",
       " 0,\n",
       " 0,\n",
       " 0,\n",
       " 0,\n",
       " 0,\n",
       " 0,\n",
       " 0,\n",
       " 0,\n",
       " 0,\n",
       " 0,\n",
       " 0,\n",
       " 0,\n",
       " 0,\n",
       " 0,\n",
       " 0,\n",
       " 0,\n",
       " 0,\n",
       " 0,\n",
       " 1,\n",
       " 0,\n",
       " 0,\n",
       " 1,\n",
       " 0,\n",
       " 0,\n",
       " 0,\n",
       " 0,\n",
       " 0,\n",
       " 0,\n",
       " 0,\n",
       " 0,\n",
       " 0,\n",
       " 0,\n",
       " 1,\n",
       " 0,\n",
       " 0,\n",
       " 0,\n",
       " 0,\n",
       " 0,\n",
       " 0,\n",
       " 0,\n",
       " 0,\n",
       " 0,\n",
       " 0,\n",
       " 0,\n",
       " 0,\n",
       " 0,\n",
       " 0,\n",
       " 0,\n",
       " 0,\n",
       " 0,\n",
       " 0,\n",
       " 0,\n",
       " 0,\n",
       " 0,\n",
       " 0,\n",
       " 0,\n",
       " 0,\n",
       " 0,\n",
       " 0,\n",
       " 0,\n",
       " 0,\n",
       " 0,\n",
       " 0,\n",
       " 0,\n",
       " 0,\n",
       " 0,\n",
       " 0,\n",
       " 0,\n",
       " 0,\n",
       " 1,\n",
       " 1,\n",
       " 0,\n",
       " 0,\n",
       " 0,\n",
       " 0,\n",
       " 0,\n",
       " 0,\n",
       " 0,\n",
       " 0,\n",
       " 0,\n",
       " 0,\n",
       " 0,\n",
       " 0,\n",
       " 0,\n",
       " 0,\n",
       " 0,\n",
       " 0,\n",
       " 0,\n",
       " 0,\n",
       " 0,\n",
       " 0,\n",
       " 0,\n",
       " 0,\n",
       " 0,\n",
       " 0,\n",
       " 0,\n",
       " 0,\n",
       " 0,\n",
       " 0,\n",
       " 1,\n",
       " 0,\n",
       " 0,\n",
       " 0,\n",
       " 0,\n",
       " 0,\n",
       " 0,\n",
       " 0,\n",
       " 0,\n",
       " 0,\n",
       " 0,\n",
       " 0,\n",
       " 0,\n",
       " 0,\n",
       " 0,\n",
       " 0,\n",
       " 0,\n",
       " 0,\n",
       " 0,\n",
       " 0,\n",
       " 0,\n",
       " 0,\n",
       " 0,\n",
       " 0,\n",
       " 0,\n",
       " 0,\n",
       " 0,\n",
       " 0,\n",
       " 0,\n",
       " 0,\n",
       " 0,\n",
       " 0,\n",
       " 0,\n",
       " 0,\n",
       " 0,\n",
       " 0,\n",
       " 0,\n",
       " 0,\n",
       " 0,\n",
       " 0,\n",
       " 0,\n",
       " 0,\n",
       " 0,\n",
       " 0,\n",
       " 0,\n",
       " 0,\n",
       " 0,\n",
       " 1,\n",
       " 0,\n",
       " 0,\n",
       " 0,\n",
       " 0,\n",
       " 0,\n",
       " 0,\n",
       " 1,\n",
       " 1,\n",
       " 0,\n",
       " 0,\n",
       " 0,\n",
       " 0,\n",
       " 0,\n",
       " 0,\n",
       " 0,\n",
       " 0,\n",
       " 0,\n",
       " 0,\n",
       " 0,\n",
       " 0,\n",
       " 0,\n",
       " 0,\n",
       " 0,\n",
       " 0,\n",
       " 0,\n",
       " 0,\n",
       " 0,\n",
       " 0,\n",
       " 0,\n",
       " 0,\n",
       " 0,\n",
       " 0,\n",
       " 0,\n",
       " 0,\n",
       " 0,\n",
       " 0,\n",
       " 0,\n",
       " 1,\n",
       " 0,\n",
       " 0,\n",
       " 1,\n",
       " 0,\n",
       " 0,\n",
       " 0,\n",
       " 0,\n",
       " 0,\n",
       " 0,\n",
       " 0,\n",
       " 0,\n",
       " 0,\n",
       " 1,\n",
       " 0,\n",
       " 0,\n",
       " 0,\n",
       " 0,\n",
       " 0,\n",
       " 0,\n",
       " 0,\n",
       " 0,\n",
       " 0,\n",
       " 0,\n",
       " 0,\n",
       " 0,\n",
       " 0,\n",
       " 0,\n",
       " 0,\n",
       " 0,\n",
       " 0,\n",
       " 0,\n",
       " 0,\n",
       " 0,\n",
       " 0,\n",
       " 0,\n",
       " 0,\n",
       " 0,\n",
       " 0,\n",
       " 1,\n",
       " 0,\n",
       " 0,\n",
       " 1,\n",
       " 0,\n",
       " 0,\n",
       " 0,\n",
       " 1,\n",
       " 0,\n",
       " 0,\n",
       " 0,\n",
       " 0,\n",
       " 1,\n",
       " 0,\n",
       " 0,\n",
       " 1,\n",
       " 0,\n",
       " 0,\n",
       " 0,\n",
       " 0,\n",
       " 0,\n",
       " 0,\n",
       " 0,\n",
       " 0,\n",
       " 0,\n",
       " 0,\n",
       " 0,\n",
       " 0,\n",
       " 0,\n",
       " 0,\n",
       " 0,\n",
       " 0,\n",
       " 0,\n",
       " 1,\n",
       " 0,\n",
       " 0,\n",
       " 0,\n",
       " 0,\n",
       " 0,\n",
       " 0,\n",
       " 0,\n",
       " 0,\n",
       " 0,\n",
       " 0,\n",
       " 0,\n",
       " 0,\n",
       " 0,\n",
       " 0,\n",
       " 0,\n",
       " 0,\n",
       " 0,\n",
       " 0,\n",
       " 1,\n",
       " 0,\n",
       " 0,\n",
       " 0,\n",
       " 0,\n",
       " 0,\n",
       " 0,\n",
       " 0,\n",
       " 1,\n",
       " 0,\n",
       " 0,\n",
       " 0,\n",
       " 0,\n",
       " 1,\n",
       " 0,\n",
       " 0,\n",
       " 0,\n",
       " 0,\n",
       " 1,\n",
       " 0,\n",
       " 0,\n",
       " 0,\n",
       " 0,\n",
       " 0,\n",
       " 0,\n",
       " 0,\n",
       " 0,\n",
       " 0,\n",
       " 0,\n",
       " 0,\n",
       " 0,\n",
       " 0,\n",
       " 0,\n",
       " 0,\n",
       " 0,\n",
       " 0,\n",
       " 0,\n",
       " 0,\n",
       " 0,\n",
       " 0,\n",
       " 0,\n",
       " 0,\n",
       " 0,\n",
       " 0,\n",
       " 0,\n",
       " 0,\n",
       " 0,\n",
       " 0,\n",
       " 0,\n",
       " 0,\n",
       " 0,\n",
       " 0,\n",
       " 0,\n",
       " 0,\n",
       " 0,\n",
       " 1,\n",
       " 0,\n",
       " 0,\n",
       " 0,\n",
       " 0,\n",
       " 0,\n",
       " 0,\n",
       " 1,\n",
       " 0,\n",
       " 0,\n",
       " 0,\n",
       " 0,\n",
       " 0,\n",
       " 0,\n",
       " 0,\n",
       " 0,\n",
       " 0,\n",
       " 0,\n",
       " 0,\n",
       " 0,\n",
       " 0,\n",
       " 0,\n",
       " 0,\n",
       " 0,\n",
       " 0,\n",
       " 0,\n",
       " 0,\n",
       " 0,\n",
       " 0,\n",
       " 0,\n",
       " 0,\n",
       " 0,\n",
       " 1,\n",
       " 0,\n",
       " 0,\n",
       " 0,\n",
       " 1,\n",
       " 1,\n",
       " 0,\n",
       " 0,\n",
       " 0,\n",
       " 0,\n",
       " 0,\n",
       " 0,\n",
       " 0,\n",
       " 0,\n",
       " 0,\n",
       " 0,\n",
       " 0,\n",
       " 0,\n",
       " 0,\n",
       " 0,\n",
       " 0,\n",
       " 0,\n",
       " 0,\n",
       " 0,\n",
       " 0,\n",
       " 0,\n",
       " 0,\n",
       " 0,\n",
       " 0,\n",
       " 0,\n",
       " 0,\n",
       " 0,\n",
       " 0,\n",
       " 0,\n",
       " 0,\n",
       " 0,\n",
       " 0,\n",
       " 0,\n",
       " 0,\n",
       " 0,\n",
       " 0,\n",
       " 0,\n",
       " 0,\n",
       " 1,\n",
       " 0,\n",
       " 0,\n",
       " 0,\n",
       " 0,\n",
       " 0,\n",
       " 0,\n",
       " 0,\n",
       " 0,\n",
       " 0,\n",
       " 0,\n",
       " 0,\n",
       " 0,\n",
       " 0,\n",
       " 0,\n",
       " 0,\n",
       " 0,\n",
       " 0,\n",
       " 0,\n",
       " 0,\n",
       " 0,\n",
       " 0,\n",
       " 0,\n",
       " 0,\n",
       " 0,\n",
       " 0,\n",
       " 0,\n",
       " 0,\n",
       " 0,\n",
       " 0,\n",
       " 0,\n",
       " 0,\n",
       " 0,\n",
       " 0,\n",
       " 0,\n",
       " 0,\n",
       " 0,\n",
       " 0,\n",
       " 0,\n",
       " 0,\n",
       " 0,\n",
       " 0,\n",
       " 0,\n",
       " 0,\n",
       " 0,\n",
       " 0,\n",
       " 0,\n",
       " 0,\n",
       " 0,\n",
       " 0,\n",
       " 0,\n",
       " 0,\n",
       " 0,\n",
       " 0,\n",
       " 0,\n",
       " 0,\n",
       " 0,\n",
       " 0,\n",
       " 0,\n",
       " 0,\n",
       " 0,\n",
       " 0,\n",
       " 0,\n",
       " 0,\n",
       " 0,\n",
       " 0,\n",
       " 0,\n",
       " 0,\n",
       " 0,\n",
       " 0,\n",
       " 0,\n",
       " 0,\n",
       " 0,\n",
       " 0,\n",
       " 0,\n",
       " 0,\n",
       " 0,\n",
       " 0,\n",
       " 0,\n",
       " 0,\n",
       " 0,\n",
       " 0,\n",
       " 0,\n",
       " 1,\n",
       " 0,\n",
       " 0,\n",
       " 0,\n",
       " 0,\n",
       " 0,\n",
       " 0,\n",
       " 0,\n",
       " 0,\n",
       " 0,\n",
       " 0,\n",
       " 0,\n",
       " 0,\n",
       " 0,\n",
       " 0,\n",
       " 0,\n",
       " 0,\n",
       " 0,\n",
       " 0,\n",
       " 0,\n",
       " 1,\n",
       " 0,\n",
       " 0,\n",
       " 0,\n",
       " 1,\n",
       " 0,\n",
       " 0,\n",
       " 0,\n",
       " 0,\n",
       " 0,\n",
       " 0,\n",
       " 0,\n",
       " 0,\n",
       " 0,\n",
       " 0,\n",
       " 1,\n",
       " 0,\n",
       " 0,\n",
       " 0,\n",
       " 0,\n",
       " 0,\n",
       " 0,\n",
       " 0,\n",
       " 0,\n",
       " 0,\n",
       " 0,\n",
       " 1,\n",
       " 0,\n",
       " 0,\n",
       " 0,\n",
       " 0,\n",
       " 0,\n",
       " 0,\n",
       " 0,\n",
       " 0,\n",
       " 0,\n",
       " 0,\n",
       " 0,\n",
       " 0,\n",
       " 0,\n",
       " 0,\n",
       " 0,\n",
       " 0,\n",
       " 0,\n",
       " 0,\n",
       " 0,\n",
       " 0,\n",
       " 0,\n",
       " 0,\n",
       " 0,\n",
       " 0,\n",
       " 0,\n",
       " 0,\n",
       " 0,\n",
       " 0,\n",
       " 0,\n",
       " 0,\n",
       " 0,\n",
       " 0,\n",
       " 0,\n",
       " 0,\n",
       " 0,\n",
       " 0,\n",
       " 0,\n",
       " 0,\n",
       " 0,\n",
       " 0,\n",
       " 0,\n",
       " 0,\n",
       " 0,\n",
       " 0,\n",
       " 1,\n",
       " 0,\n",
       " 0,\n",
       " 0,\n",
       " 0,\n",
       " 0,\n",
       " 0,\n",
       " 0,\n",
       " 0,\n",
       " 0,\n",
       " 0,\n",
       " 0,\n",
       " 0,\n",
       " 0,\n",
       " 0,\n",
       " 0,\n",
       " 0,\n",
       " 0,\n",
       " 0,\n",
       " 0,\n",
       " 0,\n",
       " 1,\n",
       " 0,\n",
       " 0,\n",
       " 0,\n",
       " 0,\n",
       " 0,\n",
       " 0,\n",
       " 0,\n",
       " 0,\n",
       " 0,\n",
       " 0,\n",
       " 0,\n",
       " 1,\n",
       " 0,\n",
       " 0,\n",
       " 0,\n",
       " 0,\n",
       " 0,\n",
       " 0,\n",
       " 0,\n",
       " 0,\n",
       " 0,\n",
       " 0,\n",
       " 0,\n",
       " 0,\n",
       " 0,\n",
       " 1,\n",
       " 1,\n",
       " 0,\n",
       " 0,\n",
       " 0,\n",
       " 0,\n",
       " 0,\n",
       " 0,\n",
       " 0,\n",
       " 0,\n",
       " 0,\n",
       " 0,\n",
       " 0,\n",
       " 0,\n",
       " 1,\n",
       " 0,\n",
       " 0,\n",
       " 0,\n",
       " 0,\n",
       " 0,\n",
       " 0,\n",
       " 0,\n",
       " 0,\n",
       " 0,\n",
       " 0,\n",
       " 0,\n",
       " 0,\n",
       " 0,\n",
       " 0,\n",
       " 0,\n",
       " 0,\n",
       " 0,\n",
       " 0,\n",
       " 0,\n",
       " 0,\n",
       " 0,\n",
       " 0,\n",
       " 0,\n",
       " 0,\n",
       " 0,\n",
       " 0,\n",
       " 0,\n",
       " 0,\n",
       " 0,\n",
       " 0,\n",
       " 0,\n",
       " 0,\n",
       " 0,\n",
       " 0,\n",
       " 0,\n",
       " 0,\n",
       " 0,\n",
       " 0,\n",
       " 0,\n",
       " 0,\n",
       " 1,\n",
       " 1,\n",
       " 0,\n",
       " 0,\n",
       " 0,\n",
       " 0,\n",
       " 0,\n",
       " 0,\n",
       " 0,\n",
       " 0,\n",
       " 0,\n",
       " 0,\n",
       " 0,\n",
       " 0,\n",
       " 0,\n",
       " 0,\n",
       " 0,\n",
       " 0,\n",
       " 0,\n",
       " 0,\n",
       " 0,\n",
       " 0,\n",
       " 0,\n",
       " 0,\n",
       " 1,\n",
       " 0,\n",
       " 1,\n",
       " 0,\n",
       " 0,\n",
       " 0,\n",
       " 0,\n",
       " 0,\n",
       " 0,\n",
       " 0,\n",
       " 0,\n",
       " 0,\n",
       " 0,\n",
       " 0,\n",
       " 0,\n",
       " 0,\n",
       " 0,\n",
       " 0,\n",
       " 1,\n",
       " 0,\n",
       " 0,\n",
       " 0,\n",
       " 0,\n",
       " 0,\n",
       " 0,\n",
       " 0,\n",
       " 0,\n",
       " 0,\n",
       " 0,\n",
       " 0,\n",
       " 0,\n",
       " 0,\n",
       " 0,\n",
       " 0,\n",
       " 0,\n",
       " 0,\n",
       " 0,\n",
       " 0,\n",
       " 0,\n",
       " 0,\n",
       " 0,\n",
       " 0,\n",
       " 1,\n",
       " 1,\n",
       " 0,\n",
       " 0,\n",
       " 0,\n",
       " 0,\n",
       " 0,\n",
       " 0,\n",
       " 0,\n",
       " 0,\n",
       " 0,\n",
       " 0,\n",
       " 0,\n",
       " 0,\n",
       " 0,\n",
       " 0,\n",
       " 0,\n",
       " 0,\n",
       " 0,\n",
       " 0,\n",
       " 0,\n",
       " 0,\n",
       " 0,\n",
       " 0,\n",
       " 0,\n",
       " 1,\n",
       " 0,\n",
       " 0,\n",
       " 0,\n",
       " 0,\n",
       " 0,\n",
       " 0,\n",
       " 0,\n",
       " 0,\n",
       " 0,\n",
       " 0,\n",
       " 0,\n",
       " 1,\n",
       " 0,\n",
       " 0,\n",
       " 0,\n",
       " 0,\n",
       " 0,\n",
       " 0,\n",
       " 0,\n",
       " 0,\n",
       " 0,\n",
       " 0,\n",
       " 0,\n",
       " 0,\n",
       " 0,\n",
       " 0,\n",
       " 0,\n",
       " 0,\n",
       " 0,\n",
       " 0,\n",
       " 1,\n",
       " 0,\n",
       " 0,\n",
       " 0,\n",
       " 0,\n",
       " 0,\n",
       " 1,\n",
       " 0,\n",
       " 0,\n",
       " 0,\n",
       " 0,\n",
       " 0,\n",
       " 0,\n",
       " 0,\n",
       " 1,\n",
       " 0,\n",
       " 0,\n",
       " 0,\n",
       " 1,\n",
       " 0,\n",
       " 1,\n",
       " 0,\n",
       " 0,\n",
       " 0,\n",
       " 0,\n",
       " 0,\n",
       " 0,\n",
       " 0,\n",
       " 1,\n",
       " 0,\n",
       " 1,\n",
       " 0,\n",
       " 0,\n",
       " 0,\n",
       " ...]"
      ]
     },
     "execution_count": 702,
     "metadata": {},
     "output_type": "execute_result"
    }
   ],
   "source": [
    "final_result = result[\"예측값\"].tolist()\n",
    "final_result"
   ]
  },
  {
   "cell_type": "code",
   "execution_count": null,
   "id": "e432dba7",
   "metadata": {},
   "outputs": [],
   "source": []
  },
  {
   "cell_type": "code",
   "execution_count": 703,
   "id": "3a2081a5",
   "metadata": {},
   "outputs": [
    {
     "data": {
      "text/html": [
       "<div>\n",
       "<style scoped>\n",
       "    .dataframe tbody tr th:only-of-type {\n",
       "        vertical-align: middle;\n",
       "    }\n",
       "\n",
       "    .dataframe tbody tr th {\n",
       "        vertical-align: top;\n",
       "    }\n",
       "\n",
       "    .dataframe thead th {\n",
       "        text-align: right;\n",
       "    }\n",
       "</style>\n",
       "<table border=\"1\" class=\"dataframe\">\n",
       "  <thead>\n",
       "    <tr style=\"text-align: right;\">\n",
       "      <th></th>\n",
       "      <th>ID</th>\n",
       "      <th>Y_LABEL</th>\n",
       "    </tr>\n",
       "  </thead>\n",
       "  <tbody>\n",
       "    <tr>\n",
       "      <th>0</th>\n",
       "      <td>TEST_0000</td>\n",
       "      <td>0</td>\n",
       "    </tr>\n",
       "    <tr>\n",
       "      <th>1</th>\n",
       "      <td>TEST_0001</td>\n",
       "      <td>0</td>\n",
       "    </tr>\n",
       "    <tr>\n",
       "      <th>2</th>\n",
       "      <td>TEST_0002</td>\n",
       "      <td>0</td>\n",
       "    </tr>\n",
       "    <tr>\n",
       "      <th>3</th>\n",
       "      <td>TEST_0003</td>\n",
       "      <td>0</td>\n",
       "    </tr>\n",
       "    <tr>\n",
       "      <th>4</th>\n",
       "      <td>TEST_0004</td>\n",
       "      <td>1</td>\n",
       "    </tr>\n",
       "    <tr>\n",
       "      <th>5</th>\n",
       "      <td>TEST_0005</td>\n",
       "      <td>0</td>\n",
       "    </tr>\n",
       "    <tr>\n",
       "      <th>6</th>\n",
       "      <td>TEST_0006</td>\n",
       "      <td>0</td>\n",
       "    </tr>\n",
       "    <tr>\n",
       "      <th>7</th>\n",
       "      <td>TEST_0007</td>\n",
       "      <td>0</td>\n",
       "    </tr>\n",
       "    <tr>\n",
       "      <th>8</th>\n",
       "      <td>TEST_0008</td>\n",
       "      <td>0</td>\n",
       "    </tr>\n",
       "    <tr>\n",
       "      <th>9</th>\n",
       "      <td>TEST_0009</td>\n",
       "      <td>0</td>\n",
       "    </tr>\n",
       "  </tbody>\n",
       "</table>\n",
       "</div>"
      ],
      "text/plain": [
       "          ID  Y_LABEL\n",
       "0  TEST_0000        0\n",
       "1  TEST_0001        0\n",
       "2  TEST_0002        0\n",
       "3  TEST_0003        0\n",
       "4  TEST_0004        1\n",
       "5  TEST_0005        0\n",
       "6  TEST_0006        0\n",
       "7  TEST_0007        0\n",
       "8  TEST_0008        0\n",
       "9  TEST_0009        0"
      ]
     },
     "execution_count": 703,
     "metadata": {},
     "output_type": "execute_result"
    }
   ],
   "source": [
    "submit = pd.read_csv('./data/sample_submission.csv')\n",
    "submit['Y_LABEL'] = final_result\n",
    "submit.head(10)"
   ]
  },
  {
   "cell_type": "code",
   "execution_count": 704,
   "id": "d486a345",
   "metadata": {},
   "outputs": [
    {
     "name": "stdout",
     "output_type": "stream",
     "text": [
      "정상값 개수 : 5628, 이상값 개수 : 413\n"
     ]
    }
   ],
   "source": [
    "pred_cnt = tuple(submit[\"Y_LABEL\"].value_counts())\n",
    "a, b = pred_cnt\n",
    "r = f\"정상값 개수 : {a}, 이상값 개수 : {b}\"\n",
    "print(r)"
   ]
  },
  {
   "cell_type": "code",
   "execution_count": 705,
   "id": "84b73f00",
   "metadata": {},
   "outputs": [],
   "source": [
    "submit.to_csv(f'./submits/submit{file_version}.csv', index=False)"
   ]
  },
  {
   "cell_type": "code",
   "execution_count": 706,
   "id": "84905804",
   "metadata": {},
   "outputs": [
    {
     "data": {
      "text/plain": [
       "{'ver': 122,\n",
       " 'scaler': StandardScaler(),\n",
       " 'CFG': {'EPOCHS': 30,\n",
       "  'BATCH_SIZE': 256,\n",
       "  'SEED': 1,\n",
       "  'log_transform_turn': 1,\n",
       "  'skew_cut': 0,\n",
       "  'vif_cut': 10,\n",
       "  'corr_cut': [0.045, 0.045, 0.045, 0.05],\n",
       "  'drop_rate': 0.3,\n",
       "  'reduct': 'mean',\n",
       "  'T_LEARNING_RATE': [0.03, 0.001, 0.01, 0.03],\n",
       "  'T_Thresh': [0.3, 0.3, 0.3, 0.3],\n",
       "  'S_LEARNING_RATE': [0.03, 0.001, 0.01, 0.03],\n",
       "  'S_Thresh': [0.3, 0.3, 0.3, 0.3],\n",
       "  'alpha': 0.1},\n",
       " 'threshold': [0.25, 0.3, 0.3, 0.25],\n",
       " 'best_scores': [0.5675936046834763,\n",
       "  0.5447813152731186,\n",
       "  0.5923145082311244,\n",
       "  0.5771305285868393],\n",
       " 'pred_cnt': '정상값 개수 : 5628, 이상값 개수 : 413'}"
      ]
     },
     "execution_count": 706,
     "metadata": {},
     "output_type": "execute_result"
    }
   ],
   "source": [
    "record = {\"ver\": file_version, \"scaler\": scaler, \"CFG\": CFG, \"threshold\": thresholds, \"best_scores\": best_scores, \"pred_cnt\": r}\n",
    "record"
   ]
  },
  {
   "cell_type": "code",
   "execution_count": 707,
   "id": "7ba07d88",
   "metadata": {},
   "outputs": [
    {
     "data": {
      "text/plain": [
       "{'ver': 108,\n",
       " 'scaler': RobustScaler(),\n",
       " 'CFG': {'EPOCHS': 30,\n",
       "  'BATCH_SIZE': 256,\n",
       "  'SEED': 1,\n",
       "  'log_transform_turn': 1,\n",
       "  'skew_cut': 0,\n",
       "  'vif_cut': 10,\n",
       "  'corr_cut': [0.045, 0.045, 0.05, 0.05],\n",
       "  'drop_rate': 0.3,\n",
       "  'reduct': 'mean',\n",
       "  'T_LEARNING_RATE': [0.03, 0.001, 0.01, 0.03],\n",
       "  'T_Thresh': [0.3, 0.3, 0.3, 0.3],\n",
       "  'S_LEARNING_RATE': [0.03, 0.001, 0.01, 0.03],\n",
       "  'S_Thresh': [0.3, 0.3, 0.3, 0.3],\n",
       "  'alpha': 0.1},\n",
       " 'threshold': [0.25, 0.3, 0.3, 0.35],\n",
       " 'best_scores': [0.5680344529579042,\n",
       "  0.5352564102564102,\n",
       "  0.593927331993648,\n",
       "  0.6161993769470405],\n",
       " 'pred_cnt': '정상값 개수 : 5498, 이상값 개수 : 543'}"
      ]
     },
     "execution_count": 707,
     "metadata": {},
     "output_type": "execute_result"
    }
   ],
   "source": [
    "{'ver': 108,\n",
    " 'scaler': RobustScaler(),\n",
    " 'CFG': {'EPOCHS': 30,\n",
    "  'BATCH_SIZE': 256,\n",
    "  'SEED': 1,\n",
    "  'log_transform_turn': 1,\n",
    "  'skew_cut': 0,\n",
    "  'vif_cut': 10,\n",
    "  'corr_cut': [0.045, 0.045, 0.05, 0.05],\n",
    "  'drop_rate': 0.3,\n",
    "  'reduct': 'mean',\n",
    "  'T_LEARNING_RATE': [0.03, 0.001, 0.01, 0.03],\n",
    "  'T_Thresh': [0.3, 0.3, 0.3, 0.3],\n",
    "  'S_LEARNING_RATE': [0.03, 0.001, 0.01, 0.03],\n",
    "  'S_Thresh': [0.3, 0.3, 0.3, 0.3],\n",
    "  'alpha': 0.1},\n",
    " 'threshold': [0.25, 0.3, 0.3, 0.35],\n",
    " 'best_scores': [0.5680344529579042,\n",
    "  0.5352564102564102,\n",
    "  0.593927331993648,\n",
    "  0.6161993769470405],\n",
    " 'pred_cnt': '정상값 개수 : 5498, 이상값 개수 : 543'}"
   ]
  },
  {
   "cell_type": "code",
   "execution_count": 708,
   "id": "fcc8a475",
   "metadata": {},
   "outputs": [
    {
     "data": {
      "text/plain": [
       "{'ver': 110,\n",
       " 'scaler': RobustScaler(),\n",
       " 'CFG': {'EPOCHS': 30,\n",
       "  'BATCH_SIZE': 256,\n",
       "  'SEED': 1,\n",
       "  'log_transform_turn': 1,\n",
       "  'skew_cut': 0,\n",
       "  'vif_cut': 10,\n",
       "  'corr_cut': [0.05, 0.05, 0.05, 0.05],\n",
       "  'drop_rate': 0.3,\n",
       "  'reduct': 'mean',\n",
       "  'T_LEARNING_RATE': [0.03, 0.001, 0.01, 0.03],\n",
       "  'T_Thresh': [0.3, 0.3, 0.3, 0.3],\n",
       "  'S_LEARNING_RATE': [0.03, 0.001, 0.01, 0.03],\n",
       "  'S_Thresh': [0.3, 0.3, 0.3, 0.3],\n",
       "  'alpha': 0.1},\n",
       " 'threshold': [0.25, 0.3, 0.25, 0.2],\n",
       " 'best_scores': [0.5562327862974854,\n",
       "  0.5501811316903923,\n",
       "  0.5894364110003587,\n",
       "  0.6332225913621263],\n",
       " 'pred_cnt': '정상값 개수 : 5397, 이상값 개수 : 644'}"
      ]
     },
     "execution_count": 708,
     "metadata": {},
     "output_type": "execute_result"
    }
   ],
   "source": [
    "{'ver': 110,\n",
    " 'scaler': RobustScaler(),\n",
    " 'CFG': {'EPOCHS': 30,\n",
    "  'BATCH_SIZE': 256,\n",
    "  'SEED': 1,\n",
    "  'log_transform_turn': 1,\n",
    "  'skew_cut': 0,\n",
    "  'vif_cut': 10,\n",
    "  'corr_cut': [0.05, 0.05, 0.05, 0.05],\n",
    "  'drop_rate': 0.3,\n",
    "  'reduct': 'mean',\n",
    "  'T_LEARNING_RATE': [0.03, 0.001, 0.01, 0.03],\n",
    "  'T_Thresh': [0.3, 0.3, 0.3, 0.3],\n",
    "  'S_LEARNING_RATE': [0.03, 0.001, 0.01, 0.03],\n",
    "  'S_Thresh': [0.3, 0.3, 0.3, 0.3],\n",
    "  'alpha': 0.1},\n",
    " 'threshold': [0.25, 0.3, 0.25, 0.2],\n",
    " 'best_scores': [0.5562327862974854,\n",
    "  0.5501811316903923,\n",
    "  0.5894364110003587,\n",
    "  0.6332225913621263],\n",
    " 'pred_cnt': '정상값 개수 : 5397, 이상값 개수 : 644'}"
   ]
  },
  {
   "cell_type": "code",
   "execution_count": 709,
   "id": "d4519713",
   "metadata": {},
   "outputs": [
    {
     "data": {
      "text/plain": [
       "{'ver': 111,\n",
       " 'scaler': RobustScaler(),\n",
       " 'CFG': {'EPOCHS': 30,\n",
       "  'BATCH_SIZE': 256,\n",
       "  'SEED': 1,\n",
       "  'log_transform_turn': 1,\n",
       "  'skew_cut': 0,\n",
       "  'vif_cut': 10,\n",
       "  'corr_cut': [0.045, 0.045, 0.045, 0.045],\n",
       "  'drop_rate': 0.3,\n",
       "  'reduct': 'mean',\n",
       "  'T_LEARNING_RATE': [0.03, 0.001, 0.01, 0.03],\n",
       "  'T_Thresh': [0.3, 0.3, 0.3, 0.3],\n",
       "  'S_LEARNING_RATE': [0.03, 0.001, 0.01, 0.03],\n",
       "  'S_Thresh': [0.3, 0.3, 0.3, 0.3],\n",
       "  'alpha': 0.1},\n",
       " 'threshold': [0.3, 0.3, 0.25, 0.2],\n",
       " 'best_scores': [0.5923514000884624,\n",
       "  0.5531923801549089,\n",
       "  0.5930189629132405,\n",
       "  0.5899846334628943],\n",
       " 'pred_cnt': '정상값 개수 : 5546, 이상값 개수 : 495'}"
      ]
     },
     "execution_count": 709,
     "metadata": {},
     "output_type": "execute_result"
    }
   ],
   "source": [
    "{'ver': 111,\n",
    " 'scaler': RobustScaler(),\n",
    " 'CFG': {'EPOCHS': 30,\n",
    "  'BATCH_SIZE': 256,\n",
    "  'SEED': 1,\n",
    "  'log_transform_turn': 1,\n",
    "  'skew_cut': 0,\n",
    "  'vif_cut': 10,\n",
    "  'corr_cut': [0.045, 0.045, 0.045, 0.045],\n",
    "  'drop_rate': 0.3,\n",
    "  'reduct': 'mean',\n",
    "  'T_LEARNING_RATE': [0.03, 0.001, 0.01, 0.03],\n",
    "  'T_Thresh': [0.3, 0.3, 0.3, 0.3],\n",
    "  'S_LEARNING_RATE': [0.03, 0.001, 0.01, 0.03],\n",
    "  'S_Thresh': [0.3, 0.3, 0.3, 0.3],\n",
    "  'alpha': 0.1},\n",
    " 'threshold': [0.3, 0.3, 0.25, 0.2],\n",
    " 'best_scores': [0.5923514000884624,\n",
    "  0.5531923801549089,\n",
    "  0.5930189629132405,\n",
    "  0.5899846334628943],\n",
    " 'pred_cnt': '정상값 개수 : 5546, 이상값 개수 : 495'}"
   ]
  },
  {
   "cell_type": "code",
   "execution_count": 710,
   "id": "e21b0a4d",
   "metadata": {},
   "outputs": [
    {
     "data": {
      "text/plain": [
       "{'ver': 112,\n",
       " 'scaler': RobustScaler(),\n",
       " 'CFG': {'EPOCHS': 30,\n",
       "  'BATCH_SIZE': 256,\n",
       "  'SEED': 1,\n",
       "  'log_transform_turn': 1,\n",
       "  'skew_cut': 0,\n",
       "  'vif_cut': 10,\n",
       "  'corr_cut': [0.045, 0.045, 0.045, 0.05],\n",
       "  'drop_rate': 0.3,\n",
       "  'reduct': 'mean',\n",
       "  'T_LEARNING_RATE': [0.03, 0.001, 0.01, 0.03],\n",
       "  'T_Thresh': [0.3, 0.3, 0.3, 0.3],\n",
       "  'S_LEARNING_RATE': [0.03, 0.001, 0.01, 0.03],\n",
       "  'S_Thresh': [0.3, 0.3, 0.3, 0.3],\n",
       "  'alpha': 0.1},\n",
       " 'threshold': [0.3, 0.35, 0.25, 0.25],\n",
       " 'best_scores': [0.5631122480813626,\n",
       "  0.5430715123094959,\n",
       "  0.6025049465614023,\n",
       "  0.6493506493506493],\n",
       " 'pred_cnt': '정상값 개수 : 5564, 이상값 개수 : 477'}"
      ]
     },
     "execution_count": 710,
     "metadata": {},
     "output_type": "execute_result"
    }
   ],
   "source": [
    "{'ver': 112,\n",
    " 'scaler': RobustScaler(),\n",
    " 'CFG': {'EPOCHS': 30,\n",
    "  'BATCH_SIZE': 256,\n",
    "  'SEED': 1,\n",
    "  'log_transform_turn': 1,\n",
    "  'skew_cut': 0,\n",
    "  'vif_cut': 10,\n",
    "  'corr_cut': [0.045, 0.045, 0.045, 0.05],\n",
    "  'drop_rate': 0.3,\n",
    "  'reduct': 'mean',\n",
    "  'T_LEARNING_RATE': [0.03, 0.001, 0.01, 0.03],\n",
    "  'T_Thresh': [0.3, 0.3, 0.3, 0.3],\n",
    "  'S_LEARNING_RATE': [0.03, 0.001, 0.01, 0.03],\n",
    "  'S_Thresh': [0.3, 0.3, 0.3, 0.3],\n",
    "  'alpha': 0.1},\n",
    " 'threshold': [0.3, 0.35, 0.25, 0.25],\n",
    " 'best_scores': [0.5631122480813626,\n",
    "  0.5430715123094959,\n",
    "  0.6025049465614023,\n",
    "  0.6493506493506493],\n",
    " 'pred_cnt': '정상값 개수 : 5564, 이상값 개수 : 477'}"
   ]
  },
  {
   "cell_type": "code",
   "execution_count": 711,
   "id": "c2f0e957",
   "metadata": {},
   "outputs": [
    {
     "data": {
      "text/plain": [
       "{'ver': 120,\n",
       " 'scaler': StandardScaler(),\n",
       " 'CFG': {'EPOCHS': 30,\n",
       "  'BATCH_SIZE': 256,\n",
       "  'SEED': 1,\n",
       "  'log_transform_turn': 1,\n",
       "  'skew_cut': 0,\n",
       "  'vif_cut': 10,\n",
       "  'corr_cut': [0.045, 0.045, 0.05, 0.05],\n",
       "  'drop_rate': 0.3,\n",
       "  'reduct': 'mean',\n",
       "  'T_LEARNING_RATE': [0.03, 0.001, 0.01, 0.03],\n",
       "  'T_Thresh': [0.3, 0.3, 0.3, 0.3],\n",
       "  'S_LEARNING_RATE': [0.03, 0.001, 0.01, 0.03],\n",
       "  'S_Thresh': [0.3, 0.3, 0.3, 0.3],\n",
       "  'alpha': 0.1},\n",
       " 'threshold': [0.3, 0.25, 0.35, 0.25],\n",
       " 'best_scores': [0.5767048465620429,\n",
       "  0.545202724010671,\n",
       "  0.5767304441249427,\n",
       "  0.6493506493506493],\n",
       " 'pred_cnt': '정상값 개수 : 5326, 이상값 개수 : 715'}"
      ]
     },
     "execution_count": 711,
     "metadata": {},
     "output_type": "execute_result"
    }
   ],
   "source": [
    "{'ver': 120,\n",
    " 'scaler': StandardScaler(),\n",
    " 'CFG': {'EPOCHS': 30,\n",
    "  'BATCH_SIZE': 256,\n",
    "  'SEED': 1,\n",
    "  'log_transform_turn': 1,\n",
    "  'skew_cut': 0,\n",
    "  'vif_cut': 10,\n",
    "  'corr_cut': [0.045, 0.045, 0.05, 0.05],\n",
    "  'drop_rate': 0.3,\n",
    "  'reduct': 'mean',\n",
    "  'T_LEARNING_RATE': [0.03, 0.001, 0.01, 0.03],\n",
    "  'T_Thresh': [0.3, 0.3, 0.3, 0.3],\n",
    "  'S_LEARNING_RATE': [0.03, 0.001, 0.01, 0.03],\n",
    "  'S_Thresh': [0.3, 0.3, 0.3, 0.3],\n",
    "  'alpha': 0.1},\n",
    " 'threshold': [0.3, 0.25, 0.35, 0.25],\n",
    " 'best_scores': [0.5767048465620429,\n",
    "  0.545202724010671,\n",
    "  0.5767304441249427,\n",
    "  0.6493506493506493],\n",
    " 'pred_cnt': '정상값 개수 : 5326, 이상값 개수 : 715'}"
   ]
  },
  {
   "cell_type": "code",
   "execution_count": 712,
   "id": "13e6fd89",
   "metadata": {},
   "outputs": [
    {
     "data": {
      "text/plain": [
       "{'ver': 121,\n",
       " 'scaler': StandardScaler(),\n",
       " 'CFG': {'EPOCHS': 30,\n",
       "  'BATCH_SIZE': 256,\n",
       "  'SEED': 1,\n",
       "  'log_transform_turn': 1,\n",
       "  'skew_cut': 0,\n",
       "  'vif_cut': 10,\n",
       "  'corr_cut': [0.045, 0.045, 0.045, 0.045],\n",
       "  'drop_rate': 0.3,\n",
       "  'reduct': 'mean',\n",
       "  'T_LEARNING_RATE': [0.03, 0.001, 0.01, 0.03],\n",
       "  'T_Thresh': [0.3, 0.3, 0.3, 0.3],\n",
       "  'S_LEARNING_RATE': [0.03, 0.001, 0.01, 0.03],\n",
       "  'S_Thresh': [0.3, 0.3, 0.3, 0.3],\n",
       "  'alpha': 0.1},\n",
       " 'threshold': [0.25, 0.3, 0.25, 0.2],\n",
       " 'best_scores': [0.5649130074565037,\n",
       "  0.5285141278188786,\n",
       "  0.5914518531321008,\n",
       "  0.5644444444444445],\n",
       " 'pred_cnt': '정상값 개수 : 5461, 이상값 개수 : 580'}"
      ]
     },
     "execution_count": 712,
     "metadata": {},
     "output_type": "execute_result"
    }
   ],
   "source": [
    "{'ver': 121,\n",
    " 'scaler': StandardScaler(),\n",
    " 'CFG': {'EPOCHS': 30,\n",
    "  'BATCH_SIZE': 256,\n",
    "  'SEED': 1,\n",
    "  'log_transform_turn': 1,\n",
    "  'skew_cut': 0,\n",
    "  'vif_cut': 10,\n",
    "  'corr_cut': [0.045, 0.045, 0.045, 0.045],\n",
    "  'drop_rate': 0.3,\n",
    "  'reduct': 'mean',\n",
    "  'T_LEARNING_RATE': [0.03, 0.001, 0.01, 0.03],\n",
    "  'T_Thresh': [0.3, 0.3, 0.3, 0.3],\n",
    "  'S_LEARNING_RATE': [0.03, 0.001, 0.01, 0.03],\n",
    "  'S_Thresh': [0.3, 0.3, 0.3, 0.3],\n",
    "  'alpha': 0.1},\n",
    " 'threshold': [0.25, 0.3, 0.25, 0.2],\n",
    " 'best_scores': [0.5649130074565037,\n",
    "  0.5285141278188786,\n",
    "  0.5914518531321008,\n",
    "  0.5644444444444445],\n",
    " 'pred_cnt': '정상값 개수 : 5461, 이상값 개수 : 580'}"
   ]
  },
  {
   "cell_type": "code",
   "execution_count": 713,
   "id": "c1f28113",
   "metadata": {},
   "outputs": [
    {
     "data": {
      "text/plain": [
       "{'ver': 122,\n",
       " 'scaler': StandardScaler(),\n",
       " 'CFG': {'EPOCHS': 30,\n",
       "  'BATCH_SIZE': 256,\n",
       "  'SEED': 1,\n",
       "  'log_transform_turn': 1,\n",
       "  'skew_cut': 0,\n",
       "  'vif_cut': 10,\n",
       "  'corr_cut': [0.045, 0.045, 0.045, 0.05],\n",
       "  'drop_rate': 0.3,\n",
       "  'reduct': 'mean',\n",
       "  'T_LEARNING_RATE': [0.03, 0.001, 0.01, 0.03],\n",
       "  'T_Thresh': [0.3, 0.3, 0.3, 0.3],\n",
       "  'S_LEARNING_RATE': [0.03, 0.001, 0.01, 0.03],\n",
       "  'S_Thresh': [0.3, 0.3, 0.3, 0.3],\n",
       "  'alpha': 0.1},\n",
       " 'threshold': [0.25, 0.3, 0.3, 0.25],\n",
       " 'best_scores': [0.5675936046834763,\n",
       "  0.5447813152731186,\n",
       "  0.5923145082311244,\n",
       "  0.5771305285868393],\n",
       " 'pred_cnt': '정상값 개수 : 5628, 이상값 개수 : 413'}"
      ]
     },
     "execution_count": 713,
     "metadata": {},
     "output_type": "execute_result"
    }
   ],
   "source": [
    "{'ver': 122,\n",
    " 'scaler': StandardScaler(),\n",
    " 'CFG': {'EPOCHS': 30,\n",
    "  'BATCH_SIZE': 256,\n",
    "  'SEED': 1,\n",
    "  'log_transform_turn': 1,\n",
    "  'skew_cut': 0,\n",
    "  'vif_cut': 10,\n",
    "  'corr_cut': [0.045, 0.045, 0.045, 0.05],\n",
    "  'drop_rate': 0.3,\n",
    "  'reduct': 'mean',\n",
    "  'T_LEARNING_RATE': [0.03, 0.001, 0.01, 0.03],\n",
    "  'T_Thresh': [0.3, 0.3, 0.3, 0.3],\n",
    "  'S_LEARNING_RATE': [0.03, 0.001, 0.01, 0.03],\n",
    "  'S_Thresh': [0.3, 0.3, 0.3, 0.3],\n",
    "  'alpha': 0.1},\n",
    " 'threshold': [0.25, 0.3, 0.3, 0.25],\n",
    " 'best_scores': [0.5675936046834763,\n",
    "  0.5447813152731186,\n",
    "  0.5923145082311244,\n",
    "  0.5771305285868393],\n",
    " 'pred_cnt': '정상값 개수 : 5628, 이상값 개수 : 413'}"
   ]
  },
  {
   "cell_type": "code",
   "execution_count": null,
   "id": "493de0a0",
   "metadata": {},
   "outputs": [],
   "source": []
  }
 ],
 "metadata": {
  "kernelspec": {
   "display_name": "Python 3 (ipykernel)",
   "language": "python",
   "name": "python3"
  },
  "language_info": {
   "codemirror_mode": {
    "name": "ipython",
    "version": 3
   },
   "file_extension": ".py",
   "mimetype": "text/x-python",
   "name": "python",
   "nbconvert_exporter": "python",
   "pygments_lexer": "ipython3",
   "version": "3.8.10"
  }
 },
 "nbformat": 4,
 "nbformat_minor": 5
}
