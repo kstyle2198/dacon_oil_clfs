{
 "cells": [
  {
   "cell_type": "markdown",
   "id": "b4f1c89d",
   "metadata": {},
   "source": []
  },
  {
   "cell_type": "code",
   "execution_count": 1151,
   "id": "fb4705c9",
   "metadata": {},
   "outputs": [],
   "source": [
    "import torch\n",
    "import torch.nn as nn\n",
    "import torch.nn.functional as F\n",
    "import torch.optim as optim\n",
    "from torch.utils.data import DataLoader, Dataset\n",
    "\n",
    "from sklearn.metrics import f1_score\n",
    "from sklearn.compose import ColumnTransformer\n",
    "from sklearn.preprocessing import StandardScaler, MinMaxScaler, RobustScaler\n",
    "from sklearn.preprocessing import LabelEncoder, OneHotEncoder\n",
    "from sklearn.model_selection import train_test_split\n",
    "from sklearn.model_selection import KFold, StratifiedKFold\n",
    "\n",
    "import os\n",
    "import pandas as pd\n",
    "import numpy as np\n",
    "from tqdm.auto import tqdm\n",
    "import random\n",
    "import matplotlib.pyplot as plt\n",
    "import seaborn as sns\n",
    "\n",
    "import warnings\n",
    "warnings.filterwarnings(action='ignore') \n",
    "\n",
    "device = torch.device('cuda') if torch.cuda.is_available() else torch.device('cpu')"
   ]
  },
  {
   "cell_type": "code",
   "execution_count": 1152,
   "id": "960b8a45",
   "metadata": {},
   "outputs": [],
   "source": [
    "file_version = 20"
   ]
  },
  {
   "cell_type": "code",
   "execution_count": 1153,
   "id": "1119d55f",
   "metadata": {},
   "outputs": [],
   "source": [
    "CFG = {\n",
    "    'EPOCHS': 30,\n",
    "    'LEARNING_RATE':3e-2,    # 0.01\n",
    "    'BATCH_SIZE':256,\n",
    "    'SEED':43,\n",
    "    'log_turn': 1,\n",
    "    'CUT': 0.006,     # drop column correlation cut line\n",
    "    'T_Thresh': 0.325,     # Teacher model train Threshhold 최초 0.35\n",
    "    'S_Thresh': 0.325,     # Student model train Threshold 최초 0.35\n",
    "    'reduct' : 'mean',      # sum, mean\n",
    "    'drop_rate': 0.2,\n",
    "    'skew_cut':1\n",
    "    \n",
    "}"
   ]
  },
  {
   "cell_type": "code",
   "execution_count": 1154,
   "id": "62be04f6",
   "metadata": {},
   "outputs": [],
   "source": [
    "def seed_everything(seed):\n",
    "    random.seed(seed)\n",
    "    os.environ['PYTHONHASHSEED'] = str(seed)\n",
    "    np.random.seed(seed)\n",
    "    torch.manual_seed(seed)\n",
    "    torch.cuda.manual_seed(seed)\n",
    "    torch.backends.cudnn.deterministic = True\n",
    "    torch.backends.cudnn.benchmark = True\n",
    "\n",
    "seed_everything(CFG['SEED'])"
   ]
  },
  {
   "cell_type": "code",
   "execution_count": 1155,
   "id": "2f8f5798",
   "metadata": {
    "scrolled": true
   },
   "outputs": [],
   "source": [
    "train = pd.read_csv(\"./data/train.csv\")\n",
    "test = pd.read_csv(\"./data/test.csv\")"
   ]
  },
  {
   "cell_type": "markdown",
   "id": "f364f89c",
   "metadata": {},
   "source": [
    "## 결측치 처리"
   ]
  },
  {
   "cell_type": "code",
   "execution_count": 1156,
   "id": "0e848820",
   "metadata": {
    "scrolled": false
   },
   "outputs": [
    {
     "data": {
      "text/plain": [
       "<AxesSubplot:>"
      ]
     },
     "execution_count": 1156,
     "metadata": {},
     "output_type": "execute_result"
    },
    {
     "data": {
      "image/png": "[encoded data removed]",
      "text/plain": [
       "<Figure size 1152x432 with 2 Axes>"
      ]
     },
     "metadata": {
      "needs_background": "light"
     },
     "output_type": "display_data"
    }
   ],
   "source": [
    "import missingno as msno\n",
    "msno.matrix(train, figsize=(16,6))"
   ]
  },
  {
   "cell_type": "code",
   "execution_count": 1157,
   "id": "2dd2d4ad",
   "metadata": {},
   "outputs": [
    {
     "data": {
      "text/html": [
       "<div>\n",
       "<style scoped>\n",
       "    .dataframe tbody tr th:only-of-type {\n",
       "        vertical-align: middle;\n",
       "    }\n",
       "\n",
       "    .dataframe tbody tr th {\n",
       "        vertical-align: top;\n",
       "    }\n",
       "\n",
       "    .dataframe thead th {\n",
       "        text-align: right;\n",
       "    }\n",
       "</style>\n",
       "<table border=\"1\" class=\"dataframe\">\n",
       "  <thead>\n",
       "    <tr style=\"text-align: right;\">\n",
       "      <th></th>\n",
       "      <th>ID</th>\n",
       "      <th>COMPONENT_ARBITRARY</th>\n",
       "      <th>ANONYMOUS_1</th>\n",
       "      <th>YEAR</th>\n",
       "      <th>SAMPLE_TRANSFER_DAY</th>\n",
       "      <th>ANONYMOUS_2</th>\n",
       "      <th>AG</th>\n",
       "      <th>AL</th>\n",
       "      <th>B</th>\n",
       "      <th>BA</th>\n",
       "      <th>...</th>\n",
       "      <th>U25</th>\n",
       "      <th>U20</th>\n",
       "      <th>U14</th>\n",
       "      <th>U6</th>\n",
       "      <th>U4</th>\n",
       "      <th>V</th>\n",
       "      <th>V100</th>\n",
       "      <th>V40</th>\n",
       "      <th>ZN</th>\n",
       "      <th>Y_LABEL</th>\n",
       "    </tr>\n",
       "  </thead>\n",
       "  <tbody>\n",
       "    <tr>\n",
       "      <th>count</th>\n",
       "      <td>14095</td>\n",
       "      <td>14095</td>\n",
       "      <td>14095.000000</td>\n",
       "      <td>14095.000000</td>\n",
       "      <td>14095.000000</td>\n",
       "      <td>14095.000000</td>\n",
       "      <td>14095.000000</td>\n",
       "      <td>14095.000000</td>\n",
       "      <td>14095.000000</td>\n",
       "      <td>14095.000000</td>\n",
       "      <td>...</td>\n",
       "      <td>2316.000000</td>\n",
       "      <td>2316.000000</td>\n",
       "      <td>2118.000000</td>\n",
       "      <td>2118.000000</td>\n",
       "      <td>2118.000000</td>\n",
       "      <td>14095.000000</td>\n",
       "      <td>3724.000000</td>\n",
       "      <td>14095.000000</td>\n",
       "      <td>14095.000000</td>\n",
       "      <td>14095.000000</td>\n",
       "    </tr>\n",
       "    <tr>\n",
       "      <th>unique</th>\n",
       "      <td>14095</td>\n",
       "      <td>4</td>\n",
       "      <td>NaN</td>\n",
       "      <td>NaN</td>\n",
       "      <td>NaN</td>\n",
       "      <td>NaN</td>\n",
       "      <td>NaN</td>\n",
       "      <td>NaN</td>\n",
       "      <td>NaN</td>\n",
       "      <td>NaN</td>\n",
       "      <td>...</td>\n",
       "      <td>NaN</td>\n",
       "      <td>NaN</td>\n",
       "      <td>NaN</td>\n",
       "      <td>NaN</td>\n",
       "      <td>NaN</td>\n",
       "      <td>NaN</td>\n",
       "      <td>NaN</td>\n",
       "      <td>NaN</td>\n",
       "      <td>NaN</td>\n",
       "      <td>NaN</td>\n",
       "    </tr>\n",
       "    <tr>\n",
       "      <th>top</th>\n",
       "      <td>TRAIN_00000</td>\n",
       "      <td>COMPONENT3</td>\n",
       "      <td>NaN</td>\n",
       "      <td>NaN</td>\n",
       "      <td>NaN</td>\n",
       "      <td>NaN</td>\n",
       "      <td>NaN</td>\n",
       "      <td>NaN</td>\n",
       "      <td>NaN</td>\n",
       "      <td>NaN</td>\n",
       "      <td>...</td>\n",
       "      <td>NaN</td>\n",
       "      <td>NaN</td>\n",
       "      <td>NaN</td>\n",
       "      <td>NaN</td>\n",
       "      <td>NaN</td>\n",
       "      <td>NaN</td>\n",
       "      <td>NaN</td>\n",
       "      <td>NaN</td>\n",
       "      <td>NaN</td>\n",
       "      <td>NaN</td>\n",
       "    </tr>\n",
       "    <tr>\n",
       "      <th>freq</th>\n",
       "      <td>1</td>\n",
       "      <td>7050</td>\n",
       "      <td>NaN</td>\n",
       "      <td>NaN</td>\n",
       "      <td>NaN</td>\n",
       "      <td>NaN</td>\n",
       "      <td>NaN</td>\n",
       "      <td>NaN</td>\n",
       "      <td>NaN</td>\n",
       "      <td>NaN</td>\n",
       "      <td>...</td>\n",
       "      <td>NaN</td>\n",
       "      <td>NaN</td>\n",
       "      <td>NaN</td>\n",
       "      <td>NaN</td>\n",
       "      <td>NaN</td>\n",
       "      <td>NaN</td>\n",
       "      <td>NaN</td>\n",
       "      <td>NaN</td>\n",
       "      <td>NaN</td>\n",
       "      <td>NaN</td>\n",
       "    </tr>\n",
       "    <tr>\n",
       "      <th>mean</th>\n",
       "      <td>NaN</td>\n",
       "      <td>NaN</td>\n",
       "      <td>3146.082937</td>\n",
       "      <td>2013.652501</td>\n",
       "      <td>7.600568</td>\n",
       "      <td>387.416885</td>\n",
       "      <td>0.025825</td>\n",
       "      <td>12.707698</td>\n",
       "      <td>64.026179</td>\n",
       "      <td>0.692799</td>\n",
       "      <td>...</td>\n",
       "      <td>29.870898</td>\n",
       "      <td>56.063472</td>\n",
       "      <td>239.938149</td>\n",
       "      <td>5488.693107</td>\n",
       "      <td>19415.597262</td>\n",
       "      <td>0.050656</td>\n",
       "      <td>13.576230</td>\n",
       "      <td>109.355815</td>\n",
       "      <td>588.646825</td>\n",
       "      <td>0.085349</td>\n",
       "    </tr>\n",
       "    <tr>\n",
       "      <th>std</th>\n",
       "      <td>NaN</td>\n",
       "      <td>NaN</td>\n",
       "      <td>4216.089809</td>\n",
       "      <td>3.964758</td>\n",
       "      <td>11.681628</td>\n",
       "      <td>550.016073</td>\n",
       "      <td>0.171926</td>\n",
       "      <td>86.968000</td>\n",
       "      <td>102.876871</td>\n",
       "      <td>2.905491</td>\n",
       "      <td>...</td>\n",
       "      <td>97.459625</td>\n",
       "      <td>184.332678</td>\n",
       "      <td>685.053457</td>\n",
       "      <td>15474.146283</td>\n",
       "      <td>40145.311444</td>\n",
       "      <td>0.475438</td>\n",
       "      <td>1.073718</td>\n",
       "      <td>49.612379</td>\n",
       "      <td>531.743393</td>\n",
       "      <td>0.279411</td>\n",
       "    </tr>\n",
       "    <tr>\n",
       "      <th>min</th>\n",
       "      <td>NaN</td>\n",
       "      <td>NaN</td>\n",
       "      <td>1000.000000</td>\n",
       "      <td>2007.000000</td>\n",
       "      <td>0.000000</td>\n",
       "      <td>200.000000</td>\n",
       "      <td>0.000000</td>\n",
       "      <td>0.000000</td>\n",
       "      <td>0.000000</td>\n",
       "      <td>0.000000</td>\n",
       "      <td>...</td>\n",
       "      <td>0.000000</td>\n",
       "      <td>0.000000</td>\n",
       "      <td>0.000000</td>\n",
       "      <td>15.000000</td>\n",
       "      <td>154.000000</td>\n",
       "      <td>0.000000</td>\n",
       "      <td>5.200000</td>\n",
       "      <td>2.900000</td>\n",
       "      <td>0.000000</td>\n",
       "      <td>0.000000</td>\n",
       "    </tr>\n",
       "    <tr>\n",
       "      <th>25%</th>\n",
       "      <td>NaN</td>\n",
       "      <td>NaN</td>\n",
       "      <td>1655.000000</td>\n",
       "      <td>2010.000000</td>\n",
       "      <td>3.000000</td>\n",
       "      <td>200.000000</td>\n",
       "      <td>0.000000</td>\n",
       "      <td>1.000000</td>\n",
       "      <td>3.000000</td>\n",
       "      <td>0.000000</td>\n",
       "      <td>...</td>\n",
       "      <td>3.000000</td>\n",
       "      <td>5.000000</td>\n",
       "      <td>22.000000</td>\n",
       "      <td>636.750000</td>\n",
       "      <td>5409.250000</td>\n",
       "      <td>0.000000</td>\n",
       "      <td>12.900000</td>\n",
       "      <td>71.800000</td>\n",
       "      <td>37.000000</td>\n",
       "      <td>0.000000</td>\n",
       "    </tr>\n",
       "    <tr>\n",
       "      <th>50%</th>\n",
       "      <td>NaN</td>\n",
       "      <td>NaN</td>\n",
       "      <td>2227.000000</td>\n",
       "      <td>2014.000000</td>\n",
       "      <td>5.000000</td>\n",
       "      <td>200.000000</td>\n",
       "      <td>0.000000</td>\n",
       "      <td>2.000000</td>\n",
       "      <td>11.000000</td>\n",
       "      <td>0.000000</td>\n",
       "      <td>...</td>\n",
       "      <td>7.000000</td>\n",
       "      <td>13.000000</td>\n",
       "      <td>57.000000</td>\n",
       "      <td>1753.000000</td>\n",
       "      <td>12691.500000</td>\n",
       "      <td>0.000000</td>\n",
       "      <td>13.500000</td>\n",
       "      <td>111.300000</td>\n",
       "      <td>520.000000</td>\n",
       "      <td>0.000000</td>\n",
       "    </tr>\n",
       "    <tr>\n",
       "      <th>75%</th>\n",
       "      <td>NaN</td>\n",
       "      <td>NaN</td>\n",
       "      <td>3797.000000</td>\n",
       "      <td>2017.000000</td>\n",
       "      <td>8.000000</td>\n",
       "      <td>410.000000</td>\n",
       "      <td>0.000000</td>\n",
       "      <td>4.000000</td>\n",
       "      <td>110.000000</td>\n",
       "      <td>0.000000</td>\n",
       "      <td>...</td>\n",
       "      <td>23.000000</td>\n",
       "      <td>39.250000</td>\n",
       "      <td>189.000000</td>\n",
       "      <td>5517.750000</td>\n",
       "      <td>24535.750000</td>\n",
       "      <td>0.000000</td>\n",
       "      <td>14.200000</td>\n",
       "      <td>137.200000</td>\n",
       "      <td>1119.000000</td>\n",
       "      <td>0.000000</td>\n",
       "    </tr>\n",
       "    <tr>\n",
       "      <th>max</th>\n",
       "      <td>NaN</td>\n",
       "      <td>NaN</td>\n",
       "      <td>294451.000000</td>\n",
       "      <td>2022.000000</td>\n",
       "      <td>368.000000</td>\n",
       "      <td>9650.000000</td>\n",
       "      <td>3.000000</td>\n",
       "      <td>4630.000000</td>\n",
       "      <td>2051.000000</td>\n",
       "      <td>216.000000</td>\n",
       "      <td>...</td>\n",
       "      <td>1651.000000</td>\n",
       "      <td>2932.000000</td>\n",
       "      <td>11296.000000</td>\n",
       "      <td>412627.000000</td>\n",
       "      <td>844421.000000</td>\n",
       "      <td>17.000000</td>\n",
       "      <td>29.900000</td>\n",
       "      <td>2840.500000</td>\n",
       "      <td>2132.000000</td>\n",
       "      <td>1.000000</td>\n",
       "    </tr>\n",
       "  </tbody>\n",
       "</table>\n",
       "<p>11 rows × 54 columns</p>\n",
       "</div>"
      ],
      "text/plain": [
       "                 ID COMPONENT_ARBITRARY    ANONYMOUS_1          YEAR  \\\n",
       "count         14095               14095   14095.000000  14095.000000   \n",
       "unique        14095                   4            NaN           NaN   \n",
       "top     TRAIN_00000          COMPONENT3            NaN           NaN   \n",
       "freq              1                7050            NaN           NaN   \n",
       "mean            NaN                 NaN    3146.082937   2013.652501   \n",
       "std             NaN                 NaN    4216.089809      3.964758   \n",
       "min             NaN                 NaN    1000.000000   2007.000000   \n",
       "25%             NaN                 NaN    1655.000000   2010.000000   \n",
       "50%             NaN                 NaN    2227.000000   2014.000000   \n",
       "75%             NaN                 NaN    3797.000000   2017.000000   \n",
       "max             NaN                 NaN  294451.000000   2022.000000   \n",
       "\n",
       "        SAMPLE_TRANSFER_DAY   ANONYMOUS_2            AG            AL  \\\n",
       "count          14095.000000  14095.000000  14095.000000  14095.000000   \n",
       "unique                  NaN           NaN           NaN           NaN   \n",
       "top                     NaN           NaN           NaN           NaN   \n",
       "freq                    NaN           NaN           NaN           NaN   \n",
       "mean               7.600568    387.416885      0.025825     12.707698   \n",
       "std               11.681628    550.016073      0.171926     86.968000   \n",
       "min                0.000000    200.000000      0.000000      0.000000   \n",
       "25%                3.000000    200.000000      0.000000      1.000000   \n",
       "50%                5.000000    200.000000      0.000000      2.000000   \n",
       "75%                8.000000    410.000000      0.000000      4.000000   \n",
       "max              368.000000   9650.000000      3.000000   4630.000000   \n",
       "\n",
       "                   B            BA  ...          U25          U20  \\\n",
       "count   14095.000000  14095.000000  ...  2316.000000  2316.000000   \n",
       "unique           NaN           NaN  ...          NaN          NaN   \n",
       "top              NaN           NaN  ...          NaN          NaN   \n",
       "freq             NaN           NaN  ...          NaN          NaN   \n",
       "mean       64.026179      0.692799  ...    29.870898    56.063472   \n",
       "std       102.876871      2.905491  ...    97.459625   184.332678   \n",
       "min         0.000000      0.000000  ...     0.000000     0.000000   \n",
       "25%         3.000000      0.000000  ...     3.000000     5.000000   \n",
       "50%        11.000000      0.000000  ...     7.000000    13.000000   \n",
       "75%       110.000000      0.000000  ...    23.000000    39.250000   \n",
       "max      2051.000000    216.000000  ...  1651.000000  2932.000000   \n",
       "\n",
       "                 U14             U6             U4             V         V100  \\\n",
       "count    2118.000000    2118.000000    2118.000000  14095.000000  3724.000000   \n",
       "unique           NaN            NaN            NaN           NaN          NaN   \n",
       "top              NaN            NaN            NaN           NaN          NaN   \n",
       "freq             NaN            NaN            NaN           NaN          NaN   \n",
       "mean      239.938149    5488.693107   19415.597262      0.050656    13.576230   \n",
       "std       685.053457   15474.146283   40145.311444      0.475438     1.073718   \n",
       "min         0.000000      15.000000     154.000000      0.000000     5.200000   \n",
       "25%        22.000000     636.750000    5409.250000      0.000000    12.900000   \n",
       "50%        57.000000    1753.000000   12691.500000      0.000000    13.500000   \n",
       "75%       189.000000    5517.750000   24535.750000      0.000000    14.200000   \n",
       "max     11296.000000  412627.000000  844421.000000     17.000000    29.900000   \n",
       "\n",
       "                 V40            ZN       Y_LABEL  \n",
       "count   14095.000000  14095.000000  14095.000000  \n",
       "unique           NaN           NaN           NaN  \n",
       "top              NaN           NaN           NaN  \n",
       "freq             NaN           NaN           NaN  \n",
       "mean      109.355815    588.646825      0.085349  \n",
       "std        49.612379    531.743393      0.279411  \n",
       "min         2.900000      0.000000      0.000000  \n",
       "25%        71.800000     37.000000      0.000000  \n",
       "50%       111.300000    520.000000      0.000000  \n",
       "75%       137.200000   1119.000000      0.000000  \n",
       "max      2840.500000   2132.000000      1.000000  \n",
       "\n",
       "[11 rows x 54 columns]"
      ]
     },
     "execution_count": 1157,
     "metadata": {},
     "output_type": "execute_result"
    }
   ],
   "source": [
    "train.describe(include=\"all\")"
   ]
  },
  {
   "cell_type": "code",
   "execution_count": 1158,
   "id": "58bbb4f1",
   "metadata": {},
   "outputs": [
    {
     "name": "stdout",
     "output_type": "stream",
     "text": [
      "컬럼명: CD, 널값수: 1,394, 평균: 0.02, 중위수: 0.0, 최빈값: 0.0\n",
      "컬럼명: FH2O, 널값수: 10,205, 평균: 15.24, 중위수: 13.0, 최빈값: 14.0\n",
      "컬럼명: FNOX, 널값수: 10,205, 평균: 7.14, 중위수: 7.0, 최빈값: 6.0\n",
      "컬럼명: FOPTIMETHGLY, 널값수: 10,205, 평균: 0.53, 중위수: 0.0, 최빈값: 0.0\n",
      "컬럼명: FOXID, 널값수: 10,205, 평균: 12.5, 중위수: 12.0, 최빈값: 11.0\n",
      "컬럼명: FSO4, 널값수: 10,205, 평균: 20.28, 중위수: 20.0, 최빈값: 20.0\n",
      "컬럼명: FTBN, 널값수: 10,205, 평균: 8.78, 중위수: 8.7, 최빈값: 8.2\n",
      "컬럼명: FUEL, 널값수: 10,205, 평균: 0.19, 중위수: 0.0, 최빈값: 0.0\n",
      "컬럼명: K, 널값수: 2,299, 평균: 3.61, 중위수: 2.0, 최빈값: 0.0\n",
      "컬럼명: SOOTPERCENTAGE, 널값수: 10,205, 평균: 0.61, 중위수: 0.4, 최빈값: 0.2\n",
      "컬럼명: U100, 널값수: 11,779, 평균: 0.17, 중위수: 0.0, 최빈값: 0.0\n",
      "컬럼명: U75, 널값수: 11,779, 평균: 0.42, 중위수: 0.0, 최빈값: 0.0\n",
      "컬럼명: U50, 널값수: 11,779, 평균: 6.19, 중위수: 1.0, 최빈값: 0.0\n",
      "컬럼명: U25, 널값수: 11,779, 평균: 29.87, 중위수: 7.0, 최빈값: 1.0\n",
      "컬럼명: U20, 널값수: 11,779, 평균: 56.06, 중위수: 13.0, 최빈값: 4.0\n",
      "컬럼명: U14, 널값수: 11,977, 평균: 239.94, 중위수: 57.0, 최빈값: 14.0\n",
      "컬럼명: U6, 널값수: 11,977, 평균: 5488.69, 중위수: 1753.0, 최빈값: 300.0\n",
      "컬럼명: U4, 널값수: 11,977, 평균: 19415.6, 중위수: 12691.5, 최빈값: 6789.0\n",
      "컬럼명: V100, 널값수: 10,371, 평균: 13.58, 중위수: 13.5, 최빈값: 13.3\n"
     ]
    }
   ],
   "source": [
    "# 널값 칼럼값을 무엇으로 보간할까?\n",
    "null_columns = []\n",
    "for col in train.columns.tolist():\n",
    "    if train[col].isna().any():\n",
    "        null_columns.append(col)\n",
    "        print(f\"컬럼명: {col}, 널값수: {train[col].isna().sum():,}, 평균: {np.round(train[col].mean(),2)}, 중위수: {train[col].median()}, 최빈값: {train[col].mode().values[0]}\")\n",
    "    else:\n",
    "        pass   \n",
    "# null_columns"
   ]
  },
  {
   "cell_type": "code",
   "execution_count": 1159,
   "id": "1c07bd2f",
   "metadata": {},
   "outputs": [
    {
     "data": {
      "text/html": [
       "<div>\n",
       "<style scoped>\n",
       "    .dataframe tbody tr th:only-of-type {\n",
       "        vertical-align: middle;\n",
       "    }\n",
       "\n",
       "    .dataframe tbody tr th {\n",
       "        vertical-align: top;\n",
       "    }\n",
       "\n",
       "    .dataframe thead th {\n",
       "        text-align: right;\n",
       "    }\n",
       "</style>\n",
       "<table border=\"1\" class=\"dataframe\">\n",
       "  <thead>\n",
       "    <tr style=\"text-align: right;\">\n",
       "      <th></th>\n",
       "      <th>CD</th>\n",
       "      <th>FH2O</th>\n",
       "      <th>FNOX</th>\n",
       "      <th>FOPTIMETHGLY</th>\n",
       "      <th>FOXID</th>\n",
       "      <th>FSO4</th>\n",
       "      <th>FTBN</th>\n",
       "      <th>FUEL</th>\n",
       "      <th>K</th>\n",
       "      <th>SOOTPERCENTAGE</th>\n",
       "      <th>U100</th>\n",
       "      <th>U75</th>\n",
       "      <th>U50</th>\n",
       "      <th>U25</th>\n",
       "      <th>U20</th>\n",
       "      <th>U14</th>\n",
       "      <th>U6</th>\n",
       "      <th>U4</th>\n",
       "      <th>V100</th>\n",
       "    </tr>\n",
       "  </thead>\n",
       "  <tbody>\n",
       "    <tr>\n",
       "      <th>count</th>\n",
       "      <td>12701.000000</td>\n",
       "      <td>3890.000000</td>\n",
       "      <td>3890.000000</td>\n",
       "      <td>3890.000000</td>\n",
       "      <td>3890.000000</td>\n",
       "      <td>3890.000000</td>\n",
       "      <td>3890.000000</td>\n",
       "      <td>3890.000000</td>\n",
       "      <td>11796.000000</td>\n",
       "      <td>3890.000000</td>\n",
       "      <td>2316.000000</td>\n",
       "      <td>2316.000000</td>\n",
       "      <td>2316.000000</td>\n",
       "      <td>2316.000000</td>\n",
       "      <td>2316.000000</td>\n",
       "      <td>2118.000000</td>\n",
       "      <td>2118.000000</td>\n",
       "      <td>2118.000000</td>\n",
       "      <td>3724.000000</td>\n",
       "    </tr>\n",
       "    <tr>\n",
       "      <th>mean</th>\n",
       "      <td>0.015589</td>\n",
       "      <td>15.242159</td>\n",
       "      <td>7.138303</td>\n",
       "      <td>0.532905</td>\n",
       "      <td>12.495373</td>\n",
       "      <td>20.284319</td>\n",
       "      <td>8.783239</td>\n",
       "      <td>0.185347</td>\n",
       "      <td>3.611224</td>\n",
       "      <td>0.609254</td>\n",
       "      <td>0.173575</td>\n",
       "      <td>0.417098</td>\n",
       "      <td>6.185233</td>\n",
       "      <td>29.870898</td>\n",
       "      <td>56.063472</td>\n",
       "      <td>239.938149</td>\n",
       "      <td>5488.693107</td>\n",
       "      <td>19415.597262</td>\n",
       "      <td>13.576230</td>\n",
       "    </tr>\n",
       "    <tr>\n",
       "      <th>std</th>\n",
       "      <td>0.209407</td>\n",
       "      <td>17.591679</td>\n",
       "      <td>1.860775</td>\n",
       "      <td>0.621937</td>\n",
       "      <td>3.439535</td>\n",
       "      <td>3.234296</td>\n",
       "      <td>1.339355</td>\n",
       "      <td>0.899253</td>\n",
       "      <td>15.630404</td>\n",
       "      <td>0.652382</td>\n",
       "      <td>0.878892</td>\n",
       "      <td>1.626333</td>\n",
       "      <td>36.639482</td>\n",
       "      <td>97.459625</td>\n",
       "      <td>184.332678</td>\n",
       "      <td>685.053457</td>\n",
       "      <td>15474.146283</td>\n",
       "      <td>40145.311444</td>\n",
       "      <td>1.073718</td>\n",
       "    </tr>\n",
       "    <tr>\n",
       "      <th>min</th>\n",
       "      <td>0.000000</td>\n",
       "      <td>6.000000</td>\n",
       "      <td>3.000000</td>\n",
       "      <td>0.000000</td>\n",
       "      <td>4.000000</td>\n",
       "      <td>10.000000</td>\n",
       "      <td>0.000000</td>\n",
       "      <td>0.000000</td>\n",
       "      <td>0.000000</td>\n",
       "      <td>0.000000</td>\n",
       "      <td>0.000000</td>\n",
       "      <td>0.000000</td>\n",
       "      <td>0.000000</td>\n",
       "      <td>0.000000</td>\n",
       "      <td>0.000000</td>\n",
       "      <td>0.000000</td>\n",
       "      <td>15.000000</td>\n",
       "      <td>154.000000</td>\n",
       "      <td>5.200000</td>\n",
       "    </tr>\n",
       "    <tr>\n",
       "      <th>25%</th>\n",
       "      <td>0.000000</td>\n",
       "      <td>11.000000</td>\n",
       "      <td>6.000000</td>\n",
       "      <td>0.000000</td>\n",
       "      <td>10.000000</td>\n",
       "      <td>18.000000</td>\n",
       "      <td>8.100000</td>\n",
       "      <td>0.000000</td>\n",
       "      <td>0.000000</td>\n",
       "      <td>0.200000</td>\n",
       "      <td>0.000000</td>\n",
       "      <td>0.000000</td>\n",
       "      <td>0.000000</td>\n",
       "      <td>3.000000</td>\n",
       "      <td>5.000000</td>\n",
       "      <td>22.000000</td>\n",
       "      <td>636.750000</td>\n",
       "      <td>5409.250000</td>\n",
       "      <td>12.900000</td>\n",
       "    </tr>\n",
       "    <tr>\n",
       "      <th>50%</th>\n",
       "      <td>0.000000</td>\n",
       "      <td>13.000000</td>\n",
       "      <td>7.000000</td>\n",
       "      <td>0.000000</td>\n",
       "      <td>12.000000</td>\n",
       "      <td>20.000000</td>\n",
       "      <td>8.700000</td>\n",
       "      <td>0.000000</td>\n",
       "      <td>2.000000</td>\n",
       "      <td>0.400000</td>\n",
       "      <td>0.000000</td>\n",
       "      <td>0.000000</td>\n",
       "      <td>1.000000</td>\n",
       "      <td>7.000000</td>\n",
       "      <td>13.000000</td>\n",
       "      <td>57.000000</td>\n",
       "      <td>1753.000000</td>\n",
       "      <td>12691.500000</td>\n",
       "      <td>13.500000</td>\n",
       "    </tr>\n",
       "    <tr>\n",
       "      <th>75%</th>\n",
       "      <td>0.000000</td>\n",
       "      <td>15.000000</td>\n",
       "      <td>8.000000</td>\n",
       "      <td>1.000000</td>\n",
       "      <td>14.750000</td>\n",
       "      <td>22.000000</td>\n",
       "      <td>9.600000</td>\n",
       "      <td>0.000000</td>\n",
       "      <td>3.000000</td>\n",
       "      <td>0.800000</td>\n",
       "      <td>0.000000</td>\n",
       "      <td>0.000000</td>\n",
       "      <td>3.000000</td>\n",
       "      <td>23.000000</td>\n",
       "      <td>39.250000</td>\n",
       "      <td>189.000000</td>\n",
       "      <td>5517.750000</td>\n",
       "      <td>24535.750000</td>\n",
       "      <td>14.200000</td>\n",
       "    </tr>\n",
       "    <tr>\n",
       "      <th>max</th>\n",
       "      <td>18.000000</td>\n",
       "      <td>320.000000</td>\n",
       "      <td>38.000000</td>\n",
       "      <td>13.000000</td>\n",
       "      <td>68.000000</td>\n",
       "      <td>68.000000</td>\n",
       "      <td>27.700000</td>\n",
       "      <td>12.000000</td>\n",
       "      <td>705.000000</td>\n",
       "      <td>6.500000</td>\n",
       "      <td>18.000000</td>\n",
       "      <td>33.000000</td>\n",
       "      <td>939.000000</td>\n",
       "      <td>1651.000000</td>\n",
       "      <td>2932.000000</td>\n",
       "      <td>11296.000000</td>\n",
       "      <td>412627.000000</td>\n",
       "      <td>844421.000000</td>\n",
       "      <td>29.900000</td>\n",
       "    </tr>\n",
       "  </tbody>\n",
       "</table>\n",
       "</div>"
      ],
      "text/plain": [
       "                 CD         FH2O         FNOX  FOPTIMETHGLY        FOXID  \\\n",
       "count  12701.000000  3890.000000  3890.000000   3890.000000  3890.000000   \n",
       "mean       0.015589    15.242159     7.138303      0.532905    12.495373   \n",
       "std        0.209407    17.591679     1.860775      0.621937     3.439535   \n",
       "min        0.000000     6.000000     3.000000      0.000000     4.000000   \n",
       "25%        0.000000    11.000000     6.000000      0.000000    10.000000   \n",
       "50%        0.000000    13.000000     7.000000      0.000000    12.000000   \n",
       "75%        0.000000    15.000000     8.000000      1.000000    14.750000   \n",
       "max       18.000000   320.000000    38.000000     13.000000    68.000000   \n",
       "\n",
       "              FSO4         FTBN         FUEL             K  SOOTPERCENTAGE  \\\n",
       "count  3890.000000  3890.000000  3890.000000  11796.000000     3890.000000   \n",
       "mean     20.284319     8.783239     0.185347      3.611224        0.609254   \n",
       "std       3.234296     1.339355     0.899253     15.630404        0.652382   \n",
       "min      10.000000     0.000000     0.000000      0.000000        0.000000   \n",
       "25%      18.000000     8.100000     0.000000      0.000000        0.200000   \n",
       "50%      20.000000     8.700000     0.000000      2.000000        0.400000   \n",
       "75%      22.000000     9.600000     0.000000      3.000000        0.800000   \n",
       "max      68.000000    27.700000    12.000000    705.000000        6.500000   \n",
       "\n",
       "              U100          U75          U50          U25          U20  \\\n",
       "count  2316.000000  2316.000000  2316.000000  2316.000000  2316.000000   \n",
       "mean      0.173575     0.417098     6.185233    29.870898    56.063472   \n",
       "std       0.878892     1.626333    36.639482    97.459625   184.332678   \n",
       "min       0.000000     0.000000     0.000000     0.000000     0.000000   \n",
       "25%       0.000000     0.000000     0.000000     3.000000     5.000000   \n",
       "50%       0.000000     0.000000     1.000000     7.000000    13.000000   \n",
       "75%       0.000000     0.000000     3.000000    23.000000    39.250000   \n",
       "max      18.000000    33.000000   939.000000  1651.000000  2932.000000   \n",
       "\n",
       "                U14             U6             U4         V100  \n",
       "count   2118.000000    2118.000000    2118.000000  3724.000000  \n",
       "mean     239.938149    5488.693107   19415.597262    13.576230  \n",
       "std      685.053457   15474.146283   40145.311444     1.073718  \n",
       "min        0.000000      15.000000     154.000000     5.200000  \n",
       "25%       22.000000     636.750000    5409.250000    12.900000  \n",
       "50%       57.000000    1753.000000   12691.500000    13.500000  \n",
       "75%      189.000000    5517.750000   24535.750000    14.200000  \n",
       "max    11296.000000  412627.000000  844421.000000    29.900000  "
      ]
     },
     "execution_count": 1159,
     "metadata": {},
     "output_type": "execute_result"
    }
   ],
   "source": [
    "train[null_columns].describe(include=\"all\")"
   ]
  },
  {
   "cell_type": "code",
   "execution_count": 1160,
   "id": "bc0f5666",
   "metadata": {},
   "outputs": [
    {
     "name": "stdout",
     "output_type": "stream",
     "text": [
      "0.0\n",
      "14.0\n",
      "6.0\n",
      "0.0\n",
      "11.0\n",
      "20.0\n",
      "8.2\n",
      "0.0\n",
      "0.0\n",
      "0.2\n",
      "0.0\n",
      "0.0\n",
      "0.0\n",
      "1.0\n",
      "4.0\n",
      "14.0\n",
      "300.0\n",
      "6789.0\n",
      "13.3\n"
     ]
    }
   ],
   "source": [
    "# nan 보간 : 평균 or 중위수 or 최빈값\n",
    "for col in null_columns:\n",
    "    보간값 = train[col].mode().values[0] # 최빈값\n",
    "    print(보간값)\n",
    "    train[col] = train[col].fillna(보간값)     "
   ]
  },
  {
   "cell_type": "code",
   "execution_count": 1161,
   "id": "e1f69d1d",
   "metadata": {
    "scrolled": true
   },
   "outputs": [
    {
     "data": {
      "text/plain": [
       "<AxesSubplot:>"
      ]
     },
     "execution_count": 1161,
     "metadata": {},
     "output_type": "execute_result"
    },
    {
     "data": {
      "image/png": "[encoded data removed]",
      "text/plain": [
       "<Figure size 1800x720 with 2 Axes>"
      ]
     },
     "metadata": {
      "needs_background": "light"
     },
     "output_type": "display_data"
    }
   ],
   "source": [
    "msno.matrix(train)"
   ]
  },
  {
   "cell_type": "markdown",
   "id": "a9fb7d16",
   "metadata": {},
   "source": [
    "### 시각화 검토"
   ]
  },
  {
   "cell_type": "code",
   "execution_count": 1162,
   "id": "fe39e34d",
   "metadata": {},
   "outputs": [
    {
     "data": {
      "text/plain": [
       "Index(['ID', 'COMPONENT_ARBITRARY', 'ANONYMOUS_1', 'YEAR',\n",
       "       'SAMPLE_TRANSFER_DAY', 'ANONYMOUS_2', 'AG', 'AL', 'B', 'BA', 'BE', 'CA',\n",
       "       'CD', 'CO', 'CR', 'CU', 'FH2O', 'FNOX', 'FOPTIMETHGLY', 'FOXID', 'FSO4',\n",
       "       'FTBN', 'FE', 'FUEL', 'H2O', 'K', 'LI', 'MG', 'MN', 'MO', 'NA', 'NI',\n",
       "       'P', 'PB', 'PQINDEX', 'S', 'SB', 'SI', 'SN', 'SOOTPERCENTAGE', 'TI',\n",
       "       'U100', 'U75', 'U50', 'U25', 'U20', 'U14', 'U6', 'U4', 'V', 'V100',\n",
       "       'V40', 'ZN', 'Y_LABEL'],\n",
       "      dtype='object')"
      ]
     },
     "execution_count": 1162,
     "metadata": {},
     "output_type": "execute_result"
    }
   ],
   "source": [
    "train.columns"
   ]
  },
  {
   "cell_type": "code",
   "execution_count": 1163,
   "id": "1d992cce",
   "metadata": {},
   "outputs": [],
   "source": [
    "not_number_features = ['ID','COMPONENT_ARBITRARY', 'YEAR', \"Y_LABEL\"]"
   ]
  },
  {
   "cell_type": "code",
   "execution_count": 1164,
   "id": "56de8fce",
   "metadata": {},
   "outputs": [
    {
     "name": "stdout",
     "output_type": "stream",
     "text": [
      "['AG', 'CD', 'FH2O', 'PQINDEX', 'ANONYMOUS_1', 'AL', 'FOPTIMETHGLY', 'MN', 'MO', 'V', 'ANONYMOUS_2', 'LI', 'NI', 'SB', 'U20', 'U4', 'SAMPLE_TRANSFER_DAY', 'CR', 'TI', 'FE', 'U14', 'U75', 'H2O', 'P', 'NA', 'U100', 'U25', 'V100', 'K', 'CA', 'SN', 'MG', 'PB', 'FUEL', 'U6', 'SOOTPERCENTAGE', 'FSO4', 'BA', 'U50', 'B', 'SI', 'CO', 'FTBN', 'V40', 'S', 'FNOX', 'FOXID', 'ZN', 'BE', 'CU']\n",
      "50\n"
     ]
    }
   ],
   "source": [
    "numerical_cols = list(set(train.columns.tolist())-set(not_number_features))\n",
    "print(numerical_cols)\n",
    "print(len(numerical_cols))"
   ]
  },
  {
   "cell_type": "code",
   "execution_count": 1165,
   "id": "67a55a50",
   "metadata": {},
   "outputs": [
    {
     "data": {
      "image/png": "[encoded data removed]",
      "text/plain": [
       "<Figure size 1296x2160 with 51 Axes>"
      ]
     },
     "metadata": {
      "needs_background": "light"
     },
     "output_type": "display_data"
    }
   ],
   "source": [
    "세로열 = 3\n",
    "가로열 = int(len(numerical_cols)/세로열+1)\n",
    "\n",
    "fig, axes = plt.subplots(가로열, 3, figsize=(18, 30))\n",
    "a = 0\n",
    "for i, col in enumerate(numerical_cols):\n",
    "#         print(i%3)\n",
    "        b=i%3\n",
    "        sns.boxplot(ax=axes[a, b], data=train, x='Y_LABEL', y=col)\n",
    "        if b == 2:\n",
    "            a += 1\n"
   ]
  },
  {
   "cell_type": "code",
   "execution_count": 1166,
   "id": "0ef9626c",
   "metadata": {},
   "outputs": [],
   "source": [
    "# grid = sns.FacetGrid(data=train, col='YEAR')\n",
    "# grid.map(sns.stripplot, \"Y_LABEL\",\"CA\")"
   ]
  },
  {
   "cell_type": "code",
   "execution_count": 1167,
   "id": "17fc532e",
   "metadata": {},
   "outputs": [],
   "source": [
    "# grid = sns.FacetGrid(data=train, col='Y_LABEL', col_order=[0,1])\n",
    "# grid.map(sns.scatterplot, \"CA\", \"S\")"
   ]
  },
  {
   "cell_type": "markdown",
   "id": "8f649f9e",
   "metadata": {},
   "source": [
    "### Skewness 검토"
   ]
  },
  {
   "cell_type": "code",
   "execution_count": 1168,
   "id": "9e8a02c1",
   "metadata": {
    "scrolled": false
   },
   "outputs": [
    {
     "data": {
      "image/png": "[encoded data removed]",
      "text/plain": [
       "<Figure size 1440x2160 with 51 Axes>"
      ]
     },
     "metadata": {
      "needs_background": "light"
     },
     "output_type": "display_data"
    }
   ],
   "source": [
    "세로열 = 3\n",
    "가로열 = int(len(numerical_cols)/세로열+1)\n",
    "\n",
    "fig, axes = plt.subplots(가로열, 3, figsize=(20, 30))\n",
    "a = 0\n",
    "for i, col in enumerate(numerical_cols):\n",
    "#         print(i%3)\n",
    "        b=i%3\n",
    "        sns.distplot(train[col], bins=100, ax=axes[a, b])\n",
    "        plt.gca().set_title(col)\n",
    "        plt.subplots_adjust(hspace = 0.8)\n",
    "        if b == 2:\n",
    "            a += 1"
   ]
  },
  {
   "cell_type": "code",
   "execution_count": 1169,
   "id": "3f26f920",
   "metadata": {},
   "outputs": [
    {
     "data": {
      "text/plain": [
       "CD                     55.899106\n",
       "CR                     54.368366\n",
       "CO                     49.810892\n",
       "H2O                    48.656666\n",
       "NA                     43.060333\n",
       "U50                    41.706142\n",
       "BE                     40.923712\n",
       "SN                     39.878475\n",
       "PB                     39.602904\n",
       "MN                     38.915313\n",
       "U6                     36.709851\n",
       "BA                     34.836012\n",
       "TI                     34.500761\n",
       "K                      30.920025\n",
       "ANONYMOUS_1            30.451948\n",
       "LI                     28.675390\n",
       "U4                     28.420830\n",
       "U100                   26.087449\n",
       "SB                     25.174375\n",
       "FH2O                   23.692474\n",
       "U75                    22.869479\n",
       "AL                     22.037843\n",
       "U25                    22.010478\n",
       "U20                    21.665249\n",
       "V                      20.985827\n",
       "CU                     20.741422\n",
       "NI                     20.387033\n",
       "FE                     20.119119\n",
       "U14                    19.628971\n",
       "FUEL                   14.826516\n",
       "SI                     13.847020\n",
       "V40                    12.987017\n",
       "SAMPLE_TRANSFER_DAY     9.862149\n",
       "PQINDEX                 9.829113\n",
       "ANONYMOUS_2             8.529989\n",
       "AG                      7.309733\n",
       "MG                      6.095664\n",
       "SOOTPERCENTAGE          5.968099\n",
       "FOPTIMETHGLY            5.768757\n",
       "FSO4                    5.647768\n",
       "FOXID                   5.631683\n",
       "FNOX                    5.568973\n",
       "MO                      2.904525\n",
       "B                       2.847296\n",
       "V100                    2.565177\n",
       "FTBN                    2.054785\n",
       "P                       1.149380\n",
       "S                       0.806596\n",
       "CA                      0.390928\n",
       "ZN                      0.227683\n",
       "dtype: float64"
      ]
     },
     "execution_count": 1169,
     "metadata": {},
     "output_type": "execute_result"
    }
   ],
   "source": [
    "skewness = train[numerical_cols].apply(lambda x: x.skew()).sort_values(ascending=False)\n",
    "skewness"
   ]
  },
  {
   "cell_type": "code",
   "execution_count": 1170,
   "id": "a1460759",
   "metadata": {},
   "outputs": [],
   "source": [
    "def log_chart(df):\n",
    "    세로열 = 3\n",
    "    가로열 = int(len(df.columns)/세로열+1)\n",
    "\n",
    "    fig, axes = plt.subplots(가로열, 3, figsize=(20, 30))\n",
    "    a = 0\n",
    "    for i, col in enumerate(skew_feats):\n",
    "        b=i%3\n",
    "        sns.distplot(df[col], bins=100, ax=axes[a, b])\n",
    "        plt.gca().set_title(col)\n",
    "        plt.subplots_adjust(hspace = 0.8)\n",
    "        if b == 2:\n",
    "            a += 1"
   ]
  },
  {
   "cell_type": "code",
   "execution_count": 1171,
   "id": "aa01ff38",
   "metadata": {
    "scrolled": false
   },
   "outputs": [
    {
     "data": {
      "application/vnd.jupyter.widget-view+json": {
       "model_id": "f8da8c0c3ba2433c87a6994fa4163de6",
       "version_major": 2,
       "version_minor": 0
      },
      "text/plain": [
       "  0%|          | 0/1 [00:00<?, ?it/s]"
      ]
     },
     "metadata": {},
     "output_type": "display_data"
    },
    {
     "name": "stdout",
     "output_type": "stream",
     "text": [
      "----------------------------------------\n",
      "Index(['CD', 'CR', 'CO', 'H2O', 'NA', 'U50', 'BE', 'SN', 'PB', 'MN', 'U6',\n",
      "       'BA', 'TI', 'K', 'ANONYMOUS_1', 'LI', 'U4', 'U100', 'SB', 'FH2O', 'U75',\n",
      "       'AL', 'U25', 'U20', 'V', 'CU', 'NI', 'FE', 'U14', 'FUEL', 'SI', 'V40',\n",
      "       'SAMPLE_TRANSFER_DAY', 'PQINDEX', 'ANONYMOUS_2', 'AG', 'MG',\n",
      "       'SOOTPERCENTAGE', 'FOPTIMETHGLY', 'FSO4', 'FOXID', 'FNOX', 'MO', 'B',\n",
      "       'V100', 'FTBN', 'P'],\n",
      "      dtype='object')\n",
      "BE                     23.412466\n",
      "H2O                    18.578013\n",
      "CD                     11.885586\n",
      "U100                   11.430049\n",
      "CO                      9.008246\n",
      "FUEL                    8.774924\n",
      "V                       8.296009\n",
      "U75                     8.282828\n",
      "FH2O                    7.129355\n",
      "AG                      6.600190\n",
      "LI                      5.496954\n",
      "U50                     5.171332\n",
      "TI                      4.836962\n",
      "U20                     3.716015\n",
      "U14                     3.641633\n",
      "U25                     3.458415\n",
      "SOOTPERCENTAGE          3.384204\n",
      "U6                      3.224916\n",
      "NI                      2.881386\n",
      "SB                      2.767385\n",
      "FNOX                    2.658311\n",
      "FOPTIMETHGLY            2.340969\n",
      "BA                      2.176642\n",
      "SN                      2.044310\n",
      "FSO4                    1.848962\n",
      "FOXID                   1.842072\n",
      "AL                      1.782754\n",
      "ANONYMOUS_2             1.779987\n",
      "PB                      1.681511\n",
      "U4                      1.400243\n",
      "MN                      1.387217\n",
      "CR                      1.309447\n",
      "SI                      1.239047\n",
      "MO                      1.197475\n",
      "K                       1.050120\n",
      "MG                      0.960658\n",
      "ANONYMOUS_1             0.930168\n",
      "SAMPLE_TRANSFER_DAY     0.886021\n",
      "S                       0.806596\n",
      "PQINDEX                 0.786814\n",
      "CU                      0.763561\n",
      "NA                      0.605474\n",
      "CA                      0.390928\n",
      "FE                      0.273557\n",
      "ZN                      0.227683\n",
      "B                       0.168986\n",
      "V100                   -0.377480\n",
      "V40                    -0.496896\n",
      "P                      -0.622552\n",
      "FTBN                   -5.632267\n",
      "dtype: float64\n"
     ]
    },
    {
     "data": {
      "image/png": "[encoded data removed]",
      "text/plain": [
       "<Figure size 1440x2160 with 57 Axes>"
      ]
     },
     "metadata": {
      "needs_background": "light"
     },
     "output_type": "display_data"
    }
   ],
   "source": [
    "for i in tqdm(range(CFG['log_turn'])):\n",
    "    skewness = train[numerical_cols].apply(lambda x: x.skew()).sort_values(ascending=False)\n",
    "    skew_feats = skewness[skewness > CFG['skew_cut']].index\n",
    "    \n",
    "    log_train = train[skew_feats].copy()\n",
    "    log_train[skew_feats] = np.log1p(log_train[skew_feats])\n",
    "        \n",
    "    for col in skew_feats:\n",
    "        train[col] = log_train[col]\n",
    "    \n",
    "    skewness = train[numerical_cols].apply(lambda x: x.skew()).sort_values(ascending=False)\n",
    "    print(\"-\"*40)\n",
    "    print(skew_feats)\n",
    "    print(skewness)\n",
    "    \n",
    "    for col in skew_feats:\n",
    "        if col in test.columns:\n",
    "            test[col] = np.log1p(test[col])\n",
    "        else:\n",
    "            pass\n",
    "log_chart(train)\n",
    "\n"
   ]
  },
  {
   "cell_type": "code",
   "execution_count": 1172,
   "id": "dd70f712",
   "metadata": {
    "scrolled": false
   },
   "outputs": [
    {
     "data": {
      "image/png": "[encoded data removed]",
      "text/plain": [
       "<Figure size 1296x2160 with 51 Axes>"
      ]
     },
     "metadata": {
      "needs_background": "light"
     },
     "output_type": "display_data"
    }
   ],
   "source": [
    "세로열 = 3\n",
    "가로열 = int(len(numerical_cols)/세로열+1)\n",
    "\n",
    "fig, axes = plt.subplots(가로열, 3, figsize=(18, 30))\n",
    "a = 0\n",
    "for i, col in enumerate(numerical_cols):\n",
    "        b=i%3\n",
    "        sns.boxplot(ax=axes[a, b], data=train, x='Y_LABEL', y=col)\n",
    "        if b == 2:\n",
    "            a += 1"
   ]
  },
  {
   "cell_type": "markdown",
   "id": "38edaad1",
   "metadata": {},
   "source": [
    "### 상관관계 확인(드랍칼럼 선정)"
   ]
  },
  {
   "cell_type": "code",
   "execution_count": 1173,
   "id": "52af7020",
   "metadata": {},
   "outputs": [
    {
     "data": {
      "text/plain": [
       "<AxesSubplot:>"
      ]
     },
     "execution_count": 1173,
     "metadata": {},
     "output_type": "execute_result"
    },
    {
     "data": {
      "image/png": "[encoded data removed]",
      "text/plain": [
       "<Figure size 2160x360 with 2 Axes>"
      ]
     },
     "metadata": {
      "needs_background": "light"
     },
     "output_type": "display_data"
    }
   ],
   "source": [
    "fig = plt.figure(figsize=(30, 5))\n",
    "sns.heatmap(train.loc[:,:].corr()[[\"Y_LABEL\"]].T, annot=True, linewidth=1, cmap=\"coolwarm\", vmin=-1, vmax=1)"
   ]
  },
  {
   "cell_type": "code",
   "execution_count": 1174,
   "id": "8b8a97c8",
   "metadata": {},
   "outputs": [
    {
     "data": {
      "text/html": [
       "<div>\n",
       "<style scoped>\n",
       "    .dataframe tbody tr th:only-of-type {\n",
       "        vertical-align: middle;\n",
       "    }\n",
       "\n",
       "    .dataframe tbody tr th {\n",
       "        vertical-align: top;\n",
       "    }\n",
       "\n",
       "    .dataframe thead th {\n",
       "        text-align: right;\n",
       "    }\n",
       "</style>\n",
       "<table border=\"1\" class=\"dataframe\">\n",
       "  <thead>\n",
       "    <tr style=\"text-align: right;\">\n",
       "      <th></th>\n",
       "      <th>Y_LABEL</th>\n",
       "    </tr>\n",
       "  </thead>\n",
       "  <tbody>\n",
       "    <tr>\n",
       "      <th>Y_LABEL</th>\n",
       "      <td>1.000000</td>\n",
       "    </tr>\n",
       "    <tr>\n",
       "      <th>AL</th>\n",
       "      <td>0.531680</td>\n",
       "    </tr>\n",
       "    <tr>\n",
       "      <th>BA</th>\n",
       "      <td>0.205176</td>\n",
       "    </tr>\n",
       "    <tr>\n",
       "      <th>ANONYMOUS_1</th>\n",
       "      <td>0.092820</td>\n",
       "    </tr>\n",
       "    <tr>\n",
       "      <th>NI</th>\n",
       "      <td>0.067153</td>\n",
       "    </tr>\n",
       "    <tr>\n",
       "      <th>CR</th>\n",
       "      <td>0.056019</td>\n",
       "    </tr>\n",
       "    <tr>\n",
       "      <th>MN</th>\n",
       "      <td>0.048509</td>\n",
       "    </tr>\n",
       "    <tr>\n",
       "      <th>TI</th>\n",
       "      <td>0.046066</td>\n",
       "    </tr>\n",
       "    <tr>\n",
       "      <th>FE</th>\n",
       "      <td>0.045108</td>\n",
       "    </tr>\n",
       "    <tr>\n",
       "      <th>PQINDEX</th>\n",
       "      <td>0.037558</td>\n",
       "    </tr>\n",
       "    <tr>\n",
       "      <th>SI</th>\n",
       "      <td>0.036470</td>\n",
       "    </tr>\n",
       "    <tr>\n",
       "      <th>CU</th>\n",
       "      <td>0.033862</td>\n",
       "    </tr>\n",
       "    <tr>\n",
       "      <th>K</th>\n",
       "      <td>0.031865</td>\n",
       "    </tr>\n",
       "    <tr>\n",
       "      <th>V</th>\n",
       "      <td>0.031353</td>\n",
       "    </tr>\n",
       "    <tr>\n",
       "      <th>S</th>\n",
       "      <td>0.027923</td>\n",
       "    </tr>\n",
       "    <tr>\n",
       "      <th>V40</th>\n",
       "      <td>0.024576</td>\n",
       "    </tr>\n",
       "    <tr>\n",
       "      <th>CO</th>\n",
       "      <td>0.019653</td>\n",
       "    </tr>\n",
       "    <tr>\n",
       "      <th>SB</th>\n",
       "      <td>0.019587</td>\n",
       "    </tr>\n",
       "    <tr>\n",
       "      <th>FNOX</th>\n",
       "      <td>0.019503</td>\n",
       "    </tr>\n",
       "    <tr>\n",
       "      <th>SN</th>\n",
       "      <td>0.017692</td>\n",
       "    </tr>\n",
       "    <tr>\n",
       "      <th>FH2O</th>\n",
       "      <td>0.016473</td>\n",
       "    </tr>\n",
       "    <tr>\n",
       "      <th>AG</th>\n",
       "      <td>0.015292</td>\n",
       "    </tr>\n",
       "    <tr>\n",
       "      <th>LI</th>\n",
       "      <td>0.011860</td>\n",
       "    </tr>\n",
       "    <tr>\n",
       "      <th>FOPTIMETHGLY</th>\n",
       "      <td>0.011441</td>\n",
       "    </tr>\n",
       "    <tr>\n",
       "      <th>FOXID</th>\n",
       "      <td>0.010833</td>\n",
       "    </tr>\n",
       "    <tr>\n",
       "      <th>BE</th>\n",
       "      <td>0.010184</td>\n",
       "    </tr>\n",
       "    <tr>\n",
       "      <th>CD</th>\n",
       "      <td>0.009921</td>\n",
       "    </tr>\n",
       "    <tr>\n",
       "      <th>FSO4</th>\n",
       "      <td>0.009537</td>\n",
       "    </tr>\n",
       "    <tr>\n",
       "      <th>U4</th>\n",
       "      <td>0.009433</td>\n",
       "    </tr>\n",
       "    <tr>\n",
       "      <th>H2O</th>\n",
       "      <td>0.009037</td>\n",
       "    </tr>\n",
       "    <tr>\n",
       "      <th>U6</th>\n",
       "      <td>0.007905</td>\n",
       "    </tr>\n",
       "    <tr>\n",
       "      <th>MO</th>\n",
       "      <td>0.007714</td>\n",
       "    </tr>\n",
       "    <tr>\n",
       "      <th>U14</th>\n",
       "      <td>0.007442</td>\n",
       "    </tr>\n",
       "    <tr>\n",
       "      <th>PB</th>\n",
       "      <td>0.007244</td>\n",
       "    </tr>\n",
       "    <tr>\n",
       "      <th>V100</th>\n",
       "      <td>0.001948</td>\n",
       "    </tr>\n",
       "    <tr>\n",
       "      <th>U25</th>\n",
       "      <td>0.001557</td>\n",
       "    </tr>\n",
       "    <tr>\n",
       "      <th>U20</th>\n",
       "      <td>-0.000381</td>\n",
       "    </tr>\n",
       "    <tr>\n",
       "      <th>P</th>\n",
       "      <td>-0.000769</td>\n",
       "    </tr>\n",
       "    <tr>\n",
       "      <th>FTBN</th>\n",
       "      <td>-0.001173</td>\n",
       "    </tr>\n",
       "    <tr>\n",
       "      <th>SOOTPERCENTAGE</th>\n",
       "      <td>-0.001773</td>\n",
       "    </tr>\n",
       "    <tr>\n",
       "      <th>SAMPLE_TRANSFER_DAY</th>\n",
       "      <td>-0.004679</td>\n",
       "    </tr>\n",
       "    <tr>\n",
       "      <th>U50</th>\n",
       "      <td>-0.006933</td>\n",
       "    </tr>\n",
       "    <tr>\n",
       "      <th>U100</th>\n",
       "      <td>-0.007241</td>\n",
       "    </tr>\n",
       "    <tr>\n",
       "      <th>FUEL</th>\n",
       "      <td>-0.007314</td>\n",
       "    </tr>\n",
       "    <tr>\n",
       "      <th>U75</th>\n",
       "      <td>-0.008436</td>\n",
       "    </tr>\n",
       "    <tr>\n",
       "      <th>MG</th>\n",
       "      <td>-0.010150</td>\n",
       "    </tr>\n",
       "    <tr>\n",
       "      <th>B</th>\n",
       "      <td>-0.018961</td>\n",
       "    </tr>\n",
       "    <tr>\n",
       "      <th>ZN</th>\n",
       "      <td>-0.027551</td>\n",
       "    </tr>\n",
       "    <tr>\n",
       "      <th>NA</th>\n",
       "      <td>-0.028494</td>\n",
       "    </tr>\n",
       "    <tr>\n",
       "      <th>ANONYMOUS_2</th>\n",
       "      <td>-0.058001</td>\n",
       "    </tr>\n",
       "    <tr>\n",
       "      <th>YEAR</th>\n",
       "      <td>-0.087871</td>\n",
       "    </tr>\n",
       "    <tr>\n",
       "      <th>CA</th>\n",
       "      <td>-0.150379</td>\n",
       "    </tr>\n",
       "  </tbody>\n",
       "</table>\n",
       "</div>"
      ],
      "text/plain": [
       "                      Y_LABEL\n",
       "Y_LABEL              1.000000\n",
       "AL                   0.531680\n",
       "BA                   0.205176\n",
       "ANONYMOUS_1          0.092820\n",
       "NI                   0.067153\n",
       "CR                   0.056019\n",
       "MN                   0.048509\n",
       "TI                   0.046066\n",
       "FE                   0.045108\n",
       "PQINDEX              0.037558\n",
       "SI                   0.036470\n",
       "CU                   0.033862\n",
       "K                    0.031865\n",
       "V                    0.031353\n",
       "S                    0.027923\n",
       "V40                  0.024576\n",
       "CO                   0.019653\n",
       "SB                   0.019587\n",
       "FNOX                 0.019503\n",
       "SN                   0.017692\n",
       "FH2O                 0.016473\n",
       "AG                   0.015292\n",
       "LI                   0.011860\n",
       "FOPTIMETHGLY         0.011441\n",
       "FOXID                0.010833\n",
       "BE                   0.010184\n",
       "CD                   0.009921\n",
       "FSO4                 0.009537\n",
       "U4                   0.009433\n",
       "H2O                  0.009037\n",
       "U6                   0.007905\n",
       "MO                   0.007714\n",
       "U14                  0.007442\n",
       "PB                   0.007244\n",
       "V100                 0.001948\n",
       "U25                  0.001557\n",
       "U20                 -0.000381\n",
       "P                   -0.000769\n",
       "FTBN                -0.001173\n",
       "SOOTPERCENTAGE      -0.001773\n",
       "SAMPLE_TRANSFER_DAY -0.004679\n",
       "U50                 -0.006933\n",
       "U100                -0.007241\n",
       "FUEL                -0.007314\n",
       "U75                 -0.008436\n",
       "MG                  -0.010150\n",
       "B                   -0.018961\n",
       "ZN                  -0.027551\n",
       "NA                  -0.028494\n",
       "ANONYMOUS_2         -0.058001\n",
       "YEAR                -0.087871\n",
       "CA                  -0.150379"
      ]
     },
     "execution_count": 1174,
     "metadata": {},
     "output_type": "execute_result"
    }
   ],
   "source": [
    "df_corr1 = pd.DataFrame(train.corr()[\"Y_LABEL\"].sort_values(ascending=False))\n",
    "df_corr1"
   ]
  },
  {
   "cell_type": "code",
   "execution_count": 1175,
   "id": "8a22400b",
   "metadata": {},
   "outputs": [
    {
     "name": "stdout",
     "output_type": "stream",
     "text": [
      "상관관계가 낮아서 드랍할 칼럼 개수 : 7\n"
     ]
    },
    {
     "data": {
      "text/plain": [
       "<bound method DataFrame.sort_values of                       Y_LABEL\n",
       "V100                 0.001948\n",
       "U25                  0.001557\n",
       "U20                 -0.000381\n",
       "P                   -0.000769\n",
       "FTBN                -0.001173\n",
       "SOOTPERCENTAGE      -0.001773\n",
       "SAMPLE_TRANSFER_DAY -0.004679>"
      ]
     },
     "execution_count": 1175,
     "metadata": {},
     "output_type": "execute_result"
    }
   ],
   "source": [
    "# 상관관계가 낮아서 제낄 칼럼들\n",
    "cutline = CFG['CUT']\n",
    "# cutline = 0.01\n",
    "df_corr2 = df_corr1[(df_corr1[\"Y_LABEL\"] < cutline) & (df_corr1[\"Y_LABEL\"] > (cutline*-1))]\n",
    "print(f\"상관관계가 낮아서 드랍할 칼럼 개수 : {len(df_corr2.index)}\")\n",
    "df_corr2.sort_values"
   ]
  },
  {
   "cell_type": "code",
   "execution_count": 1176,
   "id": "f87d6718",
   "metadata": {},
   "outputs": [],
   "source": [
    "drop_columns = df_corr2.index.tolist()\n",
    "# drop_columns"
   ]
  },
  {
   "cell_type": "code",
   "execution_count": 1177,
   "id": "f7ad29df",
   "metadata": {},
   "outputs": [
    {
     "name": "stdout",
     "output_type": "stream",
     "text": [
      "드랍하기 전 칼럼 갯수 : 54\n",
      "드랍후 칼럼 갯수 : 47\n"
     ]
    }
   ],
   "source": [
    "print(f\"드랍하기 전 칼럼 갯수 : {len(train.columns)}\")\n",
    "for col in drop_columns:\n",
    "    if col in train.columns:\n",
    "        train.drop(columns = col, axis = 1, inplace = True)\n",
    "    else:\n",
    "        pass\n",
    "print(f\"드랍후 칼럼 갯수 : {len(train.columns)}\")"
   ]
  },
  {
   "cell_type": "code",
   "execution_count": 1178,
   "id": "3f0d6e4c",
   "metadata": {},
   "outputs": [
    {
     "name": "stdout",
     "output_type": "stream",
     "text": [
      "드랍하기 전 칼럼 갯수 : 19\n",
      "드랍후 칼럼 갯수 : 19\n"
     ]
    }
   ],
   "source": [
    "print(f\"드랍하기 전 칼럼 갯수 : {len(test.columns)}\")\n",
    "for col in drop_columns:\n",
    "    if col in test.columns:\n",
    "        test.drop(columns = col, axis = 1, inplace = True)\n",
    "    else:\n",
    "        pass\n",
    "print(f\"드랍후 칼럼 갯수 : {len(test.columns)}\")"
   ]
  },
  {
   "cell_type": "code",
   "execution_count": 1179,
   "id": "7803f54c",
   "metadata": {},
   "outputs": [
    {
     "data": {
      "text/html": [
       "<div>\n",
       "<style scoped>\n",
       "    .dataframe tbody tr th:only-of-type {\n",
       "        vertical-align: middle;\n",
       "    }\n",
       "\n",
       "    .dataframe tbody tr th {\n",
       "        vertical-align: top;\n",
       "    }\n",
       "\n",
       "    .dataframe thead th {\n",
       "        text-align: right;\n",
       "    }\n",
       "</style>\n",
       "<table border=\"1\" class=\"dataframe\">\n",
       "  <thead>\n",
       "    <tr style=\"text-align: right;\">\n",
       "      <th></th>\n",
       "      <th>ANONYMOUS_1</th>\n",
       "      <th>YEAR</th>\n",
       "      <th>ANONYMOUS_2</th>\n",
       "      <th>AG</th>\n",
       "      <th>AL</th>\n",
       "      <th>B</th>\n",
       "      <th>BA</th>\n",
       "      <th>BE</th>\n",
       "      <th>CA</th>\n",
       "      <th>CD</th>\n",
       "      <th>...</th>\n",
       "      <th>U100</th>\n",
       "      <th>U75</th>\n",
       "      <th>U50</th>\n",
       "      <th>U14</th>\n",
       "      <th>U6</th>\n",
       "      <th>U4</th>\n",
       "      <th>V</th>\n",
       "      <th>V40</th>\n",
       "      <th>ZN</th>\n",
       "      <th>Y_LABEL</th>\n",
       "    </tr>\n",
       "  </thead>\n",
       "  <tbody>\n",
       "    <tr>\n",
       "      <th>count</th>\n",
       "      <td>14095.000000</td>\n",
       "      <td>14095.000000</td>\n",
       "      <td>14095.000000</td>\n",
       "      <td>14095.000000</td>\n",
       "      <td>14095.000000</td>\n",
       "      <td>14095.000000</td>\n",
       "      <td>14095.000000</td>\n",
       "      <td>14095.000000</td>\n",
       "      <td>14095.000000</td>\n",
       "      <td>14095.000000</td>\n",
       "      <td>...</td>\n",
       "      <td>14095.000000</td>\n",
       "      <td>14095.000000</td>\n",
       "      <td>14095.000000</td>\n",
       "      <td>14095.000000</td>\n",
       "      <td>14095.000000</td>\n",
       "      <td>14095.000000</td>\n",
       "      <td>14095.000000</td>\n",
       "      <td>14095.000000</td>\n",
       "      <td>14095.000000</td>\n",
       "      <td>14095.000000</td>\n",
       "    </tr>\n",
       "    <tr>\n",
       "      <th>mean</th>\n",
       "      <td>7.838089</td>\n",
       "      <td>2013.652501</td>\n",
       "      <td>5.683069</td>\n",
       "      <td>0.017280</td>\n",
       "      <td>1.227792</td>\n",
       "      <td>2.783313</td>\n",
       "      <td>0.276187</td>\n",
       "      <td>0.003216</td>\n",
       "      <td>1366.757574</td>\n",
       "      <td>0.008553</td>\n",
       "      <td>...</td>\n",
       "      <td>0.013782</td>\n",
       "      <td>0.029563</td>\n",
       "      <td>0.138296</td>\n",
       "      <td>2.935188</td>\n",
       "      <td>5.980664</td>\n",
       "      <td>8.893207</td>\n",
       "      <td>0.025410</td>\n",
       "      <td>4.620493</td>\n",
       "      <td>588.646825</td>\n",
       "      <td>0.085349</td>\n",
       "    </tr>\n",
       "    <tr>\n",
       "      <th>std</th>\n",
       "      <td>0.584597</td>\n",
       "      <td>3.964758</td>\n",
       "      <td>0.608688</td>\n",
       "      <td>0.112395</td>\n",
       "      <td>1.099629</td>\n",
       "      <td>1.829705</td>\n",
       "      <td>0.560102</td>\n",
       "      <td>0.059087</td>\n",
       "      <td>1481.924727</td>\n",
       "      <td>0.084101</td>\n",
       "      <td>...</td>\n",
       "      <td>0.125516</td>\n",
       "      <td>0.192965</td>\n",
       "      <td>0.537107</td>\n",
       "      <td>0.789438</td>\n",
       "      <td>0.866420</td>\n",
       "      <td>0.459776</td>\n",
       "      <td>0.164464</td>\n",
       "      <td>0.419648</td>\n",
       "      <td>531.743393</td>\n",
       "      <td>0.279411</td>\n",
       "    </tr>\n",
       "    <tr>\n",
       "      <th>min</th>\n",
       "      <td>6.908755</td>\n",
       "      <td>2007.000000</td>\n",
       "      <td>5.303305</td>\n",
       "      <td>0.000000</td>\n",
       "      <td>0.000000</td>\n",
       "      <td>0.000000</td>\n",
       "      <td>0.000000</td>\n",
       "      <td>0.000000</td>\n",
       "      <td>0.000000</td>\n",
       "      <td>0.000000</td>\n",
       "      <td>...</td>\n",
       "      <td>0.000000</td>\n",
       "      <td>0.000000</td>\n",
       "      <td>0.000000</td>\n",
       "      <td>0.000000</td>\n",
       "      <td>2.772589</td>\n",
       "      <td>5.043425</td>\n",
       "      <td>0.000000</td>\n",
       "      <td>1.360977</td>\n",
       "      <td>0.000000</td>\n",
       "      <td>0.000000</td>\n",
       "    </tr>\n",
       "    <tr>\n",
       "      <th>25%</th>\n",
       "      <td>7.412160</td>\n",
       "      <td>2010.000000</td>\n",
       "      <td>5.303305</td>\n",
       "      <td>0.000000</td>\n",
       "      <td>0.693147</td>\n",
       "      <td>1.386294</td>\n",
       "      <td>0.000000</td>\n",
       "      <td>0.000000</td>\n",
       "      <td>48.000000</td>\n",
       "      <td>0.000000</td>\n",
       "      <td>...</td>\n",
       "      <td>0.000000</td>\n",
       "      <td>0.000000</td>\n",
       "      <td>0.000000</td>\n",
       "      <td>2.708050</td>\n",
       "      <td>5.707110</td>\n",
       "      <td>8.823206</td>\n",
       "      <td>0.000000</td>\n",
       "      <td>4.287716</td>\n",
       "      <td>37.000000</td>\n",
       "      <td>0.000000</td>\n",
       "    </tr>\n",
       "    <tr>\n",
       "      <th>50%</th>\n",
       "      <td>7.708860</td>\n",
       "      <td>2014.000000</td>\n",
       "      <td>5.303305</td>\n",
       "      <td>0.000000</td>\n",
       "      <td>1.098612</td>\n",
       "      <td>2.484907</td>\n",
       "      <td>0.000000</td>\n",
       "      <td>0.000000</td>\n",
       "      <td>198.000000</td>\n",
       "      <td>0.000000</td>\n",
       "      <td>...</td>\n",
       "      <td>0.000000</td>\n",
       "      <td>0.000000</td>\n",
       "      <td>0.000000</td>\n",
       "      <td>2.708050</td>\n",
       "      <td>5.707110</td>\n",
       "      <td>8.823206</td>\n",
       "      <td>0.000000</td>\n",
       "      <td>4.721174</td>\n",
       "      <td>520.000000</td>\n",
       "      <td>0.000000</td>\n",
       "    </tr>\n",
       "    <tr>\n",
       "      <th>75%</th>\n",
       "      <td>8.242230</td>\n",
       "      <td>2017.000000</td>\n",
       "      <td>6.018593</td>\n",
       "      <td>0.000000</td>\n",
       "      <td>1.609438</td>\n",
       "      <td>4.709530</td>\n",
       "      <td>0.000000</td>\n",
       "      <td>0.000000</td>\n",
       "      <td>2975.000000</td>\n",
       "      <td>0.000000</td>\n",
       "      <td>...</td>\n",
       "      <td>0.000000</td>\n",
       "      <td>0.000000</td>\n",
       "      <td>0.000000</td>\n",
       "      <td>2.708050</td>\n",
       "      <td>5.707110</td>\n",
       "      <td>8.823206</td>\n",
       "      <td>0.000000</td>\n",
       "      <td>4.928702</td>\n",
       "      <td>1119.000000</td>\n",
       "      <td>0.000000</td>\n",
       "    </tr>\n",
       "    <tr>\n",
       "      <th>max</th>\n",
       "      <td>12.592871</td>\n",
       "      <td>2022.000000</td>\n",
       "      <td>9.174817</td>\n",
       "      <td>1.386294</td>\n",
       "      <td>8.440528</td>\n",
       "      <td>7.626570</td>\n",
       "      <td>5.379897</td>\n",
       "      <td>2.302585</td>\n",
       "      <td>6609.000000</td>\n",
       "      <td>2.944439</td>\n",
       "      <td>...</td>\n",
       "      <td>2.944439</td>\n",
       "      <td>3.526361</td>\n",
       "      <td>6.845880</td>\n",
       "      <td>9.332292</td>\n",
       "      <td>12.930302</td>\n",
       "      <td>13.646408</td>\n",
       "      <td>2.890372</td>\n",
       "      <td>7.952087</td>\n",
       "      <td>2132.000000</td>\n",
       "      <td>1.000000</td>\n",
       "    </tr>\n",
       "  </tbody>\n",
       "</table>\n",
       "<p>8 rows × 45 columns</p>\n",
       "</div>"
      ],
      "text/plain": [
       "        ANONYMOUS_1          YEAR   ANONYMOUS_2            AG            AL  \\\n",
       "count  14095.000000  14095.000000  14095.000000  14095.000000  14095.000000   \n",
       "mean       7.838089   2013.652501      5.683069      0.017280      1.227792   \n",
       "std        0.584597      3.964758      0.608688      0.112395      1.099629   \n",
       "min        6.908755   2007.000000      5.303305      0.000000      0.000000   \n",
       "25%        7.412160   2010.000000      5.303305      0.000000      0.693147   \n",
       "50%        7.708860   2014.000000      5.303305      0.000000      1.098612   \n",
       "75%        8.242230   2017.000000      6.018593      0.000000      1.609438   \n",
       "max       12.592871   2022.000000      9.174817      1.386294      8.440528   \n",
       "\n",
       "                  B            BA            BE            CA            CD  \\\n",
       "count  14095.000000  14095.000000  14095.000000  14095.000000  14095.000000   \n",
       "mean       2.783313      0.276187      0.003216   1366.757574      0.008553   \n",
       "std        1.829705      0.560102      0.059087   1481.924727      0.084101   \n",
       "min        0.000000      0.000000      0.000000      0.000000      0.000000   \n",
       "25%        1.386294      0.000000      0.000000     48.000000      0.000000   \n",
       "50%        2.484907      0.000000      0.000000    198.000000      0.000000   \n",
       "75%        4.709530      0.000000      0.000000   2975.000000      0.000000   \n",
       "max        7.626570      5.379897      2.302585   6609.000000      2.944439   \n",
       "\n",
       "       ...          U100           U75           U50           U14  \\\n",
       "count  ...  14095.000000  14095.000000  14095.000000  14095.000000   \n",
       "mean   ...      0.013782      0.029563      0.138296      2.935188   \n",
       "std    ...      0.125516      0.192965      0.537107      0.789438   \n",
       "min    ...      0.000000      0.000000      0.000000      0.000000   \n",
       "25%    ...      0.000000      0.000000      0.000000      2.708050   \n",
       "50%    ...      0.000000      0.000000      0.000000      2.708050   \n",
       "75%    ...      0.000000      0.000000      0.000000      2.708050   \n",
       "max    ...      2.944439      3.526361      6.845880      9.332292   \n",
       "\n",
       "                 U6            U4             V           V40            ZN  \\\n",
       "count  14095.000000  14095.000000  14095.000000  14095.000000  14095.000000   \n",
       "mean       5.980664      8.893207      0.025410      4.620493    588.646825   \n",
       "std        0.866420      0.459776      0.164464      0.419648    531.743393   \n",
       "min        2.772589      5.043425      0.000000      1.360977      0.000000   \n",
       "25%        5.707110      8.823206      0.000000      4.287716     37.000000   \n",
       "50%        5.707110      8.823206      0.000000      4.721174    520.000000   \n",
       "75%        5.707110      8.823206      0.000000      4.928702   1119.000000   \n",
       "max       12.930302     13.646408      2.890372      7.952087   2132.000000   \n",
       "\n",
       "            Y_LABEL  \n",
       "count  14095.000000  \n",
       "mean       0.085349  \n",
       "std        0.279411  \n",
       "min        0.000000  \n",
       "25%        0.000000  \n",
       "50%        0.000000  \n",
       "75%        0.000000  \n",
       "max        1.000000  \n",
       "\n",
       "[8 rows x 45 columns]"
      ]
     },
     "execution_count": 1179,
     "metadata": {},
     "output_type": "execute_result"
    }
   ],
   "source": [
    "train.describe()"
   ]
  },
  {
   "cell_type": "markdown",
   "id": "24c09e44",
   "metadata": {},
   "source": [
    "### 수치형 데이터 이상치 처리"
   ]
  },
  {
   "cell_type": "code",
   "execution_count": 1180,
   "id": "dffe00a2",
   "metadata": {},
   "outputs": [],
   "source": [
    "not_number_features = ['ID','COMPONENT_ARBITRARY', 'YEAR', \"Y_LABEL\"]"
   ]
  },
  {
   "cell_type": "code",
   "execution_count": 1181,
   "id": "bb53ff14",
   "metadata": {},
   "outputs": [],
   "source": [
    "train.drop(columns = \"ID\", axis = 1, inplace = True)\n",
    "test.drop(columns = \"ID\", axis = 1, inplace = True)"
   ]
  },
  {
   "cell_type": "code",
   "execution_count": 1182,
   "id": "4cc30658",
   "metadata": {},
   "outputs": [],
   "source": [
    "# #이상치 인덱스 확인 함수\n",
    "# def get_outlier(df=None, col=None, weight=1.5):\n",
    "#     target = df[col]\n",
    "#     quantile_25 = np.quantile(target, 0.25)\n",
    "#     quantile_75 = np.quantile(target, 0.75)\n",
    "#     iqr = quantile_75 - quantile_25\n",
    "#     iqr_weight = iqr * weight\n",
    "#     lowest_val = quantile_25 - iqr_weight\n",
    "#     highest_val = quantile_75 + iqr_weight\n",
    "#     outlier_index = target[(target < lowest_val) | (target > highest_val)].index\n",
    "#     return outlier_index\n",
    "    "
   ]
  },
  {
   "cell_type": "code",
   "execution_count": 1183,
   "id": "3c061ab6",
   "metadata": {},
   "outputs": [],
   "source": [
    "# get_outlier(test, \"CO\")"
   ]
  },
  {
   "cell_type": "code",
   "execution_count": 1184,
   "id": "b2955c19",
   "metadata": {},
   "outputs": [],
   "source": [
    "# 이상치칼럼 = []\n",
    "# for target1 in train.columns:\n",
    "# #     print(target1)\n",
    "#     huddle = 0.3  # 허들이상의 상관관계를 가진 칼럼에 대해서만 이상치 드랍\n",
    "    \n",
    "#     if target1 not in not_number_features and ((df_corr1.loc[[target1]].values[0][0] >= huddle) or (df_corr1.loc[[target1]].values[0][0] <= (huddle*-1))):\n",
    "#         print(target1)\n",
    "#         이상치칼럼.append(target1)\n",
    "        \n",
    "#         outlier_index = get_outlier(train, target1)\n",
    "#         print(f\"드랍대상 아웃라이어 인덱스 갯수 : {len(outlier_index)}\")\n",
    "        \n",
    "#         train.drop(index=outlier_index, inplace=True)\n",
    "\n",
    "#     else:\n",
    "#         pass\n",
    "    \n",
    "# print(이상치칼럼)"
   ]
  },
  {
   "cell_type": "code",
   "execution_count": 1185,
   "id": "efec8218",
   "metadata": {},
   "outputs": [],
   "source": [
    "# train.describe()"
   ]
  },
  {
   "cell_type": "code",
   "execution_count": 1186,
   "id": "db97ae38",
   "metadata": {},
   "outputs": [],
   "source": [
    "# test.describe()"
   ]
  },
  {
   "cell_type": "code",
   "execution_count": 1187,
   "id": "cd82efa5",
   "metadata": {},
   "outputs": [],
   "source": [
    "# if target1 in 이상치칼럼 :\n",
    "#     print(target1)\n",
    "#     outlier_index2 = get_outlier(test, target1)\n",
    "#     print(f\"드랍대상 아웃라이어 인덱스 갯수 : {len(outlier_index2)}\")\n",
    "\n",
    "#     test.drop(index=outlier_index, inplace=True)\n",
    "# else:\n",
    "#     pass"
   ]
  },
  {
   "cell_type": "markdown",
   "id": "34d27220",
   "metadata": {},
   "source": [
    "### train, val 데이터셋 분리"
   ]
  },
  {
   "cell_type": "code",
   "execution_count": 1188,
   "id": "381106d9",
   "metadata": {},
   "outputs": [],
   "source": [
    "all_X = train.drop(['Y_LABEL'], axis = 1)\n",
    "all_y = train['Y_LABEL']\n",
    "# test = test.drop(['ID'], axis = 1)\n",
    "train_X, val_X, train_y, val_y = train_test_split(all_X, all_y, test_size=0.2, random_state=CFG['SEED'], stratify=all_y)"
   ]
  },
  {
   "cell_type": "code",
   "execution_count": 1189,
   "id": "67c88b9f",
   "metadata": {},
   "outputs": [
    {
     "data": {
      "text/html": [
       "<div>\n",
       "<style scoped>\n",
       "    .dataframe tbody tr th:only-of-type {\n",
       "        vertical-align: middle;\n",
       "    }\n",
       "\n",
       "    .dataframe tbody tr th {\n",
       "        vertical-align: top;\n",
       "    }\n",
       "\n",
       "    .dataframe thead th {\n",
       "        text-align: right;\n",
       "    }\n",
       "</style>\n",
       "<table border=\"1\" class=\"dataframe\">\n",
       "  <thead>\n",
       "    <tr style=\"text-align: right;\">\n",
       "      <th></th>\n",
       "      <th>COMPONENT_ARBITRARY</th>\n",
       "      <th>ANONYMOUS_1</th>\n",
       "      <th>YEAR</th>\n",
       "      <th>ANONYMOUS_2</th>\n",
       "      <th>AG</th>\n",
       "      <th>AL</th>\n",
       "      <th>B</th>\n",
       "      <th>BA</th>\n",
       "      <th>BE</th>\n",
       "      <th>CA</th>\n",
       "      <th>...</th>\n",
       "      <th>TI</th>\n",
       "      <th>U100</th>\n",
       "      <th>U75</th>\n",
       "      <th>U50</th>\n",
       "      <th>U14</th>\n",
       "      <th>U6</th>\n",
       "      <th>U4</th>\n",
       "      <th>V</th>\n",
       "      <th>V40</th>\n",
       "      <th>ZN</th>\n",
       "    </tr>\n",
       "  </thead>\n",
       "  <tbody>\n",
       "    <tr>\n",
       "      <th>3283</th>\n",
       "      <td>COMPONENT2</td>\n",
       "      <td>7.228388</td>\n",
       "      <td>2009</td>\n",
       "      <td>6.311735</td>\n",
       "      <td>0.0</td>\n",
       "      <td>0.693147</td>\n",
       "      <td>0.693147</td>\n",
       "      <td>0.0</td>\n",
       "      <td>0.0</td>\n",
       "      <td>2659</td>\n",
       "      <td>...</td>\n",
       "      <td>0.0</td>\n",
       "      <td>0.0</td>\n",
       "      <td>0.0</td>\n",
       "      <td>0.0</td>\n",
       "      <td>2.833213</td>\n",
       "      <td>6.682109</td>\n",
       "      <td>9.617471</td>\n",
       "      <td>0.0</td>\n",
       "      <td>3.790985</td>\n",
       "      <td>590</td>\n",
       "    </tr>\n",
       "    <tr>\n",
       "      <th>9759</th>\n",
       "      <td>COMPONENT3</td>\n",
       "      <td>7.606387</td>\n",
       "      <td>2012</td>\n",
       "      <td>5.303305</td>\n",
       "      <td>0.0</td>\n",
       "      <td>0.693147</td>\n",
       "      <td>5.247024</td>\n",
       "      <td>0.0</td>\n",
       "      <td>0.0</td>\n",
       "      <td>4</td>\n",
       "      <td>...</td>\n",
       "      <td>0.0</td>\n",
       "      <td>0.0</td>\n",
       "      <td>0.0</td>\n",
       "      <td>0.0</td>\n",
       "      <td>2.708050</td>\n",
       "      <td>5.707110</td>\n",
       "      <td>8.823206</td>\n",
       "      <td>0.0</td>\n",
       "      <td>4.987025</td>\n",
       "      <td>20</td>\n",
       "    </tr>\n",
       "  </tbody>\n",
       "</table>\n",
       "<p>2 rows × 45 columns</p>\n",
       "</div>"
      ],
      "text/plain": [
       "     COMPONENT_ARBITRARY  ANONYMOUS_1  YEAR  ANONYMOUS_2   AG        AL  \\\n",
       "3283          COMPONENT2     7.228388  2009     6.311735  0.0  0.693147   \n",
       "9759          COMPONENT3     7.606387  2012     5.303305  0.0  0.693147   \n",
       "\n",
       "             B   BA   BE    CA  ...   TI  U100  U75  U50       U14        U6  \\\n",
       "3283  0.693147  0.0  0.0  2659  ...  0.0   0.0  0.0  0.0  2.833213  6.682109   \n",
       "9759  5.247024  0.0  0.0     4  ...  0.0   0.0  0.0  0.0  2.708050  5.707110   \n",
       "\n",
       "            U4    V       V40   ZN  \n",
       "3283  9.617471  0.0  3.790985  590  \n",
       "9759  8.823206  0.0  4.987025   20  \n",
       "\n",
       "[2 rows x 45 columns]"
      ]
     },
     "execution_count": 1189,
     "metadata": {},
     "output_type": "execute_result"
    }
   ],
   "source": [
    "train_X.head(2)"
   ]
  },
  {
   "cell_type": "code",
   "execution_count": 1190,
   "id": "a33a9597",
   "metadata": {},
   "outputs": [
    {
     "data": {
      "text/html": [
       "<div>\n",
       "<style scoped>\n",
       "    .dataframe tbody tr th:only-of-type {\n",
       "        vertical-align: middle;\n",
       "    }\n",
       "\n",
       "    .dataframe tbody tr th {\n",
       "        vertical-align: top;\n",
       "    }\n",
       "\n",
       "    .dataframe thead th {\n",
       "        text-align: right;\n",
       "    }\n",
       "</style>\n",
       "<table border=\"1\" class=\"dataframe\">\n",
       "  <thead>\n",
       "    <tr style=\"text-align: right;\">\n",
       "      <th></th>\n",
       "      <th>COMPONENT_ARBITRARY</th>\n",
       "      <th>ANONYMOUS_1</th>\n",
       "      <th>YEAR</th>\n",
       "      <th>ANONYMOUS_2</th>\n",
       "      <th>AG</th>\n",
       "      <th>AL</th>\n",
       "      <th>B</th>\n",
       "      <th>BA</th>\n",
       "      <th>BE</th>\n",
       "      <th>CA</th>\n",
       "      <th>...</th>\n",
       "      <th>TI</th>\n",
       "      <th>U100</th>\n",
       "      <th>U75</th>\n",
       "      <th>U50</th>\n",
       "      <th>U14</th>\n",
       "      <th>U6</th>\n",
       "      <th>U4</th>\n",
       "      <th>V</th>\n",
       "      <th>V40</th>\n",
       "      <th>ZN</th>\n",
       "    </tr>\n",
       "  </thead>\n",
       "  <tbody>\n",
       "    <tr>\n",
       "      <th>4427</th>\n",
       "      <td>COMPONENT3</td>\n",
       "      <td>7.731053</td>\n",
       "      <td>2014</td>\n",
       "      <td>5.303305</td>\n",
       "      <td>0.0</td>\n",
       "      <td>1.609438</td>\n",
       "      <td>4.969813</td>\n",
       "      <td>0.0</td>\n",
       "      <td>0.0</td>\n",
       "      <td>2883</td>\n",
       "      <td>...</td>\n",
       "      <td>0.0</td>\n",
       "      <td>0.0</td>\n",
       "      <td>0.0</td>\n",
       "      <td>0.0</td>\n",
       "      <td>2.70805</td>\n",
       "      <td>5.70711</td>\n",
       "      <td>8.823206</td>\n",
       "      <td>0.0</td>\n",
       "      <td>4.888844</td>\n",
       "      <td>43</td>\n",
       "    </tr>\n",
       "    <tr>\n",
       "      <th>2055</th>\n",
       "      <td>COMPONENT1</td>\n",
       "      <td>8.037220</td>\n",
       "      <td>2019</td>\n",
       "      <td>5.303305</td>\n",
       "      <td>0.0</td>\n",
       "      <td>1.098612</td>\n",
       "      <td>1.791759</td>\n",
       "      <td>0.0</td>\n",
       "      <td>0.0</td>\n",
       "      <td>82</td>\n",
       "      <td>...</td>\n",
       "      <td>0.0</td>\n",
       "      <td>0.0</td>\n",
       "      <td>0.0</td>\n",
       "      <td>0.0</td>\n",
       "      <td>2.70805</td>\n",
       "      <td>5.70711</td>\n",
       "      <td>8.823206</td>\n",
       "      <td>0.0</td>\n",
       "      <td>4.587006</td>\n",
       "      <td>1030</td>\n",
       "    </tr>\n",
       "  </tbody>\n",
       "</table>\n",
       "<p>2 rows × 45 columns</p>\n",
       "</div>"
      ],
      "text/plain": [
       "     COMPONENT_ARBITRARY  ANONYMOUS_1  YEAR  ANONYMOUS_2   AG        AL  \\\n",
       "4427          COMPONENT3     7.731053  2014     5.303305  0.0  1.609438   \n",
       "2055          COMPONENT1     8.037220  2019     5.303305  0.0  1.098612   \n",
       "\n",
       "             B   BA   BE    CA  ...   TI  U100  U75  U50      U14       U6  \\\n",
       "4427  4.969813  0.0  0.0  2883  ...  0.0   0.0  0.0  0.0  2.70805  5.70711   \n",
       "2055  1.791759  0.0  0.0    82  ...  0.0   0.0  0.0  0.0  2.70805  5.70711   \n",
       "\n",
       "            U4    V       V40    ZN  \n",
       "4427  8.823206  0.0  4.888844    43  \n",
       "2055  8.823206  0.0  4.587006  1030  \n",
       "\n",
       "[2 rows x 45 columns]"
      ]
     },
     "execution_count": 1190,
     "metadata": {},
     "output_type": "execute_result"
    }
   ],
   "source": [
    "val_X.head(2)"
   ]
  },
  {
   "cell_type": "markdown",
   "id": "61216472",
   "metadata": {},
   "source": [
    "### Scaling"
   ]
  },
  {
   "cell_type": "code",
   "execution_count": 1191,
   "id": "fa894923",
   "metadata": {},
   "outputs": [],
   "source": [
    "categorical_features = ['COMPONENT_ARBITRARY', 'YEAR']"
   ]
  },
  {
   "cell_type": "code",
   "execution_count": 1192,
   "id": "ac7a8747",
   "metadata": {},
   "outputs": [
    {
     "data": {
      "text/plain": [
       "<AxesSubplot:>"
      ]
     },
     "execution_count": 1192,
     "metadata": {},
     "output_type": "execute_result"
    },
    {
     "data": {
      "image/png": "[encoded data removed]",
      "text/plain": [
       "<Figure size 432x288 with 1 Axes>"
      ]
     },
     "metadata": {
      "needs_background": "light"
     },
     "output_type": "display_data"
    }
   ],
   "source": [
    "sns.boxplot(data=train_X['AL'])"
   ]
  },
  {
   "cell_type": "code",
   "execution_count": 1193,
   "id": "ddc2df5c",
   "metadata": {},
   "outputs": [
    {
     "data": {
      "text/html": [
       "<div>\n",
       "<style scoped>\n",
       "    .dataframe tbody tr th:only-of-type {\n",
       "        vertical-align: middle;\n",
       "    }\n",
       "\n",
       "    .dataframe tbody tr th {\n",
       "        vertical-align: top;\n",
       "    }\n",
       "\n",
       "    .dataframe thead th {\n",
       "        text-align: right;\n",
       "    }\n",
       "</style>\n",
       "<table border=\"1\" class=\"dataframe\">\n",
       "  <thead>\n",
       "    <tr style=\"text-align: right;\">\n",
       "      <th></th>\n",
       "      <th>COMPONENT_ARBITRARY</th>\n",
       "      <th>ANONYMOUS_1</th>\n",
       "      <th>YEAR</th>\n",
       "      <th>ANONYMOUS_2</th>\n",
       "      <th>AG</th>\n",
       "      <th>AL</th>\n",
       "      <th>B</th>\n",
       "      <th>BA</th>\n",
       "      <th>BE</th>\n",
       "      <th>CA</th>\n",
       "      <th>...</th>\n",
       "      <th>TI</th>\n",
       "      <th>U100</th>\n",
       "      <th>U75</th>\n",
       "      <th>U50</th>\n",
       "      <th>U14</th>\n",
       "      <th>U6</th>\n",
       "      <th>U4</th>\n",
       "      <th>V</th>\n",
       "      <th>V40</th>\n",
       "      <th>ZN</th>\n",
       "    </tr>\n",
       "  </thead>\n",
       "  <tbody>\n",
       "    <tr>\n",
       "      <th>3283</th>\n",
       "      <td>COMPONENT2</td>\n",
       "      <td>-1.039696</td>\n",
       "      <td>2009</td>\n",
       "      <td>1.023002</td>\n",
       "      <td>-0.15266</td>\n",
       "      <td>-0.484882</td>\n",
       "      <td>-1.143728</td>\n",
       "      <td>-0.496427</td>\n",
       "      <td>-0.057006</td>\n",
       "      <td>0.873662</td>\n",
       "      <td>...</td>\n",
       "      <td>-0.263482</td>\n",
       "      <td>-0.107018</td>\n",
       "      <td>-0.15046</td>\n",
       "      <td>-0.257137</td>\n",
       "      <td>-0.130332</td>\n",
       "      <td>0.808067</td>\n",
       "      <td>1.575775</td>\n",
       "      <td>-0.151679</td>\n",
       "      <td>-1.968484</td>\n",
       "      <td>0.004244</td>\n",
       "    </tr>\n",
       "    <tr>\n",
       "      <th>9759</th>\n",
       "      <td>COMPONENT3</td>\n",
       "      <td>-0.393077</td>\n",
       "      <td>2012</td>\n",
       "      <td>-0.622343</td>\n",
       "      <td>-0.15266</td>\n",
       "      <td>-0.484882</td>\n",
       "      <td>1.351240</td>\n",
       "      <td>-0.496427</td>\n",
       "      <td>-0.057006</td>\n",
       "      <td>-0.917564</td>\n",
       "      <td>...</td>\n",
       "      <td>-0.263482</td>\n",
       "      <td>-0.107018</td>\n",
       "      <td>-0.15046</td>\n",
       "      <td>-0.257137</td>\n",
       "      <td>-0.287282</td>\n",
       "      <td>-0.315498</td>\n",
       "      <td>-0.148223</td>\n",
       "      <td>-0.151679</td>\n",
       "      <td>0.874044</td>\n",
       "      <td>-1.068013</td>\n",
       "    </tr>\n",
       "  </tbody>\n",
       "</table>\n",
       "<p>2 rows × 45 columns</p>\n",
       "</div>"
      ],
      "text/plain": [
       "     COMPONENT_ARBITRARY  ANONYMOUS_1  YEAR  ANONYMOUS_2       AG        AL  \\\n",
       "3283          COMPONENT2    -1.039696  2009     1.023002 -0.15266 -0.484882   \n",
       "9759          COMPONENT3    -0.393077  2012    -0.622343 -0.15266 -0.484882   \n",
       "\n",
       "             B        BA        BE        CA  ...        TI      U100  \\\n",
       "3283 -1.143728 -0.496427 -0.057006  0.873662  ... -0.263482 -0.107018   \n",
       "9759  1.351240 -0.496427 -0.057006 -0.917564  ... -0.263482 -0.107018   \n",
       "\n",
       "          U75       U50       U14        U6        U4         V       V40  \\\n",
       "3283 -0.15046 -0.257137 -0.130332  0.808067  1.575775 -0.151679 -1.968484   \n",
       "9759 -0.15046 -0.257137 -0.287282 -0.315498 -0.148223 -0.151679  0.874044   \n",
       "\n",
       "            ZN  \n",
       "3283  0.004244  \n",
       "9759 -1.068013  \n",
       "\n",
       "[2 rows x 45 columns]"
      ]
     },
     "execution_count": 1193,
     "metadata": {},
     "output_type": "execute_result"
    }
   ],
   "source": [
    "def get_values(value):\n",
    "    return value.values.reshape(-1, 1)\n",
    "\n",
    "for col in train_X.columns:\n",
    "    if col not in categorical_features:   # 범주형 칼럼이 아니라면 표준화\n",
    "        scaler = StandardScaler()\n",
    "        train_X[col] = scaler.fit_transform(get_values(train_X[col]))\n",
    "        val_X[col] = scaler.transform(get_values(val_X[col]))\n",
    "        if col in test.columns:\n",
    "            test[col] = scaler.transform(get_values(test[col]))\n",
    "            \n",
    "train_X.head(2)"
   ]
  },
  {
   "cell_type": "code",
   "execution_count": 1194,
   "id": "976a435b",
   "metadata": {},
   "outputs": [],
   "source": [
    "# target = \"AL\"\n",
    "# 정상 = train_X[train_X[\"Y_LABEL\"] == 0][target]\n",
    "# 이상= train_X[train_X[\"Y_LABEL\"] == 1][target]\n",
    "# 정상 = pd.DataFrame(정상)\n",
    "# plt.figure(figsize = (12,6))\n",
    "# sns.distplot(정상,bins = 15, color=\"red\")\n",
    "# sns.distplot(이상,bins = 15, color=\"green\")"
   ]
  },
  {
   "cell_type": "code",
   "execution_count": 1195,
   "id": "ac2420d3",
   "metadata": {},
   "outputs": [
    {
     "data": {
      "text/plain": [
       "<AxesSubplot:>"
      ]
     },
     "execution_count": 1195,
     "metadata": {},
     "output_type": "execute_result"
    },
    {
     "data": {
      "image/png": "[encoded data removed]",
      "text/plain": [
       "<Figure size 432x288 with 1 Axes>"
      ]
     },
     "metadata": {
      "needs_background": "light"
     },
     "output_type": "display_data"
    }
   ],
   "source": [
    "sns.boxplot(data=train_X['AL'])"
   ]
  },
  {
   "cell_type": "markdown",
   "id": "aceb9d17",
   "metadata": {},
   "source": [
    "### OneHotEncoding for Categorical Data"
   ]
  },
  {
   "cell_type": "code",
   "execution_count": 1196,
   "id": "f96688d5",
   "metadata": {},
   "outputs": [],
   "source": [
    "def onehot_encode(df, target_list):\n",
    "    ct = ColumnTransformer(transformers=[('encoder', OneHotEncoder(drop='first', sparse=False), [0, 2])], remainder='passthrough')\n",
    "    df = ct.fit_transform(df)\n",
    "    df = pd.DataFrame(df)\n",
    "    new_name = ct.get_feature_names()\n",
    "    df.columns = new_name\n",
    "    return df"
   ]
  },
  {
   "cell_type": "code",
   "execution_count": 1197,
   "id": "23f9b0ed",
   "metadata": {
    "scrolled": true
   },
   "outputs": [
    {
     "data": {
      "text/html": [
       "<div>\n",
       "<style scoped>\n",
       "    .dataframe tbody tr th:only-of-type {\n",
       "        vertical-align: middle;\n",
       "    }\n",
       "\n",
       "    .dataframe tbody tr th {\n",
       "        vertical-align: top;\n",
       "    }\n",
       "\n",
       "    .dataframe thead th {\n",
       "        text-align: right;\n",
       "    }\n",
       "</style>\n",
       "<table border=\"1\" class=\"dataframe\">\n",
       "  <thead>\n",
       "    <tr style=\"text-align: right;\">\n",
       "      <th></th>\n",
       "      <th>encoder__x0_COMPONENT2</th>\n",
       "      <th>encoder__x0_COMPONENT3</th>\n",
       "      <th>encoder__x0_COMPONENT4</th>\n",
       "      <th>encoder__x1_2008</th>\n",
       "      <th>encoder__x1_2009</th>\n",
       "      <th>encoder__x1_2010</th>\n",
       "      <th>encoder__x1_2011</th>\n",
       "      <th>encoder__x1_2012</th>\n",
       "      <th>encoder__x1_2013</th>\n",
       "      <th>encoder__x1_2014</th>\n",
       "      <th>...</th>\n",
       "      <th>TI</th>\n",
       "      <th>U100</th>\n",
       "      <th>U75</th>\n",
       "      <th>U50</th>\n",
       "      <th>U14</th>\n",
       "      <th>U6</th>\n",
       "      <th>U4</th>\n",
       "      <th>V</th>\n",
       "      <th>V40</th>\n",
       "      <th>ZN</th>\n",
       "    </tr>\n",
       "  </thead>\n",
       "  <tbody>\n",
       "    <tr>\n",
       "      <th>0</th>\n",
       "      <td>1.0</td>\n",
       "      <td>0.0</td>\n",
       "      <td>0.0</td>\n",
       "      <td>0.0</td>\n",
       "      <td>1.0</td>\n",
       "      <td>0.0</td>\n",
       "      <td>0.0</td>\n",
       "      <td>0.0</td>\n",
       "      <td>0.0</td>\n",
       "      <td>0.0</td>\n",
       "      <td>...</td>\n",
       "      <td>-0.263482</td>\n",
       "      <td>-0.107018</td>\n",
       "      <td>-0.150460</td>\n",
       "      <td>-0.257137</td>\n",
       "      <td>-0.130332</td>\n",
       "      <td>0.808067</td>\n",
       "      <td>1.575775</td>\n",
       "      <td>-0.151679</td>\n",
       "      <td>-1.968484</td>\n",
       "      <td>0.004244</td>\n",
       "    </tr>\n",
       "    <tr>\n",
       "      <th>1</th>\n",
       "      <td>0.0</td>\n",
       "      <td>1.0</td>\n",
       "      <td>0.0</td>\n",
       "      <td>0.0</td>\n",
       "      <td>0.0</td>\n",
       "      <td>0.0</td>\n",
       "      <td>0.0</td>\n",
       "      <td>1.0</td>\n",
       "      <td>0.0</td>\n",
       "      <td>0.0</td>\n",
       "      <td>...</td>\n",
       "      <td>-0.263482</td>\n",
       "      <td>-0.107018</td>\n",
       "      <td>-0.150460</td>\n",
       "      <td>-0.257137</td>\n",
       "      <td>-0.287282</td>\n",
       "      <td>-0.315498</td>\n",
       "      <td>-0.148223</td>\n",
       "      <td>-0.151679</td>\n",
       "      <td>0.874044</td>\n",
       "      <td>-1.068013</td>\n",
       "    </tr>\n",
       "    <tr>\n",
       "      <th>2</th>\n",
       "      <td>0.0</td>\n",
       "      <td>1.0</td>\n",
       "      <td>0.0</td>\n",
       "      <td>0.0</td>\n",
       "      <td>0.0</td>\n",
       "      <td>0.0</td>\n",
       "      <td>1.0</td>\n",
       "      <td>0.0</td>\n",
       "      <td>0.0</td>\n",
       "      <td>0.0</td>\n",
       "      <td>...</td>\n",
       "      <td>-0.263482</td>\n",
       "      <td>-0.107018</td>\n",
       "      <td>-0.150460</td>\n",
       "      <td>-0.257137</td>\n",
       "      <td>-0.287282</td>\n",
       "      <td>-0.315498</td>\n",
       "      <td>-0.148223</td>\n",
       "      <td>-0.151679</td>\n",
       "      <td>0.692045</td>\n",
       "      <td>-0.949500</td>\n",
       "    </tr>\n",
       "    <tr>\n",
       "      <th>3</th>\n",
       "      <td>0.0</td>\n",
       "      <td>0.0</td>\n",
       "      <td>0.0</td>\n",
       "      <td>1.0</td>\n",
       "      <td>0.0</td>\n",
       "      <td>0.0</td>\n",
       "      <td>0.0</td>\n",
       "      <td>0.0</td>\n",
       "      <td>0.0</td>\n",
       "      <td>0.0</td>\n",
       "      <td>...</td>\n",
       "      <td>-0.263482</td>\n",
       "      <td>-0.107018</td>\n",
       "      <td>-0.150460</td>\n",
       "      <td>-0.257137</td>\n",
       "      <td>-0.287282</td>\n",
       "      <td>-0.315498</td>\n",
       "      <td>-0.148223</td>\n",
       "      <td>-0.151679</td>\n",
       "      <td>0.223093</td>\n",
       "      <td>1.507285</td>\n",
       "    </tr>\n",
       "    <tr>\n",
       "      <th>4</th>\n",
       "      <td>0.0</td>\n",
       "      <td>1.0</td>\n",
       "      <td>0.0</td>\n",
       "      <td>0.0</td>\n",
       "      <td>0.0</td>\n",
       "      <td>0.0</td>\n",
       "      <td>0.0</td>\n",
       "      <td>0.0</td>\n",
       "      <td>0.0</td>\n",
       "      <td>0.0</td>\n",
       "      <td>...</td>\n",
       "      <td>-0.263482</td>\n",
       "      <td>-0.107018</td>\n",
       "      <td>-0.150460</td>\n",
       "      <td>-0.257137</td>\n",
       "      <td>-0.287282</td>\n",
       "      <td>-0.315498</td>\n",
       "      <td>-0.148223</td>\n",
       "      <td>-0.151679</td>\n",
       "      <td>0.020564</td>\n",
       "      <td>0.877099</td>\n",
       "    </tr>\n",
       "    <tr>\n",
       "      <th>...</th>\n",
       "      <td>...</td>\n",
       "      <td>...</td>\n",
       "      <td>...</td>\n",
       "      <td>...</td>\n",
       "      <td>...</td>\n",
       "      <td>...</td>\n",
       "      <td>...</td>\n",
       "      <td>...</td>\n",
       "      <td>...</td>\n",
       "      <td>...</td>\n",
       "      <td>...</td>\n",
       "      <td>...</td>\n",
       "      <td>...</td>\n",
       "      <td>...</td>\n",
       "      <td>...</td>\n",
       "      <td>...</td>\n",
       "      <td>...</td>\n",
       "      <td>...</td>\n",
       "      <td>...</td>\n",
       "      <td>...</td>\n",
       "      <td>...</td>\n",
       "    </tr>\n",
       "    <tr>\n",
       "      <th>11271</th>\n",
       "      <td>1.0</td>\n",
       "      <td>0.0</td>\n",
       "      <td>0.0</td>\n",
       "      <td>0.0</td>\n",
       "      <td>0.0</td>\n",
       "      <td>0.0</td>\n",
       "      <td>0.0</td>\n",
       "      <td>0.0</td>\n",
       "      <td>0.0</td>\n",
       "      <td>0.0</td>\n",
       "      <td>...</td>\n",
       "      <td>-0.263482</td>\n",
       "      <td>-0.107018</td>\n",
       "      <td>3.452072</td>\n",
       "      <td>4.900431</td>\n",
       "      <td>1.763901</td>\n",
       "      <td>0.500369</td>\n",
       "      <td>-2.083412</td>\n",
       "      <td>-0.151679</td>\n",
       "      <td>-1.947121</td>\n",
       "      <td>-0.336244</td>\n",
       "    </tr>\n",
       "    <tr>\n",
       "      <th>11272</th>\n",
       "      <td>0.0</td>\n",
       "      <td>1.0</td>\n",
       "      <td>0.0</td>\n",
       "      <td>0.0</td>\n",
       "      <td>0.0</td>\n",
       "      <td>0.0</td>\n",
       "      <td>1.0</td>\n",
       "      <td>0.0</td>\n",
       "      <td>0.0</td>\n",
       "      <td>0.0</td>\n",
       "      <td>...</td>\n",
       "      <td>-0.263482</td>\n",
       "      <td>-0.107018</td>\n",
       "      <td>-0.150460</td>\n",
       "      <td>-0.257137</td>\n",
       "      <td>-0.287282</td>\n",
       "      <td>-0.315498</td>\n",
       "      <td>-0.148223</td>\n",
       "      <td>-0.151679</td>\n",
       "      <td>1.587577</td>\n",
       "      <td>-1.068013</td>\n",
       "    </tr>\n",
       "    <tr>\n",
       "      <th>11273</th>\n",
       "      <td>0.0</td>\n",
       "      <td>1.0</td>\n",
       "      <td>0.0</td>\n",
       "      <td>0.0</td>\n",
       "      <td>0.0</td>\n",
       "      <td>0.0</td>\n",
       "      <td>1.0</td>\n",
       "      <td>0.0</td>\n",
       "      <td>0.0</td>\n",
       "      <td>0.0</td>\n",
       "      <td>...</td>\n",
       "      <td>-0.263482</td>\n",
       "      <td>-0.107018</td>\n",
       "      <td>-0.150460</td>\n",
       "      <td>-0.257137</td>\n",
       "      <td>-0.287282</td>\n",
       "      <td>-0.315498</td>\n",
       "      <td>-0.148223</td>\n",
       "      <td>-0.151679</td>\n",
       "      <td>0.508228</td>\n",
       "      <td>-1.075537</td>\n",
       "    </tr>\n",
       "    <tr>\n",
       "      <th>11274</th>\n",
       "      <td>0.0</td>\n",
       "      <td>1.0</td>\n",
       "      <td>0.0</td>\n",
       "      <td>0.0</td>\n",
       "      <td>0.0</td>\n",
       "      <td>0.0</td>\n",
       "      <td>0.0</td>\n",
       "      <td>0.0</td>\n",
       "      <td>0.0</td>\n",
       "      <td>0.0</td>\n",
       "      <td>...</td>\n",
       "      <td>-0.263482</td>\n",
       "      <td>-0.107018</td>\n",
       "      <td>-0.150460</td>\n",
       "      <td>-0.257137</td>\n",
       "      <td>-0.287282</td>\n",
       "      <td>-0.315498</td>\n",
       "      <td>-0.148223</td>\n",
       "      <td>-0.151679</td>\n",
       "      <td>1.226221</td>\n",
       "      <td>-0.721881</td>\n",
       "    </tr>\n",
       "    <tr>\n",
       "      <th>11275</th>\n",
       "      <td>0.0</td>\n",
       "      <td>0.0</td>\n",
       "      <td>0.0</td>\n",
       "      <td>0.0</td>\n",
       "      <td>0.0</td>\n",
       "      <td>0.0</td>\n",
       "      <td>0.0</td>\n",
       "      <td>0.0</td>\n",
       "      <td>0.0</td>\n",
       "      <td>0.0</td>\n",
       "      <td>...</td>\n",
       "      <td>-0.263482</td>\n",
       "      <td>-0.107018</td>\n",
       "      <td>-0.150460</td>\n",
       "      <td>-0.257137</td>\n",
       "      <td>-0.287282</td>\n",
       "      <td>-0.315498</td>\n",
       "      <td>-0.148223</td>\n",
       "      <td>-0.151679</td>\n",
       "      <td>0.173511</td>\n",
       "      <td>1.172440</td>\n",
       "    </tr>\n",
       "  </tbody>\n",
       "</table>\n",
       "<p>11276 rows × 61 columns</p>\n",
       "</div>"
      ],
      "text/plain": [
       "       encoder__x0_COMPONENT2  encoder__x0_COMPONENT3  encoder__x0_COMPONENT4  \\\n",
       "0                         1.0                     0.0                     0.0   \n",
       "1                         0.0                     1.0                     0.0   \n",
       "2                         0.0                     1.0                     0.0   \n",
       "3                         0.0                     0.0                     0.0   \n",
       "4                         0.0                     1.0                     0.0   \n",
       "...                       ...                     ...                     ...   \n",
       "11271                     1.0                     0.0                     0.0   \n",
       "11272                     0.0                     1.0                     0.0   \n",
       "11273                     0.0                     1.0                     0.0   \n",
       "11274                     0.0                     1.0                     0.0   \n",
       "11275                     0.0                     0.0                     0.0   \n",
       "\n",
       "       encoder__x1_2008  encoder__x1_2009  encoder__x1_2010  encoder__x1_2011  \\\n",
       "0                   0.0               1.0               0.0               0.0   \n",
       "1                   0.0               0.0               0.0               0.0   \n",
       "2                   0.0               0.0               0.0               1.0   \n",
       "3                   1.0               0.0               0.0               0.0   \n",
       "4                   0.0               0.0               0.0               0.0   \n",
       "...                 ...               ...               ...               ...   \n",
       "11271               0.0               0.0               0.0               0.0   \n",
       "11272               0.0               0.0               0.0               1.0   \n",
       "11273               0.0               0.0               0.0               1.0   \n",
       "11274               0.0               0.0               0.0               0.0   \n",
       "11275               0.0               0.0               0.0               0.0   \n",
       "\n",
       "       encoder__x1_2012  encoder__x1_2013  encoder__x1_2014  ...        TI  \\\n",
       "0                   0.0               0.0               0.0  ... -0.263482   \n",
       "1                   1.0               0.0               0.0  ... -0.263482   \n",
       "2                   0.0               0.0               0.0  ... -0.263482   \n",
       "3                   0.0               0.0               0.0  ... -0.263482   \n",
       "4                   0.0               0.0               0.0  ... -0.263482   \n",
       "...                 ...               ...               ...  ...       ...   \n",
       "11271               0.0               0.0               0.0  ... -0.263482   \n",
       "11272               0.0               0.0               0.0  ... -0.263482   \n",
       "11273               0.0               0.0               0.0  ... -0.263482   \n",
       "11274               0.0               0.0               0.0  ... -0.263482   \n",
       "11275               0.0               0.0               0.0  ... -0.263482   \n",
       "\n",
       "           U100       U75       U50       U14        U6        U4         V  \\\n",
       "0     -0.107018 -0.150460 -0.257137 -0.130332  0.808067  1.575775 -0.151679   \n",
       "1     -0.107018 -0.150460 -0.257137 -0.287282 -0.315498 -0.148223 -0.151679   \n",
       "2     -0.107018 -0.150460 -0.257137 -0.287282 -0.315498 -0.148223 -0.151679   \n",
       "3     -0.107018 -0.150460 -0.257137 -0.287282 -0.315498 -0.148223 -0.151679   \n",
       "4     -0.107018 -0.150460 -0.257137 -0.287282 -0.315498 -0.148223 -0.151679   \n",
       "...         ...       ...       ...       ...       ...       ...       ...   \n",
       "11271 -0.107018  3.452072  4.900431  1.763901  0.500369 -2.083412 -0.151679   \n",
       "11272 -0.107018 -0.150460 -0.257137 -0.287282 -0.315498 -0.148223 -0.151679   \n",
       "11273 -0.107018 -0.150460 -0.257137 -0.287282 -0.315498 -0.148223 -0.151679   \n",
       "11274 -0.107018 -0.150460 -0.257137 -0.287282 -0.315498 -0.148223 -0.151679   \n",
       "11275 -0.107018 -0.150460 -0.257137 -0.287282 -0.315498 -0.148223 -0.151679   \n",
       "\n",
       "            V40        ZN  \n",
       "0     -1.968484  0.004244  \n",
       "1      0.874044 -1.068013  \n",
       "2      0.692045 -0.949500  \n",
       "3      0.223093  1.507285  \n",
       "4      0.020564  0.877099  \n",
       "...         ...       ...  \n",
       "11271 -1.947121 -0.336244  \n",
       "11272  1.587577 -1.068013  \n",
       "11273  0.508228 -1.075537  \n",
       "11274  1.226221 -0.721881  \n",
       "11275  0.173511  1.172440  \n",
       "\n",
       "[11276 rows x 61 columns]"
      ]
     },
     "execution_count": 1197,
     "metadata": {},
     "output_type": "execute_result"
    }
   ],
   "source": [
    "train_X = onehot_encode(train_X, [0,2])\n",
    "train_X"
   ]
  },
  {
   "cell_type": "code",
   "execution_count": 1198,
   "id": "ccbd786b",
   "metadata": {},
   "outputs": [
    {
     "data": {
      "text/html": [
       "<div>\n",
       "<style scoped>\n",
       "    .dataframe tbody tr th:only-of-type {\n",
       "        vertical-align: middle;\n",
       "    }\n",
       "\n",
       "    .dataframe tbody tr th {\n",
       "        vertical-align: top;\n",
       "    }\n",
       "\n",
       "    .dataframe thead th {\n",
       "        text-align: right;\n",
       "    }\n",
       "</style>\n",
       "<table border=\"1\" class=\"dataframe\">\n",
       "  <thead>\n",
       "    <tr style=\"text-align: right;\">\n",
       "      <th></th>\n",
       "      <th>encoder__x0_COMPONENT2</th>\n",
       "      <th>encoder__x0_COMPONENT3</th>\n",
       "      <th>encoder__x0_COMPONENT4</th>\n",
       "      <th>encoder__x1_2008</th>\n",
       "      <th>encoder__x1_2009</th>\n",
       "      <th>encoder__x1_2010</th>\n",
       "      <th>encoder__x1_2011</th>\n",
       "      <th>encoder__x1_2012</th>\n",
       "      <th>encoder__x1_2013</th>\n",
       "      <th>encoder__x1_2014</th>\n",
       "      <th>...</th>\n",
       "      <th>TI</th>\n",
       "      <th>U100</th>\n",
       "      <th>U75</th>\n",
       "      <th>U50</th>\n",
       "      <th>U14</th>\n",
       "      <th>U6</th>\n",
       "      <th>U4</th>\n",
       "      <th>V</th>\n",
       "      <th>V40</th>\n",
       "      <th>ZN</th>\n",
       "    </tr>\n",
       "  </thead>\n",
       "  <tbody>\n",
       "    <tr>\n",
       "      <th>0</th>\n",
       "      <td>0.0</td>\n",
       "      <td>1.0</td>\n",
       "      <td>0.0</td>\n",
       "      <td>0.0</td>\n",
       "      <td>0.0</td>\n",
       "      <td>0.0</td>\n",
       "      <td>0.0</td>\n",
       "      <td>0.0</td>\n",
       "      <td>0.0</td>\n",
       "      <td>1.0</td>\n",
       "      <td>...</td>\n",
       "      <td>-0.263482</td>\n",
       "      <td>-0.107018</td>\n",
       "      <td>-0.15046</td>\n",
       "      <td>-0.257137</td>\n",
       "      <td>-0.287282</td>\n",
       "      <td>-0.315498</td>\n",
       "      <td>-0.148223</td>\n",
       "      <td>-0.151679</td>\n",
       "      <td>0.640705</td>\n",
       "      <td>-1.024746</td>\n",
       "    </tr>\n",
       "    <tr>\n",
       "      <th>1</th>\n",
       "      <td>0.0</td>\n",
       "      <td>0.0</td>\n",
       "      <td>0.0</td>\n",
       "      <td>0.0</td>\n",
       "      <td>0.0</td>\n",
       "      <td>0.0</td>\n",
       "      <td>0.0</td>\n",
       "      <td>0.0</td>\n",
       "      <td>0.0</td>\n",
       "      <td>0.0</td>\n",
       "      <td>...</td>\n",
       "      <td>-0.263482</td>\n",
       "      <td>-0.107018</td>\n",
       "      <td>-0.15046</td>\n",
       "      <td>-0.257137</td>\n",
       "      <td>-0.287282</td>\n",
       "      <td>-0.315498</td>\n",
       "      <td>-0.148223</td>\n",
       "      <td>-0.151679</td>\n",
       "      <td>-0.076648</td>\n",
       "      <td>0.831951</td>\n",
       "    </tr>\n",
       "    <tr>\n",
       "      <th>2</th>\n",
       "      <td>0.0</td>\n",
       "      <td>1.0</td>\n",
       "      <td>0.0</td>\n",
       "      <td>1.0</td>\n",
       "      <td>0.0</td>\n",
       "      <td>0.0</td>\n",
       "      <td>0.0</td>\n",
       "      <td>0.0</td>\n",
       "      <td>0.0</td>\n",
       "      <td>0.0</td>\n",
       "      <td>...</td>\n",
       "      <td>1.090839</td>\n",
       "      <td>-0.107018</td>\n",
       "      <td>-0.15046</td>\n",
       "      <td>-0.257137</td>\n",
       "      <td>-0.287282</td>\n",
       "      <td>-0.315498</td>\n",
       "      <td>-0.148223</td>\n",
       "      <td>-0.151679</td>\n",
       "      <td>0.945947</td>\n",
       "      <td>-1.036033</td>\n",
       "    </tr>\n",
       "    <tr>\n",
       "      <th>3</th>\n",
       "      <td>0.0</td>\n",
       "      <td>1.0</td>\n",
       "      <td>0.0</td>\n",
       "      <td>0.0</td>\n",
       "      <td>0.0</td>\n",
       "      <td>0.0</td>\n",
       "      <td>0.0</td>\n",
       "      <td>0.0</td>\n",
       "      <td>0.0</td>\n",
       "      <td>0.0</td>\n",
       "      <td>...</td>\n",
       "      <td>-0.263482</td>\n",
       "      <td>-0.107018</td>\n",
       "      <td>-0.15046</td>\n",
       "      <td>-0.257137</td>\n",
       "      <td>-0.287282</td>\n",
       "      <td>-0.315498</td>\n",
       "      <td>-0.148223</td>\n",
       "      <td>-0.151679</td>\n",
       "      <td>-1.291490</td>\n",
       "      <td>0.937296</td>\n",
       "    </tr>\n",
       "    <tr>\n",
       "      <th>4</th>\n",
       "      <td>0.0</td>\n",
       "      <td>1.0</td>\n",
       "      <td>0.0</td>\n",
       "      <td>0.0</td>\n",
       "      <td>0.0</td>\n",
       "      <td>0.0</td>\n",
       "      <td>0.0</td>\n",
       "      <td>0.0</td>\n",
       "      <td>0.0</td>\n",
       "      <td>0.0</td>\n",
       "      <td>...</td>\n",
       "      <td>-0.263482</td>\n",
       "      <td>-0.107018</td>\n",
       "      <td>-0.15046</td>\n",
       "      <td>-0.257137</td>\n",
       "      <td>-0.287282</td>\n",
       "      <td>-0.315498</td>\n",
       "      <td>-0.148223</td>\n",
       "      <td>-0.151679</td>\n",
       "      <td>0.379941</td>\n",
       "      <td>1.042640</td>\n",
       "    </tr>\n",
       "    <tr>\n",
       "      <th>...</th>\n",
       "      <td>...</td>\n",
       "      <td>...</td>\n",
       "      <td>...</td>\n",
       "      <td>...</td>\n",
       "      <td>...</td>\n",
       "      <td>...</td>\n",
       "      <td>...</td>\n",
       "      <td>...</td>\n",
       "      <td>...</td>\n",
       "      <td>...</td>\n",
       "      <td>...</td>\n",
       "      <td>...</td>\n",
       "      <td>...</td>\n",
       "      <td>...</td>\n",
       "      <td>...</td>\n",
       "      <td>...</td>\n",
       "      <td>...</td>\n",
       "      <td>...</td>\n",
       "      <td>...</td>\n",
       "      <td>...</td>\n",
       "      <td>...</td>\n",
       "    </tr>\n",
       "    <tr>\n",
       "      <th>2814</th>\n",
       "      <td>0.0</td>\n",
       "      <td>0.0</td>\n",
       "      <td>0.0</td>\n",
       "      <td>0.0</td>\n",
       "      <td>0.0</td>\n",
       "      <td>0.0</td>\n",
       "      <td>0.0</td>\n",
       "      <td>0.0</td>\n",
       "      <td>0.0</td>\n",
       "      <td>0.0</td>\n",
       "      <td>...</td>\n",
       "      <td>1.090839</td>\n",
       "      <td>-0.107018</td>\n",
       "      <td>-0.15046</td>\n",
       "      <td>-0.257137</td>\n",
       "      <td>-0.287282</td>\n",
       "      <td>-0.315498</td>\n",
       "      <td>-0.148223</td>\n",
       "      <td>-0.151679</td>\n",
       "      <td>-0.307766</td>\n",
       "      <td>0.811259</td>\n",
       "    </tr>\n",
       "    <tr>\n",
       "      <th>2815</th>\n",
       "      <td>0.0</td>\n",
       "      <td>1.0</td>\n",
       "      <td>0.0</td>\n",
       "      <td>0.0</td>\n",
       "      <td>0.0</td>\n",
       "      <td>0.0</td>\n",
       "      <td>0.0</td>\n",
       "      <td>0.0</td>\n",
       "      <td>0.0</td>\n",
       "      <td>0.0</td>\n",
       "      <td>...</td>\n",
       "      <td>-0.263482</td>\n",
       "      <td>-0.107018</td>\n",
       "      <td>-0.15046</td>\n",
       "      <td>-0.257137</td>\n",
       "      <td>-0.287282</td>\n",
       "      <td>-0.315498</td>\n",
       "      <td>-0.148223</td>\n",
       "      <td>-0.151679</td>\n",
       "      <td>0.156020</td>\n",
       "      <td>1.185608</td>\n",
       "    </tr>\n",
       "    <tr>\n",
       "      <th>2816</th>\n",
       "      <td>0.0</td>\n",
       "      <td>1.0</td>\n",
       "      <td>0.0</td>\n",
       "      <td>0.0</td>\n",
       "      <td>0.0</td>\n",
       "      <td>0.0</td>\n",
       "      <td>1.0</td>\n",
       "      <td>0.0</td>\n",
       "      <td>0.0</td>\n",
       "      <td>0.0</td>\n",
       "      <td>...</td>\n",
       "      <td>-0.263482</td>\n",
       "      <td>-0.107018</td>\n",
       "      <td>-0.15046</td>\n",
       "      <td>-0.257137</td>\n",
       "      <td>-0.287282</td>\n",
       "      <td>-0.315498</td>\n",
       "      <td>-0.148223</td>\n",
       "      <td>-0.151679</td>\n",
       "      <td>1.092434</td>\n",
       "      <td>-1.066131</td>\n",
       "    </tr>\n",
       "    <tr>\n",
       "      <th>2817</th>\n",
       "      <td>1.0</td>\n",
       "      <td>0.0</td>\n",
       "      <td>0.0</td>\n",
       "      <td>0.0</td>\n",
       "      <td>0.0</td>\n",
       "      <td>0.0</td>\n",
       "      <td>0.0</td>\n",
       "      <td>0.0</td>\n",
       "      <td>0.0</td>\n",
       "      <td>0.0</td>\n",
       "      <td>...</td>\n",
       "      <td>-0.263482</td>\n",
       "      <td>-0.107018</td>\n",
       "      <td>-0.15046</td>\n",
       "      <td>-0.257137</td>\n",
       "      <td>2.277758</td>\n",
       "      <td>2.494835</td>\n",
       "      <td>2.244463</td>\n",
       "      <td>-0.151679</td>\n",
       "      <td>-0.894778</td>\n",
       "      <td>-0.345650</td>\n",
       "    </tr>\n",
       "    <tr>\n",
       "      <th>2818</th>\n",
       "      <td>0.0</td>\n",
       "      <td>1.0</td>\n",
       "      <td>0.0</td>\n",
       "      <td>0.0</td>\n",
       "      <td>0.0</td>\n",
       "      <td>0.0</td>\n",
       "      <td>0.0</td>\n",
       "      <td>0.0</td>\n",
       "      <td>0.0</td>\n",
       "      <td>0.0</td>\n",
       "      <td>...</td>\n",
       "      <td>-0.263482</td>\n",
       "      <td>-0.107018</td>\n",
       "      <td>-0.15046</td>\n",
       "      <td>-0.257137</td>\n",
       "      <td>-0.287282</td>\n",
       "      <td>-0.315498</td>\n",
       "      <td>-0.148223</td>\n",
       "      <td>-0.151679</td>\n",
       "      <td>-0.548998</td>\n",
       "      <td>0.403049</td>\n",
       "    </tr>\n",
       "  </tbody>\n",
       "</table>\n",
       "<p>2819 rows × 61 columns</p>\n",
       "</div>"
      ],
      "text/plain": [
       "      encoder__x0_COMPONENT2  encoder__x0_COMPONENT3  encoder__x0_COMPONENT4  \\\n",
       "0                        0.0                     1.0                     0.0   \n",
       "1                        0.0                     0.0                     0.0   \n",
       "2                        0.0                     1.0                     0.0   \n",
       "3                        0.0                     1.0                     0.0   \n",
       "4                        0.0                     1.0                     0.0   \n",
       "...                      ...                     ...                     ...   \n",
       "2814                     0.0                     0.0                     0.0   \n",
       "2815                     0.0                     1.0                     0.0   \n",
       "2816                     0.0                     1.0                     0.0   \n",
       "2817                     1.0                     0.0                     0.0   \n",
       "2818                     0.0                     1.0                     0.0   \n",
       "\n",
       "      encoder__x1_2008  encoder__x1_2009  encoder__x1_2010  encoder__x1_2011  \\\n",
       "0                  0.0               0.0               0.0               0.0   \n",
       "1                  0.0               0.0               0.0               0.0   \n",
       "2                  1.0               0.0               0.0               0.0   \n",
       "3                  0.0               0.0               0.0               0.0   \n",
       "4                  0.0               0.0               0.0               0.0   \n",
       "...                ...               ...               ...               ...   \n",
       "2814               0.0               0.0               0.0               0.0   \n",
       "2815               0.0               0.0               0.0               0.0   \n",
       "2816               0.0               0.0               0.0               1.0   \n",
       "2817               0.0               0.0               0.0               0.0   \n",
       "2818               0.0               0.0               0.0               0.0   \n",
       "\n",
       "      encoder__x1_2012  encoder__x1_2013  encoder__x1_2014  ...        TI  \\\n",
       "0                  0.0               0.0               1.0  ... -0.263482   \n",
       "1                  0.0               0.0               0.0  ... -0.263482   \n",
       "2                  0.0               0.0               0.0  ...  1.090839   \n",
       "3                  0.0               0.0               0.0  ... -0.263482   \n",
       "4                  0.0               0.0               0.0  ... -0.263482   \n",
       "...                ...               ...               ...  ...       ...   \n",
       "2814               0.0               0.0               0.0  ...  1.090839   \n",
       "2815               0.0               0.0               0.0  ... -0.263482   \n",
       "2816               0.0               0.0               0.0  ... -0.263482   \n",
       "2817               0.0               0.0               0.0  ... -0.263482   \n",
       "2818               0.0               0.0               0.0  ... -0.263482   \n",
       "\n",
       "          U100      U75       U50       U14        U6        U4         V  \\\n",
       "0    -0.107018 -0.15046 -0.257137 -0.287282 -0.315498 -0.148223 -0.151679   \n",
       "1    -0.107018 -0.15046 -0.257137 -0.287282 -0.315498 -0.148223 -0.151679   \n",
       "2    -0.107018 -0.15046 -0.257137 -0.287282 -0.315498 -0.148223 -0.151679   \n",
       "3    -0.107018 -0.15046 -0.257137 -0.287282 -0.315498 -0.148223 -0.151679   \n",
       "4    -0.107018 -0.15046 -0.257137 -0.287282 -0.315498 -0.148223 -0.151679   \n",
       "...        ...      ...       ...       ...       ...       ...       ...   \n",
       "2814 -0.107018 -0.15046 -0.257137 -0.287282 -0.315498 -0.148223 -0.151679   \n",
       "2815 -0.107018 -0.15046 -0.257137 -0.287282 -0.315498 -0.148223 -0.151679   \n",
       "2816 -0.107018 -0.15046 -0.257137 -0.287282 -0.315498 -0.148223 -0.151679   \n",
       "2817 -0.107018 -0.15046 -0.257137  2.277758  2.494835  2.244463 -0.151679   \n",
       "2818 -0.107018 -0.15046 -0.257137 -0.287282 -0.315498 -0.148223 -0.151679   \n",
       "\n",
       "           V40        ZN  \n",
       "0     0.640705 -1.024746  \n",
       "1    -0.076648  0.831951  \n",
       "2     0.945947 -1.036033  \n",
       "3    -1.291490  0.937296  \n",
       "4     0.379941  1.042640  \n",
       "...        ...       ...  \n",
       "2814 -0.307766  0.811259  \n",
       "2815  0.156020  1.185608  \n",
       "2816  1.092434 -1.066131  \n",
       "2817 -0.894778 -0.345650  \n",
       "2818 -0.548998  0.403049  \n",
       "\n",
       "[2819 rows x 61 columns]"
      ]
     },
     "execution_count": 1198,
     "metadata": {},
     "output_type": "execute_result"
    }
   ],
   "source": [
    "val_X = onehot_encode(val_X, [0,2])\n",
    "val_X"
   ]
  },
  {
   "cell_type": "code",
   "execution_count": 1199,
   "id": "41fbb7d3",
   "metadata": {},
   "outputs": [
    {
     "data": {
      "text/html": [
       "<div>\n",
       "<style scoped>\n",
       "    .dataframe tbody tr th:only-of-type {\n",
       "        vertical-align: middle;\n",
       "    }\n",
       "\n",
       "    .dataframe tbody tr th {\n",
       "        vertical-align: top;\n",
       "    }\n",
       "\n",
       "    .dataframe thead th {\n",
       "        text-align: right;\n",
       "    }\n",
       "</style>\n",
       "<table border=\"1\" class=\"dataframe\">\n",
       "  <thead>\n",
       "    <tr style=\"text-align: right;\">\n",
       "      <th></th>\n",
       "      <th>encoder__x0_COMPONENT2</th>\n",
       "      <th>encoder__x0_COMPONENT3</th>\n",
       "      <th>encoder__x0_COMPONENT4</th>\n",
       "      <th>encoder__x1_2008</th>\n",
       "      <th>encoder__x1_2009</th>\n",
       "      <th>encoder__x1_2010</th>\n",
       "      <th>encoder__x1_2011</th>\n",
       "      <th>encoder__x1_2012</th>\n",
       "      <th>encoder__x1_2013</th>\n",
       "      <th>encoder__x1_2014</th>\n",
       "      <th>...</th>\n",
       "      <th>FE</th>\n",
       "      <th>H2O</th>\n",
       "      <th>MN</th>\n",
       "      <th>MO</th>\n",
       "      <th>NI</th>\n",
       "      <th>PQINDEX</th>\n",
       "      <th>TI</th>\n",
       "      <th>V</th>\n",
       "      <th>V40</th>\n",
       "      <th>ZN</th>\n",
       "    </tr>\n",
       "  </thead>\n",
       "  <tbody>\n",
       "    <tr>\n",
       "      <th>0</th>\n",
       "      <td>0.0</td>\n",
       "      <td>0.0</td>\n",
       "      <td>0.0</td>\n",
       "      <td>0.0</td>\n",
       "      <td>0.0</td>\n",
       "      <td>0.0</td>\n",
       "      <td>0.0</td>\n",
       "      <td>0.0</td>\n",
       "      <td>0.0</td>\n",
       "      <td>0.0</td>\n",
       "      <td>...</td>\n",
       "      <td>-0.828889</td>\n",
       "      <td>-0.091805</td>\n",
       "      <td>-0.785417</td>\n",
       "      <td>-0.777837</td>\n",
       "      <td>-0.442214</td>\n",
       "      <td>-0.849657</td>\n",
       "      <td>-0.263482</td>\n",
       "      <td>-0.151679</td>\n",
       "      <td>-0.223908</td>\n",
       "      <td>0.946702</td>\n",
       "    </tr>\n",
       "    <tr>\n",
       "      <th>1</th>\n",
       "      <td>0.0</td>\n",
       "      <td>1.0</td>\n",
       "      <td>0.0</td>\n",
       "      <td>0.0</td>\n",
       "      <td>0.0</td>\n",
       "      <td>0.0</td>\n",
       "      <td>1.0</td>\n",
       "      <td>0.0</td>\n",
       "      <td>0.0</td>\n",
       "      <td>0.0</td>\n",
       "      <td>...</td>\n",
       "      <td>1.117687</td>\n",
       "      <td>-0.091805</td>\n",
       "      <td>0.754753</td>\n",
       "      <td>-0.777837</td>\n",
       "      <td>-0.442214</td>\n",
       "      <td>2.141544</td>\n",
       "      <td>1.090839</td>\n",
       "      <td>-0.151679</td>\n",
       "      <td>0.551355</td>\n",
       "      <td>-1.083062</td>\n",
       "    </tr>\n",
       "    <tr>\n",
       "      <th>2</th>\n",
       "      <td>1.0</td>\n",
       "      <td>0.0</td>\n",
       "      <td>0.0</td>\n",
       "      <td>0.0</td>\n",
       "      <td>0.0</td>\n",
       "      <td>1.0</td>\n",
       "      <td>0.0</td>\n",
       "      <td>0.0</td>\n",
       "      <td>0.0</td>\n",
       "      <td>0.0</td>\n",
       "      <td>...</td>\n",
       "      <td>-1.319738</td>\n",
       "      <td>-0.091805</td>\n",
       "      <td>-0.785417</td>\n",
       "      <td>-0.777837</td>\n",
       "      <td>-0.442214</td>\n",
       "      <td>-0.802466</td>\n",
       "      <td>-0.263482</td>\n",
       "      <td>-0.151679</td>\n",
       "      <td>-1.915433</td>\n",
       "      <td>0.237507</td>\n",
       "    </tr>\n",
       "    <tr>\n",
       "      <th>3</th>\n",
       "      <td>0.0</td>\n",
       "      <td>1.0</td>\n",
       "      <td>0.0</td>\n",
       "      <td>0.0</td>\n",
       "      <td>1.0</td>\n",
       "      <td>0.0</td>\n",
       "      <td>0.0</td>\n",
       "      <td>0.0</td>\n",
       "      <td>0.0</td>\n",
       "      <td>0.0</td>\n",
       "      <td>...</td>\n",
       "      <td>0.780369</td>\n",
       "      <td>-0.091805</td>\n",
       "      <td>1.002665</td>\n",
       "      <td>0.028917</td>\n",
       "      <td>-0.442214</td>\n",
       "      <td>2.724593</td>\n",
       "      <td>-0.263482</td>\n",
       "      <td>-0.151679</td>\n",
       "      <td>0.829834</td>\n",
       "      <td>-0.928807</td>\n",
       "    </tr>\n",
       "    <tr>\n",
       "      <th>4</th>\n",
       "      <td>1.0</td>\n",
       "      <td>0.0</td>\n",
       "      <td>0.0</td>\n",
       "      <td>0.0</td>\n",
       "      <td>0.0</td>\n",
       "      <td>0.0</td>\n",
       "      <td>0.0</td>\n",
       "      <td>0.0</td>\n",
       "      <td>1.0</td>\n",
       "      <td>0.0</td>\n",
       "      <td>...</td>\n",
       "      <td>-0.781842</td>\n",
       "      <td>-0.091805</td>\n",
       "      <td>-0.785417</td>\n",
       "      <td>-0.777837</td>\n",
       "      <td>-0.442214</td>\n",
       "      <td>-0.613562</td>\n",
       "      <td>-0.263482</td>\n",
       "      <td>-0.151679</td>\n",
       "      <td>-1.079324</td>\n",
       "      <td>-0.223375</td>\n",
       "    </tr>\n",
       "    <tr>\n",
       "      <th>...</th>\n",
       "      <td>...</td>\n",
       "      <td>...</td>\n",
       "      <td>...</td>\n",
       "      <td>...</td>\n",
       "      <td>...</td>\n",
       "      <td>...</td>\n",
       "      <td>...</td>\n",
       "      <td>...</td>\n",
       "      <td>...</td>\n",
       "      <td>...</td>\n",
       "      <td>...</td>\n",
       "      <td>...</td>\n",
       "      <td>...</td>\n",
       "      <td>...</td>\n",
       "      <td>...</td>\n",
       "      <td>...</td>\n",
       "      <td>...</td>\n",
       "      <td>...</td>\n",
       "      <td>...</td>\n",
       "      <td>...</td>\n",
       "      <td>...</td>\n",
       "    </tr>\n",
       "    <tr>\n",
       "      <th>6036</th>\n",
       "      <td>0.0</td>\n",
       "      <td>1.0</td>\n",
       "      <td>0.0</td>\n",
       "      <td>0.0</td>\n",
       "      <td>0.0</td>\n",
       "      <td>0.0</td>\n",
       "      <td>0.0</td>\n",
       "      <td>0.0</td>\n",
       "      <td>0.0</td>\n",
       "      <td>1.0</td>\n",
       "      <td>...</td>\n",
       "      <td>1.957847</td>\n",
       "      <td>-0.091805</td>\n",
       "      <td>3.869280</td>\n",
       "      <td>0.264877</td>\n",
       "      <td>1.564811</td>\n",
       "      <td>1.972194</td>\n",
       "      <td>-0.263482</td>\n",
       "      <td>-0.151679</td>\n",
       "      <td>-0.807614</td>\n",
       "      <td>1.082145</td>\n",
       "    </tr>\n",
       "    <tr>\n",
       "      <th>6037</th>\n",
       "      <td>0.0</td>\n",
       "      <td>1.0</td>\n",
       "      <td>0.0</td>\n",
       "      <td>0.0</td>\n",
       "      <td>0.0</td>\n",
       "      <td>0.0</td>\n",
       "      <td>0.0</td>\n",
       "      <td>0.0</td>\n",
       "      <td>0.0</td>\n",
       "      <td>0.0</td>\n",
       "      <td>...</td>\n",
       "      <td>1.734352</td>\n",
       "      <td>-0.091805</td>\n",
       "      <td>1.205223</td>\n",
       "      <td>-0.777837</td>\n",
       "      <td>-0.442214</td>\n",
       "      <td>1.398154</td>\n",
       "      <td>-0.263482</td>\n",
       "      <td>-0.151679</td>\n",
       "      <td>0.745727</td>\n",
       "      <td>-1.081181</td>\n",
       "    </tr>\n",
       "    <tr>\n",
       "      <th>6038</th>\n",
       "      <td>0.0</td>\n",
       "      <td>1.0</td>\n",
       "      <td>0.0</td>\n",
       "      <td>0.0</td>\n",
       "      <td>0.0</td>\n",
       "      <td>0.0</td>\n",
       "      <td>0.0</td>\n",
       "      <td>0.0</td>\n",
       "      <td>0.0</td>\n",
       "      <td>1.0</td>\n",
       "      <td>...</td>\n",
       "      <td>0.075140</td>\n",
       "      <td>-0.091805</td>\n",
       "      <td>-0.785417</td>\n",
       "      <td>-0.777837</td>\n",
       "      <td>-0.442214</td>\n",
       "      <td>0.154016</td>\n",
       "      <td>-0.263482</td>\n",
       "      <td>-0.151679</td>\n",
       "      <td>2.602715</td>\n",
       "      <td>-1.081181</td>\n",
       "    </tr>\n",
       "    <tr>\n",
       "      <th>6039</th>\n",
       "      <td>1.0</td>\n",
       "      <td>0.0</td>\n",
       "      <td>0.0</td>\n",
       "      <td>0.0</td>\n",
       "      <td>0.0</td>\n",
       "      <td>0.0</td>\n",
       "      <td>0.0</td>\n",
       "      <td>0.0</td>\n",
       "      <td>1.0</td>\n",
       "      <td>0.0</td>\n",
       "      <td>...</td>\n",
       "      <td>-1.759773</td>\n",
       "      <td>-0.091805</td>\n",
       "      <td>-0.785417</td>\n",
       "      <td>-0.777837</td>\n",
       "      <td>-0.442214</td>\n",
       "      <td>-1.178395</td>\n",
       "      <td>-0.263482</td>\n",
       "      <td>-0.151679</td>\n",
       "      <td>-1.583044</td>\n",
       "      <td>-0.206445</td>\n",
       "    </tr>\n",
       "    <tr>\n",
       "      <th>6040</th>\n",
       "      <td>0.0</td>\n",
       "      <td>0.0</td>\n",
       "      <td>0.0</td>\n",
       "      <td>0.0</td>\n",
       "      <td>0.0</td>\n",
       "      <td>0.0</td>\n",
       "      <td>0.0</td>\n",
       "      <td>0.0</td>\n",
       "      <td>0.0</td>\n",
       "      <td>0.0</td>\n",
       "      <td>...</td>\n",
       "      <td>-1.435482</td>\n",
       "      <td>-0.091805</td>\n",
       "      <td>-0.785417</td>\n",
       "      <td>-0.138500</td>\n",
       "      <td>-0.442214</td>\n",
       "      <td>-0.681444</td>\n",
       "      <td>-0.263482</td>\n",
       "      <td>-0.151679</td>\n",
       "      <td>-0.534282</td>\n",
       "      <td>0.719082</td>\n",
       "    </tr>\n",
       "  </tbody>\n",
       "</table>\n",
       "<p>6041 rows × 34 columns</p>\n",
       "</div>"
      ],
      "text/plain": [
       "      encoder__x0_COMPONENT2  encoder__x0_COMPONENT3  encoder__x0_COMPONENT4  \\\n",
       "0                        0.0                     0.0                     0.0   \n",
       "1                        0.0                     1.0                     0.0   \n",
       "2                        1.0                     0.0                     0.0   \n",
       "3                        0.0                     1.0                     0.0   \n",
       "4                        1.0                     0.0                     0.0   \n",
       "...                      ...                     ...                     ...   \n",
       "6036                     0.0                     1.0                     0.0   \n",
       "6037                     0.0                     1.0                     0.0   \n",
       "6038                     0.0                     1.0                     0.0   \n",
       "6039                     1.0                     0.0                     0.0   \n",
       "6040                     0.0                     0.0                     0.0   \n",
       "\n",
       "      encoder__x1_2008  encoder__x1_2009  encoder__x1_2010  encoder__x1_2011  \\\n",
       "0                  0.0               0.0               0.0               0.0   \n",
       "1                  0.0               0.0               0.0               1.0   \n",
       "2                  0.0               0.0               1.0               0.0   \n",
       "3                  0.0               1.0               0.0               0.0   \n",
       "4                  0.0               0.0               0.0               0.0   \n",
       "...                ...               ...               ...               ...   \n",
       "6036               0.0               0.0               0.0               0.0   \n",
       "6037               0.0               0.0               0.0               0.0   \n",
       "6038               0.0               0.0               0.0               0.0   \n",
       "6039               0.0               0.0               0.0               0.0   \n",
       "6040               0.0               0.0               0.0               0.0   \n",
       "\n",
       "      encoder__x1_2012  encoder__x1_2013  encoder__x1_2014  ...        FE  \\\n",
       "0                  0.0               0.0               0.0  ... -0.828889   \n",
       "1                  0.0               0.0               0.0  ...  1.117687   \n",
       "2                  0.0               0.0               0.0  ... -1.319738   \n",
       "3                  0.0               0.0               0.0  ...  0.780369   \n",
       "4                  0.0               1.0               0.0  ... -0.781842   \n",
       "...                ...               ...               ...  ...       ...   \n",
       "6036               0.0               0.0               1.0  ...  1.957847   \n",
       "6037               0.0               0.0               0.0  ...  1.734352   \n",
       "6038               0.0               0.0               1.0  ...  0.075140   \n",
       "6039               0.0               1.0               0.0  ... -1.759773   \n",
       "6040               0.0               0.0               0.0  ... -1.435482   \n",
       "\n",
       "           H2O        MN        MO        NI   PQINDEX        TI         V  \\\n",
       "0    -0.091805 -0.785417 -0.777837 -0.442214 -0.849657 -0.263482 -0.151679   \n",
       "1    -0.091805  0.754753 -0.777837 -0.442214  2.141544  1.090839 -0.151679   \n",
       "2    -0.091805 -0.785417 -0.777837 -0.442214 -0.802466 -0.263482 -0.151679   \n",
       "3    -0.091805  1.002665  0.028917 -0.442214  2.724593 -0.263482 -0.151679   \n",
       "4    -0.091805 -0.785417 -0.777837 -0.442214 -0.613562 -0.263482 -0.151679   \n",
       "...        ...       ...       ...       ...       ...       ...       ...   \n",
       "6036 -0.091805  3.869280  0.264877  1.564811  1.972194 -0.263482 -0.151679   \n",
       "6037 -0.091805  1.205223 -0.777837 -0.442214  1.398154 -0.263482 -0.151679   \n",
       "6038 -0.091805 -0.785417 -0.777837 -0.442214  0.154016 -0.263482 -0.151679   \n",
       "6039 -0.091805 -0.785417 -0.777837 -0.442214 -1.178395 -0.263482 -0.151679   \n",
       "6040 -0.091805 -0.785417 -0.138500 -0.442214 -0.681444 -0.263482 -0.151679   \n",
       "\n",
       "           V40        ZN  \n",
       "0    -0.223908  0.946702  \n",
       "1     0.551355 -1.083062  \n",
       "2    -1.915433  0.237507  \n",
       "3     0.829834 -0.928807  \n",
       "4    -1.079324 -0.223375  \n",
       "...        ...       ...  \n",
       "6036 -0.807614  1.082145  \n",
       "6037  0.745727 -1.081181  \n",
       "6038  2.602715 -1.081181  \n",
       "6039 -1.583044 -0.206445  \n",
       "6040 -0.534282  0.719082  \n",
       "\n",
       "[6041 rows x 34 columns]"
      ]
     },
     "execution_count": 1199,
     "metadata": {},
     "output_type": "execute_result"
    }
   ],
   "source": [
    "test = onehot_encode(test, [0,2])\n",
    "test"
   ]
  },
  {
   "cell_type": "code",
   "execution_count": 1200,
   "id": "47c3bd54",
   "metadata": {},
   "outputs": [
    {
     "data": {
      "text/plain": [
       "Index(['encoder__x0_COMPONENT2', 'encoder__x0_COMPONENT3',\n",
       "       'encoder__x0_COMPONENT4', 'encoder__x1_2008', 'encoder__x1_2009',\n",
       "       'encoder__x1_2010', 'encoder__x1_2011', 'encoder__x1_2012',\n",
       "       'encoder__x1_2013', 'encoder__x1_2014', 'encoder__x1_2015',\n",
       "       'encoder__x1_2016', 'encoder__x1_2017', 'encoder__x1_2018',\n",
       "       'encoder__x1_2019', 'encoder__x1_2020', 'encoder__x1_2021',\n",
       "       'encoder__x1_2022', 'ANONYMOUS_1', 'ANONYMOUS_2', 'AG', 'CO', 'CR',\n",
       "       'CU', 'FE', 'H2O', 'MN', 'MO', 'NI', 'PQINDEX', 'TI', 'V', 'V40', 'ZN'],\n",
       "      dtype='object')"
      ]
     },
     "execution_count": 1200,
     "metadata": {},
     "output_type": "execute_result"
    }
   ],
   "source": [
    "test_stage_features = test.columns\n",
    "# Inference(실제 진단 환경)에 사용하는 컬럼\n",
    "test_stage_features"
   ]
  },
  {
   "cell_type": "code",
   "execution_count": 1201,
   "id": "cd0465e7",
   "metadata": {},
   "outputs": [
    {
     "name": "stdout",
     "output_type": "stream",
     "text": [
      "61 34\n"
     ]
    }
   ],
   "source": [
    "train_col_num = len(train_X.columns)\n",
    "test_col_num = len(test.columns)\n",
    "print(train_col_num, test_col_num) # Drop후 칼럼 갯수 (nn 시작 노드 갯수에 맞춰주기 위해 변수에 담아놓음)"
   ]
  },
  {
   "cell_type": "code",
   "execution_count": 1202,
   "id": "110b82ad",
   "metadata": {},
   "outputs": [],
   "source": [
    "import pickle\n",
    "\n",
    "#저장하기\n",
    "with open(f\"./data/refined_train_X{file_version}\", 'wb') as pickle_filename:\n",
    "\tpickle.dump(train_X, pickle_filename)\n",
    "\n",
    "with open(f\"./data/refined_train_y{file_version}\", 'wb') as pickle_filename:\n",
    "\tpickle.dump(train_y, pickle_filename)\n",
    "    \n",
    "with open(f\"./data/refined_val_X{file_version}\", 'wb') as pickle_filename:\n",
    "\tpickle.dump(val_X, pickle_filename)\n",
    "\n",
    "with open(f\"./data/refined_val_y{file_version}\", 'wb') as pickle_filename:\n",
    "\tpickle.dump(val_y, pickle_filename)\n",
    "    \n",
    "with open(f\"./data/refined_test{file_version}\", 'wb') as pickle_filename:\n",
    "\tpickle.dump(test, pickle_filename)"
   ]
  },
  {
   "cell_type": "code",
   "execution_count": 1203,
   "id": "0589360d",
   "metadata": {},
   "outputs": [],
   "source": [
    "#불러오기\n",
    "with open(f\"./data/refined_train_X{file_version}\", 'rb') as pickle_filename:\n",
    "\ttrain_X = pickle.load(pickle_filename)\n",
    "\n",
    "with open(f\"./data/refined_train_y{file_version}\", 'rb') as pickle_filename:\n",
    "\ttrain_y = pickle.load(pickle_filename)\n",
    "    \n",
    "with open(f\"./data/refined_val_X{file_version}\", 'rb') as pickle_filename:\n",
    "\tval_X = pickle.load(pickle_filename)\n",
    "\n",
    "with open(f\"./data/refined_val_y{file_version}\", 'rb') as pickle_filename:\n",
    "\tval_y = pickle.load(pickle_filename)     \n",
    "\n",
    "with open(f\"./data/refined_test{file_version}\", 'rb') as pickle_filename:\n",
    "\ttest = pickle.load(pickle_filename)"
   ]
  },
  {
   "cell_type": "code",
   "execution_count": 1204,
   "id": "217d12cd",
   "metadata": {},
   "outputs": [],
   "source": [
    "class CustomDataset(Dataset):\n",
    "    def __init__(self, data_X, data_y, distillation=False):\n",
    "        super(CustomDataset, self).__init__()\n",
    "        self.data_X = data_X\n",
    "        self.data_y = data_y\n",
    "        self.distillation = distillation\n",
    "        \n",
    "    def __len__(self):\n",
    "        return len(self.data_X)\n",
    "    \n",
    "    def __getitem__(self, index):\n",
    "        if self.distillation:\n",
    "            # 지식 증류 학습 시\n",
    "            teacher_X = torch.Tensor(self.data_X.iloc[index])\n",
    "            student_X = torch.Tensor(self.data_X[test_stage_features].iloc[index])\n",
    "            y = self.data_y.values[index]\n",
    "            return teacher_X, student_X, y\n",
    "        else:\n",
    "            if self.data_y is None:\n",
    "                test_X = torch.Tensor(self.data_X.iloc[index])\n",
    "                return test_X\n",
    "            else:\n",
    "                teacher_X = torch.Tensor(self.data_X.iloc[index])\n",
    "                y = self.data_y.values[index]\n",
    "                return teacher_X, y"
   ]
  },
  {
   "cell_type": "code",
   "execution_count": 1205,
   "id": "48b7e9a7",
   "metadata": {},
   "outputs": [
    {
     "data": {
      "text/plain": [
       "[(tensor([ 1.0000e+00,  0.0000e+00,  0.0000e+00,  0.0000e+00,  1.0000e+00,\n",
       "           0.0000e+00,  0.0000e+00,  0.0000e+00,  0.0000e+00,  0.0000e+00,\n",
       "           0.0000e+00,  0.0000e+00,  0.0000e+00,  0.0000e+00,  0.0000e+00,\n",
       "           0.0000e+00,  0.0000e+00,  0.0000e+00, -1.0397e+00,  1.0230e+00,\n",
       "          -1.5266e-01, -4.8488e-01, -1.1437e+00, -4.9643e-01, -5.7006e-02,\n",
       "           8.7366e-01, -1.0250e-01,  5.7681e+00, -9.3115e-02,  2.2443e+00,\n",
       "           3.9716e-02, -2.8869e-01, -3.9442e-01, -1.9033e-01, -1.2387e-02,\n",
       "           6.0798e-01, -1.3123e-01, -9.1805e-02, -1.3074e-01, -2.5719e-01,\n",
       "          -2.1464e-01,  4.3514e-01, -3.7446e-01, -4.2583e-01,  8.2408e-01,\n",
       "           2.5694e-01, -6.4644e-01, -1.1441e+00, -4.5632e-01, -8.0692e-01,\n",
       "           1.2093e+00, -2.6348e-01, -1.0702e-01, -1.5046e-01, -2.5714e-01,\n",
       "          -1.3033e-01,  8.0807e-01,  1.5758e+00, -1.5168e-01, -1.9685e+00,\n",
       "           4.2443e-03]),\n",
       "  0)]"
      ]
     },
     "execution_count": 1205,
     "metadata": {},
     "output_type": "execute_result"
    }
   ],
   "source": [
    "train_dataset = CustomDataset(train_X, train_y, False)\n",
    "val_dataset = CustomDataset(val_X, val_y, False)\n",
    "list(train_dataset)[:1]"
   ]
  },
  {
   "cell_type": "code",
   "execution_count": 1206,
   "id": "50bab7f2",
   "metadata": {},
   "outputs": [
    {
     "data": {
      "text/plain": [
       "[[tensor([[ 0.0000,  1.0000,  0.0000,  ..., -0.1517,  0.5458, -1.0812],\n",
       "          [ 1.0000,  0.0000,  0.0000,  ..., -0.1517, -1.9207, -0.0597],\n",
       "          [ 0.0000,  0.0000,  0.0000,  ..., -0.1517,  0.2124,  1.6333],\n",
       "          ...,\n",
       "          [ 0.0000,  1.0000,  0.0000,  ..., -0.1517,  1.0671, -0.9721],\n",
       "          [ 0.0000,  0.0000,  1.0000,  ..., -0.1517, -0.6331,  1.2684],\n",
       "          [ 1.0000,  0.0000,  0.0000,  ..., -0.1517, -1.9102,  0.2620]]),\n",
       "  tensor([0, 0, 1, 0, 0, 0, 1, 0, 0, 0, 0, 0, 0, 0, 0, 1, 0, 0, 0, 0, 0, 0, 0, 0,\n",
       "          0, 1, 1, 0, 0, 0, 0, 0, 0, 0, 0, 0, 0, 0, 0, 0, 0, 0, 0, 0, 0, 0, 0, 0,\n",
       "          1, 0, 0, 0, 0, 0, 0, 0, 0, 0, 1, 0, 0, 0, 0, 0, 0, 0, 0, 0, 0, 0, 0, 1,\n",
       "          0, 0, 0, 0, 0, 0, 0, 0, 0, 0, 0, 0, 0, 0, 0, 0, 0, 0, 0, 0, 0, 0, 0, 0,\n",
       "          0, 0, 0, 0, 0, 0, 0, 0, 0, 0, 0, 0, 0, 0, 0, 0, 0, 0, 0, 0, 0, 0, 0, 1,\n",
       "          0, 0, 0, 0, 0, 0, 0, 0, 0, 0, 0, 0, 0, 0, 0, 1, 0, 0, 0, 0, 0, 0, 0, 0,\n",
       "          0, 0, 1, 1, 0, 0, 0, 0, 0, 0, 0, 0, 0, 1, 0, 0, 0, 0, 0, 0, 0, 0, 0, 0,\n",
       "          0, 0, 1, 1, 0, 0, 0, 0, 0, 0, 0, 0, 0, 0, 0, 0, 1, 0, 0, 0, 0, 0, 0, 0,\n",
       "          1, 0, 0, 1, 0, 1, 0, 1, 0, 1, 1, 0, 0, 0, 0, 0, 0, 0, 0, 0, 0, 0, 0, 0,\n",
       "          0, 0, 0, 0, 0, 0, 0, 0, 0, 0, 0, 0, 0, 0, 0, 0, 0, 0, 0, 0, 1, 0, 0, 0,\n",
       "          0, 0, 0, 0, 0, 0, 1, 0, 0, 0, 0, 0, 0, 0, 0, 0])]]"
      ]
     },
     "execution_count": 1206,
     "metadata": {},
     "output_type": "execute_result"
    }
   ],
   "source": [
    "train_loader = DataLoader(train_dataset, batch_size = CFG['BATCH_SIZE'], shuffle=True)\n",
    "val_loader = DataLoader(val_dataset, batch_size = CFG['BATCH_SIZE'], shuffle=False)\n",
    "list(train_loader)[:1] "
   ]
  },
  {
   "cell_type": "code",
   "execution_count": 1207,
   "id": "db671aaf",
   "metadata": {},
   "outputs": [],
   "source": [
    "class Teacher(nn.Module):\n",
    "    def __init__(self):\n",
    "        super(Teacher, self).__init__()\n",
    "        self.classifier = nn.Sequential(\n",
    "            nn.Linear(in_features=train_col_num, out_features=256),\n",
    "            nn.Dropout(p=CFG['drop_rate']),\n",
    "            nn.BatchNorm1d(256),\n",
    "            nn.LeakyReLU(),\n",
    "            nn.Linear(in_features=256, out_features=1024),\n",
    "            nn.Dropout(p=CFG['drop_rate']),\n",
    "            nn.BatchNorm1d(1024),\n",
    "            nn.LeakyReLU(),\n",
    "            nn.Linear(in_features=1024, out_features=256),\n",
    "            nn.Dropout(p=CFG['drop_rate']),\n",
    "            nn.BatchNorm1d(256),\n",
    "            nn.LeakyReLU(),\n",
    "            nn.Linear(in_features=256, out_features=1),\n",
    "            nn.Sigmoid()\n",
    "        )\n",
    "        \n",
    "    def forward(self, x):\n",
    "        output = self.classifier(x)\n",
    "        return output"
   ]
  },
  {
   "cell_type": "markdown",
   "id": "9c7cd916",
   "metadata": {},
   "source": [
    "#### BCELOSS : https://pytorch.org/docs/stable/generated/torch.nn.BCELoss.html"
   ]
  },
  {
   "cell_type": "code",
   "execution_count": 1208,
   "id": "c13f0b15",
   "metadata": {},
   "outputs": [],
   "source": [
    "def train(model, optimizer, train_loader, val_loader, scheduler, device):\n",
    "    model.to(device)\n",
    "\n",
    "    best_score = 0\n",
    "    best_model = None\n",
    "    \n",
    "    # Loss Function 정의\n",
    "    criterion = nn.BCELoss(reduction = CFG['reduct']).to(device)  #BCEWithLogitsLoss\n",
    "#     criterion = nn.BCEWithLogitsLoss(reduction = CFG['reduct']).to(device)  #BCEWithLogitsLoss\n",
    "\n",
    "    for epoch in range(CFG[\"EPOCHS\"]):\n",
    "        train_loss = []\n",
    "  \n",
    "        model.train()\n",
    "        for X, y in tqdm(train_loader):\n",
    "            X = X.float().to(device)\n",
    "            y = y.float().to(device)\n",
    "            \n",
    "            optimizer.zero_grad()\n",
    "            \n",
    "            y_pred = model(X)\n",
    "            \n",
    "            loss = criterion(y_pred, y.reshape(-1, 1))  # loss_fn(input, target)\n",
    "            loss.backward()\n",
    "            \n",
    "            optimizer.step()\n",
    "\n",
    "            train_loss.append(loss.item())\n",
    "\n",
    "        val_loss, val_score = validation_teacher(model, val_loader, criterion, device)\n",
    "        \n",
    "        print(f'Epoch [{epoch}], Train Loss : [{np.mean(train_loss) :.5f}] Val Loss : [{np.mean(val_loss) :.5f}] Val F1 Score : [{val_score:.5f}]')\n",
    "\n",
    "        if scheduler is not None:\n",
    "            scheduler.step(val_score)\n",
    "            \n",
    "        if best_score < val_score:\n",
    "            best_model = model\n",
    "            best_score = val_score\n",
    "    print(f\"Teacher Train Best Score는 {best_score} 입니다.\")\n",
    "    return best_model "
   ]
  },
  {
   "cell_type": "code",
   "execution_count": 1209,
   "id": "f183e274",
   "metadata": {},
   "outputs": [],
   "source": [
    "def competition_metric(true, pred):\n",
    "    return f1_score(true, pred, average=\"macro\")\n",
    "\n",
    "def validation_teacher(model, val_loader, criterion, device):\n",
    "    model.eval()\n",
    "\n",
    "    val_loss = []\n",
    "    pred_labels = []\n",
    "    true_labels = []\n",
    "    threshold = CFG['T_Thresh']     \n",
    "    \n",
    "    with torch.no_grad():\n",
    "        for X, y in tqdm(val_loader):\n",
    "            X = X.float().to(device)\n",
    "            y = y.float().to(device)\n",
    "            \n",
    "            model_pred = model(X.to(device))\n",
    "            \n",
    "            loss = criterion(model_pred, y.reshape(-1, 1))\n",
    "            val_loss.append(loss.item())      \n",
    "            \n",
    "            model_pred = model_pred.squeeze(1).to('cpu')  # squeeze함수는 차원이 1인 차원을 제거해준다.\n",
    "            pred_labels += model_pred.tolist()\n",
    "            true_labels += y.tolist()\n",
    "        \n",
    "        #print(pred_labels[0:10])\n",
    "        # 오일상태는 0: 정상, 1: 이상\n",
    "        # 어느 임계점 thrshold보다 큰 예측 라벨을 1로 하고, 나머지를 0으로 할 것인가?\n",
    "        pred_labels = np.where(np.array(pred_labels) > threshold, 1, 0)\n",
    "        #print(pred_labels[0:10])\n",
    "        \n",
    "        val_f1 = competition_metric(true_labels, pred_labels)\n",
    "    return val_loss, val_f1   "
   ]
  },
  {
   "cell_type": "markdown",
   "id": "a8a5e1be",
   "metadata": {},
   "source": [
    "#### 옵티마이저 (Optimizer)\n",
    "\n",
    "+ 손실 함수를 기반으로 모델이 어떻게 업데이트해야하는지를 결정 \n",
    "\n",
    "+ optimizer는 step()을 통해 전달받은 파라미터를 모델 업데이트\n",
    "\n",
    "+ 모든 옵티마이저는 기본으로 torch.optim.Optimzer(params, defaults) 클래스를 사용\n",
    "\n",
    "+ zero_grad()를 이용해 옵티마이저에 사용된 파라미터의 기울기를 0으로 설정\n",
    "\n",
    "+ torch.optim.lr_scheduler를 이용해 epoch에 따라 학습률 조절\n",
    "\n",
    "+ 파이토치 주요 옵티마이저: optim.Adadelta, optim.Adagrad, optim.Adam , optim.RMSprop, optim.SGD\n",
    "\n",
    "* TORCH.OPTIM : https://pytorch.org/docs/stable/optim.html\n"
   ]
  },
  {
   "cell_type": "markdown",
   "id": "f6f4e816",
   "metadata": {},
   "source": [
    "#### 학습률 스케줄러 (Learning rate scheduler)\n",
    "\n",
    "+ 학습시 특성 조건에 따라 학습률을 조정하여 최적화 진행\n",
    "\n",
    "+ 일정 횟수 이상이 되면 학습률을 감소시키거나, 전역 최소점 근처에가 하면 학습률을 줄이는 등  \n",
    "\n",
    "+ optim.lr_scheduler.LamdbaLR : 람다 함수를 이용해 그 결과를 학습률로 설정\n",
    "\n",
    "+ optim.lr_scheduler.StepLR : 단계 마다 학습률을 감마 비율로 감소\n",
    "\n",
    "+ optim.lr_scheduler.MultiStepLR : StepLR과 비슷하지만 지정된 에포카에서만 감마 비율로 감소\n",
    "\n",
    "+ optim.lr_scheduler.ExponentialLR : epoch마다 이전 학습률에 감마만큼 곱함\n",
    "\n",
    "+ optim.lr_scheduler.CosineAnnealingLR : 학습률을 코사인 함수의 형태로 변화시켜 학습률을 조절\n",
    "\n",
    "+ optim.lr_scheduler.ReduceLROnPlateau : 학습이 잘 되는지 아닌지에 따라 동적으로 학습률 변화 \n",
    "+ 링크 : https://pytorch.org/docs/stable/generated/torch.optim.lr_scheduler.ReduceLROnPlateau.html?highlight=reducelronplateau#torch.optim.lr_scheduler.ReduceLROnPlateau\n",
    "* 인자설명 : https://deep-deep-deep.tistory.com/56"
   ]
  },
  {
   "cell_type": "code",
   "execution_count": 1210,
   "id": "466f5872",
   "metadata": {
    "scrolled": false
   },
   "outputs": [
    {
     "name": "stdout",
     "output_type": "stream",
     "text": [
      "------------------------------\n",
      "------------------------------\n",
      "------------------------------\n"
     ]
    },
    {
     "data": {
      "application/vnd.jupyter.widget-view+json": {
       "model_id": "b1d9db89e35d44f7ae2912daee7e5e2c",
       "version_major": 2,
       "version_minor": 0
      },
      "text/plain": [
       "  0%|          | 0/45 [00:00<?, ?it/s]"
      ]
     },
     "metadata": {},
     "output_type": "display_data"
    },
    {
     "data": {
      "application/vnd.jupyter.widget-view+json": {
       "model_id": "0d1347b73e894ed6b06af5e4831ec31c",
       "version_major": 2,
       "version_minor": 0
      },
      "text/plain": [
       "  0%|          | 0/12 [00:00<?, ?it/s]"
      ]
     },
     "metadata": {},
     "output_type": "display_data"
    },
    {
     "name": "stdout",
     "output_type": "stream",
     "text": [
      "Epoch [0], Train Loss : [0.30583] Val Loss : [0.24109] Val F1 Score : [0.74835]\n"
     ]
    },
    {
     "data": {
      "application/vnd.jupyter.widget-view+json": {
       "model_id": "209087d7139c4e49b6161f4956f171e4",
       "version_major": 2,
       "version_minor": 0
      },
      "text/plain": [
       "  0%|          | 0/45 [00:00<?, ?it/s]"
      ]
     },
     "metadata": {},
     "output_type": "display_data"
    },
    {
     "data": {
      "application/vnd.jupyter.widget-view+json": {
       "model_id": "40b07da600474654bff8891d04386b77",
       "version_major": 2,
       "version_minor": 0
      },
      "text/plain": [
       "  0%|          | 0/12 [00:00<?, ?it/s]"
      ]
     },
     "metadata": {},
     "output_type": "display_data"
    },
    {
     "name": "stdout",
     "output_type": "stream",
     "text": [
      "Epoch [1], Train Loss : [0.21245] Val Loss : [0.20203] Val F1 Score : [0.75797]\n"
     ]
    },
    {
     "data": {
      "application/vnd.jupyter.widget-view+json": {
       "model_id": "e10bc597689943b98c5579f1a942cc22",
       "version_major": 2,
       "version_minor": 0
      },
      "text/plain": [
       "  0%|          | 0/45 [00:00<?, ?it/s]"
      ]
     },
     "metadata": {},
     "output_type": "display_data"
    },
    {
     "data": {
      "application/vnd.jupyter.widget-view+json": {
       "model_id": "71d4884cdb994a0e860f1829b85d9f6a",
       "version_major": 2,
       "version_minor": 0
      },
      "text/plain": [
       "  0%|          | 0/12 [00:00<?, ?it/s]"
      ]
     },
     "metadata": {},
     "output_type": "display_data"
    },
    {
     "name": "stdout",
     "output_type": "stream",
     "text": [
      "Epoch [2], Train Loss : [0.19098] Val Loss : [0.18917] Val F1 Score : [0.77113]\n"
     ]
    },
    {
     "data": {
      "application/vnd.jupyter.widget-view+json": {
       "model_id": "42d01cdb690e4a6cbc91deecf24d9837",
       "version_major": 2,
       "version_minor": 0
      },
      "text/plain": [
       "  0%|          | 0/45 [00:00<?, ?it/s]"
      ]
     },
     "metadata": {},
     "output_type": "display_data"
    },
    {
     "data": {
      "application/vnd.jupyter.widget-view+json": {
       "model_id": "2865e7f4366946809bc909f0e8fe8fe5",
       "version_major": 2,
       "version_minor": 0
      },
      "text/plain": [
       "  0%|          | 0/12 [00:00<?, ?it/s]"
      ]
     },
     "metadata": {},
     "output_type": "display_data"
    },
    {
     "name": "stdout",
     "output_type": "stream",
     "text": [
      "Epoch [3], Train Loss : [0.18401] Val Loss : [0.18338] Val F1 Score : [0.77132]\n"
     ]
    },
    {
     "data": {
      "application/vnd.jupyter.widget-view+json": {
       "model_id": "b2d92f3a0f9e498dbf3d9120db05bc5a",
       "version_major": 2,
       "version_minor": 0
      },
      "text/plain": [
       "  0%|          | 0/45 [00:00<?, ?it/s]"
      ]
     },
     "metadata": {},
     "output_type": "display_data"
    },
    {
     "data": {
      "application/vnd.jupyter.widget-view+json": {
       "model_id": "b34b2ce55cf143a689702a16e513faff",
       "version_major": 2,
       "version_minor": 0
      },
      "text/plain": [
       "  0%|          | 0/12 [00:00<?, ?it/s]"
      ]
     },
     "metadata": {},
     "output_type": "display_data"
    },
    {
     "name": "stdout",
     "output_type": "stream",
     "text": [
      "Epoch [4], Train Loss : [0.17982] Val Loss : [0.17690] Val F1 Score : [0.77415]\n"
     ]
    },
    {
     "data": {
      "application/vnd.jupyter.widget-view+json": {
       "model_id": "02284178a7634dd0b2971ce87daf17cb",
       "version_major": 2,
       "version_minor": 0
      },
      "text/plain": [
       "  0%|          | 0/45 [00:00<?, ?it/s]"
      ]
     },
     "metadata": {},
     "output_type": "display_data"
    },
    {
     "data": {
      "application/vnd.jupyter.widget-view+json": {
       "model_id": "8d6322bcc0534e80a243a9235d7a4d79",
       "version_major": 2,
       "version_minor": 0
      },
      "text/plain": [
       "  0%|          | 0/12 [00:00<?, ?it/s]"
      ]
     },
     "metadata": {},
     "output_type": "display_data"
    },
    {
     "name": "stdout",
     "output_type": "stream",
     "text": [
      "Epoch [5], Train Loss : [0.18221] Val Loss : [0.18701] Val F1 Score : [0.75702]\n"
     ]
    },
    {
     "data": {
      "application/vnd.jupyter.widget-view+json": {
       "model_id": "7f90f497e46b4b7d94c9fa8564941c1f",
       "version_major": 2,
       "version_minor": 0
      },
      "text/plain": [
       "  0%|          | 0/45 [00:00<?, ?it/s]"
      ]
     },
     "metadata": {},
     "output_type": "display_data"
    },
    {
     "data": {
      "application/vnd.jupyter.widget-view+json": {
       "model_id": "ef7ebac4095a4b0cb58d74b000018857",
       "version_major": 2,
       "version_minor": 0
      },
      "text/plain": [
       "  0%|          | 0/12 [00:00<?, ?it/s]"
      ]
     },
     "metadata": {},
     "output_type": "display_data"
    },
    {
     "name": "stdout",
     "output_type": "stream",
     "text": [
      "Epoch [6], Train Loss : [0.17128] Val Loss : [0.17692] Val F1 Score : [0.76770]\n",
      "Epoch 00007: reducing learning rate of group 0 to 1.5000e-02.\n"
     ]
    },
    {
     "data": {
      "application/vnd.jupyter.widget-view+json": {
       "model_id": "afab2d6574174d00b19b65523dd4b99a",
       "version_major": 2,
       "version_minor": 0
      },
      "text/plain": [
       "  0%|          | 0/45 [00:00<?, ?it/s]"
      ]
     },
     "metadata": {},
     "output_type": "display_data"
    },
    {
     "data": {
      "application/vnd.jupyter.widget-view+json": {
       "model_id": "ceb3f28103af43b2ad63571e93b81889",
       "version_major": 2,
       "version_minor": 0
      },
      "text/plain": [
       "  0%|          | 0/12 [00:00<?, ?it/s]"
      ]
     },
     "metadata": {},
     "output_type": "display_data"
    },
    {
     "name": "stdout",
     "output_type": "stream",
     "text": [
      "Epoch [7], Train Loss : [0.17312] Val Loss : [0.17894] Val F1 Score : [0.76717]\n"
     ]
    },
    {
     "data": {
      "application/vnd.jupyter.widget-view+json": {
       "model_id": "5b374c9009544b2ea4bfa543e0aa8b29",
       "version_major": 2,
       "version_minor": 0
      },
      "text/plain": [
       "  0%|          | 0/45 [00:00<?, ?it/s]"
      ]
     },
     "metadata": {},
     "output_type": "display_data"
    },
    {
     "data": {
      "application/vnd.jupyter.widget-view+json": {
       "model_id": "0f115c2a2c184fa886c13dc6fa62678d",
       "version_major": 2,
       "version_minor": 0
      },
      "text/plain": [
       "  0%|          | 0/12 [00:00<?, ?it/s]"
      ]
     },
     "metadata": {},
     "output_type": "display_data"
    },
    {
     "name": "stdout",
     "output_type": "stream",
     "text": [
      "Epoch [8], Train Loss : [0.16805] Val Loss : [0.17555] Val F1 Score : [0.76711]\n",
      "Epoch 00009: reducing learning rate of group 0 to 7.5000e-03.\n"
     ]
    },
    {
     "data": {
      "application/vnd.jupyter.widget-view+json": {
       "model_id": "015adb5267a148a5b4f92d07b2343da3",
       "version_major": 2,
       "version_minor": 0
      },
      "text/plain": [
       "  0%|          | 0/45 [00:00<?, ?it/s]"
      ]
     },
     "metadata": {},
     "output_type": "display_data"
    },
    {
     "data": {
      "application/vnd.jupyter.widget-view+json": {
       "model_id": "1dd462bc874e4013a34f648435d815c7",
       "version_major": 2,
       "version_minor": 0
      },
      "text/plain": [
       "  0%|          | 0/12 [00:00<?, ?it/s]"
      ]
     },
     "metadata": {},
     "output_type": "display_data"
    },
    {
     "name": "stdout",
     "output_type": "stream",
     "text": [
      "Epoch [9], Train Loss : [0.17122] Val Loss : [0.17228] Val F1 Score : [0.77169]\n"
     ]
    },
    {
     "data": {
      "application/vnd.jupyter.widget-view+json": {
       "model_id": "85c6cbe826da49eb8724469fc8f854bf",
       "version_major": 2,
       "version_minor": 0
      },
      "text/plain": [
       "  0%|          | 0/45 [00:00<?, ?it/s]"
      ]
     },
     "metadata": {},
     "output_type": "display_data"
    },
    {
     "data": {
      "application/vnd.jupyter.widget-view+json": {
       "model_id": "2ec21a2c7dd44acead87dbf001921ecf",
       "version_major": 2,
       "version_minor": 0
      },
      "text/plain": [
       "  0%|          | 0/12 [00:00<?, ?it/s]"
      ]
     },
     "metadata": {},
     "output_type": "display_data"
    },
    {
     "name": "stdout",
     "output_type": "stream",
     "text": [
      "Epoch [10], Train Loss : [0.16941] Val Loss : [0.17678] Val F1 Score : [0.76647]\n",
      "Epoch 00011: reducing learning rate of group 0 to 3.7500e-03.\n"
     ]
    },
    {
     "data": {
      "application/vnd.jupyter.widget-view+json": {
       "model_id": "1780fa6347bd479a82bcbfd80d9590b4",
       "version_major": 2,
       "version_minor": 0
      },
      "text/plain": [
       "  0%|          | 0/45 [00:00<?, ?it/s]"
      ]
     },
     "metadata": {},
     "output_type": "display_data"
    },
    {
     "data": {
      "application/vnd.jupyter.widget-view+json": {
       "model_id": "8e164d190b1949d4972451f7f96749d9",
       "version_major": 2,
       "version_minor": 0
      },
      "text/plain": [
       "  0%|          | 0/12 [00:00<?, ?it/s]"
      ]
     },
     "metadata": {},
     "output_type": "display_data"
    },
    {
     "name": "stdout",
     "output_type": "stream",
     "text": [
      "Epoch [11], Train Loss : [0.16931] Val Loss : [0.17708] Val F1 Score : [0.76717]\n"
     ]
    },
    {
     "data": {
      "application/vnd.jupyter.widget-view+json": {
       "model_id": "8ec60b82b32e4b25b65f758ac75d0e65",
       "version_major": 2,
       "version_minor": 0
      },
      "text/plain": [
       "  0%|          | 0/45 [00:00<?, ?it/s]"
      ]
     },
     "metadata": {},
     "output_type": "display_data"
    },
    {
     "data": {
      "application/vnd.jupyter.widget-view+json": {
       "model_id": "a651c56f20e84220ae22610483e225ed",
       "version_major": 2,
       "version_minor": 0
      },
      "text/plain": [
       "  0%|          | 0/12 [00:00<?, ?it/s]"
      ]
     },
     "metadata": {},
     "output_type": "display_data"
    },
    {
     "name": "stdout",
     "output_type": "stream",
     "text": [
      "Epoch [12], Train Loss : [0.17803] Val Loss : [0.17682] Val F1 Score : [0.76576]\n",
      "Epoch 00013: reducing learning rate of group 0 to 1.8750e-03.\n"
     ]
    },
    {
     "data": {
      "application/vnd.jupyter.widget-view+json": {
       "model_id": "68d3d5d27b5d490bad8566fa724530dd",
       "version_major": 2,
       "version_minor": 0
      },
      "text/plain": [
       "  0%|          | 0/45 [00:00<?, ?it/s]"
      ]
     },
     "metadata": {},
     "output_type": "display_data"
    },
    {
     "data": {
      "application/vnd.jupyter.widget-view+json": {
       "model_id": "e3ccae66cf9a4493b546f8a7e469c3e2",
       "version_major": 2,
       "version_minor": 0
      },
      "text/plain": [
       "  0%|          | 0/12 [00:00<?, ?it/s]"
      ]
     },
     "metadata": {},
     "output_type": "display_data"
    },
    {
     "name": "stdout",
     "output_type": "stream",
     "text": [
      "Epoch [13], Train Loss : [0.16768] Val Loss : [0.17331] Val F1 Score : [0.77408]\n"
     ]
    },
    {
     "data": {
      "application/vnd.jupyter.widget-view+json": {
       "model_id": "22551a3834214a87b3f0bf38db87d385",
       "version_major": 2,
       "version_minor": 0
      },
      "text/plain": [
       "  0%|          | 0/45 [00:00<?, ?it/s]"
      ]
     },
     "metadata": {},
     "output_type": "display_data"
    },
    {
     "data": {
      "application/vnd.jupyter.widget-view+json": {
       "model_id": "864c9654fbbb4c6db031ec4c3c1d508f",
       "version_major": 2,
       "version_minor": 0
      },
      "text/plain": [
       "  0%|          | 0/12 [00:00<?, ?it/s]"
      ]
     },
     "metadata": {},
     "output_type": "display_data"
    },
    {
     "name": "stdout",
     "output_type": "stream",
     "text": [
      "Epoch [14], Train Loss : [0.17501] Val Loss : [0.17383] Val F1 Score : [0.77003]\n",
      "Epoch 00015: reducing learning rate of group 0 to 9.3750e-04.\n"
     ]
    },
    {
     "data": {
      "application/vnd.jupyter.widget-view+json": {
       "model_id": "b52200dac0f8447aafbfa2d80bb13217",
       "version_major": 2,
       "version_minor": 0
      },
      "text/plain": [
       "  0%|          | 0/45 [00:00<?, ?it/s]"
      ]
     },
     "metadata": {},
     "output_type": "display_data"
    },
    {
     "data": {
      "application/vnd.jupyter.widget-view+json": {
       "model_id": "289287c67c3e483498ecda7a134e4876",
       "version_major": 2,
       "version_minor": 0
      },
      "text/plain": [
       "  0%|          | 0/12 [00:00<?, ?it/s]"
      ]
     },
     "metadata": {},
     "output_type": "display_data"
    },
    {
     "name": "stdout",
     "output_type": "stream",
     "text": [
      "Epoch [15], Train Loss : [0.16736] Val Loss : [0.17340] Val F1 Score : [0.77150]\n"
     ]
    },
    {
     "data": {
      "application/vnd.jupyter.widget-view+json": {
       "model_id": "45be8bdaba7648eaa0317c166239f812",
       "version_major": 2,
       "version_minor": 0
      },
      "text/plain": [
       "  0%|          | 0/45 [00:00<?, ?it/s]"
      ]
     },
     "metadata": {},
     "output_type": "display_data"
    },
    {
     "data": {
      "application/vnd.jupyter.widget-view+json": {
       "model_id": "af7501b7960d45aeaa429efc32677b00",
       "version_major": 2,
       "version_minor": 0
      },
      "text/plain": [
       "  0%|          | 0/12 [00:00<?, ?it/s]"
      ]
     },
     "metadata": {},
     "output_type": "display_data"
    },
    {
     "name": "stdout",
     "output_type": "stream",
     "text": [
      "Epoch [16], Train Loss : [0.17121] Val Loss : [0.17413] Val F1 Score : [0.77147]\n",
      "Epoch 00017: reducing learning rate of group 0 to 4.6875e-04.\n"
     ]
    },
    {
     "data": {
      "application/vnd.jupyter.widget-view+json": {
       "model_id": "b9213f3af07e40b48481ca0e22d6316d",
       "version_major": 2,
       "version_minor": 0
      },
      "text/plain": [
       "  0%|          | 0/45 [00:00<?, ?it/s]"
      ]
     },
     "metadata": {},
     "output_type": "display_data"
    },
    {
     "data": {
      "application/vnd.jupyter.widget-view+json": {
       "model_id": "2ca643f81e264114bc4995b18e9aeae1",
       "version_major": 2,
       "version_minor": 0
      },
      "text/plain": [
       "  0%|          | 0/12 [00:00<?, ?it/s]"
      ]
     },
     "metadata": {},
     "output_type": "display_data"
    },
    {
     "name": "stdout",
     "output_type": "stream",
     "text": [
      "Epoch [17], Train Loss : [0.17456] Val Loss : [0.17742] Val F1 Score : [0.76595]\n"
     ]
    },
    {
     "data": {
      "application/vnd.jupyter.widget-view+json": {
       "model_id": "47300eac9e1d4c22ad100c9b4fda6d71",
       "version_major": 2,
       "version_minor": 0
      },
      "text/plain": [
       "  0%|          | 0/45 [00:00<?, ?it/s]"
      ]
     },
     "metadata": {},
     "output_type": "display_data"
    },
    {
     "data": {
      "application/vnd.jupyter.widget-view+json": {
       "model_id": "107f3e2c934b4e55bfedbfabdc87fa52",
       "version_major": 2,
       "version_minor": 0
      },
      "text/plain": [
       "  0%|          | 0/12 [00:00<?, ?it/s]"
      ]
     },
     "metadata": {},
     "output_type": "display_data"
    },
    {
     "name": "stdout",
     "output_type": "stream",
     "text": [
      "Epoch [18], Train Loss : [0.16676] Val Loss : [0.17486] Val F1 Score : [0.77309]\n",
      "Epoch 00019: reducing learning rate of group 0 to 2.3437e-04.\n"
     ]
    },
    {
     "data": {
      "application/vnd.jupyter.widget-view+json": {
       "model_id": "b6c7f84e4ba64de9a2fcfe6b06d962c6",
       "version_major": 2,
       "version_minor": 0
      },
      "text/plain": [
       "  0%|          | 0/45 [00:00<?, ?it/s]"
      ]
     },
     "metadata": {},
     "output_type": "display_data"
    },
    {
     "data": {
      "application/vnd.jupyter.widget-view+json": {
       "model_id": "86092ac07f51421ca837b76317662237",
       "version_major": 2,
       "version_minor": 0
      },
      "text/plain": [
       "  0%|          | 0/12 [00:00<?, ?it/s]"
      ]
     },
     "metadata": {},
     "output_type": "display_data"
    },
    {
     "name": "stdout",
     "output_type": "stream",
     "text": [
      "Epoch [19], Train Loss : [0.16636] Val Loss : [0.17969] Val F1 Score : [0.76495]\n"
     ]
    },
    {
     "data": {
      "application/vnd.jupyter.widget-view+json": {
       "model_id": "6c99f53fbdc44fb6ac9dd7299b487e1e",
       "version_major": 2,
       "version_minor": 0
      },
      "text/plain": [
       "  0%|          | 0/45 [00:00<?, ?it/s]"
      ]
     },
     "metadata": {},
     "output_type": "display_data"
    },
    {
     "data": {
      "application/vnd.jupyter.widget-view+json": {
       "model_id": "c17e1c3490104134881a07b5263a9f4b",
       "version_major": 2,
       "version_minor": 0
      },
      "text/plain": [
       "  0%|          | 0/12 [00:00<?, ?it/s]"
      ]
     },
     "metadata": {},
     "output_type": "display_data"
    },
    {
     "name": "stdout",
     "output_type": "stream",
     "text": [
      "Epoch [20], Train Loss : [0.17630] Val Loss : [0.17296] Val F1 Score : [0.77299]\n",
      "Epoch 00021: reducing learning rate of group 0 to 1.1719e-04.\n"
     ]
    },
    {
     "data": {
      "application/vnd.jupyter.widget-view+json": {
       "model_id": "1b37584a385f461e9f160bd6798caf31",
       "version_major": 2,
       "version_minor": 0
      },
      "text/plain": [
       "  0%|          | 0/45 [00:00<?, ?it/s]"
      ]
     },
     "metadata": {},
     "output_type": "display_data"
    },
    {
     "data": {
      "application/vnd.jupyter.widget-view+json": {
       "model_id": "bbc27f94624b44cebdd8387f27c7797a",
       "version_major": 2,
       "version_minor": 0
      },
      "text/plain": [
       "  0%|          | 0/12 [00:00<?, ?it/s]"
      ]
     },
     "metadata": {},
     "output_type": "display_data"
    },
    {
     "name": "stdout",
     "output_type": "stream",
     "text": [
      "Epoch [21], Train Loss : [0.16634] Val Loss : [0.17737] Val F1 Score : [0.76576]\n"
     ]
    },
    {
     "data": {
      "application/vnd.jupyter.widget-view+json": {
       "model_id": "ecb40696a413485d86cbacd780c887d7",
       "version_major": 2,
       "version_minor": 0
      },
      "text/plain": [
       "  0%|          | 0/45 [00:00<?, ?it/s]"
      ]
     },
     "metadata": {},
     "output_type": "display_data"
    },
    {
     "data": {
      "application/vnd.jupyter.widget-view+json": {
       "model_id": "a70122b1867d485a9e70470469e23925",
       "version_major": 2,
       "version_minor": 0
      },
      "text/plain": [
       "  0%|          | 0/12 [00:00<?, ?it/s]"
      ]
     },
     "metadata": {},
     "output_type": "display_data"
    },
    {
     "name": "stdout",
     "output_type": "stream",
     "text": [
      "Epoch [22], Train Loss : [0.16842] Val Loss : [0.17445] Val F1 Score : [0.76876]\n",
      "Epoch 00023: reducing learning rate of group 0 to 5.8594e-05.\n"
     ]
    },
    {
     "data": {
      "application/vnd.jupyter.widget-view+json": {
       "model_id": "ea7dacee8bee48c692bb7ae8ef630f1c",
       "version_major": 2,
       "version_minor": 0
      },
      "text/plain": [
       "  0%|          | 0/45 [00:00<?, ?it/s]"
      ]
     },
     "metadata": {},
     "output_type": "display_data"
    },
    {
     "data": {
      "application/vnd.jupyter.widget-view+json": {
       "model_id": "b78af252eac04297a44768f17f84f21d",
       "version_major": 2,
       "version_minor": 0
      },
      "text/plain": [
       "  0%|          | 0/12 [00:00<?, ?it/s]"
      ]
     },
     "metadata": {},
     "output_type": "display_data"
    },
    {
     "name": "stdout",
     "output_type": "stream",
     "text": [
      "Epoch [23], Train Loss : [0.17011] Val Loss : [0.17694] Val F1 Score : [0.76666]\n"
     ]
    },
    {
     "data": {
      "application/vnd.jupyter.widget-view+json": {
       "model_id": "56065e3ed2db40359d77f1f6bed1f49d",
       "version_major": 2,
       "version_minor": 0
      },
      "text/plain": [
       "  0%|          | 0/45 [00:00<?, ?it/s]"
      ]
     },
     "metadata": {},
     "output_type": "display_data"
    },
    {
     "data": {
      "application/vnd.jupyter.widget-view+json": {
       "model_id": "db6a48110dc949e0ac548e505d4e72a0",
       "version_major": 2,
       "version_minor": 0
      },
      "text/plain": [
       "  0%|          | 0/12 [00:00<?, ?it/s]"
      ]
     },
     "metadata": {},
     "output_type": "display_data"
    },
    {
     "name": "stdout",
     "output_type": "stream",
     "text": [
      "Epoch [24], Train Loss : [0.16755] Val Loss : [0.17211] Val F1 Score : [0.77188]\n",
      "Epoch 00025: reducing learning rate of group 0 to 2.9297e-05.\n"
     ]
    },
    {
     "data": {
      "application/vnd.jupyter.widget-view+json": {
       "model_id": "6d029a795de14f8ea417d1c4919cd8a9",
       "version_major": 2,
       "version_minor": 0
      },
      "text/plain": [
       "  0%|          | 0/45 [00:00<?, ?it/s]"
      ]
     },
     "metadata": {},
     "output_type": "display_data"
    },
    {
     "data": {
      "application/vnd.jupyter.widget-view+json": {
       "model_id": "ea92a3ab11424ca1b34eca005fa4ad2f",
       "version_major": 2,
       "version_minor": 0
      },
      "text/plain": [
       "  0%|          | 0/12 [00:00<?, ?it/s]"
      ]
     },
     "metadata": {},
     "output_type": "display_data"
    },
    {
     "name": "stdout",
     "output_type": "stream",
     "text": [
      "Epoch [25], Train Loss : [0.17283] Val Loss : [0.17463] Val F1 Score : [0.76841]\n"
     ]
    },
    {
     "data": {
      "application/vnd.jupyter.widget-view+json": {
       "model_id": "8e775539be7b4e359f257c51a9d4c356",
       "version_major": 2,
       "version_minor": 0
      },
      "text/plain": [
       "  0%|          | 0/45 [00:00<?, ?it/s]"
      ]
     },
     "metadata": {},
     "output_type": "display_data"
    },
    {
     "data": {
      "application/vnd.jupyter.widget-view+json": {
       "model_id": "6bb629b2ecbc4d07bcb62b242c713b86",
       "version_major": 2,
       "version_minor": 0
      },
      "text/plain": [
       "  0%|          | 0/12 [00:00<?, ?it/s]"
      ]
     },
     "metadata": {},
     "output_type": "display_data"
    },
    {
     "name": "stdout",
     "output_type": "stream",
     "text": [
      "Epoch [26], Train Loss : [0.17036] Val Loss : [0.17272] Val F1 Score : [0.77474]\n"
     ]
    },
    {
     "data": {
      "application/vnd.jupyter.widget-view+json": {
       "model_id": "2738689166bd4b238f41957660e39b8a",
       "version_major": 2,
       "version_minor": 0
      },
      "text/plain": [
       "  0%|          | 0/45 [00:00<?, ?it/s]"
      ]
     },
     "metadata": {},
     "output_type": "display_data"
    },
    {
     "data": {
      "application/vnd.jupyter.widget-view+json": {
       "model_id": "cc01e98a07da47ebb9081ad35c1e09e6",
       "version_major": 2,
       "version_minor": 0
      },
      "text/plain": [
       "  0%|          | 0/12 [00:00<?, ?it/s]"
      ]
     },
     "metadata": {},
     "output_type": "display_data"
    },
    {
     "name": "stdout",
     "output_type": "stream",
     "text": [
      "Epoch [27], Train Loss : [0.16633] Val Loss : [0.17854] Val F1 Score : [0.76545]\n"
     ]
    },
    {
     "data": {
      "application/vnd.jupyter.widget-view+json": {
       "model_id": "898114df8943477cadc8db71a40f014e",
       "version_major": 2,
       "version_minor": 0
      },
      "text/plain": [
       "  0%|          | 0/45 [00:00<?, ?it/s]"
      ]
     },
     "metadata": {},
     "output_type": "display_data"
    },
    {
     "data": {
      "application/vnd.jupyter.widget-view+json": {
       "model_id": "a651e21ddb8d4618a758cba55d278a58",
       "version_major": 2,
       "version_minor": 0
      },
      "text/plain": [
       "  0%|          | 0/12 [00:00<?, ?it/s]"
      ]
     },
     "metadata": {},
     "output_type": "display_data"
    },
    {
     "name": "stdout",
     "output_type": "stream",
     "text": [
      "Epoch [28], Train Loss : [0.17463] Val Loss : [0.17708] Val F1 Score : [0.76576]\n",
      "Epoch 00029: reducing learning rate of group 0 to 1.4648e-05.\n"
     ]
    },
    {
     "data": {
      "application/vnd.jupyter.widget-view+json": {
       "model_id": "9df4cf7674544761be0f60a7981c32a1",
       "version_major": 2,
       "version_minor": 0
      },
      "text/plain": [
       "  0%|          | 0/45 [00:00<?, ?it/s]"
      ]
     },
     "metadata": {},
     "output_type": "display_data"
    },
    {
     "data": {
      "application/vnd.jupyter.widget-view+json": {
       "model_id": "7f53d316ba35455c9911ebb394c8fcf9",
       "version_major": 2,
       "version_minor": 0
      },
      "text/plain": [
       "  0%|          | 0/12 [00:00<?, ?it/s]"
      ]
     },
     "metadata": {},
     "output_type": "display_data"
    },
    {
     "name": "stdout",
     "output_type": "stream",
     "text": [
      "Epoch [29], Train Loss : [0.17652] Val Loss : [0.17823] Val F1 Score : [0.76595]\n",
      "Teacher Train Best Score는 0.7747374429223743 입니다.\n"
     ]
    }
   ],
   "source": [
    "model = Teacher()\n",
    "model.eval()\n",
    "print(\"-\"*30)\n",
    "# print(list(model.parameters()))   # check out the parameters\n",
    "print(\"-\"*30)\n",
    "# print(model.state_dict())   # list the named parameters\n",
    "print(\"-\"*30)\n",
    "optimizer = torch.optim.Adam(model.parameters(), lr=CFG['LEARNING_RATE'])\n",
    "scheduler = torch.optim.lr_scheduler.ReduceLROnPlateau(optimizer, mode='max', factor=0.5, patience=1, threshold_mode='abs',min_lr=1e-8, verbose=True)\n",
    "\n",
    "teacher_model = train(model, optimizer, train_loader, val_loader, scheduler, device)"
   ]
  },
  {
   "cell_type": "code",
   "execution_count": 1211,
   "id": "627a68fe",
   "metadata": {},
   "outputs": [],
   "source": [
    "PATH1 = f\"./models/teacher_net{file_version}.pth\"\n",
    "torch.save(teacher_model.state_dict(), PATH1)"
   ]
  },
  {
   "cell_type": "code",
   "execution_count": 1212,
   "id": "89707003",
   "metadata": {},
   "outputs": [
    {
     "data": {
      "text/plain": [
       "Teacher(\n",
       "  (classifier): Sequential(\n",
       "    (0): Linear(in_features=61, out_features=256, bias=True)\n",
       "    (1): Dropout(p=0.2, inplace=False)\n",
       "    (2): BatchNorm1d(256, eps=1e-05, momentum=0.1, affine=True, track_running_stats=True)\n",
       "    (3): LeakyReLU(negative_slope=0.01)\n",
       "    (4): Linear(in_features=256, out_features=1024, bias=True)\n",
       "    (5): Dropout(p=0.2, inplace=False)\n",
       "    (6): BatchNorm1d(1024, eps=1e-05, momentum=0.1, affine=True, track_running_stats=True)\n",
       "    (7): LeakyReLU(negative_slope=0.01)\n",
       "    (8): Linear(in_features=1024, out_features=256, bias=True)\n",
       "    (9): Dropout(p=0.2, inplace=False)\n",
       "    (10): BatchNorm1d(256, eps=1e-05, momentum=0.1, affine=True, track_running_stats=True)\n",
       "    (11): LeakyReLU(negative_slope=0.01)\n",
       "    (12): Linear(in_features=256, out_features=1, bias=True)\n",
       "    (13): Sigmoid()\n",
       "  )\n",
       ")"
      ]
     },
     "execution_count": 1212,
     "metadata": {},
     "output_type": "execute_result"
    }
   ],
   "source": [
    "teacher_model = Teacher()\n",
    "teacher_model.load_state_dict(torch.load(PATH))\n",
    "teacher_model"
   ]
  },
  {
   "cell_type": "code",
   "execution_count": 1213,
   "id": "b5047ada",
   "metadata": {},
   "outputs": [],
   "source": [
    "class Student(nn.Module):\n",
    "    def __init__(self):\n",
    "        super(Student, self).__init__()\n",
    "        self.classifier = nn.Sequential(\n",
    "            nn.Linear(in_features=test_col_num, out_features=128),\n",
    "            nn.Dropout(p=CFG['drop_rate']),\n",
    "            nn.BatchNorm1d(128),\n",
    "            nn.LeakyReLU(),\n",
    "            nn.Linear(in_features=128, out_features=512),\n",
    "            nn.Dropout(p=CFG['drop_rate']),\n",
    "            nn.BatchNorm1d(512),\n",
    "            nn.LeakyReLU(),\n",
    "            nn.Linear(in_features=512, out_features=128),\n",
    "            nn.Dropout(p=CFG['drop_rate']),\n",
    "            nn.BatchNorm1d(128),\n",
    "            nn.LeakyReLU(),\n",
    "            nn.Linear(in_features=128, out_features=1),\n",
    "            nn.Sigmoid()\n",
    "        )\n",
    "        \n",
    "    def forward(self, x):\n",
    "        output = self.classifier(x)\n",
    "        return output"
   ]
  },
  {
   "cell_type": "code",
   "execution_count": 1214,
   "id": "fa70fa41",
   "metadata": {},
   "outputs": [],
   "source": [
    "# # distillation Function 정의\n",
    "\n",
    "# def distillation(student_logits, labels, teacher_logits, alpha):\n",
    "    \n",
    "#     student_loss = nn.BCELoss(reduction = CFG['reduct'])(student_logits, labels.reshape(-1, 1))\n",
    "#     distillation_loss = nn.BCELoss()(student_logits, teacher_logits)\n",
    "    \n",
    "#     return alpha * student_loss + (1-alpha) * distillation_loss\n",
    "\n",
    "# def distill_loss(output, target, teacher_output, loss_fn=distillation, opt=optimizer):\n",
    "#     loss_b = loss_fn(output, target, teacher_output, alpha=0.1)\n",
    "\n",
    "#     if opt is not None:\n",
    "#         opt.zero_grad()\n",
    "#         loss_b.backward()\n",
    "#         opt.step()\n",
    "\n",
    "#     return loss_b.item()"
   ]
  },
  {
   "cell_type": "code",
   "execution_count": 1215,
   "id": "ccfa60b2",
   "metadata": {},
   "outputs": [],
   "source": [
    "# distillation Function 정의\n",
    "\n",
    "def distillation(student_logits, labels, teacher_logits, alpha, T):\n",
    "    \n",
    "    student_loss = nn.BCELoss(reduction = CFG['reduct'])(student_logits, labels.reshape(-1, 1)) #BCEWithLogitsLoss\n",
    "#     student_loss = nn.BCEWithLogitsLoss(reduction = CFG['reduct'])(student_logits, labels.reshape(-1, 1)) #BCEWithLogitsLoss\n",
    "\n",
    "    distillation_loss = nn.KLDivLoss(reduction='batchmean')(F.log_softmax(student_logits/T, dim=1), F.softmax(teacher_logits/T, dim=1)) * (T * T)\n",
    "    \n",
    "    return alpha * student_loss + (1-alpha) * distillation_loss\n",
    "\n",
    "def distill_loss(output, target, teacher_output, loss_fn=distillation, opt=optimizer):\n",
    "    loss_b = loss_fn(output, target, teacher_output, alpha=0.1, T=10)\n",
    "\n",
    "    if opt is not None:\n",
    "        opt.zero_grad()\n",
    "        loss_b.backward()\n",
    "        opt.step()\n",
    "\n",
    "    return loss_b.item()"
   ]
  },
  {
   "cell_type": "code",
   "execution_count": null,
   "id": "c0faeae8",
   "metadata": {},
   "outputs": [],
   "source": []
  },
  {
   "cell_type": "code",
   "execution_count": 1216,
   "id": "c48a9f9b",
   "metadata": {},
   "outputs": [],
   "source": [
    "def student_train(s_model, t_model, optimizer, train_loader, val_loader, scheduler, device):\n",
    "    s_model.to(device)\n",
    "    t_model.to(device)\n",
    "    \n",
    "    best_score = 0\n",
    "    best_model = None\n",
    "\n",
    "    for epoch in range(CFG[\"EPOCHS\"]):\n",
    "        train_loss = []\n",
    "        s_model.train()\n",
    "        t_model.eval()    # teather는 이번에는 학습하지 않으므로 .eval()로 불러온다\n",
    "        \n",
    "        for X_t, X_s, y in tqdm(train_loader):\n",
    "            X_t = X_t.float().to(device)\n",
    "            X_s = X_s.float().to(device)\n",
    "            y = y.float().to(device)\n",
    "            \n",
    "            optimizer.zero_grad()\n",
    "\n",
    "            output = s_model(X_s)\n",
    "            with torch.no_grad():\n",
    "                teacher_output = t_model(X_t)\n",
    "                \n",
    "            loss_b = distill_loss(output, y, teacher_output, loss_fn=distillation, opt=optimizer)\n",
    "\n",
    "            train_loss.append(loss_b)\n",
    "\n",
    "        val_loss, val_score = validation_student(s_model, t_model, val_loader, distill_loss, device)\n",
    "        print(f'Epoch [{epoch}], Train Loss : [{np.mean(train_loss) :.5f}] Val Loss : [{np.mean(val_loss) :.5f}] Val F1 Score : [{val_score:.5f}]')\n",
    "        \n",
    "        if scheduler is not None:\n",
    "            scheduler.step(val_score)\n",
    "            \n",
    "        if best_score < val_score:\n",
    "            best_model = s_model\n",
    "            best_score = val_score\n",
    "    \n",
    "    print(f\"Student Train Best Score는 {best_score} 입니다.\")\n",
    "        \n",
    "    return best_model"
   ]
  },
  {
   "cell_type": "code",
   "execution_count": 1217,
   "id": "40c58ef2",
   "metadata": {},
   "outputs": [],
   "source": [
    "def validation_student(s_model, t_model, val_loader, criterion, device):\n",
    "    s_model.eval()\n",
    "    t_model.eval()\n",
    "\n",
    "    val_loss = []\n",
    "    pred_labels = []\n",
    "    true_labels = []\n",
    "    threshold = CFG['S_Thresh']\n",
    "    \n",
    "    with torch.no_grad():\n",
    "        for X_t, X_s, y in tqdm(val_loader):\n",
    "            X_t = X_t.float().to(device)\n",
    "            X_s = X_s.float().to(device)\n",
    "            y = y.float().to(device)\n",
    "            \n",
    "            model_pred = s_model(X_s)\n",
    "            teacher_output = t_model(X_t)\n",
    "            \n",
    "            loss_b = distill_loss(model_pred, y, teacher_output, loss_fn=distillation, opt=None)\n",
    "            val_loss.append(loss_b)\n",
    "            \n",
    "            model_pred = model_pred.squeeze(1).to('cpu')\n",
    "            pred_labels += model_pred.tolist()\n",
    "            true_labels += y.tolist()\n",
    "        \n",
    "        pred_labels = np.where(np.array(pred_labels) > threshold, 1, 0)\n",
    "        val_f1 = competition_metric(true_labels, pred_labels)\n",
    "    return val_loss, val_f1    "
   ]
  },
  {
   "cell_type": "code",
   "execution_count": 1218,
   "id": "d9a826b0",
   "metadata": {},
   "outputs": [],
   "source": [
    "train_dataset = CustomDataset(train_X, train_y, True)\n",
    "val_dataset = CustomDataset(val_X, val_y, True)\n",
    "\n",
    "train_loader = DataLoader(train_dataset, batch_size = CFG['BATCH_SIZE'], shuffle=True)\n",
    "val_loader = DataLoader(val_dataset, batch_size = CFG['BATCH_SIZE'], shuffle=False)"
   ]
  },
  {
   "cell_type": "code",
   "execution_count": 1219,
   "id": "fb3e89bc",
   "metadata": {
    "scrolled": false
   },
   "outputs": [
    {
     "data": {
      "application/vnd.jupyter.widget-view+json": {
       "model_id": "49734abd4b3b4b8fadabf01213fac062",
       "version_major": 2,
       "version_minor": 0
      },
      "text/plain": [
       "  0%|          | 0/45 [00:00<?, ?it/s]"
      ]
     },
     "metadata": {},
     "output_type": "display_data"
    },
    {
     "data": {
      "application/vnd.jupyter.widget-view+json": {
       "model_id": "07e113b356824e7e95974a786b96fe58",
       "version_major": 2,
       "version_minor": 0
      },
      "text/plain": [
       "  0%|          | 0/12 [00:00<?, ?it/s]"
      ]
     },
     "metadata": {},
     "output_type": "display_data"
    },
    {
     "name": "stdout",
     "output_type": "stream",
     "text": [
      "Epoch [0], Train Loss : [0.05925] Val Loss : [0.05153] Val F1 Score : [0.15502]\n"
     ]
    },
    {
     "data": {
      "application/vnd.jupyter.widget-view+json": {
       "model_id": "a4dae7b9c67d4846810bbd3939c1048a",
       "version_major": 2,
       "version_minor": 0
      },
      "text/plain": [
       "  0%|          | 0/45 [00:00<?, ?it/s]"
      ]
     },
     "metadata": {},
     "output_type": "display_data"
    },
    {
     "data": {
      "application/vnd.jupyter.widget-view+json": {
       "model_id": "d9219718cc5e409983c62ef74850129d",
       "version_major": 2,
       "version_minor": 0
      },
      "text/plain": [
       "  0%|          | 0/12 [00:00<?, ?it/s]"
      ]
     },
     "metadata": {},
     "output_type": "display_data"
    },
    {
     "name": "stdout",
     "output_type": "stream",
     "text": [
      "Epoch [1], Train Loss : [0.04324] Val Loss : [0.04291] Val F1 Score : [0.46017]\n"
     ]
    },
    {
     "data": {
      "application/vnd.jupyter.widget-view+json": {
       "model_id": "ead63ffc91b64175849512b38cf3267d",
       "version_major": 2,
       "version_minor": 0
      },
      "text/plain": [
       "  0%|          | 0/45 [00:00<?, ?it/s]"
      ]
     },
     "metadata": {},
     "output_type": "display_data"
    },
    {
     "data": {
      "application/vnd.jupyter.widget-view+json": {
       "model_id": "0ec4076dfaa44c0092b0deb50ad605f3",
       "version_major": 2,
       "version_minor": 0
      },
      "text/plain": [
       "  0%|          | 0/12 [00:00<?, ?it/s]"
      ]
     },
     "metadata": {},
     "output_type": "display_data"
    },
    {
     "name": "stdout",
     "output_type": "stream",
     "text": [
      "Epoch [2], Train Loss : [0.03691] Val Loss : [0.03843] Val F1 Score : [0.50870]\n"
     ]
    },
    {
     "data": {
      "application/vnd.jupyter.widget-view+json": {
       "model_id": "e240785806994ba09fa51d33d667a59d",
       "version_major": 2,
       "version_minor": 0
      },
      "text/plain": [
       "  0%|          | 0/45 [00:00<?, ?it/s]"
      ]
     },
     "metadata": {},
     "output_type": "display_data"
    },
    {
     "data": {
      "application/vnd.jupyter.widget-view+json": {
       "model_id": "2321efc019104d0593f8a8c4b5495582",
       "version_major": 2,
       "version_minor": 0
      },
      "text/plain": [
       "  0%|          | 0/12 [00:00<?, ?it/s]"
      ]
     },
     "metadata": {},
     "output_type": "display_data"
    },
    {
     "name": "stdout",
     "output_type": "stream",
     "text": [
      "Epoch [3], Train Loss : [0.03380] Val Loss : [0.03586] Val F1 Score : [0.49565]\n"
     ]
    },
    {
     "data": {
      "application/vnd.jupyter.widget-view+json": {
       "model_id": "70d30f3967d24c458018aacfc645f0e1",
       "version_major": 2,
       "version_minor": 0
      },
      "text/plain": [
       "  0%|          | 0/45 [00:00<?, ?it/s]"
      ]
     },
     "metadata": {},
     "output_type": "display_data"
    },
    {
     "data": {
      "application/vnd.jupyter.widget-view+json": {
       "model_id": "a75bbc05c7d04d7b95fe5063fc938a41",
       "version_major": 2,
       "version_minor": 0
      },
      "text/plain": [
       "  0%|          | 0/12 [00:00<?, ?it/s]"
      ]
     },
     "metadata": {},
     "output_type": "display_data"
    },
    {
     "name": "stdout",
     "output_type": "stream",
     "text": [
      "Epoch [4], Train Loss : [0.03267] Val Loss : [0.03381] Val F1 Score : [0.48543]\n",
      "Epoch 00005: reducing learning rate of group 0 to 1.5000e-02.\n"
     ]
    },
    {
     "data": {
      "application/vnd.jupyter.widget-view+json": {
       "model_id": "c61dd3a0a8d2406aae7159770010147f",
       "version_major": 2,
       "version_minor": 0
      },
      "text/plain": [
       "  0%|          | 0/45 [00:00<?, ?it/s]"
      ]
     },
     "metadata": {},
     "output_type": "display_data"
    },
    {
     "data": {
      "application/vnd.jupyter.widget-view+json": {
       "model_id": "e8846345f86145fc8d66af7dde3069be",
       "version_major": 2,
       "version_minor": 0
      },
      "text/plain": [
       "  0%|          | 0/12 [00:00<?, ?it/s]"
      ]
     },
     "metadata": {},
     "output_type": "display_data"
    },
    {
     "name": "stdout",
     "output_type": "stream",
     "text": [
      "Epoch [5], Train Loss : [0.03201] Val Loss : [0.03300] Val F1 Score : [0.48543]\n"
     ]
    },
    {
     "data": {
      "application/vnd.jupyter.widget-view+json": {
       "model_id": "86348159e0b84fea9f20d7a1535c3edb",
       "version_major": 2,
       "version_minor": 0
      },
      "text/plain": [
       "  0%|          | 0/45 [00:00<?, ?it/s]"
      ]
     },
     "metadata": {},
     "output_type": "display_data"
    },
    {
     "data": {
      "application/vnd.jupyter.widget-view+json": {
       "model_id": "4d1f7d9ddf6f4463a420c8c24f766934",
       "version_major": 2,
       "version_minor": 0
      },
      "text/plain": [
       "  0%|          | 0/12 [00:00<?, ?it/s]"
      ]
     },
     "metadata": {},
     "output_type": "display_data"
    },
    {
     "name": "stdout",
     "output_type": "stream",
     "text": [
      "Epoch [6], Train Loss : [0.03133] Val Loss : [0.03248] Val F1 Score : [0.48530]\n",
      "Epoch 00007: reducing learning rate of group 0 to 7.5000e-03.\n"
     ]
    },
    {
     "data": {
      "application/vnd.jupyter.widget-view+json": {
       "model_id": "8129f9523c304abf97947fa2114f417d",
       "version_major": 2,
       "version_minor": 0
      },
      "text/plain": [
       "  0%|          | 0/45 [00:00<?, ?it/s]"
      ]
     },
     "metadata": {},
     "output_type": "display_data"
    },
    {
     "data": {
      "application/vnd.jupyter.widget-view+json": {
       "model_id": "cd388fa7fe214eaa906392e74e43290e",
       "version_major": 2,
       "version_minor": 0
      },
      "text/plain": [
       "  0%|          | 0/12 [00:00<?, ?it/s]"
      ]
     },
     "metadata": {},
     "output_type": "display_data"
    },
    {
     "name": "stdout",
     "output_type": "stream",
     "text": [
      "Epoch [7], Train Loss : [0.03116] Val Loss : [0.03248] Val F1 Score : [0.48530]\n"
     ]
    },
    {
     "data": {
      "application/vnd.jupyter.widget-view+json": {
       "model_id": "b3d89ce420094410b94aea79a9951f31",
       "version_major": 2,
       "version_minor": 0
      },
      "text/plain": [
       "  0%|          | 0/45 [00:00<?, ?it/s]"
      ]
     },
     "metadata": {},
     "output_type": "display_data"
    },
    {
     "data": {
      "application/vnd.jupyter.widget-view+json": {
       "model_id": "fb92f2e1a9fd4618a0d31e323d3f3cc7",
       "version_major": 2,
       "version_minor": 0
      },
      "text/plain": [
       "  0%|          | 0/12 [00:00<?, ?it/s]"
      ]
     },
     "metadata": {},
     "output_type": "display_data"
    },
    {
     "name": "stdout",
     "output_type": "stream",
     "text": [
      "Epoch [8], Train Loss : [0.03045] Val Loss : [0.03193] Val F1 Score : [0.48530]\n",
      "Epoch 00009: reducing learning rate of group 0 to 3.7500e-03.\n"
     ]
    },
    {
     "data": {
      "application/vnd.jupyter.widget-view+json": {
       "model_id": "ad3cf64979ba4f3798107d0deb7d8090",
       "version_major": 2,
       "version_minor": 0
      },
      "text/plain": [
       "  0%|          | 0/45 [00:00<?, ?it/s]"
      ]
     },
     "metadata": {},
     "output_type": "display_data"
    },
    {
     "data": {
      "application/vnd.jupyter.widget-view+json": {
       "model_id": "e68dc353cd01432c9efb13505713e600",
       "version_major": 2,
       "version_minor": 0
      },
      "text/plain": [
       "  0%|          | 0/12 [00:00<?, ?it/s]"
      ]
     },
     "metadata": {},
     "output_type": "display_data"
    },
    {
     "name": "stdout",
     "output_type": "stream",
     "text": [
      "Epoch [9], Train Loss : [0.03072] Val Loss : [0.03184] Val F1 Score : [0.48921]\n"
     ]
    },
    {
     "data": {
      "application/vnd.jupyter.widget-view+json": {
       "model_id": "961e6d12b91a430b980d30c28ed073a8",
       "version_major": 2,
       "version_minor": 0
      },
      "text/plain": [
       "  0%|          | 0/45 [00:00<?, ?it/s]"
      ]
     },
     "metadata": {},
     "output_type": "display_data"
    },
    {
     "data": {
      "application/vnd.jupyter.widget-view+json": {
       "model_id": "d14352acecbf4753869e346ec29eb057",
       "version_major": 2,
       "version_minor": 0
      },
      "text/plain": [
       "  0%|          | 0/12 [00:00<?, ?it/s]"
      ]
     },
     "metadata": {},
     "output_type": "display_data"
    },
    {
     "name": "stdout",
     "output_type": "stream",
     "text": [
      "Epoch [10], Train Loss : [0.03091] Val Loss : [0.03176] Val F1 Score : [0.48530]\n",
      "Epoch 00011: reducing learning rate of group 0 to 1.8750e-03.\n"
     ]
    },
    {
     "data": {
      "application/vnd.jupyter.widget-view+json": {
       "model_id": "c37d0fe6457443ee8b3b0fcb83069703",
       "version_major": 2,
       "version_minor": 0
      },
      "text/plain": [
       "  0%|          | 0/45 [00:00<?, ?it/s]"
      ]
     },
     "metadata": {},
     "output_type": "display_data"
    },
    {
     "data": {
      "application/vnd.jupyter.widget-view+json": {
       "model_id": "ff0b4a1befb1442587824bd51293aec2",
       "version_major": 2,
       "version_minor": 0
      },
      "text/plain": [
       "  0%|          | 0/12 [00:00<?, ?it/s]"
      ]
     },
     "metadata": {},
     "output_type": "display_data"
    },
    {
     "name": "stdout",
     "output_type": "stream",
     "text": [
      "Epoch [11], Train Loss : [0.03042] Val Loss : [0.03159] Val F1 Score : [0.48543]\n"
     ]
    },
    {
     "data": {
      "application/vnd.jupyter.widget-view+json": {
       "model_id": "5c986ddc23b94c5ab3f93f1381598fb9",
       "version_major": 2,
       "version_minor": 0
      },
      "text/plain": [
       "  0%|          | 0/45 [00:00<?, ?it/s]"
      ]
     },
     "metadata": {},
     "output_type": "display_data"
    },
    {
     "data": {
      "application/vnd.jupyter.widget-view+json": {
       "model_id": "5c62e1167a2043db9735031d1375be72",
       "version_major": 2,
       "version_minor": 0
      },
      "text/plain": [
       "  0%|          | 0/12 [00:00<?, ?it/s]"
      ]
     },
     "metadata": {},
     "output_type": "display_data"
    },
    {
     "name": "stdout",
     "output_type": "stream",
     "text": [
      "Epoch [12], Train Loss : [0.03060] Val Loss : [0.03148] Val F1 Score : [0.48530]\n",
      "Epoch 00013: reducing learning rate of group 0 to 9.3750e-04.\n"
     ]
    },
    {
     "data": {
      "application/vnd.jupyter.widget-view+json": {
       "model_id": "46d993a56da2432fb19051c2638ca11b",
       "version_major": 2,
       "version_minor": 0
      },
      "text/plain": [
       "  0%|          | 0/45 [00:00<?, ?it/s]"
      ]
     },
     "metadata": {},
     "output_type": "display_data"
    },
    {
     "data": {
      "application/vnd.jupyter.widget-view+json": {
       "model_id": "d81ec998c3b741babb54bef798c3a981",
       "version_major": 2,
       "version_minor": 0
      },
      "text/plain": [
       "  0%|          | 0/12 [00:00<?, ?it/s]"
      ]
     },
     "metadata": {},
     "output_type": "display_data"
    },
    {
     "name": "stdout",
     "output_type": "stream",
     "text": [
      "Epoch [13], Train Loss : [0.03139] Val Loss : [0.03170] Val F1 Score : [0.48530]\n"
     ]
    },
    {
     "data": {
      "application/vnd.jupyter.widget-view+json": {
       "model_id": "34d56da85c364f2d81114aaf3103631d",
       "version_major": 2,
       "version_minor": 0
      },
      "text/plain": [
       "  0%|          | 0/45 [00:00<?, ?it/s]"
      ]
     },
     "metadata": {},
     "output_type": "display_data"
    },
    {
     "data": {
      "application/vnd.jupyter.widget-view+json": {
       "model_id": "d143ffd07a664404956eed6d25463450",
       "version_major": 2,
       "version_minor": 0
      },
      "text/plain": [
       "  0%|          | 0/12 [00:00<?, ?it/s]"
      ]
     },
     "metadata": {},
     "output_type": "display_data"
    },
    {
     "name": "stdout",
     "output_type": "stream",
     "text": [
      "Epoch [14], Train Loss : [0.03058] Val Loss : [0.03174] Val F1 Score : [0.48543]\n",
      "Epoch 00015: reducing learning rate of group 0 to 4.6875e-04.\n"
     ]
    },
    {
     "data": {
      "application/vnd.jupyter.widget-view+json": {
       "model_id": "63fcfb76ac4046398d4c48541357a6e3",
       "version_major": 2,
       "version_minor": 0
      },
      "text/plain": [
       "  0%|          | 0/45 [00:00<?, ?it/s]"
      ]
     },
     "metadata": {},
     "output_type": "display_data"
    },
    {
     "data": {
      "application/vnd.jupyter.widget-view+json": {
       "model_id": "04df3263947b463fa65505e99226dc8c",
       "version_major": 2,
       "version_minor": 0
      },
      "text/plain": [
       "  0%|          | 0/12 [00:00<?, ?it/s]"
      ]
     },
     "metadata": {},
     "output_type": "display_data"
    },
    {
     "name": "stdout",
     "output_type": "stream",
     "text": [
      "Epoch [15], Train Loss : [0.03058] Val Loss : [0.03155] Val F1 Score : [0.48556]\n"
     ]
    },
    {
     "data": {
      "application/vnd.jupyter.widget-view+json": {
       "model_id": "dfe6cd73ea5e431aa88c58d298907273",
       "version_major": 2,
       "version_minor": 0
      },
      "text/plain": [
       "  0%|          | 0/45 [00:00<?, ?it/s]"
      ]
     },
     "metadata": {},
     "output_type": "display_data"
    },
    {
     "data": {
      "application/vnd.jupyter.widget-view+json": {
       "model_id": "075f0236da114c998bf7a4aaf09b0e94",
       "version_major": 2,
       "version_minor": 0
      },
      "text/plain": [
       "  0%|          | 0/12 [00:00<?, ?it/s]"
      ]
     },
     "metadata": {},
     "output_type": "display_data"
    },
    {
     "name": "stdout",
     "output_type": "stream",
     "text": [
      "Epoch [16], Train Loss : [0.03049] Val Loss : [0.03196] Val F1 Score : [0.48907]\n",
      "Epoch 00017: reducing learning rate of group 0 to 2.3437e-04.\n"
     ]
    },
    {
     "data": {
      "application/vnd.jupyter.widget-view+json": {
       "model_id": "7efd4af7b72345409af9dea160321055",
       "version_major": 2,
       "version_minor": 0
      },
      "text/plain": [
       "  0%|          | 0/45 [00:00<?, ?it/s]"
      ]
     },
     "metadata": {},
     "output_type": "display_data"
    },
    {
     "data": {
      "application/vnd.jupyter.widget-view+json": {
       "model_id": "fffb3c8e4687475cb573aea2b50b2533",
       "version_major": 2,
       "version_minor": 0
      },
      "text/plain": [
       "  0%|          | 0/12 [00:00<?, ?it/s]"
      ]
     },
     "metadata": {},
     "output_type": "display_data"
    },
    {
     "name": "stdout",
     "output_type": "stream",
     "text": [
      "Epoch [17], Train Loss : [0.03045] Val Loss : [0.03166] Val F1 Score : [0.48517]\n"
     ]
    },
    {
     "data": {
      "application/vnd.jupyter.widget-view+json": {
       "model_id": "c60466e387464d8d854d916e6f180faf",
       "version_major": 2,
       "version_minor": 0
      },
      "text/plain": [
       "  0%|          | 0/45 [00:00<?, ?it/s]"
      ]
     },
     "metadata": {},
     "output_type": "display_data"
    },
    {
     "data": {
      "application/vnd.jupyter.widget-view+json": {
       "model_id": "05110f1df6954240b0f8ed65032970e9",
       "version_major": 2,
       "version_minor": 0
      },
      "text/plain": [
       "  0%|          | 0/12 [00:00<?, ?it/s]"
      ]
     },
     "metadata": {},
     "output_type": "display_data"
    },
    {
     "name": "stdout",
     "output_type": "stream",
     "text": [
      "Epoch [18], Train Loss : [0.03039] Val Loss : [0.03171] Val F1 Score : [0.48530]\n",
      "Epoch 00019: reducing learning rate of group 0 to 1.1719e-04.\n"
     ]
    },
    {
     "data": {
      "application/vnd.jupyter.widget-view+json": {
       "model_id": "4219955ccf054dc4bb16970f3b38fe92",
       "version_major": 2,
       "version_minor": 0
      },
      "text/plain": [
       "  0%|          | 0/45 [00:00<?, ?it/s]"
      ]
     },
     "metadata": {},
     "output_type": "display_data"
    },
    {
     "data": {
      "application/vnd.jupyter.widget-view+json": {
       "model_id": "b21216b5c92f49cf83678c7f9a6c81c1",
       "version_major": 2,
       "version_minor": 0
      },
      "text/plain": [
       "  0%|          | 0/12 [00:00<?, ?it/s]"
      ]
     },
     "metadata": {},
     "output_type": "display_data"
    },
    {
     "name": "stdout",
     "output_type": "stream",
     "text": [
      "Epoch [19], Train Loss : [0.03050] Val Loss : [0.03167] Val F1 Score : [0.48530]\n"
     ]
    },
    {
     "data": {
      "application/vnd.jupyter.widget-view+json": {
       "model_id": "6c22acf3f1bd4a56a6b61e6688349821",
       "version_major": 2,
       "version_minor": 0
      },
      "text/plain": [
       "  0%|          | 0/45 [00:00<?, ?it/s]"
      ]
     },
     "metadata": {},
     "output_type": "display_data"
    },
    {
     "data": {
      "application/vnd.jupyter.widget-view+json": {
       "model_id": "2c632fddf2584c8bba13f6ce1572442a",
       "version_major": 2,
       "version_minor": 0
      },
      "text/plain": [
       "  0%|          | 0/12 [00:00<?, ?it/s]"
      ]
     },
     "metadata": {},
     "output_type": "display_data"
    },
    {
     "name": "stdout",
     "output_type": "stream",
     "text": [
      "Epoch [20], Train Loss : [0.03092] Val Loss : [0.03189] Val F1 Score : [0.48491]\n",
      "Epoch 00021: reducing learning rate of group 0 to 5.8594e-05.\n"
     ]
    },
    {
     "data": {
      "application/vnd.jupyter.widget-view+json": {
       "model_id": "78017dfd0585498e847ab19b1d466278",
       "version_major": 2,
       "version_minor": 0
      },
      "text/plain": [
       "  0%|          | 0/45 [00:00<?, ?it/s]"
      ]
     },
     "metadata": {},
     "output_type": "display_data"
    },
    {
     "data": {
      "application/vnd.jupyter.widget-view+json": {
       "model_id": "03c1170b803e4143932711cba4f446d9",
       "version_major": 2,
       "version_minor": 0
      },
      "text/plain": [
       "  0%|          | 0/12 [00:00<?, ?it/s]"
      ]
     },
     "metadata": {},
     "output_type": "display_data"
    },
    {
     "name": "stdout",
     "output_type": "stream",
     "text": [
      "Epoch [21], Train Loss : [0.03155] Val Loss : [0.03167] Val F1 Score : [0.48530]\n"
     ]
    },
    {
     "data": {
      "application/vnd.jupyter.widget-view+json": {
       "model_id": "0f7af3487bf643158ce8e6ef9444dc24",
       "version_major": 2,
       "version_minor": 0
      },
      "text/plain": [
       "  0%|          | 0/45 [00:00<?, ?it/s]"
      ]
     },
     "metadata": {},
     "output_type": "display_data"
    },
    {
     "data": {
      "application/vnd.jupyter.widget-view+json": {
       "model_id": "fea0d2acab9b41aea867eae22b8514d3",
       "version_major": 2,
       "version_minor": 0
      },
      "text/plain": [
       "  0%|          | 0/12 [00:00<?, ?it/s]"
      ]
     },
     "metadata": {},
     "output_type": "display_data"
    },
    {
     "name": "stdout",
     "output_type": "stream",
     "text": [
      "Epoch [22], Train Loss : [0.03108] Val Loss : [0.03149] Val F1 Score : [0.48530]\n",
      "Epoch 00023: reducing learning rate of group 0 to 2.9297e-05.\n"
     ]
    },
    {
     "data": {
      "application/vnd.jupyter.widget-view+json": {
       "model_id": "ffc34bf1e74d4ffc95ba65b3f19d4dda",
       "version_major": 2,
       "version_minor": 0
      },
      "text/plain": [
       "  0%|          | 0/45 [00:00<?, ?it/s]"
      ]
     },
     "metadata": {},
     "output_type": "display_data"
    },
    {
     "data": {
      "application/vnd.jupyter.widget-view+json": {
       "model_id": "ef9f90d25da84925bcdee1fa7bb822e4",
       "version_major": 2,
       "version_minor": 0
      },
      "text/plain": [
       "  0%|          | 0/12 [00:00<?, ?it/s]"
      ]
     },
     "metadata": {},
     "output_type": "display_data"
    },
    {
     "name": "stdout",
     "output_type": "stream",
     "text": [
      "Epoch [23], Train Loss : [0.03053] Val Loss : [0.03146] Val F1 Score : [0.48543]\n"
     ]
    },
    {
     "data": {
      "application/vnd.jupyter.widget-view+json": {
       "model_id": "380144b8647c40c3afb792f582e8c78f",
       "version_major": 2,
       "version_minor": 0
      },
      "text/plain": [
       "  0%|          | 0/45 [00:00<?, ?it/s]"
      ]
     },
     "metadata": {},
     "output_type": "display_data"
    },
    {
     "data": {
      "application/vnd.jupyter.widget-view+json": {
       "model_id": "62556fb972ac4c1f86982780f7cf68e7",
       "version_major": 2,
       "version_minor": 0
      },
      "text/plain": [
       "  0%|          | 0/12 [00:00<?, ?it/s]"
      ]
     },
     "metadata": {},
     "output_type": "display_data"
    },
    {
     "name": "stdout",
     "output_type": "stream",
     "text": [
      "Epoch [24], Train Loss : [0.03070] Val Loss : [0.03149] Val F1 Score : [0.48530]\n",
      "Epoch 00025: reducing learning rate of group 0 to 1.4648e-05.\n"
     ]
    },
    {
     "data": {
      "application/vnd.jupyter.widget-view+json": {
       "model_id": "68b9a6261a594c6a96a9fd3cfdf1c601",
       "version_major": 2,
       "version_minor": 0
      },
      "text/plain": [
       "  0%|          | 0/45 [00:00<?, ?it/s]"
      ]
     },
     "metadata": {},
     "output_type": "display_data"
    },
    {
     "data": {
      "application/vnd.jupyter.widget-view+json": {
       "model_id": "be5830c501714eb4843ca5e260bea991",
       "version_major": 2,
       "version_minor": 0
      },
      "text/plain": [
       "  0%|          | 0/12 [00:00<?, ?it/s]"
      ]
     },
     "metadata": {},
     "output_type": "display_data"
    },
    {
     "name": "stdout",
     "output_type": "stream",
     "text": [
      "Epoch [25], Train Loss : [0.03071] Val Loss : [0.03178] Val F1 Score : [0.48907]\n"
     ]
    },
    {
     "data": {
      "application/vnd.jupyter.widget-view+json": {
       "model_id": "9fc49055953e4c82a13155c925193fd0",
       "version_major": 2,
       "version_minor": 0
      },
      "text/plain": [
       "  0%|          | 0/45 [00:00<?, ?it/s]"
      ]
     },
     "metadata": {},
     "output_type": "display_data"
    },
    {
     "data": {
      "application/vnd.jupyter.widget-view+json": {
       "model_id": "af15dc5b2d0843a78ec7b8bbe274d230",
       "version_major": 2,
       "version_minor": 0
      },
      "text/plain": [
       "  0%|          | 0/12 [00:00<?, ?it/s]"
      ]
     },
     "metadata": {},
     "output_type": "display_data"
    },
    {
     "name": "stdout",
     "output_type": "stream",
     "text": [
      "Epoch [26], Train Loss : [0.03039] Val Loss : [0.03177] Val F1 Score : [0.48517]\n",
      "Epoch 00027: reducing learning rate of group 0 to 7.3242e-06.\n"
     ]
    },
    {
     "data": {
      "application/vnd.jupyter.widget-view+json": {
       "model_id": "727070a50f544db3b6aa45ae39a260f7",
       "version_major": 2,
       "version_minor": 0
      },
      "text/plain": [
       "  0%|          | 0/45 [00:00<?, ?it/s]"
      ]
     },
     "metadata": {},
     "output_type": "display_data"
    },
    {
     "data": {
      "application/vnd.jupyter.widget-view+json": {
       "model_id": "72d02dd9df644cafb0561db615a137f3",
       "version_major": 2,
       "version_minor": 0
      },
      "text/plain": [
       "  0%|          | 0/12 [00:00<?, ?it/s]"
      ]
     },
     "metadata": {},
     "output_type": "display_data"
    },
    {
     "name": "stdout",
     "output_type": "stream",
     "text": [
      "Epoch [27], Train Loss : [0.03023] Val Loss : [0.03160] Val F1 Score : [0.48543]\n"
     ]
    },
    {
     "data": {
      "application/vnd.jupyter.widget-view+json": {
       "model_id": "45458e75baf44bedb9b7cf4e60e9648c",
       "version_major": 2,
       "version_minor": 0
      },
      "text/plain": [
       "  0%|          | 0/45 [00:00<?, ?it/s]"
      ]
     },
     "metadata": {},
     "output_type": "display_data"
    },
    {
     "data": {
      "application/vnd.jupyter.widget-view+json": {
       "model_id": "cec24a1419ba41358056a2d7d33cd037",
       "version_major": 2,
       "version_minor": 0
      },
      "text/plain": [
       "  0%|          | 0/12 [00:00<?, ?it/s]"
      ]
     },
     "metadata": {},
     "output_type": "display_data"
    },
    {
     "name": "stdout",
     "output_type": "stream",
     "text": [
      "Epoch [28], Train Loss : [0.03145] Val Loss : [0.03142] Val F1 Score : [0.48878]\n",
      "Epoch 00029: reducing learning rate of group 0 to 3.6621e-06.\n"
     ]
    },
    {
     "data": {
      "application/vnd.jupyter.widget-view+json": {
       "model_id": "76f5b9a9b37c4358a2e867bbfc53e315",
       "version_major": 2,
       "version_minor": 0
      },
      "text/plain": [
       "  0%|          | 0/45 [00:00<?, ?it/s]"
      ]
     },
     "metadata": {},
     "output_type": "display_data"
    },
    {
     "data": {
      "application/vnd.jupyter.widget-view+json": {
       "model_id": "7ea8c88d20c34cab9df1869c8ae27c0c",
       "version_major": 2,
       "version_minor": 0
      },
      "text/plain": [
       "  0%|          | 0/12 [00:00<?, ?it/s]"
      ]
     },
     "metadata": {},
     "output_type": "display_data"
    },
    {
     "name": "stdout",
     "output_type": "stream",
     "text": [
      "Epoch [29], Train Loss : [0.03067] Val Loss : [0.03176] Val F1 Score : [0.49290]\n",
      "Student Train Best Score는 0.5087001800553425 입니다.\n"
     ]
    }
   ],
   "source": [
    "student_model = Student()\n",
    "student_model.eval()\n",
    "optimizer = torch.optim.Adam(student_model.parameters(), lr=CFG['LEARNING_RATE'])\n",
    "scheduler = torch.optim.lr_scheduler.ReduceLROnPlateau(optimizer, mode='max', factor=0.5, patience=1, threshold_mode='abs',min_lr=1e-8, verbose=True)\n",
    "\n",
    "best_student_model = student_train(student_model, teacher_model, optimizer, train_loader, val_loader, scheduler, device)\n"
   ]
  },
  {
   "cell_type": "code",
   "execution_count": 1220,
   "id": "7daa9177",
   "metadata": {},
   "outputs": [],
   "source": [
    "PATH1 = f\"./models/student_net{file_version}.pth\"\n",
    "torch.save(best_student_model.state_dict(), PATH1)"
   ]
  },
  {
   "cell_type": "code",
   "execution_count": 1221,
   "id": "e0685b57",
   "metadata": {},
   "outputs": [
    {
     "data": {
      "text/plain": [
       "Student(\n",
       "  (classifier): Sequential(\n",
       "    (0): Linear(in_features=34, out_features=128, bias=True)\n",
       "    (1): Dropout(p=0.2, inplace=False)\n",
       "    (2): BatchNorm1d(128, eps=1e-05, momentum=0.1, affine=True, track_running_stats=True)\n",
       "    (3): LeakyReLU(negative_slope=0.01)\n",
       "    (4): Linear(in_features=128, out_features=512, bias=True)\n",
       "    (5): Dropout(p=0.2, inplace=False)\n",
       "    (6): BatchNorm1d(512, eps=1e-05, momentum=0.1, affine=True, track_running_stats=True)\n",
       "    (7): LeakyReLU(negative_slope=0.01)\n",
       "    (8): Linear(in_features=512, out_features=128, bias=True)\n",
       "    (9): Dropout(p=0.2, inplace=False)\n",
       "    (10): BatchNorm1d(128, eps=1e-05, momentum=0.1, affine=True, track_running_stats=True)\n",
       "    (11): LeakyReLU(negative_slope=0.01)\n",
       "    (12): Linear(in_features=128, out_features=1, bias=True)\n",
       "    (13): Sigmoid()\n",
       "  )\n",
       ")"
      ]
     },
     "execution_count": 1221,
     "metadata": {},
     "output_type": "execute_result"
    }
   ],
   "source": [
    "best_student_model = Student()\n",
    "best_student_model.load_state_dict(torch.load(PATH1))\n",
    "best_student_model"
   ]
  },
  {
   "cell_type": "code",
   "execution_count": 1222,
   "id": "14972350",
   "metadata": {},
   "outputs": [],
   "source": [
    "def choose_threshold(model, val_loader, device):\n",
    "    model.to(device)\n",
    "    model.eval()\n",
    "    \n",
    "#     thresholds = [0.1, 0.2, 0.25, 0.3, 0.35, 0.4, 0.45, 0.5]\n",
    "    thresholds = [0.05, 0.1, 0.15, 0.2, 0.25, 0.3]\n",
    "\n",
    "    pred_labels = []\n",
    "    true_labels = []\n",
    "    \n",
    "    best_score = 0\n",
    "    best_thr = None\n",
    "    with torch.no_grad():\n",
    "        for _, x_s, y in tqdm(iter(val_loader)):\n",
    "            x_s = x_s.float().to(device)\n",
    "            y = y.float().to(device)\n",
    "            \n",
    "            model_pred = model(x_s)\n",
    "            \n",
    "            model_pred = model_pred.squeeze(1).to('cpu')\n",
    "            pred_labels += model_pred.tolist()\n",
    "            true_labels += y.tolist()\n",
    "        \n",
    "        for threshold in thresholds:\n",
    "            pred_labels_thr = np.where(np.array(pred_labels) > threshold, 1, 0)\n",
    "            score_thr = competition_metric(true_labels, pred_labels_thr)\n",
    "            if best_score < score_thr:\n",
    "                best_score = score_thr\n",
    "                best_thr = threshold\n",
    "    return best_thr, best_score"
   ]
  },
  {
   "cell_type": "code",
   "execution_count": 1223,
   "id": "e27a1c0d",
   "metadata": {},
   "outputs": [
    {
     "data": {
      "application/vnd.jupyter.widget-view+json": {
       "model_id": "8c318f12a6ef4dbfaa1da298beebaf27",
       "version_major": 2,
       "version_minor": 0
      },
      "text/plain": [
       "  0%|          | 0/12 [00:00<?, ?it/s]"
      ]
     },
     "metadata": {},
     "output_type": "display_data"
    },
    {
     "name": "stdout",
     "output_type": "stream",
     "text": [
      "Best Threshold : [0.25], Score : [0.53666]\n"
     ]
    }
   ],
   "source": [
    "best_threshold, best_score = choose_threshold(best_student_model, val_loader, device)\n",
    "choose_threshold_result = f'Best Threshold : [{best_threshold}], Score : [{best_score:.5f}]'\n",
    "print(choose_threshold_result)"
   ]
  },
  {
   "cell_type": "code",
   "execution_count": 1224,
   "id": "2d43cf8c",
   "metadata": {},
   "outputs": [],
   "source": [
    "test_datasets = CustomDataset(test, None, False)\n",
    "test_loaders = DataLoader(test_datasets, batch_size = CFG['BATCH_SIZE'], shuffle=False)"
   ]
  },
  {
   "cell_type": "code",
   "execution_count": 1225,
   "id": "830cde01",
   "metadata": {},
   "outputs": [],
   "source": [
    "def inference(model, test_loader, threshold, device):\n",
    "    model.to(device)\n",
    "    model.eval()\n",
    "    # .eval함수는 evaluation 과정에서 사용하지 말아야 하는 layer들을 알아서 off 시키는 함수\n",
    "    \n",
    "    test_predict = []\n",
    "    with torch.no_grad():\n",
    "        for x in tqdm(test_loader):\n",
    "            x = x.float().to(device)\n",
    "            model_pred = model(x)\n",
    "\n",
    "            model_pred = model_pred.squeeze(1).to('cpu')\n",
    "            test_predict += model_pred\n",
    "        \n",
    "    test_predict = np.where(np.array(test_predict) > threshold, 1, 0)  \n",
    "    # threshhold 보다 큰 값을 찾아서 1로 바꾸고, 아닌 것은 0으로 변경해라\n",
    "    print('Done.')\n",
    "    return test_predict"
   ]
  },
  {
   "cell_type": "code",
   "execution_count": 1226,
   "id": "ccb78109",
   "metadata": {},
   "outputs": [
    {
     "data": {
      "application/vnd.jupyter.widget-view+json": {
       "model_id": "e9379b8ba9f5499aa6982cdc64aa264c",
       "version_major": 2,
       "version_minor": 0
      },
      "text/plain": [
       "  0%|          | 0/24 [00:00<?, ?it/s]"
      ]
     },
     "metadata": {},
     "output_type": "display_data"
    },
    {
     "name": "stdout",
     "output_type": "stream",
     "text": [
      "Done.\n"
     ]
    }
   ],
   "source": [
    "preds = inference(best_student_model, test_loaders, best_threshold, device)"
   ]
  },
  {
   "cell_type": "code",
   "execution_count": 1227,
   "id": "1776ac77",
   "metadata": {},
   "outputs": [
    {
     "data": {
      "text/html": [
       "<div>\n",
       "<style scoped>\n",
       "    .dataframe tbody tr th:only-of-type {\n",
       "        vertical-align: middle;\n",
       "    }\n",
       "\n",
       "    .dataframe tbody tr th {\n",
       "        vertical-align: top;\n",
       "    }\n",
       "\n",
       "    .dataframe thead th {\n",
       "        text-align: right;\n",
       "    }\n",
       "</style>\n",
       "<table border=\"1\" class=\"dataframe\">\n",
       "  <thead>\n",
       "    <tr style=\"text-align: right;\">\n",
       "      <th></th>\n",
       "      <th>ID</th>\n",
       "      <th>Y_LABEL</th>\n",
       "    </tr>\n",
       "  </thead>\n",
       "  <tbody>\n",
       "    <tr>\n",
       "      <th>0</th>\n",
       "      <td>TEST_0000</td>\n",
       "      <td>0</td>\n",
       "    </tr>\n",
       "    <tr>\n",
       "      <th>1</th>\n",
       "      <td>TEST_0001</td>\n",
       "      <td>0</td>\n",
       "    </tr>\n",
       "    <tr>\n",
       "      <th>2</th>\n",
       "      <td>TEST_0002</td>\n",
       "      <td>0</td>\n",
       "    </tr>\n",
       "    <tr>\n",
       "      <th>3</th>\n",
       "      <td>TEST_0003</td>\n",
       "      <td>0</td>\n",
       "    </tr>\n",
       "    <tr>\n",
       "      <th>4</th>\n",
       "      <td>TEST_0004</td>\n",
       "      <td>0</td>\n",
       "    </tr>\n",
       "  </tbody>\n",
       "</table>\n",
       "</div>"
      ],
      "text/plain": [
       "          ID  Y_LABEL\n",
       "0  TEST_0000        0\n",
       "1  TEST_0001        0\n",
       "2  TEST_0002        0\n",
       "3  TEST_0003        0\n",
       "4  TEST_0004        0"
      ]
     },
     "execution_count": 1227,
     "metadata": {},
     "output_type": "execute_result"
    }
   ],
   "source": [
    "submit = pd.read_csv('./data/sample_submission.csv')\n",
    "submit['Y_LABEL'] = preds\n",
    "submit.head()"
   ]
  },
  {
   "cell_type": "code",
   "execution_count": 1228,
   "id": "26cf73ae",
   "metadata": {},
   "outputs": [
    {
     "name": "stdout",
     "output_type": "stream",
     "text": [
      "정상값 개수 : 5739, 이상값 개수 : 302\n"
     ]
    }
   ],
   "source": [
    "pred_cnt = tuple(submit[\"Y_LABEL\"].value_counts())\n",
    "a, b = pred_cnt\n",
    "r = f\"정상값 개수 : {a}, 이상값 개수 : {b}\"\n",
    "print(r)"
   ]
  },
  {
   "cell_type": "code",
   "execution_count": 1229,
   "id": "ee7db9ec",
   "metadata": {},
   "outputs": [],
   "source": [
    "submit.to_csv(f'./submits/submit{file_version}.csv', index=False)"
   ]
  },
  {
   "cell_type": "code",
   "execution_count": 1230,
   "id": "b6ef03dc",
   "metadata": {},
   "outputs": [
    {
     "data": {
      "text/plain": [
       "{'ver': 20,\n",
       " 'CFG': {'EPOCHS': 30,\n",
       "  'LEARNING_RATE': 0.03,\n",
       "  'BATCH_SIZE': 256,\n",
       "  'SEED': 43,\n",
       "  'log_turn': 1,\n",
       "  'CUT': 0.006,\n",
       "  'T_Thresh': 0.325,\n",
       "  'S_Thresh': 0.325,\n",
       "  'reduct': 'mean',\n",
       "  'drop_rate': 0.2,\n",
       "  'skew_cut': 1},\n",
       " 'Val_result': 'Best Threshold : [0.25], Score : [0.53666]',\n",
       " 'pred_cnt': '정상값 개수 : 5739, 이상값 개수 : 302'}"
      ]
     },
     "execution_count": 1230,
     "metadata": {},
     "output_type": "execute_result"
    }
   ],
   "source": [
    "record = {\"ver\": file_version, \"CFG\": CFG, \"Val_result\": choose_threshold_result, \"pred_cnt\": r}\n",
    "record"
   ]
  },
  {
   "cell_type": "code",
   "execution_count": null,
   "id": "787dfed7",
   "metadata": {},
   "outputs": [],
   "source": []
  },
  {
   "cell_type": "code",
   "execution_count": null,
   "id": "f40089c3",
   "metadata": {},
   "outputs": [],
   "source": []
  }
 ],
 "metadata": {
  "kernelspec": {
   "display_name": "Python 3 (ipykernel)",
   "language": "python",
   "name": "python3"
  },
  "language_info": {
   "codemirror_mode": {
    "name": "ipython",
    "version": 3
   },
   "file_extension": ".py",
   "mimetype": "text/x-python",
   "name": "python",
   "nbconvert_exporter": "python",
   "pygments_lexer": "ipython3",
   "version": "3.8.10"
  }
 },
 "nbformat": 4,
 "nbformat_minor": 5
}
