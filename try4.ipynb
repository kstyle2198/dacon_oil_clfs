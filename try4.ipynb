{
 "cells": [
  {
   "cell_type": "markdown",
   "id": "b4f1c89d",
   "metadata": {},
   "source": [
    "# Import Libraries"
   ]
  },
  {
   "cell_type": "code",
   "execution_count": 618,
   "id": "fb4705c9",
   "metadata": {},
   "outputs": [],
   "source": [
    "import torch\n",
    "import torch.nn as nn\n",
    "import torch.nn.functional as F\n",
    "import torch.optim as optim\n",
    "from torch.utils.data import DataLoader, Dataset\n",
    "\n",
    "from sklearn.metrics import f1_score\n",
    "from sklearn.compose import ColumnTransformer\n",
    "from sklearn.preprocessing import StandardScaler, MinMaxScaler, RobustScaler\n",
    "from sklearn.preprocessing import LabelEncoder, OneHotEncoder\n",
    "from sklearn.model_selection import train_test_split\n",
    "from sklearn.model_selection import KFold, StratifiedKFold\n",
    "\n",
    "import os\n",
    "import pandas as pd\n",
    "import numpy as np\n",
    "from tqdm.auto import tqdm\n",
    "import random\n",
    "import matplotlib.pyplot as plt\n",
    "import seaborn as sns\n",
    "\n",
    "import warnings\n",
    "warnings.filterwarnings(action='ignore') \n",
    "\n",
    "device = torch.device('cuda') if torch.cuda.is_available() else torch.device('cpu')"
   ]
  },
  {
   "cell_type": "code",
   "execution_count": 619,
   "id": "960b8a45",
   "metadata": {},
   "outputs": [],
   "source": [
    "file_version = 42"
   ]
  },
  {
   "cell_type": "code",
   "execution_count": 620,
   "id": "1119d55f",
   "metadata": {},
   "outputs": [],
   "source": [
    "CFG = {\n",
    "    'EPOCHS': 30,\n",
    "    'LEARNING_RATE':1e-2,    # 0.02\n",
    "    'BATCH_SIZE':256,\n",
    "    'SEED':42,\n",
    "    'CUT': 0.004,     # drop column correlation cut line\n",
    "    'T_Thresh': 0.3,     # Teacher model train Threshhold 최초 0.35\n",
    "    'S_Thresh': 0.325,     # Student model train Threshold 최초 0.35\n",
    "    'reduct' : 'sum',\n",
    "    'drop_p': 0\n",
    "    \n",
    "}"
   ]
  },
  {
   "cell_type": "code",
   "execution_count": 621,
   "id": "62be04f6",
   "metadata": {},
   "outputs": [],
   "source": [
    "def seed_everything(seed):\n",
    "    random.seed(seed)\n",
    "    os.environ['PYTHONHASHSEED'] = str(seed)\n",
    "    np.random.seed(seed)\n",
    "    torch.manual_seed(seed)\n",
    "    torch.cuda.manual_seed(seed)\n",
    "    torch.backends.cudnn.deterministic = True\n",
    "    torch.backends.cudnn.benchmark = True\n",
    "\n",
    "seed_everything(CFG['SEED'])"
   ]
  },
  {
   "cell_type": "code",
   "execution_count": 622,
   "id": "2f8f5798",
   "metadata": {
    "scrolled": true
   },
   "outputs": [],
   "source": [
    "train = pd.read_csv(\"./data/train.csv\")\n",
    "test = pd.read_csv(\"./data/test.csv\")"
   ]
  },
  {
   "cell_type": "markdown",
   "id": "f364f89c",
   "metadata": {},
   "source": [
    "## 결측치 처리"
   ]
  },
  {
   "cell_type": "code",
   "execution_count": 623,
   "id": "0e848820",
   "metadata": {
    "scrolled": false
   },
   "outputs": [
    {
     "data": {
      "text/plain": [
       "<AxesSubplot:>"
      ]
     },
     "execution_count": 623,
     "metadata": {},
     "output_type": "execute_result"
    },
    {
     "data": {
      "image/png": "[encoded data removed]",
      "text/plain": [
       "<Figure size 1152x432 with 2 Axes>"
      ]
     },
     "metadata": {
      "needs_background": "light"
     },
     "output_type": "display_data"
    }
   ],
   "source": [
    "import missingno as msno\n",
    "msno.matrix(train, figsize=(16,6))"
   ]
  },
  {
   "cell_type": "code",
   "execution_count": 624,
   "id": "2dd2d4ad",
   "metadata": {},
   "outputs": [
    {
     "data": {
      "text/html": [
       "<div>\n",
       "<style scoped>\n",
       "    .dataframe tbody tr th:only-of-type {\n",
       "        vertical-align: middle;\n",
       "    }\n",
       "\n",
       "    .dataframe tbody tr th {\n",
       "        vertical-align: top;\n",
       "    }\n",
       "\n",
       "    .dataframe thead th {\n",
       "        text-align: right;\n",
       "    }\n",
       "</style>\n",
       "<table border=\"1\" class=\"dataframe\">\n",
       "  <thead>\n",
       "    <tr style=\"text-align: right;\">\n",
       "      <th></th>\n",
       "      <th>ID</th>\n",
       "      <th>COMPONENT_ARBITRARY</th>\n",
       "      <th>ANONYMOUS_1</th>\n",
       "      <th>YEAR</th>\n",
       "      <th>SAMPLE_TRANSFER_DAY</th>\n",
       "      <th>ANONYMOUS_2</th>\n",
       "      <th>AG</th>\n",
       "      <th>AL</th>\n",
       "      <th>B</th>\n",
       "      <th>BA</th>\n",
       "      <th>...</th>\n",
       "      <th>U25</th>\n",
       "      <th>U20</th>\n",
       "      <th>U14</th>\n",
       "      <th>U6</th>\n",
       "      <th>U4</th>\n",
       "      <th>V</th>\n",
       "      <th>V100</th>\n",
       "      <th>V40</th>\n",
       "      <th>ZN</th>\n",
       "      <th>Y_LABEL</th>\n",
       "    </tr>\n",
       "  </thead>\n",
       "  <tbody>\n",
       "    <tr>\n",
       "      <th>count</th>\n",
       "      <td>14095</td>\n",
       "      <td>14095</td>\n",
       "      <td>14095.000000</td>\n",
       "      <td>14095.000000</td>\n",
       "      <td>14095.000000</td>\n",
       "      <td>14095.000000</td>\n",
       "      <td>14095.000000</td>\n",
       "      <td>14095.000000</td>\n",
       "      <td>14095.000000</td>\n",
       "      <td>14095.000000</td>\n",
       "      <td>...</td>\n",
       "      <td>2316.000000</td>\n",
       "      <td>2316.000000</td>\n",
       "      <td>2118.000000</td>\n",
       "      <td>2118.000000</td>\n",
       "      <td>2118.000000</td>\n",
       "      <td>14095.000000</td>\n",
       "      <td>3724.000000</td>\n",
       "      <td>14095.000000</td>\n",
       "      <td>14095.000000</td>\n",
       "      <td>14095.000000</td>\n",
       "    </tr>\n",
       "    <tr>\n",
       "      <th>unique</th>\n",
       "      <td>14095</td>\n",
       "      <td>4</td>\n",
       "      <td>NaN</td>\n",
       "      <td>NaN</td>\n",
       "      <td>NaN</td>\n",
       "      <td>NaN</td>\n",
       "      <td>NaN</td>\n",
       "      <td>NaN</td>\n",
       "      <td>NaN</td>\n",
       "      <td>NaN</td>\n",
       "      <td>...</td>\n",
       "      <td>NaN</td>\n",
       "      <td>NaN</td>\n",
       "      <td>NaN</td>\n",
       "      <td>NaN</td>\n",
       "      <td>NaN</td>\n",
       "      <td>NaN</td>\n",
       "      <td>NaN</td>\n",
       "      <td>NaN</td>\n",
       "      <td>NaN</td>\n",
       "      <td>NaN</td>\n",
       "    </tr>\n",
       "    <tr>\n",
       "      <th>top</th>\n",
       "      <td>TRAIN_00000</td>\n",
       "      <td>COMPONENT3</td>\n",
       "      <td>NaN</td>\n",
       "      <td>NaN</td>\n",
       "      <td>NaN</td>\n",
       "      <td>NaN</td>\n",
       "      <td>NaN</td>\n",
       "      <td>NaN</td>\n",
       "      <td>NaN</td>\n",
       "      <td>NaN</td>\n",
       "      <td>...</td>\n",
       "      <td>NaN</td>\n",
       "      <td>NaN</td>\n",
       "      <td>NaN</td>\n",
       "      <td>NaN</td>\n",
       "      <td>NaN</td>\n",
       "      <td>NaN</td>\n",
       "      <td>NaN</td>\n",
       "      <td>NaN</td>\n",
       "      <td>NaN</td>\n",
       "      <td>NaN</td>\n",
       "    </tr>\n",
       "    <tr>\n",
       "      <th>freq</th>\n",
       "      <td>1</td>\n",
       "      <td>7050</td>\n",
       "      <td>NaN</td>\n",
       "      <td>NaN</td>\n",
       "      <td>NaN</td>\n",
       "      <td>NaN</td>\n",
       "      <td>NaN</td>\n",
       "      <td>NaN</td>\n",
       "      <td>NaN</td>\n",
       "      <td>NaN</td>\n",
       "      <td>...</td>\n",
       "      <td>NaN</td>\n",
       "      <td>NaN</td>\n",
       "      <td>NaN</td>\n",
       "      <td>NaN</td>\n",
       "      <td>NaN</td>\n",
       "      <td>NaN</td>\n",
       "      <td>NaN</td>\n",
       "      <td>NaN</td>\n",
       "      <td>NaN</td>\n",
       "      <td>NaN</td>\n",
       "    </tr>\n",
       "    <tr>\n",
       "      <th>mean</th>\n",
       "      <td>NaN</td>\n",
       "      <td>NaN</td>\n",
       "      <td>3146.082937</td>\n",
       "      <td>2013.652501</td>\n",
       "      <td>7.600568</td>\n",
       "      <td>387.416885</td>\n",
       "      <td>0.025825</td>\n",
       "      <td>12.707698</td>\n",
       "      <td>64.026179</td>\n",
       "      <td>0.692799</td>\n",
       "      <td>...</td>\n",
       "      <td>29.870898</td>\n",
       "      <td>56.063472</td>\n",
       "      <td>239.938149</td>\n",
       "      <td>5488.693107</td>\n",
       "      <td>19415.597262</td>\n",
       "      <td>0.050656</td>\n",
       "      <td>13.576230</td>\n",
       "      <td>109.355815</td>\n",
       "      <td>588.646825</td>\n",
       "      <td>0.085349</td>\n",
       "    </tr>\n",
       "    <tr>\n",
       "      <th>std</th>\n",
       "      <td>NaN</td>\n",
       "      <td>NaN</td>\n",
       "      <td>4216.089809</td>\n",
       "      <td>3.964758</td>\n",
       "      <td>11.681628</td>\n",
       "      <td>550.016073</td>\n",
       "      <td>0.171926</td>\n",
       "      <td>86.968000</td>\n",
       "      <td>102.876871</td>\n",
       "      <td>2.905491</td>\n",
       "      <td>...</td>\n",
       "      <td>97.459625</td>\n",
       "      <td>184.332678</td>\n",
       "      <td>685.053457</td>\n",
       "      <td>15474.146283</td>\n",
       "      <td>40145.311444</td>\n",
       "      <td>0.475438</td>\n",
       "      <td>1.073718</td>\n",
       "      <td>49.612379</td>\n",
       "      <td>531.743393</td>\n",
       "      <td>0.279411</td>\n",
       "    </tr>\n",
       "    <tr>\n",
       "      <th>min</th>\n",
       "      <td>NaN</td>\n",
       "      <td>NaN</td>\n",
       "      <td>1000.000000</td>\n",
       "      <td>2007.000000</td>\n",
       "      <td>0.000000</td>\n",
       "      <td>200.000000</td>\n",
       "      <td>0.000000</td>\n",
       "      <td>0.000000</td>\n",
       "      <td>0.000000</td>\n",
       "      <td>0.000000</td>\n",
       "      <td>...</td>\n",
       "      <td>0.000000</td>\n",
       "      <td>0.000000</td>\n",
       "      <td>0.000000</td>\n",
       "      <td>15.000000</td>\n",
       "      <td>154.000000</td>\n",
       "      <td>0.000000</td>\n",
       "      <td>5.200000</td>\n",
       "      <td>2.900000</td>\n",
       "      <td>0.000000</td>\n",
       "      <td>0.000000</td>\n",
       "    </tr>\n",
       "    <tr>\n",
       "      <th>25%</th>\n",
       "      <td>NaN</td>\n",
       "      <td>NaN</td>\n",
       "      <td>1655.000000</td>\n",
       "      <td>2010.000000</td>\n",
       "      <td>3.000000</td>\n",
       "      <td>200.000000</td>\n",
       "      <td>0.000000</td>\n",
       "      <td>1.000000</td>\n",
       "      <td>3.000000</td>\n",
       "      <td>0.000000</td>\n",
       "      <td>...</td>\n",
       "      <td>3.000000</td>\n",
       "      <td>5.000000</td>\n",
       "      <td>22.000000</td>\n",
       "      <td>636.750000</td>\n",
       "      <td>5409.250000</td>\n",
       "      <td>0.000000</td>\n",
       "      <td>12.900000</td>\n",
       "      <td>71.800000</td>\n",
       "      <td>37.000000</td>\n",
       "      <td>0.000000</td>\n",
       "    </tr>\n",
       "    <tr>\n",
       "      <th>50%</th>\n",
       "      <td>NaN</td>\n",
       "      <td>NaN</td>\n",
       "      <td>2227.000000</td>\n",
       "      <td>2014.000000</td>\n",
       "      <td>5.000000</td>\n",
       "      <td>200.000000</td>\n",
       "      <td>0.000000</td>\n",
       "      <td>2.000000</td>\n",
       "      <td>11.000000</td>\n",
       "      <td>0.000000</td>\n",
       "      <td>...</td>\n",
       "      <td>7.000000</td>\n",
       "      <td>13.000000</td>\n",
       "      <td>57.000000</td>\n",
       "      <td>1753.000000</td>\n",
       "      <td>12691.500000</td>\n",
       "      <td>0.000000</td>\n",
       "      <td>13.500000</td>\n",
       "      <td>111.300000</td>\n",
       "      <td>520.000000</td>\n",
       "      <td>0.000000</td>\n",
       "    </tr>\n",
       "    <tr>\n",
       "      <th>75%</th>\n",
       "      <td>NaN</td>\n",
       "      <td>NaN</td>\n",
       "      <td>3797.000000</td>\n",
       "      <td>2017.000000</td>\n",
       "      <td>8.000000</td>\n",
       "      <td>410.000000</td>\n",
       "      <td>0.000000</td>\n",
       "      <td>4.000000</td>\n",
       "      <td>110.000000</td>\n",
       "      <td>0.000000</td>\n",
       "      <td>...</td>\n",
       "      <td>23.000000</td>\n",
       "      <td>39.250000</td>\n",
       "      <td>189.000000</td>\n",
       "      <td>5517.750000</td>\n",
       "      <td>24535.750000</td>\n",
       "      <td>0.000000</td>\n",
       "      <td>14.200000</td>\n",
       "      <td>137.200000</td>\n",
       "      <td>1119.000000</td>\n",
       "      <td>0.000000</td>\n",
       "    </tr>\n",
       "    <tr>\n",
       "      <th>max</th>\n",
       "      <td>NaN</td>\n",
       "      <td>NaN</td>\n",
       "      <td>294451.000000</td>\n",
       "      <td>2022.000000</td>\n",
       "      <td>368.000000</td>\n",
       "      <td>9650.000000</td>\n",
       "      <td>3.000000</td>\n",
       "      <td>4630.000000</td>\n",
       "      <td>2051.000000</td>\n",
       "      <td>216.000000</td>\n",
       "      <td>...</td>\n",
       "      <td>1651.000000</td>\n",
       "      <td>2932.000000</td>\n",
       "      <td>11296.000000</td>\n",
       "      <td>412627.000000</td>\n",
       "      <td>844421.000000</td>\n",
       "      <td>17.000000</td>\n",
       "      <td>29.900000</td>\n",
       "      <td>2840.500000</td>\n",
       "      <td>2132.000000</td>\n",
       "      <td>1.000000</td>\n",
       "    </tr>\n",
       "  </tbody>\n",
       "</table>\n",
       "<p>11 rows × 54 columns</p>\n",
       "</div>"
      ],
      "text/plain": [
       "                 ID COMPONENT_ARBITRARY    ANONYMOUS_1          YEAR  \\\n",
       "count         14095               14095   14095.000000  14095.000000   \n",
       "unique        14095                   4            NaN           NaN   \n",
       "top     TRAIN_00000          COMPONENT3            NaN           NaN   \n",
       "freq              1                7050            NaN           NaN   \n",
       "mean            NaN                 NaN    3146.082937   2013.652501   \n",
       "std             NaN                 NaN    4216.089809      3.964758   \n",
       "min             NaN                 NaN    1000.000000   2007.000000   \n",
       "25%             NaN                 NaN    1655.000000   2010.000000   \n",
       "50%             NaN                 NaN    2227.000000   2014.000000   \n",
       "75%             NaN                 NaN    3797.000000   2017.000000   \n",
       "max             NaN                 NaN  294451.000000   2022.000000   \n",
       "\n",
       "        SAMPLE_TRANSFER_DAY   ANONYMOUS_2            AG            AL  \\\n",
       "count          14095.000000  14095.000000  14095.000000  14095.000000   \n",
       "unique                  NaN           NaN           NaN           NaN   \n",
       "top                     NaN           NaN           NaN           NaN   \n",
       "freq                    NaN           NaN           NaN           NaN   \n",
       "mean               7.600568    387.416885      0.025825     12.707698   \n",
       "std               11.681628    550.016073      0.171926     86.968000   \n",
       "min                0.000000    200.000000      0.000000      0.000000   \n",
       "25%                3.000000    200.000000      0.000000      1.000000   \n",
       "50%                5.000000    200.000000      0.000000      2.000000   \n",
       "75%                8.000000    410.000000      0.000000      4.000000   \n",
       "max              368.000000   9650.000000      3.000000   4630.000000   \n",
       "\n",
       "                   B            BA  ...          U25          U20  \\\n",
       "count   14095.000000  14095.000000  ...  2316.000000  2316.000000   \n",
       "unique           NaN           NaN  ...          NaN          NaN   \n",
       "top              NaN           NaN  ...          NaN          NaN   \n",
       "freq             NaN           NaN  ...          NaN          NaN   \n",
       "mean       64.026179      0.692799  ...    29.870898    56.063472   \n",
       "std       102.876871      2.905491  ...    97.459625   184.332678   \n",
       "min         0.000000      0.000000  ...     0.000000     0.000000   \n",
       "25%         3.000000      0.000000  ...     3.000000     5.000000   \n",
       "50%        11.000000      0.000000  ...     7.000000    13.000000   \n",
       "75%       110.000000      0.000000  ...    23.000000    39.250000   \n",
       "max      2051.000000    216.000000  ...  1651.000000  2932.000000   \n",
       "\n",
       "                 U14             U6             U4             V         V100  \\\n",
       "count    2118.000000    2118.000000    2118.000000  14095.000000  3724.000000   \n",
       "unique           NaN            NaN            NaN           NaN          NaN   \n",
       "top              NaN            NaN            NaN           NaN          NaN   \n",
       "freq             NaN            NaN            NaN           NaN          NaN   \n",
       "mean      239.938149    5488.693107   19415.597262      0.050656    13.576230   \n",
       "std       685.053457   15474.146283   40145.311444      0.475438     1.073718   \n",
       "min         0.000000      15.000000     154.000000      0.000000     5.200000   \n",
       "25%        22.000000     636.750000    5409.250000      0.000000    12.900000   \n",
       "50%        57.000000    1753.000000   12691.500000      0.000000    13.500000   \n",
       "75%       189.000000    5517.750000   24535.750000      0.000000    14.200000   \n",
       "max     11296.000000  412627.000000  844421.000000     17.000000    29.900000   \n",
       "\n",
       "                 V40            ZN       Y_LABEL  \n",
       "count   14095.000000  14095.000000  14095.000000  \n",
       "unique           NaN           NaN           NaN  \n",
       "top              NaN           NaN           NaN  \n",
       "freq             NaN           NaN           NaN  \n",
       "mean      109.355815    588.646825      0.085349  \n",
       "std        49.612379    531.743393      0.279411  \n",
       "min         2.900000      0.000000      0.000000  \n",
       "25%        71.800000     37.000000      0.000000  \n",
       "50%       111.300000    520.000000      0.000000  \n",
       "75%       137.200000   1119.000000      0.000000  \n",
       "max      2840.500000   2132.000000      1.000000  \n",
       "\n",
       "[11 rows x 54 columns]"
      ]
     },
     "execution_count": 624,
     "metadata": {},
     "output_type": "execute_result"
    }
   ],
   "source": [
    "train.describe(include=\"all\")"
   ]
  },
  {
   "cell_type": "code",
   "execution_count": 625,
   "id": "58bbb4f1",
   "metadata": {},
   "outputs": [
    {
     "name": "stdout",
     "output_type": "stream",
     "text": [
      "컬럼명: CD, 널값수: 1,394, 평균: 0.02, 중위수: 0.0, 최빈값: 0.0\n",
      "컬럼명: FH2O, 널값수: 10,205, 평균: 15.24, 중위수: 13.0, 최빈값: 14.0\n",
      "컬럼명: FNOX, 널값수: 10,205, 평균: 7.14, 중위수: 7.0, 최빈값: 6.0\n",
      "컬럼명: FOPTIMETHGLY, 널값수: 10,205, 평균: 0.53, 중위수: 0.0, 최빈값: 0.0\n",
      "컬럼명: FOXID, 널값수: 10,205, 평균: 12.5, 중위수: 12.0, 최빈값: 11.0\n",
      "컬럼명: FSO4, 널값수: 10,205, 평균: 20.28, 중위수: 20.0, 최빈값: 20.0\n",
      "컬럼명: FTBN, 널값수: 10,205, 평균: 8.78, 중위수: 8.7, 최빈값: 8.2\n",
      "컬럼명: FUEL, 널값수: 10,205, 평균: 0.19, 중위수: 0.0, 최빈값: 0.0\n",
      "컬럼명: K, 널값수: 2,299, 평균: 3.61, 중위수: 2.0, 최빈값: 0.0\n",
      "컬럼명: SOOTPERCENTAGE, 널값수: 10,205, 평균: 0.61, 중위수: 0.4, 최빈값: 0.2\n",
      "컬럼명: U100, 널값수: 11,779, 평균: 0.17, 중위수: 0.0, 최빈값: 0.0\n",
      "컬럼명: U75, 널값수: 11,779, 평균: 0.42, 중위수: 0.0, 최빈값: 0.0\n",
      "컬럼명: U50, 널값수: 11,779, 평균: 6.19, 중위수: 1.0, 최빈값: 0.0\n",
      "컬럼명: U25, 널값수: 11,779, 평균: 29.87, 중위수: 7.0, 최빈값: 1.0\n",
      "컬럼명: U20, 널값수: 11,779, 평균: 56.06, 중위수: 13.0, 최빈값: 4.0\n",
      "컬럼명: U14, 널값수: 11,977, 평균: 239.94, 중위수: 57.0, 최빈값: 14.0\n",
      "컬럼명: U6, 널값수: 11,977, 평균: 5488.69, 중위수: 1753.0, 최빈값: 300.0\n",
      "컬럼명: U4, 널값수: 11,977, 평균: 19415.6, 중위수: 12691.5, 최빈값: 6789.0\n",
      "컬럼명: V100, 널값수: 10,371, 평균: 13.58, 중위수: 13.5, 최빈값: 13.3\n"
     ]
    }
   ],
   "source": [
    "# 널값 칼럼값을 무엇으로 보간할까?\n",
    "null_columns = []\n",
    "for col in train.columns.tolist():\n",
    "    if train[col].isna().any():\n",
    "        null_columns.append(col)\n",
    "        print(f\"컬럼명: {col}, 널값수: {train[col].isna().sum():,}, 평균: {np.round(train[col].mean(),2)}, 중위수: {train[col].median()}, 최빈값: {train[col].mode().values[0]}\")\n",
    "    else:\n",
    "        pass   \n",
    "# null_columns"
   ]
  },
  {
   "cell_type": "code",
   "execution_count": 626,
   "id": "1c07bd2f",
   "metadata": {},
   "outputs": [
    {
     "data": {
      "text/html": [
       "<div>\n",
       "<style scoped>\n",
       "    .dataframe tbody tr th:only-of-type {\n",
       "        vertical-align: middle;\n",
       "    }\n",
       "\n",
       "    .dataframe tbody tr th {\n",
       "        vertical-align: top;\n",
       "    }\n",
       "\n",
       "    .dataframe thead th {\n",
       "        text-align: right;\n",
       "    }\n",
       "</style>\n",
       "<table border=\"1\" class=\"dataframe\">\n",
       "  <thead>\n",
       "    <tr style=\"text-align: right;\">\n",
       "      <th></th>\n",
       "      <th>CD</th>\n",
       "      <th>FH2O</th>\n",
       "      <th>FNOX</th>\n",
       "      <th>FOPTIMETHGLY</th>\n",
       "      <th>FOXID</th>\n",
       "      <th>FSO4</th>\n",
       "      <th>FTBN</th>\n",
       "      <th>FUEL</th>\n",
       "      <th>K</th>\n",
       "      <th>SOOTPERCENTAGE</th>\n",
       "      <th>U100</th>\n",
       "      <th>U75</th>\n",
       "      <th>U50</th>\n",
       "      <th>U25</th>\n",
       "      <th>U20</th>\n",
       "      <th>U14</th>\n",
       "      <th>U6</th>\n",
       "      <th>U4</th>\n",
       "      <th>V100</th>\n",
       "    </tr>\n",
       "  </thead>\n",
       "  <tbody>\n",
       "    <tr>\n",
       "      <th>count</th>\n",
       "      <td>12701.000000</td>\n",
       "      <td>3890.000000</td>\n",
       "      <td>3890.000000</td>\n",
       "      <td>3890.000000</td>\n",
       "      <td>3890.000000</td>\n",
       "      <td>3890.000000</td>\n",
       "      <td>3890.000000</td>\n",
       "      <td>3890.000000</td>\n",
       "      <td>11796.000000</td>\n",
       "      <td>3890.000000</td>\n",
       "      <td>2316.000000</td>\n",
       "      <td>2316.000000</td>\n",
       "      <td>2316.000000</td>\n",
       "      <td>2316.000000</td>\n",
       "      <td>2316.000000</td>\n",
       "      <td>2118.000000</td>\n",
       "      <td>2118.000000</td>\n",
       "      <td>2118.000000</td>\n",
       "      <td>3724.000000</td>\n",
       "    </tr>\n",
       "    <tr>\n",
       "      <th>mean</th>\n",
       "      <td>0.015589</td>\n",
       "      <td>15.242159</td>\n",
       "      <td>7.138303</td>\n",
       "      <td>0.532905</td>\n",
       "      <td>12.495373</td>\n",
       "      <td>20.284319</td>\n",
       "      <td>8.783239</td>\n",
       "      <td>0.185347</td>\n",
       "      <td>3.611224</td>\n",
       "      <td>0.609254</td>\n",
       "      <td>0.173575</td>\n",
       "      <td>0.417098</td>\n",
       "      <td>6.185233</td>\n",
       "      <td>29.870898</td>\n",
       "      <td>56.063472</td>\n",
       "      <td>239.938149</td>\n",
       "      <td>5488.693107</td>\n",
       "      <td>19415.597262</td>\n",
       "      <td>13.576230</td>\n",
       "    </tr>\n",
       "    <tr>\n",
       "      <th>std</th>\n",
       "      <td>0.209407</td>\n",
       "      <td>17.591679</td>\n",
       "      <td>1.860775</td>\n",
       "      <td>0.621937</td>\n",
       "      <td>3.439535</td>\n",
       "      <td>3.234296</td>\n",
       "      <td>1.339355</td>\n",
       "      <td>0.899253</td>\n",
       "      <td>15.630404</td>\n",
       "      <td>0.652382</td>\n",
       "      <td>0.878892</td>\n",
       "      <td>1.626333</td>\n",
       "      <td>36.639482</td>\n",
       "      <td>97.459625</td>\n",
       "      <td>184.332678</td>\n",
       "      <td>685.053457</td>\n",
       "      <td>15474.146283</td>\n",
       "      <td>40145.311444</td>\n",
       "      <td>1.073718</td>\n",
       "    </tr>\n",
       "    <tr>\n",
       "      <th>min</th>\n",
       "      <td>0.000000</td>\n",
       "      <td>6.000000</td>\n",
       "      <td>3.000000</td>\n",
       "      <td>0.000000</td>\n",
       "      <td>4.000000</td>\n",
       "      <td>10.000000</td>\n",
       "      <td>0.000000</td>\n",
       "      <td>0.000000</td>\n",
       "      <td>0.000000</td>\n",
       "      <td>0.000000</td>\n",
       "      <td>0.000000</td>\n",
       "      <td>0.000000</td>\n",
       "      <td>0.000000</td>\n",
       "      <td>0.000000</td>\n",
       "      <td>0.000000</td>\n",
       "      <td>0.000000</td>\n",
       "      <td>15.000000</td>\n",
       "      <td>154.000000</td>\n",
       "      <td>5.200000</td>\n",
       "    </tr>\n",
       "    <tr>\n",
       "      <th>25%</th>\n",
       "      <td>0.000000</td>\n",
       "      <td>11.000000</td>\n",
       "      <td>6.000000</td>\n",
       "      <td>0.000000</td>\n",
       "      <td>10.000000</td>\n",
       "      <td>18.000000</td>\n",
       "      <td>8.100000</td>\n",
       "      <td>0.000000</td>\n",
       "      <td>0.000000</td>\n",
       "      <td>0.200000</td>\n",
       "      <td>0.000000</td>\n",
       "      <td>0.000000</td>\n",
       "      <td>0.000000</td>\n",
       "      <td>3.000000</td>\n",
       "      <td>5.000000</td>\n",
       "      <td>22.000000</td>\n",
       "      <td>636.750000</td>\n",
       "      <td>5409.250000</td>\n",
       "      <td>12.900000</td>\n",
       "    </tr>\n",
       "    <tr>\n",
       "      <th>50%</th>\n",
       "      <td>0.000000</td>\n",
       "      <td>13.000000</td>\n",
       "      <td>7.000000</td>\n",
       "      <td>0.000000</td>\n",
       "      <td>12.000000</td>\n",
       "      <td>20.000000</td>\n",
       "      <td>8.700000</td>\n",
       "      <td>0.000000</td>\n",
       "      <td>2.000000</td>\n",
       "      <td>0.400000</td>\n",
       "      <td>0.000000</td>\n",
       "      <td>0.000000</td>\n",
       "      <td>1.000000</td>\n",
       "      <td>7.000000</td>\n",
       "      <td>13.000000</td>\n",
       "      <td>57.000000</td>\n",
       "      <td>1753.000000</td>\n",
       "      <td>12691.500000</td>\n",
       "      <td>13.500000</td>\n",
       "    </tr>\n",
       "    <tr>\n",
       "      <th>75%</th>\n",
       "      <td>0.000000</td>\n",
       "      <td>15.000000</td>\n",
       "      <td>8.000000</td>\n",
       "      <td>1.000000</td>\n",
       "      <td>14.750000</td>\n",
       "      <td>22.000000</td>\n",
       "      <td>9.600000</td>\n",
       "      <td>0.000000</td>\n",
       "      <td>3.000000</td>\n",
       "      <td>0.800000</td>\n",
       "      <td>0.000000</td>\n",
       "      <td>0.000000</td>\n",
       "      <td>3.000000</td>\n",
       "      <td>23.000000</td>\n",
       "      <td>39.250000</td>\n",
       "      <td>189.000000</td>\n",
       "      <td>5517.750000</td>\n",
       "      <td>24535.750000</td>\n",
       "      <td>14.200000</td>\n",
       "    </tr>\n",
       "    <tr>\n",
       "      <th>max</th>\n",
       "      <td>18.000000</td>\n",
       "      <td>320.000000</td>\n",
       "      <td>38.000000</td>\n",
       "      <td>13.000000</td>\n",
       "      <td>68.000000</td>\n",
       "      <td>68.000000</td>\n",
       "      <td>27.700000</td>\n",
       "      <td>12.000000</td>\n",
       "      <td>705.000000</td>\n",
       "      <td>6.500000</td>\n",
       "      <td>18.000000</td>\n",
       "      <td>33.000000</td>\n",
       "      <td>939.000000</td>\n",
       "      <td>1651.000000</td>\n",
       "      <td>2932.000000</td>\n",
       "      <td>11296.000000</td>\n",
       "      <td>412627.000000</td>\n",
       "      <td>844421.000000</td>\n",
       "      <td>29.900000</td>\n",
       "    </tr>\n",
       "  </tbody>\n",
       "</table>\n",
       "</div>"
      ],
      "text/plain": [
       "                 CD         FH2O         FNOX  FOPTIMETHGLY        FOXID  \\\n",
       "count  12701.000000  3890.000000  3890.000000   3890.000000  3890.000000   \n",
       "mean       0.015589    15.242159     7.138303      0.532905    12.495373   \n",
       "std        0.209407    17.591679     1.860775      0.621937     3.439535   \n",
       "min        0.000000     6.000000     3.000000      0.000000     4.000000   \n",
       "25%        0.000000    11.000000     6.000000      0.000000    10.000000   \n",
       "50%        0.000000    13.000000     7.000000      0.000000    12.000000   \n",
       "75%        0.000000    15.000000     8.000000      1.000000    14.750000   \n",
       "max       18.000000   320.000000    38.000000     13.000000    68.000000   \n",
       "\n",
       "              FSO4         FTBN         FUEL             K  SOOTPERCENTAGE  \\\n",
       "count  3890.000000  3890.000000  3890.000000  11796.000000     3890.000000   \n",
       "mean     20.284319     8.783239     0.185347      3.611224        0.609254   \n",
       "std       3.234296     1.339355     0.899253     15.630404        0.652382   \n",
       "min      10.000000     0.000000     0.000000      0.000000        0.000000   \n",
       "25%      18.000000     8.100000     0.000000      0.000000        0.200000   \n",
       "50%      20.000000     8.700000     0.000000      2.000000        0.400000   \n",
       "75%      22.000000     9.600000     0.000000      3.000000        0.800000   \n",
       "max      68.000000    27.700000    12.000000    705.000000        6.500000   \n",
       "\n",
       "              U100          U75          U50          U25          U20  \\\n",
       "count  2316.000000  2316.000000  2316.000000  2316.000000  2316.000000   \n",
       "mean      0.173575     0.417098     6.185233    29.870898    56.063472   \n",
       "std       0.878892     1.626333    36.639482    97.459625   184.332678   \n",
       "min       0.000000     0.000000     0.000000     0.000000     0.000000   \n",
       "25%       0.000000     0.000000     0.000000     3.000000     5.000000   \n",
       "50%       0.000000     0.000000     1.000000     7.000000    13.000000   \n",
       "75%       0.000000     0.000000     3.000000    23.000000    39.250000   \n",
       "max      18.000000    33.000000   939.000000  1651.000000  2932.000000   \n",
       "\n",
       "                U14             U6             U4         V100  \n",
       "count   2118.000000    2118.000000    2118.000000  3724.000000  \n",
       "mean     239.938149    5488.693107   19415.597262    13.576230  \n",
       "std      685.053457   15474.146283   40145.311444     1.073718  \n",
       "min        0.000000      15.000000     154.000000     5.200000  \n",
       "25%       22.000000     636.750000    5409.250000    12.900000  \n",
       "50%       57.000000    1753.000000   12691.500000    13.500000  \n",
       "75%      189.000000    5517.750000   24535.750000    14.200000  \n",
       "max    11296.000000  412627.000000  844421.000000    29.900000  "
      ]
     },
     "execution_count": 626,
     "metadata": {},
     "output_type": "execute_result"
    }
   ],
   "source": [
    "train[null_columns].describe(include=\"all\")"
   ]
  },
  {
   "cell_type": "code",
   "execution_count": 627,
   "id": "bc0f5666",
   "metadata": {},
   "outputs": [
    {
     "name": "stdout",
     "output_type": "stream",
     "text": [
      "0.0\n",
      "14.0\n",
      "6.0\n",
      "0.0\n",
      "11.0\n",
      "20.0\n",
      "8.2\n",
      "0.0\n",
      "0.0\n",
      "0.2\n",
      "0.0\n",
      "0.0\n",
      "0.0\n",
      "1.0\n",
      "4.0\n",
      "14.0\n",
      "300.0\n",
      "6789.0\n",
      "13.3\n"
     ]
    }
   ],
   "source": [
    "# nan 보간 : 평균 or 중위수 or 최빈값\n",
    "for col in null_columns:\n",
    "    보간값 = train[col].mode().values[0] # 최빈값\n",
    "    print(보간값)\n",
    "    train[col] = train[col].fillna(보간값)     "
   ]
  },
  {
   "cell_type": "code",
   "execution_count": 628,
   "id": "e1f69d1d",
   "metadata": {
    "scrolled": true
   },
   "outputs": [
    {
     "data": {
      "text/plain": [
       "<AxesSubplot:>"
      ]
     },
     "execution_count": 628,
     "metadata": {},
     "output_type": "execute_result"
    },
    {
     "data": {
      "image/png": "[encoded data removed]",
      "text/plain": [
       "<Figure size 1800x720 with 2 Axes>"
      ]
     },
     "metadata": {
      "needs_background": "light"
     },
     "output_type": "display_data"
    }
   ],
   "source": [
    "msno.matrix(train)"
   ]
  },
  {
   "cell_type": "markdown",
   "id": "38edaad1",
   "metadata": {},
   "source": [
    "### 상관관계 확인(드랍칼럼 선정)"
   ]
  },
  {
   "cell_type": "code",
   "execution_count": 629,
   "id": "52af7020",
   "metadata": {},
   "outputs": [
    {
     "data": {
      "text/plain": [
       "<AxesSubplot:>"
      ]
     },
     "execution_count": 629,
     "metadata": {},
     "output_type": "execute_result"
    },
    {
     "data": {
      "image/png": "[encoded data removed]",
      "text/plain": [
       "<Figure size 2160x360 with 2 Axes>"
      ]
     },
     "metadata": {
      "needs_background": "light"
     },
     "output_type": "display_data"
    }
   ],
   "source": [
    "fig = plt.figure(figsize=(30, 5))\n",
    "sns.heatmap(train.loc[:,:].corr()[[\"Y_LABEL\"]].T, annot=True, linewidth=1, cmap=\"coolwarm\", vmin=-1, vmax=1)"
   ]
  },
  {
   "cell_type": "code",
   "execution_count": 630,
   "id": "8b8a97c8",
   "metadata": {},
   "outputs": [
    {
     "data": {
      "text/html": [
       "<div>\n",
       "<style scoped>\n",
       "    .dataframe tbody tr th:only-of-type {\n",
       "        vertical-align: middle;\n",
       "    }\n",
       "\n",
       "    .dataframe tbody tr th {\n",
       "        vertical-align: top;\n",
       "    }\n",
       "\n",
       "    .dataframe thead th {\n",
       "        text-align: right;\n",
       "    }\n",
       "</style>\n",
       "<table border=\"1\" class=\"dataframe\">\n",
       "  <thead>\n",
       "    <tr style=\"text-align: right;\">\n",
       "      <th></th>\n",
       "      <th>Y_LABEL</th>\n",
       "    </tr>\n",
       "  </thead>\n",
       "  <tbody>\n",
       "    <tr>\n",
       "      <th>Y_LABEL</th>\n",
       "      <td>1.000000</td>\n",
       "    </tr>\n",
       "    <tr>\n",
       "      <th>AL</th>\n",
       "      <td>0.370512</td>\n",
       "    </tr>\n",
       "    <tr>\n",
       "      <th>BA</th>\n",
       "      <td>0.104840</td>\n",
       "    </tr>\n",
       "    <tr>\n",
       "      <th>FE</th>\n",
       "      <td>0.047992</td>\n",
       "    </tr>\n",
       "    <tr>\n",
       "      <th>NI</th>\n",
       "      <td>0.046806</td>\n",
       "    </tr>\n",
       "    <tr>\n",
       "      <th>ANONYMOUS_1</th>\n",
       "      <td>0.044197</td>\n",
       "    </tr>\n",
       "    <tr>\n",
       "      <th>SI</th>\n",
       "      <td>0.036731</td>\n",
       "    </tr>\n",
       "    <tr>\n",
       "      <th>PQINDEX</th>\n",
       "      <td>0.028966</td>\n",
       "    </tr>\n",
       "    <tr>\n",
       "      <th>S</th>\n",
       "      <td>0.027923</td>\n",
       "    </tr>\n",
       "    <tr>\n",
       "      <th>TI</th>\n",
       "      <td>0.025637</td>\n",
       "    </tr>\n",
       "    <tr>\n",
       "      <th>CU</th>\n",
       "      <td>0.024975</td>\n",
       "    </tr>\n",
       "    <tr>\n",
       "      <th>MN</th>\n",
       "      <td>0.024274</td>\n",
       "    </tr>\n",
       "    <tr>\n",
       "      <th>V40</th>\n",
       "      <td>0.023195</td>\n",
       "    </tr>\n",
       "    <tr>\n",
       "      <th>K</th>\n",
       "      <td>0.020959</td>\n",
       "    </tr>\n",
       "    <tr>\n",
       "      <th>V</th>\n",
       "      <td>0.020862</td>\n",
       "    </tr>\n",
       "    <tr>\n",
       "      <th>FNOX</th>\n",
       "      <td>0.018913</td>\n",
       "    </tr>\n",
       "    <tr>\n",
       "      <th>FOPTIMETHGLY</th>\n",
       "      <td>0.016373</td>\n",
       "    </tr>\n",
       "    <tr>\n",
       "      <th>AG</th>\n",
       "      <td>0.014671</td>\n",
       "    </tr>\n",
       "    <tr>\n",
       "      <th>CR</th>\n",
       "      <td>0.014233</td>\n",
       "    </tr>\n",
       "    <tr>\n",
       "      <th>FOXID</th>\n",
       "      <td>0.011669</td>\n",
       "    </tr>\n",
       "    <tr>\n",
       "      <th>BE</th>\n",
       "      <td>0.010685</td>\n",
       "    </tr>\n",
       "    <tr>\n",
       "      <th>FSO4</th>\n",
       "      <td>0.009778</td>\n",
       "    </tr>\n",
       "    <tr>\n",
       "      <th>CO</th>\n",
       "      <td>0.008175</td>\n",
       "    </tr>\n",
       "    <tr>\n",
       "      <th>P</th>\n",
       "      <td>0.007602</td>\n",
       "    </tr>\n",
       "    <tr>\n",
       "      <th>FH2O</th>\n",
       "      <td>0.006188</td>\n",
       "    </tr>\n",
       "    <tr>\n",
       "      <th>CD</th>\n",
       "      <td>0.003960</td>\n",
       "    </tr>\n",
       "    <tr>\n",
       "      <th>FTBN</th>\n",
       "      <td>0.003912</td>\n",
       "    </tr>\n",
       "    <tr>\n",
       "      <th>V100</th>\n",
       "      <td>0.003376</td>\n",
       "    </tr>\n",
       "    <tr>\n",
       "      <th>LI</th>\n",
       "      <td>0.002921</td>\n",
       "    </tr>\n",
       "    <tr>\n",
       "      <th>SN</th>\n",
       "      <td>0.002359</td>\n",
       "    </tr>\n",
       "    <tr>\n",
       "      <th>U6</th>\n",
       "      <td>0.001467</td>\n",
       "    </tr>\n",
       "    <tr>\n",
       "      <th>MO</th>\n",
       "      <td>0.001206</td>\n",
       "    </tr>\n",
       "    <tr>\n",
       "      <th>U14</th>\n",
       "      <td>0.000352</td>\n",
       "    </tr>\n",
       "    <tr>\n",
       "      <th>SOOTPERCENTAGE</th>\n",
       "      <td>0.000212</td>\n",
       "    </tr>\n",
       "    <tr>\n",
       "      <th>U20</th>\n",
       "      <td>-0.000218</td>\n",
       "    </tr>\n",
       "    <tr>\n",
       "      <th>U4</th>\n",
       "      <td>-0.000281</td>\n",
       "    </tr>\n",
       "    <tr>\n",
       "      <th>SB</th>\n",
       "      <td>-0.002028</td>\n",
       "    </tr>\n",
       "    <tr>\n",
       "      <th>U25</th>\n",
       "      <td>-0.002432</td>\n",
       "    </tr>\n",
       "    <tr>\n",
       "      <th>U50</th>\n",
       "      <td>-0.003205</td>\n",
       "    </tr>\n",
       "    <tr>\n",
       "      <th>PB</th>\n",
       "      <td>-0.003549</td>\n",
       "    </tr>\n",
       "    <tr>\n",
       "      <th>H2O</th>\n",
       "      <td>-0.004262</td>\n",
       "    </tr>\n",
       "    <tr>\n",
       "      <th>SAMPLE_TRANSFER_DAY</th>\n",
       "      <td>-0.004315</td>\n",
       "    </tr>\n",
       "    <tr>\n",
       "      <th>FUEL</th>\n",
       "      <td>-0.005844</td>\n",
       "    </tr>\n",
       "    <tr>\n",
       "      <th>U100</th>\n",
       "      <td>-0.007233</td>\n",
       "    </tr>\n",
       "    <tr>\n",
       "      <th>U75</th>\n",
       "      <td>-0.008045</td>\n",
       "    </tr>\n",
       "    <tr>\n",
       "      <th>MG</th>\n",
       "      <td>-0.008807</td>\n",
       "    </tr>\n",
       "    <tr>\n",
       "      <th>NA</th>\n",
       "      <td>-0.010820</td>\n",
       "    </tr>\n",
       "    <tr>\n",
       "      <th>ZN</th>\n",
       "      <td>-0.027551</td>\n",
       "    </tr>\n",
       "    <tr>\n",
       "      <th>B</th>\n",
       "      <td>-0.029787</td>\n",
       "    </tr>\n",
       "    <tr>\n",
       "      <th>ANONYMOUS_2</th>\n",
       "      <td>-0.033641</td>\n",
       "    </tr>\n",
       "    <tr>\n",
       "      <th>YEAR</th>\n",
       "      <td>-0.087871</td>\n",
       "    </tr>\n",
       "    <tr>\n",
       "      <th>CA</th>\n",
       "      <td>-0.150379</td>\n",
       "    </tr>\n",
       "  </tbody>\n",
       "</table>\n",
       "</div>"
      ],
      "text/plain": [
       "                      Y_LABEL\n",
       "Y_LABEL              1.000000\n",
       "AL                   0.370512\n",
       "BA                   0.104840\n",
       "FE                   0.047992\n",
       "NI                   0.046806\n",
       "ANONYMOUS_1          0.044197\n",
       "SI                   0.036731\n",
       "PQINDEX              0.028966\n",
       "S                    0.027923\n",
       "TI                   0.025637\n",
       "CU                   0.024975\n",
       "MN                   0.024274\n",
       "V40                  0.023195\n",
       "K                    0.020959\n",
       "V                    0.020862\n",
       "FNOX                 0.018913\n",
       "FOPTIMETHGLY         0.016373\n",
       "AG                   0.014671\n",
       "CR                   0.014233\n",
       "FOXID                0.011669\n",
       "BE                   0.010685\n",
       "FSO4                 0.009778\n",
       "CO                   0.008175\n",
       "P                    0.007602\n",
       "FH2O                 0.006188\n",
       "CD                   0.003960\n",
       "FTBN                 0.003912\n",
       "V100                 0.003376\n",
       "LI                   0.002921\n",
       "SN                   0.002359\n",
       "U6                   0.001467\n",
       "MO                   0.001206\n",
       "U14                  0.000352\n",
       "SOOTPERCENTAGE       0.000212\n",
       "U20                 -0.000218\n",
       "U4                  -0.000281\n",
       "SB                  -0.002028\n",
       "U25                 -0.002432\n",
       "U50                 -0.003205\n",
       "PB                  -0.003549\n",
       "H2O                 -0.004262\n",
       "SAMPLE_TRANSFER_DAY -0.004315\n",
       "FUEL                -0.005844\n",
       "U100                -0.007233\n",
       "U75                 -0.008045\n",
       "MG                  -0.008807\n",
       "NA                  -0.010820\n",
       "ZN                  -0.027551\n",
       "B                   -0.029787\n",
       "ANONYMOUS_2         -0.033641\n",
       "YEAR                -0.087871\n",
       "CA                  -0.150379"
      ]
     },
     "execution_count": 630,
     "metadata": {},
     "output_type": "execute_result"
    }
   ],
   "source": [
    "df_corr1 = pd.DataFrame(train.corr()[\"Y_LABEL\"].sort_values(ascending=False))\n",
    "df_corr1"
   ]
  },
  {
   "cell_type": "code",
   "execution_count": 631,
   "id": "8a22400b",
   "metadata": {},
   "outputs": [
    {
     "name": "stdout",
     "output_type": "stream",
     "text": [
      "상관관계가 낮아서 드랍할 칼럼 개수 : 15\n"
     ]
    },
    {
     "data": {
      "text/plain": [
       "<bound method DataFrame.sort_values of                  Y_LABEL\n",
       "CD              0.003960\n",
       "FTBN            0.003912\n",
       "V100            0.003376\n",
       "LI              0.002921\n",
       "SN              0.002359\n",
       "U6              0.001467\n",
       "MO              0.001206\n",
       "U14             0.000352\n",
       "SOOTPERCENTAGE  0.000212\n",
       "U20            -0.000218\n",
       "U4             -0.000281\n",
       "SB             -0.002028\n",
       "U25            -0.002432\n",
       "U50            -0.003205\n",
       "PB             -0.003549>"
      ]
     },
     "execution_count": 631,
     "metadata": {},
     "output_type": "execute_result"
    }
   ],
   "source": [
    "# 상관관계가 낮아서 제낄 칼럼들\n",
    "cutline = CFG['CUT']\n",
    "df_corr2 = df_corr1[(df_corr1[\"Y_LABEL\"] < cutline) & (df_corr1[\"Y_LABEL\"] > (cutline*-1))]\n",
    "print(f\"상관관계가 낮아서 드랍할 칼럼 개수 : {len(df_corr2.index)}\")\n",
    "df_corr2.sort_values"
   ]
  },
  {
   "cell_type": "code",
   "execution_count": 632,
   "id": "f87d6718",
   "metadata": {},
   "outputs": [],
   "source": [
    "drop_columns = df_corr2.index.tolist()\n",
    "# drop_columns"
   ]
  },
  {
   "cell_type": "code",
   "execution_count": 633,
   "id": "f7ad29df",
   "metadata": {},
   "outputs": [
    {
     "name": "stdout",
     "output_type": "stream",
     "text": [
      "드랍하기 전 칼럼 갯수 : 54\n",
      "드랍후 칼럼 갯수 : 39\n"
     ]
    }
   ],
   "source": [
    "print(f\"드랍하기 전 칼럼 갯수 : {len(train.columns)}\")\n",
    "for col in drop_columns:\n",
    "    if col in train.columns:\n",
    "        train.drop(columns = col, axis = 1, inplace = True)\n",
    "    else:\n",
    "        pass\n",
    "print(f\"드랍후 칼럼 갯수 : {len(train.columns)}\")"
   ]
  },
  {
   "cell_type": "code",
   "execution_count": 634,
   "id": "3f0d6e4c",
   "metadata": {},
   "outputs": [
    {
     "name": "stdout",
     "output_type": "stream",
     "text": [
      "드랍하기 전 칼럼 갯수 : 19\n",
      "드랍후 칼럼 갯수 : 18\n"
     ]
    }
   ],
   "source": [
    "print(f\"드랍하기 전 칼럼 갯수 : {len(test.columns)}\")\n",
    "for col in drop_columns:\n",
    "    if col in test.columns:\n",
    "        test.drop(columns = col, axis = 1, inplace = True)\n",
    "    else:\n",
    "        pass\n",
    "print(f\"드랍후 칼럼 갯수 : {len(test.columns)}\")"
   ]
  },
  {
   "cell_type": "code",
   "execution_count": 635,
   "id": "7803f54c",
   "metadata": {},
   "outputs": [
    {
     "data": {
      "text/html": [
       "<div>\n",
       "<style scoped>\n",
       "    .dataframe tbody tr th:only-of-type {\n",
       "        vertical-align: middle;\n",
       "    }\n",
       "\n",
       "    .dataframe tbody tr th {\n",
       "        vertical-align: top;\n",
       "    }\n",
       "\n",
       "    .dataframe thead th {\n",
       "        text-align: right;\n",
       "    }\n",
       "</style>\n",
       "<table border=\"1\" class=\"dataframe\">\n",
       "  <thead>\n",
       "    <tr style=\"text-align: right;\">\n",
       "      <th></th>\n",
       "      <th>ANONYMOUS_1</th>\n",
       "      <th>YEAR</th>\n",
       "      <th>SAMPLE_TRANSFER_DAY</th>\n",
       "      <th>ANONYMOUS_2</th>\n",
       "      <th>AG</th>\n",
       "      <th>AL</th>\n",
       "      <th>B</th>\n",
       "      <th>BA</th>\n",
       "      <th>BE</th>\n",
       "      <th>CA</th>\n",
       "      <th>...</th>\n",
       "      <th>PQINDEX</th>\n",
       "      <th>S</th>\n",
       "      <th>SI</th>\n",
       "      <th>TI</th>\n",
       "      <th>U100</th>\n",
       "      <th>U75</th>\n",
       "      <th>V</th>\n",
       "      <th>V40</th>\n",
       "      <th>ZN</th>\n",
       "      <th>Y_LABEL</th>\n",
       "    </tr>\n",
       "  </thead>\n",
       "  <tbody>\n",
       "    <tr>\n",
       "      <th>count</th>\n",
       "      <td>14095.000000</td>\n",
       "      <td>14095.000000</td>\n",
       "      <td>14095.000000</td>\n",
       "      <td>14095.000000</td>\n",
       "      <td>14095.000000</td>\n",
       "      <td>14095.000000</td>\n",
       "      <td>14095.000000</td>\n",
       "      <td>14095.000000</td>\n",
       "      <td>14095.000000</td>\n",
       "      <td>14095.000000</td>\n",
       "      <td>...</td>\n",
       "      <td>14095.000000</td>\n",
       "      <td>14095.000000</td>\n",
       "      <td>14095.000000</td>\n",
       "      <td>14095.000000</td>\n",
       "      <td>14095.000000</td>\n",
       "      <td>14095.000000</td>\n",
       "      <td>14095.000000</td>\n",
       "      <td>14095.000000</td>\n",
       "      <td>14095.000000</td>\n",
       "      <td>14095.000000</td>\n",
       "    </tr>\n",
       "    <tr>\n",
       "      <th>mean</th>\n",
       "      <td>3146.082937</td>\n",
       "      <td>2013.652501</td>\n",
       "      <td>7.600568</td>\n",
       "      <td>387.416885</td>\n",
       "      <td>0.025825</td>\n",
       "      <td>12.707698</td>\n",
       "      <td>64.026179</td>\n",
       "      <td>0.692799</td>\n",
       "      <td>0.006314</td>\n",
       "      <td>1366.757574</td>\n",
       "      <td>...</td>\n",
       "      <td>415.159631</td>\n",
       "      <td>12029.318624</td>\n",
       "      <td>35.058248</td>\n",
       "      <td>0.707911</td>\n",
       "      <td>0.028521</td>\n",
       "      <td>0.068535</td>\n",
       "      <td>0.050656</td>\n",
       "      <td>109.355815</td>\n",
       "      <td>588.646825</td>\n",
       "      <td>0.085349</td>\n",
       "    </tr>\n",
       "    <tr>\n",
       "      <th>std</th>\n",
       "      <td>4216.089809</td>\n",
       "      <td>3.964758</td>\n",
       "      <td>11.681628</td>\n",
       "      <td>550.016073</td>\n",
       "      <td>0.171926</td>\n",
       "      <td>86.968000</td>\n",
       "      <td>102.876871</td>\n",
       "      <td>2.905491</td>\n",
       "      <td>0.152189</td>\n",
       "      <td>1481.924727</td>\n",
       "      <td>...</td>\n",
       "      <td>1528.191012</td>\n",
       "      <td>9325.610196</td>\n",
       "      <td>195.329029</td>\n",
       "      <td>6.897579</td>\n",
       "      <td>0.361961</td>\n",
       "      <td>0.677006</td>\n",
       "      <td>0.475438</td>\n",
       "      <td>49.612379</td>\n",
       "      <td>531.743393</td>\n",
       "      <td>0.279411</td>\n",
       "    </tr>\n",
       "    <tr>\n",
       "      <th>min</th>\n",
       "      <td>1000.000000</td>\n",
       "      <td>2007.000000</td>\n",
       "      <td>0.000000</td>\n",
       "      <td>200.000000</td>\n",
       "      <td>0.000000</td>\n",
       "      <td>0.000000</td>\n",
       "      <td>0.000000</td>\n",
       "      <td>0.000000</td>\n",
       "      <td>0.000000</td>\n",
       "      <td>0.000000</td>\n",
       "      <td>...</td>\n",
       "      <td>0.000000</td>\n",
       "      <td>386.000000</td>\n",
       "      <td>0.000000</td>\n",
       "      <td>0.000000</td>\n",
       "      <td>0.000000</td>\n",
       "      <td>0.000000</td>\n",
       "      <td>0.000000</td>\n",
       "      <td>2.900000</td>\n",
       "      <td>0.000000</td>\n",
       "      <td>0.000000</td>\n",
       "    </tr>\n",
       "    <tr>\n",
       "      <th>25%</th>\n",
       "      <td>1655.000000</td>\n",
       "      <td>2010.000000</td>\n",
       "      <td>3.000000</td>\n",
       "      <td>200.000000</td>\n",
       "      <td>0.000000</td>\n",
       "      <td>1.000000</td>\n",
       "      <td>3.000000</td>\n",
       "      <td>0.000000</td>\n",
       "      <td>0.000000</td>\n",
       "      <td>48.000000</td>\n",
       "      <td>...</td>\n",
       "      <td>12.000000</td>\n",
       "      <td>4440.500000</td>\n",
       "      <td>3.000000</td>\n",
       "      <td>0.000000</td>\n",
       "      <td>0.000000</td>\n",
       "      <td>0.000000</td>\n",
       "      <td>0.000000</td>\n",
       "      <td>71.800000</td>\n",
       "      <td>37.000000</td>\n",
       "      <td>0.000000</td>\n",
       "    </tr>\n",
       "    <tr>\n",
       "      <th>50%</th>\n",
       "      <td>2227.000000</td>\n",
       "      <td>2014.000000</td>\n",
       "      <td>5.000000</td>\n",
       "      <td>200.000000</td>\n",
       "      <td>0.000000</td>\n",
       "      <td>2.000000</td>\n",
       "      <td>11.000000</td>\n",
       "      <td>0.000000</td>\n",
       "      <td>0.000000</td>\n",
       "      <td>198.000000</td>\n",
       "      <td>...</td>\n",
       "      <td>29.000000</td>\n",
       "      <td>8034.000000</td>\n",
       "      <td>6.000000</td>\n",
       "      <td>0.000000</td>\n",
       "      <td>0.000000</td>\n",
       "      <td>0.000000</td>\n",
       "      <td>0.000000</td>\n",
       "      <td>111.300000</td>\n",
       "      <td>520.000000</td>\n",
       "      <td>0.000000</td>\n",
       "    </tr>\n",
       "    <tr>\n",
       "      <th>75%</th>\n",
       "      <td>3797.000000</td>\n",
       "      <td>2017.000000</td>\n",
       "      <td>8.000000</td>\n",
       "      <td>410.000000</td>\n",
       "      <td>0.000000</td>\n",
       "      <td>4.000000</td>\n",
       "      <td>110.000000</td>\n",
       "      <td>0.000000</td>\n",
       "      <td>0.000000</td>\n",
       "      <td>2975.000000</td>\n",
       "      <td>...</td>\n",
       "      <td>181.000000</td>\n",
       "      <td>19750.000000</td>\n",
       "      <td>12.000000</td>\n",
       "      <td>0.000000</td>\n",
       "      <td>0.000000</td>\n",
       "      <td>0.000000</td>\n",
       "      <td>0.000000</td>\n",
       "      <td>137.200000</td>\n",
       "      <td>1119.000000</td>\n",
       "      <td>0.000000</td>\n",
       "    </tr>\n",
       "    <tr>\n",
       "      <th>max</th>\n",
       "      <td>294451.000000</td>\n",
       "      <td>2022.000000</td>\n",
       "      <td>368.000000</td>\n",
       "      <td>9650.000000</td>\n",
       "      <td>3.000000</td>\n",
       "      <td>4630.000000</td>\n",
       "      <td>2051.000000</td>\n",
       "      <td>216.000000</td>\n",
       "      <td>9.000000</td>\n",
       "      <td>6609.000000</td>\n",
       "      <td>...</td>\n",
       "      <td>56761.000000</td>\n",
       "      <td>64160.000000</td>\n",
       "      <td>5459.000000</td>\n",
       "      <td>403.000000</td>\n",
       "      <td>18.000000</td>\n",
       "      <td>33.000000</td>\n",
       "      <td>17.000000</td>\n",
       "      <td>2840.500000</td>\n",
       "      <td>2132.000000</td>\n",
       "      <td>1.000000</td>\n",
       "    </tr>\n",
       "  </tbody>\n",
       "</table>\n",
       "<p>8 rows × 37 columns</p>\n",
       "</div>"
      ],
      "text/plain": [
       "         ANONYMOUS_1          YEAR  SAMPLE_TRANSFER_DAY   ANONYMOUS_2  \\\n",
       "count   14095.000000  14095.000000         14095.000000  14095.000000   \n",
       "mean     3146.082937   2013.652501             7.600568    387.416885   \n",
       "std      4216.089809      3.964758            11.681628    550.016073   \n",
       "min      1000.000000   2007.000000             0.000000    200.000000   \n",
       "25%      1655.000000   2010.000000             3.000000    200.000000   \n",
       "50%      2227.000000   2014.000000             5.000000    200.000000   \n",
       "75%      3797.000000   2017.000000             8.000000    410.000000   \n",
       "max    294451.000000   2022.000000           368.000000   9650.000000   \n",
       "\n",
       "                 AG            AL             B            BA            BE  \\\n",
       "count  14095.000000  14095.000000  14095.000000  14095.000000  14095.000000   \n",
       "mean       0.025825     12.707698     64.026179      0.692799      0.006314   \n",
       "std        0.171926     86.968000    102.876871      2.905491      0.152189   \n",
       "min        0.000000      0.000000      0.000000      0.000000      0.000000   \n",
       "25%        0.000000      1.000000      3.000000      0.000000      0.000000   \n",
       "50%        0.000000      2.000000     11.000000      0.000000      0.000000   \n",
       "75%        0.000000      4.000000    110.000000      0.000000      0.000000   \n",
       "max        3.000000   4630.000000   2051.000000    216.000000      9.000000   \n",
       "\n",
       "                 CA  ...       PQINDEX             S            SI  \\\n",
       "count  14095.000000  ...  14095.000000  14095.000000  14095.000000   \n",
       "mean    1366.757574  ...    415.159631  12029.318624     35.058248   \n",
       "std     1481.924727  ...   1528.191012   9325.610196    195.329029   \n",
       "min        0.000000  ...      0.000000    386.000000      0.000000   \n",
       "25%       48.000000  ...     12.000000   4440.500000      3.000000   \n",
       "50%      198.000000  ...     29.000000   8034.000000      6.000000   \n",
       "75%     2975.000000  ...    181.000000  19750.000000     12.000000   \n",
       "max     6609.000000  ...  56761.000000  64160.000000   5459.000000   \n",
       "\n",
       "                 TI          U100           U75             V           V40  \\\n",
       "count  14095.000000  14095.000000  14095.000000  14095.000000  14095.000000   \n",
       "mean       0.707911      0.028521      0.068535      0.050656    109.355815   \n",
       "std        6.897579      0.361961      0.677006      0.475438     49.612379   \n",
       "min        0.000000      0.000000      0.000000      0.000000      2.900000   \n",
       "25%        0.000000      0.000000      0.000000      0.000000     71.800000   \n",
       "50%        0.000000      0.000000      0.000000      0.000000    111.300000   \n",
       "75%        0.000000      0.000000      0.000000      0.000000    137.200000   \n",
       "max      403.000000     18.000000     33.000000     17.000000   2840.500000   \n",
       "\n",
       "                 ZN       Y_LABEL  \n",
       "count  14095.000000  14095.000000  \n",
       "mean     588.646825      0.085349  \n",
       "std      531.743393      0.279411  \n",
       "min        0.000000      0.000000  \n",
       "25%       37.000000      0.000000  \n",
       "50%      520.000000      0.000000  \n",
       "75%     1119.000000      0.000000  \n",
       "max     2132.000000      1.000000  \n",
       "\n",
       "[8 rows x 37 columns]"
      ]
     },
     "execution_count": 635,
     "metadata": {},
     "output_type": "execute_result"
    }
   ],
   "source": [
    "train.describe()"
   ]
  },
  {
   "cell_type": "markdown",
   "id": "24c09e44",
   "metadata": {},
   "source": [
    "### 수치형 데이터 이상치 처리"
   ]
  },
  {
   "cell_type": "code",
   "execution_count": 636,
   "id": "dffe00a2",
   "metadata": {},
   "outputs": [],
   "source": [
    "not_number_features = ['ID','COMPONENT_ARBITRARY', 'YEAR', \"Y_LABEL\"]"
   ]
  },
  {
   "cell_type": "code",
   "execution_count": 637,
   "id": "bb53ff14",
   "metadata": {},
   "outputs": [],
   "source": [
    "train.drop(columns = \"ID\", axis = 1, inplace = True)\n",
    "test.drop(columns = \"ID\", axis = 1, inplace = True)"
   ]
  },
  {
   "cell_type": "code",
   "execution_count": 638,
   "id": "4cc30658",
   "metadata": {},
   "outputs": [],
   "source": [
    "# 이상치 인덱스 확인 함수\n",
    "# def get_outlier(df=None, col=None, weight=1.5):\n",
    "#     target = df[col]\n",
    "#     quantile_25 = np.quantile(target, 0.25)\n",
    "#     quantile_75 = np.quantile(target, 0.75)\n",
    "#     iqr = quantile_75 - quantile_25\n",
    "#     iqr_weight = iqr * weight\n",
    "#     lowest_val = quantile_25 - iqr_weight\n",
    "#     highest_val = quantile_75 + iqr_weight\n",
    "#     outlier_index = target[(target < lowest_val) | (target > highest_val)].index\n",
    "#     return outlier_index\n",
    "    "
   ]
  },
  {
   "cell_type": "code",
   "execution_count": 639,
   "id": "3c061ab6",
   "metadata": {},
   "outputs": [],
   "source": [
    "# get_outlier(test, \"CO\")"
   ]
  },
  {
   "cell_type": "code",
   "execution_count": 640,
   "id": "b2955c19",
   "metadata": {},
   "outputs": [],
   "source": [
    "# 이상치칼럼 = []\n",
    "# for target1 in train.columns:\n",
    "# #     print(target1)\n",
    "#     huddle = 0.3  # 허들이상의 상관관계를 가진 칼럼에 대해서만 이상치 드랍\n",
    "    \n",
    "#     if target1 not in not_number_features and ((df_corr1.loc[[target1]].values[0][0] >= huddle) or (df_corr1.loc[[target1]].values[0][0] <= (huddle*-1))):\n",
    "#         print(target1)\n",
    "#         이상치칼럼.append(target1)\n",
    "        \n",
    "#         outlier_index = get_outlier(train, target1)\n",
    "#         print(f\"드랍대상 아웃라이어 인덱스 갯수 : {len(outlier_index)}\")\n",
    "        \n",
    "#         train.drop(index=outlier_index, inplace=True)\n",
    "\n",
    "#     else:\n",
    "#         pass\n",
    "    \n",
    "# print(이상치칼럼)"
   ]
  },
  {
   "cell_type": "code",
   "execution_count": 641,
   "id": "efec8218",
   "metadata": {},
   "outputs": [],
   "source": [
    "# train.describe()"
   ]
  },
  {
   "cell_type": "code",
   "execution_count": 642,
   "id": "db97ae38",
   "metadata": {},
   "outputs": [],
   "source": [
    "# test.describe()"
   ]
  },
  {
   "cell_type": "code",
   "execution_count": 643,
   "id": "cd82efa5",
   "metadata": {},
   "outputs": [],
   "source": [
    "# if target2 in 이상치칼럼 :\n",
    "#     print(target2)\n",
    "#     outlier_index2 = get_outlier(test, target2)\n",
    "#     print(f\"드랍대상 아웃라이어 인덱스 갯수 : {len(outlier_index2)}\")\n",
    "\n",
    "#     test.drop(index=outlier_index, inplace=True)\n",
    "# else:\n",
    "#     pass"
   ]
  },
  {
   "cell_type": "code",
   "execution_count": 644,
   "id": "fe39e34d",
   "metadata": {},
   "outputs": [],
   "source": [
    "# test.describe()"
   ]
  },
  {
   "cell_type": "markdown",
   "id": "34d27220",
   "metadata": {},
   "source": [
    "### train, val 데이터셋 분리"
   ]
  },
  {
   "cell_type": "code",
   "execution_count": 645,
   "id": "381106d9",
   "metadata": {},
   "outputs": [],
   "source": [
    "all_X = train.drop(['Y_LABEL'], axis = 1)\n",
    "all_y = train['Y_LABEL']\n",
    "# test = test.drop(['ID'], axis = 1)\n",
    "train_X, val_X, train_y, val_y = train_test_split(all_X, all_y, test_size=0.2, random_state=CFG['SEED'], stratify=all_y)"
   ]
  },
  {
   "cell_type": "code",
   "execution_count": 646,
   "id": "67c88b9f",
   "metadata": {},
   "outputs": [
    {
     "data": {
      "text/html": [
       "<div>\n",
       "<style scoped>\n",
       "    .dataframe tbody tr th:only-of-type {\n",
       "        vertical-align: middle;\n",
       "    }\n",
       "\n",
       "    .dataframe tbody tr th {\n",
       "        vertical-align: top;\n",
       "    }\n",
       "\n",
       "    .dataframe thead th {\n",
       "        text-align: right;\n",
       "    }\n",
       "</style>\n",
       "<table border=\"1\" class=\"dataframe\">\n",
       "  <thead>\n",
       "    <tr style=\"text-align: right;\">\n",
       "      <th></th>\n",
       "      <th>COMPONENT_ARBITRARY</th>\n",
       "      <th>ANONYMOUS_1</th>\n",
       "      <th>YEAR</th>\n",
       "      <th>SAMPLE_TRANSFER_DAY</th>\n",
       "      <th>ANONYMOUS_2</th>\n",
       "      <th>AG</th>\n",
       "      <th>AL</th>\n",
       "      <th>B</th>\n",
       "      <th>BA</th>\n",
       "      <th>BE</th>\n",
       "      <th>...</th>\n",
       "      <th>P</th>\n",
       "      <th>PQINDEX</th>\n",
       "      <th>S</th>\n",
       "      <th>SI</th>\n",
       "      <th>TI</th>\n",
       "      <th>U100</th>\n",
       "      <th>U75</th>\n",
       "      <th>V</th>\n",
       "      <th>V40</th>\n",
       "      <th>ZN</th>\n",
       "    </tr>\n",
       "  </thead>\n",
       "  <tbody>\n",
       "    <tr>\n",
       "      <th>6216</th>\n",
       "      <td>COMPONENT3</td>\n",
       "      <td>3476</td>\n",
       "      <td>2016</td>\n",
       "      <td>5</td>\n",
       "      <td>200</td>\n",
       "      <td>0</td>\n",
       "      <td>4</td>\n",
       "      <td>109</td>\n",
       "      <td>0</td>\n",
       "      <td>0</td>\n",
       "      <td>...</td>\n",
       "      <td>2447</td>\n",
       "      <td>745</td>\n",
       "      <td>34000</td>\n",
       "      <td>13</td>\n",
       "      <td>0</td>\n",
       "      <td>0.0</td>\n",
       "      <td>0.0</td>\n",
       "      <td>0</td>\n",
       "      <td>142.4</td>\n",
       "      <td>20</td>\n",
       "    </tr>\n",
       "    <tr>\n",
       "      <th>13544</th>\n",
       "      <td>COMPONENT3</td>\n",
       "      <td>5753</td>\n",
       "      <td>2014</td>\n",
       "      <td>5</td>\n",
       "      <td>200</td>\n",
       "      <td>0</td>\n",
       "      <td>0</td>\n",
       "      <td>20</td>\n",
       "      <td>0</td>\n",
       "      <td>0</td>\n",
       "      <td>...</td>\n",
       "      <td>1065</td>\n",
       "      <td>1436</td>\n",
       "      <td>19430</td>\n",
       "      <td>5</td>\n",
       "      <td>0</td>\n",
       "      <td>0.0</td>\n",
       "      <td>0.0</td>\n",
       "      <td>0</td>\n",
       "      <td>120.5</td>\n",
       "      <td>24</td>\n",
       "    </tr>\n",
       "  </tbody>\n",
       "</table>\n",
       "<p>2 rows × 37 columns</p>\n",
       "</div>"
      ],
      "text/plain": [
       "      COMPONENT_ARBITRARY  ANONYMOUS_1  YEAR  SAMPLE_TRANSFER_DAY  \\\n",
       "6216           COMPONENT3         3476  2016                    5   \n",
       "13544          COMPONENT3         5753  2014                    5   \n",
       "\n",
       "       ANONYMOUS_2  AG  AL    B  BA  BE  ...     P  PQINDEX      S  SI  TI  \\\n",
       "6216           200   0   4  109   0   0  ...  2447      745  34000  13   0   \n",
       "13544          200   0   0   20   0   0  ...  1065     1436  19430   5   0   \n",
       "\n",
       "       U100  U75  V    V40  ZN  \n",
       "6216    0.0  0.0  0  142.4  20  \n",
       "13544   0.0  0.0  0  120.5  24  \n",
       "\n",
       "[2 rows x 37 columns]"
      ]
     },
     "execution_count": 646,
     "metadata": {},
     "output_type": "execute_result"
    }
   ],
   "source": [
    "train_X.head(2)"
   ]
  },
  {
   "cell_type": "code",
   "execution_count": 647,
   "id": "a33a9597",
   "metadata": {},
   "outputs": [
    {
     "data": {
      "text/html": [
       "<div>\n",
       "<style scoped>\n",
       "    .dataframe tbody tr th:only-of-type {\n",
       "        vertical-align: middle;\n",
       "    }\n",
       "\n",
       "    .dataframe tbody tr th {\n",
       "        vertical-align: top;\n",
       "    }\n",
       "\n",
       "    .dataframe thead th {\n",
       "        text-align: right;\n",
       "    }\n",
       "</style>\n",
       "<table border=\"1\" class=\"dataframe\">\n",
       "  <thead>\n",
       "    <tr style=\"text-align: right;\">\n",
       "      <th></th>\n",
       "      <th>COMPONENT_ARBITRARY</th>\n",
       "      <th>ANONYMOUS_1</th>\n",
       "      <th>YEAR</th>\n",
       "      <th>SAMPLE_TRANSFER_DAY</th>\n",
       "      <th>ANONYMOUS_2</th>\n",
       "      <th>AG</th>\n",
       "      <th>AL</th>\n",
       "      <th>B</th>\n",
       "      <th>BA</th>\n",
       "      <th>BE</th>\n",
       "      <th>...</th>\n",
       "      <th>P</th>\n",
       "      <th>PQINDEX</th>\n",
       "      <th>S</th>\n",
       "      <th>SI</th>\n",
       "      <th>TI</th>\n",
       "      <th>U100</th>\n",
       "      <th>U75</th>\n",
       "      <th>V</th>\n",
       "      <th>V40</th>\n",
       "      <th>ZN</th>\n",
       "    </tr>\n",
       "  </thead>\n",
       "  <tbody>\n",
       "    <tr>\n",
       "      <th>13107</th>\n",
       "      <td>COMPONENT3</td>\n",
       "      <td>2085</td>\n",
       "      <td>2012</td>\n",
       "      <td>11</td>\n",
       "      <td>200</td>\n",
       "      <td>0</td>\n",
       "      <td>1</td>\n",
       "      <td>22</td>\n",
       "      <td>0</td>\n",
       "      <td>0</td>\n",
       "      <td>...</td>\n",
       "      <td>2125</td>\n",
       "      <td>114</td>\n",
       "      <td>28210</td>\n",
       "      <td>7</td>\n",
       "      <td>0</td>\n",
       "      <td>0.0</td>\n",
       "      <td>0.0</td>\n",
       "      <td>0</td>\n",
       "      <td>146.7</td>\n",
       "      <td>45</td>\n",
       "    </tr>\n",
       "    <tr>\n",
       "      <th>731</th>\n",
       "      <td>COMPONENT3</td>\n",
       "      <td>1445</td>\n",
       "      <td>2018</td>\n",
       "      <td>5</td>\n",
       "      <td>375</td>\n",
       "      <td>0</td>\n",
       "      <td>3</td>\n",
       "      <td>0</td>\n",
       "      <td>0</td>\n",
       "      <td>0</td>\n",
       "      <td>...</td>\n",
       "      <td>390</td>\n",
       "      <td>245</td>\n",
       "      <td>18650</td>\n",
       "      <td>2</td>\n",
       "      <td>0</td>\n",
       "      <td>0.0</td>\n",
       "      <td>0.0</td>\n",
       "      <td>0</td>\n",
       "      <td>135.5</td>\n",
       "      <td>51</td>\n",
       "    </tr>\n",
       "  </tbody>\n",
       "</table>\n",
       "<p>2 rows × 37 columns</p>\n",
       "</div>"
      ],
      "text/plain": [
       "      COMPONENT_ARBITRARY  ANONYMOUS_1  YEAR  SAMPLE_TRANSFER_DAY  \\\n",
       "13107          COMPONENT3         2085  2012                   11   \n",
       "731            COMPONENT3         1445  2018                    5   \n",
       "\n",
       "       ANONYMOUS_2  AG  AL   B  BA  BE  ...     P  PQINDEX      S  SI  TI  \\\n",
       "13107          200   0   1  22   0   0  ...  2125      114  28210   7   0   \n",
       "731            375   0   3   0   0   0  ...   390      245  18650   2   0   \n",
       "\n",
       "       U100  U75  V    V40  ZN  \n",
       "13107   0.0  0.0  0  146.7  45  \n",
       "731     0.0  0.0  0  135.5  51  \n",
       "\n",
       "[2 rows x 37 columns]"
      ]
     },
     "execution_count": 647,
     "metadata": {},
     "output_type": "execute_result"
    }
   ],
   "source": [
    "val_X.head(2)"
   ]
  },
  {
   "cell_type": "markdown",
   "id": "61216472",
   "metadata": {},
   "source": [
    "### Scaling"
   ]
  },
  {
   "cell_type": "code",
   "execution_count": 648,
   "id": "fa894923",
   "metadata": {},
   "outputs": [],
   "source": [
    "categorical_features = ['COMPONENT_ARBITRARY', 'YEAR']"
   ]
  },
  {
   "cell_type": "code",
   "execution_count": 649,
   "id": "ddc2df5c",
   "metadata": {},
   "outputs": [
    {
     "data": {
      "text/html": [
       "<div>\n",
       "<style scoped>\n",
       "    .dataframe tbody tr th:only-of-type {\n",
       "        vertical-align: middle;\n",
       "    }\n",
       "\n",
       "    .dataframe tbody tr th {\n",
       "        vertical-align: top;\n",
       "    }\n",
       "\n",
       "    .dataframe thead th {\n",
       "        text-align: right;\n",
       "    }\n",
       "</style>\n",
       "<table border=\"1\" class=\"dataframe\">\n",
       "  <thead>\n",
       "    <tr style=\"text-align: right;\">\n",
       "      <th></th>\n",
       "      <th>COMPONENT_ARBITRARY</th>\n",
       "      <th>ANONYMOUS_1</th>\n",
       "      <th>YEAR</th>\n",
       "      <th>SAMPLE_TRANSFER_DAY</th>\n",
       "      <th>ANONYMOUS_2</th>\n",
       "      <th>AG</th>\n",
       "      <th>AL</th>\n",
       "      <th>B</th>\n",
       "      <th>BA</th>\n",
       "      <th>BE</th>\n",
       "      <th>...</th>\n",
       "      <th>P</th>\n",
       "      <th>PQINDEX</th>\n",
       "      <th>S</th>\n",
       "      <th>SI</th>\n",
       "      <th>TI</th>\n",
       "      <th>U100</th>\n",
       "      <th>U75</th>\n",
       "      <th>V</th>\n",
       "      <th>V40</th>\n",
       "      <th>ZN</th>\n",
       "    </tr>\n",
       "  </thead>\n",
       "  <tbody>\n",
       "    <tr>\n",
       "      <th>6216</th>\n",
       "      <td>COMPONENT3</td>\n",
       "      <td>0.066945</td>\n",
       "      <td>2016</td>\n",
       "      <td>-0.219402</td>\n",
       "      <td>-0.340807</td>\n",
       "      <td>-0.14991</td>\n",
       "      <td>-0.109649</td>\n",
       "      <td>0.429454</td>\n",
       "      <td>-0.30818</td>\n",
       "      <td>-0.040725</td>\n",
       "      <td>...</td>\n",
       "      <td>2.717384</td>\n",
       "      <td>0.215891</td>\n",
       "      <td>2.350677</td>\n",
       "      <td>-0.113002</td>\n",
       "      <td>-0.09805</td>\n",
       "      <td>-0.083955</td>\n",
       "      <td>-0.1138</td>\n",
       "      <td>-0.105558</td>\n",
       "      <td>0.640931</td>\n",
       "      <td>-1.069154</td>\n",
       "    </tr>\n",
       "    <tr>\n",
       "      <th>13544</th>\n",
       "      <td>COMPONENT3</td>\n",
       "      <td>0.572677</td>\n",
       "      <td>2014</td>\n",
       "      <td>-0.219402</td>\n",
       "      <td>-0.340807</td>\n",
       "      <td>-0.14991</td>\n",
       "      <td>-0.164876</td>\n",
       "      <td>-0.427729</td>\n",
       "      <td>-0.30818</td>\n",
       "      <td>-0.040725</td>\n",
       "      <td>...</td>\n",
       "      <td>0.274113</td>\n",
       "      <td>0.664284</td>\n",
       "      <td>0.791533</td>\n",
       "      <td>-0.154382</td>\n",
       "      <td>-0.09805</td>\n",
       "      <td>-0.083955</td>\n",
       "      <td>-0.1138</td>\n",
       "      <td>-0.105558</td>\n",
       "      <td>0.213439</td>\n",
       "      <td>-1.061642</td>\n",
       "    </tr>\n",
       "  </tbody>\n",
       "</table>\n",
       "<p>2 rows × 37 columns</p>\n",
       "</div>"
      ],
      "text/plain": [
       "      COMPONENT_ARBITRARY  ANONYMOUS_1  YEAR  SAMPLE_TRANSFER_DAY  \\\n",
       "6216           COMPONENT3     0.066945  2016            -0.219402   \n",
       "13544          COMPONENT3     0.572677  2014            -0.219402   \n",
       "\n",
       "       ANONYMOUS_2       AG        AL         B       BA        BE  ...  \\\n",
       "6216     -0.340807 -0.14991 -0.109649  0.429454 -0.30818 -0.040725  ...   \n",
       "13544    -0.340807 -0.14991 -0.164876 -0.427729 -0.30818 -0.040725  ...   \n",
       "\n",
       "              P   PQINDEX         S        SI       TI      U100     U75  \\\n",
       "6216   2.717384  0.215891  2.350677 -0.113002 -0.09805 -0.083955 -0.1138   \n",
       "13544  0.274113  0.664284  0.791533 -0.154382 -0.09805 -0.083955 -0.1138   \n",
       "\n",
       "              V       V40        ZN  \n",
       "6216  -0.105558  0.640931 -1.069154  \n",
       "13544 -0.105558  0.213439 -1.061642  \n",
       "\n",
       "[2 rows x 37 columns]"
      ]
     },
     "execution_count": 649,
     "metadata": {},
     "output_type": "execute_result"
    }
   ],
   "source": [
    "def get_values(value):\n",
    "    return value.values.reshape(-1, 1)\n",
    "\n",
    "for col in train_X.columns:\n",
    "    if col not in categorical_features:   # 범주형 칼럼이 아니라면 표준화\n",
    "        scaler = StandardScaler()\n",
    "        train_X[col] = scaler.fit_transform(get_values(train_X[col]))\n",
    "        val_X[col] = scaler.transform(get_values(val_X[col]))\n",
    "        if col in test.columns:\n",
    "            test[col] = scaler.transform(get_values(test[col]))\n",
    "            \n",
    "train_X.head(2)"
   ]
  },
  {
   "cell_type": "markdown",
   "id": "aceb9d17",
   "metadata": {},
   "source": [
    "### OneHotEncoding for Categorical Data"
   ]
  },
  {
   "cell_type": "code",
   "execution_count": 650,
   "id": "f96688d5",
   "metadata": {},
   "outputs": [],
   "source": [
    "def onehot_encode(df, target_list):\n",
    "    ct = ColumnTransformer(transformers=[('encoder', OneHotEncoder(drop='first', sparse=False), [0, 2])], remainder='passthrough')\n",
    "    df = ct.fit_transform(df)\n",
    "    df = pd.DataFrame(df)\n",
    "    new_name = ct.get_feature_names()\n",
    "    df.columns = new_name\n",
    "    return df"
   ]
  },
  {
   "cell_type": "code",
   "execution_count": 651,
   "id": "23f9b0ed",
   "metadata": {},
   "outputs": [
    {
     "data": {
      "text/html": [
       "<div>\n",
       "<style scoped>\n",
       "    .dataframe tbody tr th:only-of-type {\n",
       "        vertical-align: middle;\n",
       "    }\n",
       "\n",
       "    .dataframe tbody tr th {\n",
       "        vertical-align: top;\n",
       "    }\n",
       "\n",
       "    .dataframe thead th {\n",
       "        text-align: right;\n",
       "    }\n",
       "</style>\n",
       "<table border=\"1\" class=\"dataframe\">\n",
       "  <thead>\n",
       "    <tr style=\"text-align: right;\">\n",
       "      <th></th>\n",
       "      <th>encoder__x0_COMPONENT2</th>\n",
       "      <th>encoder__x0_COMPONENT3</th>\n",
       "      <th>encoder__x0_COMPONENT4</th>\n",
       "      <th>encoder__x1_2008</th>\n",
       "      <th>encoder__x1_2009</th>\n",
       "      <th>encoder__x1_2010</th>\n",
       "      <th>encoder__x1_2011</th>\n",
       "      <th>encoder__x1_2012</th>\n",
       "      <th>encoder__x1_2013</th>\n",
       "      <th>encoder__x1_2014</th>\n",
       "      <th>...</th>\n",
       "      <th>P</th>\n",
       "      <th>PQINDEX</th>\n",
       "      <th>S</th>\n",
       "      <th>SI</th>\n",
       "      <th>TI</th>\n",
       "      <th>U100</th>\n",
       "      <th>U75</th>\n",
       "      <th>V</th>\n",
       "      <th>V40</th>\n",
       "      <th>ZN</th>\n",
       "    </tr>\n",
       "  </thead>\n",
       "  <tbody>\n",
       "    <tr>\n",
       "      <th>0</th>\n",
       "      <td>0.0</td>\n",
       "      <td>1.0</td>\n",
       "      <td>0.0</td>\n",
       "      <td>0.0</td>\n",
       "      <td>0.0</td>\n",
       "      <td>0.0</td>\n",
       "      <td>0.0</td>\n",
       "      <td>0.0</td>\n",
       "      <td>0.0</td>\n",
       "      <td>0.0</td>\n",
       "      <td>...</td>\n",
       "      <td>2.717384</td>\n",
       "      <td>0.215891</td>\n",
       "      <td>2.350677</td>\n",
       "      <td>-0.113002</td>\n",
       "      <td>-0.09805</td>\n",
       "      <td>-0.083955</td>\n",
       "      <td>-0.1138</td>\n",
       "      <td>-0.105558</td>\n",
       "      <td>0.640931</td>\n",
       "      <td>-1.069154</td>\n",
       "    </tr>\n",
       "    <tr>\n",
       "      <th>1</th>\n",
       "      <td>0.0</td>\n",
       "      <td>1.0</td>\n",
       "      <td>0.0</td>\n",
       "      <td>0.0</td>\n",
       "      <td>0.0</td>\n",
       "      <td>0.0</td>\n",
       "      <td>0.0</td>\n",
       "      <td>0.0</td>\n",
       "      <td>0.0</td>\n",
       "      <td>1.0</td>\n",
       "      <td>...</td>\n",
       "      <td>0.274113</td>\n",
       "      <td>0.664284</td>\n",
       "      <td>0.791533</td>\n",
       "      <td>-0.154382</td>\n",
       "      <td>-0.09805</td>\n",
       "      <td>-0.083955</td>\n",
       "      <td>-0.1138</td>\n",
       "      <td>-0.105558</td>\n",
       "      <td>0.213439</td>\n",
       "      <td>-1.061642</td>\n",
       "    </tr>\n",
       "    <tr>\n",
       "      <th>2</th>\n",
       "      <td>0.0</td>\n",
       "      <td>0.0</td>\n",
       "      <td>0.0</td>\n",
       "      <td>0.0</td>\n",
       "      <td>0.0</td>\n",
       "      <td>0.0</td>\n",
       "      <td>0.0</td>\n",
       "      <td>0.0</td>\n",
       "      <td>0.0</td>\n",
       "      <td>0.0</td>\n",
       "      <td>...</td>\n",
       "      <td>0.171573</td>\n",
       "      <td>-0.263000</td>\n",
       "      <td>-0.968471</td>\n",
       "      <td>-0.164727</td>\n",
       "      <td>-0.09805</td>\n",
       "      <td>-0.083955</td>\n",
       "      <td>-0.1138</td>\n",
       "      <td>-0.105558</td>\n",
       "      <td>-0.223813</td>\n",
       "      <td>1.055072</td>\n",
       "    </tr>\n",
       "    <tr>\n",
       "      <th>3</th>\n",
       "      <td>0.0</td>\n",
       "      <td>1.0</td>\n",
       "      <td>0.0</td>\n",
       "      <td>0.0</td>\n",
       "      <td>0.0</td>\n",
       "      <td>0.0</td>\n",
       "      <td>0.0</td>\n",
       "      <td>0.0</td>\n",
       "      <td>0.0</td>\n",
       "      <td>0.0</td>\n",
       "      <td>...</td>\n",
       "      <td>-0.993489</td>\n",
       "      <td>0.122449</td>\n",
       "      <td>-0.889818</td>\n",
       "      <td>-0.154382</td>\n",
       "      <td>-0.09805</td>\n",
       "      <td>-0.083955</td>\n",
       "      <td>-0.1138</td>\n",
       "      <td>-0.105558</td>\n",
       "      <td>0.119742</td>\n",
       "      <td>-0.261535</td>\n",
       "    </tr>\n",
       "    <tr>\n",
       "      <th>4</th>\n",
       "      <td>0.0</td>\n",
       "      <td>0.0</td>\n",
       "      <td>0.0</td>\n",
       "      <td>1.0</td>\n",
       "      <td>0.0</td>\n",
       "      <td>0.0</td>\n",
       "      <td>0.0</td>\n",
       "      <td>0.0</td>\n",
       "      <td>0.0</td>\n",
       "      <td>0.0</td>\n",
       "      <td>...</td>\n",
       "      <td>0.192788</td>\n",
       "      <td>-0.266894</td>\n",
       "      <td>-0.546207</td>\n",
       "      <td>-0.138865</td>\n",
       "      <td>-0.09805</td>\n",
       "      <td>-0.083955</td>\n",
       "      <td>-0.1138</td>\n",
       "      <td>-0.105558</td>\n",
       "      <td>0.250527</td>\n",
       "      <td>1.083244</td>\n",
       "    </tr>\n",
       "    <tr>\n",
       "      <th>...</th>\n",
       "      <td>...</td>\n",
       "      <td>...</td>\n",
       "      <td>...</td>\n",
       "      <td>...</td>\n",
       "      <td>...</td>\n",
       "      <td>...</td>\n",
       "      <td>...</td>\n",
       "      <td>...</td>\n",
       "      <td>...</td>\n",
       "      <td>...</td>\n",
       "      <td>...</td>\n",
       "      <td>...</td>\n",
       "      <td>...</td>\n",
       "      <td>...</td>\n",
       "      <td>...</td>\n",
       "      <td>...</td>\n",
       "      <td>...</td>\n",
       "      <td>...</td>\n",
       "      <td>...</td>\n",
       "      <td>...</td>\n",
       "      <td>...</td>\n",
       "    </tr>\n",
       "    <tr>\n",
       "      <th>11271</th>\n",
       "      <td>0.0</td>\n",
       "      <td>1.0</td>\n",
       "      <td>0.0</td>\n",
       "      <td>0.0</td>\n",
       "      <td>0.0</td>\n",
       "      <td>0.0</td>\n",
       "      <td>0.0</td>\n",
       "      <td>0.0</td>\n",
       "      <td>0.0</td>\n",
       "      <td>0.0</td>\n",
       "      <td>...</td>\n",
       "      <td>2.307225</td>\n",
       "      <td>-0.109210</td>\n",
       "      <td>1.729695</td>\n",
       "      <td>-0.144037</td>\n",
       "      <td>-0.09805</td>\n",
       "      <td>-0.083955</td>\n",
       "      <td>-0.1138</td>\n",
       "      <td>-0.105558</td>\n",
       "      <td>0.707300</td>\n",
       "      <td>-0.868189</td>\n",
       "    </tr>\n",
       "    <tr>\n",
       "      <th>11272</th>\n",
       "      <td>0.0</td>\n",
       "      <td>1.0</td>\n",
       "      <td>0.0</td>\n",
       "      <td>0.0</td>\n",
       "      <td>0.0</td>\n",
       "      <td>0.0</td>\n",
       "      <td>0.0</td>\n",
       "      <td>0.0</td>\n",
       "      <td>0.0</td>\n",
       "      <td>1.0</td>\n",
       "      <td>...</td>\n",
       "      <td>0.576428</td>\n",
       "      <td>0.272995</td>\n",
       "      <td>0.381682</td>\n",
       "      <td>-0.087139</td>\n",
       "      <td>-0.09805</td>\n",
       "      <td>-0.083955</td>\n",
       "      <td>-0.1138</td>\n",
       "      <td>-0.105558</td>\n",
       "      <td>0.432065</td>\n",
       "      <td>-1.027834</td>\n",
       "    </tr>\n",
       "    <tr>\n",
       "      <th>11273</th>\n",
       "      <td>0.0</td>\n",
       "      <td>0.0</td>\n",
       "      <td>0.0</td>\n",
       "      <td>0.0</td>\n",
       "      <td>0.0</td>\n",
       "      <td>0.0</td>\n",
       "      <td>0.0</td>\n",
       "      <td>1.0</td>\n",
       "      <td>0.0</td>\n",
       "      <td>0.0</td>\n",
       "      <td>...</td>\n",
       "      <td>0.072569</td>\n",
       "      <td>-0.253916</td>\n",
       "      <td>-0.061342</td>\n",
       "      <td>-0.164727</td>\n",
       "      <td>-0.09805</td>\n",
       "      <td>-0.083955</td>\n",
       "      <td>-0.1138</td>\n",
       "      <td>-0.105558</td>\n",
       "      <td>-0.471719</td>\n",
       "      <td>1.090757</td>\n",
       "    </tr>\n",
       "    <tr>\n",
       "      <th>11274</th>\n",
       "      <td>0.0</td>\n",
       "      <td>1.0</td>\n",
       "      <td>0.0</td>\n",
       "      <td>0.0</td>\n",
       "      <td>0.0</td>\n",
       "      <td>0.0</td>\n",
       "      <td>0.0</td>\n",
       "      <td>0.0</td>\n",
       "      <td>0.0</td>\n",
       "      <td>0.0</td>\n",
       "      <td>...</td>\n",
       "      <td>-1.251606</td>\n",
       "      <td>-0.114401</td>\n",
       "      <td>0.002864</td>\n",
       "      <td>-0.076794</td>\n",
       "      <td>-0.09805</td>\n",
       "      <td>-0.083955</td>\n",
       "      <td>-0.1138</td>\n",
       "      <td>-0.105558</td>\n",
       "      <td>0.744388</td>\n",
       "      <td>-1.080423</td>\n",
       "    </tr>\n",
       "    <tr>\n",
       "      <th>11275</th>\n",
       "      <td>0.0</td>\n",
       "      <td>0.0</td>\n",
       "      <td>1.0</td>\n",
       "      <td>0.0</td>\n",
       "      <td>0.0</td>\n",
       "      <td>0.0</td>\n",
       "      <td>0.0</td>\n",
       "      <td>0.0</td>\n",
       "      <td>1.0</td>\n",
       "      <td>0.0</td>\n",
       "      <td>...</td>\n",
       "      <td>0.412011</td>\n",
       "      <td>-0.244182</td>\n",
       "      <td>-0.041010</td>\n",
       "      <td>-0.102657</td>\n",
       "      <td>-0.09805</td>\n",
       "      <td>-0.083955</td>\n",
       "      <td>-0.1138</td>\n",
       "      <td>-0.105558</td>\n",
       "      <td>-0.727433</td>\n",
       "      <td>1.271063</td>\n",
       "    </tr>\n",
       "  </tbody>\n",
       "</table>\n",
       "<p>11276 rows × 53 columns</p>\n",
       "</div>"
      ],
      "text/plain": [
       "       encoder__x0_COMPONENT2  encoder__x0_COMPONENT3  encoder__x0_COMPONENT4  \\\n",
       "0                         0.0                     1.0                     0.0   \n",
       "1                         0.0                     1.0                     0.0   \n",
       "2                         0.0                     0.0                     0.0   \n",
       "3                         0.0                     1.0                     0.0   \n",
       "4                         0.0                     0.0                     0.0   \n",
       "...                       ...                     ...                     ...   \n",
       "11271                     0.0                     1.0                     0.0   \n",
       "11272                     0.0                     1.0                     0.0   \n",
       "11273                     0.0                     0.0                     0.0   \n",
       "11274                     0.0                     1.0                     0.0   \n",
       "11275                     0.0                     0.0                     1.0   \n",
       "\n",
       "       encoder__x1_2008  encoder__x1_2009  encoder__x1_2010  encoder__x1_2011  \\\n",
       "0                   0.0               0.0               0.0               0.0   \n",
       "1                   0.0               0.0               0.0               0.0   \n",
       "2                   0.0               0.0               0.0               0.0   \n",
       "3                   0.0               0.0               0.0               0.0   \n",
       "4                   1.0               0.0               0.0               0.0   \n",
       "...                 ...               ...               ...               ...   \n",
       "11271               0.0               0.0               0.0               0.0   \n",
       "11272               0.0               0.0               0.0               0.0   \n",
       "11273               0.0               0.0               0.0               0.0   \n",
       "11274               0.0               0.0               0.0               0.0   \n",
       "11275               0.0               0.0               0.0               0.0   \n",
       "\n",
       "       encoder__x1_2012  encoder__x1_2013  encoder__x1_2014  ...         P  \\\n",
       "0                   0.0               0.0               0.0  ...  2.717384   \n",
       "1                   0.0               0.0               1.0  ...  0.274113   \n",
       "2                   0.0               0.0               0.0  ...  0.171573   \n",
       "3                   0.0               0.0               0.0  ... -0.993489   \n",
       "4                   0.0               0.0               0.0  ...  0.192788   \n",
       "...                 ...               ...               ...  ...       ...   \n",
       "11271               0.0               0.0               0.0  ...  2.307225   \n",
       "11272               0.0               0.0               1.0  ...  0.576428   \n",
       "11273               1.0               0.0               0.0  ...  0.072569   \n",
       "11274               0.0               0.0               0.0  ... -1.251606   \n",
       "11275               0.0               1.0               0.0  ...  0.412011   \n",
       "\n",
       "        PQINDEX         S        SI       TI      U100     U75         V  \\\n",
       "0      0.215891  2.350677 -0.113002 -0.09805 -0.083955 -0.1138 -0.105558   \n",
       "1      0.664284  0.791533 -0.154382 -0.09805 -0.083955 -0.1138 -0.105558   \n",
       "2     -0.263000 -0.968471 -0.164727 -0.09805 -0.083955 -0.1138 -0.105558   \n",
       "3      0.122449 -0.889818 -0.154382 -0.09805 -0.083955 -0.1138 -0.105558   \n",
       "4     -0.266894 -0.546207 -0.138865 -0.09805 -0.083955 -0.1138 -0.105558   \n",
       "...         ...       ...       ...      ...       ...     ...       ...   \n",
       "11271 -0.109210  1.729695 -0.144037 -0.09805 -0.083955 -0.1138 -0.105558   \n",
       "11272  0.272995  0.381682 -0.087139 -0.09805 -0.083955 -0.1138 -0.105558   \n",
       "11273 -0.253916 -0.061342 -0.164727 -0.09805 -0.083955 -0.1138 -0.105558   \n",
       "11274 -0.114401  0.002864 -0.076794 -0.09805 -0.083955 -0.1138 -0.105558   \n",
       "11275 -0.244182 -0.041010 -0.102657 -0.09805 -0.083955 -0.1138 -0.105558   \n",
       "\n",
       "            V40        ZN  \n",
       "0      0.640931 -1.069154  \n",
       "1      0.213439 -1.061642  \n",
       "2     -0.223813  1.055072  \n",
       "3      0.119742 -0.261535  \n",
       "4      0.250527  1.083244  \n",
       "...         ...       ...  \n",
       "11271  0.707300 -0.868189  \n",
       "11272  0.432065 -1.027834  \n",
       "11273 -0.471719  1.090757  \n",
       "11274  0.744388 -1.080423  \n",
       "11275 -0.727433  1.271063  \n",
       "\n",
       "[11276 rows x 53 columns]"
      ]
     },
     "execution_count": 651,
     "metadata": {},
     "output_type": "execute_result"
    }
   ],
   "source": [
    "train_X = onehot_encode(train_X, [0,2])\n",
    "train_X"
   ]
  },
  {
   "cell_type": "code",
   "execution_count": 652,
   "id": "ccbd786b",
   "metadata": {},
   "outputs": [
    {
     "data": {
      "text/html": [
       "<div>\n",
       "<style scoped>\n",
       "    .dataframe tbody tr th:only-of-type {\n",
       "        vertical-align: middle;\n",
       "    }\n",
       "\n",
       "    .dataframe tbody tr th {\n",
       "        vertical-align: top;\n",
       "    }\n",
       "\n",
       "    .dataframe thead th {\n",
       "        text-align: right;\n",
       "    }\n",
       "</style>\n",
       "<table border=\"1\" class=\"dataframe\">\n",
       "  <thead>\n",
       "    <tr style=\"text-align: right;\">\n",
       "      <th></th>\n",
       "      <th>encoder__x0_COMPONENT2</th>\n",
       "      <th>encoder__x0_COMPONENT3</th>\n",
       "      <th>encoder__x0_COMPONENT4</th>\n",
       "      <th>encoder__x1_2008</th>\n",
       "      <th>encoder__x1_2009</th>\n",
       "      <th>encoder__x1_2010</th>\n",
       "      <th>encoder__x1_2011</th>\n",
       "      <th>encoder__x1_2012</th>\n",
       "      <th>encoder__x1_2013</th>\n",
       "      <th>encoder__x1_2014</th>\n",
       "      <th>...</th>\n",
       "      <th>P</th>\n",
       "      <th>PQINDEX</th>\n",
       "      <th>S</th>\n",
       "      <th>SI</th>\n",
       "      <th>TI</th>\n",
       "      <th>U100</th>\n",
       "      <th>U75</th>\n",
       "      <th>V</th>\n",
       "      <th>V40</th>\n",
       "      <th>ZN</th>\n",
       "    </tr>\n",
       "  </thead>\n",
       "  <tbody>\n",
       "    <tr>\n",
       "      <th>0</th>\n",
       "      <td>0.0</td>\n",
       "      <td>1.0</td>\n",
       "      <td>0.0</td>\n",
       "      <td>0.0</td>\n",
       "      <td>0.0</td>\n",
       "      <td>0.0</td>\n",
       "      <td>0.0</td>\n",
       "      <td>1.0</td>\n",
       "      <td>0.0</td>\n",
       "      <td>0.0</td>\n",
       "      <td>...</td>\n",
       "      <td>2.148112</td>\n",
       "      <td>-0.193567</td>\n",
       "      <td>1.731086</td>\n",
       "      <td>-0.144037</td>\n",
       "      <td>-0.098050</td>\n",
       "      <td>-0.083955</td>\n",
       "      <td>-0.1138</td>\n",
       "      <td>-0.105558</td>\n",
       "      <td>0.724868</td>\n",
       "      <td>-1.022200</td>\n",
       "    </tr>\n",
       "    <tr>\n",
       "      <th>1</th>\n",
       "      <td>0.0</td>\n",
       "      <td>1.0</td>\n",
       "      <td>0.0</td>\n",
       "      <td>0.0</td>\n",
       "      <td>0.0</td>\n",
       "      <td>0.0</td>\n",
       "      <td>0.0</td>\n",
       "      <td>0.0</td>\n",
       "      <td>0.0</td>\n",
       "      <td>0.0</td>\n",
       "      <td>...</td>\n",
       "      <td>-0.919236</td>\n",
       "      <td>-0.108561</td>\n",
       "      <td>0.708064</td>\n",
       "      <td>-0.169900</td>\n",
       "      <td>-0.098050</td>\n",
       "      <td>-0.083955</td>\n",
       "      <td>-0.1138</td>\n",
       "      <td>-0.105558</td>\n",
       "      <td>0.506242</td>\n",
       "      <td>-1.010931</td>\n",
       "    </tr>\n",
       "    <tr>\n",
       "      <th>2</th>\n",
       "      <td>0.0</td>\n",
       "      <td>0.0</td>\n",
       "      <td>0.0</td>\n",
       "      <td>0.0</td>\n",
       "      <td>0.0</td>\n",
       "      <td>0.0</td>\n",
       "      <td>0.0</td>\n",
       "      <td>0.0</td>\n",
       "      <td>0.0</td>\n",
       "      <td>0.0</td>\n",
       "      <td>...</td>\n",
       "      <td>0.328918</td>\n",
       "      <td>-0.263000</td>\n",
       "      <td>-0.826040</td>\n",
       "      <td>-0.149210</td>\n",
       "      <td>-0.098050</td>\n",
       "      <td>-0.083955</td>\n",
       "      <td>-0.1138</td>\n",
       "      <td>-0.105558</td>\n",
       "      <td>0.125598</td>\n",
       "      <td>1.124564</td>\n",
       "    </tr>\n",
       "    <tr>\n",
       "      <th>3</th>\n",
       "      <td>0.0</td>\n",
       "      <td>0.0</td>\n",
       "      <td>0.0</td>\n",
       "      <td>0.0</td>\n",
       "      <td>0.0</td>\n",
       "      <td>0.0</td>\n",
       "      <td>0.0</td>\n",
       "      <td>1.0</td>\n",
       "      <td>0.0</td>\n",
       "      <td>0.0</td>\n",
       "      <td>...</td>\n",
       "      <td>0.079641</td>\n",
       "      <td>-0.255862</td>\n",
       "      <td>-0.809025</td>\n",
       "      <td>-0.092312</td>\n",
       "      <td>-0.098050</td>\n",
       "      <td>-0.083955</td>\n",
       "      <td>-0.1138</td>\n",
       "      <td>-0.105558</td>\n",
       "      <td>-0.461959</td>\n",
       "      <td>1.064463</td>\n",
       "    </tr>\n",
       "    <tr>\n",
       "      <th>4</th>\n",
       "      <td>0.0</td>\n",
       "      <td>0.0</td>\n",
       "      <td>0.0</td>\n",
       "      <td>0.0</td>\n",
       "      <td>0.0</td>\n",
       "      <td>0.0</td>\n",
       "      <td>1.0</td>\n",
       "      <td>0.0</td>\n",
       "      <td>0.0</td>\n",
       "      <td>0.0</td>\n",
       "      <td>...</td>\n",
       "      <td>0.125607</td>\n",
       "      <td>-0.266245</td>\n",
       "      <td>-0.840807</td>\n",
       "      <td>0.000794</td>\n",
       "      <td>-0.098050</td>\n",
       "      <td>-0.083955</td>\n",
       "      <td>-0.1138</td>\n",
       "      <td>-0.105558</td>\n",
       "      <td>0.174399</td>\n",
       "      <td>1.115173</td>\n",
       "    </tr>\n",
       "    <tr>\n",
       "      <th>...</th>\n",
       "      <td>...</td>\n",
       "      <td>...</td>\n",
       "      <td>...</td>\n",
       "      <td>...</td>\n",
       "      <td>...</td>\n",
       "      <td>...</td>\n",
       "      <td>...</td>\n",
       "      <td>...</td>\n",
       "      <td>...</td>\n",
       "      <td>...</td>\n",
       "      <td>...</td>\n",
       "      <td>...</td>\n",
       "      <td>...</td>\n",
       "      <td>...</td>\n",
       "      <td>...</td>\n",
       "      <td>...</td>\n",
       "      <td>...</td>\n",
       "      <td>...</td>\n",
       "      <td>...</td>\n",
       "      <td>...</td>\n",
       "      <td>...</td>\n",
       "    </tr>\n",
       "    <tr>\n",
       "      <th>2814</th>\n",
       "      <td>0.0</td>\n",
       "      <td>1.0</td>\n",
       "      <td>0.0</td>\n",
       "      <td>1.0</td>\n",
       "      <td>0.0</td>\n",
       "      <td>0.0</td>\n",
       "      <td>0.0</td>\n",
       "      <td>0.0</td>\n",
       "      <td>0.0</td>\n",
       "      <td>0.0</td>\n",
       "      <td>...</td>\n",
       "      <td>0.960067</td>\n",
       "      <td>-0.093636</td>\n",
       "      <td>0.823208</td>\n",
       "      <td>-0.102657</td>\n",
       "      <td>0.041759</td>\n",
       "      <td>-0.083955</td>\n",
       "      <td>-0.1138</td>\n",
       "      <td>-0.105558</td>\n",
       "      <td>0.558946</td>\n",
       "      <td>-0.817478</td>\n",
       "    </tr>\n",
       "    <tr>\n",
       "      <th>2815</th>\n",
       "      <td>0.0</td>\n",
       "      <td>1.0</td>\n",
       "      <td>0.0</td>\n",
       "      <td>0.0</td>\n",
       "      <td>1.0</td>\n",
       "      <td>0.0</td>\n",
       "      <td>0.0</td>\n",
       "      <td>0.0</td>\n",
       "      <td>0.0</td>\n",
       "      <td>0.0</td>\n",
       "      <td>...</td>\n",
       "      <td>2.303689</td>\n",
       "      <td>0.149054</td>\n",
       "      <td>2.057468</td>\n",
       "      <td>-0.118175</td>\n",
       "      <td>-0.098050</td>\n",
       "      <td>-0.083955</td>\n",
       "      <td>-0.1138</td>\n",
       "      <td>-0.105558</td>\n",
       "      <td>0.660451</td>\n",
       "      <td>-1.061642</td>\n",
       "    </tr>\n",
       "    <tr>\n",
       "      <th>2816</th>\n",
       "      <td>0.0</td>\n",
       "      <td>1.0</td>\n",
       "      <td>0.0</td>\n",
       "      <td>0.0</td>\n",
       "      <td>0.0</td>\n",
       "      <td>0.0</td>\n",
       "      <td>0.0</td>\n",
       "      <td>0.0</td>\n",
       "      <td>0.0</td>\n",
       "      <td>0.0</td>\n",
       "      <td>...</td>\n",
       "      <td>-0.749515</td>\n",
       "      <td>0.192530</td>\n",
       "      <td>1.160719</td>\n",
       "      <td>-0.138865</td>\n",
       "      <td>-0.098050</td>\n",
       "      <td>-0.083955</td>\n",
       "      <td>-0.1138</td>\n",
       "      <td>-0.105558</td>\n",
       "      <td>0.435969</td>\n",
       "      <td>-1.059763</td>\n",
       "    </tr>\n",
       "    <tr>\n",
       "      <th>2817</th>\n",
       "      <td>0.0</td>\n",
       "      <td>0.0</td>\n",
       "      <td>1.0</td>\n",
       "      <td>0.0</td>\n",
       "      <td>0.0</td>\n",
       "      <td>0.0</td>\n",
       "      <td>0.0</td>\n",
       "      <td>0.0</td>\n",
       "      <td>0.0</td>\n",
       "      <td>0.0</td>\n",
       "      <td>...</td>\n",
       "      <td>0.381956</td>\n",
       "      <td>-0.254564</td>\n",
       "      <td>-0.558727</td>\n",
       "      <td>-0.154382</td>\n",
       "      <td>-0.098050</td>\n",
       "      <td>-0.083955</td>\n",
       "      <td>-0.1138</td>\n",
       "      <td>-0.105558</td>\n",
       "      <td>-0.832842</td>\n",
       "      <td>1.009995</td>\n",
       "    </tr>\n",
       "    <tr>\n",
       "      <th>2818</th>\n",
       "      <td>0.0</td>\n",
       "      <td>0.0</td>\n",
       "      <td>0.0</td>\n",
       "      <td>0.0</td>\n",
       "      <td>0.0</td>\n",
       "      <td>0.0</td>\n",
       "      <td>0.0</td>\n",
       "      <td>1.0</td>\n",
       "      <td>0.0</td>\n",
       "      <td>0.0</td>\n",
       "      <td>...</td>\n",
       "      <td>0.099088</td>\n",
       "      <td>-0.266245</td>\n",
       "      <td>-0.826361</td>\n",
       "      <td>-0.154382</td>\n",
       "      <td>-0.098050</td>\n",
       "      <td>-0.083955</td>\n",
       "      <td>-0.1138</td>\n",
       "      <td>-0.105558</td>\n",
       "      <td>0.037758</td>\n",
       "      <td>0.925477</td>\n",
       "    </tr>\n",
       "  </tbody>\n",
       "</table>\n",
       "<p>2819 rows × 53 columns</p>\n",
       "</div>"
      ],
      "text/plain": [
       "      encoder__x0_COMPONENT2  encoder__x0_COMPONENT3  encoder__x0_COMPONENT4  \\\n",
       "0                        0.0                     1.0                     0.0   \n",
       "1                        0.0                     1.0                     0.0   \n",
       "2                        0.0                     0.0                     0.0   \n",
       "3                        0.0                     0.0                     0.0   \n",
       "4                        0.0                     0.0                     0.0   \n",
       "...                      ...                     ...                     ...   \n",
       "2814                     0.0                     1.0                     0.0   \n",
       "2815                     0.0                     1.0                     0.0   \n",
       "2816                     0.0                     1.0                     0.0   \n",
       "2817                     0.0                     0.0                     1.0   \n",
       "2818                     0.0                     0.0                     0.0   \n",
       "\n",
       "      encoder__x1_2008  encoder__x1_2009  encoder__x1_2010  encoder__x1_2011  \\\n",
       "0                  0.0               0.0               0.0               0.0   \n",
       "1                  0.0               0.0               0.0               0.0   \n",
       "2                  0.0               0.0               0.0               0.0   \n",
       "3                  0.0               0.0               0.0               0.0   \n",
       "4                  0.0               0.0               0.0               1.0   \n",
       "...                ...               ...               ...               ...   \n",
       "2814               1.0               0.0               0.0               0.0   \n",
       "2815               0.0               1.0               0.0               0.0   \n",
       "2816               0.0               0.0               0.0               0.0   \n",
       "2817               0.0               0.0               0.0               0.0   \n",
       "2818               0.0               0.0               0.0               0.0   \n",
       "\n",
       "      encoder__x1_2012  encoder__x1_2013  encoder__x1_2014  ...         P  \\\n",
       "0                  1.0               0.0               0.0  ...  2.148112   \n",
       "1                  0.0               0.0               0.0  ... -0.919236   \n",
       "2                  0.0               0.0               0.0  ...  0.328918   \n",
       "3                  1.0               0.0               0.0  ...  0.079641   \n",
       "4                  0.0               0.0               0.0  ...  0.125607   \n",
       "...                ...               ...               ...  ...       ...   \n",
       "2814               0.0               0.0               0.0  ...  0.960067   \n",
       "2815               0.0               0.0               0.0  ...  2.303689   \n",
       "2816               0.0               0.0               0.0  ... -0.749515   \n",
       "2817               0.0               0.0               0.0  ...  0.381956   \n",
       "2818               1.0               0.0               0.0  ...  0.099088   \n",
       "\n",
       "       PQINDEX         S        SI        TI      U100     U75         V  \\\n",
       "0    -0.193567  1.731086 -0.144037 -0.098050 -0.083955 -0.1138 -0.105558   \n",
       "1    -0.108561  0.708064 -0.169900 -0.098050 -0.083955 -0.1138 -0.105558   \n",
       "2    -0.263000 -0.826040 -0.149210 -0.098050 -0.083955 -0.1138 -0.105558   \n",
       "3    -0.255862 -0.809025 -0.092312 -0.098050 -0.083955 -0.1138 -0.105558   \n",
       "4    -0.266245 -0.840807  0.000794 -0.098050 -0.083955 -0.1138 -0.105558   \n",
       "...        ...       ...       ...       ...       ...     ...       ...   \n",
       "2814 -0.093636  0.823208 -0.102657  0.041759 -0.083955 -0.1138 -0.105558   \n",
       "2815  0.149054  2.057468 -0.118175 -0.098050 -0.083955 -0.1138 -0.105558   \n",
       "2816  0.192530  1.160719 -0.138865 -0.098050 -0.083955 -0.1138 -0.105558   \n",
       "2817 -0.254564 -0.558727 -0.154382 -0.098050 -0.083955 -0.1138 -0.105558   \n",
       "2818 -0.266245 -0.826361 -0.154382 -0.098050 -0.083955 -0.1138 -0.105558   \n",
       "\n",
       "           V40        ZN  \n",
       "0     0.724868 -1.022200  \n",
       "1     0.506242 -1.010931  \n",
       "2     0.125598  1.124564  \n",
       "3    -0.461959  1.064463  \n",
       "4     0.174399  1.115173  \n",
       "...        ...       ...  \n",
       "2814  0.558946 -0.817478  \n",
       "2815  0.660451 -1.061642  \n",
       "2816  0.435969 -1.059763  \n",
       "2817 -0.832842  1.009995  \n",
       "2818  0.037758  0.925477  \n",
       "\n",
       "[2819 rows x 53 columns]"
      ]
     },
     "execution_count": 652,
     "metadata": {},
     "output_type": "execute_result"
    }
   ],
   "source": [
    "val_X = onehot_encode(val_X, [0,2])\n",
    "val_X"
   ]
  },
  {
   "cell_type": "code",
   "execution_count": 653,
   "id": "41fbb7d3",
   "metadata": {},
   "outputs": [
    {
     "data": {
      "text/html": [
       "<div>\n",
       "<style scoped>\n",
       "    .dataframe tbody tr th:only-of-type {\n",
       "        vertical-align: middle;\n",
       "    }\n",
       "\n",
       "    .dataframe tbody tr th {\n",
       "        vertical-align: top;\n",
       "    }\n",
       "\n",
       "    .dataframe thead th {\n",
       "        text-align: right;\n",
       "    }\n",
       "</style>\n",
       "<table border=\"1\" class=\"dataframe\">\n",
       "  <thead>\n",
       "    <tr style=\"text-align: right;\">\n",
       "      <th></th>\n",
       "      <th>encoder__x0_COMPONENT2</th>\n",
       "      <th>encoder__x0_COMPONENT3</th>\n",
       "      <th>encoder__x0_COMPONENT4</th>\n",
       "      <th>encoder__x1_2008</th>\n",
       "      <th>encoder__x1_2009</th>\n",
       "      <th>encoder__x1_2010</th>\n",
       "      <th>encoder__x1_2011</th>\n",
       "      <th>encoder__x1_2012</th>\n",
       "      <th>encoder__x1_2013</th>\n",
       "      <th>encoder__x1_2014</th>\n",
       "      <th>...</th>\n",
       "      <th>CU</th>\n",
       "      <th>FE</th>\n",
       "      <th>H2O</th>\n",
       "      <th>MN</th>\n",
       "      <th>NI</th>\n",
       "      <th>PQINDEX</th>\n",
       "      <th>TI</th>\n",
       "      <th>V</th>\n",
       "      <th>V40</th>\n",
       "      <th>ZN</th>\n",
       "    </tr>\n",
       "  </thead>\n",
       "  <tbody>\n",
       "    <tr>\n",
       "      <th>0</th>\n",
       "      <td>0.0</td>\n",
       "      <td>0.0</td>\n",
       "      <td>0.0</td>\n",
       "      <td>0.0</td>\n",
       "      <td>0.0</td>\n",
       "      <td>0.0</td>\n",
       "      <td>0.0</td>\n",
       "      <td>0.0</td>\n",
       "      <td>0.0</td>\n",
       "      <td>0.0</td>\n",
       "      <td>...</td>\n",
       "      <td>-0.261653</td>\n",
       "      <td>-0.354708</td>\n",
       "      <td>-0.042486</td>\n",
       "      <td>-0.240513</td>\n",
       "      <td>-0.193138</td>\n",
       "      <td>-0.261053</td>\n",
       "      <td>-0.098050</td>\n",
       "      <td>-0.105558</td>\n",
       "      <td>-0.356550</td>\n",
       "      <td>0.942381</td>\n",
       "    </tr>\n",
       "    <tr>\n",
       "      <th>1</th>\n",
       "      <td>0.0</td>\n",
       "      <td>1.0</td>\n",
       "      <td>0.0</td>\n",
       "      <td>0.0</td>\n",
       "      <td>0.0</td>\n",
       "      <td>0.0</td>\n",
       "      <td>1.0</td>\n",
       "      <td>0.0</td>\n",
       "      <td>0.0</td>\n",
       "      <td>0.0</td>\n",
       "      <td>...</td>\n",
       "      <td>-0.261653</td>\n",
       "      <td>0.231304</td>\n",
       "      <td>-0.042486</td>\n",
       "      <td>0.022458</td>\n",
       "      <td>-0.193138</td>\n",
       "      <td>1.505263</td>\n",
       "      <td>0.041759</td>\n",
       "      <td>-0.105558</td>\n",
       "      <td>0.338368</td>\n",
       "      <td>-1.084180</td>\n",
       "    </tr>\n",
       "    <tr>\n",
       "      <th>2</th>\n",
       "      <td>1.0</td>\n",
       "      <td>0.0</td>\n",
       "      <td>0.0</td>\n",
       "      <td>0.0</td>\n",
       "      <td>0.0</td>\n",
       "      <td>1.0</td>\n",
       "      <td>0.0</td>\n",
       "      <td>0.0</td>\n",
       "      <td>0.0</td>\n",
       "      <td>0.0</td>\n",
       "      <td>...</td>\n",
       "      <td>-0.144825</td>\n",
       "      <td>-0.370130</td>\n",
       "      <td>-0.042486</td>\n",
       "      <td>-0.240513</td>\n",
       "      <td>-0.193138</td>\n",
       "      <td>-0.260405</td>\n",
       "      <td>-0.098050</td>\n",
       "      <td>-0.105558</td>\n",
       "      <td>-1.273998</td>\n",
       "      <td>0.234305</td>\n",
       "    </tr>\n",
       "    <tr>\n",
       "      <th>3</th>\n",
       "      <td>0.0</td>\n",
       "      <td>1.0</td>\n",
       "      <td>0.0</td>\n",
       "      <td>0.0</td>\n",
       "      <td>1.0</td>\n",
       "      <td>0.0</td>\n",
       "      <td>0.0</td>\n",
       "      <td>0.0</td>\n",
       "      <td>0.0</td>\n",
       "      <td>0.0</td>\n",
       "      <td>...</td>\n",
       "      <td>-0.238287</td>\n",
       "      <td>-0.022047</td>\n",
       "      <td>-0.042486</td>\n",
       "      <td>0.110115</td>\n",
       "      <td>-0.193138</td>\n",
       "      <td>4.928233</td>\n",
       "      <td>-0.098050</td>\n",
       "      <td>-0.105558</td>\n",
       "      <td>0.648739</td>\n",
       "      <td>-0.930169</td>\n",
       "    </tr>\n",
       "    <tr>\n",
       "      <th>4</th>\n",
       "      <td>1.0</td>\n",
       "      <td>0.0</td>\n",
       "      <td>0.0</td>\n",
       "      <td>0.0</td>\n",
       "      <td>0.0</td>\n",
       "      <td>0.0</td>\n",
       "      <td>0.0</td>\n",
       "      <td>0.0</td>\n",
       "      <td>1.0</td>\n",
       "      <td>0.0</td>\n",
       "      <td>...</td>\n",
       "      <td>-0.222710</td>\n",
       "      <td>-0.352505</td>\n",
       "      <td>-0.042486</td>\n",
       "      <td>-0.240513</td>\n",
       "      <td>-0.193138</td>\n",
       "      <td>-0.257160</td>\n",
       "      <td>-0.098050</td>\n",
       "      <td>-0.105558</td>\n",
       "      <td>-0.901163</td>\n",
       "      <td>-0.225850</td>\n",
       "    </tr>\n",
       "    <tr>\n",
       "      <th>...</th>\n",
       "      <td>...</td>\n",
       "      <td>...</td>\n",
       "      <td>...</td>\n",
       "      <td>...</td>\n",
       "      <td>...</td>\n",
       "      <td>...</td>\n",
       "      <td>...</td>\n",
       "      <td>...</td>\n",
       "      <td>...</td>\n",
       "      <td>...</td>\n",
       "      <td>...</td>\n",
       "      <td>...</td>\n",
       "      <td>...</td>\n",
       "      <td>...</td>\n",
       "      <td>...</td>\n",
       "      <td>...</td>\n",
       "      <td>...</td>\n",
       "      <td>...</td>\n",
       "      <td>...</td>\n",
       "      <td>...</td>\n",
       "      <td>...</td>\n",
       "    </tr>\n",
       "    <tr>\n",
       "      <th>6036</th>\n",
       "      <td>0.0</td>\n",
       "      <td>1.0</td>\n",
       "      <td>0.0</td>\n",
       "      <td>0.0</td>\n",
       "      <td>0.0</td>\n",
       "      <td>0.0</td>\n",
       "      <td>0.0</td>\n",
       "      <td>0.0</td>\n",
       "      <td>0.0</td>\n",
       "      <td>1.0</td>\n",
       "      <td>...</td>\n",
       "      <td>0.743064</td>\n",
       "      <td>1.925452</td>\n",
       "      <td>-0.042486</td>\n",
       "      <td>5.457192</td>\n",
       "      <td>0.339663</td>\n",
       "      <td>1.029617</td>\n",
       "      <td>-0.098050</td>\n",
       "      <td>-0.105558</td>\n",
       "      <td>-0.748906</td>\n",
       "      <td>1.077610</td>\n",
       "    </tr>\n",
       "    <tr>\n",
       "      <th>6037</th>\n",
       "      <td>0.0</td>\n",
       "      <td>1.0</td>\n",
       "      <td>0.0</td>\n",
       "      <td>0.0</td>\n",
       "      <td>0.0</td>\n",
       "      <td>0.0</td>\n",
       "      <td>0.0</td>\n",
       "      <td>0.0</td>\n",
       "      <td>0.0</td>\n",
       "      <td>0.0</td>\n",
       "      <td>...</td>\n",
       "      <td>-0.253864</td>\n",
       "      <td>1.240302</td>\n",
       "      <td>-0.042486</td>\n",
       "      <td>0.197772</td>\n",
       "      <td>-0.193138</td>\n",
       "      <td>0.182148</td>\n",
       "      <td>-0.098050</td>\n",
       "      <td>-0.105558</td>\n",
       "      <td>0.551138</td>\n",
       "      <td>-1.082302</td>\n",
       "    </tr>\n",
       "    <tr>\n",
       "      <th>6038</th>\n",
       "      <td>0.0</td>\n",
       "      <td>1.0</td>\n",
       "      <td>0.0</td>\n",
       "      <td>0.0</td>\n",
       "      <td>0.0</td>\n",
       "      <td>0.0</td>\n",
       "      <td>0.0</td>\n",
       "      <td>0.0</td>\n",
       "      <td>0.0</td>\n",
       "      <td>1.0</td>\n",
       "      <td>...</td>\n",
       "      <td>-0.269441</td>\n",
       "      <td>-0.264383</td>\n",
       "      <td>-0.042486</td>\n",
       "      <td>-0.240513</td>\n",
       "      <td>-0.193138</td>\n",
       "      <td>-0.222768</td>\n",
       "      <td>-0.098050</td>\n",
       "      <td>-0.105558</td>\n",
       "      <td>3.760255</td>\n",
       "      <td>-1.082302</td>\n",
       "    </tr>\n",
       "    <tr>\n",
       "      <th>6039</th>\n",
       "      <td>1.0</td>\n",
       "      <td>0.0</td>\n",
       "      <td>0.0</td>\n",
       "      <td>0.0</td>\n",
       "      <td>0.0</td>\n",
       "      <td>0.0</td>\n",
       "      <td>0.0</td>\n",
       "      <td>0.0</td>\n",
       "      <td>1.0</td>\n",
       "      <td>0.0</td>\n",
       "      <td>...</td>\n",
       "      <td>0.213446</td>\n",
       "      <td>-0.376739</td>\n",
       "      <td>-0.042486</td>\n",
       "      <td>-0.240513</td>\n",
       "      <td>-0.193138</td>\n",
       "      <td>-0.264298</td>\n",
       "      <td>-0.098050</td>\n",
       "      <td>-0.105558</td>\n",
       "      <td>-1.141261</td>\n",
       "      <td>-0.208946</td>\n",
       "    </tr>\n",
       "    <tr>\n",
       "      <th>6040</th>\n",
       "      <td>0.0</td>\n",
       "      <td>0.0</td>\n",
       "      <td>0.0</td>\n",
       "      <td>0.0</td>\n",
       "      <td>0.0</td>\n",
       "      <td>0.0</td>\n",
       "      <td>0.0</td>\n",
       "      <td>0.0</td>\n",
       "      <td>0.0</td>\n",
       "      <td>0.0</td>\n",
       "      <td>...</td>\n",
       "      <td>-0.269441</td>\n",
       "      <td>-0.372333</td>\n",
       "      <td>-0.042486</td>\n",
       "      <td>-0.240513</td>\n",
       "      <td>-0.193138</td>\n",
       "      <td>-0.258458</td>\n",
       "      <td>-0.098050</td>\n",
       "      <td>-0.105558</td>\n",
       "      <td>-0.577128</td>\n",
       "      <td>0.715120</td>\n",
       "    </tr>\n",
       "  </tbody>\n",
       "</table>\n",
       "<p>6041 rows × 33 columns</p>\n",
       "</div>"
      ],
      "text/plain": [
       "      encoder__x0_COMPONENT2  encoder__x0_COMPONENT3  encoder__x0_COMPONENT4  \\\n",
       "0                        0.0                     0.0                     0.0   \n",
       "1                        0.0                     1.0                     0.0   \n",
       "2                        1.0                     0.0                     0.0   \n",
       "3                        0.0                     1.0                     0.0   \n",
       "4                        1.0                     0.0                     0.0   \n",
       "...                      ...                     ...                     ...   \n",
       "6036                     0.0                     1.0                     0.0   \n",
       "6037                     0.0                     1.0                     0.0   \n",
       "6038                     0.0                     1.0                     0.0   \n",
       "6039                     1.0                     0.0                     0.0   \n",
       "6040                     0.0                     0.0                     0.0   \n",
       "\n",
       "      encoder__x1_2008  encoder__x1_2009  encoder__x1_2010  encoder__x1_2011  \\\n",
       "0                  0.0               0.0               0.0               0.0   \n",
       "1                  0.0               0.0               0.0               1.0   \n",
       "2                  0.0               0.0               1.0               0.0   \n",
       "3                  0.0               1.0               0.0               0.0   \n",
       "4                  0.0               0.0               0.0               0.0   \n",
       "...                ...               ...               ...               ...   \n",
       "6036               0.0               0.0               0.0               0.0   \n",
       "6037               0.0               0.0               0.0               0.0   \n",
       "6038               0.0               0.0               0.0               0.0   \n",
       "6039               0.0               0.0               0.0               0.0   \n",
       "6040               0.0               0.0               0.0               0.0   \n",
       "\n",
       "      encoder__x1_2012  encoder__x1_2013  encoder__x1_2014  ...        CU  \\\n",
       "0                  0.0               0.0               0.0  ... -0.261653   \n",
       "1                  0.0               0.0               0.0  ... -0.261653   \n",
       "2                  0.0               0.0               0.0  ... -0.144825   \n",
       "3                  0.0               0.0               0.0  ... -0.238287   \n",
       "4                  0.0               1.0               0.0  ... -0.222710   \n",
       "...                ...               ...               ...  ...       ...   \n",
       "6036               0.0               0.0               1.0  ...  0.743064   \n",
       "6037               0.0               0.0               0.0  ... -0.253864   \n",
       "6038               0.0               0.0               1.0  ... -0.269441   \n",
       "6039               0.0               1.0               0.0  ...  0.213446   \n",
       "6040               0.0               0.0               0.0  ... -0.269441   \n",
       "\n",
       "            FE       H2O        MN        NI   PQINDEX        TI         V  \\\n",
       "0    -0.354708 -0.042486 -0.240513 -0.193138 -0.261053 -0.098050 -0.105558   \n",
       "1     0.231304 -0.042486  0.022458 -0.193138  1.505263  0.041759 -0.105558   \n",
       "2    -0.370130 -0.042486 -0.240513 -0.193138 -0.260405 -0.098050 -0.105558   \n",
       "3    -0.022047 -0.042486  0.110115 -0.193138  4.928233 -0.098050 -0.105558   \n",
       "4    -0.352505 -0.042486 -0.240513 -0.193138 -0.257160 -0.098050 -0.105558   \n",
       "...        ...       ...       ...       ...       ...       ...       ...   \n",
       "6036  1.925452 -0.042486  5.457192  0.339663  1.029617 -0.098050 -0.105558   \n",
       "6037  1.240302 -0.042486  0.197772 -0.193138  0.182148 -0.098050 -0.105558   \n",
       "6038 -0.264383 -0.042486 -0.240513 -0.193138 -0.222768 -0.098050 -0.105558   \n",
       "6039 -0.376739 -0.042486 -0.240513 -0.193138 -0.264298 -0.098050 -0.105558   \n",
       "6040 -0.372333 -0.042486 -0.240513 -0.193138 -0.258458 -0.098050 -0.105558   \n",
       "\n",
       "           V40        ZN  \n",
       "0    -0.356550  0.942381  \n",
       "1     0.338368 -1.084180  \n",
       "2    -1.273998  0.234305  \n",
       "3     0.648739 -0.930169  \n",
       "4    -0.901163 -0.225850  \n",
       "...        ...       ...  \n",
       "6036 -0.748906  1.077610  \n",
       "6037  0.551138 -1.082302  \n",
       "6038  3.760255 -1.082302  \n",
       "6039 -1.141261 -0.208946  \n",
       "6040 -0.577128  0.715120  \n",
       "\n",
       "[6041 rows x 33 columns]"
      ]
     },
     "execution_count": 653,
     "metadata": {},
     "output_type": "execute_result"
    }
   ],
   "source": [
    "test = onehot_encode(test, [0,2])\n",
    "test"
   ]
  },
  {
   "cell_type": "code",
   "execution_count": 654,
   "id": "47c3bd54",
   "metadata": {},
   "outputs": [
    {
     "data": {
      "text/plain": [
       "Index(['encoder__x0_COMPONENT2', 'encoder__x0_COMPONENT3',\n",
       "       'encoder__x0_COMPONENT4', 'encoder__x1_2008', 'encoder__x1_2009',\n",
       "       'encoder__x1_2010', 'encoder__x1_2011', 'encoder__x1_2012',\n",
       "       'encoder__x1_2013', 'encoder__x1_2014', 'encoder__x1_2015',\n",
       "       'encoder__x1_2016', 'encoder__x1_2017', 'encoder__x1_2018',\n",
       "       'encoder__x1_2019', 'encoder__x1_2020', 'encoder__x1_2021',\n",
       "       'encoder__x1_2022', 'ANONYMOUS_1', 'ANONYMOUS_2', 'AG', 'CO', 'CR',\n",
       "       'CU', 'FE', 'H2O', 'MN', 'NI', 'PQINDEX', 'TI', 'V', 'V40', 'ZN'],\n",
       "      dtype='object')"
      ]
     },
     "execution_count": 654,
     "metadata": {},
     "output_type": "execute_result"
    }
   ],
   "source": [
    "test_stage_features = test.columns\n",
    "# Inference(실제 진단 환경)에 사용하는 컬럼\n",
    "test_stage_features"
   ]
  },
  {
   "cell_type": "code",
   "execution_count": 655,
   "id": "cd0465e7",
   "metadata": {},
   "outputs": [
    {
     "name": "stdout",
     "output_type": "stream",
     "text": [
      "53 33\n"
     ]
    }
   ],
   "source": [
    "train_col_num = len(train_X.columns)\n",
    "test_col_num = len(test.columns)\n",
    "print(train_col_num, test_col_num) # Drop후 칼럼 갯수 (nn 시작 노드 갯수에 맞춰주기 위해 변수에 담아놓음)"
   ]
  },
  {
   "cell_type": "code",
   "execution_count": 656,
   "id": "110b82ad",
   "metadata": {},
   "outputs": [],
   "source": [
    "import pickle\n",
    "\n",
    "#저장하기\n",
    "with open(f\"./data/refined_train_X{file_version}\", 'wb') as pickle_filename:\n",
    "\tpickle.dump(train_X, pickle_filename)\n",
    "\n",
    "with open(f\"./data/refined_train_y{file_version}\", 'wb') as pickle_filename:\n",
    "\tpickle.dump(train_y, pickle_filename)\n",
    "    \n",
    "with open(f\"./data/refined_val_X{file_version}\", 'wb') as pickle_filename:\n",
    "\tpickle.dump(val_X, pickle_filename)\n",
    "\n",
    "with open(f\"./data/refined_val_y{file_version}\", 'wb') as pickle_filename:\n",
    "\tpickle.dump(val_y, pickle_filename)\n",
    "    \n",
    "with open(f\"./data/refined_test{file_version}\", 'wb') as pickle_filename:\n",
    "\tpickle.dump(test, pickle_filename)"
   ]
  },
  {
   "cell_type": "code",
   "execution_count": 657,
   "id": "0589360d",
   "metadata": {},
   "outputs": [],
   "source": [
    "#불러오기\n",
    "with open(f\"./data/refined_train_X{file_version}\", 'rb') as pickle_filename:\n",
    "\ttrain_X = pickle.load(pickle_filename)\n",
    "\n",
    "with open(f\"./data/refined_train_y{file_version}\", 'rb') as pickle_filename:\n",
    "\ttrain_y = pickle.load(pickle_filename)\n",
    "    \n",
    "with open(f\"./data/refined_val_X{file_version}\", 'rb') as pickle_filename:\n",
    "\tval_X = pickle.load(pickle_filename)\n",
    "\n",
    "with open(f\"./data/refined_val_y{file_version}\", 'rb') as pickle_filename:\n",
    "\tval_y = pickle.load(pickle_filename)     \n",
    "\n",
    "with open(f\"./data/refined_test{file_version}\", 'rb') as pickle_filename:\n",
    "\ttest = pickle.load(pickle_filename)"
   ]
  },
  {
   "cell_type": "code",
   "execution_count": 658,
   "id": "217d12cd",
   "metadata": {},
   "outputs": [],
   "source": [
    "class CustomDataset(Dataset):\n",
    "    def __init__(self, data_X, data_y, distillation=False):\n",
    "        super(CustomDataset, self).__init__()\n",
    "        self.data_X = data_X\n",
    "        self.data_y = data_y\n",
    "        self.distillation = distillation\n",
    "        \n",
    "    def __len__(self):\n",
    "        return len(self.data_X)\n",
    "    \n",
    "    def __getitem__(self, index):\n",
    "        if self.distillation:\n",
    "            # 지식 증류 학습 시\n",
    "            teacher_X = torch.Tensor(self.data_X.iloc[index])\n",
    "            student_X = torch.Tensor(self.data_X[test_stage_features].iloc[index])\n",
    "            y = self.data_y.values[index]\n",
    "            return teacher_X, student_X, y\n",
    "        else:\n",
    "            if self.data_y is None:\n",
    "                test_X = torch.Tensor(self.data_X.iloc[index])\n",
    "                return test_X\n",
    "            else:\n",
    "                teacher_X = torch.Tensor(self.data_X.iloc[index])\n",
    "                y = self.data_y.values[index]\n",
    "                return teacher_X, y"
   ]
  },
  {
   "cell_type": "code",
   "execution_count": 659,
   "id": "48b7e9a7",
   "metadata": {},
   "outputs": [
    {
     "data": {
      "text/plain": [
       "[(tensor([ 0.0000,  1.0000,  0.0000,  0.0000,  0.0000,  0.0000,  0.0000,  0.0000,\n",
       "           0.0000,  0.0000,  0.0000,  1.0000,  0.0000,  0.0000,  0.0000,  0.0000,\n",
       "           0.0000,  0.0000,  0.0669, -0.2194, -0.3408, -0.1499, -0.1096,  0.4295,\n",
       "          -0.3082, -0.0407,  1.1846, -0.1179, -0.0117, -0.2461, -0.0375, -0.2828,\n",
       "          -0.3583, -0.2119, -0.0549, -0.1256, -0.1072, -0.0425, -0.1360, -0.2854,\n",
       "           0.0225,  0.6670, -0.1931,  2.7174,  0.2159,  2.3507, -0.1130, -0.0980,\n",
       "          -0.0840, -0.1138, -0.1056,  0.6409, -1.0692]),\n",
       "  0),\n",
       " (tensor([ 0.0000,  1.0000,  0.0000,  0.0000,  0.0000,  0.0000,  0.0000,  0.0000,\n",
       "           0.0000,  1.0000,  0.0000,  0.0000,  0.0000,  0.0000,  0.0000,  0.0000,\n",
       "           0.0000,  0.0000,  0.5727, -0.2194, -0.3408, -0.1499, -0.1649, -0.4277,\n",
       "          -0.3082, -0.0407, -0.7973, -0.1179, -0.1089, -0.2539, -0.0375, -0.2828,\n",
       "          -0.3583, -0.2119, -0.0549, -0.2203, -0.1072, -0.0425, -0.2017, -0.2854,\n",
       "          -0.2405, -0.0705, -0.1931,  0.2741,  0.6643,  0.7915, -0.1544, -0.0980,\n",
       "          -0.0840, -0.1138, -0.1056,  0.2134, -1.0616]),\n",
       "  0)]"
      ]
     },
     "execution_count": 659,
     "metadata": {},
     "output_type": "execute_result"
    }
   ],
   "source": [
    "train_dataset = CustomDataset(train_X, train_y, False)\n",
    "val_dataset = CustomDataset(val_X, val_y, False)\n",
    "list(train_dataset)[:2]"
   ]
  },
  {
   "cell_type": "code",
   "execution_count": 660,
   "id": "50bab7f2",
   "metadata": {},
   "outputs": [
    {
     "data": {
      "text/plain": [
       "[[tensor([[ 0.0000,  0.0000,  1.0000,  ..., -0.1056, -0.7879,  0.4033],\n",
       "          [ 0.0000,  0.0000,  0.0000,  ..., -0.1056,  0.0612,  1.5040],\n",
       "          [ 0.0000,  0.0000,  1.0000,  ..., -0.1056, -0.7216,  1.1039],\n",
       "          ...,\n",
       "          [ 1.0000,  0.0000,  0.0000,  ..., -0.1056, -1.2584,  0.2287],\n",
       "          [ 0.0000,  0.0000,  0.0000,  ..., -0.1056, -0.4249,  0.8973],\n",
       "          [ 0.0000,  0.0000,  0.0000,  ..., -0.1056, -0.3644,  1.0025]]),\n",
       "  tensor([0, 0, 0, 0, 0, 0, 0, 0, 0, 0, 0, 0, 0, 0, 0, 0, 0, 0, 1, 0, 0, 0, 0, 1,\n",
       "          0, 0, 0, 0, 0, 0, 0, 0, 0, 0, 0, 1, 0, 0, 0, 0, 0, 0, 0, 0, 0, 0, 0, 0,\n",
       "          0, 0, 0, 0, 0, 0, 0, 1, 0, 0, 0, 0, 0, 0, 0, 0, 0, 0, 1, 0, 0, 0, 0, 0,\n",
       "          0, 0, 1, 0, 0, 0, 0, 0, 0, 1, 0, 0, 0, 0, 0, 0, 1, 0, 0, 0, 0, 0, 0, 0,\n",
       "          0, 1, 0, 0, 1, 0, 0, 0, 0, 0, 0, 1, 0, 0, 0, 0, 0, 0, 0, 0, 0, 1, 0, 0,\n",
       "          0, 0, 0, 0, 0, 0, 0, 0, 0, 0, 0, 0, 1, 0, 0, 0, 0, 0, 0, 0, 0, 0, 1, 0,\n",
       "          0, 0, 0, 0, 0, 0, 0, 0, 0, 0, 1, 0, 0, 0, 1, 0, 0, 0, 0, 0, 0, 0, 0, 0,\n",
       "          0, 0, 0, 0, 0, 0, 0, 0, 0, 0, 0, 0, 0, 0, 0, 0, 0, 0, 0, 0, 1, 0, 0, 0,\n",
       "          0, 0, 0, 0, 0, 1, 0, 0, 0, 0, 0, 0, 0, 0, 0, 0, 1, 0, 0, 0, 0, 0, 0, 0,\n",
       "          0, 0, 0, 0, 0, 0, 0, 0, 0, 0, 0, 0, 0, 0, 0, 1, 0, 0, 0, 0, 0, 0, 0, 0,\n",
       "          0, 0, 0, 0, 0, 0, 0, 1, 1, 1, 0, 0, 0, 0, 0, 0])],\n",
       " [tensor([[ 0.0000,  1.0000,  0.0000,  ..., -0.1056,  0.3052, -1.0447],\n",
       "          [ 0.0000,  0.0000,  0.0000,  ..., -0.1056, -0.1789,  0.5085],\n",
       "          [ 0.0000,  1.0000,  0.0000,  ..., -0.1056,  1.1211, -1.0748],\n",
       "          ...,\n",
       "          [ 0.0000,  1.0000,  0.0000,  ..., -0.1056,  5.3336, -0.9677],\n",
       "          [ 0.0000,  1.0000,  0.0000,  ..., -0.1056,  0.6331, -1.0053],\n",
       "          [ 0.0000,  0.0000,  0.0000,  ..., -0.1056, -0.1457,  0.6907]]),\n",
       "  tensor([0, 0, 0, 0, 0, 0, 0, 0, 0, 0, 1, 0, 0, 0, 0, 0, 0, 1, 1, 0, 0, 0, 0, 0,\n",
       "          0, 0, 0, 0, 0, 1, 0, 0, 0, 0, 0, 0, 0, 0, 0, 0, 0, 0, 0, 0, 0, 0, 1, 0,\n",
       "          0, 0, 0, 0, 0, 0, 0, 0, 0, 0, 0, 0, 0, 0, 0, 0, 0, 0, 0, 0, 0, 0, 0, 0,\n",
       "          0, 1, 0, 1, 1, 0, 0, 0, 0, 0, 0, 0, 0, 0, 0, 0, 0, 0, 0, 0, 0, 0, 0, 0,\n",
       "          0, 0, 0, 0, 0, 0, 0, 0, 0, 0, 1, 0, 0, 0, 0, 0, 0, 0, 0, 0, 0, 0, 1, 0,\n",
       "          0, 0, 0, 0, 0, 0, 0, 1, 0, 0, 0, 0, 0, 0, 0, 0, 0, 0, 0, 0, 0, 0, 0, 0,\n",
       "          0, 0, 0, 0, 0, 0, 0, 0, 0, 0, 0, 1, 0, 0, 0, 0, 0, 0, 0, 0, 0, 0, 0, 0,\n",
       "          0, 0, 0, 0, 0, 0, 0, 0, 0, 0, 0, 0, 1, 0, 1, 0, 0, 0, 0, 0, 0, 0, 0, 1,\n",
       "          0, 0, 0, 0, 0, 0, 0, 0, 0, 0, 0, 0, 0, 0, 0, 0, 0, 0, 0, 0, 0, 0, 0, 0,\n",
       "          0, 0, 0, 0, 0, 0, 0, 0, 0, 0, 0, 0, 0, 0, 0, 0, 0, 0, 0, 0, 0, 0, 0, 0,\n",
       "          0, 0, 0, 0, 0, 0, 0, 0, 0, 0, 1, 0, 0, 0, 0, 0])]]"
      ]
     },
     "execution_count": 660,
     "metadata": {},
     "output_type": "execute_result"
    }
   ],
   "source": [
    "train_loader = DataLoader(train_dataset, batch_size = CFG['BATCH_SIZE'], shuffle=True)\n",
    "val_loader = DataLoader(val_dataset, batch_size = CFG['BATCH_SIZE'], shuffle=False)\n",
    "list(train_loader)[:2] "
   ]
  },
  {
   "cell_type": "code",
   "execution_count": 661,
   "id": "db671aaf",
   "metadata": {},
   "outputs": [],
   "source": [
    "class Teacher(nn.Module):\n",
    "    def __init__(self):\n",
    "        super(Teacher, self).__init__()\n",
    "        self.classifier = nn.Sequential(\n",
    "            nn.Linear(in_features=train_col_num, out_features=256),\n",
    "            nn.BatchNorm1d(256),\n",
    "            nn.Dropout(p=CFG['drop_p']),\n",
    "            nn.LeakyReLU(),\n",
    "            nn.Linear(in_features=256, out_features=1024),\n",
    "            nn.BatchNorm1d(1024),\n",
    "            nn.Dropout(p=CFG['drop_p']),\n",
    "            nn.LeakyReLU(),\n",
    "            nn.Linear(in_features=1024, out_features=256),\n",
    "            nn.BatchNorm1d(256),\n",
    "            nn.Dropout(p=CFG['drop_p']),\n",
    "            nn.LeakyReLU(),\n",
    "            nn.Linear(in_features=256, out_features=1),\n",
    "            nn.Sigmoid()\n",
    "        )\n",
    "        \n",
    "    def forward(self, x):\n",
    "        output = self.classifier(x)\n",
    "        return output"
   ]
  },
  {
   "cell_type": "markdown",
   "id": "9c7cd916",
   "metadata": {},
   "source": [
    "#### BCELOSS : https://pytorch.org/docs/stable/generated/torch.nn.BCELoss.html"
   ]
  },
  {
   "cell_type": "code",
   "execution_count": 662,
   "id": "c13f0b15",
   "metadata": {},
   "outputs": [],
   "source": [
    "def train(model, optimizer, train_loader, val_loader, scheduler, device):\n",
    "    model.to(device)\n",
    "\n",
    "    best_score = 0\n",
    "    best_model = None\n",
    "    \n",
    "    # Loss Function 정의\n",
    "    criterion = nn.BCELoss(reduction=CFG[\"reduct\"]).to(device)\n",
    "\n",
    "    for epoch in range(CFG[\"EPOCHS\"]):\n",
    "        train_loss = []\n",
    "  \n",
    "        model.train()\n",
    "        for X, y in tqdm(train_loader):\n",
    "            X = X.float().to(device)\n",
    "            y = y.float().to(device)\n",
    "            \n",
    "            optimizer.zero_grad()\n",
    "            \n",
    "            y_pred = model(X)\n",
    "            \n",
    "            loss = criterion(y_pred, y.reshape(-1, 1))  # loss_fn(input, target)\n",
    "            loss.backward()\n",
    "            \n",
    "            optimizer.step()\n",
    "\n",
    "            train_loss.append(loss.item())\n",
    "\n",
    "        val_loss, val_score = validation_teacher(model, val_loader, criterion, device)\n",
    "        \n",
    "        print(f'Epoch [{epoch}], Train Loss : [{np.mean(train_loss) :.5f}] Val Loss : [{np.mean(val_loss) :.5f}] Val F1 Score : [{val_score:.5f}]')\n",
    "\n",
    "        if scheduler is not None:\n",
    "            scheduler.step(val_score)\n",
    "            \n",
    "        if best_score < val_score:\n",
    "            best_model = model\n",
    "            best_score = val_score\n",
    "    print(f\"Teacher Train Best Score는 {best_score} 입니다.\")\n",
    "    return best_model "
   ]
  },
  {
   "cell_type": "code",
   "execution_count": 663,
   "id": "f183e274",
   "metadata": {},
   "outputs": [],
   "source": [
    "def competition_metric(true, pred):\n",
    "    return f1_score(true, pred, average=\"macro\")\n",
    "\n",
    "def validation_teacher(model, val_loader, criterion, device):\n",
    "    model.eval()\n",
    "\n",
    "    val_loss = []\n",
    "    pred_labels = []\n",
    "    true_labels = []\n",
    "    threshold = CFG['T_Thresh']     \n",
    "    \n",
    "    with torch.no_grad():\n",
    "        for X, y in tqdm(val_loader):\n",
    "            X = X.float().to(device)\n",
    "            y = y.float().to(device)\n",
    "            \n",
    "            model_pred = model(X.to(device))\n",
    "            \n",
    "            loss = criterion(model_pred, y.reshape(-1, 1))\n",
    "            val_loss.append(loss.item())      \n",
    "            \n",
    "            model_pred = model_pred.squeeze(1).to('cpu')  # squeeze함수는 차원이 1인 차원을 제거해준다.\n",
    "            pred_labels += model_pred.tolist()\n",
    "            true_labels += y.tolist()\n",
    "        \n",
    "        #print(pred_labels[0:10])\n",
    "        # 오일상태는 0: 정상, 1: 이상\n",
    "        # 어느 임계점 thrshold보다 큰 예측 라벨을 1로 하고, 나머지를 0으로 할 것인가?\n",
    "        pred_labels = np.where(np.array(pred_labels) > threshold, 1, 0)\n",
    "        #print(pred_labels[0:10])\n",
    "        \n",
    "        val_f1 = competition_metric(true_labels, pred_labels)\n",
    "    return val_loss, val_f1   "
   ]
  },
  {
   "cell_type": "markdown",
   "id": "a8a5e1be",
   "metadata": {},
   "source": [
    "#### 옵티마이저 (Optimizer)\n",
    "\n",
    "+ 손실 함수를 기반으로 모델이 어떻게 업데이트해야하는지를 결정 \n",
    "\n",
    "+ optimizer는 step()을 통해 전달받은 파라미터를 모델 업데이트\n",
    "\n",
    "+ 모든 옵티마이저는 기본으로 torch.optim.Optimzer(params, defaults) 클래스를 사용\n",
    "\n",
    "+ zero_grad()를 이용해 옵티마이저에 사용된 파라미터의 기울기를 0으로 설정\n",
    "\n",
    "+ torch.optim.lr_scheduler를 이용해 epoch에 따라 학습률 조절\n",
    "\n",
    "+ 파이토치 주요 옵티마이저: optim.Adadelta, optim.Adagrad, optim.Adam , optim.RMSprop, optim.SGD\n",
    "\n",
    "* TORCH.OPTIM : https://pytorch.org/docs/stable/optim.html\n"
   ]
  },
  {
   "cell_type": "markdown",
   "id": "f6f4e816",
   "metadata": {},
   "source": [
    "#### 학습률 스케줄러 (Learning rate scheduler)\n",
    "\n",
    "+ 학습시 특성 조건에 따라 학습률을 조정하여 최적화 진행\n",
    "\n",
    "+ 일정 횟수 이상이 되면 학습률을 감소시키거나, 전역 최소점 근처에가 하면 학습률을 줄이는 등  \n",
    "\n",
    "+ optim.lr_scheduler.LamdbaLR : 람다 함수를 이용해 그 결과를 학습률로 설정\n",
    "\n",
    "+ optim.lr_scheduler.StepLR : 단계 마다 학습률을 감마 비율로 감소\n",
    "\n",
    "+ optim.lr_scheduler.MultiStepLR : StepLR과 비슷하지만 지정된 에포카에서만 감마 비율로 감소\n",
    "\n",
    "+ optim.lr_scheduler.ExponentialLR : epoch마다 이전 학습률에 감마만큼 곱함\n",
    "\n",
    "+ optim.lr_scheduler.CosineAnnealingLR : 학습률을 코사인 함수의 형태로 변화시켜 학습률을 조절\n",
    "\n",
    "+ optim.lr_scheduler.ReduceLROnPlateau : 학습이 잘 되는지 아닌지에 따라 동적으로 학습률 변화 \n",
    "+ 링크 : https://pytorch.org/docs/stable/generated/torch.optim.lr_scheduler.ReduceLROnPlateau.html?highlight=reducelronplateau#torch.optim.lr_scheduler.ReduceLROnPlateau"
   ]
  },
  {
   "cell_type": "code",
   "execution_count": 664,
   "id": "466f5872",
   "metadata": {
    "scrolled": false
   },
   "outputs": [
    {
     "name": "stdout",
     "output_type": "stream",
     "text": [
      "------------------------------\n",
      "------------------------------\n",
      "------------------------------\n"
     ]
    },
    {
     "data": {
      "application/vnd.jupyter.widget-view+json": {
       "model_id": "165025f62026405f8f4f49ee5ae1544c",
       "version_major": 2,
       "version_minor": 0
      },
      "text/plain": [
       "  0%|          | 0/45 [00:00<?, ?it/s]"
      ]
     },
     "metadata": {},
     "output_type": "display_data"
    },
    {
     "data": {
      "application/vnd.jupyter.widget-view+json": {
       "model_id": "fbab2c7fe2d8430caf211fcb0b99f56a",
       "version_major": 2,
       "version_minor": 0
      },
      "text/plain": [
       "  0%|          | 0/12 [00:00<?, ?it/s]"
      ]
     },
     "metadata": {},
     "output_type": "display_data"
    },
    {
     "name": "stdout",
     "output_type": "stream",
     "text": [
      "Epoch [0], Train Loss : [58.54288] Val Loss : [40.83861] Val F1 Score : [0.81518]\n"
     ]
    },
    {
     "data": {
      "application/vnd.jupyter.widget-view+json": {
       "model_id": "56ca416b2fd141019b4cbab708ebee4b",
       "version_major": 2,
       "version_minor": 0
      },
      "text/plain": [
       "  0%|          | 0/45 [00:00<?, ?it/s]"
      ]
     },
     "metadata": {},
     "output_type": "display_data"
    },
    {
     "data": {
      "application/vnd.jupyter.widget-view+json": {
       "model_id": "fc26251627ca4198aaca1a61b4310eab",
       "version_major": 2,
       "version_minor": 0
      },
      "text/plain": [
       "  0%|          | 0/12 [00:00<?, ?it/s]"
      ]
     },
     "metadata": {},
     "output_type": "display_data"
    },
    {
     "name": "stdout",
     "output_type": "stream",
     "text": [
      "Epoch [1], Train Loss : [45.12052] Val Loss : [39.71172] Val F1 Score : [0.81062]\n"
     ]
    },
    {
     "data": {
      "application/vnd.jupyter.widget-view+json": {
       "model_id": "9b247ea95f9c43c5a64095fbff54ac54",
       "version_major": 2,
       "version_minor": 0
      },
      "text/plain": [
       "  0%|          | 0/45 [00:00<?, ?it/s]"
      ]
     },
     "metadata": {},
     "output_type": "display_data"
    },
    {
     "data": {
      "application/vnd.jupyter.widget-view+json": {
       "model_id": "5ef16a407fa2479d8ae484b59728e280",
       "version_major": 2,
       "version_minor": 0
      },
      "text/plain": [
       "  0%|          | 0/12 [00:00<?, ?it/s]"
      ]
     },
     "metadata": {},
     "output_type": "display_data"
    },
    {
     "name": "stdout",
     "output_type": "stream",
     "text": [
      "Epoch [2], Train Loss : [40.95422] Val Loss : [38.10140] Val F1 Score : [0.81402]\n",
      "Epoch 00003: reducing learning rate of group 0 to 5.0000e-03.\n"
     ]
    },
    {
     "data": {
      "application/vnd.jupyter.widget-view+json": {
       "model_id": "af433dd195494137abcbda95364f892d",
       "version_major": 2,
       "version_minor": 0
      },
      "text/plain": [
       "  0%|          | 0/45 [00:00<?, ?it/s]"
      ]
     },
     "metadata": {},
     "output_type": "display_data"
    },
    {
     "data": {
      "application/vnd.jupyter.widget-view+json": {
       "model_id": "b7f2c7a99a4841f5baea1d0bb68f4685",
       "version_major": 2,
       "version_minor": 0
      },
      "text/plain": [
       "  0%|          | 0/12 [00:00<?, ?it/s]"
      ]
     },
     "metadata": {},
     "output_type": "display_data"
    },
    {
     "name": "stdout",
     "output_type": "stream",
     "text": [
      "Epoch [3], Train Loss : [38.76433] Val Loss : [37.72807] Val F1 Score : [0.81717]\n"
     ]
    },
    {
     "data": {
      "application/vnd.jupyter.widget-view+json": {
       "model_id": "20274936f0dd495888a7114b2b22ed12",
       "version_major": 2,
       "version_minor": 0
      },
      "text/plain": [
       "  0%|          | 0/45 [00:00<?, ?it/s]"
      ]
     },
     "metadata": {},
     "output_type": "display_data"
    },
    {
     "data": {
      "application/vnd.jupyter.widget-view+json": {
       "model_id": "f2e153c15c144ee891459335642169a0",
       "version_major": 2,
       "version_minor": 0
      },
      "text/plain": [
       "  0%|          | 0/12 [00:00<?, ?it/s]"
      ]
     },
     "metadata": {},
     "output_type": "display_data"
    },
    {
     "name": "stdout",
     "output_type": "stream",
     "text": [
      "Epoch [4], Train Loss : [35.98156] Val Loss : [38.47191] Val F1 Score : [0.80959]\n"
     ]
    },
    {
     "data": {
      "application/vnd.jupyter.widget-view+json": {
       "model_id": "4b44ae96fd8f443fb9121a27bbd8313e",
       "version_major": 2,
       "version_minor": 0
      },
      "text/plain": [
       "  0%|          | 0/45 [00:00<?, ?it/s]"
      ]
     },
     "metadata": {},
     "output_type": "display_data"
    },
    {
     "data": {
      "application/vnd.jupyter.widget-view+json": {
       "model_id": "4fbe68c0da174a8f890228a72e33ccfa",
       "version_major": 2,
       "version_minor": 0
      },
      "text/plain": [
       "  0%|          | 0/12 [00:00<?, ?it/s]"
      ]
     },
     "metadata": {},
     "output_type": "display_data"
    },
    {
     "name": "stdout",
     "output_type": "stream",
     "text": [
      "Epoch [5], Train Loss : [34.95864] Val Loss : [39.23111] Val F1 Score : [0.79711]\n",
      "Epoch 00006: reducing learning rate of group 0 to 2.5000e-03.\n"
     ]
    },
    {
     "data": {
      "application/vnd.jupyter.widget-view+json": {
       "model_id": "6547574b2ff6495dbf72b9885a7c005c",
       "version_major": 2,
       "version_minor": 0
      },
      "text/plain": [
       "  0%|          | 0/45 [00:00<?, ?it/s]"
      ]
     },
     "metadata": {},
     "output_type": "display_data"
    },
    {
     "data": {
      "application/vnd.jupyter.widget-view+json": {
       "model_id": "045d3133ce9c4b8c88eddff09b7a7b0b",
       "version_major": 2,
       "version_minor": 0
      },
      "text/plain": [
       "  0%|          | 0/12 [00:00<?, ?it/s]"
      ]
     },
     "metadata": {},
     "output_type": "display_data"
    },
    {
     "name": "stdout",
     "output_type": "stream",
     "text": [
      "Epoch [6], Train Loss : [32.18836] Val Loss : [39.07606] Val F1 Score : [0.81175]\n"
     ]
    },
    {
     "data": {
      "application/vnd.jupyter.widget-view+json": {
       "model_id": "2fbb892d9455442b9384aa7db3accce5",
       "version_major": 2,
       "version_minor": 0
      },
      "text/plain": [
       "  0%|          | 0/45 [00:00<?, ?it/s]"
      ]
     },
     "metadata": {},
     "output_type": "display_data"
    },
    {
     "data": {
      "application/vnd.jupyter.widget-view+json": {
       "model_id": "db3b0dfb423d4822b25c95a575a6662b",
       "version_major": 2,
       "version_minor": 0
      },
      "text/plain": [
       "  0%|          | 0/12 [00:00<?, ?it/s]"
      ]
     },
     "metadata": {},
     "output_type": "display_data"
    },
    {
     "name": "stdout",
     "output_type": "stream",
     "text": [
      "Epoch [7], Train Loss : [30.87383] Val Loss : [39.87220] Val F1 Score : [0.81041]\n",
      "Epoch 00008: reducing learning rate of group 0 to 1.2500e-03.\n"
     ]
    },
    {
     "data": {
      "application/vnd.jupyter.widget-view+json": {
       "model_id": "5ed5303a92024d5da8e53ffb9a66fd68",
       "version_major": 2,
       "version_minor": 0
      },
      "text/plain": [
       "  0%|          | 0/45 [00:00<?, ?it/s]"
      ]
     },
     "metadata": {},
     "output_type": "display_data"
    },
    {
     "data": {
      "application/vnd.jupyter.widget-view+json": {
       "model_id": "27d4a5f7df4143eb9f0394c9f600ea08",
       "version_major": 2,
       "version_minor": 0
      },
      "text/plain": [
       "  0%|          | 0/12 [00:00<?, ?it/s]"
      ]
     },
     "metadata": {},
     "output_type": "display_data"
    },
    {
     "name": "stdout",
     "output_type": "stream",
     "text": [
      "Epoch [8], Train Loss : [28.87156] Val Loss : [40.64657] Val F1 Score : [0.80270]\n"
     ]
    },
    {
     "data": {
      "application/vnd.jupyter.widget-view+json": {
       "model_id": "b333e5d914dd43ce9a79660ff7f144ac",
       "version_major": 2,
       "version_minor": 0
      },
      "text/plain": [
       "  0%|          | 0/45 [00:00<?, ?it/s]"
      ]
     },
     "metadata": {},
     "output_type": "display_data"
    },
    {
     "data": {
      "application/vnd.jupyter.widget-view+json": {
       "model_id": "81552deccee8476898ba02db746ea2e6",
       "version_major": 2,
       "version_minor": 0
      },
      "text/plain": [
       "  0%|          | 0/12 [00:00<?, ?it/s]"
      ]
     },
     "metadata": {},
     "output_type": "display_data"
    },
    {
     "name": "stdout",
     "output_type": "stream",
     "text": [
      "Epoch [9], Train Loss : [27.52665] Val Loss : [42.20159] Val F1 Score : [0.80931]\n",
      "Epoch 00010: reducing learning rate of group 0 to 6.2500e-04.\n"
     ]
    },
    {
     "data": {
      "application/vnd.jupyter.widget-view+json": {
       "model_id": "1cd2b847028a4c68896482a53656c2fc",
       "version_major": 2,
       "version_minor": 0
      },
      "text/plain": [
       "  0%|          | 0/45 [00:00<?, ?it/s]"
      ]
     },
     "metadata": {},
     "output_type": "display_data"
    },
    {
     "data": {
      "application/vnd.jupyter.widget-view+json": {
       "model_id": "66c24e76169c4808a3b1373ab7f27e3b",
       "version_major": 2,
       "version_minor": 0
      },
      "text/plain": [
       "  0%|          | 0/12 [00:00<?, ?it/s]"
      ]
     },
     "metadata": {},
     "output_type": "display_data"
    },
    {
     "name": "stdout",
     "output_type": "stream",
     "text": [
      "Epoch [10], Train Loss : [25.42081] Val Loss : [41.74238] Val F1 Score : [0.81605]\n"
     ]
    },
    {
     "data": {
      "application/vnd.jupyter.widget-view+json": {
       "model_id": "21104eb4d44b47248cdd736841f1c4d1",
       "version_major": 2,
       "version_minor": 0
      },
      "text/plain": [
       "  0%|          | 0/45 [00:00<?, ?it/s]"
      ]
     },
     "metadata": {},
     "output_type": "display_data"
    },
    {
     "data": {
      "application/vnd.jupyter.widget-view+json": {
       "model_id": "acbd2b78e88a429e8abbdbbc70361533",
       "version_major": 2,
       "version_minor": 0
      },
      "text/plain": [
       "  0%|          | 0/12 [00:00<?, ?it/s]"
      ]
     },
     "metadata": {},
     "output_type": "display_data"
    },
    {
     "name": "stdout",
     "output_type": "stream",
     "text": [
      "Epoch [11], Train Loss : [24.69127] Val Loss : [44.00047] Val F1 Score : [0.78629]\n",
      "Epoch 00012: reducing learning rate of group 0 to 3.1250e-04.\n"
     ]
    },
    {
     "data": {
      "application/vnd.jupyter.widget-view+json": {
       "model_id": "1c5aee97901e47daba2b423f0a8347ae",
       "version_major": 2,
       "version_minor": 0
      },
      "text/plain": [
       "  0%|          | 0/45 [00:00<?, ?it/s]"
      ]
     },
     "metadata": {},
     "output_type": "display_data"
    },
    {
     "data": {
      "application/vnd.jupyter.widget-view+json": {
       "model_id": "db5d164bb1fb452b85820e9d18224967",
       "version_major": 2,
       "version_minor": 0
      },
      "text/plain": [
       "  0%|          | 0/12 [00:00<?, ?it/s]"
      ]
     },
     "metadata": {},
     "output_type": "display_data"
    },
    {
     "name": "stdout",
     "output_type": "stream",
     "text": [
      "Epoch [12], Train Loss : [23.96260] Val Loss : [42.62296] Val F1 Score : [0.80836]\n"
     ]
    },
    {
     "data": {
      "application/vnd.jupyter.widget-view+json": {
       "model_id": "afbcf9dcc86646fc8915fc820dc90e3f",
       "version_major": 2,
       "version_minor": 0
      },
      "text/plain": [
       "  0%|          | 0/45 [00:00<?, ?it/s]"
      ]
     },
     "metadata": {},
     "output_type": "display_data"
    },
    {
     "data": {
      "application/vnd.jupyter.widget-view+json": {
       "model_id": "f89a8af9126e4b69a41470100b6f29ad",
       "version_major": 2,
       "version_minor": 0
      },
      "text/plain": [
       "  0%|          | 0/12 [00:00<?, ?it/s]"
      ]
     },
     "metadata": {},
     "output_type": "display_data"
    },
    {
     "name": "stdout",
     "output_type": "stream",
     "text": [
      "Epoch [13], Train Loss : [23.00214] Val Loss : [43.91697] Val F1 Score : [0.81597]\n",
      "Epoch 00014: reducing learning rate of group 0 to 1.5625e-04.\n"
     ]
    },
    {
     "data": {
      "application/vnd.jupyter.widget-view+json": {
       "model_id": "ae40fa181912445aa1d63e4b5904be55",
       "version_major": 2,
       "version_minor": 0
      },
      "text/plain": [
       "  0%|          | 0/45 [00:00<?, ?it/s]"
      ]
     },
     "metadata": {},
     "output_type": "display_data"
    },
    {
     "data": {
      "application/vnd.jupyter.widget-view+json": {
       "model_id": "3194b21f695f4766849f2246cb17e800",
       "version_major": 2,
       "version_minor": 0
      },
      "text/plain": [
       "  0%|          | 0/12 [00:00<?, ?it/s]"
      ]
     },
     "metadata": {},
     "output_type": "display_data"
    },
    {
     "name": "stdout",
     "output_type": "stream",
     "text": [
      "Epoch [14], Train Loss : [22.75997] Val Loss : [43.78376] Val F1 Score : [0.80999]\n"
     ]
    },
    {
     "data": {
      "application/vnd.jupyter.widget-view+json": {
       "model_id": "91165991b41c4d7aaf47c78c4397afdc",
       "version_major": 2,
       "version_minor": 0
      },
      "text/plain": [
       "  0%|          | 0/45 [00:00<?, ?it/s]"
      ]
     },
     "metadata": {},
     "output_type": "display_data"
    },
    {
     "data": {
      "application/vnd.jupyter.widget-view+json": {
       "model_id": "60d1239b9a9a47d49566b3bd8f74f025",
       "version_major": 2,
       "version_minor": 0
      },
      "text/plain": [
       "  0%|          | 0/12 [00:00<?, ?it/s]"
      ]
     },
     "metadata": {},
     "output_type": "display_data"
    },
    {
     "name": "stdout",
     "output_type": "stream",
     "text": [
      "Epoch [15], Train Loss : [22.12780] Val Loss : [44.35823] Val F1 Score : [0.80350]\n",
      "Epoch 00016: reducing learning rate of group 0 to 7.8125e-05.\n"
     ]
    },
    {
     "data": {
      "application/vnd.jupyter.widget-view+json": {
       "model_id": "b63b1b1d0f9046dca61c156ad73d4634",
       "version_major": 2,
       "version_minor": 0
      },
      "text/plain": [
       "  0%|          | 0/45 [00:00<?, ?it/s]"
      ]
     },
     "metadata": {},
     "output_type": "display_data"
    },
    {
     "data": {
      "application/vnd.jupyter.widget-view+json": {
       "model_id": "3f4f35a1611544d68202736c46f8b2b9",
       "version_major": 2,
       "version_minor": 0
      },
      "text/plain": [
       "  0%|          | 0/12 [00:00<?, ?it/s]"
      ]
     },
     "metadata": {},
     "output_type": "display_data"
    },
    {
     "name": "stdout",
     "output_type": "stream",
     "text": [
      "Epoch [16], Train Loss : [21.85436] Val Loss : [44.01054] Val F1 Score : [0.80903]\n"
     ]
    },
    {
     "data": {
      "application/vnd.jupyter.widget-view+json": {
       "model_id": "c6ba2df7742c487cb5e43f2ce98df97c",
       "version_major": 2,
       "version_minor": 0
      },
      "text/plain": [
       "  0%|          | 0/45 [00:00<?, ?it/s]"
      ]
     },
     "metadata": {},
     "output_type": "display_data"
    },
    {
     "data": {
      "application/vnd.jupyter.widget-view+json": {
       "model_id": "f1da8f80899d4e2891f579de3514faa2",
       "version_major": 2,
       "version_minor": 0
      },
      "text/plain": [
       "  0%|          | 0/12 [00:00<?, ?it/s]"
      ]
     },
     "metadata": {},
     "output_type": "display_data"
    },
    {
     "name": "stdout",
     "output_type": "stream",
     "text": [
      "Epoch [17], Train Loss : [21.33538] Val Loss : [45.27459] Val F1 Score : [0.80505]\n",
      "Epoch 00018: reducing learning rate of group 0 to 3.9063e-05.\n"
     ]
    },
    {
     "data": {
      "application/vnd.jupyter.widget-view+json": {
       "model_id": "25aab749bf9345c7bd88ae37d8cfd8bf",
       "version_major": 2,
       "version_minor": 0
      },
      "text/plain": [
       "  0%|          | 0/45 [00:00<?, ?it/s]"
      ]
     },
     "metadata": {},
     "output_type": "display_data"
    },
    {
     "data": {
      "application/vnd.jupyter.widget-view+json": {
       "model_id": "810e714ad1b04d139553d47922eece83",
       "version_major": 2,
       "version_minor": 0
      },
      "text/plain": [
       "  0%|          | 0/12 [00:00<?, ?it/s]"
      ]
     },
     "metadata": {},
     "output_type": "display_data"
    },
    {
     "name": "stdout",
     "output_type": "stream",
     "text": [
      "Epoch [18], Train Loss : [21.60313] Val Loss : [45.24181] Val F1 Score : [0.80587]\n"
     ]
    },
    {
     "data": {
      "application/vnd.jupyter.widget-view+json": {
       "model_id": "8e09eda7a5cd4ea6bcdd83963767c64c",
       "version_major": 2,
       "version_minor": 0
      },
      "text/plain": [
       "  0%|          | 0/45 [00:00<?, ?it/s]"
      ]
     },
     "metadata": {},
     "output_type": "display_data"
    },
    {
     "data": {
      "application/vnd.jupyter.widget-view+json": {
       "model_id": "ba0d632907174fadb914740abe0e960c",
       "version_major": 2,
       "version_minor": 0
      },
      "text/plain": [
       "  0%|          | 0/12 [00:00<?, ?it/s]"
      ]
     },
     "metadata": {},
     "output_type": "display_data"
    },
    {
     "name": "stdout",
     "output_type": "stream",
     "text": [
      "Epoch [19], Train Loss : [21.23878] Val Loss : [45.38057] Val F1 Score : [0.79809]\n",
      "Epoch 00020: reducing learning rate of group 0 to 1.9531e-05.\n"
     ]
    },
    {
     "data": {
      "application/vnd.jupyter.widget-view+json": {
       "model_id": "286ad708a70c42c1a1843f5ca46c0191",
       "version_major": 2,
       "version_minor": 0
      },
      "text/plain": [
       "  0%|          | 0/45 [00:00<?, ?it/s]"
      ]
     },
     "metadata": {},
     "output_type": "display_data"
    },
    {
     "data": {
      "application/vnd.jupyter.widget-view+json": {
       "model_id": "5abd891551f043a3b3293d12cea0bd04",
       "version_major": 2,
       "version_minor": 0
      },
      "text/plain": [
       "  0%|          | 0/12 [00:00<?, ?it/s]"
      ]
     },
     "metadata": {},
     "output_type": "display_data"
    },
    {
     "name": "stdout",
     "output_type": "stream",
     "text": [
      "Epoch [20], Train Loss : [21.04919] Val Loss : [44.02147] Val F1 Score : [0.81834]\n"
     ]
    },
    {
     "data": {
      "application/vnd.jupyter.widget-view+json": {
       "model_id": "2a3ec95aeec64295b4e7272929a5c589",
       "version_major": 2,
       "version_minor": 0
      },
      "text/plain": [
       "  0%|          | 0/45 [00:00<?, ?it/s]"
      ]
     },
     "metadata": {},
     "output_type": "display_data"
    },
    {
     "data": {
      "application/vnd.jupyter.widget-view+json": {
       "model_id": "bab5b73557f34b90a3ffb5171df53e9c",
       "version_major": 2,
       "version_minor": 0
      },
      "text/plain": [
       "  0%|          | 0/12 [00:00<?, ?it/s]"
      ]
     },
     "metadata": {},
     "output_type": "display_data"
    },
    {
     "name": "stdout",
     "output_type": "stream",
     "text": [
      "Epoch [21], Train Loss : [21.38878] Val Loss : [44.83651] Val F1 Score : [0.80994]\n"
     ]
    },
    {
     "data": {
      "application/vnd.jupyter.widget-view+json": {
       "model_id": "d71405b000f94871aea6cc303e0dcb93",
       "version_major": 2,
       "version_minor": 0
      },
      "text/plain": [
       "  0%|          | 0/45 [00:00<?, ?it/s]"
      ]
     },
     "metadata": {},
     "output_type": "display_data"
    },
    {
     "data": {
      "application/vnd.jupyter.widget-view+json": {
       "model_id": "8ba86f3aa2e14fd395b6dcf228f551de",
       "version_major": 2,
       "version_minor": 0
      },
      "text/plain": [
       "  0%|          | 0/12 [00:00<?, ?it/s]"
      ]
     },
     "metadata": {},
     "output_type": "display_data"
    },
    {
     "name": "stdout",
     "output_type": "stream",
     "text": [
      "Epoch [22], Train Loss : [21.66888] Val Loss : [44.01445] Val F1 Score : [0.81163]\n",
      "Epoch 00023: reducing learning rate of group 0 to 9.7656e-06.\n"
     ]
    },
    {
     "data": {
      "application/vnd.jupyter.widget-view+json": {
       "model_id": "ff00fe4cd9324c398f0a464a853e5ac3",
       "version_major": 2,
       "version_minor": 0
      },
      "text/plain": [
       "  0%|          | 0/45 [00:00<?, ?it/s]"
      ]
     },
     "metadata": {},
     "output_type": "display_data"
    },
    {
     "data": {
      "application/vnd.jupyter.widget-view+json": {
       "model_id": "d550cb92308b4dc995d4cb0e65090cf0",
       "version_major": 2,
       "version_minor": 0
      },
      "text/plain": [
       "  0%|          | 0/12 [00:00<?, ?it/s]"
      ]
     },
     "metadata": {},
     "output_type": "display_data"
    },
    {
     "name": "stdout",
     "output_type": "stream",
     "text": [
      "Epoch [23], Train Loss : [21.25690] Val Loss : [44.51148] Val F1 Score : [0.79659]\n"
     ]
    },
    {
     "data": {
      "application/vnd.jupyter.widget-view+json": {
       "model_id": "9d0d540a48814358a1d654bfe035c781",
       "version_major": 2,
       "version_minor": 0
      },
      "text/plain": [
       "  0%|          | 0/45 [00:00<?, ?it/s]"
      ]
     },
     "metadata": {},
     "output_type": "display_data"
    },
    {
     "data": {
      "application/vnd.jupyter.widget-view+json": {
       "model_id": "f24aa8e668ae455e879af13c03b014b9",
       "version_major": 2,
       "version_minor": 0
      },
      "text/plain": [
       "  0%|          | 0/12 [00:00<?, ?it/s]"
      ]
     },
     "metadata": {},
     "output_type": "display_data"
    },
    {
     "name": "stdout",
     "output_type": "stream",
     "text": [
      "Epoch [24], Train Loss : [21.35381] Val Loss : [46.00065] Val F1 Score : [0.78701]\n",
      "Epoch 00025: reducing learning rate of group 0 to 4.8828e-06.\n"
     ]
    },
    {
     "data": {
      "application/vnd.jupyter.widget-view+json": {
       "model_id": "0037ad3e2c294940bff5c7c46da5cdd7",
       "version_major": 2,
       "version_minor": 0
      },
      "text/plain": [
       "  0%|          | 0/45 [00:00<?, ?it/s]"
      ]
     },
     "metadata": {},
     "output_type": "display_data"
    },
    {
     "data": {
      "application/vnd.jupyter.widget-view+json": {
       "model_id": "21d3837cc515425d9cbad3eacd55d955",
       "version_major": 2,
       "version_minor": 0
      },
      "text/plain": [
       "  0%|          | 0/12 [00:00<?, ?it/s]"
      ]
     },
     "metadata": {},
     "output_type": "display_data"
    },
    {
     "name": "stdout",
     "output_type": "stream",
     "text": [
      "Epoch [25], Train Loss : [21.27909] Val Loss : [45.04483] Val F1 Score : [0.78986]\n"
     ]
    },
    {
     "data": {
      "application/vnd.jupyter.widget-view+json": {
       "model_id": "033818fa67fe4a9280f5592f115d5a89",
       "version_major": 2,
       "version_minor": 0
      },
      "text/plain": [
       "  0%|          | 0/45 [00:00<?, ?it/s]"
      ]
     },
     "metadata": {},
     "output_type": "display_data"
    },
    {
     "data": {
      "application/vnd.jupyter.widget-view+json": {
       "model_id": "799c60a80de849e7a7b954534436caa8",
       "version_major": 2,
       "version_minor": 0
      },
      "text/plain": [
       "  0%|          | 0/12 [00:00<?, ?it/s]"
      ]
     },
     "metadata": {},
     "output_type": "display_data"
    },
    {
     "name": "stdout",
     "output_type": "stream",
     "text": [
      "Epoch [26], Train Loss : [21.02602] Val Loss : [44.92903] Val F1 Score : [0.82377]\n"
     ]
    },
    {
     "data": {
      "application/vnd.jupyter.widget-view+json": {
       "model_id": "7182a49ed47a40d8825b13a7601726f5",
       "version_major": 2,
       "version_minor": 0
      },
      "text/plain": [
       "  0%|          | 0/45 [00:00<?, ?it/s]"
      ]
     },
     "metadata": {},
     "output_type": "display_data"
    },
    {
     "data": {
      "application/vnd.jupyter.widget-view+json": {
       "model_id": "9f85f2b69b714381b4124d1e13fb469d",
       "version_major": 2,
       "version_minor": 0
      },
      "text/plain": [
       "  0%|          | 0/12 [00:00<?, ?it/s]"
      ]
     },
     "metadata": {},
     "output_type": "display_data"
    },
    {
     "name": "stdout",
     "output_type": "stream",
     "text": [
      "Epoch [27], Train Loss : [21.40947] Val Loss : [44.02776] Val F1 Score : [0.81854]\n"
     ]
    },
    {
     "data": {
      "application/vnd.jupyter.widget-view+json": {
       "model_id": "3911798eaa5947838300ef081e917094",
       "version_major": 2,
       "version_minor": 0
      },
      "text/plain": [
       "  0%|          | 0/45 [00:00<?, ?it/s]"
      ]
     },
     "metadata": {},
     "output_type": "display_data"
    },
    {
     "data": {
      "application/vnd.jupyter.widget-view+json": {
       "model_id": "1bcec40266fd4075a07b1de5215f2bef",
       "version_major": 2,
       "version_minor": 0
      },
      "text/plain": [
       "  0%|          | 0/12 [00:00<?, ?it/s]"
      ]
     },
     "metadata": {},
     "output_type": "display_data"
    },
    {
     "name": "stdout",
     "output_type": "stream",
     "text": [
      "Epoch [28], Train Loss : [21.55055] Val Loss : [44.98437] Val F1 Score : [0.82189]\n",
      "Epoch 00029: reducing learning rate of group 0 to 2.4414e-06.\n"
     ]
    },
    {
     "data": {
      "application/vnd.jupyter.widget-view+json": {
       "model_id": "1af31c8f7ce942ffbf90ecf4ae1c6376",
       "version_major": 2,
       "version_minor": 0
      },
      "text/plain": [
       "  0%|          | 0/45 [00:00<?, ?it/s]"
      ]
     },
     "metadata": {},
     "output_type": "display_data"
    },
    {
     "data": {
      "application/vnd.jupyter.widget-view+json": {
       "model_id": "16994b09830442d0b687185a41718aea",
       "version_major": 2,
       "version_minor": 0
      },
      "text/plain": [
       "  0%|          | 0/12 [00:00<?, ?it/s]"
      ]
     },
     "metadata": {},
     "output_type": "display_data"
    },
    {
     "name": "stdout",
     "output_type": "stream",
     "text": [
      "Epoch [29], Train Loss : [21.18143] Val Loss : [44.01791] Val F1 Score : [0.81075]\n",
      "Teacher Train Best Score는 0.8237684421105277 입니다.\n"
     ]
    }
   ],
   "source": [
    "model = Teacher()\n",
    "model.eval()\n",
    "print(\"-\"*30)\n",
    "# print(list(model.parameters()))   # check out the parameters\n",
    "print(\"-\"*30)\n",
    "# print(model.state_dict())   # list the named parameters\n",
    "print(\"-\"*30)\n",
    "optimizer = torch.optim.Adam(model.parameters(), lr=CFG['LEARNING_RATE'])\n",
    "scheduler = torch.optim.lr_scheduler.ReduceLROnPlateau(optimizer, mode='max', factor=0.5, patience=1, threshold_mode='abs',min_lr=1e-8, verbose=True)\n",
    "\n",
    "teacher_model = train(model, optimizer, train_loader, val_loader, scheduler, device)"
   ]
  },
  {
   "cell_type": "code",
   "execution_count": 665,
   "id": "627a68fe",
   "metadata": {},
   "outputs": [],
   "source": [
    "PATH = f\"./models/teacher_net{file_version}.pth\"\n",
    "torch.save(teacher_model.state_dict(), PATH)"
   ]
  },
  {
   "cell_type": "code",
   "execution_count": 666,
   "id": "89707003",
   "metadata": {},
   "outputs": [
    {
     "data": {
      "text/plain": [
       "<All keys matched successfully>"
      ]
     },
     "execution_count": 666,
     "metadata": {},
     "output_type": "execute_result"
    }
   ],
   "source": [
    "teacher_model = Teacher()\n",
    "teacher_model.load_state_dict(torch.load(PATH))"
   ]
  },
  {
   "cell_type": "code",
   "execution_count": 667,
   "id": "b5047ada",
   "metadata": {},
   "outputs": [],
   "source": [
    "class Student(nn.Module):\n",
    "    def __init__(self):\n",
    "        super(Student, self).__init__()\n",
    "        self.classifier = nn.Sequential(\n",
    "            nn.Linear(in_features=test_col_num, out_features=128),\n",
    "            nn.BatchNorm1d(128),\n",
    "            nn.Dropout(p=CFG['drop_p']),\n",
    "            nn.LeakyReLU(),\n",
    "            nn.Linear(in_features=128, out_features=512),\n",
    "            nn.BatchNorm1d(512),\n",
    "            nn.Dropout(p=CFG['drop_p']),\n",
    "            nn.LeakyReLU(),\n",
    "            nn.Linear(in_features=512, out_features=128),\n",
    "            nn.BatchNorm1d(128),\n",
    "            nn.Dropout(p=CFG['drop_p']),\n",
    "            nn.LeakyReLU(),\n",
    "            nn.Linear(in_features=128, out_features=1),\n",
    "            nn.Sigmoid()\n",
    "        )\n",
    "        \n",
    "    def forward(self, x):\n",
    "        output = self.classifier(x)\n",
    "        return output"
   ]
  },
  {
   "cell_type": "code",
   "execution_count": 668,
   "id": "fa70fa41",
   "metadata": {},
   "outputs": [],
   "source": [
    "# Loss Function 정의\n",
    "\n",
    "def distillation(student_logits, labels, teacher_logits, alpha):\n",
    "    \n",
    "    distillation_loss = nn.BCELoss(reduction=CFG[\"reduct\"])(student_logits, teacher_logits)\n",
    "    student_loss = nn.BCELoss()(student_logits, labels.reshape(-1, 1))\n",
    "    \n",
    "    \n",
    "    return alpha * student_loss + (1-alpha) * distillation_loss"
   ]
  },
  {
   "cell_type": "code",
   "execution_count": 669,
   "id": "c0faeae8",
   "metadata": {},
   "outputs": [],
   "source": [
    "def distill_loss(output, target, teacher_output, loss_fn=distillation, opt=optimizer):\n",
    "    loss_b = loss_fn(output, target, teacher_output, alpha=0.1)\n",
    "\n",
    "    if opt is not None:\n",
    "        opt.zero_grad()\n",
    "        loss_b.backward()\n",
    "        opt.step()\n",
    "\n",
    "    return loss_b.item()"
   ]
  },
  {
   "cell_type": "code",
   "execution_count": 670,
   "id": "c48a9f9b",
   "metadata": {},
   "outputs": [],
   "source": [
    "def student_train(s_model, t_model, optimizer, train_loader, val_loader, scheduler, device):\n",
    "    s_model.to(device)\n",
    "    t_model.to(device)\n",
    "    \n",
    "    best_score = 0\n",
    "    best_model = None\n",
    "\n",
    "    for epoch in range(CFG[\"EPOCHS\"]):\n",
    "        train_loss = []\n",
    "        s_model.train()\n",
    "        t_model.eval()\n",
    "        \n",
    "        for X_t, X_s, y in tqdm(train_loader):\n",
    "            X_t = X_t.float().to(device)\n",
    "            X_s = X_s.float().to(device)\n",
    "            y = y.float().to(device)\n",
    "            \n",
    "            optimizer.zero_grad()\n",
    "\n",
    "            output = s_model(X_s)\n",
    "            with torch.no_grad():\n",
    "                teacher_output = t_model(X_t)\n",
    "                \n",
    "            loss_b = distill_loss(output, y, teacher_output, loss_fn=distillation, opt=optimizer)\n",
    "\n",
    "            train_loss.append(loss_b)\n",
    "\n",
    "        val_loss, val_score = validation_student(s_model, t_model, val_loader, distill_loss, device)\n",
    "        print(f'Epoch [{epoch}], Train Loss : [{np.mean(train_loss) :.5f}] Val Loss : [{np.mean(val_loss) :.5f}] Val F1 Score : [{val_score:.5f}]')\n",
    "        \n",
    "        if scheduler is not None:\n",
    "            scheduler.step(val_score)\n",
    "            \n",
    "        if best_score < val_score:\n",
    "            best_model = s_model\n",
    "            best_score = val_score\n",
    "    \n",
    "    print(f\"Student Train Best Score는 {best_score} 입니다.\")\n",
    "        \n",
    "    return best_model"
   ]
  },
  {
   "cell_type": "code",
   "execution_count": 671,
   "id": "40c58ef2",
   "metadata": {},
   "outputs": [],
   "source": [
    "def validation_student(s_model, t_model, val_loader, criterion, device):\n",
    "    s_model.eval()\n",
    "    t_model.eval()\n",
    "\n",
    "    val_loss = []\n",
    "    pred_labels = []\n",
    "    true_labels = []\n",
    "    threshold = CFG['S_Thresh']\n",
    "    \n",
    "    with torch.no_grad():\n",
    "        for X_t, X_s, y in tqdm(val_loader):\n",
    "            X_t = X_t.float().to(device)\n",
    "            X_s = X_s.float().to(device)\n",
    "            y = y.float().to(device)\n",
    "            \n",
    "            model_pred = s_model(X_s)\n",
    "            teacher_output = t_model(X_t)\n",
    "            \n",
    "            loss_b = distill_loss(model_pred, y, teacher_output, loss_fn=distillation, opt=None)\n",
    "            val_loss.append(loss_b)\n",
    "            \n",
    "            model_pred = model_pred.squeeze(1).to('cpu')\n",
    "            pred_labels += model_pred.tolist()\n",
    "            true_labels += y.tolist()\n",
    "        \n",
    "        pred_labels = np.where(np.array(pred_labels) > threshold, 1, 0)\n",
    "        val_f1 = competition_metric(true_labels, pred_labels)\n",
    "    return val_loss, val_f1    "
   ]
  },
  {
   "cell_type": "code",
   "execution_count": 672,
   "id": "d9a826b0",
   "metadata": {},
   "outputs": [],
   "source": [
    "train_dataset = CustomDataset(train_X, train_y, True)\n",
    "val_dataset = CustomDataset(val_X, val_y, True)\n",
    "\n",
    "train_loader = DataLoader(train_dataset, batch_size = CFG['BATCH_SIZE'], shuffle=True)\n",
    "val_loader = DataLoader(val_dataset, batch_size = CFG['BATCH_SIZE'], shuffle=False)"
   ]
  },
  {
   "cell_type": "code",
   "execution_count": 673,
   "id": "fb3e89bc",
   "metadata": {
    "scrolled": false
   },
   "outputs": [
    {
     "data": {
      "application/vnd.jupyter.widget-view+json": {
       "model_id": "a2c84e6d3b124581a6a25220295c9807",
       "version_major": 2,
       "version_minor": 0
      },
      "text/plain": [
       "  0%|          | 0/45 [00:00<?, ?it/s]"
      ]
     },
     "metadata": {},
     "output_type": "display_data"
    },
    {
     "data": {
      "application/vnd.jupyter.widget-view+json": {
       "model_id": "19e15c3fcc7f4a4aa83ef53202a7c3ca",
       "version_major": 2,
       "version_minor": 0
      },
      "text/plain": [
       "  0%|          | 0/12 [00:00<?, ?it/s]"
      ]
     },
     "metadata": {},
     "output_type": "display_data"
    },
    {
     "name": "stdout",
     "output_type": "stream",
     "text": [
      "Epoch [0], Train Loss : [71.49958] Val Loss : [57.55123] Val F1 Score : [0.48846]\n"
     ]
    },
    {
     "data": {
      "application/vnd.jupyter.widget-view+json": {
       "model_id": "edb7e8034cab44fda28cb1134281ba0a",
       "version_major": 2,
       "version_minor": 0
      },
      "text/plain": [
       "  0%|          | 0/45 [00:00<?, ?it/s]"
      ]
     },
     "metadata": {},
     "output_type": "display_data"
    },
    {
     "data": {
      "application/vnd.jupyter.widget-view+json": {
       "model_id": "1e873d4d1d384cb2867db3ae444a0847",
       "version_major": 2,
       "version_minor": 0
      },
      "text/plain": [
       "  0%|          | 0/12 [00:00<?, ?it/s]"
      ]
     },
     "metadata": {},
     "output_type": "display_data"
    },
    {
     "name": "stdout",
     "output_type": "stream",
     "text": [
      "Epoch [1], Train Loss : [61.90295] Val Loss : [57.08297] Val F1 Score : [0.48708]\n"
     ]
    },
    {
     "data": {
      "application/vnd.jupyter.widget-view+json": {
       "model_id": "e41a64726c92400a8cc5bdbb74e730a4",
       "version_major": 2,
       "version_minor": 0
      },
      "text/plain": [
       "  0%|          | 0/45 [00:00<?, ?it/s]"
      ]
     },
     "metadata": {},
     "output_type": "display_data"
    },
    {
     "data": {
      "application/vnd.jupyter.widget-view+json": {
       "model_id": "69532d8fc2294069aedfc61ca2639306",
       "version_major": 2,
       "version_minor": 0
      },
      "text/plain": [
       "  0%|          | 0/12 [00:00<?, ?it/s]"
      ]
     },
     "metadata": {},
     "output_type": "display_data"
    },
    {
     "name": "stdout",
     "output_type": "stream",
     "text": [
      "Epoch [2], Train Loss : [61.07176] Val Loss : [55.74254] Val F1 Score : [0.49514]\n"
     ]
    },
    {
     "data": {
      "application/vnd.jupyter.widget-view+json": {
       "model_id": "21cd793d6b3e43fc8ce1864ea5afba23",
       "version_major": 2,
       "version_minor": 0
      },
      "text/plain": [
       "  0%|          | 0/45 [00:00<?, ?it/s]"
      ]
     },
     "metadata": {},
     "output_type": "display_data"
    },
    {
     "data": {
      "application/vnd.jupyter.widget-view+json": {
       "model_id": "466bca8954a545f1b058062d4f292df7",
       "version_major": 2,
       "version_minor": 0
      },
      "text/plain": [
       "  0%|          | 0/12 [00:00<?, ?it/s]"
      ]
     },
     "metadata": {},
     "output_type": "display_data"
    },
    {
     "name": "stdout",
     "output_type": "stream",
     "text": [
      "Epoch [3], Train Loss : [60.00526] Val Loss : [55.36090] Val F1 Score : [0.50150]\n"
     ]
    },
    {
     "data": {
      "application/vnd.jupyter.widget-view+json": {
       "model_id": "2b2ccbae1a30480b8a4e40edc992af4f",
       "version_major": 2,
       "version_minor": 0
      },
      "text/plain": [
       "  0%|          | 0/45 [00:00<?, ?it/s]"
      ]
     },
     "metadata": {},
     "output_type": "display_data"
    },
    {
     "data": {
      "application/vnd.jupyter.widget-view+json": {
       "model_id": "d108e2605bde432dabc04539984999a5",
       "version_major": 2,
       "version_minor": 0
      },
      "text/plain": [
       "  0%|          | 0/12 [00:00<?, ?it/s]"
      ]
     },
     "metadata": {},
     "output_type": "display_data"
    },
    {
     "name": "stdout",
     "output_type": "stream",
     "text": [
      "Epoch [4], Train Loss : [59.62777] Val Loss : [56.67359] Val F1 Score : [0.51630]\n"
     ]
    },
    {
     "data": {
      "application/vnd.jupyter.widget-view+json": {
       "model_id": "489e957c572145a4af0de150066b04d3",
       "version_major": 2,
       "version_minor": 0
      },
      "text/plain": [
       "  0%|          | 0/45 [00:00<?, ?it/s]"
      ]
     },
     "metadata": {},
     "output_type": "display_data"
    },
    {
     "data": {
      "application/vnd.jupyter.widget-view+json": {
       "model_id": "7365a0b24bf04fe18b12cb8c85102d59",
       "version_major": 2,
       "version_minor": 0
      },
      "text/plain": [
       "  0%|          | 0/12 [00:00<?, ?it/s]"
      ]
     },
     "metadata": {},
     "output_type": "display_data"
    },
    {
     "name": "stdout",
     "output_type": "stream",
     "text": [
      "Epoch [5], Train Loss : [59.24992] Val Loss : [55.12876] Val F1 Score : [0.54666]\n"
     ]
    },
    {
     "data": {
      "application/vnd.jupyter.widget-view+json": {
       "model_id": "e24c4bb0014b43cab7e01e95813eab20",
       "version_major": 2,
       "version_minor": 0
      },
      "text/plain": [
       "  0%|          | 0/45 [00:00<?, ?it/s]"
      ]
     },
     "metadata": {},
     "output_type": "display_data"
    },
    {
     "data": {
      "application/vnd.jupyter.widget-view+json": {
       "model_id": "db40251005f74d74a7e858070c40db00",
       "version_major": 2,
       "version_minor": 0
      },
      "text/plain": [
       "  0%|          | 0/12 [00:00<?, ?it/s]"
      ]
     },
     "metadata": {},
     "output_type": "display_data"
    },
    {
     "name": "stdout",
     "output_type": "stream",
     "text": [
      "Epoch [6], Train Loss : [58.81344] Val Loss : [56.00815] Val F1 Score : [0.50131]\n"
     ]
    },
    {
     "data": {
      "application/vnd.jupyter.widget-view+json": {
       "model_id": "13c185fd879b4064b6409aaa679dc1bb",
       "version_major": 2,
       "version_minor": 0
      },
      "text/plain": [
       "  0%|          | 0/45 [00:00<?, ?it/s]"
      ]
     },
     "metadata": {},
     "output_type": "display_data"
    },
    {
     "data": {
      "application/vnd.jupyter.widget-view+json": {
       "model_id": "7480a382f7f547d588ff9da7524aabae",
       "version_major": 2,
       "version_minor": 0
      },
      "text/plain": [
       "  0%|          | 0/12 [00:00<?, ?it/s]"
      ]
     },
     "metadata": {},
     "output_type": "display_data"
    },
    {
     "name": "stdout",
     "output_type": "stream",
     "text": [
      "Epoch [7], Train Loss : [58.76152] Val Loss : [56.05918] Val F1 Score : [0.50002]\n",
      "Epoch 00008: reducing learning rate of group 0 to 5.0000e-03.\n"
     ]
    },
    {
     "data": {
      "application/vnd.jupyter.widget-view+json": {
       "model_id": "dacb62bf1ac44a30a02eae191c12e467",
       "version_major": 2,
       "version_minor": 0
      },
      "text/plain": [
       "  0%|          | 0/45 [00:00<?, ?it/s]"
      ]
     },
     "metadata": {},
     "output_type": "display_data"
    },
    {
     "data": {
      "application/vnd.jupyter.widget-view+json": {
       "model_id": "8e37f121f5d7444a81e4bf720525f4f0",
       "version_major": 2,
       "version_minor": 0
      },
      "text/plain": [
       "  0%|          | 0/12 [00:00<?, ?it/s]"
      ]
     },
     "metadata": {},
     "output_type": "display_data"
    },
    {
     "name": "stdout",
     "output_type": "stream",
     "text": [
      "Epoch [8], Train Loss : [57.22662] Val Loss : [56.06219] Val F1 Score : [0.54778]\n"
     ]
    },
    {
     "data": {
      "application/vnd.jupyter.widget-view+json": {
       "model_id": "1925a678684e4e93abd82d843eaec9ff",
       "version_major": 2,
       "version_minor": 0
      },
      "text/plain": [
       "  0%|          | 0/45 [00:00<?, ?it/s]"
      ]
     },
     "metadata": {},
     "output_type": "display_data"
    },
    {
     "data": {
      "application/vnd.jupyter.widget-view+json": {
       "model_id": "e4776cdef5b84bf4b4f1786dc92a372d",
       "version_major": 2,
       "version_minor": 0
      },
      "text/plain": [
       "  0%|          | 0/12 [00:00<?, ?it/s]"
      ]
     },
     "metadata": {},
     "output_type": "display_data"
    },
    {
     "name": "stdout",
     "output_type": "stream",
     "text": [
      "Epoch [9], Train Loss : [56.80024] Val Loss : [56.76622] Val F1 Score : [0.53979]\n"
     ]
    },
    {
     "data": {
      "application/vnd.jupyter.widget-view+json": {
       "model_id": "46c0e668ed3f45e18cd1815556ea2987",
       "version_major": 2,
       "version_minor": 0
      },
      "text/plain": [
       "  0%|          | 0/45 [00:00<?, ?it/s]"
      ]
     },
     "metadata": {},
     "output_type": "display_data"
    },
    {
     "data": {
      "application/vnd.jupyter.widget-view+json": {
       "model_id": "84e68f7b767b4bfd8972490b7bcd75a0",
       "version_major": 2,
       "version_minor": 0
      },
      "text/plain": [
       "  0%|          | 0/12 [00:00<?, ?it/s]"
      ]
     },
     "metadata": {},
     "output_type": "display_data"
    },
    {
     "name": "stdout",
     "output_type": "stream",
     "text": [
      "Epoch [10], Train Loss : [56.42064] Val Loss : [55.52934] Val F1 Score : [0.54407]\n",
      "Epoch 00011: reducing learning rate of group 0 to 2.5000e-03.\n"
     ]
    },
    {
     "data": {
      "application/vnd.jupyter.widget-view+json": {
       "model_id": "c921b26aac874455822c294c6992ff74",
       "version_major": 2,
       "version_minor": 0
      },
      "text/plain": [
       "  0%|          | 0/45 [00:00<?, ?it/s]"
      ]
     },
     "metadata": {},
     "output_type": "display_data"
    },
    {
     "data": {
      "application/vnd.jupyter.widget-view+json": {
       "model_id": "003a31b0232a4dd28ccddc21d0c07888",
       "version_major": 2,
       "version_minor": 0
      },
      "text/plain": [
       "  0%|          | 0/12 [00:00<?, ?it/s]"
      ]
     },
     "metadata": {},
     "output_type": "display_data"
    },
    {
     "name": "stdout",
     "output_type": "stream",
     "text": [
      "Epoch [11], Train Loss : [55.66106] Val Loss : [55.54372] Val F1 Score : [0.54905]\n"
     ]
    },
    {
     "data": {
      "application/vnd.jupyter.widget-view+json": {
       "model_id": "ad40518b6c6f4e5a8fa9899f9db700ab",
       "version_major": 2,
       "version_minor": 0
      },
      "text/plain": [
       "  0%|          | 0/45 [00:00<?, ?it/s]"
      ]
     },
     "metadata": {},
     "output_type": "display_data"
    },
    {
     "data": {
      "application/vnd.jupyter.widget-view+json": {
       "model_id": "04b383b5a74a45eb87452df617cec6f7",
       "version_major": 2,
       "version_minor": 0
      },
      "text/plain": [
       "  0%|          | 0/12 [00:00<?, ?it/s]"
      ]
     },
     "metadata": {},
     "output_type": "display_data"
    },
    {
     "name": "stdout",
     "output_type": "stream",
     "text": [
      "Epoch [12], Train Loss : [55.26685] Val Loss : [56.64359] Val F1 Score : [0.55764]\n"
     ]
    },
    {
     "data": {
      "application/vnd.jupyter.widget-view+json": {
       "model_id": "c4ffd8b6ac0f42dd849262267dafd066",
       "version_major": 2,
       "version_minor": 0
      },
      "text/plain": [
       "  0%|          | 0/45 [00:00<?, ?it/s]"
      ]
     },
     "metadata": {},
     "output_type": "display_data"
    },
    {
     "data": {
      "application/vnd.jupyter.widget-view+json": {
       "model_id": "5fd262411fd7424492917a4ed6ad730d",
       "version_major": 2,
       "version_minor": 0
      },
      "text/plain": [
       "  0%|          | 0/12 [00:00<?, ?it/s]"
      ]
     },
     "metadata": {},
     "output_type": "display_data"
    },
    {
     "name": "stdout",
     "output_type": "stream",
     "text": [
      "Epoch [13], Train Loss : [54.84243] Val Loss : [56.62895] Val F1 Score : [0.54808]\n"
     ]
    },
    {
     "data": {
      "application/vnd.jupyter.widget-view+json": {
       "model_id": "b6123ff7b1ac40ad958efb01bc999126",
       "version_major": 2,
       "version_minor": 0
      },
      "text/plain": [
       "  0%|          | 0/45 [00:00<?, ?it/s]"
      ]
     },
     "metadata": {},
     "output_type": "display_data"
    },
    {
     "data": {
      "application/vnd.jupyter.widget-view+json": {
       "model_id": "3cab2d03ca5a4f7e80d3d41629f711cb",
       "version_major": 2,
       "version_minor": 0
      },
      "text/plain": [
       "  0%|          | 0/12 [00:00<?, ?it/s]"
      ]
     },
     "metadata": {},
     "output_type": "display_data"
    },
    {
     "name": "stdout",
     "output_type": "stream",
     "text": [
      "Epoch [14], Train Loss : [54.53430] Val Loss : [56.64868] Val F1 Score : [0.53033]\n",
      "Epoch 00015: reducing learning rate of group 0 to 1.2500e-03.\n"
     ]
    },
    {
     "data": {
      "application/vnd.jupyter.widget-view+json": {
       "model_id": "56b085892efb4db1a7a3cb9d07f5e81f",
       "version_major": 2,
       "version_minor": 0
      },
      "text/plain": [
       "  0%|          | 0/45 [00:00<?, ?it/s]"
      ]
     },
     "metadata": {},
     "output_type": "display_data"
    },
    {
     "data": {
      "application/vnd.jupyter.widget-view+json": {
       "model_id": "ebac855715f042a9ba7f998af3187bdf",
       "version_major": 2,
       "version_minor": 0
      },
      "text/plain": [
       "  0%|          | 0/12 [00:00<?, ?it/s]"
      ]
     },
     "metadata": {},
     "output_type": "display_data"
    },
    {
     "name": "stdout",
     "output_type": "stream",
     "text": [
      "Epoch [15], Train Loss : [54.01412] Val Loss : [57.25967] Val F1 Score : [0.55253]\n"
     ]
    },
    {
     "data": {
      "application/vnd.jupyter.widget-view+json": {
       "model_id": "275ea286dd814c75a5f1c98a1e813025",
       "version_major": 2,
       "version_minor": 0
      },
      "text/plain": [
       "  0%|          | 0/45 [00:00<?, ?it/s]"
      ]
     },
     "metadata": {},
     "output_type": "display_data"
    },
    {
     "data": {
      "application/vnd.jupyter.widget-view+json": {
       "model_id": "5423fe797a1d4ee0ae32ad1bcddc587e",
       "version_major": 2,
       "version_minor": 0
      },
      "text/plain": [
       "  0%|          | 0/12 [00:00<?, ?it/s]"
      ]
     },
     "metadata": {},
     "output_type": "display_data"
    },
    {
     "name": "stdout",
     "output_type": "stream",
     "text": [
      "Epoch [16], Train Loss : [53.57227] Val Loss : [56.32880] Val F1 Score : [0.54584]\n",
      "Epoch 00017: reducing learning rate of group 0 to 6.2500e-04.\n"
     ]
    },
    {
     "data": {
      "application/vnd.jupyter.widget-view+json": {
       "model_id": "c7c02a6d770b4845859302d1da88dfa2",
       "version_major": 2,
       "version_minor": 0
      },
      "text/plain": [
       "  0%|          | 0/45 [00:00<?, ?it/s]"
      ]
     },
     "metadata": {},
     "output_type": "display_data"
    },
    {
     "data": {
      "application/vnd.jupyter.widget-view+json": {
       "model_id": "f7ab5aafabbe457490cf299163894e24",
       "version_major": 2,
       "version_minor": 0
      },
      "text/plain": [
       "  0%|          | 0/12 [00:00<?, ?it/s]"
      ]
     },
     "metadata": {},
     "output_type": "display_data"
    },
    {
     "name": "stdout",
     "output_type": "stream",
     "text": [
      "Epoch [17], Train Loss : [53.08401] Val Loss : [56.51326] Val F1 Score : [0.54064]\n"
     ]
    },
    {
     "data": {
      "application/vnd.jupyter.widget-view+json": {
       "model_id": "52d46f691cf845cdbdbb4803342107e6",
       "version_major": 2,
       "version_minor": 0
      },
      "text/plain": [
       "  0%|          | 0/45 [00:00<?, ?it/s]"
      ]
     },
     "metadata": {},
     "output_type": "display_data"
    },
    {
     "data": {
      "application/vnd.jupyter.widget-view+json": {
       "model_id": "319d6cb603e444a9ab289305b72a43b2",
       "version_major": 2,
       "version_minor": 0
      },
      "text/plain": [
       "  0%|          | 0/12 [00:00<?, ?it/s]"
      ]
     },
     "metadata": {},
     "output_type": "display_data"
    },
    {
     "name": "stdout",
     "output_type": "stream",
     "text": [
      "Epoch [18], Train Loss : [52.77612] Val Loss : [58.12414] Val F1 Score : [0.55880]\n"
     ]
    },
    {
     "data": {
      "application/vnd.jupyter.widget-view+json": {
       "model_id": "379a0ddd662c4133ac51454c7d0ef62e",
       "version_major": 2,
       "version_minor": 0
      },
      "text/plain": [
       "  0%|          | 0/45 [00:00<?, ?it/s]"
      ]
     },
     "metadata": {},
     "output_type": "display_data"
    },
    {
     "data": {
      "application/vnd.jupyter.widget-view+json": {
       "model_id": "fd7cdbc58d3047cf822e123d3cb739b6",
       "version_major": 2,
       "version_minor": 0
      },
      "text/plain": [
       "  0%|          | 0/12 [00:00<?, ?it/s]"
      ]
     },
     "metadata": {},
     "output_type": "display_data"
    },
    {
     "name": "stdout",
     "output_type": "stream",
     "text": [
      "Epoch [19], Train Loss : [52.69601] Val Loss : [57.34368] Val F1 Score : [0.55242]\n"
     ]
    },
    {
     "data": {
      "application/vnd.jupyter.widget-view+json": {
       "model_id": "9389c99a128c4810809c9b876a414ef0",
       "version_major": 2,
       "version_minor": 0
      },
      "text/plain": [
       "  0%|          | 0/45 [00:00<?, ?it/s]"
      ]
     },
     "metadata": {},
     "output_type": "display_data"
    },
    {
     "data": {
      "application/vnd.jupyter.widget-view+json": {
       "model_id": "e5f3cd6aae3a48f2a0016ed11be93a08",
       "version_major": 2,
       "version_minor": 0
      },
      "text/plain": [
       "  0%|          | 0/12 [00:00<?, ?it/s]"
      ]
     },
     "metadata": {},
     "output_type": "display_data"
    },
    {
     "name": "stdout",
     "output_type": "stream",
     "text": [
      "Epoch [20], Train Loss : [52.54927] Val Loss : [56.88538] Val F1 Score : [0.54648]\n",
      "Epoch 00021: reducing learning rate of group 0 to 3.1250e-04.\n"
     ]
    },
    {
     "data": {
      "application/vnd.jupyter.widget-view+json": {
       "model_id": "10559000e61a41fa8d3e360298231b8c",
       "version_major": 2,
       "version_minor": 0
      },
      "text/plain": [
       "  0%|          | 0/45 [00:00<?, ?it/s]"
      ]
     },
     "metadata": {},
     "output_type": "display_data"
    },
    {
     "data": {
      "application/vnd.jupyter.widget-view+json": {
       "model_id": "e94beaba5c5b49099ef32860ecba5970",
       "version_major": 2,
       "version_minor": 0
      },
      "text/plain": [
       "  0%|          | 0/12 [00:00<?, ?it/s]"
      ]
     },
     "metadata": {},
     "output_type": "display_data"
    },
    {
     "name": "stdout",
     "output_type": "stream",
     "text": [
      "Epoch [21], Train Loss : [52.20005] Val Loss : [57.39043] Val F1 Score : [0.56295]\n"
     ]
    },
    {
     "data": {
      "application/vnd.jupyter.widget-view+json": {
       "model_id": "ba347c6c162a4d68b135d089e133fb7e",
       "version_major": 2,
       "version_minor": 0
      },
      "text/plain": [
       "  0%|          | 0/45 [00:00<?, ?it/s]"
      ]
     },
     "metadata": {},
     "output_type": "display_data"
    },
    {
     "data": {
      "application/vnd.jupyter.widget-view+json": {
       "model_id": "4c30f6968f9c4e3a97c44a1401520805",
       "version_major": 2,
       "version_minor": 0
      },
      "text/plain": [
       "  0%|          | 0/12 [00:00<?, ?it/s]"
      ]
     },
     "metadata": {},
     "output_type": "display_data"
    },
    {
     "name": "stdout",
     "output_type": "stream",
     "text": [
      "Epoch [22], Train Loss : [52.14010] Val Loss : [57.55277] Val F1 Score : [0.55419]\n"
     ]
    },
    {
     "data": {
      "application/vnd.jupyter.widget-view+json": {
       "model_id": "75d4e19ff4534dafaa320cff0eb42d15",
       "version_major": 2,
       "version_minor": 0
      },
      "text/plain": [
       "  0%|          | 0/45 [00:00<?, ?it/s]"
      ]
     },
     "metadata": {},
     "output_type": "display_data"
    },
    {
     "data": {
      "application/vnd.jupyter.widget-view+json": {
       "model_id": "18857f01ff1b40a88053569cc83d47dc",
       "version_major": 2,
       "version_minor": 0
      },
      "text/plain": [
       "  0%|          | 0/12 [00:00<?, ?it/s]"
      ]
     },
     "metadata": {},
     "output_type": "display_data"
    },
    {
     "name": "stdout",
     "output_type": "stream",
     "text": [
      "Epoch [23], Train Loss : [51.91685] Val Loss : [57.10961] Val F1 Score : [0.56524]\n"
     ]
    },
    {
     "data": {
      "application/vnd.jupyter.widget-view+json": {
       "model_id": "bd33145fc55440f5a56c267ef93f35c5",
       "version_major": 2,
       "version_minor": 0
      },
      "text/plain": [
       "  0%|          | 0/45 [00:00<?, ?it/s]"
      ]
     },
     "metadata": {},
     "output_type": "display_data"
    },
    {
     "data": {
      "application/vnd.jupyter.widget-view+json": {
       "model_id": "81ac41c78ecd43fca84948e4cb989ceb",
       "version_major": 2,
       "version_minor": 0
      },
      "text/plain": [
       "  0%|          | 0/12 [00:00<?, ?it/s]"
      ]
     },
     "metadata": {},
     "output_type": "display_data"
    },
    {
     "name": "stdout",
     "output_type": "stream",
     "text": [
      "Epoch [24], Train Loss : [51.93077] Val Loss : [57.47592] Val F1 Score : [0.55176]\n"
     ]
    },
    {
     "data": {
      "application/vnd.jupyter.widget-view+json": {
       "model_id": "bae150d568c140f6b4441435180bc279",
       "version_major": 2,
       "version_minor": 0
      },
      "text/plain": [
       "  0%|          | 0/45 [00:00<?, ?it/s]"
      ]
     },
     "metadata": {},
     "output_type": "display_data"
    },
    {
     "data": {
      "application/vnd.jupyter.widget-view+json": {
       "model_id": "f9ef31a446594ab5a43271e2bdeab749",
       "version_major": 2,
       "version_minor": 0
      },
      "text/plain": [
       "  0%|          | 0/12 [00:00<?, ?it/s]"
      ]
     },
     "metadata": {},
     "output_type": "display_data"
    },
    {
     "name": "stdout",
     "output_type": "stream",
     "text": [
      "Epoch [25], Train Loss : [51.80195] Val Loss : [57.35273] Val F1 Score : [0.54832]\n",
      "Epoch 00026: reducing learning rate of group 0 to 1.5625e-04.\n"
     ]
    },
    {
     "data": {
      "application/vnd.jupyter.widget-view+json": {
       "model_id": "739d76d9f9e04ef0b0c7122dd47cd09a",
       "version_major": 2,
       "version_minor": 0
      },
      "text/plain": [
       "  0%|          | 0/45 [00:00<?, ?it/s]"
      ]
     },
     "metadata": {},
     "output_type": "display_data"
    },
    {
     "data": {
      "application/vnd.jupyter.widget-view+json": {
       "model_id": "fd32083799d440eaa623ef797a317617",
       "version_major": 2,
       "version_minor": 0
      },
      "text/plain": [
       "  0%|          | 0/12 [00:00<?, ?it/s]"
      ]
     },
     "metadata": {},
     "output_type": "display_data"
    },
    {
     "name": "stdout",
     "output_type": "stream",
     "text": [
      "Epoch [26], Train Loss : [51.78518] Val Loss : [57.34876] Val F1 Score : [0.55555]\n"
     ]
    },
    {
     "data": {
      "application/vnd.jupyter.widget-view+json": {
       "model_id": "97915ad03aa6479ead5bec5b9169fd97",
       "version_major": 2,
       "version_minor": 0
      },
      "text/plain": [
       "  0%|          | 0/45 [00:00<?, ?it/s]"
      ]
     },
     "metadata": {},
     "output_type": "display_data"
    },
    {
     "data": {
      "application/vnd.jupyter.widget-view+json": {
       "model_id": "3da27caf0512426aa7b1c704458500fa",
       "version_major": 2,
       "version_minor": 0
      },
      "text/plain": [
       "  0%|          | 0/12 [00:00<?, ?it/s]"
      ]
     },
     "metadata": {},
     "output_type": "display_data"
    },
    {
     "name": "stdout",
     "output_type": "stream",
     "text": [
      "Epoch [27], Train Loss : [51.61250] Val Loss : [57.49995] Val F1 Score : [0.53706]\n",
      "Epoch 00028: reducing learning rate of group 0 to 7.8125e-05.\n"
     ]
    },
    {
     "data": {
      "application/vnd.jupyter.widget-view+json": {
       "model_id": "066b93e2e1b545cb9d756443e77c455f",
       "version_major": 2,
       "version_minor": 0
      },
      "text/plain": [
       "  0%|          | 0/45 [00:00<?, ?it/s]"
      ]
     },
     "metadata": {},
     "output_type": "display_data"
    },
    {
     "data": {
      "application/vnd.jupyter.widget-view+json": {
       "model_id": "390e864393664ae58fb54104988cb609",
       "version_major": 2,
       "version_minor": 0
      },
      "text/plain": [
       "  0%|          | 0/12 [00:00<?, ?it/s]"
      ]
     },
     "metadata": {},
     "output_type": "display_data"
    },
    {
     "name": "stdout",
     "output_type": "stream",
     "text": [
      "Epoch [28], Train Loss : [51.46853] Val Loss : [58.58504] Val F1 Score : [0.55295]\n"
     ]
    },
    {
     "data": {
      "application/vnd.jupyter.widget-view+json": {
       "model_id": "dec120b984c9408b9f4c1b1aac28bc22",
       "version_major": 2,
       "version_minor": 0
      },
      "text/plain": [
       "  0%|          | 0/45 [00:00<?, ?it/s]"
      ]
     },
     "metadata": {},
     "output_type": "display_data"
    },
    {
     "data": {
      "application/vnd.jupyter.widget-view+json": {
       "model_id": "b62bc8d8007645c0b4da9ef722731365",
       "version_major": 2,
       "version_minor": 0
      },
      "text/plain": [
       "  0%|          | 0/12 [00:00<?, ?it/s]"
      ]
     },
     "metadata": {},
     "output_type": "display_data"
    },
    {
     "name": "stdout",
     "output_type": "stream",
     "text": [
      "Epoch [29], Train Loss : [51.59907] Val Loss : [57.81631] Val F1 Score : [0.55625]\n",
      "Epoch 00030: reducing learning rate of group 0 to 3.9063e-05.\n",
      "Student Train Best Score는 0.5652449063812226 입니다.\n"
     ]
    }
   ],
   "source": [
    "student_model = Student()\n",
    "student_model.eval()\n",
    "optimizer = torch.optim.Adam(student_model.parameters(), lr=CFG['LEARNING_RATE'])\n",
    "scheduler = torch.optim.lr_scheduler.ReduceLROnPlateau(optimizer, mode='max', factor=0.5, patience=1, threshold_mode='abs',min_lr=1e-8, verbose=True)\n",
    "\n",
    "best_student_model = student_train(student_model, teacher_model, optimizer, train_loader, val_loader, scheduler, device)\n"
   ]
  },
  {
   "cell_type": "code",
   "execution_count": 674,
   "id": "7daa9177",
   "metadata": {},
   "outputs": [],
   "source": [
    "PATH1 = f\"./models/student_net{file_version}.pth\"\n",
    "torch.save(best_student_model.state_dict(), PATH1)"
   ]
  },
  {
   "cell_type": "code",
   "execution_count": 675,
   "id": "e0685b57",
   "metadata": {},
   "outputs": [
    {
     "data": {
      "text/plain": [
       "<All keys matched successfully>"
      ]
     },
     "execution_count": 675,
     "metadata": {},
     "output_type": "execute_result"
    }
   ],
   "source": [
    "best_student_model = Student()\n",
    "best_student_model.load_state_dict(torch.load(PATH1))"
   ]
  },
  {
   "cell_type": "code",
   "execution_count": 676,
   "id": "14972350",
   "metadata": {},
   "outputs": [],
   "source": [
    "def choose_threshold(model, val_loader, device):\n",
    "    model.to(device)\n",
    "    model.eval()\n",
    "    \n",
    "#     thresholds = [0.1, 0.2, 0.25, 0.3, 0.35, 0.4, 0.45, 0.5]\n",
    "    thresholds = [0.05, 0.1, 0.15, 0.2, 0.25, 0.3]\n",
    "\n",
    "    pred_labels = []\n",
    "    true_labels = []\n",
    "    \n",
    "    best_score = 0\n",
    "    best_thr = None\n",
    "    with torch.no_grad():\n",
    "        for _, x_s, y in tqdm(iter(val_loader)):\n",
    "            x_s = x_s.float().to(device)\n",
    "            y = y.float().to(device)\n",
    "            \n",
    "            model_pred = model(x_s)\n",
    "            \n",
    "            model_pred = model_pred.squeeze(1).to('cpu')\n",
    "            pred_labels += model_pred.tolist()\n",
    "            true_labels += y.tolist()\n",
    "        \n",
    "        for threshold in thresholds:\n",
    "            pred_labels_thr = np.where(np.array(pred_labels) > threshold, 1, 0)\n",
    "            score_thr = competition_metric(true_labels, pred_labels_thr)\n",
    "            if best_score < score_thr:\n",
    "                best_score = score_thr\n",
    "                best_thr = threshold\n",
    "    return best_thr, best_score"
   ]
  },
  {
   "cell_type": "code",
   "execution_count": 677,
   "id": "e27a1c0d",
   "metadata": {},
   "outputs": [
    {
     "data": {
      "application/vnd.jupyter.widget-view+json": {
       "model_id": "1181078adb8c4a13ab445e77ddb9a697",
       "version_major": 2,
       "version_minor": 0
      },
      "text/plain": [
       "  0%|          | 0/12 [00:00<?, ?it/s]"
      ]
     },
     "metadata": {},
     "output_type": "display_data"
    },
    {
     "name": "stdout",
     "output_type": "stream",
     "text": [
      "Best Threshold : [0.25], Score : [0.57517]\n"
     ]
    }
   ],
   "source": [
    "best_threshold, best_score = choose_threshold(best_student_model, val_loader, device)\n",
    "print(f'Best Threshold : [{best_threshold}], Score : [{best_score:.5f}]')"
   ]
  },
  {
   "cell_type": "code",
   "execution_count": 678,
   "id": "2d43cf8c",
   "metadata": {},
   "outputs": [],
   "source": [
    "test_datasets = CustomDataset(test, None, False)\n",
    "test_loaders = DataLoader(test_datasets, batch_size = CFG['BATCH_SIZE'], shuffle=False)"
   ]
  },
  {
   "cell_type": "code",
   "execution_count": 679,
   "id": "830cde01",
   "metadata": {},
   "outputs": [],
   "source": [
    "def inference(model, test_loader, threshold, device):\n",
    "    model.to(device)\n",
    "    model.eval()\n",
    "    # .eval함수는 evaluation 과정에서 사용하지 말아야 하는 layer들을 알아서 off 시키는 함수\n",
    "    \n",
    "    test_predict = []\n",
    "    with torch.no_grad():\n",
    "        for x in tqdm(test_loader):\n",
    "            x = x.float().to(device)\n",
    "            model_pred = model(x)\n",
    "\n",
    "            model_pred = model_pred.squeeze(1).to('cpu')\n",
    "            test_predict += model_pred\n",
    "        \n",
    "    test_predict = np.where(np.array(test_predict) > threshold, 1, 0)  \n",
    "    # threshhold 보다 큰 값을 찾아서 1로 바꾸고, 아닌 것은 0으로 변경해라\n",
    "    print('Done.')\n",
    "    return test_predict"
   ]
  },
  {
   "cell_type": "code",
   "execution_count": 680,
   "id": "ccb78109",
   "metadata": {},
   "outputs": [
    {
     "data": {
      "application/vnd.jupyter.widget-view+json": {
       "model_id": "139a2d4df47f4d06952cfc148d2b1831",
       "version_major": 2,
       "version_minor": 0
      },
      "text/plain": [
       "  0%|          | 0/24 [00:00<?, ?it/s]"
      ]
     },
     "metadata": {},
     "output_type": "display_data"
    },
    {
     "name": "stdout",
     "output_type": "stream",
     "text": [
      "Done.\n"
     ]
    }
   ],
   "source": [
    "preds = inference(best_student_model, test_loaders, best_threshold, device)"
   ]
  },
  {
   "cell_type": "code",
   "execution_count": 681,
   "id": "1776ac77",
   "metadata": {},
   "outputs": [
    {
     "data": {
      "text/html": [
       "<div>\n",
       "<style scoped>\n",
       "    .dataframe tbody tr th:only-of-type {\n",
       "        vertical-align: middle;\n",
       "    }\n",
       "\n",
       "    .dataframe tbody tr th {\n",
       "        vertical-align: top;\n",
       "    }\n",
       "\n",
       "    .dataframe thead th {\n",
       "        text-align: right;\n",
       "    }\n",
       "</style>\n",
       "<table border=\"1\" class=\"dataframe\">\n",
       "  <thead>\n",
       "    <tr style=\"text-align: right;\">\n",
       "      <th></th>\n",
       "      <th>ID</th>\n",
       "      <th>Y_LABEL</th>\n",
       "    </tr>\n",
       "  </thead>\n",
       "  <tbody>\n",
       "    <tr>\n",
       "      <th>0</th>\n",
       "      <td>TEST_0000</td>\n",
       "      <td>0</td>\n",
       "    </tr>\n",
       "    <tr>\n",
       "      <th>1</th>\n",
       "      <td>TEST_0001</td>\n",
       "      <td>0</td>\n",
       "    </tr>\n",
       "    <tr>\n",
       "      <th>2</th>\n",
       "      <td>TEST_0002</td>\n",
       "      <td>0</td>\n",
       "    </tr>\n",
       "    <tr>\n",
       "      <th>3</th>\n",
       "      <td>TEST_0003</td>\n",
       "      <td>0</td>\n",
       "    </tr>\n",
       "    <tr>\n",
       "      <th>4</th>\n",
       "      <td>TEST_0004</td>\n",
       "      <td>0</td>\n",
       "    </tr>\n",
       "  </tbody>\n",
       "</table>\n",
       "</div>"
      ],
      "text/plain": [
       "          ID  Y_LABEL\n",
       "0  TEST_0000        0\n",
       "1  TEST_0001        0\n",
       "2  TEST_0002        0\n",
       "3  TEST_0003        0\n",
       "4  TEST_0004        0"
      ]
     },
     "execution_count": 681,
     "metadata": {},
     "output_type": "execute_result"
    }
   ],
   "source": [
    "submit = pd.read_csv('./data/sample_submission.csv')\n",
    "submit['Y_LABEL'] = preds\n",
    "submit.head()"
   ]
  },
  {
   "cell_type": "code",
   "execution_count": 682,
   "id": "ee7db9ec",
   "metadata": {},
   "outputs": [],
   "source": [
    "submit.to_csv(f'./submits/submit{file_version}.csv', index=False)"
   ]
  },
  {
   "cell_type": "code",
   "execution_count": null,
   "id": "b6ef03dc",
   "metadata": {},
   "outputs": [],
   "source": []
  }
 ],
 "metadata": {
  "kernelspec": {
   "display_name": "Python 3 (ipykernel)",
   "language": "python",
   "name": "python3"
  },
  "language_info": {
   "codemirror_mode": {
    "name": "ipython",
    "version": 3
   },
   "file_extension": ".py",
   "mimetype": "text/x-python",
   "name": "python",
   "nbconvert_exporter": "python",
   "pygments_lexer": "ipython3",
   "version": "3.8.10"
  }
 },
 "nbformat": 4,
 "nbformat_minor": 5
}
