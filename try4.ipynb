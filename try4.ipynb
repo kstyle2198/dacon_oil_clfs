{
 "cells": [
  {
   "cell_type": "markdown",
   "id": "b4f1c89d",
   "metadata": {},
   "source": []
  },
  {
   "cell_type": "code",
   "execution_count": 4569,
   "id": "fb4705c9",
   "metadata": {},
   "outputs": [],
   "source": [
    "import torch\n",
    "import torch.nn as nn\n",
    "import torch.nn.functional as F\n",
    "import torch.optim as optim\n",
    "from torch.utils.data import DataLoader, Dataset\n",
    "\n",
    "from sklearn.metrics import f1_score\n",
    "from sklearn.compose import ColumnTransformer\n",
    "from sklearn.preprocessing import StandardScaler, MinMaxScaler, RobustScaler\n",
    "from sklearn.preprocessing import LabelEncoder, OneHotEncoder\n",
    "from sklearn.model_selection import train_test_split\n",
    "from sklearn.model_selection import KFold, StratifiedKFold\n",
    "\n",
    "import os\n",
    "import pandas as pd\n",
    "import numpy as np\n",
    "from tqdm.auto import tqdm\n",
    "import random\n",
    "import matplotlib.pyplot as plt\n",
    "import seaborn as sns\n",
    "\n",
    "import warnings\n",
    "warnings.filterwarnings(action='ignore') \n",
    "\n",
    "device = torch.device('cuda') if torch.cuda.is_available() else torch.device('cpu')"
   ]
  },
  {
   "cell_type": "code",
   "execution_count": 4570,
   "id": "960b8a45",
   "metadata": {},
   "outputs": [],
   "source": [
    "file_version = 14"
   ]
  },
  {
   "cell_type": "code",
   "execution_count": 4571,
   "id": "1119d55f",
   "metadata": {},
   "outputs": [],
   "source": [
    "CFG = {\n",
    "    'EPOCHS': 30,\n",
    "    'LEARNING_RATE':1e-1,    # 0.01\n",
    "    'BATCH_SIZE':256,\n",
    "    'SEED':42,\n",
    "    'log_turn': 1,\n",
    "    'CUT': 0.01,     # drop column correlation cut line\n",
    "    'T_Thresh': 0.5,     # Teacher model train Threshhold 최초 0.35\n",
    "    'S_Thresh': 0.5,     # Student model train Threshold 최초 0.35\n",
    "    'reduct' : 'mean',      # sum, mean\n",
    "    'drop_rate': 0.2,\n",
    "    'skew_cut':1\n",
    "    \n",
    "}"
   ]
  },
  {
   "cell_type": "code",
   "execution_count": 4572,
   "id": "62be04f6",
   "metadata": {},
   "outputs": [],
   "source": [
    "def seed_everything(seed):\n",
    "    random.seed(seed)\n",
    "    os.environ['PYTHONHASHSEED'] = str(seed)\n",
    "    np.random.seed(seed)\n",
    "    torch.manual_seed(seed)\n",
    "    torch.cuda.manual_seed(seed)\n",
    "    torch.backends.cudnn.deterministic = True\n",
    "    torch.backends.cudnn.benchmark = True\n",
    "\n",
    "seed_everything(CFG['SEED'])"
   ]
  },
  {
   "cell_type": "code",
   "execution_count": 4573,
   "id": "2f8f5798",
   "metadata": {
    "scrolled": true
   },
   "outputs": [],
   "source": [
    "train = pd.read_csv(\"./data/train.csv\")\n",
    "test = pd.read_csv(\"./data/test.csv\")"
   ]
  },
  {
   "cell_type": "markdown",
   "id": "f364f89c",
   "metadata": {},
   "source": [
    "## 결측치 처리"
   ]
  },
  {
   "cell_type": "code",
   "execution_count": 4574,
   "id": "0e848820",
   "metadata": {
    "scrolled": false
   },
   "outputs": [
    {
     "data": {
      "text/plain": [
       "<AxesSubplot:>"
      ]
     },
     "execution_count": 4574,
     "metadata": {},
     "output_type": "execute_result"
    },
    {
     "data": {
      "image/png": "[encoded data removed]",
      "text/plain": [
       "<Figure size 1152x432 with 2 Axes>"
      ]
     },
     "metadata": {
      "needs_background": "light"
     },
     "output_type": "display_data"
    }
   ],
   "source": [
    "import missingno as msno\n",
    "msno.matrix(train, figsize=(16,6))"
   ]
  },
  {
   "cell_type": "code",
   "execution_count": 4575,
   "id": "2dd2d4ad",
   "metadata": {},
   "outputs": [
    {
     "data": {
      "text/html": [
       "<div>\n",
       "<style scoped>\n",
       "    .dataframe tbody tr th:only-of-type {\n",
       "        vertical-align: middle;\n",
       "    }\n",
       "\n",
       "    .dataframe tbody tr th {\n",
       "        vertical-align: top;\n",
       "    }\n",
       "\n",
       "    .dataframe thead th {\n",
       "        text-align: right;\n",
       "    }\n",
       "</style>\n",
       "<table border=\"1\" class=\"dataframe\">\n",
       "  <thead>\n",
       "    <tr style=\"text-align: right;\">\n",
       "      <th></th>\n",
       "      <th>ID</th>\n",
       "      <th>COMPONENT_ARBITRARY</th>\n",
       "      <th>ANONYMOUS_1</th>\n",
       "      <th>YEAR</th>\n",
       "      <th>SAMPLE_TRANSFER_DAY</th>\n",
       "      <th>ANONYMOUS_2</th>\n",
       "      <th>AG</th>\n",
       "      <th>AL</th>\n",
       "      <th>B</th>\n",
       "      <th>BA</th>\n",
       "      <th>...</th>\n",
       "      <th>U25</th>\n",
       "      <th>U20</th>\n",
       "      <th>U14</th>\n",
       "      <th>U6</th>\n",
       "      <th>U4</th>\n",
       "      <th>V</th>\n",
       "      <th>V100</th>\n",
       "      <th>V40</th>\n",
       "      <th>ZN</th>\n",
       "      <th>Y_LABEL</th>\n",
       "    </tr>\n",
       "  </thead>\n",
       "  <tbody>\n",
       "    <tr>\n",
       "      <th>count</th>\n",
       "      <td>14095</td>\n",
       "      <td>14095</td>\n",
       "      <td>14095.000000</td>\n",
       "      <td>14095.000000</td>\n",
       "      <td>14095.000000</td>\n",
       "      <td>14095.000000</td>\n",
       "      <td>14095.000000</td>\n",
       "      <td>14095.000000</td>\n",
       "      <td>14095.000000</td>\n",
       "      <td>14095.000000</td>\n",
       "      <td>...</td>\n",
       "      <td>2316.000000</td>\n",
       "      <td>2316.000000</td>\n",
       "      <td>2118.000000</td>\n",
       "      <td>2118.000000</td>\n",
       "      <td>2118.000000</td>\n",
       "      <td>14095.000000</td>\n",
       "      <td>3724.000000</td>\n",
       "      <td>14095.000000</td>\n",
       "      <td>14095.000000</td>\n",
       "      <td>14095.000000</td>\n",
       "    </tr>\n",
       "    <tr>\n",
       "      <th>unique</th>\n",
       "      <td>14095</td>\n",
       "      <td>4</td>\n",
       "      <td>NaN</td>\n",
       "      <td>NaN</td>\n",
       "      <td>NaN</td>\n",
       "      <td>NaN</td>\n",
       "      <td>NaN</td>\n",
       "      <td>NaN</td>\n",
       "      <td>NaN</td>\n",
       "      <td>NaN</td>\n",
       "      <td>...</td>\n",
       "      <td>NaN</td>\n",
       "      <td>NaN</td>\n",
       "      <td>NaN</td>\n",
       "      <td>NaN</td>\n",
       "      <td>NaN</td>\n",
       "      <td>NaN</td>\n",
       "      <td>NaN</td>\n",
       "      <td>NaN</td>\n",
       "      <td>NaN</td>\n",
       "      <td>NaN</td>\n",
       "    </tr>\n",
       "    <tr>\n",
       "      <th>top</th>\n",
       "      <td>TRAIN_00000</td>\n",
       "      <td>COMPONENT3</td>\n",
       "      <td>NaN</td>\n",
       "      <td>NaN</td>\n",
       "      <td>NaN</td>\n",
       "      <td>NaN</td>\n",
       "      <td>NaN</td>\n",
       "      <td>NaN</td>\n",
       "      <td>NaN</td>\n",
       "      <td>NaN</td>\n",
       "      <td>...</td>\n",
       "      <td>NaN</td>\n",
       "      <td>NaN</td>\n",
       "      <td>NaN</td>\n",
       "      <td>NaN</td>\n",
       "      <td>NaN</td>\n",
       "      <td>NaN</td>\n",
       "      <td>NaN</td>\n",
       "      <td>NaN</td>\n",
       "      <td>NaN</td>\n",
       "      <td>NaN</td>\n",
       "    </tr>\n",
       "    <tr>\n",
       "      <th>freq</th>\n",
       "      <td>1</td>\n",
       "      <td>7050</td>\n",
       "      <td>NaN</td>\n",
       "      <td>NaN</td>\n",
       "      <td>NaN</td>\n",
       "      <td>NaN</td>\n",
       "      <td>NaN</td>\n",
       "      <td>NaN</td>\n",
       "      <td>NaN</td>\n",
       "      <td>NaN</td>\n",
       "      <td>...</td>\n",
       "      <td>NaN</td>\n",
       "      <td>NaN</td>\n",
       "      <td>NaN</td>\n",
       "      <td>NaN</td>\n",
       "      <td>NaN</td>\n",
       "      <td>NaN</td>\n",
       "      <td>NaN</td>\n",
       "      <td>NaN</td>\n",
       "      <td>NaN</td>\n",
       "      <td>NaN</td>\n",
       "    </tr>\n",
       "    <tr>\n",
       "      <th>mean</th>\n",
       "      <td>NaN</td>\n",
       "      <td>NaN</td>\n",
       "      <td>3146.082937</td>\n",
       "      <td>2013.652501</td>\n",
       "      <td>7.600568</td>\n",
       "      <td>387.416885</td>\n",
       "      <td>0.025825</td>\n",
       "      <td>12.707698</td>\n",
       "      <td>64.026179</td>\n",
       "      <td>0.692799</td>\n",
       "      <td>...</td>\n",
       "      <td>29.870898</td>\n",
       "      <td>56.063472</td>\n",
       "      <td>239.938149</td>\n",
       "      <td>5488.693107</td>\n",
       "      <td>19415.597262</td>\n",
       "      <td>0.050656</td>\n",
       "      <td>13.576230</td>\n",
       "      <td>109.355815</td>\n",
       "      <td>588.646825</td>\n",
       "      <td>0.085349</td>\n",
       "    </tr>\n",
       "    <tr>\n",
       "      <th>std</th>\n",
       "      <td>NaN</td>\n",
       "      <td>NaN</td>\n",
       "      <td>4216.089809</td>\n",
       "      <td>3.964758</td>\n",
       "      <td>11.681628</td>\n",
       "      <td>550.016073</td>\n",
       "      <td>0.171926</td>\n",
       "      <td>86.968000</td>\n",
       "      <td>102.876871</td>\n",
       "      <td>2.905491</td>\n",
       "      <td>...</td>\n",
       "      <td>97.459625</td>\n",
       "      <td>184.332678</td>\n",
       "      <td>685.053457</td>\n",
       "      <td>15474.146283</td>\n",
       "      <td>40145.311444</td>\n",
       "      <td>0.475438</td>\n",
       "      <td>1.073718</td>\n",
       "      <td>49.612379</td>\n",
       "      <td>531.743393</td>\n",
       "      <td>0.279411</td>\n",
       "    </tr>\n",
       "    <tr>\n",
       "      <th>min</th>\n",
       "      <td>NaN</td>\n",
       "      <td>NaN</td>\n",
       "      <td>1000.000000</td>\n",
       "      <td>2007.000000</td>\n",
       "      <td>0.000000</td>\n",
       "      <td>200.000000</td>\n",
       "      <td>0.000000</td>\n",
       "      <td>0.000000</td>\n",
       "      <td>0.000000</td>\n",
       "      <td>0.000000</td>\n",
       "      <td>...</td>\n",
       "      <td>0.000000</td>\n",
       "      <td>0.000000</td>\n",
       "      <td>0.000000</td>\n",
       "      <td>15.000000</td>\n",
       "      <td>154.000000</td>\n",
       "      <td>0.000000</td>\n",
       "      <td>5.200000</td>\n",
       "      <td>2.900000</td>\n",
       "      <td>0.000000</td>\n",
       "      <td>0.000000</td>\n",
       "    </tr>\n",
       "    <tr>\n",
       "      <th>25%</th>\n",
       "      <td>NaN</td>\n",
       "      <td>NaN</td>\n",
       "      <td>1655.000000</td>\n",
       "      <td>2010.000000</td>\n",
       "      <td>3.000000</td>\n",
       "      <td>200.000000</td>\n",
       "      <td>0.000000</td>\n",
       "      <td>1.000000</td>\n",
       "      <td>3.000000</td>\n",
       "      <td>0.000000</td>\n",
       "      <td>...</td>\n",
       "      <td>3.000000</td>\n",
       "      <td>5.000000</td>\n",
       "      <td>22.000000</td>\n",
       "      <td>636.750000</td>\n",
       "      <td>5409.250000</td>\n",
       "      <td>0.000000</td>\n",
       "      <td>12.900000</td>\n",
       "      <td>71.800000</td>\n",
       "      <td>37.000000</td>\n",
       "      <td>0.000000</td>\n",
       "    </tr>\n",
       "    <tr>\n",
       "      <th>50%</th>\n",
       "      <td>NaN</td>\n",
       "      <td>NaN</td>\n",
       "      <td>2227.000000</td>\n",
       "      <td>2014.000000</td>\n",
       "      <td>5.000000</td>\n",
       "      <td>200.000000</td>\n",
       "      <td>0.000000</td>\n",
       "      <td>2.000000</td>\n",
       "      <td>11.000000</td>\n",
       "      <td>0.000000</td>\n",
       "      <td>...</td>\n",
       "      <td>7.000000</td>\n",
       "      <td>13.000000</td>\n",
       "      <td>57.000000</td>\n",
       "      <td>1753.000000</td>\n",
       "      <td>12691.500000</td>\n",
       "      <td>0.000000</td>\n",
       "      <td>13.500000</td>\n",
       "      <td>111.300000</td>\n",
       "      <td>520.000000</td>\n",
       "      <td>0.000000</td>\n",
       "    </tr>\n",
       "    <tr>\n",
       "      <th>75%</th>\n",
       "      <td>NaN</td>\n",
       "      <td>NaN</td>\n",
       "      <td>3797.000000</td>\n",
       "      <td>2017.000000</td>\n",
       "      <td>8.000000</td>\n",
       "      <td>410.000000</td>\n",
       "      <td>0.000000</td>\n",
       "      <td>4.000000</td>\n",
       "      <td>110.000000</td>\n",
       "      <td>0.000000</td>\n",
       "      <td>...</td>\n",
       "      <td>23.000000</td>\n",
       "      <td>39.250000</td>\n",
       "      <td>189.000000</td>\n",
       "      <td>5517.750000</td>\n",
       "      <td>24535.750000</td>\n",
       "      <td>0.000000</td>\n",
       "      <td>14.200000</td>\n",
       "      <td>137.200000</td>\n",
       "      <td>1119.000000</td>\n",
       "      <td>0.000000</td>\n",
       "    </tr>\n",
       "    <tr>\n",
       "      <th>max</th>\n",
       "      <td>NaN</td>\n",
       "      <td>NaN</td>\n",
       "      <td>294451.000000</td>\n",
       "      <td>2022.000000</td>\n",
       "      <td>368.000000</td>\n",
       "      <td>9650.000000</td>\n",
       "      <td>3.000000</td>\n",
       "      <td>4630.000000</td>\n",
       "      <td>2051.000000</td>\n",
       "      <td>216.000000</td>\n",
       "      <td>...</td>\n",
       "      <td>1651.000000</td>\n",
       "      <td>2932.000000</td>\n",
       "      <td>11296.000000</td>\n",
       "      <td>412627.000000</td>\n",
       "      <td>844421.000000</td>\n",
       "      <td>17.000000</td>\n",
       "      <td>29.900000</td>\n",
       "      <td>2840.500000</td>\n",
       "      <td>2132.000000</td>\n",
       "      <td>1.000000</td>\n",
       "    </tr>\n",
       "  </tbody>\n",
       "</table>\n",
       "<p>11 rows × 54 columns</p>\n",
       "</div>"
      ],
      "text/plain": [
       "                 ID COMPONENT_ARBITRARY    ANONYMOUS_1          YEAR  \\\n",
       "count         14095               14095   14095.000000  14095.000000   \n",
       "unique        14095                   4            NaN           NaN   \n",
       "top     TRAIN_00000          COMPONENT3            NaN           NaN   \n",
       "freq              1                7050            NaN           NaN   \n",
       "mean            NaN                 NaN    3146.082937   2013.652501   \n",
       "std             NaN                 NaN    4216.089809      3.964758   \n",
       "min             NaN                 NaN    1000.000000   2007.000000   \n",
       "25%             NaN                 NaN    1655.000000   2010.000000   \n",
       "50%             NaN                 NaN    2227.000000   2014.000000   \n",
       "75%             NaN                 NaN    3797.000000   2017.000000   \n",
       "max             NaN                 NaN  294451.000000   2022.000000   \n",
       "\n",
       "        SAMPLE_TRANSFER_DAY   ANONYMOUS_2            AG            AL  \\\n",
       "count          14095.000000  14095.000000  14095.000000  14095.000000   \n",
       "unique                  NaN           NaN           NaN           NaN   \n",
       "top                     NaN           NaN           NaN           NaN   \n",
       "freq                    NaN           NaN           NaN           NaN   \n",
       "mean               7.600568    387.416885      0.025825     12.707698   \n",
       "std               11.681628    550.016073      0.171926     86.968000   \n",
       "min                0.000000    200.000000      0.000000      0.000000   \n",
       "25%                3.000000    200.000000      0.000000      1.000000   \n",
       "50%                5.000000    200.000000      0.000000      2.000000   \n",
       "75%                8.000000    410.000000      0.000000      4.000000   \n",
       "max              368.000000   9650.000000      3.000000   4630.000000   \n",
       "\n",
       "                   B            BA  ...          U25          U20  \\\n",
       "count   14095.000000  14095.000000  ...  2316.000000  2316.000000   \n",
       "unique           NaN           NaN  ...          NaN          NaN   \n",
       "top              NaN           NaN  ...          NaN          NaN   \n",
       "freq             NaN           NaN  ...          NaN          NaN   \n",
       "mean       64.026179      0.692799  ...    29.870898    56.063472   \n",
       "std       102.876871      2.905491  ...    97.459625   184.332678   \n",
       "min         0.000000      0.000000  ...     0.000000     0.000000   \n",
       "25%         3.000000      0.000000  ...     3.000000     5.000000   \n",
       "50%        11.000000      0.000000  ...     7.000000    13.000000   \n",
       "75%       110.000000      0.000000  ...    23.000000    39.250000   \n",
       "max      2051.000000    216.000000  ...  1651.000000  2932.000000   \n",
       "\n",
       "                 U14             U6             U4             V         V100  \\\n",
       "count    2118.000000    2118.000000    2118.000000  14095.000000  3724.000000   \n",
       "unique           NaN            NaN            NaN           NaN          NaN   \n",
       "top              NaN            NaN            NaN           NaN          NaN   \n",
       "freq             NaN            NaN            NaN           NaN          NaN   \n",
       "mean      239.938149    5488.693107   19415.597262      0.050656    13.576230   \n",
       "std       685.053457   15474.146283   40145.311444      0.475438     1.073718   \n",
       "min         0.000000      15.000000     154.000000      0.000000     5.200000   \n",
       "25%        22.000000     636.750000    5409.250000      0.000000    12.900000   \n",
       "50%        57.000000    1753.000000   12691.500000      0.000000    13.500000   \n",
       "75%       189.000000    5517.750000   24535.750000      0.000000    14.200000   \n",
       "max     11296.000000  412627.000000  844421.000000     17.000000    29.900000   \n",
       "\n",
       "                 V40            ZN       Y_LABEL  \n",
       "count   14095.000000  14095.000000  14095.000000  \n",
       "unique           NaN           NaN           NaN  \n",
       "top              NaN           NaN           NaN  \n",
       "freq             NaN           NaN           NaN  \n",
       "mean      109.355815    588.646825      0.085349  \n",
       "std        49.612379    531.743393      0.279411  \n",
       "min         2.900000      0.000000      0.000000  \n",
       "25%        71.800000     37.000000      0.000000  \n",
       "50%       111.300000    520.000000      0.000000  \n",
       "75%       137.200000   1119.000000      0.000000  \n",
       "max      2840.500000   2132.000000      1.000000  \n",
       "\n",
       "[11 rows x 54 columns]"
      ]
     },
     "execution_count": 4575,
     "metadata": {},
     "output_type": "execute_result"
    }
   ],
   "source": [
    "train.describe(include=\"all\")"
   ]
  },
  {
   "cell_type": "code",
   "execution_count": 4576,
   "id": "58bbb4f1",
   "metadata": {},
   "outputs": [
    {
     "name": "stdout",
     "output_type": "stream",
     "text": [
      "컬럼명: CD, 널값수: 1,394, 평균: 0.02, 중위수: 0.0, 최빈값: 0.0\n",
      "컬럼명: FH2O, 널값수: 10,205, 평균: 15.24, 중위수: 13.0, 최빈값: 14.0\n",
      "컬럼명: FNOX, 널값수: 10,205, 평균: 7.14, 중위수: 7.0, 최빈값: 6.0\n",
      "컬럼명: FOPTIMETHGLY, 널값수: 10,205, 평균: 0.53, 중위수: 0.0, 최빈값: 0.0\n",
      "컬럼명: FOXID, 널값수: 10,205, 평균: 12.5, 중위수: 12.0, 최빈값: 11.0\n",
      "컬럼명: FSO4, 널값수: 10,205, 평균: 20.28, 중위수: 20.0, 최빈값: 20.0\n",
      "컬럼명: FTBN, 널값수: 10,205, 평균: 8.78, 중위수: 8.7, 최빈값: 8.2\n",
      "컬럼명: FUEL, 널값수: 10,205, 평균: 0.19, 중위수: 0.0, 최빈값: 0.0\n",
      "컬럼명: K, 널값수: 2,299, 평균: 3.61, 중위수: 2.0, 최빈값: 0.0\n",
      "컬럼명: SOOTPERCENTAGE, 널값수: 10,205, 평균: 0.61, 중위수: 0.4, 최빈값: 0.2\n",
      "컬럼명: U100, 널값수: 11,779, 평균: 0.17, 중위수: 0.0, 최빈값: 0.0\n",
      "컬럼명: U75, 널값수: 11,779, 평균: 0.42, 중위수: 0.0, 최빈값: 0.0\n",
      "컬럼명: U50, 널값수: 11,779, 평균: 6.19, 중위수: 1.0, 최빈값: 0.0\n",
      "컬럼명: U25, 널값수: 11,779, 평균: 29.87, 중위수: 7.0, 최빈값: 1.0\n",
      "컬럼명: U20, 널값수: 11,779, 평균: 56.06, 중위수: 13.0, 최빈값: 4.0\n",
      "컬럼명: U14, 널값수: 11,977, 평균: 239.94, 중위수: 57.0, 최빈값: 14.0\n",
      "컬럼명: U6, 널값수: 11,977, 평균: 5488.69, 중위수: 1753.0, 최빈값: 300.0\n",
      "컬럼명: U4, 널값수: 11,977, 평균: 19415.6, 중위수: 12691.5, 최빈값: 6789.0\n",
      "컬럼명: V100, 널값수: 10,371, 평균: 13.58, 중위수: 13.5, 최빈값: 13.3\n"
     ]
    }
   ],
   "source": [
    "# 널값 칼럼값을 무엇으로 보간할까?\n",
    "null_columns = []\n",
    "for col in train.columns.tolist():\n",
    "    if train[col].isna().any():\n",
    "        null_columns.append(col)\n",
    "        print(f\"컬럼명: {col}, 널값수: {train[col].isna().sum():,}, 평균: {np.round(train[col].mean(),2)}, 중위수: {train[col].median()}, 최빈값: {train[col].mode().values[0]}\")\n",
    "    else:\n",
    "        pass   \n",
    "# null_columns"
   ]
  },
  {
   "cell_type": "code",
   "execution_count": 4577,
   "id": "1c07bd2f",
   "metadata": {},
   "outputs": [
    {
     "data": {
      "text/html": [
       "<div>\n",
       "<style scoped>\n",
       "    .dataframe tbody tr th:only-of-type {\n",
       "        vertical-align: middle;\n",
       "    }\n",
       "\n",
       "    .dataframe tbody tr th {\n",
       "        vertical-align: top;\n",
       "    }\n",
       "\n",
       "    .dataframe thead th {\n",
       "        text-align: right;\n",
       "    }\n",
       "</style>\n",
       "<table border=\"1\" class=\"dataframe\">\n",
       "  <thead>\n",
       "    <tr style=\"text-align: right;\">\n",
       "      <th></th>\n",
       "      <th>CD</th>\n",
       "      <th>FH2O</th>\n",
       "      <th>FNOX</th>\n",
       "      <th>FOPTIMETHGLY</th>\n",
       "      <th>FOXID</th>\n",
       "      <th>FSO4</th>\n",
       "      <th>FTBN</th>\n",
       "      <th>FUEL</th>\n",
       "      <th>K</th>\n",
       "      <th>SOOTPERCENTAGE</th>\n",
       "      <th>U100</th>\n",
       "      <th>U75</th>\n",
       "      <th>U50</th>\n",
       "      <th>U25</th>\n",
       "      <th>U20</th>\n",
       "      <th>U14</th>\n",
       "      <th>U6</th>\n",
       "      <th>U4</th>\n",
       "      <th>V100</th>\n",
       "    </tr>\n",
       "  </thead>\n",
       "  <tbody>\n",
       "    <tr>\n",
       "      <th>count</th>\n",
       "      <td>12701.000000</td>\n",
       "      <td>3890.000000</td>\n",
       "      <td>3890.000000</td>\n",
       "      <td>3890.000000</td>\n",
       "      <td>3890.000000</td>\n",
       "      <td>3890.000000</td>\n",
       "      <td>3890.000000</td>\n",
       "      <td>3890.000000</td>\n",
       "      <td>11796.000000</td>\n",
       "      <td>3890.000000</td>\n",
       "      <td>2316.000000</td>\n",
       "      <td>2316.000000</td>\n",
       "      <td>2316.000000</td>\n",
       "      <td>2316.000000</td>\n",
       "      <td>2316.000000</td>\n",
       "      <td>2118.000000</td>\n",
       "      <td>2118.000000</td>\n",
       "      <td>2118.000000</td>\n",
       "      <td>3724.000000</td>\n",
       "    </tr>\n",
       "    <tr>\n",
       "      <th>mean</th>\n",
       "      <td>0.015589</td>\n",
       "      <td>15.242159</td>\n",
       "      <td>7.138303</td>\n",
       "      <td>0.532905</td>\n",
       "      <td>12.495373</td>\n",
       "      <td>20.284319</td>\n",
       "      <td>8.783239</td>\n",
       "      <td>0.185347</td>\n",
       "      <td>3.611224</td>\n",
       "      <td>0.609254</td>\n",
       "      <td>0.173575</td>\n",
       "      <td>0.417098</td>\n",
       "      <td>6.185233</td>\n",
       "      <td>29.870898</td>\n",
       "      <td>56.063472</td>\n",
       "      <td>239.938149</td>\n",
       "      <td>5488.693107</td>\n",
       "      <td>19415.597262</td>\n",
       "      <td>13.576230</td>\n",
       "    </tr>\n",
       "    <tr>\n",
       "      <th>std</th>\n",
       "      <td>0.209407</td>\n",
       "      <td>17.591679</td>\n",
       "      <td>1.860775</td>\n",
       "      <td>0.621937</td>\n",
       "      <td>3.439535</td>\n",
       "      <td>3.234296</td>\n",
       "      <td>1.339355</td>\n",
       "      <td>0.899253</td>\n",
       "      <td>15.630404</td>\n",
       "      <td>0.652382</td>\n",
       "      <td>0.878892</td>\n",
       "      <td>1.626333</td>\n",
       "      <td>36.639482</td>\n",
       "      <td>97.459625</td>\n",
       "      <td>184.332678</td>\n",
       "      <td>685.053457</td>\n",
       "      <td>15474.146283</td>\n",
       "      <td>40145.311444</td>\n",
       "      <td>1.073718</td>\n",
       "    </tr>\n",
       "    <tr>\n",
       "      <th>min</th>\n",
       "      <td>0.000000</td>\n",
       "      <td>6.000000</td>\n",
       "      <td>3.000000</td>\n",
       "      <td>0.000000</td>\n",
       "      <td>4.000000</td>\n",
       "      <td>10.000000</td>\n",
       "      <td>0.000000</td>\n",
       "      <td>0.000000</td>\n",
       "      <td>0.000000</td>\n",
       "      <td>0.000000</td>\n",
       "      <td>0.000000</td>\n",
       "      <td>0.000000</td>\n",
       "      <td>0.000000</td>\n",
       "      <td>0.000000</td>\n",
       "      <td>0.000000</td>\n",
       "      <td>0.000000</td>\n",
       "      <td>15.000000</td>\n",
       "      <td>154.000000</td>\n",
       "      <td>5.200000</td>\n",
       "    </tr>\n",
       "    <tr>\n",
       "      <th>25%</th>\n",
       "      <td>0.000000</td>\n",
       "      <td>11.000000</td>\n",
       "      <td>6.000000</td>\n",
       "      <td>0.000000</td>\n",
       "      <td>10.000000</td>\n",
       "      <td>18.000000</td>\n",
       "      <td>8.100000</td>\n",
       "      <td>0.000000</td>\n",
       "      <td>0.000000</td>\n",
       "      <td>0.200000</td>\n",
       "      <td>0.000000</td>\n",
       "      <td>0.000000</td>\n",
       "      <td>0.000000</td>\n",
       "      <td>3.000000</td>\n",
       "      <td>5.000000</td>\n",
       "      <td>22.000000</td>\n",
       "      <td>636.750000</td>\n",
       "      <td>5409.250000</td>\n",
       "      <td>12.900000</td>\n",
       "    </tr>\n",
       "    <tr>\n",
       "      <th>50%</th>\n",
       "      <td>0.000000</td>\n",
       "      <td>13.000000</td>\n",
       "      <td>7.000000</td>\n",
       "      <td>0.000000</td>\n",
       "      <td>12.000000</td>\n",
       "      <td>20.000000</td>\n",
       "      <td>8.700000</td>\n",
       "      <td>0.000000</td>\n",
       "      <td>2.000000</td>\n",
       "      <td>0.400000</td>\n",
       "      <td>0.000000</td>\n",
       "      <td>0.000000</td>\n",
       "      <td>1.000000</td>\n",
       "      <td>7.000000</td>\n",
       "      <td>13.000000</td>\n",
       "      <td>57.000000</td>\n",
       "      <td>1753.000000</td>\n",
       "      <td>12691.500000</td>\n",
       "      <td>13.500000</td>\n",
       "    </tr>\n",
       "    <tr>\n",
       "      <th>75%</th>\n",
       "      <td>0.000000</td>\n",
       "      <td>15.000000</td>\n",
       "      <td>8.000000</td>\n",
       "      <td>1.000000</td>\n",
       "      <td>14.750000</td>\n",
       "      <td>22.000000</td>\n",
       "      <td>9.600000</td>\n",
       "      <td>0.000000</td>\n",
       "      <td>3.000000</td>\n",
       "      <td>0.800000</td>\n",
       "      <td>0.000000</td>\n",
       "      <td>0.000000</td>\n",
       "      <td>3.000000</td>\n",
       "      <td>23.000000</td>\n",
       "      <td>39.250000</td>\n",
       "      <td>189.000000</td>\n",
       "      <td>5517.750000</td>\n",
       "      <td>24535.750000</td>\n",
       "      <td>14.200000</td>\n",
       "    </tr>\n",
       "    <tr>\n",
       "      <th>max</th>\n",
       "      <td>18.000000</td>\n",
       "      <td>320.000000</td>\n",
       "      <td>38.000000</td>\n",
       "      <td>13.000000</td>\n",
       "      <td>68.000000</td>\n",
       "      <td>68.000000</td>\n",
       "      <td>27.700000</td>\n",
       "      <td>12.000000</td>\n",
       "      <td>705.000000</td>\n",
       "      <td>6.500000</td>\n",
       "      <td>18.000000</td>\n",
       "      <td>33.000000</td>\n",
       "      <td>939.000000</td>\n",
       "      <td>1651.000000</td>\n",
       "      <td>2932.000000</td>\n",
       "      <td>11296.000000</td>\n",
       "      <td>412627.000000</td>\n",
       "      <td>844421.000000</td>\n",
       "      <td>29.900000</td>\n",
       "    </tr>\n",
       "  </tbody>\n",
       "</table>\n",
       "</div>"
      ],
      "text/plain": [
       "                 CD         FH2O         FNOX  FOPTIMETHGLY        FOXID  \\\n",
       "count  12701.000000  3890.000000  3890.000000   3890.000000  3890.000000   \n",
       "mean       0.015589    15.242159     7.138303      0.532905    12.495373   \n",
       "std        0.209407    17.591679     1.860775      0.621937     3.439535   \n",
       "min        0.000000     6.000000     3.000000      0.000000     4.000000   \n",
       "25%        0.000000    11.000000     6.000000      0.000000    10.000000   \n",
       "50%        0.000000    13.000000     7.000000      0.000000    12.000000   \n",
       "75%        0.000000    15.000000     8.000000      1.000000    14.750000   \n",
       "max       18.000000   320.000000    38.000000     13.000000    68.000000   \n",
       "\n",
       "              FSO4         FTBN         FUEL             K  SOOTPERCENTAGE  \\\n",
       "count  3890.000000  3890.000000  3890.000000  11796.000000     3890.000000   \n",
       "mean     20.284319     8.783239     0.185347      3.611224        0.609254   \n",
       "std       3.234296     1.339355     0.899253     15.630404        0.652382   \n",
       "min      10.000000     0.000000     0.000000      0.000000        0.000000   \n",
       "25%      18.000000     8.100000     0.000000      0.000000        0.200000   \n",
       "50%      20.000000     8.700000     0.000000      2.000000        0.400000   \n",
       "75%      22.000000     9.600000     0.000000      3.000000        0.800000   \n",
       "max      68.000000    27.700000    12.000000    705.000000        6.500000   \n",
       "\n",
       "              U100          U75          U50          U25          U20  \\\n",
       "count  2316.000000  2316.000000  2316.000000  2316.000000  2316.000000   \n",
       "mean      0.173575     0.417098     6.185233    29.870898    56.063472   \n",
       "std       0.878892     1.626333    36.639482    97.459625   184.332678   \n",
       "min       0.000000     0.000000     0.000000     0.000000     0.000000   \n",
       "25%       0.000000     0.000000     0.000000     3.000000     5.000000   \n",
       "50%       0.000000     0.000000     1.000000     7.000000    13.000000   \n",
       "75%       0.000000     0.000000     3.000000    23.000000    39.250000   \n",
       "max      18.000000    33.000000   939.000000  1651.000000  2932.000000   \n",
       "\n",
       "                U14             U6             U4         V100  \n",
       "count   2118.000000    2118.000000    2118.000000  3724.000000  \n",
       "mean     239.938149    5488.693107   19415.597262    13.576230  \n",
       "std      685.053457   15474.146283   40145.311444     1.073718  \n",
       "min        0.000000      15.000000     154.000000     5.200000  \n",
       "25%       22.000000     636.750000    5409.250000    12.900000  \n",
       "50%       57.000000    1753.000000   12691.500000    13.500000  \n",
       "75%      189.000000    5517.750000   24535.750000    14.200000  \n",
       "max    11296.000000  412627.000000  844421.000000    29.900000  "
      ]
     },
     "execution_count": 4577,
     "metadata": {},
     "output_type": "execute_result"
    }
   ],
   "source": [
    "train[null_columns].describe(include=\"all\")"
   ]
  },
  {
   "cell_type": "code",
   "execution_count": 4578,
   "id": "bc0f5666",
   "metadata": {},
   "outputs": [
    {
     "name": "stdout",
     "output_type": "stream",
     "text": [
      "0.0\n",
      "14.0\n",
      "6.0\n",
      "0.0\n",
      "11.0\n",
      "20.0\n",
      "8.2\n",
      "0.0\n",
      "0.0\n",
      "0.2\n",
      "0.0\n",
      "0.0\n",
      "0.0\n",
      "1.0\n",
      "4.0\n",
      "14.0\n",
      "300.0\n",
      "6789.0\n",
      "13.3\n"
     ]
    }
   ],
   "source": [
    "# nan 보간 : 평균 or 중위수 or 최빈값\n",
    "for col in null_columns:\n",
    "    보간값 = train[col].mode().values[0] # 최빈값\n",
    "    print(보간값)\n",
    "    train[col] = train[col].fillna(보간값)     "
   ]
  },
  {
   "cell_type": "code",
   "execution_count": 4579,
   "id": "e1f69d1d",
   "metadata": {
    "scrolled": true
   },
   "outputs": [
    {
     "data": {
      "text/plain": [
       "<AxesSubplot:>"
      ]
     },
     "execution_count": 4579,
     "metadata": {},
     "output_type": "execute_result"
    },
    {
     "data": {
      "image/png": "[encoded data removed]",
      "text/plain": [
       "<Figure size 1800x720 with 2 Axes>"
      ]
     },
     "metadata": {
      "needs_background": "light"
     },
     "output_type": "display_data"
    }
   ],
   "source": [
    "msno.matrix(train)"
   ]
  },
  {
   "cell_type": "markdown",
   "id": "a9fb7d16",
   "metadata": {},
   "source": [
    "### 시각화 검토"
   ]
  },
  {
   "cell_type": "code",
   "execution_count": 4580,
   "id": "fe39e34d",
   "metadata": {},
   "outputs": [
    {
     "data": {
      "text/plain": [
       "Index(['ID', 'COMPONENT_ARBITRARY', 'ANONYMOUS_1', 'YEAR',\n",
       "       'SAMPLE_TRANSFER_DAY', 'ANONYMOUS_2', 'AG', 'AL', 'B', 'BA', 'BE', 'CA',\n",
       "       'CD', 'CO', 'CR', 'CU', 'FH2O', 'FNOX', 'FOPTIMETHGLY', 'FOXID', 'FSO4',\n",
       "       'FTBN', 'FE', 'FUEL', 'H2O', 'K', 'LI', 'MG', 'MN', 'MO', 'NA', 'NI',\n",
       "       'P', 'PB', 'PQINDEX', 'S', 'SB', 'SI', 'SN', 'SOOTPERCENTAGE', 'TI',\n",
       "       'U100', 'U75', 'U50', 'U25', 'U20', 'U14', 'U6', 'U4', 'V', 'V100',\n",
       "       'V40', 'ZN', 'Y_LABEL'],\n",
       "      dtype='object')"
      ]
     },
     "execution_count": 4580,
     "metadata": {},
     "output_type": "execute_result"
    }
   ],
   "source": [
    "train.columns"
   ]
  },
  {
   "cell_type": "code",
   "execution_count": 4581,
   "id": "56de8fce",
   "metadata": {},
   "outputs": [
    {
     "name": "stdout",
     "output_type": "stream",
     "text": [
      "['CR', 'FNOX', 'NI', 'FSO4', 'MG', 'TI', 'ZN', 'U20', 'SN', 'CU', 'MN', 'BE', 'FUEL', 'S', 'CD', 'MO', 'K', 'U4', 'U75', 'AL', 'PB', 'ANONYMOUS_1', 'BA', 'V', 'LI', 'V100', 'FOPTIMETHGLY', 'SI', 'ANONYMOUS_2', 'B', 'CA', 'SAMPLE_TRANSFER_DAY', 'P', 'FH2O', 'SOOTPERCENTAGE', 'U100', 'U50', 'AG', 'NA', 'U6', 'V40', 'CO', 'U25', 'FTBN', 'FE', 'H2O', 'U14', 'PQINDEX', 'FOXID', 'SB']\n",
      "50\n"
     ]
    }
   ],
   "source": [
    "numerical_cols = list(set(train.columns.tolist())-set(not_number_features))\n",
    "print(numerical_cols)\n",
    "print(len(numerical_cols))"
   ]
  },
  {
   "cell_type": "code",
   "execution_count": 4582,
   "id": "67a55a50",
   "metadata": {},
   "outputs": [
    {
     "data": {
      "image/png": "[encoded data removed]",
      "text/plain": [
       "<Figure size 1296x2160 with 51 Axes>"
      ]
     },
     "metadata": {
      "needs_background": "light"
     },
     "output_type": "display_data"
    }
   ],
   "source": [
    "세로열 = 3\n",
    "가로열 = int(len(numerical_cols)/세로열+1)\n",
    "\n",
    "fig, axes = plt.subplots(가로열, 3, figsize=(18, 30))\n",
    "a = 0\n",
    "for i, col in enumerate(numerical_cols):\n",
    "#         print(i%3)\n",
    "        b=i%3\n",
    "        sns.boxplot(ax=axes[a, b], data=train, x='Y_LABEL', y=col)\n",
    "        if b == 2:\n",
    "            a += 1\n"
   ]
  },
  {
   "cell_type": "code",
   "execution_count": 4583,
   "id": "0ef9626c",
   "metadata": {},
   "outputs": [],
   "source": [
    "# grid = sns.FacetGrid(data=train, col='YEAR')\n",
    "# grid.map(sns.stripplot, \"Y_LABEL\",\"CA\")"
   ]
  },
  {
   "cell_type": "code",
   "execution_count": 4584,
   "id": "17fc532e",
   "metadata": {},
   "outputs": [],
   "source": [
    "# grid = sns.FacetGrid(data=train, col='Y_LABEL', col_order=[0,1])\n",
    "# grid.map(sns.scatterplot, \"CA\", \"S\")"
   ]
  },
  {
   "cell_type": "markdown",
   "id": "8f649f9e",
   "metadata": {},
   "source": [
    "### Skewness 검토"
   ]
  },
  {
   "cell_type": "code",
   "execution_count": 4585,
   "id": "9e8a02c1",
   "metadata": {
    "scrolled": false
   },
   "outputs": [
    {
     "data": {
      "image/png": "[encoded data removed]",
      "text/plain": [
       "<Figure size 1440x2160 with 51 Axes>"
      ]
     },
     "metadata": {
      "needs_background": "light"
     },
     "output_type": "display_data"
    }
   ],
   "source": [
    "세로열 = 3\n",
    "가로열 = int(len(numerical_cols)/세로열+1)\n",
    "\n",
    "fig, axes = plt.subplots(가로열, 3, figsize=(20, 30))\n",
    "a = 0\n",
    "for i, col in enumerate(numerical_cols):\n",
    "#         print(i%3)\n",
    "        b=i%3\n",
    "        sns.distplot(train[col], bins=100, ax=axes[a, b])\n",
    "        plt.gca().set_title(col)\n",
    "        plt.subplots_adjust(hspace = 0.8)\n",
    "        if b == 2:\n",
    "            a += 1"
   ]
  },
  {
   "cell_type": "code",
   "execution_count": 4586,
   "id": "3f26f920",
   "metadata": {},
   "outputs": [
    {
     "data": {
      "text/plain": [
       "CD                     55.899106\n",
       "CR                     54.368366\n",
       "CO                     49.810892\n",
       "H2O                    48.656666\n",
       "NA                     43.060333\n",
       "U50                    41.706142\n",
       "BE                     40.923712\n",
       "SN                     39.878475\n",
       "PB                     39.602904\n",
       "MN                     38.915313\n",
       "U6                     36.709851\n",
       "BA                     34.836012\n",
       "TI                     34.500761\n",
       "K                      30.920025\n",
       "ANONYMOUS_1            30.451948\n",
       "LI                     28.675390\n",
       "U4                     28.420830\n",
       "U100                   26.087449\n",
       "SB                     25.174375\n",
       "FH2O                   23.692474\n",
       "U75                    22.869479\n",
       "AL                     22.037843\n",
       "U25                    22.010478\n",
       "U20                    21.665249\n",
       "V                      20.985827\n",
       "CU                     20.741422\n",
       "NI                     20.387033\n",
       "FE                     20.119119\n",
       "U14                    19.628971\n",
       "FUEL                   14.826516\n",
       "SI                     13.847020\n",
       "V40                    12.987017\n",
       "SAMPLE_TRANSFER_DAY     9.862149\n",
       "PQINDEX                 9.829113\n",
       "ANONYMOUS_2             8.529989\n",
       "AG                      7.309733\n",
       "MG                      6.095664\n",
       "SOOTPERCENTAGE          5.968099\n",
       "FOPTIMETHGLY            5.768757\n",
       "FSO4                    5.647768\n",
       "FOXID                   5.631683\n",
       "FNOX                    5.568973\n",
       "MO                      2.904525\n",
       "B                       2.847296\n",
       "V100                    2.565177\n",
       "FTBN                    2.054785\n",
       "P                       1.149380\n",
       "S                       0.806596\n",
       "CA                      0.390928\n",
       "ZN                      0.227683\n",
       "dtype: float64"
      ]
     },
     "execution_count": 4586,
     "metadata": {},
     "output_type": "execute_result"
    }
   ],
   "source": [
    "skewness = train[numerical_cols].apply(lambda x: x.skew()).sort_values(ascending=False)\n",
    "skewness"
   ]
  },
  {
   "cell_type": "code",
   "execution_count": 4587,
   "id": "a1460759",
   "metadata": {},
   "outputs": [],
   "source": [
    "def log_chart(df):\n",
    "    세로열 = 3\n",
    "    가로열 = int(len(df.columns)/세로열+1)\n",
    "\n",
    "    fig, axes = plt.subplots(가로열, 3, figsize=(20, 30))\n",
    "    a = 0\n",
    "    for i, col in enumerate(skew_feats):\n",
    "        b=i%3\n",
    "        sns.distplot(df[col], bins=100, ax=axes[a, b])\n",
    "        plt.gca().set_title(col)\n",
    "        plt.subplots_adjust(hspace = 0.8)\n",
    "        if b == 2:\n",
    "            a += 1"
   ]
  },
  {
   "cell_type": "code",
   "execution_count": 4588,
   "id": "aa01ff38",
   "metadata": {
    "scrolled": false
   },
   "outputs": [
    {
     "data": {
      "application/vnd.jupyter.widget-view+json": {
       "model_id": "5698f2bb75244802941246f8242a8633",
       "version_major": 2,
       "version_minor": 0
      },
      "text/plain": [
       "  0%|          | 0/1 [00:00<?, ?it/s]"
      ]
     },
     "metadata": {},
     "output_type": "display_data"
    },
    {
     "name": "stdout",
     "output_type": "stream",
     "text": [
      "----------------------------------------\n",
      "Index(['CD', 'CR', 'CO', 'H2O', 'NA', 'U50', 'BE', 'SN', 'PB', 'MN', 'U6',\n",
      "       'BA', 'TI', 'K', 'ANONYMOUS_1', 'LI', 'U4', 'U100', 'SB', 'FH2O', 'U75',\n",
      "       'AL', 'U25', 'U20', 'V', 'CU', 'NI', 'FE', 'U14', 'FUEL', 'SI', 'V40',\n",
      "       'SAMPLE_TRANSFER_DAY', 'PQINDEX', 'ANONYMOUS_2', 'AG', 'MG',\n",
      "       'SOOTPERCENTAGE', 'FOPTIMETHGLY', 'FSO4', 'FOXID', 'FNOX', 'MO', 'B',\n",
      "       'V100', 'FTBN', 'P'],\n",
      "      dtype='object')\n",
      "BE                     23.412466\n",
      "H2O                    18.578013\n",
      "CD                     11.885586\n",
      "U100                   11.430049\n",
      "CO                      9.008246\n",
      "FUEL                    8.774924\n",
      "V                       8.296009\n",
      "U75                     8.282828\n",
      "FH2O                    7.129355\n",
      "AG                      6.600190\n",
      "LI                      5.496954\n",
      "U50                     5.171332\n",
      "TI                      4.836962\n",
      "U20                     3.716015\n",
      "U14                     3.641633\n",
      "U25                     3.458415\n",
      "SOOTPERCENTAGE          3.384204\n",
      "U6                      3.224916\n",
      "NI                      2.881386\n",
      "SB                      2.767385\n",
      "FNOX                    2.658311\n",
      "FOPTIMETHGLY            2.340969\n",
      "BA                      2.176642\n",
      "SN                      2.044310\n",
      "FSO4                    1.848962\n",
      "FOXID                   1.842072\n",
      "AL                      1.782754\n",
      "ANONYMOUS_2             1.779987\n",
      "PB                      1.681511\n",
      "U4                      1.400243\n",
      "MN                      1.387217\n",
      "CR                      1.309447\n",
      "SI                      1.239047\n",
      "MO                      1.197475\n",
      "K                       1.050120\n",
      "MG                      0.960658\n",
      "ANONYMOUS_1             0.930168\n",
      "SAMPLE_TRANSFER_DAY     0.886021\n",
      "S                       0.806596\n",
      "PQINDEX                 0.786814\n",
      "CU                      0.763561\n",
      "NA                      0.605474\n",
      "CA                      0.390928\n",
      "FE                      0.273557\n",
      "ZN                      0.227683\n",
      "B                       0.168986\n",
      "V100                   -0.377480\n",
      "V40                    -0.496896\n",
      "P                      -0.622552\n",
      "FTBN                   -5.632267\n",
      "dtype: float64\n"
     ]
    },
    {
     "data": {
      "image/png": "[encoded data removed]",
      "text/plain": [
       "<Figure size 1440x2160 with 57 Axes>"
      ]
     },
     "metadata": {
      "needs_background": "light"
     },
     "output_type": "display_data"
    }
   ],
   "source": [
    "for i in tqdm(range(CFG['log_turn'])):\n",
    "    skewness = train[numerical_cols].apply(lambda x: x.skew()).sort_values(ascending=False)\n",
    "    skew_feats = skewness[skewness > CFG['skew_cut']].index\n",
    "    \n",
    "    log_train = train[skew_feats].copy()\n",
    "    log_train[skew_feats] = np.log1p(log_train[skew_feats])\n",
    "        \n",
    "    for col in skew_feats:\n",
    "        train[col] = log_train[col]\n",
    "    \n",
    "    skewness = train[numerical_cols].apply(lambda x: x.skew()).sort_values(ascending=False)\n",
    "    print(\"-\"*40)\n",
    "    print(skew_feats)\n",
    "    print(skewness)\n",
    "    \n",
    "    for col in skew_feats:\n",
    "        if col in test.columns:\n",
    "            test[col] = np.log1p(test[col])\n",
    "        else:\n",
    "            pass\n",
    "log_chart(train)\n",
    "\n"
   ]
  },
  {
   "cell_type": "code",
   "execution_count": 4589,
   "id": "dd70f712",
   "metadata": {
    "scrolled": false
   },
   "outputs": [
    {
     "data": {
      "image/png": "[encoded data removed]",
      "text/plain": [
       "<Figure size 1296x2160 with 51 Axes>"
      ]
     },
     "metadata": {
      "needs_background": "light"
     },
     "output_type": "display_data"
    }
   ],
   "source": [
    "세로열 = 3\n",
    "가로열 = int(len(numerical_cols)/세로열+1)\n",
    "\n",
    "fig, axes = plt.subplots(가로열, 3, figsize=(18, 30))\n",
    "a = 0\n",
    "for i, col in enumerate(numerical_cols):\n",
    "        b=i%3\n",
    "        sns.boxplot(ax=axes[a, b], data=train, x='Y_LABEL', y=col)\n",
    "        if b == 2:\n",
    "            a += 1"
   ]
  },
  {
   "cell_type": "markdown",
   "id": "38edaad1",
   "metadata": {},
   "source": [
    "### 상관관계 확인(드랍칼럼 선정)"
   ]
  },
  {
   "cell_type": "code",
   "execution_count": 4590,
   "id": "52af7020",
   "metadata": {},
   "outputs": [
    {
     "data": {
      "text/plain": [
       "<AxesSubplot:>"
      ]
     },
     "execution_count": 4590,
     "metadata": {},
     "output_type": "execute_result"
    },
    {
     "data": {
      "image/png": "[encoded data removed]",
      "text/plain": [
       "<Figure size 2160x360 with 2 Axes>"
      ]
     },
     "metadata": {
      "needs_background": "light"
     },
     "output_type": "display_data"
    }
   ],
   "source": [
    "fig = plt.figure(figsize=(30, 5))\n",
    "sns.heatmap(train.loc[:,:].corr()[[\"Y_LABEL\"]].T, annot=True, linewidth=1, cmap=\"coolwarm\", vmin=-1, vmax=1)"
   ]
  },
  {
   "cell_type": "code",
   "execution_count": 4591,
   "id": "8b8a97c8",
   "metadata": {},
   "outputs": [
    {
     "data": {
      "text/html": [
       "<div>\n",
       "<style scoped>\n",
       "    .dataframe tbody tr th:only-of-type {\n",
       "        vertical-align: middle;\n",
       "    }\n",
       "\n",
       "    .dataframe tbody tr th {\n",
       "        vertical-align: top;\n",
       "    }\n",
       "\n",
       "    .dataframe thead th {\n",
       "        text-align: right;\n",
       "    }\n",
       "</style>\n",
       "<table border=\"1\" class=\"dataframe\">\n",
       "  <thead>\n",
       "    <tr style=\"text-align: right;\">\n",
       "      <th></th>\n",
       "      <th>Y_LABEL</th>\n",
       "    </tr>\n",
       "  </thead>\n",
       "  <tbody>\n",
       "    <tr>\n",
       "      <th>Y_LABEL</th>\n",
       "      <td>1.000000</td>\n",
       "    </tr>\n",
       "    <tr>\n",
       "      <th>AL</th>\n",
       "      <td>0.531680</td>\n",
       "    </tr>\n",
       "    <tr>\n",
       "      <th>BA</th>\n",
       "      <td>0.205176</td>\n",
       "    </tr>\n",
       "    <tr>\n",
       "      <th>ANONYMOUS_1</th>\n",
       "      <td>0.092820</td>\n",
       "    </tr>\n",
       "    <tr>\n",
       "      <th>NI</th>\n",
       "      <td>0.067153</td>\n",
       "    </tr>\n",
       "    <tr>\n",
       "      <th>CR</th>\n",
       "      <td>0.056019</td>\n",
       "    </tr>\n",
       "    <tr>\n",
       "      <th>MN</th>\n",
       "      <td>0.048509</td>\n",
       "    </tr>\n",
       "    <tr>\n",
       "      <th>TI</th>\n",
       "      <td>0.046066</td>\n",
       "    </tr>\n",
       "    <tr>\n",
       "      <th>FE</th>\n",
       "      <td>0.045108</td>\n",
       "    </tr>\n",
       "    <tr>\n",
       "      <th>PQINDEX</th>\n",
       "      <td>0.037558</td>\n",
       "    </tr>\n",
       "    <tr>\n",
       "      <th>SI</th>\n",
       "      <td>0.036470</td>\n",
       "    </tr>\n",
       "    <tr>\n",
       "      <th>CU</th>\n",
       "      <td>0.033862</td>\n",
       "    </tr>\n",
       "    <tr>\n",
       "      <th>K</th>\n",
       "      <td>0.031865</td>\n",
       "    </tr>\n",
       "    <tr>\n",
       "      <th>V</th>\n",
       "      <td>0.031353</td>\n",
       "    </tr>\n",
       "    <tr>\n",
       "      <th>S</th>\n",
       "      <td>0.027923</td>\n",
       "    </tr>\n",
       "    <tr>\n",
       "      <th>V40</th>\n",
       "      <td>0.024576</td>\n",
       "    </tr>\n",
       "    <tr>\n",
       "      <th>CO</th>\n",
       "      <td>0.019653</td>\n",
       "    </tr>\n",
       "    <tr>\n",
       "      <th>SB</th>\n",
       "      <td>0.019587</td>\n",
       "    </tr>\n",
       "    <tr>\n",
       "      <th>FNOX</th>\n",
       "      <td>0.019503</td>\n",
       "    </tr>\n",
       "    <tr>\n",
       "      <th>SN</th>\n",
       "      <td>0.017692</td>\n",
       "    </tr>\n",
       "    <tr>\n",
       "      <th>FH2O</th>\n",
       "      <td>0.016473</td>\n",
       "    </tr>\n",
       "    <tr>\n",
       "      <th>AG</th>\n",
       "      <td>0.015292</td>\n",
       "    </tr>\n",
       "    <tr>\n",
       "      <th>LI</th>\n",
       "      <td>0.011860</td>\n",
       "    </tr>\n",
       "    <tr>\n",
       "      <th>FOPTIMETHGLY</th>\n",
       "      <td>0.011441</td>\n",
       "    </tr>\n",
       "    <tr>\n",
       "      <th>FOXID</th>\n",
       "      <td>0.010833</td>\n",
       "    </tr>\n",
       "    <tr>\n",
       "      <th>BE</th>\n",
       "      <td>0.010184</td>\n",
       "    </tr>\n",
       "    <tr>\n",
       "      <th>CD</th>\n",
       "      <td>0.009921</td>\n",
       "    </tr>\n",
       "    <tr>\n",
       "      <th>FSO4</th>\n",
       "      <td>0.009537</td>\n",
       "    </tr>\n",
       "    <tr>\n",
       "      <th>U4</th>\n",
       "      <td>0.009433</td>\n",
       "    </tr>\n",
       "    <tr>\n",
       "      <th>H2O</th>\n",
       "      <td>0.009037</td>\n",
       "    </tr>\n",
       "    <tr>\n",
       "      <th>U6</th>\n",
       "      <td>0.007905</td>\n",
       "    </tr>\n",
       "    <tr>\n",
       "      <th>MO</th>\n",
       "      <td>0.007714</td>\n",
       "    </tr>\n",
       "    <tr>\n",
       "      <th>U14</th>\n",
       "      <td>0.007442</td>\n",
       "    </tr>\n",
       "    <tr>\n",
       "      <th>PB</th>\n",
       "      <td>0.007244</td>\n",
       "    </tr>\n",
       "    <tr>\n",
       "      <th>V100</th>\n",
       "      <td>0.001948</td>\n",
       "    </tr>\n",
       "    <tr>\n",
       "      <th>U25</th>\n",
       "      <td>0.001557</td>\n",
       "    </tr>\n",
       "    <tr>\n",
       "      <th>U20</th>\n",
       "      <td>-0.000381</td>\n",
       "    </tr>\n",
       "    <tr>\n",
       "      <th>P</th>\n",
       "      <td>-0.000769</td>\n",
       "    </tr>\n",
       "    <tr>\n",
       "      <th>FTBN</th>\n",
       "      <td>-0.001173</td>\n",
       "    </tr>\n",
       "    <tr>\n",
       "      <th>SOOTPERCENTAGE</th>\n",
       "      <td>-0.001773</td>\n",
       "    </tr>\n",
       "    <tr>\n",
       "      <th>SAMPLE_TRANSFER_DAY</th>\n",
       "      <td>-0.004679</td>\n",
       "    </tr>\n",
       "    <tr>\n",
       "      <th>U50</th>\n",
       "      <td>-0.006933</td>\n",
       "    </tr>\n",
       "    <tr>\n",
       "      <th>U100</th>\n",
       "      <td>-0.007241</td>\n",
       "    </tr>\n",
       "    <tr>\n",
       "      <th>FUEL</th>\n",
       "      <td>-0.007314</td>\n",
       "    </tr>\n",
       "    <tr>\n",
       "      <th>U75</th>\n",
       "      <td>-0.008436</td>\n",
       "    </tr>\n",
       "    <tr>\n",
       "      <th>MG</th>\n",
       "      <td>-0.010150</td>\n",
       "    </tr>\n",
       "    <tr>\n",
       "      <th>B</th>\n",
       "      <td>-0.018961</td>\n",
       "    </tr>\n",
       "    <tr>\n",
       "      <th>ZN</th>\n",
       "      <td>-0.027551</td>\n",
       "    </tr>\n",
       "    <tr>\n",
       "      <th>NA</th>\n",
       "      <td>-0.028494</td>\n",
       "    </tr>\n",
       "    <tr>\n",
       "      <th>ANONYMOUS_2</th>\n",
       "      <td>-0.058001</td>\n",
       "    </tr>\n",
       "    <tr>\n",
       "      <th>YEAR</th>\n",
       "      <td>-0.087871</td>\n",
       "    </tr>\n",
       "    <tr>\n",
       "      <th>CA</th>\n",
       "      <td>-0.150379</td>\n",
       "    </tr>\n",
       "  </tbody>\n",
       "</table>\n",
       "</div>"
      ],
      "text/plain": [
       "                      Y_LABEL\n",
       "Y_LABEL              1.000000\n",
       "AL                   0.531680\n",
       "BA                   0.205176\n",
       "ANONYMOUS_1          0.092820\n",
       "NI                   0.067153\n",
       "CR                   0.056019\n",
       "MN                   0.048509\n",
       "TI                   0.046066\n",
       "FE                   0.045108\n",
       "PQINDEX              0.037558\n",
       "SI                   0.036470\n",
       "CU                   0.033862\n",
       "K                    0.031865\n",
       "V                    0.031353\n",
       "S                    0.027923\n",
       "V40                  0.024576\n",
       "CO                   0.019653\n",
       "SB                   0.019587\n",
       "FNOX                 0.019503\n",
       "SN                   0.017692\n",
       "FH2O                 0.016473\n",
       "AG                   0.015292\n",
       "LI                   0.011860\n",
       "FOPTIMETHGLY         0.011441\n",
       "FOXID                0.010833\n",
       "BE                   0.010184\n",
       "CD                   0.009921\n",
       "FSO4                 0.009537\n",
       "U4                   0.009433\n",
       "H2O                  0.009037\n",
       "U6                   0.007905\n",
       "MO                   0.007714\n",
       "U14                  0.007442\n",
       "PB                   0.007244\n",
       "V100                 0.001948\n",
       "U25                  0.001557\n",
       "U20                 -0.000381\n",
       "P                   -0.000769\n",
       "FTBN                -0.001173\n",
       "SOOTPERCENTAGE      -0.001773\n",
       "SAMPLE_TRANSFER_DAY -0.004679\n",
       "U50                 -0.006933\n",
       "U100                -0.007241\n",
       "FUEL                -0.007314\n",
       "U75                 -0.008436\n",
       "MG                  -0.010150\n",
       "B                   -0.018961\n",
       "ZN                  -0.027551\n",
       "NA                  -0.028494\n",
       "ANONYMOUS_2         -0.058001\n",
       "YEAR                -0.087871\n",
       "CA                  -0.150379"
      ]
     },
     "execution_count": 4591,
     "metadata": {},
     "output_type": "execute_result"
    }
   ],
   "source": [
    "df_corr1 = pd.DataFrame(train.corr()[\"Y_LABEL\"].sort_values(ascending=False))\n",
    "df_corr1"
   ]
  },
  {
   "cell_type": "code",
   "execution_count": 4592,
   "id": "8a22400b",
   "metadata": {},
   "outputs": [
    {
     "name": "stdout",
     "output_type": "stream",
     "text": [
      "상관관계가 낮아서 드랍할 칼럼 개수 : 19\n"
     ]
    },
    {
     "data": {
      "text/plain": [
       "<bound method DataFrame.sort_values of                       Y_LABEL\n",
       "CD                   0.009921\n",
       "FSO4                 0.009537\n",
       "U4                   0.009433\n",
       "H2O                  0.009037\n",
       "U6                   0.007905\n",
       "MO                   0.007714\n",
       "U14                  0.007442\n",
       "PB                   0.007244\n",
       "V100                 0.001948\n",
       "U25                  0.001557\n",
       "U20                 -0.000381\n",
       "P                   -0.000769\n",
       "FTBN                -0.001173\n",
       "SOOTPERCENTAGE      -0.001773\n",
       "SAMPLE_TRANSFER_DAY -0.004679\n",
       "U50                 -0.006933\n",
       "U100                -0.007241\n",
       "FUEL                -0.007314\n",
       "U75                 -0.008436>"
      ]
     },
     "execution_count": 4592,
     "metadata": {},
     "output_type": "execute_result"
    }
   ],
   "source": [
    "# 상관관계가 낮아서 제낄 칼럼들\n",
    "cutline = CFG['CUT']\n",
    "# cutline = 0.01\n",
    "df_corr2 = df_corr1[(df_corr1[\"Y_LABEL\"] < cutline) & (df_corr1[\"Y_LABEL\"] > (cutline*-1))]\n",
    "print(f\"상관관계가 낮아서 드랍할 칼럼 개수 : {len(df_corr2.index)}\")\n",
    "df_corr2.sort_values"
   ]
  },
  {
   "cell_type": "code",
   "execution_count": 4593,
   "id": "f87d6718",
   "metadata": {},
   "outputs": [],
   "source": [
    "drop_columns = df_corr2.index.tolist()\n",
    "# drop_columns"
   ]
  },
  {
   "cell_type": "code",
   "execution_count": 4594,
   "id": "f7ad29df",
   "metadata": {},
   "outputs": [
    {
     "name": "stdout",
     "output_type": "stream",
     "text": [
      "드랍하기 전 칼럼 갯수 : 54\n",
      "드랍후 칼럼 갯수 : 35\n"
     ]
    }
   ],
   "source": [
    "print(f\"드랍하기 전 칼럼 갯수 : {len(train.columns)}\")\n",
    "for col in drop_columns:\n",
    "    if col in train.columns:\n",
    "        train.drop(columns = col, axis = 1, inplace = True)\n",
    "    else:\n",
    "        pass\n",
    "print(f\"드랍후 칼럼 갯수 : {len(train.columns)}\")"
   ]
  },
  {
   "cell_type": "code",
   "execution_count": 4595,
   "id": "3f0d6e4c",
   "metadata": {},
   "outputs": [
    {
     "name": "stdout",
     "output_type": "stream",
     "text": [
      "드랍하기 전 칼럼 갯수 : 19\n",
      "드랍후 칼럼 갯수 : 17\n"
     ]
    }
   ],
   "source": [
    "print(f\"드랍하기 전 칼럼 갯수 : {len(test.columns)}\")\n",
    "for col in drop_columns:\n",
    "    if col in test.columns:\n",
    "        test.drop(columns = col, axis = 1, inplace = True)\n",
    "    else:\n",
    "        pass\n",
    "print(f\"드랍후 칼럼 갯수 : {len(test.columns)}\")"
   ]
  },
  {
   "cell_type": "code",
   "execution_count": 4596,
   "id": "7803f54c",
   "metadata": {},
   "outputs": [
    {
     "data": {
      "text/html": [
       "<div>\n",
       "<style scoped>\n",
       "    .dataframe tbody tr th:only-of-type {\n",
       "        vertical-align: middle;\n",
       "    }\n",
       "\n",
       "    .dataframe tbody tr th {\n",
       "        vertical-align: top;\n",
       "    }\n",
       "\n",
       "    .dataframe thead th {\n",
       "        text-align: right;\n",
       "    }\n",
       "</style>\n",
       "<table border=\"1\" class=\"dataframe\">\n",
       "  <thead>\n",
       "    <tr style=\"text-align: right;\">\n",
       "      <th></th>\n",
       "      <th>ANONYMOUS_1</th>\n",
       "      <th>YEAR</th>\n",
       "      <th>ANONYMOUS_2</th>\n",
       "      <th>AG</th>\n",
       "      <th>AL</th>\n",
       "      <th>B</th>\n",
       "      <th>BA</th>\n",
       "      <th>BE</th>\n",
       "      <th>CA</th>\n",
       "      <th>CO</th>\n",
       "      <th>...</th>\n",
       "      <th>PQINDEX</th>\n",
       "      <th>S</th>\n",
       "      <th>SB</th>\n",
       "      <th>SI</th>\n",
       "      <th>SN</th>\n",
       "      <th>TI</th>\n",
       "      <th>V</th>\n",
       "      <th>V40</th>\n",
       "      <th>ZN</th>\n",
       "      <th>Y_LABEL</th>\n",
       "    </tr>\n",
       "  </thead>\n",
       "  <tbody>\n",
       "    <tr>\n",
       "      <th>count</th>\n",
       "      <td>14095.000000</td>\n",
       "      <td>14095.000000</td>\n",
       "      <td>14095.000000</td>\n",
       "      <td>14095.000000</td>\n",
       "      <td>14095.000000</td>\n",
       "      <td>14095.000000</td>\n",
       "      <td>14095.000000</td>\n",
       "      <td>14095.000000</td>\n",
       "      <td>14095.000000</td>\n",
       "      <td>14095.000000</td>\n",
       "      <td>...</td>\n",
       "      <td>14095.000000</td>\n",
       "      <td>14095.000000</td>\n",
       "      <td>14095.000000</td>\n",
       "      <td>14095.000000</td>\n",
       "      <td>14095.000000</td>\n",
       "      <td>14095.000000</td>\n",
       "      <td>14095.000000</td>\n",
       "      <td>14095.000000</td>\n",
       "      <td>14095.000000</td>\n",
       "      <td>14095.000000</td>\n",
       "    </tr>\n",
       "    <tr>\n",
       "      <th>mean</th>\n",
       "      <td>7.838089</td>\n",
       "      <td>2013.652501</td>\n",
       "      <td>5.683069</td>\n",
       "      <td>0.017280</td>\n",
       "      <td>1.227792</td>\n",
       "      <td>2.783313</td>\n",
       "      <td>0.276187</td>\n",
       "      <td>0.003216</td>\n",
       "      <td>1366.757574</td>\n",
       "      <td>0.016475</td>\n",
       "      <td>...</td>\n",
       "      <td>3.962161</td>\n",
       "      <td>12029.318624</td>\n",
       "      <td>0.206442</td>\n",
       "      <td>2.106861</td>\n",
       "      <td>0.340204</td>\n",
       "      <td>0.136156</td>\n",
       "      <td>0.025410</td>\n",
       "      <td>4.620493</td>\n",
       "      <td>588.646825</td>\n",
       "      <td>0.085349</td>\n",
       "    </tr>\n",
       "    <tr>\n",
       "      <th>std</th>\n",
       "      <td>0.584597</td>\n",
       "      <td>3.964758</td>\n",
       "      <td>0.608688</td>\n",
       "      <td>0.112395</td>\n",
       "      <td>1.099629</td>\n",
       "      <td>1.829705</td>\n",
       "      <td>0.560102</td>\n",
       "      <td>0.059087</td>\n",
       "      <td>1481.924727</td>\n",
       "      <td>0.119396</td>\n",
       "      <td>...</td>\n",
       "      <td>1.843818</td>\n",
       "      <td>9325.610196</td>\n",
       "      <td>0.450991</td>\n",
       "      <td>1.250317</td>\n",
       "      <td>0.619161</td>\n",
       "      <td>0.515754</td>\n",
       "      <td>0.164464</td>\n",
       "      <td>0.419648</td>\n",
       "      <td>531.743393</td>\n",
       "      <td>0.279411</td>\n",
       "    </tr>\n",
       "    <tr>\n",
       "      <th>min</th>\n",
       "      <td>6.908755</td>\n",
       "      <td>2007.000000</td>\n",
       "      <td>5.303305</td>\n",
       "      <td>0.000000</td>\n",
       "      <td>0.000000</td>\n",
       "      <td>0.000000</td>\n",
       "      <td>0.000000</td>\n",
       "      <td>0.000000</td>\n",
       "      <td>0.000000</td>\n",
       "      <td>0.000000</td>\n",
       "      <td>...</td>\n",
       "      <td>0.000000</td>\n",
       "      <td>386.000000</td>\n",
       "      <td>0.000000</td>\n",
       "      <td>0.000000</td>\n",
       "      <td>0.000000</td>\n",
       "      <td>0.000000</td>\n",
       "      <td>0.000000</td>\n",
       "      <td>1.360977</td>\n",
       "      <td>0.000000</td>\n",
       "      <td>0.000000</td>\n",
       "    </tr>\n",
       "    <tr>\n",
       "      <th>25%</th>\n",
       "      <td>7.412160</td>\n",
       "      <td>2010.000000</td>\n",
       "      <td>5.303305</td>\n",
       "      <td>0.000000</td>\n",
       "      <td>0.693147</td>\n",
       "      <td>1.386294</td>\n",
       "      <td>0.000000</td>\n",
       "      <td>0.000000</td>\n",
       "      <td>48.000000</td>\n",
       "      <td>0.000000</td>\n",
       "      <td>...</td>\n",
       "      <td>2.564949</td>\n",
       "      <td>4440.500000</td>\n",
       "      <td>0.000000</td>\n",
       "      <td>1.386294</td>\n",
       "      <td>0.000000</td>\n",
       "      <td>0.000000</td>\n",
       "      <td>0.000000</td>\n",
       "      <td>4.287716</td>\n",
       "      <td>37.000000</td>\n",
       "      <td>0.000000</td>\n",
       "    </tr>\n",
       "    <tr>\n",
       "      <th>50%</th>\n",
       "      <td>7.708860</td>\n",
       "      <td>2014.000000</td>\n",
       "      <td>5.303305</td>\n",
       "      <td>0.000000</td>\n",
       "      <td>1.098612</td>\n",
       "      <td>2.484907</td>\n",
       "      <td>0.000000</td>\n",
       "      <td>0.000000</td>\n",
       "      <td>198.000000</td>\n",
       "      <td>0.000000</td>\n",
       "      <td>...</td>\n",
       "      <td>3.401197</td>\n",
       "      <td>8034.000000</td>\n",
       "      <td>0.000000</td>\n",
       "      <td>1.945910</td>\n",
       "      <td>0.000000</td>\n",
       "      <td>0.000000</td>\n",
       "      <td>0.000000</td>\n",
       "      <td>4.721174</td>\n",
       "      <td>520.000000</td>\n",
       "      <td>0.000000</td>\n",
       "    </tr>\n",
       "    <tr>\n",
       "      <th>75%</th>\n",
       "      <td>8.242230</td>\n",
       "      <td>2017.000000</td>\n",
       "      <td>6.018593</td>\n",
       "      <td>0.000000</td>\n",
       "      <td>1.609438</td>\n",
       "      <td>4.709530</td>\n",
       "      <td>0.000000</td>\n",
       "      <td>0.000000</td>\n",
       "      <td>2975.000000</td>\n",
       "      <td>0.000000</td>\n",
       "      <td>...</td>\n",
       "      <td>5.204007</td>\n",
       "      <td>19750.000000</td>\n",
       "      <td>0.000000</td>\n",
       "      <td>2.564949</td>\n",
       "      <td>0.693147</td>\n",
       "      <td>0.000000</td>\n",
       "      <td>0.000000</td>\n",
       "      <td>4.928702</td>\n",
       "      <td>1119.000000</td>\n",
       "      <td>0.000000</td>\n",
       "    </tr>\n",
       "    <tr>\n",
       "      <th>max</th>\n",
       "      <td>12.592871</td>\n",
       "      <td>2022.000000</td>\n",
       "      <td>9.174817</td>\n",
       "      <td>1.386294</td>\n",
       "      <td>8.440528</td>\n",
       "      <td>7.626570</td>\n",
       "      <td>5.379897</td>\n",
       "      <td>2.302585</td>\n",
       "      <td>6609.000000</td>\n",
       "      <td>3.332205</td>\n",
       "      <td>...</td>\n",
       "      <td>10.946622</td>\n",
       "      <td>64160.000000</td>\n",
       "      <td>4.644391</td>\n",
       "      <td>8.605204</td>\n",
       "      <td>5.669881</td>\n",
       "      <td>6.001415</td>\n",
       "      <td>2.890372</td>\n",
       "      <td>7.952087</td>\n",
       "      <td>2132.000000</td>\n",
       "      <td>1.000000</td>\n",
       "    </tr>\n",
       "  </tbody>\n",
       "</table>\n",
       "<p>8 rows × 33 columns</p>\n",
       "</div>"
      ],
      "text/plain": [
       "        ANONYMOUS_1          YEAR   ANONYMOUS_2            AG            AL  \\\n",
       "count  14095.000000  14095.000000  14095.000000  14095.000000  14095.000000   \n",
       "mean       7.838089   2013.652501      5.683069      0.017280      1.227792   \n",
       "std        0.584597      3.964758      0.608688      0.112395      1.099629   \n",
       "min        6.908755   2007.000000      5.303305      0.000000      0.000000   \n",
       "25%        7.412160   2010.000000      5.303305      0.000000      0.693147   \n",
       "50%        7.708860   2014.000000      5.303305      0.000000      1.098612   \n",
       "75%        8.242230   2017.000000      6.018593      0.000000      1.609438   \n",
       "max       12.592871   2022.000000      9.174817      1.386294      8.440528   \n",
       "\n",
       "                  B            BA            BE            CA            CO  \\\n",
       "count  14095.000000  14095.000000  14095.000000  14095.000000  14095.000000   \n",
       "mean       2.783313      0.276187      0.003216   1366.757574      0.016475   \n",
       "std        1.829705      0.560102      0.059087   1481.924727      0.119396   \n",
       "min        0.000000      0.000000      0.000000      0.000000      0.000000   \n",
       "25%        1.386294      0.000000      0.000000     48.000000      0.000000   \n",
       "50%        2.484907      0.000000      0.000000    198.000000      0.000000   \n",
       "75%        4.709530      0.000000      0.000000   2975.000000      0.000000   \n",
       "max        7.626570      5.379897      2.302585   6609.000000      3.332205   \n",
       "\n",
       "       ...       PQINDEX             S            SB            SI  \\\n",
       "count  ...  14095.000000  14095.000000  14095.000000  14095.000000   \n",
       "mean   ...      3.962161  12029.318624      0.206442      2.106861   \n",
       "std    ...      1.843818   9325.610196      0.450991      1.250317   \n",
       "min    ...      0.000000    386.000000      0.000000      0.000000   \n",
       "25%    ...      2.564949   4440.500000      0.000000      1.386294   \n",
       "50%    ...      3.401197   8034.000000      0.000000      1.945910   \n",
       "75%    ...      5.204007  19750.000000      0.000000      2.564949   \n",
       "max    ...     10.946622  64160.000000      4.644391      8.605204   \n",
       "\n",
       "                 SN            TI             V           V40            ZN  \\\n",
       "count  14095.000000  14095.000000  14095.000000  14095.000000  14095.000000   \n",
       "mean       0.340204      0.136156      0.025410      4.620493    588.646825   \n",
       "std        0.619161      0.515754      0.164464      0.419648    531.743393   \n",
       "min        0.000000      0.000000      0.000000      1.360977      0.000000   \n",
       "25%        0.000000      0.000000      0.000000      4.287716     37.000000   \n",
       "50%        0.000000      0.000000      0.000000      4.721174    520.000000   \n",
       "75%        0.693147      0.000000      0.000000      4.928702   1119.000000   \n",
       "max        5.669881      6.001415      2.890372      7.952087   2132.000000   \n",
       "\n",
       "            Y_LABEL  \n",
       "count  14095.000000  \n",
       "mean       0.085349  \n",
       "std        0.279411  \n",
       "min        0.000000  \n",
       "25%        0.000000  \n",
       "50%        0.000000  \n",
       "75%        0.000000  \n",
       "max        1.000000  \n",
       "\n",
       "[8 rows x 33 columns]"
      ]
     },
     "execution_count": 4596,
     "metadata": {},
     "output_type": "execute_result"
    }
   ],
   "source": [
    "train.describe()"
   ]
  },
  {
   "cell_type": "markdown",
   "id": "24c09e44",
   "metadata": {},
   "source": [
    "### 수치형 데이터 이상치 처리"
   ]
  },
  {
   "cell_type": "code",
   "execution_count": 4597,
   "id": "dffe00a2",
   "metadata": {},
   "outputs": [],
   "source": [
    "not_number_features = ['ID','COMPONENT_ARBITRARY', 'YEAR', \"Y_LABEL\"]"
   ]
  },
  {
   "cell_type": "code",
   "execution_count": 4598,
   "id": "bb53ff14",
   "metadata": {},
   "outputs": [],
   "source": [
    "train.drop(columns = \"ID\", axis = 1, inplace = True)\n",
    "test.drop(columns = \"ID\", axis = 1, inplace = True)"
   ]
  },
  {
   "cell_type": "code",
   "execution_count": 4599,
   "id": "4cc30658",
   "metadata": {},
   "outputs": [],
   "source": [
    "# #이상치 인덱스 확인 함수\n",
    "# def get_outlier(df=None, col=None, weight=1.5):\n",
    "#     target = df[col]\n",
    "#     quantile_25 = np.quantile(target, 0.25)\n",
    "#     quantile_75 = np.quantile(target, 0.75)\n",
    "#     iqr = quantile_75 - quantile_25\n",
    "#     iqr_weight = iqr * weight\n",
    "#     lowest_val = quantile_25 - iqr_weight\n",
    "#     highest_val = quantile_75 + iqr_weight\n",
    "#     outlier_index = target[(target < lowest_val) | (target > highest_val)].index\n",
    "#     return outlier_index\n",
    "    "
   ]
  },
  {
   "cell_type": "code",
   "execution_count": 4600,
   "id": "3c061ab6",
   "metadata": {},
   "outputs": [],
   "source": [
    "# get_outlier(test, \"CO\")"
   ]
  },
  {
   "cell_type": "code",
   "execution_count": 4601,
   "id": "b2955c19",
   "metadata": {},
   "outputs": [],
   "source": [
    "# 이상치칼럼 = []\n",
    "# for target1 in train.columns:\n",
    "# #     print(target1)\n",
    "#     huddle = 0.3  # 허들이상의 상관관계를 가진 칼럼에 대해서만 이상치 드랍\n",
    "    \n",
    "#     if target1 not in not_number_features and ((df_corr1.loc[[target1]].values[0][0] >= huddle) or (df_corr1.loc[[target1]].values[0][0] <= (huddle*-1))):\n",
    "#         print(target1)\n",
    "#         이상치칼럼.append(target1)\n",
    "        \n",
    "#         outlier_index = get_outlier(train, target1)\n",
    "#         print(f\"드랍대상 아웃라이어 인덱스 갯수 : {len(outlier_index)}\")\n",
    "        \n",
    "#         train.drop(index=outlier_index, inplace=True)\n",
    "\n",
    "#     else:\n",
    "#         pass\n",
    "    \n",
    "# print(이상치칼럼)"
   ]
  },
  {
   "cell_type": "code",
   "execution_count": 4602,
   "id": "efec8218",
   "metadata": {},
   "outputs": [],
   "source": [
    "# train.describe()"
   ]
  },
  {
   "cell_type": "code",
   "execution_count": 4603,
   "id": "db97ae38",
   "metadata": {},
   "outputs": [],
   "source": [
    "# test.describe()"
   ]
  },
  {
   "cell_type": "code",
   "execution_count": 4604,
   "id": "cd82efa5",
   "metadata": {},
   "outputs": [],
   "source": [
    "# if target1 in 이상치칼럼 :\n",
    "#     print(target1)\n",
    "#     outlier_index2 = get_outlier(test, target1)\n",
    "#     print(f\"드랍대상 아웃라이어 인덱스 갯수 : {len(outlier_index2)}\")\n",
    "\n",
    "#     test.drop(index=outlier_index, inplace=True)\n",
    "# else:\n",
    "#     pass"
   ]
  },
  {
   "cell_type": "markdown",
   "id": "34d27220",
   "metadata": {},
   "source": [
    "### train, val 데이터셋 분리"
   ]
  },
  {
   "cell_type": "code",
   "execution_count": 4605,
   "id": "381106d9",
   "metadata": {},
   "outputs": [],
   "source": [
    "all_X = train.drop(['Y_LABEL'], axis = 1)\n",
    "all_y = train['Y_LABEL']\n",
    "# test = test.drop(['ID'], axis = 1)\n",
    "train_X, val_X, train_y, val_y = train_test_split(all_X, all_y, test_size=0.2, random_state=CFG['SEED'], stratify=all_y)"
   ]
  },
  {
   "cell_type": "code",
   "execution_count": 4606,
   "id": "67c88b9f",
   "metadata": {},
   "outputs": [
    {
     "data": {
      "text/html": [
       "<div>\n",
       "<style scoped>\n",
       "    .dataframe tbody tr th:only-of-type {\n",
       "        vertical-align: middle;\n",
       "    }\n",
       "\n",
       "    .dataframe tbody tr th {\n",
       "        vertical-align: top;\n",
       "    }\n",
       "\n",
       "    .dataframe thead th {\n",
       "        text-align: right;\n",
       "    }\n",
       "</style>\n",
       "<table border=\"1\" class=\"dataframe\">\n",
       "  <thead>\n",
       "    <tr style=\"text-align: right;\">\n",
       "      <th></th>\n",
       "      <th>COMPONENT_ARBITRARY</th>\n",
       "      <th>ANONYMOUS_1</th>\n",
       "      <th>YEAR</th>\n",
       "      <th>ANONYMOUS_2</th>\n",
       "      <th>AG</th>\n",
       "      <th>AL</th>\n",
       "      <th>B</th>\n",
       "      <th>BA</th>\n",
       "      <th>BE</th>\n",
       "      <th>CA</th>\n",
       "      <th>...</th>\n",
       "      <th>NI</th>\n",
       "      <th>PQINDEX</th>\n",
       "      <th>S</th>\n",
       "      <th>SB</th>\n",
       "      <th>SI</th>\n",
       "      <th>SN</th>\n",
       "      <th>TI</th>\n",
       "      <th>V</th>\n",
       "      <th>V40</th>\n",
       "      <th>ZN</th>\n",
       "    </tr>\n",
       "  </thead>\n",
       "  <tbody>\n",
       "    <tr>\n",
       "      <th>6216</th>\n",
       "      <td>COMPONENT3</td>\n",
       "      <td>8.153925</td>\n",
       "      <td>2016</td>\n",
       "      <td>5.303305</td>\n",
       "      <td>0.0</td>\n",
       "      <td>1.609438</td>\n",
       "      <td>4.700480</td>\n",
       "      <td>0.0</td>\n",
       "      <td>0.0</td>\n",
       "      <td>3133</td>\n",
       "      <td>...</td>\n",
       "      <td>0.0</td>\n",
       "      <td>6.614726</td>\n",
       "      <td>34000</td>\n",
       "      <td>0.0</td>\n",
       "      <td>2.639057</td>\n",
       "      <td>0.0</td>\n",
       "      <td>0.0</td>\n",
       "      <td>0.0</td>\n",
       "      <td>4.965638</td>\n",
       "      <td>20</td>\n",
       "    </tr>\n",
       "    <tr>\n",
       "      <th>13544</th>\n",
       "      <td>COMPONENT3</td>\n",
       "      <td>8.657651</td>\n",
       "      <td>2014</td>\n",
       "      <td>5.303305</td>\n",
       "      <td>0.0</td>\n",
       "      <td>0.000000</td>\n",
       "      <td>3.044522</td>\n",
       "      <td>0.0</td>\n",
       "      <td>0.0</td>\n",
       "      <td>188</td>\n",
       "      <td>...</td>\n",
       "      <td>0.0</td>\n",
       "      <td>7.270313</td>\n",
       "      <td>19430</td>\n",
       "      <td>0.0</td>\n",
       "      <td>1.791759</td>\n",
       "      <td>0.0</td>\n",
       "      <td>0.0</td>\n",
       "      <td>0.0</td>\n",
       "      <td>4.799914</td>\n",
       "      <td>24</td>\n",
       "    </tr>\n",
       "  </tbody>\n",
       "</table>\n",
       "<p>2 rows × 33 columns</p>\n",
       "</div>"
      ],
      "text/plain": [
       "      COMPONENT_ARBITRARY  ANONYMOUS_1  YEAR  ANONYMOUS_2   AG        AL  \\\n",
       "6216           COMPONENT3     8.153925  2016     5.303305  0.0  1.609438   \n",
       "13544          COMPONENT3     8.657651  2014     5.303305  0.0  0.000000   \n",
       "\n",
       "              B   BA   BE    CA  ...   NI   PQINDEX      S   SB        SI  \\\n",
       "6216   4.700480  0.0  0.0  3133  ...  0.0  6.614726  34000  0.0  2.639057   \n",
       "13544  3.044522  0.0  0.0   188  ...  0.0  7.270313  19430  0.0  1.791759   \n",
       "\n",
       "        SN   TI    V       V40  ZN  \n",
       "6216   0.0  0.0  0.0  4.965638  20  \n",
       "13544  0.0  0.0  0.0  4.799914  24  \n",
       "\n",
       "[2 rows x 33 columns]"
      ]
     },
     "execution_count": 4606,
     "metadata": {},
     "output_type": "execute_result"
    }
   ],
   "source": [
    "train_X.head(2)"
   ]
  },
  {
   "cell_type": "code",
   "execution_count": 4607,
   "id": "a33a9597",
   "metadata": {},
   "outputs": [
    {
     "data": {
      "text/html": [
       "<div>\n",
       "<style scoped>\n",
       "    .dataframe tbody tr th:only-of-type {\n",
       "        vertical-align: middle;\n",
       "    }\n",
       "\n",
       "    .dataframe tbody tr th {\n",
       "        vertical-align: top;\n",
       "    }\n",
       "\n",
       "    .dataframe thead th {\n",
       "        text-align: right;\n",
       "    }\n",
       "</style>\n",
       "<table border=\"1\" class=\"dataframe\">\n",
       "  <thead>\n",
       "    <tr style=\"text-align: right;\">\n",
       "      <th></th>\n",
       "      <th>COMPONENT_ARBITRARY</th>\n",
       "      <th>ANONYMOUS_1</th>\n",
       "      <th>YEAR</th>\n",
       "      <th>ANONYMOUS_2</th>\n",
       "      <th>AG</th>\n",
       "      <th>AL</th>\n",
       "      <th>B</th>\n",
       "      <th>BA</th>\n",
       "      <th>BE</th>\n",
       "      <th>CA</th>\n",
       "      <th>...</th>\n",
       "      <th>NI</th>\n",
       "      <th>PQINDEX</th>\n",
       "      <th>S</th>\n",
       "      <th>SB</th>\n",
       "      <th>SI</th>\n",
       "      <th>SN</th>\n",
       "      <th>TI</th>\n",
       "      <th>V</th>\n",
       "      <th>V40</th>\n",
       "      <th>ZN</th>\n",
       "    </tr>\n",
       "  </thead>\n",
       "  <tbody>\n",
       "    <tr>\n",
       "      <th>13107</th>\n",
       "      <td>COMPONENT3</td>\n",
       "      <td>7.643004</td>\n",
       "      <td>2012</td>\n",
       "      <td>5.303305</td>\n",
       "      <td>0.0</td>\n",
       "      <td>0.693147</td>\n",
       "      <td>3.135494</td>\n",
       "      <td>0.0</td>\n",
       "      <td>0.0</td>\n",
       "      <td>14</td>\n",
       "      <td>...</td>\n",
       "      <td>0.0</td>\n",
       "      <td>4.744932</td>\n",
       "      <td>28210</td>\n",
       "      <td>0.0</td>\n",
       "      <td>2.079442</td>\n",
       "      <td>0.0</td>\n",
       "      <td>0.0</td>\n",
       "      <td>0.0</td>\n",
       "      <td>4.995183</td>\n",
       "      <td>45</td>\n",
       "    </tr>\n",
       "    <tr>\n",
       "      <th>731</th>\n",
       "      <td>COMPONENT3</td>\n",
       "      <td>7.276556</td>\n",
       "      <td>2018</td>\n",
       "      <td>5.929589</td>\n",
       "      <td>0.0</td>\n",
       "      <td>1.386294</td>\n",
       "      <td>0.000000</td>\n",
       "      <td>0.0</td>\n",
       "      <td>0.0</td>\n",
       "      <td>3471</td>\n",
       "      <td>...</td>\n",
       "      <td>0.0</td>\n",
       "      <td>5.505332</td>\n",
       "      <td>18650</td>\n",
       "      <td>0.0</td>\n",
       "      <td>1.098612</td>\n",
       "      <td>0.0</td>\n",
       "      <td>0.0</td>\n",
       "      <td>0.0</td>\n",
       "      <td>4.916325</td>\n",
       "      <td>51</td>\n",
       "    </tr>\n",
       "  </tbody>\n",
       "</table>\n",
       "<p>2 rows × 33 columns</p>\n",
       "</div>"
      ],
      "text/plain": [
       "      COMPONENT_ARBITRARY  ANONYMOUS_1  YEAR  ANONYMOUS_2   AG        AL  \\\n",
       "13107          COMPONENT3     7.643004  2012     5.303305  0.0  0.693147   \n",
       "731            COMPONENT3     7.276556  2018     5.929589  0.0  1.386294   \n",
       "\n",
       "              B   BA   BE    CA  ...   NI   PQINDEX      S   SB        SI  \\\n",
       "13107  3.135494  0.0  0.0    14  ...  0.0  4.744932  28210  0.0  2.079442   \n",
       "731    0.000000  0.0  0.0  3471  ...  0.0  5.505332  18650  0.0  1.098612   \n",
       "\n",
       "        SN   TI    V       V40  ZN  \n",
       "13107  0.0  0.0  0.0  4.995183  45  \n",
       "731    0.0  0.0  0.0  4.916325  51  \n",
       "\n",
       "[2 rows x 33 columns]"
      ]
     },
     "execution_count": 4607,
     "metadata": {},
     "output_type": "execute_result"
    }
   ],
   "source": [
    "val_X.head(2)"
   ]
  },
  {
   "cell_type": "markdown",
   "id": "61216472",
   "metadata": {},
   "source": [
    "### Scaling"
   ]
  },
  {
   "cell_type": "code",
   "execution_count": 4608,
   "id": "fa894923",
   "metadata": {},
   "outputs": [],
   "source": [
    "categorical_features = ['COMPONENT_ARBITRARY', 'YEAR']"
   ]
  },
  {
   "cell_type": "code",
   "execution_count": 4609,
   "id": "ac7a8747",
   "metadata": {},
   "outputs": [
    {
     "data": {
      "text/plain": [
       "<AxesSubplot:>"
      ]
     },
     "execution_count": 4609,
     "metadata": {},
     "output_type": "execute_result"
    },
    {
     "data": {
      "image/png": "[encoded data removed]",
      "text/plain": [
       "<Figure size 432x288 with 1 Axes>"
      ]
     },
     "metadata": {
      "needs_background": "light"
     },
     "output_type": "display_data"
    }
   ],
   "source": [
    "sns.boxplot(data=train_X['CA'])"
   ]
  },
  {
   "cell_type": "code",
   "execution_count": 4610,
   "id": "ddc2df5c",
   "metadata": {},
   "outputs": [
    {
     "data": {
      "text/html": [
       "<div>\n",
       "<style scoped>\n",
       "    .dataframe tbody tr th:only-of-type {\n",
       "        vertical-align: middle;\n",
       "    }\n",
       "\n",
       "    .dataframe tbody tr th {\n",
       "        vertical-align: top;\n",
       "    }\n",
       "\n",
       "    .dataframe thead th {\n",
       "        text-align: right;\n",
       "    }\n",
       "</style>\n",
       "<table border=\"1\" class=\"dataframe\">\n",
       "  <thead>\n",
       "    <tr style=\"text-align: right;\">\n",
       "      <th></th>\n",
       "      <th>COMPONENT_ARBITRARY</th>\n",
       "      <th>ANONYMOUS_1</th>\n",
       "      <th>YEAR</th>\n",
       "      <th>ANONYMOUS_2</th>\n",
       "      <th>AG</th>\n",
       "      <th>AL</th>\n",
       "      <th>B</th>\n",
       "      <th>BA</th>\n",
       "      <th>BE</th>\n",
       "      <th>CA</th>\n",
       "      <th>...</th>\n",
       "      <th>NI</th>\n",
       "      <th>PQINDEX</th>\n",
       "      <th>S</th>\n",
       "      <th>SB</th>\n",
       "      <th>SI</th>\n",
       "      <th>SN</th>\n",
       "      <th>TI</th>\n",
       "      <th>V</th>\n",
       "      <th>V40</th>\n",
       "      <th>ZN</th>\n",
       "    </tr>\n",
       "  </thead>\n",
       "  <tbody>\n",
       "    <tr>\n",
       "      <th>6216</th>\n",
       "      <td>COMPONENT3</td>\n",
       "      <td>0.530394</td>\n",
       "      <td>2016</td>\n",
       "      <td>-0.623912</td>\n",
       "      <td>-0.153432</td>\n",
       "      <td>0.351080</td>\n",
       "      <td>1.044835</td>\n",
       "      <td>-0.492425</td>\n",
       "      <td>-0.054682</td>\n",
       "      <td>1.184617</td>\n",
       "      <td>...</td>\n",
       "      <td>-0.440887</td>\n",
       "      <td>1.446119</td>\n",
       "      <td>2.350677</td>\n",
       "      <td>-0.461166</td>\n",
       "      <td>0.425958</td>\n",
       "      <td>-0.551161</td>\n",
       "      <td>-0.26383</td>\n",
       "      <td>-0.152986</td>\n",
       "      <td>0.817716</td>\n",
       "      <td>-1.069154</td>\n",
       "    </tr>\n",
       "    <tr>\n",
       "      <th>13544</th>\n",
       "      <td>COMPONENT3</td>\n",
       "      <td>1.387489</td>\n",
       "      <td>2014</td>\n",
       "      <td>-0.623912</td>\n",
       "      <td>-0.153432</td>\n",
       "      <td>-1.126685</td>\n",
       "      <td>0.140664</td>\n",
       "      <td>-0.492425</td>\n",
       "      <td>-0.054682</td>\n",
       "      <td>-0.797281</td>\n",
       "      <td>...</td>\n",
       "      <td>-0.440887</td>\n",
       "      <td>1.802426</td>\n",
       "      <td>0.791533</td>\n",
       "      <td>-0.461166</td>\n",
       "      <td>-0.252085</td>\n",
       "      <td>-0.551161</td>\n",
       "      <td>-0.26383</td>\n",
       "      <td>-0.152986</td>\n",
       "      <td>0.423663</td>\n",
       "      <td>-1.061642</td>\n",
       "    </tr>\n",
       "  </tbody>\n",
       "</table>\n",
       "<p>2 rows × 33 columns</p>\n",
       "</div>"
      ],
      "text/plain": [
       "      COMPONENT_ARBITRARY  ANONYMOUS_1  YEAR  ANONYMOUS_2        AG        AL  \\\n",
       "6216           COMPONENT3     0.530394  2016    -0.623912 -0.153432  0.351080   \n",
       "13544          COMPONENT3     1.387489  2014    -0.623912 -0.153432 -1.126685   \n",
       "\n",
       "              B        BA        BE        CA  ...        NI   PQINDEX  \\\n",
       "6216   1.044835 -0.492425 -0.054682  1.184617  ... -0.440887  1.446119   \n",
       "13544  0.140664 -0.492425 -0.054682 -0.797281  ... -0.440887  1.802426   \n",
       "\n",
       "              S        SB        SI        SN       TI         V       V40  \\\n",
       "6216   2.350677 -0.461166  0.425958 -0.551161 -0.26383 -0.152986  0.817716   \n",
       "13544  0.791533 -0.461166 -0.252085 -0.551161 -0.26383 -0.152986  0.423663   \n",
       "\n",
       "             ZN  \n",
       "6216  -1.069154  \n",
       "13544 -1.061642  \n",
       "\n",
       "[2 rows x 33 columns]"
      ]
     },
     "execution_count": 4610,
     "metadata": {},
     "output_type": "execute_result"
    }
   ],
   "source": [
    "def get_values(value):\n",
    "    return value.values.reshape(-1, 1)\n",
    "\n",
    "for col in train_X.columns:\n",
    "    if col not in categorical_features:   # 범주형 칼럼이 아니라면 표준화\n",
    "        scaler = StandardScaler()\n",
    "        train_X[col] = scaler.fit_transform(get_values(train_X[col]))\n",
    "        val_X[col] = scaler.transform(get_values(val_X[col]))\n",
    "        if col in test.columns:\n",
    "            test[col] = scaler.transform(get_values(test[col]))\n",
    "            \n",
    "train_X.head(2)"
   ]
  },
  {
   "cell_type": "code",
   "execution_count": 4611,
   "id": "976a435b",
   "metadata": {},
   "outputs": [],
   "source": [
    "# target = \"AL\"\n",
    "# 정상 = train_X[train_X[\"Y_LABEL\"] == 0][target]\n",
    "# 이상= train_X[train_X[\"Y_LABEL\"] == 1][target]\n",
    "# 정상 = pd.DataFrame(정상)\n",
    "# plt.figure(figsize = (12,6))\n",
    "# sns.distplot(정상,bins = 15, color=\"red\")\n",
    "# sns.distplot(이상,bins = 15, color=\"green\")"
   ]
  },
  {
   "cell_type": "code",
   "execution_count": 4612,
   "id": "ac2420d3",
   "metadata": {},
   "outputs": [
    {
     "data": {
      "text/plain": [
       "<AxesSubplot:>"
      ]
     },
     "execution_count": 4612,
     "metadata": {},
     "output_type": "execute_result"
    },
    {
     "data": {
      "image/png": "[encoded data removed]",
      "text/plain": [
       "<Figure size 432x288 with 1 Axes>"
      ]
     },
     "metadata": {
      "needs_background": "light"
     },
     "output_type": "display_data"
    }
   ],
   "source": [
    "sns.boxplot(data=train_X['CA'])"
   ]
  },
  {
   "cell_type": "markdown",
   "id": "aceb9d17",
   "metadata": {},
   "source": [
    "### OneHotEncoding for Categorical Data"
   ]
  },
  {
   "cell_type": "code",
   "execution_count": 4613,
   "id": "f96688d5",
   "metadata": {},
   "outputs": [],
   "source": [
    "def onehot_encode(df, target_list):\n",
    "    ct = ColumnTransformer(transformers=[('encoder', OneHotEncoder(drop='first', sparse=False), [0, 2])], remainder='passthrough')\n",
    "    df = ct.fit_transform(df)\n",
    "    df = pd.DataFrame(df)\n",
    "    new_name = ct.get_feature_names()\n",
    "    df.columns = new_name\n",
    "    return df"
   ]
  },
  {
   "cell_type": "code",
   "execution_count": 4614,
   "id": "23f9b0ed",
   "metadata": {
    "scrolled": true
   },
   "outputs": [
    {
     "data": {
      "text/html": [
       "<div>\n",
       "<style scoped>\n",
       "    .dataframe tbody tr th:only-of-type {\n",
       "        vertical-align: middle;\n",
       "    }\n",
       "\n",
       "    .dataframe tbody tr th {\n",
       "        vertical-align: top;\n",
       "    }\n",
       "\n",
       "    .dataframe thead th {\n",
       "        text-align: right;\n",
       "    }\n",
       "</style>\n",
       "<table border=\"1\" class=\"dataframe\">\n",
       "  <thead>\n",
       "    <tr style=\"text-align: right;\">\n",
       "      <th></th>\n",
       "      <th>encoder__x0_COMPONENT2</th>\n",
       "      <th>encoder__x0_COMPONENT3</th>\n",
       "      <th>encoder__x0_COMPONENT4</th>\n",
       "      <th>encoder__x1_2008</th>\n",
       "      <th>encoder__x1_2009</th>\n",
       "      <th>encoder__x1_2010</th>\n",
       "      <th>encoder__x1_2011</th>\n",
       "      <th>encoder__x1_2012</th>\n",
       "      <th>encoder__x1_2013</th>\n",
       "      <th>encoder__x1_2014</th>\n",
       "      <th>...</th>\n",
       "      <th>NI</th>\n",
       "      <th>PQINDEX</th>\n",
       "      <th>S</th>\n",
       "      <th>SB</th>\n",
       "      <th>SI</th>\n",
       "      <th>SN</th>\n",
       "      <th>TI</th>\n",
       "      <th>V</th>\n",
       "      <th>V40</th>\n",
       "      <th>ZN</th>\n",
       "    </tr>\n",
       "  </thead>\n",
       "  <tbody>\n",
       "    <tr>\n",
       "      <th>0</th>\n",
       "      <td>0.0</td>\n",
       "      <td>1.0</td>\n",
       "      <td>0.0</td>\n",
       "      <td>0.0</td>\n",
       "      <td>0.0</td>\n",
       "      <td>0.0</td>\n",
       "      <td>0.0</td>\n",
       "      <td>0.0</td>\n",
       "      <td>0.0</td>\n",
       "      <td>0.0</td>\n",
       "      <td>...</td>\n",
       "      <td>-0.440887</td>\n",
       "      <td>1.446119</td>\n",
       "      <td>2.350677</td>\n",
       "      <td>-0.461166</td>\n",
       "      <td>0.425958</td>\n",
       "      <td>-0.551161</td>\n",
       "      <td>-0.26383</td>\n",
       "      <td>-0.152986</td>\n",
       "      <td>0.817716</td>\n",
       "      <td>-1.069154</td>\n",
       "    </tr>\n",
       "    <tr>\n",
       "      <th>1</th>\n",
       "      <td>0.0</td>\n",
       "      <td>1.0</td>\n",
       "      <td>0.0</td>\n",
       "      <td>0.0</td>\n",
       "      <td>0.0</td>\n",
       "      <td>0.0</td>\n",
       "      <td>0.0</td>\n",
       "      <td>0.0</td>\n",
       "      <td>0.0</td>\n",
       "      <td>1.0</td>\n",
       "      <td>...</td>\n",
       "      <td>-0.440887</td>\n",
       "      <td>1.802426</td>\n",
       "      <td>0.791533</td>\n",
       "      <td>-0.461166</td>\n",
       "      <td>-0.252085</td>\n",
       "      <td>-0.551161</td>\n",
       "      <td>-0.26383</td>\n",
       "      <td>-0.152986</td>\n",
       "      <td>0.423663</td>\n",
       "      <td>-1.061642</td>\n",
       "    </tr>\n",
       "    <tr>\n",
       "      <th>2</th>\n",
       "      <td>0.0</td>\n",
       "      <td>0.0</td>\n",
       "      <td>0.0</td>\n",
       "      <td>0.0</td>\n",
       "      <td>0.0</td>\n",
       "      <td>0.0</td>\n",
       "      <td>0.0</td>\n",
       "      <td>0.0</td>\n",
       "      <td>0.0</td>\n",
       "      <td>0.0</td>\n",
       "      <td>...</td>\n",
       "      <td>-0.440887</td>\n",
       "      <td>-1.018774</td>\n",
       "      <td>-0.968471</td>\n",
       "      <td>1.987228</td>\n",
       "      <td>-0.576555</td>\n",
       "      <td>-0.551161</td>\n",
       "      <td>-0.26383</td>\n",
       "      <td>-0.152986</td>\n",
       "      <td>-0.060891</td>\n",
       "      <td>1.055072</td>\n",
       "    </tr>\n",
       "    <tr>\n",
       "      <th>3</th>\n",
       "      <td>0.0</td>\n",
       "      <td>1.0</td>\n",
       "      <td>0.0</td>\n",
       "      <td>0.0</td>\n",
       "      <td>0.0</td>\n",
       "      <td>0.0</td>\n",
       "      <td>0.0</td>\n",
       "      <td>0.0</td>\n",
       "      <td>0.0</td>\n",
       "      <td>0.0</td>\n",
       "      <td>...</td>\n",
       "      <td>5.914477</td>\n",
       "      <td>1.329558</td>\n",
       "      <td>-0.889818</td>\n",
       "      <td>-0.461166</td>\n",
       "      <td>-0.252085</td>\n",
       "      <td>-0.551161</td>\n",
       "      <td>-0.26383</td>\n",
       "      <td>-0.152986</td>\n",
       "      <td>0.327820</td>\n",
       "      <td>-0.261535</td>\n",
       "    </tr>\n",
       "    <tr>\n",
       "      <th>4</th>\n",
       "      <td>0.0</td>\n",
       "      <td>0.0</td>\n",
       "      <td>0.0</td>\n",
       "      <td>1.0</td>\n",
       "      <td>0.0</td>\n",
       "      <td>0.0</td>\n",
       "      <td>0.0</td>\n",
       "      <td>0.0</td>\n",
       "      <td>0.0</td>\n",
       "      <td>0.0</td>\n",
       "      <td>...</td>\n",
       "      <td>-0.440887</td>\n",
       "      <td>-1.772215</td>\n",
       "      <td>-0.546207</td>\n",
       "      <td>-0.461166</td>\n",
       "      <td>0.072385</td>\n",
       "      <td>0.578497</td>\n",
       "      <td>-0.26383</td>\n",
       "      <td>-0.152986</td>\n",
       "      <td>0.460558</td>\n",
       "      <td>1.083244</td>\n",
       "    </tr>\n",
       "    <tr>\n",
       "      <th>...</th>\n",
       "      <td>...</td>\n",
       "      <td>...</td>\n",
       "      <td>...</td>\n",
       "      <td>...</td>\n",
       "      <td>...</td>\n",
       "      <td>...</td>\n",
       "      <td>...</td>\n",
       "      <td>...</td>\n",
       "      <td>...</td>\n",
       "      <td>...</td>\n",
       "      <td>...</td>\n",
       "      <td>...</td>\n",
       "      <td>...</td>\n",
       "      <td>...</td>\n",
       "      <td>...</td>\n",
       "      <td>...</td>\n",
       "      <td>...</td>\n",
       "      <td>...</td>\n",
       "      <td>...</td>\n",
       "      <td>...</td>\n",
       "      <td>...</td>\n",
       "    </tr>\n",
       "    <tr>\n",
       "      <th>11271</th>\n",
       "      <td>0.0</td>\n",
       "      <td>1.0</td>\n",
       "      <td>0.0</td>\n",
       "      <td>0.0</td>\n",
       "      <td>0.0</td>\n",
       "      <td>0.0</td>\n",
       "      <td>0.0</td>\n",
       "      <td>0.0</td>\n",
       "      <td>0.0</td>\n",
       "      <td>0.0</td>\n",
       "      <td>...</td>\n",
       "      <td>-0.440887</td>\n",
       "      <td>0.840958</td>\n",
       "      <td>1.729695</td>\n",
       "      <td>1.083599</td>\n",
       "      <td>-0.021870</td>\n",
       "      <td>2.620189</td>\n",
       "      <td>-0.26383</td>\n",
       "      <td>-0.152986</td>\n",
       "      <td>0.873435</td>\n",
       "      <td>-0.868189</td>\n",
       "    </tr>\n",
       "    <tr>\n",
       "      <th>11272</th>\n",
       "      <td>0.0</td>\n",
       "      <td>1.0</td>\n",
       "      <td>0.0</td>\n",
       "      <td>0.0</td>\n",
       "      <td>0.0</td>\n",
       "      <td>0.0</td>\n",
       "      <td>0.0</td>\n",
       "      <td>0.0</td>\n",
       "      <td>0.0</td>\n",
       "      <td>1.0</td>\n",
       "      <td>...</td>\n",
       "      <td>-0.440887</td>\n",
       "      <td>1.506723</td>\n",
       "      <td>0.381682</td>\n",
       "      <td>-0.461166</td>\n",
       "      <td>0.670337</td>\n",
       "      <td>-0.551161</td>\n",
       "      <td>-0.26383</td>\n",
       "      <td>-0.152986</td>\n",
       "      <td>0.633327</td>\n",
       "      <td>-1.027834</td>\n",
       "    </tr>\n",
       "    <tr>\n",
       "      <th>11273</th>\n",
       "      <td>0.0</td>\n",
       "      <td>0.0</td>\n",
       "      <td>0.0</td>\n",
       "      <td>0.0</td>\n",
       "      <td>0.0</td>\n",
       "      <td>0.0</td>\n",
       "      <td>0.0</td>\n",
       "      <td>1.0</td>\n",
       "      <td>0.0</td>\n",
       "      <td>0.0</td>\n",
       "      <td>...</td>\n",
       "      <td>-0.440887</td>\n",
       "      <td>-0.468977</td>\n",
       "      <td>-0.061342</td>\n",
       "      <td>-0.461166</td>\n",
       "      <td>-0.576555</td>\n",
       "      <td>0.578497</td>\n",
       "      <td>-0.26383</td>\n",
       "      <td>-0.152986</td>\n",
       "      <td>-0.386983</td>\n",
       "      <td>1.090757</td>\n",
       "    </tr>\n",
       "    <tr>\n",
       "      <th>11274</th>\n",
       "      <td>0.0</td>\n",
       "      <td>1.0</td>\n",
       "      <td>0.0</td>\n",
       "      <td>0.0</td>\n",
       "      <td>0.0</td>\n",
       "      <td>0.0</td>\n",
       "      <td>0.0</td>\n",
       "      <td>0.0</td>\n",
       "      <td>0.0</td>\n",
       "      <td>0.0</td>\n",
       "      <td>...</td>\n",
       "      <td>-0.440887</td>\n",
       "      <td>0.822915</td>\n",
       "      <td>0.002864</td>\n",
       "      <td>-0.461166</td>\n",
       "      <td>0.750428</td>\n",
       "      <td>-0.551161</td>\n",
       "      <td>-0.26383</td>\n",
       "      <td>-0.152986</td>\n",
       "      <td>0.904012</td>\n",
       "      <td>-1.080423</td>\n",
       "    </tr>\n",
       "    <tr>\n",
       "      <th>11275</th>\n",
       "      <td>0.0</td>\n",
       "      <td>0.0</td>\n",
       "      <td>1.0</td>\n",
       "      <td>0.0</td>\n",
       "      <td>0.0</td>\n",
       "      <td>0.0</td>\n",
       "      <td>0.0</td>\n",
       "      <td>0.0</td>\n",
       "      <td>1.0</td>\n",
       "      <td>0.0</td>\n",
       "      <td>...</td>\n",
       "      <td>-0.440887</td>\n",
       "      <td>-0.186428</td>\n",
       "      <td>-0.041010</td>\n",
       "      <td>-0.461166</td>\n",
       "      <td>0.532815</td>\n",
       "      <td>-0.551161</td>\n",
       "      <td>-0.26383</td>\n",
       "      <td>-0.152986</td>\n",
       "      <td>-0.777953</td>\n",
       "      <td>1.271063</td>\n",
       "    </tr>\n",
       "  </tbody>\n",
       "</table>\n",
       "<p>11276 rows × 49 columns</p>\n",
       "</div>"
      ],
      "text/plain": [
       "       encoder__x0_COMPONENT2  encoder__x0_COMPONENT3  encoder__x0_COMPONENT4  \\\n",
       "0                         0.0                     1.0                     0.0   \n",
       "1                         0.0                     1.0                     0.0   \n",
       "2                         0.0                     0.0                     0.0   \n",
       "3                         0.0                     1.0                     0.0   \n",
       "4                         0.0                     0.0                     0.0   \n",
       "...                       ...                     ...                     ...   \n",
       "11271                     0.0                     1.0                     0.0   \n",
       "11272                     0.0                     1.0                     0.0   \n",
       "11273                     0.0                     0.0                     0.0   \n",
       "11274                     0.0                     1.0                     0.0   \n",
       "11275                     0.0                     0.0                     1.0   \n",
       "\n",
       "       encoder__x1_2008  encoder__x1_2009  encoder__x1_2010  encoder__x1_2011  \\\n",
       "0                   0.0               0.0               0.0               0.0   \n",
       "1                   0.0               0.0               0.0               0.0   \n",
       "2                   0.0               0.0               0.0               0.0   \n",
       "3                   0.0               0.0               0.0               0.0   \n",
       "4                   1.0               0.0               0.0               0.0   \n",
       "...                 ...               ...               ...               ...   \n",
       "11271               0.0               0.0               0.0               0.0   \n",
       "11272               0.0               0.0               0.0               0.0   \n",
       "11273               0.0               0.0               0.0               0.0   \n",
       "11274               0.0               0.0               0.0               0.0   \n",
       "11275               0.0               0.0               0.0               0.0   \n",
       "\n",
       "       encoder__x1_2012  encoder__x1_2013  encoder__x1_2014  ...        NI  \\\n",
       "0                   0.0               0.0               0.0  ... -0.440887   \n",
       "1                   0.0               0.0               1.0  ... -0.440887   \n",
       "2                   0.0               0.0               0.0  ... -0.440887   \n",
       "3                   0.0               0.0               0.0  ...  5.914477   \n",
       "4                   0.0               0.0               0.0  ... -0.440887   \n",
       "...                 ...               ...               ...  ...       ...   \n",
       "11271               0.0               0.0               0.0  ... -0.440887   \n",
       "11272               0.0               0.0               1.0  ... -0.440887   \n",
       "11273               1.0               0.0               0.0  ... -0.440887   \n",
       "11274               0.0               0.0               0.0  ... -0.440887   \n",
       "11275               0.0               1.0               0.0  ... -0.440887   \n",
       "\n",
       "        PQINDEX         S        SB        SI        SN       TI         V  \\\n",
       "0      1.446119  2.350677 -0.461166  0.425958 -0.551161 -0.26383 -0.152986   \n",
       "1      1.802426  0.791533 -0.461166 -0.252085 -0.551161 -0.26383 -0.152986   \n",
       "2     -1.018774 -0.968471  1.987228 -0.576555 -0.551161 -0.26383 -0.152986   \n",
       "3      1.329558 -0.889818 -0.461166 -0.252085 -0.551161 -0.26383 -0.152986   \n",
       "4     -1.772215 -0.546207 -0.461166  0.072385  0.578497 -0.26383 -0.152986   \n",
       "...         ...       ...       ...       ...       ...      ...       ...   \n",
       "11271  0.840958  1.729695  1.083599 -0.021870  2.620189 -0.26383 -0.152986   \n",
       "11272  1.506723  0.381682 -0.461166  0.670337 -0.551161 -0.26383 -0.152986   \n",
       "11273 -0.468977 -0.061342 -0.461166 -0.576555  0.578497 -0.26383 -0.152986   \n",
       "11274  0.822915  0.002864 -0.461166  0.750428 -0.551161 -0.26383 -0.152986   \n",
       "11275 -0.186428 -0.041010 -0.461166  0.532815 -0.551161 -0.26383 -0.152986   \n",
       "\n",
       "            V40        ZN  \n",
       "0      0.817716 -1.069154  \n",
       "1      0.423663 -1.061642  \n",
       "2     -0.060891  1.055072  \n",
       "3      0.327820 -0.261535  \n",
       "4      0.460558  1.083244  \n",
       "...         ...       ...  \n",
       "11271  0.873435 -0.868189  \n",
       "11272  0.633327 -1.027834  \n",
       "11273 -0.386983  1.090757  \n",
       "11274  0.904012 -1.080423  \n",
       "11275 -0.777953  1.271063  \n",
       "\n",
       "[11276 rows x 49 columns]"
      ]
     },
     "execution_count": 4614,
     "metadata": {},
     "output_type": "execute_result"
    }
   ],
   "source": [
    "train_X = onehot_encode(train_X, [0,2])\n",
    "train_X"
   ]
  },
  {
   "cell_type": "code",
   "execution_count": 4615,
   "id": "ccbd786b",
   "metadata": {},
   "outputs": [
    {
     "data": {
      "text/html": [
       "<div>\n",
       "<style scoped>\n",
       "    .dataframe tbody tr th:only-of-type {\n",
       "        vertical-align: middle;\n",
       "    }\n",
       "\n",
       "    .dataframe tbody tr th {\n",
       "        vertical-align: top;\n",
       "    }\n",
       "\n",
       "    .dataframe thead th {\n",
       "        text-align: right;\n",
       "    }\n",
       "</style>\n",
       "<table border=\"1\" class=\"dataframe\">\n",
       "  <thead>\n",
       "    <tr style=\"text-align: right;\">\n",
       "      <th></th>\n",
       "      <th>encoder__x0_COMPONENT2</th>\n",
       "      <th>encoder__x0_COMPONENT3</th>\n",
       "      <th>encoder__x0_COMPONENT4</th>\n",
       "      <th>encoder__x1_2008</th>\n",
       "      <th>encoder__x1_2009</th>\n",
       "      <th>encoder__x1_2010</th>\n",
       "      <th>encoder__x1_2011</th>\n",
       "      <th>encoder__x1_2012</th>\n",
       "      <th>encoder__x1_2013</th>\n",
       "      <th>encoder__x1_2014</th>\n",
       "      <th>...</th>\n",
       "      <th>NI</th>\n",
       "      <th>PQINDEX</th>\n",
       "      <th>S</th>\n",
       "      <th>SB</th>\n",
       "      <th>SI</th>\n",
       "      <th>SN</th>\n",
       "      <th>TI</th>\n",
       "      <th>V</th>\n",
       "      <th>V40</th>\n",
       "      <th>ZN</th>\n",
       "    </tr>\n",
       "  </thead>\n",
       "  <tbody>\n",
       "    <tr>\n",
       "      <th>0</th>\n",
       "      <td>0.0</td>\n",
       "      <td>1.0</td>\n",
       "      <td>0.0</td>\n",
       "      <td>0.0</td>\n",
       "      <td>0.0</td>\n",
       "      <td>0.0</td>\n",
       "      <td>0.0</td>\n",
       "      <td>1.0</td>\n",
       "      <td>0.0</td>\n",
       "      <td>0.0</td>\n",
       "      <td>...</td>\n",
       "      <td>-0.440887</td>\n",
       "      <td>0.429900</td>\n",
       "      <td>1.731086</td>\n",
       "      <td>-0.461166</td>\n",
       "      <td>-0.021870</td>\n",
       "      <td>-0.551161</td>\n",
       "      <td>-0.263830</td>\n",
       "      <td>-0.152986</td>\n",
       "      <td>0.887968</td>\n",
       "      <td>-1.022200</td>\n",
       "    </tr>\n",
       "    <tr>\n",
       "      <th>1</th>\n",
       "      <td>0.0</td>\n",
       "      <td>1.0</td>\n",
       "      <td>0.0</td>\n",
       "      <td>0.0</td>\n",
       "      <td>0.0</td>\n",
       "      <td>0.0</td>\n",
       "      <td>0.0</td>\n",
       "      <td>0.0</td>\n",
       "      <td>0.0</td>\n",
       "      <td>0.0</td>\n",
       "      <td>...</td>\n",
       "      <td>-0.440887</td>\n",
       "      <td>0.843172</td>\n",
       "      <td>0.708064</td>\n",
       "      <td>-0.461166</td>\n",
       "      <td>-0.806770</td>\n",
       "      <td>-0.551161</td>\n",
       "      <td>-0.263830</td>\n",
       "      <td>-0.152986</td>\n",
       "      <td>0.700460</td>\n",
       "      <td>-1.010931</td>\n",
       "    </tr>\n",
       "    <tr>\n",
       "      <th>2</th>\n",
       "      <td>0.0</td>\n",
       "      <td>0.0</td>\n",
       "      <td>0.0</td>\n",
       "      <td>0.0</td>\n",
       "      <td>0.0</td>\n",
       "      <td>0.0</td>\n",
       "      <td>0.0</td>\n",
       "      <td>0.0</td>\n",
       "      <td>0.0</td>\n",
       "      <td>0.0</td>\n",
       "      <td>...</td>\n",
       "      <td>-0.440887</td>\n",
       "      <td>-1.018774</td>\n",
       "      <td>-0.826040</td>\n",
       "      <td>-0.461166</td>\n",
       "      <td>-0.128727</td>\n",
       "      <td>-0.551161</td>\n",
       "      <td>-0.263830</td>\n",
       "      <td>-0.152986</td>\n",
       "      <td>0.333925</td>\n",
       "      <td>1.124564</td>\n",
       "    </tr>\n",
       "    <tr>\n",
       "      <th>3</th>\n",
       "      <td>0.0</td>\n",
       "      <td>0.0</td>\n",
       "      <td>0.0</td>\n",
       "      <td>0.0</td>\n",
       "      <td>0.0</td>\n",
       "      <td>0.0</td>\n",
       "      <td>0.0</td>\n",
       "      <td>1.0</td>\n",
       "      <td>0.0</td>\n",
       "      <td>0.0</td>\n",
       "      <td>...</td>\n",
       "      <td>-0.440887</td>\n",
       "      <td>-0.548654</td>\n",
       "      <td>-0.809025</td>\n",
       "      <td>-0.461166</td>\n",
       "      <td>0.627070</td>\n",
       "      <td>1.708155</td>\n",
       "      <td>-0.263830</td>\n",
       "      <td>-0.152986</td>\n",
       "      <td>-0.373262</td>\n",
       "      <td>1.064463</td>\n",
       "    </tr>\n",
       "    <tr>\n",
       "      <th>4</th>\n",
       "      <td>0.0</td>\n",
       "      <td>0.0</td>\n",
       "      <td>0.0</td>\n",
       "      <td>0.0</td>\n",
       "      <td>0.0</td>\n",
       "      <td>0.0</td>\n",
       "      <td>1.0</td>\n",
       "      <td>0.0</td>\n",
       "      <td>0.0</td>\n",
       "      <td>0.0</td>\n",
       "      <td>...</td>\n",
       "      <td>-0.440887</td>\n",
       "      <td>-1.551848</td>\n",
       "      <td>-0.840807</td>\n",
       "      <td>-0.461166</td>\n",
       "      <td>1.181755</td>\n",
       "      <td>1.708155</td>\n",
       "      <td>-0.263830</td>\n",
       "      <td>-0.152986</td>\n",
       "      <td>0.384197</td>\n",
       "      <td>1.115173</td>\n",
       "    </tr>\n",
       "    <tr>\n",
       "      <th>...</th>\n",
       "      <td>...</td>\n",
       "      <td>...</td>\n",
       "      <td>...</td>\n",
       "      <td>...</td>\n",
       "      <td>...</td>\n",
       "      <td>...</td>\n",
       "      <td>...</td>\n",
       "      <td>...</td>\n",
       "      <td>...</td>\n",
       "      <td>...</td>\n",
       "      <td>...</td>\n",
       "      <td>...</td>\n",
       "      <td>...</td>\n",
       "      <td>...</td>\n",
       "      <td>...</td>\n",
       "      <td>...</td>\n",
       "      <td>...</td>\n",
       "      <td>...</td>\n",
       "      <td>...</td>\n",
       "      <td>...</td>\n",
       "      <td>...</td>\n",
       "    </tr>\n",
       "    <tr>\n",
       "      <th>2814</th>\n",
       "      <td>0.0</td>\n",
       "      <td>1.0</td>\n",
       "      <td>0.0</td>\n",
       "      <td>1.0</td>\n",
       "      <td>0.0</td>\n",
       "      <td>0.0</td>\n",
       "      <td>0.0</td>\n",
       "      <td>0.0</td>\n",
       "      <td>0.0</td>\n",
       "      <td>0.0</td>\n",
       "      <td>...</td>\n",
       "      <td>0.808334</td>\n",
       "      <td>0.891749</td>\n",
       "      <td>0.823208</td>\n",
       "      <td>1.083599</td>\n",
       "      <td>0.532815</td>\n",
       "      <td>0.578497</td>\n",
       "      <td>1.086823</td>\n",
       "      <td>-0.152986</td>\n",
       "      <td>0.747034</td>\n",
       "      <td>-0.817478</td>\n",
       "    </tr>\n",
       "    <tr>\n",
       "      <th>2815</th>\n",
       "      <td>0.0</td>\n",
       "      <td>1.0</td>\n",
       "      <td>0.0</td>\n",
       "      <td>0.0</td>\n",
       "      <td>1.0</td>\n",
       "      <td>0.0</td>\n",
       "      <td>0.0</td>\n",
       "      <td>0.0</td>\n",
       "      <td>0.0</td>\n",
       "      <td>0.0</td>\n",
       "      <td>...</td>\n",
       "      <td>-0.440887</td>\n",
       "      <td>1.365367</td>\n",
       "      <td>2.057468</td>\n",
       "      <td>-0.461166</td>\n",
       "      <td>0.366654</td>\n",
       "      <td>-0.551161</td>\n",
       "      <td>-0.263830</td>\n",
       "      <td>-0.152986</td>\n",
       "      <td>0.834240</td>\n",
       "      <td>-1.061642</td>\n",
       "    </tr>\n",
       "    <tr>\n",
       "      <th>2816</th>\n",
       "      <td>0.0</td>\n",
       "      <td>1.0</td>\n",
       "      <td>0.0</td>\n",
       "      <td>0.0</td>\n",
       "      <td>0.0</td>\n",
       "      <td>0.0</td>\n",
       "      <td>0.0</td>\n",
       "      <td>0.0</td>\n",
       "      <td>0.0</td>\n",
       "      <td>0.0</td>\n",
       "      <td>...</td>\n",
       "      <td>-0.440887</td>\n",
       "      <td>1.419238</td>\n",
       "      <td>1.160719</td>\n",
       "      <td>-0.461166</td>\n",
       "      <td>0.072385</td>\n",
       "      <td>-0.551161</td>\n",
       "      <td>-0.263830</td>\n",
       "      <td>-0.152986</td>\n",
       "      <td>0.636908</td>\n",
       "      <td>-1.059763</td>\n",
       "    </tr>\n",
       "    <tr>\n",
       "      <th>2817</th>\n",
       "      <td>0.0</td>\n",
       "      <td>0.0</td>\n",
       "      <td>1.0</td>\n",
       "      <td>0.0</td>\n",
       "      <td>0.0</td>\n",
       "      <td>0.0</td>\n",
       "      <td>0.0</td>\n",
       "      <td>0.0</td>\n",
       "      <td>0.0</td>\n",
       "      <td>0.0</td>\n",
       "      <td>...</td>\n",
       "      <td>-0.440887</td>\n",
       "      <td>-0.494260</td>\n",
       "      <td>-0.558727</td>\n",
       "      <td>-0.461166</td>\n",
       "      <td>-0.252085</td>\n",
       "      <td>-0.551161</td>\n",
       "      <td>-0.263830</td>\n",
       "      <td>-0.152986</td>\n",
       "      <td>-0.959911</td>\n",
       "      <td>1.009995</td>\n",
       "    </tr>\n",
       "    <tr>\n",
       "      <th>2818</th>\n",
       "      <td>0.0</td>\n",
       "      <td>0.0</td>\n",
       "      <td>0.0</td>\n",
       "      <td>0.0</td>\n",
       "      <td>0.0</td>\n",
       "      <td>0.0</td>\n",
       "      <td>0.0</td>\n",
       "      <td>1.0</td>\n",
       "      <td>0.0</td>\n",
       "      <td>0.0</td>\n",
       "      <td>...</td>\n",
       "      <td>-0.440887</td>\n",
       "      <td>-1.551848</td>\n",
       "      <td>-0.826361</td>\n",
       "      <td>-0.461166</td>\n",
       "      <td>-0.252085</td>\n",
       "      <td>-0.551161</td>\n",
       "      <td>-0.263830</td>\n",
       "      <td>-0.152986</td>\n",
       "      <td>0.240667</td>\n",
       "      <td>0.925477</td>\n",
       "    </tr>\n",
       "  </tbody>\n",
       "</table>\n",
       "<p>2819 rows × 49 columns</p>\n",
       "</div>"
      ],
      "text/plain": [
       "      encoder__x0_COMPONENT2  encoder__x0_COMPONENT3  encoder__x0_COMPONENT4  \\\n",
       "0                        0.0                     1.0                     0.0   \n",
       "1                        0.0                     1.0                     0.0   \n",
       "2                        0.0                     0.0                     0.0   \n",
       "3                        0.0                     0.0                     0.0   \n",
       "4                        0.0                     0.0                     0.0   \n",
       "...                      ...                     ...                     ...   \n",
       "2814                     0.0                     1.0                     0.0   \n",
       "2815                     0.0                     1.0                     0.0   \n",
       "2816                     0.0                     1.0                     0.0   \n",
       "2817                     0.0                     0.0                     1.0   \n",
       "2818                     0.0                     0.0                     0.0   \n",
       "\n",
       "      encoder__x1_2008  encoder__x1_2009  encoder__x1_2010  encoder__x1_2011  \\\n",
       "0                  0.0               0.0               0.0               0.0   \n",
       "1                  0.0               0.0               0.0               0.0   \n",
       "2                  0.0               0.0               0.0               0.0   \n",
       "3                  0.0               0.0               0.0               0.0   \n",
       "4                  0.0               0.0               0.0               1.0   \n",
       "...                ...               ...               ...               ...   \n",
       "2814               1.0               0.0               0.0               0.0   \n",
       "2815               0.0               1.0               0.0               0.0   \n",
       "2816               0.0               0.0               0.0               0.0   \n",
       "2817               0.0               0.0               0.0               0.0   \n",
       "2818               0.0               0.0               0.0               0.0   \n",
       "\n",
       "      encoder__x1_2012  encoder__x1_2013  encoder__x1_2014  ...        NI  \\\n",
       "0                  1.0               0.0               0.0  ... -0.440887   \n",
       "1                  0.0               0.0               0.0  ... -0.440887   \n",
       "2                  0.0               0.0               0.0  ... -0.440887   \n",
       "3                  1.0               0.0               0.0  ... -0.440887   \n",
       "4                  0.0               0.0               0.0  ... -0.440887   \n",
       "...                ...               ...               ...  ...       ...   \n",
       "2814               0.0               0.0               0.0  ...  0.808334   \n",
       "2815               0.0               0.0               0.0  ... -0.440887   \n",
       "2816               0.0               0.0               0.0  ... -0.440887   \n",
       "2817               0.0               0.0               0.0  ... -0.440887   \n",
       "2818               1.0               0.0               0.0  ... -0.440887   \n",
       "\n",
       "       PQINDEX         S        SB        SI        SN        TI         V  \\\n",
       "0     0.429900  1.731086 -0.461166 -0.021870 -0.551161 -0.263830 -0.152986   \n",
       "1     0.843172  0.708064 -0.461166 -0.806770 -0.551161 -0.263830 -0.152986   \n",
       "2    -1.018774 -0.826040 -0.461166 -0.128727 -0.551161 -0.263830 -0.152986   \n",
       "3    -0.548654 -0.809025 -0.461166  0.627070  1.708155 -0.263830 -0.152986   \n",
       "4    -1.551848 -0.840807 -0.461166  1.181755  1.708155 -0.263830 -0.152986   \n",
       "...        ...       ...       ...       ...       ...       ...       ...   \n",
       "2814  0.891749  0.823208  1.083599  0.532815  0.578497  1.086823 -0.152986   \n",
       "2815  1.365367  2.057468 -0.461166  0.366654 -0.551161 -0.263830 -0.152986   \n",
       "2816  1.419238  1.160719 -0.461166  0.072385 -0.551161 -0.263830 -0.152986   \n",
       "2817 -0.494260 -0.558727 -0.461166 -0.252085 -0.551161 -0.263830 -0.152986   \n",
       "2818 -1.551848 -0.826361 -0.461166 -0.252085 -0.551161 -0.263830 -0.152986   \n",
       "\n",
       "           V40        ZN  \n",
       "0     0.887968 -1.022200  \n",
       "1     0.700460 -1.010931  \n",
       "2     0.333925  1.124564  \n",
       "3    -0.373262  1.064463  \n",
       "4     0.384197  1.115173  \n",
       "...        ...       ...  \n",
       "2814  0.747034 -0.817478  \n",
       "2815  0.834240 -1.061642  \n",
       "2816  0.636908 -1.059763  \n",
       "2817 -0.959911  1.009995  \n",
       "2818  0.240667  0.925477  \n",
       "\n",
       "[2819 rows x 49 columns]"
      ]
     },
     "execution_count": 4615,
     "metadata": {},
     "output_type": "execute_result"
    }
   ],
   "source": [
    "val_X = onehot_encode(val_X, [0,2])\n",
    "val_X"
   ]
  },
  {
   "cell_type": "code",
   "execution_count": 4616,
   "id": "41fbb7d3",
   "metadata": {},
   "outputs": [
    {
     "data": {
      "text/html": [
       "<div>\n",
       "<style scoped>\n",
       "    .dataframe tbody tr th:only-of-type {\n",
       "        vertical-align: middle;\n",
       "    }\n",
       "\n",
       "    .dataframe tbody tr th {\n",
       "        vertical-align: top;\n",
       "    }\n",
       "\n",
       "    .dataframe thead th {\n",
       "        text-align: right;\n",
       "    }\n",
       "</style>\n",
       "<table border=\"1\" class=\"dataframe\">\n",
       "  <thead>\n",
       "    <tr style=\"text-align: right;\">\n",
       "      <th></th>\n",
       "      <th>encoder__x0_COMPONENT2</th>\n",
       "      <th>encoder__x0_COMPONENT3</th>\n",
       "      <th>encoder__x0_COMPONENT4</th>\n",
       "      <th>encoder__x1_2008</th>\n",
       "      <th>encoder__x1_2009</th>\n",
       "      <th>encoder__x1_2010</th>\n",
       "      <th>encoder__x1_2011</th>\n",
       "      <th>encoder__x1_2012</th>\n",
       "      <th>encoder__x1_2013</th>\n",
       "      <th>encoder__x1_2014</th>\n",
       "      <th>...</th>\n",
       "      <th>CR</th>\n",
       "      <th>CU</th>\n",
       "      <th>FE</th>\n",
       "      <th>MN</th>\n",
       "      <th>NI</th>\n",
       "      <th>PQINDEX</th>\n",
       "      <th>TI</th>\n",
       "      <th>V</th>\n",
       "      <th>V40</th>\n",
       "      <th>ZN</th>\n",
       "    </tr>\n",
       "  </thead>\n",
       "  <tbody>\n",
       "    <tr>\n",
       "      <th>0</th>\n",
       "      <td>0.0</td>\n",
       "      <td>0.0</td>\n",
       "      <td>0.0</td>\n",
       "      <td>0.0</td>\n",
       "      <td>0.0</td>\n",
       "      <td>0.0</td>\n",
       "      <td>0.0</td>\n",
       "      <td>0.0</td>\n",
       "      <td>0.0</td>\n",
       "      <td>0.0</td>\n",
       "      <td>...</td>\n",
       "      <td>-0.886649</td>\n",
       "      <td>-0.829839</td>\n",
       "      <td>-0.832563</td>\n",
       "      <td>-0.784966</td>\n",
       "      <td>-0.440887</td>\n",
       "      <td>-0.845697</td>\n",
       "      <td>-0.263830</td>\n",
       "      <td>-0.152986</td>\n",
       "      <td>-0.229915</td>\n",
       "      <td>0.942381</td>\n",
       "    </tr>\n",
       "    <tr>\n",
       "      <th>1</th>\n",
       "      <td>0.0</td>\n",
       "      <td>1.0</td>\n",
       "      <td>0.0</td>\n",
       "      <td>0.0</td>\n",
       "      <td>0.0</td>\n",
       "      <td>0.0</td>\n",
       "      <td>1.0</td>\n",
       "      <td>0.0</td>\n",
       "      <td>0.0</td>\n",
       "      <td>0.0</td>\n",
       "      <td>...</td>\n",
       "      <td>0.374450</td>\n",
       "      <td>-0.829839</td>\n",
       "      <td>1.126054</td>\n",
       "      <td>0.766409</td>\n",
       "      <td>-0.440887</td>\n",
       "      <td>2.151806</td>\n",
       "      <td>1.086823</td>\n",
       "      <td>-0.152986</td>\n",
       "      <td>0.545725</td>\n",
       "      <td>-1.084180</td>\n",
       "    </tr>\n",
       "    <tr>\n",
       "      <th>2</th>\n",
       "      <td>1.0</td>\n",
       "      <td>0.0</td>\n",
       "      <td>0.0</td>\n",
       "      <td>0.0</td>\n",
       "      <td>0.0</td>\n",
       "      <td>1.0</td>\n",
       "      <td>0.0</td>\n",
       "      <td>0.0</td>\n",
       "      <td>0.0</td>\n",
       "      <td>0.0</td>\n",
       "      <td>...</td>\n",
       "      <td>-0.886649</td>\n",
       "      <td>0.511930</td>\n",
       "      <td>-1.326448</td>\n",
       "      <td>-0.784966</td>\n",
       "      <td>-0.440887</td>\n",
       "      <td>-0.798407</td>\n",
       "      <td>-0.263830</td>\n",
       "      <td>-0.152986</td>\n",
       "      <td>-1.922264</td>\n",
       "      <td>0.234305</td>\n",
       "    </tr>\n",
       "    <tr>\n",
       "      <th>3</th>\n",
       "      <td>0.0</td>\n",
       "      <td>1.0</td>\n",
       "      <td>0.0</td>\n",
       "      <td>0.0</td>\n",
       "      <td>1.0</td>\n",
       "      <td>0.0</td>\n",
       "      <td>0.0</td>\n",
       "      <td>0.0</td>\n",
       "      <td>0.0</td>\n",
       "      <td>0.0</td>\n",
       "      <td>...</td>\n",
       "      <td>0.704681</td>\n",
       "      <td>-0.255347</td>\n",
       "      <td>0.786650</td>\n",
       "      <td>1.016124</td>\n",
       "      <td>-0.440887</td>\n",
       "      <td>2.736083</td>\n",
       "      <td>-0.263830</td>\n",
       "      <td>-0.152986</td>\n",
       "      <td>0.824339</td>\n",
       "      <td>-0.930169</td>\n",
       "    </tr>\n",
       "    <tr>\n",
       "      <th>4</th>\n",
       "      <td>1.0</td>\n",
       "      <td>0.0</td>\n",
       "      <td>0.0</td>\n",
       "      <td>0.0</td>\n",
       "      <td>0.0</td>\n",
       "      <td>0.0</td>\n",
       "      <td>0.0</td>\n",
       "      <td>0.0</td>\n",
       "      <td>1.0</td>\n",
       "      <td>0.0</td>\n",
       "      <td>...</td>\n",
       "      <td>-0.886649</td>\n",
       "      <td>-0.044387</td>\n",
       "      <td>-0.785225</td>\n",
       "      <td>-0.784966</td>\n",
       "      <td>-0.440887</td>\n",
       "      <td>-0.609105</td>\n",
       "      <td>-0.263830</td>\n",
       "      <td>-0.152986</td>\n",
       "      <td>-1.085748</td>\n",
       "      <td>-0.225850</td>\n",
       "    </tr>\n",
       "    <tr>\n",
       "      <th>...</th>\n",
       "      <td>...</td>\n",
       "      <td>...</td>\n",
       "      <td>...</td>\n",
       "      <td>...</td>\n",
       "      <td>...</td>\n",
       "      <td>...</td>\n",
       "      <td>...</td>\n",
       "      <td>...</td>\n",
       "      <td>...</td>\n",
       "      <td>...</td>\n",
       "      <td>...</td>\n",
       "      <td>...</td>\n",
       "      <td>...</td>\n",
       "      <td>...</td>\n",
       "      <td>...</td>\n",
       "      <td>...</td>\n",
       "      <td>...</td>\n",
       "      <td>...</td>\n",
       "      <td>...</td>\n",
       "      <td>...</td>\n",
       "      <td>...</td>\n",
       "    </tr>\n",
       "    <tr>\n",
       "      <th>6036</th>\n",
       "      <td>0.0</td>\n",
       "      <td>1.0</td>\n",
       "      <td>0.0</td>\n",
       "      <td>0.0</td>\n",
       "      <td>0.0</td>\n",
       "      <td>0.0</td>\n",
       "      <td>0.0</td>\n",
       "      <td>0.0</td>\n",
       "      <td>0.0</td>\n",
       "      <td>1.0</td>\n",
       "      <td>...</td>\n",
       "      <td>0.704681</td>\n",
       "      <td>1.792204</td>\n",
       "      <td>1.971412</td>\n",
       "      <td>3.903594</td>\n",
       "      <td>1.539081</td>\n",
       "      <td>1.982099</td>\n",
       "      <td>-0.263830</td>\n",
       "      <td>-0.152986</td>\n",
       "      <td>-0.813906</td>\n",
       "      <td>1.077610</td>\n",
       "    </tr>\n",
       "    <tr>\n",
       "      <th>6037</th>\n",
       "      <td>0.0</td>\n",
       "      <td>1.0</td>\n",
       "      <td>0.0</td>\n",
       "      <td>0.0</td>\n",
       "      <td>0.0</td>\n",
       "      <td>0.0</td>\n",
       "      <td>0.0</td>\n",
       "      <td>0.0</td>\n",
       "      <td>0.0</td>\n",
       "      <td>0.0</td>\n",
       "      <td>...</td>\n",
       "      <td>1.170115</td>\n",
       "      <td>-0.575622</td>\n",
       "      <td>1.746534</td>\n",
       "      <td>1.220157</td>\n",
       "      <td>-0.440887</td>\n",
       "      <td>1.406850</td>\n",
       "      <td>-0.263830</td>\n",
       "      <td>-0.152986</td>\n",
       "      <td>0.740191</td>\n",
       "      <td>-1.082302</td>\n",
       "    </tr>\n",
       "    <tr>\n",
       "      <th>6038</th>\n",
       "      <td>0.0</td>\n",
       "      <td>1.0</td>\n",
       "      <td>0.0</td>\n",
       "      <td>0.0</td>\n",
       "      <td>0.0</td>\n",
       "      <td>0.0</td>\n",
       "      <td>0.0</td>\n",
       "      <td>0.0</td>\n",
       "      <td>0.0</td>\n",
       "      <td>1.0</td>\n",
       "      <td>...</td>\n",
       "      <td>-0.886649</td>\n",
       "      <td>-1.264426</td>\n",
       "      <td>0.077059</td>\n",
       "      <td>-0.784966</td>\n",
       "      <td>-0.440887</td>\n",
       "      <td>0.160091</td>\n",
       "      <td>-0.263830</td>\n",
       "      <td>-0.152986</td>\n",
       "      <td>2.598084</td>\n",
       "      <td>-1.082302</td>\n",
       "    </tr>\n",
       "    <tr>\n",
       "      <th>6039</th>\n",
       "      <td>1.0</td>\n",
       "      <td>0.0</td>\n",
       "      <td>0.0</td>\n",
       "      <td>0.0</td>\n",
       "      <td>0.0</td>\n",
       "      <td>0.0</td>\n",
       "      <td>0.0</td>\n",
       "      <td>0.0</td>\n",
       "      <td>1.0</td>\n",
       "      <td>0.0</td>\n",
       "      <td>...</td>\n",
       "      <td>-0.886649</td>\n",
       "      <td>1.333219</td>\n",
       "      <td>-1.769206</td>\n",
       "      <td>-0.784966</td>\n",
       "      <td>-0.440887</td>\n",
       "      <td>-1.175127</td>\n",
       "      <td>-0.263830</td>\n",
       "      <td>-0.152986</td>\n",
       "      <td>-1.589714</td>\n",
       "      <td>-0.208946</td>\n",
       "    </tr>\n",
       "    <tr>\n",
       "      <th>6040</th>\n",
       "      <td>0.0</td>\n",
       "      <td>0.0</td>\n",
       "      <td>0.0</td>\n",
       "      <td>0.0</td>\n",
       "      <td>0.0</td>\n",
       "      <td>0.0</td>\n",
       "      <td>0.0</td>\n",
       "      <td>0.0</td>\n",
       "      <td>0.0</td>\n",
       "      <td>0.0</td>\n",
       "      <td>...</td>\n",
       "      <td>-0.886649</td>\n",
       "      <td>-1.264426</td>\n",
       "      <td>-1.442909</td>\n",
       "      <td>-0.784966</td>\n",
       "      <td>-0.440887</td>\n",
       "      <td>-0.677130</td>\n",
       "      <td>-0.263830</td>\n",
       "      <td>-0.152986</td>\n",
       "      <td>-0.540441</td>\n",
       "      <td>0.715120</td>\n",
       "    </tr>\n",
       "  </tbody>\n",
       "</table>\n",
       "<p>6041 rows × 32 columns</p>\n",
       "</div>"
      ],
      "text/plain": [
       "      encoder__x0_COMPONENT2  encoder__x0_COMPONENT3  encoder__x0_COMPONENT4  \\\n",
       "0                        0.0                     0.0                     0.0   \n",
       "1                        0.0                     1.0                     0.0   \n",
       "2                        1.0                     0.0                     0.0   \n",
       "3                        0.0                     1.0                     0.0   \n",
       "4                        1.0                     0.0                     0.0   \n",
       "...                      ...                     ...                     ...   \n",
       "6036                     0.0                     1.0                     0.0   \n",
       "6037                     0.0                     1.0                     0.0   \n",
       "6038                     0.0                     1.0                     0.0   \n",
       "6039                     1.0                     0.0                     0.0   \n",
       "6040                     0.0                     0.0                     0.0   \n",
       "\n",
       "      encoder__x1_2008  encoder__x1_2009  encoder__x1_2010  encoder__x1_2011  \\\n",
       "0                  0.0               0.0               0.0               0.0   \n",
       "1                  0.0               0.0               0.0               1.0   \n",
       "2                  0.0               0.0               1.0               0.0   \n",
       "3                  0.0               1.0               0.0               0.0   \n",
       "4                  0.0               0.0               0.0               0.0   \n",
       "...                ...               ...               ...               ...   \n",
       "6036               0.0               0.0               0.0               0.0   \n",
       "6037               0.0               0.0               0.0               0.0   \n",
       "6038               0.0               0.0               0.0               0.0   \n",
       "6039               0.0               0.0               0.0               0.0   \n",
       "6040               0.0               0.0               0.0               0.0   \n",
       "\n",
       "      encoder__x1_2012  encoder__x1_2013  encoder__x1_2014  ...        CR  \\\n",
       "0                  0.0               0.0               0.0  ... -0.886649   \n",
       "1                  0.0               0.0               0.0  ...  0.374450   \n",
       "2                  0.0               0.0               0.0  ... -0.886649   \n",
       "3                  0.0               0.0               0.0  ...  0.704681   \n",
       "4                  0.0               1.0               0.0  ... -0.886649   \n",
       "...                ...               ...               ...  ...       ...   \n",
       "6036               0.0               0.0               1.0  ...  0.704681   \n",
       "6037               0.0               0.0               0.0  ...  1.170115   \n",
       "6038               0.0               0.0               1.0  ... -0.886649   \n",
       "6039               0.0               1.0               0.0  ... -0.886649   \n",
       "6040               0.0               0.0               0.0  ... -0.886649   \n",
       "\n",
       "            CU        FE        MN        NI   PQINDEX        TI         V  \\\n",
       "0    -0.829839 -0.832563 -0.784966 -0.440887 -0.845697 -0.263830 -0.152986   \n",
       "1    -0.829839  1.126054  0.766409 -0.440887  2.151806  1.086823 -0.152986   \n",
       "2     0.511930 -1.326448 -0.784966 -0.440887 -0.798407 -0.263830 -0.152986   \n",
       "3    -0.255347  0.786650  1.016124 -0.440887  2.736083 -0.263830 -0.152986   \n",
       "4    -0.044387 -0.785225 -0.784966 -0.440887 -0.609105 -0.263830 -0.152986   \n",
       "...        ...       ...       ...       ...       ...       ...       ...   \n",
       "6036  1.792204  1.971412  3.903594  1.539081  1.982099 -0.263830 -0.152986   \n",
       "6037 -0.575622  1.746534  1.220157 -0.440887  1.406850 -0.263830 -0.152986   \n",
       "6038 -1.264426  0.077059 -0.784966 -0.440887  0.160091 -0.263830 -0.152986   \n",
       "6039  1.333219 -1.769206 -0.784966 -0.440887 -1.175127 -0.263830 -0.152986   \n",
       "6040 -1.264426 -1.442909 -0.784966 -0.440887 -0.677130 -0.263830 -0.152986   \n",
       "\n",
       "           V40        ZN  \n",
       "0    -0.229915  0.942381  \n",
       "1     0.545725 -1.084180  \n",
       "2    -1.922264  0.234305  \n",
       "3     0.824339 -0.930169  \n",
       "4    -1.085748 -0.225850  \n",
       "...        ...       ...  \n",
       "6036 -0.813906  1.077610  \n",
       "6037  0.740191 -1.082302  \n",
       "6038  2.598084 -1.082302  \n",
       "6039 -1.589714 -0.208946  \n",
       "6040 -0.540441  0.715120  \n",
       "\n",
       "[6041 rows x 32 columns]"
      ]
     },
     "execution_count": 4616,
     "metadata": {},
     "output_type": "execute_result"
    }
   ],
   "source": [
    "test = onehot_encode(test, [0,2])\n",
    "test"
   ]
  },
  {
   "cell_type": "code",
   "execution_count": 4617,
   "id": "47c3bd54",
   "metadata": {},
   "outputs": [
    {
     "data": {
      "text/plain": [
       "Index(['encoder__x0_COMPONENT2', 'encoder__x0_COMPONENT3',\n",
       "       'encoder__x0_COMPONENT4', 'encoder__x1_2008', 'encoder__x1_2009',\n",
       "       'encoder__x1_2010', 'encoder__x1_2011', 'encoder__x1_2012',\n",
       "       'encoder__x1_2013', 'encoder__x1_2014', 'encoder__x1_2015',\n",
       "       'encoder__x1_2016', 'encoder__x1_2017', 'encoder__x1_2018',\n",
       "       'encoder__x1_2019', 'encoder__x1_2020', 'encoder__x1_2021',\n",
       "       'encoder__x1_2022', 'ANONYMOUS_1', 'ANONYMOUS_2', 'AG', 'CO', 'CR',\n",
       "       'CU', 'FE', 'MN', 'NI', 'PQINDEX', 'TI', 'V', 'V40', 'ZN'],\n",
       "      dtype='object')"
      ]
     },
     "execution_count": 4617,
     "metadata": {},
     "output_type": "execute_result"
    }
   ],
   "source": [
    "test_stage_features = test.columns\n",
    "# Inference(실제 진단 환경)에 사용하는 컬럼\n",
    "test_stage_features"
   ]
  },
  {
   "cell_type": "code",
   "execution_count": 4618,
   "id": "cd0465e7",
   "metadata": {},
   "outputs": [
    {
     "name": "stdout",
     "output_type": "stream",
     "text": [
      "49 32\n"
     ]
    }
   ],
   "source": [
    "train_col_num = len(train_X.columns)\n",
    "test_col_num = len(test.columns)\n",
    "print(train_col_num, test_col_num) # Drop후 칼럼 갯수 (nn 시작 노드 갯수에 맞춰주기 위해 변수에 담아놓음)"
   ]
  },
  {
   "cell_type": "code",
   "execution_count": 4619,
   "id": "110b82ad",
   "metadata": {},
   "outputs": [],
   "source": [
    "import pickle\n",
    "\n",
    "#저장하기\n",
    "with open(f\"./data/refined_train_X{file_version}\", 'wb') as pickle_filename:\n",
    "\tpickle.dump(train_X, pickle_filename)\n",
    "\n",
    "with open(f\"./data/refined_train_y{file_version}\", 'wb') as pickle_filename:\n",
    "\tpickle.dump(train_y, pickle_filename)\n",
    "    \n",
    "with open(f\"./data/refined_val_X{file_version}\", 'wb') as pickle_filename:\n",
    "\tpickle.dump(val_X, pickle_filename)\n",
    "\n",
    "with open(f\"./data/refined_val_y{file_version}\", 'wb') as pickle_filename:\n",
    "\tpickle.dump(val_y, pickle_filename)\n",
    "    \n",
    "with open(f\"./data/refined_test{file_version}\", 'wb') as pickle_filename:\n",
    "\tpickle.dump(test, pickle_filename)"
   ]
  },
  {
   "cell_type": "code",
   "execution_count": 4620,
   "id": "0589360d",
   "metadata": {},
   "outputs": [],
   "source": [
    "#불러오기\n",
    "with open(f\"./data/refined_train_X{file_version}\", 'rb') as pickle_filename:\n",
    "\ttrain_X = pickle.load(pickle_filename)\n",
    "\n",
    "with open(f\"./data/refined_train_y{file_version}\", 'rb') as pickle_filename:\n",
    "\ttrain_y = pickle.load(pickle_filename)\n",
    "    \n",
    "with open(f\"./data/refined_val_X{file_version}\", 'rb') as pickle_filename:\n",
    "\tval_X = pickle.load(pickle_filename)\n",
    "\n",
    "with open(f\"./data/refined_val_y{file_version}\", 'rb') as pickle_filename:\n",
    "\tval_y = pickle.load(pickle_filename)     \n",
    "\n",
    "with open(f\"./data/refined_test{file_version}\", 'rb') as pickle_filename:\n",
    "\ttest = pickle.load(pickle_filename)"
   ]
  },
  {
   "cell_type": "code",
   "execution_count": 4621,
   "id": "217d12cd",
   "metadata": {},
   "outputs": [],
   "source": [
    "class CustomDataset(Dataset):\n",
    "    def __init__(self, data_X, data_y, distillation=False):\n",
    "        super(CustomDataset, self).__init__()\n",
    "        self.data_X = data_X\n",
    "        self.data_y = data_y\n",
    "        self.distillation = distillation\n",
    "        \n",
    "    def __len__(self):\n",
    "        return len(self.data_X)\n",
    "    \n",
    "    def __getitem__(self, index):\n",
    "        if self.distillation:\n",
    "            # 지식 증류 학습 시\n",
    "            teacher_X = torch.Tensor(self.data_X.iloc[index])\n",
    "            student_X = torch.Tensor(self.data_X[test_stage_features].iloc[index])\n",
    "            y = self.data_y.values[index]\n",
    "            return teacher_X, student_X, y\n",
    "        else:\n",
    "            if self.data_y is None:\n",
    "                test_X = torch.Tensor(self.data_X.iloc[index])\n",
    "                return test_X\n",
    "            else:\n",
    "                teacher_X = torch.Tensor(self.data_X.iloc[index])\n",
    "                y = self.data_y.values[index]\n",
    "                return teacher_X, y"
   ]
  },
  {
   "cell_type": "code",
   "execution_count": 4622,
   "id": "48b7e9a7",
   "metadata": {},
   "outputs": [
    {
     "data": {
      "text/plain": [
       "[(tensor([ 0.0000,  1.0000,  0.0000,  0.0000,  0.0000,  0.0000,  0.0000,  0.0000,\n",
       "           0.0000,  0.0000,  0.0000,  1.0000,  0.0000,  0.0000,  0.0000,  0.0000,\n",
       "           0.0000,  0.0000,  0.5304, -0.6239, -0.1534,  0.3511,  1.0448, -0.4924,\n",
       "          -0.0547,  1.1846, -0.1379,  0.7047, -0.3953,  0.0352, -0.2906, -0.3919,\n",
       "          -0.1892,  0.5709, -0.1436, -0.2568, -1.3068,  0.7664,  1.5908, -0.4409,\n",
       "           1.4461,  2.3507, -0.4612,  0.4260, -0.5512, -0.2638, -0.1530,  0.8177,\n",
       "          -1.0692]),\n",
       "  0)]"
      ]
     },
     "execution_count": 4622,
     "metadata": {},
     "output_type": "execute_result"
    }
   ],
   "source": [
    "train_dataset = CustomDataset(train_X, train_y, False)\n",
    "val_dataset = CustomDataset(val_X, val_y, False)\n",
    "list(train_dataset)[:1]"
   ]
  },
  {
   "cell_type": "code",
   "execution_count": 4623,
   "id": "50bab7f2",
   "metadata": {},
   "outputs": [
    {
     "data": {
      "text/plain": [
       "[[tensor([[ 0.0000,  0.0000,  1.0000,  ..., -0.1530, -0.8807,  0.4033],\n",
       "          [ 0.0000,  0.0000,  0.0000,  ..., -0.1530,  0.2659,  1.5040],\n",
       "          [ 0.0000,  0.0000,  1.0000,  ..., -0.1530, -0.7682,  1.1039],\n",
       "          ...,\n",
       "          [ 1.0000,  0.0000,  0.0000,  ..., -0.1530, -1.8806,  0.2287],\n",
       "          [ 0.0000,  0.0000,  0.0000,  ..., -0.1530, -0.3218,  0.8973],\n",
       "          [ 0.0000,  0.0000,  0.0000,  ..., -0.1530, -0.2402,  1.0025]]),\n",
       "  tensor([0, 0, 0, 0, 0, 0, 0, 0, 0, 0, 0, 0, 0, 0, 0, 0, 0, 0, 1, 0, 0, 0, 0, 1,\n",
       "          0, 0, 0, 0, 0, 0, 0, 0, 0, 0, 0, 1, 0, 0, 0, 0, 0, 0, 0, 0, 0, 0, 0, 0,\n",
       "          0, 0, 0, 0, 0, 0, 0, 1, 0, 0, 0, 0, 0, 0, 0, 0, 0, 0, 1, 0, 0, 0, 0, 0,\n",
       "          0, 0, 1, 0, 0, 0, 0, 0, 0, 1, 0, 0, 0, 0, 0, 0, 1, 0, 0, 0, 0, 0, 0, 0,\n",
       "          0, 1, 0, 0, 1, 0, 0, 0, 0, 0, 0, 1, 0, 0, 0, 0, 0, 0, 0, 0, 0, 1, 0, 0,\n",
       "          0, 0, 0, 0, 0, 0, 0, 0, 0, 0, 0, 0, 1, 0, 0, 0, 0, 0, 0, 0, 0, 0, 1, 0,\n",
       "          0, 0, 0, 0, 0, 0, 0, 0, 0, 0, 1, 0, 0, 0, 1, 0, 0, 0, 0, 0, 0, 0, 0, 0,\n",
       "          0, 0, 0, 0, 0, 0, 0, 0, 0, 0, 0, 0, 0, 0, 0, 0, 0, 0, 0, 0, 1, 0, 0, 0,\n",
       "          0, 0, 0, 0, 0, 1, 0, 0, 0, 0, 0, 0, 0, 0, 0, 0, 1, 0, 0, 0, 0, 0, 0, 0,\n",
       "          0, 0, 0, 0, 0, 0, 0, 0, 0, 0, 0, 0, 0, 0, 0, 1, 0, 0, 0, 0, 0, 0, 0, 0,\n",
       "          0, 0, 0, 0, 0, 0, 0, 1, 1, 1, 0, 0, 0, 0, 0, 0])]]"
      ]
     },
     "execution_count": 4623,
     "metadata": {},
     "output_type": "execute_result"
    }
   ],
   "source": [
    "train_loader = DataLoader(train_dataset, batch_size = CFG['BATCH_SIZE'], shuffle=True)\n",
    "val_loader = DataLoader(val_dataset, batch_size = CFG['BATCH_SIZE'], shuffle=False)\n",
    "list(train_loader)[:1] "
   ]
  },
  {
   "cell_type": "code",
   "execution_count": 4624,
   "id": "db671aaf",
   "metadata": {},
   "outputs": [],
   "source": [
    "class Teacher(nn.Module):\n",
    "    def __init__(self):\n",
    "        super(Teacher, self).__init__()\n",
    "        self.classifier = nn.Sequential(\n",
    "            nn.Linear(in_features=train_col_num, out_features=256),\n",
    "            nn.Dropout(p=CFG['drop_rate']),\n",
    "            nn.BatchNorm1d(256),\n",
    "            nn.LeakyReLU(),\n",
    "            nn.Linear(in_features=256, out_features=1024),\n",
    "            nn.Dropout(p=CFG['drop_rate']),\n",
    "            nn.BatchNorm1d(1024),\n",
    "            nn.LeakyReLU(),\n",
    "            nn.Linear(in_features=1024, out_features=256),\n",
    "            nn.Dropout(p=CFG['drop_rate']),\n",
    "            nn.BatchNorm1d(256),\n",
    "            nn.LeakyReLU(),\n",
    "            nn.Linear(in_features=256, out_features=1),\n",
    "            nn.Sigmoid()\n",
    "        )\n",
    "        \n",
    "    def forward(self, x):\n",
    "        output = self.classifier(x)\n",
    "        return output"
   ]
  },
  {
   "cell_type": "markdown",
   "id": "9c7cd916",
   "metadata": {},
   "source": [
    "#### BCELOSS : https://pytorch.org/docs/stable/generated/torch.nn.BCELoss.html"
   ]
  },
  {
   "cell_type": "code",
   "execution_count": 4625,
   "id": "c13f0b15",
   "metadata": {},
   "outputs": [],
   "source": [
    "def train(model, optimizer, train_loader, val_loader, scheduler, device):\n",
    "    model.to(device)\n",
    "\n",
    "    best_score = 0\n",
    "    best_model = None\n",
    "    \n",
    "    # Loss Function 정의\n",
    "    criterion = nn.BCELoss(reduction = CFG['reduct']).to(device)  #BCEWithLogitsLoss\n",
    "#     criterion = nn.BCEWithLogitsLoss(reduction = CFG['reduct']).to(device)  #BCEWithLogitsLoss\n",
    "\n",
    "    for epoch in range(CFG[\"EPOCHS\"]):\n",
    "        train_loss = []\n",
    "  \n",
    "        model.train()\n",
    "        for X, y in tqdm(train_loader):\n",
    "            X = X.float().to(device)\n",
    "            y = y.float().to(device)\n",
    "            \n",
    "            optimizer.zero_grad()\n",
    "            \n",
    "            y_pred = model(X)\n",
    "            \n",
    "            loss = criterion(y_pred, y.reshape(-1, 1))  # loss_fn(input, target)\n",
    "            loss.backward()\n",
    "            \n",
    "            optimizer.step()\n",
    "\n",
    "            train_loss.append(loss.item())\n",
    "\n",
    "        val_loss, val_score = validation_teacher(model, val_loader, criterion, device)\n",
    "        \n",
    "        print(f'Epoch [{epoch}], Train Loss : [{np.mean(train_loss) :.5f}] Val Loss : [{np.mean(val_loss) :.5f}] Val F1 Score : [{val_score:.5f}]')\n",
    "\n",
    "        if scheduler is not None:\n",
    "            scheduler.step(val_score)\n",
    "            \n",
    "        if best_score < val_score:\n",
    "            best_model = model\n",
    "            best_score = val_score\n",
    "    print(f\"Teacher Train Best Score는 {best_score} 입니다.\")\n",
    "    return best_model "
   ]
  },
  {
   "cell_type": "code",
   "execution_count": 4626,
   "id": "f183e274",
   "metadata": {},
   "outputs": [],
   "source": [
    "def competition_metric(true, pred):\n",
    "    return f1_score(true, pred, average=\"macro\")\n",
    "\n",
    "def validation_teacher(model, val_loader, criterion, device):\n",
    "    model.eval()\n",
    "\n",
    "    val_loss = []\n",
    "    pred_labels = []\n",
    "    true_labels = []\n",
    "    threshold = CFG['T_Thresh']     \n",
    "    \n",
    "    with torch.no_grad():\n",
    "        for X, y in tqdm(val_loader):\n",
    "            X = X.float().to(device)\n",
    "            y = y.float().to(device)\n",
    "            \n",
    "            model_pred = model(X.to(device))\n",
    "            \n",
    "            loss = criterion(model_pred, y.reshape(-1, 1))\n",
    "            val_loss.append(loss.item())      \n",
    "            \n",
    "            model_pred = model_pred.squeeze(1).to('cpu')  # squeeze함수는 차원이 1인 차원을 제거해준다.\n",
    "            pred_labels += model_pred.tolist()\n",
    "            true_labels += y.tolist()\n",
    "        \n",
    "        #print(pred_labels[0:10])\n",
    "        # 오일상태는 0: 정상, 1: 이상\n",
    "        # 어느 임계점 thrshold보다 큰 예측 라벨을 1로 하고, 나머지를 0으로 할 것인가?\n",
    "        pred_labels = np.where(np.array(pred_labels) > threshold, 1, 0)\n",
    "        #print(pred_labels[0:10])\n",
    "        \n",
    "        val_f1 = competition_metric(true_labels, pred_labels)\n",
    "    return val_loss, val_f1   "
   ]
  },
  {
   "cell_type": "markdown",
   "id": "a8a5e1be",
   "metadata": {},
   "source": [
    "#### 옵티마이저 (Optimizer)\n",
    "\n",
    "+ 손실 함수를 기반으로 모델이 어떻게 업데이트해야하는지를 결정 \n",
    "\n",
    "+ optimizer는 step()을 통해 전달받은 파라미터를 모델 업데이트\n",
    "\n",
    "+ 모든 옵티마이저는 기본으로 torch.optim.Optimzer(params, defaults) 클래스를 사용\n",
    "\n",
    "+ zero_grad()를 이용해 옵티마이저에 사용된 파라미터의 기울기를 0으로 설정\n",
    "\n",
    "+ torch.optim.lr_scheduler를 이용해 epoch에 따라 학습률 조절\n",
    "\n",
    "+ 파이토치 주요 옵티마이저: optim.Adadelta, optim.Adagrad, optim.Adam , optim.RMSprop, optim.SGD\n",
    "\n",
    "* TORCH.OPTIM : https://pytorch.org/docs/stable/optim.html\n"
   ]
  },
  {
   "cell_type": "markdown",
   "id": "f6f4e816",
   "metadata": {},
   "source": [
    "#### 학습률 스케줄러 (Learning rate scheduler)\n",
    "\n",
    "+ 학습시 특성 조건에 따라 학습률을 조정하여 최적화 진행\n",
    "\n",
    "+ 일정 횟수 이상이 되면 학습률을 감소시키거나, 전역 최소점 근처에가 하면 학습률을 줄이는 등  \n",
    "\n",
    "+ optim.lr_scheduler.LamdbaLR : 람다 함수를 이용해 그 결과를 학습률로 설정\n",
    "\n",
    "+ optim.lr_scheduler.StepLR : 단계 마다 학습률을 감마 비율로 감소\n",
    "\n",
    "+ optim.lr_scheduler.MultiStepLR : StepLR과 비슷하지만 지정된 에포카에서만 감마 비율로 감소\n",
    "\n",
    "+ optim.lr_scheduler.ExponentialLR : epoch마다 이전 학습률에 감마만큼 곱함\n",
    "\n",
    "+ optim.lr_scheduler.CosineAnnealingLR : 학습률을 코사인 함수의 형태로 변화시켜 학습률을 조절\n",
    "\n",
    "+ optim.lr_scheduler.ReduceLROnPlateau : 학습이 잘 되는지 아닌지에 따라 동적으로 학습률 변화 \n",
    "+ 링크 : https://pytorch.org/docs/stable/generated/torch.optim.lr_scheduler.ReduceLROnPlateau.html?highlight=reducelronplateau#torch.optim.lr_scheduler.ReduceLROnPlateau\n",
    "* 인자설명 : https://deep-deep-deep.tistory.com/56"
   ]
  },
  {
   "cell_type": "code",
   "execution_count": 4627,
   "id": "466f5872",
   "metadata": {
    "scrolled": false
   },
   "outputs": [
    {
     "name": "stdout",
     "output_type": "stream",
     "text": [
      "------------------------------\n",
      "------------------------------\n",
      "------------------------------\n"
     ]
    },
    {
     "data": {
      "application/vnd.jupyter.widget-view+json": {
       "model_id": "55cf3d22c4844c7bb103c915fed19968",
       "version_major": 2,
       "version_minor": 0
      },
      "text/plain": [
       "  0%|          | 0/45 [00:00<?, ?it/s]"
      ]
     },
     "metadata": {},
     "output_type": "display_data"
    },
    {
     "data": {
      "application/vnd.jupyter.widget-view+json": {
       "model_id": "6fae03ec571f48b492e18b67e5453e50",
       "version_major": 2,
       "version_minor": 0
      },
      "text/plain": [
       "  0%|          | 0/12 [00:00<?, ?it/s]"
      ]
     },
     "metadata": {},
     "output_type": "display_data"
    },
    {
     "name": "stdout",
     "output_type": "stream",
     "text": [
      "Epoch [0], Train Loss : [0.44457] Val Loss : [0.18056] Val F1 Score : [0.73803]\n"
     ]
    },
    {
     "data": {
      "application/vnd.jupyter.widget-view+json": {
       "model_id": "fedf37ec404e49e084afded08a10c5b1",
       "version_major": 2,
       "version_minor": 0
      },
      "text/plain": [
       "  0%|          | 0/45 [00:00<?, ?it/s]"
      ]
     },
     "metadata": {},
     "output_type": "display_data"
    },
    {
     "data": {
      "application/vnd.jupyter.widget-view+json": {
       "model_id": "a2da3dbae0044ecb8d918d17da133193",
       "version_major": 2,
       "version_minor": 0
      },
      "text/plain": [
       "  0%|          | 0/12 [00:00<?, ?it/s]"
      ]
     },
     "metadata": {},
     "output_type": "display_data"
    },
    {
     "name": "stdout",
     "output_type": "stream",
     "text": [
      "Epoch [1], Train Loss : [0.20684] Val Loss : [0.16944] Val F1 Score : [0.81725]\n"
     ]
    },
    {
     "data": {
      "application/vnd.jupyter.widget-view+json": {
       "model_id": "88eeb056fa8147b9b95a58fe51183055",
       "version_major": 2,
       "version_minor": 0
      },
      "text/plain": [
       "  0%|          | 0/45 [00:00<?, ?it/s]"
      ]
     },
     "metadata": {},
     "output_type": "display_data"
    },
    {
     "data": {
      "application/vnd.jupyter.widget-view+json": {
       "model_id": "74d372b088a44c1dbf6cf63342241cdf",
       "version_major": 2,
       "version_minor": 0
      },
      "text/plain": [
       "  0%|          | 0/12 [00:00<?, ?it/s]"
      ]
     },
     "metadata": {},
     "output_type": "display_data"
    },
    {
     "name": "stdout",
     "output_type": "stream",
     "text": [
      "Epoch [2], Train Loss : [0.17778] Val Loss : [0.15732] Val F1 Score : [0.82115]\n"
     ]
    },
    {
     "data": {
      "application/vnd.jupyter.widget-view+json": {
       "model_id": "1815155c71aa42bea004ad581832e76a",
       "version_major": 2,
       "version_minor": 0
      },
      "text/plain": [
       "  0%|          | 0/45 [00:00<?, ?it/s]"
      ]
     },
     "metadata": {},
     "output_type": "display_data"
    },
    {
     "data": {
      "application/vnd.jupyter.widget-view+json": {
       "model_id": "ba92b3b603cb493185793a83fdb52778",
       "version_major": 2,
       "version_minor": 0
      },
      "text/plain": [
       "  0%|          | 0/12 [00:00<?, ?it/s]"
      ]
     },
     "metadata": {},
     "output_type": "display_data"
    },
    {
     "name": "stdout",
     "output_type": "stream",
     "text": [
      "Epoch [3], Train Loss : [0.17091] Val Loss : [0.15313] Val F1 Score : [0.82492]\n"
     ]
    },
    {
     "data": {
      "application/vnd.jupyter.widget-view+json": {
       "model_id": "21984f07f1ed4a04b6ae06ad2e8ed7cf",
       "version_major": 2,
       "version_minor": 0
      },
      "text/plain": [
       "  0%|          | 0/45 [00:00<?, ?it/s]"
      ]
     },
     "metadata": {},
     "output_type": "display_data"
    },
    {
     "data": {
      "application/vnd.jupyter.widget-view+json": {
       "model_id": "c19a87d1f8f44e328a7253cd03461302",
       "version_major": 2,
       "version_minor": 0
      },
      "text/plain": [
       "  0%|          | 0/12 [00:00<?, ?it/s]"
      ]
     },
     "metadata": {},
     "output_type": "display_data"
    },
    {
     "name": "stdout",
     "output_type": "stream",
     "text": [
      "Epoch [4], Train Loss : [0.18661] Val Loss : [0.19144] Val F1 Score : [0.81952]\n"
     ]
    },
    {
     "data": {
      "application/vnd.jupyter.widget-view+json": {
       "model_id": "b442fdb7352a41e3bdc670a3c6d61720",
       "version_major": 2,
       "version_minor": 0
      },
      "text/plain": [
       "  0%|          | 0/45 [00:00<?, ?it/s]"
      ]
     },
     "metadata": {},
     "output_type": "display_data"
    },
    {
     "data": {
      "application/vnd.jupyter.widget-view+json": {
       "model_id": "78f5ee8295b7474591fb0b917a572d68",
       "version_major": 2,
       "version_minor": 0
      },
      "text/plain": [
       "  0%|          | 0/12 [00:00<?, ?it/s]"
      ]
     },
     "metadata": {},
     "output_type": "display_data"
    },
    {
     "name": "stdout",
     "output_type": "stream",
     "text": [
      "Epoch [5], Train Loss : [0.18383] Val Loss : [0.16530] Val F1 Score : [0.81990]\n",
      "Epoch 00006: reducing learning rate of group 0 to 5.0000e-02.\n"
     ]
    },
    {
     "data": {
      "application/vnd.jupyter.widget-view+json": {
       "model_id": "d9e3bf63fbef41f6b73ba00d5cd28f85",
       "version_major": 2,
       "version_minor": 0
      },
      "text/plain": [
       "  0%|          | 0/45 [00:00<?, ?it/s]"
      ]
     },
     "metadata": {},
     "output_type": "display_data"
    },
    {
     "data": {
      "application/vnd.jupyter.widget-view+json": {
       "model_id": "5819176c6a1942728ff11c5cab98afbb",
       "version_major": 2,
       "version_minor": 0
      },
      "text/plain": [
       "  0%|          | 0/12 [00:00<?, ?it/s]"
      ]
     },
     "metadata": {},
     "output_type": "display_data"
    },
    {
     "name": "stdout",
     "output_type": "stream",
     "text": [
      "Epoch [6], Train Loss : [0.16248] Val Loss : [0.14971] Val F1 Score : [0.82346]\n"
     ]
    },
    {
     "data": {
      "application/vnd.jupyter.widget-view+json": {
       "model_id": "710eb36facf3498194d5aeb90df2182b",
       "version_major": 2,
       "version_minor": 0
      },
      "text/plain": [
       "  0%|          | 0/45 [00:00<?, ?it/s]"
      ]
     },
     "metadata": {},
     "output_type": "display_data"
    },
    {
     "data": {
      "application/vnd.jupyter.widget-view+json": {
       "model_id": "3e1dead92dfc40b59d5542a81763efbe",
       "version_major": 2,
       "version_minor": 0
      },
      "text/plain": [
       "  0%|          | 0/12 [00:00<?, ?it/s]"
      ]
     },
     "metadata": {},
     "output_type": "display_data"
    },
    {
     "name": "stdout",
     "output_type": "stream",
     "text": [
      "Epoch [7], Train Loss : [0.15391] Val Loss : [0.14735] Val F1 Score : [0.83002]\n"
     ]
    },
    {
     "data": {
      "application/vnd.jupyter.widget-view+json": {
       "model_id": "8437e6c6ee85463eb132e8e3f2f23b88",
       "version_major": 2,
       "version_minor": 0
      },
      "text/plain": [
       "  0%|          | 0/45 [00:00<?, ?it/s]"
      ]
     },
     "metadata": {},
     "output_type": "display_data"
    },
    {
     "data": {
      "application/vnd.jupyter.widget-view+json": {
       "model_id": "abb3886172d840e880933ef6c750b257",
       "version_major": 2,
       "version_minor": 0
      },
      "text/plain": [
       "  0%|          | 0/12 [00:00<?, ?it/s]"
      ]
     },
     "metadata": {},
     "output_type": "display_data"
    },
    {
     "name": "stdout",
     "output_type": "stream",
     "text": [
      "Epoch [8], Train Loss : [0.15258] Val Loss : [0.14377] Val F1 Score : [0.83332]\n"
     ]
    },
    {
     "data": {
      "application/vnd.jupyter.widget-view+json": {
       "model_id": "0915e159780749d0938e3d69bf95d53c",
       "version_major": 2,
       "version_minor": 0
      },
      "text/plain": [
       "  0%|          | 0/45 [00:00<?, ?it/s]"
      ]
     },
     "metadata": {},
     "output_type": "display_data"
    },
    {
     "data": {
      "application/vnd.jupyter.widget-view+json": {
       "model_id": "dbaee50b13bd43368e61e15e80f712cb",
       "version_major": 2,
       "version_minor": 0
      },
      "text/plain": [
       "  0%|          | 0/12 [00:00<?, ?it/s]"
      ]
     },
     "metadata": {},
     "output_type": "display_data"
    },
    {
     "name": "stdout",
     "output_type": "stream",
     "text": [
      "Epoch [9], Train Loss : [0.15354] Val Loss : [0.14730] Val F1 Score : [0.82332]\n"
     ]
    },
    {
     "data": {
      "application/vnd.jupyter.widget-view+json": {
       "model_id": "a35ce35830244b58b8c37d26724067e1",
       "version_major": 2,
       "version_minor": 0
      },
      "text/plain": [
       "  0%|          | 0/45 [00:00<?, ?it/s]"
      ]
     },
     "metadata": {},
     "output_type": "display_data"
    },
    {
     "data": {
      "application/vnd.jupyter.widget-view+json": {
       "model_id": "991d736a3e5d4a65ae7ed7015495227b",
       "version_major": 2,
       "version_minor": 0
      },
      "text/plain": [
       "  0%|          | 0/12 [00:00<?, ?it/s]"
      ]
     },
     "metadata": {},
     "output_type": "display_data"
    },
    {
     "name": "stdout",
     "output_type": "stream",
     "text": [
      "Epoch [10], Train Loss : [0.15330] Val Loss : [0.14156] Val F1 Score : [0.82234]\n",
      "Epoch 00011: reducing learning rate of group 0 to 2.5000e-02.\n"
     ]
    },
    {
     "data": {
      "application/vnd.jupyter.widget-view+json": {
       "model_id": "61301c04f715447cb4ba9c0e67f1ebf6",
       "version_major": 2,
       "version_minor": 0
      },
      "text/plain": [
       "  0%|          | 0/45 [00:00<?, ?it/s]"
      ]
     },
     "metadata": {},
     "output_type": "display_data"
    },
    {
     "data": {
      "application/vnd.jupyter.widget-view+json": {
       "model_id": "65c4ba29a8544dd3a09e275689d172f2",
       "version_major": 2,
       "version_minor": 0
      },
      "text/plain": [
       "  0%|          | 0/12 [00:00<?, ?it/s]"
      ]
     },
     "metadata": {},
     "output_type": "display_data"
    },
    {
     "name": "stdout",
     "output_type": "stream",
     "text": [
      "Epoch [11], Train Loss : [0.14649] Val Loss : [0.14063] Val F1 Score : [0.82887]\n"
     ]
    },
    {
     "data": {
      "application/vnd.jupyter.widget-view+json": {
       "model_id": "f730aa1f4f2e4e0fac6e4d593531c726",
       "version_major": 2,
       "version_minor": 0
      },
      "text/plain": [
       "  0%|          | 0/45 [00:00<?, ?it/s]"
      ]
     },
     "metadata": {},
     "output_type": "display_data"
    },
    {
     "data": {
      "application/vnd.jupyter.widget-view+json": {
       "model_id": "9ea0c866f176411a9af647e145facfdb",
       "version_major": 2,
       "version_minor": 0
      },
      "text/plain": [
       "  0%|          | 0/12 [00:00<?, ?it/s]"
      ]
     },
     "metadata": {},
     "output_type": "display_data"
    },
    {
     "name": "stdout",
     "output_type": "stream",
     "text": [
      "Epoch [12], Train Loss : [0.15645] Val Loss : [0.14176] Val F1 Score : [0.83682]\n"
     ]
    },
    {
     "data": {
      "application/vnd.jupyter.widget-view+json": {
       "model_id": "03b7100a51e4498e9693f77d17afdcdd",
       "version_major": 2,
       "version_minor": 0
      },
      "text/plain": [
       "  0%|          | 0/45 [00:00<?, ?it/s]"
      ]
     },
     "metadata": {},
     "output_type": "display_data"
    },
    {
     "data": {
      "application/vnd.jupyter.widget-view+json": {
       "model_id": "6b4ead49418646a39805ccb7210aa178",
       "version_major": 2,
       "version_minor": 0
      },
      "text/plain": [
       "  0%|          | 0/12 [00:00<?, ?it/s]"
      ]
     },
     "metadata": {},
     "output_type": "display_data"
    },
    {
     "name": "stdout",
     "output_type": "stream",
     "text": [
      "Epoch [13], Train Loss : [0.15082] Val Loss : [0.14122] Val F1 Score : [0.83393]\n"
     ]
    },
    {
     "data": {
      "application/vnd.jupyter.widget-view+json": {
       "model_id": "2ce97ecbff95458eb77bfe5f7631ec1b",
       "version_major": 2,
       "version_minor": 0
      },
      "text/plain": [
       "  0%|          | 0/45 [00:00<?, ?it/s]"
      ]
     },
     "metadata": {},
     "output_type": "display_data"
    },
    {
     "data": {
      "application/vnd.jupyter.widget-view+json": {
       "model_id": "0e0be1b55f7f486d9f916c37dd188824",
       "version_major": 2,
       "version_minor": 0
      },
      "text/plain": [
       "  0%|          | 0/12 [00:00<?, ?it/s]"
      ]
     },
     "metadata": {},
     "output_type": "display_data"
    },
    {
     "name": "stdout",
     "output_type": "stream",
     "text": [
      "Epoch [14], Train Loss : [0.15044] Val Loss : [0.14659] Val F1 Score : [0.82873]\n",
      "Epoch 00015: reducing learning rate of group 0 to 1.2500e-02.\n"
     ]
    },
    {
     "data": {
      "application/vnd.jupyter.widget-view+json": {
       "model_id": "961e50780f494e8eb7c7ec927b4f3f40",
       "version_major": 2,
       "version_minor": 0
      },
      "text/plain": [
       "  0%|          | 0/45 [00:00<?, ?it/s]"
      ]
     },
     "metadata": {},
     "output_type": "display_data"
    },
    {
     "data": {
      "application/vnd.jupyter.widget-view+json": {
       "model_id": "7eafcdc9000741e899fdb9b3f783bb1e",
       "version_major": 2,
       "version_minor": 0
      },
      "text/plain": [
       "  0%|          | 0/12 [00:00<?, ?it/s]"
      ]
     },
     "metadata": {},
     "output_type": "display_data"
    },
    {
     "name": "stdout",
     "output_type": "stream",
     "text": [
      "Epoch [15], Train Loss : [0.18221] Val Loss : [0.14906] Val F1 Score : [0.83661]\n"
     ]
    },
    {
     "data": {
      "application/vnd.jupyter.widget-view+json": {
       "model_id": "544b022e99194faca023aaa8710f604f",
       "version_major": 2,
       "version_minor": 0
      },
      "text/plain": [
       "  0%|          | 0/45 [00:00<?, ?it/s]"
      ]
     },
     "metadata": {},
     "output_type": "display_data"
    },
    {
     "data": {
      "application/vnd.jupyter.widget-view+json": {
       "model_id": "a86dfb461b694c2e9002c07b76c07fc4",
       "version_major": 2,
       "version_minor": 0
      },
      "text/plain": [
       "  0%|          | 0/12 [00:00<?, ?it/s]"
      ]
     },
     "metadata": {},
     "output_type": "display_data"
    },
    {
     "name": "stdout",
     "output_type": "stream",
     "text": [
      "Epoch [16], Train Loss : [0.14846] Val Loss : [0.14530] Val F1 Score : [0.82492]\n",
      "Epoch 00017: reducing learning rate of group 0 to 6.2500e-03.\n"
     ]
    },
    {
     "data": {
      "application/vnd.jupyter.widget-view+json": {
       "model_id": "780423f2ff6a45249ef4c5864aba1ea7",
       "version_major": 2,
       "version_minor": 0
      },
      "text/plain": [
       "  0%|          | 0/45 [00:00<?, ?it/s]"
      ]
     },
     "metadata": {},
     "output_type": "display_data"
    },
    {
     "data": {
      "application/vnd.jupyter.widget-view+json": {
       "model_id": "1420dbce1b854015a37d991ccaaeb6ea",
       "version_major": 2,
       "version_minor": 0
      },
      "text/plain": [
       "  0%|          | 0/12 [00:00<?, ?it/s]"
      ]
     },
     "metadata": {},
     "output_type": "display_data"
    },
    {
     "name": "stdout",
     "output_type": "stream",
     "text": [
      "Epoch [17], Train Loss : [0.13799] Val Loss : [0.14561] Val F1 Score : [0.82234]\n"
     ]
    },
    {
     "data": {
      "application/vnd.jupyter.widget-view+json": {
       "model_id": "b72e5abcda6142998451405224cd0720",
       "version_major": 2,
       "version_minor": 0
      },
      "text/plain": [
       "  0%|          | 0/45 [00:00<?, ?it/s]"
      ]
     },
     "metadata": {},
     "output_type": "display_data"
    },
    {
     "data": {
      "application/vnd.jupyter.widget-view+json": {
       "model_id": "e63060f50bdb471fa545813c2080ef99",
       "version_major": 2,
       "version_minor": 0
      },
      "text/plain": [
       "  0%|          | 0/12 [00:00<?, ?it/s]"
      ]
     },
     "metadata": {},
     "output_type": "display_data"
    },
    {
     "name": "stdout",
     "output_type": "stream",
     "text": [
      "Epoch [18], Train Loss : [0.13659] Val Loss : [0.14434] Val F1 Score : [0.82419]\n",
      "Epoch 00019: reducing learning rate of group 0 to 3.1250e-03.\n"
     ]
    },
    {
     "data": {
      "application/vnd.jupyter.widget-view+json": {
       "model_id": "532eed0c43ca4240b3e3ea349bf81769",
       "version_major": 2,
       "version_minor": 0
      },
      "text/plain": [
       "  0%|          | 0/45 [00:00<?, ?it/s]"
      ]
     },
     "metadata": {},
     "output_type": "display_data"
    },
    {
     "data": {
      "application/vnd.jupyter.widget-view+json": {
       "model_id": "dfb62dd752424220bd43db54b8c01ffa",
       "version_major": 2,
       "version_minor": 0
      },
      "text/plain": [
       "  0%|          | 0/12 [00:00<?, ?it/s]"
      ]
     },
     "metadata": {},
     "output_type": "display_data"
    },
    {
     "name": "stdout",
     "output_type": "stream",
     "text": [
      "Epoch [19], Train Loss : [0.14165] Val Loss : [0.14648] Val F1 Score : [0.82871]\n"
     ]
    },
    {
     "data": {
      "application/vnd.jupyter.widget-view+json": {
       "model_id": "26558e84479b491fac498f3c445d7bb0",
       "version_major": 2,
       "version_minor": 0
      },
      "text/plain": [
       "  0%|          | 0/45 [00:00<?, ?it/s]"
      ]
     },
     "metadata": {},
     "output_type": "display_data"
    },
    {
     "data": {
      "application/vnd.jupyter.widget-view+json": {
       "model_id": "7689fa6655b44daf907f750b5f5203a0",
       "version_major": 2,
       "version_minor": 0
      },
      "text/plain": [
       "  0%|          | 0/12 [00:00<?, ?it/s]"
      ]
     },
     "metadata": {},
     "output_type": "display_data"
    },
    {
     "name": "stdout",
     "output_type": "stream",
     "text": [
      "Epoch [20], Train Loss : [0.13525] Val Loss : [0.14303] Val F1 Score : [0.82321]\n",
      "Epoch 00021: reducing learning rate of group 0 to 1.5625e-03.\n"
     ]
    },
    {
     "data": {
      "application/vnd.jupyter.widget-view+json": {
       "model_id": "c6b6fe346355454d9d7d4e4f4f66dfa3",
       "version_major": 2,
       "version_minor": 0
      },
      "text/plain": [
       "  0%|          | 0/45 [00:00<?, ?it/s]"
      ]
     },
     "metadata": {},
     "output_type": "display_data"
    },
    {
     "data": {
      "application/vnd.jupyter.widget-view+json": {
       "model_id": "67682f1b2f58409bae8bc6bdce12cd7a",
       "version_major": 2,
       "version_minor": 0
      },
      "text/plain": [
       "  0%|          | 0/12 [00:00<?, ?it/s]"
      ]
     },
     "metadata": {},
     "output_type": "display_data"
    },
    {
     "name": "stdout",
     "output_type": "stream",
     "text": [
      "Epoch [21], Train Loss : [0.13310] Val Loss : [0.14649] Val F1 Score : [0.83035]\n"
     ]
    },
    {
     "data": {
      "application/vnd.jupyter.widget-view+json": {
       "model_id": "ca3d98ccf087409fb5b6ac305e64a6b5",
       "version_major": 2,
       "version_minor": 0
      },
      "text/plain": [
       "  0%|          | 0/45 [00:00<?, ?it/s]"
      ]
     },
     "metadata": {},
     "output_type": "display_data"
    },
    {
     "data": {
      "application/vnd.jupyter.widget-view+json": {
       "model_id": "cdc9ca4433bc46119455bc47f40118b7",
       "version_major": 2,
       "version_minor": 0
      },
      "text/plain": [
       "  0%|          | 0/12 [00:00<?, ?it/s]"
      ]
     },
     "metadata": {},
     "output_type": "display_data"
    },
    {
     "name": "stdout",
     "output_type": "stream",
     "text": [
      "Epoch [22], Train Loss : [0.13444] Val Loss : [0.14599] Val F1 Score : [0.82954]\n",
      "Epoch 00023: reducing learning rate of group 0 to 7.8125e-04.\n"
     ]
    },
    {
     "data": {
      "application/vnd.jupyter.widget-view+json": {
       "model_id": "e73a633a706a4f6a843235f1f513f117",
       "version_major": 2,
       "version_minor": 0
      },
      "text/plain": [
       "  0%|          | 0/45 [00:00<?, ?it/s]"
      ]
     },
     "metadata": {},
     "output_type": "display_data"
    },
    {
     "data": {
      "application/vnd.jupyter.widget-view+json": {
       "model_id": "a427ab36314e4c54be9e6b2b711838cb",
       "version_major": 2,
       "version_minor": 0
      },
      "text/plain": [
       "  0%|          | 0/12 [00:00<?, ?it/s]"
      ]
     },
     "metadata": {},
     "output_type": "display_data"
    },
    {
     "name": "stdout",
     "output_type": "stream",
     "text": [
      "Epoch [23], Train Loss : [0.13189] Val Loss : [0.14736] Val F1 Score : [0.83374]\n"
     ]
    },
    {
     "data": {
      "application/vnd.jupyter.widget-view+json": {
       "model_id": "847297695b524ed08ae4478a709510e6",
       "version_major": 2,
       "version_minor": 0
      },
      "text/plain": [
       "  0%|          | 0/45 [00:00<?, ?it/s]"
      ]
     },
     "metadata": {},
     "output_type": "display_data"
    },
    {
     "data": {
      "application/vnd.jupyter.widget-view+json": {
       "model_id": "7e9b5dc747f14687a68d188b3a0813e1",
       "version_major": 2,
       "version_minor": 0
      },
      "text/plain": [
       "  0%|          | 0/12 [00:00<?, ?it/s]"
      ]
     },
     "metadata": {},
     "output_type": "display_data"
    },
    {
     "name": "stdout",
     "output_type": "stream",
     "text": [
      "Epoch [24], Train Loss : [0.13797] Val Loss : [0.14758] Val F1 Score : [0.83197]\n",
      "Epoch 00025: reducing learning rate of group 0 to 3.9063e-04.\n"
     ]
    },
    {
     "data": {
      "application/vnd.jupyter.widget-view+json": {
       "model_id": "f0ad8a6a8e734bfeb7e5f8307c2101e4",
       "version_major": 2,
       "version_minor": 0
      },
      "text/plain": [
       "  0%|          | 0/45 [00:00<?, ?it/s]"
      ]
     },
     "metadata": {},
     "output_type": "display_data"
    },
    {
     "data": {
      "application/vnd.jupyter.widget-view+json": {
       "model_id": "96eb6c9fcd3540fe8b17e69fda32f373",
       "version_major": 2,
       "version_minor": 0
      },
      "text/plain": [
       "  0%|          | 0/12 [00:00<?, ?it/s]"
      ]
     },
     "metadata": {},
     "output_type": "display_data"
    },
    {
     "name": "stdout",
     "output_type": "stream",
     "text": [
      "Epoch [25], Train Loss : [0.13112] Val Loss : [0.14634] Val F1 Score : [0.82419]\n"
     ]
    },
    {
     "data": {
      "application/vnd.jupyter.widget-view+json": {
       "model_id": "794dced4a8044449aee56c80c4131e7c",
       "version_major": 2,
       "version_minor": 0
      },
      "text/plain": [
       "  0%|          | 0/45 [00:00<?, ?it/s]"
      ]
     },
     "metadata": {},
     "output_type": "display_data"
    },
    {
     "data": {
      "application/vnd.jupyter.widget-view+json": {
       "model_id": "e64acd6f0ff54e929299039145f48f04",
       "version_major": 2,
       "version_minor": 0
      },
      "text/plain": [
       "  0%|          | 0/12 [00:00<?, ?it/s]"
      ]
     },
     "metadata": {},
     "output_type": "display_data"
    },
    {
     "name": "stdout",
     "output_type": "stream",
     "text": [
      "Epoch [26], Train Loss : [0.13055] Val Loss : [0.14722] Val F1 Score : [0.82604]\n",
      "Epoch 00027: reducing learning rate of group 0 to 1.9531e-04.\n"
     ]
    },
    {
     "data": {
      "application/vnd.jupyter.widget-view+json": {
       "model_id": "ac68adf8f0f84aae805d8e22aadea4b0",
       "version_major": 2,
       "version_minor": 0
      },
      "text/plain": [
       "  0%|          | 0/45 [00:00<?, ?it/s]"
      ]
     },
     "metadata": {},
     "output_type": "display_data"
    },
    {
     "data": {
      "application/vnd.jupyter.widget-view+json": {
       "model_id": "3c890f1ec3ce402dbfafa0f176c5d2a4",
       "version_major": 2,
       "version_minor": 0
      },
      "text/plain": [
       "  0%|          | 0/12 [00:00<?, ?it/s]"
      ]
     },
     "metadata": {},
     "output_type": "display_data"
    },
    {
     "name": "stdout",
     "output_type": "stream",
     "text": [
      "Epoch [27], Train Loss : [0.13118] Val Loss : [0.14894] Val F1 Score : [0.83452]\n"
     ]
    },
    {
     "data": {
      "application/vnd.jupyter.widget-view+json": {
       "model_id": "fca9fc54fd264d6eba10c8b4d30caaa2",
       "version_major": 2,
       "version_minor": 0
      },
      "text/plain": [
       "  0%|          | 0/45 [00:00<?, ?it/s]"
      ]
     },
     "metadata": {},
     "output_type": "display_data"
    },
    {
     "data": {
      "application/vnd.jupyter.widget-view+json": {
       "model_id": "b56288a9d2c64a6e9d489c347ae6d821",
       "version_major": 2,
       "version_minor": 0
      },
      "text/plain": [
       "  0%|          | 0/12 [00:00<?, ?it/s]"
      ]
     },
     "metadata": {},
     "output_type": "display_data"
    },
    {
     "name": "stdout",
     "output_type": "stream",
     "text": [
      "Epoch [28], Train Loss : [0.14415] Val Loss : [0.14764] Val F1 Score : [0.83295]\n",
      "Epoch 00029: reducing learning rate of group 0 to 9.7656e-05.\n"
     ]
    },
    {
     "data": {
      "application/vnd.jupyter.widget-view+json": {
       "model_id": "7290d459ea134daabf73b58cdd9a7cd7",
       "version_major": 2,
       "version_minor": 0
      },
      "text/plain": [
       "  0%|          | 0/45 [00:00<?, ?it/s]"
      ]
     },
     "metadata": {},
     "output_type": "display_data"
    },
    {
     "data": {
      "application/vnd.jupyter.widget-view+json": {
       "model_id": "a0659ba8513e42a7a3481b210cb605a6",
       "version_major": 2,
       "version_minor": 0
      },
      "text/plain": [
       "  0%|          | 0/12 [00:00<?, ?it/s]"
      ]
     },
     "metadata": {},
     "output_type": "display_data"
    },
    {
     "name": "stdout",
     "output_type": "stream",
     "text": [
      "Epoch [29], Train Loss : [0.13249] Val Loss : [0.14666] Val F1 Score : [0.83233]\n",
      "Teacher Train Best Score는 0.8368229219737644 입니다.\n"
     ]
    }
   ],
   "source": [
    "model = Teacher()\n",
    "model.eval()\n",
    "print(\"-\"*30)\n",
    "# print(list(model.parameters()))   # check out the parameters\n",
    "print(\"-\"*30)\n",
    "# print(model.state_dict())   # list the named parameters\n",
    "print(\"-\"*30)\n",
    "optimizer = torch.optim.Adam(model.parameters(), lr=CFG['LEARNING_RATE'])\n",
    "scheduler = torch.optim.lr_scheduler.ReduceLROnPlateau(optimizer, mode='max', factor=0.5, patience=1, threshold_mode='abs',min_lr=1e-8, verbose=True)\n",
    "\n",
    "teacher_model = train(model, optimizer, train_loader, val_loader, scheduler, device)"
   ]
  },
  {
   "cell_type": "code",
   "execution_count": 4628,
   "id": "627a68fe",
   "metadata": {},
   "outputs": [],
   "source": [
    "PATH = f\"./models/teacher_net{file_version}.pth\"\n",
    "torch.save(teacher_model.state_dict(), PATH)"
   ]
  },
  {
   "cell_type": "code",
   "execution_count": 4629,
   "id": "89707003",
   "metadata": {},
   "outputs": [
    {
     "data": {
      "text/plain": [
       "<All keys matched successfully>"
      ]
     },
     "execution_count": 4629,
     "metadata": {},
     "output_type": "execute_result"
    }
   ],
   "source": [
    "teacher_model = Teacher()\n",
    "teacher_model.load_state_dict(torch.load(PATH))"
   ]
  },
  {
   "cell_type": "code",
   "execution_count": 4630,
   "id": "b5047ada",
   "metadata": {},
   "outputs": [],
   "source": [
    "class Student(nn.Module):\n",
    "    def __init__(self):\n",
    "        super(Student, self).__init__()\n",
    "        self.classifier = nn.Sequential(\n",
    "            nn.Linear(in_features=test_col_num, out_features=128),\n",
    "            nn.Dropout(p=CFG['drop_rate']),\n",
    "            nn.BatchNorm1d(128),\n",
    "            nn.LeakyReLU(),\n",
    "            nn.Linear(in_features=128, out_features=512),\n",
    "            nn.Dropout(p=CFG['drop_rate']),\n",
    "            nn.BatchNorm1d(512),\n",
    "            nn.LeakyReLU(),\n",
    "            nn.Linear(in_features=512, out_features=128),\n",
    "            nn.Dropout(p=CFG['drop_rate']),\n",
    "            nn.BatchNorm1d(128),\n",
    "            nn.LeakyReLU(),\n",
    "            nn.Linear(in_features=128, out_features=1),\n",
    "            nn.Sigmoid()\n",
    "        )\n",
    "        \n",
    "    def forward(self, x):\n",
    "        output = self.classifier(x)\n",
    "        return output"
   ]
  },
  {
   "cell_type": "code",
   "execution_count": 4631,
   "id": "fa70fa41",
   "metadata": {},
   "outputs": [],
   "source": [
    "# # distillation Function 정의\n",
    "\n",
    "# def distillation(student_logits, labels, teacher_logits, alpha):\n",
    "    \n",
    "#     student_loss = nn.BCELoss(reduction = CFG['reduct'])(student_logits, labels.reshape(-1, 1))\n",
    "#     distillation_loss = nn.BCELoss()(student_logits, teacher_logits)\n",
    "    \n",
    "#     return alpha * student_loss + (1-alpha) * distillation_loss\n",
    "\n",
    "# def distill_loss(output, target, teacher_output, loss_fn=distillation, opt=optimizer):\n",
    "#     loss_b = loss_fn(output, target, teacher_output, alpha=0.1)\n",
    "\n",
    "#     if opt is not None:\n",
    "#         opt.zero_grad()\n",
    "#         loss_b.backward()\n",
    "#         opt.step()\n",
    "\n",
    "#     return loss_b.item()"
   ]
  },
  {
   "cell_type": "code",
   "execution_count": 4632,
   "id": "ccfa60b2",
   "metadata": {},
   "outputs": [],
   "source": [
    "# distillation Function 정의\n",
    "\n",
    "def distillation(student_logits, labels, teacher_logits, alpha, T):\n",
    "    \n",
    "    student_loss = nn.BCELoss(reduction = CFG['reduct'])(student_logits, labels.reshape(-1, 1)) #BCEWithLogitsLoss\n",
    "#     student_loss = nn.BCEWithLogitsLoss(reduction = CFG['reduct'])(student_logits, labels.reshape(-1, 1)) #BCEWithLogitsLoss\n",
    "\n",
    "    distillation_loss = nn.KLDivLoss(reduction='batchmean')(F.log_softmax(student_logits/T, dim=1), F.softmax(teacher_logits/T, dim=1)) * (T * T)\n",
    "    \n",
    "    return alpha * student_loss + (1-alpha) * distillation_loss\n",
    "\n",
    "def distill_loss(output, target, teacher_output, loss_fn=distillation, opt=optimizer):\n",
    "    loss_b = loss_fn(output, target, teacher_output, alpha=0.1, T=10)\n",
    "\n",
    "    if opt is not None:\n",
    "        opt.zero_grad()\n",
    "        loss_b.backward()\n",
    "        opt.step()\n",
    "\n",
    "    return loss_b.item()"
   ]
  },
  {
   "cell_type": "code",
   "execution_count": null,
   "id": "c0faeae8",
   "metadata": {},
   "outputs": [],
   "source": []
  },
  {
   "cell_type": "code",
   "execution_count": 4633,
   "id": "c48a9f9b",
   "metadata": {},
   "outputs": [],
   "source": [
    "def student_train(s_model, t_model, optimizer, train_loader, val_loader, scheduler, device):\n",
    "    s_model.to(device)\n",
    "    t_model.to(device)\n",
    "    \n",
    "    best_score = 0\n",
    "    best_model = None\n",
    "\n",
    "    for epoch in range(CFG[\"EPOCHS\"]):\n",
    "        train_loss = []\n",
    "        s_model.train()\n",
    "        t_model.eval()    # teather는 이번에는 학습하지 않으므로 .eval()로 불러온다\n",
    "        \n",
    "        for X_t, X_s, y in tqdm(train_loader):\n",
    "            X_t = X_t.float().to(device)\n",
    "            X_s = X_s.float().to(device)\n",
    "            y = y.float().to(device)\n",
    "            \n",
    "            optimizer.zero_grad()\n",
    "\n",
    "            output = s_model(X_s)\n",
    "            with torch.no_grad():\n",
    "                teacher_output = t_model(X_t)\n",
    "                \n",
    "            loss_b = distill_loss(output, y, teacher_output, loss_fn=distillation, opt=optimizer)\n",
    "\n",
    "            train_loss.append(loss_b)\n",
    "\n",
    "        val_loss, val_score = validation_student(s_model, t_model, val_loader, distill_loss, device)\n",
    "        print(f'Epoch [{epoch}], Train Loss : [{np.mean(train_loss) :.5f}] Val Loss : [{np.mean(val_loss) :.5f}] Val F1 Score : [{val_score:.5f}]')\n",
    "        \n",
    "        if scheduler is not None:\n",
    "            scheduler.step(val_score)\n",
    "            \n",
    "        if best_score < val_score:\n",
    "            best_model = s_model\n",
    "            best_score = val_score\n",
    "    \n",
    "    print(f\"Student Train Best Score는 {best_score} 입니다.\")\n",
    "        \n",
    "    return best_model"
   ]
  },
  {
   "cell_type": "code",
   "execution_count": 4634,
   "id": "40c58ef2",
   "metadata": {},
   "outputs": [],
   "source": [
    "def validation_student(s_model, t_model, val_loader, criterion, device):\n",
    "    s_model.eval()\n",
    "    t_model.eval()\n",
    "\n",
    "    val_loss = []\n",
    "    pred_labels = []\n",
    "    true_labels = []\n",
    "    threshold = CFG['S_Thresh']\n",
    "    \n",
    "    with torch.no_grad():\n",
    "        for X_t, X_s, y in tqdm(val_loader):\n",
    "            X_t = X_t.float().to(device)\n",
    "            X_s = X_s.float().to(device)\n",
    "            y = y.float().to(device)\n",
    "            \n",
    "            model_pred = s_model(X_s)\n",
    "            teacher_output = t_model(X_t)\n",
    "            \n",
    "            loss_b = distill_loss(model_pred, y, teacher_output, loss_fn=distillation, opt=None)\n",
    "            val_loss.append(loss_b)\n",
    "            \n",
    "            model_pred = model_pred.squeeze(1).to('cpu')\n",
    "            pred_labels += model_pred.tolist()\n",
    "            true_labels += y.tolist()\n",
    "        \n",
    "        pred_labels = np.where(np.array(pred_labels) > threshold, 1, 0)\n",
    "        val_f1 = competition_metric(true_labels, pred_labels)\n",
    "    return val_loss, val_f1    "
   ]
  },
  {
   "cell_type": "code",
   "execution_count": 4635,
   "id": "d9a826b0",
   "metadata": {},
   "outputs": [],
   "source": [
    "train_dataset = CustomDataset(train_X, train_y, True)\n",
    "val_dataset = CustomDataset(val_X, val_y, True)\n",
    "\n",
    "train_loader = DataLoader(train_dataset, batch_size = CFG['BATCH_SIZE'], shuffle=True)\n",
    "val_loader = DataLoader(val_dataset, batch_size = CFG['BATCH_SIZE'], shuffle=False)"
   ]
  },
  {
   "cell_type": "code",
   "execution_count": 4636,
   "id": "fb3e89bc",
   "metadata": {
    "scrolled": false
   },
   "outputs": [
    {
     "data": {
      "application/vnd.jupyter.widget-view+json": {
       "model_id": "213da27d4a484ef787e767307d023f69",
       "version_major": 2,
       "version_minor": 0
      },
      "text/plain": [
       "  0%|          | 0/45 [00:00<?, ?it/s]"
      ]
     },
     "metadata": {},
     "output_type": "display_data"
    },
    {
     "data": {
      "application/vnd.jupyter.widget-view+json": {
       "model_id": "a97b52cdfaec41279d6719b4c33d0019",
       "version_major": 2,
       "version_minor": 0
      },
      "text/plain": [
       "  0%|          | 0/12 [00:00<?, ?it/s]"
      ]
     },
     "metadata": {},
     "output_type": "display_data"
    },
    {
     "name": "stdout",
     "output_type": "stream",
     "text": [
      "Epoch [0], Train Loss : [0.03433] Val Loss : [0.02679] Val F1 Score : [0.47767]\n"
     ]
    },
    {
     "data": {
      "application/vnd.jupyter.widget-view+json": {
       "model_id": "8305dea772f74aeb837f9f2ea9dd2eac",
       "version_major": 2,
       "version_minor": 0
      },
      "text/plain": [
       "  0%|          | 0/45 [00:00<?, ?it/s]"
      ]
     },
     "metadata": {},
     "output_type": "display_data"
    },
    {
     "data": {
      "application/vnd.jupyter.widget-view+json": {
       "model_id": "f515fe77be60499ba296e80c16f70612",
       "version_major": 2,
       "version_minor": 0
      },
      "text/plain": [
       "  0%|          | 0/12 [00:00<?, ?it/s]"
      ]
     },
     "metadata": {},
     "output_type": "display_data"
    },
    {
     "name": "stdout",
     "output_type": "stream",
     "text": [
      "Epoch [1], Train Loss : [0.02955] Val Loss : [0.02574] Val F1 Score : [0.47767]\n"
     ]
    },
    {
     "data": {
      "application/vnd.jupyter.widget-view+json": {
       "model_id": "198d313886f44c6bafa58d1f7a6a7d80",
       "version_major": 2,
       "version_minor": 0
      },
      "text/plain": [
       "  0%|          | 0/45 [00:00<?, ?it/s]"
      ]
     },
     "metadata": {},
     "output_type": "display_data"
    },
    {
     "data": {
      "application/vnd.jupyter.widget-view+json": {
       "model_id": "8dbf85d67fde43d89d64bd8a181de2b2",
       "version_major": 2,
       "version_minor": 0
      },
      "text/plain": [
       "  0%|          | 0/12 [00:00<?, ?it/s]"
      ]
     },
     "metadata": {},
     "output_type": "display_data"
    },
    {
     "name": "stdout",
     "output_type": "stream",
     "text": [
      "Epoch [2], Train Loss : [0.02911] Val Loss : [0.02588] Val F1 Score : [0.47758]\n",
      "Epoch 00003: reducing learning rate of group 0 to 5.0000e-02.\n"
     ]
    },
    {
     "data": {
      "application/vnd.jupyter.widget-view+json": {
       "model_id": "af4530682467432c992050df5ab9874a",
       "version_major": 2,
       "version_minor": 0
      },
      "text/plain": [
       "  0%|          | 0/45 [00:00<?, ?it/s]"
      ]
     },
     "metadata": {},
     "output_type": "display_data"
    },
    {
     "data": {
      "application/vnd.jupyter.widget-view+json": {
       "model_id": "e38dfaebd53d4d66ba2900f5fa4981e3",
       "version_major": 2,
       "version_minor": 0
      },
      "text/plain": [
       "  0%|          | 0/12 [00:00<?, ?it/s]"
      ]
     },
     "metadata": {},
     "output_type": "display_data"
    },
    {
     "name": "stdout",
     "output_type": "stream",
     "text": [
      "Epoch [3], Train Loss : [0.02759] Val Loss : [0.02560] Val F1 Score : [0.47767]\n"
     ]
    },
    {
     "data": {
      "application/vnd.jupyter.widget-view+json": {
       "model_id": "4194f1b0c27b4f4dbd1b8b7e1912f5ad",
       "version_major": 2,
       "version_minor": 0
      },
      "text/plain": [
       "  0%|          | 0/45 [00:00<?, ?it/s]"
      ]
     },
     "metadata": {},
     "output_type": "display_data"
    },
    {
     "data": {
      "application/vnd.jupyter.widget-view+json": {
       "model_id": "f5e7dbc097b34bb7b541707ea6b45719",
       "version_major": 2,
       "version_minor": 0
      },
      "text/plain": [
       "  0%|          | 0/12 [00:00<?, ?it/s]"
      ]
     },
     "metadata": {},
     "output_type": "display_data"
    },
    {
     "name": "stdout",
     "output_type": "stream",
     "text": [
      "Epoch [4], Train Loss : [0.02771] Val Loss : [0.02571] Val F1 Score : [0.47767]\n",
      "Epoch 00005: reducing learning rate of group 0 to 2.5000e-02.\n"
     ]
    },
    {
     "data": {
      "application/vnd.jupyter.widget-view+json": {
       "model_id": "122385e2648347fb8ce7e603dad02c31",
       "version_major": 2,
       "version_minor": 0
      },
      "text/plain": [
       "  0%|          | 0/45 [00:00<?, ?it/s]"
      ]
     },
     "metadata": {},
     "output_type": "display_data"
    },
    {
     "data": {
      "application/vnd.jupyter.widget-view+json": {
       "model_id": "5271c37ca753480a8b9b03c597331f54",
       "version_major": 2,
       "version_minor": 0
      },
      "text/plain": [
       "  0%|          | 0/12 [00:00<?, ?it/s]"
      ]
     },
     "metadata": {},
     "output_type": "display_data"
    },
    {
     "name": "stdout",
     "output_type": "stream",
     "text": [
      "Epoch [5], Train Loss : [0.02710] Val Loss : [0.02559] Val F1 Score : [0.47758]\n"
     ]
    },
    {
     "data": {
      "application/vnd.jupyter.widget-view+json": {
       "model_id": "54c5814833734cc1b753e486643c1afd",
       "version_major": 2,
       "version_minor": 0
      },
      "text/plain": [
       "  0%|          | 0/45 [00:00<?, ?it/s]"
      ]
     },
     "metadata": {},
     "output_type": "display_data"
    },
    {
     "data": {
      "application/vnd.jupyter.widget-view+json": {
       "model_id": "338f00017ca1410381646ad52839239e",
       "version_major": 2,
       "version_minor": 0
      },
      "text/plain": [
       "  0%|          | 0/12 [00:00<?, ?it/s]"
      ]
     },
     "metadata": {},
     "output_type": "display_data"
    },
    {
     "name": "stdout",
     "output_type": "stream",
     "text": [
      "Epoch [6], Train Loss : [0.02741] Val Loss : [0.02525] Val F1 Score : [0.47767]\n",
      "Epoch 00007: reducing learning rate of group 0 to 1.2500e-02.\n"
     ]
    },
    {
     "data": {
      "application/vnd.jupyter.widget-view+json": {
       "model_id": "61eaf81b4f804b3c84895139b51b5dee",
       "version_major": 2,
       "version_minor": 0
      },
      "text/plain": [
       "  0%|          | 0/45 [00:00<?, ?it/s]"
      ]
     },
     "metadata": {},
     "output_type": "display_data"
    },
    {
     "data": {
      "application/vnd.jupyter.widget-view+json": {
       "model_id": "e7ada5dbdf414a168836cbdc4ba6d9fd",
       "version_major": 2,
       "version_minor": 0
      },
      "text/plain": [
       "  0%|          | 0/12 [00:00<?, ?it/s]"
      ]
     },
     "metadata": {},
     "output_type": "display_data"
    },
    {
     "name": "stdout",
     "output_type": "stream",
     "text": [
      "Epoch [7], Train Loss : [0.02835] Val Loss : [0.02524] Val F1 Score : [0.47767]\n"
     ]
    },
    {
     "data": {
      "application/vnd.jupyter.widget-view+json": {
       "model_id": "aa9ac38256ea41759686338edaa9170c",
       "version_major": 2,
       "version_minor": 0
      },
      "text/plain": [
       "  0%|          | 0/45 [00:00<?, ?it/s]"
      ]
     },
     "metadata": {},
     "output_type": "display_data"
    },
    {
     "ename": "KeyboardInterrupt",
     "evalue": "",
     "output_type": "error",
     "traceback": [
      "\u001b[1;31m---------------------------------------------------------------------------\u001b[0m",
      "\u001b[1;31mKeyboardInterrupt\u001b[0m                         Traceback (most recent call last)",
      "Input \u001b[1;32mIn [4636]\u001b[0m, in \u001b[0;36m<cell line: 6>\u001b[1;34m()\u001b[0m\n\u001b[0;32m      3\u001b[0m optimizer \u001b[38;5;241m=\u001b[39m torch\u001b[38;5;241m.\u001b[39moptim\u001b[38;5;241m.\u001b[39mAdam(student_model\u001b[38;5;241m.\u001b[39mparameters(), lr\u001b[38;5;241m=\u001b[39mCFG[\u001b[38;5;124m'\u001b[39m\u001b[38;5;124mLEARNING_RATE\u001b[39m\u001b[38;5;124m'\u001b[39m])\n\u001b[0;32m      4\u001b[0m scheduler \u001b[38;5;241m=\u001b[39m torch\u001b[38;5;241m.\u001b[39moptim\u001b[38;5;241m.\u001b[39mlr_scheduler\u001b[38;5;241m.\u001b[39mReduceLROnPlateau(optimizer, mode\u001b[38;5;241m=\u001b[39m\u001b[38;5;124m'\u001b[39m\u001b[38;5;124mmax\u001b[39m\u001b[38;5;124m'\u001b[39m, factor\u001b[38;5;241m=\u001b[39m\u001b[38;5;241m0.5\u001b[39m, patience\u001b[38;5;241m=\u001b[39m\u001b[38;5;241m1\u001b[39m, threshold_mode\u001b[38;5;241m=\u001b[39m\u001b[38;5;124m'\u001b[39m\u001b[38;5;124mabs\u001b[39m\u001b[38;5;124m'\u001b[39m,min_lr\u001b[38;5;241m=\u001b[39m\u001b[38;5;241m1e-8\u001b[39m, verbose\u001b[38;5;241m=\u001b[39m\u001b[38;5;28;01mTrue\u001b[39;00m)\n\u001b[1;32m----> 6\u001b[0m best_student_model \u001b[38;5;241m=\u001b[39m \u001b[43mstudent_train\u001b[49m\u001b[43m(\u001b[49m\u001b[43mstudent_model\u001b[49m\u001b[43m,\u001b[49m\u001b[43m \u001b[49m\u001b[43mteacher_model\u001b[49m\u001b[43m,\u001b[49m\u001b[43m \u001b[49m\u001b[43moptimizer\u001b[49m\u001b[43m,\u001b[49m\u001b[43m \u001b[49m\u001b[43mtrain_loader\u001b[49m\u001b[43m,\u001b[49m\u001b[43m \u001b[49m\u001b[43mval_loader\u001b[49m\u001b[43m,\u001b[49m\u001b[43m \u001b[49m\u001b[43mscheduler\u001b[49m\u001b[43m,\u001b[49m\u001b[43m \u001b[49m\u001b[43mdevice\u001b[49m\u001b[43m)\u001b[49m\n",
      "Input \u001b[1;32mIn [4633]\u001b[0m, in \u001b[0;36mstudent_train\u001b[1;34m(s_model, t_model, optimizer, train_loader, val_loader, scheduler, device)\u001b[0m\n\u001b[0;32m     10\u001b[0m s_model\u001b[38;5;241m.\u001b[39mtrain()\n\u001b[0;32m     11\u001b[0m t_model\u001b[38;5;241m.\u001b[39meval()    \u001b[38;5;66;03m# teather는 이번에는 학습하지 않으므로 .eval()로 불러온다\u001b[39;00m\n\u001b[1;32m---> 13\u001b[0m \u001b[38;5;28;01mfor\u001b[39;00m X_t, X_s, y \u001b[38;5;129;01min\u001b[39;00m tqdm(train_loader):\n\u001b[0;32m     14\u001b[0m     X_t \u001b[38;5;241m=\u001b[39m X_t\u001b[38;5;241m.\u001b[39mfloat()\u001b[38;5;241m.\u001b[39mto(device)\n\u001b[0;32m     15\u001b[0m     X_s \u001b[38;5;241m=\u001b[39m X_s\u001b[38;5;241m.\u001b[39mfloat()\u001b[38;5;241m.\u001b[39mto(device)\n",
      "File \u001b[1;32mC:\\my_data\\venv\\global_venv3.8\\lib\\site-packages\\tqdm\\notebook.py:265\u001b[0m, in \u001b[0;36mtqdm_notebook.__iter__\u001b[1;34m(self, *args, **kwargs)\u001b[0m\n\u001b[0;32m    263\u001b[0m \u001b[38;5;28;01mdef\u001b[39;00m \u001b[38;5;21m__iter__\u001b[39m(\u001b[38;5;28mself\u001b[39m, \u001b[38;5;241m*\u001b[39margs, \u001b[38;5;241m*\u001b[39m\u001b[38;5;241m*\u001b[39mkwargs):\n\u001b[0;32m    264\u001b[0m     \u001b[38;5;28;01mtry\u001b[39;00m:\n\u001b[1;32m--> 265\u001b[0m         \u001b[38;5;28;01mfor\u001b[39;00m obj \u001b[38;5;129;01min\u001b[39;00m \u001b[38;5;28msuper\u001b[39m(tqdm_notebook, \u001b[38;5;28mself\u001b[39m)\u001b[38;5;241m.\u001b[39m\u001b[38;5;21m__iter__\u001b[39m(\u001b[38;5;241m*\u001b[39margs, \u001b[38;5;241m*\u001b[39m\u001b[38;5;241m*\u001b[39mkwargs):\n\u001b[0;32m    266\u001b[0m             \u001b[38;5;66;03m# return super(tqdm...) will not catch exception\u001b[39;00m\n\u001b[0;32m    267\u001b[0m             \u001b[38;5;28;01myield\u001b[39;00m obj\n\u001b[0;32m    268\u001b[0m     \u001b[38;5;66;03m# NB: except ... [ as ...] breaks IPython async KeyboardInterrupt\u001b[39;00m\n",
      "File \u001b[1;32mC:\\my_data\\venv\\global_venv3.8\\lib\\site-packages\\tqdm\\std.py:1166\u001b[0m, in \u001b[0;36mtqdm.__iter__\u001b[1;34m(self)\u001b[0m\n\u001b[0;32m   1163\u001b[0m time \u001b[38;5;241m=\u001b[39m \u001b[38;5;28mself\u001b[39m\u001b[38;5;241m.\u001b[39m_time\n\u001b[0;32m   1165\u001b[0m \u001b[38;5;28;01mtry\u001b[39;00m:\n\u001b[1;32m-> 1166\u001b[0m     \u001b[38;5;28;01mfor\u001b[39;00m obj \u001b[38;5;129;01min\u001b[39;00m iterable:\n\u001b[0;32m   1167\u001b[0m         \u001b[38;5;28;01myield\u001b[39;00m obj\n\u001b[0;32m   1168\u001b[0m         \u001b[38;5;66;03m# Update and possibly print the progressbar.\u001b[39;00m\n\u001b[0;32m   1169\u001b[0m         \u001b[38;5;66;03m# Note: does not call self.update(1) for speed optimisation.\u001b[39;00m\n",
      "File \u001b[1;32mC:\\my_data\\venv\\global_venv3.8\\lib\\site-packages\\torch\\utils\\data\\dataloader.py:628\u001b[0m, in \u001b[0;36m_BaseDataLoaderIter.__next__\u001b[1;34m(self)\u001b[0m\n\u001b[0;32m    625\u001b[0m \u001b[38;5;28;01mif\u001b[39;00m \u001b[38;5;28mself\u001b[39m\u001b[38;5;241m.\u001b[39m_sampler_iter \u001b[38;5;129;01mis\u001b[39;00m \u001b[38;5;28;01mNone\u001b[39;00m:\n\u001b[0;32m    626\u001b[0m     \u001b[38;5;66;03m# TODO(https://github.com/pytorch/pytorch/issues/76750)\u001b[39;00m\n\u001b[0;32m    627\u001b[0m     \u001b[38;5;28mself\u001b[39m\u001b[38;5;241m.\u001b[39m_reset()  \u001b[38;5;66;03m# type: ignore[call-arg]\u001b[39;00m\n\u001b[1;32m--> 628\u001b[0m data \u001b[38;5;241m=\u001b[39m \u001b[38;5;28;43mself\u001b[39;49m\u001b[38;5;241;43m.\u001b[39;49m\u001b[43m_next_data\u001b[49m\u001b[43m(\u001b[49m\u001b[43m)\u001b[49m\n\u001b[0;32m    629\u001b[0m \u001b[38;5;28mself\u001b[39m\u001b[38;5;241m.\u001b[39m_num_yielded \u001b[38;5;241m+\u001b[39m\u001b[38;5;241m=\u001b[39m \u001b[38;5;241m1\u001b[39m\n\u001b[0;32m    630\u001b[0m \u001b[38;5;28;01mif\u001b[39;00m \u001b[38;5;28mself\u001b[39m\u001b[38;5;241m.\u001b[39m_dataset_kind \u001b[38;5;241m==\u001b[39m _DatasetKind\u001b[38;5;241m.\u001b[39mIterable \u001b[38;5;129;01mand\u001b[39;00m \\\n\u001b[0;32m    631\u001b[0m         \u001b[38;5;28mself\u001b[39m\u001b[38;5;241m.\u001b[39m_IterableDataset_len_called \u001b[38;5;129;01mis\u001b[39;00m \u001b[38;5;129;01mnot\u001b[39;00m \u001b[38;5;28;01mNone\u001b[39;00m \u001b[38;5;129;01mand\u001b[39;00m \\\n\u001b[0;32m    632\u001b[0m         \u001b[38;5;28mself\u001b[39m\u001b[38;5;241m.\u001b[39m_num_yielded \u001b[38;5;241m>\u001b[39m \u001b[38;5;28mself\u001b[39m\u001b[38;5;241m.\u001b[39m_IterableDataset_len_called:\n",
      "File \u001b[1;32mC:\\my_data\\venv\\global_venv3.8\\lib\\site-packages\\torch\\utils\\data\\dataloader.py:671\u001b[0m, in \u001b[0;36m_SingleProcessDataLoaderIter._next_data\u001b[1;34m(self)\u001b[0m\n\u001b[0;32m    669\u001b[0m \u001b[38;5;28;01mdef\u001b[39;00m \u001b[38;5;21m_next_data\u001b[39m(\u001b[38;5;28mself\u001b[39m):\n\u001b[0;32m    670\u001b[0m     index \u001b[38;5;241m=\u001b[39m \u001b[38;5;28mself\u001b[39m\u001b[38;5;241m.\u001b[39m_next_index()  \u001b[38;5;66;03m# may raise StopIteration\u001b[39;00m\n\u001b[1;32m--> 671\u001b[0m     data \u001b[38;5;241m=\u001b[39m \u001b[38;5;28;43mself\u001b[39;49m\u001b[38;5;241;43m.\u001b[39;49m\u001b[43m_dataset_fetcher\u001b[49m\u001b[38;5;241;43m.\u001b[39;49m\u001b[43mfetch\u001b[49m\u001b[43m(\u001b[49m\u001b[43mindex\u001b[49m\u001b[43m)\u001b[49m  \u001b[38;5;66;03m# may raise StopIteration\u001b[39;00m\n\u001b[0;32m    672\u001b[0m     \u001b[38;5;28;01mif\u001b[39;00m \u001b[38;5;28mself\u001b[39m\u001b[38;5;241m.\u001b[39m_pin_memory:\n\u001b[0;32m    673\u001b[0m         data \u001b[38;5;241m=\u001b[39m _utils\u001b[38;5;241m.\u001b[39mpin_memory\u001b[38;5;241m.\u001b[39mpin_memory(data, \u001b[38;5;28mself\u001b[39m\u001b[38;5;241m.\u001b[39m_pin_memory_device)\n",
      "File \u001b[1;32mC:\\my_data\\venv\\global_venv3.8\\lib\\site-packages\\torch\\utils\\data\\_utils\\fetch.py:58\u001b[0m, in \u001b[0;36m_MapDatasetFetcher.fetch\u001b[1;34m(self, possibly_batched_index)\u001b[0m\n\u001b[0;32m     56\u001b[0m         data \u001b[38;5;241m=\u001b[39m \u001b[38;5;28mself\u001b[39m\u001b[38;5;241m.\u001b[39mdataset\u001b[38;5;241m.\u001b[39m__getitems__(possibly_batched_index)\n\u001b[0;32m     57\u001b[0m     \u001b[38;5;28;01melse\u001b[39;00m:\n\u001b[1;32m---> 58\u001b[0m         data \u001b[38;5;241m=\u001b[39m [\u001b[38;5;28mself\u001b[39m\u001b[38;5;241m.\u001b[39mdataset[idx] \u001b[38;5;28;01mfor\u001b[39;00m idx \u001b[38;5;129;01min\u001b[39;00m possibly_batched_index]\n\u001b[0;32m     59\u001b[0m \u001b[38;5;28;01melse\u001b[39;00m:\n\u001b[0;32m     60\u001b[0m     data \u001b[38;5;241m=\u001b[39m \u001b[38;5;28mself\u001b[39m\u001b[38;5;241m.\u001b[39mdataset[possibly_batched_index]\n",
      "File \u001b[1;32mC:\\my_data\\venv\\global_venv3.8\\lib\\site-packages\\torch\\utils\\data\\_utils\\fetch.py:58\u001b[0m, in \u001b[0;36m<listcomp>\u001b[1;34m(.0)\u001b[0m\n\u001b[0;32m     56\u001b[0m         data \u001b[38;5;241m=\u001b[39m \u001b[38;5;28mself\u001b[39m\u001b[38;5;241m.\u001b[39mdataset\u001b[38;5;241m.\u001b[39m__getitems__(possibly_batched_index)\n\u001b[0;32m     57\u001b[0m     \u001b[38;5;28;01melse\u001b[39;00m:\n\u001b[1;32m---> 58\u001b[0m         data \u001b[38;5;241m=\u001b[39m [\u001b[38;5;28;43mself\u001b[39;49m\u001b[38;5;241;43m.\u001b[39;49m\u001b[43mdataset\u001b[49m\u001b[43m[\u001b[49m\u001b[43midx\u001b[49m\u001b[43m]\u001b[49m \u001b[38;5;28;01mfor\u001b[39;00m idx \u001b[38;5;129;01min\u001b[39;00m possibly_batched_index]\n\u001b[0;32m     59\u001b[0m \u001b[38;5;28;01melse\u001b[39;00m:\n\u001b[0;32m     60\u001b[0m     data \u001b[38;5;241m=\u001b[39m \u001b[38;5;28mself\u001b[39m\u001b[38;5;241m.\u001b[39mdataset[possibly_batched_index]\n",
      "Input \u001b[1;32mIn [4621]\u001b[0m, in \u001b[0;36mCustomDataset.__getitem__\u001b[1;34m(self, index)\u001b[0m\n\u001b[0;32m     12\u001b[0m \u001b[38;5;28;01mif\u001b[39;00m \u001b[38;5;28mself\u001b[39m\u001b[38;5;241m.\u001b[39mdistillation:\n\u001b[0;32m     13\u001b[0m     \u001b[38;5;66;03m# 지식 증류 학습 시\u001b[39;00m\n\u001b[0;32m     14\u001b[0m     teacher_X \u001b[38;5;241m=\u001b[39m torch\u001b[38;5;241m.\u001b[39mTensor(\u001b[38;5;28mself\u001b[39m\u001b[38;5;241m.\u001b[39mdata_X\u001b[38;5;241m.\u001b[39miloc[index])\n\u001b[1;32m---> 15\u001b[0m     student_X \u001b[38;5;241m=\u001b[39m torch\u001b[38;5;241m.\u001b[39mTensor(\u001b[38;5;28;43mself\u001b[39;49m\u001b[38;5;241;43m.\u001b[39;49m\u001b[43mdata_X\u001b[49m\u001b[43m[\u001b[49m\u001b[43mtest_stage_features\u001b[49m\u001b[43m]\u001b[49m\u001b[38;5;241m.\u001b[39miloc[index])\n\u001b[0;32m     16\u001b[0m     y \u001b[38;5;241m=\u001b[39m \u001b[38;5;28mself\u001b[39m\u001b[38;5;241m.\u001b[39mdata_y\u001b[38;5;241m.\u001b[39mvalues[index]\n\u001b[0;32m     17\u001b[0m     \u001b[38;5;28;01mreturn\u001b[39;00m teacher_X, student_X, y\n",
      "File \u001b[1;32mC:\\my_data\\venv\\global_venv3.8\\lib\\site-packages\\pandas\\core\\frame.py:3517\u001b[0m, in \u001b[0;36mDataFrame.__getitem__\u001b[1;34m(self, key)\u001b[0m\n\u001b[0;32m   3514\u001b[0m \u001b[38;5;28;01mif\u001b[39;00m \u001b[38;5;28mgetattr\u001b[39m(indexer, \u001b[38;5;124m\"\u001b[39m\u001b[38;5;124mdtype\u001b[39m\u001b[38;5;124m\"\u001b[39m, \u001b[38;5;28;01mNone\u001b[39;00m) \u001b[38;5;241m==\u001b[39m \u001b[38;5;28mbool\u001b[39m:\n\u001b[0;32m   3515\u001b[0m     indexer \u001b[38;5;241m=\u001b[39m np\u001b[38;5;241m.\u001b[39mwhere(indexer)[\u001b[38;5;241m0\u001b[39m]\n\u001b[1;32m-> 3517\u001b[0m data \u001b[38;5;241m=\u001b[39m \u001b[38;5;28;43mself\u001b[39;49m\u001b[38;5;241;43m.\u001b[39;49m\u001b[43m_take_with_is_copy\u001b[49m\u001b[43m(\u001b[49m\u001b[43mindexer\u001b[49m\u001b[43m,\u001b[49m\u001b[43m \u001b[49m\u001b[43maxis\u001b[49m\u001b[38;5;241;43m=\u001b[39;49m\u001b[38;5;241;43m1\u001b[39;49m\u001b[43m)\u001b[49m\n\u001b[0;32m   3519\u001b[0m \u001b[38;5;28;01mif\u001b[39;00m is_single_key:\n\u001b[0;32m   3520\u001b[0m     \u001b[38;5;66;03m# What does looking for a single key in a non-unique index return?\u001b[39;00m\n\u001b[0;32m   3521\u001b[0m     \u001b[38;5;66;03m# The behavior is inconsistent. It returns a Series, except when\u001b[39;00m\n\u001b[0;32m   3522\u001b[0m     \u001b[38;5;66;03m# - the key itself is repeated (test on data.shape, #9519), or\u001b[39;00m\n\u001b[0;32m   3523\u001b[0m     \u001b[38;5;66;03m# - we have a MultiIndex on columns (test on self.columns, #21309)\u001b[39;00m\n\u001b[0;32m   3524\u001b[0m     \u001b[38;5;28;01mif\u001b[39;00m data\u001b[38;5;241m.\u001b[39mshape[\u001b[38;5;241m1\u001b[39m] \u001b[38;5;241m==\u001b[39m \u001b[38;5;241m1\u001b[39m \u001b[38;5;129;01mand\u001b[39;00m \u001b[38;5;129;01mnot\u001b[39;00m \u001b[38;5;28misinstance\u001b[39m(\u001b[38;5;28mself\u001b[39m\u001b[38;5;241m.\u001b[39mcolumns, MultiIndex):\n\u001b[0;32m   3525\u001b[0m         \u001b[38;5;66;03m# GH#26490 using data[key] can cause RecursionError\u001b[39;00m\n",
      "File \u001b[1;32mC:\\my_data\\venv\\global_venv3.8\\lib\\site-packages\\pandas\\core\\generic.py:3716\u001b[0m, in \u001b[0;36mNDFrame._take_with_is_copy\u001b[1;34m(self, indices, axis)\u001b[0m\n\u001b[0;32m   3708\u001b[0m \u001b[38;5;28;01mdef\u001b[39;00m \u001b[38;5;21m_take_with_is_copy\u001b[39m(\u001b[38;5;28mself\u001b[39m: NDFrameT, indices, axis\u001b[38;5;241m=\u001b[39m\u001b[38;5;241m0\u001b[39m) \u001b[38;5;241m-\u001b[39m\u001b[38;5;241m>\u001b[39m NDFrameT:\n\u001b[0;32m   3709\u001b[0m     \u001b[38;5;124;03m\"\"\"\u001b[39;00m\n\u001b[0;32m   3710\u001b[0m \u001b[38;5;124;03m    Internal version of the `take` method that sets the `_is_copy`\u001b[39;00m\n\u001b[0;32m   3711\u001b[0m \u001b[38;5;124;03m    attribute to keep track of the parent dataframe (using in indexing\u001b[39;00m\n\u001b[1;32m   (...)\u001b[0m\n\u001b[0;32m   3714\u001b[0m \u001b[38;5;124;03m    See the docstring of `take` for full explanation of the parameters.\u001b[39;00m\n\u001b[0;32m   3715\u001b[0m \u001b[38;5;124;03m    \"\"\"\u001b[39;00m\n\u001b[1;32m-> 3716\u001b[0m     result \u001b[38;5;241m=\u001b[39m \u001b[38;5;28;43mself\u001b[39;49m\u001b[38;5;241;43m.\u001b[39;49m\u001b[43mtake\u001b[49m\u001b[43m(\u001b[49m\u001b[43mindices\u001b[49m\u001b[38;5;241;43m=\u001b[39;49m\u001b[43mindices\u001b[49m\u001b[43m,\u001b[49m\u001b[43m \u001b[49m\u001b[43maxis\u001b[49m\u001b[38;5;241;43m=\u001b[39;49m\u001b[43maxis\u001b[49m\u001b[43m)\u001b[49m\n\u001b[0;32m   3717\u001b[0m     \u001b[38;5;66;03m# Maybe set copy if we didn't actually change the index.\u001b[39;00m\n\u001b[0;32m   3718\u001b[0m     \u001b[38;5;28;01mif\u001b[39;00m \u001b[38;5;129;01mnot\u001b[39;00m result\u001b[38;5;241m.\u001b[39m_get_axis(axis)\u001b[38;5;241m.\u001b[39mequals(\u001b[38;5;28mself\u001b[39m\u001b[38;5;241m.\u001b[39m_get_axis(axis)):\n",
      "File \u001b[1;32mC:\\my_data\\venv\\global_venv3.8\\lib\\site-packages\\pandas\\core\\generic.py:3703\u001b[0m, in \u001b[0;36mNDFrame.take\u001b[1;34m(self, indices, axis, is_copy, **kwargs)\u001b[0m\n\u001b[0;32m   3699\u001b[0m nv\u001b[38;5;241m.\u001b[39mvalidate_take((), kwargs)\n\u001b[0;32m   3701\u001b[0m \u001b[38;5;28mself\u001b[39m\u001b[38;5;241m.\u001b[39m_consolidate_inplace()\n\u001b[1;32m-> 3703\u001b[0m new_data \u001b[38;5;241m=\u001b[39m \u001b[38;5;28;43mself\u001b[39;49m\u001b[38;5;241;43m.\u001b[39;49m\u001b[43m_mgr\u001b[49m\u001b[38;5;241;43m.\u001b[39;49m\u001b[43mtake\u001b[49m\u001b[43m(\u001b[49m\n\u001b[0;32m   3704\u001b[0m \u001b[43m    \u001b[49m\u001b[43mindices\u001b[49m\u001b[43m,\u001b[49m\u001b[43m \u001b[49m\u001b[43maxis\u001b[49m\u001b[38;5;241;43m=\u001b[39;49m\u001b[38;5;28;43mself\u001b[39;49m\u001b[38;5;241;43m.\u001b[39;49m\u001b[43m_get_block_manager_axis\u001b[49m\u001b[43m(\u001b[49m\u001b[43maxis\u001b[49m\u001b[43m)\u001b[49m\u001b[43m,\u001b[49m\u001b[43m \u001b[49m\u001b[43mverify\u001b[49m\u001b[38;5;241;43m=\u001b[39;49m\u001b[38;5;28;43;01mTrue\u001b[39;49;00m\n\u001b[0;32m   3705\u001b[0m \u001b[43m\u001b[49m\u001b[43m)\u001b[49m\n\u001b[0;32m   3706\u001b[0m \u001b[38;5;28;01mreturn\u001b[39;00m \u001b[38;5;28mself\u001b[39m\u001b[38;5;241m.\u001b[39m_constructor(new_data)\u001b[38;5;241m.\u001b[39m__finalize__(\u001b[38;5;28mself\u001b[39m, method\u001b[38;5;241m=\u001b[39m\u001b[38;5;124m\"\u001b[39m\u001b[38;5;124mtake\u001b[39m\u001b[38;5;124m\"\u001b[39m)\n",
      "File \u001b[1;32mC:\\my_data\\venv\\global_venv3.8\\lib\\site-packages\\pandas\\core\\internals\\managers.py:900\u001b[0m, in \u001b[0;36mBaseBlockManager.take\u001b[1;34m(self, indexer, axis, verify)\u001b[0m\n\u001b[0;32m    897\u001b[0m indexer \u001b[38;5;241m=\u001b[39m maybe_convert_indices(indexer, n, verify\u001b[38;5;241m=\u001b[39mverify)\n\u001b[0;32m    899\u001b[0m new_labels \u001b[38;5;241m=\u001b[39m \u001b[38;5;28mself\u001b[39m\u001b[38;5;241m.\u001b[39maxes[axis]\u001b[38;5;241m.\u001b[39mtake(indexer)\n\u001b[1;32m--> 900\u001b[0m \u001b[38;5;28;01mreturn\u001b[39;00m \u001b[38;5;28;43mself\u001b[39;49m\u001b[38;5;241;43m.\u001b[39;49m\u001b[43mreindex_indexer\u001b[49m\u001b[43m(\u001b[49m\n\u001b[0;32m    901\u001b[0m \u001b[43m    \u001b[49m\u001b[43mnew_axis\u001b[49m\u001b[38;5;241;43m=\u001b[39;49m\u001b[43mnew_labels\u001b[49m\u001b[43m,\u001b[49m\n\u001b[0;32m    902\u001b[0m \u001b[43m    \u001b[49m\u001b[43mindexer\u001b[49m\u001b[38;5;241;43m=\u001b[39;49m\u001b[43mindexer\u001b[49m\u001b[43m,\u001b[49m\n\u001b[0;32m    903\u001b[0m \u001b[43m    \u001b[49m\u001b[43maxis\u001b[49m\u001b[38;5;241;43m=\u001b[39;49m\u001b[43maxis\u001b[49m\u001b[43m,\u001b[49m\n\u001b[0;32m    904\u001b[0m \u001b[43m    \u001b[49m\u001b[43mallow_dups\u001b[49m\u001b[38;5;241;43m=\u001b[39;49m\u001b[38;5;28;43;01mTrue\u001b[39;49;00m\u001b[43m,\u001b[49m\n\u001b[0;32m    905\u001b[0m \u001b[43m    \u001b[49m\u001b[43mconsolidate\u001b[49m\u001b[38;5;241;43m=\u001b[39;49m\u001b[38;5;28;43;01mFalse\u001b[39;49;00m\u001b[43m,\u001b[49m\n\u001b[0;32m    906\u001b[0m \u001b[43m\u001b[49m\u001b[43m)\u001b[49m\n",
      "File \u001b[1;32mC:\\my_data\\venv\\global_venv3.8\\lib\\site-packages\\pandas\\core\\internals\\managers.py:685\u001b[0m, in \u001b[0;36mBaseBlockManager.reindex_indexer\u001b[1;34m(self, new_axis, indexer, axis, fill_value, allow_dups, copy, consolidate, only_slice, use_na_proxy)\u001b[0m\n\u001b[0;32m    682\u001b[0m     \u001b[38;5;28;01mraise\u001b[39;00m \u001b[38;5;167;01mIndexError\u001b[39;00m(\u001b[38;5;124m\"\u001b[39m\u001b[38;5;124mRequested axis not found in manager\u001b[39m\u001b[38;5;124m\"\u001b[39m)\n\u001b[0;32m    684\u001b[0m \u001b[38;5;28;01mif\u001b[39;00m axis \u001b[38;5;241m==\u001b[39m \u001b[38;5;241m0\u001b[39m:\n\u001b[1;32m--> 685\u001b[0m     new_blocks \u001b[38;5;241m=\u001b[39m \u001b[38;5;28;43mself\u001b[39;49m\u001b[38;5;241;43m.\u001b[39;49m\u001b[43m_slice_take_blocks_ax0\u001b[49m\u001b[43m(\u001b[49m\n\u001b[0;32m    686\u001b[0m \u001b[43m        \u001b[49m\u001b[43mindexer\u001b[49m\u001b[43m,\u001b[49m\n\u001b[0;32m    687\u001b[0m \u001b[43m        \u001b[49m\u001b[43mfill_value\u001b[49m\u001b[38;5;241;43m=\u001b[39;49m\u001b[43mfill_value\u001b[49m\u001b[43m,\u001b[49m\n\u001b[0;32m    688\u001b[0m \u001b[43m        \u001b[49m\u001b[43monly_slice\u001b[49m\u001b[38;5;241;43m=\u001b[39;49m\u001b[43monly_slice\u001b[49m\u001b[43m,\u001b[49m\n\u001b[0;32m    689\u001b[0m \u001b[43m        \u001b[49m\u001b[43muse_na_proxy\u001b[49m\u001b[38;5;241;43m=\u001b[39;49m\u001b[43muse_na_proxy\u001b[49m\u001b[43m,\u001b[49m\n\u001b[0;32m    690\u001b[0m \u001b[43m    \u001b[49m\u001b[43m)\u001b[49m\n\u001b[0;32m    691\u001b[0m \u001b[38;5;28;01melse\u001b[39;00m:\n\u001b[0;32m    692\u001b[0m     new_blocks \u001b[38;5;241m=\u001b[39m [\n\u001b[0;32m    693\u001b[0m         blk\u001b[38;5;241m.\u001b[39mtake_nd(\n\u001b[0;32m    694\u001b[0m             indexer,\n\u001b[1;32m   (...)\u001b[0m\n\u001b[0;32m    700\u001b[0m         \u001b[38;5;28;01mfor\u001b[39;00m blk \u001b[38;5;129;01min\u001b[39;00m \u001b[38;5;28mself\u001b[39m\u001b[38;5;241m.\u001b[39mblocks\n\u001b[0;32m    701\u001b[0m     ]\n",
      "File \u001b[1;32mC:\\my_data\\venv\\global_venv3.8\\lib\\site-packages\\pandas\\core\\internals\\managers.py:790\u001b[0m, in \u001b[0;36mBaseBlockManager._slice_take_blocks_ax0\u001b[1;34m(self, slice_or_indexer, fill_value, only_slice, use_na_proxy)\u001b[0m\n\u001b[0;32m    786\u001b[0m \u001b[38;5;28;01melse\u001b[39;00m:\n\u001b[0;32m    787\u001b[0m     blknos \u001b[38;5;241m=\u001b[39m algos\u001b[38;5;241m.\u001b[39mtake_nd(\n\u001b[0;32m    788\u001b[0m         \u001b[38;5;28mself\u001b[39m\u001b[38;5;241m.\u001b[39mblknos, slobj, fill_value\u001b[38;5;241m=\u001b[39m\u001b[38;5;241m-\u001b[39m\u001b[38;5;241m1\u001b[39m, allow_fill\u001b[38;5;241m=\u001b[39mallow_fill\n\u001b[0;32m    789\u001b[0m     )\n\u001b[1;32m--> 790\u001b[0m     blklocs \u001b[38;5;241m=\u001b[39m \u001b[43malgos\u001b[49m\u001b[38;5;241;43m.\u001b[39;49m\u001b[43mtake_nd\u001b[49m\u001b[43m(\u001b[49m\n\u001b[0;32m    791\u001b[0m \u001b[43m        \u001b[49m\u001b[38;5;28;43mself\u001b[39;49m\u001b[38;5;241;43m.\u001b[39;49m\u001b[43mblklocs\u001b[49m\u001b[43m,\u001b[49m\u001b[43m \u001b[49m\u001b[43mslobj\u001b[49m\u001b[43m,\u001b[49m\u001b[43m \u001b[49m\u001b[43mfill_value\u001b[49m\u001b[38;5;241;43m=\u001b[39;49m\u001b[38;5;241;43m-\u001b[39;49m\u001b[38;5;241;43m1\u001b[39;49m\u001b[43m,\u001b[49m\u001b[43m \u001b[49m\u001b[43mallow_fill\u001b[49m\u001b[38;5;241;43m=\u001b[39;49m\u001b[43mallow_fill\u001b[49m\n\u001b[0;32m    792\u001b[0m \u001b[43m    \u001b[49m\u001b[43m)\u001b[49m\n\u001b[0;32m    794\u001b[0m \u001b[38;5;66;03m# When filling blknos, make sure blknos is updated before appending to\u001b[39;00m\n\u001b[0;32m    795\u001b[0m \u001b[38;5;66;03m# blocks list, that way new blkno is exactly len(blocks).\u001b[39;00m\n\u001b[0;32m    796\u001b[0m blocks \u001b[38;5;241m=\u001b[39m []\n",
      "File \u001b[1;32mC:\\my_data\\venv\\global_venv3.8\\lib\\site-packages\\pandas\\core\\array_algos\\take.py:117\u001b[0m, in \u001b[0;36mtake_nd\u001b[1;34m(arr, indexer, axis, fill_value, allow_fill)\u001b[0m\n\u001b[0;32m    114\u001b[0m     \u001b[38;5;28;01mreturn\u001b[39;00m arr\u001b[38;5;241m.\u001b[39mtake(indexer, fill_value\u001b[38;5;241m=\u001b[39mfill_value, allow_fill\u001b[38;5;241m=\u001b[39mallow_fill)\n\u001b[0;32m    116\u001b[0m arr \u001b[38;5;241m=\u001b[39m np\u001b[38;5;241m.\u001b[39masarray(arr)\n\u001b[1;32m--> 117\u001b[0m \u001b[38;5;28;01mreturn\u001b[39;00m \u001b[43m_take_nd_ndarray\u001b[49m\u001b[43m(\u001b[49m\u001b[43marr\u001b[49m\u001b[43m,\u001b[49m\u001b[43m \u001b[49m\u001b[43mindexer\u001b[49m\u001b[43m,\u001b[49m\u001b[43m \u001b[49m\u001b[43maxis\u001b[49m\u001b[43m,\u001b[49m\u001b[43m \u001b[49m\u001b[43mfill_value\u001b[49m\u001b[43m,\u001b[49m\u001b[43m \u001b[49m\u001b[43mallow_fill\u001b[49m\u001b[43m)\u001b[49m\n",
      "File \u001b[1;32mC:\\my_data\\venv\\global_venv3.8\\lib\\site-packages\\pandas\\core\\array_algos\\take.py:163\u001b[0m, in \u001b[0;36m_take_nd_ndarray\u001b[1;34m(arr, indexer, axis, fill_value, allow_fill)\u001b[0m\n\u001b[0;32m    158\u001b[0m     out \u001b[38;5;241m=\u001b[39m np\u001b[38;5;241m.\u001b[39mempty(out_shape, dtype\u001b[38;5;241m=\u001b[39mdtype)\n\u001b[0;32m    160\u001b[0m func \u001b[38;5;241m=\u001b[39m _get_take_nd_function(\n\u001b[0;32m    161\u001b[0m     arr\u001b[38;5;241m.\u001b[39mndim, arr\u001b[38;5;241m.\u001b[39mdtype, out\u001b[38;5;241m.\u001b[39mdtype, axis\u001b[38;5;241m=\u001b[39maxis, mask_info\u001b[38;5;241m=\u001b[39mmask_info\n\u001b[0;32m    162\u001b[0m )\n\u001b[1;32m--> 163\u001b[0m \u001b[43mfunc\u001b[49m\u001b[43m(\u001b[49m\u001b[43marr\u001b[49m\u001b[43m,\u001b[49m\u001b[43m \u001b[49m\u001b[43mindexer\u001b[49m\u001b[43m,\u001b[49m\u001b[43m \u001b[49m\u001b[43mout\u001b[49m\u001b[43m,\u001b[49m\u001b[43m \u001b[49m\u001b[43mfill_value\u001b[49m\u001b[43m)\u001b[49m\n\u001b[0;32m    165\u001b[0m \u001b[38;5;28;01mif\u001b[39;00m flip_order:\n\u001b[0;32m    166\u001b[0m     out \u001b[38;5;241m=\u001b[39m out\u001b[38;5;241m.\u001b[39mT\n",
      "\u001b[1;31mKeyboardInterrupt\u001b[0m: "
     ]
    }
   ],
   "source": [
    "student_model = Student()\n",
    "student_model.eval()\n",
    "optimizer = torch.optim.Adam(student_model.parameters(), lr=CFG['LEARNING_RATE'])\n",
    "scheduler = torch.optim.lr_scheduler.ReduceLROnPlateau(optimizer, mode='max', factor=0.5, patience=1, threshold_mode='abs',min_lr=1e-8, verbose=True)\n",
    "\n",
    "best_student_model = student_train(student_model, teacher_model, optimizer, train_loader, val_loader, scheduler, device)\n"
   ]
  },
  {
   "cell_type": "code",
   "execution_count": null,
   "id": "7daa9177",
   "metadata": {},
   "outputs": [],
   "source": [
    "PATH1 = f\"./models/student_net{file_version}.pth\"\n",
    "torch.save(best_student_model.state_dict(), PATH1)"
   ]
  },
  {
   "cell_type": "code",
   "execution_count": null,
   "id": "e0685b57",
   "metadata": {},
   "outputs": [],
   "source": [
    "best_student_model = Student()\n",
    "best_student_model.load_state_dict(torch.load(PATH1))"
   ]
  },
  {
   "cell_type": "code",
   "execution_count": null,
   "id": "14972350",
   "metadata": {},
   "outputs": [],
   "source": [
    "def choose_threshold(model, val_loader, device):\n",
    "    model.to(device)\n",
    "    model.eval()\n",
    "    \n",
    "#     thresholds = [0.1, 0.2, 0.25, 0.3, 0.35, 0.4, 0.45, 0.5]\n",
    "    thresholds = [0.05, 0.1, 0.15, 0.2, 0.25, 0.3]\n",
    "\n",
    "    pred_labels = []\n",
    "    true_labels = []\n",
    "    \n",
    "    best_score = 0\n",
    "    best_thr = None\n",
    "    with torch.no_grad():\n",
    "        for _, x_s, y in tqdm(iter(val_loader)):\n",
    "            x_s = x_s.float().to(device)\n",
    "            y = y.float().to(device)\n",
    "            \n",
    "            model_pred = model(x_s)\n",
    "            \n",
    "            model_pred = model_pred.squeeze(1).to('cpu')\n",
    "            pred_labels += model_pred.tolist()\n",
    "            true_labels += y.tolist()\n",
    "        \n",
    "        for threshold in thresholds:\n",
    "            pred_labels_thr = np.where(np.array(pred_labels) > threshold, 1, 0)\n",
    "            score_thr = competition_metric(true_labels, pred_labels_thr)\n",
    "            if best_score < score_thr:\n",
    "                best_score = score_thr\n",
    "                best_thr = threshold\n",
    "    return best_thr, best_score"
   ]
  },
  {
   "cell_type": "code",
   "execution_count": null,
   "id": "e27a1c0d",
   "metadata": {},
   "outputs": [],
   "source": [
    "best_threshold, best_score = choose_threshold(best_student_model, val_loader, device)\n",
    "choose_threshold_result = f'Best Threshold : [{best_threshold}], Score : [{best_score:.5f}]'\n",
    "print(choose_threshold_result)"
   ]
  },
  {
   "cell_type": "code",
   "execution_count": null,
   "id": "2d43cf8c",
   "metadata": {},
   "outputs": [],
   "source": [
    "test_datasets = CustomDataset(test, None, False)\n",
    "test_loaders = DataLoader(test_datasets, batch_size = CFG['BATCH_SIZE'], shuffle=False)"
   ]
  },
  {
   "cell_type": "code",
   "execution_count": null,
   "id": "830cde01",
   "metadata": {},
   "outputs": [],
   "source": [
    "def inference(model, test_loader, threshold, device):\n",
    "    model.to(device)\n",
    "    model.eval()\n",
    "    # .eval함수는 evaluation 과정에서 사용하지 말아야 하는 layer들을 알아서 off 시키는 함수\n",
    "    \n",
    "    test_predict = []\n",
    "    with torch.no_grad():\n",
    "        for x in tqdm(test_loader):\n",
    "            x = x.float().to(device)\n",
    "            model_pred = model(x)\n",
    "\n",
    "            model_pred = model_pred.squeeze(1).to('cpu')\n",
    "            test_predict += model_pred\n",
    "        \n",
    "    test_predict = np.where(np.array(test_predict) > threshold, 1, 0)  \n",
    "    # threshhold 보다 큰 값을 찾아서 1로 바꾸고, 아닌 것은 0으로 변경해라\n",
    "    print('Done.')\n",
    "    return test_predict"
   ]
  },
  {
   "cell_type": "code",
   "execution_count": null,
   "id": "ccb78109",
   "metadata": {},
   "outputs": [],
   "source": [
    "preds = inference(best_student_model, test_loaders, best_threshold, device)"
   ]
  },
  {
   "cell_type": "code",
   "execution_count": null,
   "id": "1776ac77",
   "metadata": {},
   "outputs": [],
   "source": [
    "submit = pd.read_csv('./data/sample_submission.csv')\n",
    "submit['Y_LABEL'] = preds\n",
    "submit.head()"
   ]
  },
  {
   "cell_type": "code",
   "execution_count": null,
   "id": "26cf73ae",
   "metadata": {},
   "outputs": [],
   "source": [
    "pred_cnt = tuple(submit[\"Y_LABEL\"].value_counts())\n",
    "a, b = pred_cnt\n",
    "r = f\"정상값 개수 : {a}, 이상값 개수 : {b}\"\n",
    "print(r)"
   ]
  },
  {
   "cell_type": "code",
   "execution_count": null,
   "id": "ee7db9ec",
   "metadata": {},
   "outputs": [],
   "source": [
    "submit.to_csv(f'./submits/submit{file_version}.csv', index=False)"
   ]
  },
  {
   "cell_type": "code",
   "execution_count": null,
   "id": "b6ef03dc",
   "metadata": {},
   "outputs": [],
   "source": [
    "record = {\"ver\": file_version, \"CFG\": CFG, \"Val_result\": choose_threshold_result, \"pred_cnt\": r}\n",
    "record"
   ]
  },
  {
   "cell_type": "code",
   "execution_count": null,
   "id": "787dfed7",
   "metadata": {},
   "outputs": [],
   "source": []
  },
  {
   "cell_type": "code",
   "execution_count": null,
   "id": "f40089c3",
   "metadata": {},
   "outputs": [],
   "source": []
  }
 ],
 "metadata": {
  "kernelspec": {
   "display_name": "Python 3 (ipykernel)",
   "language": "python",
   "name": "python3"
  },
  "language_info": {
   "codemirror_mode": {
    "name": "ipython",
    "version": 3
   },
   "file_extension": ".py",
   "mimetype": "text/x-python",
   "name": "python",
   "nbconvert_exporter": "python",
   "pygments_lexer": "ipython3",
   "version": "3.8.10"
  }
 },
 "nbformat": 4,
 "nbformat_minor": 5
}
